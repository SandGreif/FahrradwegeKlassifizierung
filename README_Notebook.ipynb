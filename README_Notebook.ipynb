{
 "cells": [
  {
   "cell_type": "markdown",
   "metadata": {},
   "source": [
    "# Klassifizierung von Fahrradwegen mit Hilfe von Faltungsnetzwerken : Python Repository\n",
    "\n",
    "## Einleitung\n",
    "\n",
    "In diesem Repository befinden sich Jupyter Notebboks, in welchem die aufgenommenen Daten von der [Fahrradwege-Monitoring-App](https://github.com/SandGreif/Fahrradwege-Monitoring-App) weiterverarbeitet werden. Wie in Abb. 1 der funktionalen Architektur zu sehen werden Daten mit einer Android App erfasst. Im nächsten Schritt erfolgt dann die Vorverarbeitung der Rohdaten, Klassifizierung von Fahrradwegen sowie das Taggen dieser für OpenStreetMap(OSM).\n",
    "\n",
    "<img src=\"daten/abbildungen/funktionaleArchitektur.png\" alt=\"funktionale architektur\" width=\"768px\" />\n",
    "Abbildung 1: Funktionale Architektur\n",
    "\n",
    "## Daten die von der App erfasst werden.\n",
    "\n",
    "Von der Fahrradwege-Monitoring-App werden kontinuierlich Fotos aufgenommen im Schnitt ca. 3 Bilder pro Sekunde. Die aufgenommenen Bilder werden nur abgespeichert, wenn die Geschwindigkeit zwischen 5 und 25 km/h liegt. Mit der Begrenzung soll verhindert werden, dass Bilder von Fahrradwegen im Stand verarbeitet werden oder zu unscharf werden durch Bewegungsunschärfe. In Abb. 1 ist zu sehen, dass das Smartphone bei den meisten aufgenommen Daten bzw. Datensätzen an der rechten Seite des Lenkers montiert war. Für den Benutzer ist so eine bequeme Bedienung der App möglich. Ein Nachteil ist der relativ große Abstand zum Boden mit ca. 97cm. Ein Datensatz setzt sich zusammen aus Bildaufnahmen und Messwerten einer gefahrenen Route. Weitere Informationen zu den Datensätzen befinden sich in den Ordner daten/beschreibung_der_datensaetze.xlsx.\n",
    "\n",
    "<img src=\"daten/abbildungen/sensorOrientierung.png\" alt=\"Android Smartphone Sensor Orientierung\" width=\"200px\" />\n",
    "\n",
    "Abbildung 2: Android Smartphone Sensor Orientierung\n",
    "\n",
    "Auf der Abb. 2 ist die generelle Sensor Orientierung von Smartphones zu sehen. Diese besteht aus den 3-Achsen X,Y und Z. Zusätzlich sind noch die Roll-Nick-Gier Winkel eingezeichnet. Auf der X-Achse befindet sich der Roll-Winkel. Dann ist auf der Y-Achse der Nick-Winkel und auf der Z-Achse der Gier-Winkel. In der Tab. 1 sind die Messwerte beschrieben die zu einer Bildaufnahme erfasst werden.\n",
    "Dazu werden noch Zeitstempel aufgenommen und die Unixzeit in ms als ID-Nummer, wenn ein Bild abgespeichert wird.\n",
    "\n",
    "Type | Sensor |\n",
    "--- | --- |\n",
    "Geschwindigkeit in km/h | GPS\n",
    "Breitengrad in Dezimalgrad | GPS\n",
    "Längengrad in Dezimalgrad | GPS\n",
    "X,Y,Z-Achsen Beschleunigung in m/s^2 | 3-Achsen Beschleunigungssensor\n",
    "Roll-Nick-Gier Winkel in rad | 3-Achsen Beschleunigungssensor und Magnetometer\n",
    "Tabelle 1: Messwerte die von der Fahrradwege-Monitoring-App erfasst werden\n",
    "\n",
    "## Bildverzeichnis\n",
    "\n",
    "Abb. 1  Funktionale Architektur, Grafik erstellt mit folgenden Werken:\n",
    "- Google Inc., Android Robot,   Creative-Commons-Lizenz(https://de.wikipedia.org/wiki/Creative_Commons), Änderung:  Bild in einer Abbildung zusammengestellt\n",
    " - Uyen, Smartphone icon, The Noun Project, Creative-Commons-Lizenz(https://de.wikipedia.org/wiki/Creative_Commons)\n",
    "- Ken Vermette, , Logo des OpenStreetMap-Projekts, https://de.wikipedia.org/wiki/Datei:Openstreetmap_logo.svg, Creative-Commons-Lizenz(https://de.wikipedia.org/wiki/Creative_Commons)\n",
    "\n",
    "\n",
    "Abb. 2  Android Smartphone Sensor Orientierung, Verwendetes Werk:\n",
    "- Uyen, Smartphone icon, The Noun Project, Creative-Commons-Lizenz(https://de.wikipedia.org/wiki/Creative_Commons)\n"
   ]
  },
  {
   "cell_type": "code",
   "execution_count": null,
   "metadata": {},
   "outputs": [],
   "source": []
  }
 ],
 "metadata": {
  "kernelspec": {
   "display_name": "Python [default]",
   "language": "python",
   "name": "python3"
  },
  "language_info": {
   "codemirror_mode": {
    "name": "ipython",
    "version": 3
   },
   "file_extension": ".py",
   "mimetype": "text/x-python",
   "name": "python",
   "nbconvert_exporter": "python",
   "pygments_lexer": "ipython3",
   "version": "3.6.5"
  },
  "toc": {
   "base_numbering": 1,
   "nav_menu": {
    "height": "65px",
    "width": "252px"
   },
   "number_sections": true,
   "sideBar": true,
   "skip_h1_title": false,
   "title_cell": "Table of Contents",
   "title_sidebar": "Contents",
   "toc_cell": false,
   "toc_position": {},
   "toc_section_display": "block",
   "toc_window_display": false
  },
  "varInspector": {
   "cols": {
    "lenName": 16,
    "lenType": 16,
    "lenVar": 40
   },
   "kernels_config": {
    "python": {
     "delete_cmd_postfix": "",
     "delete_cmd_prefix": "del ",
     "library": "var_list.py",
     "varRefreshCmd": "print(var_dic_list())"
    },
    "r": {
     "delete_cmd_postfix": ") ",
     "delete_cmd_prefix": "rm(",
     "library": "var_list.r",
     "varRefreshCmd": "cat(var_dic_list()) "
    }
   },
   "types_to_exclude": [
    "module",
    "function",
    "builtin_function_or_method",
    "instance",
    "_Feature"
   ],
   "window_display": false
  }
 },
 "nbformat": 4,
 "nbformat_minor": 2
}
