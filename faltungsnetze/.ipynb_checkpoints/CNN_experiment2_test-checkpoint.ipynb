{
 "cells": [
  {
   "cell_type": "markdown",
   "metadata": {},
   "source": [
    "# Test der Faltungsnetzwerke\n",
    "\n",
    "## Einleitung\n",
    "\n",
    "Hier wurden komplette Datensätze mit den trainierten Modellen klassifiziert und die Ergebnisse Dokumentiert.\n",
    "\n",
    "## Ergebnisse\n",
    "\n",
    "Test Nr. | Datensatz | Faltungsnetzwerk aus Versuch | Test accuracy | Test loss \n",
    "-- | -- |\n",
    " 1 | 52 | 2.3.8 | $63.80\\%$ | $0.7953$ \n",
    " 2 | 52 | 2.3.4 | $57.69\\%$ | $0.8629$\n",
    " 3 | 39 | 2.3.8 | $50.40\\%$ | $1.0033$"
   ]
  },
  {
   "cell_type": "code",
   "execution_count": 3,
   "metadata": {},
   "outputs": [],
   "source": [
    "import pandas\n",
    "import collections\n",
    "import seaborn as sns\n",
    "%matplotlib inline \n",
    "import matplotlib.pyplot as plt\n",
    "import matplotlib.lines as mlines\n",
    "from mpl_toolkits.axes_grid1 import ImageGrid\n",
    "import os\n",
    "import cv2\n",
    "import numpy as np"
   ]
  },
  {
   "cell_type": "code",
   "execution_count": 4,
   "metadata": {},
   "outputs": [
    {
     "name": "stderr",
     "output_type": "stream",
     "text": [
      "Using TensorFlow backend.\n"
     ]
    }
   ],
   "source": [
    "from keras.utils import np_utils\n",
    "from keras.models import load_model\n",
    "from sklearn.utils import shuffle\n",
    "from sklearn.model_selection import train_test_split\n",
    "from sklearn.metrics import confusion_matrix"
   ]
  },
  {
   "cell_type": "code",
   "execution_count": 13,
   "metadata": {},
   "outputs": [],
   "source": [
    "featuresDf = pandas.read_csv(filepath_or_buffer=\"../daten/merkmale_datensatz_53/merkmale.csv\")"
   ]
  },
  {
   "cell_type": "code",
   "execution_count": 14,
   "metadata": {},
   "outputs": [],
   "source": [
    "# Läd Modell\n",
    "modell = load_model('ergebnisse_versuch2_3/modell_versuch2_3_8')"
   ]
  },
  {
   "cell_type": "code",
   "execution_count": 15,
   "metadata": {},
   "outputs": [],
   "source": [
    "# Nummer des aktuellen Test\n",
    "testNumber = \"4\""
   ]
  },
  {
   "cell_type": "code",
   "execution_count": 16,
   "metadata": {},
   "outputs": [],
   "source": [
    "# Hier können die Datensätze ausgewählt werden\n",
    "datasets = ['53']\n",
    "# Die Pfade zu den Ordnern in w''elchem sich die Bilder befinden\n",
    "paths = []\n",
    "# Liste mit Pfaden zu den Bildern\n",
    "imagePaths = []"
   ]
  },
  {
   "cell_type": "code",
   "execution_count": 17,
   "metadata": {},
   "outputs": [
    {
     "name": "stdout",
     "output_type": "stream",
     "text": [
      "E:/bachelor/daten/53/zugeschnitten/\n",
      "Bilder aus folgenden Ordnern werden geladen: ['1', '2', '3', '4', '5']\n",
      "Ordner der geladen wird: 1\n",
      "Ordner der geladen wird: 2\n",
      "Ordner der geladen wird: 3\n",
      "Ordner der geladen wird: 4\n",
      "Ordner der geladen wird: 5\n"
     ]
    }
   ],
   "source": [
    "for dataset in datasets: # Für jeden Datensatz merke Pfad\n",
    "    paths.append(\"E:/bachelor/daten/\" + dataset + \"/zugeschnitten/\")\n",
    "for path in paths: # Für jeden Pfad hole die Namen der Ordner\n",
    "    folders = os.listdir(path)\n",
    "    folders = sorted(folders, key=int) #sortiert die Reihenfolge de Ordner aufsteifend\n",
    "    print(path)\n",
    "    print(\"Bilder aus folgenden Ordnern werden geladen: \" + str(folders))\n",
    "    for folder in folders: # Aus der Liste der Ordner wird ein Ordner ausgewählt\n",
    "        filesPath = path + folder + \"/\"\n",
    "        files = os.listdir(filesPath)\n",
    "        print(\"Ordner der geladen wird: \" + str(folder))\n",
    "        for name in files: # Ein Dateiname aus diesem Ordner\n",
    "            if \"jpg\" not in name:\n",
    "                continue\n",
    "            imagePaths.append(filesPath + name)"
   ]
  },
  {
   "cell_type": "code",
   "execution_count": 9,
   "metadata": {},
   "outputs": [],
   "source": [
    "classNames = ['gut','mittel','schlecht'] # Namen der Klassen"
   ]
  },
  {
   "cell_type": "code",
   "execution_count": 10,
   "metadata": {},
   "outputs": [
    {
     "ename": "NameError",
     "evalue": "name 'featuresDf' is not defined",
     "output_type": "error",
     "traceback": [
      "\u001b[1;31m---------------------------------------------------------------------------\u001b[0m",
      "\u001b[1;31mNameError\u001b[0m                                 Traceback (most recent call last)",
      "\u001b[1;32m<ipython-input-10-dc12cc6d7604>\u001b[0m in \u001b[0;36m<module>\u001b[1;34m()\u001b[0m\n\u001b[1;32m----> 1\u001b[1;33m \u001b[0myLabels\u001b[0m \u001b[1;33m=\u001b[0m \u001b[0mnp_utils\u001b[0m\u001b[1;33m.\u001b[0m\u001b[0mto_categorical\u001b[0m\u001b[1;33m(\u001b[0m\u001b[0mfeaturesDf\u001b[0m\u001b[1;33m[\u001b[0m\u001b[1;34m'Klasse'\u001b[0m\u001b[1;33m]\u001b[0m\u001b[1;33m,\u001b[0m \u001b[1;36m0\u001b[0m\u001b[1;33m)\u001b[0m\u001b[1;33m\u001b[0m\u001b[0m\n\u001b[0m",
      "\u001b[1;31mNameError\u001b[0m: name 'featuresDf' is not defined"
     ]
    }
   ],
   "source": [
    "yLabels = np_utils.to_categorical(featuresDf['Klasse'], 0)"
   ]
  },
  {
   "cell_type": "code",
   "execution_count": null,
   "metadata": {},
   "outputs": [],
   "source": [
    "# Diese Funktion läd Bilder in den Hauptspeicher\n",
    "# imagesPaths: Liste mit Pfaden zu den Bildern != null\n",
    "def imageLoader(imagePaths):\n",
    "    images = []\n",
    "    for path in imagePaths:\n",
    "        images.append(cv2.cvtColor(cv2.imread(path),cv2.COLOR_BGR2RGB))\n",
    "    imagesNp = np.array(images)\n",
    "    imagesNp = imagesNp.astype('float32')\n",
    "    # Transfomierung der Bildpunkte auf den Wetebereich von 0 bis 1\n",
    "    imagesNp /= 255\n",
    "    return imagesNp\n",
    "# Läd Trainingsdaten in batches\n",
    "def dataLoader(imagePaths, features, batchSize):\n",
    "    imagesCount = len(imagePaths)  \n",
    "    while True:\n",
    "        batchStart = 0\n",
    "        batchEnd = batchSize\n",
    "        while batchStart < imagesCount:\n",
    "            limit = min(batchEnd, imagesCount)\n",
    "            x = imageLoader(imagePaths[batchStart:limit])\n",
    "            y = features[batchStart:limit]\n",
    "            yield (x,y) \n",
    "            batchStart += batchSize   \n",
    "            batchEnd += batchSize"
   ]
  },
  {
   "cell_type": "code",
   "execution_count": 19,
   "metadata": {},
   "outputs": [
    {
     "data": {
      "text/plain": [
       "[0.79526953565960767, 0.63796542553191493]"
      ]
     },
     "execution_count": 19,
     "metadata": {},
     "output_type": "execute_result"
    }
   ],
   "source": [
    "modell.evaluate_generator(dataLoader(imagePaths, yLabels, 32), steps=int(len(imagePaths)/32))"
   ]
  },
  {
   "cell_type": "code",
   "execution_count": 11,
   "metadata": {},
   "outputs": [
    {
     "ename": "KeyboardInterrupt",
     "evalue": "",
     "output_type": "error",
     "traceback": [
      "\u001b[1;31m---------------------------------------------------------------------------\u001b[0m",
      "\u001b[1;31mKeyboardInterrupt\u001b[0m                         Traceback (most recent call last)",
      "\u001b[1;32m<ipython-input-11-5387b785dfa0>\u001b[0m in \u001b[0;36m<module>\u001b[1;34m()\u001b[0m\n\u001b[0;32m      3\u001b[0m \u001b[1;32mfor\u001b[0m \u001b[0mpath\u001b[0m \u001b[1;32min\u001b[0m \u001b[0mimagePaths\u001b[0m\u001b[1;33m:\u001b[0m\u001b[1;33m\u001b[0m\u001b[0m\n\u001b[0;32m      4\u001b[0m     \u001b[0mimageList\u001b[0m \u001b[1;33m=\u001b[0m \u001b[1;33m[\u001b[0m\u001b[1;33m]\u001b[0m\u001b[1;33m\u001b[0m\u001b[0m\n\u001b[1;32m----> 5\u001b[1;33m     \u001b[0mimg\u001b[0m \u001b[1;33m=\u001b[0m \u001b[0mcv2\u001b[0m\u001b[1;33m.\u001b[0m\u001b[0mcvtColor\u001b[0m\u001b[1;33m(\u001b[0m\u001b[0mcv2\u001b[0m\u001b[1;33m.\u001b[0m\u001b[0mimread\u001b[0m\u001b[1;33m(\u001b[0m\u001b[0mpath\u001b[0m\u001b[1;33m)\u001b[0m\u001b[1;33m,\u001b[0m\u001b[0mcv2\u001b[0m\u001b[1;33m.\u001b[0m\u001b[0mCOLOR_BGR2RGB\u001b[0m\u001b[1;33m)\u001b[0m\u001b[1;33m\u001b[0m\u001b[0m\n\u001b[0m\u001b[0;32m      6\u001b[0m     \u001b[0mimg\u001b[0m \u001b[1;33m=\u001b[0m \u001b[0mnp\u001b[0m\u001b[1;33m.\u001b[0m\u001b[0marray\u001b[0m\u001b[1;33m(\u001b[0m\u001b[0mimg\u001b[0m\u001b[1;33m)\u001b[0m\u001b[1;33m\u001b[0m\u001b[0m\n\u001b[0;32m      7\u001b[0m     \u001b[0mimg\u001b[0m \u001b[1;33m=\u001b[0m \u001b[0mimg\u001b[0m\u001b[1;33m.\u001b[0m\u001b[0mastype\u001b[0m\u001b[1;33m(\u001b[0m\u001b[1;34m'float32'\u001b[0m\u001b[1;33m)\u001b[0m\u001b[1;33m\u001b[0m\u001b[0m\n",
      "\u001b[1;31mKeyboardInterrupt\u001b[0m: "
     ]
    }
   ],
   "source": [
    "validPreds = []\n",
    "imageList = []\n",
    "for path in imagePaths:\n",
    "    imageList = []   \n",
    "    img = cv2.cvtColor(cv2.imread(path),cv2.COLOR_BGR2RGB)\n",
    "    img = np.array(img)\n",
    "    img = img.astype('float32')\n",
    "    img /= 255\n",
    "    imageList.append(img)\n",
    "    validPreds.append(modell.predict(np.asarray(imageList)))"
   ]
  },
  {
   "cell_type": "code",
   "execution_count": null,
   "metadata": {},
   "outputs": [],
   "source": [
    "# Konfusionsmatrix\n",
    "validPredArray = np.argmax(np.vstack(validPreds), axis=1)\n",
    "yTestMax = np.argmax(yLabels,axis=1)\n",
    "cnfMatrix = confusion_matrix(yTestMax, validPredArray)\n",
    "print(cnfMatrix)\n",
    "fig, ax = plt.subplots(figsize=(6,6)) \n",
    "ax = sns.heatmap(cnfMatrix, fmt=\"d\", cmap=plt.cm.Blues, ax=ax , annot=True)\n",
    "ax.set_xticklabels(classNames)\n",
    "ax.set_yticklabels(classNames)\n",
    "plt.title('Konfusionsmatrix Test Nr. ' + testNumber)\n",
    "plt.ylabel('Wahre Klasse')\n",
    "plt.xlabel('Vorhergesagte Klasse')\n",
    "plt.savefig('konfmatrixTest_' + testNumber + '.png')\n",
    "plt.show()"
   ]
  },
  {
   "cell_type": "code",
   "execution_count": null,
   "metadata": {},
   "outputs": [],
   "source": [
    "featuresDf['vorhergesagte Klasse'] = 0\n",
    "predictList = []\n",
    "for path in imagePaths:\n",
    "    imageList = []   \n",
    "    img = cv2.cvtColor(cv2.imread(path),cv2.COLOR_BGR2RGB)\n",
    "    img = np.array(img)\n",
    "    img = img.astype('float32')\n",
    "    img /= 255\n",
    "    imageList.append(img)\n",
    "    modell.predict(np.asarray(imageList))\n",
    "    predictList.append(np.argmax(np.vstack( modell.predict(np.asarray(imageList))), axis=1)[0])\n",
    "featuresDf['vorhergesagte Klasse'] = predictList"
   ]
  },
  {
   "cell_type": "code",
   "execution_count": 21,
   "metadata": {},
   "outputs": [],
   "source": [
    "featuresDf.set_index('Zeitstempel in Unixzeit', inplace=True)\n",
    "featuresDf.to_csv('../daten/merkmale_datensatz_53/merkmaleKlassifiziert.csv')"
   ]
  },
  {
   "cell_type": "code",
   "execution_count": null,
   "metadata": {},
   "outputs": [],
   "source": []
  }
 ],
 "metadata": {
  "kernelspec": {
   "display_name": "Python 3",
   "language": "python",
   "name": "python3"
  },
  "language_info": {
   "codemirror_mode": {
    "name": "ipython",
    "version": 3
   },
   "file_extension": ".py",
   "mimetype": "text/x-python",
   "name": "python",
   "nbconvert_exporter": "python",
   "pygments_lexer": "ipython3",
   "version": "3.6.4"
  },
  "latex_envs": {
   "LaTeX_envs_menu_present": true,
   "autocomplete": true,
   "bibliofile": "biblio.bib",
   "cite_by": "apalike",
   "current_citInitial": 1,
   "eqLabelWithNumbers": true,
   "eqNumInitial": 1,
   "hotkeys": {
    "equation": "Ctrl-E",
    "itemize": "Ctrl-I"
   },
   "labels_anchors": false,
   "latex_user_defs": false,
   "report_style_numbering": false,
   "user_envs_cfg": false
  },
  "toc": {
   "colors": {
    "hover_highlight": "#DAA520",
    "navigate_num": "#000000",
    "navigate_text": "#333333",
    "running_highlight": "#FF0000",
    "selected_highlight": "#FFD700",
    "sidebar_border": "#EEEEEE",
    "wrapper_background": "#FFFFFF"
   },
   "moveMenuLeft": true,
   "nav_menu": {
    "height": "68px",
    "width": "252px"
   },
   "navigate_menu": true,
   "number_sections": true,
   "sideBar": true,
   "threshold": 4,
   "toc_cell": false,
   "toc_section_display": "block",
   "toc_window_display": false,
   "widenNotebook": false
  }
 },
 "nbformat": 4,
 "nbformat_minor": 2
}
