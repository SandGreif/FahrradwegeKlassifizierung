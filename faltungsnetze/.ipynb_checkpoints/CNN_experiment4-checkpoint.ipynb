{
 "cells": [
  {
   "cell_type": "markdown",
   "metadata": {},
   "source": [
    "# Faltungsnetz Versuch 4: Unterschiedliche Strecken\n",
    "\n",
    "## Einleitung\n",
    "\n",
    "In diesen Versuch werden Faltungsnetze mit den Daten aus dem Datensatz 37 bis 42 trainiert. Die Daten wurden auf unterschiedlichen Routen erfasst. Beim Start und Ende der Datenerfassung zu einer Strecke überschneiden sich einige befahrene Wege. Diese Wege wurden also mehr als einmal befahren. Gelabelt wurden die Daten mit Fuzzy-Logik (siehe Notebook daten_labeln/fuzzyLogic.ipynb). Zum Trainieren des Netzes ist es nötig das nur ein Teil der Bilder in den Hauptspeicher geladen wird, weil ansonsten der Speicherplatz nicht ausreicht bei 8GB RAM. Dafür wird die Keras Methode fit_generator() genutzt mit welchem eine Generator Methode Implementiert werden kann, welche so viele Bilder in der Anzahl der batch size (Stapelgröße) läd für einen Trainingsschritt.     \n",
    "\n",
    "### Versuch 4.1 Versuchsbeschreibung: Unterteilung der Fahrqualität in 4 Klassen\n",
    "\n",
    "Die Trainingsdaten wurden klassifiziert in 4 Klassen nach der Fahrqualität. Für weitere Informationen zur Einordnung der Daten siehe Fuzzy Logik Versuch 2. Als Parameter für das Faltungsnetz wird als Vorlage das Model aus Faltungsnetz Versuch 1.9 genutzt.\n",
    "\n",
    "### Versuch 4.1 Ergebnis:\n",
    "\n",
    "\n",
    "\n",
    "\n",
    "### Versuch 4.2 Versuchbeschreibung: Hypertuning\n",
    "\n",
    "\n",
    "### Ergebnisse\n",
    "\n",
    "Versuch Nr. | validierungs Accuracy | validierungs Loss | Trainings Accuracy | Trainings Loss |  \n",
    "--- | --- | --- | --- | --- |\n",
    "4.1 | 0.7705 | 0.4947 | 0.7644 | 0.5073 |\n",
    "Tabelle 1: Ergebnisse der Versuche"
   ]
  },
  {
   "cell_type": "code",
   "execution_count": 1,
   "metadata": {
    "ExecuteTime": {
     "end_time": "2018-06-22T14:16:20.270490Z",
     "start_time": "2018-06-22T14:16:18.349224Z"
    }
   },
   "outputs": [
    {
     "name": "stderr",
     "output_type": "stream",
     "text": [
      "Using TensorFlow backend.\n"
     ]
    }
   ],
   "source": [
    "from __future__ import print_function\n",
    "from hyperopt import Trials, STATUS_OK, rand\n",
    "from hyperas import optim\n",
    "from hyperas.distributions import uniform, choice\n",
    "import pandas\n",
    "import seaborn as sns\n",
    "%matplotlib inline \n",
    "import matplotlib.pyplot as plt\n",
    "import matplotlib.lines as mlines\n",
    "import os\n",
    "import cv2\n",
    "import numpy as np"
   ]
  },
  {
   "cell_type": "code",
   "execution_count": 2,
   "metadata": {
    "ExecuteTime": {
     "end_time": "2018-06-22T14:16:22.705785Z",
     "start_time": "2018-06-22T14:16:20.307524Z"
    }
   },
   "outputs": [],
   "source": [
    "from keras.utils import np_utils\n",
    "from keras.models import Sequential\n",
    "from keras.layers.core import Dense, Dropout, Activation, Flatten\n",
    "from keras.layers.convolutional import Conv2D, MaxPooling2D\n",
    "from keras.optimizers import RMSprop\n",
    "from keras.models import load_model\n",
    "import keras.callbacks as cb\n",
    "from sklearn.utils import shuffle\n",
    "from sklearn.model_selection import train_test_split\n",
    "from sklearn.metrics import confusion_matrix\n",
    "from sklearn.metrics import accuracy_score"
   ]
  },
  {
   "cell_type": "code",
   "execution_count": 9,
   "metadata": {
    "ExecuteTime": {
     "end_time": "2018-06-22T14:16:24.820253Z",
     "start_time": "2018-06-22T14:16:22.732288Z"
    }
   },
   "outputs": [],
   "source": [
    "featuresDf = pandas.read_csv(filepath_or_buffer=\"../daten/merkmale_datensatz_37_bis_42/merkmaleMitLabeln.csv\")"
   ]
  },
  {
   "cell_type": "code",
   "execution_count": 10,
   "metadata": {
    "ExecuteTime": {
     "end_time": "2018-06-22T14:16:25.204721Z",
     "start_time": "2018-06-22T14:16:25.200722Z"
    }
   },
   "outputs": [],
   "source": [
    "# Nummer des aktuellen Versuchs\n",
    "experimentNumber = \"2\""
   ]
  },
  {
   "cell_type": "code",
   "execution_count": 11,
   "metadata": {
    "ExecuteTime": {
     "end_time": "2018-06-22T14:16:25.588084Z",
     "start_time": "2018-06-22T14:16:25.584084Z"
    }
   },
   "outputs": [],
   "source": [
    "# Hier können die Datensätze ausgewählt werden\n",
    "datasets = ['37','38','39','40','41','42']\n",
    "# Die Pfade zu den Ordnern in welchem sich die Bilder befinden\n",
    "paths = []\n",
    "# Liste mit Pfaden zu den Bildern\n",
    "imagePaths = []"
   ]
  },
  {
   "cell_type": "code",
   "execution_count": 12,
   "metadata": {
    "ExecuteTime": {
     "end_time": "2018-06-22T14:16:30.009350Z",
     "start_time": "2018-06-22T14:16:25.991545Z"
    }
   },
   "outputs": [
    {
     "name": "stdout",
     "output_type": "stream",
     "text": [
      "E:/bachelor/daten/37/zugeschnitten/\n",
      "Bilder aus folgenden Ordnern werden geladen: ['1', '2', '3', '4', '5', '6', '7', '8', '9', '10', '11', '12', '13', '14']\n",
      "Ordner der geladen wird: 1\n",
      "Ordner der geladen wird: 2\n",
      "Ordner der geladen wird: 3\n",
      "Ordner der geladen wird: 4\n",
      "Ordner der geladen wird: 5\n",
      "Ordner der geladen wird: 6\n",
      "Ordner der geladen wird: 7\n",
      "Ordner der geladen wird: 8\n",
      "Ordner der geladen wird: 9\n",
      "Ordner der geladen wird: 10\n",
      "Ordner der geladen wird: 11\n",
      "Ordner der geladen wird: 12\n",
      "Ordner der geladen wird: 13\n",
      "Ordner der geladen wird: 14\n",
      "E:/bachelor/daten/38/zugeschnitten/\n",
      "Bilder aus folgenden Ordnern werden geladen: ['1', '2', '3', '4', '5', '6', '7', '8', '9', '10', '11', '12', '13', '14', '15', '16', '17', '18', '19', '20', '21', '22']\n",
      "Ordner der geladen wird: 1\n",
      "Ordner der geladen wird: 2\n",
      "Ordner der geladen wird: 3\n",
      "Ordner der geladen wird: 4\n",
      "Ordner der geladen wird: 5\n",
      "Ordner der geladen wird: 6\n",
      "Ordner der geladen wird: 7\n",
      "Ordner der geladen wird: 8\n",
      "Ordner der geladen wird: 9\n",
      "Ordner der geladen wird: 10\n",
      "Ordner der geladen wird: 11\n",
      "Ordner der geladen wird: 12\n",
      "Ordner der geladen wird: 13\n",
      "Ordner der geladen wird: 14\n",
      "Ordner der geladen wird: 15\n",
      "Ordner der geladen wird: 16\n",
      "Ordner der geladen wird: 17\n",
      "Ordner der geladen wird: 18\n",
      "Ordner der geladen wird: 19\n",
      "Ordner der geladen wird: 20\n",
      "Ordner der geladen wird: 21\n",
      "Ordner der geladen wird: 22\n",
      "E:/bachelor/daten/39/zugeschnitten/\n",
      "Bilder aus folgenden Ordnern werden geladen: ['1', '2', '3', '4', '5', '6', '7', '8', '9']\n",
      "Ordner der geladen wird: 1\n",
      "Ordner der geladen wird: 2\n",
      "Ordner der geladen wird: 3\n",
      "Ordner der geladen wird: 4\n",
      "Ordner der geladen wird: 5\n",
      "Ordner der geladen wird: 6\n",
      "Ordner der geladen wird: 7\n",
      "Ordner der geladen wird: 8\n",
      "Ordner der geladen wird: 9\n",
      "E:/bachelor/daten/40/zugeschnitten/\n",
      "Bilder aus folgenden Ordnern werden geladen: ['1', '2', '3', '4', '5', '6', '7']\n",
      "Ordner der geladen wird: 1\n",
      "Ordner der geladen wird: 2\n",
      "Ordner der geladen wird: 3\n",
      "Ordner der geladen wird: 4\n",
      "Ordner der geladen wird: 5\n",
      "Ordner der geladen wird: 6\n",
      "Ordner der geladen wird: 7\n",
      "E:/bachelor/daten/41/zugeschnitten/\n",
      "Bilder aus folgenden Ordnern werden geladen: ['1', '2', '3']\n",
      "Ordner der geladen wird: 1\n",
      "Ordner der geladen wird: 2\n",
      "Ordner der geladen wird: 3\n",
      "E:/bachelor/daten/42/zugeschnitten/\n",
      "Bilder aus folgenden Ordnern werden geladen: ['1', '2', '3', '4', '5', '6', '7', '8']\n",
      "Ordner der geladen wird: 1\n",
      "Ordner der geladen wird: 2\n",
      "Ordner der geladen wird: 3\n",
      "Ordner der geladen wird: 4\n",
      "Ordner der geladen wird: 5\n",
      "Ordner der geladen wird: 6\n",
      "Ordner der geladen wird: 7\n",
      "Ordner der geladen wird: 8\n"
     ]
    }
   ],
   "source": [
    "for dataset in datasets: # Für jeden Datensatz merke Pfad\n",
    "    paths.append(\"E:/bachelor/daten/\" + dataset + \"/zugeschnitten/\")\n",
    "for path in paths: # Für jeden Pfad hole die Namen der Ordner\n",
    "    folders = os.listdir(path)\n",
    "    folders = sorted(folders, key=int) #sortiert die Reihenfolge de Ordner aufsteifend\n",
    "    print(path)\n",
    "    print(\"Bilder aus folgenden Ordnern werden geladen: \" + str(folders))\n",
    "    for folder in folders: # Aus der Liste der Ordner wird ein Ordner ausgewählt\n",
    "        filesPath = path + folder + \"/\"\n",
    "        files = os.listdir(filesPath)\n",
    "        print(\"Ordner der geladen wird: \" + str(folder))\n",
    "        for name in files: # Ein Dateiname aus diesem Ordner\n",
    "            if \"jpg\" not in name:\n",
    "                continue\n",
    "            imagePaths.append(filesPath + name)"
   ]
  },
  {
   "cell_type": "code",
   "execution_count": 13,
   "metadata": {
    "ExecuteTime": {
     "end_time": "2018-06-22T14:16:30.645862Z",
     "start_time": "2018-06-22T14:16:30.624102Z"
    }
   },
   "outputs": [],
   "source": [
    "numberOfChannels  = 3           # Anzahl der Farbkanäle\n",
    "numberOfClasses   = 4           # Anzahl der Klassen\n",
    "classNames = ['sehr gut','gut','schlecht','sehr schlecht'] # Namen der Klassen\n",
    "yLabels           = np.array(0) # Labels / Klassen zuordnung\n",
    "yShuffle          = np.array(0) # Labels mit der Methode shuffle() vermischt \n",
    "xShuffle          = np.array(0) # Bilder zum trainieren mit shuffle() vermischt\n",
    "xTrain            = np.array(0) # Trainingsdaten (Bilder) \n",
    "xTest             = np.array(0) # Testdaten (Bilder)\n",
    "yTrain            = np.array(0) # Klassen zuordnungen (Labels) für xTrain\n",
    "yTest             = np.array(0) # Klassen zuordnung (Lables) für xTest"
   ]
  },
  {
   "cell_type": "code",
   "execution_count": 14,
   "metadata": {
    "ExecuteTime": {
     "end_time": "2018-06-22T14:16:31.256355Z",
     "start_time": "2018-06-22T14:16:31.248353Z"
    }
   },
   "outputs": [],
   "source": [
    "yLabels = np_utils.to_categorical(featuresDf['Klasse'], 0)"
   ]
  },
  {
   "cell_type": "code",
   "execution_count": 15,
   "metadata": {
    "ExecuteTime": {
     "end_time": "2018-06-22T14:16:31.916431Z",
     "start_time": "2018-06-22T14:16:31.912430Z"
    }
   },
   "outputs": [],
   "source": [
    "# Setzten des RandomState um reproduzierbare Ergebnisse zu erzielen.\n",
    "np.random.seed(32)"
   ]
  },
  {
   "cell_type": "code",
   "execution_count": 16,
   "metadata": {
    "ExecuteTime": {
     "end_time": "2018-06-22T14:16:32.584026Z",
     "start_time": "2018-06-22T14:16:32.516948Z"
    }
   },
   "outputs": [],
   "source": [
    "# Mischen der Trainingsdaten\n",
    "xShuffle, yShuffle = shuffle(imagePaths,yLabels)\n",
    "# Aufteilung in Trainings und Testdaten\n",
    "xTrain, xTest, yTrain, yTest = train_test_split(xShuffle, yShuffle, test_size=0.1)"
   ]
  },
  {
   "cell_type": "code",
   "execution_count": 17,
   "metadata": {},
   "outputs": [],
   "source": [
    "xTrain, xVal, yTain, yVal = train_test_split(xTrain, yTrain, test_size=0.2) "
   ]
  },
  {
   "cell_type": "code",
   "execution_count": 18,
   "metadata": {
    "ExecuteTime": {
     "end_time": "2018-06-22T15:16:15.912339Z",
     "start_time": "2018-06-22T15:16:15.908341Z"
    }
   },
   "outputs": [],
   "source": [
    "# Diese Funktion läd Bilder in den Hauptspeicher\n",
    "# imagesPaths: Liste mit Pfaden zu den Bildern != null\n",
    "def imageLoader(imagePaths):\n",
    "    images = []\n",
    "    for path in imagePaths:\n",
    "        images.append(cv2.imread(path))\n",
    "    imagesNp = np.array(images)\n",
    "    imagesNp = imagesNp.astype('float32')\n",
    "    # Transfomierung der Bildpunkte auf den Wetebereich von 0 bis 1\n",
    "    imagesNp /= 255\n",
    "    return imagesNp"
   ]
  },
  {
   "cell_type": "code",
   "execution_count": 19,
   "metadata": {
    "ExecuteTime": {
     "end_time": "2018-06-22T14:16:34.873737Z",
     "start_time": "2018-06-22T14:16:34.865736Z"
    }
   },
   "outputs": [],
   "source": [
    "# Läd Trainingsdaten in batches\n",
    "def dataLoader(imagePaths, features, batchSize):\n",
    "    imagesCount= len(imagePaths)  \n",
    "    while True:\n",
    "        batchStart = 0\n",
    "        batchEnd = batchSize\n",
    "        while batchStart < imagesCount:\n",
    "            limit = min(batchEnd, imagesCount)\n",
    "            x = imageLoader(imagePaths[batchStart:limit])\n",
    "            y = features[batchStart:limit]\n",
    "            yield (x,y) \n",
    "            batchStart += batchSize   \n",
    "            batchEnd += batchSize"
   ]
  },
  {
   "cell_type": "code",
   "execution_count": 19,
   "metadata": {
    "ExecuteTime": {
     "end_time": "2018-06-22T13:11:30.075044Z",
     "start_time": "2018-06-22T13:11:29.642542Z"
    }
   },
   "outputs": [
    {
     "data": {
      "image/png": "[encoded data removed]",
      "text/plain": [
       "<Figure size 432x288 with 1 Axes>"
      ]
     },
     "metadata": {},
     "output_type": "display_data"
    },
    {
     "data": {
      "image/png": "[encoded data removed]",
      "text/plain": [
       "<Figure size 432x288 with 1 Axes>"
      ]
     },
     "metadata": {},
     "output_type": "display_data"
    }
   ],
   "source": [
    "# Plot Modell Historie Loss und Accuracy\n",
    "plt.figure(4)\n",
    "plt.title('Trainingshistorie: Loss')\n",
    "plt.xlabel('Epoche')\n",
    "plt.ylabel('Loss')\n",
    "plt.plot(hist.history['loss'])\n",
    "plt.plot(hist.history['val_loss'])\n",
    "plt.legend(['Training', 'Validation'])\n",
    "plt.xlim(0,1)\n",
    "plt.grid(True)\n",
    "plt.savefig(\"trainingshistorieLossVersuch4_\" + experimentNumber + \".png\")\n",
    "plt.xticks(np.arange(0, 2, step=1))\n",
    "plt.figure(1)\n",
    "plt.title('Trainingshistorie: Accuracy')\n",
    "plt.xticks()\n",
    "plt.xlabel('Epoche')\n",
    "plt.ylabel('Accuracy')\n",
    "plt.plot(hist.history['acc'])\n",
    "plt.plot(hist.history['val_acc'])\n",
    "plt.legend(['Training', 'Validation'], loc='right')\n",
    "plt.xlim(0,2-1)\n",
    "plt.xticks(np.arange(0, 2, step=1))\n",
    "plt.grid(True)\n",
    "plt.savefig(\"trainingshistorieAccuracyVersuch4_\" + experimentNumber + \".png\")\n",
    "plt.show()"
   ]
  },
  {
   "cell_type": "code",
   "execution_count": 16,
   "metadata": {
    "ExecuteTime": {
     "end_time": "2018-06-22T14:16:54.684799Z",
     "start_time": "2018-06-22T14:16:54.680801Z"
    }
   },
   "outputs": [],
   "source": [
    "# Läd Testdaten\n",
    "def testDataLoader(imagePaths, batchSize):\n",
    "    imagesCount= len(imagePaths)  \n",
    "    while True:\n",
    "        batchStart = 0\n",
    "        batchEnd = batchSize\n",
    "        while batchStart < imagesCount:\n",
    "            limit = min(batchEnd, imagesCount)\n",
    "            x = imageLoader(imagePaths[batchStart:limit])\n",
    "            yield (x) \n",
    "            batchStart += batchSize   \n",
    "            batchEnd += batchSize"
   ]
  },
  {
   "cell_type": "code",
   "execution_count": 18,
   "metadata": {
    "ExecuteTime": {
     "end_time": "2018-06-22T15:17:02.483606Z",
     "start_time": "2018-06-22T15:17:01.479781Z"
    }
   },
   "outputs": [],
   "source": [
    "# Läd Modell\n",
    "modell1 = load_model('ergebnisse_versuch4/modell_versuch4_1')"
   ]
  },
  {
   "cell_type": "code",
   "execution_count": 41,
   "metadata": {
    "ExecuteTime": {
     "end_time": "2018-06-22T16:39:25.044349Z",
     "start_time": "2018-06-22T16:39:25.012361Z"
    }
   },
   "outputs": [
    {
     "data": {
      "text/plain": [
       "[0.28455674648284912, 0.91666668653488159]"
      ]
     },
     "execution_count": 41,
     "metadata": {},
     "output_type": "execute_result"
    }
   ],
   "source": [
    "modell1.evaluate_generator( dataLoader(xTest[4:7], yTest[4:7], 3), steps=4)"
   ]
  },
  {
   "cell_type": "code",
   "execution_count": 20,
   "metadata": {
    "ExecuteTime": {
     "start_time": "2018-06-22T16:46:26.008Z"
    }
   },
   "outputs": [],
   "source": [
    "# Bei der Verwendung von predict_generator werden die daten gemischt \n",
    "validPreds = []\n",
    "imageList = []\n",
    "for path in xTest:\n",
    "    imageList = []   \n",
    "    img = cv2.imread(path)\n",
    "    img = np.array(img)\n",
    "    img = img.astype('float32')\n",
    "    img /= 255\n",
    "    imageList.append(img)\n",
    "    validPreds.append(modell1.predict(np.asarray(imageList)))"
   ]
  },
  {
   "cell_type": "code",
   "execution_count": 21,
   "metadata": {
    "ExecuteTime": {
     "end_time": "2018-06-22T16:44:41.237434Z",
     "start_time": "2018-06-22T16:44:18.943Z"
    }
   },
   "outputs": [
    {
     "name": "stdout",
     "output_type": "stream",
     "text": [
      "[[3 0 0]\n",
      " [0 0 1]\n",
      " [0 0 0]]\n"
     ]
    },
    {
     "data": {
      "image/png": "[encoded data removed]",
      "text/plain": [
       "<Figure size 432x432 with 2 Axes>"
      ]
     },
     "metadata": {},
     "output_type": "display_data"
    }
   ],
   "source": [
    "# Konfusionsmatrix\n",
    "validPredArray = np.argmax(np.vstack(validPreds), axis=1)\n",
    "yTestMax = np.argmax(yTest,axis=1)\n",
    "cnfMatrix = confusion_matrix(yTestMax[4:8], validPredArray[4:8])\n",
    "print(cnfMatrix)\n",
    "fig, ax = plt.subplots(figsize=(6,6)) \n",
    "ax = sns.heatmap(cnfMatrix, fmt=\"d\", cmap=plt.cm.Blues, ax=ax , annot=True)\n",
    "ax.set_xticklabels(classNames)\n",
    "ax.set_yticklabels(classNames)\n",
    "plt.title('Konfusionsmatrix')\n",
    "plt.ylabel('Wahre Klasse')\n",
    "plt.xlabel('Vorhergesagte Klasse')\n",
    "plt.show()"
   ]
  },
  {
   "cell_type": "code",
   "execution_count": 42,
   "metadata": {},
   "outputs": [
    {
     "data": {
      "text/plain": [
       "0.66666666666666663"
      ]
     },
     "execution_count": 42,
     "metadata": {},
     "output_type": "execute_result"
    }
   ],
   "source": [
    "accuracy_score(yTestMax[4:7], validPredArray[4:7])"
   ]
  },
  {
   "cell_type": "code",
   "execution_count": 177,
   "metadata": {
    "ExecuteTime": {
     "end_time": "2018-06-22T16:42:16.937580Z",
     "start_time": "2018-06-22T16:42:16.933582Z"
    }
   },
   "outputs": [
    {
     "data": {
      "text/plain": [
       "3"
      ]
     },
     "execution_count": 177,
     "metadata": {},
     "output_type": "execute_result"
    }
   ],
   "source": [
    "validPredArray[5]"
   ]
  },
  {
   "cell_type": "code",
   "execution_count": 170,
   "metadata": {
    "ExecuteTime": {
     "end_time": "2018-06-22T16:40:23.690817Z",
     "start_time": "2018-06-22T16:40:23.686820Z"
    }
   },
   "outputs": [
    {
     "data": {
      "text/plain": [
       "array([[1., 0., 0., 0.],\n",
       "       [0., 1., 0., 0.],\n",
       "       [1., 0., 0., 0.],\n",
       "       [1., 0., 0., 0.]])"
      ]
     },
     "execution_count": 170,
     "metadata": {},
     "output_type": "execute_result"
    }
   ],
   "source": [
    "yTest[4:8]"
   ]
  },
  {
   "cell_type": "code",
   "execution_count": 181,
   "metadata": {
    "ExecuteTime": {
     "end_time": "2018-06-22T16:43:47.430866Z",
     "start_time": "2018-06-22T16:43:47.426867Z"
    }
   },
   "outputs": [
    {
     "data": {
      "text/plain": [
       "array([1., 0., 0., 0.])"
      ]
     },
     "execution_count": 181,
     "metadata": {},
     "output_type": "execute_result"
    }
   ],
   "source": [
    "yTest[4]"
   ]
  },
  {
   "cell_type": "code",
   "execution_count": 152,
   "metadata": {
    "ExecuteTime": {
     "end_time": "2018-06-22T16:19:18.032503Z",
     "start_time": "2018-06-22T16:19:18.016510Z"
    }
   },
   "outputs": [
    {
     "data": {
      "text/plain": [
       "array([[0.87134   , 0.10437446, 0.01408345, 0.01020208]], dtype=float32)"
      ]
     },
     "execution_count": 152,
     "metadata": {},
     "output_type": "execute_result"
    }
   ],
   "source": [
    "imageList = []   \n",
    "img = cv2.imread(xTest[0])\n",
    "img = np.array(img)\n",
    "img = img.astype('float32')\n",
    "img /= 255\n",
    "imageList.append(img)\n",
    "modell1.predict(np.asarray(imageList))"
   ]
  },
  {
   "cell_type": "code",
   "execution_count": 143,
   "metadata": {
    "ExecuteTime": {
     "end_time": "2018-06-22T16:11:31.553642Z",
     "start_time": "2018-06-22T16:11:31.517654Z"
    }
   },
   "outputs": [
    {
     "data": {
      "text/plain": [
       "array([0.5828721 , 0.26600018, 0.09462278, 0.05650496], dtype=float32)"
      ]
     },
     "execution_count": 143,
     "metadata": {},
     "output_type": "execute_result"
    }
   ],
   "source": [
    "np.vstack(validPreds)[4]"
   ]
  },
  {
   "cell_type": "code",
   "execution_count": 144,
   "metadata": {
    "ExecuteTime": {
     "end_time": "2018-06-22T16:11:48.901099Z",
     "start_time": "2018-06-22T16:11:48.888846Z"
    }
   },
   "outputs": [
    {
     "data": {
      "text/plain": [
       "0"
      ]
     },
     "execution_count": 144,
     "metadata": {},
     "output_type": "execute_result"
    }
   ],
   "source": [
    "yTestMax[4]"
   ]
  },
  {
   "cell_type": "code",
   "execution_count": 156,
   "metadata": {
    "ExecuteTime": {
     "end_time": "2018-06-22T16:30:12.199481Z",
     "start_time": "2018-06-22T16:30:12.191484Z"
    }
   },
   "outputs": [
    {
     "data": {
      "text/plain": [
       "array([1, 1, 1, ..., 0, 3, 3], dtype=int64)"
      ]
     },
     "execution_count": 156,
     "metadata": {},
     "output_type": "execute_result"
    }
   ],
   "source": [
    "np.argmax(yTest,axis=1)"
   ]
  },
  {
   "cell_type": "code",
   "execution_count": 47,
   "metadata": {},
   "outputs": [],
   "source": [
    "# Eine Funktion die das zu optimierende Keras-Modell beschreibt\n",
    "# Die vorgehensweise mit einer Funktion ist nach der Dokumentation von Hyperas vorgegeben \n",
    "# siehe https://github.com/maxpumperla/hyperas\n",
    "def modelCNN(xTrain, xVal, yTrain, yVal):\n",
    "    # Parameter für das CNN\n",
    "    inputShape     = (368, 70, 3)   # Eingangs Array-Form \n",
    "    numNeuronsC1   = 32                # Anzahl der Filter / 1 Faltungsschicht\n",
    "    numNeuronsC2   = 32                # Anzahl der Filter / 2 Faltungsschicht\n",
    "    numNeuronsC3   = 64                # Anzahl der Filter / 3 Faltungsschicht\n",
    "    numNeuronsD1   = 64                # Anzahl der Neuronen des Fully connected layer - vollverbundene Schicht\n",
    "    poolSize       = 2                 # Größe der Pooling-Layer\n",
    "    convKernelSize = 3                 # Größe des Faltungskern n*n\n",
    "    batchSize      = 32\n",
    "    \n",
    "    model = Sequential()\n",
    "    layerCountTuning = {{choice(['2Layer', '3Layer','4Layer'])}}\n",
    "    print(layerCountTuning)\n",
    "    af = {{choice(['relu', 'elu'])}}\n",
    "    print(af)\n",
    "    optf = {{choice(['RMSprop','Adam'])}}\n",
    "    print(optf)\n",
    "    model.add(Conv2D(32, (convKernelSize, convKernelSize), padding='same', input_shape=inputShape))\n",
    "    model.add(Activation(af))\n",
    "    model.add(MaxPooling2D(pool_size=(poolSize, poolSize)))\n",
    "    model.add(Dropout({{uniform(0, 1)}}))\n",
    "        \n",
    "    if layerCountTuning == '3Layer' or '4Layer':\n",
    "        filterCount1 = {{choice([32, 64])}}\n",
    "        model.add(Conv2D(filterCount1, (convKernelSize, convKernelSize), padding='same'))\n",
    "        model.add(Activation(af))\n",
    "        model.add(MaxPooling2D(pool_size=(poolSize, poolSize)))\n",
    "        model.add(Dropout({{uniform(0, 1)}}))\n",
    "\n",
    "    if layerCountTuning == '4Layer':\n",
    "        filterCount2 = {{choice([64, 128])}}\n",
    "        model.add(Conv2D(filterCount2, (convKernelSize, convKernelSize), padding='same'))\n",
    "        model.add(Activation(af))\n",
    "        model.add(MaxPooling2D(pool_size=(poolSize, poolSize)))\n",
    "        model.add(Dropout({{uniform(0, 1)}}))\n",
    "    \n",
    "    filterCount3 = {{choice([64, 128])}}\n",
    "    model.add(Conv2D(filterCount3, (convKernelSize, convKernelSize), padding='same'))\n",
    "    model.add(Activation(af))\n",
    "    model.add(MaxPooling2D(pool_size=(poolSize, poolSize)))\n",
    "    model.add(Dropout({{uniform(0, 1)}}))\n",
    "\n",
    "    model.add(Flatten())\n",
    "    dims4 = {{choice([64, 128])}}\n",
    "    model.add(Dense(dims4))\n",
    "    model.add(Activation(af))\n",
    "    model.add(Dropout({{uniform(0, 1)}}))\n",
    "\n",
    "    model.add(Dense(4))\n",
    "    model.add(Activation('softmax'))\n",
    "    \n",
    "    # Diese Funktion läd Bilder in den Hauptspeicher\n",
    "    # imagesPaths: Liste mit Pfaden zu den Bildern != null\n",
    "    def imageLoader(imagePaths):\n",
    "        images = []\n",
    "        for path in imagePaths:\n",
    "            images.append(cv2.imread(path))\n",
    "        \n",
    "        imagesNp = np.array(images)\n",
    "        imagesNp = imagesNp.astype('float32')\n",
    "        imagesNp /= 255\n",
    "        return imagesNp\n",
    "\n",
    "    # Läd Trainingsdaten in batches\n",
    "    def dataLoader(imagePaths, features, batchSize):\n",
    "        imagesCount= len(imagePaths)  \n",
    "        while True:\n",
    "            batchStart = 0\n",
    "            batchEnd = batchSize\n",
    "            while batchStart < imagesCount:\n",
    "                limit = min(batchEnd, imagesCount)\n",
    "                x = imageLoader(imagePaths[batchStart:limit])\n",
    "                y = features[batchStart:limit]\n",
    "                yield (x,y) \n",
    "                batchStart += batchSize   \n",
    "                batchEnd += batchSize\n",
    "                \n",
    "    model.compile(loss='categorical_crossentropy', optimizer=optf, metrics=[\"accuracy\"])\n",
    "    print('Train...')\n",
    "    # Early Stopping unterbricht das Training, wenn nach 3 Epochen die Kostenfunktion nicht weiter minimiert werden konnte \n",
    "    earlyStopping = cb.EarlyStopping(monitor='val_acc', patience=3, verbose=0, mode='max')\n",
    "    checkpointSafe = cb.ModelCheckpoint('ergebnisse_versuch4/modell_versuch4_2', monitor='val_acc', save_best_only=True)   \n",
    "    model.fit_generator(dataLoader(xTrain, yTrain, batchSize), epochs=10, steps_per_epoch=(int(len(xTrain)/batchSize)),\n",
    "              validation_data=dataLoader(xVal, yVal, batchSize), validation_steps=(int(len(xVal)/batchSize)), callbacks=[earlyStopping,checkpointSafe])\n",
    "    score, acc = model.evaluate_generator( dataLoader(xVal, yVal, 32), steps=(int(len(xVal)/batchSize)))\n",
    "    print('Test score: ' + str(score))\n",
    "    print('Test accuracy: ' +  str(acc))\n",
    "    # Die Rückgabewerte werden verarbeitet von Hyperas\n",
    "    # loss ist die Kostenfunktion welche minimiert werden soll mit Hyperas\n",
    "    # status (STATUS_OK) gibt an das, dass Modell erfolgreich ausgeführt wurde\n",
    "    return {'loss': -acc, 'status': STATUS_OK, 'model': model}"
   ]
  },
  {
   "cell_type": "code",
   "execution_count": 48,
   "metadata": {},
   "outputs": [],
   "source": [
    "def data():\n",
    "    # Hier können die Datensätze ausgewählt werden\n",
    "    datasets = ['37','38','39','40','41','42']\n",
    "    # Die Pfade zu den Ordnern in welchem sich die Bilder befinden\n",
    "    paths = []\n",
    "    # Liste mit Pfaden zu den Bildern\n",
    "    imagePaths = []\n",
    "    for dataset in datasets: # Für jeden Datensatz merke Pfad\n",
    "        paths.append(\"E:/bachelor/daten/\" + dataset + \"/zugeschnitten/\")\n",
    "    for path in paths: # Für jeden Pfad hole die Namen der Ordner\n",
    "        folders = os.listdir(path)\n",
    "        folders = sorted(folders, key=int) #sortiert die Reihenfolge de Ordner aufsteifend\n",
    "        print(path)\n",
    "        print(\"Bilder aus folgenden Ordnern werden geladen: \" + str(folders))\n",
    "        for folder in folders: # Aus der Liste der Ordner wird ein Ordner ausgewählt\n",
    "            filesPath = path + folder + \"/\"\n",
    "            files = os.listdir(filesPath)\n",
    "            print(\"Ordner der geladen wird: \" + str(folder))\n",
    "            for name in files: # Ein Dateiname aus diesem Ordner\n",
    "                if \"jpg\" not in name:\n",
    "                    continue\n",
    "                imagePaths.append(filesPath + name)\n",
    "    # Y Klassen Labels zuweisen\n",
    "    featuresDf = pandas.read_csv(filepath_or_buffer=\"../daten/merkmale_datensatz_37_bis_42/merkmaleMitLabeln.csv\")\n",
    "    yLabels = np_utils.to_categorical(featuresDf['Klasse'], 0)\n",
    "    # Setzten des RandomState um reproduzierbare Ergebnisse zu erzielen.\n",
    "    np.random.seed(42)\n",
    "    # Mischen der Trainingsdaten\n",
    "    xShuffle, yShuffle = shuffle(imagePaths,yLabels)\n",
    "    # Aufteilung in Trainings und Testdaten\n",
    "    xTrain, xTest, yTrain, yTest = train_test_split(xShuffle, yShuffle, test_size=0.1)\n",
    "    xTrain, xVal, yTrain, yVal = train_test_split(xTrain, yTrain, test_size=0.2)\n",
    "    return xTrain, xVal, yTrain, yVal"
   ]
  },
  {
   "cell_type": "code",
   "execution_count": 52,
   "metadata": {},
   "outputs": [
    {
     "name": "stdout",
     "output_type": "stream",
     "text": [
      ">>> Imports:\n",
      "#coding=utf-8\n",
      "\n",
      "from __future__ import print_function\n",
      "\n",
      "try:\n",
      "    from hyperopt import Trials, STATUS_OK, rand\n",
      "except:\n",
      "    pass\n",
      "\n",
      "try:\n",
      "    from hyperas import optim\n",
      "except:\n",
      "    pass\n",
      "\n",
      "try:\n",
      "    from hyperas.distributions import uniform, choice\n",
      "except:\n",
      "    pass\n",
      "\n",
      "try:\n",
      "    import pandas\n",
      "except:\n",
      "    pass\n",
      "\n",
      "try:\n",
      "    import seaborn as sns\n",
      "except:\n",
      "    pass\n",
      "\n",
      "try:\n",
      "    import matplotlib.pyplot as plt\n",
      "except:\n",
      "    pass\n",
      "\n",
      "try:\n",
      "    import matplotlib.lines as mlines\n",
      "except:\n",
      "    pass\n",
      "\n",
      "try:\n",
      "    import os\n",
      "except:\n",
      "    pass\n",
      "\n",
      "try:\n",
      "    import cv2\n",
      "except:\n",
      "    pass\n",
      "\n",
      "try:\n",
      "    import numpy as np\n",
      "except:\n",
      "    pass\n",
      "\n",
      "try:\n",
      "    from keras.utils import np_utils\n",
      "except:\n",
      "    pass\n",
      "\n",
      "try:\n",
      "    from keras.models import Sequential\n",
      "except:\n",
      "    pass\n",
      "\n",
      "try:\n",
      "    from keras.layers.core import Dense, Dropout, Activation, Flatten\n",
      "except:\n",
      "    pass\n",
      "\n",
      "try:\n",
      "    from keras.layers.convolutional import Conv2D, MaxPooling2D\n",
      "except:\n",
      "    pass\n",
      "\n",
      "try:\n",
      "    from keras.optimizers import RMSprop\n",
      "except:\n",
      "    pass\n",
      "\n",
      "try:\n",
      "    from keras.models import load_model\n",
      "except:\n",
      "    pass\n",
      "\n",
      "try:\n",
      "    import keras.callbacks as cb\n",
      "except:\n",
      "    pass\n",
      "\n",
      "try:\n",
      "    from sklearn.utils import shuffle\n",
      "except:\n",
      "    pass\n",
      "\n",
      "try:\n",
      "    from sklearn.model_selection import train_test_split\n",
      "except:\n",
      "    pass\n",
      "\n",
      "try:\n",
      "    from sklearn.metrics import confusion_matrix\n",
      "except:\n",
      "    pass\n",
      "\n",
      "try:\n",
      "    from sklearn.metrics import accuracy_score\n",
      "except:\n",
      "    pass\n",
      "\n",
      ">>> Hyperas search space:\n",
      "\n",
      "def get_space():\n",
      "    return {\n",
      "        'layerCountTuning': hp.choice('layerCountTuning', ['2Layer', '3Layer','4Layer']),\n",
      "        'af': hp.choice('af', ['relu', 'elu']),\n",
      "        'optf': hp.choice('optf', ['RMSprop','Adam']),\n",
      "        'Dropout': hp.uniform('Dropout', 0, 1),\n",
      "        'filterCount1': hp.choice('filterCount1', [32, 64]),\n",
      "        'Dropout_1': hp.uniform('Dropout_1', 0, 1),\n",
      "        'filterCount2': hp.choice('filterCount2', [64, 128]),\n",
      "        'Dropout_2': hp.uniform('Dropout_2', 0, 1),\n",
      "        'filterCount2_1': hp.choice('filterCount2_1', [64, 128]),\n",
      "        'Dropout_3': hp.uniform('Dropout_3', 0, 1),\n",
      "        'filterCount2_2': hp.choice('filterCount2_2', [64, 128]),\n",
      "        'Dropout_4': hp.uniform('Dropout_4', 0, 1),\n",
      "    }\n",
      "\n",
      ">>> Data\n",
      "   1: \n",
      "   2: # Hier können die Datensätze ausgewählt werden\n",
      "   3: datasets = ['37','38','39','40','41','42']\n",
      "   4: # Die Pfade zu den Ordnern in welchem sich die Bilder befinden\n",
      "   5: paths = []\n",
      "   6: # Liste mit Pfaden zu den Bildern\n",
      "   7: imagePaths = []\n",
      "   8: for dataset in datasets: # Für jeden Datensatz merke Pfad\n",
      "   9:     paths.append(\"E:/bachelor/daten/\" + dataset + \"/zugeschnitten/\")\n",
      "  10: for path in paths: # Für jeden Pfad hole die Namen der Ordner\n",
      "  11:     folders = os.listdir(path)\n",
      "  12:     folders = sorted(folders, key=int) #sortiert die Reihenfolge de Ordner aufsteifend\n",
      "  13:     print(path)\n",
      "  14:     print(\"Bilder aus folgenden Ordnern werden geladen: \" + str(folders))\n",
      "  15:     for folder in folders: # Aus der Liste der Ordner wird ein Ordner ausgewählt\n",
      "  16:         filesPath = path + folder + \"/\"\n",
      "  17:         files = os.listdir(filesPath)\n",
      "  18:         print(\"Ordner der geladen wird: \" + str(folder))\n",
      "  19:         for name in files: # Ein Dateiname aus diesem Ordner\n",
      "  20:             if \"jpg\" not in name:\n",
      "  21:                 continue\n",
      "  22:             imagePaths.append(filesPath + name)\n",
      "  23: # Y Klassen Labels zuweisen\n",
      "  24: featuresDf = pandas.read_csv(filepath_or_buffer=\"../daten/merkmale_datensatz_37_bis_42/merkmaleMitLabeln.csv\")\n",
      "  25: yLabels = np_utils.to_categorical(featuresDf['Klasse'], 0)\n",
      "  26: # Setzten des RandomState um reproduzierbare Ergebnisse zu erzielen.\n",
      "  27: np.random.seed(42)\n",
      "  28: # Mischen der Trainingsdaten\n",
      "  29: xShuffle, yShuffle = shuffle(imagePaths,yLabels)\n",
      "  30: # Aufteilung in Trainings und Testdaten\n",
      "  31: xTrain, xTest, yTrain, yTest = train_test_split(xShuffle, yShuffle, test_size=0.1)\n",
      "  32: xTrain, xVal, yTrain, yVal = train_test_split(xTrain, yTrain, test_size=0.2)\n",
      "  33: \n",
      "  34: \n",
      "  35: \n",
      ">>> Resulting replaced keras model:\n",
      "\n",
      "   1: def keras_fmin_fnct(space):\n",
      "   2: \n",
      "   3:     # Parameter für das CNN\n",
      "   4:     inputShape     = (368, 70, 3)   # Eingangs Array-Form \n",
      "   5:     numNeuronsC1   = 32                # Anzahl der Filter / 1 Faltungsschicht\n",
      "   6:     numNeuronsC2   = 32                # Anzahl der Filter / 2 Faltungsschicht\n",
      "   7:     numNeuronsC3   = 64                # Anzahl der Filter / 3 Faltungsschicht\n",
      "   8:     numNeuronsD1   = 64                # Anzahl der Neuronen des Fully connected layer - vollverbundene Schicht\n",
      "   9:     poolSize       = 2                 # Größe der Pooling-Layer\n",
      "  10:     convKernelSize = 3                 # Größe des Faltungskern n*n\n",
      "  11:     batchSize      = 32\n",
      "  12:     \n",
      "  13:     model = Sequential()\n",
      "  14:     layerCountTuning = space['layerCountTuning']\n",
      "  15:     print(layerCountTuning)\n",
      "  16:     af = space['af']\n",
      "  17:     print(af)\n",
      "  18:     optf = space['optf']\n",
      "  19:     print(optf)\n",
      "  20:     model.add(Conv2D(32, (convKernelSize, convKernelSize), padding='same', input_shape=inputShape))\n",
      "  21:     model.add(Activation(af))\n",
      "  22:     model.add(MaxPooling2D(pool_size=(poolSize, poolSize)))\n",
      "  23:     model.add(Dropout(space['Dropout']))\n",
      "  24:         \n",
      "  25:     if layerCountTuning == '3Layer' or '4Layer':\n",
      "  26:         filterCount1 = space['filterCount1']\n",
      "  27:         model.add(Conv2D(filterCount1, (convKernelSize, convKernelSize), padding='same'))\n",
      "  28:         model.add(Activation(af))\n",
      "  29:         model.add(MaxPooling2D(pool_size=(poolSize, poolSize)))\n",
      "  30:         model.add(Dropout(space['Dropout_1']))\n",
      "  31: \n",
      "  32:     if layerCountTuning == '4Layer':\n",
      "  33:         filterCount2 = space['filterCount2']\n",
      "  34:         model.add(Conv2D(filterCount2, (convKernelSize, convKernelSize), padding='same'))\n",
      "  35:         model.add(Activation(af))\n",
      "  36:         model.add(MaxPooling2D(pool_size=(poolSize, poolSize)))\n",
      "  37:         model.add(Dropout(space['Dropout_2']))\n",
      "  38:     \n",
      "  39:     filterCount3 = space['filterCount2_1']\n",
      "  40:     model.add(Conv2D(filterCount3, (convKernelSize, convKernelSize), padding='same'))\n",
      "  41:     model.add(Activation(af))\n",
      "  42:     model.add(MaxPooling2D(pool_size=(poolSize, poolSize)))\n",
      "  43:     model.add(Dropout(space['Dropout_3']))\n",
      "  44: \n",
      "  45:     model.add(Flatten())\n",
      "  46:     dims4 = space['filterCount2_2']\n",
      "  47:     model.add(Dense(dims4))\n",
      "  48:     model.add(Activation(af))\n",
      "  49:     model.add(Dropout(space['Dropout_4']))\n",
      "  50: \n",
      "  51:     model.add(Dense(4))\n",
      "  52:     model.add(Activation('softmax'))\n",
      "  53:     \n",
      "  54:     # Diese Funktion läd Bilder in den Hauptspeicher\n",
      "  55:     # imagesPaths: Liste mit Pfaden zu den Bildern != null\n",
      "  56:     def imageLoader(imagePaths):\n",
      "  57:         images = []\n",
      "  58:         for path in imagePaths:\n",
      "  59:             images.append(cv2.imread(path))\n",
      "  60:         \n",
      "  61:         imagesNp = np.array(images)\n",
      "  62:         imagesNp = imagesNp.astype('float32')\n",
      "  63:         imagesNp /= 255\n",
      "  64:         return imagesNp\n",
      "  65: \n",
      "  66:     # Läd Trainingsdaten in batches\n",
      "  67:     def dataLoader(imagePaths, features, batchSize):\n",
      "  68:         imagesCount= len(imagePaths)  \n",
      "  69:         while True:\n",
      "  70:             batchStart = 0\n",
      "  71:             batchEnd = batchSize\n",
      "  72:             while batchStart < imagesCount:\n",
      "  73:                 limit = min(batchEnd, imagesCount)\n",
      "  74:                 x = imageLoader(imagePaths[batchStart:limit])\n",
      "  75:                 y = features[batchStart:limit]\n",
      "  76:                 yield (x,y) \n",
      "  77:                 batchStart += batchSize   \n",
      "  78:                 batchEnd += batchSize\n",
      "  79:                 \n",
      "  80:     model.compile(loss='categorical_crossentropy', optimizer=optf, metrics=[\"accuracy\"])\n",
      "  81:     print('Train...')\n",
      "  82:     # Early Stopping unterbricht das Training, wenn nach 3 Epochen die Kostenfunktion nicht weiter minimiert werden konnte \n",
      "  83:     earlyStopping = cb.EarlyStopping(monitor='val_acc', patience=3, verbose=0, mode='max')\n",
      "  84:     checkpointSafe = cb.ModelCheckpoint('ergebnisse_versuch4/modell_versuch4_2', monitor='val_acc', save_best_only=True)   \n",
      "  85:     model.fit_generator(dataLoader(xTrain, yTrain, batchSize), epochs=10, steps_per_epoch=(int(len(xTrain)/batchSize)),\n",
      "  86:               validation_data=dataLoader(xVal, yVal, batchSize), validation_steps=(int(len(xVal)/batchSize)), callbacks=[earlyStopping,checkpointSafe])\n",
      "  87:     score, acc = model.evaluate_generator( dataLoader(xVal, yVal, 32), steps=(int(len(xVal)/batchSize)))\n",
      "  88:     print('Test score: ' + str(score))\n",
      "  89:     print('Test accuracy: ' +  str(acc))\n",
      "  90:     # Die Rückgabewerte werden verarbeitet von Hyperas\n",
      "  91:     # loss ist die Kostenfunktion welche minimiert werden soll mit Hyperas\n",
      "  92:     # status (STATUS_OK) gibt an das, dass Modell erfolgreich ausgeführt wurde\n",
      "  93:     return {'loss': -acc, 'status': STATUS_OK, 'model': model}\n",
      "  94: \n",
      "3Layer\n",
      "elu\n",
      "RMSprop\n"
     ]
    },
    {
     "name": "stdout",
     "output_type": "stream",
     "text": [
      "Train...\n",
      "Epoch 1/10\n",
      "2605/2605 [==============================] - 365s 140ms/step - loss: 1.4417 - acc: 0.3235 - val_loss: 1.3612 - val_acc: 0.3214\n",
      "Epoch 2/10\n",
      "2605/2605 [==============================] - 328s 126ms/step - loss: 1.3363 - acc: 0.3491 - val_loss: 1.3649 - val_acc: 0.3244\n",
      "Epoch 3/10\n",
      "2605/2605 [==============================] - 328s 126ms/step - loss: 1.3329 - acc: 0.3520 - val_loss: 1.4315 - val_acc: 0.3143\n",
      "Epoch 4/10\n",
      "2605/2605 [==============================] - 328s 126ms/step - loss: 1.3320 - acc: 0.3534 - val_loss: 1.8543 - val_acc: 0.1685\n",
      "Epoch 5/10\n",
      "2605/2605 [==============================] - 328s 126ms/step - loss: 1.3314 - acc: 0.3549 - val_loss: 1.3449 - val_acc: 0.3211\n",
      "Test score: 1.3447659034\n",
      "Test accuracy: 0.321284562212\n",
      "4Layer\n",
      "relu\n",
      "RMSprop\n",
      "Train...\n",
      "Epoch 1/10\n",
      "2605/2605 [==============================] - 324s 124ms/step - loss: 1.3413 - acc: 0.3352 - val_loss: 1.3296 - val_acc: 0.3347\n",
      "Epoch 2/10\n",
      "2605/2605 [==============================] - 325s 125ms/step - loss: 1.3286 - acc: 0.3532 - val_loss: 1.3109 - val_acc: 0.3825\n",
      "Epoch 3/10\n",
      "2605/2605 [==============================] - 328s 126ms/step - loss: 1.3072 - acc: 0.3756 - val_loss: 1.2936 - val_acc: 0.3928\n",
      "Epoch 4/10\n",
      "2605/2605 [==============================] - 328s 126ms/step - loss: 1.2787 - acc: 0.4004 - val_loss: 1.2766 - val_acc: 0.3995\n",
      "Epoch 5/10\n",
      "2605/2605 [==============================] - 328s 126ms/step - loss: 1.2620 - acc: 0.4153 - val_loss: 1.2474 - val_acc: 0.4288\n",
      "Epoch 6/10\n",
      "2605/2605 [==============================] - 327s 125ms/step - loss: 1.2555 - acc: 0.4222 - val_loss: 1.2463 - val_acc: 0.4216\n",
      "Epoch 7/10\n",
      "2605/2605 [==============================] - 326s 125ms/step - loss: 1.2513 - acc: 0.4260 - val_loss: 1.2415 - val_acc: 0.4206\n",
      "Epoch 8/10\n",
      "2605/2605 [==============================] - 326s 125ms/step - loss: 1.2525 - acc: 0.4246 - val_loss: 1.2684 - val_acc: 0.3908\n",
      "Test score: 1.26837913378\n",
      "Test accuracy: 0.390841013825\n",
      "4Layer\n",
      "elu\n",
      "Adam\n",
      "Train...\n",
      "Epoch 1/10\n",
      "2605/2605 [==============================] - 361s 139ms/step - loss: 1.6934 - acc: 0.3135 - val_loss: 1.3531 - val_acc: 0.3250\n",
      "Epoch 2/10\n",
      "2605/2605 [==============================] - 360s 138ms/step - loss: 1.3472 - acc: 0.3338 - val_loss: 1.3390 - val_acc: 0.3228\n",
      "Epoch 3/10\n",
      "2605/2605 [==============================] - 360s 138ms/step - loss: 1.3402 - acc: 0.3332 - val_loss: 1.3378 - val_acc: 0.3234\n",
      "Epoch 4/10\n",
      "2605/2605 [==============================] - 359s 138ms/step - loss: 1.3411 - acc: 0.3317 - val_loss: 2.4917 - val_acc: 0.1629\n",
      "Test score: 2.49132436633\n",
      "Test accuracy: 0.162778417819\n",
      "3Layer\n",
      "elu\n",
      "Adam\n",
      "Train...\n",
      "Epoch 1/10\n",
      "2605/2605 [==============================] - 340s 130ms/step - loss: 1.4071 - acc: 0.3210 - val_loss: 1.3430 - val_acc: 0.3240\n",
      "Epoch 2/10\n",
      "2605/2605 [==============================] - 339s 130ms/step - loss: 1.3495 - acc: 0.3311 - val_loss: 1.3402 - val_acc: 0.3239\n",
      "Epoch 3/10\n",
      "2605/2605 [==============================] - 339s 130ms/step - loss: 1.3441 - acc: 0.3331 - val_loss: 1.3401 - val_acc: 0.3238\n",
      "Epoch 4/10\n",
      "2605/2605 [==============================] - 338s 130ms/step - loss: 1.3432 - acc: 0.3311 - val_loss: 1.3409 - val_acc: 0.3241\n",
      "Epoch 5/10\n",
      "2605/2605 [==============================] - 336s 129ms/step - loss: 1.3549 - acc: 0.3321 - val_loss: 1.3412 - val_acc: 0.3239\n",
      "Epoch 6/10\n",
      "2605/2605 [==============================] - 336s 129ms/step - loss: 1.3425 - acc: 0.3326 - val_loss: 1.3408 - val_acc: 0.3240\n",
      "Epoch 7/10\n",
      "2605/2605 [==============================] - 336s 129ms/step - loss: 1.3428 - acc: 0.3332 - val_loss: 1.3400 - val_acc: 0.3238\n",
      "Test score: 1.33990781117\n",
      "Test accuracy: 0.324020737327\n",
      "2Layer\n",
      "relu\n",
      "Adam\n",
      "Train...\n",
      "Epoch 1/10\n",
      "2605/2605 [==============================] - 337s 129ms/step - loss: 1.3420 - acc: 0.3304 - val_loss: 1.3368 - val_acc: 0.3305\n",
      "Epoch 2/10\n",
      "2605/2605 [==============================] - 335s 129ms/step - loss: 1.3343 - acc: 0.3332 - val_loss: 1.3375 - val_acc: 0.3305\n",
      "Epoch 3/10\n",
      "2605/2605 [==============================] - 335s 129ms/step - loss: 1.3342 - acc: 0.3315 - val_loss: 1.3376 - val_acc: 0.3304\n",
      "Epoch 4/10\n",
      "2605/2605 [==============================] - 336s 129ms/step - loss: 1.3342 - acc: 0.3322 - val_loss: 1.3374 - val_acc: 0.3306\n",
      "Epoch 5/10\n",
      "2605/2605 [==============================] - 336s 129ms/step - loss: 1.3341 - acc: 0.3331 - val_loss: 1.3376 - val_acc: 0.3304\n",
      "Epoch 6/10\n",
      "2605/2605 [==============================] - 337s 129ms/step - loss: 1.3342 - acc: 0.3327 - val_loss: 1.3375 - val_acc: 0.3305\n",
      "Epoch 7/10\n",
      "2605/2605 [==============================] - 337s 129ms/step - loss: 1.3342 - acc: 0.3332 - val_loss: 1.3375 - val_acc: 0.3306\n",
      "Test score: 1.3374466907\n",
      "Test accuracy: 0.330501152074\n",
      "4Layer\n",
      "elu\n",
      "RMSprop\n",
      "Train...\n",
      "Epoch 1/10\n",
      "2605/2605 [==============================] - 316s 121ms/step - loss: 1.4104 - acc: 0.3237 - val_loss: 3.5644 - val_acc: 0.3240\n",
      "Epoch 2/10\n",
      "2605/2605 [==============================] - 314s 121ms/step - loss: 1.3455 - acc: 0.3293 - val_loss: 2.2021 - val_acc: 0.3239\n",
      "Epoch 3/10\n",
      "2605/2605 [==============================] - 315s 121ms/step - loss: 1.3409 - acc: 0.3315 - val_loss: 1.5903 - val_acc: 0.3308\n",
      "Epoch 4/10\n",
      "2605/2605 [==============================] - 315s 121ms/step - loss: 1.3397 - acc: 0.3321 - val_loss: 1.4024 - val_acc: 0.3306\n",
      "Epoch 5/10\n",
      "2605/2605 [==============================] - 315s 121ms/step - loss: 1.3390 - acc: 0.3314 - val_loss: 1.4555 - val_acc: 0.3304\n",
      "Epoch 6/10\n",
      "2605/2605 [==============================] - 315s 121ms/step - loss: 1.3392 - acc: 0.3307 - val_loss: 1.4821 - val_acc: 0.3304\n",
      "Test score: 1.48208584159\n",
      "Test accuracy: 0.330405145929\n",
      "2Layer\n",
      "elu\n",
      "Adam\n",
      "Train...\n",
      "Epoch 1/10\n",
      "2605/2605 [==============================] - 311s 119ms/step - loss: 1.4279 - acc: 0.3354 - val_loss: 1.3456 - val_acc: 0.3425- los - ETA: 5:43 - loss: 3.84  - ETA: 4:45 - loss: 2.8847  - ETA: 4:26 - los - ETA: 4:21 - loss: 2.4214 - acc: 0 - ETA: 4:20 -  - ETA: 4:0 - ETA: 3:24 - lo -  - ETA: 3:18 - l - ETA - ETA: 3:11 -  - ETA: 3:09 - loss:  - ETA: 3:06 - loss: 1. - - ETA: 2:48 - loss: 1.59 - ETA: 2:46 - loss: 1.5864 - acc - ETA: 2:45 - loss: 1.5843 - acc: 0. - ETA: 2:45 - loss: 1.5832 - a - ETA: - ETA: 2:15 - loss: 1.526 - ETA: 2:14 - loss: 1.5245 - acc: 0 - ETA: 2:13 - - ETA: 2:10 - loss: 1.5201 - acc: 0. - ETA: 2:06 - loss: 1.51 - ETA: 2:00 - loss: 1.50 - ETA: 1:58 - loss: 1.50 - ET -  - ETA: 4s - - ETA: 1s - loss: 1.4285 - ac - ETA: 0s - loss: 1.4281 - acc: 0\n",
      "Epoch 2/10\n",
      "2605/2605 [==============================] - 311s 119ms/step - loss: 1.3478 - acc: 0.3369 - val_loss: 1.3373 - val_acc: 0.3313: 3:57 - lo - ETA:  - ETA: 3:35 - loss: 1.3389 - ac - ET  - ETA: 3:22 - loss: 1.3396 -  - ETA: 3:13 - loss:  - ETA: 3:11 - loss: 1.3400 - acc: 0.34 - ETA: 3:11  - ETA - ETA: 3: - ETA: 2:57 - loss: 1.3399 - acc: - ETA: 2:56 - loss: 1.3399 - acc: 0 - ETA: 2:56 - ETA: 2:53 - loss: 1.3407 - acc: - ETA: 2:52 - loss:  - ETA: - ETA: 2:47 - loss: 1.3417 - ac - ETA: 2:46 - loss: 1.3413 -  - ETA:  - ETA: - ETA: 8s - loss: 1.3473 - acc:\n",
      "Epoch 3/10\n",
      "2605/2605 [==============================] - 312s 120ms/step - loss: 1.3525 - acc: 0.3287 - val_loss: 1.3391 - val_acc: 0.32383 - ETA: 1s - loss: 1.3\n",
      "Epoch 4/10\n",
      "2605/2605 [==============================] - 311s 119ms/step - loss: 1.3507 - acc: 0.3298 - val_loss: 1.3390 - val_acc: 0.3241:  - ETA: 9s - loss: - ETA: 7s - loss: 1.3505 - acc: 0.33 - ETA: 7s - loss: 1.3505 - acc: - ETA: 6s - ETA: 3s - loss - ETA: 1s - loss: 1.3507 -\n",
      "Test score: 1.33905940799\n",
      "Test accuracy: 0.324020737327\n",
      "3Layer\n",
      "relu\n",
      "RMSprop\n",
      "Train...\n",
      "Epoch 1/10\n",
      "2605/2605 [==============================] - 335s 129ms/step - loss: 1.4128 - acc: 0.3486 - val_loss: 1.3352 - val_acc: 0.3501\n",
      "Epoch 2/10\n",
      "2605/2605 [==============================] - 333s 128ms/step - loss: 1.3234 - acc: 0.3676 - val_loss: 1.3308 - val_acc: 0.3460\n",
      "Epoch 3/10\n",
      "2605/2605 [==============================] - 334s 128ms/step - loss: 1.3162 - acc: 0.3761 - val_loss: 1.3251 - val_acc: 0.3439\n",
      "Epoch 4/10\n",
      "2605/2605 [==============================] - 333s 128ms/step - loss: 1.3110 - acc: 0.3816 - val_loss: 1.3408 - val_acc: 0.3306\n",
      "Test score: 1.34082667802\n",
      "Test accuracy: 0.330501152074\n",
      "4Layer\n",
      "relu\n",
      "RMSprop\n",
      "Train...\n",
      "Epoch 1/10\n"
     ]
    },
    {
     "name": "stdout",
     "output_type": "stream",
     "text": [
      "2605/2605 [==============================] - 378s 145ms/step - loss: 1.3606 - acc: 0.3316 - val_loss: 1.3378 - val_acc: 0.3305\n",
      "Epoch 2/10\n",
      "2605/2605 [==============================] - 375s 144ms/step - loss: 1.3361 - acc: 0.3333 - val_loss: 1.3377 - val_acc: 0.3305\n",
      "Epoch 3/10\n",
      "2605/2605 [==============================] - 374s 144ms/step - loss: 1.3349 - acc: 0.3414 - val_loss: 1.3388 - val_acc: 0.3238\n",
      "Epoch 4/10\n",
      "2605/2605 [==============================] - 375s 144ms/step - loss: 1.3343 - acc: 0.3440 - val_loss: 1.3381 - val_acc: 0.3241\n",
      "Test score: 1.33812372787\n",
      "Test accuracy: 0.324020737327\n",
      "2Layer\n",
      "relu\n",
      "Adam\n",
      "Train...\n",
      "Epoch 1/10\n",
      "2605/2605 [==============================] - 342s 131ms/step - loss: 1.6353 - acc: 0.3311 - val_loss: 1.3374 - val_acc: 0.3305\n",
      "Epoch 2/10\n",
      "2605/2605 [==============================] - 342s 131ms/step - loss: 1.3342 - acc: 0.3318 - val_loss: 1.3375 - val_acc: 0.3305\n",
      "Epoch 3/10\n",
      "2605/2605 [==============================] - 342s 131ms/step - loss: 1.3341 - acc: 0.3342 - val_loss: 1.3375 - val_acc: 0.3304\n",
      "Epoch 4/10\n",
      "2605/2605 [==============================] - 342s 131ms/step - loss: 1.3340 - acc: 0.3333 - val_loss: 1.3373 - val_acc: 0.3306\n",
      "Epoch 5/10\n",
      "2605/2605 [==============================] - 343s 132ms/step - loss: 1.3340 - acc: 0.3340 - val_loss: 1.3375 - val_acc: 0.3304\n",
      "Epoch 6/10\n",
      "2605/2605 [==============================] - 344s 132ms/step - loss: 1.3340 - acc: 0.3339 - val_loss: 1.3374 - val_acc: 0.3305\n",
      "Epoch 7/10\n",
      "2605/2605 [==============================] - 344s 132ms/step - loss: 1.3341 - acc: 0.3333 - val_loss: 1.3374 - val_acc: 0.3306\n",
      "Test score: 1.3373437761\n",
      "Test accuracy: 0.330501152074\n",
      "3Layer\n",
      "relu\n",
      "Adam\n",
      "Train...\n",
      "Epoch 1/10\n",
      "2605/2605 [==============================] - 352s 135ms/step - loss: 10.7191 - acc: 0.3347 - val_loss: 10.7239 - val_acc: 0.3305\n",
      "Epoch 2/10\n",
      "2605/2605 [==============================] - 350s 134ms/step - loss: 10.7219 - acc: 0.3348 - val_loss: 10.7239 - val_acc: 0.3305\n",
      "Epoch 3/10\n",
      "2605/2605 [==============================] - 352s 135ms/step - loss: 10.7217 - acc: 0.3348 - val_loss: 10.7254 - val_acc: 0.3304\n",
      "Epoch 4/10\n",
      "2605/2605 [==============================] - 350s 134ms/step - loss: 10.7221 - acc: 0.3348 - val_loss: 10.7224 - val_acc: 0.3306\n",
      "Epoch 5/10\n",
      "2605/2605 [==============================] - 351s 135ms/step - loss: 10.7219 - acc: 0.3348 - val_loss: 10.7254 - val_acc: 0.3304\n",
      "Epoch 6/10\n",
      "2605/2605 [==============================] - 351s 135ms/step - loss: 10.7227 - acc: 0.3347 - val_loss: 10.7239 - val_acc: 0.3305\n",
      "Epoch 7/10\n",
      "2605/2605 [==============================] - 353s 135ms/step - loss: 10.7219 - acc: 0.3348 - val_loss: 10.7225 - val_acc: 0.3306\n",
      "Test score: 10.7239011488\n",
      "Test accuracy: 0.330501152074\n",
      "2Layer\n",
      "elu\n",
      "Adam\n",
      "Train...\n",
      "Epoch 1/10\n",
      "2605/2605 [==============================] - 356s 137ms/step - loss: 1.3477 - acc: 0.3532 - val_loss: 1.3019 - val_acc: 0.3950\n",
      "Epoch 2/10\n",
      "2605/2605 [==============================] - 354s 136ms/step - loss: 1.2819 - acc: 0.3953 - val_loss: 1.2085 - val_acc: 0.4344\n",
      "Epoch 3/10\n",
      "2605/2605 [==============================] - 355s 136ms/step - loss: 1.2081 - acc: 0.4440 - val_loss: 1.1699 - val_acc: 0.4594\n",
      "Epoch 4/10\n",
      "2605/2605 [==============================] - 356s 136ms/step - loss: 1.1796 - acc: 0.4598 - val_loss: 1.1973 - val_acc: 0.4489\n",
      "Epoch 5/10\n",
      "2605/2605 [==============================] - 356s 137ms/step - loss: 1.1533 - acc: 0.4770 - val_loss: 1.2387 - val_acc: 0.4410\n",
      "Epoch 6/10\n",
      "2605/2605 [==============================] - 369s 142ms/step - loss: 1.1160 - acc: 0.4963 - val_loss: 1.2331 - val_acc: 0.4421\n",
      "Test score: 1.23295413532\n",
      "Test accuracy: 0.442060291859\n",
      "3Layer\n",
      "elu\n",
      "Adam\n",
      "Train...\n",
      "Epoch 1/10\n",
      " 991/2605 [==========>...................] - ETA: 3:08 - loss: 10.8172 - acc: 0.3267"
     ]
    },
    {
     "ename": "KeyboardInterrupt",
     "evalue": "",
     "output_type": "error",
     "traceback": [
      "\u001b[1;31m---------------------------------------------------------------------------\u001b[0m",
      "\u001b[1;31mKeyboardInterrupt\u001b[0m                         Traceback (most recent call last)",
      "\u001b[1;32m<timed exec>\u001b[0m in \u001b[0;36m<module>\u001b[1;34m()\u001b[0m\n",
      "\u001b[1;32m~\\AppData\\Local\\conda\\conda\\envs\\bachelor\\lib\\site-packages\\hyperas\\optim.py\u001b[0m in \u001b[0;36mminimize\u001b[1;34m(model, data, algo, max_evals, trials, functions, rseed, notebook_name, verbose, eval_space, return_space)\u001b[0m\n\u001b[0;32m     65\u001b[0m                                      \u001b[0mfull_model_string\u001b[0m\u001b[1;33m=\u001b[0m\u001b[1;32mNone\u001b[0m\u001b[1;33m,\u001b[0m\u001b[1;33m\u001b[0m\u001b[0m\n\u001b[0;32m     66\u001b[0m                                      \u001b[0mnotebook_name\u001b[0m\u001b[1;33m=\u001b[0m\u001b[0mnotebook_name\u001b[0m\u001b[1;33m,\u001b[0m\u001b[1;33m\u001b[0m\u001b[0m\n\u001b[1;32m---> 67\u001b[1;33m                                      verbose=verbose)\n\u001b[0m\u001b[0;32m     68\u001b[0m \u001b[1;33m\u001b[0m\u001b[0m\n\u001b[0;32m     69\u001b[0m     \u001b[0mbest_model\u001b[0m \u001b[1;33m=\u001b[0m \u001b[1;32mNone\u001b[0m\u001b[1;33m\u001b[0m\u001b[0m\n",
      "\u001b[1;32m~\\AppData\\Local\\conda\\conda\\envs\\bachelor\\lib\\site-packages\\hyperas\\optim.py\u001b[0m in \u001b[0;36mbase_minimizer\u001b[1;34m(model, data, functions, algo, max_evals, trials, rseed, full_model_string, notebook_name, verbose, stack)\u001b[0m\n\u001b[0;32m    131\u001b[0m              \u001b[0mtrials\u001b[0m\u001b[1;33m=\u001b[0m\u001b[0mtrials\u001b[0m\u001b[1;33m,\u001b[0m\u001b[1;33m\u001b[0m\u001b[0m\n\u001b[0;32m    132\u001b[0m              \u001b[0mrstate\u001b[0m\u001b[1;33m=\u001b[0m\u001b[0mnp\u001b[0m\u001b[1;33m.\u001b[0m\u001b[0mrandom\u001b[0m\u001b[1;33m.\u001b[0m\u001b[0mRandomState\u001b[0m\u001b[1;33m(\u001b[0m\u001b[0mrseed\u001b[0m\u001b[1;33m)\u001b[0m\u001b[1;33m,\u001b[0m\u001b[1;33m\u001b[0m\u001b[0m\n\u001b[1;32m--> 133\u001b[1;33m              return_argmin=True),\n\u001b[0m\u001b[0;32m    134\u001b[0m         \u001b[0mget_space\u001b[0m\u001b[1;33m(\u001b[0m\u001b[1;33m)\u001b[0m\u001b[1;33m\u001b[0m\u001b[0m\n\u001b[0;32m    135\u001b[0m     )\n",
      "\u001b[1;32m~\\AppData\\Local\\conda\\conda\\envs\\bachelor\\lib\\site-packages\\hyperopt\\fmin.py\u001b[0m in \u001b[0;36mfmin\u001b[1;34m(fn, space, algo, max_evals, trials, rstate, allow_trials_fmin, pass_expr_memo_ctrl, catch_eval_exceptions, verbose, return_argmin)\u001b[0m\n\u001b[0;32m    305\u001b[0m             \u001b[0mverbose\u001b[0m\u001b[1;33m=\u001b[0m\u001b[0mverbose\u001b[0m\u001b[1;33m,\u001b[0m\u001b[1;33m\u001b[0m\u001b[0m\n\u001b[0;32m    306\u001b[0m             \u001b[0mcatch_eval_exceptions\u001b[0m\u001b[1;33m=\u001b[0m\u001b[0mcatch_eval_exceptions\u001b[0m\u001b[1;33m,\u001b[0m\u001b[1;33m\u001b[0m\u001b[0m\n\u001b[1;32m--> 307\u001b[1;33m             \u001b[0mreturn_argmin\u001b[0m\u001b[1;33m=\u001b[0m\u001b[0mreturn_argmin\u001b[0m\u001b[1;33m,\u001b[0m\u001b[1;33m\u001b[0m\u001b[0m\n\u001b[0m\u001b[0;32m    308\u001b[0m         )\n\u001b[0;32m    309\u001b[0m \u001b[1;33m\u001b[0m\u001b[0m\n",
      "\u001b[1;32m~\\AppData\\Local\\conda\\conda\\envs\\bachelor\\lib\\site-packages\\hyperopt\\base.py\u001b[0m in \u001b[0;36mfmin\u001b[1;34m(self, fn, space, algo, max_evals, rstate, verbose, pass_expr_memo_ctrl, catch_eval_exceptions, return_argmin)\u001b[0m\n\u001b[0;32m    633\u001b[0m             \u001b[0mpass_expr_memo_ctrl\u001b[0m\u001b[1;33m=\u001b[0m\u001b[0mpass_expr_memo_ctrl\u001b[0m\u001b[1;33m,\u001b[0m\u001b[1;33m\u001b[0m\u001b[0m\n\u001b[0;32m    634\u001b[0m             \u001b[0mcatch_eval_exceptions\u001b[0m\u001b[1;33m=\u001b[0m\u001b[0mcatch_eval_exceptions\u001b[0m\u001b[1;33m,\u001b[0m\u001b[1;33m\u001b[0m\u001b[0m\n\u001b[1;32m--> 635\u001b[1;33m             return_argmin=return_argmin)\n\u001b[0m\u001b[0;32m    636\u001b[0m \u001b[1;33m\u001b[0m\u001b[0m\n\u001b[0;32m    637\u001b[0m \u001b[1;33m\u001b[0m\u001b[0m\n",
      "\u001b[1;32m~\\AppData\\Local\\conda\\conda\\envs\\bachelor\\lib\\site-packages\\hyperopt\\fmin.py\u001b[0m in \u001b[0;36mfmin\u001b[1;34m(fn, space, algo, max_evals, trials, rstate, allow_trials_fmin, pass_expr_memo_ctrl, catch_eval_exceptions, verbose, return_argmin)\u001b[0m\n\u001b[0;32m    318\u001b[0m                     verbose=verbose)\n\u001b[0;32m    319\u001b[0m     \u001b[0mrval\u001b[0m\u001b[1;33m.\u001b[0m\u001b[0mcatch_eval_exceptions\u001b[0m \u001b[1;33m=\u001b[0m \u001b[0mcatch_eval_exceptions\u001b[0m\u001b[1;33m\u001b[0m\u001b[0m\n\u001b[1;32m--> 320\u001b[1;33m     \u001b[0mrval\u001b[0m\u001b[1;33m.\u001b[0m\u001b[0mexhaust\u001b[0m\u001b[1;33m(\u001b[0m\u001b[1;33m)\u001b[0m\u001b[1;33m\u001b[0m\u001b[0m\n\u001b[0m\u001b[0;32m    321\u001b[0m     \u001b[1;32mif\u001b[0m \u001b[0mreturn_argmin\u001b[0m\u001b[1;33m:\u001b[0m\u001b[1;33m\u001b[0m\u001b[0m\n\u001b[0;32m    322\u001b[0m         \u001b[1;32mreturn\u001b[0m \u001b[0mtrials\u001b[0m\u001b[1;33m.\u001b[0m\u001b[0margmin\u001b[0m\u001b[1;33m\u001b[0m\u001b[0m\n",
      "\u001b[1;32m~\\AppData\\Local\\conda\\conda\\envs\\bachelor\\lib\\site-packages\\hyperopt\\fmin.py\u001b[0m in \u001b[0;36mexhaust\u001b[1;34m(self)\u001b[0m\n\u001b[0;32m    197\u001b[0m     \u001b[1;32mdef\u001b[0m \u001b[0mexhaust\u001b[0m\u001b[1;33m(\u001b[0m\u001b[0mself\u001b[0m\u001b[1;33m)\u001b[0m\u001b[1;33m:\u001b[0m\u001b[1;33m\u001b[0m\u001b[0m\n\u001b[0;32m    198\u001b[0m         \u001b[0mn_done\u001b[0m \u001b[1;33m=\u001b[0m \u001b[0mlen\u001b[0m\u001b[1;33m(\u001b[0m\u001b[0mself\u001b[0m\u001b[1;33m.\u001b[0m\u001b[0mtrials\u001b[0m\u001b[1;33m)\u001b[0m\u001b[1;33m\u001b[0m\u001b[0m\n\u001b[1;32m--> 199\u001b[1;33m         \u001b[0mself\u001b[0m\u001b[1;33m.\u001b[0m\u001b[0mrun\u001b[0m\u001b[1;33m(\u001b[0m\u001b[0mself\u001b[0m\u001b[1;33m.\u001b[0m\u001b[0mmax_evals\u001b[0m \u001b[1;33m-\u001b[0m \u001b[0mn_done\u001b[0m\u001b[1;33m,\u001b[0m \u001b[0mblock_until_done\u001b[0m\u001b[1;33m=\u001b[0m\u001b[0mself\u001b[0m\u001b[1;33m.\u001b[0m\u001b[0masync\u001b[0m\u001b[1;33m)\u001b[0m\u001b[1;33m\u001b[0m\u001b[0m\n\u001b[0m\u001b[0;32m    200\u001b[0m         \u001b[0mself\u001b[0m\u001b[1;33m.\u001b[0m\u001b[0mtrials\u001b[0m\u001b[1;33m.\u001b[0m\u001b[0mrefresh\u001b[0m\u001b[1;33m(\u001b[0m\u001b[1;33m)\u001b[0m\u001b[1;33m\u001b[0m\u001b[0m\n\u001b[0;32m    201\u001b[0m         \u001b[1;32mreturn\u001b[0m \u001b[0mself\u001b[0m\u001b[1;33m\u001b[0m\u001b[0m\n",
      "\u001b[1;32m~\\AppData\\Local\\conda\\conda\\envs\\bachelor\\lib\\site-packages\\hyperopt\\fmin.py\u001b[0m in \u001b[0;36mrun\u001b[1;34m(self, N, block_until_done)\u001b[0m\n\u001b[0;32m    171\u001b[0m             \u001b[1;32melse\u001b[0m\u001b[1;33m:\u001b[0m\u001b[1;33m\u001b[0m\u001b[0m\n\u001b[0;32m    172\u001b[0m                 \u001b[1;31m# -- loop over trials and do the jobs directly\u001b[0m\u001b[1;33m\u001b[0m\u001b[1;33m\u001b[0m\u001b[0m\n\u001b[1;32m--> 173\u001b[1;33m                 \u001b[0mself\u001b[0m\u001b[1;33m.\u001b[0m\u001b[0mserial_evaluate\u001b[0m\u001b[1;33m(\u001b[0m\u001b[1;33m)\u001b[0m\u001b[1;33m\u001b[0m\u001b[0m\n\u001b[0m\u001b[0;32m    174\u001b[0m \u001b[1;33m\u001b[0m\u001b[0m\n\u001b[0;32m    175\u001b[0m             \u001b[1;32mif\u001b[0m \u001b[0mstopped\u001b[0m\u001b[1;33m:\u001b[0m\u001b[1;33m\u001b[0m\u001b[0m\n",
      "\u001b[1;32m~\\AppData\\Local\\conda\\conda\\envs\\bachelor\\lib\\site-packages\\hyperopt\\fmin.py\u001b[0m in \u001b[0;36mserial_evaluate\u001b[1;34m(self, N)\u001b[0m\n\u001b[0;32m     90\u001b[0m                 \u001b[0mctrl\u001b[0m \u001b[1;33m=\u001b[0m \u001b[0mbase\u001b[0m\u001b[1;33m.\u001b[0m\u001b[0mCtrl\u001b[0m\u001b[1;33m(\u001b[0m\u001b[0mself\u001b[0m\u001b[1;33m.\u001b[0m\u001b[0mtrials\u001b[0m\u001b[1;33m,\u001b[0m \u001b[0mcurrent_trial\u001b[0m\u001b[1;33m=\u001b[0m\u001b[0mtrial\u001b[0m\u001b[1;33m)\u001b[0m\u001b[1;33m\u001b[0m\u001b[0m\n\u001b[0;32m     91\u001b[0m                 \u001b[1;32mtry\u001b[0m\u001b[1;33m:\u001b[0m\u001b[1;33m\u001b[0m\u001b[0m\n\u001b[1;32m---> 92\u001b[1;33m                     \u001b[0mresult\u001b[0m \u001b[1;33m=\u001b[0m \u001b[0mself\u001b[0m\u001b[1;33m.\u001b[0m\u001b[0mdomain\u001b[0m\u001b[1;33m.\u001b[0m\u001b[0mevaluate\u001b[0m\u001b[1;33m(\u001b[0m\u001b[0mspec\u001b[0m\u001b[1;33m,\u001b[0m \u001b[0mctrl\u001b[0m\u001b[1;33m)\u001b[0m\u001b[1;33m\u001b[0m\u001b[0m\n\u001b[0m\u001b[0;32m     93\u001b[0m                 \u001b[1;32mexcept\u001b[0m \u001b[0mException\u001b[0m \u001b[1;32mas\u001b[0m \u001b[0me\u001b[0m\u001b[1;33m:\u001b[0m\u001b[1;33m\u001b[0m\u001b[0m\n\u001b[0;32m     94\u001b[0m                     \u001b[0mlogger\u001b[0m\u001b[1;33m.\u001b[0m\u001b[0minfo\u001b[0m\u001b[1;33m(\u001b[0m\u001b[1;34m'job exception: %s'\u001b[0m \u001b[1;33m%\u001b[0m \u001b[0mstr\u001b[0m\u001b[1;33m(\u001b[0m\u001b[0me\u001b[0m\u001b[1;33m)\u001b[0m\u001b[1;33m)\u001b[0m\u001b[1;33m\u001b[0m\u001b[0m\n",
      "\u001b[1;32m~\\AppData\\Local\\conda\\conda\\envs\\bachelor\\lib\\site-packages\\hyperopt\\base.py\u001b[0m in \u001b[0;36mevaluate\u001b[1;34m(self, config, ctrl, attach_attachments)\u001b[0m\n\u001b[0;32m    838\u001b[0m                 \u001b[0mmemo\u001b[0m\u001b[1;33m=\u001b[0m\u001b[0mmemo\u001b[0m\u001b[1;33m,\u001b[0m\u001b[1;33m\u001b[0m\u001b[0m\n\u001b[0;32m    839\u001b[0m                 print_node_on_error=self.rec_eval_print_node_on_error)\n\u001b[1;32m--> 840\u001b[1;33m             \u001b[0mrval\u001b[0m \u001b[1;33m=\u001b[0m \u001b[0mself\u001b[0m\u001b[1;33m.\u001b[0m\u001b[0mfn\u001b[0m\u001b[1;33m(\u001b[0m\u001b[0mpyll_rval\u001b[0m\u001b[1;33m)\u001b[0m\u001b[1;33m\u001b[0m\u001b[0m\n\u001b[0m\u001b[0;32m    841\u001b[0m \u001b[1;33m\u001b[0m\u001b[0m\n\u001b[0;32m    842\u001b[0m         \u001b[1;32mif\u001b[0m \u001b[0misinstance\u001b[0m\u001b[1;33m(\u001b[0m\u001b[0mrval\u001b[0m\u001b[1;33m,\u001b[0m \u001b[1;33m(\u001b[0m\u001b[0mfloat\u001b[0m\u001b[1;33m,\u001b[0m \u001b[0mint\u001b[0m\u001b[1;33m,\u001b[0m \u001b[0mnp\u001b[0m\u001b[1;33m.\u001b[0m\u001b[0mnumber\u001b[0m\u001b[1;33m)\u001b[0m\u001b[1;33m)\u001b[0m\u001b[1;33m:\u001b[0m\u001b[1;33m\u001b[0m\u001b[0m\n",
      "\u001b[1;32m~\\Documents\\FahrradwegeKlassifizierung\\faltungsnetze\\temp_model.py\u001b[0m in \u001b[0;36mkeras_fmin_fnct\u001b[1;34m(space)\u001b[0m\n",
      "\u001b[1;32m~\\AppData\\Local\\conda\\conda\\envs\\bachelor\\lib\\site-packages\\keras\\legacy\\interfaces.py\u001b[0m in \u001b[0;36mwrapper\u001b[1;34m(*args, **kwargs)\u001b[0m\n\u001b[0;32m     89\u001b[0m                 warnings.warn('Update your `' + object_name +\n\u001b[0;32m     90\u001b[0m                               '` call to the Keras 2 API: ' + signature, stacklevel=2)\n\u001b[1;32m---> 91\u001b[1;33m             \u001b[1;32mreturn\u001b[0m \u001b[0mfunc\u001b[0m\u001b[1;33m(\u001b[0m\u001b[1;33m*\u001b[0m\u001b[0margs\u001b[0m\u001b[1;33m,\u001b[0m \u001b[1;33m**\u001b[0m\u001b[0mkwargs\u001b[0m\u001b[1;33m)\u001b[0m\u001b[1;33m\u001b[0m\u001b[0m\n\u001b[0m\u001b[0;32m     92\u001b[0m         \u001b[0mwrapper\u001b[0m\u001b[1;33m.\u001b[0m\u001b[0m_original_function\u001b[0m \u001b[1;33m=\u001b[0m \u001b[0mfunc\u001b[0m\u001b[1;33m\u001b[0m\u001b[0m\n\u001b[0;32m     93\u001b[0m         \u001b[1;32mreturn\u001b[0m \u001b[0mwrapper\u001b[0m\u001b[1;33m\u001b[0m\u001b[0m\n",
      "\u001b[1;32m~\\AppData\\Local\\conda\\conda\\envs\\bachelor\\lib\\site-packages\\keras\\models.py\u001b[0m in \u001b[0;36mfit_generator\u001b[1;34m(self, generator, steps_per_epoch, epochs, verbose, callbacks, validation_data, validation_steps, class_weight, max_queue_size, workers, use_multiprocessing, shuffle, initial_epoch)\u001b[0m\n\u001b[0;32m   1251\u001b[0m                                         \u001b[0muse_multiprocessing\u001b[0m\u001b[1;33m=\u001b[0m\u001b[0muse_multiprocessing\u001b[0m\u001b[1;33m,\u001b[0m\u001b[1;33m\u001b[0m\u001b[0m\n\u001b[0;32m   1252\u001b[0m                                         \u001b[0mshuffle\u001b[0m\u001b[1;33m=\u001b[0m\u001b[0mshuffle\u001b[0m\u001b[1;33m,\u001b[0m\u001b[1;33m\u001b[0m\u001b[0m\n\u001b[1;32m-> 1253\u001b[1;33m                                         initial_epoch=initial_epoch)\n\u001b[0m\u001b[0;32m   1254\u001b[0m \u001b[1;33m\u001b[0m\u001b[0m\n\u001b[0;32m   1255\u001b[0m     \u001b[1;33m@\u001b[0m\u001b[0minterfaces\u001b[0m\u001b[1;33m.\u001b[0m\u001b[0mlegacy_generator_methods_support\u001b[0m\u001b[1;33m\u001b[0m\u001b[0m\n",
      "\u001b[1;32m~\\AppData\\Local\\conda\\conda\\envs\\bachelor\\lib\\site-packages\\keras\\legacy\\interfaces.py\u001b[0m in \u001b[0;36mwrapper\u001b[1;34m(*args, **kwargs)\u001b[0m\n\u001b[0;32m     89\u001b[0m                 warnings.warn('Update your `' + object_name +\n\u001b[0;32m     90\u001b[0m                               '` call to the Keras 2 API: ' + signature, stacklevel=2)\n\u001b[1;32m---> 91\u001b[1;33m             \u001b[1;32mreturn\u001b[0m \u001b[0mfunc\u001b[0m\u001b[1;33m(\u001b[0m\u001b[1;33m*\u001b[0m\u001b[0margs\u001b[0m\u001b[1;33m,\u001b[0m \u001b[1;33m**\u001b[0m\u001b[0mkwargs\u001b[0m\u001b[1;33m)\u001b[0m\u001b[1;33m\u001b[0m\u001b[0m\n\u001b[0m\u001b[0;32m     92\u001b[0m         \u001b[0mwrapper\u001b[0m\u001b[1;33m.\u001b[0m\u001b[0m_original_function\u001b[0m \u001b[1;33m=\u001b[0m \u001b[0mfunc\u001b[0m\u001b[1;33m\u001b[0m\u001b[0m\n\u001b[0;32m     93\u001b[0m         \u001b[1;32mreturn\u001b[0m \u001b[0mwrapper\u001b[0m\u001b[1;33m\u001b[0m\u001b[0m\n",
      "\u001b[1;32m~\\AppData\\Local\\conda\\conda\\envs\\bachelor\\lib\\site-packages\\keras\\engine\\training.py\u001b[0m in \u001b[0;36mfit_generator\u001b[1;34m(self, generator, steps_per_epoch, epochs, verbose, callbacks, validation_data, validation_steps, class_weight, max_queue_size, workers, use_multiprocessing, shuffle, initial_epoch)\u001b[0m\n\u001b[0;32m   2242\u001b[0m                     outs = self.train_on_batch(x, y,\n\u001b[0;32m   2243\u001b[0m                                                \u001b[0msample_weight\u001b[0m\u001b[1;33m=\u001b[0m\u001b[0msample_weight\u001b[0m\u001b[1;33m,\u001b[0m\u001b[1;33m\u001b[0m\u001b[0m\n\u001b[1;32m-> 2244\u001b[1;33m                                                class_weight=class_weight)\n\u001b[0m\u001b[0;32m   2245\u001b[0m \u001b[1;33m\u001b[0m\u001b[0m\n\u001b[0;32m   2246\u001b[0m                     \u001b[1;32mif\u001b[0m \u001b[1;32mnot\u001b[0m \u001b[0misinstance\u001b[0m\u001b[1;33m(\u001b[0m\u001b[0mouts\u001b[0m\u001b[1;33m,\u001b[0m \u001b[0mlist\u001b[0m\u001b[1;33m)\u001b[0m\u001b[1;33m:\u001b[0m\u001b[1;33m\u001b[0m\u001b[0m\n",
      "\u001b[1;32m~\\AppData\\Local\\conda\\conda\\envs\\bachelor\\lib\\site-packages\\keras\\engine\\training.py\u001b[0m in \u001b[0;36mtrain_on_batch\u001b[1;34m(self, x, y, sample_weight, class_weight)\u001b[0m\n\u001b[0;32m   1888\u001b[0m             \u001b[0mins\u001b[0m \u001b[1;33m=\u001b[0m \u001b[0mx\u001b[0m \u001b[1;33m+\u001b[0m \u001b[0my\u001b[0m \u001b[1;33m+\u001b[0m \u001b[0msample_weights\u001b[0m\u001b[1;33m\u001b[0m\u001b[0m\n\u001b[0;32m   1889\u001b[0m         \u001b[0mself\u001b[0m\u001b[1;33m.\u001b[0m\u001b[0m_make_train_function\u001b[0m\u001b[1;33m(\u001b[0m\u001b[1;33m)\u001b[0m\u001b[1;33m\u001b[0m\u001b[0m\n\u001b[1;32m-> 1890\u001b[1;33m         \u001b[0moutputs\u001b[0m \u001b[1;33m=\u001b[0m \u001b[0mself\u001b[0m\u001b[1;33m.\u001b[0m\u001b[0mtrain_function\u001b[0m\u001b[1;33m(\u001b[0m\u001b[0mins\u001b[0m\u001b[1;33m)\u001b[0m\u001b[1;33m\u001b[0m\u001b[0m\n\u001b[0m\u001b[0;32m   1891\u001b[0m         \u001b[1;32mif\u001b[0m \u001b[0mlen\u001b[0m\u001b[1;33m(\u001b[0m\u001b[0moutputs\u001b[0m\u001b[1;33m)\u001b[0m \u001b[1;33m==\u001b[0m \u001b[1;36m1\u001b[0m\u001b[1;33m:\u001b[0m\u001b[1;33m\u001b[0m\u001b[0m\n\u001b[0;32m   1892\u001b[0m             \u001b[1;32mreturn\u001b[0m \u001b[0moutputs\u001b[0m\u001b[1;33m[\u001b[0m\u001b[1;36m0\u001b[0m\u001b[1;33m]\u001b[0m\u001b[1;33m\u001b[0m\u001b[0m\n",
      "\u001b[1;32m~\\AppData\\Local\\conda\\conda\\envs\\bachelor\\lib\\site-packages\\keras\\backend\\tensorflow_backend.py\u001b[0m in \u001b[0;36m__call__\u001b[1;34m(self, inputs)\u001b[0m\n\u001b[0;32m   2473\u001b[0m         \u001b[0msession\u001b[0m \u001b[1;33m=\u001b[0m \u001b[0mget_session\u001b[0m\u001b[1;33m(\u001b[0m\u001b[1;33m)\u001b[0m\u001b[1;33m\u001b[0m\u001b[0m\n\u001b[0;32m   2474\u001b[0m         updated = session.run(fetches=fetches, feed_dict=feed_dict,\n\u001b[1;32m-> 2475\u001b[1;33m                               **self.session_kwargs)\n\u001b[0m\u001b[0;32m   2476\u001b[0m         \u001b[1;32mreturn\u001b[0m \u001b[0mupdated\u001b[0m\u001b[1;33m[\u001b[0m\u001b[1;33m:\u001b[0m\u001b[0mlen\u001b[0m\u001b[1;33m(\u001b[0m\u001b[0mself\u001b[0m\u001b[1;33m.\u001b[0m\u001b[0moutputs\u001b[0m\u001b[1;33m)\u001b[0m\u001b[1;33m]\u001b[0m\u001b[1;33m\u001b[0m\u001b[0m\n\u001b[0;32m   2477\u001b[0m \u001b[1;33m\u001b[0m\u001b[0m\n",
      "\u001b[1;32m~\\AppData\\Local\\conda\\conda\\envs\\bachelor\\lib\\site-packages\\tensorflow\\python\\client\\session.py\u001b[0m in \u001b[0;36mrun\u001b[1;34m(self, fetches, feed_dict, options, run_metadata)\u001b[0m\n\u001b[0;32m    776\u001b[0m     \u001b[1;32mtry\u001b[0m\u001b[1;33m:\u001b[0m\u001b[1;33m\u001b[0m\u001b[0m\n\u001b[0;32m    777\u001b[0m       result = self._run(None, fetches, feed_dict, options_ptr,\n\u001b[1;32m--> 778\u001b[1;33m                          run_metadata_ptr)\n\u001b[0m\u001b[0;32m    779\u001b[0m       \u001b[1;32mif\u001b[0m \u001b[0mrun_metadata\u001b[0m\u001b[1;33m:\u001b[0m\u001b[1;33m\u001b[0m\u001b[0m\n\u001b[0;32m    780\u001b[0m         \u001b[0mproto_data\u001b[0m \u001b[1;33m=\u001b[0m \u001b[0mtf_session\u001b[0m\u001b[1;33m.\u001b[0m\u001b[0mTF_GetBuffer\u001b[0m\u001b[1;33m(\u001b[0m\u001b[0mrun_metadata_ptr\u001b[0m\u001b[1;33m)\u001b[0m\u001b[1;33m\u001b[0m\u001b[0m\n",
      "\u001b[1;32m~\\AppData\\Local\\conda\\conda\\envs\\bachelor\\lib\\site-packages\\tensorflow\\python\\client\\session.py\u001b[0m in \u001b[0;36m_run\u001b[1;34m(self, handle, fetches, feed_dict, options, run_metadata)\u001b[0m\n\u001b[0;32m    980\u001b[0m     \u001b[1;32mif\u001b[0m \u001b[0mfinal_fetches\u001b[0m \u001b[1;32mor\u001b[0m \u001b[0mfinal_targets\u001b[0m\u001b[1;33m:\u001b[0m\u001b[1;33m\u001b[0m\u001b[0m\n\u001b[0;32m    981\u001b[0m       results = self._do_run(handle, final_targets, final_fetches,\n\u001b[1;32m--> 982\u001b[1;33m                              feed_dict_string, options, run_metadata)\n\u001b[0m\u001b[0;32m    983\u001b[0m     \u001b[1;32melse\u001b[0m\u001b[1;33m:\u001b[0m\u001b[1;33m\u001b[0m\u001b[0m\n\u001b[0;32m    984\u001b[0m       \u001b[0mresults\u001b[0m \u001b[1;33m=\u001b[0m \u001b[1;33m[\u001b[0m\u001b[1;33m]\u001b[0m\u001b[1;33m\u001b[0m\u001b[0m\n",
      "\u001b[1;32m~\\AppData\\Local\\conda\\conda\\envs\\bachelor\\lib\\site-packages\\tensorflow\\python\\client\\session.py\u001b[0m in \u001b[0;36m_do_run\u001b[1;34m(self, handle, target_list, fetch_list, feed_dict, options, run_metadata)\u001b[0m\n\u001b[0;32m   1030\u001b[0m     \u001b[1;32mif\u001b[0m \u001b[0mhandle\u001b[0m \u001b[1;32mis\u001b[0m \u001b[1;32mNone\u001b[0m\u001b[1;33m:\u001b[0m\u001b[1;33m\u001b[0m\u001b[0m\n\u001b[0;32m   1031\u001b[0m       return self._do_call(_run_fn, self._session, feed_dict, fetch_list,\n\u001b[1;32m-> 1032\u001b[1;33m                            target_list, options, run_metadata)\n\u001b[0m\u001b[0;32m   1033\u001b[0m     \u001b[1;32melse\u001b[0m\u001b[1;33m:\u001b[0m\u001b[1;33m\u001b[0m\u001b[0m\n\u001b[0;32m   1034\u001b[0m       return self._do_call(_prun_fn, self._session, handle, feed_dict,\n",
      "\u001b[1;32m~\\AppData\\Local\\conda\\conda\\envs\\bachelor\\lib\\site-packages\\tensorflow\\python\\client\\session.py\u001b[0m in \u001b[0;36m_do_call\u001b[1;34m(self, fn, *args)\u001b[0m\n\u001b[0;32m   1037\u001b[0m   \u001b[1;32mdef\u001b[0m \u001b[0m_do_call\u001b[0m\u001b[1;33m(\u001b[0m\u001b[0mself\u001b[0m\u001b[1;33m,\u001b[0m \u001b[0mfn\u001b[0m\u001b[1;33m,\u001b[0m \u001b[1;33m*\u001b[0m\u001b[0margs\u001b[0m\u001b[1;33m)\u001b[0m\u001b[1;33m:\u001b[0m\u001b[1;33m\u001b[0m\u001b[0m\n\u001b[0;32m   1038\u001b[0m     \u001b[1;32mtry\u001b[0m\u001b[1;33m:\u001b[0m\u001b[1;33m\u001b[0m\u001b[0m\n\u001b[1;32m-> 1039\u001b[1;33m       \u001b[1;32mreturn\u001b[0m \u001b[0mfn\u001b[0m\u001b[1;33m(\u001b[0m\u001b[1;33m*\u001b[0m\u001b[0margs\u001b[0m\u001b[1;33m)\u001b[0m\u001b[1;33m\u001b[0m\u001b[0m\n\u001b[0m\u001b[0;32m   1040\u001b[0m     \u001b[1;32mexcept\u001b[0m \u001b[0merrors\u001b[0m\u001b[1;33m.\u001b[0m\u001b[0mOpError\u001b[0m \u001b[1;32mas\u001b[0m \u001b[0me\u001b[0m\u001b[1;33m:\u001b[0m\u001b[1;33m\u001b[0m\u001b[0m\n\u001b[0;32m   1041\u001b[0m       \u001b[0mmessage\u001b[0m \u001b[1;33m=\u001b[0m \u001b[0mcompat\u001b[0m\u001b[1;33m.\u001b[0m\u001b[0mas_text\u001b[0m\u001b[1;33m(\u001b[0m\u001b[0me\u001b[0m\u001b[1;33m.\u001b[0m\u001b[0mmessage\u001b[0m\u001b[1;33m)\u001b[0m\u001b[1;33m\u001b[0m\u001b[0m\n",
      "\u001b[1;32m~\\AppData\\Local\\conda\\conda\\envs\\bachelor\\lib\\site-packages\\tensorflow\\python\\client\\session.py\u001b[0m in \u001b[0;36m_run_fn\u001b[1;34m(session, feed_dict, fetch_list, target_list, options, run_metadata)\u001b[0m\n\u001b[0;32m   1019\u001b[0m         return tf_session.TF_Run(session, options,\n\u001b[0;32m   1020\u001b[0m                                  \u001b[0mfeed_dict\u001b[0m\u001b[1;33m,\u001b[0m \u001b[0mfetch_list\u001b[0m\u001b[1;33m,\u001b[0m \u001b[0mtarget_list\u001b[0m\u001b[1;33m,\u001b[0m\u001b[1;33m\u001b[0m\u001b[0m\n\u001b[1;32m-> 1021\u001b[1;33m                                  status, run_metadata)\n\u001b[0m\u001b[0;32m   1022\u001b[0m \u001b[1;33m\u001b[0m\u001b[0m\n\u001b[0;32m   1023\u001b[0m     \u001b[1;32mdef\u001b[0m \u001b[0m_prun_fn\u001b[0m\u001b[1;33m(\u001b[0m\u001b[0msession\u001b[0m\u001b[1;33m,\u001b[0m \u001b[0mhandle\u001b[0m\u001b[1;33m,\u001b[0m \u001b[0mfeed_dict\u001b[0m\u001b[1;33m,\u001b[0m \u001b[0mfetch_list\u001b[0m\u001b[1;33m)\u001b[0m\u001b[1;33m:\u001b[0m\u001b[1;33m\u001b[0m\u001b[0m\n",
      "\u001b[1;31mKeyboardInterrupt\u001b[0m: "
     ]
    }
   ],
   "source": [
    "%%time\n",
    "# Die Hyperas Methode optim sucht im Suchraum die Parameter \n",
    "# Bei einer Änderung des Methodenrumpf der Methode model() muss der Notebook Kernel neu gestartet werden\n",
    "bestRun, bestModel = optim.minimize(model=modelCNN,               \n",
    "                                          data=data,\n",
    "                                          algo=rand.suggest,   # Algorithmus: Random Search\n",
    "                                          max_evals=100,          \n",
    "                                          trials=Trials(),      # eine Liste von Verzeichnissen, die alles über die Suche enthalten.\n",
    "                                          notebook_name='CNN_experiment4')  # Der Name des Notebooks sollte als String angegeben werden\n",
    "print(bestRun)"
   ]
  },
  {
   "cell_type": "code",
   "execution_count": null,
   "metadata": {},
   "outputs": [],
   "source": []
  }
 ],
 "metadata": {
  "kernelspec": {
   "display_name": "Python 3",
   "language": "python",
   "name": "python3"
  },
  "language_info": {
   "codemirror_mode": {
    "name": "ipython",
    "version": 3
   },
   "file_extension": ".py",
   "mimetype": "text/x-python",
   "name": "python",
   "nbconvert_exporter": "python",
   "pygments_lexer": "ipython3",
   "version": "3.6.4"
  },
  "latex_envs": {
   "LaTeX_envs_menu_present": true,
   "autoclose": false,
   "autocomplete": true,
   "bibliofile": "biblio.bib",
   "cite_by": "apalike",
   "current_citInitial": 1,
   "eqLabelWithNumbers": true,
   "eqNumInitial": 1,
   "hotkeys": {
    "equation": "Ctrl-E",
    "itemize": "Ctrl-I"
   },
   "labels_anchors": false,
   "latex_user_defs": false,
   "report_style_numbering": false,
   "user_envs_cfg": false
  },
  "toc": {
   "base_numbering": 1,
   "colors": {
    "hover_highlight": "#DAA520",
    "navigate_num": "#000000",
    "navigate_text": "#333333",
    "running_highlight": "#FF0000",
    "selected_highlight": "#FFD700",
    "sidebar_border": "#EEEEEE",
    "wrapper_background": "#FFFFFF"
   },
   "moveMenuLeft": true,
   "nav_menu": {},
   "navigate_menu": true,
   "number_sections": true,
   "sideBar": true,
   "skip_h1_title": false,
   "threshold": 4,
   "title_cell": "Table of Contents",
   "title_sidebar": "Contents",
   "toc_cell": false,
   "toc_position": {},
   "toc_section_display": true,
   "toc_window_display": false,
   "widenNotebook": false
  },
  "varInspector": {
   "cols": {
    "lenName": 16,
    "lenType": 16,
    "lenVar": 40
   },
   "kernels_config": {
    "python": {
     "delete_cmd_postfix": "",
     "delete_cmd_prefix": "del ",
     "library": "var_list.py",
     "varRefreshCmd": "print(var_dic_list())"
    },
    "r": {
     "delete_cmd_postfix": ") ",
     "delete_cmd_prefix": "rm(",
     "library": "var_list.r",
     "varRefreshCmd": "cat(var_dic_list()) "
    }
   },
   "types_to_exclude": [
    "module",
    "function",
    "builtin_function_or_method",
    "instance",
    "_Feature"
   ],
   "window_display": false
  }
 },
 "nbformat": 4,
 "nbformat_minor": 2
}
