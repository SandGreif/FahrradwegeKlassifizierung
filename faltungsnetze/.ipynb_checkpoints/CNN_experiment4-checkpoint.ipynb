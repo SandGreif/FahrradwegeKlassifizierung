{
 "cells": [
  {
   "cell_type": "markdown",
   "metadata": {},
   "source": [
    "# Faltungsnetz Versuch 4: Unterschiedliche Strecken\n",
    "\n",
    "## Einleitung\n",
    "\n",
    "In diesen Versuch werden Faltungsnetze mit den Daten aus dem Datensatz 37 bis 42 trainiert. Die Daten wurden auf unterschiedlichen Routen erfasst. Beim Start und Ende der Datenerfassung zu einer Strecke überschneiden sich einige befahrene Wege. Diese Wege wurden also mehr als einmal befahren. Gelabelt wurden die Daten mit Fuzzy-Logik (siehe Notebook daten_labeln/fuzzyLogic.ipynb). Zum Trainieren des Netzes ist es nötig das nur ein Teil der Bilder in den Hauptspeicher geladen wird, weil ansonsten der Speicherplatz nicht ausreicht bei 8GB RAM. Dafür wird die Keras Methode fit_generator() genutzt mit welchem eine Generator Methode Implementiert werden kann, welche so viele Bilder in der Anzahl der batch size (Stapelgröße) läd für einen Trainingsschritt.     \n",
    "\n",
    "### Versuch 4.1 Versuchsbeschreibung: Unterteilung der Fahrqualität in 4 Klassen\n",
    "\n",
    "Die Trainingsdaten wurden klassifiziert in 4 Klassen nach der Fahrqualität. Für weitere Informationen zur Einordnung der Daten siehe Fuzzy Logik Versuch 2. Als Parameter für das Faltungsnetz wird als Vorlage das Model aus Faltungsnetz Versuch 1.9 genutzt.\n",
    "\n",
    "### Versuch 4.1 Ergebnis:\n",
    "\n",
    "\n",
    "\n",
    "\n",
    "### Versuch 4.2 Versuchbeschreibung: Hypertuning\n",
    "\n",
    "\n",
    "### Ergebnisse\n",
    "\n",
    "Versuch Nr. | validierungs Accuracy | validierungs Loss | Trainings Accuracy | Trainings Loss |  \n",
    "--- | --- | --- | --- | --- |\n",
    "4.1 | 0.7705 | 0.4947 | 0.7644 | 0.5073 |\n",
    "Tabelle 1: Ergebnisse der Versuche"
   ]
  },
  {
   "cell_type": "code",
   "execution_count": 1,
   "metadata": {
    "ExecuteTime": {
     "end_time": "2018-06-22T14:16:20.270490Z",
     "start_time": "2018-06-22T14:16:18.349224Z"
    }
   },
   "outputs": [],
   "source": [
    "import pandas\n",
    "import seaborn as sns\n",
    "%matplotlib inline \n",
    "import matplotlib.pyplot as plt\n",
    "import matplotlib.lines as mlines\n",
    "import os\n",
    "import cv2\n",
    "import numpy as np"
   ]
  },
  {
   "cell_type": "code",
   "execution_count": 2,
   "metadata": {
    "ExecuteTime": {
     "end_time": "2018-06-22T14:16:22.705785Z",
     "start_time": "2018-06-22T14:16:20.307524Z"
    }
   },
   "outputs": [
    {
     "name": "stderr",
     "output_type": "stream",
     "text": [
      "C:\\Users\\user\\AppData\\Local\\conda\\conda\\envs\\bicycle\\lib\\site-packages\\h5py\\__init__.py:36: FutureWarning: Conversion of the second argument of issubdtype from `float` to `np.floating` is deprecated. In future, it will be treated as `np.float64 == np.dtype(float).type`.\n",
      "  from ._conv import register_converters as _register_converters\n",
      "Using TensorFlow backend.\n"
     ]
    }
   ],
   "source": [
    "from keras.utils import np_utils\n",
    "from keras.models import Sequential\n",
    "from keras.layers.core import Dense, Dropout, Activation, Flatten\n",
    "from keras.layers.convolutional import Conv2D, MaxPooling2D\n",
    "from keras.optimizers import RMSprop\n",
    "from keras.models import load_model\n",
    "import keras.callbacks as cb\n",
    "from sklearn.utils import shuffle\n",
    "from sklearn.model_selection import train_test_split\n",
    "from sklearn.metrics import confusion_matrix"
   ]
  },
  {
   "cell_type": "code",
   "execution_count": 3,
   "metadata": {
    "ExecuteTime": {
     "end_time": "2018-06-22T14:16:24.820253Z",
     "start_time": "2018-06-22T14:16:22.732288Z"
    }
   },
   "outputs": [],
   "source": [
    "featuresDf = pandas.read_csv(filepath_or_buffer=\"../daten/merkmale_datensatz_37_bis_42/merkmaleMitLabeln.csv\")"
   ]
  },
  {
   "cell_type": "code",
   "execution_count": 4,
   "metadata": {
    "ExecuteTime": {
     "end_time": "2018-06-22T14:16:25.204721Z",
     "start_time": "2018-06-22T14:16:25.200722Z"
    }
   },
   "outputs": [],
   "source": [
    "# Nummer des aktuellen Versuchs\n",
    "experimentNumber = \"1\""
   ]
  },
  {
   "cell_type": "code",
   "execution_count": 5,
   "metadata": {
    "ExecuteTime": {
     "end_time": "2018-06-22T14:16:25.588084Z",
     "start_time": "2018-06-22T14:16:25.584084Z"
    }
   },
   "outputs": [],
   "source": [
    "# Hier können die Datensätze ausgewählt werden\n",
    "datasets = ['37','38','39','40','41','42']\n",
    "# Die Pfade zu den Ordnern in welchem sich die Bilder befinden\n",
    "paths = []\n",
    "# Liste mit Pfaden zu den Bildern\n",
    "imagePaths = []"
   ]
  },
  {
   "cell_type": "code",
   "execution_count": 6,
   "metadata": {
    "ExecuteTime": {
     "end_time": "2018-06-22T14:16:30.009350Z",
     "start_time": "2018-06-22T14:16:25.991545Z"
    }
   },
   "outputs": [
    {
     "name": "stdout",
     "output_type": "stream",
     "text": [
      "C:/Users/morro/Documents/datenRoh/37/zugeschnitten/\n",
      "Bilder aus folgenden Ordnern werden geladen: ['1', '2', '3', '4', '5', '6', '7', '8', '9', '10', '11', '12', '13', '14']\n",
      "Ordner der geladen wird: 1\n",
      "Ordner der geladen wird: 2\n",
      "Ordner der geladen wird: 3\n",
      "Ordner der geladen wird: 4\n",
      "Ordner der geladen wird: 5\n",
      "Ordner der geladen wird: 6\n",
      "Ordner der geladen wird: 7\n",
      "Ordner der geladen wird: 8\n",
      "Ordner der geladen wird: 9\n",
      "Ordner der geladen wird: 10\n",
      "Ordner der geladen wird: 11\n",
      "Ordner der geladen wird: 12\n",
      "Ordner der geladen wird: 13\n",
      "Ordner der geladen wird: 14\n",
      "C:/Users/morro/Documents/datenRoh/38/zugeschnitten/\n",
      "Bilder aus folgenden Ordnern werden geladen: ['1', '2', '3', '4', '5', '6', '7', '8', '9', '10', '11', '12', '13', '14', '15', '16', '17', '18', '19', '20', '21', '22']\n",
      "Ordner der geladen wird: 1\n",
      "Ordner der geladen wird: 2\n",
      "Ordner der geladen wird: 3\n",
      "Ordner der geladen wird: 4\n",
      "Ordner der geladen wird: 5\n",
      "Ordner der geladen wird: 6\n",
      "Ordner der geladen wird: 7\n",
      "Ordner der geladen wird: 8\n",
      "Ordner der geladen wird: 9\n",
      "Ordner der geladen wird: 10\n",
      "Ordner der geladen wird: 11\n",
      "Ordner der geladen wird: 12\n",
      "Ordner der geladen wird: 13\n",
      "Ordner der geladen wird: 14\n",
      "Ordner der geladen wird: 15\n",
      "Ordner der geladen wird: 16\n",
      "Ordner der geladen wird: 17\n",
      "Ordner der geladen wird: 18\n",
      "Ordner der geladen wird: 19\n",
      "Ordner der geladen wird: 20\n",
      "Ordner der geladen wird: 21\n",
      "Ordner der geladen wird: 22\n",
      "C:/Users/morro/Documents/datenRoh/39/zugeschnitten/\n",
      "Bilder aus folgenden Ordnern werden geladen: ['1', '2', '3', '4', '5', '6', '7', '8', '9']\n",
      "Ordner der geladen wird: 1\n",
      "Ordner der geladen wird: 2\n",
      "Ordner der geladen wird: 3\n",
      "Ordner der geladen wird: 4\n",
      "Ordner der geladen wird: 5\n",
      "Ordner der geladen wird: 6\n",
      "Ordner der geladen wird: 7\n",
      "Ordner der geladen wird: 8\n",
      "Ordner der geladen wird: 9\n",
      "C:/Users/morro/Documents/datenRoh/40/zugeschnitten/\n",
      "Bilder aus folgenden Ordnern werden geladen: ['1', '2', '3', '4', '5', '6', '7']\n",
      "Ordner der geladen wird: 1\n",
      "Ordner der geladen wird: 2\n",
      "Ordner der geladen wird: 3\n",
      "Ordner der geladen wird: 4\n",
      "Ordner der geladen wird: 5\n",
      "Ordner der geladen wird: 6\n",
      "Ordner der geladen wird: 7\n",
      "C:/Users/morro/Documents/datenRoh/41/zugeschnitten/\n",
      "Bilder aus folgenden Ordnern werden geladen: ['1', '2', '3']\n",
      "Ordner der geladen wird: 1\n",
      "Ordner der geladen wird: 2\n",
      "Ordner der geladen wird: 3\n",
      "C:/Users/morro/Documents/datenRoh/42/zugeschnitten/\n",
      "Bilder aus folgenden Ordnern werden geladen: ['1', '2', '3', '4', '5', '6', '7', '8']\n",
      "Ordner der geladen wird: 1\n",
      "Ordner der geladen wird: 2\n",
      "Ordner der geladen wird: 3\n",
      "Ordner der geladen wird: 4\n",
      "Ordner der geladen wird: 5\n",
      "Ordner der geladen wird: 6\n",
      "Ordner der geladen wird: 7\n",
      "Ordner der geladen wird: 8\n"
     ]
    }
   ],
   "source": [
    "for dataset in datasets: # Für jeden Datensatz merke Pfad\n",
    "    paths.append(\"C:/Users/morro/Documents/datenRoh/\" + dataset + \"/zugeschnitten/\")\n",
    "for path in paths: # Für jeden Pfad hole die Namen der Ordner\n",
    "    folders = os.listdir(path)\n",
    "    folders = sorted(folders, key=int) #sortiert die Reihenfolge de Ordner aufsteifend\n",
    "    print(path)\n",
    "    print(\"Bilder aus folgenden Ordnern werden geladen: \" + str(folders))\n",
    "    for folder in folders: # Aus der Liste der Ordner wird ein Ordner ausgewählt\n",
    "        filesPath = path + folder + \"/\"\n",
    "        files = os.listdir(filesPath)\n",
    "        print(\"Ordner der geladen wird: \" + str(folder))\n",
    "        for name in files: # Ein Dateiname aus diesem Ordner\n",
    "            if \"jpg\" not in name:\n",
    "                continue\n",
    "            imagePaths.append(filesPath + name)"
   ]
  },
  {
   "cell_type": "code",
   "execution_count": 7,
   "metadata": {
    "ExecuteTime": {
     "end_time": "2018-06-22T14:16:30.645862Z",
     "start_time": "2018-06-22T14:16:30.624102Z"
    }
   },
   "outputs": [],
   "source": [
    "imagesNp          = np.array(0) # soll Bilder als numpy Array halten\n",
    "numberOfChannels  = 3           # Anzahl der Farbkanäle\n",
    "numberOfClasses   = 4           # Anzahl der Klassen\n",
    "classNames = ['sehr gut','gut','schlecht','sehr schlecht'] # Namen der Klassen\n",
    "yLabels           = np.array(0) # Labels / Klassen zuordnung\n",
    "yShuffle          = np.array(0) # Labels mit der Methode shuffle() vermischt \n",
    "xShuffle          = np.array(0) # Bilder zum trainieren mit shuffle() vermischt\n",
    "xTrain            = np.array(0) # Trainingsdaten (Bilder) \n",
    "xTest             = np.array(0) # Testdaten (Bilder)\n",
    "yTrain            = np.array(0) # Klassen zuordnungen (Labels) für xTrain\n",
    "yTest             = np.array(0) # Klassen zuordnung (Lables) für xTest"
   ]
  },
  {
   "cell_type": "code",
   "execution_count": 8,
   "metadata": {
    "ExecuteTime": {
     "end_time": "2018-06-22T14:16:31.256355Z",
     "start_time": "2018-06-22T14:16:31.248353Z"
    }
   },
   "outputs": [],
   "source": [
    "yLabels = np_utils.to_categorical(featuresDf['Klasse'], 0)"
   ]
  },
  {
   "cell_type": "code",
   "execution_count": 9,
   "metadata": {
    "ExecuteTime": {
     "end_time": "2018-06-22T14:16:31.916431Z",
     "start_time": "2018-06-22T14:16:31.912430Z"
    }
   },
   "outputs": [],
   "source": [
    "# Setzten des RandomState um reproduzierbare Ergebnisse zu erzielen.\n",
    "np.random.seed(42)"
   ]
  },
  {
   "cell_type": "code",
   "execution_count": 10,
   "metadata": {
    "ExecuteTime": {
     "end_time": "2018-06-22T14:16:32.584026Z",
     "start_time": "2018-06-22T14:16:32.516948Z"
    }
   },
   "outputs": [],
   "source": [
    "# Mischen der Trainingsdaten\n",
    "xShuffle, yShuffle = shuffle(imagePaths,yLabels)\n",
    "# Aufteilung in Trainings und Testdaten\n",
    "xTrain, xTest, yTrain, yTest = train_test_split(xShuffle, yShuffle, test_size=0.2)"
   ]
  },
  {
   "cell_type": "code",
   "execution_count": 68,
   "metadata": {
    "ExecuteTime": {
     "end_time": "2018-06-22T15:16:15.912339Z",
     "start_time": "2018-06-22T15:16:15.908341Z"
    }
   },
   "outputs": [],
   "source": [
    "# Diese Funktion läd Bilder in den Hauptspeicher\n",
    "# imagesPaths: Liste mit Pfaden zu den Bildern != null\n",
    "def imageLoader(imagePaths):\n",
    "    images = []\n",
    "    for path in imagePaths:\n",
    "        images.append(cv2.imread(path))\n",
    "    imagesNp = np.array(images)\n",
    "    imagesNp = imagesNp.astype('float32')\n",
    "    # Transfomierung der Bildpunkte auf den Wetebereich von 0 bis 1\n",
    "    imagesNp /= 255\n",
    "    return imagesNp"
   ]
  },
  {
   "cell_type": "code",
   "execution_count": 12,
   "metadata": {
    "ExecuteTime": {
     "end_time": "2018-06-22T14:16:34.873737Z",
     "start_time": "2018-06-22T14:16:34.865736Z"
    }
   },
   "outputs": [],
   "source": [
    "# Läd Trainingsdaten in batches\n",
    "def dataLoader(imagePaths, features, batchSize):\n",
    "    imagesCount= len(imagePaths)  \n",
    "    while True:\n",
    "        batchStart = 0\n",
    "        batchEnd = batchSize\n",
    "        while batchStart < imagesCount:\n",
    "            limit = min(batchEnd, imagesCount)\n",
    "            x = imageLoader(imagePaths[batchStart:limit])\n",
    "            y = features[batchStart:limit]\n",
    "            yield (x,y) \n",
    "            batchStart += batchSize   \n",
    "            batchEnd += batchSize"
   ]
  },
  {
   "cell_type": "code",
   "execution_count": 12,
   "metadata": {
    "ExecuteTime": {
     "end_time": "2018-06-22T11:52:46.073029Z",
     "start_time": "2018-06-22T11:52:46.069029Z"
    }
   },
   "outputs": [],
   "source": [
    "# Parameter für das CNN\n",
    "inputShape     = (368, 70, 3)      # Eingangs Array-Form \n",
    "numNeuronsC1   = 32                # Anzahl der Filter / 1 Faltungsschicht\n",
    "numNeuronsC2   = 32                # Anzahl der Filter / 2 Faltungsschicht\n",
    "numNeuronsC3   = 64                # Anzahl der Filter / 3 Faltungsschicht\n",
    "numNeuronsD1   = 64                # Anzahl der Neuronen des Fully connected layer - vollverbundene Schicht\n",
    "poolSize       = 2                 # Größe der Pooling-Layer\n",
    "convKernelSize = 3                 # Größe des Faltungskern n*n"
   ]
  },
  {
   "cell_type": "code",
   "execution_count": 13,
   "metadata": {
    "ExecuteTime": {
     "end_time": "2018-06-22T11:52:46.203729Z",
     "start_time": "2018-06-22T11:52:46.073029Z"
    }
   },
   "outputs": [],
   "source": [
    "model = Sequential()\n",
    "model.add(Conv2D(numNeuronsC1, (convKernelSize, convKernelSize), padding='valid',input_shape=inputShape))\n",
    "model.add(Activation('elu'))\n",
    "model.add(MaxPooling2D(pool_size=(poolSize, poolSize)))\n",
    "model.add(Dropout(0.05))\n",
    "\n",
    "model.add(Conv2D(numNeuronsC2, (convKernelSize, convKernelSize)))\n",
    "model.add(Activation('elu'))\n",
    "model.add(MaxPooling2D(pool_size=(poolSize, poolSize)))\n",
    "model.add(Dropout(0.33))\n",
    "  \n",
    "model.add(Conv2D(numNeuronsC3, (convKernelSize, convKernelSize)))\n",
    "model.add(Activation('elu'))\n",
    "model.add(MaxPooling2D(pool_size=(poolSize, poolSize)))\n",
    "model.add(Dropout(0.10))\n",
    "\n",
    "model.add(Flatten())\n",
    "model.add(Dense(numNeuronsD1))\n",
    "model.add(Activation('elu'))\n",
    "model.add(Dropout(0.46))\n",
    "\n",
    "model.add(Dense(4))\n",
    "model.add(Activation('softmax')) "
   ]
  },
  {
   "cell_type": "code",
   "execution_count": 14,
   "metadata": {
    "ExecuteTime": {
     "end_time": "2018-06-22T11:52:46.210439Z",
     "start_time": "2018-06-22T11:52:46.203729Z"
    }
   },
   "outputs": [
    {
     "name": "stdout",
     "output_type": "stream",
     "text": [
      "_________________________________________________________________\n",
      "Layer (type)                 Output Shape              Param #   \n",
      "=================================================================\n",
      "conv2d_1 (Conv2D)            (None, 366, 68, 32)       896       \n",
      "_________________________________________________________________\n",
      "activation_1 (Activation)    (None, 366, 68, 32)       0         \n",
      "_________________________________________________________________\n",
      "max_pooling2d_1 (MaxPooling2 (None, 183, 34, 32)       0         \n",
      "_________________________________________________________________\n",
      "dropout_1 (Dropout)          (None, 183, 34, 32)       0         \n",
      "_________________________________________________________________\n",
      "conv2d_2 (Conv2D)            (None, 181, 32, 32)       9248      \n",
      "_________________________________________________________________\n",
      "activation_2 (Activation)    (None, 181, 32, 32)       0         \n",
      "_________________________________________________________________\n",
      "max_pooling2d_2 (MaxPooling2 (None, 90, 16, 32)        0         \n",
      "_________________________________________________________________\n",
      "dropout_2 (Dropout)          (None, 90, 16, 32)        0         \n",
      "_________________________________________________________________\n",
      "conv2d_3 (Conv2D)            (None, 88, 14, 64)        18496     \n",
      "_________________________________________________________________\n",
      "activation_3 (Activation)    (None, 88, 14, 64)        0         \n",
      "_________________________________________________________________\n",
      "max_pooling2d_3 (MaxPooling2 (None, 44, 7, 64)         0         \n",
      "_________________________________________________________________\n",
      "dropout_3 (Dropout)          (None, 44, 7, 64)         0         \n",
      "_________________________________________________________________\n",
      "flatten_1 (Flatten)          (None, 19712)             0         \n",
      "_________________________________________________________________\n",
      "dense_1 (Dense)              (None, 64)                1261632   \n",
      "_________________________________________________________________\n",
      "activation_4 (Activation)    (None, 64)                0         \n",
      "_________________________________________________________________\n",
      "dropout_4 (Dropout)          (None, 64)                0         \n",
      "_________________________________________________________________\n",
      "dense_2 (Dense)              (None, 4)                 260       \n",
      "_________________________________________________________________\n",
      "activation_5 (Activation)    (None, 4)                 0         \n",
      "=================================================================\n",
      "Total params: 1,290,532\n",
      "Trainable params: 1,290,532\n",
      "Non-trainable params: 0\n",
      "_________________________________________________________________\n"
     ]
    }
   ],
   "source": [
    "# Zusammenfassung der Parameter des neuralen Netzes\n",
    "model.summary()"
   ]
  },
  {
   "cell_type": "code",
   "execution_count": 15,
   "metadata": {
    "ExecuteTime": {
     "end_time": "2018-06-22T11:52:46.258626Z",
     "start_time": "2018-06-22T11:52:46.210439Z"
    }
   },
   "outputs": [],
   "source": [
    "model.compile(loss='binary_crossentropy', optimizer='adam', metrics=[\"accuracy\"])"
   ]
  },
  {
   "cell_type": "code",
   "execution_count": 16,
   "metadata": {
    "ExecuteTime": {
     "end_time": "2018-06-22T12:53:24.893469Z",
     "start_time": "2018-06-22T11:52:46.258626Z"
    }
   },
   "outputs": [
    {
     "name": "stdout",
     "output_type": "stream",
     "text": [
      "Epoch 1/20\n",
      "3618/3618 [==============================] - 182s 50ms/step - loss: 0.5465 - acc: 0.7490 - val_loss: 0.5340 - val_acc: 0.7546\n",
      "Epoch 2/20\n",
      "3618/3618 [==============================] - 180s 50ms/step - loss: 0.5073 - acc: 0.7644 - val_loss: 0.4947 - val_acc: 0.7705\n",
      "Epoch 3/20\n",
      "3618/3618 [==============================] - 180s 50ms/step - loss: 0.4962 - acc: 0.7694 - val_loss: 0.5064 - val_acc: 0.7679\n",
      "Epoch 4/20\n",
      "3618/3618 [==============================] - 179s 50ms/step - loss: 0.4915 - acc: 0.7715 - val_loss: 0.5137 - val_acc: 0.7611\n",
      "Epoch 5/20\n",
      "3618/3618 [==============================] - 178s 49ms/step - loss: 0.4847 - acc: 0.7746 - val_loss: 0.5231 - val_acc: 0.7679\n",
      "Epoch 6/20\n",
      "3618/3618 [==============================] - 178s 49ms/step - loss: 0.4752 - acc: 0.7785 - val_loss: 0.5810 - val_acc: 0.7482\n",
      "Epoch 7/20\n",
      "3618/3618 [==============================] - 239s 66ms/step - loss: 0.4662 - acc: 0.7831 - val_loss: 0.5088 - val_acc: 0.7680\n",
      "Epoch 8/20\n",
      "3618/3618 [==============================] - 178s 49ms/step - loss: 0.4551 - acc: 0.7892 - val_loss: 0.5400 - val_acc: 0.7606\n",
      "Epoch 9/20\n",
      "3618/3618 [==============================] - 178s 49ms/step - loss: 0.4469 - acc: 0.7938 - val_loss: 0.5549 - val_acc: 0.7603\n",
      "Epoch 10/20\n",
      "3618/3618 [==============================] - 178s 49ms/step - loss: 0.4355 - acc: 0.7999 - val_loss: 0.5935 - val_acc: 0.7521\n",
      "Epoch 11/20\n",
      "3618/3618 [==============================] - 178s 49ms/step - loss: 0.4270 - acc: 0.8050 - val_loss: 0.5393 - val_acc: 0.7605\n",
      "Epoch 12/20\n",
      "3618/3618 [==============================] - 178s 49ms/step - loss: 0.4188 - acc: 0.8095 - val_loss: 0.5791 - val_acc: 0.7518\n",
      "Epoch 13/20\n",
      "3618/3618 [==============================] - 177s 49ms/step - loss: 0.4130 - acc: 0.8126 - val_loss: 0.5963 - val_acc: 0.7510\n",
      "Epoch 14/20\n",
      "3618/3618 [==============================] - 180s 50ms/step - loss: 0.4038 - acc: 0.8169 - val_loss: 0.5814 - val_acc: 0.7503\n",
      "Epoch 15/20\n",
      "3618/3618 [==============================] - 180s 50ms/step - loss: 0.3997 - acc: 0.8190 - val_loss: 0.5903 - val_acc: 0.7531\n",
      "Epoch 16/20\n",
      "3618/3618 [==============================] - 180s 50ms/step - loss: 0.3926 - acc: 0.8227 - val_loss: 0.5700 - val_acc: 0.7563\n",
      "Epoch 17/20\n",
      "3618/3618 [==============================] - 178s 49ms/step - loss: 0.3909 - acc: 0.8245 - val_loss: 0.5962 - val_acc: 0.7522\n",
      "Epoch 18/20\n",
      "3618/3618 [==============================] - 178s 49ms/step - loss: 0.3825 - acc: 0.8288 - val_loss: 0.6376 - val_acc: 0.7458\n",
      "Epoch 19/20\n",
      "3618/3618 [==============================] - 178s 49ms/step - loss: 0.3797 - acc: 0.8301 - val_loss: 0.6210 - val_acc: 0.7510\n",
      "Epoch 20/20\n",
      "3618/3618 [==============================] - 178s 49ms/step - loss: 0.3736 - acc: 0.8331 - val_loss: 0.5973 - val_acc: 0.7535\n"
     ]
    }
   ],
   "source": [
    "numEpoch=20\n",
    "batchSize=32\n",
    "# Early Stopping unterbricht das Training, wenn nach n Epochen die Kostenfunktion nicht weiter minimiert werden konnte \n",
    "earlyStopping = cb.EarlyStopping(monitor='val_acc', patience=1000, verbose=0, mode='max')   \n",
    "# Speichert das beste Modell mit der höhsten Test Accuracy ab\n",
    "checkpointSafe = cb.ModelCheckpoint('ergebnisse_versuch4/modell_versuch4_' + experimentNumber, monitor='val_acc', save_best_only=True)\n",
    "hist = model.fit_generator(dataLoader(xTrain, yTrain, batchSize), epochs=numEpoch, steps_per_epoch=(int(len(imagePaths)/batchSize)),\n",
    "              validation_data=dataLoader(xTest, yTest, batchSize), validation_steps=(int(len(xTest)/batchSize)), callbacks=[earlyStopping,checkpointSafe])"
   ]
  },
  {
   "cell_type": "code",
   "execution_count": 44,
   "metadata": {
    "ExecuteTime": {
     "end_time": "2018-06-22T13:11:30.075044Z",
     "start_time": "2018-06-22T13:11:29.642542Z"
    }
   },
   "outputs": [
    {
     "data": {
      "image/png": "[encoded data removed]",
      "text/plain": [
       "<Figure size 432x288 with 1 Axes>"
      ]
     },
     "metadata": {},
     "output_type": "display_data"
    },
    {
     "data": {
      "image/png": "[encoded data removed]",
      "text/plain": [
       "<Figure size 432x288 with 1 Axes>"
      ]
     },
     "metadata": {},
     "output_type": "display_data"
    }
   ],
   "source": [
    "# Plot Modell Historie Loss und Accuracy\n",
    "plt.figure(4)\n",
    "plt.title('Trainingshistorie: Loss')\n",
    "plt.xlabel('Epoche')\n",
    "plt.ylabel('Loss')\n",
    "plt.plot(hist.history['loss'])\n",
    "plt.plot(hist.history['val_loss'])\n",
    "plt.legend(['Training', 'Validation'])\n",
    "plt.xlim(0,19)\n",
    "plt.grid(True)\n",
    "plt.savefig(\"trainingshistorieLossVersuch4_\" + experimentNumber + \".png\")\n",
    "plt.xticks(np.arange(0, 19.1, step=1))\n",
    "plt.figure(1)\n",
    "plt.title('Trainingshistorie: Accuracy')\n",
    "plt.xticks()\n",
    "plt.xlabel('Epoche')\n",
    "plt.ylabel('Accuracy')\n",
    "plt.plot(hist.history['acc'])\n",
    "plt.plot(hist.history['val_acc'])\n",
    "plt.legend(['Training', 'Validation'], loc='right')\n",
    "plt.xlim(0,numEpoch-1)\n",
    "plt.xticks(np.arange(0, 19.1, step=1))\n",
    "plt.grid(True)\n",
    "plt.savefig(\"trainingshistorieAccuracyVersuch4_\" + experimentNumber + \".png\")\n",
    "plt.show()"
   ]
  },
  {
   "cell_type": "code",
   "execution_count": 15,
   "metadata": {
    "ExecuteTime": {
     "end_time": "2018-06-22T14:16:54.684799Z",
     "start_time": "2018-06-22T14:16:54.680801Z"
    }
   },
   "outputs": [],
   "source": [
    "# Läd Testdaten\n",
    "def testDataLoader(imagePaths, batchSize):\n",
    "    imagesCount= len(imagePaths)  \n",
    "    while True:\n",
    "        batchStart = 0\n",
    "        batchEnd = batchSize\n",
    "        while batchStart < imagesCount:\n",
    "            limit = min(batchEnd, imagesCount)\n",
    "            x = imageLoader(imagePaths[batchStart:limit])\n",
    "            yield (x) \n",
    "            batchStart += batchSize   \n",
    "            batchEnd += batchSize"
   ]
  },
  {
   "cell_type": "code",
   "execution_count": 70,
   "metadata": {
    "ExecuteTime": {
     "end_time": "2018-06-22T15:17:02.483606Z",
     "start_time": "2018-06-22T15:17:01.479781Z"
    }
   },
   "outputs": [],
   "source": [
    "# Läd Modell\n",
    "modell1 = load_model('ergebnisse_versuch4/modell_versuch4_1')"
   ]
  },
  {
   "cell_type": "code",
   "execution_count": 167,
   "metadata": {
    "ExecuteTime": {
     "end_time": "2018-06-22T16:39:25.044349Z",
     "start_time": "2018-06-22T16:39:25.012361Z"
    }
   },
   "outputs": [
    {
     "data": {
      "text/plain": [
       "[0.26932597160339355, 0.9375]"
      ]
     },
     "execution_count": 167,
     "metadata": {},
     "output_type": "execute_result"
    }
   ],
   "source": [
    "modell1.evaluate_generator( dataLoader(xTest[4:8], yTest[4:8], 4), steps=1)"
   ]
  },
  {
   "cell_type": "code",
   "execution_count": null,
   "metadata": {
    "ExecuteTime": {
     "start_time": "2018-06-22T16:46:26.008Z"
    }
   },
   "outputs": [],
   "source": [
    "# Bei der Verwendung von predict_generator werden die daten gemischt \n",
    "validPreds = []\n",
    "imageList = []\n",
    "for path in xTest:\n",
    "    imageList = []   \n",
    "    img = cv2.imread(path)\n",
    "    img = np.array(img)\n",
    "    img = img.astype('float32')\n",
    "    img /= 255\n",
    "    imageList.append(img)\n",
    "    validPreds.append(modell1.predict(np.asarray(imageList)))"
   ]
  },
  {
   "cell_type": "code",
   "execution_count": null,
   "metadata": {
    "ExecuteTime": {
     "end_time": "2018-06-22T16:44:41.237434Z",
     "start_time": "2018-06-22T16:44:18.943Z"
    }
   },
   "outputs": [],
   "source": [
    "# Konfusionsmatrix\n",
    "validPredArray = np.argmax(np.vstack(validPreds), axis=1)\n",
    "yTestMax = np.argmax(yTest,axis=1)\n",
    "cnfMatrix = confusion_matrix(yTestMax[4:8], validPredArray[4:8])\n",
    "print(cnfMatrix)\n",
    "fig, ax = plt.subplots(figsize=(6,6)) \n",
    "ax = sns.heatmap(cnfMatrix, fmt=\"d\", cmap=plt.cm.Blues, ax=ax , annot=True)\n",
    "ax.set_xticklabels(classNames)\n",
    "ax.set_yticklabels(classNames)\n",
    "plt.title('Konfusionsmatrix')\n",
    "plt.ylabel('Wahre Klasse')\n",
    "plt.xlabel('Vorhergesagte Klasse')\n",
    "plt.show()"
   ]
  },
  {
   "cell_type": "code",
   "execution_count": 177,
   "metadata": {
    "ExecuteTime": {
     "end_time": "2018-06-22T16:42:16.937580Z",
     "start_time": "2018-06-22T16:42:16.933582Z"
    }
   },
   "outputs": [
    {
     "data": {
      "text/plain": [
       "3"
      ]
     },
     "execution_count": 177,
     "metadata": {},
     "output_type": "execute_result"
    }
   ],
   "source": [
    "validPredArray[5]"
   ]
  },
  {
   "cell_type": "code",
   "execution_count": 170,
   "metadata": {
    "ExecuteTime": {
     "end_time": "2018-06-22T16:40:23.690817Z",
     "start_time": "2018-06-22T16:40:23.686820Z"
    }
   },
   "outputs": [
    {
     "data": {
      "text/plain": [
       "array([[1., 0., 0., 0.],\n",
       "       [0., 1., 0., 0.],\n",
       "       [1., 0., 0., 0.],\n",
       "       [1., 0., 0., 0.]])"
      ]
     },
     "execution_count": 170,
     "metadata": {},
     "output_type": "execute_result"
    }
   ],
   "source": [
    "yTest[4:8]"
   ]
  },
  {
   "cell_type": "code",
   "execution_count": 181,
   "metadata": {
    "ExecuteTime": {
     "end_time": "2018-06-22T16:43:47.430866Z",
     "start_time": "2018-06-22T16:43:47.426867Z"
    }
   },
   "outputs": [
    {
     "data": {
      "text/plain": [
       "array([1., 0., 0., 0.])"
      ]
     },
     "execution_count": 181,
     "metadata": {},
     "output_type": "execute_result"
    }
   ],
   "source": [
    "yTest[4]"
   ]
  },
  {
   "cell_type": "code",
   "execution_count": 152,
   "metadata": {
    "ExecuteTime": {
     "end_time": "2018-06-22T16:19:18.032503Z",
     "start_time": "2018-06-22T16:19:18.016510Z"
    }
   },
   "outputs": [
    {
     "data": {
      "text/plain": [
       "array([[0.87134   , 0.10437446, 0.01408345, 0.01020208]], dtype=float32)"
      ]
     },
     "execution_count": 152,
     "metadata": {},
     "output_type": "execute_result"
    }
   ],
   "source": [
    "imageList = []   \n",
    "img = cv2.imread(xTest[0])\n",
    "img = np.array(img)\n",
    "img = img.astype('float32')\n",
    "img /= 255\n",
    "imageList.append(img)\n",
    "modell1.predict(np.asarray(imageList))"
   ]
  },
  {
   "cell_type": "code",
   "execution_count": 143,
   "metadata": {
    "ExecuteTime": {
     "end_time": "2018-06-22T16:11:31.553642Z",
     "start_time": "2018-06-22T16:11:31.517654Z"
    }
   },
   "outputs": [
    {
     "data": {
      "text/plain": [
       "array([0.5828721 , 0.26600018, 0.09462278, 0.05650496], dtype=float32)"
      ]
     },
     "execution_count": 143,
     "metadata": {},
     "output_type": "execute_result"
    }
   ],
   "source": [
    "np.vstack(validPreds)[4]"
   ]
  },
  {
   "cell_type": "code",
   "execution_count": 144,
   "metadata": {
    "ExecuteTime": {
     "end_time": "2018-06-22T16:11:48.901099Z",
     "start_time": "2018-06-22T16:11:48.888846Z"
    }
   },
   "outputs": [
    {
     "data": {
      "text/plain": [
       "0"
      ]
     },
     "execution_count": 144,
     "metadata": {},
     "output_type": "execute_result"
    }
   ],
   "source": [
    "yTestMax[4]"
   ]
  },
  {
   "cell_type": "code",
   "execution_count": 156,
   "metadata": {
    "ExecuteTime": {
     "end_time": "2018-06-22T16:30:12.199481Z",
     "start_time": "2018-06-22T16:30:12.191484Z"
    }
   },
   "outputs": [
    {
     "data": {
      "text/plain": [
       "array([1, 1, 1, ..., 0, 3, 3], dtype=int64)"
      ]
     },
     "execution_count": 156,
     "metadata": {},
     "output_type": "execute_result"
    }
   ],
   "source": [
    "np.argmax(yTest,axis=1)"
   ]
  },
  {
   "cell_type": "code",
   "execution_count": null,
   "metadata": {},
   "outputs": [],
   "source": []
  }
 ],
 "metadata": {
  "kernelspec": {
   "display_name": "Python [conda env:bicycle]",
   "language": "python",
   "name": "conda-env-bicycle-py"
  },
  "language_info": {
   "codemirror_mode": {
    "name": "ipython",
    "version": 3
   },
   "file_extension": ".py",
   "mimetype": "text/x-python",
   "name": "python",
   "nbconvert_exporter": "python",
   "pygments_lexer": "ipython3",
   "version": "3.6.5"
  },
  "latex_envs": {
   "LaTeX_envs_menu_present": true,
   "autoclose": false,
   "autocomplete": true,
   "bibliofile": "biblio.bib",
   "cite_by": "apalike",
   "current_citInitial": 1,
   "eqLabelWithNumbers": true,
   "eqNumInitial": 1,
   "hotkeys": {
    "equation": "Ctrl-E",
    "itemize": "Ctrl-I"
   },
   "labels_anchors": false,
   "latex_user_defs": false,
   "report_style_numbering": false,
   "user_envs_cfg": false
  },
  "toc": {
   "base_numbering": 1,
   "nav_menu": {},
   "number_sections": true,
   "sideBar": true,
   "skip_h1_title": false,
   "title_cell": "Table of Contents",
   "title_sidebar": "Contents",
   "toc_cell": false,
   "toc_position": {},
   "toc_section_display": true,
   "toc_window_display": false
  },
  "varInspector": {
   "cols": {
    "lenName": 16,
    "lenType": 16,
    "lenVar": 40
   },
   "kernels_config": {
    "python": {
     "delete_cmd_postfix": "",
     "delete_cmd_prefix": "del ",
     "library": "var_list.py",
     "varRefreshCmd": "print(var_dic_list())"
    },
    "r": {
     "delete_cmd_postfix": ") ",
     "delete_cmd_prefix": "rm(",
     "library": "var_list.r",
     "varRefreshCmd": "cat(var_dic_list()) "
    }
   },
   "types_to_exclude": [
    "module",
    "function",
    "builtin_function_or_method",
    "instance",
    "_Feature"
   ],
   "window_display": false
  }
 },
 "nbformat": 4,
 "nbformat_minor": 2
}
