{
 "cells": [
  {
   "cell_type": "markdown",
   "metadata": {},
   "source": [
    "# Faltungsnetz Versuch 5: Daten mit Wiederholung\n",
    "\n",
    "\n",
    "## Einleitung\n",
    "\n",
    "Bei diesem Versuch wurde wiederholt die gleiche Route mit einem Fahrrad befahren. Ziel ist es durch die Wiederholung die  befahrenen unterschiedlichen Oberflächen Typen zu reduzieren und somit eine bessere Klassifizerung zu ermöglichen. \n",
    "\n",
    "## Hypothese\n",
    "\n",
    "Durch Wiederholung bei der Datenerfassung sollte sich eine höhere Accuracy erziehlen lassen als im Faltungsnetz Versuch 4. Auf der befahrenen Route gibt es mehr Unebenheiten im Vergleich zu Datensatz 37 bis 42. Dies ermöglicht mehr Daten jeder Klasse zum Trainieren, weil mehr Daten mit hoher Erschütterung zur Verfügung stehen.  \n",
    "\n",
    "## Versuchsaufbau\n",
    "\n",
    "Eine Route im Naturschutzgebiet Höltigbaum wurde 14 Mal befahren siehe Abb. 1. Dabei setzen sich die Trainingsdaten aus den Datensätzen Nummer 43 und 45 bis 51 zusammen. Die Gesamtzahl der Bilder beträgt Stück.  \n",
    "\n",
    "<img src=\"../daten/abbildungen/karteDatensatz43_45_bis_51.png\" />\n",
    "Abbildung 1: Höltigbaum Route 14 Mal wiederholt befahren"
   ]
  },
  {
   "cell_type": "markdown",
   "metadata": {},
   "source": [
    "### Versuch 5.1: 3 Fahrqualitäts Klassen\n",
    "\n",
    "#### Versuchsbeschreibung\n",
    "\n",
    "Die Daten in diesem Versuch wurden in Fuzzy Logik Versuch 6 klassifiziert. Hierbei wurde unterschieden zwischen den 3 Klassen \"gut\", \"mittel\" und \"schlecht\" nach der Fahrqualität. Dieser Versuch ist eine Wiederholung des Faltungsnetz Versuchs 4.7 mit dem Unterschied, dass wie beschrieben andere Datensätze verwendet wurden. Es wurden 20 Epochen durchgeführt.  \n",
    "\n",
    "#### Ergebnis\n",
    "\n",
    "Wie auf Abb. 3 zu sehen sieht die Konfusionsmatrix der Testdaten ähnlich wie in Versuch 4.7 aus. Die Test Accuracy siehe Tab. 5.2 ist, um $2,6\\%$ höher. Eigentlich wurde eine deutlich höhere Accuracy erwartet. Auf Tab. 1 ist die Trainingshistorie abgebildet. Durch erhöhen der Anzahl der Epochen könnte sich auch das Ergebnis verbessern.   \n",
    "  \n",
    "| | \n",
    " --- | --- |\n",
    "<img src=\"../daten/abbildungen/trainingshistorieAccuracyVersuch5_1.png\" alt=\"Konfusionmatrix von Versuch 5.1\" /> | <img src=\"../daten/abbildungen/trainingshistorieLossVersuch5_1.png\" alt=\"Konfusionmatrix von Versuch 5.1\" /> \n",
    "Abbildung 2: Accuracy l.S. und Loss r.S. des Versuchs 5.1\n",
    "\n",
    "<img src=\"../daten/abbildungen/konfmatrixVersuch5_1.png\" alt=\"Konfusionmatrix von Versuch 5.1\" /> \n",
    "Abbildung 3: Konfusionmatrix von Versuch 5.1"
   ]
  },
  {
   "cell_type": "markdown",
   "metadata": {},
   "source": [
    "### Versuch 5.2: Binäre Anzahl an Klassen\n",
    "\n",
    "### Versuchsbeschreibung\n",
    "\n",
    "In diesem Versuch wurde der Versuch 4.8 wiederholt nur mit den Datensätzen 43 und 45 bis 51. Auch hier wurde erwartet das die Test Accuracy höher ist als im Versuch 4.8. Bei den Versuch gibt es zwei Klassen \"gute\" oder \"schlechte\" Fahrqualität.\n",
    "\n",
    "### Ergebnis\n",
    "\n",
    "Auf Tab. 1 ist zu sehen, dass die Test Accuracy mit $87,5\\%$ deutlich höher ist als im Versuch  4.8 mit $78,7\\%$. Dies sollte daran liegen, dass die Anzahl der Trainingsdaten höher ist und eine Route wiederholt befahren  wurde. \n",
    "\n",
    "<img src=\"../daten/abbildungen/konfmatrixVersuch5_2.png\" alt=\"Konfusionmatrix von Versuch 5.2\" /> \n",
    "Abbildung 2: Konfusionmatrix von Versuch 5.2"
   ]
  },
  {
   "cell_type": "markdown",
   "metadata": {},
   "source": [
    "## Ergebnisse\n",
    "\n",
    "Versuch Nr. | Trainings Accuracy | Trainings Loss | Validierungs Accuracy | Validierungs Loss | Test Accuracy | Test Loss \n",
    "--- | --- | --- | --- | --- \n",
    "5.1   | 0.5524 | 0.9188 | 0.6030 | 0.8369 | 0.5939 | 0.8477\n",
    "5.2   | 0.8426 | 0.3926 | 0.8766 | 0.3584 | 0.875  | 0.3552\n",
    "Tabelle 1: Ergebnisse ver Versuche  "
   ]
  },
  {
   "cell_type": "code",
   "execution_count": 66,
   "metadata": {},
   "outputs": [],
   "source": [
    "from __future__ import print_function\n",
    "from hyperopt import Trials, STATUS_OK, rand\n",
    "from hyperas import optim\n",
    "from hyperas.distributions import uniform, choice\n",
    "import pandas\n",
    "import seaborn as sns\n",
    "%matplotlib inline \n",
    "import matplotlib.pyplot as plt\n",
    "import matplotlib.lines as mlines\n",
    "from mpl_toolkits.axes_grid1 import ImageGrid\n",
    "import os\n",
    "import cv2\n",
    "import numpy as np"
   ]
  },
  {
   "cell_type": "code",
   "execution_count": 67,
   "metadata": {},
   "outputs": [],
   "source": [
    "from keras.utils import np_utils\n",
    "from keras.models import Sequential\n",
    "from keras.layers.core import Dense, Dropout, Activation, Flatten\n",
    "from keras import initializers\n",
    "from keras.layers.convolutional import Conv2D, MaxPooling2D\n",
    "from keras.optimizers import RMSprop\n",
    "from keras.models import load_model\n",
    "import keras.callbacks as cb\n",
    "from sklearn.utils import shuffle\n",
    "from sklearn.model_selection import train_test_split\n",
    "from sklearn.metrics import confusion_matrix"
   ]
  },
  {
   "cell_type": "code",
   "execution_count": 99,
   "metadata": {},
   "outputs": [],
   "source": [
    "featuresDf = pandas.read_csv(filepath_or_buffer=\"../daten/merkmale_datensatz_43_45_bis_51/merkmaleMitLabelnFuzzyVersuch6.csv\")"
   ]
  },
  {
   "cell_type": "code",
   "execution_count": 100,
   "metadata": {},
   "outputs": [],
   "source": [
    "# Nummer des aktuellen Versuchs\n",
    "experimentNumber = \"2\""
   ]
  },
  {
   "cell_type": "code",
   "execution_count": 101,
   "metadata": {},
   "outputs": [],
   "source": [
    "# Hier können die Datensätze ausgewählt werden\n",
    "datasets = ['43','45','46','47','48','49','50','51']\n",
    "# Die Pfade zu den Ordnern in welchem sich die Bilder befinden\n",
    "paths = []\n",
    "# Liste mit Pfaden zu den Bildern\n",
    "imagePaths = []"
   ]
  },
  {
   "cell_type": "code",
   "execution_count": 102,
   "metadata": {},
   "outputs": [
    {
     "name": "stdout",
     "output_type": "stream",
     "text": [
      "E:/bachelor/daten/43/zugeschnitten/\n",
      "Bilder aus folgenden Ordnern werden geladen: ['1', '2', '3', '4', '5', '6', '7', '8', '9', '10']\n",
      "Ordner der geladen wird: 1\n",
      "Ordner der geladen wird: 2\n",
      "Ordner der geladen wird: 3\n",
      "Ordner der geladen wird: 4\n",
      "Ordner der geladen wird: 5\n",
      "Ordner der geladen wird: 6\n",
      "Ordner der geladen wird: 7\n",
      "Ordner der geladen wird: 8\n",
      "Ordner der geladen wird: 9\n",
      "Ordner der geladen wird: 10\n",
      "E:/bachelor/daten/45/zugeschnitten/\n",
      "Bilder aus folgenden Ordnern werden geladen: ['1', '2', '3', '4', '5']\n",
      "Ordner der geladen wird: 1\n",
      "Ordner der geladen wird: 2\n",
      "Ordner der geladen wird: 3\n",
      "Ordner der geladen wird: 4\n",
      "Ordner der geladen wird: 5\n",
      "E:/bachelor/daten/46/zugeschnitten/\n",
      "Bilder aus folgenden Ordnern werden geladen: ['1', '2', '3', '4', '5', '6', '7', '8', '9', '10', '11']\n",
      "Ordner der geladen wird: 1\n",
      "Ordner der geladen wird: 2\n",
      "Ordner der geladen wird: 3\n",
      "Ordner der geladen wird: 4\n",
      "Ordner der geladen wird: 5\n",
      "Ordner der geladen wird: 6\n",
      "Ordner der geladen wird: 7\n",
      "Ordner der geladen wird: 8\n",
      "Ordner der geladen wird: 9\n",
      "Ordner der geladen wird: 10\n",
      "Ordner der geladen wird: 11\n",
      "E:/bachelor/daten/47/zugeschnitten/\n",
      "Bilder aus folgenden Ordnern werden geladen: ['1', '2', '3', '4', '5', '6', '7', '8', '9', '10']\n",
      "Ordner der geladen wird: 1\n",
      "Ordner der geladen wird: 2\n",
      "Ordner der geladen wird: 3\n",
      "Ordner der geladen wird: 4\n",
      "Ordner der geladen wird: 5\n",
      "Ordner der geladen wird: 6\n",
      "Ordner der geladen wird: 7\n",
      "Ordner der geladen wird: 8\n",
      "Ordner der geladen wird: 9\n",
      "Ordner der geladen wird: 10\n",
      "E:/bachelor/daten/48/zugeschnitten/\n",
      "Bilder aus folgenden Ordnern werden geladen: ['1', '2', '3', '4', '5', '6', '7', '8', '9', '10']\n",
      "Ordner der geladen wird: 1\n",
      "Ordner der geladen wird: 2\n",
      "Ordner der geladen wird: 3\n",
      "Ordner der geladen wird: 4\n",
      "Ordner der geladen wird: 5\n",
      "Ordner der geladen wird: 6\n",
      "Ordner der geladen wird: 7\n",
      "Ordner der geladen wird: 8\n",
      "Ordner der geladen wird: 9\n",
      "Ordner der geladen wird: 10\n",
      "E:/bachelor/daten/49/zugeschnitten/\n",
      "Bilder aus folgenden Ordnern werden geladen: ['1', '2', '3', '4', '5', '6', '7', '8', '9']\n",
      "Ordner der geladen wird: 1\n",
      "Ordner der geladen wird: 2\n",
      "Ordner der geladen wird: 3\n",
      "Ordner der geladen wird: 4\n",
      "Ordner der geladen wird: 5\n",
      "Ordner der geladen wird: 6\n",
      "Ordner der geladen wird: 7\n",
      "Ordner der geladen wird: 8\n",
      "Ordner der geladen wird: 9\n",
      "E:/bachelor/daten/50/zugeschnitten/\n",
      "Bilder aus folgenden Ordnern werden geladen: ['1', '2', '3', '4', '5']\n",
      "Ordner der geladen wird: 1\n",
      "Ordner der geladen wird: 2\n",
      "Ordner der geladen wird: 3\n",
      "Ordner der geladen wird: 4\n",
      "Ordner der geladen wird: 5\n",
      "E:/bachelor/daten/51/zugeschnitten/\n",
      "Bilder aus folgenden Ordnern werden geladen: ['1', '2', '3', '4', '5']\n",
      "Ordner der geladen wird: 1\n",
      "Ordner der geladen wird: 2\n",
      "Ordner der geladen wird: 3\n",
      "Ordner der geladen wird: 4\n",
      "Ordner der geladen wird: 5\n"
     ]
    }
   ],
   "source": [
    "i = 0\n",
    "for dataset in datasets: # Für jeden Datensatz merke Pfad\n",
    "    paths.append(\"E:/bachelor/daten/\" + dataset + \"/zugeschnitten/\")\n",
    "for path in paths: # Für jeden Pfad hole die Namen der Ordner\n",
    "    folders = os.listdir(path)\n",
    "    folders = sorted(folders, key=int) #sortiert die Reihenfolge de Ordner aufsteifend\n",
    "    print(path)\n",
    "    print(\"Bilder aus folgenden Ordnern werden geladen: \" + str(folders))\n",
    "    for folder in folders: # Aus der Liste der Ordner wird ein Ordner ausgewählt\n",
    "        filesPath = path + folder + \"/\"\n",
    "        files = os.listdir(filesPath)\n",
    "        print(\"Ordner der geladen wird: \" + str(folder))\n",
    "        for name in files: # Ein Dateiname aus diesem Ordner\n",
    "            if \"jpg\" not in name:\n",
    "                continue\n",
    "            if featuresDf['Klasse'].iloc[i] != 1: \n",
    "                imagePaths.append(filesPath + name)\n",
    "            i = i + 1 "
   ]
  },
  {
   "cell_type": "code",
   "execution_count": 126,
   "metadata": {},
   "outputs": [],
   "source": [
    "classNames = ['gut','schlecht'] # Namen der Klassen"
   ]
  },
  {
   "cell_type": "code",
   "execution_count": 106,
   "metadata": {},
   "outputs": [
    {
     "data": {
      "text/plain": [
       "0    23401\n",
       "1    22536\n",
       "Name: Klasse, dtype: int64"
      ]
     },
     "execution_count": 106,
     "metadata": {},
     "output_type": "execute_result"
    }
   ],
   "source": [
    "featuresDf[\"Klasse\"].value_counts()"
   ]
  },
  {
   "cell_type": "code",
   "execution_count": 105,
   "metadata": {},
   "outputs": [],
   "source": [
    "featuresDf = featuresDf[featuresDf['Klasse'] != 1]\n",
    "featuresDf[featuresDf['Klasse'] == 2] = 1"
   ]
  },
  {
   "cell_type": "code",
   "execution_count": 107,
   "metadata": {},
   "outputs": [],
   "source": [
    "yLabels = np_utils.to_categorical(featuresDf[\"Klasse\"], 0)"
   ]
  },
  {
   "cell_type": "code",
   "execution_count": 108,
   "metadata": {},
   "outputs": [],
   "source": [
    "# Setzten des RandomState um reproduzierbare Ergebnisse zu erzielen.\n",
    "np.random.seed(42)"
   ]
  },
  {
   "cell_type": "code",
   "execution_count": 109,
   "metadata": {},
   "outputs": [],
   "source": [
    "# Mischen der Trainingsdaten\n",
    "xShuffle, yShuffle = shuffle(imagePaths,yLabels)"
   ]
  },
  {
   "cell_type": "code",
   "execution_count": 110,
   "metadata": {},
   "outputs": [
    {
     "data": {
      "text/plain": [
       "22536"
      ]
     },
     "execution_count": 110,
     "metadata": {},
     "output_type": "execute_result"
    }
   ],
   "source": [
    "class1Number"
   ]
  },
  {
   "cell_type": "code",
   "execution_count": 111,
   "metadata": {},
   "outputs": [],
   "source": [
    "# Die Zelle Normiert die Anzahl der Repräsentanten pro Klasse\n",
    "class1Number = 0\n",
    "class2Number = 0 \n",
    "class3Number = 0\n",
    "maxClasses = featuresDf[\"Klasse\"].value_counts().min()\n",
    "indexToDelete = [] \n",
    "i = -1\n",
    "for label in yShuffle:\n",
    "    i = i + 1\n",
    "    labelNumber = np.argmax(label,axis=0)\n",
    "    if labelNumber == 0 and class1Number < maxClasses:\n",
    "        class1Number = class1Number + 1\n",
    "        continue\n",
    "    elif labelNumber == 0:\n",
    "        indexToDelete.append(i)\n",
    "    if labelNumber == 1 and class2Number < maxClasses:\n",
    "        class2Number = class2Number + 1\n",
    "        continue\n",
    "    elif labelNumber == 1:\n",
    "        indexToDelete.append(i)\n",
    "    if labelNumber == 2 and class3Number < maxClasses:\n",
    "        class3Number = class3Number + 1\n",
    "        continue\n",
    "    elif labelNumber == 2:\n",
    "        indexToDelete.append(i)\n",
    "    if labelNumber == 3 and class4Number < maxClasses:\n",
    "        class4Number = class4Number + 1\n",
    "        continue        \n",
    "xShuffle = [i for j, i in enumerate(xShuffle) if j not in indexToDelete]\n",
    "yShuffle = [i for j, i in enumerate(yShuffle) if j not in indexToDelete]\n",
    "yShuffle = np.asarray(yShuffle)"
   ]
  },
  {
   "cell_type": "code",
   "execution_count": 112,
   "metadata": {},
   "outputs": [],
   "source": [
    "# Mischen der Trainingsdaten\n",
    "xShuffle, yShuffle = shuffle(xShuffle,yShuffle)"
   ]
  },
  {
   "cell_type": "code",
   "execution_count": 113,
   "metadata": {},
   "outputs": [],
   "source": [
    "# Aufteilung in Trainings, Validation und Testdaten\n",
    "xTrain, xTest, yTrain, yTest = train_test_split(xShuffle, yShuffle, test_size=0.10)\n",
    "xTrain, xVal, yTrain, yVal = train_test_split(xTrain, yTrain, test_size=0.20) "
   ]
  },
  {
   "cell_type": "code",
   "execution_count": 115,
   "metadata": {},
   "outputs": [
    {
     "data": {
      "text/plain": [
       "Counter({0: 16216, 1: 16235})"
      ]
     },
     "execution_count": 115,
     "metadata": {},
     "output_type": "execute_result"
    }
   ],
   "source": [
    "import collections\n",
    "collections.Counter(np.argmax(yTrain, axis=1))"
   ]
  },
  {
   "cell_type": "code",
   "execution_count": 116,
   "metadata": {},
   "outputs": [],
   "source": [
    "# Diese Funktion läd Bilder in den Hauptspeicher\n",
    "# imagesPaths: Liste mit Pfaden zu den Bildern != null\n",
    "def imageLoader(imagePaths):\n",
    "    images = []\n",
    "    for path in imagePaths:\n",
    "        images.append(cv2.cvtColor(cv2.imread(path),cv2.COLOR_BGR2RGB))\n",
    "    imagesNp = np.array(images)\n",
    "    imagesNp = imagesNp.astype('float32')\n",
    "    # Transfomierung der Bildpunkte auf den Wetebereich von 0 bis 1\n",
    "    imagesNp /= 255\n",
    "    return imagesNp"
   ]
  },
  {
   "cell_type": "code",
   "execution_count": 117,
   "metadata": {},
   "outputs": [],
   "source": [
    "# Läd Trainingsdaten in batches\n",
    "def dataLoader(imagePaths, features, batchSize):\n",
    "    imagesCount = len(imagePaths)  \n",
    "    while True:\n",
    "        batchStart = 0\n",
    "        batchEnd = batchSize\n",
    "        while batchStart < imagesCount:\n",
    "            limit = min(batchEnd, imagesCount)\n",
    "            x = imageLoader(imagePaths[batchStart:limit])\n",
    "            y = features[batchStart:limit]\n",
    "            yield (x,y) \n",
    "            batchStart += batchSize   \n",
    "            batchEnd += batchSize"
   ]
  },
  {
   "cell_type": "code",
   "execution_count": 118,
   "metadata": {},
   "outputs": [],
   "source": [
    "# Parameter für das CNN\n",
    "inputShape     = (368, 70, 3)   # Eingangs Array-Form \n",
    "numNeuronsC1   = 32                # Anzahl der Filter / 1 Faltungsschicht\n",
    "numNeuronsC2   = 32                # Anzahl der Filter / 2 Faltungsschicht\n",
    "numNeuronsC3   = 64                # Anzahl der Filter / 3 Faltungsschicht\n",
    "numNeuronsC4   = 256\n",
    "numNeuronsD1   = 64                # Anzahl der Neuronen des Fully connected layer - vollverbundene Schicht\n",
    "poolSize       = 2                 # Größe der Pooling-Layer\n",
    "convKernelSize = 3                 # Größe des Faltungskern n*n\n",
    "batchSize      = 16"
   ]
  },
  {
   "cell_type": "code",
   "execution_count": 120,
   "metadata": {},
   "outputs": [
    {
     "name": "stdout",
     "output_type": "stream",
     "text": [
      "Epoch 1/20\n",
      "2028/2028 [==============================] - 145s 72ms/step - loss: 4.0808 - acc: 0.5422 - val_loss: 0.5906 - val_acc: 0.7427\n",
      "Epoch 2/20\n",
      "2028/2028 [==============================] - 143s 71ms/step - loss: 0.5358 - acc: 0.7367 - val_loss: 0.3807 - val_acc: 0.8465\n",
      "Epoch 3/20\n",
      "2028/2028 [==============================] - 143s 71ms/step - loss: 0.4305 - acc: 0.8187 - val_loss: 0.3783 - val_acc: 0.8481\n",
      "Epoch 4/20\n",
      "2028/2028 [==============================] - 143s 71ms/step - loss: 0.4075 - acc: 0.8341 - val_loss: 0.3718 - val_acc: 0.8528\n",
      "Epoch 5/20\n",
      "2028/2028 [==============================] - 146s 72ms/step - loss: 0.4020 - acc: 0.8380 - val_loss: 0.3409 - val_acc: 0.8706\n",
      "Epoch 6/20\n",
      "2028/2028 [==============================] - 144s 71ms/step - loss: 0.3926 - acc: 0.8426 - val_loss: 0.3584 - val_acc: 0.8766\n",
      "Epoch 7/20\n",
      "2028/2028 [==============================] - 144s 71ms/step - loss: 0.3883 - acc: 0.8476 - val_loss: 0.5014 - val_acc: 0.8417\n",
      "Epoch 8/20\n",
      "2028/2028 [==============================] - 144s 71ms/step - loss: 0.3873 - acc: 0.8477 - val_loss: 0.3657 - val_acc: 0.8633\n",
      "Epoch 9/20\n",
      "2028/2028 [==============================] - 144s 71ms/step - loss: 0.3800 - acc: 0.8495 - val_loss: 0.4781 - val_acc: 0.8556\n",
      "Epoch 10/20\n",
      "2028/2028 [==============================] - 144s 71ms/step - loss: 0.3830 - acc: 0.8497 - val_loss: 0.3652 - val_acc: 0.8675\n",
      "Epoch 11/20\n",
      "2028/2028 [==============================] - 144s 71ms/step - loss: 0.3822 - acc: 0.8518 - val_loss: 0.5235 - val_acc: 0.8234\n",
      "Epoch 12/20\n",
      "2028/2028 [==============================] - 144s 71ms/step - loss: 0.3805 - acc: 0.8499 - val_loss: 0.4839 - val_acc: 0.8703\n",
      "Epoch 13/20\n",
      "2028/2028 [==============================] - 144s 71ms/step - loss: 0.3836 - acc: 0.8504 - val_loss: 0.3619 - val_acc: 0.8581\n",
      "Epoch 14/20\n",
      "2028/2028 [==============================] - 144s 71ms/step - loss: 0.3815 - acc: 0.8517 - val_loss: 0.3412 - val_acc: 0.8704\n",
      "Epoch 15/20\n",
      "2028/2028 [==============================] - 144s 71ms/step - loss: 0.3773 - acc: 0.8524 - val_loss: 0.5151 - val_acc: 0.8534\n",
      "Epoch 16/20\n",
      "2028/2028 [==============================] - 144s 71ms/step - loss: 0.3800 - acc: 0.8492 - val_loss: 0.5943 - val_acc: 0.8446\n",
      "Epoch 00016: early stopping\n",
      "Test score: 0.619245771842\n",
      "Test accuracy: 0.844306049822\n"
     ]
    }
   ],
   "source": [
    "modelCNN = Sequential()\n",
    "modelCNN.add(Conv2D(numNeuronsC1, (convKernelSize, convKernelSize), padding='same', input_shape=inputShape,kernel_initializer=initializers.glorot_uniform(seed=42)))\n",
    "modelCNN.add(Activation(\"elu\"))\n",
    "modelCNN.add(MaxPooling2D(pool_size=(poolSize, poolSize)))\n",
    "modelCNN.add(Dropout(0.11))\n",
    "modelCNN.add(Conv2D(numNeuronsC2, (convKernelSize, convKernelSize), padding='same', kernel_initializer=initializers.glorot_uniform(seed=42)))\n",
    "modelCNN.add(Activation(\"elu\"))\n",
    "modelCNN.add(MaxPooling2D(pool_size=(poolSize, poolSize)))\n",
    "modelCNN.add(Dropout(0.38))\n",
    "modelCNN.add(Conv2D(numNeuronsC3, (convKernelSize, convKernelSize), padding='same', kernel_initializer=initializers.glorot_uniform(seed=42)))\n",
    "modelCNN.add(Activation(\"elu\"))\n",
    "modelCNN.add(MaxPooling2D(pool_size=(poolSize, poolSize)))       \n",
    "modelCNN.add(Dropout(0.30))\n",
    "modelCNN.add(Conv2D(numNeuronsC4, (convKernelSize, convKernelSize), padding='same', kernel_initializer=initializers.glorot_uniform(seed=42)))\n",
    "modelCNN.add(Activation(\"elu\"))\n",
    "modelCNN.add(MaxPooling2D(pool_size=(poolSize, poolSize)))       \n",
    "modelCNN.add(Dropout(0.49))\n",
    "modelCNN.add(Flatten())\n",
    "modelCNN.add(Dense(numNeuronsD1, kernel_initializer=initializers.glorot_uniform(seed=42)))\n",
    "modelCNN.add(Activation(\"elu\"))\n",
    "modelCNN.add(Dropout(0.36)) \n",
    "modelCNN.add(Dense(2, kernel_initializer=initializers.glorot_uniform(seed=42)))\n",
    "modelCNN.add(Activation('softmax'))\n",
    "            \n",
    "modelCNN.compile(loss='categorical_crossentropy', optimizer=\"RMSprop\", metrics=[\"accuracy\"])\n",
    "\n",
    "earlyStopping  = cb.EarlyStopping(monitor='val_acc', patience=10, verbose=1, mode='max')\n",
    "checkpointSafe = cb.ModelCheckpoint('ergebnisse_versuch5/modell_versuch5_' + experimentNumber, monitor='val_acc', save_best_only=True)   \n",
    "hist = modelCNN.fit_generator(dataLoader(xTrain, yTrain, batchSize), epochs=20, steps_per_epoch=(int(len(xTrain)/batchSize)),\n",
    "              validation_data=dataLoader(xVal, yVal, batchSize), validation_steps=(int(len(xVal)/batchSize)), callbacks=[earlyStopping,checkpointSafe])\n",
    "\n",
    "score, acc = modelCNN.evaluate_generator( dataLoader(xTest, yTest, batchSize), steps=(int(len(xTest)/batchSize)))\n",
    "print('Test score: '    +  str(score))\n",
    "print('Test accuracy: ' +  str(acc)  )"
   ]
  },
  {
   "cell_type": "code",
   "execution_count": 121,
   "metadata": {},
   "outputs": [
    {
     "data": {
      "text/plain": [
       "<Figure size 432x288 with 0 Axes>"
      ]
     },
     "metadata": {},
     "output_type": "display_data"
    },
    {
     "data": {
      "image/png": "[encoded data removed]",
      "text/plain": [
       "<Figure size 576x288 with 1 Axes>"
      ]
     },
     "metadata": {},
     "output_type": "display_data"
    },
    {
     "data": {
      "image/png": "[encoded data removed]",
      "text/plain": [
       "<Figure size 576x288 with 1 Axes>"
      ]
     },
     "metadata": {},
     "output_type": "display_data"
    }
   ],
   "source": [
    "# Plot Modell Historie Loss und Accuracy\n",
    "plt.figure(1)\n",
    "plt.figure(figsize=(8,4))\n",
    "plt.title('Trainingshistorie: Loss')\n",
    "plt.xlabel('Epoche')\n",
    "plt.ylabel('Loss')\n",
    "plt.plot(hist.history['loss'])\n",
    "plt.plot(hist.history['val_loss'])\n",
    "plt.legend(['Training', 'Validation'])\n",
    "plt.xlim(0,15)\n",
    "plt.grid(True)\n",
    "plt.savefig(\"trainingshistorieLossVersuch5_\" + experimentNumber + \".png\")\n",
    "plt.xticks(np.arange(0, 15.1, step=1))\n",
    "plt.figure(2)\n",
    "plt.figure(figsize=(8,4))\n",
    "plt.title('Trainingshistorie: Accuracy')\n",
    "plt.xticks()\n",
    "plt.xlabel('Epoche')\n",
    "plt.ylabel('Accuracy')\n",
    "plt.plot(hist.history['acc'])\n",
    "plt.plot(hist.history['val_acc'])\n",
    "plt.legend(['Training', 'Validation'], loc='right')\n",
    "plt.xlim(0,15)\n",
    "plt.xticks(np.arange(0, 15.1, step=1))\n",
    "plt.grid(True)\n",
    "plt.savefig(\"trainingshistorieAccuracyVersuch5_\" + experimentNumber + \".png\")\n",
    "plt.show()"
   ]
  },
  {
   "cell_type": "code",
   "execution_count": 122,
   "metadata": {},
   "outputs": [],
   "source": [
    "# Läd Modell\n",
    "modell1 = load_model('ergebnisse_versuch5/modell_versuch5_2')"
   ]
  },
  {
   "cell_type": "code",
   "execution_count": 123,
   "metadata": {},
   "outputs": [
    {
     "data": {
      "text/plain": [
       "[0.35521340508053734, 0.875]"
      ]
     },
     "execution_count": 123,
     "metadata": {},
     "output_type": "execute_result"
    }
   ],
   "source": [
    "modell1.evaluate_generator( dataLoader(xTest, yTest, 16), steps=int(len(xTest)/16))"
   ]
  },
  {
   "cell_type": "code",
   "execution_count": 124,
   "metadata": {},
   "outputs": [],
   "source": [
    "# Bei der Verwendung von predict_generator werden die daten gemischt \n",
    "validPreds = []\n",
    "imageList = []\n",
    "for path in xTest:\n",
    "    imageList = []   \n",
    "    img = cv2.cvtColor(cv2.imread(path),cv2.COLOR_BGR2RGB)\n",
    "    img = np.array(img)\n",
    "    img = img.astype('float32')\n",
    "    img /= 255\n",
    "    imageList.append(img)\n",
    "    validPreds.append(modell1.predict(np.asarray(imageList)))"
   ]
  },
  {
   "cell_type": "code",
   "execution_count": 127,
   "metadata": {},
   "outputs": [
    {
     "name": "stdout",
     "output_type": "stream",
     "text": [
      "[[2044  162]\n",
      " [ 400 1902]]\n"
     ]
    },
    {
     "data": {
      "image/png": "[encoded data removed]",
      "text/plain": [
       "<Figure size 432x432 with 2 Axes>"
      ]
     },
     "metadata": {},
     "output_type": "display_data"
    }
   ],
   "source": [
    "# Konfusionsmatrix\n",
    "validPredArray = np.argmax(np.vstack(validPreds), axis=1)\n",
    "yTestMax = np.argmax(yTest,axis=1)\n",
    "cnfMatrix = confusion_matrix(yTestMax, validPredArray)\n",
    "print(cnfMatrix)\n",
    "fig, ax = plt.subplots(figsize=(6,6)) \n",
    "ax = sns.heatmap(cnfMatrix, fmt=\"d\", cmap=plt.cm.Blues, ax=ax , annot=True)\n",
    "ax.set_xticklabels(classNames)\n",
    "ax.set_yticklabels(classNames)\n",
    "plt.title('Konfusionsmatrix Versuch 5.2')\n",
    "plt.ylabel('Wahre Klasse')\n",
    "plt.xlabel('Vorhergesagte Klasse')\n",
    "plt.savefig('konfmatrixVersuch5_2.png')\n",
    "plt.show()"
   ]
  },
  {
   "cell_type": "code",
   "execution_count": null,
   "metadata": {},
   "outputs": [],
   "source": []
  }
 ],
 "metadata": {
  "kernelspec": {
   "display_name": "Python 3",
   "language": "python",
   "name": "python3"
  },
  "language_info": {
   "codemirror_mode": {
    "name": "ipython",
    "version": 3
   },
   "file_extension": ".py",
   "mimetype": "text/x-python",
   "name": "python",
   "nbconvert_exporter": "python",
   "pygments_lexer": "ipython3",
   "version": "3.6.4"
  },
  "latex_envs": {
   "LaTeX_envs_menu_present": true,
   "autocomplete": true,
   "bibliofile": "biblio.bib",
   "cite_by": "apalike",
   "current_citInitial": 1,
   "eqLabelWithNumbers": true,
   "eqNumInitial": 1,
   "hotkeys": {
    "equation": "Ctrl-E",
    "itemize": "Ctrl-I"
   },
   "labels_anchors": false,
   "latex_user_defs": false,
   "report_style_numbering": false,
   "user_envs_cfg": false
  },
  "toc": {
   "colors": {
    "hover_highlight": "#DAA520",
    "navigate_num": "#000000",
    "navigate_text": "#333333",
    "running_highlight": "#FF0000",
    "selected_highlight": "#FFD700",
    "sidebar_border": "#EEEEEE",
    "wrapper_background": "#FFFFFF"
   },
   "moveMenuLeft": true,
   "nav_menu": {
    "height": "102px",
    "width": "252px"
   },
   "navigate_menu": true,
   "number_sections": true,
   "sideBar": true,
   "threshold": 4,
   "toc_cell": false,
   "toc_section_display": "block",
   "toc_window_display": false,
   "widenNotebook": false
  }
 },
 "nbformat": 4,
 "nbformat_minor": 2
}
