{
 "cells": [
  {
   "cell_type": "markdown",
   "metadata": {},
   "source": [
    "# Versuch 5: Vortrainiertes Faltungsnetz\n",
    "\n",
    "## Einleitung\n",
    "\n",
    "Ziel dieses Versuch ist es ein vortrainiertes Faltungsnetz für die Klassifizierung zu verwenden. Dabei wurden die obersten Faltungsschichten eingefroren.  \n",
    "\n",
    "## Versuchsbeschreibung\n",
    "\n",
    "Als Vorlage wird das Xception Faltungsnetz genutzt. Von den mit Keras unterstützden Modelle hat diese nach der Keras [Dokumentation](https://keras.io/applications/) die höchste Top-5 Accuracy. Dieser Wert richtet sich nach dem Validierungsergebnis des ImageNet Datensatz. Weitere vortrainierte Modelle gibt es auch unter [Tensorflow Model Zoo](https://github.com/tensorflow/models) oder [Caffe's Model Zoo](https://github.com/BVLC/caffe/wiki/Model-Zoo#googlenet_cars-on-car-model-classification).  \n",
    "\n"
   ]
  },
  {
   "cell_type": "code",
   "execution_count": 7,
   "metadata": {
    "ExecuteTime": {
     "end_time": "2018-06-28T13:58:43.510237Z",
     "start_time": "2018-06-28T13:57:50.392396Z"
    }
   },
   "outputs": [
    {
     "name": "stdout",
     "output_type": "stream",
     "text": [
      "Downloading data from https://github.com/fchollet/deep-learning-models/releases/download/v0.1/vgg19_weights_tf_dim_ordering_tf_kernels.h5\n",
      "574717952/574710816 [==============================] - 18s 0us/step\n"
     ]
    }
   ],
   "source": [
    "from keras.applications.vgg19 import VGG19\n",
    "from keras.preprocessing import image\n",
    "from keras.applications.vgg19 import preprocess_input\n",
    "from keras.models import Model\n",
    "import numpy as np\n",
    "\n",
    "base_model = VGG19(weights='imagenet')\n",
    "model = Model(inputs=base_model.input, outputs=base_model.get_layer('block4_pool').output)\n",
    "\n",
    "img_path = 'elephant.jpg'\n",
    "img = image.load_img(img_path, target_size=(224, 224))\n",
    "x = image.img_to_array(img)\n",
    "x = np.expand_dims(x, axis=0)\n",
    "x = preprocess_input(x)\n",
    "\n",
    "block4_pool_features = model.predict(x)"
   ]
  },
  {
   "cell_type": "code",
   "execution_count": 8,
   "metadata": {
    "ExecuteTime": {
     "end_time": "2018-06-28T13:58:43.638713Z",
     "start_time": "2018-06-28T13:58:43.607464Z"
    }
   },
   "outputs": [
    {
     "data": {
      "text/plain": [
       "array([[[[   0.      ,    0.      ,    0.      , ...,    0.      ,\n",
       "             0.      ,    0.      ],\n",
       "         [   0.      ,    0.      ,    0.      , ...,    0.      ,\n",
       "           589.9006  ,    0.      ],\n",
       "         [   0.      ,    0.      ,    0.      , ...,   37.448616,\n",
       "           451.63962 ,    0.      ],\n",
       "         ...,\n",
       "         [   0.      ,    0.      ,    0.      , ...,    0.      ,\n",
       "             0.      ,  190.36711 ],\n",
       "         [   0.      ,    0.      ,  130.78616 , ...,    0.      ,\n",
       "             0.      ,   38.167454],\n",
       "         [   0.      ,    0.      ,    0.      , ...,    0.      ,\n",
       "           286.79123 ,    0.      ]],\n",
       "\n",
       "        [[   0.      ,    0.      ,    0.      , ...,    0.      ,\n",
       "            50.09113 ,    0.      ],\n",
       "         [   0.      ,  230.4177  ,    0.      , ...,  147.20323 ,\n",
       "           585.5508  ,    0.      ],\n",
       "         [   0.      ,  274.22263 ,    0.      , ...,    0.      ,\n",
       "             0.      ,    0.      ],\n",
       "         ...,\n",
       "         [   0.      ,  110.20771 ,    0.      , ...,  242.9805  ,\n",
       "             0.      ,  563.1578  ],\n",
       "         [   0.      ,    0.      ,    0.      , ...,   40.73221 ,\n",
       "             0.      ,  585.3775  ],\n",
       "         [  45.518005,    0.      ,    0.      , ...,    0.      ,\n",
       "             0.      ,  409.39566 ]],\n",
       "\n",
       "        [[   0.      ,    0.      ,    0.      , ...,   10.023998,\n",
       "             0.      ,  278.0508  ],\n",
       "         [   0.      ,    0.      ,    0.      , ...,  150.09062 ,\n",
       "             0.      ,  411.54214 ],\n",
       "         [   0.      ,    0.      ,    0.      , ...,  608.6392  ,\n",
       "           244.75644 ,    0.      ],\n",
       "         ...,\n",
       "         [   0.      ,    0.      ,    0.      , ...,    0.      ,\n",
       "             0.      ,    0.      ],\n",
       "         [   0.      ,    0.      ,    0.      , ...,    0.      ,\n",
       "             0.      ,   91.80299 ],\n",
       "         [   0.      ,    0.      ,    0.      , ...,    0.      ,\n",
       "             0.      ,    0.      ]],\n",
       "\n",
       "        ...,\n",
       "\n",
       "        [[ 375.4006  ,    0.      ,   56.736942, ...,    0.      ,\n",
       "             0.      ,   79.9987  ],\n",
       "         [ 173.03482 ,    0.      ,    0.      , ...,    0.      ,\n",
       "             0.      ,    0.      ],\n",
       "         [   0.      ,    0.      ,    0.      , ...,  187.8802  ,\n",
       "             0.      ,    0.      ],\n",
       "         ...,\n",
       "         [   0.      ,    0.      ,    0.      , ...,    0.      ,\n",
       "             0.      ,  865.29266 ],\n",
       "         [ 689.7511  ,    0.      ,    0.      , ...,  802.1342  ,\n",
       "           102.07237 ,  801.4882  ],\n",
       "         [   0.      ,    0.      ,  220.04034 , ...,    0.      ,\n",
       "             0.      ,    0.      ]],\n",
       "\n",
       "        [[   0.      ,  465.96765 ,    0.      , ...,    0.      ,\n",
       "             0.      ,  484.86685 ],\n",
       "         [   0.      ,    0.      ,    0.      , ...,    0.      ,\n",
       "             0.      ,    0.      ],\n",
       "         [   0.      ,    0.      ,  134.33194 , ...,    0.      ,\n",
       "             0.      ,    0.      ],\n",
       "         ...,\n",
       "         [   0.      ,  869.53174 ,    0.      , ...,    0.      ,\n",
       "           255.83456 ,    0.      ],\n",
       "         [ 120.50897 ,  627.56006 ,    0.      , ...,    0.      ,\n",
       "           636.7243  ,    0.      ],\n",
       "         [   0.      ,   79.044014,    0.      , ...,    0.      ,\n",
       "             0.      ,    0.      ]],\n",
       "\n",
       "        [[   0.      ,  235.90382 ,    0.      , ...,    0.      ,\n",
       "             0.      ,   98.728775],\n",
       "         [   0.      ,    0.      ,    0.      , ...,    0.      ,\n",
       "             0.      ,    0.      ],\n",
       "         [   0.      ,    0.      ,    0.      , ...,    0.      ,\n",
       "             0.      ,    0.      ],\n",
       "         ...,\n",
       "         [ 389.66034 ,    0.      ,    0.      , ...,    0.      ,\n",
       "           582.3947  ,    0.      ],\n",
       "         [ 231.0988  ,    0.      ,    0.      , ...,    0.      ,\n",
       "          1326.7543  ,    0.      ],\n",
       "         [ 368.0657  ,    0.      ,    0.      , ...,    0.      ,\n",
       "             0.      ,    0.      ]]]], dtype=float32)"
      ]
     },
     "execution_count": 8,
     "metadata": {},
     "output_type": "execute_result"
    }
   ],
   "source": [
    "block4_pool_features"
   ]
  },
  {
   "cell_type": "code",
   "execution_count": null,
   "metadata": {},
   "outputs": [],
   "source": []
  }
 ],
 "metadata": {
  "kernelspec": {
   "display_name": "Python [conda env:bicycle]",
   "language": "python",
   "name": "conda-env-bicycle-py"
  },
  "language_info": {
   "codemirror_mode": {
    "name": "ipython",
    "version": 3
   },
   "file_extension": ".py",
   "mimetype": "text/x-python",
   "name": "python",
   "nbconvert_exporter": "python",
   "pygments_lexer": "ipython3",
   "version": "3.6.5"
  },
  "latex_envs": {
   "LaTeX_envs_menu_present": true,
   "autoclose": false,
   "autocomplete": true,
   "bibliofile": "biblio.bib",
   "cite_by": "apalike",
   "current_citInitial": 1,
   "eqLabelWithNumbers": true,
   "eqNumInitial": 1,
   "hotkeys": {
    "equation": "Ctrl-E",
    "itemize": "Ctrl-I"
   },
   "labels_anchors": false,
   "latex_user_defs": false,
   "report_style_numbering": false,
   "user_envs_cfg": false
  },
  "toc": {
   "base_numbering": 1,
   "nav_menu": {},
   "number_sections": true,
   "sideBar": true,
   "skip_h1_title": false,
   "title_cell": "Table of Contents",
   "title_sidebar": "Contents",
   "toc_cell": false,
   "toc_position": {},
   "toc_section_display": true,
   "toc_window_display": false
  },
  "varInspector": {
   "cols": {
    "lenName": 16,
    "lenType": 16,
    "lenVar": 40
   },
   "kernels_config": {
    "python": {
     "delete_cmd_postfix": "",
     "delete_cmd_prefix": "del ",
     "library": "var_list.py",
     "varRefreshCmd": "print(var_dic_list())"
    },
    "r": {
     "delete_cmd_postfix": ") ",
     "delete_cmd_prefix": "rm(",
     "library": "var_list.r",
     "varRefreshCmd": "cat(var_dic_list()) "
    }
   },
   "types_to_exclude": [
    "module",
    "function",
    "builtin_function_or_method",
    "instance",
    "_Feature"
   ],
   "window_display": false
  }
 },
 "nbformat": 4,
 "nbformat_minor": 2
}
