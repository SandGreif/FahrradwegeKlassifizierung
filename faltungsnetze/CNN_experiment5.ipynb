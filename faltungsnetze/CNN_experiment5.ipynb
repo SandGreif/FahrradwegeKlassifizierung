{
 "cells": [
  {
   "cell_type": "markdown",
   "metadata": {},
   "source": [
    "# Faltungsnetz Versuch 5: Daten mit Wiederholung\n",
    "\n",
    "\n",
    "## Einleitung\n",
    "\n",
    "Bei diesem Versuch wurde wiederholt die gleiche Route mit einem Fahrrad befahren. Ziel ist es durch die Wiederholung die  befahrenen unterschiedlichen Oberflächen Typen zu reduzieren und somit eine bessere Klassifizerung zu ermöglichen. \n",
    "\n",
    "## Hypothese\n",
    "\n",
    "Durch Wiederholung bei der Datenerfassung sollte sich eine höhere Accuracy erziehlen lassen als im Faltungsnetz Versuch 4. Auf der befahrenen Route gibt es mehr Unebenheiten im Vergleich zu Datensatz 37 bis 42. Dies ermöglicht mehr Daten jeder Klasse zum Trainieren, weil mehr Daten mit hoher Erschütterung zur Verfügung stehen.  \n",
    "\n",
    "## Versuchsaufbau\n",
    "\n",
    "Eine Route im Naturschutzgebiet Höltigbaum wurde 14 Mal befahren siehe Abb. 1. Dabei setzen sich die Trainingsdaten aus den Datensätzen Nummer 43 und 45 bis 51 zusammen. Die Gesamtzahl der Bilder beträgt Stück.  \n",
    "\n",
    "<img src=\"../daten/abbildungen/karteDatensatz43_45_bis_51.png\" />\n",
    "Abbildung 1: Höltigbaum Route 14 Mal wiederholt befahren"
   ]
  },
  {
   "cell_type": "code",
   "execution_count": null,
   "metadata": {},
   "outputs": [],
   "source": []
  }
 ],
 "metadata": {
  "kernelspec": {
   "display_name": "Python 3",
   "language": "python",
   "name": "python3"
  },
  "language_info": {
   "codemirror_mode": {
    "name": "ipython",
    "version": 3
   },
   "file_extension": ".py",
   "mimetype": "text/x-python",
   "name": "python",
   "nbconvert_exporter": "python",
   "pygments_lexer": "ipython3",
   "version": "3.6.4"
  },
  "latex_envs": {
   "LaTeX_envs_menu_present": true,
   "autocomplete": true,
   "bibliofile": "biblio.bib",
   "cite_by": "apalike",
   "current_citInitial": 1,
   "eqLabelWithNumbers": true,
   "eqNumInitial": 1,
   "hotkeys": {
    "equation": "Ctrl-E",
    "itemize": "Ctrl-I"
   },
   "labels_anchors": false,
   "latex_user_defs": false,
   "report_style_numbering": false,
   "user_envs_cfg": false
  },
  "toc": {
   "colors": {
    "hover_highlight": "#DAA520",
    "navigate_num": "#000000",
    "navigate_text": "#333333",
    "running_highlight": "#FF0000",
    "selected_highlight": "#FFD700",
    "sidebar_border": "#EEEEEE",
    "wrapper_background": "#FFFFFF"
   },
   "moveMenuLeft": true,
   "nav_menu": {
    "height": "102px",
    "width": "252px"
   },
   "navigate_menu": true,
   "number_sections": true,
   "sideBar": true,
   "threshold": 4,
   "toc_cell": false,
   "toc_section_display": "block",
   "toc_window_display": false,
   "widenNotebook": false
  }
 },
 "nbformat": 4,
 "nbformat_minor": 2
}
