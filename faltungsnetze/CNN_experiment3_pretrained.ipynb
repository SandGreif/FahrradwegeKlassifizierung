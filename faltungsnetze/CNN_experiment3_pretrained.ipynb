{
 "cells": [
  {
   "cell_type": "markdown",
   "metadata": {},
   "source": [
    "# Versuch 3: Vortrainiertes Faltungsnetz\n",
    "\n",
    "## Einleitung\n",
    "\n",
    "Ziel dieses Versuch ist es ein vortrainiertes Faltungsnetz für die Klassifizierung zu verwenden. Dabei wurden nur die obersten Faltungsschichten nicht eingefroren.  \n",
    "\n",
    "## Versuchsbeschreibung\n",
    "\n",
    "Als Vorlage wurde das [Xception](https://arxiv.org/pdf/1610.02357.pdf) Faltungsnetz genutzt. Von den mit Keras unterstützden Modelle hat diese nach der Keras [Dokumentation](https://keras.io/applications/) die höchste Top-5 accuracy. Dieser Wert richtet sich nach dem Validierungsergebnis des ImageNet Datensatz. Weitere vortrainierte Modelle gibt es auch unter [Tensorflow Model Zoo](https://github.com/tensorflow/models) oder [Caffe's Model Zoo](https://github.com/BVLC/caffe/wiki/Model-Zoo#googlenet_cars-on-car-model-classification).  \n",
    "\n",
    "## Versuch 3.1\n",
    "\n",
    "### Versuchsaufbau\n",
    "\n",
    "In diesem Versuch wurde als vortrainiertes Faltungsnetz Xception benutzt. Dabei wurden als Trainigsdaten die Datensätze 43, 45 bis 51 verwendet. Die Bilder mussten vorher neu zugeschnitten werden auf $383px$ x $72px$, weil die minimale Breite und Höhe der Bilder $71px$ beträgt. Von den 132 Schichten waren die letzten 3 trainierbar. Die Anzahl der Epochen betrug 10. Als Optimierungsfunktion wurde Adam genutzt mit einer Lernrate von $4x10^{-5}$. Womit über ein überanpassung verhindert werden sollte. \n",
    "\n",
    "### Erwartung\n",
    "\n",
    "Erwartet wurde eine niedrigere validierungs accuracy als in Versuch 2.3.4 (5.4). Mit der Begründung, dass das Faltungsnetzwerk mit dem ImageNet Datensatz vortrainiert wurde und nicht mit den Daten die bei diesem Versuch benutzt werden. \n",
    "\n",
    "### Ergebnis\n",
    "\n",
    "Wie auf Abb. 3.1 und 3.2 zu sehen ist das Modell überangepasst. Auf Abb. 3.3. ist zu sehen, dass vorwiegend die Klasse schlecht vorhergesagt wurde. Die Test accuracy betrug nur $39.13\\%$ siehe Tab. 3.1.\n",
    "\n",
    "<img src=\"../daten/abbildungen/trainingshistorieAccuracyVersuch3_1.png\" alt\"Trainingshistorie accuracy Versuch 3.1\" />\n",
    "Abbildung 3.1: Trainingshistorie accuracy Versuch 3.1\n",
    "\n",
    "<img src=\"../daten/abbildungen/trainingshistorieLossVersuch3_1.png\" alt\"Trainingshistorie loss Versuch 3.1\" />\n",
    "Abbildung 3.2: Trainingshistorie loss Versuch 3.1\n",
    "\n",
    "<img src=\"../daten/abbildungen/konfmatrixVersuch3_1.png\" alt\"Konfusionsmatrix des Versuch 3.1\" />\n",
    "Abbildung 3.3: Konfusionmatrix der Testdaten des Versuch 3.1"
   ]
  },
  {
   "cell_type": "markdown",
   "metadata": {},
   "source": [
    "## Versuch 3.2 \n",
    "\n",
    "### Versuchaufbau\n",
    "\n",
    "In diesem Versuch wurde die anzahl der zu trainierenden Schichten von Xception erhöht auf die letzten 6.\n",
    "\n",
    "### Hypothese \n",
    "\n",
    "Erwartet wurde, dass das Faltungsnetzwerk noch mehr überangepasst ist als in Versuch 3.1. Mit der Begründung das mehr Schichten als in Versuch 3.1 trainiert worden. \n",
    "\n",
    "### Ergebnis\n",
    "\n",
    "Die Trainings accuracy stieg nur gering an, um $0.35\\%$ im Vergleich zu Versuch 3.1. Dies müsste an der geringen Anzahl von 10 Epochen und der niefrigen Adam Lernrate bei $4x10^{-5}$ liegen."
   ]
  },
  {
   "cell_type": "markdown",
   "metadata": {},
   "source": [
    "## Versuch 3.3: Regulierung mit Dropout\n",
    "\n",
    "### Versuchsbeschreibung\n",
    "\n",
    "In diesem Versuch wurde Droptout als Schicht zu Xception hnzugefügt mit dem Ziel die überanpassung an die Trainingsdaten zu verhindern.\n",
    "\n",
    "### Versuchsaufbau\n",
    "\n",
    "Die Schicht Dropout wurde als Schicht Nummer 133 hinzugefügt mit einer Dropout-Rate von $80\\%$.\n",
    "\n",
    "### Ergebnis\n",
    "\n",
    "Auch dieses Modell war überangepasst siehe Abb. 3.4. Durch die Regulierung konnte allerdings eine Test accuracy von $42.70\\%$ erzielt werden mit dem besten Modell.\n",
    "\n",
    "<img src=\"../daten/abbildungen/trainingshistorieAccuracyVersuch3_3.png\" alt\"Trainingshistorie des Versuch 3.3\" />\n",
    "Abbildung 3.4: Trainingshistorie des Versuch 3.3"
   ]
  },
  {
   "cell_type": "markdown",
   "metadata": {},
   "source": [
    "## Versuch 3.4: Regulierung mit data augmentation\n",
    "\n",
    "### Versuchsbeschreibung\n",
    "\n",
    "Ziel war es zu untersuchen, welche accuracy mit data augmentation erreicht werden kann.\n",
    "\n",
    "### Versuchsaufbau\n",
    "\n",
    "Um die Trainingslaufzeit des Modells zu verkürzen betrug die Anzahl der Epochen nur 5. Zudem wurde die Anzahl der Daten in $50\\%$ Trainingsdaten erhöht. Damit sollte das Training  durch weniger Daten beschleunigt werden. Die Dropout Schicht aus Versuch 3.3 wurde wieder entfernt. Als data augmenation wurde die Keras Methode ImageDataGenerator genutzt mit einem zufälligen Wertebereich Argument von $0.3$.\n",
    "\n",
    "#### Ergebnis\n",
    "\n",
    "Auf Abb. 3.5 ist zu sehen, dass sowohl die Validierungs und Trainings accuracy zugenommen haben. Für eine abschließende Beurteilung müssen mehr Epochen ausgeführt werden.\n",
    "\n",
    "<img src=\"../daten/abbildungen/trainingshistorieAccuracyVersuch3_4.png\" alt\"Trainingshistorie accuracy des Versuch 3.4\" />\n",
    "Abbildung 3.5: Trainingshistorie des Versuch 3.4"
   ]
  },
  {
   "cell_type": "markdown",
   "metadata": {},
   "source": [
    "## Ergebnisse\n",
    "\n",
    "Versuch Nr. | Trainings accuracy | Trainings loss | Validierungs accuracy | Validierungs loss | Test accuracy | Test loss \n",
    "--- | --- | --- | --- | --- \n",
    "3.1 | $54.68\\%$ | $0.9359$ | $40.92\\%$ | $1.1016$ | $39.11\\%$ | $1.09$ \n",
    "3.2 | $55.03\\%$ | $0.9421$ | $41.87\\%$ | $1.0947$ | $39.63\\%$ | $1.0792$\n",
    "3.3 | $50.21\\%$ | $0.9825$ | $42.89\\%$ | $1.0660$ | $42.70\\%$ | $1.0678$\n",
    "3.4 | $46.09\\%$ | $1.0210$ | $39.19\\%$ | $1.0758$ | $39.36\\%$ | $1.0739$\n",
    "Tabelle 3.1 mit den Ergebnissen"
   ]
  },
  {
   "cell_type": "code",
   "execution_count": 51,
   "metadata": {
    "ExecuteTime": {
     "end_time": "2018-06-28T13:58:43.510237Z",
     "start_time": "2018-06-28T13:57:50.392396Z"
    }
   },
   "outputs": [],
   "source": [
    "from keras.applications.xception import Xception\n",
    "from keras.preprocessing import image\n",
    "from keras.models import Model\n",
    "from keras.optimizers import Adam\n",
    "from keras.layers import Dense, GlobalAveragePooling2D, Dropout\n",
    "from keras.utils import np_utils\n",
    "from sklearn.utils import shuffle\n",
    "from sklearn.model_selection import train_test_split\n",
    "import keras.callbacks as cb\n",
    "import numpy as np\n",
    "import pandas\n",
    "import os\n",
    "%matplotlib inline \n",
    "import matplotlib.pyplot as plt\n",
    "import cv2\n",
    "from sklearn.metrics import confusion_matrix\n",
    "from keras.models import load_model\n",
    "# Lade Bibliothek Keras ImageDataGenerator und weitere\n",
    "from keras.preprocessing.image import ImageDataGenerator"
   ]
  },
  {
   "cell_type": "code",
   "execution_count": 52,
   "metadata": {},
   "outputs": [],
   "source": [
    "# Läd Faltungsnetzwerk mit Gewichten\n",
    "base_model = Xception(include_top=False, weights='imagenet', input_shape=(383, 72, 3))"
   ]
  },
  {
   "cell_type": "code",
   "execution_count": 53,
   "metadata": {
    "ExecuteTime": {
     "end_time": "2018-06-28T13:58:43.638713Z",
     "start_time": "2018-06-28T13:58:43.607464Z"
    }
   },
   "outputs": [],
   "source": [
    "# Fügt einem Globalen Average Pooling Layer als Schicht hinzu\n",
    "x = base_model.output\n",
    "x = GlobalAveragePooling2D()(x)\n",
    "predictions = Dense(3, activation='softmax')(x) # Fully Connected Layer "
   ]
  },
  {
   "cell_type": "code",
   "execution_count": 54,
   "metadata": {},
   "outputs": [],
   "source": [
    "model = Model(inputs=base_model.input, outputs=predictions)"
   ]
  },
  {
   "cell_type": "code",
   "execution_count": 55,
   "metadata": {},
   "outputs": [],
   "source": [
    "for layer in base_model.layers:\n",
    "    layer.trainable = False"
   ]
  },
  {
   "cell_type": "code",
   "execution_count": 27,
   "metadata": {},
   "outputs": [
    {
     "name": "stdout",
     "output_type": "stream",
     "text": [
      "E:/bachelor/daten/43/zugeschnitten_passendFuerVortrainiertesNetz/\n",
      "Bilder aus folgenden Ordnern werden geladen: ['1', '2', '3', '4', '5', '6', '7', '8', '9', '10']\n",
      "Ordner der geladen wird: 1\n",
      "Ordner der geladen wird: 2\n",
      "Ordner der geladen wird: 3\n",
      "Ordner der geladen wird: 4\n",
      "Ordner der geladen wird: 5\n",
      "Ordner der geladen wird: 6\n",
      "Ordner der geladen wird: 7\n",
      "Ordner der geladen wird: 8\n",
      "Ordner der geladen wird: 9\n",
      "Ordner der geladen wird: 10\n",
      "E:/bachelor/daten/45/zugeschnitten_passendFuerVortrainiertesNetz/\n",
      "Bilder aus folgenden Ordnern werden geladen: ['1', '2', '3', '4', '5']\n",
      "Ordner der geladen wird: 1\n",
      "Ordner der geladen wird: 2\n",
      "Ordner der geladen wird: 3\n",
      "Ordner der geladen wird: 4\n",
      "Ordner der geladen wird: 5\n",
      "E:/bachelor/daten/46/zugeschnitten_passendFuerVortrainiertesNetz/\n",
      "Bilder aus folgenden Ordnern werden geladen: ['1', '2', '3', '4', '5', '6', '7', '8', '9', '10', '11']\n",
      "Ordner der geladen wird: 1\n",
      "Ordner der geladen wird: 2\n",
      "Ordner der geladen wird: 3\n",
      "Ordner der geladen wird: 4\n",
      "Ordner der geladen wird: 5\n",
      "Ordner der geladen wird: 6\n",
      "Ordner der geladen wird: 7\n",
      "Ordner der geladen wird: 8\n",
      "Ordner der geladen wird: 9\n",
      "Ordner der geladen wird: 10\n",
      "Ordner der geladen wird: 11\n",
      "E:/bachelor/daten/47/zugeschnitten_passendFuerVortrainiertesNetz/\n",
      "Bilder aus folgenden Ordnern werden geladen: ['1', '2', '3', '4', '5', '6', '7', '8', '9', '10']\n",
      "Ordner der geladen wird: 1\n",
      "Ordner der geladen wird: 2\n",
      "Ordner der geladen wird: 3\n",
      "Ordner der geladen wird: 4\n",
      "Ordner der geladen wird: 5\n",
      "Ordner der geladen wird: 6\n",
      "Ordner der geladen wird: 7\n",
      "Ordner der geladen wird: 8\n",
      "Ordner der geladen wird: 9\n",
      "Ordner der geladen wird: 10\n",
      "E:/bachelor/daten/48/zugeschnitten_passendFuerVortrainiertesNetz/\n",
      "Bilder aus folgenden Ordnern werden geladen: ['1', '2', '3', '4', '5', '6', '7', '8', '9', '10']\n",
      "Ordner der geladen wird: 1\n",
      "Ordner der geladen wird: 2\n",
      "Ordner der geladen wird: 3\n",
      "Ordner der geladen wird: 4\n",
      "Ordner der geladen wird: 5\n",
      "Ordner der geladen wird: 6\n",
      "Ordner der geladen wird: 7\n",
      "Ordner der geladen wird: 8\n",
      "Ordner der geladen wird: 9\n",
      "Ordner der geladen wird: 10\n",
      "E:/bachelor/daten/49/zugeschnitten_passendFuerVortrainiertesNetz/\n",
      "Bilder aus folgenden Ordnern werden geladen: ['1', '2', '3', '4', '5', '6', '7', '8', '9']\n",
      "Ordner der geladen wird: 1\n",
      "Ordner der geladen wird: 2\n",
      "Ordner der geladen wird: 3\n",
      "Ordner der geladen wird: 4\n",
      "Ordner der geladen wird: 5\n",
      "Ordner der geladen wird: 6\n",
      "Ordner der geladen wird: 7\n",
      "Ordner der geladen wird: 8\n",
      "Ordner der geladen wird: 9\n",
      "E:/bachelor/daten/50/zugeschnitten_passendFuerVortrainiertesNetz/\n",
      "Bilder aus folgenden Ordnern werden geladen: ['1', '2', '3', '4', '5']\n",
      "Ordner der geladen wird: 1\n",
      "Ordner der geladen wird: 2\n",
      "Ordner der geladen wird: 3\n",
      "Ordner der geladen wird: 4\n",
      "Ordner der geladen wird: 5\n",
      "E:/bachelor/daten/51/zugeschnitten_passendFuerVortrainiertesNetz/\n",
      "Bilder aus folgenden Ordnern werden geladen: ['1', '2', '3', '4', '5']\n",
      "Ordner der geladen wird: 1\n",
      "Ordner der geladen wird: 2\n",
      "Ordner der geladen wird: 3\n",
      "Ordner der geladen wird: 4\n",
      "Ordner der geladen wird: 5\n"
     ]
    }
   ],
   "source": [
    "# Trainingsdaten laden\n",
    "featuresDf = pandas.read_csv(filepath_or_buffer=\"../daten/merkmale_datensatz_43_45_bis_51/optimiertXception/merkmaleMitLabelnFuzzyVersuch8_1.csv\")\n",
    "# Hier können die Datensätze ausgewählt werden\n",
    "datasets = ['43','45','46','47','48','49','50','51']\n",
    "# Die Pfade zu den Ordnern in welchem sich die Bilder befinden\n",
    "paths = []\n",
    "# Liste mit Pfaden zu den Bildern\n",
    "imagePaths = []\n",
    "for dataset in datasets: # Für jeden Datensatz merke Pfad\n",
    "    paths.append(\"E:/bachelor/daten/\" + dataset + \"/zugeschnitten_passendFuerVortrainiertesNetz/\")\n",
    "for path in paths: # Für jeden Pfad hole die Namen der Ordner\n",
    "    folders = os.listdir(path)\n",
    "    folders = sorted(folders, key=int) #sortiert die Reihenfolge de Ordner aufsteifend\n",
    "    print(path)\n",
    "    print(\"Bilder aus folgenden Ordnern werden geladen: \" + str(folders))\n",
    "    for folder in folders: # Aus der Liste der Ordner wird ein Ordner ausgewählt\n",
    "        filesPath = path + folder + \"/\"\n",
    "        files = os.listdir(filesPath)\n",
    "        print(\"Ordner der geladen wird: \" + str(folder))\n",
    "        for name in files: # Ein Dateiname aus diesem Ordner\n",
    "            if \"jpg\" not in name:\n",
    "                continue\n",
    "            imagePaths.append(filesPath + name)"
   ]
  },
  {
   "cell_type": "code",
   "execution_count": 28,
   "metadata": {},
   "outputs": [],
   "source": [
    "yLabels = np_utils.to_categorical(featuresDf['Klasse'], 0)\n",
    "# Setzten des RandomState um reproduzierbare Ergebnisse zu erzielen.\n",
    "np.random.seed(42)\n",
    "# Mischen der Trainingsdaten\n",
    "xShuffle, yShuffle = shuffle(imagePaths,yLabels)\n",
    "# Die Zelle Normiert die Anzahl der Repräsentanten pro Klasse\n",
    "class1Number = 0\n",
    "class2Number = 0 \n",
    "class3Number = 0\n",
    "maxClasses = featuresDf[\"Klasse\"].value_counts().min()\n",
    "indexToDelete = [] \n",
    "i = -1\n",
    "for label in yShuffle:\n",
    "    i = i + 1\n",
    "    labelNumber = np.argmax(label,axis=0)\n",
    "    if labelNumber == 0 and class1Number < maxClasses:\n",
    "        class1Number = class1Number + 1\n",
    "        continue\n",
    "    elif labelNumber == 0:\n",
    "        indexToDelete.append(i)\n",
    "    if labelNumber == 1 and class2Number < maxClasses:\n",
    "        class2Number = class2Number + 1\n",
    "        continue\n",
    "    elif labelNumber == 1:\n",
    "        indexToDelete.append(i)\n",
    "    if labelNumber == 2 and class3Number < maxClasses:\n",
    "        class3Number = class3Number + 1\n",
    "        continue\n",
    "    elif labelNumber == 2:\n",
    "        indexToDelete.append(i)\n",
    "    if labelNumber == 3 and class4Number < maxClasses:\n",
    "        class4Number = class4Number + 1\n",
    "        continue        \n",
    "xShuffle = [i for j, i in enumerate(xShuffle) if j not in indexToDelete]\n",
    "yShuffle = [i for j, i in enumerate(yShuffle) if j not in indexToDelete]\n",
    "yShuffle = np.asarray(yShuffle)\n",
    "# Mischen der Trainingsdaten\n",
    "xShuffle, yShuffle = shuffle(xShuffle,yShuffle)\n",
    "# Aufteilung in Trainings, Validation und Testdaten\n",
    "xTrain, xTest, yTrain, yTest = train_test_split(xShuffle, yShuffle, test_size=0.50)\n",
    "xTrain, xVal, yTrain, yVal = train_test_split(xTrain, yTrain, test_size=0.20) "
   ]
  },
  {
   "cell_type": "code",
   "execution_count": 33,
   "metadata": {},
   "outputs": [],
   "source": [
    "# Diese Funktion läd Bilder in den Hauptspeicher\n",
    "# imagesPaths: Liste mit Pfaden zu den Bildern != null\n",
    "def imageLoader(imagePaths):\n",
    "    images = []\n",
    "    for path in imagePaths:\n",
    "        images.append(cv2.cvtColor(cv2.imread(path),cv2.COLOR_BGR2RGB))\n",
    "    imagesNp = np.array(images)\n",
    "    imagesNp = np.array(imagesNp)\n",
    "    imagesNp = imagesNp.astype('float32')\n",
    "    # Transfomierung der Bildpunkte auf den Wetebereich von 0 bis 1\n",
    "    imagesNp /= 255\n",
    "    return imagesNp"
   ]
  },
  {
   "cell_type": "code",
   "execution_count": 57,
   "metadata": {},
   "outputs": [],
   "source": [
    "# Data Augmentation Generator\n",
    "datagen = ImageDataGenerator(\n",
    "        width_shift_range=0.3,\n",
    "        height_shift_range=0.3,\n",
    "        rotation_range=0.3,\n",
    "        shear_range=0.3,\n",
    "        zoom_range=0.3,\n",
    "        vertical_flip=True,\n",
    "        horizontal_flip=True,\n",
    "        fill_mode='nearest')"
   ]
  },
  {
   "cell_type": "code",
   "execution_count": 44,
   "metadata": {},
   "outputs": [],
   "source": [
    "# Läd Trainingsdaten in batches\n",
    "def dataLoader(imagePaths, features, batchSize):\n",
    "    imagesCount = len(imagePaths)  \n",
    "    while True:\n",
    "        batchStart = 0\n",
    "        batchEnd = batchSize\n",
    "        while batchStart < imagesCount:\n",
    "            limit = min(batchEnd, imagesCount)\n",
    "            x = imageLoader(imagePaths[batchStart:limit])\n",
    "            y = features[batchStart:limit]\n",
    "            it = datagen.flow(x,y, batch_size=16, shuffle=True)\n",
    "            xDataGenerated = []\n",
    "            yDataGenerated = []\n",
    "            i = 1\n",
    "            maxIteration = limit - batchStart\n",
    "            for img, labels in it:\n",
    "                xDataGenerated.append(img)\n",
    "                yDataGenerated.append(labels)  \n",
    "                if maxIteration == i:\n",
    "                    break\n",
    "                i = i + 1\n",
    "            yield (xDataGenerated[0],yDataGenerated[0]) \n",
    "            batchStart += batchSize   \n",
    "            batchEnd += batchSize"
   ]
  },
  {
   "cell_type": "code",
   "execution_count": null,
   "metadata": {},
   "outputs": [],
   "source": [
    "# Läd Testdaten in batches\n",
    "def testDataLoader(imagePaths, features, batchSize):\n",
    "    imagesCount = len(imagePaths)  \n",
    "    while True:\n",
    "        batchStart = 0\n",
    "        batchEnd = batchSize\n",
    "        while batchStart < imagesCount:\n",
    "            limit = min(batchEnd, imagesCount)\n",
    "            x = imageLoader(imagePaths[batchStart:limit])\n",
    "            y = features[batchStart:limit]\n",
    "            yield (x,y) \n",
    "            batchStart += batchSize   \n",
    "            batchEnd += batchSize"
   ]
  },
  {
   "cell_type": "code",
   "execution_count": 58,
   "metadata": {},
   "outputs": [
    {
     "name": "stdout",
     "output_type": "stream",
     "text": [
      "Epoch 1/1\n",
      "1004/1004 [==============================] - 4080s 4s/step - loss: 1.0829 - acc: 0.4108 - val_loss: 1.0894 - val_acc: 0.3776\n"
     ]
    },
    {
     "data": {
      "text/plain": [
       "<keras.callbacks.History at 0x21e52130cc0>"
      ]
     },
     "execution_count": 58,
     "metadata": {},
     "output_type": "execute_result"
    }
   ],
   "source": [
    "model.compile(optimizer='adam', loss='categorical_crossentropy', metrics=['accuracy'])\n",
    "model.fit_generator(dataLoader(xTrain, yTrain, 32), epochs=1, steps_per_epoch=(int(len(xTrain)/32)),\n",
    "              validation_data=testDataLoader(xVal, yVal, 32), validation_steps=(int(len(xVal)/32)))"
   ]
  },
  {
   "cell_type": "code",
   "execution_count": 59,
   "metadata": {},
   "outputs": [
    {
     "name": "stdout",
     "output_type": "stream",
     "text": [
      "0 input_3\n",
      "1 block1_conv1\n",
      "2 block1_conv1_bn\n",
      "3 block1_conv1_act\n",
      "4 block1_conv2\n",
      "5 block1_conv2_bn\n",
      "6 block1_conv2_act\n",
      "7 block2_sepconv1\n",
      "8 block2_sepconv1_bn\n",
      "9 block2_sepconv2_act\n",
      "10 block2_sepconv2\n",
      "11 block2_sepconv2_bn\n",
      "12 conv2d_9\n",
      "13 block2_pool\n",
      "14 batch_normalization_9\n",
      "15 add_25\n",
      "16 block3_sepconv1_act\n",
      "17 block3_sepconv1\n",
      "18 block3_sepconv1_bn\n",
      "19 block3_sepconv2_act\n",
      "20 block3_sepconv2\n",
      "21 block3_sepconv2_bn\n",
      "22 conv2d_10\n",
      "23 block3_pool\n",
      "24 batch_normalization_10\n",
      "25 add_26\n",
      "26 block4_sepconv1_act\n",
      "27 block4_sepconv1\n",
      "28 block4_sepconv1_bn\n",
      "29 block4_sepconv2_act\n",
      "30 block4_sepconv2\n",
      "31 block4_sepconv2_bn\n",
      "32 conv2d_11\n",
      "33 block4_pool\n",
      "34 batch_normalization_11\n",
      "35 add_27\n",
      "36 block5_sepconv1_act\n",
      "37 block5_sepconv1\n",
      "38 block5_sepconv1_bn\n",
      "39 block5_sepconv2_act\n",
      "40 block5_sepconv2\n",
      "41 block5_sepconv2_bn\n",
      "42 block5_sepconv3_act\n",
      "43 block5_sepconv3\n",
      "44 block5_sepconv3_bn\n",
      "45 add_28\n",
      "46 block6_sepconv1_act\n",
      "47 block6_sepconv1\n",
      "48 block6_sepconv1_bn\n",
      "49 block6_sepconv2_act\n",
      "50 block6_sepconv2\n",
      "51 block6_sepconv2_bn\n",
      "52 block6_sepconv3_act\n",
      "53 block6_sepconv3\n",
      "54 block6_sepconv3_bn\n",
      "55 add_29\n",
      "56 block7_sepconv1_act\n",
      "57 block7_sepconv1\n",
      "58 block7_sepconv1_bn\n",
      "59 block7_sepconv2_act\n",
      "60 block7_sepconv2\n",
      "61 block7_sepconv2_bn\n",
      "62 block7_sepconv3_act\n",
      "63 block7_sepconv3\n",
      "64 block7_sepconv3_bn\n",
      "65 add_30\n",
      "66 block8_sepconv1_act\n",
      "67 block8_sepconv1\n",
      "68 block8_sepconv1_bn\n",
      "69 block8_sepconv2_act\n",
      "70 block8_sepconv2\n",
      "71 block8_sepconv2_bn\n",
      "72 block8_sepconv3_act\n",
      "73 block8_sepconv3\n",
      "74 block8_sepconv3_bn\n",
      "75 add_31\n",
      "76 block9_sepconv1_act\n",
      "77 block9_sepconv1\n",
      "78 block9_sepconv1_bn\n",
      "79 block9_sepconv2_act\n",
      "80 block9_sepconv2\n",
      "81 block9_sepconv2_bn\n",
      "82 block9_sepconv3_act\n",
      "83 block9_sepconv3\n",
      "84 block9_sepconv3_bn\n",
      "85 add_32\n",
      "86 block10_sepconv1_act\n",
      "87 block10_sepconv1\n",
      "88 block10_sepconv1_bn\n",
      "89 block10_sepconv2_act\n",
      "90 block10_sepconv2\n",
      "91 block10_sepconv2_bn\n",
      "92 block10_sepconv3_act\n",
      "93 block10_sepconv3\n",
      "94 block10_sepconv3_bn\n",
      "95 add_33\n",
      "96 block11_sepconv1_act\n",
      "97 block11_sepconv1\n",
      "98 block11_sepconv1_bn\n",
      "99 block11_sepconv2_act\n",
      "100 block11_sepconv2\n",
      "101 block11_sepconv2_bn\n",
      "102 block11_sepconv3_act\n",
      "103 block11_sepconv3\n",
      "104 block11_sepconv3_bn\n",
      "105 add_34\n",
      "106 block12_sepconv1_act\n",
      "107 block12_sepconv1\n",
      "108 block12_sepconv1_bn\n",
      "109 block12_sepconv2_act\n",
      "110 block12_sepconv2\n",
      "111 block12_sepconv2_bn\n",
      "112 block12_sepconv3_act\n",
      "113 block12_sepconv3\n",
      "114 block12_sepconv3_bn\n",
      "115 add_35\n",
      "116 block13_sepconv1_act\n",
      "117 block13_sepconv1\n",
      "118 block13_sepconv1_bn\n",
      "119 block13_sepconv2_act\n",
      "120 block13_sepconv2\n",
      "121 block13_sepconv2_bn\n",
      "122 conv2d_12\n",
      "123 block13_pool\n",
      "124 batch_normalization_12\n",
      "125 add_36\n",
      "126 block14_sepconv1\n",
      "127 block14_sepconv1_bn\n",
      "128 block14_sepconv1_act\n",
      "129 block14_sepconv2\n",
      "130 block14_sepconv2_bn\n",
      "131 block14_sepconv2_act\n",
      "132 global_average_pooling2d_3\n",
      "133 dense_3\n"
     ]
    }
   ],
   "source": [
    "for i, layer in enumerate(model.layers):\n",
    "   print(i, layer.name)"
   ]
  },
  {
   "cell_type": "code",
   "execution_count": 60,
   "metadata": {},
   "outputs": [
    {
     "name": "stdout",
     "output_type": "stream",
     "text": [
      "<keras.layers.convolutional.SeparableConv2D object at 0x0000021E123EE9E8>\n",
      "<keras.layers.normalization.BatchNormalization object at 0x0000021E135CAA58>\n",
      "<keras.layers.core.Activation object at 0x0000021E13654A20>\n",
      "<keras.layers.convolutional.SeparableConv2D object at 0x0000021E135F9908>\n",
      "<keras.layers.normalization.BatchNormalization object at 0x0000021E138049B0>\n",
      "<keras.layers.core.Activation object at 0x0000021E139F6C50>\n",
      "<keras.layers.pooling.GlobalAveragePooling2D object at 0x0000021E14226E10>\n",
      "<keras.layers.core.Dense object at 0x0000021E142D7048>\n"
     ]
    }
   ],
   "source": [
    "# Auswahl von den Schichten, welche trainiert werden sollen\n",
    "for layer in model.layers[:126]:\n",
    "    layer.trainable = False\n",
    "for layer in model.layers[126:]:\n",
    "    layer.trainable = True\n",
    "    print(layer)"
   ]
  },
  {
   "cell_type": "code",
   "execution_count": 61,
   "metadata": {},
   "outputs": [],
   "source": [
    "model.compile(optimizer=Adam(lr=0.00004), loss='categorical_crossentropy', metrics=['accuracy'])"
   ]
  },
  {
   "cell_type": "code",
   "execution_count": 62,
   "metadata": {},
   "outputs": [],
   "source": [
    "earlyStopping  = cb.EarlyStopping(monitor='val_loss', patience=10, verbose=1, mode='min')\n",
    "checkpointSafe = cb.ModelCheckpoint('ergebnisse_versuch3/modell_versuch3_4', monitor='val_loss', save_best_only=True)  "
   ]
  },
  {
   "cell_type": "code",
   "execution_count": 63,
   "metadata": {},
   "outputs": [
    {
     "name": "stdout",
     "output_type": "stream",
     "text": [
      "Epoch 1/5\n",
      "1004/1004 [==============================] - 3627s 4s/step - loss: 1.0509 - acc: 0.4307 - val_loss: 1.0818 - val_acc: 0.3634\n",
      "Epoch 2/5\n",
      "1004/1004 [==============================] - 3986s 4s/step - loss: 1.0358 - acc: 0.4474 - val_loss: 1.0795 - val_acc: 0.3704\n",
      "Epoch 3/5\n",
      "1004/1004 [==============================] - 3998s 4s/step - loss: 1.0278 - acc: 0.4524 - val_loss: 1.0796 - val_acc: 0.3695\n",
      "Epoch 4/5\n",
      "1004/1004 [==============================] - 4772s 5s/step - loss: 1.0229 - acc: 0.4639 - val_loss: 1.0774 - val_acc: 0.3800\n",
      "Epoch 5/5\n",
      "1004/1004 [==============================] - 4557s 5s/step - loss: 1.0210 - acc: 0.4609 - val_loss: 1.0758 - val_acc: 0.3919\n"
     ]
    }
   ],
   "source": [
    "hist = model.fit_generator(dataLoader(xTrain, yTrain, 32), epochs=5, steps_per_epoch=(int(len(xTrain)/32)),\n",
    "              validation_data=testDataLoader(xVal, yVal, 32), validation_steps=(int(len(xVal)/32)), callbacks=[earlyStopping,checkpointSafe])"
   ]
  },
  {
   "cell_type": "code",
   "execution_count": 70,
   "metadata": {},
   "outputs": [
    {
     "data": {
      "text/plain": [
       "<Figure size 432x288 with 0 Axes>"
      ]
     },
     "metadata": {},
     "output_type": "display_data"
    },
    {
     "data": {
      "image/png": "[encoded data removed]",
      "text/plain": [
       "<Figure size 576x288 with 1 Axes>"
      ]
     },
     "metadata": {},
     "output_type": "display_data"
    },
    {
     "data": {
      "image/png": "[encoded data removed]",
      "text/plain": [
       "<Figure size 576x288 with 1 Axes>"
      ]
     },
     "metadata": {},
     "output_type": "display_data"
    }
   ],
   "source": [
    "# Plot Modell Historie loss und accuracy\n",
    "plt.figure(1)\n",
    "plt.figure(figsize=(8,4))\n",
    "plt.title('Trainingshistorie: Loss')\n",
    "plt.xlabel('Epoche')\n",
    "plt.ylabel('Loss')\n",
    "plt.plot(hist.history['loss'])\n",
    "plt.plot(hist.history['val_loss'])\n",
    "plt.legend(['Training', 'Validation'])\n",
    "plt.xlim(0,4)\n",
    "plt.ylim(np.asarray(hist.history['loss']).min(),np.asarray(hist.history['val_loss']).max())\n",
    "plt.xticks(np.arange(0, 4.1, step=1))\n",
    "plt.grid(True)\n",
    "plt.savefig(\"trainingshistorieLossVersuch3_4.png\")\n",
    "plt.figure(2)\n",
    "plt.figure(figsize=(8,4))\n",
    "plt.title('Trainingshistorie: Accuracy')\n",
    "plt.xticks()\n",
    "plt.xlabel('Epoche')\n",
    "plt.ylabel('Accuracy')\n",
    "plt.plot(hist.history['acc'])\n",
    "plt.plot(hist.history['val_acc'])\n",
    "plt.legend(['Training', 'Validation'], loc='right')\n",
    "plt.xlim(0,4)\n",
    "plt.ylim(np.asarray(hist.history['val_acc']).min(),np.asarray(hist.history['acc']).max()+0.01)\n",
    "plt.xticks(np.arange(0, 4.1, step=1))\n",
    "plt.grid(True)\n",
    "plt.savefig(\"trainingshistorieAccuracyVersuch3_4.png\")\n",
    "plt.show()"
   ]
  },
  {
   "cell_type": "code",
   "execution_count": 66,
   "metadata": {},
   "outputs": [
    {
     "data": {
      "text/plain": [
       "[1.0739200308503383, 0.39357569721115537]"
      ]
     },
     "execution_count": 66,
     "metadata": {},
     "output_type": "execute_result"
    }
   ],
   "source": [
    "model.evaluate_generator(testDataLoader(xTest, yTest, 32), steps=int(len(xTest)/32))"
   ]
  },
  {
   "cell_type": "code",
   "execution_count": 65,
   "metadata": {},
   "outputs": [],
   "source": [
    "model = load_model('ergebnisse_versuch3/modell_versuch3_4')"
   ]
  },
  {
   "cell_type": "code",
   "execution_count": 67,
   "metadata": {},
   "outputs": [],
   "source": [
    "validPreds = []\n",
    "imageList = []\n",
    "for path in xTest:\n",
    "    imageList = []   \n",
    "    img = cv2.cvtColor(cv2.imread(path),cv2.COLOR_BGR2RGB)\n",
    "    img = np.array(img)\n",
    "    img = img.astype('float32')\n",
    "    img /= 255\n",
    "    imageList.append(img)\n",
    "    validPreds.append(model.predict(np.asarray(imageList)))"
   ]
  },
  {
   "cell_type": "code",
   "execution_count": 68,
   "metadata": {},
   "outputs": [
    {
     "name": "stdout",
     "output_type": "stream",
     "text": [
      "[[8554 2172 2589]\n",
      " [7204 2943 3231]\n",
      " [6447 2714 4315]]\n"
     ]
    },
    {
     "data": {
      "image/png": "[encoded data removed]",
      "text/plain": [
       "<Figure size 432x432 with 2 Axes>"
      ]
     },
     "metadata": {},
     "output_type": "display_data"
    }
   ],
   "source": [
    "# Konfusionsmatrix\n",
    "import seaborn as sns\n",
    "classNames = ['gut','mittel','schlecht'] # Namen der Klassen\n",
    "validPredArray = np.argmax(np.vstack(validPreds), axis=1)\n",
    "yTestMax = np.argmax(yTest,axis=1)\n",
    "cnfMatrix = confusion_matrix(yTestMax, validPredArray)\n",
    "print(cnfMatrix)\n",
    "fig, ax = plt.subplots(figsize=(6,6)) \n",
    "ax = sns.heatmap(cnfMatrix, fmt=\"d\", cmap=plt.cm.Blues, ax=ax , annot=True)\n",
    "ax.set_xticklabels(classNames)\n",
    "ax.set_yticklabels(classNames)\n",
    "plt.title('Konfusionsmatrix')\n",
    "plt.ylabel('Wahre Klasse')\n",
    "plt.xlabel('Vorhergesagte Klasse')\n",
    "plt.savefig('konfmatrixVersuch3_4.png')\n",
    "plt.show()"
   ]
  },
  {
   "cell_type": "code",
   "execution_count": null,
   "metadata": {},
   "outputs": [],
   "source": []
  }
 ],
 "metadata": {
  "kernelspec": {
   "display_name": "Python 3",
   "language": "python",
   "name": "python3"
  },
  "language_info": {
   "codemirror_mode": {
    "name": "ipython",
    "version": 3
   },
   "file_extension": ".py",
   "mimetype": "text/x-python",
   "name": "python",
   "nbconvert_exporter": "python",
   "pygments_lexer": "ipython3",
   "version": "3.6.4"
  },
  "latex_envs": {
   "LaTeX_envs_menu_present": true,
   "autoclose": false,
   "autocomplete": true,
   "bibliofile": "biblio.bib",
   "cite_by": "apalike",
   "current_citInitial": 1,
   "eqLabelWithNumbers": true,
   "eqNumInitial": 1,
   "hotkeys": {
    "equation": "Ctrl-E",
    "itemize": "Ctrl-I"
   },
   "labels_anchors": false,
   "latex_user_defs": false,
   "report_style_numbering": false,
   "user_envs_cfg": false
  },
  "toc": {
   "base_numbering": 1,
   "colors": {
    "hover_highlight": "#DAA520",
    "navigate_num": "#000000",
    "navigate_text": "#333333",
    "running_highlight": "#FF0000",
    "selected_highlight": "#FFD700",
    "sidebar_border": "#EEEEEE",
    "wrapper_background": "#FFFFFF"
   },
   "moveMenuLeft": true,
   "nav_menu": {},
   "navigate_menu": true,
   "number_sections": true,
   "sideBar": true,
   "skip_h1_title": false,
   "threshold": 4,
   "title_cell": "Table of Contents",
   "title_sidebar": "Contents",
   "toc_cell": false,
   "toc_position": {},
   "toc_section_display": true,
   "toc_window_display": false,
   "widenNotebook": false
  },
  "varInspector": {
   "cols": {
    "lenName": 16,
    "lenType": 16,
    "lenVar": 40
   },
   "kernels_config": {
    "python": {
     "delete_cmd_postfix": "",
     "delete_cmd_prefix": "del ",
     "library": "var_list.py",
     "varRefreshCmd": "print(var_dic_list())"
    },
    "r": {
     "delete_cmd_postfix": ") ",
     "delete_cmd_prefix": "rm(",
     "library": "var_list.r",
     "varRefreshCmd": "cat(var_dic_list()) "
    }
   },
   "types_to_exclude": [
    "module",
    "function",
    "builtin_function_or_method",
    "instance",
    "_Feature"
   ],
   "window_display": false
  }
 },
 "nbformat": 4,
 "nbformat_minor": 2
}
