{
 "cells": [
  {
   "cell_type": "markdown",
   "metadata": {},
   "source": [
    " Manuell labeln von Bildern\n",
    " ======\n",
    " \n",
    " Diese Notebook hilft dabei manuell Datensätze der Fahrradwege Monitoring App zu labeln.  \n",
    " Die idee ist mittels eines Indecis die Daten in einem Index Bereich der Datei \"features.csv\" zu labeln.  \n",
    " Hierfür muss zunächst die Datei geladen werden und ein Bereich  \n",
    " angegeben werden, welcher einer Klasse zugeordnet werden soll."
   ]
  },
  {
   "cell_type": "code",
   "execution_count": 66,
   "metadata": {},
   "outputs": [],
   "source": [
    "import pandas"
   ]
  },
  {
   "cell_type": "code",
   "execution_count": 67,
   "metadata": {},
   "outputs": [],
   "source": [
    "# Startindex der zu labelnden Daten  \n",
    "startIndex = 1600\n",
    "# Stop Index der zu labelnden Daten\n",
    "stopIndex = 1998\n",
    "\n",
    "# Öfnne die Datei features.csv. Der Path muss mit angegeben werden\n",
    "featuresDf = pandas.read_csv(filepath_or_buffer=\"features.csv\")"
   ]
  },
  {
   "cell_type": "markdown",
   "metadata": {},
   "source": [
    "Diese Funktion schreibt eine neue Spalten mit Spaltennamen in eine vorhandene CSV Datei.  \n",
    "Value schreibt für alle Reihen diesen Wert in die neue Spalte.  \n",
    "Prec.: newColumnIndex >= 0 und newColumnIndex <= Max bisherige Spaltenanzahl + 1  \n",
    "fileCsv != null, columnName muss ein String sein. Neue Spalte darf noch nicht vorhanden sein  \n",
    "Postc.: CSV Datei mit neuer Spalter,\n",
    "return: CSV Datei"
   ]
  },
  {
   "cell_type": "code",
   "execution_count": 75,
   "metadata": {},
   "outputs": [],
   "source": [
    "def addColumn(newColumnIndex, columnName, value, fileCsv): \n",
    "    fileCsv.insert(newColumnIndex, columnName, value)\n",
    "    fileCsv.to_csv(\"features.csv\")\n",
    "    return fileCsv"
   ]
  },
  {
   "cell_type": "markdown",
   "metadata": {},
   "source": [
    "Labelt einen Datensatz in einem Index Bereich.  \n",
    "Prec.: firstIndex und lastIndex muss eine existente Reihe in der Datei sein. firstIndex <= lastIndex  \n",
    "fileCsv != null. classNr >=0. columnName muss ein String sein     \n",
    "Postc.: Datensatz ist gelabelt in einem bestimmten Indexbereich\n",
    "    "
   ]
  },
  {
   "cell_type": "code",
   "execution_count": 69,
   "metadata": {},
   "outputs": [],
   "source": [
    "def labelData(firstIndex, lastIndex, columnName, fileCsv, classNr): \n",
    "    while firstIndex <= lastIndex:\n",
    "        fileCsv.iloc[firstIndex, fileCsv.columns.get_loc(columnName)] = classNr\n",
    "        firstIndex = firstIndex + 1\n",
    "    fileCsv.to_csv(\"features.csv\")"
   ]
  },
  {
   "cell_type": "code",
   "execution_count": 76,
   "metadata": {},
   "outputs": [],
   "source": [
    "featuresDf = addColumn(4, \"Klasse\", 0, featuresDf)"
   ]
  },
  {
   "cell_type": "code",
   "execution_count": 77,
   "metadata": {},
   "outputs": [
    {
     "data": {
      "text/html": [
       "<div>\n",
       "<style scoped>\n",
       "    .dataframe tbody tr th:only-of-type {\n",
       "        vertical-align: middle;\n",
       "    }\n",
       "\n",
       "    .dataframe tbody tr th {\n",
       "        vertical-align: top;\n",
       "    }\n",
       "\n",
       "    .dataframe thead th {\n",
       "        text-align: right;\n",
       "    }\n",
       "</style>\n",
       "<table border=\"1\" class=\"dataframe\">\n",
       "  <thead>\n",
       "    <tr style=\"text-align: right;\">\n",
       "      <th></th>\n",
       "      <th>1517406998784</th>\n",
       "      <th>53.614582</th>\n",
       "      <th>53.614582.1</th>\n",
       "      <th>c</th>\n",
       "      <th>f</th>\n",
       "      <th>20.231998</th>\n",
       "    </tr>\n",
       "  </thead>\n",
       "  <tbody>\n",
       "    <tr>\n",
       "      <th>0</th>\n",
       "      <td>1517406998884</td>\n",
       "      <td>53.614582</td>\n",
       "      <td>53.614582</td>\n",
       "      <td>0</td>\n",
       "      <td>0</td>\n",
       "      <td>20.231998</td>\n",
       "    </tr>\n",
       "    <tr>\n",
       "      <th>1</th>\n",
       "      <td>1517406998978</td>\n",
       "      <td>53.614563</td>\n",
       "      <td>53.614563</td>\n",
       "      <td>0</td>\n",
       "      <td>0</td>\n",
       "      <td>19.907999</td>\n",
       "    </tr>\n",
       "    <tr>\n",
       "      <th>2</th>\n",
       "      <td>1517406999154</td>\n",
       "      <td>53.614548</td>\n",
       "      <td>53.614548</td>\n",
       "      <td>0</td>\n",
       "      <td>0</td>\n",
       "      <td>19.584000</td>\n",
       "    </tr>\n",
       "    <tr>\n",
       "      <th>3</th>\n",
       "      <td>1517406999321</td>\n",
       "      <td>53.614548</td>\n",
       "      <td>53.614548</td>\n",
       "      <td>0</td>\n",
       "      <td>0</td>\n",
       "      <td>19.584000</td>\n",
       "    </tr>\n",
       "    <tr>\n",
       "      <th>4</th>\n",
       "      <td>1517406999360</td>\n",
       "      <td>53.614548</td>\n",
       "      <td>53.614548</td>\n",
       "      <td>0</td>\n",
       "      <td>0</td>\n",
       "      <td>19.584000</td>\n",
       "    </tr>\n",
       "  </tbody>\n",
       "</table>\n",
       "</div>"
      ],
      "text/plain": [
       "   1517406998784  53.614582  53.614582.1  c  f  20.231998\n",
       "0  1517406998884  53.614582    53.614582  0  0  20.231998\n",
       "1  1517406998978  53.614563    53.614563  0  0  19.907999\n",
       "2  1517406999154  53.614548    53.614548  0  0  19.584000\n",
       "3  1517406999321  53.614548    53.614548  0  0  19.584000\n",
       "4  1517406999360  53.614548    53.614548  0  0  19.584000"
      ]
     },
     "execution_count": 77,
     "metadata": {},
     "output_type": "execute_result"
    }
   ],
   "source": [
    "# Zeigt die ersten 5 Reihen des Datensatz\n",
    "featuresDf.head(5)"
   ]
  },
  {
   "cell_type": "code",
   "execution_count": 11,
   "metadata": {},
   "outputs": [],
   "source": [
    "labelData(1, 1998, \"Klasse\", featuresDf, 1)"
   ]
  }
 ],
 "metadata": {
  "kernelspec": {
   "display_name": "Python 3",
   "language": "python",
   "name": "python3"
  },
  "language_info": {
   "codemirror_mode": {
    "name": "ipython",
    "version": 3
   },
   "file_extension": ".py",
   "mimetype": "text/x-python",
   "name": "python",
   "nbconvert_exporter": "python",
   "pygments_lexer": "ipython3",
   "version": "3.6.4"
  },
  "toc": {
   "colors": {
    "hover_highlight": "#DAA520",
    "navigate_num": "#000000",
    "navigate_text": "#333333",
    "running_highlight": "#FF0000",
    "selected_highlight": "#FFD700",
    "sidebar_border": "#EEEEEE",
    "wrapper_background": "#FFFFFF"
   },
   "moveMenuLeft": true,
   "nav_menu": {
    "height": "31px",
    "width": "252px"
   },
   "navigate_menu": true,
   "number_sections": true,
   "sideBar": true,
   "threshold": 4,
   "toc_cell": false,
   "toc_section_display": "block",
   "toc_window_display": false,
   "widenNotebook": false
  }
 },
 "nbformat": 4,
 "nbformat_minor": 2
}
