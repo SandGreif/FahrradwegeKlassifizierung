{
 "cells": [
  {
   "cell_type": "markdown",
   "metadata": {},
   "source": [
    " Manuell labeln von Bildern\n",
    " ======\n",
    " \n",
    " Diese Notebook hilft dabei manuell Datensätze der Fahrradwege Monitoring App zu labeln.  \n",
    " Die idee ist mittels eines Indecis die Daten in einem Index Bereich der Datei \"features.csv\" zu labeln.  \n",
    " Hierfür muss zunächst die Datei geladen werden und ein Bereich  \n",
    " angegeben werden, welcher einer Klasse zugeordnet werden soll."
   ]
  },
  {
   "cell_type": "code",
   "execution_count": 1,
   "metadata": {},
   "outputs": [],
   "source": [
    "import pandas"
   ]
  },
  {
   "cell_type": "code",
   "execution_count": 2,
   "metadata": {},
   "outputs": [],
   "source": [
    "# Startindex der zu labelnden Daten  \n",
    "startIndex = 1600\n",
    "# Stop Index der zu labelnden Daten\n",
    "stopIndex = 1998\n",
    "\n",
    "# Öfnne die Datei features.csv. Der Path muss mit angegeben werden\n",
    "featuresDf = pandas.read_csv(filepath_or_buffer=\"../datenanalyse/features.csv\")"
   ]
  },
  {
   "cell_type": "markdown",
   "metadata": {},
   "source": [
    "Diese Funktion schreibt eine neue Spalten mit Spaltennamen in eine vorhandene CSV Datei.  \n",
    "Value schreibt für alle Reihen diesen Wert in die neue Spalte.  \n",
    "Prec.: newColumnIndex >= 0 und newColumnIndex <= Max bisherige Spaltenanzahl + 1  \n",
    "fileCsv != null, columnName muss ein String sein. Neue Spalte darf noch nicht vorhanden sein  \n",
    "Postc.: CSV Datei mit neuer Spalter,\n",
    "return: CSV Datei"
   ]
  },
  {
   "cell_type": "code",
   "execution_count": 3,
   "metadata": {},
   "outputs": [],
   "source": [
    "def addColumn(newColumnIndex, columnName, value, fileCsv): \n",
    "    fileCsv.insert(newColumnIndex, columnName, value)\n",
    "    fileCsv.to_csv(\"featuresNeueSpalte.csv\")\n",
    "    return pandas.read_csv(\"featuresNeueSpalte.csv\")"
   ]
  },
  {
   "cell_type": "markdown",
   "metadata": {},
   "source": [
    "Labelt einen Datensatz in einem Index Bereich.  \n",
    "Prec.: firstIndex und lastIndex muss eine existente Reihe in der Datei sein. firstIndex <= lastIndex  \n",
    "fileCsv != null. classNr >=0. columnName muss ein String sein     \n",
    "Postc.: Datensatz ist gelabelt in einem bestimmten Indexbereich\n",
    "    "
   ]
  },
  {
   "cell_type": "code",
   "execution_count": 31,
   "metadata": {},
   "outputs": [],
   "source": [
    "def labelData(firstIndex, lastIndex, columnName, fileCsv, classNr): \n",
    "    while firstIndex <= lastIndex:\n",
    "        fileCsv.iloc[firstIndex, fileCsv.columns.get_loc(columnName)] = classNr\n",
    "        firstIndex = firstIndex + 1\n",
    "    fileCsv.to_csv(\"features.csv\")"
   ]
  },
  {
   "cell_type": "code",
   "execution_count": 5,
   "metadata": {},
   "outputs": [],
   "source": [
    "featuresDf = addColumn(4, \"Klasse\", 0, featuresDf)"
   ]
  },
  {
   "cell_type": "code",
   "execution_count": 34,
   "metadata": {},
   "outputs": [
    {
     "data": {
      "text/html": [
       "<div>\n",
       "<style scoped>\n",
       "    .dataframe tbody tr th:only-of-type {\n",
       "        vertical-align: middle;\n",
       "    }\n",
       "\n",
       "    .dataframe tbody tr th {\n",
       "        vertical-align: top;\n",
       "    }\n",
       "\n",
       "    .dataframe thead th {\n",
       "        text-align: right;\n",
       "    }\n",
       "</style>\n",
       "<table border=\"1\" class=\"dataframe\">\n",
       "  <thead>\n",
       "    <tr style=\"text-align: right;\">\n",
       "      <th></th>\n",
       "      <th>Unnamed: 0</th>\n",
       "      <th>1517406329935</th>\n",
       "      <th>53.613636</th>\n",
       "      <th>53.613636.1</th>\n",
       "      <th>2.43</th>\n",
       "      <th>Klasse</th>\n",
       "    </tr>\n",
       "  </thead>\n",
       "  <tbody>\n",
       "    <tr>\n",
       "      <th>0</th>\n",
       "      <td>0</td>\n",
       "      <td>1517406330272</td>\n",
       "      <td>53.613636</td>\n",
       "      <td>53.613636</td>\n",
       "      <td>4.860</td>\n",
       "      <td>1</td>\n",
       "    </tr>\n",
       "    <tr>\n",
       "      <th>1</th>\n",
       "      <td>1</td>\n",
       "      <td>1517406330561</td>\n",
       "      <td>53.613636</td>\n",
       "      <td>53.613636</td>\n",
       "      <td>4.860</td>\n",
       "      <td>2</td>\n",
       "    </tr>\n",
       "    <tr>\n",
       "      <th>2</th>\n",
       "      <td>2</td>\n",
       "      <td>1517406330997</td>\n",
       "      <td>53.613632</td>\n",
       "      <td>53.613632</td>\n",
       "      <td>6.264</td>\n",
       "      <td>2</td>\n",
       "    </tr>\n",
       "    <tr>\n",
       "      <th>3</th>\n",
       "      <td>3</td>\n",
       "      <td>1517406331103</td>\n",
       "      <td>53.613632</td>\n",
       "      <td>53.613632</td>\n",
       "      <td>7.668</td>\n",
       "      <td>1</td>\n",
       "    </tr>\n",
       "    <tr>\n",
       "      <th>4</th>\n",
       "      <td>4</td>\n",
       "      <td>1517406331371</td>\n",
       "      <td>53.613632</td>\n",
       "      <td>53.613632</td>\n",
       "      <td>7.668</td>\n",
       "      <td>1</td>\n",
       "    </tr>\n",
       "  </tbody>\n",
       "</table>\n",
       "</div>"
      ],
      "text/plain": [
       "   Unnamed: 0  1517406329935  53.613636  53.613636.1   2.43  Klasse\n",
       "0           0  1517406330272  53.613636    53.613636  4.860       1\n",
       "1           1  1517406330561  53.613636    53.613636  4.860       2\n",
       "2           2  1517406330997  53.613632    53.613632  6.264       2\n",
       "3           3  1517406331103  53.613632    53.613632  7.668       1\n",
       "4           4  1517406331371  53.613632    53.613632  7.668       1"
      ]
     },
     "execution_count": 34,
     "metadata": {},
     "output_type": "execute_result"
    }
   ],
   "source": [
    "# Zeigt die ersten 5 Reihen des Datensatz\n",
    "featuresDf.head(5)"
   ]
  },
  {
   "cell_type": "code",
   "execution_count": 33,
   "metadata": {},
   "outputs": [],
   "source": [
    "labelData(1, 2, \"Klasse\", featuresDf, 2)"
   ]
  }
 ],
 "metadata": {
  "kernelspec": {
   "display_name": "Python 3",
   "language": "python",
   "name": "python3"
  },
  "language_info": {
   "codemirror_mode": {
    "name": "ipython",
    "version": 3
   },
   "file_extension": ".py",
   "mimetype": "text/x-python",
   "name": "python",
   "nbconvert_exporter": "python",
   "pygments_lexer": "ipython3",
   "version": "3.6.4"
  },
  "toc": {
   "colors": {
    "hover_highlight": "#DAA520",
    "navigate_num": "#000000",
    "navigate_text": "#333333",
    "running_highlight": "#FF0000",
    "selected_highlight": "#FFD700",
    "sidebar_border": "#EEEEEE",
    "wrapper_background": "#FFFFFF"
   },
   "moveMenuLeft": true,
   "nav_menu": {
    "height": "31px",
    "width": "252px"
   },
   "navigate_menu": true,
   "number_sections": true,
   "sideBar": true,
   "threshold": 4,
   "toc_cell": false,
   "toc_section_display": "block",
   "toc_window_display": false,
   "widenNotebook": false
  }
 },
 "nbformat": 4,
 "nbformat_minor": 2
}
