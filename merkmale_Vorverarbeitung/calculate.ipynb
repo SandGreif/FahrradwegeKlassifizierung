{
 "cells": [
  {
   "cell_type": "markdown",
   "metadata": {
    "collapsed": true
   },
   "source": [
    "## Berechnungen\n",
    "\n",
    "In diesem Notebook ist es möglich den Mittelwert, Varianz und Standardabeichung für Messwerte zu berechnen.   \n",
    "Zudem wird die Gieränderung in rad bestimmt. Die Ergebnisse können zurück in die Merkmal CSV Datei geschrieben werden."
   ]
  },
  {
   "cell_type": "code",
   "execution_count": 3,
   "metadata": {},
   "outputs": [],
   "source": [
    "import pandas\n",
    "import numpy as np\n",
    "import numpy.testing as npt\n",
    "import math\n",
    "import os"
   ]
  },
  {
   "cell_type": "code",
   "execution_count": 4,
   "metadata": {},
   "outputs": [],
   "source": [
    "#os.remove(\"merkmaleRoh.csv\")"
   ]
  },
  {
   "cell_type": "code",
   "execution_count": 5,
   "metadata": {},
   "outputs": [
    {
     "data": {
      "text/html": [
       "<div>\n",
       "<style>\n",
       "    .dataframe thead tr:only-child th {\n",
       "        text-align: right;\n",
       "    }\n",
       "\n",
       "    .dataframe thead th {\n",
       "        text-align: left;\n",
       "    }\n",
       "\n",
       "    .dataframe tbody tr th {\n",
       "        vertical-align: top;\n",
       "    }\n",
       "</style>\n",
       "<table border=\"1\" class=\"dataframe\">\n",
       "  <thead>\n",
       "    <tr style=\"text-align: right;\">\n",
       "      <th></th>\n",
       "      <th>Zeitstempel</th>\n",
       "      <th>Breitengrad</th>\n",
       "      <th>Laengengrad</th>\n",
       "      <th>Geschwindigkeit</th>\n",
       "      <th>Messwerte</th>\n",
       "      <th>StartBewegungsD</th>\n",
       "      <th>StartBelichtung</th>\n",
       "      <th>Belichtungszeit</th>\n",
       "    </tr>\n",
       "  </thead>\n",
       "  <tbody>\n",
       "    <tr>\n",
       "      <th>count</th>\n",
       "      <td>4.033000e+03</td>\n",
       "      <td>4033.000000</td>\n",
       "      <td>4033.000000</td>\n",
       "      <td>4033.000000</td>\n",
       "      <td>4033.0</td>\n",
       "      <td>4.033000e+03</td>\n",
       "      <td>4.033000e+03</td>\n",
       "      <td>4.033000e+03</td>\n",
       "    </tr>\n",
       "    <tr>\n",
       "      <th>mean</th>\n",
       "      <td>1.520432e+12</td>\n",
       "      <td>53.614175</td>\n",
       "      <td>10.163583</td>\n",
       "      <td>13.797908</td>\n",
       "      <td>10.0</td>\n",
       "      <td>2.767638e+14</td>\n",
       "      <td>2.767639e+14</td>\n",
       "      <td>2.457690e+07</td>\n",
       "    </tr>\n",
       "    <tr>\n",
       "      <th>std</th>\n",
       "      <td>3.118401e+05</td>\n",
       "      <td>0.001194</td>\n",
       "      <td>0.014844</td>\n",
       "      <td>5.423002</td>\n",
       "      <td>0.0</td>\n",
       "      <td>3.118390e+11</td>\n",
       "      <td>3.118374e+11</td>\n",
       "      <td>5.764559e+06</td>\n",
       "    </tr>\n",
       "    <tr>\n",
       "      <th>min</th>\n",
       "      <td>1.520432e+12</td>\n",
       "      <td>53.610508</td>\n",
       "      <td>10.137785</td>\n",
       "      <td>0.000000</td>\n",
       "      <td>10.0</td>\n",
       "      <td>2.762160e+14</td>\n",
       "      <td>2.762161e+14</td>\n",
       "      <td>8.963045e+06</td>\n",
       "    </tr>\n",
       "    <tr>\n",
       "      <th>25%</th>\n",
       "      <td>1.520432e+12</td>\n",
       "      <td>53.613804</td>\n",
       "      <td>10.151080</td>\n",
       "      <td>11.520000</td>\n",
       "      <td>10.0</td>\n",
       "      <td>2.765011e+14</td>\n",
       "      <td>2.765012e+14</td>\n",
       "      <td>2.000368e+07</td>\n",
       "    </tr>\n",
       "    <tr>\n",
       "      <th>50%</th>\n",
       "      <td>1.520432e+12</td>\n",
       "      <td>53.614390</td>\n",
       "      <td>10.161076</td>\n",
       "      <td>15.264000</td>\n",
       "      <td>10.0</td>\n",
       "      <td>2.767615e+14</td>\n",
       "      <td>2.767615e+14</td>\n",
       "      <td>2.000368e+07</td>\n",
       "    </tr>\n",
       "    <tr>\n",
       "      <th>75%</th>\n",
       "      <td>1.520432e+12</td>\n",
       "      <td>53.615047</td>\n",
       "      <td>10.179163</td>\n",
       "      <td>17.352000</td>\n",
       "      <td>10.0</td>\n",
       "      <td>2.770310e+14</td>\n",
       "      <td>2.770311e+14</td>\n",
       "      <td>2.999632e+07</td>\n",
       "    </tr>\n",
       "    <tr>\n",
       "      <th>max</th>\n",
       "      <td>1.520433e+12</td>\n",
       "      <td>53.615852</td>\n",
       "      <td>10.185279</td>\n",
       "      <td>23.544000</td>\n",
       "      <td>10.0</td>\n",
       "      <td>2.773140e+14</td>\n",
       "      <td>2.773141e+14</td>\n",
       "      <td>2.999632e+07</td>\n",
       "    </tr>\n",
       "  </tbody>\n",
       "</table>\n",
       "</div>"
      ],
      "text/plain": [
       "        Zeitstempel  Breitengrad  Laengengrad  Geschwindigkeit  Messwerte  \\\n",
       "count  4.033000e+03  4033.000000  4033.000000      4033.000000     4033.0   \n",
       "mean   1.520432e+12    53.614175    10.163583        13.797908       10.0   \n",
       "std    3.118401e+05     0.001194     0.014844         5.423002        0.0   \n",
       "min    1.520432e+12    53.610508    10.137785         0.000000       10.0   \n",
       "25%    1.520432e+12    53.613804    10.151080        11.520000       10.0   \n",
       "50%    1.520432e+12    53.614390    10.161076        15.264000       10.0   \n",
       "75%    1.520432e+12    53.615047    10.179163        17.352000       10.0   \n",
       "max    1.520433e+12    53.615852    10.185279        23.544000       10.0   \n",
       "\n",
       "       StartBewegungsD  StartBelichtung  Belichtungszeit  \n",
       "count     4.033000e+03     4.033000e+03     4.033000e+03  \n",
       "mean      2.767638e+14     2.767639e+14     2.457690e+07  \n",
       "std       3.118390e+11     3.118374e+11     5.764559e+06  \n",
       "min       2.762160e+14     2.762161e+14     8.963045e+06  \n",
       "25%       2.765011e+14     2.765012e+14     2.000368e+07  \n",
       "50%       2.767615e+14     2.767615e+14     2.000368e+07  \n",
       "75%       2.770310e+14     2.770311e+14     2.999632e+07  \n",
       "max       2.773140e+14     2.773141e+14     2.999632e+07  "
      ]
     },
     "execution_count": 5,
     "metadata": {},
     "output_type": "execute_result"
    }
   ],
   "source": [
    "featuresDf = pandas.read_csv(\"merkmaleRoh.csv\")\n",
    "featuresDf.describe()"
   ]
  },
  {
   "cell_type": "code",
   "execution_count": 6,
   "metadata": {},
   "outputs": [
    {
     "name": "stdout",
     "output_type": "stream",
     "text": [
      "<class 'pandas.core.frame.DataFrame'>\n",
      "RangeIndex: 4033 entries, 0 to 4032\n",
      "Data columns (total 15 columns):\n",
      "Zeitstempel          4033 non-null int64\n",
      "Breitengrad          4033 non-null float64\n",
      "Laengengrad          4033 non-null float64\n",
      "Geschwindigkeit      4033 non-null float64\n",
      "AccelerometerX       4033 non-null object\n",
      "AccelerometerY       4033 non-null object\n",
      "AccelerometerZ       4033 non-null object\n",
      "Azimuth              4033 non-null object\n",
      "Nick                 4033 non-null object\n",
      "Roll                 4033 non-null object\n",
      "SensorZeitstempel    4033 non-null object\n",
      "Messwerte            4033 non-null int64\n",
      "StartBewegungsD      4033 non-null int64\n",
      "StartBelichtung      4033 non-null int64\n",
      "Belichtungszeit      4033 non-null int64\n",
      "dtypes: float64(3), int64(5), object(7)\n",
      "memory usage: 472.7+ KB\n"
     ]
    }
   ],
   "source": [
    "featuresDf.info()"
   ]
  },
  {
   "cell_type": "code",
   "execution_count": 7,
   "metadata": {},
   "outputs": [
    {
     "data": {
      "text/plain": [
       "0    0.04156 0.00258 -0.01328 -0.0413 -0.03307 -0.0...\n",
       "1    0.08288 0.02032 -0.06039 -0.07898 0.02872 0.02...\n",
       "2    -0.01467 -0.02708 -0.05233 -0.02657 -0.05193 -...\n",
       "3    -0.05236 -0.08788 -0.02436 -0.03483 0.00275 0....\n",
       "4    -0.10448 -0.05297 -0.0424 -0.01863 -0.01493 0....\n",
       "Name: AccelerometerX, dtype: object"
      ]
     },
     "execution_count": 7,
     "metadata": {},
     "output_type": "execute_result"
    }
   ],
   "source": [
    "# Zeigt die ersten 5 Reihen Beschleunigungssensordaten der X-Achse \n",
    "featuresDf.AccelerometerX.head()"
   ]
  },
  {
   "cell_type": "markdown",
   "metadata": {},
   "source": [
    "Die folgenden Spalten des Datenframes haben als Type ein Python object.   \n",
    "AccelerometerX       non-null object   \n",
    "AccelerometerY       non-null object   \n",
    "AccelerometerZ       non-null object   \n",
    "Azimuth              non-null object   \n",
    "Nick                 non-null object   \n",
    "Roll                 non-null object   \n",
    "Implizit haben diese Spalten als Typ Strings. Aber in einem DataFrame werden Strings als    \n",
    "Python objects erkannt. Um den Datentyp auf float zu casten wird aus den Spalten zunächst ein Liste erstellt.    \n",
    "Welche dann wiederum als Numpy Array auf den Typ float konvertiert wird.   "
   ]
  },
  {
   "cell_type": "code",
   "execution_count": 8,
   "metadata": {},
   "outputs": [],
   "source": [
    "accXList = featuresDf.AccelerometerX.str.split(\" \").tolist()"
   ]
  },
  {
   "cell_type": "code",
   "execution_count": 9,
   "metadata": {},
   "outputs": [
    {
     "data": {
      "text/plain": [
       "array([ ['0.08288', '0.02032', '-0.06039', '-0.07898', '0.02872', '0.02295', '-0.04295', '-0.08035', '-0.03366', '0.03433']], dtype=object)"
      ]
     },
     "execution_count": 9,
     "metadata": {},
     "output_type": "execute_result"
    }
   ],
   "source": [
    "# Direkt mit dem Numpy Array ist es nicht möglich die Konvertierung durchzuführen, weil die Arrays von Typ object sind.   \n",
    "pandas.DataFrame(featuresDf.AccelerometerX.str.split(\" \")).values[1]"
   ]
  },
  {
   "cell_type": "code",
   "execution_count": 10,
   "metadata": {},
   "outputs": [
    {
     "data": {
      "text/plain": [
       "['0.08288',\n",
       " '0.02032',\n",
       " '-0.06039',\n",
       " '-0.07898',\n",
       " '0.02872',\n",
       " '0.02295',\n",
       " '-0.04295',\n",
       " '-0.08035',\n",
       " '-0.03366',\n",
       " '0.03433']"
      ]
     },
     "execution_count": 10,
     "metadata": {},
     "output_type": "execute_result"
    }
   ],
   "source": [
    "accXList[1] # zeige Liste"
   ]
  },
  {
   "cell_type": "code",
   "execution_count": 11,
   "metadata": {},
   "outputs": [
    {
     "data": {
      "text/plain": [
       "dtype('<U9')"
      ]
     },
     "execution_count": 11,
     "metadata": {},
     "output_type": "execute_result"
    }
   ],
   "source": [
    "np.array(accXList).dtype"
   ]
  },
  {
   "cell_type": "code",
   "execution_count": 12,
   "metadata": {},
   "outputs": [
    {
     "data": {
      "text/plain": [
       "dtype('float64')"
      ]
     },
     "execution_count": 12,
     "metadata": {},
     "output_type": "execute_result"
    }
   ],
   "source": [
    "np.array(accXList).astype(float).dtype "
   ]
  },
  {
   "cell_type": "code",
   "execution_count": 13,
   "metadata": {},
   "outputs": [
    {
     "data": {
      "text/html": [
       "<div>\n",
       "<style>\n",
       "    .dataframe thead tr:only-child th {\n",
       "        text-align: right;\n",
       "    }\n",
       "\n",
       "    .dataframe thead th {\n",
       "        text-align: left;\n",
       "    }\n",
       "\n",
       "    .dataframe tbody tr th {\n",
       "        vertical-align: top;\n",
       "    }\n",
       "</style>\n",
       "<table border=\"1\" class=\"dataframe\">\n",
       "  <thead>\n",
       "    <tr style=\"text-align: right;\">\n",
       "      <th></th>\n",
       "      <th>0</th>\n",
       "      <th>1</th>\n",
       "      <th>2</th>\n",
       "      <th>3</th>\n",
       "      <th>4</th>\n",
       "      <th>5</th>\n",
       "      <th>6</th>\n",
       "      <th>7</th>\n",
       "      <th>8</th>\n",
       "      <th>9</th>\n",
       "    </tr>\n",
       "  </thead>\n",
       "  <tbody>\n",
       "    <tr>\n",
       "      <th>count</th>\n",
       "      <td>4033.000000</td>\n",
       "      <td>4033.000000</td>\n",
       "      <td>4033.000000</td>\n",
       "      <td>4033.000000</td>\n",
       "      <td>4033.000000</td>\n",
       "      <td>4033.000000</td>\n",
       "      <td>4033.000000</td>\n",
       "      <td>4033.000000</td>\n",
       "      <td>4033.000000</td>\n",
       "      <td>4033.000000</td>\n",
       "    </tr>\n",
       "    <tr>\n",
       "      <th>mean</th>\n",
       "      <td>0.013317</td>\n",
       "      <td>-0.003369</td>\n",
       "      <td>0.007241</td>\n",
       "      <td>-0.014966</td>\n",
       "      <td>-0.016618</td>\n",
       "      <td>-0.013145</td>\n",
       "      <td>0.009173</td>\n",
       "      <td>0.030406</td>\n",
       "      <td>0.026682</td>\n",
       "      <td>-0.005150</td>\n",
       "    </tr>\n",
       "    <tr>\n",
       "      <th>std</th>\n",
       "      <td>1.441413</td>\n",
       "      <td>1.396812</td>\n",
       "      <td>1.419186</td>\n",
       "      <td>1.375713</td>\n",
       "      <td>1.404196</td>\n",
       "      <td>1.432436</td>\n",
       "      <td>1.451934</td>\n",
       "      <td>1.411490</td>\n",
       "      <td>1.394680</td>\n",
       "      <td>1.378802</td>\n",
       "    </tr>\n",
       "    <tr>\n",
       "      <th>min</th>\n",
       "      <td>-18.717620</td>\n",
       "      <td>-9.680360</td>\n",
       "      <td>-9.705260</td>\n",
       "      <td>-11.227190</td>\n",
       "      <td>-17.008060</td>\n",
       "      <td>-17.291380</td>\n",
       "      <td>-12.124190</td>\n",
       "      <td>-11.063110</td>\n",
       "      <td>-14.939860</td>\n",
       "      <td>-10.521570</td>\n",
       "    </tr>\n",
       "    <tr>\n",
       "      <th>25%</th>\n",
       "      <td>-0.619690</td>\n",
       "      <td>-0.667260</td>\n",
       "      <td>-0.637760</td>\n",
       "      <td>-0.651450</td>\n",
       "      <td>-0.661120</td>\n",
       "      <td>-0.629340</td>\n",
       "      <td>-0.574460</td>\n",
       "      <td>-0.605470</td>\n",
       "      <td>-0.597230</td>\n",
       "      <td>-0.632470</td>\n",
       "    </tr>\n",
       "    <tr>\n",
       "      <th>50%</th>\n",
       "      <td>0.006970</td>\n",
       "      <td>-0.012300</td>\n",
       "      <td>-0.007360</td>\n",
       "      <td>0.001700</td>\n",
       "      <td>-0.004460</td>\n",
       "      <td>-0.001930</td>\n",
       "      <td>0.014100</td>\n",
       "      <td>0.012560</td>\n",
       "      <td>0.008980</td>\n",
       "      <td>0.007730</td>\n",
       "    </tr>\n",
       "    <tr>\n",
       "      <th>75%</th>\n",
       "      <td>0.647860</td>\n",
       "      <td>0.613180</td>\n",
       "      <td>0.632160</td>\n",
       "      <td>0.646230</td>\n",
       "      <td>0.634240</td>\n",
       "      <td>0.646670</td>\n",
       "      <td>0.656000</td>\n",
       "      <td>0.672200</td>\n",
       "      <td>0.662620</td>\n",
       "      <td>0.628900</td>\n",
       "    </tr>\n",
       "    <tr>\n",
       "      <th>max</th>\n",
       "      <td>15.214150</td>\n",
       "      <td>15.588010</td>\n",
       "      <td>16.929340</td>\n",
       "      <td>10.079560</td>\n",
       "      <td>9.477870</td>\n",
       "      <td>9.770990</td>\n",
       "      <td>15.274030</td>\n",
       "      <td>16.080580</td>\n",
       "      <td>12.569330</td>\n",
       "      <td>11.386370</td>\n",
       "    </tr>\n",
       "  </tbody>\n",
       "</table>\n",
       "</div>"
      ],
      "text/plain": [
       "                 0            1            2            3            4  \\\n",
       "count  4033.000000  4033.000000  4033.000000  4033.000000  4033.000000   \n",
       "mean      0.013317    -0.003369     0.007241    -0.014966    -0.016618   \n",
       "std       1.441413     1.396812     1.419186     1.375713     1.404196   \n",
       "min     -18.717620    -9.680360    -9.705260   -11.227190   -17.008060   \n",
       "25%      -0.619690    -0.667260    -0.637760    -0.651450    -0.661120   \n",
       "50%       0.006970    -0.012300    -0.007360     0.001700    -0.004460   \n",
       "75%       0.647860     0.613180     0.632160     0.646230     0.634240   \n",
       "max      15.214150    15.588010    16.929340    10.079560     9.477870   \n",
       "\n",
       "                 5            6            7            8            9  \n",
       "count  4033.000000  4033.000000  4033.000000  4033.000000  4033.000000  \n",
       "mean     -0.013145     0.009173     0.030406     0.026682    -0.005150  \n",
       "std       1.432436     1.451934     1.411490     1.394680     1.378802  \n",
       "min     -17.291380   -12.124190   -11.063110   -14.939860   -10.521570  \n",
       "25%      -0.629340    -0.574460    -0.605470    -0.597230    -0.632470  \n",
       "50%      -0.001930     0.014100     0.012560     0.008980     0.007730  \n",
       "75%       0.646670     0.656000     0.672200     0.662620     0.628900  \n",
       "max       9.770990    15.274030    16.080580    12.569330    11.386370  "
      ]
     },
     "execution_count": 13,
     "metadata": {},
     "output_type": "execute_result"
    }
   ],
   "source": [
    "accXNp = np.array(accXList).astype(float) \n",
    "accXDf = pandas.DataFrame(accXNp)\n",
    "accXDf.describe()"
   ]
  },
  {
   "cell_type": "code",
   "execution_count": 15,
   "metadata": {},
   "outputs": [
    {
     "data": {
      "text/plain": [
       "(4033, 10)"
      ]
     },
     "execution_count": 15,
     "metadata": {},
     "output_type": "execute_result"
    }
   ],
   "source": [
    "accXDf.shape"
   ]
  },
  {
   "cell_type": "code",
   "execution_count": 58,
   "metadata": {},
   "outputs": [
    {
     "data": {
      "text/plain": [
       "Series([], Name: Messwerte, dtype: int64)"
      ]
     },
     "execution_count": 58,
     "metadata": {},
     "output_type": "execute_result"
    }
   ],
   "source": [
    "# Die Anzahl der Messerte muss immer gleich sein, ansonsten werden fehlende Messwerte\n",
    "# mit NaN gefüllt.\n",
    "featuresDf.Messwerte[featuresDf.Messwerte != 10]"
   ]
  },
  {
   "cell_type": "code",
   "execution_count": 16,
   "metadata": {},
   "outputs": [],
   "source": [
    "# Konvertierung von Object zu Float Werten in einer Zeile \n",
    "accYDf = pandas.DataFrame(np.array(featuresDf.AccelerometerY.str.split(\" \").tolist()).astype(float))"
   ]
  },
  {
   "cell_type": "code",
   "execution_count": 17,
   "metadata": {},
   "outputs": [
    {
     "name": "stdout",
     "output_type": "stream",
     "text": [
      "<class 'pandas.core.frame.DataFrame'>\n",
      "RangeIndex: 4033 entries, 0 to 4032\n",
      "Data columns (total 10 columns):\n",
      "0    4033 non-null float64\n",
      "1    4033 non-null float64\n",
      "2    4033 non-null float64\n",
      "3    4033 non-null float64\n",
      "4    4033 non-null float64\n",
      "5    4033 non-null float64\n",
      "6    4033 non-null float64\n",
      "7    4033 non-null float64\n",
      "8    4033 non-null float64\n",
      "9    4033 non-null float64\n",
      "dtypes: float64(10)\n",
      "memory usage: 315.2 KB\n"
     ]
    }
   ],
   "source": [
    "accYDf.info()"
   ]
  },
  {
   "cell_type": "code",
   "execution_count": 18,
   "metadata": {},
   "outputs": [
    {
     "data": {
      "text/html": [
       "<div>\n",
       "<style>\n",
       "    .dataframe thead tr:only-child th {\n",
       "        text-align: right;\n",
       "    }\n",
       "\n",
       "    .dataframe thead th {\n",
       "        text-align: left;\n",
       "    }\n",
       "\n",
       "    .dataframe tbody tr th {\n",
       "        vertical-align: top;\n",
       "    }\n",
       "</style>\n",
       "<table border=\"1\" class=\"dataframe\">\n",
       "  <thead>\n",
       "    <tr style=\"text-align: right;\">\n",
       "      <th></th>\n",
       "      <th>0</th>\n",
       "      <th>1</th>\n",
       "      <th>2</th>\n",
       "      <th>3</th>\n",
       "      <th>4</th>\n",
       "      <th>5</th>\n",
       "      <th>6</th>\n",
       "      <th>7</th>\n",
       "      <th>8</th>\n",
       "      <th>9</th>\n",
       "    </tr>\n",
       "  </thead>\n",
       "  <tbody>\n",
       "    <tr>\n",
       "      <th>0</th>\n",
       "      <td>0.05132</td>\n",
       "      <td>0.01027</td>\n",
       "      <td>0.02339</td>\n",
       "      <td>-0.01208</td>\n",
       "      <td>-0.00981</td>\n",
       "      <td>-0.02333</td>\n",
       "      <td>-0.03414</td>\n",
       "      <td>-0.02746</td>\n",
       "      <td>0.00854</td>\n",
       "      <td>0.00668</td>\n",
       "    </tr>\n",
       "    <tr>\n",
       "      <th>1</th>\n",
       "      <td>-0.05313</td>\n",
       "      <td>-0.02732</td>\n",
       "      <td>-0.02200</td>\n",
       "      <td>-0.03308</td>\n",
       "      <td>-0.02662</td>\n",
       "      <td>-0.00611</td>\n",
       "      <td>-0.00504</td>\n",
       "      <td>-0.08080</td>\n",
       "      <td>-0.14140</td>\n",
       "      <td>-0.03666</td>\n",
       "    </tr>\n",
       "  </tbody>\n",
       "</table>\n",
       "</div>"
      ],
      "text/plain": [
       "         0        1        2        3        4        5        6        7  \\\n",
       "0  0.05132  0.01027  0.02339 -0.01208 -0.00981 -0.02333 -0.03414 -0.02746   \n",
       "1 -0.05313 -0.02732 -0.02200 -0.03308 -0.02662 -0.00611 -0.00504 -0.08080   \n",
       "\n",
       "         8        9  \n",
       "0  0.00854  0.00668  \n",
       "1 -0.14140 -0.03666  "
      ]
     },
     "execution_count": 18,
     "metadata": {},
     "output_type": "execute_result"
    }
   ],
   "source": [
    "accYDf.head(2)"
   ]
  },
  {
   "cell_type": "code",
   "execution_count": 19,
   "metadata": {},
   "outputs": [],
   "source": [
    "accZDf = pandas.DataFrame(np.array(featuresDf.AccelerometerZ.str.split(\" \").tolist()).astype(float))"
   ]
  },
  {
   "cell_type": "code",
   "execution_count": 20,
   "metadata": {},
   "outputs": [],
   "source": [
    "nickDf = pandas.DataFrame(np.array(featuresDf.Nick.str.split(\" \").tolist()).astype(float))"
   ]
  },
  {
   "cell_type": "code",
   "execution_count": 21,
   "metadata": {},
   "outputs": [],
   "source": [
    "rollDf = pandas.DataFrame(np.array(featuresDf.Roll.str.split(\" \").tolist()).astype(float))"
   ]
  },
  {
   "cell_type": "code",
   "execution_count": 22,
   "metadata": {},
   "outputs": [],
   "source": [
    "azimuthDf = pandas.DataFrame(np.array(featuresDf.Azimuth.str.split(\" \").tolist()).astype(float))"
   ]
  },
  {
   "cell_type": "code",
   "execution_count": 23,
   "metadata": {},
   "outputs": [
    {
     "data": {
      "text/plain": [
       "0    0.009186\n",
       "1   -0.010713\n",
       "dtype: float64"
      ]
     },
     "execution_count": 23,
     "metadata": {},
     "output_type": "execute_result"
    }
   ],
   "source": [
    "accXMean = accXDf.T.mean()\n",
    "accXMean.head(2)"
   ]
  },
  {
   "cell_type": "code",
   "execution_count": 24,
   "metadata": {},
   "outputs": [],
   "source": [
    "# Neue Spalten werden erstellt und Mittelwerte zugewiesen\n",
    "featuresDf['MittelX'] = accXMean\n",
    "featuresDf['MittelY'] = accYDf.T.mean()\n",
    "featuresDf['MittelZ'] = accZDf.T.mean()\n",
    "featuresDf['MittelNick'] = nickDf.T.mean()\n",
    "featuresDf['MittelRoll'] = rollDf.T.mean()"
   ]
  },
  {
   "cell_type": "code",
   "execution_count": 25,
   "metadata": {},
   "outputs": [
    {
     "data": {
      "text/plain": [
       "0    0.009186\n",
       "1   -0.010713\n",
       "Name: MittelX, dtype: float64"
      ]
     },
     "execution_count": 25,
     "metadata": {},
     "output_type": "execute_result"
    }
   ],
   "source": [
    "featuresDf.MittelX.head(2)"
   ]
  },
  {
   "cell_type": "code",
   "execution_count": 26,
   "metadata": {
    "scrolled": true
   },
   "outputs": [
    {
     "data": {
      "text/plain": [
       "Index(['Zeitstempel', 'Breitengrad', 'Laengengrad', 'Geschwindigkeit',\n",
       "       'AccelerometerX', 'AccelerometerY', 'AccelerometerZ', 'Azimuth', 'Nick',\n",
       "       'Roll', 'SensorZeitstempel', 'Messwerte', 'StartBewegungsD',\n",
       "       'StartBelichtung', 'Belichtungszeit', 'MittelX', 'MittelY', 'MittelZ',\n",
       "       'MittelNick', 'MittelRoll'],\n",
       "      dtype='object')"
      ]
     },
     "execution_count": 26,
     "metadata": {},
     "output_type": "execute_result"
    }
   ],
   "source": [
    "featuresDf.columns"
   ]
  },
  {
   "cell_type": "markdown",
   "metadata": {},
   "source": [
    "Berechnet die Varianz. Dieser Funktion muss als Paramter der Mittelwert (mean) und der DataFrame mit   \n",
    "den Float Werten übergeben werden, um die Varianz zu berechnen. Als Varianz wird der Durchschnitt der quadrierten  \n",
    "Differenzen zum Mittelwert bezeichnet.   \n",
    "Prec.:    \n",
    "Postc.: Gibt die berechnete Variance als Float zurück oder 0 wenn die Anzahl der Werte <= 0  "
   ]
  },
  {
   "cell_type": "code",
   "execution_count": 27,
   "metadata": {},
   "outputs": [],
   "source": [
    "def calcVariance(meansDf, dfValues):\n",
    "    variance = []\n",
    "    for i, it in dfValues.iterrows():\n",
    "        sum = 0\n",
    "        for value in it:\n",
    "            tempDifference = value-meansDf[i]\n",
    "            sum += tempDifference * tempDifference\n",
    "        variance.append(\"{0:.5f}\".format(round(sum / it.count(),5)))\n",
    "    return np.array(variance).astype(float)"
   ]
  },
  {
   "cell_type": "markdown",
   "metadata": {},
   "source": [
    "Hier wird die Standardabweichung der Varianz berechnet. Dies ist die Wurzel der Varianz.   \n",
    "Für die Berechnung wird der Absolutwert von der Varianz genommen.    \n",
    "Prec.:\n",
    "Postc.:  Standardabweichung wird zurückgegeben."
   ]
  },
  {
   "cell_type": "code",
   "execution_count": 28,
   "metadata": {},
   "outputs": [],
   "source": [
    "def calculateStandardDeviation(varianceDf):\n",
    "    deviation = []\n",
    "    for v in varianceDf:\n",
    "        wasNegative = False\n",
    "        if(v < 0.0):\n",
    "            wasNegative = True\n",
    "        temp = math.sqrt(np.abs(v))\n",
    "        if(wasNegative):\n",
    "            temp *= -1\n",
    "        deviation.append(\"{0:.5f}\".format(round(temp,5)))\n",
    "    return np.array(deviation).astype(float)"
   ]
  },
  {
   "cell_type": "markdown",
   "metadata": {},
   "source": [
    "Die Funktion berechnet die Winkeldifferenz in rad zwischen den ersten gemessenen Gierwinkel und den letzten Gierwinkel   \n",
    "innerhalb einer als Argument übergebenen DataFrames. Der zurückgegebene Radiant    \n",
    "ist immer positiv und gibt die relative änderung in rad an.      \n",
    "Prec.:   \n",
    "Postc.: Radiant berechnet   "
   ]
  },
  {
   "cell_type": "code",
   "execution_count": 29,
   "metadata": {},
   "outputs": [],
   "source": [
    "def calculateAngelChangeAzimuth(azimuthDf):\n",
    "    azimuthL = []\n",
    "    result = []\n",
    "    counter = 0\n",
    "    for i,values in azimuthDf.iterrows():\n",
    "        resultTemp = 0\n",
    "        for rad in values:\n",
    "            azimuthL.append(rad * (180 / math.pi))\n",
    "            counter = counter + 1\n",
    "        resultTemp = np.abs(azimuthL[0] - azimuthL[counter-1])\n",
    "        if(resultTemp > 180):\n",
    "            resultTemp = 360 - resultTemp\n",
    "        result.append(\"{0:.5f}\".format(round(resultTemp * ( math.pi / 180),5)))\n",
    "    return np.array(result).astype(float)"
   ]
  },
  {
   "cell_type": "code",
   "execution_count": 30,
   "metadata": {},
   "outputs": [],
   "source": [
    "featuresDf['AzimuthAenderung'] = calculateAngelChangeAzimuth(azimuthDf)"
   ]
  },
  {
   "cell_type": "code",
   "execution_count": 31,
   "metadata": {},
   "outputs": [],
   "source": [
    "# Berechne Varianz\n",
    "featuresDf['VarianzX'] = calcVariance(featuresDf.MittelX,accXDf)\n",
    "featuresDf['VarianzY'] = calcVariance(featuresDf.MittelY,accYDf)\n",
    "featuresDf['VarianzZ'] = calcVariance(featuresDf.MittelZ,accZDf)\n",
    "featuresDf['VarianzNick'] = calcVariance(featuresDf.MittelNick,nickDf)\n",
    "featuresDf['VarianzRoll'] = calcVariance(featuresDf.MittelRoll,rollDf)"
   ]
  },
  {
   "cell_type": "code",
   "execution_count": 32,
   "metadata": {},
   "outputs": [
    {
     "data": {
      "text/plain": [
       "0    0.00095\n",
       "1    0.00280\n",
       "2    0.00030\n",
       "3    0.00177\n",
       "4    0.00135\n",
       "Name: VarianzX, dtype: float64"
      ]
     },
     "execution_count": 32,
     "metadata": {},
     "output_type": "execute_result"
    }
   ],
   "source": [
    "featuresDf.VarianzX.head()"
   ]
  },
  {
   "cell_type": "code",
   "execution_count": 33,
   "metadata": {},
   "outputs": [],
   "source": [
    "# Berechne Standardabweichung\n",
    "featuresDf['AbweichungX'] = calculateStandardDeviation(featuresDf.VarianzX)\n",
    "featuresDf['AbweichungY'] = calculateStandardDeviation(featuresDf.VarianzY)\n",
    "featuresDf['AbweichungZ'] = calculateStandardDeviation(featuresDf.VarianzZ)\n",
    "featuresDf['AbweichungNick'] = calculateStandardDeviation(featuresDf.VarianzNick)\n",
    "featuresDf['AbweichungRoll'] = calculateStandardDeviation(featuresDf.VarianzRoll)"
   ]
  },
  {
   "cell_type": "code",
   "execution_count": 34,
   "metadata": {},
   "outputs": [
    {
     "data": {
      "text/plain": [
       "0    0.03082\n",
       "1    0.05292\n",
       "2    0.01732\n",
       "3    0.04207\n",
       "4    0.03674\n",
       "Name: AbweichungX, dtype: float64"
      ]
     },
     "execution_count": 34,
     "metadata": {},
     "output_type": "execute_result"
    }
   ],
   "source": [
    "featuresDf.AbweichungX.head()"
   ]
  },
  {
   "cell_type": "code",
   "execution_count": 35,
   "metadata": {},
   "outputs": [
    {
     "name": "stdout",
     "output_type": "stream",
     "text": [
      "<class 'pandas.core.frame.DataFrame'>\n",
      "RangeIndex: 4033 entries, 0 to 4032\n",
      "Data columns (total 10 columns):\n",
      "0    4033 non-null float64\n",
      "1    4033 non-null float64\n",
      "2    4033 non-null float64\n",
      "3    4033 non-null float64\n",
      "4    4033 non-null float64\n",
      "5    4033 non-null float64\n",
      "6    4033 non-null float64\n",
      "7    4033 non-null float64\n",
      "8    4033 non-null float64\n",
      "9    4033 non-null float64\n",
      "dtypes: float64(10)\n",
      "memory usage: 315.2 KB\n"
     ]
    }
   ],
   "source": [
    "accXDf.info()"
   ]
  },
  {
   "cell_type": "code",
   "execution_count": 36,
   "metadata": {},
   "outputs": [
    {
     "data": {
      "text/html": [
       "<div>\n",
       "<style>\n",
       "    .dataframe thead tr:only-child th {\n",
       "        text-align: right;\n",
       "    }\n",
       "\n",
       "    .dataframe thead th {\n",
       "        text-align: left;\n",
       "    }\n",
       "\n",
       "    .dataframe tbody tr th {\n",
       "        vertical-align: top;\n",
       "    }\n",
       "</style>\n",
       "<table border=\"1\" class=\"dataframe\">\n",
       "  <thead>\n",
       "    <tr style=\"text-align: right;\">\n",
       "      <th></th>\n",
       "      <th>0</th>\n",
       "      <th>1</th>\n",
       "      <th>2</th>\n",
       "      <th>3</th>\n",
       "      <th>4</th>\n",
       "      <th>5</th>\n",
       "      <th>6</th>\n",
       "      <th>7</th>\n",
       "      <th>8</th>\n",
       "      <th>9</th>\n",
       "    </tr>\n",
       "  </thead>\n",
       "  <tbody>\n",
       "    <tr>\n",
       "      <th>0</th>\n",
       "      <td>0.04156</td>\n",
       "      <td>0.00258</td>\n",
       "      <td>-0.01328</td>\n",
       "      <td>-0.04130</td>\n",
       "      <td>-0.03307</td>\n",
       "      <td>-0.01116</td>\n",
       "      <td>0.03702</td>\n",
       "      <td>0.04491</td>\n",
       "      <td>0.03590</td>\n",
       "      <td>0.02870</td>\n",
       "    </tr>\n",
       "    <tr>\n",
       "      <th>1</th>\n",
       "      <td>0.08288</td>\n",
       "      <td>0.02032</td>\n",
       "      <td>-0.06039</td>\n",
       "      <td>-0.07898</td>\n",
       "      <td>0.02872</td>\n",
       "      <td>0.02295</td>\n",
       "      <td>-0.04295</td>\n",
       "      <td>-0.08035</td>\n",
       "      <td>-0.03366</td>\n",
       "      <td>0.03433</td>\n",
       "    </tr>\n",
       "    <tr>\n",
       "      <th>2</th>\n",
       "      <td>-0.01467</td>\n",
       "      <td>-0.02708</td>\n",
       "      <td>-0.05233</td>\n",
       "      <td>-0.02657</td>\n",
       "      <td>-0.05193</td>\n",
       "      <td>-0.05689</td>\n",
       "      <td>-0.03022</td>\n",
       "      <td>-0.00887</td>\n",
       "      <td>-0.03777</td>\n",
       "      <td>-0.06088</td>\n",
       "    </tr>\n",
       "    <tr>\n",
       "      <th>3</th>\n",
       "      <td>-0.05236</td>\n",
       "      <td>-0.08788</td>\n",
       "      <td>-0.02436</td>\n",
       "      <td>-0.03483</td>\n",
       "      <td>0.00275</td>\n",
       "      <td>0.03282</td>\n",
       "      <td>0.04155</td>\n",
       "      <td>0.03322</td>\n",
       "      <td>0.04187</td>\n",
       "      <td>-0.01249</td>\n",
       "    </tr>\n",
       "    <tr>\n",
       "      <th>4</th>\n",
       "      <td>-0.10448</td>\n",
       "      <td>-0.05297</td>\n",
       "      <td>-0.04240</td>\n",
       "      <td>-0.01863</td>\n",
       "      <td>-0.01493</td>\n",
       "      <td>0.00337</td>\n",
       "      <td>0.00267</td>\n",
       "      <td>0.00211</td>\n",
       "      <td>0.00166</td>\n",
       "      <td>0.03194</td>\n",
       "    </tr>\n",
       "  </tbody>\n",
       "</table>\n",
       "</div>"
      ],
      "text/plain": [
       "         0        1        2        3        4        5        6        7  \\\n",
       "0  0.04156  0.00258 -0.01328 -0.04130 -0.03307 -0.01116  0.03702  0.04491   \n",
       "1  0.08288  0.02032 -0.06039 -0.07898  0.02872  0.02295 -0.04295 -0.08035   \n",
       "2 -0.01467 -0.02708 -0.05233 -0.02657 -0.05193 -0.05689 -0.03022 -0.00887   \n",
       "3 -0.05236 -0.08788 -0.02436 -0.03483  0.00275  0.03282  0.04155  0.03322   \n",
       "4 -0.10448 -0.05297 -0.04240 -0.01863 -0.01493  0.00337  0.00267  0.00211   \n",
       "\n",
       "         8        9  \n",
       "0  0.03590  0.02870  \n",
       "1 -0.03366  0.03433  \n",
       "2 -0.03777 -0.06088  \n",
       "3  0.04187 -0.01249  \n",
       "4  0.00166  0.03194  "
      ]
     },
     "execution_count": 36,
     "metadata": {},
     "output_type": "execute_result"
    }
   ],
   "source": [
    "accXDf.head()"
   ]
  },
  {
   "cell_type": "code",
   "execution_count": 37,
   "metadata": {},
   "outputs": [
    {
     "data": {
      "text/plain": [
       "0    0.009186\n",
       "1   -0.010713\n",
       "2   -0.036721\n",
       "3   -0.005971\n",
       "4   -0.019166\n",
       "Name: MittelX, dtype: float64"
      ]
     },
     "execution_count": 37,
     "metadata": {},
     "output_type": "execute_result"
    }
   ],
   "source": [
    "featuresDf.MittelX.head()"
   ]
  },
  {
   "cell_type": "code",
   "execution_count": 38,
   "metadata": {},
   "outputs": [],
   "source": [
    "# Änderungen in CSV Datei schreiben\n",
    "featuresDf.set_index('Zeitstempel', inplace=True)\n",
    "featuresDf.to_csv('merkmale.csv')"
   ]
  },
  {
   "cell_type": "code",
   "execution_count": 39,
   "metadata": {},
   "outputs": [
    {
     "data": {
      "text/plain": [
       "Index(['Zeitstempel', 'Breitengrad', 'Laengengrad', 'Geschwindigkeit',\n",
       "       'AccelerometerX', 'AccelerometerY', 'AccelerometerZ', 'Azimuth', 'Nick',\n",
       "       'Roll', 'SensorZeitstempel', 'Messwerte', 'StartBewegungsD',\n",
       "       'StartBelichtung', 'Belichtungszeit', 'MittelX', 'MittelY', 'MittelZ',\n",
       "       'MittelNick', 'MittelRoll', 'AzimuthAenderung', 'VarianzX', 'VarianzY',\n",
       "       'VarianzZ', 'VarianzNick', 'VarianzRoll', 'AbweichungX', 'AbweichungY',\n",
       "       'AbweichungZ', 'AbweichungNick', 'AbweichungRoll'],\n",
       "      dtype='object')"
      ]
     },
     "execution_count": 39,
     "metadata": {},
     "output_type": "execute_result"
    }
   ],
   "source": [
    "pandas.read_csv(\"merkmale.csv\").columns"
   ]
  },
  {
   "cell_type": "code",
   "execution_count": 37,
   "metadata": {},
   "outputs": [
    {
     "name": "stderr",
     "output_type": "stream",
     "text": [
      "testCalcVariance0 (__main__.CalcTest) ... ok\n",
      "testCalcVariance2 (__main__.CalcTest) ... ok\n",
      "testCalcVariance5 (__main__.CalcTest) ... ok\n",
      "testCalcVarianceMultidim (__main__.CalcTest) ... ok\n",
      "testCalcVarianceNegative (__main__.CalcTest) ... ok\n",
      "testCalculateAngelChangeAzimuthEqual (__main__.CalcTest) ... ok\n",
      "testCalculateAngelChangeAzimuthOne (__main__.CalcTest) ... ok\n",
      "testCalculateAngelChangeAzimuthOne2 (__main__.CalcTest) ... ok\n",
      "testCalculateAngelChangeAzimuthSmall (__main__.CalcTest) ... ok\n",
      "testCalculateAngelChangeAzimuthValues (__main__.CalcTest) ... ok\n",
      "testCalculateStandardDeviation (__main__.CalcTest) ... ok\n",
      "testCalculateStandardDeviationNegative (__main__.CalcTest) ... ok\n",
      "testCalculateStandardDeviationZero (__main__.CalcTest) ... ok\n",
      "\n",
      "----------------------------------------------------------------------\n",
      "Ran 13 tests in 0.210s\n",
      "\n",
      "OK\n"
     ]
    },
    {
     "data": {
      "text/plain": [
       "<unittest.main.TestProgram at 0x7fe6392a5f98>"
      ]
     },
     "execution_count": 37,
     "metadata": {},
     "output_type": "execute_result"
    }
   ],
   "source": [
    "# Unittests\n",
    "import unittest\n",
    "\n",
    "class CalcTest(unittest.TestCase):\n",
    "    \n",
    "    \n",
    "    # Testet die Funktion calcVariance mit einem DataFrame mit den Werten [2.0, 2.0]\n",
    "    # Der Mittelwert sollte 2.0 sein\n",
    "    # Das erwartete Ergebnis ist 0.0\n",
    "    def testCalcVariance2(self):\n",
    "        meanL = [2.0]\n",
    "        meanDf = pandas.DataFrame(meanL)\n",
    "        valuesA = [2.0,2.0]\n",
    "        valuesDf = pandas.DataFrame([[2.0]])\n",
    "        npt.assert_almost_equal(calcVariance(meanDf[0],valuesDf), 0.0,2)\n",
    "        \n",
    "    # Testet die Funktion calcVariance mit einem DataFrame mit den folgenden Werten:\n",
    "    # [1.24, 2.5213, 10.434, 42.45, 5.9]\n",
    "    # Der Mittelwert ist 12.508\n",
    "    # Die erwartete Varianz ist 234,247016\n",
    "    def testCalcVariance5(self):\n",
    "        meanDf = pandas.DataFrame([12.508])\n",
    "        valuesDf = pandas.DataFrame([[1.24, 2.52, 10.43, 42.45, 5.9]])\n",
    "        npt.assert_almost_equal(calcVariance(meanDf[0],valuesDf), 234.24702,5)   \n",
    "    \n",
    "    # Testet calcVariance mit 0 Datenwerten   \n",
    "    def testCalcVariance0(self):\n",
    "        meanDf = pandas.DataFrame([0.0])\n",
    "        valuesDf = pandas.DataFrame([[0.0]])\n",
    "        npt.assert_almost_equal(calcVariance(meanDf[0],valuesDf),0.0,2)  \n",
    "        \n",
    "    # Testet calcVariance mit negativen Datenwerten   \n",
    "    def testCalcVarianceNegative(self):\n",
    "        meanDf = pandas.DataFrame([-24.0])\n",
    "        valuesDf = pandas.DataFrame([[-2.0,-24.0,-5.0,7.0]])\n",
    "        npt.assert_almost_equal(calcVariance(meanDf[0],valuesDf),451.5,1) \n",
    "        \n",
    "    # Testet calcVariance mit Muultidimensionalen DataFrame   \n",
    "    def testCalcVarianceMultidim(self):\n",
    "        meanDf = pandas.DataFrame([-24.0,0.0])\n",
    "        valuesDf = pandas.DataFrame([[-2.0,-24.0,-5.0,7.0],[0.0,0.0,0.0,0.0]])\n",
    "        # Hier wird Numpy Test verwendet um das Ergebnis (zwei Arrays) zu vergleichen\n",
    "        npt.assert_array_equal(calcVariance(meanDf[0],valuesDf),np.array([ 451.5,0.0])) \n",
    "        \n",
    "    # Dieser Test testet die Funktion calculateStandardDeviation.\n",
    "    def testCalculateStandardDeviation(self):\n",
    "        varianceDf = pandas.DataFrame([451.5])\n",
    "        npt.assert_almost_equal(calculateStandardDeviation(varianceDf[0]),21.24853,5) \n",
    "\n",
    "    # Testet die Funktion calculateStandardDeviation.\n",
    "    # Dabei ist das Argument negativ.\n",
    "    def testCalculateStandardDeviationNegative(self):\n",
    "        varianceDf = pandas.DataFrame([-451.5])\n",
    "        npt.assert_almost_equal(calculateStandardDeviation(varianceDf[0]),-21.24853,5)\n",
    "        \n",
    "    # Testet die Funktion calculateStandardDeviation.\n",
    "    # Dabei hat das Argument den Wert 0.0.\n",
    "    def testCalculateStandardDeviationZero(self):\n",
    "        varianceDf = pandas.DataFrame([0.0])\n",
    "        npt.assert_almost_equal(calculateStandardDeviation(varianceDf[0]),0.0,2)\n",
    "    \n",
    "    #  Testet die Funktion calculateAngelChangeAzimuth mit zwei gleichen rad Werten\n",
    "    def testCalculateAngelChangeAzimuthEqual(self):\n",
    "        radiants = pandas.DataFrame([[1.0,1.0]])\n",
    "        npt.assert_almost_equal(calculateAngelChangeAzimuth(radiants),0.0,2)\n",
    "    \n",
    "    # Testet ob die Winkeldifferenz korrekt berechnet wurde für \n",
    "    # die Radianten -1.0 und 1.0\n",
    "    def testCalculateAngelChangeAzimuthOne(self):\n",
    "        radiants = pandas.DataFrame([[-1.0,1.0]])\n",
    "        npt.assert_almost_equal(calculateAngelChangeAzimuth(radiants),2.0,2)  \n",
    "        \n",
    "    # Testet ob die Winkeldifferenz korrekt berechnet wurde für \n",
    "    # die Radianten 1.0 und -1.0\n",
    "    def testCalculateAngelChangeAzimuthOne2(self):\n",
    "        radiants = pandas.DataFrame([[1.0,-1.0]])\n",
    "        npt.assert_almost_equal(calculateAngelChangeAzimuth(radiants),2.0,2)  \n",
    "\n",
    "    # Testet die Funktion calculateAngelChangeAzimuthValues mit mehreren Werten\n",
    "    def testCalculateAngelChangeAzimuthValues(self):\n",
    "        radiants = pandas.DataFrame([[-1.57,1.0,2.0,1.3,1.57]])\n",
    "        npt.assert_almost_equal(calculateAngelChangeAzimuth(radiants),3.14,2)\n",
    "        \n",
    "    # Testet ob die Winkeldifferenz korrekt berechnet wurde für \n",
    "    # die Radianten 0.05 und 0.06\n",
    "    def testCalculateAngelChangeAzimuthSmall(self):\n",
    "        radiants = pandas.DataFrame([[0.01,0.02]])\n",
    "        npt.assert_almost_equal(calculateAngelChangeAzimuth(radiants), 0.01,2)  \n",
    "\n",
    "unittest.main(argv=[''], verbosity=2, exit=False)"
   ]
  }
 ],
 "metadata": {
  "kernelspec": {
   "display_name": "Python 3.6",
   "language": "python",
   "name": "python36"
  },
  "language_info": {
   "codemirror_mode": {
    "name": "ipython",
    "version": 3
   },
   "file_extension": ".py",
   "mimetype": "text/x-python",
   "name": "python",
   "nbconvert_exporter": "python",
   "pygments_lexer": "ipython3",
   "version": "3.6.3"
  }
 },
 "nbformat": 4,
 "nbformat_minor": 2
}
