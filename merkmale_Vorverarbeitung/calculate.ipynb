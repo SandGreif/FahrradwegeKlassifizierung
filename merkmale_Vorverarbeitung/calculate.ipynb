{
 "cells": [
  {
   "cell_type": "markdown",
   "metadata": {
    "collapsed": true
   },
   "source": [
    "## Berechnungen\n",
    "\n",
    "In diesem Notebook ist es möglich den Mittelwert, Varianz und Standardabeichung für Messwerte zu berechnen.   \n",
    "Zudem wird die Gieränderung in rad bestimmt. Die Ergebnisse können zurück in die Merkmal CSV Datei geschrieben werden."
   ]
  },
  {
   "cell_type": "code",
   "execution_count": 173,
   "metadata": {},
   "outputs": [],
   "source": [
    "import pandas\n",
    "import numpy as np\n",
    "import numpy.testing as npt\n",
    "import math\n",
    "import os"
   ]
  },
  {
   "cell_type": "code",
   "execution_count": 174,
   "metadata": {},
   "outputs": [
    {
     "data": {
      "text/html": [
       "<div>\n",
       "<style scoped>\n",
       "    .dataframe tbody tr th:only-of-type {\n",
       "        vertical-align: middle;\n",
       "    }\n",
       "\n",
       "    .dataframe tbody tr th {\n",
       "        vertical-align: top;\n",
       "    }\n",
       "\n",
       "    .dataframe thead th {\n",
       "        text-align: right;\n",
       "    }\n",
       "</style>\n",
       "<table border=\"1\" class=\"dataframe\">\n",
       "  <thead>\n",
       "    <tr style=\"text-align: right;\">\n",
       "      <th></th>\n",
       "      <th>Zeitstempel</th>\n",
       "      <th>Breitengrad</th>\n",
       "      <th>Laengengrad</th>\n",
       "      <th>Geschwindigkeit</th>\n",
       "      <th>Messwerte</th>\n",
       "      <th>StartZeitfenster</th>\n",
       "      <th>StartBewegungsdaten</th>\n",
       "      <th>StartBelichtung</th>\n",
       "      <th>Belichtungszeit</th>\n",
       "    </tr>\n",
       "  </thead>\n",
       "  <tbody>\n",
       "    <tr>\n",
       "      <th>count</th>\n",
       "      <td>1.484500e+04</td>\n",
       "      <td>14845.000000</td>\n",
       "      <td>14845.000000</td>\n",
       "      <td>14845.000000</td>\n",
       "      <td>14845.000000</td>\n",
       "      <td>1.484500e+04</td>\n",
       "      <td>1.484500e+04</td>\n",
       "      <td>1.484500e+04</td>\n",
       "      <td>1.484500e+04</td>\n",
       "    </tr>\n",
       "    <tr>\n",
       "      <th>mean</th>\n",
       "      <td>1.521126e+12</td>\n",
       "      <td>53.616914</td>\n",
       "      <td>10.188200</td>\n",
       "      <td>14.596723</td>\n",
       "      <td>19.438464</td>\n",
       "      <td>3.221171e+13</td>\n",
       "      <td>3.221165e+13</td>\n",
       "      <td>3.221174e+13</td>\n",
       "      <td>2.109333e+07</td>\n",
       "    </tr>\n",
       "    <tr>\n",
       "      <th>std</th>\n",
       "      <td>1.313290e+06</td>\n",
       "      <td>0.007137</td>\n",
       "      <td>0.027214</td>\n",
       "      <td>3.372945</td>\n",
       "      <td>0.563356</td>\n",
       "      <td>1.287856e+12</td>\n",
       "      <td>1.287857e+12</td>\n",
       "      <td>1.287854e+12</td>\n",
       "      <td>7.078451e+06</td>\n",
       "    </tr>\n",
       "    <tr>\n",
       "      <th>min</th>\n",
       "      <td>1.521124e+12</td>\n",
       "      <td>53.606853</td>\n",
       "      <td>10.137816</td>\n",
       "      <td>5.040000</td>\n",
       "      <td>6.000000</td>\n",
       "      <td>2.999506e+13</td>\n",
       "      <td>2.999499e+13</td>\n",
       "      <td>2.999509e+13</td>\n",
       "      <td>6.150027e+06</td>\n",
       "    </tr>\n",
       "    <tr>\n",
       "      <th>25%</th>\n",
       "      <td>1.521125e+12</td>\n",
       "      <td>53.612995</td>\n",
       "      <td>10.167364</td>\n",
       "      <td>12.348000</td>\n",
       "      <td>19.000000</td>\n",
       "      <td>3.108906e+13</td>\n",
       "      <td>3.108899e+13</td>\n",
       "      <td>3.108909e+13</td>\n",
       "      <td>2.000368e+07</td>\n",
       "    </tr>\n",
       "    <tr>\n",
       "      <th>50%</th>\n",
       "      <td>1.521126e+12</td>\n",
       "      <td>53.614210</td>\n",
       "      <td>10.186600</td>\n",
       "      <td>14.760000</td>\n",
       "      <td>19.000000</td>\n",
       "      <td>3.219892e+13</td>\n",
       "      <td>3.219886e+13</td>\n",
       "      <td>3.219895e+13</td>\n",
       "      <td>2.000368e+07</td>\n",
       "    </tr>\n",
       "    <tr>\n",
       "      <th>75%</th>\n",
       "      <td>1.521127e+12</td>\n",
       "      <td>53.620880</td>\n",
       "      <td>10.211833</td>\n",
       "      <td>17.136000</td>\n",
       "      <td>20.000000</td>\n",
       "      <td>3.336325e+13</td>\n",
       "      <td>3.336319e+13</td>\n",
       "      <td>3.336328e+13</td>\n",
       "      <td>2.999632e+07</td>\n",
       "    </tr>\n",
       "    <tr>\n",
       "      <th>max</th>\n",
       "      <td>1.521128e+12</td>\n",
       "      <td>53.632652</td>\n",
       "      <td>10.229659</td>\n",
       "      <td>24.768002</td>\n",
       "      <td>22.000000</td>\n",
       "      <td>3.445658e+13</td>\n",
       "      <td>3.445653e+13</td>\n",
       "      <td>3.445660e+13</td>\n",
       "      <td>3.287369e+07</td>\n",
       "    </tr>\n",
       "  </tbody>\n",
       "</table>\n",
       "</div>"
      ],
      "text/plain": [
       "        Zeitstempel   Breitengrad   Laengengrad  Geschwindigkeit  \\\n",
       "count  1.484500e+04  14845.000000  14845.000000     14845.000000   \n",
       "mean   1.521126e+12     53.616914     10.188200        14.596723   \n",
       "std    1.313290e+06      0.007137      0.027214         3.372945   \n",
       "min    1.521124e+12     53.606853     10.137816         5.040000   \n",
       "25%    1.521125e+12     53.612995     10.167364        12.348000   \n",
       "50%    1.521126e+12     53.614210     10.186600        14.760000   \n",
       "75%    1.521127e+12     53.620880     10.211833        17.136000   \n",
       "max    1.521128e+12     53.632652     10.229659        24.768002   \n",
       "\n",
       "          Messwerte  StartZeitfenster  StartBewegungsdaten  StartBelichtung  \\\n",
       "count  14845.000000      1.484500e+04         1.484500e+04     1.484500e+04   \n",
       "mean      19.438464      3.221171e+13         3.221165e+13     3.221174e+13   \n",
       "std        0.563356      1.287856e+12         1.287857e+12     1.287854e+12   \n",
       "min        6.000000      2.999506e+13         2.999499e+13     2.999509e+13   \n",
       "25%       19.000000      3.108906e+13         3.108899e+13     3.108909e+13   \n",
       "50%       19.000000      3.219892e+13         3.219886e+13     3.219895e+13   \n",
       "75%       20.000000      3.336325e+13         3.336319e+13     3.336328e+13   \n",
       "max       22.000000      3.445658e+13         3.445653e+13     3.445660e+13   \n",
       "\n",
       "       Belichtungszeit  \n",
       "count     1.484500e+04  \n",
       "mean      2.109333e+07  \n",
       "std       7.078451e+06  \n",
       "min       6.150027e+06  \n",
       "25%       2.000368e+07  \n",
       "50%       2.000368e+07  \n",
       "75%       2.999632e+07  \n",
       "max       3.287369e+07  "
      ]
     },
     "execution_count": 174,
     "metadata": {},
     "output_type": "execute_result"
    }
   ],
   "source": [
    "featuresDf = pandas.read_csv(\"merkmaleRoh.csv\")\n",
    "featuresDf.describe()"
   ]
  },
  {
   "cell_type": "code",
   "execution_count": 175,
   "metadata": {},
   "outputs": [
    {
     "name": "stdout",
     "output_type": "stream",
     "text": [
      "<class 'pandas.core.frame.DataFrame'>\n",
      "RangeIndex: 14845 entries, 0 to 14844\n",
      "Data columns (total 16 columns):\n",
      "Zeitstempel            14845 non-null int64\n",
      "Breitengrad            14845 non-null float64\n",
      "Laengengrad            14845 non-null float64\n",
      "Geschwindigkeit        14845 non-null float64\n",
      "AccelerometerX         14845 non-null object\n",
      "AccelerometerY         14845 non-null object\n",
      "AccelerometerZ         14845 non-null object\n",
      "Azimuth                14845 non-null object\n",
      "Nick                   14845 non-null object\n",
      "Roll                   14845 non-null object\n",
      "SensorZeitstempel      14845 non-null object\n",
      "Messwerte              14845 non-null int64\n",
      "StartZeitfenster       14845 non-null int64\n",
      "StartBewegungsdaten    14845 non-null int64\n",
      "StartBelichtung        14845 non-null int64\n",
      "Belichtungszeit        14845 non-null int64\n",
      "dtypes: float64(3), int64(6), object(7)\n",
      "memory usage: 1.8+ MB\n"
     ]
    }
   ],
   "source": [
    "featuresDf.info()"
   ]
  },
  {
   "cell_type": "code",
   "execution_count": 176,
   "metadata": {},
   "outputs": [
    {
     "data": {
      "text/plain": [
       "0    0.66929 0.81137 0.75647 0.22221 -0.14389 -0.13...\n",
       "1    0.2285 0.13695 0.37016 0.08172 -0.05709 0.3834...\n",
       "2    -2.72057 3.72297 3.37689 -1.28232 -0.90316 0.4...\n",
       "3    -0.06289 0.54739 0.6219 -1.35643 -0.54872 0.28...\n",
       "4    -0.5752 -1.41006 -1.3118 -0.58965 -1.32969 0.6...\n",
       "Name: AccelerometerX, dtype: object"
      ]
     },
     "execution_count": 176,
     "metadata": {},
     "output_type": "execute_result"
    }
   ],
   "source": [
    "# Zeigt die ersten 5 Reihen Beschleunigungssensordaten der X-Achse \n",
    "featuresDf.AccelerometerX.head()"
   ]
  },
  {
   "cell_type": "markdown",
   "metadata": {},
   "source": [
    "Die folgenden Spalten des Datenframes haben als Type ein Python object.   \n",
    "AccelerometerX       non-null object   \n",
    "AccelerometerY       non-null object   \n",
    "AccelerometerZ       non-null object   \n",
    "Azimuth              non-null object   \n",
    "Nick                 non-null object   \n",
    "Roll                 non-null object   \n",
    "Implizit haben diese Spalten als Typ Strings. Aber in einem DataFrame werden Strings als    \n",
    "Python objects erkannt. Um den Datentyp auf float zu casten wird aus den Spalten zunächst ein Liste erstellt.    \n",
    "Welche dann wiederum als Numpy Array auf den Typ float konvertiert wird.   "
   ]
  },
  {
   "cell_type": "code",
   "execution_count": 177,
   "metadata": {},
   "outputs": [],
   "source": [
    "accXList = featuresDf.AccelerometerX.str.split(\" \").tolist()"
   ]
  },
  {
   "cell_type": "code",
   "execution_count": 178,
   "metadata": {},
   "outputs": [
    {
     "data": {
      "text/plain": [
       "array([[ ['0.66929', '0.81137', '0.75647', '0.22221', '-0.14389', '-0.13032', '-0.34931', '-0.26401', '-0.349', '-0.41699', '-0.27218', '-0.38619', '-0.29352', '-0.46454', '-0.47877', '-0.3829', '-0.13767', '-0.11002', '0.01936', '0.27609']],\n",
       "       [ ['0.2285', '0.13695', '0.37016', '0.08172', '-0.05709', '0.38348', '-0.27536', '-0.6339', '0.21317', '-0.05919', '-0.44563', '-0.78543', '-0.52098', '-1.10619', '-0.19531', '-0.7384', '-0.60594', '-0.54593', '0.00775', '-0.26951']],\n",
       "       [ ['-2.72057', '3.72297', '3.37689', '-1.28232', '-0.90316', '0.47276', '0.60817', '1.13021', '1.93092', '0.62547', '-2.50279', '-0.54644', '0.81943', '-0.67742', '-0.06682', '-0.23722', '0.45391', '1.206', '1.94558', '2.88967']],\n",
       "       ..., \n",
       "       [ ['1.49666', '-0.16642', '-1.12912', '-0.53554', '0.16916', '0.02807', '-0.94289', '-0.72366', '-0.0273', '0.62171', '0.54334', '-0.27017', '-0.00162', '0.74952', '0.21655', '-0.33241', '-0.77158', '-0.73985', '-0.0709']],\n",
       "       [ ['0.79005', '0.203', '0.26966', '0.24638', '0.27371', '-0.02619', '0.0097', '0.37551', '0.13185', '0.09016', '-0.26498', '0.03318', '0.1951', '0.43189', '0.131', '0.28867', '0.139', '0.23378', '-0.01217']],\n",
       "       [ ['-0.0043', '-0.03408', '0.21791', '0.05174', '0.30188', '0.13425', '0.13804', '0.0798', '-0.01278', '0.11236', '0.19715', '-0.01083', '-0.11593', '0.02985', '0.02388', '-0.318', '-0.19311', '-0.13917', '-0.06536']]], dtype=object)"
      ]
     },
     "execution_count": 178,
     "metadata": {},
     "output_type": "execute_result"
    }
   ],
   "source": [
    "# Direkt mit dem Numpy Array ist es nicht möglich die Konvertierung durchzuführen, weil die Arrays von Typ object sind.   \n",
    "pandas.DataFrame(featuresDf.AccelerometerX.str.split(\" \")).values"
   ]
  },
  {
   "cell_type": "code",
   "execution_count": 179,
   "metadata": {},
   "outputs": [
    {
     "data": {
      "text/plain": [
       "['0.2285',\n",
       " '0.13695',\n",
       " '0.37016',\n",
       " '0.08172',\n",
       " '-0.05709',\n",
       " '0.38348',\n",
       " '-0.27536',\n",
       " '-0.6339',\n",
       " '0.21317',\n",
       " '-0.05919',\n",
       " '-0.44563',\n",
       " '-0.78543',\n",
       " '-0.52098',\n",
       " '-1.10619',\n",
       " '-0.19531',\n",
       " '-0.7384',\n",
       " '-0.60594',\n",
       " '-0.54593',\n",
       " '0.00775',\n",
       " '-0.26951']"
      ]
     },
     "execution_count": 179,
     "metadata": {},
     "output_type": "execute_result"
    }
   ],
   "source": [
    "accXList[1] # zeige Liste"
   ]
  },
  {
   "cell_type": "code",
   "execution_count": 180,
   "metadata": {},
   "outputs": [
    {
     "data": {
      "text/plain": [
       "dtype('<U8')"
      ]
     },
     "execution_count": 180,
     "metadata": {},
     "output_type": "execute_result"
    }
   ],
   "source": [
    "np.array(accXList[1]).dtype"
   ]
  },
  {
   "cell_type": "code",
   "execution_count": 181,
   "metadata": {},
   "outputs": [],
   "source": [
    "# Konvertiert die Python Objekte in der Liste zu den Type Float.\n",
    "# Das Ergebnis wird in einem Dataframe geschrieben\n",
    "accList = []\n",
    "accList.append(pandas.DataFrame(np.array(accXList[0]).astype(float)).transpose())\n",
    "for x in accXList[1:]:\n",
    "    accList.append(pandas.DataFrame(np.array(x).astype(float)).transpose())"
   ]
  },
  {
   "cell_type": "code",
   "execution_count": 182,
   "metadata": {},
   "outputs": [],
   "source": [
    "accXDf = pandas.concat(accList, ignore_index=True)"
   ]
  },
  {
   "cell_type": "code",
   "execution_count": 183,
   "metadata": {},
   "outputs": [
    {
     "data": {
      "text/html": [
       "<div>\n",
       "<style scoped>\n",
       "    .dataframe tbody tr th:only-of-type {\n",
       "        vertical-align: middle;\n",
       "    }\n",
       "\n",
       "    .dataframe tbody tr th {\n",
       "        vertical-align: top;\n",
       "    }\n",
       "\n",
       "    .dataframe thead th {\n",
       "        text-align: right;\n",
       "    }\n",
       "</style>\n",
       "<table border=\"1\" class=\"dataframe\">\n",
       "  <thead>\n",
       "    <tr style=\"text-align: right;\">\n",
       "      <th></th>\n",
       "      <th>0</th>\n",
       "      <th>1</th>\n",
       "      <th>2</th>\n",
       "      <th>3</th>\n",
       "      <th>4</th>\n",
       "      <th>5</th>\n",
       "      <th>6</th>\n",
       "      <th>7</th>\n",
       "      <th>8</th>\n",
       "      <th>9</th>\n",
       "      <th>10</th>\n",
       "      <th>11</th>\n",
       "      <th>12</th>\n",
       "      <th>13</th>\n",
       "      <th>14</th>\n",
       "      <th>15</th>\n",
       "      <th>16</th>\n",
       "      <th>17</th>\n",
       "      <th>18</th>\n",
       "      <th>19</th>\n",
       "      <th>20</th>\n",
       "      <th>21</th>\n",
       "    </tr>\n",
       "  </thead>\n",
       "  <tbody>\n",
       "    <tr>\n",
       "      <th>0</th>\n",
       "      <td>0.66929</td>\n",
       "      <td>0.81137</td>\n",
       "      <td>0.75647</td>\n",
       "      <td>0.22221</td>\n",
       "      <td>-0.14389</td>\n",
       "      <td>-0.13032</td>\n",
       "      <td>-0.34931</td>\n",
       "      <td>-0.26401</td>\n",
       "      <td>-0.34900</td>\n",
       "      <td>-0.41699</td>\n",
       "      <td>-0.27218</td>\n",
       "      <td>-0.38619</td>\n",
       "      <td>-0.29352</td>\n",
       "      <td>-0.46454</td>\n",
       "      <td>-0.47877</td>\n",
       "      <td>-0.38290</td>\n",
       "      <td>-0.13767</td>\n",
       "      <td>-0.11002</td>\n",
       "      <td>0.01936</td>\n",
       "      <td>0.27609</td>\n",
       "      <td>NaN</td>\n",
       "      <td>NaN</td>\n",
       "    </tr>\n",
       "    <tr>\n",
       "      <th>1</th>\n",
       "      <td>0.22850</td>\n",
       "      <td>0.13695</td>\n",
       "      <td>0.37016</td>\n",
       "      <td>0.08172</td>\n",
       "      <td>-0.05709</td>\n",
       "      <td>0.38348</td>\n",
       "      <td>-0.27536</td>\n",
       "      <td>-0.63390</td>\n",
       "      <td>0.21317</td>\n",
       "      <td>-0.05919</td>\n",
       "      <td>-0.44563</td>\n",
       "      <td>-0.78543</td>\n",
       "      <td>-0.52098</td>\n",
       "      <td>-1.10619</td>\n",
       "      <td>-0.19531</td>\n",
       "      <td>-0.73840</td>\n",
       "      <td>-0.60594</td>\n",
       "      <td>-0.54593</td>\n",
       "      <td>0.00775</td>\n",
       "      <td>-0.26951</td>\n",
       "      <td>NaN</td>\n",
       "      <td>NaN</td>\n",
       "    </tr>\n",
       "    <tr>\n",
       "      <th>2</th>\n",
       "      <td>-2.72057</td>\n",
       "      <td>3.72297</td>\n",
       "      <td>3.37689</td>\n",
       "      <td>-1.28232</td>\n",
       "      <td>-0.90316</td>\n",
       "      <td>0.47276</td>\n",
       "      <td>0.60817</td>\n",
       "      <td>1.13021</td>\n",
       "      <td>1.93092</td>\n",
       "      <td>0.62547</td>\n",
       "      <td>-2.50279</td>\n",
       "      <td>-0.54644</td>\n",
       "      <td>0.81943</td>\n",
       "      <td>-0.67742</td>\n",
       "      <td>-0.06682</td>\n",
       "      <td>-0.23722</td>\n",
       "      <td>0.45391</td>\n",
       "      <td>1.20600</td>\n",
       "      <td>1.94558</td>\n",
       "      <td>2.88967</td>\n",
       "      <td>NaN</td>\n",
       "      <td>NaN</td>\n",
       "    </tr>\n",
       "    <tr>\n",
       "      <th>3</th>\n",
       "      <td>-0.06289</td>\n",
       "      <td>0.54739</td>\n",
       "      <td>0.62190</td>\n",
       "      <td>-1.35643</td>\n",
       "      <td>-0.54872</td>\n",
       "      <td>0.28130</td>\n",
       "      <td>0.57759</td>\n",
       "      <td>0.60009</td>\n",
       "      <td>1.49150</td>\n",
       "      <td>1.49977</td>\n",
       "      <td>0.58702</td>\n",
       "      <td>1.26652</td>\n",
       "      <td>2.20852</td>\n",
       "      <td>1.35321</td>\n",
       "      <td>1.08268</td>\n",
       "      <td>1.32594</td>\n",
       "      <td>1.07620</td>\n",
       "      <td>2.46997</td>\n",
       "      <td>2.02206</td>\n",
       "      <td>1.61777</td>\n",
       "      <td>1.86127</td>\n",
       "      <td>NaN</td>\n",
       "    </tr>\n",
       "    <tr>\n",
       "      <th>4</th>\n",
       "      <td>-0.57520</td>\n",
       "      <td>-1.41006</td>\n",
       "      <td>-1.31180</td>\n",
       "      <td>-0.58965</td>\n",
       "      <td>-1.32969</td>\n",
       "      <td>0.65253</td>\n",
       "      <td>1.15038</td>\n",
       "      <td>-0.27477</td>\n",
       "      <td>-0.61810</td>\n",
       "      <td>0.01130</td>\n",
       "      <td>0.11642</td>\n",
       "      <td>0.23115</td>\n",
       "      <td>1.02780</td>\n",
       "      <td>0.96025</td>\n",
       "      <td>0.44654</td>\n",
       "      <td>0.70976</td>\n",
       "      <td>-0.67322</td>\n",
       "      <td>-1.87156</td>\n",
       "      <td>-1.45116</td>\n",
       "      <td>0.73922</td>\n",
       "      <td>NaN</td>\n",
       "      <td>NaN</td>\n",
       "    </tr>\n",
       "  </tbody>\n",
       "</table>\n",
       "</div>"
      ],
      "text/plain": [
       "        0        1        2        3        4        5        6        7   \\\n",
       "0  0.66929  0.81137  0.75647  0.22221 -0.14389 -0.13032 -0.34931 -0.26401   \n",
       "1  0.22850  0.13695  0.37016  0.08172 -0.05709  0.38348 -0.27536 -0.63390   \n",
       "2 -2.72057  3.72297  3.37689 -1.28232 -0.90316  0.47276  0.60817  1.13021   \n",
       "3 -0.06289  0.54739  0.62190 -1.35643 -0.54872  0.28130  0.57759  0.60009   \n",
       "4 -0.57520 -1.41006 -1.31180 -0.58965 -1.32969  0.65253  1.15038 -0.27477   \n",
       "\n",
       "        8        9        10       11       12       13       14       15  \\\n",
       "0 -0.34900 -0.41699 -0.27218 -0.38619 -0.29352 -0.46454 -0.47877 -0.38290   \n",
       "1  0.21317 -0.05919 -0.44563 -0.78543 -0.52098 -1.10619 -0.19531 -0.73840   \n",
       "2  1.93092  0.62547 -2.50279 -0.54644  0.81943 -0.67742 -0.06682 -0.23722   \n",
       "3  1.49150  1.49977  0.58702  1.26652  2.20852  1.35321  1.08268  1.32594   \n",
       "4 -0.61810  0.01130  0.11642  0.23115  1.02780  0.96025  0.44654  0.70976   \n",
       "\n",
       "        16       17       18       19       20  21  \n",
       "0 -0.13767 -0.11002  0.01936  0.27609      NaN NaN  \n",
       "1 -0.60594 -0.54593  0.00775 -0.26951      NaN NaN  \n",
       "2  0.45391  1.20600  1.94558  2.88967      NaN NaN  \n",
       "3  1.07620  2.46997  2.02206  1.61777  1.86127 NaN  \n",
       "4 -0.67322 -1.87156 -1.45116  0.73922      NaN NaN  "
      ]
     },
     "execution_count": 183,
     "metadata": {},
     "output_type": "execute_result"
    }
   ],
   "source": [
    "accXDf.head()"
   ]
  },
  {
   "cell_type": "code",
   "execution_count": 184,
   "metadata": {},
   "outputs": [
    {
     "name": "stdout",
     "output_type": "stream",
     "text": [
      "        0        1        2        3        4        5        6        7   \\\n",
      "0  0.66929  0.81137  0.75647  0.22221 -0.14389 -0.13032 -0.34931 -0.26401   \n",
      "1  0.22850  0.13695  0.37016  0.08172 -0.05709  0.38348 -0.27536 -0.63390   \n",
      "\n",
      "        8        9        10       11       12       13       14      15  \\\n",
      "0 -0.34900 -0.41699 -0.27218 -0.38619 -0.29352 -0.46454 -0.47877 -0.3829   \n",
      "1  0.21317 -0.05919 -0.44563 -0.78543 -0.52098 -1.10619 -0.19531 -0.7384   \n",
      "\n",
      "        16       17       18       19  20  21  \n",
      "0 -0.13767 -0.11002  0.01936  0.27609 NaN NaN  \n",
      "1 -0.60594 -0.54593  0.00775 -0.26951 NaN NaN  \n"
     ]
    },
    {
     "data": {
      "text/plain": [
       "0   -0.071226\n",
       "1   -0.240857\n",
       "dtype: float64"
      ]
     },
     "execution_count": 184,
     "metadata": {},
     "output_type": "execute_result"
    }
   ],
   "source": [
    "# Um mehr Spalten eines Panda DataFrames auszugeben\n",
    "pandas.set_option('display.max_columns', 40)\n",
    "print(accXDf.head(2))\n",
    "accXDf.T.mean().head(2)"
   ]
  },
  {
   "cell_type": "code",
   "execution_count": 185,
   "metadata": {},
   "outputs": [
    {
     "data": {
      "text/plain": [
       "(14845, 22)"
      ]
     },
     "execution_count": 185,
     "metadata": {},
     "output_type": "execute_result"
    }
   ],
   "source": [
    "accXDf.shape"
   ]
  },
  {
   "cell_type": "code",
   "execution_count": 186,
   "metadata": {},
   "outputs": [
    {
     "data": {
      "text/plain": [
       "1472     22\n",
       "7171     22\n",
       "7820     22\n",
       "9598     22\n",
       "12467    22\n",
       "14556    22\n",
       "Name: Messwerte, dtype: int64"
      ]
     },
     "execution_count": 186,
     "metadata": {},
     "output_type": "execute_result"
    }
   ],
   "source": [
    "# Die Anzahl der Messerte muss immer gleich sein, ansonsten werden fehlende Messwerte\n",
    "# mit NaN gefüllt.\n",
    "featuresDf.Messwerte[featuresDf.Messwerte == 22]"
   ]
  },
  {
   "cell_type": "code",
   "execution_count": 187,
   "metadata": {},
   "outputs": [
    {
     "data": {
      "text/html": [
       "<div>\n",
       "<style scoped>\n",
       "    .dataframe tbody tr th:only-of-type {\n",
       "        vertical-align: middle;\n",
       "    }\n",
       "\n",
       "    .dataframe tbody tr th {\n",
       "        vertical-align: top;\n",
       "    }\n",
       "\n",
       "    .dataframe thead th {\n",
       "        text-align: right;\n",
       "    }\n",
       "</style>\n",
       "<table border=\"1\" class=\"dataframe\">\n",
       "  <thead>\n",
       "    <tr style=\"text-align: right;\">\n",
       "      <th></th>\n",
       "      <th>Zeitstempel</th>\n",
       "      <th>Breitengrad</th>\n",
       "      <th>Laengengrad</th>\n",
       "      <th>Geschwindigkeit</th>\n",
       "      <th>AccelerometerX</th>\n",
       "      <th>AccelerometerY</th>\n",
       "      <th>AccelerometerZ</th>\n",
       "      <th>Azimuth</th>\n",
       "      <th>Nick</th>\n",
       "      <th>Roll</th>\n",
       "      <th>SensorZeitstempel</th>\n",
       "      <th>Messwerte</th>\n",
       "      <th>StartZeitfenster</th>\n",
       "      <th>StartBewegungsdaten</th>\n",
       "      <th>StartBelichtung</th>\n",
       "      <th>Belichtungszeit</th>\n",
       "    </tr>\n",
       "  </thead>\n",
       "  <tbody>\n",
       "  </tbody>\n",
       "</table>\n",
       "</div>"
      ],
      "text/plain": [
       "Empty DataFrame\n",
       "Columns: [Zeitstempel, Breitengrad, Laengengrad, Geschwindigkeit, AccelerometerX, AccelerometerY, AccelerometerZ, Azimuth, Nick, Roll, SensorZeitstempel, Messwerte, StartZeitfenster, StartBewegungsdaten, StartBelichtung, Belichtungszeit]\n",
       "Index: []"
      ]
     },
     "execution_count": 187,
     "metadata": {},
     "output_type": "execute_result"
    }
   ],
   "source": [
    "# ausführen wenn alle Daten die gleiche Ahnzahl an Messwerten haben sollen. \n",
    "# Dadurch werden Reihen gelöscht!\n",
    "unwantedRows = featuresDf.Messwerte[featuresDf.Messwerte != 20]\n",
    "featuresDf.drop(featuresDf.index, axis=0)"
   ]
  },
  {
   "cell_type": "code",
   "execution_count": 188,
   "metadata": {},
   "outputs": [],
   "source": [
    "accYList = featuresDf.AccelerometerY.str.split(\" \").tolist()\n",
    "accList = []\n",
    "accList.append(pandas.DataFrame(np.array(accYList[0]).astype(float)).transpose())\n",
    "for x in accYList[1:]:\n",
    "    accList.append(pandas.DataFrame(np.array(x).astype(float)).transpose())\n",
    "accYDf = pandas.concat(accList, ignore_index=True)"
   ]
  },
  {
   "cell_type": "code",
   "execution_count": 189,
   "metadata": {},
   "outputs": [
    {
     "name": "stdout",
     "output_type": "stream",
     "text": [
      "<class 'pandas.core.frame.DataFrame'>\n",
      "RangeIndex: 14845 entries, 0 to 14844\n",
      "Data columns (total 22 columns):\n",
      "0     14845 non-null float64\n",
      "1     14845 non-null float64\n",
      "2     14845 non-null float64\n",
      "3     14845 non-null float64\n",
      "4     14845 non-null float64\n",
      "5     14845 non-null float64\n",
      "6     14844 non-null float64\n",
      "7     14844 non-null float64\n",
      "8     14844 non-null float64\n",
      "9     14843 non-null float64\n",
      "10    14843 non-null float64\n",
      "11    14843 non-null float64\n",
      "12    14843 non-null float64\n",
      "13    14842 non-null float64\n",
      "14    14842 non-null float64\n",
      "15    14842 non-null float64\n",
      "16    14841 non-null float64\n",
      "17    14836 non-null float64\n",
      "18    14642 non-null float64\n",
      "19    6605 non-null float64\n",
      "20    134 non-null float64\n",
      "21    6 non-null float64\n",
      "dtypes: float64(22)\n",
      "memory usage: 2.5 MB\n"
     ]
    }
   ],
   "source": [
    "accYDf.info()"
   ]
  },
  {
   "cell_type": "code",
   "execution_count": 190,
   "metadata": {},
   "outputs": [
    {
     "data": {
      "text/html": [
       "<div>\n",
       "<style scoped>\n",
       "    .dataframe tbody tr th:only-of-type {\n",
       "        vertical-align: middle;\n",
       "    }\n",
       "\n",
       "    .dataframe tbody tr th {\n",
       "        vertical-align: top;\n",
       "    }\n",
       "\n",
       "    .dataframe thead th {\n",
       "        text-align: right;\n",
       "    }\n",
       "</style>\n",
       "<table border=\"1\" class=\"dataframe\">\n",
       "  <thead>\n",
       "    <tr style=\"text-align: right;\">\n",
       "      <th></th>\n",
       "      <th>0</th>\n",
       "      <th>1</th>\n",
       "      <th>2</th>\n",
       "      <th>3</th>\n",
       "      <th>4</th>\n",
       "      <th>5</th>\n",
       "      <th>6</th>\n",
       "      <th>7</th>\n",
       "      <th>8</th>\n",
       "      <th>9</th>\n",
       "      <th>10</th>\n",
       "      <th>11</th>\n",
       "      <th>12</th>\n",
       "      <th>13</th>\n",
       "      <th>14</th>\n",
       "      <th>15</th>\n",
       "      <th>16</th>\n",
       "      <th>17</th>\n",
       "      <th>18</th>\n",
       "      <th>19</th>\n",
       "      <th>20</th>\n",
       "      <th>21</th>\n",
       "    </tr>\n",
       "  </thead>\n",
       "  <tbody>\n",
       "    <tr>\n",
       "      <th>0</th>\n",
       "      <td>0.58300</td>\n",
       "      <td>0.48170</td>\n",
       "      <td>0.38533</td>\n",
       "      <td>-1.20873</td>\n",
       "      <td>-0.46135</td>\n",
       "      <td>-0.75219</td>\n",
       "      <td>-0.57112</td>\n",
       "      <td>0.38583</td>\n",
       "      <td>0.09411</td>\n",
       "      <td>0.19785</td>\n",
       "      <td>0.35745</td>\n",
       "      <td>0.10205</td>\n",
       "      <td>-0.28613</td>\n",
       "      <td>-0.33618</td>\n",
       "      <td>-0.34560</td>\n",
       "      <td>-0.04666</td>\n",
       "      <td>-0.77285</td>\n",
       "      <td>-0.71025</td>\n",
       "      <td>-0.27709</td>\n",
       "      <td>0.65171</td>\n",
       "      <td>NaN</td>\n",
       "      <td>NaN</td>\n",
       "    </tr>\n",
       "    <tr>\n",
       "      <th>1</th>\n",
       "      <td>0.28650</td>\n",
       "      <td>-0.61359</td>\n",
       "      <td>-0.29171</td>\n",
       "      <td>0.80856</td>\n",
       "      <td>0.43231</td>\n",
       "      <td>0.85147</td>\n",
       "      <td>-0.02369</td>\n",
       "      <td>-0.04963</td>\n",
       "      <td>0.45060</td>\n",
       "      <td>0.63627</td>\n",
       "      <td>-0.67088</td>\n",
       "      <td>-0.50608</td>\n",
       "      <td>-0.20570</td>\n",
       "      <td>0.15719</td>\n",
       "      <td>1.13704</td>\n",
       "      <td>0.89429</td>\n",
       "      <td>-0.09672</td>\n",
       "      <td>0.36697</td>\n",
       "      <td>0.69194</td>\n",
       "      <td>-0.04407</td>\n",
       "      <td>NaN</td>\n",
       "      <td>NaN</td>\n",
       "    </tr>\n",
       "    <tr>\n",
       "      <th>2</th>\n",
       "      <td>-0.48539</td>\n",
       "      <td>-4.54084</td>\n",
       "      <td>-5.10369</td>\n",
       "      <td>-3.63862</td>\n",
       "      <td>-0.93426</td>\n",
       "      <td>0.06467</td>\n",
       "      <td>1.72190</td>\n",
       "      <td>4.53401</td>\n",
       "      <td>3.90300</td>\n",
       "      <td>2.21832</td>\n",
       "      <td>-1.88754</td>\n",
       "      <td>-0.39149</td>\n",
       "      <td>0.49890</td>\n",
       "      <td>-0.82675</td>\n",
       "      <td>-0.69207</td>\n",
       "      <td>-0.01738</td>\n",
       "      <td>0.66028</td>\n",
       "      <td>0.34432</td>\n",
       "      <td>0.06090</td>\n",
       "      <td>-0.57954</td>\n",
       "      <td>NaN</td>\n",
       "      <td>NaN</td>\n",
       "    </tr>\n",
       "    <tr>\n",
       "      <th>3</th>\n",
       "      <td>0.26624</td>\n",
       "      <td>-1.24271</td>\n",
       "      <td>-2.05148</td>\n",
       "      <td>-3.17350</td>\n",
       "      <td>-2.00252</td>\n",
       "      <td>-0.17702</td>\n",
       "      <td>0.70112</td>\n",
       "      <td>1.87864</td>\n",
       "      <td>1.05851</td>\n",
       "      <td>1.12260</td>\n",
       "      <td>-0.55762</td>\n",
       "      <td>-0.66064</td>\n",
       "      <td>1.32553</td>\n",
       "      <td>1.22895</td>\n",
       "      <td>-0.07416</td>\n",
       "      <td>-0.02870</td>\n",
       "      <td>2.09158</td>\n",
       "      <td>7.03625</td>\n",
       "      <td>8.37177</td>\n",
       "      <td>4.75138</td>\n",
       "      <td>-1.77646</td>\n",
       "      <td>NaN</td>\n",
       "    </tr>\n",
       "    <tr>\n",
       "      <th>4</th>\n",
       "      <td>-0.74329</td>\n",
       "      <td>-4.71651</td>\n",
       "      <td>-2.70064</td>\n",
       "      <td>3.55490</td>\n",
       "      <td>2.53744</td>\n",
       "      <td>-2.88872</td>\n",
       "      <td>-2.51021</td>\n",
       "      <td>-2.20739</td>\n",
       "      <td>-3.19096</td>\n",
       "      <td>-1.89392</td>\n",
       "      <td>1.50345</td>\n",
       "      <td>0.94225</td>\n",
       "      <td>1.64249</td>\n",
       "      <td>1.26800</td>\n",
       "      <td>0.79985</td>\n",
       "      <td>-0.72388</td>\n",
       "      <td>-1.46786</td>\n",
       "      <td>-2.07837</td>\n",
       "      <td>-1.67804</td>\n",
       "      <td>2.68746</td>\n",
       "      <td>NaN</td>\n",
       "      <td>NaN</td>\n",
       "    </tr>\n",
       "  </tbody>\n",
       "</table>\n",
       "</div>"
      ],
      "text/plain": [
       "        0        1        2        3        4        5        6        7   \\\n",
       "0  0.58300  0.48170  0.38533 -1.20873 -0.46135 -0.75219 -0.57112  0.38583   \n",
       "1  0.28650 -0.61359 -0.29171  0.80856  0.43231  0.85147 -0.02369 -0.04963   \n",
       "2 -0.48539 -4.54084 -5.10369 -3.63862 -0.93426  0.06467  1.72190  4.53401   \n",
       "3  0.26624 -1.24271 -2.05148 -3.17350 -2.00252 -0.17702  0.70112  1.87864   \n",
       "4 -0.74329 -4.71651 -2.70064  3.55490  2.53744 -2.88872 -2.51021 -2.20739   \n",
       "\n",
       "        8        9        10       11       12       13       14       15  \\\n",
       "0  0.09411  0.19785  0.35745  0.10205 -0.28613 -0.33618 -0.34560 -0.04666   \n",
       "1  0.45060  0.63627 -0.67088 -0.50608 -0.20570  0.15719  1.13704  0.89429   \n",
       "2  3.90300  2.21832 -1.88754 -0.39149  0.49890 -0.82675 -0.69207 -0.01738   \n",
       "3  1.05851  1.12260 -0.55762 -0.66064  1.32553  1.22895 -0.07416 -0.02870   \n",
       "4 -3.19096 -1.89392  1.50345  0.94225  1.64249  1.26800  0.79985 -0.72388   \n",
       "\n",
       "        16       17       18       19       20  21  \n",
       "0 -0.77285 -0.71025 -0.27709  0.65171      NaN NaN  \n",
       "1 -0.09672  0.36697  0.69194 -0.04407      NaN NaN  \n",
       "2  0.66028  0.34432  0.06090 -0.57954      NaN NaN  \n",
       "3  2.09158  7.03625  8.37177  4.75138 -1.77646 NaN  \n",
       "4 -1.46786 -2.07837 -1.67804  2.68746      NaN NaN  "
      ]
     },
     "execution_count": 190,
     "metadata": {},
     "output_type": "execute_result"
    }
   ],
   "source": [
    "accYDf.head()"
   ]
  },
  {
   "cell_type": "code",
   "execution_count": 191,
   "metadata": {},
   "outputs": [],
   "source": [
    "# Konvertiere Beschleunigungssensordaten Z-Achse zu einem DataFrame\n",
    "measuredDataList = featuresDf.AccelerometerZ.str.split(\" \").tolist()\n",
    "accList = []\n",
    "accList.append(pandas.DataFrame(np.array(measuredDataList[0]).astype(float)).transpose())\n",
    "for x in measuredDataList[1:]:\n",
    "    accList.append(pandas.DataFrame(np.array(x).astype(float)).transpose())\n",
    "accZDf = pandas.concat(accList, ignore_index=True)"
   ]
  },
  {
   "cell_type": "code",
   "execution_count": 192,
   "metadata": {},
   "outputs": [],
   "source": [
    "# Konvertiere Nick Daten zu DataFrame\n",
    "measuredDataList = featuresDf.Nick.str.split(\" \").tolist()\n",
    "pitchList = []\n",
    "pitchList.append(pandas.DataFrame(np.array(measuredDataList[0]).astype(float)).transpose())\n",
    "for x in measuredDataList[1:]:\n",
    "    pitchList.append(pandas.DataFrame(np.array(x).astype(float)).transpose())\n",
    "nickDf = pandas.concat(pitchList, ignore_index=True)"
   ]
  },
  {
   "cell_type": "code",
   "execution_count": 193,
   "metadata": {},
   "outputs": [],
   "source": [
    "# Konvertiere Roll Daten zu DataFrame\n",
    "measuredDataList = featuresDf.Roll.str.split(\" \").tolist()\n",
    "rollList = []\n",
    "rollList.append(pandas.DataFrame(np.array(measuredDataList[0]).astype(float)).transpose())\n",
    "for x in measuredDataList[1:]:\n",
    "    rollList.append(pandas.DataFrame(np.array(x).astype(float)).transpose())\n",
    "rollDf = pandas.concat(rollList, ignore_index=True)"
   ]
  },
  {
   "cell_type": "code",
   "execution_count": 194,
   "metadata": {},
   "outputs": [],
   "source": [
    "measuredDataList = featuresDf.Azimuth.str.split(\" \").tolist()\n",
    "azimuthList = []\n",
    "azimuthList.append(pandas.DataFrame(np.array(measuredDataList[0]).astype(float)).transpose())\n",
    "for x in measuredDataList[1:]:\n",
    "    azimuthList.append(pandas.DataFrame(np.array(x).astype(float)).transpose())\n",
    "azimuthDf = pandas.concat(azimuthList, ignore_index=True)"
   ]
  },
  {
   "cell_type": "code",
   "execution_count": 195,
   "metadata": {},
   "outputs": [
    {
     "data": {
      "text/plain": [
       "0   -0.071226\n",
       "1   -0.240857\n",
       "dtype: float64"
      ]
     },
     "execution_count": 195,
     "metadata": {},
     "output_type": "execute_result"
    }
   ],
   "source": [
    "accXMean = accXDf.T.mean()\n",
    "accXMean.head(2)"
   ]
  },
  {
   "cell_type": "code",
   "execution_count": 196,
   "metadata": {},
   "outputs": [],
   "source": [
    "# Neue Spalten werden erstellt und Mittelwerte zugewiesen\n",
    "featuresDf['MittelX'] = accXMean\n",
    "featuresDf['MittelY'] = accYDf.T.mean()\n",
    "featuresDf['MittelZ'] = accZDf.T.mean()\n",
    "featuresDf['MittelNick'] = nickDf.T.mean()\n",
    "featuresDf['MittelRoll'] = rollDf.T.mean()"
   ]
  },
  {
   "cell_type": "code",
   "execution_count": 197,
   "metadata": {},
   "outputs": [
    {
     "data": {
      "text/plain": [
       "0   -0.071226\n",
       "1   -0.240857\n",
       "Name: MittelX, dtype: float64"
      ]
     },
     "execution_count": 197,
     "metadata": {},
     "output_type": "execute_result"
    }
   ],
   "source": [
    "featuresDf.MittelX.head(2)"
   ]
  },
  {
   "cell_type": "code",
   "execution_count": 198,
   "metadata": {
    "scrolled": true
   },
   "outputs": [
    {
     "data": {
      "text/plain": [
       "Index(['Zeitstempel', 'Breitengrad', 'Laengengrad', 'Geschwindigkeit',\n",
       "       'AccelerometerX', 'AccelerometerY', 'AccelerometerZ', 'Azimuth', 'Nick',\n",
       "       'Roll', 'SensorZeitstempel', 'Messwerte', 'StartZeitfenster',\n",
       "       'StartBewegungsdaten', 'StartBelichtung', 'Belichtungszeit', 'MittelX',\n",
       "       'MittelY', 'MittelZ', 'MittelNick', 'MittelRoll'],\n",
       "      dtype='object')"
      ]
     },
     "execution_count": 198,
     "metadata": {},
     "output_type": "execute_result"
    }
   ],
   "source": [
    "featuresDf.columns"
   ]
  },
  {
   "cell_type": "markdown",
   "metadata": {},
   "source": [
    "Berechnet die Varianz. Dieser Funktion muss als Paramter der Mittelwert (mean) und der DataFrame mit   \n",
    "den Float Werten übergeben werden, um die Varianz zu berechnen. Als Varianz wird der Durchschnitt der quadrierten  \n",
    "Differenzen zum Mittelwert bezeichnet.   \n",
    "Prec.:    \n",
    "Postc.: Gibt die berechnete Variance als Float zurück oder 0 wenn die Anzahl der Werte <= 0  "
   ]
  },
  {
   "cell_type": "code",
   "execution_count": 199,
   "metadata": {},
   "outputs": [],
   "source": [
    "def calcVariance(meansDf, dfValues):\n",
    "    variance = []\n",
    "    for i, values in dfValues.iterrows():\n",
    "        sum = 0\n",
    "        for value in values:\n",
    "            if math.isnan(value) == False:\n",
    "                tempDifference = value-meansDf[i]\n",
    "                sum += tempDifference * tempDifference\n",
    "        variance.append(\"{0:.5f}\".format(round(sum / values.count(),5)))\n",
    "    return np.array(variance).astype(float)"
   ]
  },
  {
   "cell_type": "markdown",
   "metadata": {},
   "source": [
    "Hier wird die Standardabweichung der Varianz berechnet. Dies ist die Wurzel der Varianz.   \n",
    "Für die Berechnung wird der Absolutwert von der Varianz genommen.    \n",
    "Prec.:\n",
    "Postc.:  Standardabweichung wird zurückgegeben."
   ]
  },
  {
   "cell_type": "code",
   "execution_count": 200,
   "metadata": {},
   "outputs": [],
   "source": [
    "def calculateStandardDeviation(varianceDf):\n",
    "    deviation = []\n",
    "    for v in varianceDf:\n",
    "        temp = math.sqrt(np.abs(v))\n",
    "        deviation.append(\"{0:.5f}\".format(round(temp,5)))\n",
    "    return np.array(deviation).astype(float)"
   ]
  },
  {
   "cell_type": "markdown",
   "metadata": {},
   "source": [
    "Die Funktion berechnet die Winkeldifferenz in rad zwischen den ersten gemessenen Gierwinkel und den letzten Gierwinkel   \n",
    "innerhalb einer als Argument übergebenen DataFrames. Der zurückgegebene Radiant    \n",
    "ist immer positiv und gibt die relative änderung in rad an.      \n",
    "Prec.:   \n",
    "Postc.: Radiant berechnet   "
   ]
  },
  {
   "cell_type": "code",
   "execution_count": 201,
   "metadata": {},
   "outputs": [],
   "source": [
    "def calculateAngelChangeAzimuth(azimuthDf):\n",
    "    result = []\n",
    "    for i,values in azimuthDf.iterrows():\n",
    "        first = values[0]*(180/math.pi)\n",
    "        last = values.iloc[values.count()-1]*(180/math.pi)\n",
    "        resultTemp = np.abs(first - last)\n",
    "        if(resultTemp > 180):\n",
    "            resultTemp = 360 - resultTemp\n",
    "        result.append(\"{0:.5f}\".format(round(resultTemp * ( math.pi / 180),5)))\n",
    "    return np.array(result).astype(float)"
   ]
  },
  {
   "cell_type": "code",
   "execution_count": 202,
   "metadata": {},
   "outputs": [],
   "source": [
    "featuresDf['AzimuthAenderung'] = calculateAngelChangeAzimuth(azimuthDf)"
   ]
  },
  {
   "cell_type": "code",
   "execution_count": 203,
   "metadata": {},
   "outputs": [],
   "source": [
    "# Berechne Varianz\n",
    "featuresDf['VarianzX'] = calcVariance(featuresDf.MittelX,accXDf)\n",
    "featuresDf['VarianzY'] = calcVariance(featuresDf.MittelY,accYDf)\n",
    "featuresDf['VarianzZ'] = calcVariance(featuresDf.MittelZ,accZDf)\n",
    "featuresDf['VarianzNick'] = calcVariance(featuresDf.MittelNick,nickDf)\n",
    "featuresDf['VarianzRoll'] = calcVariance(featuresDf.MittelRoll,rollDf)"
   ]
  },
  {
   "cell_type": "code",
   "execution_count": 204,
   "metadata": {},
   "outputs": [
    {
     "data": {
      "text/plain": [
       "0    0.15801\n",
       "1    0.16816\n",
       "2    2.87086\n",
       "3    0.81137\n",
       "4    0.84476\n",
       "Name: VarianzX, dtype: float64"
      ]
     },
     "execution_count": 204,
     "metadata": {},
     "output_type": "execute_result"
    }
   ],
   "source": [
    "featuresDf.VarianzX.head()"
   ]
  },
  {
   "cell_type": "code",
   "execution_count": 205,
   "metadata": {},
   "outputs": [
    {
     "data": {
      "text/plain": [
       "array([ 0.3975 ,  0.41007,  1.69436, ...,  0.63688,  0.2118 ,  0.14629])"
      ]
     },
     "execution_count": 205,
     "metadata": {},
     "output_type": "execute_result"
    }
   ],
   "source": [
    "calculateStandardDeviation(featuresDf.VarianzX)"
   ]
  },
  {
   "cell_type": "code",
   "execution_count": 206,
   "metadata": {},
   "outputs": [],
   "source": [
    "# Berechne Standardabweichung\n",
    "featuresDf['AbweichungX'] = calculateStandardDeviation(featuresDf.VarianzX)\n",
    "featuresDf['AbweichungY'] = calculateStandardDeviation(featuresDf.VarianzY)\n",
    "featuresDf['AbweichungZ'] = calculateStandardDeviation(featuresDf.VarianzZ)\n",
    "featuresDf['AbweichungNick'] = calculateStandardDeviation(featuresDf.VarianzNick)\n",
    "featuresDf['AbweichungRoll'] = calculateStandardDeviation(featuresDf.VarianzRoll)"
   ]
  },
  {
   "cell_type": "code",
   "execution_count": 207,
   "metadata": {},
   "outputs": [
    {
     "data": {
      "text/plain": [
       "0    0.39750\n",
       "1    0.41007\n",
       "2    1.69436\n",
       "3    0.90076\n",
       "4    0.91911\n",
       "Name: AbweichungX, dtype: float64"
      ]
     },
     "execution_count": 207,
     "metadata": {},
     "output_type": "execute_result"
    }
   ],
   "source": [
    "featuresDf.AbweichungX.head()"
   ]
  },
  {
   "cell_type": "code",
   "execution_count": 208,
   "metadata": {},
   "outputs": [
    {
     "name": "stdout",
     "output_type": "stream",
     "text": [
      "<class 'pandas.core.frame.DataFrame'>\n",
      "RangeIndex: 14845 entries, 0 to 14844\n",
      "Data columns (total 22 columns):\n",
      "0     14845 non-null float64\n",
      "1     14845 non-null float64\n",
      "2     14845 non-null float64\n",
      "3     14845 non-null float64\n",
      "4     14845 non-null float64\n",
      "5     14845 non-null float64\n",
      "6     14844 non-null float64\n",
      "7     14844 non-null float64\n",
      "8     14844 non-null float64\n",
      "9     14843 non-null float64\n",
      "10    14843 non-null float64\n",
      "11    14843 non-null float64\n",
      "12    14843 non-null float64\n",
      "13    14842 non-null float64\n",
      "14    14842 non-null float64\n",
      "15    14842 non-null float64\n",
      "16    14841 non-null float64\n",
      "17    14836 non-null float64\n",
      "18    14642 non-null float64\n",
      "19    6605 non-null float64\n",
      "20    134 non-null float64\n",
      "21    6 non-null float64\n",
      "dtypes: float64(22)\n",
      "memory usage: 2.5 MB\n"
     ]
    }
   ],
   "source": [
    "accXDf.info()"
   ]
  },
  {
   "cell_type": "code",
   "execution_count": 209,
   "metadata": {},
   "outputs": [
    {
     "data": {
      "text/html": [
       "<div>\n",
       "<style scoped>\n",
       "    .dataframe tbody tr th:only-of-type {\n",
       "        vertical-align: middle;\n",
       "    }\n",
       "\n",
       "    .dataframe tbody tr th {\n",
       "        vertical-align: top;\n",
       "    }\n",
       "\n",
       "    .dataframe thead th {\n",
       "        text-align: right;\n",
       "    }\n",
       "</style>\n",
       "<table border=\"1\" class=\"dataframe\">\n",
       "  <thead>\n",
       "    <tr style=\"text-align: right;\">\n",
       "      <th></th>\n",
       "      <th>0</th>\n",
       "      <th>1</th>\n",
       "      <th>2</th>\n",
       "      <th>3</th>\n",
       "      <th>4</th>\n",
       "      <th>5</th>\n",
       "      <th>6</th>\n",
       "      <th>7</th>\n",
       "      <th>8</th>\n",
       "      <th>9</th>\n",
       "      <th>10</th>\n",
       "      <th>11</th>\n",
       "      <th>12</th>\n",
       "      <th>13</th>\n",
       "      <th>14</th>\n",
       "      <th>15</th>\n",
       "      <th>16</th>\n",
       "      <th>17</th>\n",
       "      <th>18</th>\n",
       "      <th>19</th>\n",
       "      <th>20</th>\n",
       "      <th>21</th>\n",
       "    </tr>\n",
       "  </thead>\n",
       "  <tbody>\n",
       "    <tr>\n",
       "      <th>0</th>\n",
       "      <td>0.66929</td>\n",
       "      <td>0.81137</td>\n",
       "      <td>0.75647</td>\n",
       "      <td>0.22221</td>\n",
       "      <td>-0.14389</td>\n",
       "      <td>-0.13032</td>\n",
       "      <td>-0.34931</td>\n",
       "      <td>-0.26401</td>\n",
       "      <td>-0.34900</td>\n",
       "      <td>-0.41699</td>\n",
       "      <td>-0.27218</td>\n",
       "      <td>-0.38619</td>\n",
       "      <td>-0.29352</td>\n",
       "      <td>-0.46454</td>\n",
       "      <td>-0.47877</td>\n",
       "      <td>-0.38290</td>\n",
       "      <td>-0.13767</td>\n",
       "      <td>-0.11002</td>\n",
       "      <td>0.01936</td>\n",
       "      <td>0.27609</td>\n",
       "      <td>NaN</td>\n",
       "      <td>NaN</td>\n",
       "    </tr>\n",
       "    <tr>\n",
       "      <th>1</th>\n",
       "      <td>0.22850</td>\n",
       "      <td>0.13695</td>\n",
       "      <td>0.37016</td>\n",
       "      <td>0.08172</td>\n",
       "      <td>-0.05709</td>\n",
       "      <td>0.38348</td>\n",
       "      <td>-0.27536</td>\n",
       "      <td>-0.63390</td>\n",
       "      <td>0.21317</td>\n",
       "      <td>-0.05919</td>\n",
       "      <td>-0.44563</td>\n",
       "      <td>-0.78543</td>\n",
       "      <td>-0.52098</td>\n",
       "      <td>-1.10619</td>\n",
       "      <td>-0.19531</td>\n",
       "      <td>-0.73840</td>\n",
       "      <td>-0.60594</td>\n",
       "      <td>-0.54593</td>\n",
       "      <td>0.00775</td>\n",
       "      <td>-0.26951</td>\n",
       "      <td>NaN</td>\n",
       "      <td>NaN</td>\n",
       "    </tr>\n",
       "    <tr>\n",
       "      <th>2</th>\n",
       "      <td>-2.72057</td>\n",
       "      <td>3.72297</td>\n",
       "      <td>3.37689</td>\n",
       "      <td>-1.28232</td>\n",
       "      <td>-0.90316</td>\n",
       "      <td>0.47276</td>\n",
       "      <td>0.60817</td>\n",
       "      <td>1.13021</td>\n",
       "      <td>1.93092</td>\n",
       "      <td>0.62547</td>\n",
       "      <td>-2.50279</td>\n",
       "      <td>-0.54644</td>\n",
       "      <td>0.81943</td>\n",
       "      <td>-0.67742</td>\n",
       "      <td>-0.06682</td>\n",
       "      <td>-0.23722</td>\n",
       "      <td>0.45391</td>\n",
       "      <td>1.20600</td>\n",
       "      <td>1.94558</td>\n",
       "      <td>2.88967</td>\n",
       "      <td>NaN</td>\n",
       "      <td>NaN</td>\n",
       "    </tr>\n",
       "    <tr>\n",
       "      <th>3</th>\n",
       "      <td>-0.06289</td>\n",
       "      <td>0.54739</td>\n",
       "      <td>0.62190</td>\n",
       "      <td>-1.35643</td>\n",
       "      <td>-0.54872</td>\n",
       "      <td>0.28130</td>\n",
       "      <td>0.57759</td>\n",
       "      <td>0.60009</td>\n",
       "      <td>1.49150</td>\n",
       "      <td>1.49977</td>\n",
       "      <td>0.58702</td>\n",
       "      <td>1.26652</td>\n",
       "      <td>2.20852</td>\n",
       "      <td>1.35321</td>\n",
       "      <td>1.08268</td>\n",
       "      <td>1.32594</td>\n",
       "      <td>1.07620</td>\n",
       "      <td>2.46997</td>\n",
       "      <td>2.02206</td>\n",
       "      <td>1.61777</td>\n",
       "      <td>1.86127</td>\n",
       "      <td>NaN</td>\n",
       "    </tr>\n",
       "    <tr>\n",
       "      <th>4</th>\n",
       "      <td>-0.57520</td>\n",
       "      <td>-1.41006</td>\n",
       "      <td>-1.31180</td>\n",
       "      <td>-0.58965</td>\n",
       "      <td>-1.32969</td>\n",
       "      <td>0.65253</td>\n",
       "      <td>1.15038</td>\n",
       "      <td>-0.27477</td>\n",
       "      <td>-0.61810</td>\n",
       "      <td>0.01130</td>\n",
       "      <td>0.11642</td>\n",
       "      <td>0.23115</td>\n",
       "      <td>1.02780</td>\n",
       "      <td>0.96025</td>\n",
       "      <td>0.44654</td>\n",
       "      <td>0.70976</td>\n",
       "      <td>-0.67322</td>\n",
       "      <td>-1.87156</td>\n",
       "      <td>-1.45116</td>\n",
       "      <td>0.73922</td>\n",
       "      <td>NaN</td>\n",
       "      <td>NaN</td>\n",
       "    </tr>\n",
       "  </tbody>\n",
       "</table>\n",
       "</div>"
      ],
      "text/plain": [
       "        0        1        2        3        4        5        6        7   \\\n",
       "0  0.66929  0.81137  0.75647  0.22221 -0.14389 -0.13032 -0.34931 -0.26401   \n",
       "1  0.22850  0.13695  0.37016  0.08172 -0.05709  0.38348 -0.27536 -0.63390   \n",
       "2 -2.72057  3.72297  3.37689 -1.28232 -0.90316  0.47276  0.60817  1.13021   \n",
       "3 -0.06289  0.54739  0.62190 -1.35643 -0.54872  0.28130  0.57759  0.60009   \n",
       "4 -0.57520 -1.41006 -1.31180 -0.58965 -1.32969  0.65253  1.15038 -0.27477   \n",
       "\n",
       "        8        9        10       11       12       13       14       15  \\\n",
       "0 -0.34900 -0.41699 -0.27218 -0.38619 -0.29352 -0.46454 -0.47877 -0.38290   \n",
       "1  0.21317 -0.05919 -0.44563 -0.78543 -0.52098 -1.10619 -0.19531 -0.73840   \n",
       "2  1.93092  0.62547 -2.50279 -0.54644  0.81943 -0.67742 -0.06682 -0.23722   \n",
       "3  1.49150  1.49977  0.58702  1.26652  2.20852  1.35321  1.08268  1.32594   \n",
       "4 -0.61810  0.01130  0.11642  0.23115  1.02780  0.96025  0.44654  0.70976   \n",
       "\n",
       "        16       17       18       19       20  21  \n",
       "0 -0.13767 -0.11002  0.01936  0.27609      NaN NaN  \n",
       "1 -0.60594 -0.54593  0.00775 -0.26951      NaN NaN  \n",
       "2  0.45391  1.20600  1.94558  2.88967      NaN NaN  \n",
       "3  1.07620  2.46997  2.02206  1.61777  1.86127 NaN  \n",
       "4 -0.67322 -1.87156 -1.45116  0.73922      NaN NaN  "
      ]
     },
     "execution_count": 209,
     "metadata": {},
     "output_type": "execute_result"
    }
   ],
   "source": [
    "accXDf.head()"
   ]
  },
  {
   "cell_type": "code",
   "execution_count": 210,
   "metadata": {},
   "outputs": [
    {
     "data": {
      "text/plain": [
       "0   -0.071226\n",
       "1   -0.240857\n",
       "2    0.512262\n",
       "3    0.977270\n",
       "4   -0.202993\n",
       "Name: MittelX, dtype: float64"
      ]
     },
     "execution_count": 210,
     "metadata": {},
     "output_type": "execute_result"
    }
   ],
   "source": [
    "featuresDf.MittelX.head()"
   ]
  },
  {
   "cell_type": "code",
   "execution_count": 211,
   "metadata": {},
   "outputs": [],
   "source": [
    "# Änderungen in CSV Datei schreiben\n",
    "featuresDf.set_index('Zeitstempel', inplace=True)\n",
    "featuresDf.to_csv('../merkmale.csv')"
   ]
  },
  {
   "cell_type": "code",
   "execution_count": 212,
   "metadata": {},
   "outputs": [
    {
     "data": {
      "text/plain": [
       "Index(['Zeitstempel', 'Breitengrad', 'Laengengrad', 'Geschwindigkeit',\n",
       "       'AccelerometerX', 'AccelerometerY', 'AccelerometerZ', 'Azimuth', 'Nick',\n",
       "       'Roll', 'SensorZeitstempel', 'Messwerte', 'StartZeitfenster',\n",
       "       'StartBewegungsdaten', 'StartBelichtung', 'Belichtungszeit', 'MittelX',\n",
       "       'MittelY', 'MittelZ', 'MittelNick', 'MittelRoll', 'AzimuthAenderung',\n",
       "       'VarianzX', 'VarianzY', 'VarianzZ', 'VarianzNick', 'VarianzRoll',\n",
       "       'AbweichungX', 'AbweichungY', 'AbweichungZ', 'AbweichungNick',\n",
       "       'AbweichungRoll'],\n",
       "      dtype='object')"
      ]
     },
     "execution_count": 212,
     "metadata": {},
     "output_type": "execute_result"
    }
   ],
   "source": [
    "pandas.read_csv(\"../merkmale.csv\").columns"
   ]
  },
  {
   "cell_type": "code",
   "execution_count": 213,
   "metadata": {},
   "outputs": [
    {
     "name": "stderr",
     "output_type": "stream",
     "text": [
      "testCalcVariance0 (__main__.CalcTest) ... ok\n",
      "testCalcVariance2 (__main__.CalcTest) ... ok\n",
      "testCalcVariance5 (__main__.CalcTest) ... ok\n",
      "testCalcVarianceMultidim (__main__.CalcTest) ... ok\n",
      "testCalcVarianceNegative (__main__.CalcTest) ... ok\n",
      "testCalculateAngelChangeAzimuthEqual (__main__.CalcTest) ... ok\n",
      "testCalculateAngelChangeAzimuthNegativ (__main__.CalcTest) ... ok\n",
      "testCalculateAngelChangeAzimuthOne (__main__.CalcTest) ... ok\n",
      "testCalculateAngelChangeAzimuthOne2 (__main__.CalcTest) ... ok\n",
      "testCalculateAngelChangeAzimuthSmall (__main__.CalcTest) ... ok\n",
      "testCalculateAngelChangeAzimuthValues (__main__.CalcTest) ... ok\n",
      "testCalculateStandardDeviation (__main__.CalcTest) ... ok\n",
      "testCalculateStandardDeviationZero (__main__.CalcTest) ... ok\n",
      "\n",
      "----------------------------------------------------------------------\n",
      "Ran 13 tests in 0.041s\n",
      "\n",
      "OK\n"
     ]
    },
    {
     "data": {
      "text/plain": [
       "<unittest.main.TestProgram at 0x19a2ce6c6d8>"
      ]
     },
     "execution_count": 213,
     "metadata": {},
     "output_type": "execute_result"
    }
   ],
   "source": [
    "# Unittests\n",
    "import unittest\n",
    "\n",
    "class CalcTest(unittest.TestCase):\n",
    "    \n",
    "    \n",
    "    # Testet die Funktion calcVariance mit einem DataFrame mit den Werten [2.0, 2.0]\n",
    "    # Der Mittelwert sollte 2.0 sein\n",
    "    # Das erwartete Ergebnis ist 0.0\n",
    "    def testCalcVariance2(self):\n",
    "        meanL = [2.0]\n",
    "        meanDf = pandas.DataFrame(meanL)\n",
    "        valuesA = [2.0,2.0]\n",
    "        valuesDf = pandas.DataFrame([[2.0]])\n",
    "        npt.assert_almost_equal(calcVariance(meanDf[0],valuesDf), 0.0,2)\n",
    "        \n",
    "    # Testet die Funktion calcVariance mit einem DataFrame mit den folgenden Werten:\n",
    "    # [1.24, 2.5213, 10.434, 42.45, 5.9]\n",
    "    # Der Mittelwert ist 12.508\n",
    "    # Die erwartete Varianz ist 234,247016\n",
    "    def testCalcVariance5(self):\n",
    "        meanDf = pandas.DataFrame([12.508])\n",
    "        valuesDf = pandas.DataFrame([[1.24, 2.52, 10.43, 42.45, 5.9]])\n",
    "        npt.assert_almost_equal(calcVariance(meanDf[0],valuesDf), 234.24702,5)   \n",
    "    \n",
    "    # Testet calcVariance mit 0 Datenwerten   \n",
    "    def testCalcVariance0(self):\n",
    "        meanDf = pandas.DataFrame([0.0])\n",
    "        valuesDf = pandas.DataFrame([[0.0]])\n",
    "        npt.assert_almost_equal(calcVariance(meanDf[0],valuesDf),0.0,2)  \n",
    "        \n",
    "    # Testet calcVariance mit negativen Datenwerten   \n",
    "    def testCalcVarianceNegative(self):\n",
    "        meanDf = pandas.DataFrame([-24.0])\n",
    "        valuesDf = pandas.DataFrame([[-2.0,-24.0,-5.0,7.0]])\n",
    "        npt.assert_almost_equal(calcVariance(meanDf[0],valuesDf),451.5,1) \n",
    "        \n",
    "    # Testet calcVariance mit Muultidimensionalen DataFrame   \n",
    "    def testCalcVarianceMultidim(self):\n",
    "        meanDf = pandas.DataFrame([-24.0,0.0])\n",
    "        valuesDf = pandas.DataFrame([[-2.0,-24.0,-5.0,7.0],[0.0,0.0,0.0,0.0]])\n",
    "        # Hier wird Numpy Test verwendet um das Ergebnis (zwei Arrays) zu vergleichen\n",
    "        npt.assert_array_equal(calcVariance(meanDf[0],valuesDf),np.array([ 451.5,0.0])) \n",
    "        \n",
    "    # Dieser Test testet die Funktion calculateStandardDeviation.\n",
    "    def testCalculateStandardDeviation(self):\n",
    "        varianceDf = pandas.DataFrame([451.5])\n",
    "        npt.assert_almost_equal(calculateStandardDeviation(varianceDf[0]),21.24853,5) \n",
    "        \n",
    "    # Testet die Funktion calculateStandardDeviation.\n",
    "    # Dabei hat das Argument den Wert 0.0.\n",
    "    def testCalculateStandardDeviationZero(self):\n",
    "        varianceDf = pandas.DataFrame([0.0])\n",
    "        npt.assert_almost_equal(calculateStandardDeviation(varianceDf[0]),0.0,2)\n",
    "    \n",
    "    #  Testet die Funktion calculateAngelChangeAzimuth mit zwei gleichen rad Werten\n",
    "    def testCalculateAngelChangeAzimuthEqual(self):\n",
    "        radiants = pandas.DataFrame([[1.0,1.0]])\n",
    "        npt.assert_almost_equal(calculateAngelChangeAzimuth(radiants),0.0,2)\n",
    "    \n",
    "    # Testet ob die Winkeldifferenz korrekt berechnet wurde für \n",
    "    # die Radianten -1.0 und 1.0\n",
    "    def testCalculateAngelChangeAzimuthOne(self):\n",
    "        radiants = pandas.DataFrame([[-1.0,1.0]])\n",
    "        npt.assert_almost_equal(calculateAngelChangeAzimuth(radiants),2.0,2)  \n",
    "        \n",
    "    # Testet ob die Winkeldifferenz korrekt berechnet wurde für \n",
    "    # die Radianten 1.0 und -1.0\n",
    "    def testCalculateAngelChangeAzimuthOne2(self):\n",
    "        radiants = pandas.DataFrame([[1.0,-1.0]])\n",
    "        npt.assert_almost_equal(calculateAngelChangeAzimuth(radiants),2.0,2)  \n",
    "\n",
    "    # Testet die Funktion calculateAngelChangeAzimuthValues mit mehreren Werten\n",
    "    def testCalculateAngelChangeAzimuthValues(self):\n",
    "        radiants = pandas.DataFrame([[-1.57,1.0,2.0,1.3,1.57]])\n",
    "        npt.assert_almost_equal(calculateAngelChangeAzimuth(radiants),3.14,2)\n",
    "        \n",
    "    # Testet ob die Winkeldifferenz korrekt berechnet wurde für \n",
    "    # die Radianten 0.05 und 0.06\n",
    "    def testCalculateAngelChangeAzimuthSmall(self):\n",
    "        radiants = pandas.DataFrame([[0.01,0.02]])\n",
    "        npt.assert_almost_equal(calculateAngelChangeAzimuth(radiants), 0.01,2)  \n",
    "        \n",
    "    # Testet ob die Winkeldifferenz korrekt berechnet wurde mit \n",
    "    # negative Radianten \n",
    "    def testCalculateAngelChangeAzimuthNegativ(self):\n",
    "        radiants = pandas.DataFrame([[-2.9,-2.0,-1.28]])\n",
    "        npt.assert_almost_equal(calculateAngelChangeAzimuth(radiants), 1.62,2) \n",
    "\n",
    "unittest.main(argv=[''], verbosity=2, exit=False)"
   ]
  },
  {
   "cell_type": "code",
   "execution_count": null,
   "metadata": {},
   "outputs": [],
   "source": []
  }
 ],
 "metadata": {
  "kernelspec": {
   "display_name": "Python 3",
   "language": "python",
   "name": "python3"
  },
  "language_info": {
   "codemirror_mode": {
    "name": "ipython",
    "version": 3
   },
   "file_extension": ".py",
   "mimetype": "text/x-python",
   "name": "python",
   "nbconvert_exporter": "python",
   "pygments_lexer": "ipython3",
   "version": "3.6.4"
  },
  "toc": {
   "colors": {
    "hover_highlight": "#DAA520",
    "navigate_num": "#000000",
    "navigate_text": "#333333",
    "running_highlight": "#FF0000",
    "selected_highlight": "#FFD700",
    "sidebar_border": "#EEEEEE",
    "wrapper_background": "#FFFFFF"
   },
   "moveMenuLeft": true,
   "nav_menu": {
    "height": "31px",
    "width": "252px"
   },
   "navigate_menu": true,
   "number_sections": true,
   "sideBar": true,
   "threshold": 4,
   "toc_cell": false,
   "toc_section_display": "block",
   "toc_window_display": false,
   "widenNotebook": false
  }
 },
 "nbformat": 4,
 "nbformat_minor": 2
}
