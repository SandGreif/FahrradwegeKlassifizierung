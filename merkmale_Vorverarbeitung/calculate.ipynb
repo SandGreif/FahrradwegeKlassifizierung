{
 "cells": [
  {
   "cell_type": "markdown",
   "metadata": {
    "collapsed": true
   },
   "source": [
    "## Berechnungen\n",
    "\n",
    "In diesem Notebook ist es möglich den Mittelwert, Varianz und Standardabeichung für Messwerte zu berechnen.   \n",
    "Zudem wird die Gieränderung in rad bestimmt. Die Ergebnisse können zurück in die Merkmal CSV Datei geschrieben werden."
   ]
  },
  {
   "cell_type": "code",
   "execution_count": 1,
   "metadata": {},
   "outputs": [],
   "source": [
    "import pandas\n",
    "import numpy as np\n",
    "import numpy.testing as npt\n",
    "import math\n",
    "import os"
   ]
  },
  {
   "cell_type": "code",
   "execution_count": 2,
   "metadata": {},
   "outputs": [
    {
     "data": {
      "text/html": [
       "<div>\n",
       "<style>\n",
       "    .dataframe thead tr:only-child th {\n",
       "        text-align: right;\n",
       "    }\n",
       "\n",
       "    .dataframe thead th {\n",
       "        text-align: left;\n",
       "    }\n",
       "\n",
       "    .dataframe tbody tr th {\n",
       "        vertical-align: top;\n",
       "    }\n",
       "</style>\n",
       "<table border=\"1\" class=\"dataframe\">\n",
       "  <thead>\n",
       "    <tr style=\"text-align: right;\">\n",
       "      <th></th>\n",
       "      <th>Zeitstempel</th>\n",
       "      <th>Breitengrad</th>\n",
       "      <th>Laengengrad</th>\n",
       "      <th>Geschwindigkeit</th>\n",
       "      <th>Messwerte</th>\n",
       "      <th>StartBewegungsD</th>\n",
       "      <th>StartBelichtung</th>\n",
       "      <th>Belichtungszeit</th>\n",
       "    </tr>\n",
       "  </thead>\n",
       "  <tbody>\n",
       "    <tr>\n",
       "      <th>count</th>\n",
       "      <td>1.214900e+04</td>\n",
       "      <td>12149.000000</td>\n",
       "      <td>12149.000000</td>\n",
       "      <td>12149.000000</td>\n",
       "      <td>12149.0</td>\n",
       "      <td>1.214900e+04</td>\n",
       "      <td>1.214900e+04</td>\n",
       "      <td>1.214900e+04</td>\n",
       "    </tr>\n",
       "    <tr>\n",
       "      <th>mean</th>\n",
       "      <td>1.520521e+12</td>\n",
       "      <td>53.621404</td>\n",
       "      <td>10.175575</td>\n",
       "      <td>15.419228</td>\n",
       "      <td>20.0</td>\n",
       "      <td>3.972071e+12</td>\n",
       "      <td>3.972161e+12</td>\n",
       "      <td>1.931440e+07</td>\n",
       "    </tr>\n",
       "    <tr>\n",
       "      <th>std</th>\n",
       "      <td>1.226303e+06</td>\n",
       "      <td>0.006939</td>\n",
       "      <td>0.018062</td>\n",
       "      <td>3.447197</td>\n",
       "      <td>0.0</td>\n",
       "      <td>1.226303e+12</td>\n",
       "      <td>1.226303e+12</td>\n",
       "      <td>8.842717e+06</td>\n",
       "    </tr>\n",
       "    <tr>\n",
       "      <th>min</th>\n",
       "      <td>1.520519e+12</td>\n",
       "      <td>53.610477</td>\n",
       "      <td>10.137807</td>\n",
       "      <td>5.004000</td>\n",
       "      <td>20.0</td>\n",
       "      <td>1.618455e+12</td>\n",
       "      <td>1.618559e+12</td>\n",
       "      <td>4.127597e+06</td>\n",
       "    </tr>\n",
       "    <tr>\n",
       "      <th>25%</th>\n",
       "      <td>1.520520e+12</td>\n",
       "      <td>53.614110</td>\n",
       "      <td>10.161995</td>\n",
       "      <td>13.608000</td>\n",
       "      <td>20.0</td>\n",
       "      <td>2.973751e+12</td>\n",
       "      <td>2.973839e+12</td>\n",
       "      <td>1.000184e+07</td>\n",
       "    </tr>\n",
       "    <tr>\n",
       "      <th>50%</th>\n",
       "      <td>1.520521e+12</td>\n",
       "      <td>53.621760</td>\n",
       "      <td>10.177186</td>\n",
       "      <td>15.804000</td>\n",
       "      <td>20.0</td>\n",
       "      <td>3.963729e+12</td>\n",
       "      <td>3.963809e+12</td>\n",
       "      <td>2.000368e+07</td>\n",
       "    </tr>\n",
       "    <tr>\n",
       "      <th>75%</th>\n",
       "      <td>1.520523e+12</td>\n",
       "      <td>53.627620</td>\n",
       "      <td>10.190325</td>\n",
       "      <td>17.712000</td>\n",
       "      <td>20.0</td>\n",
       "      <td>4.998830e+12</td>\n",
       "      <td>4.998939e+12</td>\n",
       "      <td>2.999632e+07</td>\n",
       "    </tr>\n",
       "    <tr>\n",
       "      <th>max</th>\n",
       "      <td>1.520523e+12</td>\n",
       "      <td>53.635113</td>\n",
       "      <td>10.203202</td>\n",
       "      <td>24.984000</td>\n",
       "      <td>20.0</td>\n",
       "      <td>5.977850e+12</td>\n",
       "      <td>5.977940e+12</td>\n",
       "      <td>2.999632e+07</td>\n",
       "    </tr>\n",
       "  </tbody>\n",
       "</table>\n",
       "</div>"
      ],
      "text/plain": [
       "        Zeitstempel   Breitengrad   Laengengrad  Geschwindigkeit  Messwerte  \\\n",
       "count  1.214900e+04  12149.000000  12149.000000     12149.000000    12149.0   \n",
       "mean   1.520521e+12     53.621404     10.175575        15.419228       20.0   \n",
       "std    1.226303e+06      0.006939      0.018062         3.447197        0.0   \n",
       "min    1.520519e+12     53.610477     10.137807         5.004000       20.0   \n",
       "25%    1.520520e+12     53.614110     10.161995        13.608000       20.0   \n",
       "50%    1.520521e+12     53.621760     10.177186        15.804000       20.0   \n",
       "75%    1.520523e+12     53.627620     10.190325        17.712000       20.0   \n",
       "max    1.520523e+12     53.635113     10.203202        24.984000       20.0   \n",
       "\n",
       "       StartBewegungsD  StartBelichtung  Belichtungszeit  \n",
       "count     1.214900e+04     1.214900e+04     1.214900e+04  \n",
       "mean      3.972071e+12     3.972161e+12     1.931440e+07  \n",
       "std       1.226303e+12     1.226303e+12     8.842717e+06  \n",
       "min       1.618455e+12     1.618559e+12     4.127597e+06  \n",
       "25%       2.973751e+12     2.973839e+12     1.000184e+07  \n",
       "50%       3.963729e+12     3.963809e+12     2.000368e+07  \n",
       "75%       4.998830e+12     4.998939e+12     2.999632e+07  \n",
       "max       5.977850e+12     5.977940e+12     2.999632e+07  "
      ]
     },
     "execution_count": 2,
     "metadata": {},
     "output_type": "execute_result"
    }
   ],
   "source": [
    "featuresDf = pandas.read_csv(\"merkmaleRoh.csv\")\n",
    "featuresDf.describe()"
   ]
  },
  {
   "cell_type": "code",
   "execution_count": 3,
   "metadata": {},
   "outputs": [
    {
     "name": "stdout",
     "output_type": "stream",
     "text": [
      "<class 'pandas.core.frame.DataFrame'>\n",
      "RangeIndex: 12149 entries, 0 to 12148\n",
      "Data columns (total 15 columns):\n",
      "Zeitstempel          12149 non-null int64\n",
      "Breitengrad          12149 non-null float64\n",
      "Laengengrad          12149 non-null float64\n",
      "Geschwindigkeit      12149 non-null float64\n",
      "AccelerometerX       12149 non-null object\n",
      "AccelerometerY       12149 non-null object\n",
      "AccelerometerZ       12149 non-null object\n",
      "Azimuth              12149 non-null object\n",
      "Nick                 12149 non-null object\n",
      "Roll                 12149 non-null object\n",
      "SensorZeitstempel    12149 non-null object\n",
      "Messwerte            12149 non-null int64\n",
      "StartBewegungsD      12149 non-null int64\n",
      "StartBelichtung      12149 non-null int64\n",
      "Belichtungszeit      12149 non-null int64\n",
      "dtypes: float64(3), int64(5), object(7)\n",
      "memory usage: 1.4+ MB\n"
     ]
    }
   ],
   "source": [
    "featuresDf.info()"
   ]
  },
  {
   "cell_type": "code",
   "execution_count": 4,
   "metadata": {},
   "outputs": [
    {
     "data": {
      "text/plain": [
       "0    1.21672 0.42177 -0.3521 -0.86394 -1.08952 0.06...\n",
       "1    0.54781 0.31568 0.06868 -0.03698 -0.382 -0.933...\n",
       "2    -0.19796 -0.23496 -0.24925 -0.29133 -0.27901 -...\n",
       "3    0.14269 0.03755 0.13732 0.33972 0.40969 0.0672...\n",
       "4    0.30531 0.52007 -0.02829 -0.0073 0.33128 0.081...\n",
       "Name: AccelerometerX, dtype: object"
      ]
     },
     "execution_count": 4,
     "metadata": {},
     "output_type": "execute_result"
    }
   ],
   "source": [
    "# Zeigt die ersten 5 Reihen Beschleunigungssensordaten der X-Achse \n",
    "featuresDf.AccelerometerX.head()"
   ]
  },
  {
   "cell_type": "markdown",
   "metadata": {},
   "source": [
    "Die folgenden Spalten des Datenframes haben als Type ein Python object.   \n",
    "AccelerometerX       non-null object   \n",
    "AccelerometerY       non-null object   \n",
    "AccelerometerZ       non-null object   \n",
    "Azimuth              non-null object   \n",
    "Nick                 non-null object   \n",
    "Roll                 non-null object   \n",
    "Implizit haben diese Spalten als Typ Strings. Aber in einem DataFrame werden Strings als    \n",
    "Python objects erkannt. Um den Datentyp auf float zu casten wird aus den Spalten zunächst ein Liste erstellt.    \n",
    "Welche dann wiederum als Numpy Array auf den Typ float konvertiert wird.   "
   ]
  },
  {
   "cell_type": "code",
   "execution_count": 5,
   "metadata": {},
   "outputs": [],
   "source": [
    "accXList = featuresDf.AccelerometerX.str.split(\" \").tolist()"
   ]
  },
  {
   "cell_type": "code",
   "execution_count": 6,
   "metadata": {},
   "outputs": [
    {
     "data": {
      "text/plain": [
       "array([ ['0.54781', '0.31568', '0.06868', '-0.03698', '-0.382', '-0.93382', '-0.62446', '0.02143', '0.81395', '1.06489', '0.57611', '0.20042', '-0.13079', '-0.42639', '-0.69353', '-0.03384', '-0.3948', '-0.11662', '0.05994', '-0.04397']], dtype=object)"
      ]
     },
     "execution_count": 6,
     "metadata": {},
     "output_type": "execute_result"
    }
   ],
   "source": [
    "# Direkt mit dem Numpy Array ist es nicht möglich die Konvertierung durchzuführen, weil die Arrays von Typ object sind.   \n",
    "pandas.DataFrame(featuresDf.AccelerometerX.str.split(\" \")).values[1]"
   ]
  },
  {
   "cell_type": "code",
   "execution_count": 7,
   "metadata": {},
   "outputs": [
    {
     "data": {
      "text/plain": [
       "['0.54781',\n",
       " '0.31568',\n",
       " '0.06868',\n",
       " '-0.03698',\n",
       " '-0.382',\n",
       " '-0.93382',\n",
       " '-0.62446',\n",
       " '0.02143',\n",
       " '0.81395',\n",
       " '1.06489',\n",
       " '0.57611',\n",
       " '0.20042',\n",
       " '-0.13079',\n",
       " '-0.42639',\n",
       " '-0.69353',\n",
       " '-0.03384',\n",
       " '-0.3948',\n",
       " '-0.11662',\n",
       " '0.05994',\n",
       " '-0.04397']"
      ]
     },
     "execution_count": 7,
     "metadata": {},
     "output_type": "execute_result"
    }
   ],
   "source": [
    "accXList[1] # zeige Liste"
   ]
  },
  {
   "cell_type": "code",
   "execution_count": 8,
   "metadata": {},
   "outputs": [
    {
     "data": {
      "text/plain": [
       "dtype('<U9')"
      ]
     },
     "execution_count": 8,
     "metadata": {},
     "output_type": "execute_result"
    }
   ],
   "source": [
    "np.array(accXList).dtype"
   ]
  },
  {
   "cell_type": "code",
   "execution_count": 9,
   "metadata": {},
   "outputs": [
    {
     "data": {
      "text/plain": [
       "dtype('float64')"
      ]
     },
     "execution_count": 9,
     "metadata": {},
     "output_type": "execute_result"
    }
   ],
   "source": [
    "np.array(accXList).astype(float).dtype "
   ]
  },
  {
   "cell_type": "code",
   "execution_count": 10,
   "metadata": {},
   "outputs": [
    {
     "data": {
      "text/html": [
       "<div>\n",
       "<style>\n",
       "    .dataframe thead tr:only-child th {\n",
       "        text-align: right;\n",
       "    }\n",
       "\n",
       "    .dataframe thead th {\n",
       "        text-align: left;\n",
       "    }\n",
       "\n",
       "    .dataframe tbody tr th {\n",
       "        vertical-align: top;\n",
       "    }\n",
       "</style>\n",
       "<table border=\"1\" class=\"dataframe\">\n",
       "  <thead>\n",
       "    <tr style=\"text-align: right;\">\n",
       "      <th></th>\n",
       "      <th>0</th>\n",
       "      <th>1</th>\n",
       "      <th>2</th>\n",
       "      <th>3</th>\n",
       "      <th>4</th>\n",
       "      <th>5</th>\n",
       "      <th>6</th>\n",
       "      <th>7</th>\n",
       "      <th>8</th>\n",
       "      <th>9</th>\n",
       "      <th>10</th>\n",
       "      <th>11</th>\n",
       "      <th>12</th>\n",
       "      <th>13</th>\n",
       "      <th>14</th>\n",
       "      <th>15</th>\n",
       "      <th>16</th>\n",
       "      <th>17</th>\n",
       "      <th>18</th>\n",
       "      <th>19</th>\n",
       "    </tr>\n",
       "  </thead>\n",
       "  <tbody>\n",
       "    <tr>\n",
       "      <th>count</th>\n",
       "      <td>12149.000000</td>\n",
       "      <td>12149.000000</td>\n",
       "      <td>12149.000000</td>\n",
       "      <td>12149.000000</td>\n",
       "      <td>12149.000000</td>\n",
       "      <td>12149.000000</td>\n",
       "      <td>12149.000000</td>\n",
       "      <td>12149.000000</td>\n",
       "      <td>12149.000000</td>\n",
       "      <td>12149.000000</td>\n",
       "      <td>12149.000000</td>\n",
       "      <td>12149.000000</td>\n",
       "      <td>12149.000000</td>\n",
       "      <td>12149.000000</td>\n",
       "      <td>12149.000000</td>\n",
       "      <td>12149.000000</td>\n",
       "      <td>12149.000000</td>\n",
       "      <td>12149.000000</td>\n",
       "      <td>12149.000000</td>\n",
       "      <td>12149.000000</td>\n",
       "    </tr>\n",
       "    <tr>\n",
       "      <th>mean</th>\n",
       "      <td>0.002799</td>\n",
       "      <td>-0.001824</td>\n",
       "      <td>0.001869</td>\n",
       "      <td>0.016475</td>\n",
       "      <td>-0.020737</td>\n",
       "      <td>-0.020520</td>\n",
       "      <td>-0.006363</td>\n",
       "      <td>0.000480</td>\n",
       "      <td>0.002782</td>\n",
       "      <td>-0.004770</td>\n",
       "      <td>0.004328</td>\n",
       "      <td>-0.002610</td>\n",
       "      <td>-0.019852</td>\n",
       "      <td>0.004108</td>\n",
       "      <td>0.013693</td>\n",
       "      <td>0.008763</td>\n",
       "      <td>0.016994</td>\n",
       "      <td>0.024725</td>\n",
       "      <td>0.007168</td>\n",
       "      <td>0.002134</td>\n",
       "    </tr>\n",
       "    <tr>\n",
       "      <th>std</th>\n",
       "      <td>1.485179</td>\n",
       "      <td>1.451201</td>\n",
       "      <td>1.517089</td>\n",
       "      <td>1.508852</td>\n",
       "      <td>1.478076</td>\n",
       "      <td>1.451643</td>\n",
       "      <td>1.503341</td>\n",
       "      <td>1.528072</td>\n",
       "      <td>1.476431</td>\n",
       "      <td>1.491179</td>\n",
       "      <td>1.459933</td>\n",
       "      <td>1.476301</td>\n",
       "      <td>1.472261</td>\n",
       "      <td>1.446254</td>\n",
       "      <td>1.467466</td>\n",
       "      <td>1.521096</td>\n",
       "      <td>1.478443</td>\n",
       "      <td>1.479666</td>\n",
       "      <td>1.473852</td>\n",
       "      <td>1.490268</td>\n",
       "    </tr>\n",
       "    <tr>\n",
       "      <th>min</th>\n",
       "      <td>-27.814470</td>\n",
       "      <td>-17.423610</td>\n",
       "      <td>-22.456230</td>\n",
       "      <td>-16.561430</td>\n",
       "      <td>-13.178690</td>\n",
       "      <td>-14.743430</td>\n",
       "      <td>-23.785810</td>\n",
       "      <td>-26.312410</td>\n",
       "      <td>-17.663580</td>\n",
       "      <td>-15.940540</td>\n",
       "      <td>-18.896190</td>\n",
       "      <td>-15.757010</td>\n",
       "      <td>-15.331830</td>\n",
       "      <td>-11.301100</td>\n",
       "      <td>-18.735680</td>\n",
       "      <td>-18.144840</td>\n",
       "      <td>-23.827620</td>\n",
       "      <td>-12.644900</td>\n",
       "      <td>-19.597510</td>\n",
       "      <td>-20.892360</td>\n",
       "    </tr>\n",
       "    <tr>\n",
       "      <th>25%</th>\n",
       "      <td>-0.693520</td>\n",
       "      <td>-0.687230</td>\n",
       "      <td>-0.695770</td>\n",
       "      <td>-0.684040</td>\n",
       "      <td>-0.705750</td>\n",
       "      <td>-0.700060</td>\n",
       "      <td>-0.710280</td>\n",
       "      <td>-0.704360</td>\n",
       "      <td>-0.678630</td>\n",
       "      <td>-0.691660</td>\n",
       "      <td>-0.686250</td>\n",
       "      <td>-0.684870</td>\n",
       "      <td>-0.692410</td>\n",
       "      <td>-0.679210</td>\n",
       "      <td>-0.673040</td>\n",
       "      <td>-0.689560</td>\n",
       "      <td>-0.678160</td>\n",
       "      <td>-0.661500</td>\n",
       "      <td>-0.686740</td>\n",
       "      <td>-0.686310</td>\n",
       "    </tr>\n",
       "    <tr>\n",
       "      <th>50%</th>\n",
       "      <td>0.004860</td>\n",
       "      <td>-0.004180</td>\n",
       "      <td>-0.014940</td>\n",
       "      <td>0.010550</td>\n",
       "      <td>-0.017250</td>\n",
       "      <td>-0.020050</td>\n",
       "      <td>-0.013970</td>\n",
       "      <td>-0.014010</td>\n",
       "      <td>0.012620</td>\n",
       "      <td>-0.000690</td>\n",
       "      <td>-0.011580</td>\n",
       "      <td>0.001360</td>\n",
       "      <td>-0.016000</td>\n",
       "      <td>0.004090</td>\n",
       "      <td>0.015440</td>\n",
       "      <td>0.013370</td>\n",
       "      <td>0.007880</td>\n",
       "      <td>0.021950</td>\n",
       "      <td>0.001880</td>\n",
       "      <td>-0.007370</td>\n",
       "    </tr>\n",
       "    <tr>\n",
       "      <th>75%</th>\n",
       "      <td>0.695770</td>\n",
       "      <td>0.693500</td>\n",
       "      <td>0.688790</td>\n",
       "      <td>0.685720</td>\n",
       "      <td>0.659670</td>\n",
       "      <td>0.675500</td>\n",
       "      <td>0.649480</td>\n",
       "      <td>0.682540</td>\n",
       "      <td>0.691080</td>\n",
       "      <td>0.693790</td>\n",
       "      <td>0.692510</td>\n",
       "      <td>0.681050</td>\n",
       "      <td>0.669910</td>\n",
       "      <td>0.682500</td>\n",
       "      <td>0.696670</td>\n",
       "      <td>0.699590</td>\n",
       "      <td>0.706270</td>\n",
       "      <td>0.696670</td>\n",
       "      <td>0.688080</td>\n",
       "      <td>0.689900</td>\n",
       "    </tr>\n",
       "    <tr>\n",
       "      <th>max</th>\n",
       "      <td>12.888070</td>\n",
       "      <td>10.658150</td>\n",
       "      <td>20.146840</td>\n",
       "      <td>24.012470</td>\n",
       "      <td>20.183910</td>\n",
       "      <td>14.129830</td>\n",
       "      <td>16.718880</td>\n",
       "      <td>19.335710</td>\n",
       "      <td>17.767010</td>\n",
       "      <td>18.466340</td>\n",
       "      <td>17.114870</td>\n",
       "      <td>15.274320</td>\n",
       "      <td>16.439510</td>\n",
       "      <td>14.612630</td>\n",
       "      <td>13.331550</td>\n",
       "      <td>16.580600</td>\n",
       "      <td>16.482290</td>\n",
       "      <td>18.135300</td>\n",
       "      <td>22.353580</td>\n",
       "      <td>13.909860</td>\n",
       "    </tr>\n",
       "  </tbody>\n",
       "</table>\n",
       "</div>"
      ],
      "text/plain": [
       "                 0             1             2             3             4   \\\n",
       "count  12149.000000  12149.000000  12149.000000  12149.000000  12149.000000   \n",
       "mean       0.002799     -0.001824      0.001869      0.016475     -0.020737   \n",
       "std        1.485179      1.451201      1.517089      1.508852      1.478076   \n",
       "min      -27.814470    -17.423610    -22.456230    -16.561430    -13.178690   \n",
       "25%       -0.693520     -0.687230     -0.695770     -0.684040     -0.705750   \n",
       "50%        0.004860     -0.004180     -0.014940      0.010550     -0.017250   \n",
       "75%        0.695770      0.693500      0.688790      0.685720      0.659670   \n",
       "max       12.888070     10.658150     20.146840     24.012470     20.183910   \n",
       "\n",
       "                 5             6             7             8             9   \\\n",
       "count  12149.000000  12149.000000  12149.000000  12149.000000  12149.000000   \n",
       "mean      -0.020520     -0.006363      0.000480      0.002782     -0.004770   \n",
       "std        1.451643      1.503341      1.528072      1.476431      1.491179   \n",
       "min      -14.743430    -23.785810    -26.312410    -17.663580    -15.940540   \n",
       "25%       -0.700060     -0.710280     -0.704360     -0.678630     -0.691660   \n",
       "50%       -0.020050     -0.013970     -0.014010      0.012620     -0.000690   \n",
       "75%        0.675500      0.649480      0.682540      0.691080      0.693790   \n",
       "max       14.129830     16.718880     19.335710     17.767010     18.466340   \n",
       "\n",
       "                 10            11            12            13            14  \\\n",
       "count  12149.000000  12149.000000  12149.000000  12149.000000  12149.000000   \n",
       "mean       0.004328     -0.002610     -0.019852      0.004108      0.013693   \n",
       "std        1.459933      1.476301      1.472261      1.446254      1.467466   \n",
       "min      -18.896190    -15.757010    -15.331830    -11.301100    -18.735680   \n",
       "25%       -0.686250     -0.684870     -0.692410     -0.679210     -0.673040   \n",
       "50%       -0.011580      0.001360     -0.016000      0.004090      0.015440   \n",
       "75%        0.692510      0.681050      0.669910      0.682500      0.696670   \n",
       "max       17.114870     15.274320     16.439510     14.612630     13.331550   \n",
       "\n",
       "                 15            16            17            18            19  \n",
       "count  12149.000000  12149.000000  12149.000000  12149.000000  12149.000000  \n",
       "mean       0.008763      0.016994      0.024725      0.007168      0.002134  \n",
       "std        1.521096      1.478443      1.479666      1.473852      1.490268  \n",
       "min      -18.144840    -23.827620    -12.644900    -19.597510    -20.892360  \n",
       "25%       -0.689560     -0.678160     -0.661500     -0.686740     -0.686310  \n",
       "50%        0.013370      0.007880      0.021950      0.001880     -0.007370  \n",
       "75%        0.699590      0.706270      0.696670      0.688080      0.689900  \n",
       "max       16.580600     16.482290     18.135300     22.353580     13.909860  "
      ]
     },
     "execution_count": 10,
     "metadata": {},
     "output_type": "execute_result"
    }
   ],
   "source": [
    "accXNp = np.array(accXList).astype(float) \n",
    "accXDf = pandas.DataFrame(accXNp)\n",
    "accXDf.describe()"
   ]
  },
  {
   "cell_type": "code",
   "execution_count": 11,
   "metadata": {},
   "outputs": [
    {
     "data": {
      "text/plain": [
       "(12149, 20)"
      ]
     },
     "execution_count": 11,
     "metadata": {},
     "output_type": "execute_result"
    }
   ],
   "source": [
    "accXDf.shape"
   ]
  },
  {
   "cell_type": "code",
   "execution_count": 12,
   "metadata": {},
   "outputs": [
    {
     "data": {
      "text/plain": [
       "Series([], Name: Messwerte, dtype: int64)"
      ]
     },
     "execution_count": 12,
     "metadata": {},
     "output_type": "execute_result"
    }
   ],
   "source": [
    "# Die Anzahl der Messerte muss immer gleich sein, ansonsten werden fehlende Messwerte\n",
    "# mit NaN gefüllt.\n",
    "featuresDf.Messwerte[featuresDf.Messwerte != 20]"
   ]
  },
  {
   "cell_type": "code",
   "execution_count": 13,
   "metadata": {},
   "outputs": [],
   "source": [
    "# Konvertierung von Object zu Float Werten in einer Zeile \n",
    "accYDf = pandas.DataFrame(np.array(featuresDf.AccelerometerY.str.split(\" \").tolist()).astype(float))"
   ]
  },
  {
   "cell_type": "code",
   "execution_count": 14,
   "metadata": {},
   "outputs": [
    {
     "name": "stdout",
     "output_type": "stream",
     "text": [
      "<class 'pandas.core.frame.DataFrame'>\n",
      "RangeIndex: 12149 entries, 0 to 12148\n",
      "Data columns (total 20 columns):\n",
      "0     12149 non-null float64\n",
      "1     12149 non-null float64\n",
      "2     12149 non-null float64\n",
      "3     12149 non-null float64\n",
      "4     12149 non-null float64\n",
      "5     12149 non-null float64\n",
      "6     12149 non-null float64\n",
      "7     12149 non-null float64\n",
      "8     12149 non-null float64\n",
      "9     12149 non-null float64\n",
      "10    12149 non-null float64\n",
      "11    12149 non-null float64\n",
      "12    12149 non-null float64\n",
      "13    12149 non-null float64\n",
      "14    12149 non-null float64\n",
      "15    12149 non-null float64\n",
      "16    12149 non-null float64\n",
      "17    12149 non-null float64\n",
      "18    12149 non-null float64\n",
      "19    12149 non-null float64\n",
      "dtypes: float64(20)\n",
      "memory usage: 1.9 MB\n"
     ]
    }
   ],
   "source": [
    "accYDf.info()"
   ]
  },
  {
   "cell_type": "code",
   "execution_count": 15,
   "metadata": {},
   "outputs": [
    {
     "data": {
      "text/html": [
       "<div>\n",
       "<style>\n",
       "    .dataframe thead tr:only-child th {\n",
       "        text-align: right;\n",
       "    }\n",
       "\n",
       "    .dataframe thead th {\n",
       "        text-align: left;\n",
       "    }\n",
       "\n",
       "    .dataframe tbody tr th {\n",
       "        vertical-align: top;\n",
       "    }\n",
       "</style>\n",
       "<table border=\"1\" class=\"dataframe\">\n",
       "  <thead>\n",
       "    <tr style=\"text-align: right;\">\n",
       "      <th></th>\n",
       "      <th>0</th>\n",
       "      <th>1</th>\n",
       "      <th>2</th>\n",
       "      <th>3</th>\n",
       "      <th>4</th>\n",
       "      <th>5</th>\n",
       "      <th>6</th>\n",
       "      <th>7</th>\n",
       "      <th>8</th>\n",
       "      <th>9</th>\n",
       "      <th>10</th>\n",
       "      <th>11</th>\n",
       "      <th>12</th>\n",
       "      <th>13</th>\n",
       "      <th>14</th>\n",
       "      <th>15</th>\n",
       "      <th>16</th>\n",
       "      <th>17</th>\n",
       "      <th>18</th>\n",
       "      <th>19</th>\n",
       "    </tr>\n",
       "  </thead>\n",
       "  <tbody>\n",
       "    <tr>\n",
       "      <th>0</th>\n",
       "      <td>1.06042</td>\n",
       "      <td>0.64921</td>\n",
       "      <td>0.53476</td>\n",
       "      <td>0.61175</td>\n",
       "      <td>0.19835</td>\n",
       "      <td>-0.36223</td>\n",
       "      <td>-0.56553</td>\n",
       "      <td>-0.74348</td>\n",
       "      <td>-0.42617</td>\n",
       "      <td>0.39463</td>\n",
       "      <td>0.49966</td>\n",
       "      <td>0.62964</td>\n",
       "      <td>0.88686</td>\n",
       "      <td>0.74020</td>\n",
       "      <td>0.37772</td>\n",
       "      <td>0.02643</td>\n",
       "      <td>-0.10137</td>\n",
       "      <td>-0.34151</td>\n",
       "      <td>-0.57960</td>\n",
       "      <td>0.10334</td>\n",
       "    </tr>\n",
       "    <tr>\n",
       "      <th>1</th>\n",
       "      <td>-0.37129</td>\n",
       "      <td>-0.86392</td>\n",
       "      <td>-0.73702</td>\n",
       "      <td>-0.77342</td>\n",
       "      <td>0.22409</td>\n",
       "      <td>4.22459</td>\n",
       "      <td>3.76281</td>\n",
       "      <td>0.43607</td>\n",
       "      <td>-0.90755</td>\n",
       "      <td>-2.02841</td>\n",
       "      <td>-1.95977</td>\n",
       "      <td>-0.55643</td>\n",
       "      <td>1.50094</td>\n",
       "      <td>2.01293</td>\n",
       "      <td>1.64107</td>\n",
       "      <td>-0.43389</td>\n",
       "      <td>-2.50756</td>\n",
       "      <td>-2.20519</td>\n",
       "      <td>-1.62616</td>\n",
       "      <td>-1.92911</td>\n",
       "    </tr>\n",
       "  </tbody>\n",
       "</table>\n",
       "</div>"
      ],
      "text/plain": [
       "        0        1        2        3        4        5        6        7   \\\n",
       "0  1.06042  0.64921  0.53476  0.61175  0.19835 -0.36223 -0.56553 -0.74348   \n",
       "1 -0.37129 -0.86392 -0.73702 -0.77342  0.22409  4.22459  3.76281  0.43607   \n",
       "\n",
       "        8        9        10       11       12       13       14       15  \\\n",
       "0 -0.42617  0.39463  0.49966  0.62964  0.88686  0.74020  0.37772  0.02643   \n",
       "1 -0.90755 -2.02841 -1.95977 -0.55643  1.50094  2.01293  1.64107 -0.43389   \n",
       "\n",
       "        16       17       18       19  \n",
       "0 -0.10137 -0.34151 -0.57960  0.10334  \n",
       "1 -2.50756 -2.20519 -1.62616 -1.92911  "
      ]
     },
     "execution_count": 15,
     "metadata": {},
     "output_type": "execute_result"
    }
   ],
   "source": [
    "accYDf.head(2)"
   ]
  },
  {
   "cell_type": "code",
   "execution_count": 16,
   "metadata": {},
   "outputs": [],
   "source": [
    "accZDf = pandas.DataFrame(np.array(featuresDf.AccelerometerZ.str.split(\" \").tolist()).astype(float))"
   ]
  },
  {
   "cell_type": "code",
   "execution_count": 17,
   "metadata": {},
   "outputs": [],
   "source": [
    "nickDf = pandas.DataFrame(np.array(featuresDf.Nick.str.split(\" \").tolist()).astype(float))"
   ]
  },
  {
   "cell_type": "code",
   "execution_count": 18,
   "metadata": {},
   "outputs": [],
   "source": [
    "rollDf = pandas.DataFrame(np.array(featuresDf.Roll.str.split(\" \").tolist()).astype(float))"
   ]
  },
  {
   "cell_type": "code",
   "execution_count": 19,
   "metadata": {},
   "outputs": [],
   "source": [
    "azimuthDf = pandas.DataFrame(np.array(featuresDf.Azimuth.str.split(\" \").tolist()).astype(float))"
   ]
  },
  {
   "cell_type": "code",
   "execution_count": 20,
   "metadata": {},
   "outputs": [
    {
     "data": {
      "text/plain": [
       "0    0.150673\n",
       "1   -0.007415\n",
       "dtype: float64"
      ]
     },
     "execution_count": 20,
     "metadata": {},
     "output_type": "execute_result"
    }
   ],
   "source": [
    "accXMean = accXDf.T.mean()\n",
    "accXMean.head(2)"
   ]
  },
  {
   "cell_type": "code",
   "execution_count": 21,
   "metadata": {},
   "outputs": [],
   "source": [
    "# Neue Spalten werden erstellt und Mittelwerte zugewiesen\n",
    "featuresDf['MittelX'] = accXMean\n",
    "featuresDf['MittelY'] = accYDf.T.mean()\n",
    "featuresDf['MittelZ'] = accZDf.T.mean()\n",
    "featuresDf['MittelNick'] = nickDf.T.mean()\n",
    "featuresDf['MittelRoll'] = rollDf.T.mean()"
   ]
  },
  {
   "cell_type": "code",
   "execution_count": 22,
   "metadata": {},
   "outputs": [
    {
     "data": {
      "text/plain": [
       "0    0.150673\n",
       "1   -0.007415\n",
       "Name: MittelX, dtype: float64"
      ]
     },
     "execution_count": 22,
     "metadata": {},
     "output_type": "execute_result"
    }
   ],
   "source": [
    "featuresDf.MittelX.head(2)"
   ]
  },
  {
   "cell_type": "code",
   "execution_count": 23,
   "metadata": {
    "scrolled": true
   },
   "outputs": [
    {
     "data": {
      "text/plain": [
       "Index(['Zeitstempel', 'Breitengrad', 'Laengengrad', 'Geschwindigkeit',\n",
       "       'AccelerometerX', 'AccelerometerY', 'AccelerometerZ', 'Azimuth', 'Nick',\n",
       "       'Roll', 'SensorZeitstempel', 'Messwerte', 'StartBewegungsD',\n",
       "       'StartBelichtung', 'Belichtungszeit', 'MittelX', 'MittelY', 'MittelZ',\n",
       "       'MittelNick', 'MittelRoll'],\n",
       "      dtype='object')"
      ]
     },
     "execution_count": 23,
     "metadata": {},
     "output_type": "execute_result"
    }
   ],
   "source": [
    "featuresDf.columns"
   ]
  },
  {
   "cell_type": "markdown",
   "metadata": {},
   "source": [
    "Berechnet die Varianz. Dieser Funktion muss als Paramter der Mittelwert (mean) und der DataFrame mit   \n",
    "den Float Werten übergeben werden, um die Varianz zu berechnen. Als Varianz wird der Durchschnitt der quadrierten  \n",
    "Differenzen zum Mittelwert bezeichnet.   \n",
    "Prec.:    \n",
    "Postc.: Gibt die berechnete Variance als Float zurück oder 0 wenn die Anzahl der Werte <= 0  "
   ]
  },
  {
   "cell_type": "code",
   "execution_count": 24,
   "metadata": {},
   "outputs": [],
   "source": [
    "def calcVariance(meansDf, dfValues):\n",
    "    variance = []\n",
    "    for i, it in dfValues.iterrows():\n",
    "        sum = 0\n",
    "        for value in it:\n",
    "            tempDifference = value-meansDf[i]\n",
    "            sum += tempDifference * tempDifference\n",
    "        variance.append(\"{0:.5f}\".format(round(sum / it.count(),5)))\n",
    "    return np.array(variance).astype(float)"
   ]
  },
  {
   "cell_type": "markdown",
   "metadata": {},
   "source": [
    "Hier wird die Standardabweichung der Varianz berechnet. Dies ist die Wurzel der Varianz.   \n",
    "Für die Berechnung wird der Absolutwert von der Varianz genommen.    \n",
    "Prec.:\n",
    "Postc.:  Standardabweichung wird zurückgegeben."
   ]
  },
  {
   "cell_type": "code",
   "execution_count": 25,
   "metadata": {},
   "outputs": [],
   "source": [
    "def calculateStandardDeviation(varianceDf):\n",
    "    deviation = []\n",
    "    for v in varianceDf:\n",
    "        temp = math.sqrt(np.abs(v))\n",
    "        deviation.append(\"{0:.5f}\".format(round(temp,5)))\n",
    "    return np.array(deviation).astype(float)"
   ]
  },
  {
   "cell_type": "markdown",
   "metadata": {},
   "source": [
    "Die Funktion berechnet die Winkeldifferenz in rad zwischen den ersten gemessenen Gierwinkel und den letzten Gierwinkel   \n",
    "innerhalb einer als Argument übergebenen DataFrames. Der zurückgegebene Radiant    \n",
    "ist immer positiv und gibt die relative änderung in rad an.      \n",
    "Prec.:   \n",
    "Postc.: Radiant berechnet   "
   ]
  },
  {
   "cell_type": "code",
   "execution_count": 26,
   "metadata": {},
   "outputs": [],
   "source": [
    "def calculateAngelChangeAzimuth(azimuthDf):\n",
    "    result = []\n",
    "    #counter = 0\n",
    "    for i,values in azimuthDf.iterrows():\n",
    "        #for rad in values:\n",
    "            #azimuthL.append(rad * (180 / math.pi))\n",
    "            #counter = counter + 1\n",
    "            #print(counter)\n",
    "        first = values[0]*(180/math.pi)\n",
    "        last = values.iloc[-1]*(180/math.pi)\n",
    "        resultTemp = np.abs(first - last)\n",
    "        if(resultTemp > 180):\n",
    "            resultTemp = 360 - resultTemp\n",
    "        result.append(\"{0:.5f}\".format(round(resultTemp * ( math.pi / 180),5)))\n",
    "        #counter = 0\n",
    "    return np.array(result).astype(float)"
   ]
  },
  {
   "cell_type": "code",
   "execution_count": 27,
   "metadata": {},
   "outputs": [],
   "source": [
    "featuresDf['AzimuthAenderung'] = calculateAngelChangeAzimuth(azimuthDf)"
   ]
  },
  {
   "cell_type": "code",
   "execution_count": 28,
   "metadata": {},
   "outputs": [],
   "source": [
    "# Berechne Varianz\n",
    "featuresDf['VarianzX'] = calcVariance(featuresDf.MittelX,accXDf)\n",
    "featuresDf['VarianzY'] = calcVariance(featuresDf.MittelY,accYDf)\n",
    "featuresDf['VarianzZ'] = calcVariance(featuresDf.MittelZ,accZDf)\n",
    "featuresDf['VarianzNick'] = calcVariance(featuresDf.MittelNick,nickDf)\n",
    "featuresDf['VarianzRoll'] = calcVariance(featuresDf.MittelRoll,rollDf)"
   ]
  },
  {
   "cell_type": "code",
   "execution_count": 29,
   "metadata": {},
   "outputs": [
    {
     "data": {
      "text/plain": [
       "0    0.40178\n",
       "1    0.24189\n",
       "2    0.04570\n",
       "3    0.08168\n",
       "4    0.12548\n",
       "Name: VarianzX, dtype: float64"
      ]
     },
     "execution_count": 29,
     "metadata": {},
     "output_type": "execute_result"
    }
   ],
   "source": [
    "featuresDf.VarianzX.head()"
   ]
  },
  {
   "cell_type": "code",
   "execution_count": 30,
   "metadata": {},
   "outputs": [],
   "source": [
    "# Berechne Standardabweichung\n",
    "featuresDf['AbweichungX'] = calculateStandardDeviation(featuresDf.VarianzX)\n",
    "featuresDf['AbweichungY'] = calculateStandardDeviation(featuresDf.VarianzY)\n",
    "featuresDf['AbweichungZ'] = calculateStandardDeviation(featuresDf.VarianzZ)\n",
    "featuresDf['AbweichungNick'] = calculateStandardDeviation(featuresDf.VarianzNick)\n",
    "featuresDf['AbweichungRoll'] = calculateStandardDeviation(featuresDf.VarianzRoll)"
   ]
  },
  {
   "cell_type": "code",
   "execution_count": 31,
   "metadata": {},
   "outputs": [
    {
     "data": {
      "text/plain": [
       "0    0.63386\n",
       "1    0.49182\n",
       "2    0.21378\n",
       "3    0.28580\n",
       "4    0.35423\n",
       "Name: AbweichungX, dtype: float64"
      ]
     },
     "execution_count": 31,
     "metadata": {},
     "output_type": "execute_result"
    }
   ],
   "source": [
    "featuresDf.AbweichungX.head()"
   ]
  },
  {
   "cell_type": "code",
   "execution_count": 32,
   "metadata": {},
   "outputs": [
    {
     "name": "stdout",
     "output_type": "stream",
     "text": [
      "<class 'pandas.core.frame.DataFrame'>\n",
      "RangeIndex: 12149 entries, 0 to 12148\n",
      "Data columns (total 20 columns):\n",
      "0     12149 non-null float64\n",
      "1     12149 non-null float64\n",
      "2     12149 non-null float64\n",
      "3     12149 non-null float64\n",
      "4     12149 non-null float64\n",
      "5     12149 non-null float64\n",
      "6     12149 non-null float64\n",
      "7     12149 non-null float64\n",
      "8     12149 non-null float64\n",
      "9     12149 non-null float64\n",
      "10    12149 non-null float64\n",
      "11    12149 non-null float64\n",
      "12    12149 non-null float64\n",
      "13    12149 non-null float64\n",
      "14    12149 non-null float64\n",
      "15    12149 non-null float64\n",
      "16    12149 non-null float64\n",
      "17    12149 non-null float64\n",
      "18    12149 non-null float64\n",
      "19    12149 non-null float64\n",
      "dtypes: float64(20)\n",
      "memory usage: 1.9 MB\n"
     ]
    }
   ],
   "source": [
    "accXDf.info()"
   ]
  },
  {
   "cell_type": "code",
   "execution_count": 33,
   "metadata": {},
   "outputs": [
    {
     "data": {
      "text/html": [
       "<div>\n",
       "<style>\n",
       "    .dataframe thead tr:only-child th {\n",
       "        text-align: right;\n",
       "    }\n",
       "\n",
       "    .dataframe thead th {\n",
       "        text-align: left;\n",
       "    }\n",
       "\n",
       "    .dataframe tbody tr th {\n",
       "        vertical-align: top;\n",
       "    }\n",
       "</style>\n",
       "<table border=\"1\" class=\"dataframe\">\n",
       "  <thead>\n",
       "    <tr style=\"text-align: right;\">\n",
       "      <th></th>\n",
       "      <th>0</th>\n",
       "      <th>1</th>\n",
       "      <th>2</th>\n",
       "      <th>3</th>\n",
       "      <th>4</th>\n",
       "      <th>5</th>\n",
       "      <th>6</th>\n",
       "      <th>7</th>\n",
       "      <th>8</th>\n",
       "      <th>9</th>\n",
       "      <th>10</th>\n",
       "      <th>11</th>\n",
       "      <th>12</th>\n",
       "      <th>13</th>\n",
       "      <th>14</th>\n",
       "      <th>15</th>\n",
       "      <th>16</th>\n",
       "      <th>17</th>\n",
       "      <th>18</th>\n",
       "      <th>19</th>\n",
       "    </tr>\n",
       "  </thead>\n",
       "  <tbody>\n",
       "    <tr>\n",
       "      <th>0</th>\n",
       "      <td>1.21672</td>\n",
       "      <td>0.42177</td>\n",
       "      <td>-0.35210</td>\n",
       "      <td>-0.86394</td>\n",
       "      <td>-1.08952</td>\n",
       "      <td>0.06309</td>\n",
       "      <td>0.84727</td>\n",
       "      <td>0.92300</td>\n",
       "      <td>0.95294</td>\n",
       "      <td>0.90027</td>\n",
       "      <td>0.22990</td>\n",
       "      <td>-0.33705</td>\n",
       "      <td>-0.33092</td>\n",
       "      <td>-0.46391</td>\n",
       "      <td>-0.55499</td>\n",
       "      <td>-0.09155</td>\n",
       "      <td>0.21790</td>\n",
       "      <td>0.28160</td>\n",
       "      <td>0.56240</td>\n",
       "      <td>0.48058</td>\n",
       "    </tr>\n",
       "    <tr>\n",
       "      <th>1</th>\n",
       "      <td>0.54781</td>\n",
       "      <td>0.31568</td>\n",
       "      <td>0.06868</td>\n",
       "      <td>-0.03698</td>\n",
       "      <td>-0.38200</td>\n",
       "      <td>-0.93382</td>\n",
       "      <td>-0.62446</td>\n",
       "      <td>0.02143</td>\n",
       "      <td>0.81395</td>\n",
       "      <td>1.06489</td>\n",
       "      <td>0.57611</td>\n",
       "      <td>0.20042</td>\n",
       "      <td>-0.13079</td>\n",
       "      <td>-0.42639</td>\n",
       "      <td>-0.69353</td>\n",
       "      <td>-0.03384</td>\n",
       "      <td>-0.39480</td>\n",
       "      <td>-0.11662</td>\n",
       "      <td>0.05994</td>\n",
       "      <td>-0.04397</td>\n",
       "    </tr>\n",
       "    <tr>\n",
       "      <th>2</th>\n",
       "      <td>-0.19796</td>\n",
       "      <td>-0.23496</td>\n",
       "      <td>-0.24925</td>\n",
       "      <td>-0.29133</td>\n",
       "      <td>-0.27901</td>\n",
       "      <td>-0.14658</td>\n",
       "      <td>-0.05596</td>\n",
       "      <td>-0.01411</td>\n",
       "      <td>-0.01127</td>\n",
       "      <td>0.05229</td>\n",
       "      <td>0.37895</td>\n",
       "      <td>0.24189</td>\n",
       "      <td>0.17820</td>\n",
       "      <td>0.15790</td>\n",
       "      <td>0.01907</td>\n",
       "      <td>-0.26054</td>\n",
       "      <td>-0.03987</td>\n",
       "      <td>0.07538</td>\n",
       "      <td>-0.35340</td>\n",
       "      <td>0.36086</td>\n",
       "    </tr>\n",
       "    <tr>\n",
       "      <th>3</th>\n",
       "      <td>0.14269</td>\n",
       "      <td>0.03755</td>\n",
       "      <td>0.13732</td>\n",
       "      <td>0.33972</td>\n",
       "      <td>0.40969</td>\n",
       "      <td>0.06728</td>\n",
       "      <td>-0.22198</td>\n",
       "      <td>-0.26951</td>\n",
       "      <td>-0.35350</td>\n",
       "      <td>0.25352</td>\n",
       "      <td>0.11089</td>\n",
       "      <td>-0.40161</td>\n",
       "      <td>-0.09143</td>\n",
       "      <td>-0.33361</td>\n",
       "      <td>-0.03703</td>\n",
       "      <td>0.33814</td>\n",
       "      <td>-0.58755</td>\n",
       "      <td>0.41869</td>\n",
       "      <td>0.25836</td>\n",
       "      <td>-0.00783</td>\n",
       "    </tr>\n",
       "    <tr>\n",
       "      <th>4</th>\n",
       "      <td>0.30531</td>\n",
       "      <td>0.52007</td>\n",
       "      <td>-0.02829</td>\n",
       "      <td>-0.00730</td>\n",
       "      <td>0.33128</td>\n",
       "      <td>0.08117</td>\n",
       "      <td>0.17221</td>\n",
       "      <td>0.13778</td>\n",
       "      <td>-0.65591</td>\n",
       "      <td>-0.26423</td>\n",
       "      <td>-0.15008</td>\n",
       "      <td>-0.48779</td>\n",
       "      <td>-0.09908</td>\n",
       "      <td>-0.64620</td>\n",
       "      <td>-0.22580</td>\n",
       "      <td>-0.48709</td>\n",
       "      <td>-0.46628</td>\n",
       "      <td>-0.77140</td>\n",
       "      <td>-0.47920</td>\n",
       "      <td>-0.26076</td>\n",
       "    </tr>\n",
       "  </tbody>\n",
       "</table>\n",
       "</div>"
      ],
      "text/plain": [
       "        0        1        2        3        4        5        6        7   \\\n",
       "0  1.21672  0.42177 -0.35210 -0.86394 -1.08952  0.06309  0.84727  0.92300   \n",
       "1  0.54781  0.31568  0.06868 -0.03698 -0.38200 -0.93382 -0.62446  0.02143   \n",
       "2 -0.19796 -0.23496 -0.24925 -0.29133 -0.27901 -0.14658 -0.05596 -0.01411   \n",
       "3  0.14269  0.03755  0.13732  0.33972  0.40969  0.06728 -0.22198 -0.26951   \n",
       "4  0.30531  0.52007 -0.02829 -0.00730  0.33128  0.08117  0.17221  0.13778   \n",
       "\n",
       "        8        9        10       11       12       13       14       15  \\\n",
       "0  0.95294  0.90027  0.22990 -0.33705 -0.33092 -0.46391 -0.55499 -0.09155   \n",
       "1  0.81395  1.06489  0.57611  0.20042 -0.13079 -0.42639 -0.69353 -0.03384   \n",
       "2 -0.01127  0.05229  0.37895  0.24189  0.17820  0.15790  0.01907 -0.26054   \n",
       "3 -0.35350  0.25352  0.11089 -0.40161 -0.09143 -0.33361 -0.03703  0.33814   \n",
       "4 -0.65591 -0.26423 -0.15008 -0.48779 -0.09908 -0.64620 -0.22580 -0.48709   \n",
       "\n",
       "        16       17       18       19  \n",
       "0  0.21790  0.28160  0.56240  0.48058  \n",
       "1 -0.39480 -0.11662  0.05994 -0.04397  \n",
       "2 -0.03987  0.07538 -0.35340  0.36086  \n",
       "3 -0.58755  0.41869  0.25836 -0.00783  \n",
       "4 -0.46628 -0.77140 -0.47920 -0.26076  "
      ]
     },
     "execution_count": 33,
     "metadata": {},
     "output_type": "execute_result"
    }
   ],
   "source": [
    "accXDf.head()"
   ]
  },
  {
   "cell_type": "code",
   "execution_count": 34,
   "metadata": {},
   "outputs": [
    {
     "data": {
      "text/plain": [
       "0    0.150673\n",
       "1   -0.007415\n",
       "2   -0.033485\n",
       "3    0.010490\n",
       "4   -0.174079\n",
       "Name: MittelX, dtype: float64"
      ]
     },
     "execution_count": 34,
     "metadata": {},
     "output_type": "execute_result"
    }
   ],
   "source": [
    "featuresDf.MittelX.head()"
   ]
  },
  {
   "cell_type": "code",
   "execution_count": 35,
   "metadata": {},
   "outputs": [],
   "source": [
    "# Änderungen in CSV Datei schreiben\n",
    "featuresDf.set_index('Zeitstempel', inplace=True)\n",
    "featuresDf.to_csv('../merkmale.csv')"
   ]
  },
  {
   "cell_type": "code",
   "execution_count": 39,
   "metadata": {},
   "outputs": [
    {
     "data": {
      "text/plain": [
       "Index(['Zeitstempel', 'Breitengrad', 'Laengengrad', 'Geschwindigkeit',\n",
       "       'AccelerometerX', 'AccelerometerY', 'AccelerometerZ', 'Azimuth', 'Nick',\n",
       "       'Roll', 'SensorZeitstempel', 'Messwerte', 'StartBewegungsD',\n",
       "       'StartBelichtung', 'Belichtungszeit', 'MittelX', 'MittelY', 'MittelZ',\n",
       "       'MittelNick', 'MittelRoll', 'AzimuthAenderung', 'VarianzX', 'VarianzY',\n",
       "       'VarianzZ', 'VarianzNick', 'VarianzRoll', 'AbweichungX', 'AbweichungY',\n",
       "       'AbweichungZ', 'AbweichungNick', 'AbweichungRoll'],\n",
       "      dtype='object')"
      ]
     },
     "execution_count": 39,
     "metadata": {},
     "output_type": "execute_result"
    }
   ],
   "source": [
    "pandas.read_csv(\"../merkmale.csv\").columns"
   ]
  },
  {
   "cell_type": "code",
   "execution_count": 38,
   "metadata": {},
   "outputs": [
    {
     "name": "stderr",
     "output_type": "stream",
     "text": [
      "testCalcVariance0 (__main__.CalcTest) ... ok\n",
      "testCalcVariance2 (__main__.CalcTest) ... ok\n",
      "testCalcVariance5 (__main__.CalcTest) ... ok\n",
      "testCalcVarianceMultidim (__main__.CalcTest) ... ok\n",
      "testCalcVarianceNegative (__main__.CalcTest) ... ok\n",
      "testCalculateAngelChangeAzimuthEqual (__main__.CalcTest) ... ok\n",
      "testCalculateAngelChangeAzimuthNegativ (__main__.CalcTest) ... ok\n",
      "testCalculateAngelChangeAzimuthOne (__main__.CalcTest) ... ok\n",
      "testCalculateAngelChangeAzimuthOne2 (__main__.CalcTest) ... ok\n",
      "testCalculateAngelChangeAzimuthSmall (__main__.CalcTest) ... ok\n",
      "testCalculateAngelChangeAzimuthValues (__main__.CalcTest) ... ok\n",
      "testCalculateStandardDeviation (__main__.CalcTest) ... ok\n",
      "testCalculateStandardDeviationZero (__main__.CalcTest) ... ok\n",
      "\n",
      "----------------------------------------------------------------------\n",
      "Ran 13 tests in 0.090s\n",
      "\n",
      "OK\n"
     ]
    },
    {
     "data": {
      "text/plain": [
       "<unittest.main.TestProgram at 0x7fb0e8b0e9e8>"
      ]
     },
     "execution_count": 38,
     "metadata": {},
     "output_type": "execute_result"
    }
   ],
   "source": [
    "# Unittests\n",
    "import unittest\n",
    "\n",
    "class CalcTest(unittest.TestCase):\n",
    "    \n",
    "    \n",
    "    # Testet die Funktion calcVariance mit einem DataFrame mit den Werten [2.0, 2.0]\n",
    "    # Der Mittelwert sollte 2.0 sein\n",
    "    # Das erwartete Ergebnis ist 0.0\n",
    "    def testCalcVariance2(self):\n",
    "        meanL = [2.0]\n",
    "        meanDf = pandas.DataFrame(meanL)\n",
    "        valuesA = [2.0,2.0]\n",
    "        valuesDf = pandas.DataFrame([[2.0]])\n",
    "        npt.assert_almost_equal(calcVariance(meanDf[0],valuesDf), 0.0,2)\n",
    "        \n",
    "    # Testet die Funktion calcVariance mit einem DataFrame mit den folgenden Werten:\n",
    "    # [1.24, 2.5213, 10.434, 42.45, 5.9]\n",
    "    # Der Mittelwert ist 12.508\n",
    "    # Die erwartete Varianz ist 234,247016\n",
    "    def testCalcVariance5(self):\n",
    "        meanDf = pandas.DataFrame([12.508])\n",
    "        valuesDf = pandas.DataFrame([[1.24, 2.52, 10.43, 42.45, 5.9]])\n",
    "        npt.assert_almost_equal(calcVariance(meanDf[0],valuesDf), 234.24702,5)   \n",
    "    \n",
    "    # Testet calcVariance mit 0 Datenwerten   \n",
    "    def testCalcVariance0(self):\n",
    "        meanDf = pandas.DataFrame([0.0])\n",
    "        valuesDf = pandas.DataFrame([[0.0]])\n",
    "        npt.assert_almost_equal(calcVariance(meanDf[0],valuesDf),0.0,2)  \n",
    "        \n",
    "    # Testet calcVariance mit negativen Datenwerten   \n",
    "    def testCalcVarianceNegative(self):\n",
    "        meanDf = pandas.DataFrame([-24.0])\n",
    "        valuesDf = pandas.DataFrame([[-2.0,-24.0,-5.0,7.0]])\n",
    "        npt.assert_almost_equal(calcVariance(meanDf[0],valuesDf),451.5,1) \n",
    "        \n",
    "    # Testet calcVariance mit Muultidimensionalen DataFrame   \n",
    "    def testCalcVarianceMultidim(self):\n",
    "        meanDf = pandas.DataFrame([-24.0,0.0])\n",
    "        valuesDf = pandas.DataFrame([[-2.0,-24.0,-5.0,7.0],[0.0,0.0,0.0,0.0]])\n",
    "        # Hier wird Numpy Test verwendet um das Ergebnis (zwei Arrays) zu vergleichen\n",
    "        npt.assert_array_equal(calcVariance(meanDf[0],valuesDf),np.array([ 451.5,0.0])) \n",
    "        \n",
    "    # Dieser Test testet die Funktion calculateStandardDeviation.\n",
    "    def testCalculateStandardDeviation(self):\n",
    "        varianceDf = pandas.DataFrame([451.5])\n",
    "        npt.assert_almost_equal(calculateStandardDeviation(varianceDf[0]),21.24853,5) \n",
    "        \n",
    "    # Testet die Funktion calculateStandardDeviation.\n",
    "    # Dabei hat das Argument den Wert 0.0.\n",
    "    def testCalculateStandardDeviationZero(self):\n",
    "        varianceDf = pandas.DataFrame([0.0])\n",
    "        npt.assert_almost_equal(calculateStandardDeviation(varianceDf[0]),0.0,2)\n",
    "    \n",
    "    #  Testet die Funktion calculateAngelChangeAzimuth mit zwei gleichen rad Werten\n",
    "    def testCalculateAngelChangeAzimuthEqual(self):\n",
    "        radiants = pandas.DataFrame([[1.0,1.0]])\n",
    "        npt.assert_almost_equal(calculateAngelChangeAzimuth(radiants),0.0,2)\n",
    "    \n",
    "    # Testet ob die Winkeldifferenz korrekt berechnet wurde für \n",
    "    # die Radianten -1.0 und 1.0\n",
    "    def testCalculateAngelChangeAzimuthOne(self):\n",
    "        radiants = pandas.DataFrame([[-1.0,1.0]])\n",
    "        npt.assert_almost_equal(calculateAngelChangeAzimuth(radiants),2.0,2)  \n",
    "        \n",
    "    # Testet ob die Winkeldifferenz korrekt berechnet wurde für \n",
    "    # die Radianten 1.0 und -1.0\n",
    "    def testCalculateAngelChangeAzimuthOne2(self):\n",
    "        radiants = pandas.DataFrame([[1.0,-1.0]])\n",
    "        npt.assert_almost_equal(calculateAngelChangeAzimuth(radiants),2.0,2)  \n",
    "\n",
    "    # Testet die Funktion calculateAngelChangeAzimuthValues mit mehreren Werten\n",
    "    def testCalculateAngelChangeAzimuthValues(self):\n",
    "        radiants = pandas.DataFrame([[-1.57,1.0,2.0,1.3,1.57]])\n",
    "        npt.assert_almost_equal(calculateAngelChangeAzimuth(radiants),3.14,2)\n",
    "        \n",
    "    # Testet ob die Winkeldifferenz korrekt berechnet wurde für \n",
    "    # die Radianten 0.05 und 0.06\n",
    "    def testCalculateAngelChangeAzimuthSmall(self):\n",
    "        radiants = pandas.DataFrame([[0.01,0.02]])\n",
    "        npt.assert_almost_equal(calculateAngelChangeAzimuth(radiants), 0.01,2)  \n",
    "        \n",
    "    # Testet ob die Winkeldifferenz korrekt berechnet wurde mit \n",
    "    # negative Radianten \n",
    "    def testCalculateAngelChangeAzimuthNegativ(self):\n",
    "        radiants = pandas.DataFrame([[-2.9,-2.0,-1.28]])\n",
    "        npt.assert_almost_equal(calculateAngelChangeAzimuth(radiants), 1.62,2) \n",
    "\n",
    "unittest.main(argv=[''], verbosity=2, exit=False)"
   ]
  }
 ],
 "metadata": {
  "kernelspec": {
   "display_name": "Python 3",
   "language": "python",
   "name": "python3"
  },
  "language_info": {
   "codemirror_mode": {
    "name": "ipython",
    "version": 3
   },
   "file_extension": ".py",
   "mimetype": "text/x-python",
   "name": "python",
   "nbconvert_exporter": "python",
   "pygments_lexer": "ipython3",
   "version": "3.6.4"
  },
  "toc": {
   "colors": {
    "hover_highlight": "#DAA520",
    "navigate_num": "#000000",
    "navigate_text": "#333333",
    "running_highlight": "#FF0000",
    "selected_highlight": "#FFD700",
    "sidebar_border": "#EEEEEE",
    "wrapper_background": "#FFFFFF"
   },
   "moveMenuLeft": true,
   "nav_menu": {
    "height": "31px",
    "width": "252px"
   },
   "navigate_menu": true,
   "number_sections": true,
   "sideBar": true,
   "threshold": 4,
   "toc_cell": false,
   "toc_section_display": "block",
   "toc_window_display": false,
   "widenNotebook": false
  }
 },
 "nbformat": 4,
 "nbformat_minor": 2
}
