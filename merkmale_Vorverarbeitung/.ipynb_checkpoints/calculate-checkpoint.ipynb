{
 "cells": [
  {
   "cell_type": "markdown",
   "metadata": {
    "collapsed": true
   },
   "source": [
    "## Berechnungen\n",
    "\n",
    "In diesem Notebook ist es möglich den Mittelwert, Varianz und Standardabeichung für Messwerte zu berechnen.   \n",
    "Zudem wird die Gieränderung in rad bestimmt. Die Ergebnisse können zurück in die Merkmal CSV Datei geschrieben werden."
   ]
  },
  {
   "cell_type": "code",
   "execution_count": 1,
   "metadata": {},
   "outputs": [],
   "source": [
    "import pandas\n",
    "import numpy as np\n",
    "import numpy.testing as npt\n",
    "import math\n",
    "import os"
   ]
  },
  {
   "cell_type": "code",
   "execution_count": 37,
   "metadata": {},
   "outputs": [],
   "source": [
    "#os.remove(\"merkmaleRoh.csv\")"
   ]
  },
  {
   "cell_type": "code",
   "execution_count": 3,
   "metadata": {},
   "outputs": [
    {
     "data": {
      "text/html": [
       "<div>\n",
       "<style>\n",
       "    .dataframe thead tr:only-child th {\n",
       "        text-align: right;\n",
       "    }\n",
       "\n",
       "    .dataframe thead th {\n",
       "        text-align: left;\n",
       "    }\n",
       "\n",
       "    .dataframe tbody tr th {\n",
       "        vertical-align: top;\n",
       "    }\n",
       "</style>\n",
       "<table border=\"1\" class=\"dataframe\">\n",
       "  <thead>\n",
       "    <tr style=\"text-align: right;\">\n",
       "      <th></th>\n",
       "      <th>Zeitstempel</th>\n",
       "      <th>Breitengrad</th>\n",
       "      <th>Laengengrad</th>\n",
       "      <th>Geschwindigkeit</th>\n",
       "      <th>Messwerte</th>\n",
       "      <th>StartBewegungsD</th>\n",
       "      <th>StartBelichtung</th>\n",
       "      <th>Belichtungszeit</th>\n",
       "    </tr>\n",
       "  </thead>\n",
       "  <tbody>\n",
       "    <tr>\n",
       "      <th>count</th>\n",
       "      <td>4.164000e+03</td>\n",
       "      <td>4164.000000</td>\n",
       "      <td>4164.000000</td>\n",
       "      <td>4164.000000</td>\n",
       "      <td>4164.0</td>\n",
       "      <td>4.164000e+03</td>\n",
       "      <td>4.164000e+03</td>\n",
       "      <td>4.164000e+03</td>\n",
       "    </tr>\n",
       "    <tr>\n",
       "      <th>mean</th>\n",
       "      <td>1.520233e+12</td>\n",
       "      <td>53.613483</td>\n",
       "      <td>10.137698</td>\n",
       "      <td>0.007556</td>\n",
       "      <td>10.0</td>\n",
       "      <td>2.264945e+14</td>\n",
       "      <td>2.264947e+14</td>\n",
       "      <td>3.279630e+07</td>\n",
       "    </tr>\n",
       "    <tr>\n",
       "      <th>std</th>\n",
       "      <td>4.067961e+05</td>\n",
       "      <td>0.000021</td>\n",
       "      <td>0.000039</td>\n",
       "      <td>0.128715</td>\n",
       "      <td>0.0</td>\n",
       "      <td>4.067913e+11</td>\n",
       "      <td>4.067962e+11</td>\n",
       "      <td>4.655649e+05</td>\n",
       "    </tr>\n",
       "    <tr>\n",
       "      <th>min</th>\n",
       "      <td>1.520233e+12</td>\n",
       "      <td>53.613420</td>\n",
       "      <td>10.137633</td>\n",
       "      <td>0.000000</td>\n",
       "      <td>10.0</td>\n",
       "      <td>2.257848e+14</td>\n",
       "      <td>2.257849e+14</td>\n",
       "      <td>2.999632e+07</td>\n",
       "    </tr>\n",
       "    <tr>\n",
       "      <th>25%</th>\n",
       "      <td>1.520233e+12</td>\n",
       "      <td>53.613472</td>\n",
       "      <td>10.137681</td>\n",
       "      <td>0.000000</td>\n",
       "      <td>10.0</td>\n",
       "      <td>2.261525e+14</td>\n",
       "      <td>2.261526e+14</td>\n",
       "      <td>3.287369e+07</td>\n",
       "    </tr>\n",
       "    <tr>\n",
       "      <th>50%</th>\n",
       "      <td>1.520233e+12</td>\n",
       "      <td>53.613490</td>\n",
       "      <td>10.137691</td>\n",
       "      <td>0.000000</td>\n",
       "      <td>10.0</td>\n",
       "      <td>2.265032e+14</td>\n",
       "      <td>2.265034e+14</td>\n",
       "      <td>3.287369e+07</td>\n",
       "    </tr>\n",
       "    <tr>\n",
       "      <th>75%</th>\n",
       "      <td>1.520234e+12</td>\n",
       "      <td>53.613500</td>\n",
       "      <td>10.137706</td>\n",
       "      <td>0.000000</td>\n",
       "      <td>10.0</td>\n",
       "      <td>2.268460e+14</td>\n",
       "      <td>2.268462e+14</td>\n",
       "      <td>3.287369e+07</td>\n",
       "    </tr>\n",
       "    <tr>\n",
       "      <th>max</th>\n",
       "      <td>1.520234e+12</td>\n",
       "      <td>53.613533</td>\n",
       "      <td>10.137800</td>\n",
       "      <td>3.420000</td>\n",
       "      <td>10.0</td>\n",
       "      <td>2.271917e+14</td>\n",
       "      <td>2.271919e+14</td>\n",
       "      <td>3.287369e+07</td>\n",
       "    </tr>\n",
       "  </tbody>\n",
       "</table>\n",
       "</div>"
      ],
      "text/plain": [
       "        Zeitstempel  Breitengrad  Laengengrad  Geschwindigkeit  Messwerte  \\\n",
       "count  4.164000e+03  4164.000000  4164.000000      4164.000000     4164.0   \n",
       "mean   1.520233e+12    53.613483    10.137698         0.007556       10.0   \n",
       "std    4.067961e+05     0.000021     0.000039         0.128715        0.0   \n",
       "min    1.520233e+12    53.613420    10.137633         0.000000       10.0   \n",
       "25%    1.520233e+12    53.613472    10.137681         0.000000       10.0   \n",
       "50%    1.520233e+12    53.613490    10.137691         0.000000       10.0   \n",
       "75%    1.520234e+12    53.613500    10.137706         0.000000       10.0   \n",
       "max    1.520234e+12    53.613533    10.137800         3.420000       10.0   \n",
       "\n",
       "       StartBewegungsD  StartBelichtung  Belichtungszeit  \n",
       "count     4.164000e+03     4.164000e+03     4.164000e+03  \n",
       "mean      2.264945e+14     2.264947e+14     3.279630e+07  \n",
       "std       4.067913e+11     4.067962e+11     4.655649e+05  \n",
       "min       2.257848e+14     2.257849e+14     2.999632e+07  \n",
       "25%       2.261525e+14     2.261526e+14     3.287369e+07  \n",
       "50%       2.265032e+14     2.265034e+14     3.287369e+07  \n",
       "75%       2.268460e+14     2.268462e+14     3.287369e+07  \n",
       "max       2.271917e+14     2.271919e+14     3.287369e+07  "
      ]
     },
     "execution_count": 3,
     "metadata": {},
     "output_type": "execute_result"
    }
   ],
   "source": [
    "featuresDf = pandas.read_csv(\"merkmaleRoh.csv\")\n",
    "featuresDf.describe()"
   ]
  },
  {
   "cell_type": "code",
   "execution_count": 4,
   "metadata": {},
   "outputs": [
    {
     "name": "stdout",
     "output_type": "stream",
     "text": [
      "<class 'pandas.core.frame.DataFrame'>\n",
      "RangeIndex: 4164 entries, 0 to 4163\n",
      "Data columns (total 15 columns):\n",
      "Zeitstempel          4164 non-null int64\n",
      "Breitengrad          4164 non-null float64\n",
      "Laengengrad          4164 non-null float64\n",
      "Geschwindigkeit      4164 non-null float64\n",
      "AccelerometerX       4164 non-null object\n",
      "AccelerometerY       4164 non-null object\n",
      "AccelerometerZ       4164 non-null object\n",
      "Azimuth              4164 non-null object\n",
      "Nick                 4164 non-null object\n",
      "Roll                 4164 non-null object\n",
      "SensorZeitstempel    4164 non-null object\n",
      "Messwerte            4164 non-null int64\n",
      "StartBewegungsD      4164 non-null int64\n",
      "StartBelichtung      4164 non-null int64\n",
      "Belichtungszeit      4164 non-null int64\n",
      "dtypes: float64(3), int64(5), object(7)\n",
      "memory usage: 488.0+ KB\n"
     ]
    }
   ],
   "source": [
    "featuresDf.info()"
   ]
  },
  {
   "cell_type": "code",
   "execution_count": 5,
   "metadata": {},
   "outputs": [
    {
     "data": {
      "text/plain": [
       "0    -0.1216 -0.21987 -0.34445 -0.4441 -0.50851 -0....\n",
       "1    -0.03939 -0.07748 -0.07731 -0.10782 -0.10157 -...\n",
       "2    0.20829 0.19727 0.17314 0.16916 0.12001 0.0347...\n",
       "3    -0.03367 -0.01161 -0.00928 0.02321 0.03389 -0....\n",
       "4    -0.00272 0.01315 0.01052 -0.02222 -0.03311 -0....\n",
       "Name: AccelerometerX, dtype: object"
      ]
     },
     "execution_count": 5,
     "metadata": {},
     "output_type": "execute_result"
    }
   ],
   "source": [
    "# Zeigt die ersten 5 Reihen Beschleunigungssensordaten der X-Achse \n",
    "featuresDf.AccelerometerX.head()"
   ]
  },
  {
   "cell_type": "markdown",
   "metadata": {},
   "source": [
    "Die folgenden Spalten des Datenframes haben als Type ein Python object.   \n",
    "AccelerometerX       non-null object   \n",
    "AccelerometerY       non-null object   \n",
    "AccelerometerZ       non-null object   \n",
    "Azimuth              non-null object   \n",
    "Nick                 non-null object   \n",
    "Roll                 non-null object   \n",
    "Implizit haben diese Spalten als Typ Strings. Aber in einem DataFrame werden Strings als    \n",
    "Python objects erkannt. Um den Datentyp auf float zu casten wird aus den Spalten zunächst ein Liste erstellt.    \n",
    "Welche dann wiederum als Numpy Array auf den Typ float konvertiert wird.   "
   ]
  },
  {
   "cell_type": "code",
   "execution_count": 6,
   "metadata": {},
   "outputs": [],
   "source": [
    "accXList = featuresDf.AccelerometerX.str.split(\" \").tolist()"
   ]
  },
  {
   "cell_type": "code",
   "execution_count": 7,
   "metadata": {},
   "outputs": [
    {
     "data": {
      "text/plain": [
       "array([ ['-0.03939', '-0.07748', '-0.07731', '-0.10782', '-0.10157', '-0.11191', '-0.07419', '-0.02871', '0.00768', '0.06744']], dtype=object)"
      ]
     },
     "execution_count": 7,
     "metadata": {},
     "output_type": "execute_result"
    }
   ],
   "source": [
    "# Direkt mit dem Numpy Array ist es nicht möglich die Konvertierung durchzuführen, weil die Arrays von Typ object sind.   \n",
    "pandas.DataFrame(featuresDf.AccelerometerX.str.split(\" \")).values[1]"
   ]
  },
  {
   "cell_type": "code",
   "execution_count": 8,
   "metadata": {},
   "outputs": [
    {
     "data": {
      "text/plain": [
       "['-0.03939',\n",
       " '-0.07748',\n",
       " '-0.07731',\n",
       " '-0.10782',\n",
       " '-0.10157',\n",
       " '-0.11191',\n",
       " '-0.07419',\n",
       " '-0.02871',\n",
       " '0.00768',\n",
       " '0.06744']"
      ]
     },
     "execution_count": 8,
     "metadata": {},
     "output_type": "execute_result"
    }
   ],
   "source": [
    "accXList[1] # zeige Liste"
   ]
  },
  {
   "cell_type": "code",
   "execution_count": 9,
   "metadata": {},
   "outputs": [
    {
     "data": {
      "text/plain": [
       "dtype('<U8')"
      ]
     },
     "execution_count": 9,
     "metadata": {},
     "output_type": "execute_result"
    }
   ],
   "source": [
    "np.array(accXList).dtype"
   ]
  },
  {
   "cell_type": "code",
   "execution_count": 10,
   "metadata": {},
   "outputs": [
    {
     "data": {
      "text/plain": [
       "dtype('float64')"
      ]
     },
     "execution_count": 10,
     "metadata": {},
     "output_type": "execute_result"
    }
   ],
   "source": [
    "np.array(accXList).astype(float).dtype "
   ]
  },
  {
   "cell_type": "code",
   "execution_count": 11,
   "metadata": {},
   "outputs": [
    {
     "data": {
      "text/html": [
       "<div>\n",
       "<style>\n",
       "    .dataframe thead tr:only-child th {\n",
       "        text-align: right;\n",
       "    }\n",
       "\n",
       "    .dataframe thead th {\n",
       "        text-align: left;\n",
       "    }\n",
       "\n",
       "    .dataframe tbody tr th {\n",
       "        vertical-align: top;\n",
       "    }\n",
       "</style>\n",
       "<table border=\"1\" class=\"dataframe\">\n",
       "  <thead>\n",
       "    <tr style=\"text-align: right;\">\n",
       "      <th></th>\n",
       "      <th>0</th>\n",
       "      <th>1</th>\n",
       "      <th>2</th>\n",
       "      <th>3</th>\n",
       "      <th>4</th>\n",
       "      <th>5</th>\n",
       "      <th>6</th>\n",
       "      <th>7</th>\n",
       "      <th>8</th>\n",
       "      <th>9</th>\n",
       "    </tr>\n",
       "  </thead>\n",
       "  <tbody>\n",
       "    <tr>\n",
       "      <th>count</th>\n",
       "      <td>4164.000000</td>\n",
       "      <td>4164.000000</td>\n",
       "      <td>4164.000000</td>\n",
       "      <td>4164.000000</td>\n",
       "      <td>4164.000000</td>\n",
       "      <td>4164.000000</td>\n",
       "      <td>4164.000000</td>\n",
       "      <td>4164.000000</td>\n",
       "      <td>4164.000000</td>\n",
       "      <td>4164.000000</td>\n",
       "    </tr>\n",
       "    <tr>\n",
       "      <th>mean</th>\n",
       "      <td>-0.000303</td>\n",
       "      <td>-0.000223</td>\n",
       "      <td>-0.000096</td>\n",
       "      <td>-0.000668</td>\n",
       "      <td>-0.000398</td>\n",
       "      <td>-0.001042</td>\n",
       "      <td>-0.000991</td>\n",
       "      <td>-0.000880</td>\n",
       "      <td>-0.000681</td>\n",
       "      <td>-0.000853</td>\n",
       "    </tr>\n",
       "    <tr>\n",
       "      <th>std</th>\n",
       "      <td>0.036829</td>\n",
       "      <td>0.036028</td>\n",
       "      <td>0.035620</td>\n",
       "      <td>0.032817</td>\n",
       "      <td>0.033255</td>\n",
       "      <td>0.032321</td>\n",
       "      <td>0.031773</td>\n",
       "      <td>0.030101</td>\n",
       "      <td>0.028765</td>\n",
       "      <td>0.026608</td>\n",
       "    </tr>\n",
       "    <tr>\n",
       "      <th>min</th>\n",
       "      <td>-1.802400</td>\n",
       "      <td>-1.824990</td>\n",
       "      <td>-1.781770</td>\n",
       "      <td>-1.532680</td>\n",
       "      <td>-1.455990</td>\n",
       "      <td>-1.379300</td>\n",
       "      <td>-1.195380</td>\n",
       "      <td>-1.002280</td>\n",
       "      <td>-0.905720</td>\n",
       "      <td>-0.939100</td>\n",
       "    </tr>\n",
       "    <tr>\n",
       "      <th>25%</th>\n",
       "      <td>-0.010345</td>\n",
       "      <td>-0.009798</td>\n",
       "      <td>-0.010140</td>\n",
       "      <td>-0.009960</td>\n",
       "      <td>-0.009842</td>\n",
       "      <td>-0.010842</td>\n",
       "      <td>-0.010390</td>\n",
       "      <td>-0.010902</td>\n",
       "      <td>-0.010105</td>\n",
       "      <td>-0.010423</td>\n",
       "    </tr>\n",
       "    <tr>\n",
       "      <th>50%</th>\n",
       "      <td>0.000340</td>\n",
       "      <td>0.000310</td>\n",
       "      <td>0.000595</td>\n",
       "      <td>-0.000045</td>\n",
       "      <td>0.000450</td>\n",
       "      <td>0.000035</td>\n",
       "      <td>-0.000100</td>\n",
       "      <td>0.000040</td>\n",
       "      <td>-0.000060</td>\n",
       "      <td>-0.000305</td>\n",
       "    </tr>\n",
       "    <tr>\n",
       "      <th>75%</th>\n",
       "      <td>0.010220</td>\n",
       "      <td>0.010065</td>\n",
       "      <td>0.010732</td>\n",
       "      <td>0.009282</td>\n",
       "      <td>0.009850</td>\n",
       "      <td>0.009853</td>\n",
       "      <td>0.009923</td>\n",
       "      <td>0.010320</td>\n",
       "      <td>0.009448</td>\n",
       "      <td>0.009822</td>\n",
       "    </tr>\n",
       "    <tr>\n",
       "      <th>max</th>\n",
       "      <td>0.699100</td>\n",
       "      <td>0.497990</td>\n",
       "      <td>0.413710</td>\n",
       "      <td>0.330970</td>\n",
       "      <td>0.586560</td>\n",
       "      <td>0.222810</td>\n",
       "      <td>0.228310</td>\n",
       "      <td>0.155470</td>\n",
       "      <td>0.379020</td>\n",
       "      <td>0.212140</td>\n",
       "    </tr>\n",
       "  </tbody>\n",
       "</table>\n",
       "</div>"
      ],
      "text/plain": [
       "                 0            1            2            3            4  \\\n",
       "count  4164.000000  4164.000000  4164.000000  4164.000000  4164.000000   \n",
       "mean     -0.000303    -0.000223    -0.000096    -0.000668    -0.000398   \n",
       "std       0.036829     0.036028     0.035620     0.032817     0.033255   \n",
       "min      -1.802400    -1.824990    -1.781770    -1.532680    -1.455990   \n",
       "25%      -0.010345    -0.009798    -0.010140    -0.009960    -0.009842   \n",
       "50%       0.000340     0.000310     0.000595    -0.000045     0.000450   \n",
       "75%       0.010220     0.010065     0.010732     0.009282     0.009850   \n",
       "max       0.699100     0.497990     0.413710     0.330970     0.586560   \n",
       "\n",
       "                 5            6            7            8            9  \n",
       "count  4164.000000  4164.000000  4164.000000  4164.000000  4164.000000  \n",
       "mean     -0.001042    -0.000991    -0.000880    -0.000681    -0.000853  \n",
       "std       0.032321     0.031773     0.030101     0.028765     0.026608  \n",
       "min      -1.379300    -1.195380    -1.002280    -0.905720    -0.939100  \n",
       "25%      -0.010842    -0.010390    -0.010902    -0.010105    -0.010423  \n",
       "50%       0.000035    -0.000100     0.000040    -0.000060    -0.000305  \n",
       "75%       0.009853     0.009923     0.010320     0.009448     0.009822  \n",
       "max       0.222810     0.228310     0.155470     0.379020     0.212140  "
      ]
     },
     "execution_count": 11,
     "metadata": {},
     "output_type": "execute_result"
    }
   ],
   "source": [
    "accXNp = np.array(accXList).astype(float) \n",
    "accXDf = pandas.DataFrame(accXNp)\n",
    "accXDf.describe()"
   ]
  },
  {
   "cell_type": "code",
   "execution_count": 12,
   "metadata": {},
   "outputs": [],
   "source": [
    "# Konvertierung von Object zu Float Werten in einer Zeile \n",
    "accYDf = pandas.DataFrame(np.array(featuresDf.AccelerometerY.str.split(\" \").tolist()).astype(float))"
   ]
  },
  {
   "cell_type": "code",
   "execution_count": 13,
   "metadata": {},
   "outputs": [
    {
     "name": "stdout",
     "output_type": "stream",
     "text": [
      "<class 'pandas.core.frame.DataFrame'>\n",
      "RangeIndex: 4164 entries, 0 to 4163\n",
      "Data columns (total 10 columns):\n",
      "0    4164 non-null float64\n",
      "1    4164 non-null float64\n",
      "2    4164 non-null float64\n",
      "3    4164 non-null float64\n",
      "4    4164 non-null float64\n",
      "5    4164 non-null float64\n",
      "6    4164 non-null float64\n",
      "7    4164 non-null float64\n",
      "8    4164 non-null float64\n",
      "9    4164 non-null float64\n",
      "dtypes: float64(10)\n",
      "memory usage: 325.4 KB\n"
     ]
    }
   ],
   "source": [
    "accYDf.info()"
   ]
  },
  {
   "cell_type": "code",
   "execution_count": 14,
   "metadata": {},
   "outputs": [
    {
     "data": {
      "text/html": [
       "<div>\n",
       "<style>\n",
       "    .dataframe thead tr:only-child th {\n",
       "        text-align: right;\n",
       "    }\n",
       "\n",
       "    .dataframe thead th {\n",
       "        text-align: left;\n",
       "    }\n",
       "\n",
       "    .dataframe tbody tr th {\n",
       "        vertical-align: top;\n",
       "    }\n",
       "</style>\n",
       "<table border=\"1\" class=\"dataframe\">\n",
       "  <thead>\n",
       "    <tr style=\"text-align: right;\">\n",
       "      <th></th>\n",
       "      <th>0</th>\n",
       "      <th>1</th>\n",
       "      <th>2</th>\n",
       "      <th>3</th>\n",
       "      <th>4</th>\n",
       "      <th>5</th>\n",
       "      <th>6</th>\n",
       "      <th>7</th>\n",
       "      <th>8</th>\n",
       "      <th>9</th>\n",
       "    </tr>\n",
       "  </thead>\n",
       "  <tbody>\n",
       "    <tr>\n",
       "      <th>0</th>\n",
       "      <td>-0.07841</td>\n",
       "      <td>-0.09338</td>\n",
       "      <td>-0.07470</td>\n",
       "      <td>-0.07508</td>\n",
       "      <td>-0.06006</td>\n",
       "      <td>-0.07870</td>\n",
       "      <td>-0.06296</td>\n",
       "      <td>-0.03504</td>\n",
       "      <td>-0.02803</td>\n",
       "      <td>0.00822</td>\n",
       "    </tr>\n",
       "    <tr>\n",
       "      <th>1</th>\n",
       "      <td>-0.00804</td>\n",
       "      <td>-0.00643</td>\n",
       "      <td>-0.02046</td>\n",
       "      <td>-0.03170</td>\n",
       "      <td>-0.07132</td>\n",
       "      <td>-0.04174</td>\n",
       "      <td>-0.04871</td>\n",
       "      <td>-0.03896</td>\n",
       "      <td>-0.03117</td>\n",
       "      <td>-0.04027</td>\n",
       "    </tr>\n",
       "  </tbody>\n",
       "</table>\n",
       "</div>"
      ],
      "text/plain": [
       "         0        1        2        3        4        5        6        7  \\\n",
       "0 -0.07841 -0.09338 -0.07470 -0.07508 -0.06006 -0.07870 -0.06296 -0.03504   \n",
       "1 -0.00804 -0.00643 -0.02046 -0.03170 -0.07132 -0.04174 -0.04871 -0.03896   \n",
       "\n",
       "         8        9  \n",
       "0 -0.02803  0.00822  \n",
       "1 -0.03117 -0.04027  "
      ]
     },
     "execution_count": 14,
     "metadata": {},
     "output_type": "execute_result"
    }
   ],
   "source": [
    "accYDf.head(2)"
   ]
  },
  {
   "cell_type": "code",
   "execution_count": 15,
   "metadata": {},
   "outputs": [],
   "source": [
    "accZDf = pandas.DataFrame(np.array(featuresDf.AccelerometerZ.str.split(\" \").tolist()).astype(float))"
   ]
  },
  {
   "cell_type": "code",
   "execution_count": 16,
   "metadata": {},
   "outputs": [],
   "source": [
    "nickDf = pandas.DataFrame(np.array(featuresDf.Nick.str.split(\" \").tolist()).astype(float))"
   ]
  },
  {
   "cell_type": "code",
   "execution_count": 17,
   "metadata": {},
   "outputs": [],
   "source": [
    "rollDf = pandas.DataFrame(np.array(featuresDf.Roll.str.split(\" \").tolist()).astype(float))"
   ]
  },
  {
   "cell_type": "code",
   "execution_count": 18,
   "metadata": {},
   "outputs": [],
   "source": [
    "azimuthDf = pandas.DataFrame(np.array(featuresDf.Azimuth.str.split(\" \").tolist()).astype(float))"
   ]
  },
  {
   "cell_type": "code",
   "execution_count": 19,
   "metadata": {},
   "outputs": [
    {
     "data": {
      "text/plain": [
       "0   -0.386357\n",
       "1   -0.054326\n",
       "dtype: float64"
      ]
     },
     "execution_count": 19,
     "metadata": {},
     "output_type": "execute_result"
    }
   ],
   "source": [
    "accXMean = accXDf.T.mean()\n",
    "accXMean.head(2)"
   ]
  },
  {
   "cell_type": "code",
   "execution_count": 20,
   "metadata": {},
   "outputs": [],
   "source": [
    "# Neue Spalten werden erstellt und Mittelwerte zugewiesen\n",
    "featuresDf['MittelX'] = accXMean\n",
    "featuresDf['MittelY'] = accYDf.T.mean()\n",
    "featuresDf['MittelZ'] = accZDf.T.mean()\n",
    "featuresDf['MittelNick'] = nickDf.T.mean()\n",
    "featuresDf['MittelRoll'] = rollDf.T.mean()"
   ]
  },
  {
   "cell_type": "code",
   "execution_count": 21,
   "metadata": {},
   "outputs": [
    {
     "data": {
      "text/plain": [
       "0   -0.386357\n",
       "1   -0.054326\n",
       "Name: MittelX, dtype: float64"
      ]
     },
     "execution_count": 21,
     "metadata": {},
     "output_type": "execute_result"
    }
   ],
   "source": [
    "featuresDf.MittelX.head(2)"
   ]
  },
  {
   "cell_type": "code",
   "execution_count": 22,
   "metadata": {
    "scrolled": true
   },
   "outputs": [
    {
     "data": {
      "text/plain": [
       "Index(['Zeitstempel', 'Breitengrad', 'Laengengrad', 'Geschwindigkeit',\n",
       "       'AccelerometerX', 'AccelerometerY', 'AccelerometerZ', 'Azimuth', 'Nick',\n",
       "       'Roll', 'SensorZeitstempel', 'Messwerte', 'StartBewegungsD',\n",
       "       'StartBelichtung', 'Belichtungszeit', 'MittelX', 'MittelY', 'MittelZ',\n",
       "       'MittelNick', 'MittelRoll'],\n",
       "      dtype='object')"
      ]
     },
     "execution_count": 22,
     "metadata": {},
     "output_type": "execute_result"
    }
   ],
   "source": [
    "featuresDf.columns"
   ]
  },
  {
   "cell_type": "markdown",
   "metadata": {},
   "source": [
    "Berechnet die Varianz. Dieser Funktion muss als Paramter der Mittelwert (mean) und der DataFrame mit   \n",
    "den Float Werten übergeben werden, um die Varianz zu berechnen. Als Varianz wird der Durchschnitt der quadrierten  \n",
    "Differenzen zum Mittelwert bezeichnet.   \n",
    "Prec.:    \n",
    "Postc.: Gibt die berechnete Variance als Float zurück oder 0 wenn die Anzahl der Werte <= 0  "
   ]
  },
  {
   "cell_type": "code",
   "execution_count": 23,
   "metadata": {},
   "outputs": [],
   "source": [
    "def calcVariance(meansDf, dfValues):\n",
    "    variance = []\n",
    "    for i, it in dfValues.iterrows():\n",
    "        sum = 0\n",
    "        for value in it:\n",
    "            tempDifference = value-meansDf[i]\n",
    "            sum += tempDifference * tempDifference\n",
    "        variance.append(\"{0:.5f}\".format(round(sum / it.count(),5)))\n",
    "    return np.array(variance).astype(float)"
   ]
  },
  {
   "cell_type": "markdown",
   "metadata": {},
   "source": [
    "Hier wird die Standardabweichung der Varianz berechnet. Dies ist die Wurzel der Varianz.   \n",
    "Für die Berechnung wird der Absolutwert von der Varianz genommen.    \n",
    "Prec.:\n",
    "Postc.:  Standardabweichung wird zurückgegeben."
   ]
  },
  {
   "cell_type": "code",
   "execution_count": 24,
   "metadata": {},
   "outputs": [],
   "source": [
    "def calculateStandardDeviation(varianceDf):\n",
    "    deviation = []\n",
    "    for v in varianceDf:\n",
    "        wasNegative = False\n",
    "        if(v < 0.0):\n",
    "            wasNegative = True\n",
    "        temp = math.sqrt(np.abs(v))\n",
    "        if(wasNegative):\n",
    "            temp *= -1\n",
    "        deviation.append(\"{0:.5f}\".format(round(temp,5)))\n",
    "    return np.array(deviation).astype(float)"
   ]
  },
  {
   "cell_type": "markdown",
   "metadata": {},
   "source": [
    "Die Funktion berechnet die Winkeländerung in rad zwischen den ersten gemessenen Gierwinkel und den letzten Gierwinkel   \n",
    "innerhalb einer als Paramter übergebenen Liste. Der zurückgegebene Radiant    \n",
    "ist immer positiv und zeigt die relative änderung in rad.      \n",
    "Prec.:   \n",
    "Postc.: Radiant berechnet   "
   ]
  },
  {
   "cell_type": "code",
   "execution_count": 25,
   "metadata": {},
   "outputs": [],
   "source": [
    "def calculateAngelChangeAzimuth(azimuthDf):\n",
    "    azimuthL = []\n",
    "    azimuthL.clear\n",
    "    result = []\n",
    "    counter = 0\n",
    "    for i,values in azimuthDf.iterrows():\n",
    "        resultTemp = 0\n",
    "        for rad in values:\n",
    "            azimuthL.append(rad * (180 / math.pi))\n",
    "            counter = counter + 1\n",
    "        resultTemp = np.abs(azimuthL[0] - azimuthL[counter-1])\n",
    "        if(resultTemp > 180):\n",
    "            resultTemp = 360 - resultTemp\n",
    "        result.append(resultTemp / (180 * math.pi))\n",
    "    return np.array(result).astype(float)"
   ]
  },
  {
   "cell_type": "code",
   "execution_count": 26,
   "metadata": {},
   "outputs": [],
   "source": [
    "featuresDf['AzimuthAenderung'] = calculateAngelChangeAzimuth(azimuthDf)"
   ]
  },
  {
   "cell_type": "code",
   "execution_count": 27,
   "metadata": {},
   "outputs": [],
   "source": [
    "# Berechne Varianz\n",
    "featuresDf['VarianzX'] = calcVariance(featuresDf.MittelX,accXDf)\n",
    "featuresDf['VarianzY'] = calcVariance(featuresDf.MittelY,accYDf)\n",
    "featuresDf['VarianzZ'] = calcVariance(featuresDf.MittelZ,accZDf)\n",
    "featuresDf['VarianzNick'] = calcVariance(featuresDf.MittelNick,nickDf)\n",
    "featuresDf['VarianzRoll'] = calcVariance(featuresDf.MittelRoll,rollDf)"
   ]
  },
  {
   "cell_type": "code",
   "execution_count": 28,
   "metadata": {},
   "outputs": [
    {
     "data": {
      "text/plain": [
       "0    0.01530\n",
       "1    0.00294\n",
       "2    0.00897\n",
       "3    0.00058\n",
       "4    0.00056\n",
       "Name: VarianzX, dtype: float64"
      ]
     },
     "execution_count": 28,
     "metadata": {},
     "output_type": "execute_result"
    }
   ],
   "source": [
    "featuresDf.VarianzX.head()"
   ]
  },
  {
   "cell_type": "code",
   "execution_count": 29,
   "metadata": {},
   "outputs": [],
   "source": [
    "# Berechne Standardabweichung\n",
    "featuresDf['AbweichungX'] = calculateStandardDeviation(featuresDf.VarianzX)\n",
    "featuresDf['AbweichungY'] = calculateStandardDeviation(featuresDf.VarianzY)\n",
    "featuresDf['AbweichungZ'] = calculateStandardDeviation(featuresDf.VarianzZ)\n",
    "featuresDf['AbweichungNick'] = calculateStandardDeviation(featuresDf.VarianzNick)\n",
    "featuresDf['AbweichungRoll'] = calculateStandardDeviation(featuresDf.VarianzRoll)"
   ]
  },
  {
   "cell_type": "code",
   "execution_count": 30,
   "metadata": {},
   "outputs": [
    {
     "data": {
      "text/plain": [
       "0    0.12369\n",
       "1    0.05422\n",
       "2    0.09471\n",
       "3    0.02408\n",
       "4    0.02366\n",
       "Name: AbweichungX, dtype: float64"
      ]
     },
     "execution_count": 30,
     "metadata": {},
     "output_type": "execute_result"
    }
   ],
   "source": [
    "featuresDf.AbweichungX.head()"
   ]
  },
  {
   "cell_type": "code",
   "execution_count": 31,
   "metadata": {},
   "outputs": [
    {
     "name": "stdout",
     "output_type": "stream",
     "text": [
      "<class 'pandas.core.frame.DataFrame'>\n",
      "RangeIndex: 4164 entries, 0 to 4163\n",
      "Data columns (total 10 columns):\n",
      "0    4164 non-null float64\n",
      "1    4164 non-null float64\n",
      "2    4164 non-null float64\n",
      "3    4164 non-null float64\n",
      "4    4164 non-null float64\n",
      "5    4164 non-null float64\n",
      "6    4164 non-null float64\n",
      "7    4164 non-null float64\n",
      "8    4164 non-null float64\n",
      "9    4164 non-null float64\n",
      "dtypes: float64(10)\n",
      "memory usage: 325.4 KB\n"
     ]
    }
   ],
   "source": [
    "accXDf.info()"
   ]
  },
  {
   "cell_type": "code",
   "execution_count": 32,
   "metadata": {},
   "outputs": [
    {
     "data": {
      "text/html": [
       "<div>\n",
       "<style>\n",
       "    .dataframe thead tr:only-child th {\n",
       "        text-align: right;\n",
       "    }\n",
       "\n",
       "    .dataframe thead th {\n",
       "        text-align: left;\n",
       "    }\n",
       "\n",
       "    .dataframe tbody tr th {\n",
       "        vertical-align: top;\n",
       "    }\n",
       "</style>\n",
       "<table border=\"1\" class=\"dataframe\">\n",
       "  <thead>\n",
       "    <tr style=\"text-align: right;\">\n",
       "      <th></th>\n",
       "      <th>0</th>\n",
       "      <th>1</th>\n",
       "      <th>2</th>\n",
       "      <th>3</th>\n",
       "      <th>4</th>\n",
       "      <th>5</th>\n",
       "      <th>6</th>\n",
       "      <th>7</th>\n",
       "      <th>8</th>\n",
       "      <th>9</th>\n",
       "    </tr>\n",
       "  </thead>\n",
       "  <tbody>\n",
       "    <tr>\n",
       "      <th>0</th>\n",
       "      <td>-0.12160</td>\n",
       "      <td>-0.21987</td>\n",
       "      <td>-0.34445</td>\n",
       "      <td>-0.44410</td>\n",
       "      <td>-0.50851</td>\n",
       "      <td>-0.51407</td>\n",
       "      <td>-0.50319</td>\n",
       "      <td>-0.44852</td>\n",
       "      <td>-0.40479</td>\n",
       "      <td>-0.35447</td>\n",
       "    </tr>\n",
       "    <tr>\n",
       "      <th>1</th>\n",
       "      <td>-0.03939</td>\n",
       "      <td>-0.07748</td>\n",
       "      <td>-0.07731</td>\n",
       "      <td>-0.10782</td>\n",
       "      <td>-0.10157</td>\n",
       "      <td>-0.11191</td>\n",
       "      <td>-0.07419</td>\n",
       "      <td>-0.02871</td>\n",
       "      <td>0.00768</td>\n",
       "      <td>0.06744</td>\n",
       "    </tr>\n",
       "    <tr>\n",
       "      <th>2</th>\n",
       "      <td>0.20829</td>\n",
       "      <td>0.19727</td>\n",
       "      <td>0.17314</td>\n",
       "      <td>0.16916</td>\n",
       "      <td>0.12001</td>\n",
       "      <td>0.03472</td>\n",
       "      <td>0.01244</td>\n",
       "      <td>-0.02068</td>\n",
       "      <td>-0.01655</td>\n",
       "      <td>-0.04389</td>\n",
       "    </tr>\n",
       "    <tr>\n",
       "      <th>3</th>\n",
       "      <td>-0.03367</td>\n",
       "      <td>-0.01161</td>\n",
       "      <td>-0.00928</td>\n",
       "      <td>0.02321</td>\n",
       "      <td>0.03389</td>\n",
       "      <td>-0.00353</td>\n",
       "      <td>-0.00282</td>\n",
       "      <td>0.01307</td>\n",
       "      <td>0.02577</td>\n",
       "      <td>0.05127</td>\n",
       "    </tr>\n",
       "    <tr>\n",
       "      <th>4</th>\n",
       "      <td>-0.00272</td>\n",
       "      <td>0.01315</td>\n",
       "      <td>0.01052</td>\n",
       "      <td>-0.02222</td>\n",
       "      <td>-0.03311</td>\n",
       "      <td>-0.04181</td>\n",
       "      <td>-0.04876</td>\n",
       "      <td>-0.05433</td>\n",
       "      <td>-0.01282</td>\n",
       "      <td>0.00506</td>\n",
       "    </tr>\n",
       "  </tbody>\n",
       "</table>\n",
       "</div>"
      ],
      "text/plain": [
       "         0        1        2        3        4        5        6        7  \\\n",
       "0 -0.12160 -0.21987 -0.34445 -0.44410 -0.50851 -0.51407 -0.50319 -0.44852   \n",
       "1 -0.03939 -0.07748 -0.07731 -0.10782 -0.10157 -0.11191 -0.07419 -0.02871   \n",
       "2  0.20829  0.19727  0.17314  0.16916  0.12001  0.03472  0.01244 -0.02068   \n",
       "3 -0.03367 -0.01161 -0.00928  0.02321  0.03389 -0.00353 -0.00282  0.01307   \n",
       "4 -0.00272  0.01315  0.01052 -0.02222 -0.03311 -0.04181 -0.04876 -0.05433   \n",
       "\n",
       "         8        9  \n",
       "0 -0.40479 -0.35447  \n",
       "1  0.00768  0.06744  \n",
       "2 -0.01655 -0.04389  \n",
       "3  0.02577  0.05127  \n",
       "4 -0.01282  0.00506  "
      ]
     },
     "execution_count": 32,
     "metadata": {},
     "output_type": "execute_result"
    }
   ],
   "source": [
    "accXDf.head()"
   ]
  },
  {
   "cell_type": "code",
   "execution_count": 33,
   "metadata": {},
   "outputs": [
    {
     "data": {
      "text/plain": [
       "0   -0.386357\n",
       "1   -0.054326\n",
       "2    0.083391\n",
       "3    0.008630\n",
       "4   -0.018704\n",
       "Name: MittelX, dtype: float64"
      ]
     },
     "execution_count": 33,
     "metadata": {},
     "output_type": "execute_result"
    }
   ],
   "source": [
    "featuresDf.MittelX.head()"
   ]
  },
  {
   "cell_type": "code",
   "execution_count": 34,
   "metadata": {},
   "outputs": [],
   "source": [
    "# Änderungen in CSV Datei schreiben\n",
    "featuresDf.to_csv('merkmale.csv')"
   ]
  },
  {
   "cell_type": "code",
   "execution_count": 42,
   "metadata": {},
   "outputs": [
    {
     "data": {
      "text/plain": [
       "Index(['Unnamed: 0', 'Zeitstempel', 'Breitengrad', 'Laengengrad',\n",
       "       'Geschwindigkeit', 'AccelerometerX', 'AccelerometerY', 'AccelerometerZ',\n",
       "       'Azimuth', 'Nick', 'Roll', 'SensorZeitstempel', 'Messwerte',\n",
       "       'StartBewegungsD', 'StartBelichtung', 'Belichtungszeit', 'MittelX',\n",
       "       'MittelY', 'MittelZ', 'MittelNick', 'MittelRoll', 'AzimuthAenderung',\n",
       "       'VarianzX', 'VarianzY', 'VarianzZ', 'VarianzNick', 'VarianzRoll',\n",
       "       'AbweichungX', 'AbweichungY', 'AbweichungZ', 'AbweichungNick',\n",
       "       'AbweichungRoll'],\n",
       "      dtype='object')"
      ]
     },
     "execution_count": 42,
     "metadata": {},
     "output_type": "execute_result"
    }
   ],
   "source": [
    "pandas.read_csv(\"merkmale.csv\").columns"
   ]
  },
  {
   "cell_type": "code",
   "execution_count": 35,
   "metadata": {},
   "outputs": [
    {
     "name": "stderr",
     "output_type": "stream",
     "text": [
      "testCalcVariance0 (__main__.CalcTest) ... ok\n",
      "testCalcVariance2 (__main__.CalcTest) ... ok\n",
      "testCalcVariance5 (__main__.CalcTest) ... ok\n",
      "testCalcVarianceMultidim (__main__.CalcTest) ... ok\n",
      "testCalcVarianceNegative (__main__.CalcTest) ... ok\n",
      "testCalculateStandardDeviation (__main__.CalcTest) ... ok\n",
      "testCalculateStandardDeviationNegative (__main__.CalcTest) ... ok\n",
      "testCalculateStandardDeviationZero (__main__.CalcTest) ... ok\n",
      "\n",
      "----------------------------------------------------------------------\n",
      "Ran 8 tests in 0.018s\n",
      "\n",
      "OK\n"
     ]
    },
    {
     "data": {
      "text/plain": [
       "<unittest.main.TestProgram at 0x7f8b6c7a79b0>"
      ]
     },
     "execution_count": 35,
     "metadata": {},
     "output_type": "execute_result"
    }
   ],
   "source": [
    "# Unittests\n",
    "import unittest\n",
    "\n",
    "class CalcTest(unittest.TestCase):\n",
    "    \n",
    "    \n",
    "    # Testet die Funktion calcVariance mit einem DataFrame mit den Werten [2.0, 2.0]\n",
    "    # Der Mittelwert sollte 2.0 sein\n",
    "    # Das erwartete Ergebnis ist 0.0\n",
    "    def testCalcVariance2(self):\n",
    "        meanL = [2.0]\n",
    "        meanDf = pandas.DataFrame(meanL)\n",
    "        valuesA = [2.0,2.0]\n",
    "        valuesDf = pandas.DataFrame([[2.0]])\n",
    "        self.assertEqual(calcVariance(meanDf[0],valuesDf), 0.0)\n",
    "        \n",
    "    # Testet die Funktion calcVariance mit einem DataFrame mit den folgenden Werten:\n",
    "    # [1.24, 2.5213, 10.434, 42.45, 5.9]\n",
    "    # Der Mittelwert ist 12.508\n",
    "    # Die erwartete Varianz ist 234,247016\n",
    "    def testCalcVariance5(self):\n",
    "        meanDf = pandas.DataFrame([12.508])\n",
    "        valuesDf = pandas.DataFrame([[1.24, 2.52, 10.43, 42.45, 5.9]])\n",
    "        self.assertEqual(calcVariance(meanDf[0],valuesDf), 234.24702)   \n",
    "    \n",
    "    # Testet calcVariance mit 0 Datenwerten   \n",
    "    def testCalcVariance0(self):\n",
    "        meanDf = pandas.DataFrame([0.0])\n",
    "        valuesDf = pandas.DataFrame([[0.0]])\n",
    "        self.assertEqual(calcVariance(meanDf[0],valuesDf),0.0)  \n",
    "        \n",
    "    # Testet calcVariance mit negativen Datenwerten   \n",
    "    def testCalcVarianceNegative(self):\n",
    "        meanDf = pandas.DataFrame([-24.0])\n",
    "        valuesDf = pandas.DataFrame([[-2.0,-24.0,-5.0,7.0]])\n",
    "        self.assertEqual(calcVariance(meanDf[0],valuesDf),451.5) \n",
    "        \n",
    "    # Testet calcVariance mit Muultidimensionalen DataFrame   \n",
    "    def testCalcVarianceMultidim(self):\n",
    "        meanDf = pandas.DataFrame([-24.0,0.0])\n",
    "        valuesDf = pandas.DataFrame([[-2.0,-24.0,-5.0,7.0],[0.0,0.0,0.0,0.0]])\n",
    "        # Hier wird Numpy Test verwendet um das Ergebnis (zwei Arrays) zu vergleichen\n",
    "        npt.assert_array_equal(calcVariance(meanDf[0],valuesDf),np.array([ 451.5,0.0])) \n",
    "        \n",
    "    # Dieser Test testet die Funktion calculateStandardDeviation.\n",
    "    def testCalculateStandardDeviation(self):\n",
    "        varianceDf = pandas.DataFrame([451.5])\n",
    "        self.assertEqual(calculateStandardDeviation(varianceDf[0]),21.24853) \n",
    "\n",
    "    # Testet die Funktion calculateStandardDeviation.\n",
    "    # Dabei ist das Argument negativ.\n",
    "    def testCalculateStandardDeviationNegative(self):\n",
    "        varianceDf = pandas.DataFrame([-451.5])\n",
    "        self.assertEqual(calculateStandardDeviation(varianceDf[0]),-21.24853)\n",
    "        \n",
    "    # Testet die Funktion calculateStandardDeviation.\n",
    "    # Dabei hat das Argument den Wert 0.0.\n",
    "    def testCalculateStandardDeviationZero(self):\n",
    "        varianceDf = pandas.DataFrame([0.0])\n",
    "        self.assertEqual(calculateStandardDeviation(varianceDf[0]),0.0)  \n",
    "    \n",
    "unittest.main(argv=[''], verbosity=2, exit=False)"
   ]
  }
 ],
 "metadata": {
  "kernelspec": {
   "display_name": "Python 3.6",
   "language": "python",
   "name": "python36"
  },
  "language_info": {
   "codemirror_mode": {
    "name": "ipython",
    "version": 3
   },
   "file_extension": ".py",
   "mimetype": "text/x-python",
   "name": "python",
   "nbconvert_exporter": "python",
   "pygments_lexer": "ipython3",
   "version": "3.6.3"
  }
 },
 "nbformat": 4,
 "nbformat_minor": 2
}
