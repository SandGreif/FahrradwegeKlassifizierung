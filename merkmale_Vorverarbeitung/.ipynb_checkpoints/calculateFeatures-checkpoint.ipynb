{
 "cells": [
  {
   "cell_type": "markdown",
   "metadata": {
    "collapsed": true
   },
   "source": [
    "## Berechnungen von Merkmalen\n",
    "\n",
    "In diesem Notebook ist es möglich den Mittelwert, Varianz und Standardabweichung für die aufgenommenen Messwerte aus der Datei \"merkmaleRoh.csv\" der Android TM Fahrradwege Monitoring App zu berechnen. Zu einem Bild werden parallel Messwerte erfasst von dem Beschleunigungssensor und Magnetsensor des Smartphones, innerhalb eines Zeitfenster mit einer Länge von 80ms (siehe hierzu auch das Notebook \"gatheringSequence\" in dem Ordner datenvisualisierung). Bei dem Beschleunigungssensor sind dies die Messwerte der beschleunigung von den 3-Achsen X, Y sowie Z (Abb. 1). Des Weiteren werden die Gier-Nick-Roll Winkel in rad in einem Zeitfenster erfasst. Für die Berechnung des Mittelwerts, Varianz und Standardabweichung über die Messwerte wird die Form der abgespeicherten Messwerte geändert, weil diese als Python Objekte verwaltet werden mit welchen nicht gerechnet werden kann. Zu den Messwertreihen wird jeweils eine CSV Datei erstellt. Eine Reihe stellt dann in dieser Datei eine Messreihe zu einem Zeitfenster dar. Bei der ausführung dieses Notebooks werden deshalb zusätzlich folgende CSV Dateien erstellt:\n",
    "\n",
    "X-Achse Beschleunigungswerte in m/s^2   \n",
    "Y-Achse Beschleunigungswerte in m/s^2  \n",
    "Z-Achse Beschleunigungswerte in m/s^2   \n",
    "Gier Messwerte in rad  \n",
    "Nick Messwerte in rad  \n",
    "Roll Messwerte in rad   \n",
    "Zeitstempel der Messwerte in ns  \n",
    "\n",
    "<img src=\"../daten/abbildungen/sensorOrientierung.png\" alt=\"Android Smartphone Sensor Orientierung\" width=\"200px\" />\n",
    "Abbildung 1: 3-Achsen Smartphone Sensor-Koordinatensystem   \n",
    "Quelle: siehe Bildverzeichnis Abb. 2 in der README.md Datei"
   ]
  },
  {
   "cell_type": "code",
   "execution_count": 1,
   "metadata": {
    "ExecuteTime": {
     "end_time": "2018-05-07T13:58:55.784445Z",
     "start_time": "2018-05-07T13:58:55.298871Z"
    }
   },
   "outputs": [],
   "source": [
    "import pandas\n",
    "import numpy as np\n",
    "import numpy.testing as npt\n",
    "import math\n",
    "import os"
   ]
  },
  {
   "cell_type": "code",
   "execution_count": 56,
   "metadata": {},
   "outputs": [],
   "source": [
    "dataset = '40'"
   ]
  },
  {
   "cell_type": "code",
   "execution_count": 57,
   "metadata": {
    "ExecuteTime": {
     "end_time": "2018-05-07T13:58:57.726814Z",
     "start_time": "2018-05-07T13:58:55.864375Z"
    }
   },
   "outputs": [
    {
     "data": {
      "text/html": [
       "<div>\n",
       "<style scoped>\n",
       "    .dataframe tbody tr th:only-of-type {\n",
       "        vertical-align: middle;\n",
       "    }\n",
       "\n",
       "    .dataframe tbody tr th {\n",
       "        vertical-align: top;\n",
       "    }\n",
       "\n",
       "    .dataframe thead th {\n",
       "        text-align: right;\n",
       "    }\n",
       "</style>\n",
       "<table border=\"1\" class=\"dataframe\">\n",
       "  <thead>\n",
       "    <tr style=\"text-align: right;\">\n",
       "      <th></th>\n",
       "      <th>Zeitstempel in Unixzeit</th>\n",
       "      <th>Breitengrad</th>\n",
       "      <th>Laengengrad</th>\n",
       "      <th>Geschwindigkeit in km/h</th>\n",
       "      <th>Anzahl der Messwerte</th>\n",
       "      <th>Start des Zeitfensters in ns seit Start der JVM</th>\n",
       "      <th>Zeitstempel Messwertdaten anfordern in Unixzeit</th>\n",
       "      <th>Start der Messwerterfassung in ns seit Start der JVM</th>\n",
       "      <th>Erster Zeitstempel der Teilliste in ns seit Start der JVM</th>\n",
       "      <th>Start der Belichtung in ns seit Start der JVM</th>\n",
       "      <th>Belichtungszeit in ns</th>\n",
       "      <th>Letzter Zeitstempel der Messwerterfassung in ns seit Start der JVM</th>\n",
       "      <th>Speicherzeitpunkt der Merkmale in Unixzeit</th>\n",
       "    </tr>\n",
       "  </thead>\n",
       "  <tbody>\n",
       "    <tr>\n",
       "      <th>count</th>\n",
       "      <td>1.314500e+04</td>\n",
       "      <td>13145.000000</td>\n",
       "      <td>13145.000000</td>\n",
       "      <td>13145.000000</td>\n",
       "      <td>13145.000000</td>\n",
       "      <td>1.314500e+04</td>\n",
       "      <td>1.314500e+04</td>\n",
       "      <td>1.314500e+04</td>\n",
       "      <td>1.314500e+04</td>\n",
       "      <td>1.314500e+04</td>\n",
       "      <td>1.314500e+04</td>\n",
       "      <td>1.314500e+04</td>\n",
       "      <td>1.314500e+04</td>\n",
       "    </tr>\n",
       "    <tr>\n",
       "      <th>mean</th>\n",
       "      <td>1.528210e+12</td>\n",
       "      <td>53.616755</td>\n",
       "      <td>10.183588</td>\n",
       "      <td>13.935076</td>\n",
       "      <td>33.342335</td>\n",
       "      <td>1.399715e+13</td>\n",
       "      <td>1.528210e+12</td>\n",
       "      <td>1.396588e+13</td>\n",
       "      <td>1.399657e+13</td>\n",
       "      <td>1.399729e+13</td>\n",
       "      <td>8.184272e+06</td>\n",
       "      <td>1.399743e+13</td>\n",
       "      <td>1.528210e+12</td>\n",
       "    </tr>\n",
       "    <tr>\n",
       "      <th>std</th>\n",
       "      <td>1.418064e+06</td>\n",
       "      <td>0.003956</td>\n",
       "      <td>0.022436</td>\n",
       "      <td>3.453989</td>\n",
       "      <td>11.084792</td>\n",
       "      <td>1.418074e+12</td>\n",
       "      <td>1.418057e+06</td>\n",
       "      <td>1.424039e+12</td>\n",
       "      <td>1.418088e+12</td>\n",
       "      <td>1.418066e+12</td>\n",
       "      <td>8.903295e+06</td>\n",
       "      <td>1.418057e+12</td>\n",
       "      <td>1.418056e+06</td>\n",
       "    </tr>\n",
       "    <tr>\n",
       "      <th>min</th>\n",
       "      <td>1.528207e+12</td>\n",
       "      <td>53.610440</td>\n",
       "      <td>10.137897</td>\n",
       "      <td>5.004000</td>\n",
       "      <td>17.000000</td>\n",
       "      <td>1.148883e+13</td>\n",
       "      <td>1.528207e+12</td>\n",
       "      <td>1.148763e+13</td>\n",
       "      <td>1.148763e+13</td>\n",
       "      <td>1.148918e+13</td>\n",
       "      <td>6.618860e+05</td>\n",
       "      <td>1.148956e+13</td>\n",
       "      <td>1.528207e+12</td>\n",
       "    </tr>\n",
       "    <tr>\n",
       "      <th>25%</th>\n",
       "      <td>1.528209e+12</td>\n",
       "      <td>53.613796</td>\n",
       "      <td>10.167309</td>\n",
       "      <td>11.664000</td>\n",
       "      <td>26.000000</td>\n",
       "      <td>1.272141e+13</td>\n",
       "      <td>1.528209e+12</td>\n",
       "      <td>1.263939e+13</td>\n",
       "      <td>1.272086e+13</td>\n",
       "      <td>1.272161e+13</td>\n",
       "      <td>1.645523e+06</td>\n",
       "      <td>1.272184e+13</td>\n",
       "      <td>1.528209e+12</td>\n",
       "    </tr>\n",
       "    <tr>\n",
       "      <th>50%</th>\n",
       "      <td>1.528210e+12</td>\n",
       "      <td>53.615200</td>\n",
       "      <td>10.185670</td>\n",
       "      <td>14.184001</td>\n",
       "      <td>30.000000</td>\n",
       "      <td>1.402294e+13</td>\n",
       "      <td>1.528210e+12</td>\n",
       "      <td>1.396638e+13</td>\n",
       "      <td>1.400552e+13</td>\n",
       "      <td>1.402328e+13</td>\n",
       "      <td>4.495312e+06</td>\n",
       "      <td>1.402363e+13</td>\n",
       "      <td>1.528210e+12</td>\n",
       "    </tr>\n",
       "    <tr>\n",
       "      <th>75%</th>\n",
       "      <td>1.528211e+12</td>\n",
       "      <td>53.620280</td>\n",
       "      <td>10.200642</td>\n",
       "      <td>16.092000</td>\n",
       "      <td>37.000000</td>\n",
       "      <td>1.523232e+13</td>\n",
       "      <td>1.528211e+12</td>\n",
       "      <td>1.521713e+13</td>\n",
       "      <td>1.523184e+13</td>\n",
       "      <td>1.523243e+13</td>\n",
       "      <td>1.000184e+07</td>\n",
       "      <td>1.523254e+13</td>\n",
       "      <td>1.528211e+12</td>\n",
       "    </tr>\n",
       "    <tr>\n",
       "      <th>max</th>\n",
       "      <td>1.528212e+12</td>\n",
       "      <td>53.625114</td>\n",
       "      <td>10.222348</td>\n",
       "      <td>24.228000</td>\n",
       "      <td>89.000000</td>\n",
       "      <td>1.635370e+13</td>\n",
       "      <td>1.528212e+12</td>\n",
       "      <td>1.630277e+13</td>\n",
       "      <td>1.635319e+13</td>\n",
       "      <td>1.635388e+13</td>\n",
       "      <td>2.999632e+07</td>\n",
       "      <td>1.635406e+13</td>\n",
       "      <td>1.528212e+12</td>\n",
       "    </tr>\n",
       "  </tbody>\n",
       "</table>\n",
       "</div>"
      ],
      "text/plain": [
       "       Zeitstempel in Unixzeit   Breitengrad   Laengengrad  \\\n",
       "count             1.314500e+04  13145.000000  13145.000000   \n",
       "mean              1.528210e+12     53.616755     10.183588   \n",
       "std               1.418064e+06      0.003956      0.022436   \n",
       "min               1.528207e+12     53.610440     10.137897   \n",
       "25%               1.528209e+12     53.613796     10.167309   \n",
       "50%               1.528210e+12     53.615200     10.185670   \n",
       "75%               1.528211e+12     53.620280     10.200642   \n",
       "max               1.528212e+12     53.625114     10.222348   \n",
       "\n",
       "       Geschwindigkeit in km/h  Anzahl der Messwerte  \\\n",
       "count             13145.000000          13145.000000   \n",
       "mean                 13.935076             33.342335   \n",
       "std                   3.453989             11.084792   \n",
       "min                   5.004000             17.000000   \n",
       "25%                  11.664000             26.000000   \n",
       "50%                  14.184001             30.000000   \n",
       "75%                  16.092000             37.000000   \n",
       "max                  24.228000             89.000000   \n",
       "\n",
       "       Start des Zeitfensters in ns seit Start der JVM  \\\n",
       "count                                     1.314500e+04   \n",
       "mean                                      1.399715e+13   \n",
       "std                                       1.418074e+12   \n",
       "min                                       1.148883e+13   \n",
       "25%                                       1.272141e+13   \n",
       "50%                                       1.402294e+13   \n",
       "75%                                       1.523232e+13   \n",
       "max                                       1.635370e+13   \n",
       "\n",
       "       Zeitstempel Messwertdaten anfordern in Unixzeit  \\\n",
       "count                                     1.314500e+04   \n",
       "mean                                      1.528210e+12   \n",
       "std                                       1.418057e+06   \n",
       "min                                       1.528207e+12   \n",
       "25%                                       1.528209e+12   \n",
       "50%                                       1.528210e+12   \n",
       "75%                                       1.528211e+12   \n",
       "max                                       1.528212e+12   \n",
       "\n",
       "       Start der Messwerterfassung in ns seit Start der JVM  \\\n",
       "count                                       1.314500e+04      \n",
       "mean                                        1.396588e+13      \n",
       "std                                         1.424039e+12      \n",
       "min                                         1.148763e+13      \n",
       "25%                                         1.263939e+13      \n",
       "50%                                         1.396638e+13      \n",
       "75%                                         1.521713e+13      \n",
       "max                                         1.630277e+13      \n",
       "\n",
       "       Erster Zeitstempel der Teilliste in ns seit Start der JVM  \\\n",
       "count                                       1.314500e+04           \n",
       "mean                                        1.399657e+13           \n",
       "std                                         1.418088e+12           \n",
       "min                                         1.148763e+13           \n",
       "25%                                         1.272086e+13           \n",
       "50%                                         1.400552e+13           \n",
       "75%                                         1.523184e+13           \n",
       "max                                         1.635319e+13           \n",
       "\n",
       "       Start der Belichtung in ns seit Start der JVM  Belichtungszeit in ns  \\\n",
       "count                                   1.314500e+04           1.314500e+04   \n",
       "mean                                    1.399729e+13           8.184272e+06   \n",
       "std                                     1.418066e+12           8.903295e+06   \n",
       "min                                     1.148918e+13           6.618860e+05   \n",
       "25%                                     1.272161e+13           1.645523e+06   \n",
       "50%                                     1.402328e+13           4.495312e+06   \n",
       "75%                                     1.523243e+13           1.000184e+07   \n",
       "max                                     1.635388e+13           2.999632e+07   \n",
       "\n",
       "       Letzter Zeitstempel der Messwerterfassung in ns seit Start der JVM  \\\n",
       "count                                       1.314500e+04                    \n",
       "mean                                        1.399743e+13                    \n",
       "std                                         1.418057e+12                    \n",
       "min                                         1.148956e+13                    \n",
       "25%                                         1.272184e+13                    \n",
       "50%                                         1.402363e+13                    \n",
       "75%                                         1.523254e+13                    \n",
       "max                                         1.635406e+13                    \n",
       "\n",
       "       Speicherzeitpunkt der Merkmale in Unixzeit  \n",
       "count                                1.314500e+04  \n",
       "mean                                 1.528210e+12  \n",
       "std                                  1.418056e+06  \n",
       "min                                  1.528207e+12  \n",
       "25%                                  1.528209e+12  \n",
       "50%                                  1.528210e+12  \n",
       "75%                                  1.528211e+12  \n",
       "max                                  1.528212e+12  "
      ]
     },
     "execution_count": 57,
     "metadata": {},
     "output_type": "execute_result"
    }
   ],
   "source": [
    "featuresDf = pandas.read_csv(\"../daten/merkmale_datensatz_\" + dataset + \"/merkmaleRoh.csv\")\n",
    "featuresDf.describe()"
   ]
  },
  {
   "cell_type": "code",
   "execution_count": 52,
   "metadata": {
    "ExecuteTime": {
     "end_time": "2018-05-07T13:59:00.652982Z",
     "start_time": "2018-05-07T13:59:00.549419Z"
    }
   },
   "outputs": [
    {
     "name": "stdout",
     "output_type": "stream",
     "text": [
      "<class 'pandas.core.frame.DataFrame'>\n",
      "RangeIndex: 17578 entries, 0 to 17577\n",
      "Data columns (total 17 columns):\n",
      "Zeitstempel in Unixzeit                                               17578 non-null int64\n",
      "Breitengrad                                                           17578 non-null float64\n",
      "Laengengrad                                                           17578 non-null float64\n",
      "Geschwindigkeit in km/h                                               17578 non-null float64\n",
      "Z-Achse Beschleunigungswerte in m/s^2                                 17571 non-null object\n",
      "Y-Achse Beschleunigungswerte in m/s^2                                 17571 non-null object\n",
      "Nick Messwerte in rad                                                 17571 non-null object\n",
      "Zeitstempel der Messwerte in ns                                       17571 non-null object\n",
      "Anzahl der Messwerte                                                  17578 non-null int64\n",
      "Start des Zeitfensters in ns seit Start der JVM                       17578 non-null int64\n",
      "Zeitstempel Messwertdaten anfordern in Unixzeit                       17578 non-null int64\n",
      "Start der Messwerterfassung in ns seit Start der JVM                  17578 non-null int64\n",
      "Erster Zeitstempel der Teilliste in ns seit Start der JVM             17578 non-null int64\n",
      "Start der Belichtung in ns seit Start der JVM                         17578 non-null int64\n",
      "Belichtungszeit in ns                                                 17578 non-null int64\n",
      "Letzter Zeitstempel der Messwerterfassung in ns seit Start der JVM    17578 non-null int64\n",
      "Speicherzeitpunkt der Merkmale in Unixzeit                            17578 non-null int64\n",
      "dtypes: float64(3), int64(10), object(4)\n",
      "memory usage: 2.3+ MB\n"
     ]
    }
   ],
   "source": [
    "featuresDf.info()"
   ]
  },
  {
   "cell_type": "code",
   "execution_count": null,
   "metadata": {
    "ExecuteTime": {
     "end_time": "2018-05-07T13:59:01.488205Z",
     "start_time": "2018-05-07T13:59:01.480205Z"
    }
   },
   "outputs": [],
   "source": [
    "# Zeigt die ersten 5 Reihen Beschleunigungssensordaten der X-Achse \n",
    "featuresDf['X-Achse Beschleunigungswerte in m/s^2'].head()"
   ]
  },
  {
   "cell_type": "code",
   "execution_count": null,
   "metadata": {
    "ExecuteTime": {
     "end_time": "2018-05-07T15:02:41.423672Z",
     "start_time": "2018-05-07T15:02:41.415673Z"
    }
   },
   "outputs": [],
   "source": [
    "# Die Anzahl der Messwerte sollte immer gleich sein, ansonsten werden fehlende Spalten mit NaN Werten gefüllt bei der\n",
    "# späteren Abspeicherung der erfassten Messwerte wie z.B. in die Datei x-Achse-Beschleunigungswerte.csv.\n",
    "# Um die Berechnung von den Merkmalen Varianz und Mittelwert unteranderem zu beschleunigen ist es wichtig sogenannte Außenseiter\n",
    "# aus den Datensätzen zu entfernen.\n",
    "# Dafür muss auch das Bild zu einer Reihe aus der merkmaleRoh.csv Datei gelöscht werden.\n",
    "# Dies wird erreicht indem alle Pfade der Bilder geladen werden.\n",
    "# Dann können Reihen sowie Bilder gelöscht werden mit mehr Messwerten als ein bestimmter Grenzwert.\n",
    "print(featuresDf['Anzahl der Messwerte'][featuresDf['Anzahl der Messwerte'] > 23])\n",
    "\n",
    "################### Entferne Außenseiter mit Anzahl der Messwerte > Grenzwert ###################\n",
    "#### Warnung löschen der zugeschnittennen Bilder kann nicht rückgängig gemacht werden!\n",
    "#threshold  = 23 \n",
    "#imagePaths = []\n",
    "# Hier können die Datensätze ausgewählt werden\n",
    "#datasets = ['15','16','17','18','19','20','21','22']\n",
    "# Die Pfade zu den Ordnern in welchem sich die Bilder befinden\n",
    "#paths = []\n",
    "#for dataset in datasets: # Für jeden Datensatz merke Pfad\n",
    "#    paths.append(\"C:/Users/morro/Documents/datenRoh/\" + dataset + \"/zugeschnitten/\")\n",
    "#for path in paths: # Für jeden Pfad hole die Namen der Ordner\n",
    "#    folders = os.listdir(path)\n",
    "#    for folder in folders: # Aus der Liste der Ordner wird ein Ordner ausgewählt\n",
    "#        filesPath = path + folder + \"/\"\n",
    "#        files = os.listdir(filesPath)\n",
    "#        for name in files: # Ein Dateiname aus diesem Ordner\n",
    "#            if \"jpg\" not in name:\n",
    "#                continue\n",
    "#            imagePaths.append(filesPath + name) # Path wird geladen in Liste\n",
    "#toRemoveImagesIndex = featuresDf['Anzahl der Messwerte'][featuresDf['Anzahl der Messwerte'] > threshold].index.tolist()\n",
    "#for i in toRemoveImagesIndex:\n",
    "#    print(imagePaths[i])\n",
    "#    os.remove(imagePaths[i])\n",
    "unwantedRows = featuresDf['Anzahl der Messwerte'][featuresDf['Anzahl der Messwerte'] > 23]\n",
    "featuresDf.drop(unwantedRows.index, inplace=True)\n",
    "# Die Inecies müssen zurückgesetzt werden nach den Aufruf von drop. Ansonsten kommte es zu KeyValue Fehlern\n",
    "featuresDf.reset_index(drop=True,inplace=True)"
   ]
  },
  {
   "cell_type": "code",
   "execution_count": 55,
   "metadata": {},
   "outputs": [
    {
     "data": {
      "text/plain": [
       "0        75\n",
       "1        74\n",
       "2        80\n",
       "3        65\n",
       "4        64\n",
       "5        64\n",
       "6        57\n",
       "7        57\n",
       "8        63\n",
       "9        64\n",
       "10       49\n",
       "11       48\n",
       "12       49\n",
       "13       43\n",
       "14       44\n",
       "15       44\n",
       "16       44\n",
       "17       42\n",
       "18       42\n",
       "19       50\n",
       "20       50\n",
       "21       58\n",
       "22       58\n",
       "23       58\n",
       "24       57\n",
       "25       56\n",
       "26       51\n",
       "27       51\n",
       "28       51\n",
       "29       43\n",
       "         ..\n",
       "17548    54\n",
       "17549    57\n",
       "17550    57\n",
       "17551    43\n",
       "17552    42\n",
       "17553    42\n",
       "17554    43\n",
       "17555    43\n",
       "17556    43\n",
       "17557    48\n",
       "17558    47\n",
       "17559    47\n",
       "17560    45\n",
       "17561    44\n",
       "17562    44\n",
       "17563    46\n",
       "17564    45\n",
       "17565    47\n",
       "17566    49\n",
       "17567    49\n",
       "17568    48\n",
       "17569    63\n",
       "17570    64\n",
       "17571    64\n",
       "17572    83\n",
       "17573    84\n",
       "17574    55\n",
       "17575    54\n",
       "17576    68\n",
       "17577    67\n",
       "Name: Anzahl der Messwerte, Length: 12653, dtype: int64"
      ]
     },
     "execution_count": 55,
     "metadata": {},
     "output_type": "execute_result"
    }
   ],
   "source": [
    "featuresDf['Anzahl der Messwerte'][featuresDf['Anzahl der Messwerte'] > 23]"
   ]
  },
  {
   "cell_type": "markdown",
   "metadata": {},
   "source": [
    "Die folgenden Spalten des Datenframes haben als Type ein Python object.   \n",
    "X-Achse Beschleunigungswerte in m/s^2   \n",
    "Y-Achse Beschleunigungswerte in m/s^2   \n",
    "Z-Achse Beschleunigungswerte in m/s^2   \n",
    "Gier Messwerte in rad    \n",
    "Nick Messwerte in rad          \n",
    "Roll Messwerte in rad                   \n",
    "Zeitstempel der Messwerte in ns               \n",
    "Implizit haben diese Spalten als Typ Strings. Aber in einem DataFrame werden Strings als    \n",
    "Python objects erkannt. Um den Datentyp auf float zu casten wird aus den Spalten zunächst ein Liste erstellt.    \n",
    "Welche dann wiederum als Numpy Array auf den Typ float konvertiert wird.   "
   ]
  },
  {
   "cell_type": "code",
   "execution_count": null,
   "metadata": {},
   "outputs": [],
   "source": [
    "featuresDf.info()"
   ]
  },
  {
   "cell_type": "code",
   "execution_count": null,
   "metadata": {
    "ExecuteTime": {
     "end_time": "2018-05-07T13:59:24.066233Z",
     "start_time": "2018-05-07T13:59:23.725729Z"
    }
   },
   "outputs": [],
   "source": [
    "accXList = featuresDf['X-Achse Beschleunigungswerte in m/s^2'].str.split(\" \").tolist()"
   ]
  },
  {
   "cell_type": "code",
   "execution_count": null,
   "metadata": {
    "ExecuteTime": {
     "end_time": "2018-05-07T13:59:27.107144Z",
     "start_time": "2018-05-07T13:59:26.683060Z"
    }
   },
   "outputs": [],
   "source": [
    "# Direkt mit dem Numpy Array ist es nicht möglich die Konvertierung durchzuführen, weil die Arrays von Typ object sind.   \n",
    "pandas.DataFrame(featuresDf['X-Achse Beschleunigungswerte in m/s^2'].str.split(\" \")).values"
   ]
  },
  {
   "cell_type": "code",
   "execution_count": null,
   "metadata": {
    "ExecuteTime": {
     "end_time": "2018-05-07T13:59:28.852447Z",
     "start_time": "2018-05-07T13:59:28.838764Z"
    }
   },
   "outputs": [],
   "source": [
    "accXList[12] # zeige Liste"
   ]
  },
  {
   "cell_type": "code",
   "execution_count": null,
   "metadata": {
    "ExecuteTime": {
     "end_time": "2018-05-07T13:59:31.128939Z",
     "start_time": "2018-05-07T13:59:31.124940Z"
    }
   },
   "outputs": [],
   "source": [
    "np.array(accXList[1]).dtype"
   ]
  },
  {
   "cell_type": "code",
   "execution_count": null,
   "metadata": {
    "ExecuteTime": {
     "end_time": "2018-05-07T13:59:52.863261Z",
     "start_time": "2018-05-07T13:59:32.711490Z"
    }
   },
   "outputs": [],
   "source": [
    "# Konvertiert die Python Objekte in der Liste zu den Type Float.\n",
    "# Das Ergebnis wird in einem Dataframe geschrieben\n",
    "accList = []\n",
    "accList.append(pandas.DataFrame(abs(np.array(accXList[0]).astype(float))).transpose())\n",
    "for x in accXList[1:]:\n",
    "    accList.append(pandas.DataFrame(abs(np.array(x).astype(float))).transpose())"
   ]
  },
  {
   "cell_type": "code",
   "execution_count": null,
   "metadata": {
    "ExecuteTime": {
     "end_time": "2018-05-07T14:13:02.351727Z",
     "start_time": "2018-05-07T14:10:57.612839Z"
    }
   },
   "outputs": [],
   "source": [
    "accXDf = pandas.concat(accList, ignore_index=True)"
   ]
  },
  {
   "cell_type": "code",
   "execution_count": null,
   "metadata": {
    "ExecuteTime": {
     "end_time": "2018-05-07T14:13:26.222504Z",
     "start_time": "2018-05-07T14:13:26.194505Z"
    }
   },
   "outputs": [],
   "source": [
    "accXDf.head()"
   ]
  },
  {
   "cell_type": "code",
   "execution_count": null,
   "metadata": {
    "ExecuteTime": {
     "end_time": "2018-05-07T14:13:33.534234Z",
     "start_time": "2018-05-07T14:13:33.474233Z"
    }
   },
   "outputs": [],
   "source": [
    "# Um mehr Spalten eines Panda DataFrames auszugeben\n",
    "pandas.set_option('display.max_columns', 40)\n",
    "accXDf.T.mean().head(20)"
   ]
  },
  {
   "cell_type": "code",
   "execution_count": null,
   "metadata": {
    "ExecuteTime": {
     "end_time": "2018-05-07T14:13:42.541514Z",
     "start_time": "2018-05-07T14:13:42.537514Z"
    }
   },
   "outputs": [],
   "source": [
    "accXDf.shape"
   ]
  },
  {
   "cell_type": "code",
   "execution_count": 58,
   "metadata": {
    "ExecuteTime": {
     "end_time": "2018-05-07T14:16:18.319231Z",
     "start_time": "2018-05-07T14:13:50.440387Z"
    }
   },
   "outputs": [],
   "source": [
    "accYList = featuresDf['Y-Achse Beschleunigungswerte in m/s^2'].str.split(\" \").tolist()\n",
    "accList = []\n",
    "accList.append(pandas.DataFrame(np.array(accYList[0]).astype(float)).transpose())\n",
    "for x in accYList[1:]:\n",
    "    accList.append(pandas.DataFrame(np.array(x).astype(float)).transpose())\n",
    "accYDf = pandas.concat(accList, ignore_index=True)"
   ]
  },
  {
   "cell_type": "code",
   "execution_count": null,
   "metadata": {
    "ExecuteTime": {
     "end_time": "2018-05-07T14:16:52.137572Z",
     "start_time": "2018-05-07T14:16:52.101572Z"
    }
   },
   "outputs": [],
   "source": [
    "accYDf.info()"
   ]
  },
  {
   "cell_type": "code",
   "execution_count": null,
   "metadata": {
    "ExecuteTime": {
     "end_time": "2018-05-07T14:16:50.142426Z",
     "start_time": "2018-05-07T14:16:47.429Z"
    }
   },
   "outputs": [],
   "source": [
    "accYDf.head()"
   ]
  },
  {
   "cell_type": "code",
   "execution_count": 59,
   "metadata": {
    "ExecuteTime": {
     "end_time": "2018-05-07T14:19:30.721250Z",
     "start_time": "2018-05-07T14:17:00.495400Z"
    }
   },
   "outputs": [],
   "source": [
    "# Konvertiere Beschleunigungssensordaten Z-Achse zu einem DataFrame\n",
    "measuredDataList = featuresDf['Z-Achse Beschleunigungswerte in m/s^2'].str.split(\" \").tolist()\n",
    "accList = []\n",
    "accList.append(pandas.DataFrame(np.array(measuredDataList[0]).astype(float)).transpose())\n",
    "for x in measuredDataList[1:]:\n",
    "    accList.append(pandas.DataFrame(np.array(x).astype(float)).transpose())\n",
    "accZDf = pandas.concat(accList, ignore_index=True)"
   ]
  },
  {
   "cell_type": "code",
   "execution_count": 60,
   "metadata": {
    "ExecuteTime": {
     "end_time": "2018-05-07T14:22:24.186902Z",
     "start_time": "2018-05-07T14:19:54.669698Z"
    }
   },
   "outputs": [],
   "source": [
    "# Konvertiere Nick Messwerte zu DataFrame\n",
    "measuredDataList = featuresDf['Nick Messwerte in rad'].str.split(\" \").tolist()\n",
    "pitchList = []\n",
    "pitchList.append(pandas.DataFrame(np.array(measuredDataList[0]).astype(float)).transpose())\n",
    "for x in measuredDataList[1:]:\n",
    "    pitchList.append(pandas.DataFrame(np.array(x).astype(float)).transpose())\n",
    "nickDf = pandas.concat(pitchList, ignore_index=True)"
   ]
  },
  {
   "cell_type": "code",
   "execution_count": null,
   "metadata": {
    "ExecuteTime": {
     "end_time": "2018-05-07T14:28:50.529277Z",
     "start_time": "2018-05-07T14:26:21.179651Z"
    }
   },
   "outputs": [],
   "source": [
    "# Konvertiere Roll Messwerte zu DataFrame\n",
    "measuredDataList = featuresDf['Roll Messwerte in rad'].str.split(\" \").tolist()\n",
    "rollList = []\n",
    "rollList.append(pandas.DataFrame(abs(np.array(measuredDataList[0]).astype(float))).transpose())\n",
    "for x in measuredDataList[1:]:\n",
    "    rollList.append(pandas.DataFrame(abs(np.array(x).astype(float))).transpose())\n",
    "rollDf = pandas.concat(rollList, ignore_index=True)"
   ]
  },
  {
   "cell_type": "code",
   "execution_count": null,
   "metadata": {
    "ExecuteTime": {
     "end_time": "2018-05-07T14:33:53.610725Z",
     "start_time": "2018-05-07T14:31:23.046118Z"
    }
   },
   "outputs": [],
   "source": [
    "measuredDataList = featuresDf['Gier Messwerte in rad'].str.split(\" \").tolist()\n",
    "azimuthList = []\n",
    "azimuthList.append(pandas.DataFrame(abs(np.array(measuredDataList[0]).astype(float))).transpose())\n",
    "for x in measuredDataList[1:]:\n",
    "    azimuthList.append(pandas.DataFrame(abs(np.array(x).astype(float))).transpose())\n",
    "azimuthDf = pandas.concat(azimuthList, ignore_index=True)"
   ]
  },
  {
   "cell_type": "code",
   "execution_count": 61,
   "metadata": {
    "ExecuteTime": {
     "end_time": "2018-05-07T14:42:30.936001Z",
     "start_time": "2018-05-07T14:40:01.500632Z"
    }
   },
   "outputs": [],
   "source": [
    "measuredDataList = featuresDf['Zeitstempel der Messwerte in ns'].str.split(\" \").tolist()\n",
    "timestampsList = []\n",
    "timestampsList.append(pandas.DataFrame(np.array(measuredDataList[0]).astype(float)).transpose())\n",
    "for x in measuredDataList[1:]:\n",
    "    timestampsList.append(pandas.DataFrame(np.array(x).astype(float)).transpose())\n",
    "sensorTimestampsDf = pandas.concat(timestampsList, ignore_index=True)"
   ]
  },
  {
   "cell_type": "code",
   "execution_count": 62,
   "metadata": {
    "ExecuteTime": {
     "end_time": "2018-05-07T14:49:49.944787Z",
     "start_time": "2018-05-07T14:49:49.679888Z"
    }
   },
   "outputs": [],
   "source": [
    "# Neue Spalten werden erstellt und Mittelwerte zugewiesen\n",
    "#featuresDf['Mittelwert X-Achse Beschleunigung in m/s^2'] = accXDf.T.mean()\n",
    "featuresDf['Mittelwert Y-Achse Beschleunigung in m/s^2'] = accYDf.T.mean()\n",
    "featuresDf['Mittelwert Z-Achse Beschleunigung in m/s^2'] = accZDf.T.mean()\n",
    "featuresDf['Mittelwert Nick in rad'] = nickDf.T.mean()\n",
    "#featuresDf['Mittelwert Roll in rad'] = rollDf.T.mean()"
   ]
  },
  {
   "cell_type": "code",
   "execution_count": 26,
   "metadata": {
    "ExecuteTime": {
     "end_time": "2018-05-07T14:49:56.993478Z",
     "start_time": "2018-05-07T14:49:56.985478Z"
    }
   },
   "outputs": [],
   "source": [
    "#featuresDf['Mittelwert X-Achse Beschleunigung in m/s^2'].head(2)"
   ]
  },
  {
   "cell_type": "code",
   "execution_count": 27,
   "metadata": {
    "ExecuteTime": {
     "end_time": "2018-05-07T14:50:04.635958Z",
     "start_time": "2018-05-07T14:50:04.627960Z"
    },
    "scrolled": true
   },
   "outputs": [
    {
     "data": {
      "text/plain": [
       "Index(['Zeitstempel in Unixzeit', 'Breitengrad', 'Laengengrad',\n",
       "       'Geschwindigkeit in km/h',\n",
       "       'Genauigkeit der Geschwindigkeit speedAccuracyMetersPerSecond',\n",
       "       'Lokations Zeitstempel in Unixzeit',\n",
       "       'Z-Achse Beschleunigungswerte in m/s^2',\n",
       "       'Y-Achse Beschleunigungswerte in m/s^2', 'Nick Messwerte in rad',\n",
       "       'Zeitstempel der Messwerte in ns', 'Anzahl der Messwerte',\n",
       "       'Start des Zeitfensters in ns seit Start der JVM',\n",
       "       'Zeitstempel Messwertdaten anfordern in Unixzeit',\n",
       "       'Start der Messwerterfassung in ns seit Start der JVM',\n",
       "       'Erster Zeitstempel der Teilliste in ns seit Start der JVM',\n",
       "       'Start der Belichtung in ns seit Start der JVM',\n",
       "       'Belichtungszeit in ns',\n",
       "       'Letzter Zeitstempel der Messwerterfassung in ns seit Start der JVM',\n",
       "       'Speicherzeitpunkt der Merkmale in Unixzeit',\n",
       "       'Mittelwert Y-Achse Beschleunigung in m/s^2',\n",
       "       'Mittelwert Z-Achse Beschleunigung in m/s^2', 'Mittelwert Nick in rad',\n",
       "       'Varianz Y-Achse Beschleunigung in m/s^2',\n",
       "       'Varianz Z-Achse Beschleunigung in m/s^2', 'Varianz Nick in rad',\n",
       "       'Standardabweichung Y-Achse Beschleunigung in m/s^2',\n",
       "       'Standardabweichung Z-Achse Beschleunigung in m/s^2',\n",
       "       'Standardabweichung Nick in rad'],\n",
       "      dtype='object')"
      ]
     },
     "execution_count": 27,
     "metadata": {},
     "output_type": "execute_result"
    }
   ],
   "source": [
    "featuresDf.columns"
   ]
  },
  {
   "cell_type": "markdown",
   "metadata": {},
   "source": [
    "Berechnet die Varianz. Dieser Funktion muss als Paramter der Mittelwert (mean) und der DataFrame mit   \n",
    "den Float Werten übergeben werden, um die Varianz zu berechnen. Als Varianz wird der Durchschnitt der quadrierten  \n",
    "Differenzen zum Mittelwert bezeichnet.   \n",
    "Prec.:    \n",
    "Postc.: Gibt die berechnete Variance als Float zurück oder 0 wenn die Anzahl der Werte <= 0  "
   ]
  },
  {
   "cell_type": "code",
   "execution_count": 10,
   "metadata": {
    "ExecuteTime": {
     "end_time": "2018-05-07T14:50:11.704037Z",
     "start_time": "2018-05-07T14:50:11.696038Z"
    }
   },
   "outputs": [],
   "source": [
    "def calcVariance(meansDf, dfValues):\n",
    "    variance = []\n",
    "    for i, values in dfValues.iterrows():\n",
    "        sum = 0\n",
    "        for value in values:\n",
    "            if math.isnan(value) == False:\n",
    "                tempDifference = value-meansDf[i]\n",
    "                sum += tempDifference * tempDifference\n",
    "        variance.append(\"{0:.5f}\".format(round(sum / values.count(),5)))\n",
    "    return np.array(variance).astype(float)"
   ]
  },
  {
   "cell_type": "markdown",
   "metadata": {},
   "source": [
    "Hier wird die Standardabweichung der Varianz berechnet. Dies ist die Wurzel der Varianz.   \n",
    "Für die Berechnung wird der Absolutwert von der Varianz genommen.    \n",
    "Prec.:\n",
    "Postc.:  Standardabweichung wird zurückgegeben."
   ]
  },
  {
   "cell_type": "code",
   "execution_count": 11,
   "metadata": {
    "ExecuteTime": {
     "end_time": "2018-05-07T14:50:17.426578Z",
     "start_time": "2018-05-07T14:50:17.422578Z"
    }
   },
   "outputs": [],
   "source": [
    "def calculateStandardDeviation(varianceDf):\n",
    "    deviation = []\n",
    "    for v in varianceDf:\n",
    "        temp = math.sqrt(np.abs(v))\n",
    "        deviation.append(\"{0:.5f}\".format(round(temp,5)))\n",
    "    return np.array(deviation).astype(float)"
   ]
  },
  {
   "cell_type": "markdown",
   "metadata": {},
   "source": [
    "Die Funktion berechnet die Winkeldifferenz in rad zwischen den ersten gemessenen Gierwinkel und den letzten Gierwinkel   \n",
    "innerhalb einer als Argument übergebenen DataFrames. Der zurückgegebene Radiant    \n",
    "ist immer positiv und gibt die relative änderung in rad an.      \n",
    "Prec.:   \n",
    "Postc.: Radiant berechnet   "
   ]
  },
  {
   "cell_type": "code",
   "execution_count": 12,
   "metadata": {
    "ExecuteTime": {
     "end_time": "2018-05-07T14:50:22.899787Z",
     "start_time": "2018-05-07T14:50:22.891788Z"
    }
   },
   "outputs": [],
   "source": [
    "def calculateAngelChangeAzimuth(azimuthDf):\n",
    "    result = []\n",
    "    for i,values in azimuthDf.iterrows():\n",
    "        first = values[0]*(180/math.pi)\n",
    "        last = values.iloc[values.count()-1]*(180/math.pi)\n",
    "        resultTemp = np.abs(first - last)\n",
    "        if(resultTemp > 180):\n",
    "            resultTemp = 360 - resultTemp\n",
    "        result.append(\"{0:.5f}\".format(round(resultTemp * ( math.pi / 180),5)))\n",
    "    return np.array(result).astype(float)"
   ]
  },
  {
   "cell_type": "code",
   "execution_count": null,
   "metadata": {
    "ExecuteTime": {
     "end_time": "2018-05-07T14:50:41.198418Z",
     "start_time": "2018-05-07T14:50:29.919986Z"
    }
   },
   "outputs": [],
   "source": [
    "featuresDf['Gier-Aenderung in rad'] = calculateAngelChangeAzimuth(azimuthDf)"
   ]
  },
  {
   "cell_type": "code",
   "execution_count": null,
   "metadata": {},
   "outputs": [],
   "source": [
    "accXDf[14957:14961]"
   ]
  },
  {
   "cell_type": "code",
   "execution_count": null,
   "metadata": {},
   "outputs": [],
   "source": [
    "featuresDf['Mittelwert X-Achse Beschleunigung in m/s^2'].iloc[10]"
   ]
  },
  {
   "cell_type": "code",
   "execution_count": 63,
   "metadata": {
    "ExecuteTime": {
     "end_time": "2018-05-07T15:16:03.331865Z",
     "start_time": "2018-05-07T15:15:58.790315Z"
    }
   },
   "outputs": [],
   "source": [
    "# Berechnung der Varianzen und hinzufügen der Ergebnisse als neue Spalte in dem DataFrame \n",
    "#featuresDf['Varianz X-Achse Beschleunigung in m/s^2'] = calcVariance(featuresDf['Mittelwert X-Achse Beschleunigung in m/s^2'],accXDf)\n",
    "featuresDf['Varianz Y-Achse Beschleunigung in m/s^2'] = calcVariance(featuresDf['Mittelwert Y-Achse Beschleunigung in m/s^2'],accYDf)\n",
    "featuresDf['Varianz Z-Achse Beschleunigung in m/s^2'] = calcVariance(featuresDf['Mittelwert Z-Achse Beschleunigung in m/s^2'],accZDf)\n",
    "featuresDf['Varianz Nick in rad'] = calcVariance(featuresDf['Mittelwert Nick in rad'],nickDf)\n",
    "#featuresDf['Varianz Roll in rad'] = calcVariance(featuresDf['Mittelwert Roll in rad'],rollDf)"
   ]
  },
  {
   "cell_type": "code",
   "execution_count": 64,
   "metadata": {
    "ExecuteTime": {
     "end_time": "2018-05-07T13:55:13.929630Z",
     "start_time": "2018-05-07T13:51:59.147Z"
    }
   },
   "outputs": [],
   "source": [
    "# Berechne Standardabweichung\n",
    "#featuresDf['Standardabweichung X-Achse Beschleunigung in m/s^2'] = calculateStandardDeviation(featuresDf['Varianz X-Achse Beschleunigung in m/s^2'])\n",
    "featuresDf['Standardabweichung Y-Achse Beschleunigung in m/s^2'] = calculateStandardDeviation(featuresDf['Varianz Y-Achse Beschleunigung in m/s^2'])\n",
    "featuresDf['Standardabweichung Z-Achse Beschleunigung in m/s^2'] = calculateStandardDeviation(featuresDf['Varianz Z-Achse Beschleunigung in m/s^2'])\n",
    "featuresDf['Standardabweichung Nick in rad'] = calculateStandardDeviation(featuresDf['Varianz Nick in rad'])\n",
    "#featuresDf['Standardabweichung Roll in rad'] = calculateStandardDeviation(featuresDf['Varianz Roll in rad'])"
   ]
  },
  {
   "cell_type": "code",
   "execution_count": 65,
   "metadata": {
    "ExecuteTime": {
     "end_time": "2018-05-07T13:55:13.929630Z",
     "start_time": "2018-05-07T13:52:04.510Z"
    }
   },
   "outputs": [],
   "source": [
    "# Änderungen in CSV Datei schreiben\n",
    "featuresDf.set_index('Zeitstempel in Unixzeit', inplace=True)\n",
    "featuresDf.to_csv('../daten/merkmale_datensatz_'+ dataset + '/merkmale.csv')"
   ]
  },
  {
   "cell_type": "code",
   "execution_count": 66,
   "metadata": {
    "ExecuteTime": {
     "end_time": "2018-05-07T13:55:13.929630Z",
     "start_time": "2018-05-07T13:52:12.294Z"
    }
   },
   "outputs": [],
   "source": [
    "featuresDf = pandas.read_csv(\"../daten/merkmale_datensatz_\" + dataset + \"/merkmale.csv\")"
   ]
  },
  {
   "cell_type": "code",
   "execution_count": 67,
   "metadata": {
    "ExecuteTime": {
     "end_time": "2018-05-07T13:55:13.929630Z",
     "start_time": "2018-05-07T13:52:19.911Z"
    }
   },
   "outputs": [],
   "source": [
    "# Speichert die DatenFrames mit den Messwerten in csv Dateien\n",
    "#accXDf.index.names = [\"index\"]\n",
    "#accXDf.to_csv('../daten/merkmale_datensatz_26_bis_27/absMesswerte/xAchseBeschleunigungswerte.csv')\n",
    "accYDf.index.names = [\"index\"]\n",
    "accYDf.to_csv('../daten/merkmale_datensatz_' + dataset + '/yAchseBeschleunigungswerte.csv')\n",
    "accZDf.index.names = [\"index\"]\n",
    "accZDf.to_csv('../daten/merkmale_datensatz_' + dataset + '/zAchseBeschleunigungswerte.csv')\n",
    "nickDf.index.names = [\"index\"]\n",
    "nickDf.to_csv('../daten/merkmale_datensatz_' + dataset + '/nickMesswerte.csv')\n",
    "#rollDf.index.names = [\"index\"]\n",
    "#rollDf.to_csv('../daten/merkmale_datensatz_26_bis_27/absMesswerte/rollMesswerte.csv')\n",
    "#azimuthDf.index.names = [\"index\"]\n",
    "#azimuthDf.to_csv('../daten/merkmale_datensatz_26_bis_27/absMesswerte/azimuthMesswerte.csv')\n",
    "sensorTimestampsDf.index.names = [\"index\"]\n",
    "sensorTimestampsDf.to_csv('../daten/merkmale_datensatz_' + dataset + '/sensoreventZeitstempel.csv')"
   ]
  },
  {
   "cell_type": "code",
   "execution_count": null,
   "metadata": {
    "ExecuteTime": {
     "end_time": "2018-05-07T13:55:13.929630Z",
     "start_time": "2018-05-07T13:52:23.478Z"
    }
   },
   "outputs": [],
   "source": [
    "# Unittests\n",
    "import unittest\n",
    "\n",
    "class CalcTest(unittest.TestCase):\n",
    "    \n",
    "    \n",
    "    # Testet die Funktion calcVariance mit einem DataFrame mit den Werten [2.0, 2.0]\n",
    "    # Der Mittelwert sollte 2.0 sein\n",
    "    # Das erwartete Ergebnis ist 0.0\n",
    "    def testCalcVariance2(self):\n",
    "        meanL = [2.0]\n",
    "        meanDf = pandas.DataFrame(meanL)\n",
    "        valuesA = [2.0,2.0]\n",
    "        valuesDf = pandas.DataFrame([[2.0]])\n",
    "        npt.assert_almost_equal(calcVariance(meanDf[0],valuesDf), 0.0,2)\n",
    "        \n",
    "    # Testet die Funktion calcVariance mit einem DataFrame mit den folgenden Werten:\n",
    "    # [1.24, 2.5213, 10.434, 42.45, 5.9]\n",
    "    # Der Mittelwert ist 12.508\n",
    "    # Die erwartete Varianz ist 234,247016\n",
    "    def testCalcVariance5(self):\n",
    "        meanDf = pandas.DataFrame([12.508])\n",
    "        valuesDf = pandas.DataFrame([[1.24, 2.52, 10.43, 42.45, 5.9]])\n",
    "        npt.assert_almost_equal(calcVariance(meanDf[0],valuesDf), 234.24702,5)   \n",
    "    \n",
    "    # Testet calcVariance mit 0 Datenwerten   \n",
    "    def testCalcVariance0(self):\n",
    "        meanDf = pandas.DataFrame([0.0])\n",
    "        valuesDf = pandas.DataFrame([[0.0]])\n",
    "        npt.assert_almost_equal(calcVariance(meanDf[0],valuesDf),0.0,2)  \n",
    "        \n",
    "    # Testet calcVariance mit negativen Datenwerten   \n",
    "    def testCalcVarianceNegative(self):\n",
    "        meanDf = pandas.DataFrame([-24.0])\n",
    "        valuesDf = pandas.DataFrame([[-2.0,-24.0,-5.0,7.0]])\n",
    "        npt.assert_almost_equal(calcVariance(meanDf[0],valuesDf),451.5,1) \n",
    "        \n",
    "    # Testet calcVariance mit Muultidimensionalen DataFrame   \n",
    "    def testCalcVarianceMultidim(self):\n",
    "        meanDf = pandas.DataFrame([-24.0,0.0])\n",
    "        valuesDf = pandas.DataFrame([[-2.0,-24.0,-5.0,7.0],[0.0,0.0,0.0,0.0]])\n",
    "        # Hier wird Numpy Test verwendet um das Ergebnis (zwei Arrays) zu vergleichen\n",
    "        npt.assert_array_equal(calcVariance(meanDf[0],valuesDf),np.array([ 451.5,0.0])) \n",
    "        \n",
    "    # Dieser Test testet die Funktion calculateStandardDeviation.\n",
    "    def testCalculateStandardDeviation(self):\n",
    "        varianceDf = pandas.DataFrame([451.5])\n",
    "        npt.assert_almost_equal(calculateStandardDeviation(varianceDf[0]),21.24853,5) \n",
    "        \n",
    "    # Testet die Funktion calculateStandardDeviation.\n",
    "    # Dabei hat das Argument den Wert 0.0.\n",
    "    def testCalculateStandardDeviationZero(self):\n",
    "        varianceDf = pandas.DataFrame([0.0])\n",
    "        npt.assert_almost_equal(calculateStandardDeviation(varianceDf[0]),0.0,2)\n",
    "    \n",
    "    #  Testet die Funktion calculateAngelChangeAzimuth mit zwei gleichen rad Werten\n",
    "    def testCalculateAngelChangeAzimuthEqual(self):\n",
    "        radiants = pandas.DataFrame([[1.0,1.0]])\n",
    "        npt.assert_almost_equal(calculateAngelChangeAzimuth(radiants),0.0,2)\n",
    "    \n",
    "    # Testet ob die Winkeldifferenz korrekt berechnet wurde für \n",
    "    # die Radianten -1.0 und 1.0\n",
    "    def testCalculateAngelChangeAzimuthOne(self):\n",
    "        radiants = pandas.DataFrame([[-1.0,1.0]])\n",
    "        npt.assert_almost_equal(calculateAngelChangeAzimuth(radiants),2.0,2)  \n",
    "        \n",
    "    # Testet ob die Winkeldifferenz korrekt berechnet wurde für \n",
    "    # die Radianten 1.0 und -1.0\n",
    "    def testCalculateAngelChangeAzimuthOne2(self):\n",
    "        radiants = pandas.DataFrame([[1.0,-1.0]])\n",
    "        npt.assert_almost_equal(calculateAngelChangeAzimuth(radiants),2.0,2)  \n",
    "\n",
    "    # Testet die Funktion calculateAngelChangeAzimuthValues mit mehreren Werten\n",
    "    def testCalculateAngelChangeAzimuthValues(self):\n",
    "        radiants = pandas.DataFrame([[-1.57,1.0,2.0,1.3,1.57]])\n",
    "        npt.assert_almost_equal(calculateAngelChangeAzimuth(radiants),3.14,2)\n",
    "        \n",
    "    # Testet ob die Winkeldifferenz korrekt berechnet wurde für \n",
    "    # die Radianten 0.05 und 0.06\n",
    "    def testCalculateAngelChangeAzimuthSmall(self):\n",
    "        radiants = pandas.DataFrame([[0.01,0.02]])\n",
    "        npt.assert_almost_equal(calculateAngelChangeAzimuth(radiants), 0.01,2)  \n",
    "        \n",
    "    # Testet ob die Winkeldifferenz korrekt berechnet wurde mit \n",
    "    # negative Radianten \n",
    "    def testCalculateAngelChangeAzimuthNegativ(self):\n",
    "        radiants = pandas.DataFrame([[-2.9,-2.0,-1.28]])\n",
    "        npt.assert_almost_equal(calculateAngelChangeAzimuth(radiants), 1.62,2) \n",
    "\n",
    "unittest.main(argv=[''], verbosity=2, exit=False)"
   ]
  },
  {
   "cell_type": "code",
   "execution_count": 111,
   "metadata": {},
   "outputs": [
    {
     "data": {
      "text/plain": [
       "2.2395099999999997"
      ]
     },
     "execution_count": 111,
     "metadata": {},
     "output_type": "execute_result"
    }
   ],
   "source": [
    "featuresDf['Standardabweichung Z-Achse Beschleunigung in m/s^2'].iloc[27906-30]"
   ]
  },
  {
   "cell_type": "code",
   "execution_count": 109,
   "metadata": {},
   "outputs": [
    {
     "data": {
      "text/plain": [
       "Zeitstempel in Unixzeit                                                                                   1527877755443\n",
       "Breitengrad                                                                                                     53.6138\n",
       "Laengengrad                                                                                                     10.1379\n",
       "Geschwindigkeit in km/h                                                                                           8.964\n",
       "Z-Achse Beschleunigungswerte in m/s^2                                 3.31214 -1.45266 -0.85647 -6.07319 -1.51277 2....\n",
       "Y-Achse Beschleunigungswerte in m/s^2                                 -5.42426 7.26983 9.74416 4.87022 -6.38916 -2.3...\n",
       "Nick Messwerte in rad                                                 0.3893 -0.75311 -0.81811 -0.79712 0.53538 0.18...\n",
       "Zeitstempel der Messwerte in ns                                       5862970 13858263 21855014 29849734 37840548 45...\n",
       "Anzahl der Messwerte                                                                                                 49\n",
       "Start des Zeitfensters in ns seit Start der JVM                                                          31780608661124\n",
       "Zeitstempel Messwertdaten anfordern in Unixzeit                                                           1527877755538\n",
       "Start der Messwerterfassung in ns seit Start der JVM                                                     31759146306875\n",
       "Erster Zeitstempel der Teilliste in ns seit Start der JVM                                                31780102797478\n",
       "Start der Belichtung in ns seit Start der JVM                                                            31780794466162\n",
       "Belichtungszeit in ns                                                                                          29996324\n",
       "Letzter Zeitstempel der Messwerterfassung in ns seit Start der JVM                                       31781014304940\n",
       "Speicherzeitpunkt der Merkmale in Unixzeit                                                                1527877755564\n",
       "Mittelwert Y-Achse Beschleunigung in m/s^2                                                                      1.30994\n",
       "Mittelwert Z-Achse Beschleunigung in m/s^2                                                                    -0.627145\n",
       "Mittelwert Nick in rad                                                                                        -0.176877\n",
       "Varianz Y-Achse Beschleunigung in m/s^2                                                                         22.6365\n",
       "Varianz Z-Achse Beschleunigung in m/s^2                                                                         36.5324\n",
       "Varianz Nick in rad                                                                                             0.22821\n",
       "Standardabweichung Y-Achse Beschleunigung in m/s^2                                                              4.75778\n",
       "Standardabweichung Z-Achse Beschleunigung in m/s^2                                                               6.0442\n",
       "Standardabweichung Nick in rad                                                                                  0.47771\n",
       "Name: 27875, dtype: object"
      ]
     },
     "execution_count": 109,
     "metadata": {},
     "output_type": "execute_result"
    }
   ],
   "source": [
    "featuresDf.iloc[27906-31]"
   ]
  },
  {
   "cell_type": "code",
   "execution_count": 102,
   "metadata": {},
   "outputs": [
    {
     "ename": "KeyError",
     "evalue": "'[ 0.60104  1.50801  0.7393  ...,  0.81991  0.91911  0.71639] not in index'",
     "output_type": "error",
     "traceback": [
      "\u001b[1;31m---------------------------------------------------------------------------\u001b[0m",
      "\u001b[1;31mKeyError\u001b[0m                                  Traceback (most recent call last)",
      "\u001b[1;32m<ipython-input-102-89381d5a4f84>\u001b[0m in \u001b[0;36m<module>\u001b[1;34m()\u001b[0m\n\u001b[1;32m----> 1\u001b[1;33m \u001b[0mfeaturesDf\u001b[0m\u001b[1;33m[\u001b[0m\u001b[0mfeaturesDf\u001b[0m\u001b[1;33m[\u001b[0m\u001b[1;34m'Standardabweichung Z-Achse Beschleunigung in m/s^2'\u001b[0m\u001b[1;33m]\u001b[0m\u001b[1;33m]\u001b[0m\u001b[1;33m\u001b[0m\u001b[0m\n\u001b[0m",
      "\u001b[1;32m~\\AppData\\Local\\conda\\conda\\envs\\bachelor\\lib\\site-packages\\pandas\\core\\frame.py\u001b[0m in \u001b[0;36m__getitem__\u001b[1;34m(self, key)\u001b[0m\n\u001b[0;32m   2131\u001b[0m         \u001b[1;32mif\u001b[0m \u001b[0misinstance\u001b[0m\u001b[1;33m(\u001b[0m\u001b[0mkey\u001b[0m\u001b[1;33m,\u001b[0m \u001b[1;33m(\u001b[0m\u001b[0mSeries\u001b[0m\u001b[1;33m,\u001b[0m \u001b[0mnp\u001b[0m\u001b[1;33m.\u001b[0m\u001b[0mndarray\u001b[0m\u001b[1;33m,\u001b[0m \u001b[0mIndex\u001b[0m\u001b[1;33m,\u001b[0m \u001b[0mlist\u001b[0m\u001b[1;33m)\u001b[0m\u001b[1;33m)\u001b[0m\u001b[1;33m:\u001b[0m\u001b[1;33m\u001b[0m\u001b[0m\n\u001b[0;32m   2132\u001b[0m             \u001b[1;31m# either boolean or fancy integer index\u001b[0m\u001b[1;33m\u001b[0m\u001b[1;33m\u001b[0m\u001b[0m\n\u001b[1;32m-> 2133\u001b[1;33m             \u001b[1;32mreturn\u001b[0m \u001b[0mself\u001b[0m\u001b[1;33m.\u001b[0m\u001b[0m_getitem_array\u001b[0m\u001b[1;33m(\u001b[0m\u001b[0mkey\u001b[0m\u001b[1;33m)\u001b[0m\u001b[1;33m\u001b[0m\u001b[0m\n\u001b[0m\u001b[0;32m   2134\u001b[0m         \u001b[1;32melif\u001b[0m \u001b[0misinstance\u001b[0m\u001b[1;33m(\u001b[0m\u001b[0mkey\u001b[0m\u001b[1;33m,\u001b[0m \u001b[0mDataFrame\u001b[0m\u001b[1;33m)\u001b[0m\u001b[1;33m:\u001b[0m\u001b[1;33m\u001b[0m\u001b[0m\n\u001b[0;32m   2135\u001b[0m             \u001b[1;32mreturn\u001b[0m \u001b[0mself\u001b[0m\u001b[1;33m.\u001b[0m\u001b[0m_getitem_frame\u001b[0m\u001b[1;33m(\u001b[0m\u001b[0mkey\u001b[0m\u001b[1;33m)\u001b[0m\u001b[1;33m\u001b[0m\u001b[0m\n",
      "\u001b[1;32m~\\AppData\\Local\\conda\\conda\\envs\\bachelor\\lib\\site-packages\\pandas\\core\\frame.py\u001b[0m in \u001b[0;36m_getitem_array\u001b[1;34m(self, key)\u001b[0m\n\u001b[0;32m   2175\u001b[0m             \u001b[1;32mreturn\u001b[0m \u001b[0mself\u001b[0m\u001b[1;33m.\u001b[0m\u001b[0m_take\u001b[0m\u001b[1;33m(\u001b[0m\u001b[0mindexer\u001b[0m\u001b[1;33m,\u001b[0m \u001b[0maxis\u001b[0m\u001b[1;33m=\u001b[0m\u001b[1;36m0\u001b[0m\u001b[1;33m,\u001b[0m \u001b[0mconvert\u001b[0m\u001b[1;33m=\u001b[0m\u001b[1;32mFalse\u001b[0m\u001b[1;33m)\u001b[0m\u001b[1;33m\u001b[0m\u001b[0m\n\u001b[0;32m   2176\u001b[0m         \u001b[1;32melse\u001b[0m\u001b[1;33m:\u001b[0m\u001b[1;33m\u001b[0m\u001b[0m\n\u001b[1;32m-> 2177\u001b[1;33m             \u001b[0mindexer\u001b[0m \u001b[1;33m=\u001b[0m \u001b[0mself\u001b[0m\u001b[1;33m.\u001b[0m\u001b[0mloc\u001b[0m\u001b[1;33m.\u001b[0m\u001b[0m_convert_to_indexer\u001b[0m\u001b[1;33m(\u001b[0m\u001b[0mkey\u001b[0m\u001b[1;33m,\u001b[0m \u001b[0maxis\u001b[0m\u001b[1;33m=\u001b[0m\u001b[1;36m1\u001b[0m\u001b[1;33m)\u001b[0m\u001b[1;33m\u001b[0m\u001b[0m\n\u001b[0m\u001b[0;32m   2178\u001b[0m             \u001b[1;32mreturn\u001b[0m \u001b[0mself\u001b[0m\u001b[1;33m.\u001b[0m\u001b[0m_take\u001b[0m\u001b[1;33m(\u001b[0m\u001b[0mindexer\u001b[0m\u001b[1;33m,\u001b[0m \u001b[0maxis\u001b[0m\u001b[1;33m=\u001b[0m\u001b[1;36m1\u001b[0m\u001b[1;33m,\u001b[0m \u001b[0mconvert\u001b[0m\u001b[1;33m=\u001b[0m\u001b[1;32mTrue\u001b[0m\u001b[1;33m)\u001b[0m\u001b[1;33m\u001b[0m\u001b[0m\n\u001b[0;32m   2179\u001b[0m \u001b[1;33m\u001b[0m\u001b[0m\n",
      "\u001b[1;32m~\\AppData\\Local\\conda\\conda\\envs\\bachelor\\lib\\site-packages\\pandas\\core\\indexing.py\u001b[0m in \u001b[0;36m_convert_to_indexer\u001b[1;34m(self, obj, axis, is_setter)\u001b[0m\n\u001b[0;32m   1267\u001b[0m                 \u001b[1;32mif\u001b[0m \u001b[0mmask\u001b[0m\u001b[1;33m.\u001b[0m\u001b[0many\u001b[0m\u001b[1;33m(\u001b[0m\u001b[1;33m)\u001b[0m\u001b[1;33m:\u001b[0m\u001b[1;33m\u001b[0m\u001b[0m\n\u001b[0;32m   1268\u001b[0m                     raise KeyError('{mask} not in index'\n\u001b[1;32m-> 1269\u001b[1;33m                                    .format(mask=objarr[mask]))\n\u001b[0m\u001b[0;32m   1270\u001b[0m \u001b[1;33m\u001b[0m\u001b[0m\n\u001b[0;32m   1271\u001b[0m                 \u001b[1;32mreturn\u001b[0m \u001b[0m_values_from_object\u001b[0m\u001b[1;33m(\u001b[0m\u001b[0mindexer\u001b[0m\u001b[1;33m)\u001b[0m\u001b[1;33m\u001b[0m\u001b[0m\n",
      "\u001b[1;31mKeyError\u001b[0m: '[ 0.60104  1.50801  0.7393  ...,  0.81991  0.91911  0.71639] not in index'"
     ]
    }
   ],
   "source": [
    "featuresDf[featuresDf['Standardabweichung Z-Achse Beschleunigung in m/s^2']]"
   ]
  },
  {
   "cell_type": "code",
   "execution_count": 57,
   "metadata": {},
   "outputs": [
    {
     "data": {
      "text/html": [
       "<div>\n",
       "<style scoped>\n",
       "    .dataframe tbody tr th:only-of-type {\n",
       "        vertical-align: middle;\n",
       "    }\n",
       "\n",
       "    .dataframe tbody tr th {\n",
       "        vertical-align: top;\n",
       "    }\n",
       "\n",
       "    .dataframe thead th {\n",
       "        text-align: right;\n",
       "    }\n",
       "</style>\n",
       "<table border=\"1\" class=\"dataframe\">\n",
       "  <thead>\n",
       "    <tr style=\"text-align: right;\">\n",
       "      <th></th>\n",
       "      <th>Breitengrad</th>\n",
       "      <th>Laengengrad</th>\n",
       "      <th>Geschwindigkeit in km/h</th>\n",
       "      <th>Z-Achse Beschleunigungswerte in m/s^2</th>\n",
       "      <th>Y-Achse Beschleunigungswerte in m/s^2</th>\n",
       "      <th>Nick Messwerte in rad</th>\n",
       "      <th>Zeitstempel der Messwerte in ns</th>\n",
       "      <th>Anzahl der Messwerte</th>\n",
       "      <th>Start des Zeitfensters in ns seit Start der JVM</th>\n",
       "      <th>Zeitstempel Messwertdaten anfordern in Unixzeit</th>\n",
       "      <th>...</th>\n",
       "      <th>Speicherzeitpunkt der Merkmale in Unixzeit</th>\n",
       "      <th>Mittelwert Y-Achse Beschleunigung in m/s^2</th>\n",
       "      <th>Mittelwert Z-Achse Beschleunigung in m/s^2</th>\n",
       "      <th>Mittelwert Nick in rad</th>\n",
       "      <th>Varianz Y-Achse Beschleunigung in m/s^2</th>\n",
       "      <th>Varianz Z-Achse Beschleunigung in m/s^2</th>\n",
       "      <th>Varianz Nick in rad</th>\n",
       "      <th>Standardabweichung Y-Achse Beschleunigung in m/s^2</th>\n",
       "      <th>Standardabweichung Z-Achse Beschleunigung in m/s^2</th>\n",
       "      <th>Standardabweichung Nick in rad</th>\n",
       "    </tr>\n",
       "    <tr>\n",
       "      <th>Zeitstempel in Unixzeit</th>\n",
       "      <th></th>\n",
       "      <th></th>\n",
       "      <th></th>\n",
       "      <th></th>\n",
       "      <th></th>\n",
       "      <th></th>\n",
       "      <th></th>\n",
       "      <th></th>\n",
       "      <th></th>\n",
       "      <th></th>\n",
       "      <th></th>\n",
       "      <th></th>\n",
       "      <th></th>\n",
       "      <th></th>\n",
       "      <th></th>\n",
       "      <th></th>\n",
       "      <th></th>\n",
       "      <th></th>\n",
       "      <th></th>\n",
       "      <th></th>\n",
       "      <th></th>\n",
       "    </tr>\n",
       "  </thead>\n",
       "  <tbody>\n",
       "    <tr>\n",
       "      <th>1527871509062</th>\n",
       "      <td>53.626556</td>\n",
       "      <td>10.027216</td>\n",
       "      <td>5.004</td>\n",
       "      <td>-3.03752 -2.72623 0.6619 0.2198 1.09744 1.9162...</td>\n",
       "      <td>3.73035 4.11822 0.84982 -0.4632 0.56443 0.4897...</td>\n",
       "      <td>-0.50581 -0.51976 -0.05175 0.083 -0.02236 -0.0...</td>\n",
       "      <td>2489033 10482763 18476493 26473818 34470100 42...</td>\n",
       "      <td>89</td>\n",
       "      <td>25534077246068</td>\n",
       "      <td>1527871509328</td>\n",
       "      <td>...</td>\n",
       "      <td>1527871509364</td>\n",
       "      <td>0.061497</td>\n",
       "      <td>-0.167370</td>\n",
       "      <td>-0.032344</td>\n",
       "      <td>8.38072</td>\n",
       "      <td>10.71274</td>\n",
       "      <td>0.10781</td>\n",
       "      <td>2.89495</td>\n",
       "      <td>3.27303</td>\n",
       "      <td>0.32834</td>\n",
       "    </tr>\n",
       "    <tr>\n",
       "      <th>1527871509569</th>\n",
       "      <td>53.626556</td>\n",
       "      <td>10.027216</td>\n",
       "      <td>5.004</td>\n",
       "      <td>1.47978 2.69973 1.62354 -0.38691 -4.11345 -5.4...</td>\n",
       "      <td>-0.28844 1.13599 1.98382 1.80012 3.5326 4.6945...</td>\n",
       "      <td>0.04344 -0.07728 -0.16167 -0.18855 -0.59838 -0...</td>\n",
       "      <td>5112656 13097064 21099284 29096243 37097787 45...</td>\n",
       "      <td>89</td>\n",
       "      <td>25534578345068</td>\n",
       "      <td>1527871509829</td>\n",
       "      <td>...</td>\n",
       "      <td>1527871509871</td>\n",
       "      <td>-0.246005</td>\n",
       "      <td>-0.113654</td>\n",
       "      <td>-0.077562</td>\n",
       "      <td>19.09061</td>\n",
       "      <td>39.84095</td>\n",
       "      <td>0.26680</td>\n",
       "      <td>4.36928</td>\n",
       "      <td>6.31197</td>\n",
       "      <td>0.51653</td>\n",
       "    </tr>\n",
       "    <tr>\n",
       "      <th>1527873740791</th>\n",
       "      <td>53.665268</td>\n",
       "      <td>10.078330</td>\n",
       "      <td>5.004</td>\n",
       "      <td>-0.35468 0.04737 1.06002 -0.52924 -0.52854 -1....</td>\n",
       "      <td>-1.38725 -0.87037 -1.21106 2.08359 2.0813 0.22...</td>\n",
       "      <td>0.09876 0.03931 0.0708 -0.29171 -0.29171 0.124...</td>\n",
       "      <td>983367 8989128 16982545 24980703 32965997 4097...</td>\n",
       "      <td>89</td>\n",
       "      <td>27765788139068</td>\n",
       "      <td>1527873741034</td>\n",
       "      <td>...</td>\n",
       "      <td>1527873741067</td>\n",
       "      <td>-0.228638</td>\n",
       "      <td>0.070269</td>\n",
       "      <td>-0.050675</td>\n",
       "      <td>2.56126</td>\n",
       "      <td>3.89771</td>\n",
       "      <td>0.02285</td>\n",
       "      <td>1.60039</td>\n",
       "      <td>1.97426</td>\n",
       "      <td>0.15116</td>\n",
       "    </tr>\n",
       "  </tbody>\n",
       "</table>\n",
       "<p>3 rows × 25 columns</p>\n",
       "</div>"
      ],
      "text/plain": [
       "                         Breitengrad  Laengengrad  Geschwindigkeit in km/h  \\\n",
       "Zeitstempel in Unixzeit                                                      \n",
       "1527871509062              53.626556    10.027216                    5.004   \n",
       "1527871509569              53.626556    10.027216                    5.004   \n",
       "1527873740791              53.665268    10.078330                    5.004   \n",
       "\n",
       "                                     Z-Achse Beschleunigungswerte in m/s^2  \\\n",
       "Zeitstempel in Unixzeit                                                      \n",
       "1527871509062            -3.03752 -2.72623 0.6619 0.2198 1.09744 1.9162...   \n",
       "1527871509569            1.47978 2.69973 1.62354 -0.38691 -4.11345 -5.4...   \n",
       "1527873740791            -0.35468 0.04737 1.06002 -0.52924 -0.52854 -1....   \n",
       "\n",
       "                                     Y-Achse Beschleunigungswerte in m/s^2  \\\n",
       "Zeitstempel in Unixzeit                                                      \n",
       "1527871509062            3.73035 4.11822 0.84982 -0.4632 0.56443 0.4897...   \n",
       "1527871509569            -0.28844 1.13599 1.98382 1.80012 3.5326 4.6945...   \n",
       "1527873740791            -1.38725 -0.87037 -1.21106 2.08359 2.0813 0.22...   \n",
       "\n",
       "                                                     Nick Messwerte in rad  \\\n",
       "Zeitstempel in Unixzeit                                                      \n",
       "1527871509062            -0.50581 -0.51976 -0.05175 0.083 -0.02236 -0.0...   \n",
       "1527871509569            0.04344 -0.07728 -0.16167 -0.18855 -0.59838 -0...   \n",
       "1527873740791            0.09876 0.03931 0.0708 -0.29171 -0.29171 0.124...   \n",
       "\n",
       "                                           Zeitstempel der Messwerte in ns  \\\n",
       "Zeitstempel in Unixzeit                                                      \n",
       "1527871509062            2489033 10482763 18476493 26473818 34470100 42...   \n",
       "1527871509569            5112656 13097064 21099284 29096243 37097787 45...   \n",
       "1527873740791            983367 8989128 16982545 24980703 32965997 4097...   \n",
       "\n",
       "                         Anzahl der Messwerte  \\\n",
       "Zeitstempel in Unixzeit                         \n",
       "1527871509062                              89   \n",
       "1527871509569                              89   \n",
       "1527873740791                              89   \n",
       "\n",
       "                         Start des Zeitfensters in ns seit Start der JVM  \\\n",
       "Zeitstempel in Unixzeit                                                    \n",
       "1527871509062                                             25534077246068   \n",
       "1527871509569                                             25534578345068   \n",
       "1527873740791                                             27765788139068   \n",
       "\n",
       "                         Zeitstempel Messwertdaten anfordern in Unixzeit  \\\n",
       "Zeitstempel in Unixzeit                                                    \n",
       "1527871509062                                              1527871509328   \n",
       "1527871509569                                              1527871509829   \n",
       "1527873740791                                              1527873741034   \n",
       "\n",
       "                                      ...                \\\n",
       "Zeitstempel in Unixzeit               ...                 \n",
       "1527871509062                         ...                 \n",
       "1527871509569                         ...                 \n",
       "1527873740791                         ...                 \n",
       "\n",
       "                         Speicherzeitpunkt der Merkmale in Unixzeit  \\\n",
       "Zeitstempel in Unixzeit                                               \n",
       "1527871509062                                         1527871509364   \n",
       "1527871509569                                         1527871509871   \n",
       "1527873740791                                         1527873741067   \n",
       "\n",
       "                         Mittelwert Y-Achse Beschleunigung in m/s^2  \\\n",
       "Zeitstempel in Unixzeit                                               \n",
       "1527871509062                                              0.061497   \n",
       "1527871509569                                             -0.246005   \n",
       "1527873740791                                             -0.228638   \n",
       "\n",
       "                         Mittelwert Z-Achse Beschleunigung in m/s^2  \\\n",
       "Zeitstempel in Unixzeit                                               \n",
       "1527871509062                                             -0.167370   \n",
       "1527871509569                                             -0.113654   \n",
       "1527873740791                                              0.070269   \n",
       "\n",
       "                         Mittelwert Nick in rad  \\\n",
       "Zeitstempel in Unixzeit                           \n",
       "1527871509062                         -0.032344   \n",
       "1527871509569                         -0.077562   \n",
       "1527873740791                         -0.050675   \n",
       "\n",
       "                         Varianz Y-Achse Beschleunigung in m/s^2  \\\n",
       "Zeitstempel in Unixzeit                                            \n",
       "1527871509062                                            8.38072   \n",
       "1527871509569                                           19.09061   \n",
       "1527873740791                                            2.56126   \n",
       "\n",
       "                         Varianz Z-Achse Beschleunigung in m/s^2  \\\n",
       "Zeitstempel in Unixzeit                                            \n",
       "1527871509062                                           10.71274   \n",
       "1527871509569                                           39.84095   \n",
       "1527873740791                                            3.89771   \n",
       "\n",
       "                         Varianz Nick in rad  \\\n",
       "Zeitstempel in Unixzeit                        \n",
       "1527871509062                        0.10781   \n",
       "1527871509569                        0.26680   \n",
       "1527873740791                        0.02285   \n",
       "\n",
       "                         Standardabweichung Y-Achse Beschleunigung in m/s^2  \\\n",
       "Zeitstempel in Unixzeit                                                       \n",
       "1527871509062                                                      2.89495    \n",
       "1527871509569                                                      4.36928    \n",
       "1527873740791                                                      1.60039    \n",
       "\n",
       "                         Standardabweichung Z-Achse Beschleunigung in m/s^2  \\\n",
       "Zeitstempel in Unixzeit                                                       \n",
       "1527871509062                                                      3.27303    \n",
       "1527871509569                                                      6.31197    \n",
       "1527873740791                                                      1.97426    \n",
       "\n",
       "                         Standardabweichung Nick in rad  \n",
       "Zeitstempel in Unixzeit                                  \n",
       "1527871509062                                   0.32834  \n",
       "1527871509569                                   0.51653  \n",
       "1527873740791                                   0.15116  \n",
       "\n",
       "[3 rows x 25 columns]"
      ]
     },
     "execution_count": 57,
     "metadata": {},
     "output_type": "execute_result"
    }
   ],
   "source": [
    "featuresDf[featuresDf['Anzahl der Messwerte'] == featuresDf['Anzahl der Messwerte'].max()]"
   ]
  },
  {
   "cell_type": "code",
   "execution_count": null,
   "metadata": {},
   "outputs": [],
   "source": []
  }
 ],
 "metadata": {
  "kernelspec": {
   "display_name": "Python 3",
   "language": "python",
   "name": "python3"
  },
  "language_info": {
   "codemirror_mode": {
    "name": "ipython",
    "version": 3
   },
   "file_extension": ".py",
   "mimetype": "text/x-python",
   "name": "python",
   "nbconvert_exporter": "python",
   "pygments_lexer": "ipython3",
   "version": "3.6.4"
  },
  "latex_envs": {
   "LaTeX_envs_menu_present": true,
   "autocomplete": true,
   "bibliofile": "biblio.bib",
   "cite_by": "apalike",
   "current_citInitial": 1,
   "eqLabelWithNumbers": true,
   "eqNumInitial": 1,
   "hotkeys": {
    "equation": "Ctrl-E",
    "itemize": "Ctrl-I"
   },
   "labels_anchors": false,
   "latex_user_defs": false,
   "report_style_numbering": false,
   "user_envs_cfg": false
  },
  "toc": {
   "base_numbering": 1,
   "colors": {
    "hover_highlight": "#DAA520",
    "navigate_num": "#000000",
    "navigate_text": "#333333",
    "running_highlight": "#FF0000",
    "selected_highlight": "#FFD700",
    "sidebar_border": "#EEEEEE",
    "wrapper_background": "#FFFFFF"
   },
   "moveMenuLeft": true,
   "nav_menu": {
    "height": "31px",
    "width": "252px"
   },
   "navigate_menu": true,
   "number_sections": true,
   "sideBar": true,
   "skip_h1_title": false,
   "threshold": 4,
   "title_cell": "Table of Contents",
   "title_sidebar": "Contents",
   "toc_cell": false,
   "toc_position": {},
   "toc_section_display": "block",
   "toc_window_display": false,
   "widenNotebook": false
  },
  "varInspector": {
   "cols": {
    "lenName": 16,
    "lenType": 16,
    "lenVar": 40
   },
   "kernels_config": {
    "python": {
     "delete_cmd_postfix": "",
     "delete_cmd_prefix": "del ",
     "library": "var_list.py",
     "varRefreshCmd": "print(var_dic_list())"
    },
    "r": {
     "delete_cmd_postfix": ") ",
     "delete_cmd_prefix": "rm(",
     "library": "var_list.r",
     "varRefreshCmd": "cat(var_dic_list()) "
    }
   },
   "types_to_exclude": [
    "module",
    "function",
    "builtin_function_or_method",
    "instance",
    "_Feature"
   ],
   "window_display": false
  }
 },
 "nbformat": 4,
 "nbformat_minor": 2
}
