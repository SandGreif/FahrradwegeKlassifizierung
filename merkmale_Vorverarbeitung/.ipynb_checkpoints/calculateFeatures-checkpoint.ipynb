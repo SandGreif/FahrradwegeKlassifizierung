{
 "cells": [
  {
   "cell_type": "markdown",
   "metadata": {
    "collapsed": true
   },
   "source": [
    "## Berechnungen von Merkmalen\n",
    "\n",
    "In diesem Notebook ist es möglich den Mittelwert, Varianz und Standardabweichung für die aufgenommenen Messwerte aus der Datei \"merkmaleRoh.csv\" der Android TM Fahrradwege Monitoring App zu berechnen. Zu einem Bild werden parallel Messwerte erfasst von dem Beschleunigungssensor und Magnetsensor des Smartphones, innerhalb eines Zeitfenster mit einer Länge von 80ms (siehe hierzu auch das Notebook \"gatheringSequence\" in dem Ordner datenvisualisierung). Bei dem Beschleunigungssensor sind dies die Messwerte der beschleunigung von den 3-Achsen X, Y sowie Z (Abb. 1). Des Weiteren werden die Gier-Nick-Roll Winkel in rad in einem Zeitfenster erfasst. Für die Berechnung des Mittelwerts, Varianz und Standardabweichung über die Messwerte wird die Form der abgespeicherten Messwerte geändert, weil diese als Python Objekte verwaltet werden mit welchen nicht gerechnet werden kann. Zu den Messwertreihen wird jeweils eine CSV Datei erstellt. Eine Reihe stellt dann in dieser Datei eine Messreihe zu einem Zeitfenster dar. Bei der ausführung dieses Notebooks werden deshalb zusätzlich folgende CSV Dateien erstellt:\n",
    "   \n",
    "Y-Achse Beschleunigungswerte in m/s^2  \n",
    "Z-Achse Beschleunigungswerte in m/s^2    \n",
    "Nick Messwerte in rad    \n",
    "Zeitstempel der Messwerte in ns  \n",
    "\n",
    "<img src=\"../daten/abbildungen/sensorOrientierung.png\" alt=\"Android Smartphone Sensor Orientierung\" width=\"200px\" />\n",
    "Abbildung 1: 3-Achsen Smartphone Sensor-Koordinatensystem   \n",
    "Quelle: siehe Bildverzeichnis Abb. 2 in der README.md Datei"
   ]
  },
  {
   "cell_type": "code",
   "execution_count": 3,
   "metadata": {
    "ExecuteTime": {
     "end_time": "2018-05-07T13:58:55.784445Z",
     "start_time": "2018-05-07T13:58:55.298871Z"
    }
   },
   "outputs": [],
   "source": [
    "import pandas\n",
    "import numpy as np\n",
    "import numpy.testing as npt\n",
    "import math\n",
    "import os"
   ]
  },
  {
   "cell_type": "code",
   "execution_count": 41,
   "metadata": {},
   "outputs": [],
   "source": [
    "dataset = '46'"
   ]
  },
  {
   "cell_type": "code",
   "execution_count": 42,
   "metadata": {
    "ExecuteTime": {
     "end_time": "2018-05-07T13:58:57.726814Z",
     "start_time": "2018-05-07T13:58:55.864375Z"
    }
   },
   "outputs": [
    {
     "data": {
      "text/html": [
       "<div>\n",
       "<style scoped>\n",
       "    .dataframe tbody tr th:only-of-type {\n",
       "        vertical-align: middle;\n",
       "    }\n",
       "\n",
       "    .dataframe tbody tr th {\n",
       "        vertical-align: top;\n",
       "    }\n",
       "\n",
       "    .dataframe thead th {\n",
       "        text-align: right;\n",
       "    }\n",
       "</style>\n",
       "<table border=\"1\" class=\"dataframe\">\n",
       "  <thead>\n",
       "    <tr style=\"text-align: right;\">\n",
       "      <th></th>\n",
       "      <th>Zeitstempel in Unixzeit</th>\n",
       "      <th>Breitengrad</th>\n",
       "      <th>Laengengrad</th>\n",
       "      <th>Geschwindigkeit in km/h</th>\n",
       "      <th>Genauigkeit der Geschwindigkeit speedAccuracyMetersPerSecond</th>\n",
       "      <th>Lokations Zeitstempel in Unixzeit</th>\n",
       "      <th>Anzahl der Messwerte</th>\n",
       "      <th>Start des Zeitfensters in ns seit Start der JVM</th>\n",
       "      <th>Zeitstempel Messwertdaten anfordern in Unixzeit</th>\n",
       "      <th>Start der Messwerterfassung in ns seit Start der JVM</th>\n",
       "      <th>Erster Zeitstempel der Teilliste in ns seit Start der JVM</th>\n",
       "      <th>Start der Belichtung in ns seit Start der JVM</th>\n",
       "      <th>Belichtungszeit in ns</th>\n",
       "      <th>Letzter Zeitstempel der Messwerterfassung in ns seit Start der JVM</th>\n",
       "      <th>Speicherzeitpunkt der Merkmale in Unixzeit</th>\n",
       "    </tr>\n",
       "  </thead>\n",
       "  <tbody>\n",
       "    <tr>\n",
       "      <th>count</th>\n",
       "      <td>2.013700e+04</td>\n",
       "      <td>20137.000000</td>\n",
       "      <td>20137.000000</td>\n",
       "      <td>20137.000000</td>\n",
       "      <td>20137.000000</td>\n",
       "      <td>2.013700e+04</td>\n",
       "      <td>20137.000000</td>\n",
       "      <td>2.013700e+04</td>\n",
       "      <td>2.013700e+04</td>\n",
       "      <td>2.013700e+04</td>\n",
       "      <td>2.013700e+04</td>\n",
       "      <td>2.013700e+04</td>\n",
       "      <td>2.013700e+04</td>\n",
       "      <td>2.013700e+04</td>\n",
       "      <td>2.013700e+04</td>\n",
       "    </tr>\n",
       "    <tr>\n",
       "      <th>mean</th>\n",
       "      <td>1.529160e+12</td>\n",
       "      <td>53.617407</td>\n",
       "      <td>10.191476</td>\n",
       "      <td>14.874093</td>\n",
       "      <td>0.582935</td>\n",
       "      <td>1.529160e+12</td>\n",
       "      <td>30.680340</td>\n",
       "      <td>1.084998e+13</td>\n",
       "      <td>1.529160e+12</td>\n",
       "      <td>1.082567e+13</td>\n",
       "      <td>1.084943e+13</td>\n",
       "      <td>1.085011e+13</td>\n",
       "      <td>8.791761e+06</td>\n",
       "      <td>1.085024e+13</td>\n",
       "      <td>1.529160e+12</td>\n",
       "    </tr>\n",
       "    <tr>\n",
       "      <th>std</th>\n",
       "      <td>1.915458e+06</td>\n",
       "      <td>0.004111</td>\n",
       "      <td>0.016505</td>\n",
       "      <td>3.370986</td>\n",
       "      <td>0.293692</td>\n",
       "      <td>1.915462e+06</td>\n",
       "      <td>9.045616</td>\n",
       "      <td>1.913003e+12</td>\n",
       "      <td>1.915453e+06</td>\n",
       "      <td>1.913983e+12</td>\n",
       "      <td>1.913013e+12</td>\n",
       "      <td>1.912997e+12</td>\n",
       "      <td>8.670301e+06</td>\n",
       "      <td>1.912992e+12</td>\n",
       "      <td>1.915452e+06</td>\n",
       "    </tr>\n",
       "    <tr>\n",
       "      <th>min</th>\n",
       "      <td>1.529157e+12</td>\n",
       "      <td>53.610397</td>\n",
       "      <td>10.161971</td>\n",
       "      <td>5.004000</td>\n",
       "      <td>0.086023</td>\n",
       "      <td>1.529157e+12</td>\n",
       "      <td>15.000000</td>\n",
       "      <td>7.465020e+12</td>\n",
       "      <td>1.529157e+12</td>\n",
       "      <td>7.464993e+12</td>\n",
       "      <td>7.464993e+12</td>\n",
       "      <td>7.465335e+12</td>\n",
       "      <td>1.305387e+06</td>\n",
       "      <td>7.465697e+12</td>\n",
       "      <td>1.529157e+12</td>\n",
       "    </tr>\n",
       "    <tr>\n",
       "      <th>25%</th>\n",
       "      <td>1.529158e+12</td>\n",
       "      <td>53.614155</td>\n",
       "      <td>10.179330</td>\n",
       "      <td>12.744000</td>\n",
       "      <td>0.403609</td>\n",
       "      <td>1.529158e+12</td>\n",
       "      <td>25.000000</td>\n",
       "      <td>9.163290e+12</td>\n",
       "      <td>1.529158e+12</td>\n",
       "      <td>9.153857e+12</td>\n",
       "      <td>9.162772e+12</td>\n",
       "      <td>9.163359e+12</td>\n",
       "      <td>3.263467e+06</td>\n",
       "      <td>9.163467e+12</td>\n",
       "      <td>1.529158e+12</td>\n",
       "    </tr>\n",
       "    <tr>\n",
       "      <th>50%</th>\n",
       "      <td>1.529160e+12</td>\n",
       "      <td>53.616990</td>\n",
       "      <td>10.189738</td>\n",
       "      <td>14.940000</td>\n",
       "      <td>0.524023</td>\n",
       "      <td>1.529160e+12</td>\n",
       "      <td>28.000000</td>\n",
       "      <td>1.085768e+13</td>\n",
       "      <td>1.529160e+12</td>\n",
       "      <td>1.083186e+13</td>\n",
       "      <td>1.085707e+13</td>\n",
       "      <td>1.085776e+13</td>\n",
       "      <td>5.037691e+06</td>\n",
       "      <td>1.085789e+13</td>\n",
       "      <td>1.529160e+12</td>\n",
       "    </tr>\n",
       "    <tr>\n",
       "      <th>75%</th>\n",
       "      <td>1.529162e+12</td>\n",
       "      <td>53.620953</td>\n",
       "      <td>10.204349</td>\n",
       "      <td>17.100000</td>\n",
       "      <td>0.722011</td>\n",
       "      <td>1.529162e+12</td>\n",
       "      <td>34.000000</td>\n",
       "      <td>1.249798e+13</td>\n",
       "      <td>1.529162e+12</td>\n",
       "      <td>1.249720e+13</td>\n",
       "      <td>1.249747e+13</td>\n",
       "      <td>1.249809e+13</td>\n",
       "      <td>1.000184e+07</td>\n",
       "      <td>1.249820e+13</td>\n",
       "      <td>1.529162e+12</td>\n",
       "    </tr>\n",
       "    <tr>\n",
       "      <th>max</th>\n",
       "      <td>1.529163e+12</td>\n",
       "      <td>53.625160</td>\n",
       "      <td>10.222350</td>\n",
       "      <td>27.144000</td>\n",
       "      <td>5.572163</td>\n",
       "      <td>1.529163e+12</td>\n",
       "      <td>89.000000</td>\n",
       "      <td>1.406656e+13</td>\n",
       "      <td>1.529163e+12</td>\n",
       "      <td>1.405697e+13</td>\n",
       "      <td>1.406601e+13</td>\n",
       "      <td>1.406688e+13</td>\n",
       "      <td>2.999632e+07</td>\n",
       "      <td>1.406720e+13</td>\n",
       "      <td>1.529163e+12</td>\n",
       "    </tr>\n",
       "  </tbody>\n",
       "</table>\n",
       "</div>"
      ],
      "text/plain": [
       "       Zeitstempel in Unixzeit   Breitengrad   Laengengrad  \\\n",
       "count             2.013700e+04  20137.000000  20137.000000   \n",
       "mean              1.529160e+12     53.617407     10.191476   \n",
       "std               1.915458e+06      0.004111      0.016505   \n",
       "min               1.529157e+12     53.610397     10.161971   \n",
       "25%               1.529158e+12     53.614155     10.179330   \n",
       "50%               1.529160e+12     53.616990     10.189738   \n",
       "75%               1.529162e+12     53.620953     10.204349   \n",
       "max               1.529163e+12     53.625160     10.222350   \n",
       "\n",
       "       Geschwindigkeit in km/h  \\\n",
       "count             20137.000000   \n",
       "mean                 14.874093   \n",
       "std                   3.370986   \n",
       "min                   5.004000   \n",
       "25%                  12.744000   \n",
       "50%                  14.940000   \n",
       "75%                  17.100000   \n",
       "max                  27.144000   \n",
       "\n",
       "       Genauigkeit der Geschwindigkeit speedAccuracyMetersPerSecond  \\\n",
       "count                                       20137.000000              \n",
       "mean                                            0.582935              \n",
       "std                                             0.293692              \n",
       "min                                             0.086023              \n",
       "25%                                             0.403609              \n",
       "50%                                             0.524023              \n",
       "75%                                             0.722011              \n",
       "max                                             5.572163              \n",
       "\n",
       "       Lokations Zeitstempel in Unixzeit  Anzahl der Messwerte  \\\n",
       "count                       2.013700e+04          20137.000000   \n",
       "mean                        1.529160e+12             30.680340   \n",
       "std                         1.915462e+06              9.045616   \n",
       "min                         1.529157e+12             15.000000   \n",
       "25%                         1.529158e+12             25.000000   \n",
       "50%                         1.529160e+12             28.000000   \n",
       "75%                         1.529162e+12             34.000000   \n",
       "max                         1.529163e+12             89.000000   \n",
       "\n",
       "       Start des Zeitfensters in ns seit Start der JVM  \\\n",
       "count                                     2.013700e+04   \n",
       "mean                                      1.084998e+13   \n",
       "std                                       1.913003e+12   \n",
       "min                                       7.465020e+12   \n",
       "25%                                       9.163290e+12   \n",
       "50%                                       1.085768e+13   \n",
       "75%                                       1.249798e+13   \n",
       "max                                       1.406656e+13   \n",
       "\n",
       "       Zeitstempel Messwertdaten anfordern in Unixzeit  \\\n",
       "count                                     2.013700e+04   \n",
       "mean                                      1.529160e+12   \n",
       "std                                       1.915453e+06   \n",
       "min                                       1.529157e+12   \n",
       "25%                                       1.529158e+12   \n",
       "50%                                       1.529160e+12   \n",
       "75%                                       1.529162e+12   \n",
       "max                                       1.529163e+12   \n",
       "\n",
       "       Start der Messwerterfassung in ns seit Start der JVM  \\\n",
       "count                                       2.013700e+04      \n",
       "mean                                        1.082567e+13      \n",
       "std                                         1.913983e+12      \n",
       "min                                         7.464993e+12      \n",
       "25%                                         9.153857e+12      \n",
       "50%                                         1.083186e+13      \n",
       "75%                                         1.249720e+13      \n",
       "max                                         1.405697e+13      \n",
       "\n",
       "       Erster Zeitstempel der Teilliste in ns seit Start der JVM  \\\n",
       "count                                       2.013700e+04           \n",
       "mean                                        1.084943e+13           \n",
       "std                                         1.913013e+12           \n",
       "min                                         7.464993e+12           \n",
       "25%                                         9.162772e+12           \n",
       "50%                                         1.085707e+13           \n",
       "75%                                         1.249747e+13           \n",
       "max                                         1.406601e+13           \n",
       "\n",
       "       Start der Belichtung in ns seit Start der JVM  Belichtungszeit in ns  \\\n",
       "count                                   2.013700e+04           2.013700e+04   \n",
       "mean                                    1.085011e+13           8.791761e+06   \n",
       "std                                     1.912997e+12           8.670301e+06   \n",
       "min                                     7.465335e+12           1.305387e+06   \n",
       "25%                                     9.163359e+12           3.263467e+06   \n",
       "50%                                     1.085776e+13           5.037691e+06   \n",
       "75%                                     1.249809e+13           1.000184e+07   \n",
       "max                                     1.406688e+13           2.999632e+07   \n",
       "\n",
       "       Letzter Zeitstempel der Messwerterfassung in ns seit Start der JVM  \\\n",
       "count                                       2.013700e+04                    \n",
       "mean                                        1.085024e+13                    \n",
       "std                                         1.912992e+12                    \n",
       "min                                         7.465697e+12                    \n",
       "25%                                         9.163467e+12                    \n",
       "50%                                         1.085789e+13                    \n",
       "75%                                         1.249820e+13                    \n",
       "max                                         1.406720e+13                    \n",
       "\n",
       "       Speicherzeitpunkt der Merkmale in Unixzeit  \n",
       "count                                2.013700e+04  \n",
       "mean                                 1.529160e+12  \n",
       "std                                  1.915452e+06  \n",
       "min                                  1.529157e+12  \n",
       "25%                                  1.529158e+12  \n",
       "50%                                  1.529160e+12  \n",
       "75%                                  1.529162e+12  \n",
       "max                                  1.529163e+12  "
      ]
     },
     "execution_count": 42,
     "metadata": {},
     "output_type": "execute_result"
    }
   ],
   "source": [
    "featuresDf = pandas.read_csv(\"../daten/merkmale_datensatz_\" + dataset + \"/merkmaleRoh.csv\")\n",
    "featuresDf.describe()"
   ]
  },
  {
   "cell_type": "code",
   "execution_count": 43,
   "metadata": {
    "ExecuteTime": {
     "end_time": "2018-05-07T13:59:00.652982Z",
     "start_time": "2018-05-07T13:59:00.549419Z"
    }
   },
   "outputs": [
    {
     "name": "stdout",
     "output_type": "stream",
     "text": [
      "<class 'pandas.core.frame.DataFrame'>\n",
      "RangeIndex: 20137 entries, 0 to 20136\n",
      "Data columns (total 19 columns):\n",
      "Zeitstempel in Unixzeit                                               20137 non-null int64\n",
      "Breitengrad                                                           20137 non-null float64\n",
      "Laengengrad                                                           20137 non-null float64\n",
      "Geschwindigkeit in km/h                                               20137 non-null float64\n",
      "Genauigkeit der Geschwindigkeit speedAccuracyMetersPerSecond          20137 non-null float64\n",
      "Lokations Zeitstempel in Unixzeit                                     20137 non-null int64\n",
      "Z-Achse Beschleunigungswerte in m/s^2                                 20137 non-null object\n",
      "Y-Achse Beschleunigungswerte in m/s^2                                 20137 non-null object\n",
      "Nick Messwerte in rad                                                 20137 non-null object\n",
      "Zeitstempel der Messwerte in ns                                       20137 non-null object\n",
      "Anzahl der Messwerte                                                  20137 non-null int64\n",
      "Start des Zeitfensters in ns seit Start der JVM                       20137 non-null int64\n",
      "Zeitstempel Messwertdaten anfordern in Unixzeit                       20137 non-null int64\n",
      "Start der Messwerterfassung in ns seit Start der JVM                  20137 non-null int64\n",
      "Erster Zeitstempel der Teilliste in ns seit Start der JVM             20137 non-null int64\n",
      "Start der Belichtung in ns seit Start der JVM                         20137 non-null int64\n",
      "Belichtungszeit in ns                                                 20137 non-null int64\n",
      "Letzter Zeitstempel der Messwerterfassung in ns seit Start der JVM    20137 non-null int64\n",
      "Speicherzeitpunkt der Merkmale in Unixzeit                            20137 non-null int64\n",
      "dtypes: float64(4), int64(11), object(4)\n",
      "memory usage: 2.9+ MB\n"
     ]
    }
   ],
   "source": [
    "featuresDf.info()"
   ]
  },
  {
   "cell_type": "markdown",
   "metadata": {},
   "source": [
    "Die folgenden Spalten des Datenframes haben als Type ein Python object.   \n",
    "Y-Achse Beschleunigungswerte in m/s^2   \n",
    "Z-Achse Beschleunigungswerte in m/s^2      \n",
    "Nick Messwerte in rad                           \n",
    "Zeitstempel der Messwerte in ns               \n",
    "Implizit haben diese Spalten als Typ Strings. Aber in einem DataFrame werden Strings als    \n",
    "Python objects erkannt. Um den Datentyp auf float zu casten wird aus den Spalten zunächst ein Liste erstellt.    \n",
    "Welche dann wiederum als Numpy Array auf den Typ float konvertiert wird.   "
   ]
  },
  {
   "cell_type": "code",
   "execution_count": 44,
   "metadata": {
    "ExecuteTime": {
     "end_time": "2018-05-07T14:16:18.319231Z",
     "start_time": "2018-05-07T14:13:50.440387Z"
    }
   },
   "outputs": [],
   "source": [
    "accYList = featuresDf['Y-Achse Beschleunigungswerte in m/s^2'].str.split(\" \").tolist()\n",
    "accList = []\n",
    "accList.append(pandas.DataFrame(np.array(accYList[0]).astype(float)).transpose())\n",
    "for x in accYList[1:]:\n",
    "    accList.append(pandas.DataFrame(np.array(x).astype(float)).transpose())\n",
    "accYDf = pandas.concat(accList, ignore_index=True)"
   ]
  },
  {
   "cell_type": "code",
   "execution_count": 45,
   "metadata": {
    "ExecuteTime": {
     "end_time": "2018-05-07T14:19:30.721250Z",
     "start_time": "2018-05-07T14:17:00.495400Z"
    }
   },
   "outputs": [],
   "source": [
    "# Konvertiere Beschleunigungssensordaten Z-Achse zu einem DataFrame\n",
    "measuredDataList = featuresDf['Z-Achse Beschleunigungswerte in m/s^2'].str.split(\" \").tolist()\n",
    "accList = []\n",
    "accList.append(pandas.DataFrame(np.array(measuredDataList[0]).astype(float)).transpose())\n",
    "for x in measuredDataList[1:]:\n",
    "    accList.append(pandas.DataFrame(np.array(x).astype(float)).transpose())\n",
    "accZDf = pandas.concat(accList, ignore_index=True)"
   ]
  },
  {
   "cell_type": "code",
   "execution_count": 46,
   "metadata": {
    "ExecuteTime": {
     "end_time": "2018-05-07T14:22:24.186902Z",
     "start_time": "2018-05-07T14:19:54.669698Z"
    }
   },
   "outputs": [],
   "source": [
    "# Konvertiere Nick Messwerte zu DataFrame\n",
    "measuredDataList = featuresDf['Nick Messwerte in rad'].str.split(\" \").tolist()\n",
    "pitchList = []\n",
    "pitchList.append(pandas.DataFrame(np.array(measuredDataList[0]).astype(float)).transpose())\n",
    "for x in measuredDataList[1:]:\n",
    "    pitchList.append(pandas.DataFrame(np.array(x).astype(float)).transpose())\n",
    "nickDf = pandas.concat(pitchList, ignore_index=True)"
   ]
  },
  {
   "cell_type": "code",
   "execution_count": 47,
   "metadata": {
    "ExecuteTime": {
     "end_time": "2018-05-07T14:42:30.936001Z",
     "start_time": "2018-05-07T14:40:01.500632Z"
    }
   },
   "outputs": [],
   "source": [
    "measuredDataList = featuresDf['Zeitstempel der Messwerte in ns'].str.split(\" \").tolist()\n",
    "timestampsList = []\n",
    "timestampsList.append(pandas.DataFrame(np.array(measuredDataList[0]).astype(float)).transpose())\n",
    "for x in measuredDataList[1:]:\n",
    "    timestampsList.append(pandas.DataFrame(np.array(x).astype(float)).transpose())\n",
    "sensorTimestampsDf = pandas.concat(timestampsList, ignore_index=True)"
   ]
  },
  {
   "cell_type": "code",
   "execution_count": 48,
   "metadata": {
    "ExecuteTime": {
     "end_time": "2018-05-07T14:49:49.944787Z",
     "start_time": "2018-05-07T14:49:49.679888Z"
    }
   },
   "outputs": [],
   "source": [
    "# Neue Spalten werden erstellt und Mittelwerte zugewiesen\n",
    "featuresDf['Mittelwert Y-Achse Beschleunigung in m/s^2'] = accYDf.T.mean()\n",
    "featuresDf['Mittelwert Z-Achse Beschleunigung in m/s^2'] = accZDf.T.mean()\n",
    "featuresDf['Mittelwert Nick in rad'] = nickDf.T.mean()"
   ]
  },
  {
   "cell_type": "markdown",
   "metadata": {},
   "source": [
    "Berechnet die Varianz. Dieser Funktion muss als Paramter der Mittelwert (mean) und der DataFrame mit   \n",
    "den Float Werten übergeben werden, um die Varianz zu berechnen. Als Varianz wird der Durchschnitt der quadrierten  \n",
    "Differenzen zum Mittelwert bezeichnet.   \n",
    "Prec.:    \n",
    "Postc.: Gibt die berechnete Variance als Float zurück oder 0 wenn die Anzahl der Werte <= 0  "
   ]
  },
  {
   "cell_type": "code",
   "execution_count": 23,
   "metadata": {
    "ExecuteTime": {
     "end_time": "2018-05-07T14:50:11.704037Z",
     "start_time": "2018-05-07T14:50:11.696038Z"
    }
   },
   "outputs": [],
   "source": [
    "def calcVariance(meansDf, dfValues):\n",
    "    variance = []\n",
    "    for i, values in dfValues.iterrows():\n",
    "        sum = 0\n",
    "        for value in values:\n",
    "            if math.isnan(value) == False:\n",
    "                tempDifference = value-meansDf[i]\n",
    "                sum += tempDifference * tempDifference\n",
    "        variance.append(\"{0:.5f}\".format(round(sum / values.count(),5)))\n",
    "    return np.array(variance).astype(float)"
   ]
  },
  {
   "cell_type": "markdown",
   "metadata": {},
   "source": [
    "Hier wird die Standardabweichung der Varianz berechnet. Dies ist die Wurzel der Varianz.   \n",
    "Für die Berechnung wird der Absolutwert von der Varianz genommen.    \n",
    "Prec.:\n",
    "Postc.:  Standardabweichung wird zurückgegeben."
   ]
  },
  {
   "cell_type": "code",
   "execution_count": 24,
   "metadata": {
    "ExecuteTime": {
     "end_time": "2018-05-07T14:50:17.426578Z",
     "start_time": "2018-05-07T14:50:17.422578Z"
    }
   },
   "outputs": [],
   "source": [
    "def calculateStandardDeviation(varianceDf):\n",
    "    deviation = []\n",
    "    for v in varianceDf:\n",
    "        temp = math.sqrt(np.abs(v))\n",
    "        deviation.append(\"{0:.5f}\".format(round(temp,5)))\n",
    "    return np.array(deviation).astype(float)"
   ]
  },
  {
   "cell_type": "markdown",
   "metadata": {},
   "source": [
    "Die Funktion berechnet die Winkeldifferenz in rad zwischen den ersten gemessenen Gierwinkel und den letzten Gierwinkel   \n",
    "innerhalb einer als Argument übergebenen DataFrames. Der zurückgegebene Radiant    \n",
    "ist immer positiv und gibt die relative änderung in rad an.      \n",
    "Prec.:   \n",
    "Postc.: Radiant berechnet   "
   ]
  },
  {
   "cell_type": "code",
   "execution_count": 25,
   "metadata": {
    "ExecuteTime": {
     "end_time": "2018-05-07T14:50:22.899787Z",
     "start_time": "2018-05-07T14:50:22.891788Z"
    }
   },
   "outputs": [],
   "source": [
    "def calculateAngelChangeAzimuth(azimuthDf):\n",
    "    result = []\n",
    "    for i,values in azimuthDf.iterrows():\n",
    "        first = values[0]*(180/math.pi)\n",
    "        last = values.iloc[values.count()-1]*(180/math.pi)\n",
    "        resultTemp = np.abs(first - last)\n",
    "        if(resultTemp > 180):\n",
    "            resultTemp = 360 - resultTemp\n",
    "        result.append(\"{0:.5f}\".format(round(resultTemp * ( math.pi / 180),5)))\n",
    "    return np.array(result).astype(float)"
   ]
  },
  {
   "cell_type": "code",
   "execution_count": 49,
   "metadata": {
    "ExecuteTime": {
     "end_time": "2018-05-07T15:16:03.331865Z",
     "start_time": "2018-05-07T15:15:58.790315Z"
    }
   },
   "outputs": [],
   "source": [
    "# Berechnung der Varianzen und hinzufügen der Ergebnisse als neue Spalte in dem DataFrame \n",
    "featuresDf['Varianz Y-Achse Beschleunigung in m/s^2'] = calcVariance(featuresDf['Mittelwert Y-Achse Beschleunigung in m/s^2'],accYDf)\n",
    "featuresDf['Varianz Z-Achse Beschleunigung in m/s^2'] = calcVariance(featuresDf['Mittelwert Z-Achse Beschleunigung in m/s^2'],accZDf)\n",
    "featuresDf['Varianz Nick in rad'] = calcVariance(featuresDf['Mittelwert Nick in rad'],nickDf)"
   ]
  },
  {
   "cell_type": "code",
   "execution_count": 50,
   "metadata": {
    "ExecuteTime": {
     "end_time": "2018-05-07T13:55:13.929630Z",
     "start_time": "2018-05-07T13:51:59.147Z"
    }
   },
   "outputs": [],
   "source": [
    "# Berechne Standardabweichung\n",
    "featuresDf['Standardabweichung Y-Achse Beschleunigung in m/s^2'] = calculateStandardDeviation(featuresDf['Varianz Y-Achse Beschleunigung in m/s^2'])\n",
    "featuresDf['Standardabweichung Z-Achse Beschleunigung in m/s^2'] = calculateStandardDeviation(featuresDf['Varianz Z-Achse Beschleunigung in m/s^2'])\n",
    "featuresDf['Standardabweichung Nick in rad'] = calculateStandardDeviation(featuresDf['Varianz Nick in rad'])"
   ]
  },
  {
   "cell_type": "code",
   "execution_count": 51,
   "metadata": {
    "ExecuteTime": {
     "end_time": "2018-05-07T13:55:13.929630Z",
     "start_time": "2018-05-07T13:52:04.510Z"
    }
   },
   "outputs": [],
   "source": [
    "# Änderungen in CSV Datei schreiben\n",
    "featuresDf.set_index('Zeitstempel in Unixzeit', inplace=True)\n",
    "featuresDf.to_csv('../daten/merkmale_datensatz_'+ dataset + '/merkmale.csv')"
   ]
  },
  {
   "cell_type": "code",
   "execution_count": 52,
   "metadata": {
    "ExecuteTime": {
     "end_time": "2018-05-07T13:55:13.929630Z",
     "start_time": "2018-05-07T13:52:12.294Z"
    }
   },
   "outputs": [],
   "source": [
    "featuresDf = pandas.read_csv(\"../daten/merkmale_datensatz_\" + dataset + \"/merkmale.csv\")"
   ]
  },
  {
   "cell_type": "code",
   "execution_count": 53,
   "metadata": {
    "ExecuteTime": {
     "end_time": "2018-05-07T13:55:13.929630Z",
     "start_time": "2018-05-07T13:52:19.911Z"
    }
   },
   "outputs": [],
   "source": [
    "# Speichert die DatenFrames mit den Messwerten in csv Dateien\n",
    "accYDf.index.names = [\"index\"]\n",
    "accYDf.to_csv('../daten/merkmale_datensatz_' + dataset + '/yAchseBeschleunigungswerte.csv')\n",
    "accZDf.index.names = [\"index\"]\n",
    "accZDf.to_csv('../daten/merkmale_datensatz_' + dataset + '/zAchseBeschleunigungswerte.csv')\n",
    "nickDf.index.names = [\"index\"]\n",
    "nickDf.to_csv('../daten/merkmale_datensatz_' + dataset + '/nickMesswerte.csv')\n",
    "sensorTimestampsDf.index.names = [\"index\"]\n",
    "sensorTimestampsDf.to_csv('../daten/merkmale_datensatz_' + dataset + '/sensoreventZeitstempel.csv')"
   ]
  },
  {
   "cell_type": "code",
   "execution_count": null,
   "metadata": {
    "ExecuteTime": {
     "end_time": "2018-05-07T13:55:13.929630Z",
     "start_time": "2018-05-07T13:52:23.478Z"
    }
   },
   "outputs": [],
   "source": [
    "# Unittests\n",
    "import unittest\n",
    "\n",
    "class CalcTest(unittest.TestCase):\n",
    "    \n",
    "    \n",
    "    # Testet die Funktion calcVariance mit einem DataFrame mit den Werten [2.0, 2.0]\n",
    "    # Der Mittelwert sollte 2.0 sein\n",
    "    # Das erwartete Ergebnis ist 0.0\n",
    "    def testCalcVariance2(self):\n",
    "        meanL = [2.0]\n",
    "        meanDf = pandas.DataFrame(meanL)\n",
    "        valuesA = [2.0,2.0]\n",
    "        valuesDf = pandas.DataFrame([[2.0]])\n",
    "        npt.assert_almost_equal(calcVariance(meanDf[0],valuesDf), 0.0,2)\n",
    "        \n",
    "    # Testet die Funktion calcVariance mit einem DataFrame mit den folgenden Werten:\n",
    "    # [1.24, 2.5213, 10.434, 42.45, 5.9]\n",
    "    # Der Mittelwert ist 12.508\n",
    "    # Die erwartete Varianz ist 234,247016\n",
    "    def testCalcVariance5(self):\n",
    "        meanDf = pandas.DataFrame([12.508])\n",
    "        valuesDf = pandas.DataFrame([[1.24, 2.52, 10.43, 42.45, 5.9]])\n",
    "        npt.assert_almost_equal(calcVariance(meanDf[0],valuesDf), 234.24702,5)   \n",
    "    \n",
    "    # Testet calcVariance mit 0 Datenwerten   \n",
    "    def testCalcVariance0(self):\n",
    "        meanDf = pandas.DataFrame([0.0])\n",
    "        valuesDf = pandas.DataFrame([[0.0]])\n",
    "        npt.assert_almost_equal(calcVariance(meanDf[0],valuesDf),0.0,2)  \n",
    "        \n",
    "    # Testet calcVariance mit negativen Datenwerten   \n",
    "    def testCalcVarianceNegative(self):\n",
    "        meanDf = pandas.DataFrame([-24.0])\n",
    "        valuesDf = pandas.DataFrame([[-2.0,-24.0,-5.0,7.0]])\n",
    "        npt.assert_almost_equal(calcVariance(meanDf[0],valuesDf),451.5,1) \n",
    "        \n",
    "    # Testet calcVariance mit Muultidimensionalen DataFrame   \n",
    "    def testCalcVarianceMultidim(self):\n",
    "        meanDf = pandas.DataFrame([-24.0,0.0])\n",
    "        valuesDf = pandas.DataFrame([[-2.0,-24.0,-5.0,7.0],[0.0,0.0,0.0,0.0]])\n",
    "        # Hier wird Numpy Test verwendet um das Ergebnis (zwei Arrays) zu vergleichen\n",
    "        npt.assert_array_equal(calcVariance(meanDf[0],valuesDf),np.array([ 451.5,0.0])) \n",
    "        \n",
    "    # Dieser Test testet die Funktion calculateStandardDeviation.\n",
    "    def testCalculateStandardDeviation(self):\n",
    "        varianceDf = pandas.DataFrame([451.5])\n",
    "        npt.assert_almost_equal(calculateStandardDeviation(varianceDf[0]),21.24853,5) \n",
    "        \n",
    "    # Testet die Funktion calculateStandardDeviation.\n",
    "    # Dabei hat das Argument den Wert 0.0.\n",
    "    def testCalculateStandardDeviationZero(self):\n",
    "        varianceDf = pandas.DataFrame([0.0])\n",
    "        npt.assert_almost_equal(calculateStandardDeviation(varianceDf[0]),0.0,2)\n",
    "    \n",
    "    #  Testet die Funktion calculateAngelChangeAzimuth mit zwei gleichen rad Werten\n",
    "    def testCalculateAngelChangeAzimuthEqual(self):\n",
    "        radiants = pandas.DataFrame([[1.0,1.0]])\n",
    "        npt.assert_almost_equal(calculateAngelChangeAzimuth(radiants),0.0,2)\n",
    "    \n",
    "    # Testet ob die Winkeldifferenz korrekt berechnet wurde für \n",
    "    # die Radianten -1.0 und 1.0\n",
    "    def testCalculateAngelChangeAzimuthOne(self):\n",
    "        radiants = pandas.DataFrame([[-1.0,1.0]])\n",
    "        npt.assert_almost_equal(calculateAngelChangeAzimuth(radiants),2.0,2)  \n",
    "        \n",
    "    # Testet ob die Winkeldifferenz korrekt berechnet wurde für \n",
    "    # die Radianten 1.0 und -1.0\n",
    "    def testCalculateAngelChangeAzimuthOne2(self):\n",
    "        radiants = pandas.DataFrame([[1.0,-1.0]])\n",
    "        npt.assert_almost_equal(calculateAngelChangeAzimuth(radiants),2.0,2)  \n",
    "\n",
    "    # Testet die Funktion calculateAngelChangeAzimuthValues mit mehreren Werten\n",
    "    def testCalculateAngelChangeAzimuthValues(self):\n",
    "        radiants = pandas.DataFrame([[-1.57,1.0,2.0,1.3,1.57]])\n",
    "        npt.assert_almost_equal(calculateAngelChangeAzimuth(radiants),3.14,2)\n",
    "        \n",
    "    # Testet ob die Winkeldifferenz korrekt berechnet wurde für \n",
    "    # die Radianten 0.05 und 0.06\n",
    "    def testCalculateAngelChangeAzimuthSmall(self):\n",
    "        radiants = pandas.DataFrame([[0.01,0.02]])\n",
    "        npt.assert_almost_equal(calculateAngelChangeAzimuth(radiants), 0.01,2)  \n",
    "        \n",
    "    # Testet ob die Winkeldifferenz korrekt berechnet wurde mit \n",
    "    # negative Radianten \n",
    "    def testCalculateAngelChangeAzimuthNegativ(self):\n",
    "        radiants = pandas.DataFrame([[-2.9,-2.0,-1.28]])\n",
    "        npt.assert_almost_equal(calculateAngelChangeAzimuth(radiants), 1.62,2) \n",
    "\n",
    "unittest.main(argv=[''], verbosity=2, exit=False)"
   ]
  }
 ],
 "metadata": {
  "kernelspec": {
   "display_name": "Python 3",
   "language": "python",
   "name": "python3"
  },
  "language_info": {
   "codemirror_mode": {
    "name": "ipython",
    "version": 3
   },
   "file_extension": ".py",
   "mimetype": "text/x-python",
   "name": "python",
   "nbconvert_exporter": "python",
   "pygments_lexer": "ipython3",
   "version": "3.6.4"
  },
  "latex_envs": {
   "LaTeX_envs_menu_present": true,
   "autoclose": false,
   "autocomplete": true,
   "bibliofile": "biblio.bib",
   "cite_by": "apalike",
   "current_citInitial": 1,
   "eqLabelWithNumbers": true,
   "eqNumInitial": 1,
   "hotkeys": {
    "equation": "Ctrl-E",
    "itemize": "Ctrl-I"
   },
   "labels_anchors": false,
   "latex_user_defs": false,
   "report_style_numbering": false,
   "user_envs_cfg": false
  },
  "toc": {
   "base_numbering": 1,
   "colors": {
    "hover_highlight": "#DAA520",
    "navigate_num": "#000000",
    "navigate_text": "#333333",
    "running_highlight": "#FF0000",
    "selected_highlight": "#FFD700",
    "sidebar_border": "#EEEEEE",
    "wrapper_background": "#FFFFFF"
   },
   "moveMenuLeft": true,
   "nav_menu": {
    "height": "31px",
    "width": "252px"
   },
   "navigate_menu": true,
   "number_sections": true,
   "sideBar": true,
   "skip_h1_title": false,
   "threshold": 4,
   "title_cell": "Table of Contents",
   "title_sidebar": "Contents",
   "toc_cell": false,
   "toc_position": {},
   "toc_section_display": "block",
   "toc_window_display": false,
   "widenNotebook": false
  },
  "varInspector": {
   "cols": {
    "lenName": 16,
    "lenType": 16,
    "lenVar": 40
   },
   "kernels_config": {
    "python": {
     "delete_cmd_postfix": "",
     "delete_cmd_prefix": "del ",
     "library": "var_list.py",
     "varRefreshCmd": "print(var_dic_list())"
    },
    "r": {
     "delete_cmd_postfix": ") ",
     "delete_cmd_prefix": "rm(",
     "library": "var_list.r",
     "varRefreshCmd": "cat(var_dic_list()) "
    }
   },
   "types_to_exclude": [
    "module",
    "function",
    "builtin_function_or_method",
    "instance",
    "_Feature"
   ],
   "window_display": false
  }
 },
 "nbformat": 4,
 "nbformat_minor": 2
}
