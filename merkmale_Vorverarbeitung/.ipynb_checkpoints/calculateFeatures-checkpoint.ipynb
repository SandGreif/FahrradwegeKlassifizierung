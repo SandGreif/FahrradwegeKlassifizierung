{
 "cells": [
  {
   "cell_type": "markdown",
   "metadata": {
    "collapsed": true
   },
   "source": [
    "## Berechnungen von Merkmalen\n",
    "\n",
    "In diesem Notebook ist es möglich den Mittelwert, Varianz und Standardabweichung für die aufgenommenen Messwerte aus der Datei \"merkmaleRoh.csv\" der Android TM Fahrradwege Monitoring App zu berechnen. Zu einem Bild werden parallel Messwerte erfasst von dem Beschleunigungssensor und Magnetsensor des Smartphones, innerhalb eines Zeitfenster mit einer Länge von 80ms (siehe hierzu auch das Notebook \"gatheringSequence\" in dem Ordner datenvisualisierung). Bei dem Beschleunigungssensor sind dies die Messwerte der beschleunigung von den 3-Achsen X, Y sowie Z (Abb. 1). Des Weiteren werden die Gier-Nick-Roll Winkel in rad in einem Zeitfenster erfasst. Für die Berechnung des Mittelwerts, Varianz und Standardabweichung über die Messwerte wird die Form der abgespeicherten Messwerte geändert, weil diese als Python Objekte verwaltet werden mit welchen nicht gerechnet werden kann. Zu den Messwertreihen wird jeweils eine CSV Datei erstellt. Eine Reihe stellt dann in dieser Datei eine Messreihe zu einem Zeitfenster dar. Bei der ausführung dieses Notebooks werden deshalb zusätzlich folgende CSV Dateien erstellt:\n",
    "\n",
    "X-Achse Beschleunigungswerte in m/s^2   \n",
    "Y-Achse Beschleunigungswerte in m/s^2  \n",
    "Z-Achse Beschleunigungswerte in m/s^2   \n",
    "Gier Messwerte in rad  \n",
    "Nick Messwerte in rad  \n",
    "Roll Messwerte in rad   \n",
    "Zeitstempel der Messwerte in ns  \n",
    "\n",
    "![alt text][logo]\n",
    "[logo]: https://developer.android.com/images/axis_device.png \"Logo Title Text 2\"\n",
    "Abbildung 1: 3-Achsen Smartphone Sensor-Koordinatensystem   \n",
    "Quelle: https://developer.android.com/images/axis_device.png"
   ]
  },
  {
   "cell_type": "code",
   "execution_count": 1,
   "metadata": {
    "ExecuteTime": {
     "end_time": "2018-05-03T13:12:43.221191Z",
     "start_time": "2018-05-03T13:12:42.949668Z"
    }
   },
   "outputs": [],
   "source": [
    "import pandas\n",
    "import numpy as np\n",
    "import numpy.testing as npt\n",
    "import math\n",
    "import os"
   ]
  },
  {
   "cell_type": "code",
   "execution_count": 2,
   "metadata": {
    "ExecuteTime": {
     "end_time": "2018-05-03T13:12:45.368140Z",
     "start_time": "2018-05-03T13:12:43.582227Z"
    }
   },
   "outputs": [
    {
     "data": {
      "text/html": [
       "<div>\n",
       "<style scoped>\n",
       "    .dataframe tbody tr th:only-of-type {\n",
       "        vertical-align: middle;\n",
       "    }\n",
       "\n",
       "    .dataframe tbody tr th {\n",
       "        vertical-align: top;\n",
       "    }\n",
       "\n",
       "    .dataframe thead th {\n",
       "        text-align: right;\n",
       "    }\n",
       "</style>\n",
       "<table border=\"1\" class=\"dataframe\">\n",
       "  <thead>\n",
       "    <tr style=\"text-align: right;\">\n",
       "      <th></th>\n",
       "      <th>Zeitstempel in Unixzeit</th>\n",
       "      <th>Anzahl der Messwerte</th>\n",
       "      <th>Belichtungszeit in ns</th>\n",
       "      <th>Breitengrad</th>\n",
       "      <th>Geschwindigkeit in km/h</th>\n",
       "      <th>Hoehe in m ueber WGS 84</th>\n",
       "      <th>Laengengrad</th>\n",
       "      <th>Letzter Zeitstempel der Messwerterfassung in ns seit Start der JVM</th>\n",
       "      <th>Start der Belichtung in ns seit Start der JVM</th>\n",
       "      <th>Start der Messwerterfassung in ns seit Start der JVM</th>\n",
       "      <th>Start des Zeitfensters in ns seit Start der JVM</th>\n",
       "      <th>Stopp der Messwerterfassung in Unixzeit</th>\n",
       "    </tr>\n",
       "  </thead>\n",
       "  <tbody>\n",
       "    <tr>\n",
       "      <th>count</th>\n",
       "      <td>1.009970e+05</td>\n",
       "      <td>100997.000000</td>\n",
       "      <td>1.009970e+05</td>\n",
       "      <td>100997.000000</td>\n",
       "      <td>100997.000000</td>\n",
       "      <td>1935.000000</td>\n",
       "      <td>100997.000000</td>\n",
       "      <td>5.116500e+04</td>\n",
       "      <td>1.009970e+05</td>\n",
       "      <td>1.009970e+05</td>\n",
       "      <td>1.009970e+05</td>\n",
       "      <td>5.116500e+04</td>\n",
       "    </tr>\n",
       "    <tr>\n",
       "      <th>mean</th>\n",
       "      <td>1.521788e+12</td>\n",
       "      <td>19.369486</td>\n",
       "      <td>1.628067e+07</td>\n",
       "      <td>53.600818</td>\n",
       "      <td>14.825318</td>\n",
       "      <td>70.983613</td>\n",
       "      <td>10.117377</td>\n",
       "      <td>6.609566e+13</td>\n",
       "      <td>7.110740e+13</td>\n",
       "      <td>7.110731e+13</td>\n",
       "      <td>7.110737e+13</td>\n",
       "      <td>1.522338e+12</td>\n",
       "    </tr>\n",
       "    <tr>\n",
       "      <th>std</th>\n",
       "      <td>6.253291e+08</td>\n",
       "      <td>0.637294</td>\n",
       "      <td>1.007028e+07</td>\n",
       "      <td>0.026176</td>\n",
       "      <td>3.788162</td>\n",
       "      <td>2.540434</td>\n",
       "      <td>0.064368</td>\n",
       "      <td>6.624152e+13</td>\n",
       "      <td>5.257455e+13</td>\n",
       "      <td>5.257455e+13</td>\n",
       "      <td>5.257455e+13</td>\n",
       "      <td>3.923149e+08</td>\n",
       "    </tr>\n",
       "    <tr>\n",
       "      <th>min</th>\n",
       "      <td>1.521124e+12</td>\n",
       "      <td>5.000000</td>\n",
       "      <td>6.435000e+05</td>\n",
       "      <td>53.533375</td>\n",
       "      <td>5.004000</td>\n",
       "      <td>64.299440</td>\n",
       "      <td>9.853853</td>\n",
       "      <td>7.500496e+12</td>\n",
       "      <td>7.500366e+12</td>\n",
       "      <td>7.500275e+12</td>\n",
       "      <td>7.500341e+12</td>\n",
       "      <td>1.521815e+12</td>\n",
       "    </tr>\n",
       "    <tr>\n",
       "      <th>25%</th>\n",
       "      <td>1.521212e+12</td>\n",
       "      <td>19.000000</td>\n",
       "      <td>8.963045e+06</td>\n",
       "      <td>53.582508</td>\n",
       "      <td>12.348000</td>\n",
       "      <td>69.145140</td>\n",
       "      <td>10.096094</td>\n",
       "      <td>1.369181e+13</td>\n",
       "      <td>3.100722e+13</td>\n",
       "      <td>3.100713e+13</td>\n",
       "      <td>3.100718e+13</td>\n",
       "      <td>1.521906e+12</td>\n",
       "    </tr>\n",
       "    <tr>\n",
       "      <th>50%</th>\n",
       "      <td>1.521815e+12</td>\n",
       "      <td>19.000000</td>\n",
       "      <td>1.000184e+07</td>\n",
       "      <td>53.607080</td>\n",
       "      <td>15.191999</td>\n",
       "      <td>71.069275</td>\n",
       "      <td>10.128578</td>\n",
       "      <td>3.203458e+13</td>\n",
       "      <td>4.411367e+13</td>\n",
       "      <td>4.411357e+13</td>\n",
       "      <td>4.411363e+13</td>\n",
       "      <td>1.522248e+12</td>\n",
       "    </tr>\n",
       "    <tr>\n",
       "      <th>75%</th>\n",
       "      <td>1.522248e+12</td>\n",
       "      <td>20.000000</td>\n",
       "      <td>2.999632e+07</td>\n",
       "      <td>53.614410</td>\n",
       "      <td>17.531998</td>\n",
       "      <td>72.942380</td>\n",
       "      <td>10.156504</td>\n",
       "      <td>1.705849e+14</td>\n",
       "      <td>1.087626e+14</td>\n",
       "      <td>1.087624e+14</td>\n",
       "      <td>1.087625e+14</td>\n",
       "      <td>1.522584e+12</td>\n",
       "    </tr>\n",
       "    <tr>\n",
       "      <th>max</th>\n",
       "      <td>1.523024e+12</td>\n",
       "      <td>48.000000</td>\n",
       "      <td>3.287369e+07</td>\n",
       "      <td>53.656776</td>\n",
       "      <td>24.948000</td>\n",
       "      <td>77.023680</td>\n",
       "      <td>10.229659</td>\n",
       "      <td>1.762332e+14</td>\n",
       "      <td>1.762331e+14</td>\n",
       "      <td>1.762330e+14</td>\n",
       "      <td>1.762330e+14</td>\n",
       "      <td>1.523024e+12</td>\n",
       "    </tr>\n",
       "  </tbody>\n",
       "</table>\n",
       "</div>"
      ],
      "text/plain": [
       "       Zeitstempel in Unixzeit  Anzahl der Messwerte  Belichtungszeit in ns  \\\n",
       "count             1.009970e+05         100997.000000           1.009970e+05   \n",
       "mean              1.521788e+12             19.369486           1.628067e+07   \n",
       "std               6.253291e+08              0.637294           1.007028e+07   \n",
       "min               1.521124e+12              5.000000           6.435000e+05   \n",
       "25%               1.521212e+12             19.000000           8.963045e+06   \n",
       "50%               1.521815e+12             19.000000           1.000184e+07   \n",
       "75%               1.522248e+12             20.000000           2.999632e+07   \n",
       "max               1.523024e+12             48.000000           3.287369e+07   \n",
       "\n",
       "         Breitengrad  Geschwindigkeit in km/h  Hoehe in m ueber WGS 84  \\\n",
       "count  100997.000000            100997.000000              1935.000000   \n",
       "mean       53.600818                14.825318                70.983613   \n",
       "std         0.026176                 3.788162                 2.540434   \n",
       "min        53.533375                 5.004000                64.299440   \n",
       "25%        53.582508                12.348000                69.145140   \n",
       "50%        53.607080                15.191999                71.069275   \n",
       "75%        53.614410                17.531998                72.942380   \n",
       "max        53.656776                24.948000                77.023680   \n",
       "\n",
       "         Laengengrad  \\\n",
       "count  100997.000000   \n",
       "mean       10.117377   \n",
       "std         0.064368   \n",
       "min         9.853853   \n",
       "25%        10.096094   \n",
       "50%        10.128578   \n",
       "75%        10.156504   \n",
       "max        10.229659   \n",
       "\n",
       "       Letzter Zeitstempel der Messwerterfassung in ns seit Start der JVM  \\\n",
       "count                                       5.116500e+04                    \n",
       "mean                                        6.609566e+13                    \n",
       "std                                         6.624152e+13                    \n",
       "min                                         7.500496e+12                    \n",
       "25%                                         1.369181e+13                    \n",
       "50%                                         3.203458e+13                    \n",
       "75%                                         1.705849e+14                    \n",
       "max                                         1.762332e+14                    \n",
       "\n",
       "       Start der Belichtung in ns seit Start der JVM  \\\n",
       "count                                   1.009970e+05   \n",
       "mean                                    7.110740e+13   \n",
       "std                                     5.257455e+13   \n",
       "min                                     7.500366e+12   \n",
       "25%                                     3.100722e+13   \n",
       "50%                                     4.411367e+13   \n",
       "75%                                     1.087626e+14   \n",
       "max                                     1.762331e+14   \n",
       "\n",
       "       Start der Messwerterfassung in ns seit Start der JVM  \\\n",
       "count                                       1.009970e+05      \n",
       "mean                                        7.110731e+13      \n",
       "std                                         5.257455e+13      \n",
       "min                                         7.500275e+12      \n",
       "25%                                         3.100713e+13      \n",
       "50%                                         4.411357e+13      \n",
       "75%                                         1.087624e+14      \n",
       "max                                         1.762330e+14      \n",
       "\n",
       "       Start des Zeitfensters in ns seit Start der JVM  \\\n",
       "count                                     1.009970e+05   \n",
       "mean                                      7.110737e+13   \n",
       "std                                       5.257455e+13   \n",
       "min                                       7.500341e+12   \n",
       "25%                                       3.100718e+13   \n",
       "50%                                       4.411363e+13   \n",
       "75%                                       1.087625e+14   \n",
       "max                                       1.762330e+14   \n",
       "\n",
       "       Stopp der Messwerterfassung in Unixzeit  \n",
       "count                             5.116500e+04  \n",
       "mean                              1.522338e+12  \n",
       "std                               3.923149e+08  \n",
       "min                               1.521815e+12  \n",
       "25%                               1.521906e+12  \n",
       "50%                               1.522248e+12  \n",
       "75%                               1.522584e+12  \n",
       "max                               1.523024e+12  "
      ]
     },
     "execution_count": 2,
     "metadata": {},
     "output_type": "execute_result"
    }
   ],
   "source": [
    "featuresDf = pandas.read_csv(\"../daten/merkmale_datensatz_15_bis__22/merkmaleRoh.csv\")\n",
    "featuresDf.describe()"
   ]
  },
  {
   "cell_type": "code",
   "execution_count": 3,
   "metadata": {
    "ExecuteTime": {
     "end_time": "2018-05-03T13:12:48.965051Z",
     "start_time": "2018-05-03T13:12:48.865985Z"
    }
   },
   "outputs": [
    {
     "name": "stdout",
     "output_type": "stream",
     "text": [
      "<class 'pandas.core.frame.DataFrame'>\n",
      "RangeIndex: 100997 entries, 0 to 100996\n",
      "Data columns (total 19 columns):\n",
      "Zeitstempel in Unixzeit                                               100997 non-null int64\n",
      "Anzahl der Messwerte                                                  100997 non-null int64\n",
      "Belichtungszeit in ns                                                 100997 non-null int64\n",
      "Breitengrad                                                           100997 non-null float64\n",
      "Geschwindigkeit in km/h                                               100997 non-null float64\n",
      "Gier Messwerte in rad                                                 100997 non-null object\n",
      "Hoehe in m ueber WGS 84                                               1935 non-null float64\n",
      "Laengengrad                                                           100997 non-null float64\n",
      "Letzter Zeitstempel der Messwerterfassung in ns seit Start der JVM    51165 non-null float64\n",
      "Nick Messwerte in rad                                                 100997 non-null object\n",
      "Roll Messwerte in rad                                                 100997 non-null object\n",
      "Start der Belichtung in ns seit Start der JVM                         100997 non-null int64\n",
      "Start der Messwerterfassung in ns seit Start der JVM                  100997 non-null int64\n",
      "Start des Zeitfensters in ns seit Start der JVM                       100997 non-null int64\n",
      "Stopp der Messwerterfassung in Unixzeit                               51165 non-null float64\n",
      "X-Achse Beschleunigungswerte in m/s^2                                 100997 non-null object\n",
      "Y-Achse Beschleunigungswerte in m/s^2                                 100997 non-null object\n",
      "Z-Achse Beschleunigungswerte in m/s^2                                 100997 non-null object\n",
      "Zeitstempel der Messwerte in ns                                       100997 non-null object\n",
      "dtypes: float64(6), int64(6), object(7)\n",
      "memory usage: 14.6+ MB\n"
     ]
    }
   ],
   "source": [
    "featuresDf.info()"
   ]
  },
  {
   "cell_type": "code",
   "execution_count": 4,
   "metadata": {
    "ExecuteTime": {
     "end_time": "2018-05-03T13:12:51.314717Z",
     "start_time": "2018-05-03T13:12:51.306718Z"
    }
   },
   "outputs": [
    {
     "data": {
      "text/plain": [
       "0    0.66929 0.81137 0.75647 0.22221 -0.14389 -0.13...\n",
       "1    0.2285 0.13695 0.37016 0.08172 -0.05709 0.3834...\n",
       "2    -2.72057 3.72297 3.37689 -1.28232 -0.90316 0.4...\n",
       "3    -0.06289 0.54739 0.6219 -1.35643 -0.54872 0.28...\n",
       "4    -0.5752 -1.41006 -1.3118 -0.58965 -1.32969 0.6...\n",
       "Name: X-Achse Beschleunigungswerte in m/s^2, dtype: object"
      ]
     },
     "execution_count": 4,
     "metadata": {},
     "output_type": "execute_result"
    }
   ],
   "source": [
    "# Zeigt die ersten 5 Reihen Beschleunigungssensordaten der X-Achse \n",
    "featuresDf['X-Achse Beschleunigungswerte in m/s^2'].head()"
   ]
  },
  {
   "cell_type": "code",
   "execution_count": 21,
   "metadata": {
    "ExecuteTime": {
     "end_time": "2018-05-03T14:47:11.090891Z",
     "start_time": "2018-05-03T14:47:10.876893Z"
    }
   },
   "outputs": [
    {
     "name": "stdout",
     "output_type": "stream",
     "text": [
      "14959    24\n",
      "35516    48\n",
      "35525    28\n",
      "45468    47\n",
      "52621    24\n",
      "54376    24\n",
      "54719    24\n",
      "55901    40\n",
      "56033    24\n",
      "59055    24\n",
      "59514    24\n",
      "59990    38\n",
      "60418    24\n",
      "62192    25\n",
      "64457    28\n",
      "64506    24\n",
      "68134    24\n",
      "80666    24\n",
      "94258    27\n",
      "95849    24\n",
      "97012    43\n",
      "Name: Anzahl der Messwerte, dtype: int64\n"
     ]
    }
   ],
   "source": [
    "# Die Anzahl der Messwerte sollte immer gleich sein, ansonsten werden fehlende Spalten mit NaN Werten gefüllt bei der\n",
    "# späteren Abspeicherung der erfassten Messwerte wie z.B. in die Datei x-Achse-Beschleunigungswerte.csv.\n",
    "# Um die Berechnung von den Merkmalen Varianz und Mittelwert unteranderem zu beschleunigen ist es wichtig sogenannte Außenseiter\n",
    "# aus den Datensätzen zu entfernen.\n",
    "# Dafür muss auch das Bild zu einer Reihe aus der merkmaleRoh.csv Datei gelöscht werden.\n",
    "# Dies wird erreicht indem alle Pfade der Bilder geladen werden.\n",
    "# Dann können Reihen sowie Bilder gelöscht werden mit mehr Messwerten als ein bestimmter Grenzwert.\n",
    "print(featuresDf['Anzahl der Messwerte'][featuresDf['Anzahl der Messwerte'] > 23])\n",
    "\n",
    "################### Entferne Außenseiter mit Anzahl der Messwerte > Grenzwert ###################\n",
    "imagePaths = []\n",
    "# Hier können die Datensätze ausgewählt werden\n",
    "datasets = ['15','16','17','18','19','20','21','22']\n",
    "# Die Pfade zu den Ordnern in welchem sich die Bilder befinden\n",
    "paths = []\n",
    "for dataset in datasets: # Für jeden Datensatz merke Pfad\n",
    "    paths.append(\"C:/Users/morro/Documents/datenRoh/\" + dataset + \"/zugeschnitten/\")\n",
    "for path in paths: # Für jeden Pfad hole die Namen der Ordner\n",
    "    folders = os.listdir(path)\n",
    "    for folder in folders: # Aus der Liste der Ordner wird ein Ordner ausgewählt\n",
    "        filesPath = path + folder + \"/\"\n",
    "        files = os.listdir(filesPath)\n",
    "        for name in files: # Ein Dateiname aus diesem Ordner\n",
    "            if \"jpg\" not in name:\n",
    "                continue\n",
    "            imagePaths.append(filesPath + name) # Path wird geladen in Liste\n",
    "#os.remove()"
   ]
  },
  {
   "cell_type": "code",
   "execution_count": 24,
   "metadata": {
    "ExecuteTime": {
     "end_time": "2018-05-03T14:50:43.263641Z",
     "start_time": "2018-05-03T14:50:43.255642Z"
    }
   },
   "outputs": [],
   "source": [
    "toRemoveImagesIndex = featuresDf['Anzahl der Messwerte'][featuresDf['Anzahl der Messwerte'] > 23]"
   ]
  },
  {
   "cell_type": "code",
   "execution_count": 29,
   "metadata": {
    "ExecuteTime": {
     "end_time": "2018-05-03T14:52:03.691649Z",
     "start_time": "2018-05-03T14:52:03.683649Z"
    }
   },
   "outputs": [
    {
     "data": {
      "text/plain": [
       "14959    24\n",
       "35516    48\n",
       "35525    28\n",
       "45468    47\n",
       "52621    24\n",
       "54376    24\n",
       "54719    24\n",
       "55901    40\n",
       "56033    24\n",
       "59055    24\n",
       "59514    24\n",
       "59990    38\n",
       "60418    24\n",
       "62192    25\n",
       "64457    28\n",
       "64506    24\n",
       "68134    24\n",
       "80666    24\n",
       "94258    27\n",
       "95849    24\n",
       "97012    43\n",
       "Name: Anzahl der Messwerte, dtype: int64"
      ]
     },
     "execution_count": 29,
     "metadata": {},
     "output_type": "execute_result"
    }
   ],
   "source": [
    "toRemoveImagesIndex[:,]"
   ]
  },
  {
   "cell_type": "markdown",
   "metadata": {},
   "source": [
    "Die folgenden Spalten des Datenframes haben als Type ein Python object.   \n",
    "X-Achse Beschleunigungswerte in m/s^2   \n",
    "Y-Achse Beschleunigungswerte in m/s^2   \n",
    "Z-Achse Beschleunigungswerte in m/s^2   \n",
    "Gier Messwerte in rad    \n",
    "Nick Messwerte in rad          \n",
    "Roll Messwerte in rad                   \n",
    "Zeitstempel der Messwerte in ns               \n",
    "Implizit haben diese Spalten als Typ Strings. Aber in einem DataFrame werden Strings als    \n",
    "Python objects erkannt. Um den Datentyp auf float zu casten wird aus den Spalten zunächst ein Liste erstellt.    \n",
    "Welche dann wiederum als Numpy Array auf den Typ float konvertiert wird.   "
   ]
  },
  {
   "cell_type": "code",
   "execution_count": 5,
   "metadata": {
    "ExecuteTime": {
     "end_time": "2018-05-03T13:12:56.482963Z",
     "start_time": "2018-05-03T13:12:56.142525Z"
    }
   },
   "outputs": [],
   "source": [
    "accXList = featuresDf['X-Achse Beschleunigungswerte in m/s^2'].str.split(\" \").tolist()"
   ]
  },
  {
   "cell_type": "code",
   "execution_count": 6,
   "metadata": {
    "ExecuteTime": {
     "end_time": "2018-05-03T13:12:57.227943Z",
     "start_time": "2018-05-03T13:12:56.808171Z"
    }
   },
   "outputs": [
    {
     "data": {
      "text/plain": [
       "array([[list(['0.66929', '0.81137', '0.75647', '0.22221', '-0.14389', '-0.13032', '-0.34931', '-0.26401', '-0.349', '-0.41699', '-0.27218', '-0.38619', '-0.29352', '-0.46454', '-0.47877', '-0.3829', '-0.13767', '-0.11002', '0.01936', '0.27609'])],\n",
       "       [list(['0.2285', '0.13695', '0.37016', '0.08172', '-0.05709', '0.38348', '-0.27536', '-0.6339', '0.21317', '-0.05919', '-0.44563', '-0.78543', '-0.52098', '-1.10619', '-0.19531', '-0.7384', '-0.60594', '-0.54593', '0.00775', '-0.26951'])],\n",
       "       [list(['-2.72057', '3.72297', '3.37689', '-1.28232', '-0.90316', '0.47276', '0.60817', '1.13021', '1.93092', '0.62547', '-2.50279', '-0.54644', '0.81943', '-0.67742', '-0.06682', '-0.23722', '0.45391', '1.206', '1.94558', '2.88967'])],\n",
       "       ...,\n",
       "       [list(['0.05452', '-0.24745', '-0.44306', '-0.43098', '-0.16084', '-0.18989', '0.10864', '0.05635', '0.45887', '0.81153', '0.83317', '0.89645', '0.67126', '-0.13713', '-0.40077', '-0.19796', '0.34737', '0.43119', '0.45229', '0.10141'])],\n",
       "       [list(['-0.04052', '0.42735', '0.78631', '0.62912', '0.36547', '0.09325', '-0.32373', '-0.13633', '-0.43077', '-0.32922', '0.04315', '-0.48638', '-0.23581', '-0.24987', '0.27519', '0.542', '-0.20988', '-0.52026'])],\n",
       "       [list(['0.3773', '0.16401', '-0.0526', '0.01929', '0.10744', '0.13199', '-0.29273', '-0.06556', '-0.00641', '0.07156', '0.25652', '0.17463', '-0.12071', '-0.24972', '0.01481', '-0.01872', '-0.12217', '-0.45009', '-0.26806'])]],\n",
       "      dtype=object)"
      ]
     },
     "execution_count": 6,
     "metadata": {},
     "output_type": "execute_result"
    }
   ],
   "source": [
    "# Direkt mit dem Numpy Array ist es nicht möglich die Konvertierung durchzuführen, weil die Arrays von Typ object sind.   \n",
    "pandas.DataFrame(featuresDf['X-Achse Beschleunigungswerte in m/s^2'].str.split(\" \")).values"
   ]
  },
  {
   "cell_type": "code",
   "execution_count": 7,
   "metadata": {
    "ExecuteTime": {
     "end_time": "2018-05-03T13:12:59.441205Z",
     "start_time": "2018-05-03T13:12:59.437206Z"
    }
   },
   "outputs": [
    {
     "data": {
      "text/plain": [
       "['0.2285',\n",
       " '0.13695',\n",
       " '0.37016',\n",
       " '0.08172',\n",
       " '-0.05709',\n",
       " '0.38348',\n",
       " '-0.27536',\n",
       " '-0.6339',\n",
       " '0.21317',\n",
       " '-0.05919',\n",
       " '-0.44563',\n",
       " '-0.78543',\n",
       " '-0.52098',\n",
       " '-1.10619',\n",
       " '-0.19531',\n",
       " '-0.7384',\n",
       " '-0.60594',\n",
       " '-0.54593',\n",
       " '0.00775',\n",
       " '-0.26951']"
      ]
     },
     "execution_count": 7,
     "metadata": {},
     "output_type": "execute_result"
    }
   ],
   "source": [
    "accXList[1] # zeige Liste"
   ]
  },
  {
   "cell_type": "code",
   "execution_count": 8,
   "metadata": {
    "ExecuteTime": {
     "end_time": "2018-05-03T13:13:02.326106Z",
     "start_time": "2018-05-03T13:13:02.322107Z"
    }
   },
   "outputs": [
    {
     "data": {
      "text/plain": [
       "dtype('<U8')"
      ]
     },
     "execution_count": 8,
     "metadata": {},
     "output_type": "execute_result"
    }
   ],
   "source": [
    "np.array(accXList[1]).dtype"
   ]
  },
  {
   "cell_type": "code",
   "execution_count": 9,
   "metadata": {
    "ExecuteTime": {
     "end_time": "2018-05-03T13:13:23.323505Z",
     "start_time": "2018-05-03T13:13:03.184988Z"
    }
   },
   "outputs": [],
   "source": [
    "# Konvertiert die Python Objekte in der Liste zu den Type Float.\n",
    "# Das Ergebnis wird in einem Dataframe geschrieben\n",
    "accList = []\n",
    "accList.append(pandas.DataFrame(np.array(accXList[0]).astype(float)).transpose())\n",
    "for x in accXList[1:]:\n",
    "    accList.append(pandas.DataFrame(np.array(x).astype(float)).transpose())"
   ]
  },
  {
   "cell_type": "code",
   "execution_count": 10,
   "metadata": {
    "ExecuteTime": {
     "end_time": "2018-05-03T13:27:09.924513Z",
     "start_time": "2018-05-03T13:24:45.698445Z"
    }
   },
   "outputs": [],
   "source": [
    "accXDf = pandas.concat(accList, ignore_index=True)"
   ]
  },
  {
   "cell_type": "code",
   "execution_count": 11,
   "metadata": {
    "ExecuteTime": {
     "end_time": "2018-05-03T13:38:24.127136Z",
     "start_time": "2018-05-03T13:38:24.095885Z"
    }
   },
   "outputs": [
    {
     "data": {
      "text/html": [
       "<div>\n",
       "<style scoped>\n",
       "    .dataframe tbody tr th:only-of-type {\n",
       "        vertical-align: middle;\n",
       "    }\n",
       "\n",
       "    .dataframe tbody tr th {\n",
       "        vertical-align: top;\n",
       "    }\n",
       "\n",
       "    .dataframe thead th {\n",
       "        text-align: right;\n",
       "    }\n",
       "</style>\n",
       "<table border=\"1\" class=\"dataframe\">\n",
       "  <thead>\n",
       "    <tr style=\"text-align: right;\">\n",
       "      <th></th>\n",
       "      <th>0</th>\n",
       "      <th>1</th>\n",
       "      <th>2</th>\n",
       "      <th>3</th>\n",
       "      <th>4</th>\n",
       "      <th>5</th>\n",
       "      <th>6</th>\n",
       "      <th>7</th>\n",
       "      <th>8</th>\n",
       "      <th>9</th>\n",
       "      <th>...</th>\n",
       "      <th>38</th>\n",
       "      <th>39</th>\n",
       "      <th>40</th>\n",
       "      <th>41</th>\n",
       "      <th>42</th>\n",
       "      <th>43</th>\n",
       "      <th>44</th>\n",
       "      <th>45</th>\n",
       "      <th>46</th>\n",
       "      <th>47</th>\n",
       "    </tr>\n",
       "  </thead>\n",
       "  <tbody>\n",
       "    <tr>\n",
       "      <th>0</th>\n",
       "      <td>0.66929</td>\n",
       "      <td>0.81137</td>\n",
       "      <td>0.75647</td>\n",
       "      <td>0.22221</td>\n",
       "      <td>-0.14389</td>\n",
       "      <td>-0.13032</td>\n",
       "      <td>-0.34931</td>\n",
       "      <td>-0.26401</td>\n",
       "      <td>-0.34900</td>\n",
       "      <td>-0.41699</td>\n",
       "      <td>...</td>\n",
       "      <td>NaN</td>\n",
       "      <td>NaN</td>\n",
       "      <td>NaN</td>\n",
       "      <td>NaN</td>\n",
       "      <td>NaN</td>\n",
       "      <td>NaN</td>\n",
       "      <td>NaN</td>\n",
       "      <td>NaN</td>\n",
       "      <td>NaN</td>\n",
       "      <td>NaN</td>\n",
       "    </tr>\n",
       "    <tr>\n",
       "      <th>1</th>\n",
       "      <td>0.22850</td>\n",
       "      <td>0.13695</td>\n",
       "      <td>0.37016</td>\n",
       "      <td>0.08172</td>\n",
       "      <td>-0.05709</td>\n",
       "      <td>0.38348</td>\n",
       "      <td>-0.27536</td>\n",
       "      <td>-0.63390</td>\n",
       "      <td>0.21317</td>\n",
       "      <td>-0.05919</td>\n",
       "      <td>...</td>\n",
       "      <td>NaN</td>\n",
       "      <td>NaN</td>\n",
       "      <td>NaN</td>\n",
       "      <td>NaN</td>\n",
       "      <td>NaN</td>\n",
       "      <td>NaN</td>\n",
       "      <td>NaN</td>\n",
       "      <td>NaN</td>\n",
       "      <td>NaN</td>\n",
       "      <td>NaN</td>\n",
       "    </tr>\n",
       "    <tr>\n",
       "      <th>2</th>\n",
       "      <td>-2.72057</td>\n",
       "      <td>3.72297</td>\n",
       "      <td>3.37689</td>\n",
       "      <td>-1.28232</td>\n",
       "      <td>-0.90316</td>\n",
       "      <td>0.47276</td>\n",
       "      <td>0.60817</td>\n",
       "      <td>1.13021</td>\n",
       "      <td>1.93092</td>\n",
       "      <td>0.62547</td>\n",
       "      <td>...</td>\n",
       "      <td>NaN</td>\n",
       "      <td>NaN</td>\n",
       "      <td>NaN</td>\n",
       "      <td>NaN</td>\n",
       "      <td>NaN</td>\n",
       "      <td>NaN</td>\n",
       "      <td>NaN</td>\n",
       "      <td>NaN</td>\n",
       "      <td>NaN</td>\n",
       "      <td>NaN</td>\n",
       "    </tr>\n",
       "    <tr>\n",
       "      <th>3</th>\n",
       "      <td>-0.06289</td>\n",
       "      <td>0.54739</td>\n",
       "      <td>0.62190</td>\n",
       "      <td>-1.35643</td>\n",
       "      <td>-0.54872</td>\n",
       "      <td>0.28130</td>\n",
       "      <td>0.57759</td>\n",
       "      <td>0.60009</td>\n",
       "      <td>1.49150</td>\n",
       "      <td>1.49977</td>\n",
       "      <td>...</td>\n",
       "      <td>NaN</td>\n",
       "      <td>NaN</td>\n",
       "      <td>NaN</td>\n",
       "      <td>NaN</td>\n",
       "      <td>NaN</td>\n",
       "      <td>NaN</td>\n",
       "      <td>NaN</td>\n",
       "      <td>NaN</td>\n",
       "      <td>NaN</td>\n",
       "      <td>NaN</td>\n",
       "    </tr>\n",
       "    <tr>\n",
       "      <th>4</th>\n",
       "      <td>-0.57520</td>\n",
       "      <td>-1.41006</td>\n",
       "      <td>-1.31180</td>\n",
       "      <td>-0.58965</td>\n",
       "      <td>-1.32969</td>\n",
       "      <td>0.65253</td>\n",
       "      <td>1.15038</td>\n",
       "      <td>-0.27477</td>\n",
       "      <td>-0.61810</td>\n",
       "      <td>0.01130</td>\n",
       "      <td>...</td>\n",
       "      <td>NaN</td>\n",
       "      <td>NaN</td>\n",
       "      <td>NaN</td>\n",
       "      <td>NaN</td>\n",
       "      <td>NaN</td>\n",
       "      <td>NaN</td>\n",
       "      <td>NaN</td>\n",
       "      <td>NaN</td>\n",
       "      <td>NaN</td>\n",
       "      <td>NaN</td>\n",
       "    </tr>\n",
       "  </tbody>\n",
       "</table>\n",
       "<p>5 rows × 48 columns</p>\n",
       "</div>"
      ],
      "text/plain": [
       "        0        1        2        3        4        5        6        7   \\\n",
       "0  0.66929  0.81137  0.75647  0.22221 -0.14389 -0.13032 -0.34931 -0.26401   \n",
       "1  0.22850  0.13695  0.37016  0.08172 -0.05709  0.38348 -0.27536 -0.63390   \n",
       "2 -2.72057  3.72297  3.37689 -1.28232 -0.90316  0.47276  0.60817  1.13021   \n",
       "3 -0.06289  0.54739  0.62190 -1.35643 -0.54872  0.28130  0.57759  0.60009   \n",
       "4 -0.57520 -1.41006 -1.31180 -0.58965 -1.32969  0.65253  1.15038 -0.27477   \n",
       "\n",
       "        8        9  ...  38  39  40  41  42  43  44  45  46  47  \n",
       "0 -0.34900 -0.41699 ... NaN NaN NaN NaN NaN NaN NaN NaN NaN NaN  \n",
       "1  0.21317 -0.05919 ... NaN NaN NaN NaN NaN NaN NaN NaN NaN NaN  \n",
       "2  1.93092  0.62547 ... NaN NaN NaN NaN NaN NaN NaN NaN NaN NaN  \n",
       "3  1.49150  1.49977 ... NaN NaN NaN NaN NaN NaN NaN NaN NaN NaN  \n",
       "4 -0.61810  0.01130 ... NaN NaN NaN NaN NaN NaN NaN NaN NaN NaN  \n",
       "\n",
       "[5 rows x 48 columns]"
      ]
     },
     "execution_count": 11,
     "metadata": {},
     "output_type": "execute_result"
    }
   ],
   "source": [
    "accXDf.head()"
   ]
  },
  {
   "cell_type": "code",
   "execution_count": 12,
   "metadata": {
    "ExecuteTime": {
     "end_time": "2018-05-03T13:53:40.921181Z",
     "start_time": "2018-05-03T13:53:40.805178Z"
    }
   },
   "outputs": [
    {
     "data": {
      "text/plain": [
       "0     0.346705\n",
       "1     0.383030\n",
       "2     1.405936\n",
       "3     1.164702\n",
       "4     0.807528\n",
       "5     0.764234\n",
       "6     0.498969\n",
       "7     0.738315\n",
       "8     0.590494\n",
       "9     1.795119\n",
       "10    0.580487\n",
       "11    0.649191\n",
       "12    1.029057\n",
       "13    1.593236\n",
       "14    1.105828\n",
       "15    1.123956\n",
       "16    0.568256\n",
       "17    0.652359\n",
       "18    0.480085\n",
       "19    0.510043\n",
       "dtype: float64"
      ]
     },
     "execution_count": 12,
     "metadata": {},
     "output_type": "execute_result"
    }
   ],
   "source": [
    "# Um mehr Spalten eines Panda DataFrames auszugeben\n",
    "pandas.set_option('display.max_columns', 40)\n",
    "accXDf.abs().T.mean().head(20)"
   ]
  },
  {
   "cell_type": "code",
   "execution_count": 13,
   "metadata": {
    "ExecuteTime": {
     "end_time": "2018-05-03T13:54:00.033542Z",
     "start_time": "2018-05-03T13:54:00.025541Z"
    }
   },
   "outputs": [
    {
     "data": {
      "text/plain": [
       "(100997, 48)"
      ]
     },
     "execution_count": 13,
     "metadata": {},
     "output_type": "execute_result"
    }
   ],
   "source": [
    "accXDf.shape"
   ]
  },
  {
   "cell_type": "code",
   "execution_count": 15,
   "metadata": {
    "ExecuteTime": {
     "end_time": "2018-04-18T12:06:08.087927Z",
     "start_time": "2018-04-18T12:06:08.071926Z"
    }
   },
   "outputs": [
    {
     "data": {
      "text/html": [
       "<div>\n",
       "<style scoped>\n",
       "    .dataframe tbody tr th:only-of-type {\n",
       "        vertical-align: middle;\n",
       "    }\n",
       "\n",
       "    .dataframe tbody tr th {\n",
       "        vertical-align: top;\n",
       "    }\n",
       "\n",
       "    .dataframe thead th {\n",
       "        text-align: right;\n",
       "    }\n",
       "</style>\n",
       "<table border=\"1\" class=\"dataframe\">\n",
       "  <thead>\n",
       "    <tr style=\"text-align: right;\">\n",
       "      <th></th>\n",
       "      <th>Zeitstempel in Unixzeit</th>\n",
       "      <th>Breitengrad</th>\n",
       "      <th>Laengengrad</th>\n",
       "      <th>Geschwindigkeit in km/h</th>\n",
       "      <th>X-Achse Beschleunigungswerte in m/s^2</th>\n",
       "      <th>Y-Achse Beschleunigungswerte in m/s^2</th>\n",
       "      <th>Z-Achse Beschleunigungswerte in m/s^2</th>\n",
       "      <th>Gier Messwerte in rad</th>\n",
       "      <th>Nick Messwerte in rad</th>\n",
       "      <th>Roll Messwerte in rad</th>\n",
       "      <th>Zeitstempel der Messwerte in ns</th>\n",
       "      <th>Anzahl der Messwerte</th>\n",
       "      <th>Start des Zeitfensters in ns seit Start der JVM</th>\n",
       "      <th>Start der Messwerterfassung in ns seit Start der JVM</th>\n",
       "      <th>Start der Belichtung in ns seit Start der JVM</th>\n",
       "      <th>Belichtungszeit in ns</th>\n",
       "      <th>Letzter Zeitstempel der Messwerterfassung in ns seit Start der JVM</th>\n",
       "      <th>Stopp der Messwerterfassung in Unixzeit</th>\n",
       "    </tr>\n",
       "  </thead>\n",
       "  <tbody>\n",
       "  </tbody>\n",
       "</table>\n",
       "</div>"
      ],
      "text/plain": [
       "Empty DataFrame\n",
       "Columns: [Zeitstempel in Unixzeit, Breitengrad, Laengengrad, Geschwindigkeit in km/h, X-Achse Beschleunigungswerte in m/s^2, Y-Achse Beschleunigungswerte in m/s^2, Z-Achse Beschleunigungswerte in m/s^2, Gier Messwerte in rad, Nick Messwerte in rad, Roll Messwerte in rad, Zeitstempel der Messwerte in ns, Anzahl der Messwerte, Start des Zeitfensters in ns seit Start der JVM, Start der Messwerterfassung in ns seit Start der JVM, Start der Belichtung in ns seit Start der JVM, Belichtungszeit in ns, Letzter Zeitstempel der Messwerterfassung in ns seit Start der JVM, Stopp der Messwerterfassung in Unixzeit]\n",
       "Index: []"
      ]
     },
     "execution_count": 15,
     "metadata": {},
     "output_type": "execute_result"
    }
   ],
   "source": [
    "# ausführen wenn alle Daten die gleiche Ahnzahl an Messwerten haben sollen. \n",
    "# Dadurch werden Reihen gelöscht!\n",
    "unwantedRows = featuresDf['Anzahl der Messwerte'][featuresDf['Anzahl der Messwerte'] != 20]\n",
    "featuresDf.drop(featuresDf.index, axis=0)"
   ]
  },
  {
   "cell_type": "code",
   "execution_count": 16,
   "metadata": {
    "ExecuteTime": {
     "end_time": "2018-04-18T12:06:16.405144Z",
     "start_time": "2018-04-18T12:06:08.087927Z"
    }
   },
   "outputs": [],
   "source": [
    "accYList = featuresDf['Y-Achse Beschleunigungswerte in m/s^2'].str.split(\" \").tolist()\n",
    "accList = []\n",
    "accList.append(pandas.DataFrame(np.array(accYList[0]).astype(float)).transpose())\n",
    "for x in accYList[1:]:\n",
    "    accList.append(pandas.DataFrame(np.array(x).astype(float)).transpose())\n",
    "accYDf = pandas.concat(accList, ignore_index=True)"
   ]
  },
  {
   "cell_type": "code",
   "execution_count": 17,
   "metadata": {
    "ExecuteTime": {
     "end_time": "2018-04-18T12:06:16.420705Z",
     "start_time": "2018-04-18T12:06:16.405144Z"
    }
   },
   "outputs": [
    {
     "name": "stdout",
     "output_type": "stream",
     "text": [
      "<class 'pandas.core.frame.DataFrame'>\n",
      "RangeIndex: 8972 entries, 0 to 8971\n",
      "Data columns (total 43 columns):\n",
      "0     8972 non-null float64\n",
      "1     8972 non-null float64\n",
      "2     8972 non-null float64\n",
      "3     8972 non-null float64\n",
      "4     8972 non-null float64\n",
      "5     8971 non-null float64\n",
      "6     8971 non-null float64\n",
      "7     8971 non-null float64\n",
      "8     8971 non-null float64\n",
      "9     8971 non-null float64\n",
      "10    8971 non-null float64\n",
      "11    8971 non-null float64\n",
      "12    8971 non-null float64\n",
      "13    8971 non-null float64\n",
      "14    8970 non-null float64\n",
      "15    8970 non-null float64\n",
      "16    8969 non-null float64\n",
      "17    8947 non-null float64\n",
      "18    8188 non-null float64\n",
      "19    1904 non-null float64\n",
      "20    35 non-null float64\n",
      "21    9 non-null float64\n",
      "22    4 non-null float64\n",
      "23    3 non-null float64\n",
      "24    2 non-null float64\n",
      "25    2 non-null float64\n",
      "26    2 non-null float64\n",
      "27    1 non-null float64\n",
      "28    1 non-null float64\n",
      "29    1 non-null float64\n",
      "30    1 non-null float64\n",
      "31    1 non-null float64\n",
      "32    1 non-null float64\n",
      "33    1 non-null float64\n",
      "34    1 non-null float64\n",
      "35    1 non-null float64\n",
      "36    1 non-null float64\n",
      "37    1 non-null float64\n",
      "38    1 non-null float64\n",
      "39    1 non-null float64\n",
      "40    1 non-null float64\n",
      "41    1 non-null float64\n",
      "42    1 non-null float64\n",
      "dtypes: float64(43)\n",
      "memory usage: 2.9 MB\n"
     ]
    }
   ],
   "source": [
    "accYDf.info()"
   ]
  },
  {
   "cell_type": "code",
   "execution_count": 18,
   "metadata": {
    "ExecuteTime": {
     "end_time": "2018-04-18T12:06:16.464701Z",
     "start_time": "2018-04-18T12:06:16.420705Z"
    }
   },
   "outputs": [
    {
     "data": {
      "text/html": [
       "<div>\n",
       "<style scoped>\n",
       "    .dataframe tbody tr th:only-of-type {\n",
       "        vertical-align: middle;\n",
       "    }\n",
       "\n",
       "    .dataframe tbody tr th {\n",
       "        vertical-align: top;\n",
       "    }\n",
       "\n",
       "    .dataframe thead th {\n",
       "        text-align: right;\n",
       "    }\n",
       "</style>\n",
       "<table border=\"1\" class=\"dataframe\">\n",
       "  <thead>\n",
       "    <tr style=\"text-align: right;\">\n",
       "      <th></th>\n",
       "      <th>0</th>\n",
       "      <th>1</th>\n",
       "      <th>2</th>\n",
       "      <th>3</th>\n",
       "      <th>4</th>\n",
       "      <th>5</th>\n",
       "      <th>6</th>\n",
       "      <th>7</th>\n",
       "      <th>8</th>\n",
       "      <th>9</th>\n",
       "      <th>10</th>\n",
       "      <th>11</th>\n",
       "      <th>12</th>\n",
       "      <th>13</th>\n",
       "      <th>14</th>\n",
       "      <th>15</th>\n",
       "      <th>16</th>\n",
       "      <th>17</th>\n",
       "      <th>18</th>\n",
       "      <th>19</th>\n",
       "      <th>...</th>\n",
       "      <th>23</th>\n",
       "      <th>24</th>\n",
       "      <th>25</th>\n",
       "      <th>26</th>\n",
       "      <th>27</th>\n",
       "      <th>28</th>\n",
       "      <th>29</th>\n",
       "      <th>30</th>\n",
       "      <th>31</th>\n",
       "      <th>32</th>\n",
       "      <th>33</th>\n",
       "      <th>34</th>\n",
       "      <th>35</th>\n",
       "      <th>36</th>\n",
       "      <th>37</th>\n",
       "      <th>38</th>\n",
       "      <th>39</th>\n",
       "      <th>40</th>\n",
       "      <th>41</th>\n",
       "      <th>42</th>\n",
       "    </tr>\n",
       "  </thead>\n",
       "  <tbody>\n",
       "    <tr>\n",
       "      <th>0</th>\n",
       "      <td>-0.39891</td>\n",
       "      <td>-1.83615</td>\n",
       "      <td>-1.17784</td>\n",
       "      <td>-1.57057</td>\n",
       "      <td>-0.64358</td>\n",
       "      <td>0.37380</td>\n",
       "      <td>1.50949</td>\n",
       "      <td>1.95836</td>\n",
       "      <td>1.61260</td>\n",
       "      <td>0.38598</td>\n",
       "      <td>-0.47274</td>\n",
       "      <td>-0.40889</td>\n",
       "      <td>-1.15461</td>\n",
       "      <td>-1.18423</td>\n",
       "      <td>-1.08534</td>\n",
       "      <td>1.73656</td>\n",
       "      <td>1.60372</td>\n",
       "      <td>-0.61712</td>\n",
       "      <td>0.53289</td>\n",
       "      <td>0.47221</td>\n",
       "      <td>...</td>\n",
       "      <td>NaN</td>\n",
       "      <td>NaN</td>\n",
       "      <td>NaN</td>\n",
       "      <td>NaN</td>\n",
       "      <td>NaN</td>\n",
       "      <td>NaN</td>\n",
       "      <td>NaN</td>\n",
       "      <td>NaN</td>\n",
       "      <td>NaN</td>\n",
       "      <td>NaN</td>\n",
       "      <td>NaN</td>\n",
       "      <td>NaN</td>\n",
       "      <td>NaN</td>\n",
       "      <td>NaN</td>\n",
       "      <td>NaN</td>\n",
       "      <td>NaN</td>\n",
       "      <td>NaN</td>\n",
       "      <td>NaN</td>\n",
       "      <td>NaN</td>\n",
       "      <td>NaN</td>\n",
       "    </tr>\n",
       "    <tr>\n",
       "      <th>1</th>\n",
       "      <td>-0.05398</td>\n",
       "      <td>-0.28840</td>\n",
       "      <td>-1.59451</td>\n",
       "      <td>-1.12244</td>\n",
       "      <td>-0.42300</td>\n",
       "      <td>0.48899</td>\n",
       "      <td>0.54436</td>\n",
       "      <td>0.58867</td>\n",
       "      <td>0.60878</td>\n",
       "      <td>0.60955</td>\n",
       "      <td>0.30371</td>\n",
       "      <td>-0.63048</td>\n",
       "      <td>-1.14801</td>\n",
       "      <td>-1.20960</td>\n",
       "      <td>-0.55401</td>\n",
       "      <td>0.10836</td>\n",
       "      <td>0.25519</td>\n",
       "      <td>-0.24027</td>\n",
       "      <td>0.80372</td>\n",
       "      <td>0.45904</td>\n",
       "      <td>...</td>\n",
       "      <td>NaN</td>\n",
       "      <td>NaN</td>\n",
       "      <td>NaN</td>\n",
       "      <td>NaN</td>\n",
       "      <td>NaN</td>\n",
       "      <td>NaN</td>\n",
       "      <td>NaN</td>\n",
       "      <td>NaN</td>\n",
       "      <td>NaN</td>\n",
       "      <td>NaN</td>\n",
       "      <td>NaN</td>\n",
       "      <td>NaN</td>\n",
       "      <td>NaN</td>\n",
       "      <td>NaN</td>\n",
       "      <td>NaN</td>\n",
       "      <td>NaN</td>\n",
       "      <td>NaN</td>\n",
       "      <td>NaN</td>\n",
       "      <td>NaN</td>\n",
       "      <td>NaN</td>\n",
       "    </tr>\n",
       "    <tr>\n",
       "      <th>2</th>\n",
       "      <td>1.25695</td>\n",
       "      <td>-0.06710</td>\n",
       "      <td>-0.29890</td>\n",
       "      <td>0.58825</td>\n",
       "      <td>1.86493</td>\n",
       "      <td>-0.74524</td>\n",
       "      <td>-3.40034</td>\n",
       "      <td>-2.19935</td>\n",
       "      <td>0.89133</td>\n",
       "      <td>0.88155</td>\n",
       "      <td>0.12292</td>\n",
       "      <td>-0.28479</td>\n",
       "      <td>-0.45773</td>\n",
       "      <td>-2.25096</td>\n",
       "      <td>-2.18389</td>\n",
       "      <td>-1.80846</td>\n",
       "      <td>-0.84924</td>\n",
       "      <td>-0.12781</td>\n",
       "      <td>0.84771</td>\n",
       "      <td>NaN</td>\n",
       "      <td>...</td>\n",
       "      <td>NaN</td>\n",
       "      <td>NaN</td>\n",
       "      <td>NaN</td>\n",
       "      <td>NaN</td>\n",
       "      <td>NaN</td>\n",
       "      <td>NaN</td>\n",
       "      <td>NaN</td>\n",
       "      <td>NaN</td>\n",
       "      <td>NaN</td>\n",
       "      <td>NaN</td>\n",
       "      <td>NaN</td>\n",
       "      <td>NaN</td>\n",
       "      <td>NaN</td>\n",
       "      <td>NaN</td>\n",
       "      <td>NaN</td>\n",
       "      <td>NaN</td>\n",
       "      <td>NaN</td>\n",
       "      <td>NaN</td>\n",
       "      <td>NaN</td>\n",
       "      <td>NaN</td>\n",
       "    </tr>\n",
       "    <tr>\n",
       "      <th>3</th>\n",
       "      <td>0.86116</td>\n",
       "      <td>0.41307</td>\n",
       "      <td>-0.43575</td>\n",
       "      <td>-0.45591</td>\n",
       "      <td>0.40136</td>\n",
       "      <td>1.24040</td>\n",
       "      <td>0.34871</td>\n",
       "      <td>-1.39129</td>\n",
       "      <td>-1.25099</td>\n",
       "      <td>0.74597</td>\n",
       "      <td>0.61204</td>\n",
       "      <td>-0.76690</td>\n",
       "      <td>-0.50632</td>\n",
       "      <td>0.11588</td>\n",
       "      <td>-0.93399</td>\n",
       "      <td>-2.80052</td>\n",
       "      <td>-2.36305</td>\n",
       "      <td>0.13212</td>\n",
       "      <td>1.25486</td>\n",
       "      <td>NaN</td>\n",
       "      <td>...</td>\n",
       "      <td>NaN</td>\n",
       "      <td>NaN</td>\n",
       "      <td>NaN</td>\n",
       "      <td>NaN</td>\n",
       "      <td>NaN</td>\n",
       "      <td>NaN</td>\n",
       "      <td>NaN</td>\n",
       "      <td>NaN</td>\n",
       "      <td>NaN</td>\n",
       "      <td>NaN</td>\n",
       "      <td>NaN</td>\n",
       "      <td>NaN</td>\n",
       "      <td>NaN</td>\n",
       "      <td>NaN</td>\n",
       "      <td>NaN</td>\n",
       "      <td>NaN</td>\n",
       "      <td>NaN</td>\n",
       "      <td>NaN</td>\n",
       "      <td>NaN</td>\n",
       "      <td>NaN</td>\n",
       "    </tr>\n",
       "    <tr>\n",
       "      <th>4</th>\n",
       "      <td>-1.12954</td>\n",
       "      <td>-4.36667</td>\n",
       "      <td>-4.39744</td>\n",
       "      <td>-3.45672</td>\n",
       "      <td>-0.16053</td>\n",
       "      <td>6.10793</td>\n",
       "      <td>5.89761</td>\n",
       "      <td>0.12116</td>\n",
       "      <td>-4.53063</td>\n",
       "      <td>-5.12621</td>\n",
       "      <td>-6.06235</td>\n",
       "      <td>-3.59347</td>\n",
       "      <td>1.32365</td>\n",
       "      <td>1.91694</td>\n",
       "      <td>1.85529</td>\n",
       "      <td>1.83659</td>\n",
       "      <td>1.10147</td>\n",
       "      <td>0.29886</td>\n",
       "      <td>-0.69567</td>\n",
       "      <td>NaN</td>\n",
       "      <td>...</td>\n",
       "      <td>NaN</td>\n",
       "      <td>NaN</td>\n",
       "      <td>NaN</td>\n",
       "      <td>NaN</td>\n",
       "      <td>NaN</td>\n",
       "      <td>NaN</td>\n",
       "      <td>NaN</td>\n",
       "      <td>NaN</td>\n",
       "      <td>NaN</td>\n",
       "      <td>NaN</td>\n",
       "      <td>NaN</td>\n",
       "      <td>NaN</td>\n",
       "      <td>NaN</td>\n",
       "      <td>NaN</td>\n",
       "      <td>NaN</td>\n",
       "      <td>NaN</td>\n",
       "      <td>NaN</td>\n",
       "      <td>NaN</td>\n",
       "      <td>NaN</td>\n",
       "      <td>NaN</td>\n",
       "    </tr>\n",
       "  </tbody>\n",
       "</table>\n",
       "<p>5 rows × 43 columns</p>\n",
       "</div>"
      ],
      "text/plain": [
       "        0        1        2        3        4        5        6        7   \\\n",
       "0 -0.39891 -1.83615 -1.17784 -1.57057 -0.64358  0.37380  1.50949  1.95836   \n",
       "1 -0.05398 -0.28840 -1.59451 -1.12244 -0.42300  0.48899  0.54436  0.58867   \n",
       "2  1.25695 -0.06710 -0.29890  0.58825  1.86493 -0.74524 -3.40034 -2.19935   \n",
       "3  0.86116  0.41307 -0.43575 -0.45591  0.40136  1.24040  0.34871 -1.39129   \n",
       "4 -1.12954 -4.36667 -4.39744 -3.45672 -0.16053  6.10793  5.89761  0.12116   \n",
       "\n",
       "        8        9        10       11       12       13       14       15  \\\n",
       "0  1.61260  0.38598 -0.47274 -0.40889 -1.15461 -1.18423 -1.08534  1.73656   \n",
       "1  0.60878  0.60955  0.30371 -0.63048 -1.14801 -1.20960 -0.55401  0.10836   \n",
       "2  0.89133  0.88155  0.12292 -0.28479 -0.45773 -2.25096 -2.18389 -1.80846   \n",
       "3 -1.25099  0.74597  0.61204 -0.76690 -0.50632  0.11588 -0.93399 -2.80052   \n",
       "4 -4.53063 -5.12621 -6.06235 -3.59347  1.32365  1.91694  1.85529  1.83659   \n",
       "\n",
       "        16       17       18       19 ...  23  24  25  26  27  28  29  30  31  \\\n",
       "0  1.60372 -0.61712  0.53289  0.47221 ... NaN NaN NaN NaN NaN NaN NaN NaN NaN   \n",
       "1  0.25519 -0.24027  0.80372  0.45904 ... NaN NaN NaN NaN NaN NaN NaN NaN NaN   \n",
       "2 -0.84924 -0.12781  0.84771      NaN ... NaN NaN NaN NaN NaN NaN NaN NaN NaN   \n",
       "3 -2.36305  0.13212  1.25486      NaN ... NaN NaN NaN NaN NaN NaN NaN NaN NaN   \n",
       "4  1.10147  0.29886 -0.69567      NaN ... NaN NaN NaN NaN NaN NaN NaN NaN NaN   \n",
       "\n",
       "   32  33  34  35  36  37  38  39  40  41  42  \n",
       "0 NaN NaN NaN NaN NaN NaN NaN NaN NaN NaN NaN  \n",
       "1 NaN NaN NaN NaN NaN NaN NaN NaN NaN NaN NaN  \n",
       "2 NaN NaN NaN NaN NaN NaN NaN NaN NaN NaN NaN  \n",
       "3 NaN NaN NaN NaN NaN NaN NaN NaN NaN NaN NaN  \n",
       "4 NaN NaN NaN NaN NaN NaN NaN NaN NaN NaN NaN  \n",
       "\n",
       "[5 rows x 43 columns]"
      ]
     },
     "execution_count": 18,
     "metadata": {},
     "output_type": "execute_result"
    }
   ],
   "source": [
    "accYDf.head()"
   ]
  },
  {
   "cell_type": "code",
   "execution_count": 19,
   "metadata": {
    "ExecuteTime": {
     "end_time": "2018-04-18T12:06:24.940567Z",
     "start_time": "2018-04-18T12:06:16.465628Z"
    }
   },
   "outputs": [],
   "source": [
    "# Konvertiere Beschleunigungssensordaten Z-Achse zu einem DataFrame\n",
    "measuredDataList = featuresDf['Z-Achse Beschleunigungswerte in m/s^2'].str.split(\" \").tolist()\n",
    "accList = []\n",
    "accList.append(pandas.DataFrame(np.array(measuredDataList[0]).astype(float)).transpose())\n",
    "for x in measuredDataList[1:]:\n",
    "    accList.append(pandas.DataFrame(np.array(x).astype(float)).transpose())\n",
    "accZDf = pandas.concat(accList, ignore_index=True)"
   ]
  },
  {
   "cell_type": "code",
   "execution_count": 20,
   "metadata": {
    "ExecuteTime": {
     "end_time": "2018-04-18T12:06:33.261956Z",
     "start_time": "2018-04-18T12:06:24.940567Z"
    }
   },
   "outputs": [],
   "source": [
    "# Konvertiere Nick Messwerte zu DataFrame\n",
    "measuredDataList = featuresDf['Nick Messwerte in rad'].str.split(\" \").tolist()\n",
    "pitchList = []\n",
    "pitchList.append(pandas.DataFrame(np.array(measuredDataList[0]).astype(float)).transpose())\n",
    "for x in measuredDataList[1:]:\n",
    "    pitchList.append(pandas.DataFrame(np.array(x).astype(float)).transpose())\n",
    "nickDf = pandas.concat(pitchList, ignore_index=True)"
   ]
  },
  {
   "cell_type": "code",
   "execution_count": 21,
   "metadata": {
    "ExecuteTime": {
     "end_time": "2018-04-18T12:06:41.604839Z",
     "start_time": "2018-04-18T12:06:33.261956Z"
    }
   },
   "outputs": [],
   "source": [
    "# Konvertiere Roll Messwerte zu DataFrame\n",
    "measuredDataList = featuresDf['Roll Messwerte in rad'].str.split(\" \").tolist()\n",
    "rollList = []\n",
    "rollList.append(pandas.DataFrame(np.array(measuredDataList[0]).astype(float)).transpose())\n",
    "for x in measuredDataList[1:]:\n",
    "    rollList.append(pandas.DataFrame(np.array(x).astype(float)).transpose())\n",
    "rollDf = pandas.concat(rollList, ignore_index=True)"
   ]
  },
  {
   "cell_type": "code",
   "execution_count": 22,
   "metadata": {
    "ExecuteTime": {
     "end_time": "2018-04-18T12:06:50.396955Z",
     "start_time": "2018-04-18T12:06:41.604839Z"
    }
   },
   "outputs": [],
   "source": [
    "measuredDataList = featuresDf['Gier Messwerte in rad'].str.split(\" \").tolist()\n",
    "azimuthList = []\n",
    "azimuthList.append(pandas.DataFrame(np.array(measuredDataList[0]).astype(float)).transpose())\n",
    "for x in measuredDataList[1:]:\n",
    "    azimuthList.append(pandas.DataFrame(np.array(x).astype(float)).transpose())\n",
    "azimuthDf = pandas.concat(azimuthList, ignore_index=True)"
   ]
  },
  {
   "cell_type": "code",
   "execution_count": 23,
   "metadata": {
    "ExecuteTime": {
     "end_time": "2018-04-18T12:06:58.987222Z",
     "start_time": "2018-04-18T12:06:50.396955Z"
    }
   },
   "outputs": [],
   "source": [
    "measuredDataList = featuresDf['Zeitstempel der Messwerte in ns'].str.split(\" \").tolist()\n",
    "timestampsList = []\n",
    "timestampsList.append(pandas.DataFrame(np.array(measuredDataList[0]).astype(float)).transpose())\n",
    "for x in measuredDataList[1:]:\n",
    "    timestampsList.append(pandas.DataFrame(np.array(x).astype(float)).transpose())\n",
    "sensorTimestampsDf = pandas.concat(timestampsList, ignore_index=True)"
   ]
  },
  {
   "cell_type": "code",
   "execution_count": 24,
   "metadata": {
    "ExecuteTime": {
     "end_time": "2018-04-18T12:06:59.002065Z",
     "start_time": "2018-04-18T12:06:58.987222Z"
    }
   },
   "outputs": [
    {
     "data": {
      "text/plain": [
       "0    0.543271\n",
       "1    0.346206\n",
       "dtype: float64"
      ]
     },
     "execution_count": 24,
     "metadata": {},
     "output_type": "execute_result"
    }
   ],
   "source": [
    "accXMean = accXDf.abs().T.mean()\n",
    "accXMean.head(2)"
   ]
  },
  {
   "cell_type": "code",
   "execution_count": 25,
   "metadata": {
    "ExecuteTime": {
     "end_time": "2018-04-18T12:06:59.014066Z",
     "start_time": "2018-04-18T12:06:59.002065Z"
    }
   },
   "outputs": [
    {
     "data": {
      "text/plain": [
       "0    1.036779\n",
       "1    0.601754\n",
       "2    1.111971\n",
       "3    0.896331\n",
       "4    2.840986\n",
       "dtype: float64"
      ]
     },
     "execution_count": 25,
     "metadata": {},
     "output_type": "execute_result"
    }
   ],
   "source": [
    "accYDf.abs().T.mean().head()"
   ]
  },
  {
   "cell_type": "code",
   "execution_count": 26,
   "metadata": {
    "ExecuteTime": {
     "end_time": "2018-04-18T12:06:59.054067Z",
     "start_time": "2018-04-18T12:06:59.014066Z"
    }
   },
   "outputs": [],
   "source": [
    "# Neue Spalten werden erstellt und Mittelwerte zugewiesen\n",
    "featuresDf['Mittelwert X-Achse Beschleunigung in m/s^2'] = accXMean\n",
    "featuresDf['Mittelwert Y-Achse Beschleunigung in m/s^2'] = accYDf.abs().T.mean()\n",
    "featuresDf['Mittelwert Z-Achse Beschleunigung in m/s^2'] = accZDf.abs().T.mean()\n",
    "featuresDf['Mittelwert Nick in rad'] = nickDf.abs().T.mean()\n",
    "featuresDf['Mittelwert Roll in rad'] = rollDf.abs().T.mean()"
   ]
  },
  {
   "cell_type": "code",
   "execution_count": 27,
   "metadata": {
    "ExecuteTime": {
     "end_time": "2018-04-18T12:06:59.062066Z",
     "start_time": "2018-04-18T12:06:59.054067Z"
    }
   },
   "outputs": [
    {
     "data": {
      "text/plain": [
       "0    0.543271\n",
       "1    0.346206\n",
       "Name: Mittelwert X-Achse Beschleunigung in m/s^2, dtype: float64"
      ]
     },
     "execution_count": 27,
     "metadata": {},
     "output_type": "execute_result"
    }
   ],
   "source": [
    "featuresDf['Mittelwert X-Achse Beschleunigung in m/s^2'].head(2)"
   ]
  },
  {
   "cell_type": "code",
   "execution_count": 28,
   "metadata": {
    "ExecuteTime": {
     "end_time": "2018-04-18T12:06:59.070066Z",
     "start_time": "2018-04-18T12:06:59.062066Z"
    },
    "scrolled": true
   },
   "outputs": [
    {
     "data": {
      "text/plain": [
       "Index(['Zeitstempel in Unixzeit', 'Breitengrad', 'Laengengrad',\n",
       "       'Geschwindigkeit in km/h', 'X-Achse Beschleunigungswerte in m/s^2',\n",
       "       'Y-Achse Beschleunigungswerte in m/s^2',\n",
       "       'Z-Achse Beschleunigungswerte in m/s^2', 'Gier Messwerte in rad',\n",
       "       'Nick Messwerte in rad', 'Roll Messwerte in rad',\n",
       "       'Zeitstempel der Messwerte in ns', 'Anzahl der Messwerte',\n",
       "       'Start des Zeitfensters in ns seit Start der JVM',\n",
       "       'Start der Messwerterfassung in ns seit Start der JVM',\n",
       "       'Start der Belichtung in ns seit Start der JVM',\n",
       "       'Belichtungszeit in ns',\n",
       "       'Letzter Zeitstempel der Messwerterfassung in ns seit Start der JVM',\n",
       "       'Stopp der Messwerterfassung in Unixzeit',\n",
       "       'Mittelwert X-Achse Beschleunigung in m/s^2',\n",
       "       'Mittelwert Y-Achse Beschleunigung in m/s^2',\n",
       "       'Mittelwert Z-Achse Beschleunigung in m/s^2', 'Mittelwert Nick in rad',\n",
       "       'Mittelwert Roll in rad'],\n",
       "      dtype='object')"
      ]
     },
     "execution_count": 28,
     "metadata": {},
     "output_type": "execute_result"
    }
   ],
   "source": [
    "featuresDf.columns"
   ]
  },
  {
   "cell_type": "markdown",
   "metadata": {},
   "source": [
    "Berechnet die Varianz. Dieser Funktion muss als Paramter der Mittelwert (mean) und der DataFrame mit   \n",
    "den Float Werten übergeben werden, um die Varianz zu berechnen. Als Varianz wird der Durchschnitt der quadrierten  \n",
    "Differenzen zum Mittelwert bezeichnet.   \n",
    "Prec.:    \n",
    "Postc.: Gibt die berechnete Variance als Float zurück oder 0 wenn die Anzahl der Werte <= 0  "
   ]
  },
  {
   "cell_type": "code",
   "execution_count": 29,
   "metadata": {
    "ExecuteTime": {
     "end_time": "2018-04-18T12:06:59.078068Z",
     "start_time": "2018-04-18T12:06:59.070066Z"
    }
   },
   "outputs": [],
   "source": [
    "def calcVariance(meansDf, dfValues):\n",
    "    variance = []\n",
    "    for i, values in dfValues.iterrows():\n",
    "        sum = 0\n",
    "        for value in values:\n",
    "            if math.isnan(value) == False:\n",
    "                tempDifference = value-meansDf[i]\n",
    "                sum += tempDifference * tempDifference\n",
    "        variance.append(\"{0:.5f}\".format(round(sum / values.count(),5)))\n",
    "    return np.array(variance).astype(float)"
   ]
  },
  {
   "cell_type": "markdown",
   "metadata": {},
   "source": [
    "Hier wird die Standardabweichung der Varianz berechnet. Dies ist die Wurzel der Varianz.   \n",
    "Für die Berechnung wird der Absolutwert von der Varianz genommen.    \n",
    "Prec.:\n",
    "Postc.:  Standardabweichung wird zurückgegeben."
   ]
  },
  {
   "cell_type": "code",
   "execution_count": 30,
   "metadata": {
    "ExecuteTime": {
     "end_time": "2018-04-18T12:06:59.086069Z",
     "start_time": "2018-04-18T12:06:59.078068Z"
    }
   },
   "outputs": [],
   "source": [
    "def calculateStandardDeviation(varianceDf):\n",
    "    deviation = []\n",
    "    for v in varianceDf:\n",
    "        temp = math.sqrt(np.abs(v))\n",
    "        deviation.append(\"{0:.5f}\".format(round(temp,5)))\n",
    "    return np.array(deviation).astype(float)"
   ]
  },
  {
   "cell_type": "markdown",
   "metadata": {},
   "source": [
    "Die Funktion berechnet die Winkeldifferenz in rad zwischen den ersten gemessenen Gierwinkel und den letzten Gierwinkel   \n",
    "innerhalb einer als Argument übergebenen DataFrames. Der zurückgegebene Radiant    \n",
    "ist immer positiv und gibt die relative änderung in rad an.      \n",
    "Prec.:   \n",
    "Postc.: Radiant berechnet   "
   ]
  },
  {
   "cell_type": "code",
   "execution_count": 31,
   "metadata": {
    "ExecuteTime": {
     "end_time": "2018-04-18T12:06:59.094068Z",
     "start_time": "2018-04-18T12:06:59.086069Z"
    }
   },
   "outputs": [],
   "source": [
    "def calculateAngelChangeAzimuth(azimuthDf):\n",
    "    result = []\n",
    "    for i,values in azimuthDf.iterrows():\n",
    "        first = values[0]*(180/math.pi)\n",
    "        last = values.iloc[values.count()-1]*(180/math.pi)\n",
    "        resultTemp = np.abs(first - last)\n",
    "        if(resultTemp > 180):\n",
    "            resultTemp = 360 - resultTemp\n",
    "        result.append(\"{0:.5f}\".format(round(resultTemp * ( math.pi / 180),5)))\n",
    "    return np.array(result).astype(float)"
   ]
  },
  {
   "cell_type": "code",
   "execution_count": 32,
   "metadata": {
    "ExecuteTime": {
     "end_time": "2018-04-18T12:07:00.121257Z",
     "start_time": "2018-04-18T12:06:59.094068Z"
    }
   },
   "outputs": [],
   "source": [
    "featuresDf['Gier-Aenderung in rad'] = calculateAngelChangeAzimuth(azimuthDf)"
   ]
  },
  {
   "cell_type": "code",
   "execution_count": 33,
   "metadata": {
    "ExecuteTime": {
     "end_time": "2018-04-18T12:07:14.196342Z",
     "start_time": "2018-04-18T12:07:00.121257Z"
    }
   },
   "outputs": [],
   "source": [
    "# Berechnung der Varianzen und hinzufügen der Ergebnisse als neue Spalte in dem DataFrame \n",
    "featuresDf['Varianz X-Achse Beschleunigung in m/s^2'] = calcVariance(featuresDf['Mittelwert X-Achse Beschleunigung in m/s^2'],accXDf)\n",
    "featuresDf['Varianz Y-Achse Beschleunigung in m/s^2'] = calcVariance(featuresDf['Mittelwert Y-Achse Beschleunigung in m/s^2'],accYDf)\n",
    "featuresDf['Varianz Z-Achse Beschleunigung in m/s^2'] = calcVariance(featuresDf['Mittelwert Z-Achse Beschleunigung in m/s^2'],accZDf)\n",
    "featuresDf['Varianz Nick in rad'] = calcVariance(featuresDf['Mittelwert Nick in rad'],nickDf)\n",
    "featuresDf['Varianz Roll in rad'] = calcVariance(featuresDf['Mittelwert Roll in rad'],rollDf)"
   ]
  },
  {
   "cell_type": "code",
   "execution_count": 34,
   "metadata": {
    "ExecuteTime": {
     "end_time": "2018-04-18T12:07:14.208134Z",
     "start_time": "2018-04-18T12:07:14.196342Z"
    }
   },
   "outputs": [
    {
     "data": {
      "text/plain": [
       "0    0.24436\n",
       "1    0.32940\n",
       "2    1.35824\n",
       "3    1.42913\n",
       "4    5.01102\n",
       "Name: Varianz X-Achse Beschleunigung in m/s^2, dtype: float64"
      ]
     },
     "execution_count": 34,
     "metadata": {},
     "output_type": "execute_result"
    }
   ],
   "source": [
    "featuresDf['Varianz X-Achse Beschleunigung in m/s^2'].head()"
   ]
  },
  {
   "cell_type": "code",
   "execution_count": 35,
   "metadata": {
    "ExecuteTime": {
     "end_time": "2018-04-18T12:07:14.259695Z",
     "start_time": "2018-04-18T12:07:14.208134Z"
    }
   },
   "outputs": [
    {
     "data": {
      "text/plain": [
       "array([0.49433, 0.57393, 1.16544, ..., 0.47966, 0.51355, 0.26406])"
      ]
     },
     "execution_count": 35,
     "metadata": {},
     "output_type": "execute_result"
    }
   ],
   "source": [
    "calculateStandardDeviation(featuresDf['Varianz X-Achse Beschleunigung in m/s^2'])"
   ]
  },
  {
   "cell_type": "code",
   "execution_count": 36,
   "metadata": {
    "ExecuteTime": {
     "end_time": "2018-04-18T12:07:14.467950Z",
     "start_time": "2018-04-18T12:07:14.259695Z"
    }
   },
   "outputs": [],
   "source": [
    "# Berechne Standardabweichung\n",
    "featuresDf['Standardabweichung X-Achse Beschleunigung in m/s^2'] = calculateStandardDeviation(featuresDf['Varianz X-Achse Beschleunigung in m/s^2'])\n",
    "featuresDf['Standardabweichung Y-Achse Beschleunigung in m/s^2'] = calculateStandardDeviation(featuresDf['Varianz Y-Achse Beschleunigung in m/s^2'])\n",
    "featuresDf['Standardabweichung Z-Achse Beschleunigung in m/s^2'] = calculateStandardDeviation(featuresDf['Varianz Z-Achse Beschleunigung in m/s^2'])\n",
    "featuresDf['Standardabweichung Nick in rad'] = calculateStandardDeviation(featuresDf['Varianz Nick in rad'])\n",
    "featuresDf['Standardabweichung Roll in rad'] = calculateStandardDeviation(featuresDf['Varianz Roll in rad'])"
   ]
  },
  {
   "cell_type": "code",
   "execution_count": 37,
   "metadata": {
    "ExecuteTime": {
     "end_time": "2018-04-18T12:07:14.475142Z",
     "start_time": "2018-04-18T12:07:14.467950Z"
    }
   },
   "outputs": [
    {
     "data": {
      "text/plain": [
       "0    0.49433\n",
       "1    0.57393\n",
       "2    1.16544\n",
       "3    1.19546\n",
       "4    2.23853\n",
       "Name: Standardabweichung X-Achse Beschleunigung in m/s^2, dtype: float64"
      ]
     },
     "execution_count": 37,
     "metadata": {},
     "output_type": "execute_result"
    }
   ],
   "source": [
    "featuresDf['Standardabweichung X-Achse Beschleunigung in m/s^2'].head()"
   ]
  },
  {
   "cell_type": "code",
   "execution_count": 38,
   "metadata": {
    "ExecuteTime": {
     "end_time": "2018-04-18T12:07:14.487142Z",
     "start_time": "2018-04-18T12:07:14.475142Z"
    }
   },
   "outputs": [
    {
     "name": "stdout",
     "output_type": "stream",
     "text": [
      "<class 'pandas.core.frame.DataFrame'>\n",
      "RangeIndex: 8972 entries, 0 to 8971\n",
      "Data columns (total 43 columns):\n",
      "0     8972 non-null float64\n",
      "1     8972 non-null float64\n",
      "2     8972 non-null float64\n",
      "3     8972 non-null float64\n",
      "4     8972 non-null float64\n",
      "5     8971 non-null float64\n",
      "6     8971 non-null float64\n",
      "7     8971 non-null float64\n",
      "8     8971 non-null float64\n",
      "9     8971 non-null float64\n",
      "10    8971 non-null float64\n",
      "11    8971 non-null float64\n",
      "12    8971 non-null float64\n",
      "13    8971 non-null float64\n",
      "14    8970 non-null float64\n",
      "15    8970 non-null float64\n",
      "16    8969 non-null float64\n",
      "17    8947 non-null float64\n",
      "18    8188 non-null float64\n",
      "19    1904 non-null float64\n",
      "20    35 non-null float64\n",
      "21    9 non-null float64\n",
      "22    4 non-null float64\n",
      "23    3 non-null float64\n",
      "24    2 non-null float64\n",
      "25    2 non-null float64\n",
      "26    2 non-null float64\n",
      "27    1 non-null float64\n",
      "28    1 non-null float64\n",
      "29    1 non-null float64\n",
      "30    1 non-null float64\n",
      "31    1 non-null float64\n",
      "32    1 non-null float64\n",
      "33    1 non-null float64\n",
      "34    1 non-null float64\n",
      "35    1 non-null float64\n",
      "36    1 non-null float64\n",
      "37    1 non-null float64\n",
      "38    1 non-null float64\n",
      "39    1 non-null float64\n",
      "40    1 non-null float64\n",
      "41    1 non-null float64\n",
      "42    1 non-null float64\n",
      "dtypes: float64(43)\n",
      "memory usage: 2.9 MB\n"
     ]
    }
   ],
   "source": [
    "accXDf.info()"
   ]
  },
  {
   "cell_type": "code",
   "execution_count": 39,
   "metadata": {
    "ExecuteTime": {
     "end_time": "2018-04-18T12:07:14.524200Z",
     "start_time": "2018-04-18T12:07:14.487142Z"
    }
   },
   "outputs": [
    {
     "data": {
      "text/html": [
       "<div>\n",
       "<style scoped>\n",
       "    .dataframe tbody tr th:only-of-type {\n",
       "        vertical-align: middle;\n",
       "    }\n",
       "\n",
       "    .dataframe tbody tr th {\n",
       "        vertical-align: top;\n",
       "    }\n",
       "\n",
       "    .dataframe thead th {\n",
       "        text-align: right;\n",
       "    }\n",
       "</style>\n",
       "<table border=\"1\" class=\"dataframe\">\n",
       "  <thead>\n",
       "    <tr style=\"text-align: right;\">\n",
       "      <th></th>\n",
       "      <th>0</th>\n",
       "      <th>1</th>\n",
       "      <th>2</th>\n",
       "      <th>3</th>\n",
       "      <th>4</th>\n",
       "      <th>5</th>\n",
       "      <th>6</th>\n",
       "      <th>7</th>\n",
       "      <th>8</th>\n",
       "      <th>9</th>\n",
       "      <th>10</th>\n",
       "      <th>11</th>\n",
       "      <th>12</th>\n",
       "      <th>13</th>\n",
       "      <th>14</th>\n",
       "      <th>15</th>\n",
       "      <th>16</th>\n",
       "      <th>17</th>\n",
       "      <th>18</th>\n",
       "      <th>19</th>\n",
       "      <th>...</th>\n",
       "      <th>23</th>\n",
       "      <th>24</th>\n",
       "      <th>25</th>\n",
       "      <th>26</th>\n",
       "      <th>27</th>\n",
       "      <th>28</th>\n",
       "      <th>29</th>\n",
       "      <th>30</th>\n",
       "      <th>31</th>\n",
       "      <th>32</th>\n",
       "      <th>33</th>\n",
       "      <th>34</th>\n",
       "      <th>35</th>\n",
       "      <th>36</th>\n",
       "      <th>37</th>\n",
       "      <th>38</th>\n",
       "      <th>39</th>\n",
       "      <th>40</th>\n",
       "      <th>41</th>\n",
       "      <th>42</th>\n",
       "    </tr>\n",
       "  </thead>\n",
       "  <tbody>\n",
       "    <tr>\n",
       "      <th>0</th>\n",
       "      <td>0.50696</td>\n",
       "      <td>0.60484</td>\n",
       "      <td>0.60654</td>\n",
       "      <td>-0.06632</td>\n",
       "      <td>-0.28282</td>\n",
       "      <td>0.81578</td>\n",
       "      <td>1.08174</td>\n",
       "      <td>0.49772</td>\n",
       "      <td>0.50552</td>\n",
       "      <td>0.92548</td>\n",
       "      <td>0.47996</td>\n",
       "      <td>-0.16758</td>\n",
       "      <td>-0.57834</td>\n",
       "      <td>-0.40131</td>\n",
       "      <td>-0.15241</td>\n",
       "      <td>0.76687</td>\n",
       "      <td>0.69020</td>\n",
       "      <td>0.50626</td>\n",
       "      <td>0.81881</td>\n",
       "      <td>0.40996</td>\n",
       "      <td>...</td>\n",
       "      <td>NaN</td>\n",
       "      <td>NaN</td>\n",
       "      <td>NaN</td>\n",
       "      <td>NaN</td>\n",
       "      <td>NaN</td>\n",
       "      <td>NaN</td>\n",
       "      <td>NaN</td>\n",
       "      <td>NaN</td>\n",
       "      <td>NaN</td>\n",
       "      <td>NaN</td>\n",
       "      <td>NaN</td>\n",
       "      <td>NaN</td>\n",
       "      <td>NaN</td>\n",
       "      <td>NaN</td>\n",
       "      <td>NaN</td>\n",
       "      <td>NaN</td>\n",
       "      <td>NaN</td>\n",
       "      <td>NaN</td>\n",
       "      <td>NaN</td>\n",
       "      <td>NaN</td>\n",
       "    </tr>\n",
       "    <tr>\n",
       "      <th>1</th>\n",
       "      <td>0.14722</td>\n",
       "      <td>-0.18861</td>\n",
       "      <td>-0.22743</td>\n",
       "      <td>-0.35041</td>\n",
       "      <td>-0.03508</td>\n",
       "      <td>-0.24251</td>\n",
       "      <td>-0.22457</td>\n",
       "      <td>-0.77718</td>\n",
       "      <td>-0.85151</td>\n",
       "      <td>-0.69645</td>\n",
       "      <td>-0.08208</td>\n",
       "      <td>0.14894</td>\n",
       "      <td>0.59424</td>\n",
       "      <td>0.47547</td>\n",
       "      <td>0.39577</td>\n",
       "      <td>0.73042</td>\n",
       "      <td>0.53844</td>\n",
       "      <td>0.12437</td>\n",
       "      <td>-0.06898</td>\n",
       "      <td>-0.02445</td>\n",
       "      <td>...</td>\n",
       "      <td>NaN</td>\n",
       "      <td>NaN</td>\n",
       "      <td>NaN</td>\n",
       "      <td>NaN</td>\n",
       "      <td>NaN</td>\n",
       "      <td>NaN</td>\n",
       "      <td>NaN</td>\n",
       "      <td>NaN</td>\n",
       "      <td>NaN</td>\n",
       "      <td>NaN</td>\n",
       "      <td>NaN</td>\n",
       "      <td>NaN</td>\n",
       "      <td>NaN</td>\n",
       "      <td>NaN</td>\n",
       "      <td>NaN</td>\n",
       "      <td>NaN</td>\n",
       "      <td>NaN</td>\n",
       "      <td>NaN</td>\n",
       "      <td>NaN</td>\n",
       "      <td>NaN</td>\n",
       "    </tr>\n",
       "    <tr>\n",
       "      <th>2</th>\n",
       "      <td>0.18452</td>\n",
       "      <td>-0.28135</td>\n",
       "      <td>-0.13307</td>\n",
       "      <td>0.20008</td>\n",
       "      <td>0.48192</td>\n",
       "      <td>0.96789</td>\n",
       "      <td>0.42196</td>\n",
       "      <td>-0.91882</td>\n",
       "      <td>-1.88420</td>\n",
       "      <td>-1.17018</td>\n",
       "      <td>-0.18524</td>\n",
       "      <td>0.20430</td>\n",
       "      <td>-0.25019</td>\n",
       "      <td>-0.58315</td>\n",
       "      <td>-0.97210</td>\n",
       "      <td>-1.08406</td>\n",
       "      <td>-0.98975</td>\n",
       "      <td>0.31152</td>\n",
       "      <td>0.98480</td>\n",
       "      <td>NaN</td>\n",
       "      <td>...</td>\n",
       "      <td>NaN</td>\n",
       "      <td>NaN</td>\n",
       "      <td>NaN</td>\n",
       "      <td>NaN</td>\n",
       "      <td>NaN</td>\n",
       "      <td>NaN</td>\n",
       "      <td>NaN</td>\n",
       "      <td>NaN</td>\n",
       "      <td>NaN</td>\n",
       "      <td>NaN</td>\n",
       "      <td>NaN</td>\n",
       "      <td>NaN</td>\n",
       "      <td>NaN</td>\n",
       "      <td>NaN</td>\n",
       "      <td>NaN</td>\n",
       "      <td>NaN</td>\n",
       "      <td>NaN</td>\n",
       "      <td>NaN</td>\n",
       "      <td>NaN</td>\n",
       "      <td>NaN</td>\n",
       "    </tr>\n",
       "    <tr>\n",
       "      <th>3</th>\n",
       "      <td>0.54282</td>\n",
       "      <td>0.25046</td>\n",
       "      <td>0.00124</td>\n",
       "      <td>-0.22876</td>\n",
       "      <td>0.61386</td>\n",
       "      <td>0.58309</td>\n",
       "      <td>0.42058</td>\n",
       "      <td>-0.19975</td>\n",
       "      <td>-0.81861</td>\n",
       "      <td>-1.95726</td>\n",
       "      <td>-1.28991</td>\n",
       "      <td>0.56173</td>\n",
       "      <td>0.44946</td>\n",
       "      <td>-0.69763</td>\n",
       "      <td>-0.75723</td>\n",
       "      <td>-0.37586</td>\n",
       "      <td>-0.65304</td>\n",
       "      <td>-1.47237</td>\n",
       "      <td>-0.45764</td>\n",
       "      <td>NaN</td>\n",
       "      <td>...</td>\n",
       "      <td>NaN</td>\n",
       "      <td>NaN</td>\n",
       "      <td>NaN</td>\n",
       "      <td>NaN</td>\n",
       "      <td>NaN</td>\n",
       "      <td>NaN</td>\n",
       "      <td>NaN</td>\n",
       "      <td>NaN</td>\n",
       "      <td>NaN</td>\n",
       "      <td>NaN</td>\n",
       "      <td>NaN</td>\n",
       "      <td>NaN</td>\n",
       "      <td>NaN</td>\n",
       "      <td>NaN</td>\n",
       "      <td>NaN</td>\n",
       "      <td>NaN</td>\n",
       "      <td>NaN</td>\n",
       "      <td>NaN</td>\n",
       "      <td>NaN</td>\n",
       "      <td>NaN</td>\n",
       "    </tr>\n",
       "    <tr>\n",
       "      <th>4</th>\n",
       "      <td>0.82189</td>\n",
       "      <td>-1.31905</td>\n",
       "      <td>-2.08180</td>\n",
       "      <td>-2.75329</td>\n",
       "      <td>-3.12193</td>\n",
       "      <td>-2.92650</td>\n",
       "      <td>0.20248</td>\n",
       "      <td>1.24999</td>\n",
       "      <td>0.54038</td>\n",
       "      <td>0.04931</td>\n",
       "      <td>0.95890</td>\n",
       "      <td>-0.10620</td>\n",
       "      <td>-0.57522</td>\n",
       "      <td>-1.18027</td>\n",
       "      <td>-0.72963</td>\n",
       "      <td>-0.35378</td>\n",
       "      <td>0.52918</td>\n",
       "      <td>1.81779</td>\n",
       "      <td>2.74143</td>\n",
       "      <td>NaN</td>\n",
       "      <td>...</td>\n",
       "      <td>NaN</td>\n",
       "      <td>NaN</td>\n",
       "      <td>NaN</td>\n",
       "      <td>NaN</td>\n",
       "      <td>NaN</td>\n",
       "      <td>NaN</td>\n",
       "      <td>NaN</td>\n",
       "      <td>NaN</td>\n",
       "      <td>NaN</td>\n",
       "      <td>NaN</td>\n",
       "      <td>NaN</td>\n",
       "      <td>NaN</td>\n",
       "      <td>NaN</td>\n",
       "      <td>NaN</td>\n",
       "      <td>NaN</td>\n",
       "      <td>NaN</td>\n",
       "      <td>NaN</td>\n",
       "      <td>NaN</td>\n",
       "      <td>NaN</td>\n",
       "      <td>NaN</td>\n",
       "    </tr>\n",
       "  </tbody>\n",
       "</table>\n",
       "<p>5 rows × 43 columns</p>\n",
       "</div>"
      ],
      "text/plain": [
       "        0        1        2        3        4        5        6        7   \\\n",
       "0  0.50696  0.60484  0.60654 -0.06632 -0.28282  0.81578  1.08174  0.49772   \n",
       "1  0.14722 -0.18861 -0.22743 -0.35041 -0.03508 -0.24251 -0.22457 -0.77718   \n",
       "2  0.18452 -0.28135 -0.13307  0.20008  0.48192  0.96789  0.42196 -0.91882   \n",
       "3  0.54282  0.25046  0.00124 -0.22876  0.61386  0.58309  0.42058 -0.19975   \n",
       "4  0.82189 -1.31905 -2.08180 -2.75329 -3.12193 -2.92650  0.20248  1.24999   \n",
       "\n",
       "        8        9        10       11       12       13       14       15  \\\n",
       "0  0.50552  0.92548  0.47996 -0.16758 -0.57834 -0.40131 -0.15241  0.76687   \n",
       "1 -0.85151 -0.69645 -0.08208  0.14894  0.59424  0.47547  0.39577  0.73042   \n",
       "2 -1.88420 -1.17018 -0.18524  0.20430 -0.25019 -0.58315 -0.97210 -1.08406   \n",
       "3 -0.81861 -1.95726 -1.28991  0.56173  0.44946 -0.69763 -0.75723 -0.37586   \n",
       "4  0.54038  0.04931  0.95890 -0.10620 -0.57522 -1.18027 -0.72963 -0.35378   \n",
       "\n",
       "        16       17       18       19 ...  23  24  25  26  27  28  29  30  31  \\\n",
       "0  0.69020  0.50626  0.81881  0.40996 ... NaN NaN NaN NaN NaN NaN NaN NaN NaN   \n",
       "1  0.53844  0.12437 -0.06898 -0.02445 ... NaN NaN NaN NaN NaN NaN NaN NaN NaN   \n",
       "2 -0.98975  0.31152  0.98480      NaN ... NaN NaN NaN NaN NaN NaN NaN NaN NaN   \n",
       "3 -0.65304 -1.47237 -0.45764      NaN ... NaN NaN NaN NaN NaN NaN NaN NaN NaN   \n",
       "4  0.52918  1.81779  2.74143      NaN ... NaN NaN NaN NaN NaN NaN NaN NaN NaN   \n",
       "\n",
       "   32  33  34  35  36  37  38  39  40  41  42  \n",
       "0 NaN NaN NaN NaN NaN NaN NaN NaN NaN NaN NaN  \n",
       "1 NaN NaN NaN NaN NaN NaN NaN NaN NaN NaN NaN  \n",
       "2 NaN NaN NaN NaN NaN NaN NaN NaN NaN NaN NaN  \n",
       "3 NaN NaN NaN NaN NaN NaN NaN NaN NaN NaN NaN  \n",
       "4 NaN NaN NaN NaN NaN NaN NaN NaN NaN NaN NaN  \n",
       "\n",
       "[5 rows x 43 columns]"
      ]
     },
     "execution_count": 39,
     "metadata": {},
     "output_type": "execute_result"
    }
   ],
   "source": [
    "accXDf.head()"
   ]
  },
  {
   "cell_type": "code",
   "execution_count": 40,
   "metadata": {
    "ExecuteTime": {
     "end_time": "2018-04-18T12:07:15.113467Z",
     "start_time": "2018-04-18T12:07:14.524200Z"
    }
   },
   "outputs": [],
   "source": [
    "# Änderungen in CSV Datei schreiben\n",
    "featuresDf.set_index('Zeitstempel in Unixzeit', inplace=True)\n",
    "featuresDf.to_csv('../daten/merkmale.csv')"
   ]
  },
  {
   "cell_type": "code",
   "execution_count": 41,
   "metadata": {
    "ExecuteTime": {
     "end_time": "2018-04-18T12:07:15.307350Z",
     "start_time": "2018-04-18T12:07:15.113467Z"
    }
   },
   "outputs": [
    {
     "data": {
      "text/plain": [
       "Index(['Zeitstempel in Unixzeit', 'Breitengrad', 'Laengengrad',\n",
       "       'Geschwindigkeit in km/h', 'X-Achse Beschleunigungswerte in m/s^2',\n",
       "       'Y-Achse Beschleunigungswerte in m/s^2',\n",
       "       'Z-Achse Beschleunigungswerte in m/s^2', 'Gier Messwerte in rad',\n",
       "       'Nick Messwerte in rad', 'Roll Messwerte in rad',\n",
       "       'Zeitstempel der Messwerte in ns', 'Anzahl der Messwerte',\n",
       "       'Start des Zeitfensters in ns seit Start der JVM',\n",
       "       'Start der Messwerterfassung in ns seit Start der JVM',\n",
       "       'Start der Belichtung in ns seit Start der JVM',\n",
       "       'Belichtungszeit in ns',\n",
       "       'Letzter Zeitstempel der Messwerterfassung in ns seit Start der JVM',\n",
       "       'Stopp der Messwerterfassung in Unixzeit',\n",
       "       'Mittelwert X-Achse Beschleunigung in m/s^2',\n",
       "       'Mittelwert Y-Achse Beschleunigung in m/s^2',\n",
       "       'Mittelwert Z-Achse Beschleunigung in m/s^2', 'Mittelwert Nick in rad',\n",
       "       'Mittelwert Roll in rad', 'Gier-Aenderung in rad',\n",
       "       'Varianz X-Achse Beschleunigung in m/s^2',\n",
       "       'Varianz Y-Achse Beschleunigung in m/s^2',\n",
       "       'Varianz Z-Achse Beschleunigung in m/s^2', 'Varianz Nick in rad',\n",
       "       'Varianz Roll in rad',\n",
       "       'Standardabweichung X-Achse Beschleunigung in m/s^2',\n",
       "       'Standardabweichung Y-Achse Beschleunigung in m/s^2',\n",
       "       'Standardabweichung Z-Achse Beschleunigung in m/s^2',\n",
       "       'Standardabweichung Nick in rad', 'Standardabweichung Roll in rad'],\n",
       "      dtype='object')"
      ]
     },
     "execution_count": 41,
     "metadata": {},
     "output_type": "execute_result"
    }
   ],
   "source": [
    "pandas.read_csv(\"../daten/merkmale_datensatz_15_bis_22/merkmale.csv\").columns"
   ]
  },
  {
   "cell_type": "code",
   "execution_count": 42,
   "metadata": {
    "ExecuteTime": {
     "end_time": "2018-04-18T12:07:17.604005Z",
     "start_time": "2018-04-18T12:07:15.307350Z"
    }
   },
   "outputs": [],
   "source": [
    "# Speichert die DatenFrames mit den Messwerten in csv Dateien\n",
    "accXDf.index.names = [\"index\"]\n",
    "accXDf.to_csv('../daten/x-Achse-Beschleunigungswerte.csv')\n",
    "accYDf.index.names = [\"index\"]\n",
    "accYDf.to_csv('../daten/y-Achse-Beschleunigungswerte.csv')\n",
    "accZDf.index.names = [\"index\"]\n",
    "accZDf.to_csv('../daten/z-Achse-Beschleunigungswerte.csv')\n",
    "nickDf.index.names = [\"index\"]\n",
    "nickDf.to_csv('../daten/nick-Messwerte.csv')\n",
    "rollDf.index.names = [\"index\"]\n",
    "rollDf.to_csv('../daten/roll-Messwerte.csv')\n",
    "azimuthDf.index.names = [\"index\"]\n",
    "azimuthDf.to_csv('../daten/azimuth-Messwerte.csv')\n",
    "sensorTimestampsDf.index.names = [\"index\"]\n",
    "sensorTimestampsDf.to_csv('../daten/sensorevent-Zeitstempel.csv')"
   ]
  },
  {
   "cell_type": "code",
   "execution_count": 43,
   "metadata": {
    "ExecuteTime": {
     "end_time": "2018-04-18T12:07:17.652545Z",
     "start_time": "2018-04-18T12:07:17.604005Z"
    }
   },
   "outputs": [
    {
     "name": "stderr",
     "output_type": "stream",
     "text": [
      "testCalcVariance0 (__main__.CalcTest) ... ok\n",
      "testCalcVariance2 (__main__.CalcTest) ... ok\n",
      "testCalcVariance5 (__main__.CalcTest) ... ok\n",
      "testCalcVarianceMultidim (__main__.CalcTest) ... ok\n",
      "testCalcVarianceNegative (__main__.CalcTest) ... ok\n",
      "testCalculateAngelChangeAzimuthEqual (__main__.CalcTest) ... ok\n",
      "testCalculateAngelChangeAzimuthNegativ (__main__.CalcTest) ... ok\n",
      "testCalculateAngelChangeAzimuthOne (__main__.CalcTest) ... ok\n",
      "testCalculateAngelChangeAzimuthOne2 (__main__.CalcTest) ... ok\n",
      "testCalculateAngelChangeAzimuthSmall (__main__.CalcTest) ... ok\n",
      "testCalculateAngelChangeAzimuthValues (__main__.CalcTest) ... ok\n",
      "testCalculateStandardDeviation (__main__.CalcTest) ... ok\n",
      "testCalculateStandardDeviationZero (__main__.CalcTest) ... ok\n",
      "\n",
      "----------------------------------------------------------------------\n",
      "Ran 13 tests in 0.025s\n",
      "\n",
      "OK\n"
     ]
    },
    {
     "data": {
      "text/plain": [
       "<unittest.main.TestProgram at 0x2bd8ab1f198>"
      ]
     },
     "execution_count": 43,
     "metadata": {},
     "output_type": "execute_result"
    }
   ],
   "source": [
    "# Unittests\n",
    "import unittest\n",
    "\n",
    "class CalcTest(unittest.TestCase):\n",
    "    \n",
    "    \n",
    "    # Testet die Funktion calcVariance mit einem DataFrame mit den Werten [2.0, 2.0]\n",
    "    # Der Mittelwert sollte 2.0 sein\n",
    "    # Das erwartete Ergebnis ist 0.0\n",
    "    def testCalcVariance2(self):\n",
    "        meanL = [2.0]\n",
    "        meanDf = pandas.DataFrame(meanL)\n",
    "        valuesA = [2.0,2.0]\n",
    "        valuesDf = pandas.DataFrame([[2.0]])\n",
    "        npt.assert_almost_equal(calcVariance(meanDf[0],valuesDf), 0.0,2)\n",
    "        \n",
    "    # Testet die Funktion calcVariance mit einem DataFrame mit den folgenden Werten:\n",
    "    # [1.24, 2.5213, 10.434, 42.45, 5.9]\n",
    "    # Der Mittelwert ist 12.508\n",
    "    # Die erwartete Varianz ist 234,247016\n",
    "    def testCalcVariance5(self):\n",
    "        meanDf = pandas.DataFrame([12.508])\n",
    "        valuesDf = pandas.DataFrame([[1.24, 2.52, 10.43, 42.45, 5.9]])\n",
    "        npt.assert_almost_equal(calcVariance(meanDf[0],valuesDf), 234.24702,5)   \n",
    "    \n",
    "    # Testet calcVariance mit 0 Datenwerten   \n",
    "    def testCalcVariance0(self):\n",
    "        meanDf = pandas.DataFrame([0.0])\n",
    "        valuesDf = pandas.DataFrame([[0.0]])\n",
    "        npt.assert_almost_equal(calcVariance(meanDf[0],valuesDf),0.0,2)  \n",
    "        \n",
    "    # Testet calcVariance mit negativen Datenwerten   \n",
    "    def testCalcVarianceNegative(self):\n",
    "        meanDf = pandas.DataFrame([-24.0])\n",
    "        valuesDf = pandas.DataFrame([[-2.0,-24.0,-5.0,7.0]])\n",
    "        npt.assert_almost_equal(calcVariance(meanDf[0],valuesDf),451.5,1) \n",
    "        \n",
    "    # Testet calcVariance mit Muultidimensionalen DataFrame   \n",
    "    def testCalcVarianceMultidim(self):\n",
    "        meanDf = pandas.DataFrame([-24.0,0.0])\n",
    "        valuesDf = pandas.DataFrame([[-2.0,-24.0,-5.0,7.0],[0.0,0.0,0.0,0.0]])\n",
    "        # Hier wird Numpy Test verwendet um das Ergebnis (zwei Arrays) zu vergleichen\n",
    "        npt.assert_array_equal(calcVariance(meanDf[0],valuesDf),np.array([ 451.5,0.0])) \n",
    "        \n",
    "    # Dieser Test testet die Funktion calculateStandardDeviation.\n",
    "    def testCalculateStandardDeviation(self):\n",
    "        varianceDf = pandas.DataFrame([451.5])\n",
    "        npt.assert_almost_equal(calculateStandardDeviation(varianceDf[0]),21.24853,5) \n",
    "        \n",
    "    # Testet die Funktion calculateStandardDeviation.\n",
    "    # Dabei hat das Argument den Wert 0.0.\n",
    "    def testCalculateStandardDeviationZero(self):\n",
    "        varianceDf = pandas.DataFrame([0.0])\n",
    "        npt.assert_almost_equal(calculateStandardDeviation(varianceDf[0]),0.0,2)\n",
    "    \n",
    "    #  Testet die Funktion calculateAngelChangeAzimuth mit zwei gleichen rad Werten\n",
    "    def testCalculateAngelChangeAzimuthEqual(self):\n",
    "        radiants = pandas.DataFrame([[1.0,1.0]])\n",
    "        npt.assert_almost_equal(calculateAngelChangeAzimuth(radiants),0.0,2)\n",
    "    \n",
    "    # Testet ob die Winkeldifferenz korrekt berechnet wurde für \n",
    "    # die Radianten -1.0 und 1.0\n",
    "    def testCalculateAngelChangeAzimuthOne(self):\n",
    "        radiants = pandas.DataFrame([[-1.0,1.0]])\n",
    "        npt.assert_almost_equal(calculateAngelChangeAzimuth(radiants),2.0,2)  \n",
    "        \n",
    "    # Testet ob die Winkeldifferenz korrekt berechnet wurde für \n",
    "    # die Radianten 1.0 und -1.0\n",
    "    def testCalculateAngelChangeAzimuthOne2(self):\n",
    "        radiants = pandas.DataFrame([[1.0,-1.0]])\n",
    "        npt.assert_almost_equal(calculateAngelChangeAzimuth(radiants),2.0,2)  \n",
    "\n",
    "    # Testet die Funktion calculateAngelChangeAzimuthValues mit mehreren Werten\n",
    "    def testCalculateAngelChangeAzimuthValues(self):\n",
    "        radiants = pandas.DataFrame([[-1.57,1.0,2.0,1.3,1.57]])\n",
    "        npt.assert_almost_equal(calculateAngelChangeAzimuth(radiants),3.14,2)\n",
    "        \n",
    "    # Testet ob die Winkeldifferenz korrekt berechnet wurde für \n",
    "    # die Radianten 0.05 und 0.06\n",
    "    def testCalculateAngelChangeAzimuthSmall(self):\n",
    "        radiants = pandas.DataFrame([[0.01,0.02]])\n",
    "        npt.assert_almost_equal(calculateAngelChangeAzimuth(radiants), 0.01,2)  \n",
    "        \n",
    "    # Testet ob die Winkeldifferenz korrekt berechnet wurde mit \n",
    "    # negative Radianten \n",
    "    def testCalculateAngelChangeAzimuthNegativ(self):\n",
    "        radiants = pandas.DataFrame([[-2.9,-2.0,-1.28]])\n",
    "        npt.assert_almost_equal(calculateAngelChangeAzimuth(radiants), 1.62,2) \n",
    "\n",
    "unittest.main(argv=[''], verbosity=2, exit=False)"
   ]
  },
  {
   "cell_type": "code",
   "execution_count": null,
   "metadata": {},
   "outputs": [],
   "source": []
  }
 ],
 "metadata": {
  "kernelspec": {
   "display_name": "Python 3",
   "language": "python",
   "name": "python3"
  },
  "language_info": {
   "codemirror_mode": {
    "name": "ipython",
    "version": 3
   },
   "file_extension": ".py",
   "mimetype": "text/x-python",
   "name": "python",
   "nbconvert_exporter": "python",
   "pygments_lexer": "ipython3",
   "version": "3.6.4"
  },
  "toc": {
   "base_numbering": 1,
   "colors": {
    "hover_highlight": "#DAA520",
    "navigate_num": "#000000",
    "navigate_text": "#333333",
    "running_highlight": "#FF0000",
    "selected_highlight": "#FFD700",
    "sidebar_border": "#EEEEEE",
    "wrapper_background": "#FFFFFF"
   },
   "moveMenuLeft": true,
   "nav_menu": {
    "height": "31px",
    "width": "252px"
   },
   "navigate_menu": true,
   "number_sections": true,
   "sideBar": true,
   "skip_h1_title": false,
   "threshold": 4,
   "title_cell": "Table of Contents",
   "title_sidebar": "Contents",
   "toc_cell": false,
   "toc_position": {},
   "toc_section_display": "block",
   "toc_window_display": false,
   "widenNotebook": false
  },
  "varInspector": {
   "cols": {
    "lenName": 16,
    "lenType": 16,
    "lenVar": 40
   },
   "kernels_config": {
    "python": {
     "delete_cmd_postfix": "",
     "delete_cmd_prefix": "del ",
     "library": "var_list.py",
     "varRefreshCmd": "print(var_dic_list())"
    },
    "r": {
     "delete_cmd_postfix": ") ",
     "delete_cmd_prefix": "rm(",
     "library": "var_list.r",
     "varRefreshCmd": "cat(var_dic_list()) "
    }
   },
   "types_to_exclude": [
    "module",
    "function",
    "builtin_function_or_method",
    "instance",
    "_Feature"
   ],
   "window_display": false
  }
 },
 "nbformat": 4,
 "nbformat_minor": 2
}
