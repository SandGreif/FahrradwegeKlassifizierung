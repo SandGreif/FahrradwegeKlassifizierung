{
 "cells": [
  {
   "cell_type": "markdown",
   "metadata": {
    "collapsed": true
   },
   "source": [
    "## Standardabweichung\n",
    "\n",
    "In diesem Notebook ist es möglich den Mittelwert, Varianz und Standardabeichung für Messwerte zu berechnen.   \n",
    "Die Ergebnisse können zurück in die Merkmal Datei geschrieben werden.\n"
   ]
  },
  {
   "cell_type": "code",
   "execution_count": 7,
   "metadata": {},
   "outputs": [],
   "source": [
    "import pandas"
   ]
  },
  {
   "cell_type": "code",
   "execution_count": 10,
   "metadata": {},
   "outputs": [
    {
     "name": "stdout",
     "output_type": "stream",
     "text": [
      "<class 'pandas.core.frame.DataFrame'>\n",
      "RangeIndex: 2000 entries, 0 to 1999\n",
      "Data columns (total 15 columns):\n",
      "Zeitstempel          2000 non-null int64\n",
      "Breitengrad          2000 non-null float64\n",
      "Laengengrad          2000 non-null float64\n",
      "Geschwindigkeit      2000 non-null float64\n",
      "AccelerometerX       2000 non-null object\n",
      "AccelerometerY       2000 non-null object\n",
      "AccelerometerZ       2000 non-null object\n",
      "Azimuth              2000 non-null object\n",
      "Nick                 2000 non-null object\n",
      "Roll                 2000 non-null object\n",
      "SensorZeitstempel    2000 non-null object\n",
      "Messwerte            2000 non-null int64\n",
      "StartBewegungsD      2000 non-null int64\n",
      "StartBelichtung      2000 non-null int64\n",
      "Belichtungszeit      2000 non-null int64\n",
      "dtypes: float64(3), int64(5), object(7)\n",
      "memory usage: 234.5+ KB\n"
     ]
    }
   ],
   "source": [
    "featuresDf = pandas.read_csv(\"featuresRoh.csv\")\n",
    "featuresDf.describe()"
   ]
  },
  {
   "cell_type": "code",
   "execution_count": 13,
   "metadata": {},
   "outputs": [
    {
     "data": {
      "text/plain": [
       "0    -0.0127 0.00516 0.00413 0.0033 0.01796 0.01437...\n",
       "1    -0.01182 0.00587 0.0047 0.00376 -0.01231 -0.02...\n",
       "2    0.01372 -0.00434 0.01185 0.00948 0.00758 0.006...\n",
       "3    0.02361 0.00356 -0.01247 0.00534 -0.01105 0.00...\n",
       "4    -0.0231 0.01216 0.00973 -0.02285 0.01236 0.009...\n",
       "Name: AccelerometerX, dtype: object"
      ]
     },
     "execution_count": 13,
     "metadata": {},
     "output_type": "execute_result"
    }
   ],
   "source": [
    "# Zeigt die ersten 5 Reihen Beschleunigungssensordaten der X-Achse \n",
    "featuresDf.AccelerometerX.head()"
   ]
  },
  {
   "cell_type": "code",
   "execution_count": 57,
   "metadata": {},
   "outputs": [
    {
     "data": {
      "text/plain": [
       "SensorZeitstempel    [0, 3936768, 7873535, 11810303, 15777588, 1971...\n",
       "Name: 0, dtype: object"
      ]
     },
     "execution_count": 57,
     "metadata": {},
     "output_type": "execute_result"
    }
   ],
   "source": [
    "df = pandas.DataFrame(featuresDf.SensorZeitstempel.str.split(\" \"))\n",
    "df."
   ]
  },
  {
   "cell_type": "code",
   "execution_count": 6,
   "metadata": {},
   "outputs": [
    {
     "name": "stderr",
     "output_type": "stream",
     "text": [
      "testMean (__main__.CalcTest) ... "
     ]
    },
    {
     "name": "stdout",
     "output_type": "stream",
     "text": [
      "\n"
     ]
    },
    {
     "name": "stderr",
     "output_type": "stream",
     "text": [
      "ok\n",
      "\n",
      "----------------------------------------------------------------------\n",
      "Ran 1 test in 0.008s\n",
      "\n",
      "OK\n"
     ]
    },
    {
     "data": {
      "text/plain": [
       "<unittest.main.TestProgram at 0x7f24dab95f60>"
      ]
     },
     "execution_count": 6,
     "metadata": {},
     "output_type": "execute_result"
    }
   ],
   "source": [
    "# Unittests\n",
    "import unittest\n",
    "\n",
    "class CalcTest(unittest.TestCase):\n",
    "    \n",
    "    # Testet die Funktion calcMaxGap\n",
    "    # Dabei wird mehere Datenwerte verwendet\n",
    "    def testMean(self):  \n",
    "        print(\"\")\n",
    "\n",
    "unittest.main(argv=[''], verbosity=2, exit=False)"
   ]
  }
 ],
 "metadata": {
  "kernelspec": {
   "display_name": "Python 3.6",
   "language": "python",
   "name": "python36"
  },
  "language_info": {
   "codemirror_mode": {
    "name": "ipython",
    "version": 3
   },
   "file_extension": ".py",
   "mimetype": "text/x-python",
   "name": "python",
   "nbconvert_exporter": "python",
   "pygments_lexer": "ipython3",
   "version": "3.6.3"
  }
 },
 "nbformat": 4,
 "nbformat_minor": 2
}
