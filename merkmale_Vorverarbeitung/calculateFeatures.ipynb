{
 "cells": [
  {
   "cell_type": "markdown",
   "metadata": {
    "collapsed": true
   },
   "source": [
    "## Berechnungen von Merkmalen\n",
    "\n",
    "In diesem Notebook ist es möglich den Mittelwert, Varianz und Standardabweichung für die aufgenommenen Messwerte aus der Datei \"merkmaleRoh.csv\" der Android TM Fahrradwege Monitoring App zu berechnen. Zu einem Bild werden parallel Messwerte erfasst von dem Beschleunigungssensor und Magnetsensor des Smartphones, innerhalb eines Zeitfenster mit einer Länge von 80ms (siehe hierzu auch das Notebook \"gatheringSequence\" in dem Ordner datenvisualisierung). Bei dem Beschleunigungssensor sind dies die Messwerte der beschleunigung von den 3-Achsen X, Y sowie Z (Abb. 1). Des Weiteren werden die Gier-Nick-Roll Winkel in rad in einem Zeitfenster erfasst. Für die Berechnung des Mittelwerts, Varianz und Standardabweichung über die Messwerte wird die Form der abgespeicherten Messwerte geändert, weil diese als Python Objekte verwaltet werden mit welchen nicht gerechnet werden kann. Zu den Messwertreihen wird jeweils eine CSV Datei erstellt. Eine Reihe stellt dann in dieser Datei eine Messreihe zu einem Zeitfenster dar. Bei der ausführung dieses Notebooks werden deshalb zusätzlich folgende CSV Dateien erstellt:\n",
    "\n",
    "X-Achse Beschleunigungswerte in m/s^2   \n",
    "Y-Achse Beschleunigungswerte in m/s^2  \n",
    "Z-Achse Beschleunigungswerte in m/s^2   \n",
    "Gier Messwerte in rad  \n",
    "Nick Messwerte in rad  \n",
    "Roll Messwerte in rad   \n",
    "Zeitstempel der Messwerte in ns  \n",
    "\n",
    "<img src=\"../daten/abbildungen/sensorOrientierung.png\" alt=\"Android Smartphone Sensor Orientierung\" width=\"200px\" />\n",
    "Abbildung 1: 3-Achsen Smartphone Sensor-Koordinatensystem   \n",
    "Quelle: siehe Bildverzeichnis Abb. 2 in der README.md Datei"
   ]
  },
  {
   "cell_type": "code",
   "execution_count": 1,
   "metadata": {
    "ExecuteTime": {
     "end_time": "2018-05-07T13:58:55.784445Z",
     "start_time": "2018-05-07T13:58:55.298871Z"
    }
   },
   "outputs": [],
   "source": [
    "import pandas\n",
    "import numpy as np\n",
    "import numpy.testing as npt\n",
    "import math\n",
    "import os"
   ]
  },
  {
   "cell_type": "code",
   "execution_count": 3,
   "metadata": {},
   "outputs": [],
   "source": [
    "dataset = '41'"
   ]
  },
  {
   "cell_type": "code",
   "execution_count": 4,
   "metadata": {
    "ExecuteTime": {
     "end_time": "2018-05-07T13:58:57.726814Z",
     "start_time": "2018-05-07T13:58:55.864375Z"
    }
   },
   "outputs": [
    {
     "data": {
      "text/html": [
       "<div>\n",
       "<style scoped>\n",
       "    .dataframe tbody tr th:only-of-type {\n",
       "        vertical-align: middle;\n",
       "    }\n",
       "\n",
       "    .dataframe tbody tr th {\n",
       "        vertical-align: top;\n",
       "    }\n",
       "\n",
       "    .dataframe thead th {\n",
       "        text-align: right;\n",
       "    }\n",
       "</style>\n",
       "<table border=\"1\" class=\"dataframe\">\n",
       "  <thead>\n",
       "    <tr style=\"text-align: right;\">\n",
       "      <th></th>\n",
       "      <th>Zeitstempel in Unixzeit</th>\n",
       "      <th>Breitengrad</th>\n",
       "      <th>Laengengrad</th>\n",
       "      <th>Geschwindigkeit in km/h</th>\n",
       "      <th>Genauigkeit der Geschwindigkeit speedAccuracyMetersPerSecond</th>\n",
       "      <th>Lokations Zeitstempel in Unixzeit</th>\n",
       "      <th>Anzahl der Messwerte</th>\n",
       "      <th>Start des Zeitfensters in ns seit Start der JVM</th>\n",
       "      <th>Zeitstempel Messwertdaten anfordern in Unixzeit</th>\n",
       "      <th>Start der Messwerterfassung in ns seit Start der JVM</th>\n",
       "      <th>Erster Zeitstempel der Teilliste in ns seit Start der JVM</th>\n",
       "      <th>Start der Belichtung in ns seit Start der JVM</th>\n",
       "      <th>Belichtungszeit in ns</th>\n",
       "      <th>Letzter Zeitstempel der Messwerterfassung in ns seit Start der JVM</th>\n",
       "      <th>Speicherzeitpunkt der Merkmale in Unixzeit</th>\n",
       "    </tr>\n",
       "  </thead>\n",
       "  <tbody>\n",
       "    <tr>\n",
       "      <th>count</th>\n",
       "      <td>5.940000e+03</td>\n",
       "      <td>5940.000000</td>\n",
       "      <td>5940.000000</td>\n",
       "      <td>5940.000000</td>\n",
       "      <td>5940.000000</td>\n",
       "      <td>5.940000e+03</td>\n",
       "      <td>5940.000000</td>\n",
       "      <td>5.940000e+03</td>\n",
       "      <td>5.940000e+03</td>\n",
       "      <td>5.940000e+03</td>\n",
       "      <td>5.940000e+03</td>\n",
       "      <td>5.940000e+03</td>\n",
       "      <td>5.940000e+03</td>\n",
       "      <td>5.940000e+03</td>\n",
       "      <td>5.940000e+03</td>\n",
       "    </tr>\n",
       "    <tr>\n",
       "      <th>mean</th>\n",
       "      <td>1.528299e+12</td>\n",
       "      <td>53.620429</td>\n",
       "      <td>10.132441</td>\n",
       "      <td>14.086600</td>\n",
       "      <td>0.630095</td>\n",
       "      <td>1.528299e+12</td>\n",
       "      <td>32.686195</td>\n",
       "      <td>3.978221e+12</td>\n",
       "      <td>1.528299e+12</td>\n",
       "      <td>3.923616e+12</td>\n",
       "      <td>3.977625e+12</td>\n",
       "      <td>3.978350e+12</td>\n",
       "      <td>1.506374e+07</td>\n",
       "      <td>3.978496e+12</td>\n",
       "      <td>1.528299e+12</td>\n",
       "    </tr>\n",
       "    <tr>\n",
       "      <th>std</th>\n",
       "      <td>6.336331e+05</td>\n",
       "      <td>0.004857</td>\n",
       "      <td>0.006974</td>\n",
       "      <td>3.271286</td>\n",
       "      <td>0.281096</td>\n",
       "      <td>6.336315e+05</td>\n",
       "      <td>10.310478</td>\n",
       "      <td>6.336412e+11</td>\n",
       "      <td>6.336266e+05</td>\n",
       "      <td>6.252329e+11</td>\n",
       "      <td>6.336443e+11</td>\n",
       "      <td>6.336338e+11</td>\n",
       "      <td>1.200439e+07</td>\n",
       "      <td>6.336265e+11</td>\n",
       "      <td>6.336254e+05</td>\n",
       "    </tr>\n",
       "    <tr>\n",
       "      <th>min</th>\n",
       "      <td>1.528298e+12</td>\n",
       "      <td>53.611855</td>\n",
       "      <td>10.122842</td>\n",
       "      <td>5.004000</td>\n",
       "      <td>0.114018</td>\n",
       "      <td>1.528298e+12</td>\n",
       "      <td>18.000000</td>\n",
       "      <td>2.856502e+12</td>\n",
       "      <td>1.528298e+12</td>\n",
       "      <td>2.856286e+12</td>\n",
       "      <td>2.856286e+12</td>\n",
       "      <td>2.856718e+12</td>\n",
       "      <td>5.699570e+05</td>\n",
       "      <td>2.856982e+12</td>\n",
       "      <td>1.528298e+12</td>\n",
       "    </tr>\n",
       "    <tr>\n",
       "      <th>25%</th>\n",
       "      <td>1.528299e+12</td>\n",
       "      <td>53.616320</td>\n",
       "      <td>10.125096</td>\n",
       "      <td>12.060000</td>\n",
       "      <td>0.436005</td>\n",
       "      <td>1.528299e+12</td>\n",
       "      <td>26.000000</td>\n",
       "      <td>3.418525e+12</td>\n",
       "      <td>1.528299e+12</td>\n",
       "      <td>3.384804e+12</td>\n",
       "      <td>3.418008e+12</td>\n",
       "      <td>3.418707e+12</td>\n",
       "      <td>2.426916e+06</td>\n",
       "      <td>3.418915e+12</td>\n",
       "      <td>1.528299e+12</td>\n",
       "    </tr>\n",
       "    <tr>\n",
       "      <th>50%</th>\n",
       "      <td>1.528299e+12</td>\n",
       "      <td>53.620193</td>\n",
       "      <td>10.133554</td>\n",
       "      <td>14.400000</td>\n",
       "      <td>0.588218</td>\n",
       "      <td>1.528299e+12</td>\n",
       "      <td>29.000000</td>\n",
       "      <td>3.994610e+12</td>\n",
       "      <td>1.528299e+12</td>\n",
       "      <td>3.933726e+12</td>\n",
       "      <td>3.994109e+12</td>\n",
       "      <td>3.994717e+12</td>\n",
       "      <td>1.000184e+07</td>\n",
       "      <td>3.994825e+12</td>\n",
       "      <td>1.528299e+12</td>\n",
       "    </tr>\n",
       "    <tr>\n",
       "      <th>75%</th>\n",
       "      <td>1.528300e+12</td>\n",
       "      <td>53.624798</td>\n",
       "      <td>10.137742</td>\n",
       "      <td>16.380000</td>\n",
       "      <td>0.773692</td>\n",
       "      <td>1.528300e+12</td>\n",
       "      <td>36.000000</td>\n",
       "      <td>4.531558e+12</td>\n",
       "      <td>1.528300e+12</td>\n",
       "      <td>4.479266e+12</td>\n",
       "      <td>4.531002e+12</td>\n",
       "      <td>4.531711e+12</td>\n",
       "      <td>2.999632e+07</td>\n",
       "      <td>4.531889e+12</td>\n",
       "      <td>1.528300e+12</td>\n",
       "    </tr>\n",
       "    <tr>\n",
       "      <th>max</th>\n",
       "      <td>1.528300e+12</td>\n",
       "      <td>53.628616</td>\n",
       "      <td>10.145172</td>\n",
       "      <td>23.688000</td>\n",
       "      <td>2.455056</td>\n",
       "      <td>1.528300e+12</td>\n",
       "      <td>89.000000</td>\n",
       "      <td>5.063213e+12</td>\n",
       "      <td>1.528300e+12</td>\n",
       "      <td>5.047202e+12</td>\n",
       "      <td>5.062674e+12</td>\n",
       "      <td>5.063534e+12</td>\n",
       "      <td>3.287369e+07</td>\n",
       "      <td>5.063849e+12</td>\n",
       "      <td>1.528300e+12</td>\n",
       "    </tr>\n",
       "  </tbody>\n",
       "</table>\n",
       "</div>"
      ],
      "text/plain": [
       "       Zeitstempel in Unixzeit  Breitengrad  Laengengrad  \\\n",
       "count             5.940000e+03  5940.000000  5940.000000   \n",
       "mean              1.528299e+12    53.620429    10.132441   \n",
       "std               6.336331e+05     0.004857     0.006974   \n",
       "min               1.528298e+12    53.611855    10.122842   \n",
       "25%               1.528299e+12    53.616320    10.125096   \n",
       "50%               1.528299e+12    53.620193    10.133554   \n",
       "75%               1.528300e+12    53.624798    10.137742   \n",
       "max               1.528300e+12    53.628616    10.145172   \n",
       "\n",
       "       Geschwindigkeit in km/h  \\\n",
       "count              5940.000000   \n",
       "mean                 14.086600   \n",
       "std                   3.271286   \n",
       "min                   5.004000   \n",
       "25%                  12.060000   \n",
       "50%                  14.400000   \n",
       "75%                  16.380000   \n",
       "max                  23.688000   \n",
       "\n",
       "       Genauigkeit der Geschwindigkeit speedAccuracyMetersPerSecond  \\\n",
       "count                                        5940.000000              \n",
       "mean                                            0.630095              \n",
       "std                                             0.281096              \n",
       "min                                             0.114018              \n",
       "25%                                             0.436005              \n",
       "50%                                             0.588218              \n",
       "75%                                             0.773692              \n",
       "max                                             2.455056              \n",
       "\n",
       "       Lokations Zeitstempel in Unixzeit  Anzahl der Messwerte  \\\n",
       "count                       5.940000e+03           5940.000000   \n",
       "mean                        1.528299e+12             32.686195   \n",
       "std                         6.336315e+05             10.310478   \n",
       "min                         1.528298e+12             18.000000   \n",
       "25%                         1.528299e+12             26.000000   \n",
       "50%                         1.528299e+12             29.000000   \n",
       "75%                         1.528300e+12             36.000000   \n",
       "max                         1.528300e+12             89.000000   \n",
       "\n",
       "       Start des Zeitfensters in ns seit Start der JVM  \\\n",
       "count                                     5.940000e+03   \n",
       "mean                                      3.978221e+12   \n",
       "std                                       6.336412e+11   \n",
       "min                                       2.856502e+12   \n",
       "25%                                       3.418525e+12   \n",
       "50%                                       3.994610e+12   \n",
       "75%                                       4.531558e+12   \n",
       "max                                       5.063213e+12   \n",
       "\n",
       "       Zeitstempel Messwertdaten anfordern in Unixzeit  \\\n",
       "count                                     5.940000e+03   \n",
       "mean                                      1.528299e+12   \n",
       "std                                       6.336266e+05   \n",
       "min                                       1.528298e+12   \n",
       "25%                                       1.528299e+12   \n",
       "50%                                       1.528299e+12   \n",
       "75%                                       1.528300e+12   \n",
       "max                                       1.528300e+12   \n",
       "\n",
       "       Start der Messwerterfassung in ns seit Start der JVM  \\\n",
       "count                                       5.940000e+03      \n",
       "mean                                        3.923616e+12      \n",
       "std                                         6.252329e+11      \n",
       "min                                         2.856286e+12      \n",
       "25%                                         3.384804e+12      \n",
       "50%                                         3.933726e+12      \n",
       "75%                                         4.479266e+12      \n",
       "max                                         5.047202e+12      \n",
       "\n",
       "       Erster Zeitstempel der Teilliste in ns seit Start der JVM  \\\n",
       "count                                       5.940000e+03           \n",
       "mean                                        3.977625e+12           \n",
       "std                                         6.336443e+11           \n",
       "min                                         2.856286e+12           \n",
       "25%                                         3.418008e+12           \n",
       "50%                                         3.994109e+12           \n",
       "75%                                         4.531002e+12           \n",
       "max                                         5.062674e+12           \n",
       "\n",
       "       Start der Belichtung in ns seit Start der JVM  Belichtungszeit in ns  \\\n",
       "count                                   5.940000e+03           5.940000e+03   \n",
       "mean                                    3.978350e+12           1.506374e+07   \n",
       "std                                     6.336338e+11           1.200439e+07   \n",
       "min                                     2.856718e+12           5.699570e+05   \n",
       "25%                                     3.418707e+12           2.426916e+06   \n",
       "50%                                     3.994717e+12           1.000184e+07   \n",
       "75%                                     4.531711e+12           2.999632e+07   \n",
       "max                                     5.063534e+12           3.287369e+07   \n",
       "\n",
       "       Letzter Zeitstempel der Messwerterfassung in ns seit Start der JVM  \\\n",
       "count                                       5.940000e+03                    \n",
       "mean                                        3.978496e+12                    \n",
       "std                                         6.336265e+11                    \n",
       "min                                         2.856982e+12                    \n",
       "25%                                         3.418915e+12                    \n",
       "50%                                         3.994825e+12                    \n",
       "75%                                         4.531889e+12                    \n",
       "max                                         5.063849e+12                    \n",
       "\n",
       "       Speicherzeitpunkt der Merkmale in Unixzeit  \n",
       "count                                5.940000e+03  \n",
       "mean                                 1.528299e+12  \n",
       "std                                  6.336254e+05  \n",
       "min                                  1.528298e+12  \n",
       "25%                                  1.528299e+12  \n",
       "50%                                  1.528299e+12  \n",
       "75%                                  1.528300e+12  \n",
       "max                                  1.528300e+12  "
      ]
     },
     "execution_count": 4,
     "metadata": {},
     "output_type": "execute_result"
    }
   ],
   "source": [
    "featuresDf = pandas.read_csv(\"../daten/merkmale_datensatz_\" + dataset + \"/merkmaleRoh.csv\")\n",
    "featuresDf.describe()"
   ]
  },
  {
   "cell_type": "code",
   "execution_count": 5,
   "metadata": {
    "ExecuteTime": {
     "end_time": "2018-05-07T13:59:00.652982Z",
     "start_time": "2018-05-07T13:59:00.549419Z"
    }
   },
   "outputs": [
    {
     "name": "stdout",
     "output_type": "stream",
     "text": [
      "<class 'pandas.core.frame.DataFrame'>\n",
      "RangeIndex: 5940 entries, 0 to 5939\n",
      "Data columns (total 19 columns):\n",
      "Zeitstempel in Unixzeit                                               5940 non-null int64\n",
      "Breitengrad                                                           5940 non-null float64\n",
      "Laengengrad                                                           5940 non-null float64\n",
      "Geschwindigkeit in km/h                                               5940 non-null float64\n",
      "Genauigkeit der Geschwindigkeit speedAccuracyMetersPerSecond          5940 non-null float64\n",
      "Lokations Zeitstempel in Unixzeit                                     5940 non-null int64\n",
      "Z-Achse Beschleunigungswerte in m/s^2                                 5940 non-null object\n",
      "Y-Achse Beschleunigungswerte in m/s^2                                 5940 non-null object\n",
      "Nick Messwerte in rad                                                 5940 non-null object\n",
      "Zeitstempel der Messwerte in ns                                       5940 non-null object\n",
      "Anzahl der Messwerte                                                  5940 non-null int64\n",
      "Start des Zeitfensters in ns seit Start der JVM                       5940 non-null int64\n",
      "Zeitstempel Messwertdaten anfordern in Unixzeit                       5940 non-null int64\n",
      "Start der Messwerterfassung in ns seit Start der JVM                  5940 non-null int64\n",
      "Erster Zeitstempel der Teilliste in ns seit Start der JVM             5940 non-null int64\n",
      "Start der Belichtung in ns seit Start der JVM                         5940 non-null int64\n",
      "Belichtungszeit in ns                                                 5940 non-null int64\n",
      "Letzter Zeitstempel der Messwerterfassung in ns seit Start der JVM    5940 non-null int64\n",
      "Speicherzeitpunkt der Merkmale in Unixzeit                            5940 non-null int64\n",
      "dtypes: float64(4), int64(11), object(4)\n",
      "memory usage: 881.8+ KB\n"
     ]
    }
   ],
   "source": [
    "featuresDf.info()"
   ]
  },
  {
   "cell_type": "code",
   "execution_count": null,
   "metadata": {
    "ExecuteTime": {
     "end_time": "2018-05-07T13:59:01.488205Z",
     "start_time": "2018-05-07T13:59:01.480205Z"
    }
   },
   "outputs": [],
   "source": [
    "# Zeigt die ersten 5 Reihen Beschleunigungssensordaten der X-Achse \n",
    "featuresDf['X-Achse Beschleunigungswerte in m/s^2'].head()"
   ]
  },
  {
   "cell_type": "code",
   "execution_count": null,
   "metadata": {
    "ExecuteTime": {
     "end_time": "2018-05-07T15:02:41.423672Z",
     "start_time": "2018-05-07T15:02:41.415673Z"
    }
   },
   "outputs": [],
   "source": [
    "# Die Anzahl der Messwerte sollte immer gleich sein, ansonsten werden fehlende Spalten mit NaN Werten gefüllt bei der\n",
    "# späteren Abspeicherung der erfassten Messwerte wie z.B. in die Datei x-Achse-Beschleunigungswerte.csv.\n",
    "# Um die Berechnung von den Merkmalen Varianz und Mittelwert unteranderem zu beschleunigen ist es wichtig sogenannte Außenseiter\n",
    "# aus den Datensätzen zu entfernen.\n",
    "# Dafür muss auch das Bild zu einer Reihe aus der merkmaleRoh.csv Datei gelöscht werden.\n",
    "# Dies wird erreicht indem alle Pfade der Bilder geladen werden.\n",
    "# Dann können Reihen sowie Bilder gelöscht werden mit mehr Messwerten als ein bestimmter Grenzwert.\n",
    "print(featuresDf['Anzahl der Messwerte'][featuresDf['Anzahl der Messwerte'] > 23])\n",
    "\n",
    "################### Entferne Außenseiter mit Anzahl der Messwerte > Grenzwert ###################\n",
    "#### Warnung löschen der zugeschnittennen Bilder kann nicht rückgängig gemacht werden!\n",
    "#threshold  = 23 \n",
    "#imagePaths = []\n",
    "# Hier können die Datensätze ausgewählt werden\n",
    "#datasets = ['15','16','17','18','19','20','21','22']\n",
    "# Die Pfade zu den Ordnern in welchem sich die Bilder befinden\n",
    "#paths = []\n",
    "#for dataset in datasets: # Für jeden Datensatz merke Pfad\n",
    "#    paths.append(\"C:/Users/morro/Documents/datenRoh/\" + dataset + \"/zugeschnitten/\")\n",
    "#for path in paths: # Für jeden Pfad hole die Namen der Ordner\n",
    "#    folders = os.listdir(path)\n",
    "#    for folder in folders: # Aus der Liste der Ordner wird ein Ordner ausgewählt\n",
    "#        filesPath = path + folder + \"/\"\n",
    "#        files = os.listdir(filesPath)\n",
    "#        for name in files: # Ein Dateiname aus diesem Ordner\n",
    "#            if \"jpg\" not in name:\n",
    "#                continue\n",
    "#            imagePaths.append(filesPath + name) # Path wird geladen in Liste\n",
    "#toRemoveImagesIndex = featuresDf['Anzahl der Messwerte'][featuresDf['Anzahl der Messwerte'] > threshold].index.tolist()\n",
    "#for i in toRemoveImagesIndex:\n",
    "#    print(imagePaths[i])\n",
    "#    os.remove(imagePaths[i])\n",
    "unwantedRows = featuresDf['Anzahl der Messwerte'][featuresDf['Anzahl der Messwerte'] > 23]\n",
    "featuresDf.drop(unwantedRows.index, inplace=True)\n",
    "# Die Inecies müssen zurückgesetzt werden nach den Aufruf von drop. Ansonsten kommte es zu KeyValue Fehlern\n",
    "featuresDf.reset_index(drop=True,inplace=True)"
   ]
  },
  {
   "cell_type": "code",
   "execution_count": null,
   "metadata": {},
   "outputs": [],
   "source": [
    "featuresDf['Anzahl der Messwerte'][featuresDf['Anzahl der Messwerte'] > 23]"
   ]
  },
  {
   "cell_type": "markdown",
   "metadata": {},
   "source": [
    "Die folgenden Spalten des Datenframes haben als Type ein Python object.   \n",
    "X-Achse Beschleunigungswerte in m/s^2   \n",
    "Y-Achse Beschleunigungswerte in m/s^2   \n",
    "Z-Achse Beschleunigungswerte in m/s^2   \n",
    "Gier Messwerte in rad    \n",
    "Nick Messwerte in rad          \n",
    "Roll Messwerte in rad                   \n",
    "Zeitstempel der Messwerte in ns               \n",
    "Implizit haben diese Spalten als Typ Strings. Aber in einem DataFrame werden Strings als    \n",
    "Python objects erkannt. Um den Datentyp auf float zu casten wird aus den Spalten zunächst ein Liste erstellt.    \n",
    "Welche dann wiederum als Numpy Array auf den Typ float konvertiert wird.   "
   ]
  },
  {
   "cell_type": "code",
   "execution_count": null,
   "metadata": {},
   "outputs": [],
   "source": [
    "featuresDf.info()"
   ]
  },
  {
   "cell_type": "code",
   "execution_count": null,
   "metadata": {
    "ExecuteTime": {
     "end_time": "2018-05-07T13:59:24.066233Z",
     "start_time": "2018-05-07T13:59:23.725729Z"
    }
   },
   "outputs": [],
   "source": [
    "accXList = featuresDf['X-Achse Beschleunigungswerte in m/s^2'].str.split(\" \").tolist()"
   ]
  },
  {
   "cell_type": "code",
   "execution_count": null,
   "metadata": {
    "ExecuteTime": {
     "end_time": "2018-05-07T13:59:27.107144Z",
     "start_time": "2018-05-07T13:59:26.683060Z"
    }
   },
   "outputs": [],
   "source": [
    "# Direkt mit dem Numpy Array ist es nicht möglich die Konvertierung durchzuführen, weil die Arrays von Typ object sind.   \n",
    "pandas.DataFrame(featuresDf['X-Achse Beschleunigungswerte in m/s^2'].str.split(\" \")).values"
   ]
  },
  {
   "cell_type": "code",
   "execution_count": null,
   "metadata": {
    "ExecuteTime": {
     "end_time": "2018-05-07T13:59:28.852447Z",
     "start_time": "2018-05-07T13:59:28.838764Z"
    }
   },
   "outputs": [],
   "source": [
    "accXList[12] # zeige Liste"
   ]
  },
  {
   "cell_type": "code",
   "execution_count": null,
   "metadata": {
    "ExecuteTime": {
     "end_time": "2018-05-07T13:59:31.128939Z",
     "start_time": "2018-05-07T13:59:31.124940Z"
    }
   },
   "outputs": [],
   "source": [
    "np.array(accXList[1]).dtype"
   ]
  },
  {
   "cell_type": "code",
   "execution_count": null,
   "metadata": {
    "ExecuteTime": {
     "end_time": "2018-05-07T13:59:52.863261Z",
     "start_time": "2018-05-07T13:59:32.711490Z"
    }
   },
   "outputs": [],
   "source": [
    "# Konvertiert die Python Objekte in der Liste zu den Type Float.\n",
    "# Das Ergebnis wird in einem Dataframe geschrieben\n",
    "accList = []\n",
    "accList.append(pandas.DataFrame(abs(np.array(accXList[0]).astype(float))).transpose())\n",
    "for x in accXList[1:]:\n",
    "    accList.append(pandas.DataFrame(abs(np.array(x).astype(float))).transpose())"
   ]
  },
  {
   "cell_type": "code",
   "execution_count": null,
   "metadata": {
    "ExecuteTime": {
     "end_time": "2018-05-07T14:13:02.351727Z",
     "start_time": "2018-05-07T14:10:57.612839Z"
    }
   },
   "outputs": [],
   "source": [
    "accXDf = pandas.concat(accList, ignore_index=True)"
   ]
  },
  {
   "cell_type": "code",
   "execution_count": null,
   "metadata": {
    "ExecuteTime": {
     "end_time": "2018-05-07T14:13:26.222504Z",
     "start_time": "2018-05-07T14:13:26.194505Z"
    }
   },
   "outputs": [],
   "source": [
    "accXDf.head()"
   ]
  },
  {
   "cell_type": "code",
   "execution_count": null,
   "metadata": {
    "ExecuteTime": {
     "end_time": "2018-05-07T14:13:33.534234Z",
     "start_time": "2018-05-07T14:13:33.474233Z"
    }
   },
   "outputs": [],
   "source": [
    "# Um mehr Spalten eines Panda DataFrames auszugeben\n",
    "pandas.set_option('display.max_columns', 40)\n",
    "accXDf.T.mean().head(20)"
   ]
  },
  {
   "cell_type": "code",
   "execution_count": null,
   "metadata": {
    "ExecuteTime": {
     "end_time": "2018-05-07T14:13:42.541514Z",
     "start_time": "2018-05-07T14:13:42.537514Z"
    }
   },
   "outputs": [],
   "source": [
    "accXDf.shape"
   ]
  },
  {
   "cell_type": "code",
   "execution_count": 21,
   "metadata": {
    "ExecuteTime": {
     "end_time": "2018-05-07T14:16:18.319231Z",
     "start_time": "2018-05-07T14:13:50.440387Z"
    }
   },
   "outputs": [],
   "source": [
    "accYList = featuresDf['Y-Achse Beschleunigungswerte in m/s^2'].str.split(\" \").tolist()\n",
    "accList = []\n",
    "accList.append(pandas.DataFrame(np.array(accYList[0]).astype(float)).transpose())\n",
    "for x in accYList[1:]:\n",
    "    accList.append(pandas.DataFrame(np.array(x).astype(float)).transpose())\n",
    "accYDf = pandas.concat(accList, ignore_index=True)"
   ]
  },
  {
   "cell_type": "code",
   "execution_count": 7,
   "metadata": {
    "ExecuteTime": {
     "end_time": "2018-05-07T14:16:52.137572Z",
     "start_time": "2018-05-07T14:16:52.101572Z"
    }
   },
   "outputs": [
    {
     "name": "stdout",
     "output_type": "stream",
     "text": [
      "<class 'pandas.core.frame.DataFrame'>\n",
      "RangeIndex: 5940 entries, 0 to 5939\n",
      "Data columns (total 89 columns):\n",
      "0     5940 non-null float64\n",
      "1     5940 non-null float64\n",
      "2     5940 non-null float64\n",
      "3     5940 non-null float64\n",
      "4     5940 non-null float64\n",
      "5     5940 non-null float64\n",
      "6     5940 non-null float64\n",
      "7     5940 non-null float64\n",
      "8     5940 non-null float64\n",
      "9     5940 non-null float64\n",
      "10    5940 non-null float64\n",
      "11    5940 non-null float64\n",
      "12    5940 non-null float64\n",
      "13    5940 non-null float64\n",
      "14    5940 non-null float64\n",
      "15    5940 non-null float64\n",
      "16    5940 non-null float64\n",
      "17    5940 non-null float64\n",
      "18    5935 non-null float64\n",
      "19    5926 non-null float64\n",
      "20    5880 non-null float64\n",
      "21    5812 non-null float64\n",
      "22    5672 non-null float64\n",
      "23    5388 non-null float64\n",
      "24    5079 non-null float64\n",
      "25    4681 non-null float64\n",
      "26    4227 non-null float64\n",
      "27    3755 non-null float64\n",
      "28    3319 non-null float64\n",
      "29    2961 non-null float64\n",
      "30    2667 non-null float64\n",
      "31    2407 non-null float64\n",
      "32    2165 non-null float64\n",
      "33    1934 non-null float64\n",
      "34    1741 non-null float64\n",
      "35    1558 non-null float64\n",
      "36    1395 non-null float64\n",
      "37    1259 non-null float64\n",
      "38    1155 non-null float64\n",
      "39    1077 non-null float64\n",
      "40    977 non-null float64\n",
      "41    893 non-null float64\n",
      "42    820 non-null float64\n",
      "43    750 non-null float64\n",
      "44    682 non-null float64\n",
      "45    609 non-null float64\n",
      "46    548 non-null float64\n",
      "47    503 non-null float64\n",
      "48    469 non-null float64\n",
      "49    427 non-null float64\n",
      "50    392 non-null float64\n",
      "51    369 non-null float64\n",
      "52    332 non-null float64\n",
      "53    296 non-null float64\n",
      "54    264 non-null float64\n",
      "55    244 non-null float64\n",
      "56    233 non-null float64\n",
      "57    219 non-null float64\n",
      "58    206 non-null float64\n",
      "59    197 non-null float64\n",
      "60    185 non-null float64\n",
      "61    168 non-null float64\n",
      "62    151 non-null float64\n",
      "63    137 non-null float64\n",
      "64    123 non-null float64\n",
      "65    114 non-null float64\n",
      "66    106 non-null float64\n",
      "67    96 non-null float64\n",
      "68    88 non-null float64\n",
      "69    86 non-null float64\n",
      "70    77 non-null float64\n",
      "71    72 non-null float64\n",
      "72    62 non-null float64\n",
      "73    58 non-null float64\n",
      "74    51 non-null float64\n",
      "75    45 non-null float64\n",
      "76    36 non-null float64\n",
      "77    33 non-null float64\n",
      "78    23 non-null float64\n",
      "79    21 non-null float64\n",
      "80    17 non-null float64\n",
      "81    16 non-null float64\n",
      "82    16 non-null float64\n",
      "83    12 non-null float64\n",
      "84    8 non-null float64\n",
      "85    4 non-null float64\n",
      "86    4 non-null float64\n",
      "87    3 non-null float64\n",
      "88    1 non-null float64\n",
      "dtypes: float64(89)\n",
      "memory usage: 4.0 MB\n"
     ]
    }
   ],
   "source": [
    "accYDf.info()"
   ]
  },
  {
   "cell_type": "code",
   "execution_count": 8,
   "metadata": {
    "ExecuteTime": {
     "end_time": "2018-05-07T14:16:50.142426Z",
     "start_time": "2018-05-07T14:16:47.429Z"
    }
   },
   "outputs": [
    {
     "data": {
      "text/html": [
       "<div>\n",
       "<style scoped>\n",
       "    .dataframe tbody tr th:only-of-type {\n",
       "        vertical-align: middle;\n",
       "    }\n",
       "\n",
       "    .dataframe tbody tr th {\n",
       "        vertical-align: top;\n",
       "    }\n",
       "\n",
       "    .dataframe thead th {\n",
       "        text-align: right;\n",
       "    }\n",
       "</style>\n",
       "<table border=\"1\" class=\"dataframe\">\n",
       "  <thead>\n",
       "    <tr style=\"text-align: right;\">\n",
       "      <th></th>\n",
       "      <th>0</th>\n",
       "      <th>1</th>\n",
       "      <th>2</th>\n",
       "      <th>3</th>\n",
       "      <th>4</th>\n",
       "      <th>5</th>\n",
       "      <th>6</th>\n",
       "      <th>7</th>\n",
       "      <th>8</th>\n",
       "      <th>9</th>\n",
       "      <th>...</th>\n",
       "      <th>79</th>\n",
       "      <th>80</th>\n",
       "      <th>81</th>\n",
       "      <th>82</th>\n",
       "      <th>83</th>\n",
       "      <th>84</th>\n",
       "      <th>85</th>\n",
       "      <th>86</th>\n",
       "      <th>87</th>\n",
       "      <th>88</th>\n",
       "    </tr>\n",
       "  </thead>\n",
       "  <tbody>\n",
       "    <tr>\n",
       "      <th>0</th>\n",
       "      <td>1.53828</td>\n",
       "      <td>0.99954</td>\n",
       "      <td>3.17388</td>\n",
       "      <td>3.41181</td>\n",
       "      <td>0.49604</td>\n",
       "      <td>0.53810</td>\n",
       "      <td>0.32496</td>\n",
       "      <td>0.78601</td>\n",
       "      <td>1.22555</td>\n",
       "      <td>0.87730</td>\n",
       "      <td>...</td>\n",
       "      <td>NaN</td>\n",
       "      <td>NaN</td>\n",
       "      <td>NaN</td>\n",
       "      <td>NaN</td>\n",
       "      <td>NaN</td>\n",
       "      <td>NaN</td>\n",
       "      <td>NaN</td>\n",
       "      <td>NaN</td>\n",
       "      <td>NaN</td>\n",
       "      <td>NaN</td>\n",
       "    </tr>\n",
       "    <tr>\n",
       "      <th>1</th>\n",
       "      <td>-0.85446</td>\n",
       "      <td>-0.20665</td>\n",
       "      <td>-0.07723</td>\n",
       "      <td>0.33926</td>\n",
       "      <td>-0.37236</td>\n",
       "      <td>-0.37574</td>\n",
       "      <td>0.91950</td>\n",
       "      <td>0.81559</td>\n",
       "      <td>0.69254</td>\n",
       "      <td>0.32236</td>\n",
       "      <td>...</td>\n",
       "      <td>NaN</td>\n",
       "      <td>NaN</td>\n",
       "      <td>NaN</td>\n",
       "      <td>NaN</td>\n",
       "      <td>NaN</td>\n",
       "      <td>NaN</td>\n",
       "      <td>NaN</td>\n",
       "      <td>NaN</td>\n",
       "      <td>NaN</td>\n",
       "      <td>NaN</td>\n",
       "    </tr>\n",
       "    <tr>\n",
       "      <th>2</th>\n",
       "      <td>-0.65433</td>\n",
       "      <td>-0.65223</td>\n",
       "      <td>-0.91605</td>\n",
       "      <td>-0.01444</td>\n",
       "      <td>-0.01600</td>\n",
       "      <td>0.19101</td>\n",
       "      <td>-1.18852</td>\n",
       "      <td>-1.18645</td>\n",
       "      <td>-0.32113</td>\n",
       "      <td>-0.31579</td>\n",
       "      <td>...</td>\n",
       "      <td>NaN</td>\n",
       "      <td>NaN</td>\n",
       "      <td>NaN</td>\n",
       "      <td>NaN</td>\n",
       "      <td>NaN</td>\n",
       "      <td>NaN</td>\n",
       "      <td>NaN</td>\n",
       "      <td>NaN</td>\n",
       "      <td>NaN</td>\n",
       "      <td>NaN</td>\n",
       "    </tr>\n",
       "    <tr>\n",
       "      <th>3</th>\n",
       "      <td>-1.07753</td>\n",
       "      <td>-0.97502</td>\n",
       "      <td>-0.83478</td>\n",
       "      <td>-0.31230</td>\n",
       "      <td>-0.21154</td>\n",
       "      <td>-0.20761</td>\n",
       "      <td>1.87945</td>\n",
       "      <td>0.04506</td>\n",
       "      <td>-2.14720</td>\n",
       "      <td>0.69261</td>\n",
       "      <td>...</td>\n",
       "      <td>NaN</td>\n",
       "      <td>NaN</td>\n",
       "      <td>NaN</td>\n",
       "      <td>NaN</td>\n",
       "      <td>NaN</td>\n",
       "      <td>NaN</td>\n",
       "      <td>NaN</td>\n",
       "      <td>NaN</td>\n",
       "      <td>NaN</td>\n",
       "      <td>NaN</td>\n",
       "    </tr>\n",
       "    <tr>\n",
       "      <th>4</th>\n",
       "      <td>-0.48617</td>\n",
       "      <td>-0.82370</td>\n",
       "      <td>-2.24529</td>\n",
       "      <td>-1.63206</td>\n",
       "      <td>-1.01869</td>\n",
       "      <td>-0.29595</td>\n",
       "      <td>-0.36516</td>\n",
       "      <td>-0.17063</td>\n",
       "      <td>-0.39560</td>\n",
       "      <td>-1.39872</td>\n",
       "      <td>...</td>\n",
       "      <td>NaN</td>\n",
       "      <td>NaN</td>\n",
       "      <td>NaN</td>\n",
       "      <td>NaN</td>\n",
       "      <td>NaN</td>\n",
       "      <td>NaN</td>\n",
       "      <td>NaN</td>\n",
       "      <td>NaN</td>\n",
       "      <td>NaN</td>\n",
       "      <td>NaN</td>\n",
       "    </tr>\n",
       "  </tbody>\n",
       "</table>\n",
       "<p>5 rows × 89 columns</p>\n",
       "</div>"
      ],
      "text/plain": [
       "        0        1        2        3        4        5        6        7   \\\n",
       "0  1.53828  0.99954  3.17388  3.41181  0.49604  0.53810  0.32496  0.78601   \n",
       "1 -0.85446 -0.20665 -0.07723  0.33926 -0.37236 -0.37574  0.91950  0.81559   \n",
       "2 -0.65433 -0.65223 -0.91605 -0.01444 -0.01600  0.19101 -1.18852 -1.18645   \n",
       "3 -1.07753 -0.97502 -0.83478 -0.31230 -0.21154 -0.20761  1.87945  0.04506   \n",
       "4 -0.48617 -0.82370 -2.24529 -1.63206 -1.01869 -0.29595 -0.36516 -0.17063   \n",
       "\n",
       "        8        9  ...  79  80  81  82  83  84  85  86  87  88  \n",
       "0  1.22555  0.87730 ... NaN NaN NaN NaN NaN NaN NaN NaN NaN NaN  \n",
       "1  0.69254  0.32236 ... NaN NaN NaN NaN NaN NaN NaN NaN NaN NaN  \n",
       "2 -0.32113 -0.31579 ... NaN NaN NaN NaN NaN NaN NaN NaN NaN NaN  \n",
       "3 -2.14720  0.69261 ... NaN NaN NaN NaN NaN NaN NaN NaN NaN NaN  \n",
       "4 -0.39560 -1.39872 ... NaN NaN NaN NaN NaN NaN NaN NaN NaN NaN  \n",
       "\n",
       "[5 rows x 89 columns]"
      ]
     },
     "execution_count": 8,
     "metadata": {},
     "output_type": "execute_result"
    }
   ],
   "source": [
    "accYDf.head()"
   ]
  },
  {
   "cell_type": "code",
   "execution_count": 22,
   "metadata": {
    "ExecuteTime": {
     "end_time": "2018-05-07T14:19:30.721250Z",
     "start_time": "2018-05-07T14:17:00.495400Z"
    }
   },
   "outputs": [],
   "source": [
    "# Konvertiere Beschleunigungssensordaten Z-Achse zu einem DataFrame\n",
    "measuredDataList = featuresDf['Z-Achse Beschleunigungswerte in m/s^2'].str.split(\" \").tolist()\n",
    "accList = []\n",
    "accList.append(pandas.DataFrame(np.array(measuredDataList[0]).astype(float)).transpose())\n",
    "for x in measuredDataList[1:]:\n",
    "    accList.append(pandas.DataFrame(np.array(x).astype(float)).transpose())\n",
    "accZDf = pandas.concat(accList, ignore_index=True)"
   ]
  },
  {
   "cell_type": "code",
   "execution_count": 23,
   "metadata": {
    "ExecuteTime": {
     "end_time": "2018-05-07T14:22:24.186902Z",
     "start_time": "2018-05-07T14:19:54.669698Z"
    }
   },
   "outputs": [],
   "source": [
    "# Konvertiere Nick Messwerte zu DataFrame\n",
    "measuredDataList = featuresDf['Nick Messwerte in rad'].str.split(\" \").tolist()\n",
    "pitchList = []\n",
    "pitchList.append(pandas.DataFrame(np.array(measuredDataList[0]).astype(float)).transpose())\n",
    "for x in measuredDataList[1:]:\n",
    "    pitchList.append(pandas.DataFrame(np.array(x).astype(float)).transpose())\n",
    "nickDf = pandas.concat(pitchList, ignore_index=True)"
   ]
  },
  {
   "cell_type": "code",
   "execution_count": null,
   "metadata": {
    "ExecuteTime": {
     "end_time": "2018-05-07T14:28:50.529277Z",
     "start_time": "2018-05-07T14:26:21.179651Z"
    }
   },
   "outputs": [],
   "source": [
    "# Konvertiere Roll Messwerte zu DataFrame\n",
    "measuredDataList = featuresDf['Roll Messwerte in rad'].str.split(\" \").tolist()\n",
    "rollList = []\n",
    "rollList.append(pandas.DataFrame(abs(np.array(measuredDataList[0]).astype(float))).transpose())\n",
    "for x in measuredDataList[1:]:\n",
    "    rollList.append(pandas.DataFrame(abs(np.array(x).astype(float))).transpose())\n",
    "rollDf = pandas.concat(rollList, ignore_index=True)"
   ]
  },
  {
   "cell_type": "code",
   "execution_count": null,
   "metadata": {
    "ExecuteTime": {
     "end_time": "2018-05-07T14:33:53.610725Z",
     "start_time": "2018-05-07T14:31:23.046118Z"
    }
   },
   "outputs": [],
   "source": [
    "measuredDataList = featuresDf['Gier Messwerte in rad'].str.split(\" \").tolist()\n",
    "azimuthList = []\n",
    "azimuthList.append(pandas.DataFrame(abs(np.array(measuredDataList[0]).astype(float))).transpose())\n",
    "for x in measuredDataList[1:]:\n",
    "    azimuthList.append(pandas.DataFrame(abs(np.array(x).astype(float))).transpose())\n",
    "azimuthDf = pandas.concat(azimuthList, ignore_index=True)"
   ]
  },
  {
   "cell_type": "code",
   "execution_count": 24,
   "metadata": {
    "ExecuteTime": {
     "end_time": "2018-05-07T14:42:30.936001Z",
     "start_time": "2018-05-07T14:40:01.500632Z"
    }
   },
   "outputs": [],
   "source": [
    "measuredDataList = featuresDf['Zeitstempel der Messwerte in ns'].str.split(\" \").tolist()\n",
    "timestampsList = []\n",
    "timestampsList.append(pandas.DataFrame(np.array(measuredDataList[0]).astype(float)).transpose())\n",
    "for x in measuredDataList[1:]:\n",
    "    timestampsList.append(pandas.DataFrame(np.array(x).astype(float)).transpose())\n",
    "sensorTimestampsDf = pandas.concat(timestampsList, ignore_index=True)"
   ]
  },
  {
   "cell_type": "code",
   "execution_count": 25,
   "metadata": {
    "ExecuteTime": {
     "end_time": "2018-05-07T14:49:49.944787Z",
     "start_time": "2018-05-07T14:49:49.679888Z"
    }
   },
   "outputs": [],
   "source": [
    "# Neue Spalten werden erstellt und Mittelwerte zugewiesen\n",
    "#featuresDf['Mittelwert X-Achse Beschleunigung in m/s^2'] = accXDf.T.mean()\n",
    "featuresDf['Mittelwert Y-Achse Beschleunigung in m/s^2'] = accYDf.T.mean()\n",
    "featuresDf['Mittelwert Z-Achse Beschleunigung in m/s^2'] = accZDf.T.mean()\n",
    "featuresDf['Mittelwert Nick in rad'] = nickDf.T.mean()\n",
    "#featuresDf['Mittelwert Roll in rad'] = rollDf.T.mean()"
   ]
  },
  {
   "cell_type": "code",
   "execution_count": 26,
   "metadata": {
    "ExecuteTime": {
     "end_time": "2018-05-07T14:49:56.993478Z",
     "start_time": "2018-05-07T14:49:56.985478Z"
    }
   },
   "outputs": [],
   "source": [
    "#featuresDf['Mittelwert X-Achse Beschleunigung in m/s^2'].head(2)"
   ]
  },
  {
   "cell_type": "code",
   "execution_count": 27,
   "metadata": {
    "ExecuteTime": {
     "end_time": "2018-05-07T14:50:04.635958Z",
     "start_time": "2018-05-07T14:50:04.627960Z"
    },
    "scrolled": true
   },
   "outputs": [
    {
     "data": {
      "text/plain": [
       "Index(['Zeitstempel in Unixzeit', 'Breitengrad', 'Laengengrad',\n",
       "       'Geschwindigkeit in km/h',\n",
       "       'Genauigkeit der Geschwindigkeit speedAccuracyMetersPerSecond',\n",
       "       'Lokations Zeitstempel in Unixzeit',\n",
       "       'Z-Achse Beschleunigungswerte in m/s^2',\n",
       "       'Y-Achse Beschleunigungswerte in m/s^2', 'Nick Messwerte in rad',\n",
       "       'Zeitstempel der Messwerte in ns', 'Anzahl der Messwerte',\n",
       "       'Start des Zeitfensters in ns seit Start der JVM',\n",
       "       'Zeitstempel Messwertdaten anfordern in Unixzeit',\n",
       "       'Start der Messwerterfassung in ns seit Start der JVM',\n",
       "       'Erster Zeitstempel der Teilliste in ns seit Start der JVM',\n",
       "       'Start der Belichtung in ns seit Start der JVM',\n",
       "       'Belichtungszeit in ns',\n",
       "       'Letzter Zeitstempel der Messwerterfassung in ns seit Start der JVM',\n",
       "       'Speicherzeitpunkt der Merkmale in Unixzeit',\n",
       "       'Mittelwert Y-Achse Beschleunigung in m/s^2',\n",
       "       'Mittelwert Z-Achse Beschleunigung in m/s^2', 'Mittelwert Nick in rad',\n",
       "       'Varianz Y-Achse Beschleunigung in m/s^2',\n",
       "       'Varianz Z-Achse Beschleunigung in m/s^2', 'Varianz Nick in rad',\n",
       "       'Standardabweichung Y-Achse Beschleunigung in m/s^2',\n",
       "       'Standardabweichung Z-Achse Beschleunigung in m/s^2',\n",
       "       'Standardabweichung Nick in rad'],\n",
       "      dtype='object')"
      ]
     },
     "execution_count": 27,
     "metadata": {},
     "output_type": "execute_result"
    }
   ],
   "source": [
    "featuresDf.columns"
   ]
  },
  {
   "cell_type": "markdown",
   "metadata": {},
   "source": [
    "Berechnet die Varianz. Dieser Funktion muss als Paramter der Mittelwert (mean) und der DataFrame mit   \n",
    "den Float Werten übergeben werden, um die Varianz zu berechnen. Als Varianz wird der Durchschnitt der quadrierten  \n",
    "Differenzen zum Mittelwert bezeichnet.   \n",
    "Prec.:    \n",
    "Postc.: Gibt die berechnete Variance als Float zurück oder 0 wenn die Anzahl der Werte <= 0  "
   ]
  },
  {
   "cell_type": "code",
   "execution_count": 13,
   "metadata": {
    "ExecuteTime": {
     "end_time": "2018-05-07T14:50:11.704037Z",
     "start_time": "2018-05-07T14:50:11.696038Z"
    }
   },
   "outputs": [],
   "source": [
    "def calcVariance(meansDf, dfValues):\n",
    "    variance = []\n",
    "    for i, values in dfValues.iterrows():\n",
    "        sum = 0\n",
    "        for value in values:\n",
    "            if math.isnan(value) == False:\n",
    "                tempDifference = value-meansDf[i]\n",
    "                sum += tempDifference * tempDifference\n",
    "        variance.append(\"{0:.5f}\".format(round(sum / values.count(),5)))\n",
    "    return np.array(variance).astype(float)"
   ]
  },
  {
   "cell_type": "markdown",
   "metadata": {},
   "source": [
    "Hier wird die Standardabweichung der Varianz berechnet. Dies ist die Wurzel der Varianz.   \n",
    "Für die Berechnung wird der Absolutwert von der Varianz genommen.    \n",
    "Prec.:\n",
    "Postc.:  Standardabweichung wird zurückgegeben."
   ]
  },
  {
   "cell_type": "code",
   "execution_count": 14,
   "metadata": {
    "ExecuteTime": {
     "end_time": "2018-05-07T14:50:17.426578Z",
     "start_time": "2018-05-07T14:50:17.422578Z"
    }
   },
   "outputs": [],
   "source": [
    "def calculateStandardDeviation(varianceDf):\n",
    "    deviation = []\n",
    "    for v in varianceDf:\n",
    "        temp = math.sqrt(np.abs(v))\n",
    "        deviation.append(\"{0:.5f}\".format(round(temp,5)))\n",
    "    return np.array(deviation).astype(float)"
   ]
  },
  {
   "cell_type": "markdown",
   "metadata": {},
   "source": [
    "Die Funktion berechnet die Winkeldifferenz in rad zwischen den ersten gemessenen Gierwinkel und den letzten Gierwinkel   \n",
    "innerhalb einer als Argument übergebenen DataFrames. Der zurückgegebene Radiant    \n",
    "ist immer positiv und gibt die relative änderung in rad an.      \n",
    "Prec.:   \n",
    "Postc.: Radiant berechnet   "
   ]
  },
  {
   "cell_type": "code",
   "execution_count": 15,
   "metadata": {
    "ExecuteTime": {
     "end_time": "2018-05-07T14:50:22.899787Z",
     "start_time": "2018-05-07T14:50:22.891788Z"
    }
   },
   "outputs": [],
   "source": [
    "def calculateAngelChangeAzimuth(azimuthDf):\n",
    "    result = []\n",
    "    for i,values in azimuthDf.iterrows():\n",
    "        first = values[0]*(180/math.pi)\n",
    "        last = values.iloc[values.count()-1]*(180/math.pi)\n",
    "        resultTemp = np.abs(first - last)\n",
    "        if(resultTemp > 180):\n",
    "            resultTemp = 360 - resultTemp\n",
    "        result.append(\"{0:.5f}\".format(round(resultTemp * ( math.pi / 180),5)))\n",
    "    return np.array(result).astype(float)"
   ]
  },
  {
   "cell_type": "code",
   "execution_count": null,
   "metadata": {
    "ExecuteTime": {
     "end_time": "2018-05-07T14:50:41.198418Z",
     "start_time": "2018-05-07T14:50:29.919986Z"
    }
   },
   "outputs": [],
   "source": [
    "featuresDf['Gier-Aenderung in rad'] = calculateAngelChangeAzimuth(azimuthDf)"
   ]
  },
  {
   "cell_type": "code",
   "execution_count": null,
   "metadata": {},
   "outputs": [],
   "source": [
    "accXDf[14957:14961]"
   ]
  },
  {
   "cell_type": "code",
   "execution_count": null,
   "metadata": {},
   "outputs": [],
   "source": [
    "featuresDf['Mittelwert X-Achse Beschleunigung in m/s^2'].iloc[10]"
   ]
  },
  {
   "cell_type": "code",
   "execution_count": 28,
   "metadata": {
    "ExecuteTime": {
     "end_time": "2018-05-07T15:16:03.331865Z",
     "start_time": "2018-05-07T15:15:58.790315Z"
    }
   },
   "outputs": [],
   "source": [
    "# Berechnung der Varianzen und hinzufügen der Ergebnisse als neue Spalte in dem DataFrame \n",
    "#featuresDf['Varianz X-Achse Beschleunigung in m/s^2'] = calcVariance(featuresDf['Mittelwert X-Achse Beschleunigung in m/s^2'],accXDf)\n",
    "featuresDf['Varianz Y-Achse Beschleunigung in m/s^2'] = calcVariance(featuresDf['Mittelwert Y-Achse Beschleunigung in m/s^2'],accYDf)\n",
    "featuresDf['Varianz Z-Achse Beschleunigung in m/s^2'] = calcVariance(featuresDf['Mittelwert Z-Achse Beschleunigung in m/s^2'],accZDf)\n",
    "featuresDf['Varianz Nick in rad'] = calcVariance(featuresDf['Mittelwert Nick in rad'],nickDf)\n",
    "#featuresDf['Varianz Roll in rad'] = calcVariance(featuresDf['Mittelwert Roll in rad'],rollDf)"
   ]
  },
  {
   "cell_type": "code",
   "execution_count": null,
   "metadata": {
    "ExecuteTime": {
     "end_time": "2018-05-07T13:55:13.914004Z",
     "start_time": "2018-05-07T13:51:52.727Z"
    }
   },
   "outputs": [],
   "source": [
    "featuresDf['Varianz X-Achse Beschleunigung in m/s^2'].head()"
   ]
  },
  {
   "cell_type": "code",
   "execution_count": null,
   "metadata": {
    "ExecuteTime": {
     "end_time": "2018-05-07T13:55:13.929630Z",
     "start_time": "2018-05-07T13:51:53.592Z"
    }
   },
   "outputs": [],
   "source": [
    "calculateStandardDeviation(featuresDf['Varianz X-Achse Beschleunigung in m/s^2'])"
   ]
  },
  {
   "cell_type": "code",
   "execution_count": 29,
   "metadata": {
    "ExecuteTime": {
     "end_time": "2018-05-07T13:55:13.929630Z",
     "start_time": "2018-05-07T13:51:59.147Z"
    }
   },
   "outputs": [],
   "source": [
    "# Berechne Standardabweichung\n",
    "#featuresDf['Standardabweichung X-Achse Beschleunigung in m/s^2'] = calculateStandardDeviation(featuresDf['Varianz X-Achse Beschleunigung in m/s^2'])\n",
    "featuresDf['Standardabweichung Y-Achse Beschleunigung in m/s^2'] = calculateStandardDeviation(featuresDf['Varianz Y-Achse Beschleunigung in m/s^2'])\n",
    "featuresDf['Standardabweichung Z-Achse Beschleunigung in m/s^2'] = calculateStandardDeviation(featuresDf['Varianz Z-Achse Beschleunigung in m/s^2'])\n",
    "featuresDf['Standardabweichung Nick in rad'] = calculateStandardDeviation(featuresDf['Varianz Nick in rad'])\n",
    "#featuresDf['Standardabweichung Roll in rad'] = calculateStandardDeviation(featuresDf['Varianz Roll in rad'])"
   ]
  },
  {
   "cell_type": "code",
   "execution_count": null,
   "metadata": {
    "ExecuteTime": {
     "end_time": "2018-05-07T13:55:13.929630Z",
     "start_time": "2018-05-07T13:51:59.496Z"
    }
   },
   "outputs": [],
   "source": [
    "featuresDf['Standardabweichung X-Achse Beschleunigung in m/s^2'].head()"
   ]
  },
  {
   "cell_type": "code",
   "execution_count": null,
   "metadata": {
    "ExecuteTime": {
     "end_time": "2018-05-07T13:55:13.929630Z",
     "start_time": "2018-05-07T13:51:59.806Z"
    }
   },
   "outputs": [],
   "source": [
    "accXDf.info()"
   ]
  },
  {
   "cell_type": "code",
   "execution_count": null,
   "metadata": {
    "ExecuteTime": {
     "end_time": "2018-05-07T13:55:13.929630Z",
     "start_time": "2018-05-07T13:52:01.837Z"
    }
   },
   "outputs": [],
   "source": [
    "accXDf.head()"
   ]
  },
  {
   "cell_type": "code",
   "execution_count": 30,
   "metadata": {
    "ExecuteTime": {
     "end_time": "2018-05-07T13:55:13.929630Z",
     "start_time": "2018-05-07T13:52:04.510Z"
    }
   },
   "outputs": [],
   "source": [
    "# Änderungen in CSV Datei schreiben\n",
    "featuresDf.set_index('Zeitstempel in Unixzeit', inplace=True)\n",
    "featuresDf.to_csv('../daten/merkmale_datensatz_'+ dataset + '/merkmale.csv')"
   ]
  },
  {
   "cell_type": "code",
   "execution_count": 31,
   "metadata": {
    "ExecuteTime": {
     "end_time": "2018-05-07T13:55:13.929630Z",
     "start_time": "2018-05-07T13:52:12.294Z"
    }
   },
   "outputs": [],
   "source": [
    "featuresDf = pandas.read_csv(\"../daten/merkmale_datensatz_\" + dataset + \"/merkmale.csv\")"
   ]
  },
  {
   "cell_type": "code",
   "execution_count": 32,
   "metadata": {
    "ExecuteTime": {
     "end_time": "2018-05-07T13:55:13.929630Z",
     "start_time": "2018-05-07T13:52:19.911Z"
    }
   },
   "outputs": [],
   "source": [
    "# Speichert die DatenFrames mit den Messwerten in csv Dateien\n",
    "#accXDf.index.names = [\"index\"]\n",
    "#accXDf.to_csv('../daten/merkmale_datensatz_26_bis_27/absMesswerte/xAchseBeschleunigungswerte.csv')\n",
    "accYDf.index.names = [\"index\"]\n",
    "accYDf.to_csv('../daten/merkmale_datensatz_' + dataset + '/yAchseBeschleunigungswerte.csv')\n",
    "accZDf.index.names = [\"index\"]\n",
    "accZDf.to_csv('../daten/merkmale_datensatz_' + dataset + '/zAchseBeschleunigungswerte.csv')\n",
    "nickDf.index.names = [\"index\"]\n",
    "nickDf.to_csv('../daten/merkmale_datensatz_' + dataset + '/nickMesswerte.csv')\n",
    "#rollDf.index.names = [\"index\"]\n",
    "#rollDf.to_csv('../daten/merkmale_datensatz_26_bis_27/absMesswerte/rollMesswerte.csv')\n",
    "#azimuthDf.index.names = [\"index\"]\n",
    "#azimuthDf.to_csv('../daten/merkmale_datensatz_26_bis_27/absMesswerte/azimuthMesswerte.csv')\n",
    "sensorTimestampsDf.index.names = [\"index\"]\n",
    "sensorTimestampsDf.to_csv('../daten/merkmale_datensatz_' + dataset + '/sensoreventZeitstempel.csv')"
   ]
  },
  {
   "cell_type": "code",
   "execution_count": null,
   "metadata": {
    "ExecuteTime": {
     "end_time": "2018-05-07T13:55:13.929630Z",
     "start_time": "2018-05-07T13:52:23.478Z"
    }
   },
   "outputs": [],
   "source": [
    "# Unittests\n",
    "import unittest\n",
    "\n",
    "class CalcTest(unittest.TestCase):\n",
    "    \n",
    "    \n",
    "    # Testet die Funktion calcVariance mit einem DataFrame mit den Werten [2.0, 2.0]\n",
    "    # Der Mittelwert sollte 2.0 sein\n",
    "    # Das erwartete Ergebnis ist 0.0\n",
    "    def testCalcVariance2(self):\n",
    "        meanL = [2.0]\n",
    "        meanDf = pandas.DataFrame(meanL)\n",
    "        valuesA = [2.0,2.0]\n",
    "        valuesDf = pandas.DataFrame([[2.0]])\n",
    "        npt.assert_almost_equal(calcVariance(meanDf[0],valuesDf), 0.0,2)\n",
    "        \n",
    "    # Testet die Funktion calcVariance mit einem DataFrame mit den folgenden Werten:\n",
    "    # [1.24, 2.5213, 10.434, 42.45, 5.9]\n",
    "    # Der Mittelwert ist 12.508\n",
    "    # Die erwartete Varianz ist 234,247016\n",
    "    def testCalcVariance5(self):\n",
    "        meanDf = pandas.DataFrame([12.508])\n",
    "        valuesDf = pandas.DataFrame([[1.24, 2.52, 10.43, 42.45, 5.9]])\n",
    "        npt.assert_almost_equal(calcVariance(meanDf[0],valuesDf), 234.24702,5)   \n",
    "    \n",
    "    # Testet calcVariance mit 0 Datenwerten   \n",
    "    def testCalcVariance0(self):\n",
    "        meanDf = pandas.DataFrame([0.0])\n",
    "        valuesDf = pandas.DataFrame([[0.0]])\n",
    "        npt.assert_almost_equal(calcVariance(meanDf[0],valuesDf),0.0,2)  \n",
    "        \n",
    "    # Testet calcVariance mit negativen Datenwerten   \n",
    "    def testCalcVarianceNegative(self):\n",
    "        meanDf = pandas.DataFrame([-24.0])\n",
    "        valuesDf = pandas.DataFrame([[-2.0,-24.0,-5.0,7.0]])\n",
    "        npt.assert_almost_equal(calcVariance(meanDf[0],valuesDf),451.5,1) \n",
    "        \n",
    "    # Testet calcVariance mit Muultidimensionalen DataFrame   \n",
    "    def testCalcVarianceMultidim(self):\n",
    "        meanDf = pandas.DataFrame([-24.0,0.0])\n",
    "        valuesDf = pandas.DataFrame([[-2.0,-24.0,-5.0,7.0],[0.0,0.0,0.0,0.0]])\n",
    "        # Hier wird Numpy Test verwendet um das Ergebnis (zwei Arrays) zu vergleichen\n",
    "        npt.assert_array_equal(calcVariance(meanDf[0],valuesDf),np.array([ 451.5,0.0])) \n",
    "        \n",
    "    # Dieser Test testet die Funktion calculateStandardDeviation.\n",
    "    def testCalculateStandardDeviation(self):\n",
    "        varianceDf = pandas.DataFrame([451.5])\n",
    "        npt.assert_almost_equal(calculateStandardDeviation(varianceDf[0]),21.24853,5) \n",
    "        \n",
    "    # Testet die Funktion calculateStandardDeviation.\n",
    "    # Dabei hat das Argument den Wert 0.0.\n",
    "    def testCalculateStandardDeviationZero(self):\n",
    "        varianceDf = pandas.DataFrame([0.0])\n",
    "        npt.assert_almost_equal(calculateStandardDeviation(varianceDf[0]),0.0,2)\n",
    "    \n",
    "    #  Testet die Funktion calculateAngelChangeAzimuth mit zwei gleichen rad Werten\n",
    "    def testCalculateAngelChangeAzimuthEqual(self):\n",
    "        radiants = pandas.DataFrame([[1.0,1.0]])\n",
    "        npt.assert_almost_equal(calculateAngelChangeAzimuth(radiants),0.0,2)\n",
    "    \n",
    "    # Testet ob die Winkeldifferenz korrekt berechnet wurde für \n",
    "    # die Radianten -1.0 und 1.0\n",
    "    def testCalculateAngelChangeAzimuthOne(self):\n",
    "        radiants = pandas.DataFrame([[-1.0,1.0]])\n",
    "        npt.assert_almost_equal(calculateAngelChangeAzimuth(radiants),2.0,2)  \n",
    "        \n",
    "    # Testet ob die Winkeldifferenz korrekt berechnet wurde für \n",
    "    # die Radianten 1.0 und -1.0\n",
    "    def testCalculateAngelChangeAzimuthOne2(self):\n",
    "        radiants = pandas.DataFrame([[1.0,-1.0]])\n",
    "        npt.assert_almost_equal(calculateAngelChangeAzimuth(radiants),2.0,2)  \n",
    "\n",
    "    # Testet die Funktion calculateAngelChangeAzimuthValues mit mehreren Werten\n",
    "    def testCalculateAngelChangeAzimuthValues(self):\n",
    "        radiants = pandas.DataFrame([[-1.57,1.0,2.0,1.3,1.57]])\n",
    "        npt.assert_almost_equal(calculateAngelChangeAzimuth(radiants),3.14,2)\n",
    "        \n",
    "    # Testet ob die Winkeldifferenz korrekt berechnet wurde für \n",
    "    # die Radianten 0.05 und 0.06\n",
    "    def testCalculateAngelChangeAzimuthSmall(self):\n",
    "        radiants = pandas.DataFrame([[0.01,0.02]])\n",
    "        npt.assert_almost_equal(calculateAngelChangeAzimuth(radiants), 0.01,2)  \n",
    "        \n",
    "    # Testet ob die Winkeldifferenz korrekt berechnet wurde mit \n",
    "    # negative Radianten \n",
    "    def testCalculateAngelChangeAzimuthNegativ(self):\n",
    "        radiants = pandas.DataFrame([[-2.9,-2.0,-1.28]])\n",
    "        npt.assert_almost_equal(calculateAngelChangeAzimuth(radiants), 1.62,2) \n",
    "\n",
    "unittest.main(argv=[''], verbosity=2, exit=False)"
   ]
  },
  {
   "cell_type": "code",
   "execution_count": 111,
   "metadata": {},
   "outputs": [
    {
     "data": {
      "text/plain": [
       "2.2395099999999997"
      ]
     },
     "execution_count": 111,
     "metadata": {},
     "output_type": "execute_result"
    }
   ],
   "source": [
    "featuresDf['Standardabweichung Z-Achse Beschleunigung in m/s^2'].iloc[27906-30]"
   ]
  },
  {
   "cell_type": "code",
   "execution_count": 109,
   "metadata": {},
   "outputs": [
    {
     "data": {
      "text/plain": [
       "Zeitstempel in Unixzeit                                                                                   1527877755443\n",
       "Breitengrad                                                                                                     53.6138\n",
       "Laengengrad                                                                                                     10.1379\n",
       "Geschwindigkeit in km/h                                                                                           8.964\n",
       "Z-Achse Beschleunigungswerte in m/s^2                                 3.31214 -1.45266 -0.85647 -6.07319 -1.51277 2....\n",
       "Y-Achse Beschleunigungswerte in m/s^2                                 -5.42426 7.26983 9.74416 4.87022 -6.38916 -2.3...\n",
       "Nick Messwerte in rad                                                 0.3893 -0.75311 -0.81811 -0.79712 0.53538 0.18...\n",
       "Zeitstempel der Messwerte in ns                                       5862970 13858263 21855014 29849734 37840548 45...\n",
       "Anzahl der Messwerte                                                                                                 49\n",
       "Start des Zeitfensters in ns seit Start der JVM                                                          31780608661124\n",
       "Zeitstempel Messwertdaten anfordern in Unixzeit                                                           1527877755538\n",
       "Start der Messwerterfassung in ns seit Start der JVM                                                     31759146306875\n",
       "Erster Zeitstempel der Teilliste in ns seit Start der JVM                                                31780102797478\n",
       "Start der Belichtung in ns seit Start der JVM                                                            31780794466162\n",
       "Belichtungszeit in ns                                                                                          29996324\n",
       "Letzter Zeitstempel der Messwerterfassung in ns seit Start der JVM                                       31781014304940\n",
       "Speicherzeitpunkt der Merkmale in Unixzeit                                                                1527877755564\n",
       "Mittelwert Y-Achse Beschleunigung in m/s^2                                                                      1.30994\n",
       "Mittelwert Z-Achse Beschleunigung in m/s^2                                                                    -0.627145\n",
       "Mittelwert Nick in rad                                                                                        -0.176877\n",
       "Varianz Y-Achse Beschleunigung in m/s^2                                                                         22.6365\n",
       "Varianz Z-Achse Beschleunigung in m/s^2                                                                         36.5324\n",
       "Varianz Nick in rad                                                                                             0.22821\n",
       "Standardabweichung Y-Achse Beschleunigung in m/s^2                                                              4.75778\n",
       "Standardabweichung Z-Achse Beschleunigung in m/s^2                                                               6.0442\n",
       "Standardabweichung Nick in rad                                                                                  0.47771\n",
       "Name: 27875, dtype: object"
      ]
     },
     "execution_count": 109,
     "metadata": {},
     "output_type": "execute_result"
    }
   ],
   "source": [
    "featuresDf.iloc[27906-31]"
   ]
  },
  {
   "cell_type": "code",
   "execution_count": 102,
   "metadata": {},
   "outputs": [
    {
     "ename": "KeyError",
     "evalue": "'[ 0.60104  1.50801  0.7393  ...,  0.81991  0.91911  0.71639] not in index'",
     "output_type": "error",
     "traceback": [
      "\u001b[1;31m---------------------------------------------------------------------------\u001b[0m",
      "\u001b[1;31mKeyError\u001b[0m                                  Traceback (most recent call last)",
      "\u001b[1;32m<ipython-input-102-89381d5a4f84>\u001b[0m in \u001b[0;36m<module>\u001b[1;34m()\u001b[0m\n\u001b[1;32m----> 1\u001b[1;33m \u001b[0mfeaturesDf\u001b[0m\u001b[1;33m[\u001b[0m\u001b[0mfeaturesDf\u001b[0m\u001b[1;33m[\u001b[0m\u001b[1;34m'Standardabweichung Z-Achse Beschleunigung in m/s^2'\u001b[0m\u001b[1;33m]\u001b[0m\u001b[1;33m]\u001b[0m\u001b[1;33m\u001b[0m\u001b[0m\n\u001b[0m",
      "\u001b[1;32m~\\AppData\\Local\\conda\\conda\\envs\\bachelor\\lib\\site-packages\\pandas\\core\\frame.py\u001b[0m in \u001b[0;36m__getitem__\u001b[1;34m(self, key)\u001b[0m\n\u001b[0;32m   2131\u001b[0m         \u001b[1;32mif\u001b[0m \u001b[0misinstance\u001b[0m\u001b[1;33m(\u001b[0m\u001b[0mkey\u001b[0m\u001b[1;33m,\u001b[0m \u001b[1;33m(\u001b[0m\u001b[0mSeries\u001b[0m\u001b[1;33m,\u001b[0m \u001b[0mnp\u001b[0m\u001b[1;33m.\u001b[0m\u001b[0mndarray\u001b[0m\u001b[1;33m,\u001b[0m \u001b[0mIndex\u001b[0m\u001b[1;33m,\u001b[0m \u001b[0mlist\u001b[0m\u001b[1;33m)\u001b[0m\u001b[1;33m)\u001b[0m\u001b[1;33m:\u001b[0m\u001b[1;33m\u001b[0m\u001b[0m\n\u001b[0;32m   2132\u001b[0m             \u001b[1;31m# either boolean or fancy integer index\u001b[0m\u001b[1;33m\u001b[0m\u001b[1;33m\u001b[0m\u001b[0m\n\u001b[1;32m-> 2133\u001b[1;33m             \u001b[1;32mreturn\u001b[0m \u001b[0mself\u001b[0m\u001b[1;33m.\u001b[0m\u001b[0m_getitem_array\u001b[0m\u001b[1;33m(\u001b[0m\u001b[0mkey\u001b[0m\u001b[1;33m)\u001b[0m\u001b[1;33m\u001b[0m\u001b[0m\n\u001b[0m\u001b[0;32m   2134\u001b[0m         \u001b[1;32melif\u001b[0m \u001b[0misinstance\u001b[0m\u001b[1;33m(\u001b[0m\u001b[0mkey\u001b[0m\u001b[1;33m,\u001b[0m \u001b[0mDataFrame\u001b[0m\u001b[1;33m)\u001b[0m\u001b[1;33m:\u001b[0m\u001b[1;33m\u001b[0m\u001b[0m\n\u001b[0;32m   2135\u001b[0m             \u001b[1;32mreturn\u001b[0m \u001b[0mself\u001b[0m\u001b[1;33m.\u001b[0m\u001b[0m_getitem_frame\u001b[0m\u001b[1;33m(\u001b[0m\u001b[0mkey\u001b[0m\u001b[1;33m)\u001b[0m\u001b[1;33m\u001b[0m\u001b[0m\n",
      "\u001b[1;32m~\\AppData\\Local\\conda\\conda\\envs\\bachelor\\lib\\site-packages\\pandas\\core\\frame.py\u001b[0m in \u001b[0;36m_getitem_array\u001b[1;34m(self, key)\u001b[0m\n\u001b[0;32m   2175\u001b[0m             \u001b[1;32mreturn\u001b[0m \u001b[0mself\u001b[0m\u001b[1;33m.\u001b[0m\u001b[0m_take\u001b[0m\u001b[1;33m(\u001b[0m\u001b[0mindexer\u001b[0m\u001b[1;33m,\u001b[0m \u001b[0maxis\u001b[0m\u001b[1;33m=\u001b[0m\u001b[1;36m0\u001b[0m\u001b[1;33m,\u001b[0m \u001b[0mconvert\u001b[0m\u001b[1;33m=\u001b[0m\u001b[1;32mFalse\u001b[0m\u001b[1;33m)\u001b[0m\u001b[1;33m\u001b[0m\u001b[0m\n\u001b[0;32m   2176\u001b[0m         \u001b[1;32melse\u001b[0m\u001b[1;33m:\u001b[0m\u001b[1;33m\u001b[0m\u001b[0m\n\u001b[1;32m-> 2177\u001b[1;33m             \u001b[0mindexer\u001b[0m \u001b[1;33m=\u001b[0m \u001b[0mself\u001b[0m\u001b[1;33m.\u001b[0m\u001b[0mloc\u001b[0m\u001b[1;33m.\u001b[0m\u001b[0m_convert_to_indexer\u001b[0m\u001b[1;33m(\u001b[0m\u001b[0mkey\u001b[0m\u001b[1;33m,\u001b[0m \u001b[0maxis\u001b[0m\u001b[1;33m=\u001b[0m\u001b[1;36m1\u001b[0m\u001b[1;33m)\u001b[0m\u001b[1;33m\u001b[0m\u001b[0m\n\u001b[0m\u001b[0;32m   2178\u001b[0m             \u001b[1;32mreturn\u001b[0m \u001b[0mself\u001b[0m\u001b[1;33m.\u001b[0m\u001b[0m_take\u001b[0m\u001b[1;33m(\u001b[0m\u001b[0mindexer\u001b[0m\u001b[1;33m,\u001b[0m \u001b[0maxis\u001b[0m\u001b[1;33m=\u001b[0m\u001b[1;36m1\u001b[0m\u001b[1;33m,\u001b[0m \u001b[0mconvert\u001b[0m\u001b[1;33m=\u001b[0m\u001b[1;32mTrue\u001b[0m\u001b[1;33m)\u001b[0m\u001b[1;33m\u001b[0m\u001b[0m\n\u001b[0;32m   2179\u001b[0m \u001b[1;33m\u001b[0m\u001b[0m\n",
      "\u001b[1;32m~\\AppData\\Local\\conda\\conda\\envs\\bachelor\\lib\\site-packages\\pandas\\core\\indexing.py\u001b[0m in \u001b[0;36m_convert_to_indexer\u001b[1;34m(self, obj, axis, is_setter)\u001b[0m\n\u001b[0;32m   1267\u001b[0m                 \u001b[1;32mif\u001b[0m \u001b[0mmask\u001b[0m\u001b[1;33m.\u001b[0m\u001b[0many\u001b[0m\u001b[1;33m(\u001b[0m\u001b[1;33m)\u001b[0m\u001b[1;33m:\u001b[0m\u001b[1;33m\u001b[0m\u001b[0m\n\u001b[0;32m   1268\u001b[0m                     raise KeyError('{mask} not in index'\n\u001b[1;32m-> 1269\u001b[1;33m                                    .format(mask=objarr[mask]))\n\u001b[0m\u001b[0;32m   1270\u001b[0m \u001b[1;33m\u001b[0m\u001b[0m\n\u001b[0;32m   1271\u001b[0m                 \u001b[1;32mreturn\u001b[0m \u001b[0m_values_from_object\u001b[0m\u001b[1;33m(\u001b[0m\u001b[0mindexer\u001b[0m\u001b[1;33m)\u001b[0m\u001b[1;33m\u001b[0m\u001b[0m\n",
      "\u001b[1;31mKeyError\u001b[0m: '[ 0.60104  1.50801  0.7393  ...,  0.81991  0.91911  0.71639] not in index'"
     ]
    }
   ],
   "source": [
    "featuresDf[featuresDf['Standardabweichung Z-Achse Beschleunigung in m/s^2']]"
   ]
  },
  {
   "cell_type": "code",
   "execution_count": 57,
   "metadata": {},
   "outputs": [
    {
     "data": {
      "text/html": [
       "<div>\n",
       "<style scoped>\n",
       "    .dataframe tbody tr th:only-of-type {\n",
       "        vertical-align: middle;\n",
       "    }\n",
       "\n",
       "    .dataframe tbody tr th {\n",
       "        vertical-align: top;\n",
       "    }\n",
       "\n",
       "    .dataframe thead th {\n",
       "        text-align: right;\n",
       "    }\n",
       "</style>\n",
       "<table border=\"1\" class=\"dataframe\">\n",
       "  <thead>\n",
       "    <tr style=\"text-align: right;\">\n",
       "      <th></th>\n",
       "      <th>Breitengrad</th>\n",
       "      <th>Laengengrad</th>\n",
       "      <th>Geschwindigkeit in km/h</th>\n",
       "      <th>Z-Achse Beschleunigungswerte in m/s^2</th>\n",
       "      <th>Y-Achse Beschleunigungswerte in m/s^2</th>\n",
       "      <th>Nick Messwerte in rad</th>\n",
       "      <th>Zeitstempel der Messwerte in ns</th>\n",
       "      <th>Anzahl der Messwerte</th>\n",
       "      <th>Start des Zeitfensters in ns seit Start der JVM</th>\n",
       "      <th>Zeitstempel Messwertdaten anfordern in Unixzeit</th>\n",
       "      <th>...</th>\n",
       "      <th>Speicherzeitpunkt der Merkmale in Unixzeit</th>\n",
       "      <th>Mittelwert Y-Achse Beschleunigung in m/s^2</th>\n",
       "      <th>Mittelwert Z-Achse Beschleunigung in m/s^2</th>\n",
       "      <th>Mittelwert Nick in rad</th>\n",
       "      <th>Varianz Y-Achse Beschleunigung in m/s^2</th>\n",
       "      <th>Varianz Z-Achse Beschleunigung in m/s^2</th>\n",
       "      <th>Varianz Nick in rad</th>\n",
       "      <th>Standardabweichung Y-Achse Beschleunigung in m/s^2</th>\n",
       "      <th>Standardabweichung Z-Achse Beschleunigung in m/s^2</th>\n",
       "      <th>Standardabweichung Nick in rad</th>\n",
       "    </tr>\n",
       "    <tr>\n",
       "      <th>Zeitstempel in Unixzeit</th>\n",
       "      <th></th>\n",
       "      <th></th>\n",
       "      <th></th>\n",
       "      <th></th>\n",
       "      <th></th>\n",
       "      <th></th>\n",
       "      <th></th>\n",
       "      <th></th>\n",
       "      <th></th>\n",
       "      <th></th>\n",
       "      <th></th>\n",
       "      <th></th>\n",
       "      <th></th>\n",
       "      <th></th>\n",
       "      <th></th>\n",
       "      <th></th>\n",
       "      <th></th>\n",
       "      <th></th>\n",
       "      <th></th>\n",
       "      <th></th>\n",
       "      <th></th>\n",
       "    </tr>\n",
       "  </thead>\n",
       "  <tbody>\n",
       "    <tr>\n",
       "      <th>1527871509062</th>\n",
       "      <td>53.626556</td>\n",
       "      <td>10.027216</td>\n",
       "      <td>5.004</td>\n",
       "      <td>-3.03752 -2.72623 0.6619 0.2198 1.09744 1.9162...</td>\n",
       "      <td>3.73035 4.11822 0.84982 -0.4632 0.56443 0.4897...</td>\n",
       "      <td>-0.50581 -0.51976 -0.05175 0.083 -0.02236 -0.0...</td>\n",
       "      <td>2489033 10482763 18476493 26473818 34470100 42...</td>\n",
       "      <td>89</td>\n",
       "      <td>25534077246068</td>\n",
       "      <td>1527871509328</td>\n",
       "      <td>...</td>\n",
       "      <td>1527871509364</td>\n",
       "      <td>0.061497</td>\n",
       "      <td>-0.167370</td>\n",
       "      <td>-0.032344</td>\n",
       "      <td>8.38072</td>\n",
       "      <td>10.71274</td>\n",
       "      <td>0.10781</td>\n",
       "      <td>2.89495</td>\n",
       "      <td>3.27303</td>\n",
       "      <td>0.32834</td>\n",
       "    </tr>\n",
       "    <tr>\n",
       "      <th>1527871509569</th>\n",
       "      <td>53.626556</td>\n",
       "      <td>10.027216</td>\n",
       "      <td>5.004</td>\n",
       "      <td>1.47978 2.69973 1.62354 -0.38691 -4.11345 -5.4...</td>\n",
       "      <td>-0.28844 1.13599 1.98382 1.80012 3.5326 4.6945...</td>\n",
       "      <td>0.04344 -0.07728 -0.16167 -0.18855 -0.59838 -0...</td>\n",
       "      <td>5112656 13097064 21099284 29096243 37097787 45...</td>\n",
       "      <td>89</td>\n",
       "      <td>25534578345068</td>\n",
       "      <td>1527871509829</td>\n",
       "      <td>...</td>\n",
       "      <td>1527871509871</td>\n",
       "      <td>-0.246005</td>\n",
       "      <td>-0.113654</td>\n",
       "      <td>-0.077562</td>\n",
       "      <td>19.09061</td>\n",
       "      <td>39.84095</td>\n",
       "      <td>0.26680</td>\n",
       "      <td>4.36928</td>\n",
       "      <td>6.31197</td>\n",
       "      <td>0.51653</td>\n",
       "    </tr>\n",
       "    <tr>\n",
       "      <th>1527873740791</th>\n",
       "      <td>53.665268</td>\n",
       "      <td>10.078330</td>\n",
       "      <td>5.004</td>\n",
       "      <td>-0.35468 0.04737 1.06002 -0.52924 -0.52854 -1....</td>\n",
       "      <td>-1.38725 -0.87037 -1.21106 2.08359 2.0813 0.22...</td>\n",
       "      <td>0.09876 0.03931 0.0708 -0.29171 -0.29171 0.124...</td>\n",
       "      <td>983367 8989128 16982545 24980703 32965997 4097...</td>\n",
       "      <td>89</td>\n",
       "      <td>27765788139068</td>\n",
       "      <td>1527873741034</td>\n",
       "      <td>...</td>\n",
       "      <td>1527873741067</td>\n",
       "      <td>-0.228638</td>\n",
       "      <td>0.070269</td>\n",
       "      <td>-0.050675</td>\n",
       "      <td>2.56126</td>\n",
       "      <td>3.89771</td>\n",
       "      <td>0.02285</td>\n",
       "      <td>1.60039</td>\n",
       "      <td>1.97426</td>\n",
       "      <td>0.15116</td>\n",
       "    </tr>\n",
       "  </tbody>\n",
       "</table>\n",
       "<p>3 rows × 25 columns</p>\n",
       "</div>"
      ],
      "text/plain": [
       "                         Breitengrad  Laengengrad  Geschwindigkeit in km/h  \\\n",
       "Zeitstempel in Unixzeit                                                      \n",
       "1527871509062              53.626556    10.027216                    5.004   \n",
       "1527871509569              53.626556    10.027216                    5.004   \n",
       "1527873740791              53.665268    10.078330                    5.004   \n",
       "\n",
       "                                     Z-Achse Beschleunigungswerte in m/s^2  \\\n",
       "Zeitstempel in Unixzeit                                                      \n",
       "1527871509062            -3.03752 -2.72623 0.6619 0.2198 1.09744 1.9162...   \n",
       "1527871509569            1.47978 2.69973 1.62354 -0.38691 -4.11345 -5.4...   \n",
       "1527873740791            -0.35468 0.04737 1.06002 -0.52924 -0.52854 -1....   \n",
       "\n",
       "                                     Y-Achse Beschleunigungswerte in m/s^2  \\\n",
       "Zeitstempel in Unixzeit                                                      \n",
       "1527871509062            3.73035 4.11822 0.84982 -0.4632 0.56443 0.4897...   \n",
       "1527871509569            -0.28844 1.13599 1.98382 1.80012 3.5326 4.6945...   \n",
       "1527873740791            -1.38725 -0.87037 -1.21106 2.08359 2.0813 0.22...   \n",
       "\n",
       "                                                     Nick Messwerte in rad  \\\n",
       "Zeitstempel in Unixzeit                                                      \n",
       "1527871509062            -0.50581 -0.51976 -0.05175 0.083 -0.02236 -0.0...   \n",
       "1527871509569            0.04344 -0.07728 -0.16167 -0.18855 -0.59838 -0...   \n",
       "1527873740791            0.09876 0.03931 0.0708 -0.29171 -0.29171 0.124...   \n",
       "\n",
       "                                           Zeitstempel der Messwerte in ns  \\\n",
       "Zeitstempel in Unixzeit                                                      \n",
       "1527871509062            2489033 10482763 18476493 26473818 34470100 42...   \n",
       "1527871509569            5112656 13097064 21099284 29096243 37097787 45...   \n",
       "1527873740791            983367 8989128 16982545 24980703 32965997 4097...   \n",
       "\n",
       "                         Anzahl der Messwerte  \\\n",
       "Zeitstempel in Unixzeit                         \n",
       "1527871509062                              89   \n",
       "1527871509569                              89   \n",
       "1527873740791                              89   \n",
       "\n",
       "                         Start des Zeitfensters in ns seit Start der JVM  \\\n",
       "Zeitstempel in Unixzeit                                                    \n",
       "1527871509062                                             25534077246068   \n",
       "1527871509569                                             25534578345068   \n",
       "1527873740791                                             27765788139068   \n",
       "\n",
       "                         Zeitstempel Messwertdaten anfordern in Unixzeit  \\\n",
       "Zeitstempel in Unixzeit                                                    \n",
       "1527871509062                                              1527871509328   \n",
       "1527871509569                                              1527871509829   \n",
       "1527873740791                                              1527873741034   \n",
       "\n",
       "                                      ...                \\\n",
       "Zeitstempel in Unixzeit               ...                 \n",
       "1527871509062                         ...                 \n",
       "1527871509569                         ...                 \n",
       "1527873740791                         ...                 \n",
       "\n",
       "                         Speicherzeitpunkt der Merkmale in Unixzeit  \\\n",
       "Zeitstempel in Unixzeit                                               \n",
       "1527871509062                                         1527871509364   \n",
       "1527871509569                                         1527871509871   \n",
       "1527873740791                                         1527873741067   \n",
       "\n",
       "                         Mittelwert Y-Achse Beschleunigung in m/s^2  \\\n",
       "Zeitstempel in Unixzeit                                               \n",
       "1527871509062                                              0.061497   \n",
       "1527871509569                                             -0.246005   \n",
       "1527873740791                                             -0.228638   \n",
       "\n",
       "                         Mittelwert Z-Achse Beschleunigung in m/s^2  \\\n",
       "Zeitstempel in Unixzeit                                               \n",
       "1527871509062                                             -0.167370   \n",
       "1527871509569                                             -0.113654   \n",
       "1527873740791                                              0.070269   \n",
       "\n",
       "                         Mittelwert Nick in rad  \\\n",
       "Zeitstempel in Unixzeit                           \n",
       "1527871509062                         -0.032344   \n",
       "1527871509569                         -0.077562   \n",
       "1527873740791                         -0.050675   \n",
       "\n",
       "                         Varianz Y-Achse Beschleunigung in m/s^2  \\\n",
       "Zeitstempel in Unixzeit                                            \n",
       "1527871509062                                            8.38072   \n",
       "1527871509569                                           19.09061   \n",
       "1527873740791                                            2.56126   \n",
       "\n",
       "                         Varianz Z-Achse Beschleunigung in m/s^2  \\\n",
       "Zeitstempel in Unixzeit                                            \n",
       "1527871509062                                           10.71274   \n",
       "1527871509569                                           39.84095   \n",
       "1527873740791                                            3.89771   \n",
       "\n",
       "                         Varianz Nick in rad  \\\n",
       "Zeitstempel in Unixzeit                        \n",
       "1527871509062                        0.10781   \n",
       "1527871509569                        0.26680   \n",
       "1527873740791                        0.02285   \n",
       "\n",
       "                         Standardabweichung Y-Achse Beschleunigung in m/s^2  \\\n",
       "Zeitstempel in Unixzeit                                                       \n",
       "1527871509062                                                      2.89495    \n",
       "1527871509569                                                      4.36928    \n",
       "1527873740791                                                      1.60039    \n",
       "\n",
       "                         Standardabweichung Z-Achse Beschleunigung in m/s^2  \\\n",
       "Zeitstempel in Unixzeit                                                       \n",
       "1527871509062                                                      3.27303    \n",
       "1527871509569                                                      6.31197    \n",
       "1527873740791                                                      1.97426    \n",
       "\n",
       "                         Standardabweichung Nick in rad  \n",
       "Zeitstempel in Unixzeit                                  \n",
       "1527871509062                                   0.32834  \n",
       "1527871509569                                   0.51653  \n",
       "1527873740791                                   0.15116  \n",
       "\n",
       "[3 rows x 25 columns]"
      ]
     },
     "execution_count": 57,
     "metadata": {},
     "output_type": "execute_result"
    }
   ],
   "source": [
    "featuresDf[featuresDf['Anzahl der Messwerte'] == featuresDf['Anzahl der Messwerte'].max()]"
   ]
  },
  {
   "cell_type": "code",
   "execution_count": null,
   "metadata": {},
   "outputs": [],
   "source": []
  }
 ],
 "metadata": {
  "kernelspec": {
   "display_name": "Python 3",
   "language": "python",
   "name": "python3"
  },
  "language_info": {
   "codemirror_mode": {
    "name": "ipython",
    "version": 3
   },
   "file_extension": ".py",
   "mimetype": "text/x-python",
   "name": "python",
   "nbconvert_exporter": "python",
   "pygments_lexer": "ipython3",
   "version": "3.6.4"
  },
  "latex_envs": {
   "LaTeX_envs_menu_present": true,
   "autocomplete": true,
   "bibliofile": "biblio.bib",
   "cite_by": "apalike",
   "current_citInitial": 1,
   "eqLabelWithNumbers": true,
   "eqNumInitial": 1,
   "hotkeys": {
    "equation": "Ctrl-E",
    "itemize": "Ctrl-I"
   },
   "labels_anchors": false,
   "latex_user_defs": false,
   "report_style_numbering": false,
   "user_envs_cfg": false
  },
  "toc": {
   "base_numbering": 1,
   "colors": {
    "hover_highlight": "#DAA520",
    "navigate_num": "#000000",
    "navigate_text": "#333333",
    "running_highlight": "#FF0000",
    "selected_highlight": "#FFD700",
    "sidebar_border": "#EEEEEE",
    "wrapper_background": "#FFFFFF"
   },
   "moveMenuLeft": true,
   "nav_menu": {
    "height": "31px",
    "width": "252px"
   },
   "navigate_menu": true,
   "number_sections": true,
   "sideBar": true,
   "skip_h1_title": false,
   "threshold": 4,
   "title_cell": "Table of Contents",
   "title_sidebar": "Contents",
   "toc_cell": false,
   "toc_position": {},
   "toc_section_display": "block",
   "toc_window_display": false,
   "widenNotebook": false
  },
  "varInspector": {
   "cols": {
    "lenName": 16,
    "lenType": 16,
    "lenVar": 40
   },
   "kernels_config": {
    "python": {
     "delete_cmd_postfix": "",
     "delete_cmd_prefix": "del ",
     "library": "var_list.py",
     "varRefreshCmd": "print(var_dic_list())"
    },
    "r": {
     "delete_cmd_postfix": ") ",
     "delete_cmd_prefix": "rm(",
     "library": "var_list.r",
     "varRefreshCmd": "cat(var_dic_list()) "
    }
   },
   "types_to_exclude": [
    "module",
    "function",
    "builtin_function_or_method",
    "instance",
    "_Feature"
   ],
   "window_display": false
  }
 },
 "nbformat": 4,
 "nbformat_minor": 2
}
