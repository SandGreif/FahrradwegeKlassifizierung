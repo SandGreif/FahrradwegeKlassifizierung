{
 "cells": [
  {
   "cell_type": "markdown",
   "metadata": {
    "collapsed": true
   },
   "source": [
    "## Berechnungen von Merkmalen\n",
    "\n",
    "In diesem Notebook ist es möglich den Mittelwert, Varianz und Standardabweichung für die aufgenommenen Messwerte aus der Datei \"merkmaleRoh.csv\" der Android TM Fahrradwege Monitoring App zu berechnen. Zu einem Bild werden parallel Messwerte erfasst von dem Beschleunigungssensor und Magnetsensor des Smartphones, innerhalb eines Zeitfenster mit einer Länge von 80ms (siehe hierzu auch das Notebook \"gatheringSequence\" in dem Ordner datenvisualisierung). Bei dem Beschleunigungssensor sind dies die Messwerte der beschleunigung von den 3-Achsen X, Y sowie Z (Abb. 1). Des Weiteren werden die Gier-Nick-Roll Winkel in rad in einem Zeitfenster erfasst. Für die Berechnung des Mittelwerts, Varianz und Standardabweichung über die Messwerte wird die Form der abgespeicherten Messwerte geändert, weil diese als Python Objekte verwaltet werden mit welchen nicht gerechnet werden kann. Zu den Messwertreihen wird jeweils eine CSV Datei erstellt. Eine Reihe stellt dann in dieser Datei eine Messreihe zu einem Zeitfenster dar. Bei der ausführung dieses Notebooks werden deshalb zusätzlich folgende CSV Dateien erstellt:\n",
    "\n",
    "X-Achse Beschleunigungswerte in m/s^2   \n",
    "Y-Achse Beschleunigungswerte in m/s^2  \n",
    "Z-Achse Beschleunigungswerte in m/s^2   \n",
    "Gier Messwerte in rad  \n",
    "Nick Messwerte in rad  \n",
    "Roll Messwerte in rad   \n",
    "Zeitstempel der Messwerte in ns  \n",
    "\n",
    "<img src=\"../daten/abbildungen/sensorOrientierung.png\" alt=\"Android Smartphone Sensor Orientierung\" width=\"200px\" />\n",
    "Abbildung 1: 3-Achsen Smartphone Sensor-Koordinatensystem   \n",
    "Quelle: siehe Bildverzeichnis Abb. 2 in der README.md Datei"
   ]
  },
  {
   "cell_type": "code",
   "execution_count": 1,
   "metadata": {
    "ExecuteTime": {
     "end_time": "2018-05-07T13:58:55.784445Z",
     "start_time": "2018-05-07T13:58:55.298871Z"
    }
   },
   "outputs": [],
   "source": [
    "import pandas\n",
    "import numpy as np\n",
    "import numpy.testing as npt\n",
    "import math\n",
    "import os"
   ]
  },
  {
   "cell_type": "code",
   "execution_count": 2,
   "metadata": {},
   "outputs": [],
   "source": [
    "dataset = '42'"
   ]
  },
  {
   "cell_type": "code",
   "execution_count": 3,
   "metadata": {
    "ExecuteTime": {
     "end_time": "2018-05-07T13:58:57.726814Z",
     "start_time": "2018-05-07T13:58:55.864375Z"
    }
   },
   "outputs": [
    {
     "data": {
      "text/html": [
       "<div>\n",
       "<style scoped>\n",
       "    .dataframe tbody tr th:only-of-type {\n",
       "        vertical-align: middle;\n",
       "    }\n",
       "\n",
       "    .dataframe tbody tr th {\n",
       "        vertical-align: top;\n",
       "    }\n",
       "\n",
       "    .dataframe thead th {\n",
       "        text-align: right;\n",
       "    }\n",
       "</style>\n",
       "<table border=\"1\" class=\"dataframe\">\n",
       "  <thead>\n",
       "    <tr style=\"text-align: right;\">\n",
       "      <th></th>\n",
       "      <th>Unnamed: 0</th>\n",
       "      <th>Zeitstempel in Unixzeit</th>\n",
       "      <th>Breitengrad</th>\n",
       "      <th>Laengengrad</th>\n",
       "      <th>Geschwindigkeit in km/h</th>\n",
       "      <th>Genauigkeit der Geschwindigkeit speedAccuracyMetersPerSecond</th>\n",
       "      <th>Lokations Zeitstempel in Unixzeit</th>\n",
       "      <th>Anzahl der Messwerte</th>\n",
       "      <th>Start des Zeitfensters in ns seit Start der JVM</th>\n",
       "      <th>Zeitstempel Messwertdaten anfordern in Unixzeit</th>\n",
       "      <th>Start der Messwerterfassung in ns seit Start der JVM</th>\n",
       "      <th>Erster Zeitstempel der Teilliste in ns seit Start der JVM</th>\n",
       "      <th>Start der Belichtung in ns seit Start der JVM</th>\n",
       "      <th>Belichtungszeit in ns</th>\n",
       "      <th>Letzter Zeitstempel der Messwerterfassung in ns seit Start der JVM</th>\n",
       "      <th>Speicherzeitpunkt der Merkmale in Unixzeit</th>\n",
       "    </tr>\n",
       "  </thead>\n",
       "  <tbody>\n",
       "    <tr>\n",
       "      <th>count</th>\n",
       "      <td>15784.00000</td>\n",
       "      <td>1.578400e+04</td>\n",
       "      <td>15784.000000</td>\n",
       "      <td>15784.000000</td>\n",
       "      <td>15784.000000</td>\n",
       "      <td>15784.000000</td>\n",
       "      <td>1.578400e+04</td>\n",
       "      <td>15784.000000</td>\n",
       "      <td>1.578400e+04</td>\n",
       "      <td>1.578400e+04</td>\n",
       "      <td>1.578400e+04</td>\n",
       "      <td>1.578400e+04</td>\n",
       "      <td>1.578400e+04</td>\n",
       "      <td>1.578400e+04</td>\n",
       "      <td>1.578400e+04</td>\n",
       "      <td>1.578400e+04</td>\n",
       "    </tr>\n",
       "    <tr>\n",
       "      <th>mean</th>\n",
       "      <td>7891.50000</td>\n",
       "      <td>1.528553e+12</td>\n",
       "      <td>53.596986</td>\n",
       "      <td>10.047488</td>\n",
       "      <td>15.102201</td>\n",
       "      <td>0.776389</td>\n",
       "      <td>1.528553e+12</td>\n",
       "      <td>31.699633</td>\n",
       "      <td>8.273763e+12</td>\n",
       "      <td>1.528553e+12</td>\n",
       "      <td>8.235413e+12</td>\n",
       "      <td>8.273142e+12</td>\n",
       "      <td>8.273892e+12</td>\n",
       "      <td>7.287411e+06</td>\n",
       "      <td>8.274032e+12</td>\n",
       "      <td>1.528553e+12</td>\n",
       "    </tr>\n",
       "    <tr>\n",
       "      <th>std</th>\n",
       "      <td>4556.59266</td>\n",
       "      <td>1.826245e+06</td>\n",
       "      <td>0.010084</td>\n",
       "      <td>0.036267</td>\n",
       "      <td>4.516101</td>\n",
       "      <td>0.395951</td>\n",
       "      <td>1.826255e+06</td>\n",
       "      <td>12.114893</td>\n",
       "      <td>1.826237e+12</td>\n",
       "      <td>1.826251e+06</td>\n",
       "      <td>1.830325e+12</td>\n",
       "      <td>1.826244e+12</td>\n",
       "      <td>1.826245e+12</td>\n",
       "      <td>7.854774e+06</td>\n",
       "      <td>1.826251e+12</td>\n",
       "      <td>1.826252e+06</td>\n",
       "    </tr>\n",
       "    <tr>\n",
       "      <th>min</th>\n",
       "      <td>0.00000</td>\n",
       "      <td>1.528550e+12</td>\n",
       "      <td>53.578236</td>\n",
       "      <td>10.003402</td>\n",
       "      <td>5.004000</td>\n",
       "      <td>0.092195</td>\n",
       "      <td>1.528550e+12</td>\n",
       "      <td>14.000000</td>\n",
       "      <td>5.141816e+12</td>\n",
       "      <td>1.528550e+12</td>\n",
       "      <td>5.141584e+12</td>\n",
       "      <td>5.141584e+12</td>\n",
       "      <td>5.142073e+12</td>\n",
       "      <td>4.412570e+05</td>\n",
       "      <td>5.142344e+12</td>\n",
       "      <td>1.528550e+12</td>\n",
       "    </tr>\n",
       "    <tr>\n",
       "      <th>25%</th>\n",
       "      <td>3945.75000</td>\n",
       "      <td>1.528551e+12</td>\n",
       "      <td>53.591266</td>\n",
       "      <td>10.018836</td>\n",
       "      <td>11.772000</td>\n",
       "      <td>0.524976</td>\n",
       "      <td>1.528551e+12</td>\n",
       "      <td>23.000000</td>\n",
       "      <td>6.660221e+12</td>\n",
       "      <td>1.528551e+12</td>\n",
       "      <td>6.645598e+12</td>\n",
       "      <td>6.659660e+12</td>\n",
       "      <td>6.660297e+12</td>\n",
       "      <td>2.095973e+06</td>\n",
       "      <td>6.660403e+12</td>\n",
       "      <td>1.528551e+12</td>\n",
       "    </tr>\n",
       "    <tr>\n",
       "      <th>50%</th>\n",
       "      <td>7891.50000</td>\n",
       "      <td>1.528553e+12</td>\n",
       "      <td>53.597187</td>\n",
       "      <td>10.032709</td>\n",
       "      <td>15.191999</td>\n",
       "      <td>0.718401</td>\n",
       "      <td>1.528553e+12</td>\n",
       "      <td>28.000000</td>\n",
       "      <td>8.356208e+12</td>\n",
       "      <td>1.528553e+12</td>\n",
       "      <td>8.314320e+12</td>\n",
       "      <td>8.355670e+12</td>\n",
       "      <td>8.356328e+12</td>\n",
       "      <td>4.127597e+06</td>\n",
       "      <td>8.356457e+12</td>\n",
       "      <td>1.528553e+12</td>\n",
       "    </tr>\n",
       "    <tr>\n",
       "      <th>75%</th>\n",
       "      <td>11837.25000</td>\n",
       "      <td>1.528554e+12</td>\n",
       "      <td>53.606987</td>\n",
       "      <td>10.070912</td>\n",
       "      <td>18.288000</td>\n",
       "      <td>0.947945</td>\n",
       "      <td>1.528554e+12</td>\n",
       "      <td>37.000000</td>\n",
       "      <td>9.804932e+12</td>\n",
       "      <td>1.528554e+12</td>\n",
       "      <td>9.785120e+12</td>\n",
       "      <td>9.798845e+12</td>\n",
       "      <td>9.805215e+12</td>\n",
       "      <td>1.000184e+07</td>\n",
       "      <td>9.805503e+12</td>\n",
       "      <td>1.528554e+12</td>\n",
       "    </tr>\n",
       "    <tr>\n",
       "      <th>max</th>\n",
       "      <td>15783.00000</td>\n",
       "      <td>1.528556e+12</td>\n",
       "      <td>53.612602</td>\n",
       "      <td>10.136237</td>\n",
       "      <td>29.124002</td>\n",
       "      <td>3.949696</td>\n",
       "      <td>1.528556e+12</td>\n",
       "      <td>89.000000</td>\n",
       "      <td>1.141735e+13</td>\n",
       "      <td>1.528556e+12</td>\n",
       "      <td>1.138943e+13</td>\n",
       "      <td>1.141685e+13</td>\n",
       "      <td>1.141751e+13</td>\n",
       "      <td>2.999632e+07</td>\n",
       "      <td>1.141767e+13</td>\n",
       "      <td>1.528556e+12</td>\n",
       "    </tr>\n",
       "  </tbody>\n",
       "</table>\n",
       "</div>"
      ],
      "text/plain": [
       "        Unnamed: 0  Zeitstempel in Unixzeit   Breitengrad   Laengengrad  \\\n",
       "count  15784.00000             1.578400e+04  15784.000000  15784.000000   \n",
       "mean    7891.50000             1.528553e+12     53.596986     10.047488   \n",
       "std     4556.59266             1.826245e+06      0.010084      0.036267   \n",
       "min        0.00000             1.528550e+12     53.578236     10.003402   \n",
       "25%     3945.75000             1.528551e+12     53.591266     10.018836   \n",
       "50%     7891.50000             1.528553e+12     53.597187     10.032709   \n",
       "75%    11837.25000             1.528554e+12     53.606987     10.070912   \n",
       "max    15783.00000             1.528556e+12     53.612602     10.136237   \n",
       "\n",
       "       Geschwindigkeit in km/h  \\\n",
       "count             15784.000000   \n",
       "mean                 15.102201   \n",
       "std                   4.516101   \n",
       "min                   5.004000   \n",
       "25%                  11.772000   \n",
       "50%                  15.191999   \n",
       "75%                  18.288000   \n",
       "max                  29.124002   \n",
       "\n",
       "       Genauigkeit der Geschwindigkeit speedAccuracyMetersPerSecond  \\\n",
       "count                                       15784.000000              \n",
       "mean                                            0.776389              \n",
       "std                                             0.395951              \n",
       "min                                             0.092195              \n",
       "25%                                             0.524976              \n",
       "50%                                             0.718401              \n",
       "75%                                             0.947945              \n",
       "max                                             3.949696              \n",
       "\n",
       "       Lokations Zeitstempel in Unixzeit  Anzahl der Messwerte  \\\n",
       "count                       1.578400e+04          15784.000000   \n",
       "mean                        1.528553e+12             31.699633   \n",
       "std                         1.826255e+06             12.114893   \n",
       "min                         1.528550e+12             14.000000   \n",
       "25%                         1.528551e+12             23.000000   \n",
       "50%                         1.528553e+12             28.000000   \n",
       "75%                         1.528554e+12             37.000000   \n",
       "max                         1.528556e+12             89.000000   \n",
       "\n",
       "       Start des Zeitfensters in ns seit Start der JVM  \\\n",
       "count                                     1.578400e+04   \n",
       "mean                                      8.273763e+12   \n",
       "std                                       1.826237e+12   \n",
       "min                                       5.141816e+12   \n",
       "25%                                       6.660221e+12   \n",
       "50%                                       8.356208e+12   \n",
       "75%                                       9.804932e+12   \n",
       "max                                       1.141735e+13   \n",
       "\n",
       "       Zeitstempel Messwertdaten anfordern in Unixzeit  \\\n",
       "count                                     1.578400e+04   \n",
       "mean                                      1.528553e+12   \n",
       "std                                       1.826251e+06   \n",
       "min                                       1.528550e+12   \n",
       "25%                                       1.528551e+12   \n",
       "50%                                       1.528553e+12   \n",
       "75%                                       1.528554e+12   \n",
       "max                                       1.528556e+12   \n",
       "\n",
       "       Start der Messwerterfassung in ns seit Start der JVM  \\\n",
       "count                                       1.578400e+04      \n",
       "mean                                        8.235413e+12      \n",
       "std                                         1.830325e+12      \n",
       "min                                         5.141584e+12      \n",
       "25%                                         6.645598e+12      \n",
       "50%                                         8.314320e+12      \n",
       "75%                                         9.785120e+12      \n",
       "max                                         1.138943e+13      \n",
       "\n",
       "       Erster Zeitstempel der Teilliste in ns seit Start der JVM  \\\n",
       "count                                       1.578400e+04           \n",
       "mean                                        8.273142e+12           \n",
       "std                                         1.826244e+12           \n",
       "min                                         5.141584e+12           \n",
       "25%                                         6.659660e+12           \n",
       "50%                                         8.355670e+12           \n",
       "75%                                         9.798845e+12           \n",
       "max                                         1.141685e+13           \n",
       "\n",
       "       Start der Belichtung in ns seit Start der JVM  Belichtungszeit in ns  \\\n",
       "count                                   1.578400e+04           1.578400e+04   \n",
       "mean                                    8.273892e+12           7.287411e+06   \n",
       "std                                     1.826245e+12           7.854774e+06   \n",
       "min                                     5.142073e+12           4.412570e+05   \n",
       "25%                                     6.660297e+12           2.095973e+06   \n",
       "50%                                     8.356328e+12           4.127597e+06   \n",
       "75%                                     9.805215e+12           1.000184e+07   \n",
       "max                                     1.141751e+13           2.999632e+07   \n",
       "\n",
       "       Letzter Zeitstempel der Messwerterfassung in ns seit Start der JVM  \\\n",
       "count                                       1.578400e+04                    \n",
       "mean                                        8.274032e+12                    \n",
       "std                                         1.826251e+12                    \n",
       "min                                         5.142344e+12                    \n",
       "25%                                         6.660403e+12                    \n",
       "50%                                         8.356457e+12                    \n",
       "75%                                         9.805503e+12                    \n",
       "max                                         1.141767e+13                    \n",
       "\n",
       "       Speicherzeitpunkt der Merkmale in Unixzeit  \n",
       "count                                1.578400e+04  \n",
       "mean                                 1.528553e+12  \n",
       "std                                  1.826252e+06  \n",
       "min                                  1.528550e+12  \n",
       "25%                                  1.528551e+12  \n",
       "50%                                  1.528553e+12  \n",
       "75%                                  1.528554e+12  \n",
       "max                                  1.528556e+12  "
      ]
     },
     "execution_count": 3,
     "metadata": {},
     "output_type": "execute_result"
    }
   ],
   "source": [
    "featuresDf = pandas.read_csv(\"../daten/merkmale_datensatz_\" + dataset + \"/merkmaleRoh.csv\")\n",
    "featuresDf.describe()"
   ]
  },
  {
   "cell_type": "code",
   "execution_count": 4,
   "metadata": {
    "ExecuteTime": {
     "end_time": "2018-05-07T13:59:00.652982Z",
     "start_time": "2018-05-07T13:59:00.549419Z"
    }
   },
   "outputs": [
    {
     "name": "stdout",
     "output_type": "stream",
     "text": [
      "<class 'pandas.core.frame.DataFrame'>\n",
      "RangeIndex: 15784 entries, 0 to 15783\n",
      "Data columns (total 20 columns):\n",
      "Unnamed: 0                                                            15784 non-null int64\n",
      "Zeitstempel in Unixzeit                                               15784 non-null int64\n",
      "Breitengrad                                                           15784 non-null float64\n",
      "Laengengrad                                                           15784 non-null float64\n",
      "Geschwindigkeit in km/h                                               15784 non-null float64\n",
      "Genauigkeit der Geschwindigkeit speedAccuracyMetersPerSecond          15784 non-null float64\n",
      "Lokations Zeitstempel in Unixzeit                                     15784 non-null int64\n",
      "Z-Achse Beschleunigungswerte in m/s^2                                 15784 non-null object\n",
      "Y-Achse Beschleunigungswerte in m/s^2                                 15784 non-null object\n",
      "Nick Messwerte in rad                                                 15784 non-null object\n",
      "Zeitstempel der Messwerte in ns                                       15784 non-null object\n",
      "Anzahl der Messwerte                                                  15784 non-null int64\n",
      "Start des Zeitfensters in ns seit Start der JVM                       15784 non-null int64\n",
      "Zeitstempel Messwertdaten anfordern in Unixzeit                       15784 non-null int64\n",
      "Start der Messwerterfassung in ns seit Start der JVM                  15784 non-null int64\n",
      "Erster Zeitstempel der Teilliste in ns seit Start der JVM             15784 non-null int64\n",
      "Start der Belichtung in ns seit Start der JVM                         15784 non-null int64\n",
      "Belichtungszeit in ns                                                 15784 non-null int64\n",
      "Letzter Zeitstempel der Messwerterfassung in ns seit Start der JVM    15784 non-null int64\n",
      "Speicherzeitpunkt der Merkmale in Unixzeit                            15784 non-null int64\n",
      "dtypes: float64(4), int64(12), object(4)\n",
      "memory usage: 2.4+ MB\n"
     ]
    }
   ],
   "source": [
    "featuresDf.info()"
   ]
  },
  {
   "cell_type": "code",
   "execution_count": null,
   "metadata": {
    "ExecuteTime": {
     "end_time": "2018-05-07T13:59:01.488205Z",
     "start_time": "2018-05-07T13:59:01.480205Z"
    }
   },
   "outputs": [],
   "source": [
    "# Zeigt die ersten 5 Reihen Beschleunigungssensordaten der X-Achse \n",
    "featuresDf['X-Achse Beschleunigungswerte in m/s^2'].head()"
   ]
  },
  {
   "cell_type": "code",
   "execution_count": null,
   "metadata": {
    "ExecuteTime": {
     "end_time": "2018-05-07T15:02:41.423672Z",
     "start_time": "2018-05-07T15:02:41.415673Z"
    }
   },
   "outputs": [],
   "source": [
    "# Die Anzahl der Messwerte sollte immer gleich sein, ansonsten werden fehlende Spalten mit NaN Werten gefüllt bei der\n",
    "# späteren Abspeicherung der erfassten Messwerte wie z.B. in die Datei x-Achse-Beschleunigungswerte.csv.\n",
    "# Um die Berechnung von den Merkmalen Varianz und Mittelwert unteranderem zu beschleunigen ist es wichtig sogenannte Außenseiter\n",
    "# aus den Datensätzen zu entfernen.\n",
    "# Dafür muss auch das Bild zu einer Reihe aus der merkmaleRoh.csv Datei gelöscht werden.\n",
    "# Dies wird erreicht indem alle Pfade der Bilder geladen werden.\n",
    "# Dann können Reihen sowie Bilder gelöscht werden mit mehr Messwerten als ein bestimmter Grenzwert.\n",
    "print(featuresDf['Anzahl der Messwerte'][featuresDf['Anzahl der Messwerte'] > 23])\n",
    "\n",
    "################### Entferne Außenseiter mit Anzahl der Messwerte > Grenzwert ###################\n",
    "#### Warnung löschen der zugeschnittennen Bilder kann nicht rückgängig gemacht werden!\n",
    "#threshold  = 23 \n",
    "#imagePaths = []\n",
    "# Hier können die Datensätze ausgewählt werden\n",
    "#datasets = ['15','16','17','18','19','20','21','22']\n",
    "# Die Pfade zu den Ordnern in welchem sich die Bilder befinden\n",
    "#paths = []\n",
    "#for dataset in datasets: # Für jeden Datensatz merke Pfad\n",
    "#    paths.append(\"C:/Users/morro/Documents/datenRoh/\" + dataset + \"/zugeschnitten/\")\n",
    "#for path in paths: # Für jeden Pfad hole die Namen der Ordner\n",
    "#    folders = os.listdir(path)\n",
    "#    folders = sorted(folders, key=int) #sortiert die Reihenfolge de Ordner aufsteifend\n",
    "#    print(folders)\n",
    "#    for folder in folders: # Aus der Liste der Ordner wird ein Ordner ausgewählt\n",
    "#        filesPath = path + folder + \"/\"\n",
    "#        files = os.listdir(filesPath)\n",
    "#        for name in files: # Ein Dateiname aus diesem Ordner\n",
    "#            if \"jpg\" not in name:\n",
    "#                continue\n",
    "#            imagePaths.append(filesPath + name) # Path wird geladen in Liste\n",
    "#toRemoveImagesIndex = featuresDf['Anzahl der Messwerte'][featuresDf['Anzahl der Messwerte'] > threshold].index.tolist()\n",
    "#for i in toRemoveImagesIndex:\n",
    "#    print(imagePaths[i])\n",
    "#    os.remove(imagePaths[i])\n",
    "#unwantedRows = featuresDf['Anzahl der Messwerte'][featuresDf['Anzahl der Messwerte'] > 23]\n",
    "#featuresDf.drop(unwantedRows.index, inplace=True)\n",
    "# Die Inecies müssen zurückgesetzt werden nach den Aufruf von drop. Ansonsten kommte es zu KeyValue Fehlern\n",
    "#featuresDf.reset_index(drop=True,inplace=True)"
   ]
  },
  {
   "cell_type": "code",
   "execution_count": null,
   "metadata": {},
   "outputs": [],
   "source": [
    "featuresDf['Anzahl der Messwerte'][featuresDf['Anzahl der Messwerte'] > 23]"
   ]
  },
  {
   "cell_type": "markdown",
   "metadata": {},
   "source": [
    "Die folgenden Spalten des Datenframes haben als Type ein Python object.   \n",
    "X-Achse Beschleunigungswerte in m/s^2   \n",
    "Y-Achse Beschleunigungswerte in m/s^2   \n",
    "Z-Achse Beschleunigungswerte in m/s^2   \n",
    "Gier Messwerte in rad    \n",
    "Nick Messwerte in rad          \n",
    "Roll Messwerte in rad                   \n",
    "Zeitstempel der Messwerte in ns               \n",
    "Implizit haben diese Spalten als Typ Strings. Aber in einem DataFrame werden Strings als    \n",
    "Python objects erkannt. Um den Datentyp auf float zu casten wird aus den Spalten zunächst ein Liste erstellt.    \n",
    "Welche dann wiederum als Numpy Array auf den Typ float konvertiert wird.   "
   ]
  },
  {
   "cell_type": "code",
   "execution_count": null,
   "metadata": {},
   "outputs": [],
   "source": [
    "featuresDf.info()"
   ]
  },
  {
   "cell_type": "code",
   "execution_count": null,
   "metadata": {
    "ExecuteTime": {
     "end_time": "2018-05-07T13:59:24.066233Z",
     "start_time": "2018-05-07T13:59:23.725729Z"
    }
   },
   "outputs": [],
   "source": [
    "accXList = featuresDf['X-Achse Beschleunigungswerte in m/s^2'].str.split(\" \").tolist()"
   ]
  },
  {
   "cell_type": "code",
   "execution_count": null,
   "metadata": {
    "ExecuteTime": {
     "end_time": "2018-05-07T13:59:27.107144Z",
     "start_time": "2018-05-07T13:59:26.683060Z"
    }
   },
   "outputs": [],
   "source": [
    "# Direkt mit dem Numpy Array ist es nicht möglich die Konvertierung durchzuführen, weil die Arrays von Typ object sind.   \n",
    "pandas.DataFrame(featuresDf['X-Achse Beschleunigungswerte in m/s^2'].str.split(\" \")).values"
   ]
  },
  {
   "cell_type": "code",
   "execution_count": null,
   "metadata": {
    "ExecuteTime": {
     "end_time": "2018-05-07T13:59:28.852447Z",
     "start_time": "2018-05-07T13:59:28.838764Z"
    }
   },
   "outputs": [],
   "source": [
    "accXList[12] # zeige Liste"
   ]
  },
  {
   "cell_type": "code",
   "execution_count": null,
   "metadata": {
    "ExecuteTime": {
     "end_time": "2018-05-07T13:59:31.128939Z",
     "start_time": "2018-05-07T13:59:31.124940Z"
    }
   },
   "outputs": [],
   "source": [
    "np.array(accXList[1]).dtype"
   ]
  },
  {
   "cell_type": "code",
   "execution_count": null,
   "metadata": {
    "ExecuteTime": {
     "end_time": "2018-05-07T13:59:52.863261Z",
     "start_time": "2018-05-07T13:59:32.711490Z"
    }
   },
   "outputs": [],
   "source": [
    "# Konvertiert die Python Objekte in der Liste zu den Type Float.\n",
    "# Das Ergebnis wird in einem Dataframe geschrieben\n",
    "accList = []\n",
    "accList.append(pandas.DataFrame(abs(np.array(accXList[0]).astype(float))).transpose())\n",
    "for x in accXList[1:]:\n",
    "    accList.append(pandas.DataFrame(abs(np.array(x).astype(float))).transpose())"
   ]
  },
  {
   "cell_type": "code",
   "execution_count": null,
   "metadata": {
    "ExecuteTime": {
     "end_time": "2018-05-07T14:13:02.351727Z",
     "start_time": "2018-05-07T14:10:57.612839Z"
    }
   },
   "outputs": [],
   "source": [
    "accXDf = pandas.concat(accList, ignore_index=True)"
   ]
  },
  {
   "cell_type": "code",
   "execution_count": null,
   "metadata": {
    "ExecuteTime": {
     "end_time": "2018-05-07T14:13:26.222504Z",
     "start_time": "2018-05-07T14:13:26.194505Z"
    }
   },
   "outputs": [],
   "source": [
    "accXDf.head()"
   ]
  },
  {
   "cell_type": "code",
   "execution_count": null,
   "metadata": {
    "ExecuteTime": {
     "end_time": "2018-05-07T14:13:33.534234Z",
     "start_time": "2018-05-07T14:13:33.474233Z"
    }
   },
   "outputs": [],
   "source": [
    "# Um mehr Spalten eines Panda DataFrames auszugeben\n",
    "pandas.set_option('display.max_columns', 40)\n",
    "accXDf.T.mean().head(20)"
   ]
  },
  {
   "cell_type": "code",
   "execution_count": null,
   "metadata": {
    "ExecuteTime": {
     "end_time": "2018-05-07T14:13:42.541514Z",
     "start_time": "2018-05-07T14:13:42.537514Z"
    }
   },
   "outputs": [],
   "source": [
    "accXDf.shape"
   ]
  },
  {
   "cell_type": "code",
   "execution_count": 5,
   "metadata": {
    "ExecuteTime": {
     "end_time": "2018-05-07T14:16:18.319231Z",
     "start_time": "2018-05-07T14:13:50.440387Z"
    }
   },
   "outputs": [],
   "source": [
    "accYList = featuresDf['Y-Achse Beschleunigungswerte in m/s^2'].str.split(\" \").tolist()\n",
    "accList = []\n",
    "accList.append(pandas.DataFrame(np.array(accYList[0]).astype(float)).transpose())\n",
    "for x in accYList[1:]:\n",
    "    accList.append(pandas.DataFrame(np.array(x).astype(float)).transpose())\n",
    "accYDf = pandas.concat(accList, ignore_index=True)"
   ]
  },
  {
   "cell_type": "code",
   "execution_count": null,
   "metadata": {
    "ExecuteTime": {
     "end_time": "2018-05-07T14:16:52.137572Z",
     "start_time": "2018-05-07T14:16:52.101572Z"
    }
   },
   "outputs": [],
   "source": [
    "accYDf.info()"
   ]
  },
  {
   "cell_type": "code",
   "execution_count": null,
   "metadata": {
    "ExecuteTime": {
     "end_time": "2018-05-07T14:16:50.142426Z",
     "start_time": "2018-05-07T14:16:47.429Z"
    }
   },
   "outputs": [],
   "source": [
    "accYDf.head()"
   ]
  },
  {
   "cell_type": "code",
   "execution_count": 6,
   "metadata": {
    "ExecuteTime": {
     "end_time": "2018-05-07T14:19:30.721250Z",
     "start_time": "2018-05-07T14:17:00.495400Z"
    }
   },
   "outputs": [],
   "source": [
    "# Konvertiere Beschleunigungssensordaten Z-Achse zu einem DataFrame\n",
    "measuredDataList = featuresDf['Z-Achse Beschleunigungswerte in m/s^2'].str.split(\" \").tolist()\n",
    "accList = []\n",
    "accList.append(pandas.DataFrame(np.array(measuredDataList[0]).astype(float)).transpose())\n",
    "for x in measuredDataList[1:]:\n",
    "    accList.append(pandas.DataFrame(np.array(x).astype(float)).transpose())\n",
    "accZDf = pandas.concat(accList, ignore_index=True)"
   ]
  },
  {
   "cell_type": "code",
   "execution_count": 7,
   "metadata": {
    "ExecuteTime": {
     "end_time": "2018-05-07T14:22:24.186902Z",
     "start_time": "2018-05-07T14:19:54.669698Z"
    }
   },
   "outputs": [],
   "source": [
    "# Konvertiere Nick Messwerte zu DataFrame\n",
    "measuredDataList = featuresDf['Nick Messwerte in rad'].str.split(\" \").tolist()\n",
    "pitchList = []\n",
    "pitchList.append(pandas.DataFrame(np.array(measuredDataList[0]).astype(float)).transpose())\n",
    "for x in measuredDataList[1:]:\n",
    "    pitchList.append(pandas.DataFrame(np.array(x).astype(float)).transpose())\n",
    "nickDf = pandas.concat(pitchList, ignore_index=True)"
   ]
  },
  {
   "cell_type": "code",
   "execution_count": null,
   "metadata": {
    "ExecuteTime": {
     "end_time": "2018-05-07T14:28:50.529277Z",
     "start_time": "2018-05-07T14:26:21.179651Z"
    }
   },
   "outputs": [],
   "source": [
    "# Konvertiere Roll Messwerte zu DataFrame\n",
    "measuredDataList = featuresDf['Roll Messwerte in rad'].str.split(\" \").tolist()\n",
    "rollList = []\n",
    "rollList.append(pandas.DataFrame(abs(np.array(measuredDataList[0]).astype(float))).transpose())\n",
    "for x in measuredDataList[1:]:\n",
    "    rollList.append(pandas.DataFrame(abs(np.array(x).astype(float))).transpose())\n",
    "rollDf = pandas.concat(rollList, ignore_index=True)"
   ]
  },
  {
   "cell_type": "code",
   "execution_count": null,
   "metadata": {
    "ExecuteTime": {
     "end_time": "2018-05-07T14:33:53.610725Z",
     "start_time": "2018-05-07T14:31:23.046118Z"
    }
   },
   "outputs": [],
   "source": [
    "measuredDataList = featuresDf['Gier Messwerte in rad'].str.split(\" \").tolist()\n",
    "azimuthList = []\n",
    "azimuthList.append(pandas.DataFrame(abs(np.array(measuredDataList[0]).astype(float))).transpose())\n",
    "for x in measuredDataList[1:]:\n",
    "    azimuthList.append(pandas.DataFrame(abs(np.array(x).astype(float))).transpose())\n",
    "azimuthDf = pandas.concat(azimuthList, ignore_index=True)"
   ]
  },
  {
   "cell_type": "code",
   "execution_count": 8,
   "metadata": {
    "ExecuteTime": {
     "end_time": "2018-05-07T14:42:30.936001Z",
     "start_time": "2018-05-07T14:40:01.500632Z"
    }
   },
   "outputs": [],
   "source": [
    "measuredDataList = featuresDf['Zeitstempel der Messwerte in ns'].str.split(\" \").tolist()\n",
    "timestampsList = []\n",
    "timestampsList.append(pandas.DataFrame(np.array(measuredDataList[0]).astype(float)).transpose())\n",
    "for x in measuredDataList[1:]:\n",
    "    timestampsList.append(pandas.DataFrame(np.array(x).astype(float)).transpose())\n",
    "sensorTimestampsDf = pandas.concat(timestampsList, ignore_index=True)"
   ]
  },
  {
   "cell_type": "code",
   "execution_count": 9,
   "metadata": {
    "ExecuteTime": {
     "end_time": "2018-05-07T14:49:49.944787Z",
     "start_time": "2018-05-07T14:49:49.679888Z"
    }
   },
   "outputs": [],
   "source": [
    "# Neue Spalten werden erstellt und Mittelwerte zugewiesen\n",
    "#featuresDf['Mittelwert X-Achse Beschleunigung in m/s^2'] = accXDf.T.mean()\n",
    "featuresDf['Mittelwert Y-Achse Beschleunigung in m/s^2'] = accYDf.T.mean()\n",
    "featuresDf['Mittelwert Z-Achse Beschleunigung in m/s^2'] = accZDf.T.mean()\n",
    "featuresDf['Mittelwert Nick in rad'] = nickDf.T.mean()\n",
    "#featuresDf['Mittelwert Roll in rad'] = rollDf.T.mean()"
   ]
  },
  {
   "cell_type": "code",
   "execution_count": null,
   "metadata": {
    "ExecuteTime": {
     "end_time": "2018-05-07T14:49:56.993478Z",
     "start_time": "2018-05-07T14:49:56.985478Z"
    }
   },
   "outputs": [],
   "source": [
    "#featuresDf['Mittelwert X-Achse Beschleunigung in m/s^2'].head(2)"
   ]
  },
  {
   "cell_type": "code",
   "execution_count": null,
   "metadata": {
    "ExecuteTime": {
     "end_time": "2018-05-07T14:50:04.635958Z",
     "start_time": "2018-05-07T14:50:04.627960Z"
    },
    "scrolled": true
   },
   "outputs": [],
   "source": [
    "featuresDf.columns"
   ]
  },
  {
   "cell_type": "markdown",
   "metadata": {},
   "source": [
    "Berechnet die Varianz. Dieser Funktion muss als Paramter der Mittelwert (mean) und der DataFrame mit   \n",
    "den Float Werten übergeben werden, um die Varianz zu berechnen. Als Varianz wird der Durchschnitt der quadrierten  \n",
    "Differenzen zum Mittelwert bezeichnet.   \n",
    "Prec.:    \n",
    "Postc.: Gibt die berechnete Variance als Float zurück oder 0 wenn die Anzahl der Werte <= 0  "
   ]
  },
  {
   "cell_type": "code",
   "execution_count": 10,
   "metadata": {
    "ExecuteTime": {
     "end_time": "2018-05-07T14:50:11.704037Z",
     "start_time": "2018-05-07T14:50:11.696038Z"
    }
   },
   "outputs": [],
   "source": [
    "def calcVariance(meansDf, dfValues):\n",
    "    variance = []\n",
    "    for i, values in dfValues.iterrows():\n",
    "        sum = 0\n",
    "        for value in values:\n",
    "            if math.isnan(value) == False:\n",
    "                tempDifference = value-meansDf[i]\n",
    "                sum += tempDifference * tempDifference\n",
    "        variance.append(\"{0:.5f}\".format(round(sum / values.count(),5)))\n",
    "    return np.array(variance).astype(float)"
   ]
  },
  {
   "cell_type": "markdown",
   "metadata": {},
   "source": [
    "Hier wird die Standardabweichung der Varianz berechnet. Dies ist die Wurzel der Varianz.   \n",
    "Für die Berechnung wird der Absolutwert von der Varianz genommen.    \n",
    "Prec.:\n",
    "Postc.:  Standardabweichung wird zurückgegeben."
   ]
  },
  {
   "cell_type": "code",
   "execution_count": 11,
   "metadata": {
    "ExecuteTime": {
     "end_time": "2018-05-07T14:50:17.426578Z",
     "start_time": "2018-05-07T14:50:17.422578Z"
    }
   },
   "outputs": [],
   "source": [
    "def calculateStandardDeviation(varianceDf):\n",
    "    deviation = []\n",
    "    for v in varianceDf:\n",
    "        temp = math.sqrt(np.abs(v))\n",
    "        deviation.append(\"{0:.5f}\".format(round(temp,5)))\n",
    "    return np.array(deviation).astype(float)"
   ]
  },
  {
   "cell_type": "markdown",
   "metadata": {},
   "source": [
    "Die Funktion berechnet die Winkeldifferenz in rad zwischen den ersten gemessenen Gierwinkel und den letzten Gierwinkel   \n",
    "innerhalb einer als Argument übergebenen DataFrames. Der zurückgegebene Radiant    \n",
    "ist immer positiv und gibt die relative änderung in rad an.      \n",
    "Prec.:   \n",
    "Postc.: Radiant berechnet   "
   ]
  },
  {
   "cell_type": "code",
   "execution_count": 19,
   "metadata": {
    "ExecuteTime": {
     "end_time": "2018-05-07T14:50:22.899787Z",
     "start_time": "2018-05-07T14:50:22.891788Z"
    }
   },
   "outputs": [],
   "source": [
    "def calculateAngelChangeAzimuth(azimuthDf):\n",
    "    result = []\n",
    "    for i,values in azimuthDf.iterrows():\n",
    "        first = values[0]*(180/math.pi)\n",
    "        last = values.iloc[values.count()-1]*(180/math.pi)\n",
    "        resultTemp = np.abs(first - last)\n",
    "        if(resultTemp > 180):\n",
    "            resultTemp = 360 - resultTemp\n",
    "        result.append(\"{0:.5f}\".format(round(resultTemp * ( math.pi / 180),5)))\n",
    "    return np.array(result).astype(float)"
   ]
  },
  {
   "cell_type": "code",
   "execution_count": null,
   "metadata": {
    "ExecuteTime": {
     "end_time": "2018-05-07T14:50:41.198418Z",
     "start_time": "2018-05-07T14:50:29.919986Z"
    }
   },
   "outputs": [],
   "source": [
    "featuresDf['Gier-Aenderung in rad'] = calculateAngelChangeAzimuth(azimuthDf)"
   ]
  },
  {
   "cell_type": "code",
   "execution_count": null,
   "metadata": {},
   "outputs": [],
   "source": [
    "accXDf[14957:14961]"
   ]
  },
  {
   "cell_type": "code",
   "execution_count": null,
   "metadata": {},
   "outputs": [],
   "source": [
    "featuresDf['Mittelwert X-Achse Beschleunigung in m/s^2'].iloc[10]"
   ]
  },
  {
   "cell_type": "code",
   "execution_count": 12,
   "metadata": {
    "ExecuteTime": {
     "end_time": "2018-05-07T15:16:03.331865Z",
     "start_time": "2018-05-07T15:15:58.790315Z"
    }
   },
   "outputs": [],
   "source": [
    "# Berechnung der Varianzen und hinzufügen der Ergebnisse als neue Spalte in dem DataFrame \n",
    "#featuresDf['Varianz X-Achse Beschleunigung in m/s^2'] = calcVariance(featuresDf['Mittelwert X-Achse Beschleunigung in m/s^2'],accXDf)\n",
    "featuresDf['Varianz Y-Achse Beschleunigung in m/s^2'] = calcVariance(featuresDf['Mittelwert Y-Achse Beschleunigung in m/s^2'],accYDf)\n",
    "featuresDf['Varianz Z-Achse Beschleunigung in m/s^2'] = calcVariance(featuresDf['Mittelwert Z-Achse Beschleunigung in m/s^2'],accZDf)\n",
    "featuresDf['Varianz Nick in rad'] = calcVariance(featuresDf['Mittelwert Nick in rad'],nickDf)\n",
    "#featuresDf['Varianz Roll in rad'] = calcVariance(featuresDf['Mittelwert Roll in rad'],rollDf)"
   ]
  },
  {
   "cell_type": "code",
   "execution_count": 13,
   "metadata": {
    "ExecuteTime": {
     "end_time": "2018-05-07T13:55:13.929630Z",
     "start_time": "2018-05-07T13:51:59.147Z"
    }
   },
   "outputs": [],
   "source": [
    "# Berechne Standardabweichung\n",
    "#featuresDf['Standardabweichung X-Achse Beschleunigung in m/s^2'] = calculateStandardDeviation(featuresDf['Varianz X-Achse Beschleunigung in m/s^2'])\n",
    "featuresDf['Standardabweichung Y-Achse Beschleunigung in m/s^2'] = calculateStandardDeviation(featuresDf['Varianz Y-Achse Beschleunigung in m/s^2'])\n",
    "featuresDf['Standardabweichung Z-Achse Beschleunigung in m/s^2'] = calculateStandardDeviation(featuresDf['Varianz Z-Achse Beschleunigung in m/s^2'])\n",
    "featuresDf['Standardabweichung Nick in rad'] = calculateStandardDeviation(featuresDf['Varianz Nick in rad'])\n",
    "#featuresDf['Standardabweichung Roll in rad'] = calculateStandardDeviation(featuresDf['Varianz Roll in rad'])"
   ]
  },
  {
   "cell_type": "code",
   "execution_count": 14,
   "metadata": {
    "ExecuteTime": {
     "end_time": "2018-05-07T13:55:13.929630Z",
     "start_time": "2018-05-07T13:52:04.510Z"
    }
   },
   "outputs": [],
   "source": [
    "# Änderungen in CSV Datei schreiben\n",
    "featuresDf.set_index('Zeitstempel in Unixzeit', inplace=True)\n",
    "featuresDf.to_csv('../daten/merkmale_datensatz_'+ dataset + '/merkmale.csv')"
   ]
  },
  {
   "cell_type": "code",
   "execution_count": 15,
   "metadata": {
    "ExecuteTime": {
     "end_time": "2018-05-07T13:55:13.929630Z",
     "start_time": "2018-05-07T13:52:12.294Z"
    }
   },
   "outputs": [],
   "source": [
    "featuresDf = pandas.read_csv(\"../daten/merkmale_datensatz_\" + dataset + \"/merkmale.csv\")"
   ]
  },
  {
   "cell_type": "code",
   "execution_count": 16,
   "metadata": {
    "ExecuteTime": {
     "end_time": "2018-05-07T13:55:13.929630Z",
     "start_time": "2018-05-07T13:52:19.911Z"
    }
   },
   "outputs": [],
   "source": [
    "# Speichert die DatenFrames mit den Messwerten in csv Dateien\n",
    "#accXDf.index.names = [\"index\"]\n",
    "#accXDf.to_csv('../daten/merkmale_datensatz_26_bis_27/absMesswerte/xAchseBeschleunigungswerte.csv')\n",
    "accYDf.index.names = [\"index\"]\n",
    "accYDf.to_csv('../daten/merkmale_datensatz_' + dataset + '/yAchseBeschleunigungswerte.csv')\n",
    "accZDf.index.names = [\"index\"]\n",
    "accZDf.to_csv('../daten/merkmale_datensatz_' + dataset + '/zAchseBeschleunigungswerte.csv')\n",
    "nickDf.index.names = [\"index\"]\n",
    "nickDf.to_csv('../daten/merkmale_datensatz_' + dataset + '/nickMesswerte.csv')\n",
    "#rollDf.index.names = [\"index\"]\n",
    "#rollDf.to_csv('../daten/merkmale_datensatz_26_bis_27/absMesswerte/rollMesswerte.csv')\n",
    "#azimuthDf.index.names = [\"index\"]\n",
    "#azimuthDf.to_csv('../daten/merkmale_datensatz_26_bis_27/absMesswerte/azimuthMesswerte.csv')\n",
    "sensorTimestampsDf.index.names = [\"index\"]\n",
    "sensorTimestampsDf.to_csv('../daten/merkmale_datensatz_' + dataset + '/sensoreventZeitstempel.csv')"
   ]
  },
  {
   "cell_type": "code",
   "execution_count": null,
   "metadata": {
    "ExecuteTime": {
     "end_time": "2018-05-07T13:55:13.929630Z",
     "start_time": "2018-05-07T13:52:23.478Z"
    }
   },
   "outputs": [],
   "source": [
    "# Unittests\n",
    "import unittest\n",
    "\n",
    "class CalcTest(unittest.TestCase):\n",
    "    \n",
    "    \n",
    "    # Testet die Funktion calcVariance mit einem DataFrame mit den Werten [2.0, 2.0]\n",
    "    # Der Mittelwert sollte 2.0 sein\n",
    "    # Das erwartete Ergebnis ist 0.0\n",
    "    def testCalcVariance2(self):\n",
    "        meanL = [2.0]\n",
    "        meanDf = pandas.DataFrame(meanL)\n",
    "        valuesA = [2.0,2.0]\n",
    "        valuesDf = pandas.DataFrame([[2.0]])\n",
    "        npt.assert_almost_equal(calcVariance(meanDf[0],valuesDf), 0.0,2)\n",
    "        \n",
    "    # Testet die Funktion calcVariance mit einem DataFrame mit den folgenden Werten:\n",
    "    # [1.24, 2.5213, 10.434, 42.45, 5.9]\n",
    "    # Der Mittelwert ist 12.508\n",
    "    # Die erwartete Varianz ist 234,247016\n",
    "    def testCalcVariance5(self):\n",
    "        meanDf = pandas.DataFrame([12.508])\n",
    "        valuesDf = pandas.DataFrame([[1.24, 2.52, 10.43, 42.45, 5.9]])\n",
    "        npt.assert_almost_equal(calcVariance(meanDf[0],valuesDf), 234.24702,5)   \n",
    "    \n",
    "    # Testet calcVariance mit 0 Datenwerten   \n",
    "    def testCalcVariance0(self):\n",
    "        meanDf = pandas.DataFrame([0.0])\n",
    "        valuesDf = pandas.DataFrame([[0.0]])\n",
    "        npt.assert_almost_equal(calcVariance(meanDf[0],valuesDf),0.0,2)  \n",
    "        \n",
    "    # Testet calcVariance mit negativen Datenwerten   \n",
    "    def testCalcVarianceNegative(self):\n",
    "        meanDf = pandas.DataFrame([-24.0])\n",
    "        valuesDf = pandas.DataFrame([[-2.0,-24.0,-5.0,7.0]])\n",
    "        npt.assert_almost_equal(calcVariance(meanDf[0],valuesDf),451.5,1) \n",
    "        \n",
    "    # Testet calcVariance mit Muultidimensionalen DataFrame   \n",
    "    def testCalcVarianceMultidim(self):\n",
    "        meanDf = pandas.DataFrame([-24.0,0.0])\n",
    "        valuesDf = pandas.DataFrame([[-2.0,-24.0,-5.0,7.0],[0.0,0.0,0.0,0.0]])\n",
    "        # Hier wird Numpy Test verwendet um das Ergebnis (zwei Arrays) zu vergleichen\n",
    "        npt.assert_array_equal(calcVariance(meanDf[0],valuesDf),np.array([ 451.5,0.0])) \n",
    "        \n",
    "    # Dieser Test testet die Funktion calculateStandardDeviation.\n",
    "    def testCalculateStandardDeviation(self):\n",
    "        varianceDf = pandas.DataFrame([451.5])\n",
    "        npt.assert_almost_equal(calculateStandardDeviation(varianceDf[0]),21.24853,5) \n",
    "        \n",
    "    # Testet die Funktion calculateStandardDeviation.\n",
    "    # Dabei hat das Argument den Wert 0.0.\n",
    "    def testCalculateStandardDeviationZero(self):\n",
    "        varianceDf = pandas.DataFrame([0.0])\n",
    "        npt.assert_almost_equal(calculateStandardDeviation(varianceDf[0]),0.0,2)\n",
    "    \n",
    "    #  Testet die Funktion calculateAngelChangeAzimuth mit zwei gleichen rad Werten\n",
    "    def testCalculateAngelChangeAzimuthEqual(self):\n",
    "        radiants = pandas.DataFrame([[1.0,1.0]])\n",
    "        npt.assert_almost_equal(calculateAngelChangeAzimuth(radiants),0.0,2)\n",
    "    \n",
    "    # Testet ob die Winkeldifferenz korrekt berechnet wurde für \n",
    "    # die Radianten -1.0 und 1.0\n",
    "    def testCalculateAngelChangeAzimuthOne(self):\n",
    "        radiants = pandas.DataFrame([[-1.0,1.0]])\n",
    "        npt.assert_almost_equal(calculateAngelChangeAzimuth(radiants),2.0,2)  \n",
    "        \n",
    "    # Testet ob die Winkeldifferenz korrekt berechnet wurde für \n",
    "    # die Radianten 1.0 und -1.0\n",
    "    def testCalculateAngelChangeAzimuthOne2(self):\n",
    "        radiants = pandas.DataFrame([[1.0,-1.0]])\n",
    "        npt.assert_almost_equal(calculateAngelChangeAzimuth(radiants),2.0,2)  \n",
    "\n",
    "    # Testet die Funktion calculateAngelChangeAzimuthValues mit mehreren Werten\n",
    "    def testCalculateAngelChangeAzimuthValues(self):\n",
    "        radiants = pandas.DataFrame([[-1.57,1.0,2.0,1.3,1.57]])\n",
    "        npt.assert_almost_equal(calculateAngelChangeAzimuth(radiants),3.14,2)\n",
    "        \n",
    "    # Testet ob die Winkeldifferenz korrekt berechnet wurde für \n",
    "    # die Radianten 0.05 und 0.06\n",
    "    def testCalculateAngelChangeAzimuthSmall(self):\n",
    "        radiants = pandas.DataFrame([[0.01,0.02]])\n",
    "        npt.assert_almost_equal(calculateAngelChangeAzimuth(radiants), 0.01,2)  \n",
    "        \n",
    "    # Testet ob die Winkeldifferenz korrekt berechnet wurde mit \n",
    "    # negative Radianten \n",
    "    def testCalculateAngelChangeAzimuthNegativ(self):\n",
    "        radiants = pandas.DataFrame([[-2.9,-2.0,-1.28]])\n",
    "        npt.assert_almost_equal(calculateAngelChangeAzimuth(radiants), 1.62,2) \n",
    "\n",
    "unittest.main(argv=[''], verbosity=2, exit=False)"
   ]
  },
  {
   "cell_type": "code",
   "execution_count": null,
   "metadata": {},
   "outputs": [],
   "source": [
    "featuresDf['Standardabweichung Z-Achse Beschleunigung in m/s^2'].iloc[27906-30]"
   ]
  },
  {
   "cell_type": "code",
   "execution_count": null,
   "metadata": {},
   "outputs": [],
   "source": [
    "featuresDf.iloc[27906-31]"
   ]
  },
  {
   "cell_type": "code",
   "execution_count": null,
   "metadata": {},
   "outputs": [],
   "source": [
    "featuresDf[featuresDf['Standardabweichung Z-Achse Beschleunigung in m/s^2']]"
   ]
  },
  {
   "cell_type": "code",
   "execution_count": null,
   "metadata": {},
   "outputs": [],
   "source": [
    "featuresDf[featuresDf['Anzahl der Messwerte'] == featuresDf['Anzahl der Messwerte'].max()]"
   ]
  },
  {
   "cell_type": "code",
   "execution_count": null,
   "metadata": {},
   "outputs": [],
   "source": []
  }
 ],
 "metadata": {
  "kernelspec": {
   "display_name": "Python 3",
   "language": "python",
   "name": "python3"
  },
  "language_info": {
   "codemirror_mode": {
    "name": "ipython",
    "version": 3
   },
   "file_extension": ".py",
   "mimetype": "text/x-python",
   "name": "python",
   "nbconvert_exporter": "python",
   "pygments_lexer": "ipython3",
   "version": "3.6.4"
  },
  "latex_envs": {
   "LaTeX_envs_menu_present": true,
   "autocomplete": true,
   "bibliofile": "biblio.bib",
   "cite_by": "apalike",
   "current_citInitial": 1,
   "eqLabelWithNumbers": true,
   "eqNumInitial": 1,
   "hotkeys": {
    "equation": "Ctrl-E",
    "itemize": "Ctrl-I"
   },
   "labels_anchors": false,
   "latex_user_defs": false,
   "report_style_numbering": false,
   "user_envs_cfg": false
  },
  "toc": {
   "base_numbering": 1,
   "colors": {
    "hover_highlight": "#DAA520",
    "navigate_num": "#000000",
    "navigate_text": "#333333",
    "running_highlight": "#FF0000",
    "selected_highlight": "#FFD700",
    "sidebar_border": "#EEEEEE",
    "wrapper_background": "#FFFFFF"
   },
   "moveMenuLeft": true,
   "nav_menu": {
    "height": "31px",
    "width": "252px"
   },
   "navigate_menu": true,
   "number_sections": true,
   "sideBar": true,
   "skip_h1_title": false,
   "threshold": 4,
   "title_cell": "Table of Contents",
   "title_sidebar": "Contents",
   "toc_cell": false,
   "toc_position": {},
   "toc_section_display": "block",
   "toc_window_display": false,
   "widenNotebook": false
  },
  "varInspector": {
   "cols": {
    "lenName": 16,
    "lenType": 16,
    "lenVar": 40
   },
   "kernels_config": {
    "python": {
     "delete_cmd_postfix": "",
     "delete_cmd_prefix": "del ",
     "library": "var_list.py",
     "varRefreshCmd": "print(var_dic_list())"
    },
    "r": {
     "delete_cmd_postfix": ") ",
     "delete_cmd_prefix": "rm(",
     "library": "var_list.r",
     "varRefreshCmd": "cat(var_dic_list()) "
    }
   },
   "types_to_exclude": [
    "module",
    "function",
    "builtin_function_or_method",
    "instance",
    "_Feature"
   ],
   "window_display": false
  }
 },
 "nbformat": 4,
 "nbformat_minor": 2
}
