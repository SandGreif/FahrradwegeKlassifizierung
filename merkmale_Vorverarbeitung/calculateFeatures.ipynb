{
 "cells": [
  {
   "cell_type": "markdown",
   "metadata": {
    "collapsed": true
   },
   "source": [
    "## Berechnungen von Merkmalen\n",
    "\n",
    "In diesem Notebook ist es möglich den Mittelwert, Varianz und Standardabweichung für die aufgenommenen Messwerte aus der Datei \"merkmaleRoh.csv\" der Android TM Fahrradwege Monitoring App zu berechnen. Zu einem Bild werden parallel Messwerte erfasst von dem Beschleunigungssensor und Magnetsensor des Smartphones, innerhalb eines Zeitfenster mit einer Länge von 80ms (siehe hierzu auch das Notebook \"gatheringSequence\" in dem Ordner datenvisualisierung). Bei dem Beschleunigungssensor sind dies die Messwerte der beschleunigung von den 3-Achsen X, Y sowie Z (Abb. 1). Des Weiteren werden die Gier-Nick-Roll Winkel in rad in einem Zeitfenster erfasst. Für die Berechnung des Mittelwerts, Varianz und Standardabweichung über die Messwerte wird die Form der abgespeicherten Messwerte geändert, weil diese als Python Objekte verwaltet werden mit welchen nicht gerechnet werden kann. Zu den Messwertreihen wird jeweils eine CSV Datei erstellt. Eine Reihe stellt dann in dieser Datei eine Messreihe zu einem Zeitfenster dar. Bei der ausführung dieses Notebooks werden deshalb zusätzlich folgende CSV Dateien erstellt:\n",
    "\n",
    "X-Achse Beschleunigungswerte in m/s^2   \n",
    "Y-Achse Beschleunigungswerte in m/s^2  \n",
    "Z-Achse Beschleunigungswerte in m/s^2   \n",
    "Gier Messwerte in rad  \n",
    "Nick Messwerte in rad  \n",
    "Roll Messwerte in rad   \n",
    "Zeitstempel der Messwerte in ns  \n",
    "\n",
    "<img src=\"../daten/abbildungen/sensorOrientierung.png\" alt=\"Android Smartphone Sensor Orientierung\" width=\"200px\" />\n",
    "Abbildung 1: 3-Achsen Smartphone Sensor-Koordinatensystem   \n",
    "Quelle: siehe Bildverzeichnis Abb. 2 in der README.md Datei"
   ]
  },
  {
   "cell_type": "code",
   "execution_count": 205,
   "metadata": {
    "ExecuteTime": {
     "end_time": "2018-05-07T13:58:55.784445Z",
     "start_time": "2018-05-07T13:58:55.298871Z"
    }
   },
   "outputs": [],
   "source": [
    "import pandas\n",
    "import numpy as np\n",
    "import numpy.testing as npt\n",
    "import math\n",
    "import os"
   ]
  },
  {
   "cell_type": "code",
   "execution_count": 206,
   "metadata": {
    "ExecuteTime": {
     "end_time": "2018-05-07T13:58:57.726814Z",
     "start_time": "2018-05-07T13:58:55.864375Z"
    }
   },
   "outputs": [
    {
     "data": {
      "text/html": [
       "<div>\n",
       "<style scoped>\n",
       "    .dataframe tbody tr th:only-of-type {\n",
       "        vertical-align: middle;\n",
       "    }\n",
       "\n",
       "    .dataframe tbody tr th {\n",
       "        vertical-align: top;\n",
       "    }\n",
       "\n",
       "    .dataframe thead th {\n",
       "        text-align: right;\n",
       "    }\n",
       "</style>\n",
       "<table border=\"1\" class=\"dataframe\">\n",
       "  <thead>\n",
       "    <tr style=\"text-align: right;\">\n",
       "      <th></th>\n",
       "      <th>Zeitstempel in Unixzeit</th>\n",
       "      <th>Anzahl der Messwerte</th>\n",
       "      <th>Belichtungszeit in ns</th>\n",
       "      <th>Breitengrad</th>\n",
       "      <th>Geschwindigkeit in km/h</th>\n",
       "      <th>Hoehe in m ueber WGS 84</th>\n",
       "      <th>Laengengrad</th>\n",
       "      <th>Letzter Zeitstempel der Messwerterfassung in ns seit Start der JVM</th>\n",
       "      <th>Start der Belichtung in ns seit Start der JVM</th>\n",
       "      <th>Start der Messwerterfassung in ns seit Start der JVM</th>\n",
       "      <th>Start des Zeitfensters in ns seit Start der JVM</th>\n",
       "      <th>Stopp der Messwerterfassung in Unixzeit</th>\n",
       "    </tr>\n",
       "  </thead>\n",
       "  <tbody>\n",
       "    <tr>\n",
       "      <th>count</th>\n",
       "      <td>1.009970e+05</td>\n",
       "      <td>100997.000000</td>\n",
       "      <td>1.009970e+05</td>\n",
       "      <td>100997.000000</td>\n",
       "      <td>100997.000000</td>\n",
       "      <td>1935.000000</td>\n",
       "      <td>100997.000000</td>\n",
       "      <td>5.116500e+04</td>\n",
       "      <td>1.009970e+05</td>\n",
       "      <td>1.009970e+05</td>\n",
       "      <td>1.009970e+05</td>\n",
       "      <td>5.116500e+04</td>\n",
       "    </tr>\n",
       "    <tr>\n",
       "      <th>mean</th>\n",
       "      <td>1.521788e+12</td>\n",
       "      <td>19.369486</td>\n",
       "      <td>1.628067e+07</td>\n",
       "      <td>53.600818</td>\n",
       "      <td>14.825318</td>\n",
       "      <td>70.983613</td>\n",
       "      <td>10.117377</td>\n",
       "      <td>6.609566e+13</td>\n",
       "      <td>7.110740e+13</td>\n",
       "      <td>7.110731e+13</td>\n",
       "      <td>7.110737e+13</td>\n",
       "      <td>1.522338e+12</td>\n",
       "    </tr>\n",
       "    <tr>\n",
       "      <th>std</th>\n",
       "      <td>6.253291e+08</td>\n",
       "      <td>0.637294</td>\n",
       "      <td>1.007028e+07</td>\n",
       "      <td>0.026176</td>\n",
       "      <td>3.788162</td>\n",
       "      <td>2.540434</td>\n",
       "      <td>0.064368</td>\n",
       "      <td>6.624152e+13</td>\n",
       "      <td>5.257455e+13</td>\n",
       "      <td>5.257455e+13</td>\n",
       "      <td>5.257455e+13</td>\n",
       "      <td>3.923149e+08</td>\n",
       "    </tr>\n",
       "    <tr>\n",
       "      <th>min</th>\n",
       "      <td>1.521124e+12</td>\n",
       "      <td>5.000000</td>\n",
       "      <td>6.435000e+05</td>\n",
       "      <td>53.533375</td>\n",
       "      <td>5.004000</td>\n",
       "      <td>64.299440</td>\n",
       "      <td>9.853853</td>\n",
       "      <td>7.500496e+12</td>\n",
       "      <td>7.500366e+12</td>\n",
       "      <td>7.500275e+12</td>\n",
       "      <td>7.500341e+12</td>\n",
       "      <td>1.521815e+12</td>\n",
       "    </tr>\n",
       "    <tr>\n",
       "      <th>25%</th>\n",
       "      <td>1.521212e+12</td>\n",
       "      <td>19.000000</td>\n",
       "      <td>8.963045e+06</td>\n",
       "      <td>53.582508</td>\n",
       "      <td>12.348000</td>\n",
       "      <td>69.145140</td>\n",
       "      <td>10.096094</td>\n",
       "      <td>1.369181e+13</td>\n",
       "      <td>3.100722e+13</td>\n",
       "      <td>3.100713e+13</td>\n",
       "      <td>3.100718e+13</td>\n",
       "      <td>1.521906e+12</td>\n",
       "    </tr>\n",
       "    <tr>\n",
       "      <th>50%</th>\n",
       "      <td>1.521815e+12</td>\n",
       "      <td>19.000000</td>\n",
       "      <td>1.000184e+07</td>\n",
       "      <td>53.607080</td>\n",
       "      <td>15.191999</td>\n",
       "      <td>71.069275</td>\n",
       "      <td>10.128578</td>\n",
       "      <td>3.203458e+13</td>\n",
       "      <td>4.411367e+13</td>\n",
       "      <td>4.411357e+13</td>\n",
       "      <td>4.411363e+13</td>\n",
       "      <td>1.522248e+12</td>\n",
       "    </tr>\n",
       "    <tr>\n",
       "      <th>75%</th>\n",
       "      <td>1.522248e+12</td>\n",
       "      <td>20.000000</td>\n",
       "      <td>2.999632e+07</td>\n",
       "      <td>53.614410</td>\n",
       "      <td>17.531998</td>\n",
       "      <td>72.942380</td>\n",
       "      <td>10.156504</td>\n",
       "      <td>1.705849e+14</td>\n",
       "      <td>1.087626e+14</td>\n",
       "      <td>1.087624e+14</td>\n",
       "      <td>1.087625e+14</td>\n",
       "      <td>1.522584e+12</td>\n",
       "    </tr>\n",
       "    <tr>\n",
       "      <th>max</th>\n",
       "      <td>1.523024e+12</td>\n",
       "      <td>48.000000</td>\n",
       "      <td>3.287369e+07</td>\n",
       "      <td>53.656776</td>\n",
       "      <td>24.948000</td>\n",
       "      <td>77.023680</td>\n",
       "      <td>10.229659</td>\n",
       "      <td>1.762332e+14</td>\n",
       "      <td>1.762331e+14</td>\n",
       "      <td>1.762330e+14</td>\n",
       "      <td>1.762330e+14</td>\n",
       "      <td>1.523024e+12</td>\n",
       "    </tr>\n",
       "  </tbody>\n",
       "</table>\n",
       "</div>"
      ],
      "text/plain": [
       "       Zeitstempel in Unixzeit  Anzahl der Messwerte  Belichtungszeit in ns  \\\n",
       "count             1.009970e+05         100997.000000           1.009970e+05   \n",
       "mean              1.521788e+12             19.369486           1.628067e+07   \n",
       "std               6.253291e+08              0.637294           1.007028e+07   \n",
       "min               1.521124e+12              5.000000           6.435000e+05   \n",
       "25%               1.521212e+12             19.000000           8.963045e+06   \n",
       "50%               1.521815e+12             19.000000           1.000184e+07   \n",
       "75%               1.522248e+12             20.000000           2.999632e+07   \n",
       "max               1.523024e+12             48.000000           3.287369e+07   \n",
       "\n",
       "         Breitengrad  Geschwindigkeit in km/h  Hoehe in m ueber WGS 84  \\\n",
       "count  100997.000000            100997.000000              1935.000000   \n",
       "mean       53.600818                14.825318                70.983613   \n",
       "std         0.026176                 3.788162                 2.540434   \n",
       "min        53.533375                 5.004000                64.299440   \n",
       "25%        53.582508                12.348000                69.145140   \n",
       "50%        53.607080                15.191999                71.069275   \n",
       "75%        53.614410                17.531998                72.942380   \n",
       "max        53.656776                24.948000                77.023680   \n",
       "\n",
       "         Laengengrad  \\\n",
       "count  100997.000000   \n",
       "mean       10.117377   \n",
       "std         0.064368   \n",
       "min         9.853853   \n",
       "25%        10.096094   \n",
       "50%        10.128578   \n",
       "75%        10.156504   \n",
       "max        10.229659   \n",
       "\n",
       "       Letzter Zeitstempel der Messwerterfassung in ns seit Start der JVM  \\\n",
       "count                                       5.116500e+04                    \n",
       "mean                                        6.609566e+13                    \n",
       "std                                         6.624152e+13                    \n",
       "min                                         7.500496e+12                    \n",
       "25%                                         1.369181e+13                    \n",
       "50%                                         3.203458e+13                    \n",
       "75%                                         1.705849e+14                    \n",
       "max                                         1.762332e+14                    \n",
       "\n",
       "       Start der Belichtung in ns seit Start der JVM  \\\n",
       "count                                   1.009970e+05   \n",
       "mean                                    7.110740e+13   \n",
       "std                                     5.257455e+13   \n",
       "min                                     7.500366e+12   \n",
       "25%                                     3.100722e+13   \n",
       "50%                                     4.411367e+13   \n",
       "75%                                     1.087626e+14   \n",
       "max                                     1.762331e+14   \n",
       "\n",
       "       Start der Messwerterfassung in ns seit Start der JVM  \\\n",
       "count                                       1.009970e+05      \n",
       "mean                                        7.110731e+13      \n",
       "std                                         5.257455e+13      \n",
       "min                                         7.500275e+12      \n",
       "25%                                         3.100713e+13      \n",
       "50%                                         4.411357e+13      \n",
       "75%                                         1.087624e+14      \n",
       "max                                         1.762330e+14      \n",
       "\n",
       "       Start des Zeitfensters in ns seit Start der JVM  \\\n",
       "count                                     1.009970e+05   \n",
       "mean                                      7.110737e+13   \n",
       "std                                       5.257455e+13   \n",
       "min                                       7.500341e+12   \n",
       "25%                                       3.100718e+13   \n",
       "50%                                       4.411363e+13   \n",
       "75%                                       1.087625e+14   \n",
       "max                                       1.762330e+14   \n",
       "\n",
       "       Stopp der Messwerterfassung in Unixzeit  \n",
       "count                             5.116500e+04  \n",
       "mean                              1.522338e+12  \n",
       "std                               3.923149e+08  \n",
       "min                               1.521815e+12  \n",
       "25%                               1.521906e+12  \n",
       "50%                               1.522248e+12  \n",
       "75%                               1.522584e+12  \n",
       "max                               1.523024e+12  "
      ]
     },
     "execution_count": 206,
     "metadata": {},
     "output_type": "execute_result"
    }
   ],
   "source": [
    "featuresDf = pandas.read_csv(\"../daten/merkmale_datensatz_15_bis_22/merkmaleRoh.csv\")\n",
    "featuresDf.describe()"
   ]
  },
  {
   "cell_type": "code",
   "execution_count": 207,
   "metadata": {
    "ExecuteTime": {
     "end_time": "2018-05-07T13:59:00.652982Z",
     "start_time": "2018-05-07T13:59:00.549419Z"
    }
   },
   "outputs": [
    {
     "name": "stdout",
     "output_type": "stream",
     "text": [
      "<class 'pandas.core.frame.DataFrame'>\n",
      "RangeIndex: 100997 entries, 0 to 100996\n",
      "Data columns (total 19 columns):\n",
      "Zeitstempel in Unixzeit                                               100997 non-null int64\n",
      "Anzahl der Messwerte                                                  100997 non-null int64\n",
      "Belichtungszeit in ns                                                 100997 non-null int64\n",
      "Breitengrad                                                           100997 non-null float64\n",
      "Geschwindigkeit in km/h                                               100997 non-null float64\n",
      "Gier Messwerte in rad                                                 100997 non-null object\n",
      "Hoehe in m ueber WGS 84                                               1935 non-null float64\n",
      "Laengengrad                                                           100997 non-null float64\n",
      "Letzter Zeitstempel der Messwerterfassung in ns seit Start der JVM    51165 non-null float64\n",
      "Nick Messwerte in rad                                                 100997 non-null object\n",
      "Roll Messwerte in rad                                                 100997 non-null object\n",
      "Start der Belichtung in ns seit Start der JVM                         100997 non-null int64\n",
      "Start der Messwerterfassung in ns seit Start der JVM                  100997 non-null int64\n",
      "Start des Zeitfensters in ns seit Start der JVM                       100997 non-null int64\n",
      "Stopp der Messwerterfassung in Unixzeit                               51165 non-null float64\n",
      "X-Achse Beschleunigungswerte in m/s^2                                 100997 non-null object\n",
      "Y-Achse Beschleunigungswerte in m/s^2                                 100997 non-null object\n",
      "Z-Achse Beschleunigungswerte in m/s^2                                 100997 non-null object\n",
      "Zeitstempel der Messwerte in ns                                       100997 non-null object\n",
      "dtypes: float64(6), int64(6), object(7)\n",
      "memory usage: 14.6+ MB\n"
     ]
    }
   ],
   "source": [
    "featuresDf.info()"
   ]
  },
  {
   "cell_type": "code",
   "execution_count": 208,
   "metadata": {
    "ExecuteTime": {
     "end_time": "2018-05-07T13:59:01.488205Z",
     "start_time": "2018-05-07T13:59:01.480205Z"
    }
   },
   "outputs": [
    {
     "data": {
      "text/plain": [
       "0    0.66929 0.81137 0.75647 0.22221 -0.14389 -0.13...\n",
       "1    0.2285 0.13695 0.37016 0.08172 -0.05709 0.3834...\n",
       "2    -2.72057 3.72297 3.37689 -1.28232 -0.90316 0.4...\n",
       "3    -0.06289 0.54739 0.6219 -1.35643 -0.54872 0.28...\n",
       "4    -0.5752 -1.41006 -1.3118 -0.58965 -1.32969 0.6...\n",
       "Name: X-Achse Beschleunigungswerte in m/s^2, dtype: object"
      ]
     },
     "execution_count": 208,
     "metadata": {},
     "output_type": "execute_result"
    }
   ],
   "source": [
    "# Zeigt die ersten 5 Reihen Beschleunigungssensordaten der X-Achse \n",
    "featuresDf['X-Achse Beschleunigungswerte in m/s^2'].head()"
   ]
  },
  {
   "cell_type": "code",
   "execution_count": 209,
   "metadata": {
    "ExecuteTime": {
     "end_time": "2018-05-07T15:02:41.423672Z",
     "start_time": "2018-05-07T15:02:41.415673Z"
    }
   },
   "outputs": [
    {
     "name": "stdout",
     "output_type": "stream",
     "text": [
      "14959    24\n",
      "35516    48\n",
      "35525    28\n",
      "45468    47\n",
      "52621    24\n",
      "54376    24\n",
      "54719    24\n",
      "55901    40\n",
      "56033    24\n",
      "59055    24\n",
      "59514    24\n",
      "59990    38\n",
      "60418    24\n",
      "62192    25\n",
      "64457    28\n",
      "64506    24\n",
      "68134    24\n",
      "80666    24\n",
      "94258    27\n",
      "95849    24\n",
      "97012    43\n",
      "Name: Anzahl der Messwerte, dtype: int64\n"
     ]
    }
   ],
   "source": [
    "# Die Anzahl der Messwerte sollte immer gleich sein, ansonsten werden fehlende Spalten mit NaN Werten gefüllt bei der\n",
    "# späteren Abspeicherung der erfassten Messwerte wie z.B. in die Datei x-Achse-Beschleunigungswerte.csv.\n",
    "# Um die Berechnung von den Merkmalen Varianz und Mittelwert unteranderem zu beschleunigen ist es wichtig sogenannte Außenseiter\n",
    "# aus den Datensätzen zu entfernen.\n",
    "# Dafür muss auch das Bild zu einer Reihe aus der merkmaleRoh.csv Datei gelöscht werden.\n",
    "# Dies wird erreicht indem alle Pfade der Bilder geladen werden.\n",
    "# Dann können Reihen sowie Bilder gelöscht werden mit mehr Messwerten als ein bestimmter Grenzwert.\n",
    "print(featuresDf['Anzahl der Messwerte'][featuresDf['Anzahl der Messwerte'] > 23])\n",
    "\n",
    "################### Entferne Außenseiter mit Anzahl der Messwerte > Grenzwert ###################\n",
    "#### Warnung löschen der zugeschnittennen Bilder kann nicht rückgängig gemacht werden!\n",
    "#threshold  = 23 \n",
    "#imagePaths = []\n",
    "# Hier können die Datensätze ausgewählt werden\n",
    "#datasets = ['15','16','17','18','19','20','21','22']\n",
    "# Die Pfade zu den Ordnern in welchem sich die Bilder befinden\n",
    "#paths = []\n",
    "#for dataset in datasets: # Für jeden Datensatz merke Pfad\n",
    "#    paths.append(\"C:/Users/morro/Documents/datenRoh/\" + dataset + \"/zugeschnitten/\")\n",
    "#for path in paths: # Für jeden Pfad hole die Namen der Ordner\n",
    "#    folders = os.listdir(path)\n",
    "#    for folder in folders: # Aus der Liste der Ordner wird ein Ordner ausgewählt\n",
    "#        filesPath = path + folder + \"/\"\n",
    "#        files = os.listdir(filesPath)\n",
    "#        for name in files: # Ein Dateiname aus diesem Ordner\n",
    "#            if \"jpg\" not in name:\n",
    "#                continue\n",
    "#            imagePaths.append(filesPath + name) # Path wird geladen in Liste\n",
    "#toRemoveImagesIndex = featuresDf['Anzahl der Messwerte'][featuresDf['Anzahl der Messwerte'] > threshold].index.tolist()\n",
    "#for i in toRemoveImagesIndex:\n",
    "#    print(imagePaths[i])\n",
    "#    os.remove(imagePaths[i])\n",
    "unwantedRows = featuresDf['Anzahl der Messwerte'][featuresDf['Anzahl der Messwerte'] > 23]\n",
    "featuresDf.drop(unwantedRows.index, inplace=True)\n",
    "# Die Inecies müssen zurückgesetzt werden nach den Aufruf von drop. Ansonsten kommte es zu KeyValue Fehlern\n",
    "featuresDf.reset_index(drop=True,inplace=True)"
   ]
  },
  {
   "cell_type": "code",
   "execution_count": 210,
   "metadata": {},
   "outputs": [
    {
     "data": {
      "text/plain": [
       "Series([], Name: Anzahl der Messwerte, dtype: int64)"
      ]
     },
     "execution_count": 210,
     "metadata": {},
     "output_type": "execute_result"
    }
   ],
   "source": [
    "featuresDf['Anzahl der Messwerte'][featuresDf['Anzahl der Messwerte'] > 23]"
   ]
  },
  {
   "cell_type": "markdown",
   "metadata": {},
   "source": [
    "Die folgenden Spalten des Datenframes haben als Type ein Python object.   \n",
    "X-Achse Beschleunigungswerte in m/s^2   \n",
    "Y-Achse Beschleunigungswerte in m/s^2   \n",
    "Z-Achse Beschleunigungswerte in m/s^2   \n",
    "Gier Messwerte in rad    \n",
    "Nick Messwerte in rad          \n",
    "Roll Messwerte in rad                   \n",
    "Zeitstempel der Messwerte in ns               \n",
    "Implizit haben diese Spalten als Typ Strings. Aber in einem DataFrame werden Strings als    \n",
    "Python objects erkannt. Um den Datentyp auf float zu casten wird aus den Spalten zunächst ein Liste erstellt.    \n",
    "Welche dann wiederum als Numpy Array auf den Typ float konvertiert wird.   "
   ]
  },
  {
   "cell_type": "code",
   "execution_count": 211,
   "metadata": {},
   "outputs": [
    {
     "name": "stdout",
     "output_type": "stream",
     "text": [
      "<class 'pandas.core.frame.DataFrame'>\n",
      "RangeIndex: 100976 entries, 0 to 100975\n",
      "Data columns (total 19 columns):\n",
      "Zeitstempel in Unixzeit                                               100976 non-null int64\n",
      "Anzahl der Messwerte                                                  100976 non-null int64\n",
      "Belichtungszeit in ns                                                 100976 non-null int64\n",
      "Breitengrad                                                           100976 non-null float64\n",
      "Geschwindigkeit in km/h                                               100976 non-null float64\n",
      "Gier Messwerte in rad                                                 100976 non-null object\n",
      "Hoehe in m ueber WGS 84                                               1935 non-null float64\n",
      "Laengengrad                                                           100976 non-null float64\n",
      "Letzter Zeitstempel der Messwerterfassung in ns seit Start der JVM    51148 non-null float64\n",
      "Nick Messwerte in rad                                                 100976 non-null object\n",
      "Roll Messwerte in rad                                                 100976 non-null object\n",
      "Start der Belichtung in ns seit Start der JVM                         100976 non-null int64\n",
      "Start der Messwerterfassung in ns seit Start der JVM                  100976 non-null int64\n",
      "Start des Zeitfensters in ns seit Start der JVM                       100976 non-null int64\n",
      "Stopp der Messwerterfassung in Unixzeit                               51148 non-null float64\n",
      "X-Achse Beschleunigungswerte in m/s^2                                 100976 non-null object\n",
      "Y-Achse Beschleunigungswerte in m/s^2                                 100976 non-null object\n",
      "Z-Achse Beschleunigungswerte in m/s^2                                 100976 non-null object\n",
      "Zeitstempel der Messwerte in ns                                       100976 non-null object\n",
      "dtypes: float64(6), int64(6), object(7)\n",
      "memory usage: 14.6+ MB\n"
     ]
    }
   ],
   "source": [
    "featuresDf.info()"
   ]
  },
  {
   "cell_type": "code",
   "execution_count": 212,
   "metadata": {
    "ExecuteTime": {
     "end_time": "2018-05-07T13:59:24.066233Z",
     "start_time": "2018-05-07T13:59:23.725729Z"
    }
   },
   "outputs": [],
   "source": [
    "accXList = featuresDf['X-Achse Beschleunigungswerte in m/s^2'].str.split(\" \").tolist()"
   ]
  },
  {
   "cell_type": "code",
   "execution_count": 213,
   "metadata": {
    "ExecuteTime": {
     "end_time": "2018-05-07T13:59:27.107144Z",
     "start_time": "2018-05-07T13:59:26.683060Z"
    }
   },
   "outputs": [
    {
     "data": {
      "text/plain": [
       "array([[ ['0.66929', '0.81137', '0.75647', '0.22221', '-0.14389', '-0.13032', '-0.34931', '-0.26401', '-0.349', '-0.41699', '-0.27218', '-0.38619', '-0.29352', '-0.46454', '-0.47877', '-0.3829', '-0.13767', '-0.11002', '0.01936', '0.27609']],\n",
       "       [ ['0.2285', '0.13695', '0.37016', '0.08172', '-0.05709', '0.38348', '-0.27536', '-0.6339', '0.21317', '-0.05919', '-0.44563', '-0.78543', '-0.52098', '-1.10619', '-0.19531', '-0.7384', '-0.60594', '-0.54593', '0.00775', '-0.26951']],\n",
       "       [ ['-2.72057', '3.72297', '3.37689', '-1.28232', '-0.90316', '0.47276', '0.60817', '1.13021', '1.93092', '0.62547', '-2.50279', '-0.54644', '0.81943', '-0.67742', '-0.06682', '-0.23722', '0.45391', '1.206', '1.94558', '2.88967']],\n",
       "       ..., \n",
       "       [ ['0.05452', '-0.24745', '-0.44306', '-0.43098', '-0.16084', '-0.18989', '0.10864', '0.05635', '0.45887', '0.81153', '0.83317', '0.89645', '0.67126', '-0.13713', '-0.40077', '-0.19796', '0.34737', '0.43119', '0.45229', '0.10141']],\n",
       "       [ ['-0.04052', '0.42735', '0.78631', '0.62912', '0.36547', '0.09325', '-0.32373', '-0.13633', '-0.43077', '-0.32922', '0.04315', '-0.48638', '-0.23581', '-0.24987', '0.27519', '0.542', '-0.20988', '-0.52026']],\n",
       "       [ ['0.3773', '0.16401', '-0.0526', '0.01929', '0.10744', '0.13199', '-0.29273', '-0.06556', '-0.00641', '0.07156', '0.25652', '0.17463', '-0.12071', '-0.24972', '0.01481', '-0.01872', '-0.12217', '-0.45009', '-0.26806']]], dtype=object)"
      ]
     },
     "execution_count": 213,
     "metadata": {},
     "output_type": "execute_result"
    }
   ],
   "source": [
    "# Direkt mit dem Numpy Array ist es nicht möglich die Konvertierung durchzuführen, weil die Arrays von Typ object sind.   \n",
    "pandas.DataFrame(featuresDf['X-Achse Beschleunigungswerte in m/s^2'].str.split(\" \")).values"
   ]
  },
  {
   "cell_type": "code",
   "execution_count": 214,
   "metadata": {
    "ExecuteTime": {
     "end_time": "2018-05-07T13:59:28.852447Z",
     "start_time": "2018-05-07T13:59:28.838764Z"
    }
   },
   "outputs": [
    {
     "data": {
      "text/plain": [
       "['-0.37509',\n",
       " '-1.35734',\n",
       " '-0.56488',\n",
       " '0.19168',\n",
       " '0.39853',\n",
       " '-0.89167',\n",
       " '-0.60606',\n",
       " '0.61842',\n",
       " '2.48673',\n",
       " '1.34583',\n",
       " '-0.34834',\n",
       " '0.45684',\n",
       " '0.94775',\n",
       " '2.03002',\n",
       " '0.36756',\n",
       " '-1.19226',\n",
       " '-1.44413',\n",
       " '-1.50771',\n",
       " '0.12694']"
      ]
     },
     "execution_count": 214,
     "metadata": {},
     "output_type": "execute_result"
    }
   ],
   "source": [
    "accXList[14958] # zeige Liste"
   ]
  },
  {
   "cell_type": "code",
   "execution_count": 215,
   "metadata": {
    "ExecuteTime": {
     "end_time": "2018-05-07T13:59:31.128939Z",
     "start_time": "2018-05-07T13:59:31.124940Z"
    }
   },
   "outputs": [
    {
     "data": {
      "text/plain": [
       "dtype('<U8')"
      ]
     },
     "execution_count": 215,
     "metadata": {},
     "output_type": "execute_result"
    }
   ],
   "source": [
    "np.array(accXList[1]).dtype"
   ]
  },
  {
   "cell_type": "code",
   "execution_count": 221,
   "metadata": {
    "ExecuteTime": {
     "end_time": "2018-05-07T13:59:52.863261Z",
     "start_time": "2018-05-07T13:59:32.711490Z"
    }
   },
   "outputs": [],
   "source": [
    "# Konvertiert die Python Objekte in der Liste zu den Type Float.\n",
    "# Das Ergebnis wird in einem Dataframe geschrieben\n",
    "accList = []\n",
    "accList.append(pandas.DataFrame(abs(np.array(accXList[0]).astype(float))).transpose())\n",
    "for x in accXList[1:]:\n",
    "    accList.append(pandas.DataFrame(abs(np.array(x).astype(float))).transpose())"
   ]
  },
  {
   "cell_type": "code",
   "execution_count": 222,
   "metadata": {
    "ExecuteTime": {
     "end_time": "2018-05-07T14:13:02.351727Z",
     "start_time": "2018-05-07T14:10:57.612839Z"
    }
   },
   "outputs": [],
   "source": [
    "accXDf = pandas.concat(accList, ignore_index=True)"
   ]
  },
  {
   "cell_type": "code",
   "execution_count": 223,
   "metadata": {
    "ExecuteTime": {
     "end_time": "2018-05-07T14:13:26.222504Z",
     "start_time": "2018-05-07T14:13:26.194505Z"
    }
   },
   "outputs": [
    {
     "data": {
      "text/html": [
       "<div>\n",
       "<style scoped>\n",
       "    .dataframe tbody tr th:only-of-type {\n",
       "        vertical-align: middle;\n",
       "    }\n",
       "\n",
       "    .dataframe tbody tr th {\n",
       "        vertical-align: top;\n",
       "    }\n",
       "\n",
       "    .dataframe thead th {\n",
       "        text-align: right;\n",
       "    }\n",
       "</style>\n",
       "<table border=\"1\" class=\"dataframe\">\n",
       "  <thead>\n",
       "    <tr style=\"text-align: right;\">\n",
       "      <th></th>\n",
       "      <th>0</th>\n",
       "      <th>1</th>\n",
       "      <th>2</th>\n",
       "      <th>3</th>\n",
       "      <th>4</th>\n",
       "      <th>5</th>\n",
       "      <th>6</th>\n",
       "      <th>7</th>\n",
       "      <th>8</th>\n",
       "      <th>9</th>\n",
       "      <th>10</th>\n",
       "      <th>11</th>\n",
       "      <th>12</th>\n",
       "      <th>13</th>\n",
       "      <th>14</th>\n",
       "      <th>15</th>\n",
       "      <th>16</th>\n",
       "      <th>17</th>\n",
       "      <th>18</th>\n",
       "      <th>19</th>\n",
       "      <th>20</th>\n",
       "      <th>21</th>\n",
       "      <th>22</th>\n",
       "    </tr>\n",
       "  </thead>\n",
       "  <tbody>\n",
       "    <tr>\n",
       "      <th>0</th>\n",
       "      <td>0.66929</td>\n",
       "      <td>0.81137</td>\n",
       "      <td>0.75647</td>\n",
       "      <td>0.22221</td>\n",
       "      <td>0.14389</td>\n",
       "      <td>0.13032</td>\n",
       "      <td>0.34931</td>\n",
       "      <td>0.26401</td>\n",
       "      <td>0.34900</td>\n",
       "      <td>0.41699</td>\n",
       "      <td>0.27218</td>\n",
       "      <td>0.38619</td>\n",
       "      <td>0.29352</td>\n",
       "      <td>0.46454</td>\n",
       "      <td>0.47877</td>\n",
       "      <td>0.38290</td>\n",
       "      <td>0.13767</td>\n",
       "      <td>0.11002</td>\n",
       "      <td>0.01936</td>\n",
       "      <td>0.27609</td>\n",
       "      <td>NaN</td>\n",
       "      <td>NaN</td>\n",
       "      <td>NaN</td>\n",
       "    </tr>\n",
       "    <tr>\n",
       "      <th>1</th>\n",
       "      <td>0.22850</td>\n",
       "      <td>0.13695</td>\n",
       "      <td>0.37016</td>\n",
       "      <td>0.08172</td>\n",
       "      <td>0.05709</td>\n",
       "      <td>0.38348</td>\n",
       "      <td>0.27536</td>\n",
       "      <td>0.63390</td>\n",
       "      <td>0.21317</td>\n",
       "      <td>0.05919</td>\n",
       "      <td>0.44563</td>\n",
       "      <td>0.78543</td>\n",
       "      <td>0.52098</td>\n",
       "      <td>1.10619</td>\n",
       "      <td>0.19531</td>\n",
       "      <td>0.73840</td>\n",
       "      <td>0.60594</td>\n",
       "      <td>0.54593</td>\n",
       "      <td>0.00775</td>\n",
       "      <td>0.26951</td>\n",
       "      <td>NaN</td>\n",
       "      <td>NaN</td>\n",
       "      <td>NaN</td>\n",
       "    </tr>\n",
       "    <tr>\n",
       "      <th>2</th>\n",
       "      <td>2.72057</td>\n",
       "      <td>3.72297</td>\n",
       "      <td>3.37689</td>\n",
       "      <td>1.28232</td>\n",
       "      <td>0.90316</td>\n",
       "      <td>0.47276</td>\n",
       "      <td>0.60817</td>\n",
       "      <td>1.13021</td>\n",
       "      <td>1.93092</td>\n",
       "      <td>0.62547</td>\n",
       "      <td>2.50279</td>\n",
       "      <td>0.54644</td>\n",
       "      <td>0.81943</td>\n",
       "      <td>0.67742</td>\n",
       "      <td>0.06682</td>\n",
       "      <td>0.23722</td>\n",
       "      <td>0.45391</td>\n",
       "      <td>1.20600</td>\n",
       "      <td>1.94558</td>\n",
       "      <td>2.88967</td>\n",
       "      <td>NaN</td>\n",
       "      <td>NaN</td>\n",
       "      <td>NaN</td>\n",
       "    </tr>\n",
       "    <tr>\n",
       "      <th>3</th>\n",
       "      <td>0.06289</td>\n",
       "      <td>0.54739</td>\n",
       "      <td>0.62190</td>\n",
       "      <td>1.35643</td>\n",
       "      <td>0.54872</td>\n",
       "      <td>0.28130</td>\n",
       "      <td>0.57759</td>\n",
       "      <td>0.60009</td>\n",
       "      <td>1.49150</td>\n",
       "      <td>1.49977</td>\n",
       "      <td>0.58702</td>\n",
       "      <td>1.26652</td>\n",
       "      <td>2.20852</td>\n",
       "      <td>1.35321</td>\n",
       "      <td>1.08268</td>\n",
       "      <td>1.32594</td>\n",
       "      <td>1.07620</td>\n",
       "      <td>2.46997</td>\n",
       "      <td>2.02206</td>\n",
       "      <td>1.61777</td>\n",
       "      <td>1.86127</td>\n",
       "      <td>NaN</td>\n",
       "      <td>NaN</td>\n",
       "    </tr>\n",
       "    <tr>\n",
       "      <th>4</th>\n",
       "      <td>0.57520</td>\n",
       "      <td>1.41006</td>\n",
       "      <td>1.31180</td>\n",
       "      <td>0.58965</td>\n",
       "      <td>1.32969</td>\n",
       "      <td>0.65253</td>\n",
       "      <td>1.15038</td>\n",
       "      <td>0.27477</td>\n",
       "      <td>0.61810</td>\n",
       "      <td>0.01130</td>\n",
       "      <td>0.11642</td>\n",
       "      <td>0.23115</td>\n",
       "      <td>1.02780</td>\n",
       "      <td>0.96025</td>\n",
       "      <td>0.44654</td>\n",
       "      <td>0.70976</td>\n",
       "      <td>0.67322</td>\n",
       "      <td>1.87156</td>\n",
       "      <td>1.45116</td>\n",
       "      <td>0.73922</td>\n",
       "      <td>NaN</td>\n",
       "      <td>NaN</td>\n",
       "      <td>NaN</td>\n",
       "    </tr>\n",
       "  </tbody>\n",
       "</table>\n",
       "</div>"
      ],
      "text/plain": [
       "        0        1        2        3        4        5        6        7   \\\n",
       "0  0.66929  0.81137  0.75647  0.22221  0.14389  0.13032  0.34931  0.26401   \n",
       "1  0.22850  0.13695  0.37016  0.08172  0.05709  0.38348  0.27536  0.63390   \n",
       "2  2.72057  3.72297  3.37689  1.28232  0.90316  0.47276  0.60817  1.13021   \n",
       "3  0.06289  0.54739  0.62190  1.35643  0.54872  0.28130  0.57759  0.60009   \n",
       "4  0.57520  1.41006  1.31180  0.58965  1.32969  0.65253  1.15038  0.27477   \n",
       "\n",
       "        8        9        10       11       12       13       14       15  \\\n",
       "0  0.34900  0.41699  0.27218  0.38619  0.29352  0.46454  0.47877  0.38290   \n",
       "1  0.21317  0.05919  0.44563  0.78543  0.52098  1.10619  0.19531  0.73840   \n",
       "2  1.93092  0.62547  2.50279  0.54644  0.81943  0.67742  0.06682  0.23722   \n",
       "3  1.49150  1.49977  0.58702  1.26652  2.20852  1.35321  1.08268  1.32594   \n",
       "4  0.61810  0.01130  0.11642  0.23115  1.02780  0.96025  0.44654  0.70976   \n",
       "\n",
       "        16       17       18       19       20  21  22  \n",
       "0  0.13767  0.11002  0.01936  0.27609      NaN NaN NaN  \n",
       "1  0.60594  0.54593  0.00775  0.26951      NaN NaN NaN  \n",
       "2  0.45391  1.20600  1.94558  2.88967      NaN NaN NaN  \n",
       "3  1.07620  2.46997  2.02206  1.61777  1.86127 NaN NaN  \n",
       "4  0.67322  1.87156  1.45116  0.73922      NaN NaN NaN  "
      ]
     },
     "execution_count": 223,
     "metadata": {},
     "output_type": "execute_result"
    }
   ],
   "source": [
    "accXDf.head()"
   ]
  },
  {
   "cell_type": "code",
   "execution_count": 225,
   "metadata": {
    "ExecuteTime": {
     "end_time": "2018-05-07T14:13:33.534234Z",
     "start_time": "2018-05-07T14:13:33.474233Z"
    }
   },
   "outputs": [
    {
     "data": {
      "text/plain": [
       "0     0.346705\n",
       "1     0.383030\n",
       "2     1.405936\n",
       "3     1.164702\n",
       "4     0.807528\n",
       "5     0.764234\n",
       "6     0.498969\n",
       "7     0.738315\n",
       "8     0.590494\n",
       "9     1.795119\n",
       "10    0.580487\n",
       "11    0.649191\n",
       "12    1.029057\n",
       "13    1.593236\n",
       "14    1.105828\n",
       "15    1.123956\n",
       "16    0.568256\n",
       "17    0.652359\n",
       "18    0.480085\n",
       "19    0.510043\n",
       "dtype: float64"
      ]
     },
     "execution_count": 225,
     "metadata": {},
     "output_type": "execute_result"
    }
   ],
   "source": [
    "# Um mehr Spalten eines Panda DataFrames auszugeben\n",
    "pandas.set_option('display.max_columns', 40)\n",
    "accXDf.T.mean().head(20)"
   ]
  },
  {
   "cell_type": "code",
   "execution_count": 226,
   "metadata": {
    "ExecuteTime": {
     "end_time": "2018-05-07T14:13:42.541514Z",
     "start_time": "2018-05-07T14:13:42.537514Z"
    }
   },
   "outputs": [
    {
     "data": {
      "text/plain": [
       "(100976, 23)"
      ]
     },
     "execution_count": 226,
     "metadata": {},
     "output_type": "execute_result"
    }
   ],
   "source": [
    "accXDf.shape"
   ]
  },
  {
   "cell_type": "code",
   "execution_count": 227,
   "metadata": {
    "ExecuteTime": {
     "end_time": "2018-05-07T14:16:18.319231Z",
     "start_time": "2018-05-07T14:13:50.440387Z"
    }
   },
   "outputs": [],
   "source": [
    "accYList = featuresDf['Y-Achse Beschleunigungswerte in m/s^2'].str.split(\" \").tolist()\n",
    "accList = []\n",
    "accList.append(pandas.DataFrame(abs(np.array(accYList[0]).astype(float))).transpose())\n",
    "for x in accYList[1:]:\n",
    "    accList.append(pandas.DataFrame(abs(np.array(x).astype(float))).transpose())\n",
    "accYDf = pandas.concat(accList, ignore_index=True)"
   ]
  },
  {
   "cell_type": "code",
   "execution_count": 228,
   "metadata": {
    "ExecuteTime": {
     "end_time": "2018-05-07T14:16:52.137572Z",
     "start_time": "2018-05-07T14:16:52.101572Z"
    }
   },
   "outputs": [
    {
     "name": "stdout",
     "output_type": "stream",
     "text": [
      "<class 'pandas.core.frame.DataFrame'>\n",
      "RangeIndex: 100976 entries, 0 to 100975\n",
      "Data columns (total 23 columns):\n",
      "0     100976 non-null float64\n",
      "1     100976 non-null float64\n",
      "2     100976 non-null float64\n",
      "3     100976 non-null float64\n",
      "4     100976 non-null float64\n",
      "5     100975 non-null float64\n",
      "6     100972 non-null float64\n",
      "7     100970 non-null float64\n",
      "8     100968 non-null float64\n",
      "9     100966 non-null float64\n",
      "10    100964 non-null float64\n",
      "11    100964 non-null float64\n",
      "12    100959 non-null float64\n",
      "13    100954 non-null float64\n",
      "14    100947 non-null float64\n",
      "15    100939 non-null float64\n",
      "16    100919 non-null float64\n",
      "17    100776 non-null float64\n",
      "18    97361 non-null float64\n",
      "19    39571 non-null float64\n",
      "20    1357 non-null float64\n",
      "21    166 non-null float64\n",
      "22    40 non-null float64\n",
      "dtypes: float64(23)\n",
      "memory usage: 17.7 MB\n"
     ]
    }
   ],
   "source": [
    "accYDf.info()"
   ]
  },
  {
   "cell_type": "code",
   "execution_count": 229,
   "metadata": {
    "ExecuteTime": {
     "end_time": "2018-05-07T14:16:50.142426Z",
     "start_time": "2018-05-07T14:16:47.429Z"
    }
   },
   "outputs": [
    {
     "data": {
      "text/html": [
       "<div>\n",
       "<style scoped>\n",
       "    .dataframe tbody tr th:only-of-type {\n",
       "        vertical-align: middle;\n",
       "    }\n",
       "\n",
       "    .dataframe tbody tr th {\n",
       "        vertical-align: top;\n",
       "    }\n",
       "\n",
       "    .dataframe thead th {\n",
       "        text-align: right;\n",
       "    }\n",
       "</style>\n",
       "<table border=\"1\" class=\"dataframe\">\n",
       "  <thead>\n",
       "    <tr style=\"text-align: right;\">\n",
       "      <th></th>\n",
       "      <th>0</th>\n",
       "      <th>1</th>\n",
       "      <th>2</th>\n",
       "      <th>3</th>\n",
       "      <th>4</th>\n",
       "      <th>5</th>\n",
       "      <th>6</th>\n",
       "      <th>7</th>\n",
       "      <th>8</th>\n",
       "      <th>9</th>\n",
       "      <th>10</th>\n",
       "      <th>11</th>\n",
       "      <th>12</th>\n",
       "      <th>13</th>\n",
       "      <th>14</th>\n",
       "      <th>15</th>\n",
       "      <th>16</th>\n",
       "      <th>17</th>\n",
       "      <th>18</th>\n",
       "      <th>19</th>\n",
       "      <th>20</th>\n",
       "      <th>21</th>\n",
       "      <th>22</th>\n",
       "    </tr>\n",
       "  </thead>\n",
       "  <tbody>\n",
       "    <tr>\n",
       "      <th>0</th>\n",
       "      <td>0.58300</td>\n",
       "      <td>0.48170</td>\n",
       "      <td>0.38533</td>\n",
       "      <td>1.20873</td>\n",
       "      <td>0.46135</td>\n",
       "      <td>0.75219</td>\n",
       "      <td>0.57112</td>\n",
       "      <td>0.38583</td>\n",
       "      <td>0.09411</td>\n",
       "      <td>0.19785</td>\n",
       "      <td>0.35745</td>\n",
       "      <td>0.10205</td>\n",
       "      <td>0.28613</td>\n",
       "      <td>0.33618</td>\n",
       "      <td>0.34560</td>\n",
       "      <td>0.04666</td>\n",
       "      <td>0.77285</td>\n",
       "      <td>0.71025</td>\n",
       "      <td>0.27709</td>\n",
       "      <td>0.65171</td>\n",
       "      <td>NaN</td>\n",
       "      <td>NaN</td>\n",
       "      <td>NaN</td>\n",
       "    </tr>\n",
       "    <tr>\n",
       "      <th>1</th>\n",
       "      <td>0.28650</td>\n",
       "      <td>0.61359</td>\n",
       "      <td>0.29171</td>\n",
       "      <td>0.80856</td>\n",
       "      <td>0.43231</td>\n",
       "      <td>0.85147</td>\n",
       "      <td>0.02369</td>\n",
       "      <td>0.04963</td>\n",
       "      <td>0.45060</td>\n",
       "      <td>0.63627</td>\n",
       "      <td>0.67088</td>\n",
       "      <td>0.50608</td>\n",
       "      <td>0.20570</td>\n",
       "      <td>0.15719</td>\n",
       "      <td>1.13704</td>\n",
       "      <td>0.89429</td>\n",
       "      <td>0.09672</td>\n",
       "      <td>0.36697</td>\n",
       "      <td>0.69194</td>\n",
       "      <td>0.04407</td>\n",
       "      <td>NaN</td>\n",
       "      <td>NaN</td>\n",
       "      <td>NaN</td>\n",
       "    </tr>\n",
       "    <tr>\n",
       "      <th>2</th>\n",
       "      <td>0.48539</td>\n",
       "      <td>4.54084</td>\n",
       "      <td>5.10369</td>\n",
       "      <td>3.63862</td>\n",
       "      <td>0.93426</td>\n",
       "      <td>0.06467</td>\n",
       "      <td>1.72190</td>\n",
       "      <td>4.53401</td>\n",
       "      <td>3.90300</td>\n",
       "      <td>2.21832</td>\n",
       "      <td>1.88754</td>\n",
       "      <td>0.39149</td>\n",
       "      <td>0.49890</td>\n",
       "      <td>0.82675</td>\n",
       "      <td>0.69207</td>\n",
       "      <td>0.01738</td>\n",
       "      <td>0.66028</td>\n",
       "      <td>0.34432</td>\n",
       "      <td>0.06090</td>\n",
       "      <td>0.57954</td>\n",
       "      <td>NaN</td>\n",
       "      <td>NaN</td>\n",
       "      <td>NaN</td>\n",
       "    </tr>\n",
       "    <tr>\n",
       "      <th>3</th>\n",
       "      <td>0.26624</td>\n",
       "      <td>1.24271</td>\n",
       "      <td>2.05148</td>\n",
       "      <td>3.17350</td>\n",
       "      <td>2.00252</td>\n",
       "      <td>0.17702</td>\n",
       "      <td>0.70112</td>\n",
       "      <td>1.87864</td>\n",
       "      <td>1.05851</td>\n",
       "      <td>1.12260</td>\n",
       "      <td>0.55762</td>\n",
       "      <td>0.66064</td>\n",
       "      <td>1.32553</td>\n",
       "      <td>1.22895</td>\n",
       "      <td>0.07416</td>\n",
       "      <td>0.02870</td>\n",
       "      <td>2.09158</td>\n",
       "      <td>7.03625</td>\n",
       "      <td>8.37177</td>\n",
       "      <td>4.75138</td>\n",
       "      <td>1.77646</td>\n",
       "      <td>NaN</td>\n",
       "      <td>NaN</td>\n",
       "    </tr>\n",
       "    <tr>\n",
       "      <th>4</th>\n",
       "      <td>0.74329</td>\n",
       "      <td>4.71651</td>\n",
       "      <td>2.70064</td>\n",
       "      <td>3.55490</td>\n",
       "      <td>2.53744</td>\n",
       "      <td>2.88872</td>\n",
       "      <td>2.51021</td>\n",
       "      <td>2.20739</td>\n",
       "      <td>3.19096</td>\n",
       "      <td>1.89392</td>\n",
       "      <td>1.50345</td>\n",
       "      <td>0.94225</td>\n",
       "      <td>1.64249</td>\n",
       "      <td>1.26800</td>\n",
       "      <td>0.79985</td>\n",
       "      <td>0.72388</td>\n",
       "      <td>1.46786</td>\n",
       "      <td>2.07837</td>\n",
       "      <td>1.67804</td>\n",
       "      <td>2.68746</td>\n",
       "      <td>NaN</td>\n",
       "      <td>NaN</td>\n",
       "      <td>NaN</td>\n",
       "    </tr>\n",
       "  </tbody>\n",
       "</table>\n",
       "</div>"
      ],
      "text/plain": [
       "        0        1        2        3        4        5        6        7   \\\n",
       "0  0.58300  0.48170  0.38533  1.20873  0.46135  0.75219  0.57112  0.38583   \n",
       "1  0.28650  0.61359  0.29171  0.80856  0.43231  0.85147  0.02369  0.04963   \n",
       "2  0.48539  4.54084  5.10369  3.63862  0.93426  0.06467  1.72190  4.53401   \n",
       "3  0.26624  1.24271  2.05148  3.17350  2.00252  0.17702  0.70112  1.87864   \n",
       "4  0.74329  4.71651  2.70064  3.55490  2.53744  2.88872  2.51021  2.20739   \n",
       "\n",
       "        8        9        10       11       12       13       14       15  \\\n",
       "0  0.09411  0.19785  0.35745  0.10205  0.28613  0.33618  0.34560  0.04666   \n",
       "1  0.45060  0.63627  0.67088  0.50608  0.20570  0.15719  1.13704  0.89429   \n",
       "2  3.90300  2.21832  1.88754  0.39149  0.49890  0.82675  0.69207  0.01738   \n",
       "3  1.05851  1.12260  0.55762  0.66064  1.32553  1.22895  0.07416  0.02870   \n",
       "4  3.19096  1.89392  1.50345  0.94225  1.64249  1.26800  0.79985  0.72388   \n",
       "\n",
       "        16       17       18       19       20  21  22  \n",
       "0  0.77285  0.71025  0.27709  0.65171      NaN NaN NaN  \n",
       "1  0.09672  0.36697  0.69194  0.04407      NaN NaN NaN  \n",
       "2  0.66028  0.34432  0.06090  0.57954      NaN NaN NaN  \n",
       "3  2.09158  7.03625  8.37177  4.75138  1.77646 NaN NaN  \n",
       "4  1.46786  2.07837  1.67804  2.68746      NaN NaN NaN  "
      ]
     },
     "execution_count": 229,
     "metadata": {},
     "output_type": "execute_result"
    }
   ],
   "source": [
    "accYDf.head()"
   ]
  },
  {
   "cell_type": "code",
   "execution_count": 230,
   "metadata": {
    "ExecuteTime": {
     "end_time": "2018-05-07T14:19:30.721250Z",
     "start_time": "2018-05-07T14:17:00.495400Z"
    }
   },
   "outputs": [],
   "source": [
    "# Konvertiere Beschleunigungssensordaten Z-Achse zu einem DataFrame\n",
    "measuredDataList = featuresDf['Z-Achse Beschleunigungswerte in m/s^2'].str.split(\" \").tolist()\n",
    "accList = []\n",
    "accList.append(pandas.DataFrame(abs(np.array(measuredDataList[0]).astype(float))).transpose())\n",
    "for x in measuredDataList[1:]:\n",
    "    accList.append(pandas.DataFrame(abs(np.array(x).astype(float))).transpose())\n",
    "accZDf = pandas.concat(accList, ignore_index=True)"
   ]
  },
  {
   "cell_type": "code",
   "execution_count": 231,
   "metadata": {
    "ExecuteTime": {
     "end_time": "2018-05-07T14:22:24.186902Z",
     "start_time": "2018-05-07T14:19:54.669698Z"
    }
   },
   "outputs": [],
   "source": [
    "# Konvertiere Nick Messwerte zu DataFrame\n",
    "measuredDataList = featuresDf['Nick Messwerte in rad'].str.split(\" \").tolist()\n",
    "pitchList = []\n",
    "pitchList.append(pandas.DataFrame(abs(np.array(measuredDataList[0]).astype(float))).transpose())\n",
    "for x in measuredDataList[1:]:\n",
    "    pitchList.append(pandas.DataFrame(abs(np.array(x).astype(float))).transpose())\n",
    "nickDf = pandas.concat(pitchList, ignore_index=True)"
   ]
  },
  {
   "cell_type": "code",
   "execution_count": 233,
   "metadata": {
    "ExecuteTime": {
     "end_time": "2018-05-07T14:28:50.529277Z",
     "start_time": "2018-05-07T14:26:21.179651Z"
    }
   },
   "outputs": [],
   "source": [
    "# Konvertiere Roll Messwerte zu DataFrame\n",
    "measuredDataList = featuresDf['Roll Messwerte in rad'].str.split(\" \").tolist()\n",
    "rollList = []\n",
    "rollList.append(pandas.DataFrame(abs(np.array(measuredDataList[0]).astype(float))).transpose())\n",
    "for x in measuredDataList[1:]:\n",
    "    rollList.append(pandas.DataFrame(abs(np.array(x).astype(float))).transpose())\n",
    "rollDf = pandas.concat(rollList, ignore_index=True)"
   ]
  },
  {
   "cell_type": "code",
   "execution_count": 234,
   "metadata": {
    "ExecuteTime": {
     "end_time": "2018-05-07T14:33:53.610725Z",
     "start_time": "2018-05-07T14:31:23.046118Z"
    }
   },
   "outputs": [],
   "source": [
    "measuredDataList = featuresDf['Gier Messwerte in rad'].str.split(\" \").tolist()\n",
    "azimuthList = []\n",
    "azimuthList.append(pandas.DataFrame(abs(np.array(measuredDataList[0]).astype(float))).transpose())\n",
    "for x in measuredDataList[1:]:\n",
    "    azimuthList.append(pandas.DataFrame(abs(np.array(x).astype(float))).transpose())\n",
    "azimuthDf = pandas.concat(azimuthList, ignore_index=True)"
   ]
  },
  {
   "cell_type": "code",
   "execution_count": 235,
   "metadata": {
    "ExecuteTime": {
     "end_time": "2018-05-07T14:42:30.936001Z",
     "start_time": "2018-05-07T14:40:01.500632Z"
    }
   },
   "outputs": [],
   "source": [
    "measuredDataList = featuresDf['Zeitstempel der Messwerte in ns'].str.split(\" \").tolist()\n",
    "timestampsList = []\n",
    "timestampsList.append(pandas.DataFrame(abs(np.array(measuredDataList[0]).astype(float))).transpose())\n",
    "for x in measuredDataList[1:]:\n",
    "    timestampsList.append(pandas.DataFrame(abs(np.array(x).astype(float))).transpose())\n",
    "sensorTimestampsDf = pandas.concat(timestampsList, ignore_index=True)"
   ]
  },
  {
   "cell_type": "code",
   "execution_count": 236,
   "metadata": {
    "ExecuteTime": {
     "end_time": "2018-05-07T14:49:49.944787Z",
     "start_time": "2018-05-07T14:49:49.679888Z"
    }
   },
   "outputs": [],
   "source": [
    "# Neue Spalten werden erstellt und Mittelwerte zugewiesen\n",
    "featuresDf['Mittelwert X-Achse Beschleunigung in m/s^2'] = accXDf.T.mean()\n",
    "featuresDf['Mittelwert Y-Achse Beschleunigung in m/s^2'] = accYDf.T.mean()\n",
    "featuresDf['Mittelwert Z-Achse Beschleunigung in m/s^2'] = accZDf.T.mean()\n",
    "featuresDf['Mittelwert Nick in rad'] = nickDf.T.mean()\n",
    "featuresDf['Mittelwert Roll in rad'] = rollDf.T.mean()"
   ]
  },
  {
   "cell_type": "code",
   "execution_count": 237,
   "metadata": {
    "ExecuteTime": {
     "end_time": "2018-05-07T14:49:56.993478Z",
     "start_time": "2018-05-07T14:49:56.985478Z"
    }
   },
   "outputs": [
    {
     "data": {
      "text/plain": [
       "0    0.346705\n",
       "1    0.383030\n",
       "Name: Mittelwert X-Achse Beschleunigung in m/s^2, dtype: float64"
      ]
     },
     "execution_count": 237,
     "metadata": {},
     "output_type": "execute_result"
    }
   ],
   "source": [
    "featuresDf['Mittelwert X-Achse Beschleunigung in m/s^2'].head(2)"
   ]
  },
  {
   "cell_type": "code",
   "execution_count": 238,
   "metadata": {
    "ExecuteTime": {
     "end_time": "2018-05-07T14:50:04.635958Z",
     "start_time": "2018-05-07T14:50:04.627960Z"
    },
    "scrolled": true
   },
   "outputs": [
    {
     "data": {
      "text/plain": [
       "Index(['Zeitstempel in Unixzeit', 'Anzahl der Messwerte',\n",
       "       'Belichtungszeit in ns', 'Breitengrad', 'Geschwindigkeit in km/h',\n",
       "       'Gier Messwerte in rad', 'Hoehe in m ueber WGS 84', 'Laengengrad',\n",
       "       'Letzter Zeitstempel der Messwerterfassung in ns seit Start der JVM',\n",
       "       'Nick Messwerte in rad', 'Roll Messwerte in rad',\n",
       "       'Start der Belichtung in ns seit Start der JVM',\n",
       "       'Start der Messwerterfassung in ns seit Start der JVM',\n",
       "       'Start des Zeitfensters in ns seit Start der JVM',\n",
       "       'Stopp der Messwerterfassung in Unixzeit',\n",
       "       'X-Achse Beschleunigungswerte in m/s^2',\n",
       "       'Y-Achse Beschleunigungswerte in m/s^2',\n",
       "       'Z-Achse Beschleunigungswerte in m/s^2',\n",
       "       'Zeitstempel der Messwerte in ns',\n",
       "       'Mittelwert X-Achse Beschleunigung in m/s^2',\n",
       "       'Mittelwert Y-Achse Beschleunigung in m/s^2',\n",
       "       'Mittelwert Z-Achse Beschleunigung in m/s^2', 'Mittelwert Nick in rad',\n",
       "       'Mittelwert Roll in rad'],\n",
       "      dtype='object')"
      ]
     },
     "execution_count": 238,
     "metadata": {},
     "output_type": "execute_result"
    }
   ],
   "source": [
    "featuresDf.columns"
   ]
  },
  {
   "cell_type": "markdown",
   "metadata": {},
   "source": [
    "Berechnet die Varianz. Dieser Funktion muss als Paramter der Mittelwert (mean) und der DataFrame mit   \n",
    "den Float Werten übergeben werden, um die Varianz zu berechnen. Als Varianz wird der Durchschnitt der quadrierten  \n",
    "Differenzen zum Mittelwert bezeichnet.   \n",
    "Prec.:    \n",
    "Postc.: Gibt die berechnete Variance als Float zurück oder 0 wenn die Anzahl der Werte <= 0  "
   ]
  },
  {
   "cell_type": "code",
   "execution_count": 239,
   "metadata": {
    "ExecuteTime": {
     "end_time": "2018-05-07T14:50:11.704037Z",
     "start_time": "2018-05-07T14:50:11.696038Z"
    }
   },
   "outputs": [],
   "source": [
    "def calcVariance(meansDf, dfValues):\n",
    "    variance = []\n",
    "    for i, values in dfValues.iterrows():\n",
    "        sum = 0\n",
    "        for value in values:\n",
    "            if math.isnan(value) == False:\n",
    "                tempDifference = value-meansDf[i]\n",
    "                sum += tempDifference * tempDifference\n",
    "        variance.append(\"{0:.5f}\".format(round(sum / values.count(),5)))\n",
    "    return np.array(variance).astype(float)"
   ]
  },
  {
   "cell_type": "markdown",
   "metadata": {},
   "source": [
    "Hier wird die Standardabweichung der Varianz berechnet. Dies ist die Wurzel der Varianz.   \n",
    "Für die Berechnung wird der Absolutwert von der Varianz genommen.    \n",
    "Prec.:\n",
    "Postc.:  Standardabweichung wird zurückgegeben."
   ]
  },
  {
   "cell_type": "code",
   "execution_count": 240,
   "metadata": {
    "ExecuteTime": {
     "end_time": "2018-05-07T14:50:17.426578Z",
     "start_time": "2018-05-07T14:50:17.422578Z"
    }
   },
   "outputs": [],
   "source": [
    "def calculateStandardDeviation(varianceDf):\n",
    "    deviation = []\n",
    "    for v in varianceDf:\n",
    "        temp = math.sqrt(np.abs(v))\n",
    "        deviation.append(\"{0:.5f}\".format(round(temp,5)))\n",
    "    return np.array(deviation).astype(float)"
   ]
  },
  {
   "cell_type": "markdown",
   "metadata": {},
   "source": [
    "Die Funktion berechnet die Winkeldifferenz in rad zwischen den ersten gemessenen Gierwinkel und den letzten Gierwinkel   \n",
    "innerhalb einer als Argument übergebenen DataFrames. Der zurückgegebene Radiant    \n",
    "ist immer positiv und gibt die relative änderung in rad an.      \n",
    "Prec.:   \n",
    "Postc.: Radiant berechnet   "
   ]
  },
  {
   "cell_type": "code",
   "execution_count": 241,
   "metadata": {
    "ExecuteTime": {
     "end_time": "2018-05-07T14:50:22.899787Z",
     "start_time": "2018-05-07T14:50:22.891788Z"
    }
   },
   "outputs": [],
   "source": [
    "def calculateAngelChangeAzimuth(azimuthDf):\n",
    "    result = []\n",
    "    for i,values in azimuthDf.iterrows():\n",
    "        first = values[0]*(180/math.pi)\n",
    "        last = values.iloc[values.count()-1]*(180/math.pi)\n",
    "        resultTemp = np.abs(first - last)\n",
    "        if(resultTemp > 180):\n",
    "            resultTemp = 360 - resultTemp\n",
    "        result.append(\"{0:.5f}\".format(round(resultTemp * ( math.pi / 180),5)))\n",
    "    return np.array(result).astype(float)"
   ]
  },
  {
   "cell_type": "code",
   "execution_count": 242,
   "metadata": {
    "ExecuteTime": {
     "end_time": "2018-05-07T14:50:41.198418Z",
     "start_time": "2018-05-07T14:50:29.919986Z"
    }
   },
   "outputs": [],
   "source": [
    "featuresDf['Gier-Aenderung in rad'] = calculateAngelChangeAzimuth(azimuthDf)"
   ]
  },
  {
   "cell_type": "code",
   "execution_count": 243,
   "metadata": {},
   "outputs": [
    {
     "data": {
      "text/html": [
       "<div>\n",
       "<style scoped>\n",
       "    .dataframe tbody tr th:only-of-type {\n",
       "        vertical-align: middle;\n",
       "    }\n",
       "\n",
       "    .dataframe tbody tr th {\n",
       "        vertical-align: top;\n",
       "    }\n",
       "\n",
       "    .dataframe thead th {\n",
       "        text-align: right;\n",
       "    }\n",
       "</style>\n",
       "<table border=\"1\" class=\"dataframe\">\n",
       "  <thead>\n",
       "    <tr style=\"text-align: right;\">\n",
       "      <th></th>\n",
       "      <th>0</th>\n",
       "      <th>1</th>\n",
       "      <th>2</th>\n",
       "      <th>3</th>\n",
       "      <th>4</th>\n",
       "      <th>5</th>\n",
       "      <th>6</th>\n",
       "      <th>7</th>\n",
       "      <th>8</th>\n",
       "      <th>9</th>\n",
       "      <th>10</th>\n",
       "      <th>11</th>\n",
       "      <th>12</th>\n",
       "      <th>13</th>\n",
       "      <th>14</th>\n",
       "      <th>15</th>\n",
       "      <th>16</th>\n",
       "      <th>17</th>\n",
       "      <th>18</th>\n",
       "      <th>19</th>\n",
       "      <th>20</th>\n",
       "      <th>21</th>\n",
       "      <th>22</th>\n",
       "    </tr>\n",
       "  </thead>\n",
       "  <tbody>\n",
       "    <tr>\n",
       "      <th>14957</th>\n",
       "      <td>0.03740</td>\n",
       "      <td>0.25975</td>\n",
       "      <td>0.19060</td>\n",
       "      <td>0.91865</td>\n",
       "      <td>0.19976</td>\n",
       "      <td>0.69609</td>\n",
       "      <td>0.34235</td>\n",
       "      <td>0.36579</td>\n",
       "      <td>0.59907</td>\n",
       "      <td>1.35266</td>\n",
       "      <td>2.35390</td>\n",
       "      <td>2.74120</td>\n",
       "      <td>1.51872</td>\n",
       "      <td>0.98513</td>\n",
       "      <td>0.02194</td>\n",
       "      <td>0.44215</td>\n",
       "      <td>1.01262</td>\n",
       "      <td>0.18188</td>\n",
       "      <td>1.58587</td>\n",
       "      <td>NaN</td>\n",
       "      <td>NaN</td>\n",
       "      <td>NaN</td>\n",
       "      <td>NaN</td>\n",
       "    </tr>\n",
       "    <tr>\n",
       "      <th>14958</th>\n",
       "      <td>0.37509</td>\n",
       "      <td>1.35734</td>\n",
       "      <td>0.56488</td>\n",
       "      <td>0.19168</td>\n",
       "      <td>0.39853</td>\n",
       "      <td>0.89167</td>\n",
       "      <td>0.60606</td>\n",
       "      <td>0.61842</td>\n",
       "      <td>2.48673</td>\n",
       "      <td>1.34583</td>\n",
       "      <td>0.34834</td>\n",
       "      <td>0.45684</td>\n",
       "      <td>0.94775</td>\n",
       "      <td>2.03002</td>\n",
       "      <td>0.36756</td>\n",
       "      <td>1.19226</td>\n",
       "      <td>1.44413</td>\n",
       "      <td>1.50771</td>\n",
       "      <td>0.12694</td>\n",
       "      <td>NaN</td>\n",
       "      <td>NaN</td>\n",
       "      <td>NaN</td>\n",
       "      <td>NaN</td>\n",
       "    </tr>\n",
       "    <tr>\n",
       "      <th>14959</th>\n",
       "      <td>1.37906</td>\n",
       "      <td>0.21453</td>\n",
       "      <td>2.25556</td>\n",
       "      <td>0.91573</td>\n",
       "      <td>0.87050</td>\n",
       "      <td>0.57384</td>\n",
       "      <td>1.10265</td>\n",
       "      <td>0.17728</td>\n",
       "      <td>0.80073</td>\n",
       "      <td>1.59062</td>\n",
       "      <td>0.72089</td>\n",
       "      <td>0.43881</td>\n",
       "      <td>0.97931</td>\n",
       "      <td>1.33509</td>\n",
       "      <td>1.19067</td>\n",
       "      <td>0.51844</td>\n",
       "      <td>1.53332</td>\n",
       "      <td>1.21132</td>\n",
       "      <td>0.52467</td>\n",
       "      <td>1.13989</td>\n",
       "      <td>NaN</td>\n",
       "      <td>NaN</td>\n",
       "      <td>NaN</td>\n",
       "    </tr>\n",
       "    <tr>\n",
       "      <th>14960</th>\n",
       "      <td>0.97433</td>\n",
       "      <td>1.62225</td>\n",
       "      <td>0.60829</td>\n",
       "      <td>0.77778</td>\n",
       "      <td>0.69553</td>\n",
       "      <td>0.19441</td>\n",
       "      <td>0.29346</td>\n",
       "      <td>0.28620</td>\n",
       "      <td>0.21363</td>\n",
       "      <td>2.17353</td>\n",
       "      <td>1.20253</td>\n",
       "      <td>1.02994</td>\n",
       "      <td>2.27961</td>\n",
       "      <td>0.15347</td>\n",
       "      <td>1.68533</td>\n",
       "      <td>0.01520</td>\n",
       "      <td>1.65803</td>\n",
       "      <td>1.78608</td>\n",
       "      <td>0.91555</td>\n",
       "      <td>NaN</td>\n",
       "      <td>NaN</td>\n",
       "      <td>NaN</td>\n",
       "      <td>NaN</td>\n",
       "    </tr>\n",
       "  </tbody>\n",
       "</table>\n",
       "</div>"
      ],
      "text/plain": [
       "            0        1        2        3        4        5        6        7   \\\n",
       "14957  0.03740  0.25975  0.19060  0.91865  0.19976  0.69609  0.34235  0.36579   \n",
       "14958  0.37509  1.35734  0.56488  0.19168  0.39853  0.89167  0.60606  0.61842   \n",
       "14959  1.37906  0.21453  2.25556  0.91573  0.87050  0.57384  1.10265  0.17728   \n",
       "14960  0.97433  1.62225  0.60829  0.77778  0.69553  0.19441  0.29346  0.28620   \n",
       "\n",
       "            8        9        10       11       12       13       14       15  \\\n",
       "14957  0.59907  1.35266  2.35390  2.74120  1.51872  0.98513  0.02194  0.44215   \n",
       "14958  2.48673  1.34583  0.34834  0.45684  0.94775  2.03002  0.36756  1.19226   \n",
       "14959  0.80073  1.59062  0.72089  0.43881  0.97931  1.33509  1.19067  0.51844   \n",
       "14960  0.21363  2.17353  1.20253  1.02994  2.27961  0.15347  1.68533  0.01520   \n",
       "\n",
       "            16       17       18       19  20  21  22  \n",
       "14957  1.01262  0.18188  1.58587      NaN NaN NaN NaN  \n",
       "14958  1.44413  1.50771  0.12694      NaN NaN NaN NaN  \n",
       "14959  1.53332  1.21132  0.52467  1.13989 NaN NaN NaN  \n",
       "14960  1.65803  1.78608  0.91555      NaN NaN NaN NaN  "
      ]
     },
     "execution_count": 243,
     "metadata": {},
     "output_type": "execute_result"
    }
   ],
   "source": [
    "accXDf[14957:14961]"
   ]
  },
  {
   "cell_type": "code",
   "execution_count": 244,
   "metadata": {},
   "outputs": [
    {
     "data": {
      "text/plain": [
       "0.97364550000000016"
      ]
     },
     "execution_count": 244,
     "metadata": {},
     "output_type": "execute_result"
    }
   ],
   "source": [
    "featuresDf['Mittelwert X-Achse Beschleunigung in m/s^2'].iloc[14959]"
   ]
  },
  {
   "cell_type": "code",
   "execution_count": 245,
   "metadata": {
    "ExecuteTime": {
     "end_time": "2018-05-07T15:16:03.331865Z",
     "start_time": "2018-05-07T15:15:58.790315Z"
    }
   },
   "outputs": [],
   "source": [
    "# Berechnung der Varianzen und hinzufügen der Ergebnisse als neue Spalte in dem DataFrame \n",
    "featuresDf['Varianz X-Achse Beschleunigung in m/s^2'] = calcVariance(featuresDf['Mittelwert X-Achse Beschleunigung in m/s^2'],accXDf)\n",
    "featuresDf['Varianz Y-Achse Beschleunigung in m/s^2'] = calcVariance(featuresDf['Mittelwert Y-Achse Beschleunigung in m/s^2'],accYDf)\n",
    "featuresDf['Varianz Z-Achse Beschleunigung in m/s^2'] = calcVariance(featuresDf['Mittelwert Z-Achse Beschleunigung in m/s^2'],accZDf)\n",
    "featuresDf['Varianz Nick in rad'] = calcVariance(featuresDf['Mittelwert Nick in rad'],nickDf)\n",
    "featuresDf['Varianz Roll in rad'] = calcVariance(featuresDf['Mittelwert Roll in rad'],rollDf)"
   ]
  },
  {
   "cell_type": "code",
   "execution_count": 246,
   "metadata": {
    "ExecuteTime": {
     "end_time": "2018-05-07T15:16:53.548219Z",
     "start_time": "2018-05-07T15:16:53.540220Z"
    }
   },
   "outputs": [
    {
     "data": {
      "text/plain": [
       "0     0.37509\n",
       "1     1.35734\n",
       "2     0.56488\n",
       "3     0.19168\n",
       "4     0.39853\n",
       "5     0.89167\n",
       "6     0.60606\n",
       "7     0.61842\n",
       "8     2.48673\n",
       "9     1.34583\n",
       "10    0.34834\n",
       "11    0.45684\n",
       "12    0.94775\n",
       "13    2.03002\n",
       "14    0.36756\n",
       "15    1.19226\n",
       "16    1.44413\n",
       "17    1.50771\n",
       "18    0.12694\n",
       "19        NaN\n",
       "20        NaN\n",
       "21        NaN\n",
       "22        NaN\n",
       "Name: 14958, dtype: float64"
      ]
     },
     "execution_count": 246,
     "metadata": {},
     "output_type": "execute_result"
    }
   ],
   "source": [
    "accXDf.iloc[14959-1]"
   ]
  },
  {
   "cell_type": "code",
   "execution_count": 247,
   "metadata": {
    "ExecuteTime": {
     "end_time": "2018-05-07T13:55:13.914004Z",
     "start_time": "2018-05-07T13:51:52.727Z"
    }
   },
   "outputs": [
    {
     "data": {
      "text/plain": [
       "0    0.04288\n",
       "1    0.07946\n",
       "2    1.15662\n",
       "3    0.40990\n",
       "4    0.23387\n",
       "Name: Varianz X-Achse Beschleunigung in m/s^2, dtype: float64"
      ]
     },
     "execution_count": 247,
     "metadata": {},
     "output_type": "execute_result"
    }
   ],
   "source": [
    "featuresDf['Varianz X-Achse Beschleunigung in m/s^2'].head()"
   ]
  },
  {
   "cell_type": "code",
   "execution_count": 248,
   "metadata": {
    "ExecuteTime": {
     "end_time": "2018-05-07T13:55:13.929630Z",
     "start_time": "2018-05-07T13:51:53.592Z"
    }
   },
   "outputs": [
    {
     "data": {
      "text/plain": [
       "array([ 0.20707,  0.28189,  1.07546, ...,  0.25687,  0.19927,  0.12506])"
      ]
     },
     "execution_count": 248,
     "metadata": {},
     "output_type": "execute_result"
    }
   ],
   "source": [
    "calculateStandardDeviation(featuresDf['Varianz X-Achse Beschleunigung in m/s^2'])"
   ]
  },
  {
   "cell_type": "code",
   "execution_count": 249,
   "metadata": {
    "ExecuteTime": {
     "end_time": "2018-05-07T13:55:13.929630Z",
     "start_time": "2018-05-07T13:51:59.147Z"
    }
   },
   "outputs": [],
   "source": [
    "# Berechne Standardabweichung\n",
    "featuresDf['Standardabweichung X-Achse Beschleunigung in m/s^2'] = calculateStandardDeviation(featuresDf['Varianz X-Achse Beschleunigung in m/s^2'])\n",
    "featuresDf['Standardabweichung Y-Achse Beschleunigung in m/s^2'] = calculateStandardDeviation(featuresDf['Varianz Y-Achse Beschleunigung in m/s^2'])\n",
    "featuresDf['Standardabweichung Z-Achse Beschleunigung in m/s^2'] = calculateStandardDeviation(featuresDf['Varianz Z-Achse Beschleunigung in m/s^2'])\n",
    "featuresDf['Standardabweichung Nick in rad'] = calculateStandardDeviation(featuresDf['Varianz Nick in rad'])\n",
    "featuresDf['Standardabweichung Roll in rad'] = calculateStandardDeviation(featuresDf['Varianz Roll in rad'])"
   ]
  },
  {
   "cell_type": "code",
   "execution_count": 250,
   "metadata": {
    "ExecuteTime": {
     "end_time": "2018-05-07T13:55:13.929630Z",
     "start_time": "2018-05-07T13:51:59.496Z"
    }
   },
   "outputs": [
    {
     "data": {
      "text/plain": [
       "0    0.20707\n",
       "1    0.28189\n",
       "2    1.07546\n",
       "3    0.64023\n",
       "4    0.48360\n",
       "Name: Standardabweichung X-Achse Beschleunigung in m/s^2, dtype: float64"
      ]
     },
     "execution_count": 250,
     "metadata": {},
     "output_type": "execute_result"
    }
   ],
   "source": [
    "featuresDf['Standardabweichung X-Achse Beschleunigung in m/s^2'].head()"
   ]
  },
  {
   "cell_type": "code",
   "execution_count": 251,
   "metadata": {
    "ExecuteTime": {
     "end_time": "2018-05-07T13:55:13.929630Z",
     "start_time": "2018-05-07T13:51:59.806Z"
    }
   },
   "outputs": [
    {
     "name": "stdout",
     "output_type": "stream",
     "text": [
      "<class 'pandas.core.frame.DataFrame'>\n",
      "RangeIndex: 100976 entries, 0 to 100975\n",
      "Data columns (total 23 columns):\n",
      "0     100976 non-null float64\n",
      "1     100976 non-null float64\n",
      "2     100976 non-null float64\n",
      "3     100976 non-null float64\n",
      "4     100976 non-null float64\n",
      "5     100975 non-null float64\n",
      "6     100972 non-null float64\n",
      "7     100970 non-null float64\n",
      "8     100968 non-null float64\n",
      "9     100966 non-null float64\n",
      "10    100964 non-null float64\n",
      "11    100964 non-null float64\n",
      "12    100959 non-null float64\n",
      "13    100954 non-null float64\n",
      "14    100947 non-null float64\n",
      "15    100939 non-null float64\n",
      "16    100919 non-null float64\n",
      "17    100776 non-null float64\n",
      "18    97361 non-null float64\n",
      "19    39571 non-null float64\n",
      "20    1357 non-null float64\n",
      "21    166 non-null float64\n",
      "22    40 non-null float64\n",
      "dtypes: float64(23)\n",
      "memory usage: 17.7 MB\n"
     ]
    }
   ],
   "source": [
    "accXDf.info()"
   ]
  },
  {
   "cell_type": "code",
   "execution_count": 252,
   "metadata": {
    "ExecuteTime": {
     "end_time": "2018-05-07T13:55:13.929630Z",
     "start_time": "2018-05-07T13:52:01.837Z"
    }
   },
   "outputs": [
    {
     "data": {
      "text/html": [
       "<div>\n",
       "<style scoped>\n",
       "    .dataframe tbody tr th:only-of-type {\n",
       "        vertical-align: middle;\n",
       "    }\n",
       "\n",
       "    .dataframe tbody tr th {\n",
       "        vertical-align: top;\n",
       "    }\n",
       "\n",
       "    .dataframe thead th {\n",
       "        text-align: right;\n",
       "    }\n",
       "</style>\n",
       "<table border=\"1\" class=\"dataframe\">\n",
       "  <thead>\n",
       "    <tr style=\"text-align: right;\">\n",
       "      <th></th>\n",
       "      <th>0</th>\n",
       "      <th>1</th>\n",
       "      <th>2</th>\n",
       "      <th>3</th>\n",
       "      <th>4</th>\n",
       "      <th>5</th>\n",
       "      <th>6</th>\n",
       "      <th>7</th>\n",
       "      <th>8</th>\n",
       "      <th>9</th>\n",
       "      <th>10</th>\n",
       "      <th>11</th>\n",
       "      <th>12</th>\n",
       "      <th>13</th>\n",
       "      <th>14</th>\n",
       "      <th>15</th>\n",
       "      <th>16</th>\n",
       "      <th>17</th>\n",
       "      <th>18</th>\n",
       "      <th>19</th>\n",
       "      <th>20</th>\n",
       "      <th>21</th>\n",
       "      <th>22</th>\n",
       "    </tr>\n",
       "  </thead>\n",
       "  <tbody>\n",
       "    <tr>\n",
       "      <th>0</th>\n",
       "      <td>0.66929</td>\n",
       "      <td>0.81137</td>\n",
       "      <td>0.75647</td>\n",
       "      <td>0.22221</td>\n",
       "      <td>0.14389</td>\n",
       "      <td>0.13032</td>\n",
       "      <td>0.34931</td>\n",
       "      <td>0.26401</td>\n",
       "      <td>0.34900</td>\n",
       "      <td>0.41699</td>\n",
       "      <td>0.27218</td>\n",
       "      <td>0.38619</td>\n",
       "      <td>0.29352</td>\n",
       "      <td>0.46454</td>\n",
       "      <td>0.47877</td>\n",
       "      <td>0.38290</td>\n",
       "      <td>0.13767</td>\n",
       "      <td>0.11002</td>\n",
       "      <td>0.01936</td>\n",
       "      <td>0.27609</td>\n",
       "      <td>NaN</td>\n",
       "      <td>NaN</td>\n",
       "      <td>NaN</td>\n",
       "    </tr>\n",
       "    <tr>\n",
       "      <th>1</th>\n",
       "      <td>0.22850</td>\n",
       "      <td>0.13695</td>\n",
       "      <td>0.37016</td>\n",
       "      <td>0.08172</td>\n",
       "      <td>0.05709</td>\n",
       "      <td>0.38348</td>\n",
       "      <td>0.27536</td>\n",
       "      <td>0.63390</td>\n",
       "      <td>0.21317</td>\n",
       "      <td>0.05919</td>\n",
       "      <td>0.44563</td>\n",
       "      <td>0.78543</td>\n",
       "      <td>0.52098</td>\n",
       "      <td>1.10619</td>\n",
       "      <td>0.19531</td>\n",
       "      <td>0.73840</td>\n",
       "      <td>0.60594</td>\n",
       "      <td>0.54593</td>\n",
       "      <td>0.00775</td>\n",
       "      <td>0.26951</td>\n",
       "      <td>NaN</td>\n",
       "      <td>NaN</td>\n",
       "      <td>NaN</td>\n",
       "    </tr>\n",
       "    <tr>\n",
       "      <th>2</th>\n",
       "      <td>2.72057</td>\n",
       "      <td>3.72297</td>\n",
       "      <td>3.37689</td>\n",
       "      <td>1.28232</td>\n",
       "      <td>0.90316</td>\n",
       "      <td>0.47276</td>\n",
       "      <td>0.60817</td>\n",
       "      <td>1.13021</td>\n",
       "      <td>1.93092</td>\n",
       "      <td>0.62547</td>\n",
       "      <td>2.50279</td>\n",
       "      <td>0.54644</td>\n",
       "      <td>0.81943</td>\n",
       "      <td>0.67742</td>\n",
       "      <td>0.06682</td>\n",
       "      <td>0.23722</td>\n",
       "      <td>0.45391</td>\n",
       "      <td>1.20600</td>\n",
       "      <td>1.94558</td>\n",
       "      <td>2.88967</td>\n",
       "      <td>NaN</td>\n",
       "      <td>NaN</td>\n",
       "      <td>NaN</td>\n",
       "    </tr>\n",
       "    <tr>\n",
       "      <th>3</th>\n",
       "      <td>0.06289</td>\n",
       "      <td>0.54739</td>\n",
       "      <td>0.62190</td>\n",
       "      <td>1.35643</td>\n",
       "      <td>0.54872</td>\n",
       "      <td>0.28130</td>\n",
       "      <td>0.57759</td>\n",
       "      <td>0.60009</td>\n",
       "      <td>1.49150</td>\n",
       "      <td>1.49977</td>\n",
       "      <td>0.58702</td>\n",
       "      <td>1.26652</td>\n",
       "      <td>2.20852</td>\n",
       "      <td>1.35321</td>\n",
       "      <td>1.08268</td>\n",
       "      <td>1.32594</td>\n",
       "      <td>1.07620</td>\n",
       "      <td>2.46997</td>\n",
       "      <td>2.02206</td>\n",
       "      <td>1.61777</td>\n",
       "      <td>1.86127</td>\n",
       "      <td>NaN</td>\n",
       "      <td>NaN</td>\n",
       "    </tr>\n",
       "    <tr>\n",
       "      <th>4</th>\n",
       "      <td>0.57520</td>\n",
       "      <td>1.41006</td>\n",
       "      <td>1.31180</td>\n",
       "      <td>0.58965</td>\n",
       "      <td>1.32969</td>\n",
       "      <td>0.65253</td>\n",
       "      <td>1.15038</td>\n",
       "      <td>0.27477</td>\n",
       "      <td>0.61810</td>\n",
       "      <td>0.01130</td>\n",
       "      <td>0.11642</td>\n",
       "      <td>0.23115</td>\n",
       "      <td>1.02780</td>\n",
       "      <td>0.96025</td>\n",
       "      <td>0.44654</td>\n",
       "      <td>0.70976</td>\n",
       "      <td>0.67322</td>\n",
       "      <td>1.87156</td>\n",
       "      <td>1.45116</td>\n",
       "      <td>0.73922</td>\n",
       "      <td>NaN</td>\n",
       "      <td>NaN</td>\n",
       "      <td>NaN</td>\n",
       "    </tr>\n",
       "  </tbody>\n",
       "</table>\n",
       "</div>"
      ],
      "text/plain": [
       "        0        1        2        3        4        5        6        7   \\\n",
       "0  0.66929  0.81137  0.75647  0.22221  0.14389  0.13032  0.34931  0.26401   \n",
       "1  0.22850  0.13695  0.37016  0.08172  0.05709  0.38348  0.27536  0.63390   \n",
       "2  2.72057  3.72297  3.37689  1.28232  0.90316  0.47276  0.60817  1.13021   \n",
       "3  0.06289  0.54739  0.62190  1.35643  0.54872  0.28130  0.57759  0.60009   \n",
       "4  0.57520  1.41006  1.31180  0.58965  1.32969  0.65253  1.15038  0.27477   \n",
       "\n",
       "        8        9        10       11       12       13       14       15  \\\n",
       "0  0.34900  0.41699  0.27218  0.38619  0.29352  0.46454  0.47877  0.38290   \n",
       "1  0.21317  0.05919  0.44563  0.78543  0.52098  1.10619  0.19531  0.73840   \n",
       "2  1.93092  0.62547  2.50279  0.54644  0.81943  0.67742  0.06682  0.23722   \n",
       "3  1.49150  1.49977  0.58702  1.26652  2.20852  1.35321  1.08268  1.32594   \n",
       "4  0.61810  0.01130  0.11642  0.23115  1.02780  0.96025  0.44654  0.70976   \n",
       "\n",
       "        16       17       18       19       20  21  22  \n",
       "0  0.13767  0.11002  0.01936  0.27609      NaN NaN NaN  \n",
       "1  0.60594  0.54593  0.00775  0.26951      NaN NaN NaN  \n",
       "2  0.45391  1.20600  1.94558  2.88967      NaN NaN NaN  \n",
       "3  1.07620  2.46997  2.02206  1.61777  1.86127 NaN NaN  \n",
       "4  0.67322  1.87156  1.45116  0.73922      NaN NaN NaN  "
      ]
     },
     "execution_count": 252,
     "metadata": {},
     "output_type": "execute_result"
    }
   ],
   "source": [
    "accXDf.head()"
   ]
  },
  {
   "cell_type": "code",
   "execution_count": 253,
   "metadata": {
    "ExecuteTime": {
     "end_time": "2018-05-07T13:55:13.929630Z",
     "start_time": "2018-05-07T13:52:04.510Z"
    }
   },
   "outputs": [],
   "source": [
    "# Änderungen in CSV Datei schreiben\n",
    "#featuresDf.set_index('Zeitstempel in Unixzeit', inplace=True)\n",
    "featuresDf.to_csv('../daten/merkmale_datensatz_15_bis_22/absMesswerte/merkmale.csv')"
   ]
  },
  {
   "cell_type": "code",
   "execution_count": 202,
   "metadata": {
    "ExecuteTime": {
     "end_time": "2018-05-07T13:55:13.929630Z",
     "start_time": "2018-05-07T13:52:12.294Z"
    }
   },
   "outputs": [
    {
     "data": {
      "text/plain": [
       "Index(['Zeitstempel in Unixzeit', 'Anzahl der Messwerte',\n",
       "       'Belichtungszeit in ns', 'Breitengrad', 'Geschwindigkeit in km/h',\n",
       "       'Gier Messwerte in rad', 'Hoehe in m ueber WGS 84', 'Laengengrad',\n",
       "       'Letzter Zeitstempel der Messwerterfassung in ns seit Start der JVM',\n",
       "       'Nick Messwerte in rad', 'Roll Messwerte in rad',\n",
       "       'Start der Belichtung in ns seit Start der JVM',\n",
       "       'Start der Messwerterfassung in ns seit Start der JVM',\n",
       "       'Start des Zeitfensters in ns seit Start der JVM',\n",
       "       'Stopp der Messwerterfassung in Unixzeit',\n",
       "       'X-Achse Beschleunigungswerte in m/s^2',\n",
       "       'Y-Achse Beschleunigungswerte in m/s^2',\n",
       "       'Z-Achse Beschleunigungswerte in m/s^2',\n",
       "       'Zeitstempel der Messwerte in ns',\n",
       "       'Mittelwert X-Achse Beschleunigung in m/s^2',\n",
       "       'Mittelwert Y-Achse Beschleunigung in m/s^2',\n",
       "       'Mittelwert Z-Achse Beschleunigung in m/s^2', 'Mittelwert Nick in rad',\n",
       "       'Mittelwert Roll in rad', 'Gier-Aenderung in rad',\n",
       "       'Varianz X-Achse Beschleunigung in m/s^2',\n",
       "       'Varianz Y-Achse Beschleunigung in m/s^2',\n",
       "       'Varianz Z-Achse Beschleunigung in m/s^2', 'Varianz Nick in rad',\n",
       "       'Varianz Roll in rad',\n",
       "       'Standardabweichung X-Achse Beschleunigung in m/s^2',\n",
       "       'Standardabweichung Y-Achse Beschleunigung in m/s^2',\n",
       "       'Standardabweichung Z-Achse Beschleunigung in m/s^2',\n",
       "       'Standardabweichung Nick in rad', 'Standardabweichung Roll in rad'],\n",
       "      dtype='object')"
      ]
     },
     "execution_count": 202,
     "metadata": {},
     "output_type": "execute_result"
    }
   ],
   "source": [
    "pandas.read_csv(\"../daten/merkmale_datensatz_15_bis_22/merkmale.csv\").columns"
   ]
  },
  {
   "cell_type": "code",
   "execution_count": 254,
   "metadata": {
    "ExecuteTime": {
     "end_time": "2018-05-07T13:55:13.929630Z",
     "start_time": "2018-05-07T13:52:19.911Z"
    }
   },
   "outputs": [],
   "source": [
    "# Speichert die DatenFrames mit den Messwerten in csv Dateien\n",
    "accXDf.index.names = [\"index\"]\n",
    "accXDf.to_csv('../daten/merkmale_datensatz_15_bis_22/absMesswerte/xAchseBeschleunigungswerte.csv')\n",
    "accYDf.index.names = [\"index\"]\n",
    "accYDf.to_csv('../daten/merkmale_datensatz_15_bis_22/absMesswerte/yAchseBeschleunigungswerte.csv')\n",
    "accZDf.index.names = [\"index\"]\n",
    "accZDf.to_csv('../daten/merkmale_datensatz_15_bis_22/absMesswerte/zAchseBeschleunigungswerte.csv')\n",
    "nickDf.index.names = [\"index\"]\n",
    "nickDf.to_csv('../daten/merkmale_datensatz_15_bis_22/absMesswerte/nickMesswerte.csv')\n",
    "rollDf.index.names = [\"index\"]\n",
    "rollDf.to_csv('../daten/merkmale_datensatz_15_bis_22/absMesswerte/rollMesswerte.csv')\n",
    "azimuthDf.index.names = [\"index\"]\n",
    "azimuthDf.to_csv('../daten/merkmale_datensatz_15_bis_22/absMesswerte/azimuthMesswerte.csv')\n",
    "sensorTimestampsDf.index.names = [\"index\"]\n",
    "sensorTimestampsDf.to_csv('../daten/merkmale_datensatz_15_bis_22/absMesswerte/sensoreventZeitstempel.csv')"
   ]
  },
  {
   "cell_type": "code",
   "execution_count": 204,
   "metadata": {
    "ExecuteTime": {
     "end_time": "2018-05-07T13:55:13.929630Z",
     "start_time": "2018-05-07T13:52:23.478Z"
    }
   },
   "outputs": [
    {
     "name": "stderr",
     "output_type": "stream",
     "text": [
      "testCalcVariance0 (__main__.CalcTest) ... ok\n",
      "testCalcVariance2 (__main__.CalcTest) ... ok\n",
      "testCalcVariance5 (__main__.CalcTest) ... ok\n",
      "testCalcVarianceMultidim (__main__.CalcTest) ... ok\n",
      "testCalcVarianceNegative (__main__.CalcTest) ... ok\n",
      "testCalculateAngelChangeAzimuthEqual (__main__.CalcTest) ... ok\n",
      "testCalculateAngelChangeAzimuthNegativ (__main__.CalcTest) ... ok\n",
      "testCalculateAngelChangeAzimuthOne (__main__.CalcTest) ... ok\n",
      "testCalculateAngelChangeAzimuthOne2 (__main__.CalcTest) ... ok\n",
      "testCalculateAngelChangeAzimuthSmall (__main__.CalcTest) ... ok\n",
      "testCalculateAngelChangeAzimuthValues (__main__.CalcTest) ... ok\n",
      "testCalculateStandardDeviation (__main__.CalcTest) ... ok\n",
      "testCalculateStandardDeviationZero (__main__.CalcTest) ... ok\n",
      "\n",
      "----------------------------------------------------------------------\n",
      "Ran 13 tests in 0.040s\n",
      "\n",
      "OK\n"
     ]
    },
    {
     "data": {
      "text/plain": [
       "<unittest.main.TestProgram at 0x13355b11dd8>"
      ]
     },
     "execution_count": 204,
     "metadata": {},
     "output_type": "execute_result"
    }
   ],
   "source": [
    "# Unittests\n",
    "import unittest\n",
    "\n",
    "class CalcTest(unittest.TestCase):\n",
    "    \n",
    "    \n",
    "    # Testet die Funktion calcVariance mit einem DataFrame mit den Werten [2.0, 2.0]\n",
    "    # Der Mittelwert sollte 2.0 sein\n",
    "    # Das erwartete Ergebnis ist 0.0\n",
    "    def testCalcVariance2(self):\n",
    "        meanL = [2.0]\n",
    "        meanDf = pandas.DataFrame(meanL)\n",
    "        valuesA = [2.0,2.0]\n",
    "        valuesDf = pandas.DataFrame([[2.0]])\n",
    "        npt.assert_almost_equal(calcVariance(meanDf[0],valuesDf), 0.0,2)\n",
    "        \n",
    "    # Testet die Funktion calcVariance mit einem DataFrame mit den folgenden Werten:\n",
    "    # [1.24, 2.5213, 10.434, 42.45, 5.9]\n",
    "    # Der Mittelwert ist 12.508\n",
    "    # Die erwartete Varianz ist 234,247016\n",
    "    def testCalcVariance5(self):\n",
    "        meanDf = pandas.DataFrame([12.508])\n",
    "        valuesDf = pandas.DataFrame([[1.24, 2.52, 10.43, 42.45, 5.9]])\n",
    "        npt.assert_almost_equal(calcVariance(meanDf[0],valuesDf), 234.24702,5)   \n",
    "    \n",
    "    # Testet calcVariance mit 0 Datenwerten   \n",
    "    def testCalcVariance0(self):\n",
    "        meanDf = pandas.DataFrame([0.0])\n",
    "        valuesDf = pandas.DataFrame([[0.0]])\n",
    "        npt.assert_almost_equal(calcVariance(meanDf[0],valuesDf),0.0,2)  \n",
    "        \n",
    "    # Testet calcVariance mit negativen Datenwerten   \n",
    "    def testCalcVarianceNegative(self):\n",
    "        meanDf = pandas.DataFrame([-24.0])\n",
    "        valuesDf = pandas.DataFrame([[-2.0,-24.0,-5.0,7.0]])\n",
    "        npt.assert_almost_equal(calcVariance(meanDf[0],valuesDf),451.5,1) \n",
    "        \n",
    "    # Testet calcVariance mit Muultidimensionalen DataFrame   \n",
    "    def testCalcVarianceMultidim(self):\n",
    "        meanDf = pandas.DataFrame([-24.0,0.0])\n",
    "        valuesDf = pandas.DataFrame([[-2.0,-24.0,-5.0,7.0],[0.0,0.0,0.0,0.0]])\n",
    "        # Hier wird Numpy Test verwendet um das Ergebnis (zwei Arrays) zu vergleichen\n",
    "        npt.assert_array_equal(calcVariance(meanDf[0],valuesDf),np.array([ 451.5,0.0])) \n",
    "        \n",
    "    # Dieser Test testet die Funktion calculateStandardDeviation.\n",
    "    def testCalculateStandardDeviation(self):\n",
    "        varianceDf = pandas.DataFrame([451.5])\n",
    "        npt.assert_almost_equal(calculateStandardDeviation(varianceDf[0]),21.24853,5) \n",
    "        \n",
    "    # Testet die Funktion calculateStandardDeviation.\n",
    "    # Dabei hat das Argument den Wert 0.0.\n",
    "    def testCalculateStandardDeviationZero(self):\n",
    "        varianceDf = pandas.DataFrame([0.0])\n",
    "        npt.assert_almost_equal(calculateStandardDeviation(varianceDf[0]),0.0,2)\n",
    "    \n",
    "    #  Testet die Funktion calculateAngelChangeAzimuth mit zwei gleichen rad Werten\n",
    "    def testCalculateAngelChangeAzimuthEqual(self):\n",
    "        radiants = pandas.DataFrame([[1.0,1.0]])\n",
    "        npt.assert_almost_equal(calculateAngelChangeAzimuth(radiants),0.0,2)\n",
    "    \n",
    "    # Testet ob die Winkeldifferenz korrekt berechnet wurde für \n",
    "    # die Radianten -1.0 und 1.0\n",
    "    def testCalculateAngelChangeAzimuthOne(self):\n",
    "        radiants = pandas.DataFrame([[-1.0,1.0]])\n",
    "        npt.assert_almost_equal(calculateAngelChangeAzimuth(radiants),2.0,2)  \n",
    "        \n",
    "    # Testet ob die Winkeldifferenz korrekt berechnet wurde für \n",
    "    # die Radianten 1.0 und -1.0\n",
    "    def testCalculateAngelChangeAzimuthOne2(self):\n",
    "        radiants = pandas.DataFrame([[1.0,-1.0]])\n",
    "        npt.assert_almost_equal(calculateAngelChangeAzimuth(radiants),2.0,2)  \n",
    "\n",
    "    # Testet die Funktion calculateAngelChangeAzimuthValues mit mehreren Werten\n",
    "    def testCalculateAngelChangeAzimuthValues(self):\n",
    "        radiants = pandas.DataFrame([[-1.57,1.0,2.0,1.3,1.57]])\n",
    "        npt.assert_almost_equal(calculateAngelChangeAzimuth(radiants),3.14,2)\n",
    "        \n",
    "    # Testet ob die Winkeldifferenz korrekt berechnet wurde für \n",
    "    # die Radianten 0.05 und 0.06\n",
    "    def testCalculateAngelChangeAzimuthSmall(self):\n",
    "        radiants = pandas.DataFrame([[0.01,0.02]])\n",
    "        npt.assert_almost_equal(calculateAngelChangeAzimuth(radiants), 0.01,2)  \n",
    "        \n",
    "    # Testet ob die Winkeldifferenz korrekt berechnet wurde mit \n",
    "    # negative Radianten \n",
    "    def testCalculateAngelChangeAzimuthNegativ(self):\n",
    "        radiants = pandas.DataFrame([[-2.9,-2.0,-1.28]])\n",
    "        npt.assert_almost_equal(calculateAngelChangeAzimuth(radiants), 1.62,2) \n",
    "\n",
    "unittest.main(argv=[''], verbosity=2, exit=False)"
   ]
  },
  {
   "cell_type": "code",
   "execution_count": null,
   "metadata": {},
   "outputs": [],
   "source": []
  }
 ],
 "metadata": {
  "kernelspec": {
   "display_name": "Python 3",
   "language": "python",
   "name": "python3"
  },
  "language_info": {
   "codemirror_mode": {
    "name": "ipython",
    "version": 3
   },
   "file_extension": ".py",
   "mimetype": "text/x-python",
   "name": "python",
   "nbconvert_exporter": "python",
   "pygments_lexer": "ipython3",
   "version": "3.6.4"
  },
  "toc": {
   "base_numbering": 1,
   "colors": {
    "hover_highlight": "#DAA520",
    "navigate_num": "#000000",
    "navigate_text": "#333333",
    "running_highlight": "#FF0000",
    "selected_highlight": "#FFD700",
    "sidebar_border": "#EEEEEE",
    "wrapper_background": "#FFFFFF"
   },
   "moveMenuLeft": true,
   "nav_menu": {
    "height": "31px",
    "width": "252px"
   },
   "navigate_menu": true,
   "number_sections": true,
   "sideBar": true,
   "skip_h1_title": false,
   "threshold": 4,
   "title_cell": "Table of Contents",
   "title_sidebar": "Contents",
   "toc_cell": false,
   "toc_position": {},
   "toc_section_display": "block",
   "toc_window_display": false,
   "widenNotebook": false
  },
  "varInspector": {
   "cols": {
    "lenName": 16,
    "lenType": 16,
    "lenVar": 40
   },
   "kernels_config": {
    "python": {
     "delete_cmd_postfix": "",
     "delete_cmd_prefix": "del ",
     "library": "var_list.py",
     "varRefreshCmd": "print(var_dic_list())"
    },
    "r": {
     "delete_cmd_postfix": ") ",
     "delete_cmd_prefix": "rm(",
     "library": "var_list.r",
     "varRefreshCmd": "cat(var_dic_list()) "
    }
   },
   "types_to_exclude": [
    "module",
    "function",
    "builtin_function_or_method",
    "instance",
    "_Feature"
   ],
   "window_display": false
  }
 },
 "nbformat": 4,
 "nbformat_minor": 2
}
