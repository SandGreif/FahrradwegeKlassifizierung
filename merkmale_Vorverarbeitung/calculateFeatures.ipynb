{
 "cells": [
  {
   "cell_type": "markdown",
   "metadata": {
    "collapsed": true
   },
   "source": [
    "## Berechnungen\n",
    "\n",
    "In diesem Notebook ist es möglich den Mittelwert, Varianz und Standardabeichung für die aufgenommenen Messwerte    \n",
    "der Android App zu berechnen. Zu einem Bild werden parallel Messwerte erfasst von dem Beschleunigungssensor und Magnetsensor   \n",
    "des Smartphones, innerhalb eines Zeitfenster mit der festen Länge von 80ms. Bei dem Beschleunigungssensor sind dies die Messwerte   \n",
    "der 3-Achsen X,Y sowie Z. Desweiteren werden die Gier-Nick-Roll Winkel in rad in dem Zeitfenster erfasst.       \n",
    "Es wird in dem Notebook auch die Gieränderung in rad berechnet. Die Ergebnisse können in die Merkmal CSV Datei geschrieben werden."
   ]
  },
  {
   "cell_type": "code",
   "execution_count": 1,
   "metadata": {},
   "outputs": [],
   "source": [
    "import pandas\n",
    "import numpy as np\n",
    "import numpy.testing as npt\n",
    "import math\n",
    "import os"
   ]
  },
  {
   "cell_type": "code",
   "execution_count": 2,
   "metadata": {},
   "outputs": [
    {
     "data": {
      "text/html": [
       "<div>\n",
       "<style scoped>\n",
       "    .dataframe tbody tr th:only-of-type {\n",
       "        vertical-align: middle;\n",
       "    }\n",
       "\n",
       "    .dataframe tbody tr th {\n",
       "        vertical-align: top;\n",
       "    }\n",
       "\n",
       "    .dataframe thead th {\n",
       "        text-align: right;\n",
       "    }\n",
       "</style>\n",
       "<table border=\"1\" class=\"dataframe\">\n",
       "  <thead>\n",
       "    <tr style=\"text-align: right;\">\n",
       "      <th></th>\n",
       "      <th>Zeitstempel in Unixzeit</th>\n",
       "      <th>Breitengrad</th>\n",
       "      <th>Laengengrad</th>\n",
       "      <th>Geschwindigkeit in km/h</th>\n",
       "      <th>Hoehe in m ueber WGS 84</th>\n",
       "      <th>Anzahl der Messwerte</th>\n",
       "      <th>Start des Zeitfensters in ns seit Start der JVM</th>\n",
       "      <th>Start der Messwerterfassung in ns seit Start der JVM</th>\n",
       "      <th>Start der Belichtung in ns seit Start der JVM</th>\n",
       "      <th>Belichtungszeit in ns</th>\n",
       "      <th>Letzter Zeitstempel der Messwerterfassung in ns seit Start der JVM</th>\n",
       "      <th>Stopp der Messwerterfassung in Unixzeit</th>\n",
       "    </tr>\n",
       "  </thead>\n",
       "  <tbody>\n",
       "    <tr>\n",
       "      <th>count</th>\n",
       "      <td>1.935000e+03</td>\n",
       "      <td>1935.000000</td>\n",
       "      <td>1935.000000</td>\n",
       "      <td>1935.000000</td>\n",
       "      <td>1935.000000</td>\n",
       "      <td>1935.000000</td>\n",
       "      <td>1.935000e+03</td>\n",
       "      <td>1.935000e+03</td>\n",
       "      <td>1.935000e+03</td>\n",
       "      <td>1.935000e+03</td>\n",
       "      <td>1.935000e+03</td>\n",
       "      <td>1.935000e+03</td>\n",
       "    </tr>\n",
       "    <tr>\n",
       "      <th>mean</th>\n",
       "      <td>1.521815e+12</td>\n",
       "      <td>53.611756</td>\n",
       "      <td>10.141385</td>\n",
       "      <td>15.431479</td>\n",
       "      <td>70.983613</td>\n",
       "      <td>19.335401</td>\n",
       "      <td>1.232928e+14</td>\n",
       "      <td>1.232927e+14</td>\n",
       "      <td>1.232928e+14</td>\n",
       "      <td>1.717044e+07</td>\n",
       "      <td>1.232930e+14</td>\n",
       "      <td>1.521815e+12</td>\n",
       "    </tr>\n",
       "    <tr>\n",
       "      <th>std</th>\n",
       "      <td>1.711999e+05</td>\n",
       "      <td>0.001963</td>\n",
       "      <td>0.004292</td>\n",
       "      <td>2.578698</td>\n",
       "      <td>2.540434</td>\n",
       "      <td>0.574053</td>\n",
       "      <td>1.712002e+11</td>\n",
       "      <td>1.712002e+11</td>\n",
       "      <td>1.712005e+11</td>\n",
       "      <td>5.915285e+06</td>\n",
       "      <td>1.711998e+11</td>\n",
       "      <td>1.711998e+05</td>\n",
       "    </tr>\n",
       "    <tr>\n",
       "      <th>min</th>\n",
       "      <td>1.521815e+12</td>\n",
       "      <td>53.608086</td>\n",
       "      <td>10.136243</td>\n",
       "      <td>6.012000</td>\n",
       "      <td>64.299440</td>\n",
       "      <td>14.000000</td>\n",
       "      <td>1.229923e+14</td>\n",
       "      <td>1.229923e+14</td>\n",
       "      <td>1.229924e+14</td>\n",
       "      <td>1.000184e+07</td>\n",
       "      <td>1.229925e+14</td>\n",
       "      <td>1.521815e+12</td>\n",
       "    </tr>\n",
       "    <tr>\n",
       "      <th>25%</th>\n",
       "      <td>1.521815e+12</td>\n",
       "      <td>53.610050</td>\n",
       "      <td>10.137212</td>\n",
       "      <td>14.256000</td>\n",
       "      <td>69.145140</td>\n",
       "      <td>19.000000</td>\n",
       "      <td>1.231447e+14</td>\n",
       "      <td>1.231447e+14</td>\n",
       "      <td>1.231448e+14</td>\n",
       "      <td>1.000184e+07</td>\n",
       "      <td>1.231449e+14</td>\n",
       "      <td>1.521815e+12</td>\n",
       "    </tr>\n",
       "    <tr>\n",
       "      <th>50%</th>\n",
       "      <td>1.521815e+12</td>\n",
       "      <td>53.612152</td>\n",
       "      <td>10.140454</td>\n",
       "      <td>15.768001</td>\n",
       "      <td>71.069275</td>\n",
       "      <td>19.000000</td>\n",
       "      <td>1.232957e+14</td>\n",
       "      <td>1.232956e+14</td>\n",
       "      <td>1.232957e+14</td>\n",
       "      <td>2.000368e+07</td>\n",
       "      <td>1.232958e+14</td>\n",
       "      <td>1.521815e+12</td>\n",
       "    </tr>\n",
       "    <tr>\n",
       "      <th>75%</th>\n",
       "      <td>1.521815e+12</td>\n",
       "      <td>53.613777</td>\n",
       "      <td>10.145028</td>\n",
       "      <td>17.208002</td>\n",
       "      <td>72.942380</td>\n",
       "      <td>20.000000</td>\n",
       "      <td>1.234378e+14</td>\n",
       "      <td>1.234377e+14</td>\n",
       "      <td>1.234378e+14</td>\n",
       "      <td>2.000368e+07</td>\n",
       "      <td>1.234379e+14</td>\n",
       "      <td>1.521815e+12</td>\n",
       "    </tr>\n",
       "    <tr>\n",
       "      <th>max</th>\n",
       "      <td>1.521815e+12</td>\n",
       "      <td>53.613907</td>\n",
       "      <td>10.149695</td>\n",
       "      <td>20.268002</td>\n",
       "      <td>77.023680</td>\n",
       "      <td>22.000000</td>\n",
       "      <td>1.235899e+14</td>\n",
       "      <td>1.235898e+14</td>\n",
       "      <td>1.235899e+14</td>\n",
       "      <td>2.999632e+07</td>\n",
       "      <td>1.235900e+14</td>\n",
       "      <td>1.521815e+12</td>\n",
       "    </tr>\n",
       "  </tbody>\n",
       "</table>\n",
       "</div>"
      ],
      "text/plain": [
       "       Zeitstempel in Unixzeit  Breitengrad  Laengengrad  \\\n",
       "count             1.935000e+03  1935.000000  1935.000000   \n",
       "mean              1.521815e+12    53.611756    10.141385   \n",
       "std               1.711999e+05     0.001963     0.004292   \n",
       "min               1.521815e+12    53.608086    10.136243   \n",
       "25%               1.521815e+12    53.610050    10.137212   \n",
       "50%               1.521815e+12    53.612152    10.140454   \n",
       "75%               1.521815e+12    53.613777    10.145028   \n",
       "max               1.521815e+12    53.613907    10.149695   \n",
       "\n",
       "       Geschwindigkeit in km/h  Hoehe in m ueber WGS 84  Anzahl der Messwerte  \\\n",
       "count              1935.000000              1935.000000           1935.000000   \n",
       "mean                 15.431479                70.983613             19.335401   \n",
       "std                   2.578698                 2.540434              0.574053   \n",
       "min                   6.012000                64.299440             14.000000   \n",
       "25%                  14.256000                69.145140             19.000000   \n",
       "50%                  15.768001                71.069275             19.000000   \n",
       "75%                  17.208002                72.942380             20.000000   \n",
       "max                  20.268002                77.023680             22.000000   \n",
       "\n",
       "       Start des Zeitfensters in ns seit Start der JVM  \\\n",
       "count                                     1.935000e+03   \n",
       "mean                                      1.232928e+14   \n",
       "std                                       1.712002e+11   \n",
       "min                                       1.229923e+14   \n",
       "25%                                       1.231447e+14   \n",
       "50%                                       1.232957e+14   \n",
       "75%                                       1.234378e+14   \n",
       "max                                       1.235899e+14   \n",
       "\n",
       "       Start der Messwerterfassung in ns seit Start der JVM  \\\n",
       "count                                       1.935000e+03      \n",
       "mean                                        1.232927e+14      \n",
       "std                                         1.712002e+11      \n",
       "min                                         1.229923e+14      \n",
       "25%                                         1.231447e+14      \n",
       "50%                                         1.232956e+14      \n",
       "75%                                         1.234377e+14      \n",
       "max                                         1.235898e+14      \n",
       "\n",
       "       Start der Belichtung in ns seit Start der JVM  Belichtungszeit in ns  \\\n",
       "count                                   1.935000e+03           1.935000e+03   \n",
       "mean                                    1.232928e+14           1.717044e+07   \n",
       "std                                     1.712005e+11           5.915285e+06   \n",
       "min                                     1.229924e+14           1.000184e+07   \n",
       "25%                                     1.231448e+14           1.000184e+07   \n",
       "50%                                     1.232957e+14           2.000368e+07   \n",
       "75%                                     1.234378e+14           2.000368e+07   \n",
       "max                                     1.235899e+14           2.999632e+07   \n",
       "\n",
       "       Letzter Zeitstempel der Messwerterfassung in ns seit Start der JVM  \\\n",
       "count                                       1.935000e+03                    \n",
       "mean                                        1.232930e+14                    \n",
       "std                                         1.711998e+11                    \n",
       "min                                         1.229925e+14                    \n",
       "25%                                         1.231449e+14                    \n",
       "50%                                         1.232958e+14                    \n",
       "75%                                         1.234379e+14                    \n",
       "max                                         1.235900e+14                    \n",
       "\n",
       "       Stopp der Messwerterfassung in Unixzeit  \n",
       "count                             1.935000e+03  \n",
       "mean                              1.521815e+12  \n",
       "std                               1.711998e+05  \n",
       "min                               1.521815e+12  \n",
       "25%                               1.521815e+12  \n",
       "50%                               1.521815e+12  \n",
       "75%                               1.521815e+12  \n",
       "max                               1.521815e+12  "
      ]
     },
     "execution_count": 2,
     "metadata": {},
     "output_type": "execute_result"
    }
   ],
   "source": [
    "featuresDf = pandas.read_csv(\"../daten/merkmaleRoh.csv\")\n",
    "featuresDf.describe()"
   ]
  },
  {
   "cell_type": "code",
   "execution_count": 3,
   "metadata": {},
   "outputs": [
    {
     "name": "stdout",
     "output_type": "stream",
     "text": [
      "<class 'pandas.core.frame.DataFrame'>\n",
      "RangeIndex: 1935 entries, 0 to 1934\n",
      "Data columns (total 19 columns):\n",
      "Zeitstempel in Unixzeit                                               1935 non-null int64\n",
      "Breitengrad                                                           1935 non-null float64\n",
      "Laengengrad                                                           1935 non-null float64\n",
      "Geschwindigkeit in km/h                                               1935 non-null float64\n",
      "Hoehe in m ueber WGS 84                                               1935 non-null float64\n",
      "X-Achse Beschleunigungswerte in m/s^2                                 1935 non-null object\n",
      "Y-Achse Beschleunigungswerte in m/s^2                                 1935 non-null object\n",
      "Z-Achse Beschleunigungswerte in m/s^2                                 1935 non-null object\n",
      "Gier Messwerte in rad                                                 1935 non-null object\n",
      "Nick Messwerte in rad                                                 1935 non-null object\n",
      "Roll Messwerte in rad                                                 1935 non-null object\n",
      "Zeitstempel der Messwerte in ns                                       1935 non-null object\n",
      "Anzahl der Messwerte                                                  1935 non-null int64\n",
      "Start des Zeitfensters in ns seit Start der JVM                       1935 non-null int64\n",
      "Start der Messwerterfassung in ns seit Start der JVM                  1935 non-null int64\n",
      "Start der Belichtung in ns seit Start der JVM                         1935 non-null int64\n",
      "Belichtungszeit in ns                                                 1935 non-null int64\n",
      "Letzter Zeitstempel der Messwerterfassung in ns seit Start der JVM    1935 non-null int64\n",
      "Stopp der Messwerterfassung in Unixzeit                               1935 non-null int64\n",
      "dtypes: float64(4), int64(8), object(7)\n",
      "memory usage: 287.3+ KB\n"
     ]
    }
   ],
   "source": [
    "featuresDf.info()"
   ]
  },
  {
   "cell_type": "code",
   "execution_count": 4,
   "metadata": {},
   "outputs": [
    {
     "data": {
      "text/plain": [
       "0    -0.10847 -0.42383 0.22795 -0.24662 0.32374 0.6...\n",
       "1    -0.14057 -0.58741 -0.46987 -0.32986 -0.11061 -...\n",
       "2    -0.52854 -0.101 -1.53641 -0.6468 0.402 -0.5517...\n",
       "3    1.51295 0.56685 0.26967 1.44163 1.41385 -0.140...\n",
       "4    2.09385 2.38 0.44838 0.20553 1.75806 -0.24836 ...\n",
       "Name: X-Achse Beschleunigungswerte in m/s^2, dtype: object"
      ]
     },
     "execution_count": 4,
     "metadata": {},
     "output_type": "execute_result"
    }
   ],
   "source": [
    "# Zeigt die ersten 5 Reihen Beschleunigungssensordaten der X-Achse \n",
    "featuresDf['X-Achse Beschleunigungswerte in m/s^2'].head()"
   ]
  },
  {
   "cell_type": "markdown",
   "metadata": {},
   "source": [
    "Die folgenden Spalten des Datenframes haben als Type ein Python object.   \n",
    "X-Achse Beschleunigungswerte in m/s^2   \n",
    "Y-Achse Beschleunigungswerte in m/s^2   \n",
    "Z-Achse Beschleunigungswerte in m/s^2   \n",
    "Gier Messwerte in rad    \n",
    "Nick Messwerte in rad          \n",
    "Roll Messwerte in rad                   \n",
    "Zeitstempel der Messwerte in ns               \n",
    "Implizit haben diese Spalten als Typ Strings. Aber in einem DataFrame werden Strings als    \n",
    "Python objects erkannt. Um den Datentyp auf float zu casten wird aus den Spalten zunächst ein Liste erstellt.    \n",
    "Welche dann wiederum als Numpy Array auf den Typ float konvertiert wird.   "
   ]
  },
  {
   "cell_type": "code",
   "execution_count": 5,
   "metadata": {},
   "outputs": [],
   "source": [
    "accXList = featuresDf['X-Achse Beschleunigungswerte in m/s^2'].str.split(\" \").tolist()"
   ]
  },
  {
   "cell_type": "code",
   "execution_count": 6,
   "metadata": {},
   "outputs": [
    {
     "data": {
      "text/plain": [
       "array([[list(['-0.10847', '-0.42383', '0.22795', '-0.24662', '0.32374', '0.65745', '1.23087', '1.03073', '0.71738', '0.2675', '0.13745', '0.32455', '0.33631', '0.02394', '-0.42516', '-0.432', '-0.20764', '0.14041', '0.08175'])],\n",
       "       [list(['-0.14057', '-0.58741', '-0.46987', '-0.32986', '-0.11061', '-0.08843', '-0.37714', '-1.03715', '-0.93692', '-0.27447', '-0.25015', '-1.10412', '-1.22034', '-1.0375', '-0.78397', '0.5221', '1.91939', '0.15651', '-0.48765'])],\n",
       "       [list(['-0.52854', '-0.101', '-1.53641', '-0.6468', '0.402', '-0.55176', '-0.85505', '-0.00978', '-0.23761', '-0.69568', '1.3129', '1.98509', '0.39294', '-0.69691', '0.14739', '-0.31107', '0.25686', '0.25152', '-0.13582'])],\n",
       "       ...,\n",
       "       [list(['0.26091', '-1.21625', '-0.16082', '1.09724', '0.63268', '0.19975', '0.3284', '0.12488', '0.19191', '0.12293', '0.28228', '0.28718', '0.56691', '0.11648', '0.0626', '0.14207', '0.08308', '0.03587', '0.42716'])],\n",
       "       [list(['0.13186', '0.33538', '-0.09938', '-0.29396', '-0.06655', '-0.17577', '-0.5083', '-0.34529', '-0.04634', '-0.31282', '-0.49536', '-0.68736', '-0.3966', '-0.05673', '-0.07598', '-0.22926', '-0.44385', '-0.41631', '-0.04185'])],\n",
       "       [list(['0.48042', '0.12391', '-0.45243', '-0.40786', '-0.23428', '0.50216', '0.44776', '-0.51515', '-0.67254', '-0.3541', '0.11518', '0.27608', '0.19027', '0.19825', '0.66431', '0.36297', '0.09123', '0.50208', '0.06463'])]],\n",
       "      dtype=object)"
      ]
     },
     "execution_count": 6,
     "metadata": {},
     "output_type": "execute_result"
    }
   ],
   "source": [
    "# Direkt mit dem Numpy Array ist es nicht möglich die Konvertierung durchzuführen, weil die Arrays von Typ object sind.   \n",
    "pandas.DataFrame(featuresDf['X-Achse Beschleunigungswerte in m/s^2'].str.split(\" \")).values"
   ]
  },
  {
   "cell_type": "code",
   "execution_count": 7,
   "metadata": {},
   "outputs": [
    {
     "data": {
      "text/plain": [
       "['-0.14057',\n",
       " '-0.58741',\n",
       " '-0.46987',\n",
       " '-0.32986',\n",
       " '-0.11061',\n",
       " '-0.08843',\n",
       " '-0.37714',\n",
       " '-1.03715',\n",
       " '-0.93692',\n",
       " '-0.27447',\n",
       " '-0.25015',\n",
       " '-1.10412',\n",
       " '-1.22034',\n",
       " '-1.0375',\n",
       " '-0.78397',\n",
       " '0.5221',\n",
       " '1.91939',\n",
       " '0.15651',\n",
       " '-0.48765']"
      ]
     },
     "execution_count": 7,
     "metadata": {},
     "output_type": "execute_result"
    }
   ],
   "source": [
    "accXList[1] # zeige Liste"
   ]
  },
  {
   "cell_type": "code",
   "execution_count": 8,
   "metadata": {},
   "outputs": [
    {
     "data": {
      "text/plain": [
       "dtype('<U8')"
      ]
     },
     "execution_count": 8,
     "metadata": {},
     "output_type": "execute_result"
    }
   ],
   "source": [
    "np.array(accXList[1]).dtype"
   ]
  },
  {
   "cell_type": "code",
   "execution_count": 9,
   "metadata": {},
   "outputs": [],
   "source": [
    "# Konvertiert die Python Objekte in der Liste zu den Type Float.\n",
    "# Das Ergebnis wird in einem Dataframe geschrieben\n",
    "accList = []\n",
    "accList.append(pandas.DataFrame(np.array(accXList[0]).astype(float)).transpose())\n",
    "for x in accXList[1:]:\n",
    "    accList.append(pandas.DataFrame(np.array(x).astype(float)).transpose())"
   ]
  },
  {
   "cell_type": "code",
   "execution_count": 10,
   "metadata": {},
   "outputs": [],
   "source": [
    "accXDf = pandas.concat(accList, ignore_index=True)"
   ]
  },
  {
   "cell_type": "code",
   "execution_count": 11,
   "metadata": {},
   "outputs": [
    {
     "data": {
      "text/html": [
       "<div>\n",
       "<style scoped>\n",
       "    .dataframe tbody tr th:only-of-type {\n",
       "        vertical-align: middle;\n",
       "    }\n",
       "\n",
       "    .dataframe tbody tr th {\n",
       "        vertical-align: top;\n",
       "    }\n",
       "\n",
       "    .dataframe thead th {\n",
       "        text-align: right;\n",
       "    }\n",
       "</style>\n",
       "<table border=\"1\" class=\"dataframe\">\n",
       "  <thead>\n",
       "    <tr style=\"text-align: right;\">\n",
       "      <th></th>\n",
       "      <th>0</th>\n",
       "      <th>1</th>\n",
       "      <th>2</th>\n",
       "      <th>3</th>\n",
       "      <th>4</th>\n",
       "      <th>5</th>\n",
       "      <th>6</th>\n",
       "      <th>7</th>\n",
       "      <th>8</th>\n",
       "      <th>9</th>\n",
       "      <th>...</th>\n",
       "      <th>12</th>\n",
       "      <th>13</th>\n",
       "      <th>14</th>\n",
       "      <th>15</th>\n",
       "      <th>16</th>\n",
       "      <th>17</th>\n",
       "      <th>18</th>\n",
       "      <th>19</th>\n",
       "      <th>20</th>\n",
       "      <th>21</th>\n",
       "    </tr>\n",
       "  </thead>\n",
       "  <tbody>\n",
       "    <tr>\n",
       "      <th>0</th>\n",
       "      <td>-0.10847</td>\n",
       "      <td>-0.42383</td>\n",
       "      <td>0.22795</td>\n",
       "      <td>-0.24662</td>\n",
       "      <td>0.32374</td>\n",
       "      <td>0.65745</td>\n",
       "      <td>1.23087</td>\n",
       "      <td>1.03073</td>\n",
       "      <td>0.71738</td>\n",
       "      <td>0.26750</td>\n",
       "      <td>...</td>\n",
       "      <td>0.33631</td>\n",
       "      <td>0.02394</td>\n",
       "      <td>-0.42516</td>\n",
       "      <td>-0.43200</td>\n",
       "      <td>-0.20764</td>\n",
       "      <td>0.14041</td>\n",
       "      <td>0.08175</td>\n",
       "      <td>NaN</td>\n",
       "      <td>NaN</td>\n",
       "      <td>NaN</td>\n",
       "    </tr>\n",
       "    <tr>\n",
       "      <th>1</th>\n",
       "      <td>-0.14057</td>\n",
       "      <td>-0.58741</td>\n",
       "      <td>-0.46987</td>\n",
       "      <td>-0.32986</td>\n",
       "      <td>-0.11061</td>\n",
       "      <td>-0.08843</td>\n",
       "      <td>-0.37714</td>\n",
       "      <td>-1.03715</td>\n",
       "      <td>-0.93692</td>\n",
       "      <td>-0.27447</td>\n",
       "      <td>...</td>\n",
       "      <td>-1.22034</td>\n",
       "      <td>-1.03750</td>\n",
       "      <td>-0.78397</td>\n",
       "      <td>0.52210</td>\n",
       "      <td>1.91939</td>\n",
       "      <td>0.15651</td>\n",
       "      <td>-0.48765</td>\n",
       "      <td>NaN</td>\n",
       "      <td>NaN</td>\n",
       "      <td>NaN</td>\n",
       "    </tr>\n",
       "    <tr>\n",
       "      <th>2</th>\n",
       "      <td>-0.52854</td>\n",
       "      <td>-0.10100</td>\n",
       "      <td>-1.53641</td>\n",
       "      <td>-0.64680</td>\n",
       "      <td>0.40200</td>\n",
       "      <td>-0.55176</td>\n",
       "      <td>-0.85505</td>\n",
       "      <td>-0.00978</td>\n",
       "      <td>-0.23761</td>\n",
       "      <td>-0.69568</td>\n",
       "      <td>...</td>\n",
       "      <td>0.39294</td>\n",
       "      <td>-0.69691</td>\n",
       "      <td>0.14739</td>\n",
       "      <td>-0.31107</td>\n",
       "      <td>0.25686</td>\n",
       "      <td>0.25152</td>\n",
       "      <td>-0.13582</td>\n",
       "      <td>NaN</td>\n",
       "      <td>NaN</td>\n",
       "      <td>NaN</td>\n",
       "    </tr>\n",
       "    <tr>\n",
       "      <th>3</th>\n",
       "      <td>1.51295</td>\n",
       "      <td>0.56685</td>\n",
       "      <td>0.26967</td>\n",
       "      <td>1.44163</td>\n",
       "      <td>1.41385</td>\n",
       "      <td>-0.14065</td>\n",
       "      <td>-0.28102</td>\n",
       "      <td>0.66397</td>\n",
       "      <td>0.19414</td>\n",
       "      <td>0.00213</td>\n",
       "      <td>...</td>\n",
       "      <td>-1.00578</td>\n",
       "      <td>-0.88118</td>\n",
       "      <td>-0.56698</td>\n",
       "      <td>-0.16238</td>\n",
       "      <td>-0.35969</td>\n",
       "      <td>0.55507</td>\n",
       "      <td>1.85382</td>\n",
       "      <td>NaN</td>\n",
       "      <td>NaN</td>\n",
       "      <td>NaN</td>\n",
       "    </tr>\n",
       "    <tr>\n",
       "      <th>4</th>\n",
       "      <td>2.09385</td>\n",
       "      <td>2.38000</td>\n",
       "      <td>0.44838</td>\n",
       "      <td>0.20553</td>\n",
       "      <td>1.75806</td>\n",
       "      <td>-0.24836</td>\n",
       "      <td>1.57883</td>\n",
       "      <td>2.50428</td>\n",
       "      <td>5.57371</td>\n",
       "      <td>5.40905</td>\n",
       "      <td>...</td>\n",
       "      <td>-4.09078</td>\n",
       "      <td>-6.10730</td>\n",
       "      <td>-4.60997</td>\n",
       "      <td>-1.00641</td>\n",
       "      <td>-0.63652</td>\n",
       "      <td>-2.56242</td>\n",
       "      <td>-0.70146</td>\n",
       "      <td>NaN</td>\n",
       "      <td>NaN</td>\n",
       "      <td>NaN</td>\n",
       "    </tr>\n",
       "  </tbody>\n",
       "</table>\n",
       "<p>5 rows × 22 columns</p>\n",
       "</div>"
      ],
      "text/plain": [
       "        0        1        2        3        4        5        6        7   \\\n",
       "0 -0.10847 -0.42383  0.22795 -0.24662  0.32374  0.65745  1.23087  1.03073   \n",
       "1 -0.14057 -0.58741 -0.46987 -0.32986 -0.11061 -0.08843 -0.37714 -1.03715   \n",
       "2 -0.52854 -0.10100 -1.53641 -0.64680  0.40200 -0.55176 -0.85505 -0.00978   \n",
       "3  1.51295  0.56685  0.26967  1.44163  1.41385 -0.14065 -0.28102  0.66397   \n",
       "4  2.09385  2.38000  0.44838  0.20553  1.75806 -0.24836  1.57883  2.50428   \n",
       "\n",
       "        8        9  ...       12       13       14       15       16       17  \\\n",
       "0  0.71738  0.26750 ...  0.33631  0.02394 -0.42516 -0.43200 -0.20764  0.14041   \n",
       "1 -0.93692 -0.27447 ... -1.22034 -1.03750 -0.78397  0.52210  1.91939  0.15651   \n",
       "2 -0.23761 -0.69568 ...  0.39294 -0.69691  0.14739 -0.31107  0.25686  0.25152   \n",
       "3  0.19414  0.00213 ... -1.00578 -0.88118 -0.56698 -0.16238 -0.35969  0.55507   \n",
       "4  5.57371  5.40905 ... -4.09078 -6.10730 -4.60997 -1.00641 -0.63652 -2.56242   \n",
       "\n",
       "        18  19  20  21  \n",
       "0  0.08175 NaN NaN NaN  \n",
       "1 -0.48765 NaN NaN NaN  \n",
       "2 -0.13582 NaN NaN NaN  \n",
       "3  1.85382 NaN NaN NaN  \n",
       "4 -0.70146 NaN NaN NaN  \n",
       "\n",
       "[5 rows x 22 columns]"
      ]
     },
     "execution_count": 11,
     "metadata": {},
     "output_type": "execute_result"
    }
   ],
   "source": [
    "accXDf.head()"
   ]
  },
  {
   "cell_type": "code",
   "execution_count": 12,
   "metadata": {},
   "outputs": [
    {
     "data": {
      "text/plain": [
       "0     0.386513\n",
       "1     0.622851\n",
       "2     0.581849\n",
       "3     0.653394\n",
       "4     2.425357\n",
       "5     0.712010\n",
       "6     0.387993\n",
       "7     0.616517\n",
       "8     0.367582\n",
       "9     0.317555\n",
       "10    0.676903\n",
       "11    0.280649\n",
       "12    0.259970\n",
       "13    0.363707\n",
       "14    0.362819\n",
       "15    0.358905\n",
       "16    0.333961\n",
       "17    0.451120\n",
       "18    0.416946\n",
       "19    0.526957\n",
       "dtype: float64"
      ]
     },
     "execution_count": 12,
     "metadata": {},
     "output_type": "execute_result"
    }
   ],
   "source": [
    "# Um mehr Spalten eines Panda DataFrames auszugeben\n",
    "pandas.set_option('display.max_columns', 40)\n",
    "accXDf.abs().T.mean().head(20)"
   ]
  },
  {
   "cell_type": "code",
   "execution_count": 13,
   "metadata": {},
   "outputs": [
    {
     "data": {
      "text/plain": [
       "(1935, 22)"
      ]
     },
     "execution_count": 13,
     "metadata": {},
     "output_type": "execute_result"
    }
   ],
   "source": [
    "accXDf.shape"
   ]
  },
  {
   "cell_type": "code",
   "execution_count": 14,
   "metadata": {},
   "outputs": [
    {
     "data": {
      "text/plain": [
       "Series([], Name: Anzahl der Messwerte, dtype: int64)"
      ]
     },
     "execution_count": 14,
     "metadata": {},
     "output_type": "execute_result"
    }
   ],
   "source": [
    "# Die Anzahl der Messerte muss immer gleich sein, ansonsten werden fehlende Messwerte\n",
    "# mit NaN gefüllt.\n",
    "featuresDf['Anzahl der Messwerte'][featuresDf['Anzahl der Messwerte'] > 22]"
   ]
  },
  {
   "cell_type": "code",
   "execution_count": 15,
   "metadata": {},
   "outputs": [
    {
     "data": {
      "text/html": [
       "<div>\n",
       "<style scoped>\n",
       "    .dataframe tbody tr th:only-of-type {\n",
       "        vertical-align: middle;\n",
       "    }\n",
       "\n",
       "    .dataframe tbody tr th {\n",
       "        vertical-align: top;\n",
       "    }\n",
       "\n",
       "    .dataframe thead th {\n",
       "        text-align: right;\n",
       "    }\n",
       "</style>\n",
       "<table border=\"1\" class=\"dataframe\">\n",
       "  <thead>\n",
       "    <tr style=\"text-align: right;\">\n",
       "      <th></th>\n",
       "      <th>Zeitstempel in Unixzeit</th>\n",
       "      <th>Breitengrad</th>\n",
       "      <th>Laengengrad</th>\n",
       "      <th>Geschwindigkeit in km/h</th>\n",
       "      <th>Hoehe in m ueber WGS 84</th>\n",
       "      <th>X-Achse Beschleunigungswerte in m/s^2</th>\n",
       "      <th>Y-Achse Beschleunigungswerte in m/s^2</th>\n",
       "      <th>Z-Achse Beschleunigungswerte in m/s^2</th>\n",
       "      <th>Gier Messwerte in rad</th>\n",
       "      <th>Nick Messwerte in rad</th>\n",
       "      <th>Roll Messwerte in rad</th>\n",
       "      <th>Zeitstempel der Messwerte in ns</th>\n",
       "      <th>Anzahl der Messwerte</th>\n",
       "      <th>Start des Zeitfensters in ns seit Start der JVM</th>\n",
       "      <th>Start der Messwerterfassung in ns seit Start der JVM</th>\n",
       "      <th>Start der Belichtung in ns seit Start der JVM</th>\n",
       "      <th>Belichtungszeit in ns</th>\n",
       "      <th>Letzter Zeitstempel der Messwerterfassung in ns seit Start der JVM</th>\n",
       "      <th>Stopp der Messwerterfassung in Unixzeit</th>\n",
       "    </tr>\n",
       "  </thead>\n",
       "  <tbody>\n",
       "  </tbody>\n",
       "</table>\n",
       "</div>"
      ],
      "text/plain": [
       "Empty DataFrame\n",
       "Columns: [Zeitstempel in Unixzeit, Breitengrad, Laengengrad, Geschwindigkeit in km/h, Hoehe in m ueber WGS 84, X-Achse Beschleunigungswerte in m/s^2, Y-Achse Beschleunigungswerte in m/s^2, Z-Achse Beschleunigungswerte in m/s^2, Gier Messwerte in rad, Nick Messwerte in rad, Roll Messwerte in rad, Zeitstempel der Messwerte in ns, Anzahl der Messwerte, Start des Zeitfensters in ns seit Start der JVM, Start der Messwerterfassung in ns seit Start der JVM, Start der Belichtung in ns seit Start der JVM, Belichtungszeit in ns, Letzter Zeitstempel der Messwerterfassung in ns seit Start der JVM, Stopp der Messwerterfassung in Unixzeit]\n",
       "Index: []"
      ]
     },
     "execution_count": 15,
     "metadata": {},
     "output_type": "execute_result"
    }
   ],
   "source": [
    "# ausführen wenn alle Daten die gleiche Ahnzahl an Messwerten haben sollen. \n",
    "# Dadurch werden Reihen gelöscht!\n",
    "unwantedRows = featuresDf['Anzahl der Messwerte'][featuresDf['Anzahl der Messwerte'] != 20]\n",
    "featuresDf.drop(featuresDf.index, axis=0)"
   ]
  },
  {
   "cell_type": "code",
   "execution_count": 16,
   "metadata": {},
   "outputs": [],
   "source": [
    "accYList = featuresDf['Y-Achse Beschleunigungswerte in m/s^2'].str.split(\" \").tolist()\n",
    "accList = []\n",
    "accList.append(pandas.DataFrame(np.array(accYList[0]).astype(float)).transpose())\n",
    "for x in accYList[1:]:\n",
    "    accList.append(pandas.DataFrame(np.array(x).astype(float)).transpose())\n",
    "accYDf = pandas.concat(accList, ignore_index=True)"
   ]
  },
  {
   "cell_type": "code",
   "execution_count": 17,
   "metadata": {},
   "outputs": [
    {
     "name": "stdout",
     "output_type": "stream",
     "text": [
      "<class 'pandas.core.frame.DataFrame'>\n",
      "RangeIndex: 1935 entries, 0 to 1934\n",
      "Data columns (total 22 columns):\n",
      "0     1935 non-null float64\n",
      "1     1935 non-null float64\n",
      "2     1935 non-null float64\n",
      "3     1935 non-null float64\n",
      "4     1935 non-null float64\n",
      "5     1935 non-null float64\n",
      "6     1935 non-null float64\n",
      "7     1935 non-null float64\n",
      "8     1935 non-null float64\n",
      "9     1935 non-null float64\n",
      "10    1935 non-null float64\n",
      "11    1935 non-null float64\n",
      "12    1935 non-null float64\n",
      "13    1935 non-null float64\n",
      "14    1934 non-null float64\n",
      "15    1934 non-null float64\n",
      "16    1934 non-null float64\n",
      "17    1932 non-null float64\n",
      "18    1880 non-null float64\n",
      "19    681 non-null float64\n",
      "20    28 non-null float64\n",
      "21    1 non-null float64\n",
      "dtypes: float64(22)\n",
      "memory usage: 332.7 KB\n"
     ]
    }
   ],
   "source": [
    "accYDf.info()"
   ]
  },
  {
   "cell_type": "code",
   "execution_count": 18,
   "metadata": {},
   "outputs": [
    {
     "data": {
      "text/html": [
       "<div>\n",
       "<style scoped>\n",
       "    .dataframe tbody tr th:only-of-type {\n",
       "        vertical-align: middle;\n",
       "    }\n",
       "\n",
       "    .dataframe tbody tr th {\n",
       "        vertical-align: top;\n",
       "    }\n",
       "\n",
       "    .dataframe thead th {\n",
       "        text-align: right;\n",
       "    }\n",
       "</style>\n",
       "<table border=\"1\" class=\"dataframe\">\n",
       "  <thead>\n",
       "    <tr style=\"text-align: right;\">\n",
       "      <th></th>\n",
       "      <th>0</th>\n",
       "      <th>1</th>\n",
       "      <th>2</th>\n",
       "      <th>3</th>\n",
       "      <th>4</th>\n",
       "      <th>5</th>\n",
       "      <th>6</th>\n",
       "      <th>7</th>\n",
       "      <th>8</th>\n",
       "      <th>9</th>\n",
       "      <th>10</th>\n",
       "      <th>11</th>\n",
       "      <th>12</th>\n",
       "      <th>13</th>\n",
       "      <th>14</th>\n",
       "      <th>15</th>\n",
       "      <th>16</th>\n",
       "      <th>17</th>\n",
       "      <th>18</th>\n",
       "      <th>19</th>\n",
       "      <th>20</th>\n",
       "      <th>21</th>\n",
       "    </tr>\n",
       "  </thead>\n",
       "  <tbody>\n",
       "    <tr>\n",
       "      <th>0</th>\n",
       "      <td>-1.39422</td>\n",
       "      <td>-1.39126</td>\n",
       "      <td>-1.23567</td>\n",
       "      <td>-1.08055</td>\n",
       "      <td>-1.07903</td>\n",
       "      <td>-0.17378</td>\n",
       "      <td>1.07141</td>\n",
       "      <td>0.81108</td>\n",
       "      <td>-0.14800</td>\n",
       "      <td>0.60170</td>\n",
       "      <td>0.78774</td>\n",
       "      <td>0.38495</td>\n",
       "      <td>-0.87199</td>\n",
       "      <td>-0.75896</td>\n",
       "      <td>-0.37740</td>\n",
       "      <td>-0.86894</td>\n",
       "      <td>-0.64926</td>\n",
       "      <td>-0.24368</td>\n",
       "      <td>0.14209</td>\n",
       "      <td>NaN</td>\n",
       "      <td>NaN</td>\n",
       "      <td>NaN</td>\n",
       "    </tr>\n",
       "    <tr>\n",
       "      <th>1</th>\n",
       "      <td>0.46738</td>\n",
       "      <td>0.20528</td>\n",
       "      <td>0.04156</td>\n",
       "      <td>-0.16602</td>\n",
       "      <td>0.48002</td>\n",
       "      <td>0.85894</td>\n",
       "      <td>0.88628</td>\n",
       "      <td>0.93878</td>\n",
       "      <td>-0.76601</td>\n",
       "      <td>-2.16050</td>\n",
       "      <td>-2.60188</td>\n",
       "      <td>-1.14689</td>\n",
       "      <td>0.84455</td>\n",
       "      <td>1.82478</td>\n",
       "      <td>2.62429</td>\n",
       "      <td>2.83485</td>\n",
       "      <td>-0.19918</td>\n",
       "      <td>-2.33527</td>\n",
       "      <td>-2.34331</td>\n",
       "      <td>NaN</td>\n",
       "      <td>NaN</td>\n",
       "      <td>NaN</td>\n",
       "    </tr>\n",
       "    <tr>\n",
       "      <th>2</th>\n",
       "      <td>0.16166</td>\n",
       "      <td>2.51962</td>\n",
       "      <td>1.80110</td>\n",
       "      <td>-1.33264</td>\n",
       "      <td>-3.02752</td>\n",
       "      <td>0.13683</td>\n",
       "      <td>1.56506</td>\n",
       "      <td>-0.81662</td>\n",
       "      <td>0.86360</td>\n",
       "      <td>2.56020</td>\n",
       "      <td>3.30455</td>\n",
       "      <td>1.64758</td>\n",
       "      <td>-0.55141</td>\n",
       "      <td>-0.77830</td>\n",
       "      <td>-0.23965</td>\n",
       "      <td>0.11466</td>\n",
       "      <td>-1.47129</td>\n",
       "      <td>-0.45693</td>\n",
       "      <td>1.59571</td>\n",
       "      <td>NaN</td>\n",
       "      <td>NaN</td>\n",
       "      <td>NaN</td>\n",
       "    </tr>\n",
       "    <tr>\n",
       "      <th>3</th>\n",
       "      <td>-0.09097</td>\n",
       "      <td>0.54007</td>\n",
       "      <td>-0.27287</td>\n",
       "      <td>-1.03050</td>\n",
       "      <td>0.07958</td>\n",
       "      <td>1.22813</td>\n",
       "      <td>1.42680</td>\n",
       "      <td>1.23329</td>\n",
       "      <td>1.27769</td>\n",
       "      <td>1.09869</td>\n",
       "      <td>-1.78731</td>\n",
       "      <td>-2.94688</td>\n",
       "      <td>-3.26164</td>\n",
       "      <td>-2.85455</td>\n",
       "      <td>0.03004</td>\n",
       "      <td>2.35303</td>\n",
       "      <td>6.01953</td>\n",
       "      <td>4.83087</td>\n",
       "      <td>-0.62499</td>\n",
       "      <td>NaN</td>\n",
       "      <td>NaN</td>\n",
       "      <td>NaN</td>\n",
       "    </tr>\n",
       "    <tr>\n",
       "      <th>4</th>\n",
       "      <td>-0.81612</td>\n",
       "      <td>-0.30054</td>\n",
       "      <td>0.35709</td>\n",
       "      <td>-0.26603</td>\n",
       "      <td>2.17747</td>\n",
       "      <td>3.50403</td>\n",
       "      <td>8.70246</td>\n",
       "      <td>12.83056</td>\n",
       "      <td>6.14251</td>\n",
       "      <td>0.54691</td>\n",
       "      <td>2.24555</td>\n",
       "      <td>-0.56336</td>\n",
       "      <td>-4.84844</td>\n",
       "      <td>-2.39250</td>\n",
       "      <td>0.55290</td>\n",
       "      <td>-2.82153</td>\n",
       "      <td>-4.69364</td>\n",
       "      <td>-5.74697</td>\n",
       "      <td>-5.65493</td>\n",
       "      <td>NaN</td>\n",
       "      <td>NaN</td>\n",
       "      <td>NaN</td>\n",
       "    </tr>\n",
       "  </tbody>\n",
       "</table>\n",
       "</div>"
      ],
      "text/plain": [
       "        0        1        2        3        4        5        6         7   \\\n",
       "0 -1.39422 -1.39126 -1.23567 -1.08055 -1.07903 -0.17378  1.07141   0.81108   \n",
       "1  0.46738  0.20528  0.04156 -0.16602  0.48002  0.85894  0.88628   0.93878   \n",
       "2  0.16166  2.51962  1.80110 -1.33264 -3.02752  0.13683  1.56506  -0.81662   \n",
       "3 -0.09097  0.54007 -0.27287 -1.03050  0.07958  1.22813  1.42680   1.23329   \n",
       "4 -0.81612 -0.30054  0.35709 -0.26603  2.17747  3.50403  8.70246  12.83056   \n",
       "\n",
       "        8        9        10       11       12       13       14       15  \\\n",
       "0 -0.14800  0.60170  0.78774  0.38495 -0.87199 -0.75896 -0.37740 -0.86894   \n",
       "1 -0.76601 -2.16050 -2.60188 -1.14689  0.84455  1.82478  2.62429  2.83485   \n",
       "2  0.86360  2.56020  3.30455  1.64758 -0.55141 -0.77830 -0.23965  0.11466   \n",
       "3  1.27769  1.09869 -1.78731 -2.94688 -3.26164 -2.85455  0.03004  2.35303   \n",
       "4  6.14251  0.54691  2.24555 -0.56336 -4.84844 -2.39250  0.55290 -2.82153   \n",
       "\n",
       "        16       17       18  19  20  21  \n",
       "0 -0.64926 -0.24368  0.14209 NaN NaN NaN  \n",
       "1 -0.19918 -2.33527 -2.34331 NaN NaN NaN  \n",
       "2 -1.47129 -0.45693  1.59571 NaN NaN NaN  \n",
       "3  6.01953  4.83087 -0.62499 NaN NaN NaN  \n",
       "4 -4.69364 -5.74697 -5.65493 NaN NaN NaN  "
      ]
     },
     "execution_count": 18,
     "metadata": {},
     "output_type": "execute_result"
    }
   ],
   "source": [
    "accYDf.head()"
   ]
  },
  {
   "cell_type": "code",
   "execution_count": 19,
   "metadata": {},
   "outputs": [],
   "source": [
    "# Konvertiere Beschleunigungssensordaten Z-Achse zu einem DataFrame\n",
    "measuredDataList = featuresDf['Z-Achse Beschleunigungswerte in m/s^2'].str.split(\" \").tolist()\n",
    "accList = []\n",
    "accList.append(pandas.DataFrame(np.array(measuredDataList[0]).astype(float)).transpose())\n",
    "for x in measuredDataList[1:]:\n",
    "    accList.append(pandas.DataFrame(np.array(x).astype(float)).transpose())\n",
    "accZDf = pandas.concat(accList, ignore_index=True)"
   ]
  },
  {
   "cell_type": "code",
   "execution_count": 20,
   "metadata": {},
   "outputs": [],
   "source": [
    "# Konvertiere Nick Messwerte zu DataFrame\n",
    "measuredDataList = featuresDf['Nick Messwerte in rad'].str.split(\" \").tolist()\n",
    "pitchList = []\n",
    "pitchList.append(pandas.DataFrame(np.array(measuredDataList[0]).astype(float)).transpose())\n",
    "for x in measuredDataList[1:]:\n",
    "    pitchList.append(pandas.DataFrame(np.array(x).astype(float)).transpose())\n",
    "nickDf = pandas.concat(pitchList, ignore_index=True)"
   ]
  },
  {
   "cell_type": "code",
   "execution_count": 21,
   "metadata": {},
   "outputs": [],
   "source": [
    "# Konvertiere Roll Messwerte zu DataFrame\n",
    "measuredDataList = featuresDf['Roll Messwerte in rad'].str.split(\" \").tolist()\n",
    "rollList = []\n",
    "rollList.append(pandas.DataFrame(np.array(measuredDataList[0]).astype(float)).transpose())\n",
    "for x in measuredDataList[1:]:\n",
    "    rollList.append(pandas.DataFrame(np.array(x).astype(float)).transpose())\n",
    "rollDf = pandas.concat(rollList, ignore_index=True)"
   ]
  },
  {
   "cell_type": "code",
   "execution_count": 22,
   "metadata": {},
   "outputs": [],
   "source": [
    "measuredDataList = featuresDf['Gier Messwerte in rad'].str.split(\" \").tolist()\n",
    "azimuthList = []\n",
    "azimuthList.append(pandas.DataFrame(np.array(measuredDataList[0]).astype(float)).transpose())\n",
    "for x in measuredDataList[1:]:\n",
    "    azimuthList.append(pandas.DataFrame(np.array(x).astype(float)).transpose())\n",
    "azimuthDf = pandas.concat(azimuthList, ignore_index=True)"
   ]
  },
  {
   "cell_type": "code",
   "execution_count": 23,
   "metadata": {},
   "outputs": [],
   "source": [
    "measuredDataList = featuresDf['Zeitstempel der Messwerte in ns'].str.split(\" \").tolist()\n",
    "timestampsList = []\n",
    "timestampsList.append(pandas.DataFrame(np.array(measuredDataList[0]).astype(float)).transpose())\n",
    "for x in measuredDataList[1:]:\n",
    "    timestampsList.append(pandas.DataFrame(np.array(x).astype(float)).transpose())\n",
    "sensorTimestampsDf = pandas.concat(timestampsList, ignore_index=True)"
   ]
  },
  {
   "cell_type": "code",
   "execution_count": 24,
   "metadata": {},
   "outputs": [
    {
     "data": {
      "text/plain": [
       "0    0.386513\n",
       "1    0.622851\n",
       "dtype: float64"
      ]
     },
     "execution_count": 24,
     "metadata": {},
     "output_type": "execute_result"
    }
   ],
   "source": [
    "accXMean = accXDf.abs().T.mean()\n",
    "accXMean.head(2)"
   ]
  },
  {
   "cell_type": "code",
   "execution_count": 25,
   "metadata": {},
   "outputs": [
    {
     "data": {
      "text/plain": [
       "0    0.740616\n",
       "1    1.248725\n",
       "2    1.312891\n",
       "3    1.736181\n",
       "4    3.429660\n",
       "dtype: float64"
      ]
     },
     "execution_count": 25,
     "metadata": {},
     "output_type": "execute_result"
    }
   ],
   "source": [
    "accYDf.abs().T.mean().head()"
   ]
  },
  {
   "cell_type": "code",
   "execution_count": 26,
   "metadata": {},
   "outputs": [],
   "source": [
    "# Neue Spalten werden erstellt und Mittelwerte zugewiesen\n",
    "featuresDf['Mittelwert X-Achse Beschleunigung in m/s^2'] = accXMean\n",
    "featuresDf['Mittelwert Y-Achse Beschleunigung in m/s^2'] = accYDf.abs().T.mean()\n",
    "featuresDf['Mittelwert Z-Achse Beschleunigung in m/s^2'] = accZDf.abs().T.mean()\n",
    "featuresDf['Mittelwert Nick in rad'] = nickDf.abs().T.mean()\n",
    "featuresDf['Mittelwert Roll in rad'] = rollDf.abs().T.mean()"
   ]
  },
  {
   "cell_type": "code",
   "execution_count": 27,
   "metadata": {},
   "outputs": [
    {
     "data": {
      "text/plain": [
       "0    0.386513\n",
       "1    0.622851\n",
       "Name: Mittelwert X-Achse Beschleunigung in m/s^2, dtype: float64"
      ]
     },
     "execution_count": 27,
     "metadata": {},
     "output_type": "execute_result"
    }
   ],
   "source": [
    "featuresDf['Mittelwert X-Achse Beschleunigung in m/s^2'].head(2)"
   ]
  },
  {
   "cell_type": "code",
   "execution_count": 28,
   "metadata": {
    "scrolled": true
   },
   "outputs": [
    {
     "data": {
      "text/plain": [
       "Index(['Zeitstempel in Unixzeit', 'Breitengrad', 'Laengengrad',\n",
       "       'Geschwindigkeit in km/h', 'Hoehe in m ueber WGS 84',\n",
       "       'X-Achse Beschleunigungswerte in m/s^2',\n",
       "       'Y-Achse Beschleunigungswerte in m/s^2',\n",
       "       'Z-Achse Beschleunigungswerte in m/s^2', 'Gier Messwerte in rad',\n",
       "       'Nick Messwerte in rad', 'Roll Messwerte in rad',\n",
       "       'Zeitstempel der Messwerte in ns', 'Anzahl der Messwerte',\n",
       "       'Start des Zeitfensters in ns seit Start der JVM',\n",
       "       'Start der Messwerterfassung in ns seit Start der JVM',\n",
       "       'Start der Belichtung in ns seit Start der JVM',\n",
       "       'Belichtungszeit in ns',\n",
       "       'Letzter Zeitstempel der Messwerterfassung in ns seit Start der JVM',\n",
       "       'Stopp der Messwerterfassung in Unixzeit',\n",
       "       'Mittelwert X-Achse Beschleunigung in m/s^2',\n",
       "       'Mittelwert Y-Achse Beschleunigung in m/s^2',\n",
       "       'Mittelwert Z-Achse Beschleunigung in m/s^2', 'Mittelwert Nick in rad',\n",
       "       'Mittelwert Roll in rad'],\n",
       "      dtype='object')"
      ]
     },
     "execution_count": 28,
     "metadata": {},
     "output_type": "execute_result"
    }
   ],
   "source": [
    "featuresDf.columns"
   ]
  },
  {
   "cell_type": "markdown",
   "metadata": {},
   "source": [
    "Berechnet die Varianz. Dieser Funktion muss als Paramter der Mittelwert (mean) und der DataFrame mit   \n",
    "den Float Werten übergeben werden, um die Varianz zu berechnen. Als Varianz wird der Durchschnitt der quadrierten  \n",
    "Differenzen zum Mittelwert bezeichnet.   \n",
    "Prec.:    \n",
    "Postc.: Gibt die berechnete Variance als Float zurück oder 0 wenn die Anzahl der Werte <= 0  "
   ]
  },
  {
   "cell_type": "code",
   "execution_count": 29,
   "metadata": {},
   "outputs": [],
   "source": [
    "def calcVariance(meansDf, dfValues):\n",
    "    variance = []\n",
    "    for i, values in dfValues.iterrows():\n",
    "        sum = 0\n",
    "        for value in values:\n",
    "            if math.isnan(value) == False:\n",
    "                tempDifference = value-meansDf[i]\n",
    "                sum += tempDifference * tempDifference\n",
    "        variance.append(\"{0:.5f}\".format(round(sum / values.count(),5)))\n",
    "    return np.array(variance).astype(float)"
   ]
  },
  {
   "cell_type": "markdown",
   "metadata": {},
   "source": [
    "Hier wird die Standardabweichung der Varianz berechnet. Dies ist die Wurzel der Varianz.   \n",
    "Für die Berechnung wird der Absolutwert von der Varianz genommen.    \n",
    "Prec.:\n",
    "Postc.:  Standardabweichung wird zurückgegeben."
   ]
  },
  {
   "cell_type": "code",
   "execution_count": 30,
   "metadata": {},
   "outputs": [],
   "source": [
    "def calculateStandardDeviation(varianceDf):\n",
    "    deviation = []\n",
    "    for v in varianceDf:\n",
    "        temp = math.sqrt(np.abs(v))\n",
    "        deviation.append(\"{0:.5f}\".format(round(temp,5)))\n",
    "    return np.array(deviation).astype(float)"
   ]
  },
  {
   "cell_type": "markdown",
   "metadata": {},
   "source": [
    "Die Funktion berechnet die Winkeldifferenz in rad zwischen den ersten gemessenen Gierwinkel und den letzten Gierwinkel   \n",
    "innerhalb einer als Argument übergebenen DataFrames. Der zurückgegebene Radiant    \n",
    "ist immer positiv und gibt die relative änderung in rad an.      \n",
    "Prec.:   \n",
    "Postc.: Radiant berechnet   "
   ]
  },
  {
   "cell_type": "code",
   "execution_count": 31,
   "metadata": {},
   "outputs": [],
   "source": [
    "def calculateAngelChangeAzimuth(azimuthDf):\n",
    "    result = []\n",
    "    for i,values in azimuthDf.iterrows():\n",
    "        first = values[0]*(180/math.pi)\n",
    "        last = values.iloc[values.count()-1]*(180/math.pi)\n",
    "        resultTemp = np.abs(first - last)\n",
    "        if(resultTemp > 180):\n",
    "            resultTemp = 360 - resultTemp\n",
    "        result.append(\"{0:.5f}\".format(round(resultTemp * ( math.pi / 180),5)))\n",
    "    return np.array(result).astype(float)"
   ]
  },
  {
   "cell_type": "code",
   "execution_count": 32,
   "metadata": {},
   "outputs": [],
   "source": [
    "featuresDf['GierAenderung in rad'] = calculateAngelChangeAzimuth(azimuthDf)"
   ]
  },
  {
   "cell_type": "code",
   "execution_count": 33,
   "metadata": {},
   "outputs": [],
   "source": [
    "# Berechnung der Varianzen und hinzufügen der Ergebnisse als neue Spalte in dem DataFrame \n",
    "featuresDf['Varianz X-Achse Beschleunigung in m/s^2'] = calcVariance(featuresDf['Mittelwert X-Achse Beschleunigung in m/s^2'],accXDf)\n",
    "featuresDf['Varianz Y-Achse Beschleunigung in m/s^2'] = calcVariance(featuresDf['Mittelwert Y-Achse Beschleunigung in m/s^2'],accYDf)\n",
    "featuresDf['Varianz Z-Achse Beschleunigung in m/s^2'] = calcVariance(featuresDf['Mittelwert Z-Achse Beschleunigung in m/s^2'],accZDf)\n",
    "featuresDf['Varianz Nick in rad'] = calcVariance(featuresDf['Mittelwert Nick in rad'],nickDf)\n",
    "featuresDf['Varianz Roll in rad'] = calcVariance(featuresDf['Mittelwert Roll in rad'],rollDf)"
   ]
  },
  {
   "cell_type": "code",
   "execution_count": 34,
   "metadata": {},
   "outputs": [
    {
     "data": {
      "text/plain": [
       "0     0.24693\n",
       "1     1.43192\n",
       "2     1.03273\n",
       "3     0.76280\n",
       "4    13.96020\n",
       "Name: Varianz X-Achse Beschleunigung in m/s^2, dtype: float64"
      ]
     },
     "execution_count": 34,
     "metadata": {},
     "output_type": "execute_result"
    }
   ],
   "source": [
    "featuresDf['Varianz X-Achse Beschleunigung in m/s^2'].head()"
   ]
  },
  {
   "cell_type": "code",
   "execution_count": 35,
   "metadata": {},
   "outputs": [
    {
     "data": {
      "text/plain": [
       "array([0.49692, 1.19663, 1.01623, ..., 0.44881, 0.54977, 0.47755])"
      ]
     },
     "execution_count": 35,
     "metadata": {},
     "output_type": "execute_result"
    }
   ],
   "source": [
    "calculateStandardDeviation(featuresDf['Varianz X-Achse Beschleunigung in m/s^2'])"
   ]
  },
  {
   "cell_type": "code",
   "execution_count": 36,
   "metadata": {},
   "outputs": [],
   "source": [
    "# Berechne Standardabweichung\n",
    "featuresDf['Standardabweichung X-Achse Beschleunigung in m/s^2'] = calculateStandardDeviation(featuresDf['Varianz X-Achse Beschleunigung in m/s^2'])\n",
    "featuresDf['Standardabweichung Y-Achse Beschleunigung in m/s^2'] = calculateStandardDeviation(featuresDf['Varianz Y-Achse Beschleunigung in m/s^2'])\n",
    "featuresDf['Standardabweichung Z-Achse Beschleunigung in m/s^2'] = calculateStandardDeviation(featuresDf['Varianz Z-Achse Beschleunigung in m/s^2'])\n",
    "featuresDf['Standardabweichung Nick in rad'] = calculateStandardDeviation(featuresDf['Varianz Nick in rad'])\n",
    "featuresDf['Standardabweichung Roll in rad'] = calculateStandardDeviation(featuresDf['Varianz Roll in rad'])"
   ]
  },
  {
   "cell_type": "code",
   "execution_count": 37,
   "metadata": {},
   "outputs": [
    {
     "data": {
      "text/plain": [
       "0    0.49692\n",
       "1    1.19663\n",
       "2    1.01623\n",
       "3    0.87338\n",
       "4    3.73634\n",
       "Name: Standardabweichung X-Achse Beschleunigung in m/s^2, dtype: float64"
      ]
     },
     "execution_count": 37,
     "metadata": {},
     "output_type": "execute_result"
    }
   ],
   "source": [
    "featuresDf['Standardabweichung X-Achse Beschleunigung in m/s^2'].head()"
   ]
  },
  {
   "cell_type": "code",
   "execution_count": 38,
   "metadata": {},
   "outputs": [
    {
     "name": "stdout",
     "output_type": "stream",
     "text": [
      "<class 'pandas.core.frame.DataFrame'>\n",
      "RangeIndex: 1935 entries, 0 to 1934\n",
      "Data columns (total 22 columns):\n",
      "0     1935 non-null float64\n",
      "1     1935 non-null float64\n",
      "2     1935 non-null float64\n",
      "3     1935 non-null float64\n",
      "4     1935 non-null float64\n",
      "5     1935 non-null float64\n",
      "6     1935 non-null float64\n",
      "7     1935 non-null float64\n",
      "8     1935 non-null float64\n",
      "9     1935 non-null float64\n",
      "10    1935 non-null float64\n",
      "11    1935 non-null float64\n",
      "12    1935 non-null float64\n",
      "13    1935 non-null float64\n",
      "14    1934 non-null float64\n",
      "15    1934 non-null float64\n",
      "16    1934 non-null float64\n",
      "17    1932 non-null float64\n",
      "18    1880 non-null float64\n",
      "19    681 non-null float64\n",
      "20    28 non-null float64\n",
      "21    1 non-null float64\n",
      "dtypes: float64(22)\n",
      "memory usage: 332.7 KB\n"
     ]
    }
   ],
   "source": [
    "accXDf.info()"
   ]
  },
  {
   "cell_type": "code",
   "execution_count": 39,
   "metadata": {},
   "outputs": [
    {
     "data": {
      "text/html": [
       "<div>\n",
       "<style scoped>\n",
       "    .dataframe tbody tr th:only-of-type {\n",
       "        vertical-align: middle;\n",
       "    }\n",
       "\n",
       "    .dataframe tbody tr th {\n",
       "        vertical-align: top;\n",
       "    }\n",
       "\n",
       "    .dataframe thead th {\n",
       "        text-align: right;\n",
       "    }\n",
       "</style>\n",
       "<table border=\"1\" class=\"dataframe\">\n",
       "  <thead>\n",
       "    <tr style=\"text-align: right;\">\n",
       "      <th></th>\n",
       "      <th>0</th>\n",
       "      <th>1</th>\n",
       "      <th>2</th>\n",
       "      <th>3</th>\n",
       "      <th>4</th>\n",
       "      <th>5</th>\n",
       "      <th>6</th>\n",
       "      <th>7</th>\n",
       "      <th>8</th>\n",
       "      <th>9</th>\n",
       "      <th>10</th>\n",
       "      <th>11</th>\n",
       "      <th>12</th>\n",
       "      <th>13</th>\n",
       "      <th>14</th>\n",
       "      <th>15</th>\n",
       "      <th>16</th>\n",
       "      <th>17</th>\n",
       "      <th>18</th>\n",
       "      <th>19</th>\n",
       "      <th>20</th>\n",
       "      <th>21</th>\n",
       "    </tr>\n",
       "  </thead>\n",
       "  <tbody>\n",
       "    <tr>\n",
       "      <th>0</th>\n",
       "      <td>-0.10847</td>\n",
       "      <td>-0.42383</td>\n",
       "      <td>0.22795</td>\n",
       "      <td>-0.24662</td>\n",
       "      <td>0.32374</td>\n",
       "      <td>0.65745</td>\n",
       "      <td>1.23087</td>\n",
       "      <td>1.03073</td>\n",
       "      <td>0.71738</td>\n",
       "      <td>0.26750</td>\n",
       "      <td>0.13745</td>\n",
       "      <td>0.32455</td>\n",
       "      <td>0.33631</td>\n",
       "      <td>0.02394</td>\n",
       "      <td>-0.42516</td>\n",
       "      <td>-0.43200</td>\n",
       "      <td>-0.20764</td>\n",
       "      <td>0.14041</td>\n",
       "      <td>0.08175</td>\n",
       "      <td>NaN</td>\n",
       "      <td>NaN</td>\n",
       "      <td>NaN</td>\n",
       "    </tr>\n",
       "    <tr>\n",
       "      <th>1</th>\n",
       "      <td>-0.14057</td>\n",
       "      <td>-0.58741</td>\n",
       "      <td>-0.46987</td>\n",
       "      <td>-0.32986</td>\n",
       "      <td>-0.11061</td>\n",
       "      <td>-0.08843</td>\n",
       "      <td>-0.37714</td>\n",
       "      <td>-1.03715</td>\n",
       "      <td>-0.93692</td>\n",
       "      <td>-0.27447</td>\n",
       "      <td>-0.25015</td>\n",
       "      <td>-1.10412</td>\n",
       "      <td>-1.22034</td>\n",
       "      <td>-1.03750</td>\n",
       "      <td>-0.78397</td>\n",
       "      <td>0.52210</td>\n",
       "      <td>1.91939</td>\n",
       "      <td>0.15651</td>\n",
       "      <td>-0.48765</td>\n",
       "      <td>NaN</td>\n",
       "      <td>NaN</td>\n",
       "      <td>NaN</td>\n",
       "    </tr>\n",
       "    <tr>\n",
       "      <th>2</th>\n",
       "      <td>-0.52854</td>\n",
       "      <td>-0.10100</td>\n",
       "      <td>-1.53641</td>\n",
       "      <td>-0.64680</td>\n",
       "      <td>0.40200</td>\n",
       "      <td>-0.55176</td>\n",
       "      <td>-0.85505</td>\n",
       "      <td>-0.00978</td>\n",
       "      <td>-0.23761</td>\n",
       "      <td>-0.69568</td>\n",
       "      <td>1.31290</td>\n",
       "      <td>1.98509</td>\n",
       "      <td>0.39294</td>\n",
       "      <td>-0.69691</td>\n",
       "      <td>0.14739</td>\n",
       "      <td>-0.31107</td>\n",
       "      <td>0.25686</td>\n",
       "      <td>0.25152</td>\n",
       "      <td>-0.13582</td>\n",
       "      <td>NaN</td>\n",
       "      <td>NaN</td>\n",
       "      <td>NaN</td>\n",
       "    </tr>\n",
       "    <tr>\n",
       "      <th>3</th>\n",
       "      <td>1.51295</td>\n",
       "      <td>0.56685</td>\n",
       "      <td>0.26967</td>\n",
       "      <td>1.44163</td>\n",
       "      <td>1.41385</td>\n",
       "      <td>-0.14065</td>\n",
       "      <td>-0.28102</td>\n",
       "      <td>0.66397</td>\n",
       "      <td>0.19414</td>\n",
       "      <td>0.00213</td>\n",
       "      <td>0.49210</td>\n",
       "      <td>-0.05062</td>\n",
       "      <td>-1.00578</td>\n",
       "      <td>-0.88118</td>\n",
       "      <td>-0.56698</td>\n",
       "      <td>-0.16238</td>\n",
       "      <td>-0.35969</td>\n",
       "      <td>0.55507</td>\n",
       "      <td>1.85382</td>\n",
       "      <td>NaN</td>\n",
       "      <td>NaN</td>\n",
       "      <td>NaN</td>\n",
       "    </tr>\n",
       "    <tr>\n",
       "      <th>4</th>\n",
       "      <td>2.09385</td>\n",
       "      <td>2.38000</td>\n",
       "      <td>0.44838</td>\n",
       "      <td>0.20553</td>\n",
       "      <td>1.75806</td>\n",
       "      <td>-0.24836</td>\n",
       "      <td>1.57883</td>\n",
       "      <td>2.50428</td>\n",
       "      <td>5.57371</td>\n",
       "      <td>5.40905</td>\n",
       "      <td>4.12811</td>\n",
       "      <td>0.03877</td>\n",
       "      <td>-4.09078</td>\n",
       "      <td>-6.10730</td>\n",
       "      <td>-4.60997</td>\n",
       "      <td>-1.00641</td>\n",
       "      <td>-0.63652</td>\n",
       "      <td>-2.56242</td>\n",
       "      <td>-0.70146</td>\n",
       "      <td>NaN</td>\n",
       "      <td>NaN</td>\n",
       "      <td>NaN</td>\n",
       "    </tr>\n",
       "  </tbody>\n",
       "</table>\n",
       "</div>"
      ],
      "text/plain": [
       "        0        1        2        3        4        5        6        7   \\\n",
       "0 -0.10847 -0.42383  0.22795 -0.24662  0.32374  0.65745  1.23087  1.03073   \n",
       "1 -0.14057 -0.58741 -0.46987 -0.32986 -0.11061 -0.08843 -0.37714 -1.03715   \n",
       "2 -0.52854 -0.10100 -1.53641 -0.64680  0.40200 -0.55176 -0.85505 -0.00978   \n",
       "3  1.51295  0.56685  0.26967  1.44163  1.41385 -0.14065 -0.28102  0.66397   \n",
       "4  2.09385  2.38000  0.44838  0.20553  1.75806 -0.24836  1.57883  2.50428   \n",
       "\n",
       "        8        9        10       11       12       13       14       15  \\\n",
       "0  0.71738  0.26750  0.13745  0.32455  0.33631  0.02394 -0.42516 -0.43200   \n",
       "1 -0.93692 -0.27447 -0.25015 -1.10412 -1.22034 -1.03750 -0.78397  0.52210   \n",
       "2 -0.23761 -0.69568  1.31290  1.98509  0.39294 -0.69691  0.14739 -0.31107   \n",
       "3  0.19414  0.00213  0.49210 -0.05062 -1.00578 -0.88118 -0.56698 -0.16238   \n",
       "4  5.57371  5.40905  4.12811  0.03877 -4.09078 -6.10730 -4.60997 -1.00641   \n",
       "\n",
       "        16       17       18  19  20  21  \n",
       "0 -0.20764  0.14041  0.08175 NaN NaN NaN  \n",
       "1  1.91939  0.15651 -0.48765 NaN NaN NaN  \n",
       "2  0.25686  0.25152 -0.13582 NaN NaN NaN  \n",
       "3 -0.35969  0.55507  1.85382 NaN NaN NaN  \n",
       "4 -0.63652 -2.56242 -0.70146 NaN NaN NaN  "
      ]
     },
     "execution_count": 39,
     "metadata": {},
     "output_type": "execute_result"
    }
   ],
   "source": [
    "accXDf.head()"
   ]
  },
  {
   "cell_type": "code",
   "execution_count": 40,
   "metadata": {},
   "outputs": [],
   "source": [
    "# Änderungen in CSV Datei schreiben\n",
    "featuresDf.set_index('Zeitstempel in Unixzeit', inplace=True)\n",
    "featuresDf.to_csv('../daten/merkmale.csv')"
   ]
  },
  {
   "cell_type": "code",
   "execution_count": 41,
   "metadata": {},
   "outputs": [
    {
     "data": {
      "text/plain": [
       "Index(['Zeitstempel in Unixzeit', 'Breitengrad', 'Laengengrad',\n",
       "       'Geschwindigkeit in km/h', 'Hoehe in m ueber WGS 84',\n",
       "       'X-Achse Beschleunigungswerte in m/s^2',\n",
       "       'Y-Achse Beschleunigungswerte in m/s^2',\n",
       "       'Z-Achse Beschleunigungswerte in m/s^2', 'Gier Messwerte in rad',\n",
       "       'Nick Messwerte in rad', 'Roll Messwerte in rad',\n",
       "       'Zeitstempel der Messwerte in ns', 'Anzahl der Messwerte',\n",
       "       'Start des Zeitfensters in ns seit Start der JVM',\n",
       "       'Start der Messwerterfassung in ns seit Start der JVM',\n",
       "       'Start der Belichtung in ns seit Start der JVM',\n",
       "       'Belichtungszeit in ns',\n",
       "       'Letzter Zeitstempel der Messwerterfassung in ns seit Start der JVM',\n",
       "       'Stopp der Messwerterfassung in Unixzeit',\n",
       "       'Mittelwert X-Achse Beschleunigung in m/s^2',\n",
       "       'Mittelwert Y-Achse Beschleunigung in m/s^2',\n",
       "       'Mittelwert Z-Achse Beschleunigung in m/s^2', 'Mittelwert Nick in rad',\n",
       "       'Mittelwert Roll in rad', 'GierAenderung in rad',\n",
       "       'Varianz X-Achse Beschleunigung in m/s^2',\n",
       "       'Varianz Y-Achse Beschleunigung in m/s^2',\n",
       "       'Varianz Z-Achse Beschleunigung in m/s^2', 'Varianz Nick in rad',\n",
       "       'Varianz Roll in rad',\n",
       "       'Standardabweichung X-Achse Beschleunigung in m/s^2',\n",
       "       'Standardabweichung Y-Achse Beschleunigung in m/s^2',\n",
       "       'Standardabweichung Z-Achse Beschleunigung in m/s^2',\n",
       "       'Standardabweichung Nick in rad', 'Standardabweichung Roll in rad'],\n",
       "      dtype='object')"
      ]
     },
     "execution_count": 41,
     "metadata": {},
     "output_type": "execute_result"
    }
   ],
   "source": [
    "pandas.read_csv(\"../daten/merkmale.csv\").columns"
   ]
  },
  {
   "cell_type": "code",
   "execution_count": 42,
   "metadata": {},
   "outputs": [],
   "source": [
    "# Speichert die DatenFrames mit den Messwerten in csv Dateien\n",
    "accXDf.index.names = [\"index\"]\n",
    "accXDf.to_csv('../daten/x-Achse-Beschleunigungswerte.csv')\n",
    "accYDf.index.names = [\"index\"]\n",
    "accYDf.to_csv('../daten/y-Achse-Beschleunigungswerte.csv')\n",
    "accZDf.index.names = [\"index\"]\n",
    "accZDf.to_csv('../daten/z-Achse-Beschleunigungswerte.csv')\n",
    "nickDf.index.names = [\"index\"]\n",
    "nickDf.to_csv('../daten/nick-Messwerte.csv')\n",
    "rollDf.index.names = [\"index\"]\n",
    "rollDf.to_csv('../daten/roll-Messwerte.csv')\n",
    "azimuthDf.index.names = [\"index\"]\n",
    "azimuthDf.to_csv('../daten/azimuth-Messwerte.csv')\n",
    "sensorTimestampsDf.index.names = [\"index\"]\n",
    "sensorTimestampsDf.to_csv('../daten/sensorevent-Zeitstempel.csv')"
   ]
  },
  {
   "cell_type": "code",
   "execution_count": 43,
   "metadata": {},
   "outputs": [
    {
     "name": "stderr",
     "output_type": "stream",
     "text": [
      "testCalcVariance0 (__main__.CalcTest) ... ok\n",
      "testCalcVariance2 (__main__.CalcTest) ... ok\n",
      "testCalcVariance5 (__main__.CalcTest) ... ok\n",
      "testCalcVarianceMultidim (__main__.CalcTest) ... ok\n",
      "testCalcVarianceNegative (__main__.CalcTest) ... ok\n",
      "testCalculateAngelChangeAzimuthEqual (__main__.CalcTest) ... ok\n",
      "testCalculateAngelChangeAzimuthNegativ (__main__.CalcTest) ... ok\n",
      "testCalculateAngelChangeAzimuthOne (__main__.CalcTest) ... ok\n",
      "testCalculateAngelChangeAzimuthOne2 (__main__.CalcTest) ... ok\n",
      "testCalculateAngelChangeAzimuthSmall (__main__.CalcTest) ... ok\n",
      "testCalculateAngelChangeAzimuthValues (__main__.CalcTest) ... ok\n",
      "testCalculateStandardDeviation (__main__.CalcTest) ... ok\n",
      "testCalculateStandardDeviationZero (__main__.CalcTest) ... ok\n",
      "\n",
      "----------------------------------------------------------------------\n",
      "Ran 13 tests in 0.078s\n",
      "\n",
      "OK\n"
     ]
    },
    {
     "data": {
      "text/plain": [
       "<unittest.main.TestProgram at 0x24ccf99f5f8>"
      ]
     },
     "execution_count": 43,
     "metadata": {},
     "output_type": "execute_result"
    }
   ],
   "source": [
    "# Unittests\n",
    "import unittest\n",
    "\n",
    "class CalcTest(unittest.TestCase):\n",
    "    \n",
    "    \n",
    "    # Testet die Funktion calcVariance mit einem DataFrame mit den Werten [2.0, 2.0]\n",
    "    # Der Mittelwert sollte 2.0 sein\n",
    "    # Das erwartete Ergebnis ist 0.0\n",
    "    def testCalcVariance2(self):\n",
    "        meanL = [2.0]\n",
    "        meanDf = pandas.DataFrame(meanL)\n",
    "        valuesA = [2.0,2.0]\n",
    "        valuesDf = pandas.DataFrame([[2.0]])\n",
    "        npt.assert_almost_equal(calcVariance(meanDf[0],valuesDf), 0.0,2)\n",
    "        \n",
    "    # Testet die Funktion calcVariance mit einem DataFrame mit den folgenden Werten:\n",
    "    # [1.24, 2.5213, 10.434, 42.45, 5.9]\n",
    "    # Der Mittelwert ist 12.508\n",
    "    # Die erwartete Varianz ist 234,247016\n",
    "    def testCalcVariance5(self):\n",
    "        meanDf = pandas.DataFrame([12.508])\n",
    "        valuesDf = pandas.DataFrame([[1.24, 2.52, 10.43, 42.45, 5.9]])\n",
    "        npt.assert_almost_equal(calcVariance(meanDf[0],valuesDf), 234.24702,5)   \n",
    "    \n",
    "    # Testet calcVariance mit 0 Datenwerten   \n",
    "    def testCalcVariance0(self):\n",
    "        meanDf = pandas.DataFrame([0.0])\n",
    "        valuesDf = pandas.DataFrame([[0.0]])\n",
    "        npt.assert_almost_equal(calcVariance(meanDf[0],valuesDf),0.0,2)  \n",
    "        \n",
    "    # Testet calcVariance mit negativen Datenwerten   \n",
    "    def testCalcVarianceNegative(self):\n",
    "        meanDf = pandas.DataFrame([-24.0])\n",
    "        valuesDf = pandas.DataFrame([[-2.0,-24.0,-5.0,7.0]])\n",
    "        npt.assert_almost_equal(calcVariance(meanDf[0],valuesDf),451.5,1) \n",
    "        \n",
    "    # Testet calcVariance mit Muultidimensionalen DataFrame   \n",
    "    def testCalcVarianceMultidim(self):\n",
    "        meanDf = pandas.DataFrame([-24.0,0.0])\n",
    "        valuesDf = pandas.DataFrame([[-2.0,-24.0,-5.0,7.0],[0.0,0.0,0.0,0.0]])\n",
    "        # Hier wird Numpy Test verwendet um das Ergebnis (zwei Arrays) zu vergleichen\n",
    "        npt.assert_array_equal(calcVariance(meanDf[0],valuesDf),np.array([ 451.5,0.0])) \n",
    "        \n",
    "    # Dieser Test testet die Funktion calculateStandardDeviation.\n",
    "    def testCalculateStandardDeviation(self):\n",
    "        varianceDf = pandas.DataFrame([451.5])\n",
    "        npt.assert_almost_equal(calculateStandardDeviation(varianceDf[0]),21.24853,5) \n",
    "        \n",
    "    # Testet die Funktion calculateStandardDeviation.\n",
    "    # Dabei hat das Argument den Wert 0.0.\n",
    "    def testCalculateStandardDeviationZero(self):\n",
    "        varianceDf = pandas.DataFrame([0.0])\n",
    "        npt.assert_almost_equal(calculateStandardDeviation(varianceDf[0]),0.0,2)\n",
    "    \n",
    "    #  Testet die Funktion calculateAngelChangeAzimuth mit zwei gleichen rad Werten\n",
    "    def testCalculateAngelChangeAzimuthEqual(self):\n",
    "        radiants = pandas.DataFrame([[1.0,1.0]])\n",
    "        npt.assert_almost_equal(calculateAngelChangeAzimuth(radiants),0.0,2)\n",
    "    \n",
    "    # Testet ob die Winkeldifferenz korrekt berechnet wurde für \n",
    "    # die Radianten -1.0 und 1.0\n",
    "    def testCalculateAngelChangeAzimuthOne(self):\n",
    "        radiants = pandas.DataFrame([[-1.0,1.0]])\n",
    "        npt.assert_almost_equal(calculateAngelChangeAzimuth(radiants),2.0,2)  \n",
    "        \n",
    "    # Testet ob die Winkeldifferenz korrekt berechnet wurde für \n",
    "    # die Radianten 1.0 und -1.0\n",
    "    def testCalculateAngelChangeAzimuthOne2(self):\n",
    "        radiants = pandas.DataFrame([[1.0,-1.0]])\n",
    "        npt.assert_almost_equal(calculateAngelChangeAzimuth(radiants),2.0,2)  \n",
    "\n",
    "    # Testet die Funktion calculateAngelChangeAzimuthValues mit mehreren Werten\n",
    "    def testCalculateAngelChangeAzimuthValues(self):\n",
    "        radiants = pandas.DataFrame([[-1.57,1.0,2.0,1.3,1.57]])\n",
    "        npt.assert_almost_equal(calculateAngelChangeAzimuth(radiants),3.14,2)\n",
    "        \n",
    "    # Testet ob die Winkeldifferenz korrekt berechnet wurde für \n",
    "    # die Radianten 0.05 und 0.06\n",
    "    def testCalculateAngelChangeAzimuthSmall(self):\n",
    "        radiants = pandas.DataFrame([[0.01,0.02]])\n",
    "        npt.assert_almost_equal(calculateAngelChangeAzimuth(radiants), 0.01,2)  \n",
    "        \n",
    "    # Testet ob die Winkeldifferenz korrekt berechnet wurde mit \n",
    "    # negative Radianten \n",
    "    def testCalculateAngelChangeAzimuthNegativ(self):\n",
    "        radiants = pandas.DataFrame([[-2.9,-2.0,-1.28]])\n",
    "        npt.assert_almost_equal(calculateAngelChangeAzimuth(radiants), 1.62,2) \n",
    "\n",
    "unittest.main(argv=[''], verbosity=2, exit=False)"
   ]
  },
  {
   "cell_type": "code",
   "execution_count": null,
   "metadata": {},
   "outputs": [],
   "source": []
  }
 ],
 "metadata": {
  "kernelspec": {
   "display_name": "Python 3",
   "language": "python",
   "name": "python3"
  },
  "language_info": {
   "codemirror_mode": {
    "name": "ipython",
    "version": 3
   },
   "file_extension": ".py",
   "mimetype": "text/x-python",
   "name": "python",
   "nbconvert_exporter": "python",
   "pygments_lexer": "ipython3",
   "version": "3.6.4"
  },
  "toc": {
   "colors": {
    "hover_highlight": "#DAA520",
    "navigate_num": "#000000",
    "navigate_text": "#333333",
    "running_highlight": "#FF0000",
    "selected_highlight": "#FFD700",
    "sidebar_border": "#EEEEEE",
    "wrapper_background": "#FFFFFF"
   },
   "moveMenuLeft": true,
   "nav_menu": {
    "height": "31px",
    "width": "252px"
   },
   "navigate_menu": true,
   "number_sections": true,
   "sideBar": true,
   "threshold": 4,
   "toc_cell": false,
   "toc_section_display": "block",
   "toc_window_display": false,
   "widenNotebook": false
  }
 },
 "nbformat": 4,
 "nbformat_minor": 2
}
