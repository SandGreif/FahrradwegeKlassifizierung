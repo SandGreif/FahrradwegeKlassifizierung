{
 "cells": [
  {
   "cell_type": "markdown",
   "metadata": {
    "collapsed": true
   },
   "source": [
    "## Berechnungen von Merkmalen\n",
    "\n",
    "In diesem Notebook ist es möglich den Mittelwert, Varianz und Standardabweichung für die aufgenommenen Messwerte aus der Datei \"merkmaleRoh.csv\" der Android TM Fahrradwege Monitoring App zu berechnen. Zu einem Bild werden parallel Messwerte erfasst von dem Beschleunigungssensor und Magnetsensor des Smartphones, innerhalb eines Zeitfenster mit einer Länge von 80ms (siehe hierzu auch das Notebook \"gatheringSequence\" in dem Ordner datenvisualisierung). Bei dem Beschleunigungssensor sind dies die Messwerte der beschleunigung von den 3-Achsen X, Y sowie Z (Abb. 1). Des Weiteren werden die Gier-Nick-Roll Winkel in rad in einem Zeitfenster erfasst. Für die Berechnung des Mittelwerts, Varianz und Standardabweichung über die Messwerte wird die Form der abgespeicherten Messwerte geändert, weil diese als Python Objekte verwaltet werden mit welchen nicht gerechnet werden kann. Zu den Messwertreihen wird jeweils eine CSV Datei erstellt. Eine Reihe stellt dann in dieser Datei eine Messreihe zu einem Zeitfenster dar. Bei der ausführung dieses Notebooks werden deshalb zusätzlich folgende CSV Dateien erstellt:\n",
    "\n",
    "X-Achse Beschleunigungswerte in m/s^2   \n",
    "Y-Achse Beschleunigungswerte in m/s^2  \n",
    "Z-Achse Beschleunigungswerte in m/s^2   \n",
    "Gier Messwerte in rad  \n",
    "Nick Messwerte in rad  \n",
    "Roll Messwerte in rad   \n",
    "Zeitstempel der Messwerte in ns  \n",
    "\n",
    "<img src=\"../daten/abbildungen/sensorOrientierung.png\" alt=\"Android Smartphone Sensor Orientierung\" width=\"200px\" />\n",
    "Abbildung 1: 3-Achsen Smartphone Sensor-Koordinatensystem   \n",
    "Quelle: siehe Bildverzeichnis Abb. 2 in der README.md Datei"
   ]
  },
  {
   "cell_type": "code",
   "execution_count": 1,
   "metadata": {
    "ExecuteTime": {
     "end_time": "2018-05-07T13:58:55.784445Z",
     "start_time": "2018-05-07T13:58:55.298871Z"
    }
   },
   "outputs": [],
   "source": [
    "import pandas\n",
    "import numpy as np\n",
    "import numpy.testing as npt\n",
    "import math\n",
    "import os"
   ]
  },
  {
   "cell_type": "code",
   "execution_count": 2,
   "metadata": {
    "ExecuteTime": {
     "end_time": "2018-05-07T13:58:57.726814Z",
     "start_time": "2018-05-07T13:58:55.864375Z"
    }
   },
   "outputs": [
    {
     "data": {
      "text/html": [
       "<div>\n",
       "<style scoped>\n",
       "    .dataframe tbody tr th:only-of-type {\n",
       "        vertical-align: middle;\n",
       "    }\n",
       "\n",
       "    .dataframe tbody tr th {\n",
       "        vertical-align: top;\n",
       "    }\n",
       "\n",
       "    .dataframe thead th {\n",
       "        text-align: right;\n",
       "    }\n",
       "</style>\n",
       "<table border=\"1\" class=\"dataframe\">\n",
       "  <thead>\n",
       "    <tr style=\"text-align: right;\">\n",
       "      <th></th>\n",
       "      <th>Zeitstempel in Unixzeit</th>\n",
       "      <th>Breitengrad</th>\n",
       "      <th>Laengengrad</th>\n",
       "      <th>Geschwindigkeit in km/h</th>\n",
       "      <th>Anzahl der Messwerte</th>\n",
       "      <th>Start des Zeitfensters in ns seit Start der JVM</th>\n",
       "      <th>Start der Messwerterfassung in ns seit Start der JVM</th>\n",
       "      <th>Start der Belichtung in ns seit Start der JVM</th>\n",
       "      <th>Belichtungszeit in ns</th>\n",
       "      <th>Letzter Zeitstempel der Messwerterfassung in ns seit Start der JVM</th>\n",
       "      <th>Stopp der Messwerterfassung in Unixzeit</th>\n",
       "    </tr>\n",
       "  </thead>\n",
       "  <tbody>\n",
       "    <tr>\n",
       "      <th>count</th>\n",
       "      <td>4.963000e+03</td>\n",
       "      <td>4963.000000</td>\n",
       "      <td>4963.000000</td>\n",
       "      <td>4963.000000</td>\n",
       "      <td>4963.000000</td>\n",
       "      <td>4.963000e+03</td>\n",
       "      <td>4.963000e+03</td>\n",
       "      <td>4.963000e+03</td>\n",
       "      <td>4.963000e+03</td>\n",
       "      <td>4.963000e+03</td>\n",
       "      <td>4.963000e+03</td>\n",
       "    </tr>\n",
       "    <tr>\n",
       "      <th>mean</th>\n",
       "      <td>1.525693e+12</td>\n",
       "      <td>53.583963</td>\n",
       "      <td>10.084546</td>\n",
       "      <td>15.184848</td>\n",
       "      <td>62.252871</td>\n",
       "      <td>1.527235e+13</td>\n",
       "      <td>1.527227e+13</td>\n",
       "      <td>1.527260e+13</td>\n",
       "      <td>9.923256e+06</td>\n",
       "      <td>1.527309e+13</td>\n",
       "      <td>1.525693e+12</td>\n",
       "    </tr>\n",
       "    <tr>\n",
       "      <th>std</th>\n",
       "      <td>1.231895e+07</td>\n",
       "      <td>0.016691</td>\n",
       "      <td>0.035909</td>\n",
       "      <td>4.105801</td>\n",
       "      <td>0.448394</td>\n",
       "      <td>9.408304e+12</td>\n",
       "      <td>9.408303e+12</td>\n",
       "      <td>9.408305e+12</td>\n",
       "      <td>9.941265e+06</td>\n",
       "      <td>9.408308e+12</td>\n",
       "      <td>1.231896e+07</td>\n",
       "    </tr>\n",
       "    <tr>\n",
       "      <th>min</th>\n",
       "      <td>1.525679e+12</td>\n",
       "      <td>53.556515</td>\n",
       "      <td>10.020442</td>\n",
       "      <td>5.004000</td>\n",
       "      <td>60.000000</td>\n",
       "      <td>4.720012e+12</td>\n",
       "      <td>4.719938e+12</td>\n",
       "      <td>4.720260e+12</td>\n",
       "      <td>7.630070e+05</td>\n",
       "      <td>4.720751e+12</td>\n",
       "      <td>1.525679e+12</td>\n",
       "    </tr>\n",
       "    <tr>\n",
       "      <th>25%</th>\n",
       "      <td>1.525681e+12</td>\n",
       "      <td>53.571229</td>\n",
       "      <td>10.054037</td>\n",
       "      <td>12.492000</td>\n",
       "      <td>62.000000</td>\n",
       "      <td>6.161229e+12</td>\n",
       "      <td>6.161143e+12</td>\n",
       "      <td>6.161476e+12</td>\n",
       "      <td>2.298216e+06</td>\n",
       "      <td>6.161965e+12</td>\n",
       "      <td>1.525681e+12</td>\n",
       "    </tr>\n",
       "    <tr>\n",
       "      <th>50%</th>\n",
       "      <td>1.525682e+12</td>\n",
       "      <td>53.579170</td>\n",
       "      <td>10.094249</td>\n",
       "      <td>15.624002</td>\n",
       "      <td>62.000000</td>\n",
       "      <td>7.806778e+12</td>\n",
       "      <td>7.806702e+12</td>\n",
       "      <td>7.807027e+12</td>\n",
       "      <td>5.331862e+06</td>\n",
       "      <td>7.807517e+12</td>\n",
       "      <td>1.525682e+12</td>\n",
       "    </tr>\n",
       "    <tr>\n",
       "      <th>75%</th>\n",
       "      <td>1.525705e+12</td>\n",
       "      <td>53.597912</td>\n",
       "      <td>10.116828</td>\n",
       "      <td>18.108002</td>\n",
       "      <td>63.000000</td>\n",
       "      <td>2.491194e+13</td>\n",
       "      <td>2.491186e+13</td>\n",
       "      <td>2.491218e+13</td>\n",
       "      <td>1.000184e+07</td>\n",
       "      <td>2.491267e+13</td>\n",
       "      <td>1.525705e+12</td>\n",
       "    </tr>\n",
       "    <tr>\n",
       "      <th>max</th>\n",
       "      <td>1.525707e+12</td>\n",
       "      <td>53.613850</td>\n",
       "      <td>10.137879</td>\n",
       "      <td>24.948000</td>\n",
       "      <td>67.000000</td>\n",
       "      <td>2.659563e+13</td>\n",
       "      <td>2.659555e+13</td>\n",
       "      <td>2.659587e+13</td>\n",
       "      <td>2.999632e+07</td>\n",
       "      <td>2.659633e+13</td>\n",
       "      <td>1.525707e+12</td>\n",
       "    </tr>\n",
       "  </tbody>\n",
       "</table>\n",
       "</div>"
      ],
      "text/plain": [
       "       Zeitstempel in Unixzeit  Breitengrad  Laengengrad  \\\n",
       "count             4.963000e+03  4963.000000  4963.000000   \n",
       "mean              1.525693e+12    53.583963    10.084546   \n",
       "std               1.231895e+07     0.016691     0.035909   \n",
       "min               1.525679e+12    53.556515    10.020442   \n",
       "25%               1.525681e+12    53.571229    10.054037   \n",
       "50%               1.525682e+12    53.579170    10.094249   \n",
       "75%               1.525705e+12    53.597912    10.116828   \n",
       "max               1.525707e+12    53.613850    10.137879   \n",
       "\n",
       "       Geschwindigkeit in km/h  Anzahl der Messwerte  \\\n",
       "count              4963.000000           4963.000000   \n",
       "mean                 15.184848             62.252871   \n",
       "std                   4.105801              0.448394   \n",
       "min                   5.004000             60.000000   \n",
       "25%                  12.492000             62.000000   \n",
       "50%                  15.624002             62.000000   \n",
       "75%                  18.108002             63.000000   \n",
       "max                  24.948000             67.000000   \n",
       "\n",
       "       Start des Zeitfensters in ns seit Start der JVM  \\\n",
       "count                                     4.963000e+03   \n",
       "mean                                      1.527235e+13   \n",
       "std                                       9.408304e+12   \n",
       "min                                       4.720012e+12   \n",
       "25%                                       6.161229e+12   \n",
       "50%                                       7.806778e+12   \n",
       "75%                                       2.491194e+13   \n",
       "max                                       2.659563e+13   \n",
       "\n",
       "       Start der Messwerterfassung in ns seit Start der JVM  \\\n",
       "count                                       4.963000e+03      \n",
       "mean                                        1.527227e+13      \n",
       "std                                         9.408303e+12      \n",
       "min                                         4.719938e+12      \n",
       "25%                                         6.161143e+12      \n",
       "50%                                         7.806702e+12      \n",
       "75%                                         2.491186e+13      \n",
       "max                                         2.659555e+13      \n",
       "\n",
       "       Start der Belichtung in ns seit Start der JVM  Belichtungszeit in ns  \\\n",
       "count                                   4.963000e+03           4.963000e+03   \n",
       "mean                                    1.527260e+13           9.923256e+06   \n",
       "std                                     9.408305e+12           9.941265e+06   \n",
       "min                                     4.720260e+12           7.630070e+05   \n",
       "25%                                     6.161476e+12           2.298216e+06   \n",
       "50%                                     7.807027e+12           5.331862e+06   \n",
       "75%                                     2.491218e+13           1.000184e+07   \n",
       "max                                     2.659587e+13           2.999632e+07   \n",
       "\n",
       "       Letzter Zeitstempel der Messwerterfassung in ns seit Start der JVM  \\\n",
       "count                                       4.963000e+03                    \n",
       "mean                                        1.527309e+13                    \n",
       "std                                         9.408308e+12                    \n",
       "min                                         4.720751e+12                    \n",
       "25%                                         6.161965e+12                    \n",
       "50%                                         7.807517e+12                    \n",
       "75%                                         2.491267e+13                    \n",
       "max                                         2.659633e+13                    \n",
       "\n",
       "       Stopp der Messwerterfassung in Unixzeit  \n",
       "count                             4.963000e+03  \n",
       "mean                              1.525693e+12  \n",
       "std                               1.231896e+07  \n",
       "min                               1.525679e+12  \n",
       "25%                               1.525681e+12  \n",
       "50%                               1.525682e+12  \n",
       "75%                               1.525705e+12  \n",
       "max                               1.525707e+12  "
      ]
     },
     "execution_count": 2,
     "metadata": {},
     "output_type": "execute_result"
    }
   ],
   "source": [
    "featuresDf = pandas.read_csv(\"../daten/merkmale_datensatz_26_bis_27/merkmaleRoh.csv\")\n",
    "featuresDf.describe()"
   ]
  },
  {
   "cell_type": "code",
   "execution_count": 3,
   "metadata": {
    "ExecuteTime": {
     "end_time": "2018-05-07T13:59:00.652982Z",
     "start_time": "2018-05-07T13:59:00.549419Z"
    }
   },
   "outputs": [
    {
     "name": "stdout",
     "output_type": "stream",
     "text": [
      "<class 'pandas.core.frame.DataFrame'>\n",
      "RangeIndex: 4963 entries, 0 to 4962\n",
      "Data columns (total 18 columns):\n",
      "Zeitstempel in Unixzeit                                               4963 non-null int64\n",
      "Breitengrad                                                           4963 non-null float64\n",
      "Laengengrad                                                           4963 non-null float64\n",
      "Geschwindigkeit in km/h                                               4963 non-null float64\n",
      "X-Achse Beschleunigungswerte in m/s^2                                 4963 non-null object\n",
      "Y-Achse Beschleunigungswerte in m/s^2                                 4963 non-null object\n",
      "Z-Achse Beschleunigungswerte in m/s^2                                 4963 non-null object\n",
      "Gier Messwerte in rad                                                 4963 non-null object\n",
      "Nick Messwerte in rad                                                 4963 non-null object\n",
      "Roll Messwerte in rad                                                 4963 non-null object\n",
      "Zeitstempel der Messwerte in ns                                       4963 non-null object\n",
      "Anzahl der Messwerte                                                  4963 non-null int64\n",
      "Start des Zeitfensters in ns seit Start der JVM                       4963 non-null int64\n",
      "Start der Messwerterfassung in ns seit Start der JVM                  4963 non-null int64\n",
      "Start der Belichtung in ns seit Start der JVM                         4963 non-null int64\n",
      "Belichtungszeit in ns                                                 4963 non-null int64\n",
      "Letzter Zeitstempel der Messwerterfassung in ns seit Start der JVM    4963 non-null int64\n",
      "Stopp der Messwerterfassung in Unixzeit                               4963 non-null int64\n",
      "dtypes: float64(3), int64(8), object(7)\n",
      "memory usage: 698.0+ KB\n"
     ]
    }
   ],
   "source": [
    "featuresDf.info()"
   ]
  },
  {
   "cell_type": "code",
   "execution_count": 208,
   "metadata": {
    "ExecuteTime": {
     "end_time": "2018-05-07T13:59:01.488205Z",
     "start_time": "2018-05-07T13:59:01.480205Z"
    }
   },
   "outputs": [
    {
     "data": {
      "text/plain": [
       "0    0.66929 0.81137 0.75647 0.22221 -0.14389 -0.13...\n",
       "1    0.2285 0.13695 0.37016 0.08172 -0.05709 0.3834...\n",
       "2    -2.72057 3.72297 3.37689 -1.28232 -0.90316 0.4...\n",
       "3    -0.06289 0.54739 0.6219 -1.35643 -0.54872 0.28...\n",
       "4    -0.5752 -1.41006 -1.3118 -0.58965 -1.32969 0.6...\n",
       "Name: X-Achse Beschleunigungswerte in m/s^2, dtype: object"
      ]
     },
     "execution_count": 208,
     "metadata": {},
     "output_type": "execute_result"
    }
   ],
   "source": [
    "# Zeigt die ersten 5 Reihen Beschleunigungssensordaten der X-Achse \n",
    "featuresDf['X-Achse Beschleunigungswerte in m/s^2'].head()"
   ]
  },
  {
   "cell_type": "code",
   "execution_count": 209,
   "metadata": {
    "ExecuteTime": {
     "end_time": "2018-05-07T15:02:41.423672Z",
     "start_time": "2018-05-07T15:02:41.415673Z"
    }
   },
   "outputs": [
    {
     "name": "stdout",
     "output_type": "stream",
     "text": [
      "14959    24\n",
      "35516    48\n",
      "35525    28\n",
      "45468    47\n",
      "52621    24\n",
      "54376    24\n",
      "54719    24\n",
      "55901    40\n",
      "56033    24\n",
      "59055    24\n",
      "59514    24\n",
      "59990    38\n",
      "60418    24\n",
      "62192    25\n",
      "64457    28\n",
      "64506    24\n",
      "68134    24\n",
      "80666    24\n",
      "94258    27\n",
      "95849    24\n",
      "97012    43\n",
      "Name: Anzahl der Messwerte, dtype: int64\n"
     ]
    }
   ],
   "source": [
    "# Die Anzahl der Messwerte sollte immer gleich sein, ansonsten werden fehlende Spalten mit NaN Werten gefüllt bei der\n",
    "# späteren Abspeicherung der erfassten Messwerte wie z.B. in die Datei x-Achse-Beschleunigungswerte.csv.\n",
    "# Um die Berechnung von den Merkmalen Varianz und Mittelwert unteranderem zu beschleunigen ist es wichtig sogenannte Außenseiter\n",
    "# aus den Datensätzen zu entfernen.\n",
    "# Dafür muss auch das Bild zu einer Reihe aus der merkmaleRoh.csv Datei gelöscht werden.\n",
    "# Dies wird erreicht indem alle Pfade der Bilder geladen werden.\n",
    "# Dann können Reihen sowie Bilder gelöscht werden mit mehr Messwerten als ein bestimmter Grenzwert.\n",
    "print(featuresDf['Anzahl der Messwerte'][featuresDf['Anzahl der Messwerte'] > 23])\n",
    "\n",
    "################### Entferne Außenseiter mit Anzahl der Messwerte > Grenzwert ###################\n",
    "#### Warnung löschen der zugeschnittennen Bilder kann nicht rückgängig gemacht werden!\n",
    "#threshold  = 23 \n",
    "#imagePaths = []\n",
    "# Hier können die Datensätze ausgewählt werden\n",
    "#datasets = ['15','16','17','18','19','20','21','22']\n",
    "# Die Pfade zu den Ordnern in welchem sich die Bilder befinden\n",
    "#paths = []\n",
    "#for dataset in datasets: # Für jeden Datensatz merke Pfad\n",
    "#    paths.append(\"C:/Users/morro/Documents/datenRoh/\" + dataset + \"/zugeschnitten/\")\n",
    "#for path in paths: # Für jeden Pfad hole die Namen der Ordner\n",
    "#    folders = os.listdir(path)\n",
    "#    for folder in folders: # Aus der Liste der Ordner wird ein Ordner ausgewählt\n",
    "#        filesPath = path + folder + \"/\"\n",
    "#        files = os.listdir(filesPath)\n",
    "#        for name in files: # Ein Dateiname aus diesem Ordner\n",
    "#            if \"jpg\" not in name:\n",
    "#                continue\n",
    "#            imagePaths.append(filesPath + name) # Path wird geladen in Liste\n",
    "#toRemoveImagesIndex = featuresDf['Anzahl der Messwerte'][featuresDf['Anzahl der Messwerte'] > threshold].index.tolist()\n",
    "#for i in toRemoveImagesIndex:\n",
    "#    print(imagePaths[i])\n",
    "#    os.remove(imagePaths[i])\n",
    "unwantedRows = featuresDf['Anzahl der Messwerte'][featuresDf['Anzahl der Messwerte'] > 23]\n",
    "featuresDf.drop(unwantedRows.index, inplace=True)\n",
    "# Die Inecies müssen zurückgesetzt werden nach den Aufruf von drop. Ansonsten kommte es zu KeyValue Fehlern\n",
    "featuresDf.reset_index(drop=True,inplace=True)"
   ]
  },
  {
   "cell_type": "code",
   "execution_count": 4,
   "metadata": {},
   "outputs": [
    {
     "data": {
      "text/plain": [
       "0       62\n",
       "1       63\n",
       "2       63\n",
       "3       62\n",
       "4       62\n",
       "5       63\n",
       "6       62\n",
       "7       63\n",
       "8       63\n",
       "9       63\n",
       "10      62\n",
       "11      62\n",
       "12      62\n",
       "13      62\n",
       "14      62\n",
       "15      63\n",
       "16      62\n",
       "17      62\n",
       "18      63\n",
       "19      62\n",
       "20      62\n",
       "21      62\n",
       "22      62\n",
       "23      63\n",
       "24      62\n",
       "25      62\n",
       "26      62\n",
       "27      62\n",
       "28      63\n",
       "29      62\n",
       "        ..\n",
       "4933    62\n",
       "4934    62\n",
       "4935    62\n",
       "4936    62\n",
       "4937    62\n",
       "4938    63\n",
       "4939    62\n",
       "4940    63\n",
       "4941    63\n",
       "4942    62\n",
       "4943    63\n",
       "4944    62\n",
       "4945    62\n",
       "4946    62\n",
       "4947    62\n",
       "4948    62\n",
       "4949    62\n",
       "4950    62\n",
       "4951    62\n",
       "4952    63\n",
       "4953    62\n",
       "4954    62\n",
       "4955    62\n",
       "4956    62\n",
       "4957    62\n",
       "4958    62\n",
       "4959    62\n",
       "4960    62\n",
       "4961    62\n",
       "4962    63\n",
       "Name: Anzahl der Messwerte, Length: 4963, dtype: int64"
      ]
     },
     "execution_count": 4,
     "metadata": {},
     "output_type": "execute_result"
    }
   ],
   "source": [
    "featuresDf['Anzahl der Messwerte'][featuresDf['Anzahl der Messwerte'] > 23]"
   ]
  },
  {
   "cell_type": "markdown",
   "metadata": {},
   "source": [
    "Die folgenden Spalten des Datenframes haben als Type ein Python object.   \n",
    "X-Achse Beschleunigungswerte in m/s^2   \n",
    "Y-Achse Beschleunigungswerte in m/s^2   \n",
    "Z-Achse Beschleunigungswerte in m/s^2   \n",
    "Gier Messwerte in rad    \n",
    "Nick Messwerte in rad          \n",
    "Roll Messwerte in rad                   \n",
    "Zeitstempel der Messwerte in ns               \n",
    "Implizit haben diese Spalten als Typ Strings. Aber in einem DataFrame werden Strings als    \n",
    "Python objects erkannt. Um den Datentyp auf float zu casten wird aus den Spalten zunächst ein Liste erstellt.    \n",
    "Welche dann wiederum als Numpy Array auf den Typ float konvertiert wird.   "
   ]
  },
  {
   "cell_type": "code",
   "execution_count": 5,
   "metadata": {},
   "outputs": [
    {
     "name": "stdout",
     "output_type": "stream",
     "text": [
      "<class 'pandas.core.frame.DataFrame'>\n",
      "RangeIndex: 4963 entries, 0 to 4962\n",
      "Data columns (total 18 columns):\n",
      "Zeitstempel in Unixzeit                                               4963 non-null int64\n",
      "Breitengrad                                                           4963 non-null float64\n",
      "Laengengrad                                                           4963 non-null float64\n",
      "Geschwindigkeit in km/h                                               4963 non-null float64\n",
      "X-Achse Beschleunigungswerte in m/s^2                                 4963 non-null object\n",
      "Y-Achse Beschleunigungswerte in m/s^2                                 4963 non-null object\n",
      "Z-Achse Beschleunigungswerte in m/s^2                                 4963 non-null object\n",
      "Gier Messwerte in rad                                                 4963 non-null object\n",
      "Nick Messwerte in rad                                                 4963 non-null object\n",
      "Roll Messwerte in rad                                                 4963 non-null object\n",
      "Zeitstempel der Messwerte in ns                                       4963 non-null object\n",
      "Anzahl der Messwerte                                                  4963 non-null int64\n",
      "Start des Zeitfensters in ns seit Start der JVM                       4963 non-null int64\n",
      "Start der Messwerterfassung in ns seit Start der JVM                  4963 non-null int64\n",
      "Start der Belichtung in ns seit Start der JVM                         4963 non-null int64\n",
      "Belichtungszeit in ns                                                 4963 non-null int64\n",
      "Letzter Zeitstempel der Messwerterfassung in ns seit Start der JVM    4963 non-null int64\n",
      "Stopp der Messwerterfassung in Unixzeit                               4963 non-null int64\n",
      "dtypes: float64(3), int64(8), object(7)\n",
      "memory usage: 698.0+ KB\n"
     ]
    }
   ],
   "source": [
    "featuresDf.info()"
   ]
  },
  {
   "cell_type": "code",
   "execution_count": 6,
   "metadata": {
    "ExecuteTime": {
     "end_time": "2018-05-07T13:59:24.066233Z",
     "start_time": "2018-05-07T13:59:23.725729Z"
    }
   },
   "outputs": [],
   "source": [
    "accXList = featuresDf['X-Achse Beschleunigungswerte in m/s^2'].str.split(\" \").tolist()"
   ]
  },
  {
   "cell_type": "code",
   "execution_count": 7,
   "metadata": {
    "ExecuteTime": {
     "end_time": "2018-05-07T13:59:27.107144Z",
     "start_time": "2018-05-07T13:59:26.683060Z"
    }
   },
   "outputs": [
    {
     "data": {
      "text/plain": [
       "array([[ ['-0.10848', '-0.14789', '-0.17942', '-0.32723', '-0.76725', '-0.44506', '0.24172', '0.4234', '0.32359', '0.74939', '0.90615', '0.54123', '0.29526', '0.19042', '-0.03135', '-1.26606', '-2.9127', '-3.08079', '-0.73297', '-1.2604', '1.50483', '3.10408', '0.58341', '-0.22262', '0.84872', '2.51791', '0.0685', '-1.89102', '-1.72715', '-0.70733', '-0.94875', '-0.45236', '-0.80607', '-0.50676', '0.57544', '1.68637', '1.74766', '0.96928', '-0.31231', '-1.30695', '-1.30586', '-1.22838', '-1.53415', '-1.31908', '-1.11637', '-0.90823', '-0.26671', '-0.24383', '0.28013', '0.65333', '1.01318', '1.80671', '1.78266', '1.57954', '1.14123', '1.35754', '0.42733', '0.60253', '0.43624', '-0.04921', '-0.33033', '-0.52456']],\n",
       "       [ ['-0.53972', '-1.32033', '-0.76494', '-0.21338', '-1.30441', '-2.22321', '-0.73643', '0.57558', '0.78244', '-0.35453', '-0.3907', '0.83684', '1.08338', '1.23463', '0.86531', '0.35532', '0.08525', '0.57403', '0.79652', '0.68336', '0.11783', '0.09445', '0.30559', '0.04546', '0.80269', '0.87218', '1.77054', '0.00691', '-1.52659', '-1.54286', '-0.34537', '0.18356', '-0.54249', '0.34766', '-0.76364', '-0.54944', '0.28081', '0.53129', '0.42522', '0.0339', '-0.78482', '-1.39381', '-1.29874', '-0.47186', '0.64933', '1.20917', '-0.42686', '-0.60179', '-0.28206', '1.18424', '1.16211', '-0.26532', '-0.62579', '-0.0714', '0.035', '-0.75329', '-1.00084', '-0.9384', '1.45597', '3.27951', '1.827', '2.0747', '0.75589']],\n",
       "       [ ['0.24503', '0.42604', '0.04989', '0.37719', '-0.34162', '-0.67151', '-0.79751', '-0.83703', '-0.99122', '-0.42504', '0.08919', '-0.09701', '0.38226', '-0.01579', '0.64644', '0.54798', '0.63776', '-0.05655', '-0.4741', '-0.1799', '0.10143', '0.32649', '0.04686', '-0.13088', '0.15597', '0.27819', '0.55983', '1.04565', '0.74477', '0.79519', '0.14601', '-1.29272', '-1.3711', '0.75738', '2.00047', '1.99895', '0.20496', '-0.83183', '-1.38546', '-1.55254', '-0.36845', '-0.18731', '0.04953', '0.43821', '-0.13958', '-0.50988', '-0.54563', '0.37579', '0.69922', '0.68214', '-0.46542', '-0.92377', '-0.3098', '-0.06378', '0.28627', '0.58162', '0.69532', '-0.0105', '-0.10016', '-0.15656', '-0.692', '0.51918', '0.53811']],\n",
       "       ..., \n",
       "       [ ['-0.0451', '-1.03206', '-1.20869', '-0.62983', '0.27763', '-0.74323', '0.47803', '0.06067', '-1.03938', '-1.16858', '-1.02679', '-0.33108', '-0.4334', '0.3275', '-0.73396', '-0.38796', '0.37919', '0.54854', '0.31627', '0.16109', '-0.89775', '-0.64156', '-0.83502', '-0.82122', '0.15515', '-0.28958', '-0.44616', '-0.43352', '-0.68391', '-0.40921', '-0.20476', '0.00476', '0.46352', '0.40147', '0.52039', '0.27843', '1.18811', '1.13438', '0.8922', '1.29604', '-0.57205', '0.20127', '1.29492', '2.35373', '2.55721', '-1.4938', '-0.85793', '1.16775', '-0.04644', '0.48384', '1.36775', '-0.23886', '-0.77335', '-0.12833', '1.32238', '0.29179', '0.04957', '0.31548', '-0.45244', '-0.34662', '-0.04743', '-0.72745']],\n",
       "       [ ['0.21682', '-0.25557', '-0.55687', '-0.85918', '-0.7333', '-0.35678', '0.22025', '1.20285', '1.25344', '1.24794', '0.37012', '0.17353', '-0.07567', '0.5524', '0.25806', '-0.72824', '-0.5366', '-1.13411', '-0.40162', '1.14972', '-0.22942', '-0.21416', '0.18112', '1.21751', '0.39176', '-1.3108', '-0.72685', '-0.65807', '0.65342', '1.13567', '0.61743', '0.37138', '0.55761', '-0.85635', '1.24563', '1.18039', '0.6532', '0.15483', '-0.04466', '0.99091', '0.25646', '0.18985', '-0.39972', '-0.3504', '1.16004', '0.02401', '-0.86951', '-1.03268', '-0.51967', '0.28913', '0.44585', '0.00427', '-0.19576', '0.22648', '-0.29381', '-0.60278', '-1.06448', '-1.38786', '-0.63527', '-0.67674', '-0.58734', '-1.06745']],\n",
       "       [ ['2.33074', '0.33232', '-1.43497', '-1.05601', '1.14719', '1.37745', '0.3818', '0.995', '-0.09272', '0.66134', '-0.00721', '0.74508', '-0.10878', '-0.4854', '0.59237', '0.12149', '0.41898', '0.94812', '0.7432', '0.48731', '0.1447', '1.43355', '0.73314', '0.21878', '0.23633', '0.31167', '-1.16035', '-0.17744', '0.57824', '-0.71725', '-0.51249', '0.00374', '0.3248', '1.07196', '0.7963', '-0.42022', '-1.43942', '-0.73779', '-0.66683', '-0.71732', '-0.40528', '-0.69196', '-0.55355', '-0.74928', '-0.29295', '-0.78596', '-0.09246', '0.86076', '1.48541', '1.8319', '1.68007', '0.17953', '0.43478', '1.28254', '-0.18446', '-1.06692', '0.12714', '-0.80232', '-7.33794', '-0.01699', '1.8405', '12.67346', '-3.39133']]], dtype=object)"
      ]
     },
     "execution_count": 7,
     "metadata": {},
     "output_type": "execute_result"
    }
   ],
   "source": [
    "# Direkt mit dem Numpy Array ist es nicht möglich die Konvertierung durchzuführen, weil die Arrays von Typ object sind.   \n",
    "pandas.DataFrame(featuresDf['X-Achse Beschleunigungswerte in m/s^2'].str.split(\" \")).values"
   ]
  },
  {
   "cell_type": "code",
   "execution_count": 9,
   "metadata": {
    "ExecuteTime": {
     "end_time": "2018-05-07T13:59:28.852447Z",
     "start_time": "2018-05-07T13:59:28.838764Z"
    }
   },
   "outputs": [
    {
     "data": {
      "text/plain": [
       "['-0.65282',\n",
       " '-0.53739',\n",
       " '1.02595',\n",
       " '-0.42022',\n",
       " '-1.99086',\n",
       " '0.32286',\n",
       " '1.98996',\n",
       " '-1.1813',\n",
       " '-0.7763',\n",
       " '-1.99991',\n",
       " '-0.31262',\n",
       " '-2.14995',\n",
       " '-0.41734',\n",
       " '1.09134',\n",
       " '0.39826',\n",
       " '-1.36673',\n",
       " '-0.23512',\n",
       " '-1.99602',\n",
       " '-0.24822',\n",
       " '0.3992',\n",
       " '0.10503',\n",
       " '2.26005',\n",
       " '1.67032',\n",
       " '-0.62489',\n",
       " '0.0519',\n",
       " '-0.31073',\n",
       " '0.30323',\n",
       " '-0.24757',\n",
       " '1.80943',\n",
       " '0.43642',\n",
       " '-0.21763',\n",
       " '0.13254',\n",
       " '-0.95106',\n",
       " '0.22',\n",
       " '1.50927',\n",
       " '0.01241',\n",
       " '0.62303',\n",
       " '0.91233',\n",
       " '1.18974',\n",
       " '0.2318',\n",
       " '-1.02489',\n",
       " '-0.6052',\n",
       " '0.22087',\n",
       " '-0.63523',\n",
       " '-0.59994',\n",
       " '-0.37251',\n",
       " '0.26912',\n",
       " '-0.91841',\n",
       " '-0.93375',\n",
       " '-1.05327',\n",
       " '0.23017',\n",
       " '0.44481',\n",
       " '0.29474',\n",
       " '0.74164',\n",
       " '-0.11136',\n",
       " '-0.57924',\n",
       " '0.7473',\n",
       " '-0.52055',\n",
       " '2.03541',\n",
       " '0.14219',\n",
       " '-0.5143',\n",
       " '1.32022']"
      ]
     },
     "execution_count": 9,
     "metadata": {},
     "output_type": "execute_result"
    }
   ],
   "source": [
    "accXList[12] # zeige Liste"
   ]
  },
  {
   "cell_type": "code",
   "execution_count": 10,
   "metadata": {
    "ExecuteTime": {
     "end_time": "2018-05-07T13:59:31.128939Z",
     "start_time": "2018-05-07T13:59:31.124940Z"
    }
   },
   "outputs": [
    {
     "data": {
      "text/plain": [
       "dtype('<U8')"
      ]
     },
     "execution_count": 10,
     "metadata": {},
     "output_type": "execute_result"
    }
   ],
   "source": [
    "np.array(accXList[1]).dtype"
   ]
  },
  {
   "cell_type": "code",
   "execution_count": 11,
   "metadata": {
    "ExecuteTime": {
     "end_time": "2018-05-07T13:59:52.863261Z",
     "start_time": "2018-05-07T13:59:32.711490Z"
    }
   },
   "outputs": [],
   "source": [
    "# Konvertiert die Python Objekte in der Liste zu den Type Float.\n",
    "# Das Ergebnis wird in einem Dataframe geschrieben\n",
    "accList = []\n",
    "accList.append(pandas.DataFrame(abs(np.array(accXList[0]).astype(float))).transpose())\n",
    "for x in accXList[1:]:\n",
    "    accList.append(pandas.DataFrame(abs(np.array(x).astype(float))).transpose())"
   ]
  },
  {
   "cell_type": "code",
   "execution_count": 12,
   "metadata": {
    "ExecuteTime": {
     "end_time": "2018-05-07T14:13:02.351727Z",
     "start_time": "2018-05-07T14:10:57.612839Z"
    }
   },
   "outputs": [],
   "source": [
    "accXDf = pandas.concat(accList, ignore_index=True)"
   ]
  },
  {
   "cell_type": "code",
   "execution_count": 13,
   "metadata": {
    "ExecuteTime": {
     "end_time": "2018-05-07T14:13:26.222504Z",
     "start_time": "2018-05-07T14:13:26.194505Z"
    }
   },
   "outputs": [
    {
     "data": {
      "text/html": [
       "<div>\n",
       "<style scoped>\n",
       "    .dataframe tbody tr th:only-of-type {\n",
       "        vertical-align: middle;\n",
       "    }\n",
       "\n",
       "    .dataframe tbody tr th {\n",
       "        vertical-align: top;\n",
       "    }\n",
       "\n",
       "    .dataframe thead th {\n",
       "        text-align: right;\n",
       "    }\n",
       "</style>\n",
       "<table border=\"1\" class=\"dataframe\">\n",
       "  <thead>\n",
       "    <tr style=\"text-align: right;\">\n",
       "      <th></th>\n",
       "      <th>0</th>\n",
       "      <th>1</th>\n",
       "      <th>2</th>\n",
       "      <th>3</th>\n",
       "      <th>4</th>\n",
       "      <th>5</th>\n",
       "      <th>6</th>\n",
       "      <th>7</th>\n",
       "      <th>8</th>\n",
       "      <th>9</th>\n",
       "      <th>...</th>\n",
       "      <th>57</th>\n",
       "      <th>58</th>\n",
       "      <th>59</th>\n",
       "      <th>60</th>\n",
       "      <th>61</th>\n",
       "      <th>62</th>\n",
       "      <th>63</th>\n",
       "      <th>64</th>\n",
       "      <th>65</th>\n",
       "      <th>66</th>\n",
       "    </tr>\n",
       "  </thead>\n",
       "  <tbody>\n",
       "    <tr>\n",
       "      <th>0</th>\n",
       "      <td>0.10848</td>\n",
       "      <td>0.14789</td>\n",
       "      <td>0.17942</td>\n",
       "      <td>0.32723</td>\n",
       "      <td>0.76725</td>\n",
       "      <td>0.44506</td>\n",
       "      <td>0.24172</td>\n",
       "      <td>0.42340</td>\n",
       "      <td>0.32359</td>\n",
       "      <td>0.74939</td>\n",
       "      <td>...</td>\n",
       "      <td>0.60253</td>\n",
       "      <td>0.43624</td>\n",
       "      <td>0.04921</td>\n",
       "      <td>0.33033</td>\n",
       "      <td>0.52456</td>\n",
       "      <td>NaN</td>\n",
       "      <td>NaN</td>\n",
       "      <td>NaN</td>\n",
       "      <td>NaN</td>\n",
       "      <td>NaN</td>\n",
       "    </tr>\n",
       "    <tr>\n",
       "      <th>1</th>\n",
       "      <td>0.53972</td>\n",
       "      <td>1.32033</td>\n",
       "      <td>0.76494</td>\n",
       "      <td>0.21338</td>\n",
       "      <td>1.30441</td>\n",
       "      <td>2.22321</td>\n",
       "      <td>0.73643</td>\n",
       "      <td>0.57558</td>\n",
       "      <td>0.78244</td>\n",
       "      <td>0.35453</td>\n",
       "      <td>...</td>\n",
       "      <td>0.93840</td>\n",
       "      <td>1.45597</td>\n",
       "      <td>3.27951</td>\n",
       "      <td>1.82700</td>\n",
       "      <td>2.07470</td>\n",
       "      <td>0.75589</td>\n",
       "      <td>NaN</td>\n",
       "      <td>NaN</td>\n",
       "      <td>NaN</td>\n",
       "      <td>NaN</td>\n",
       "    </tr>\n",
       "    <tr>\n",
       "      <th>2</th>\n",
       "      <td>0.24503</td>\n",
       "      <td>0.42604</td>\n",
       "      <td>0.04989</td>\n",
       "      <td>0.37719</td>\n",
       "      <td>0.34162</td>\n",
       "      <td>0.67151</td>\n",
       "      <td>0.79751</td>\n",
       "      <td>0.83703</td>\n",
       "      <td>0.99122</td>\n",
       "      <td>0.42504</td>\n",
       "      <td>...</td>\n",
       "      <td>0.01050</td>\n",
       "      <td>0.10016</td>\n",
       "      <td>0.15656</td>\n",
       "      <td>0.69200</td>\n",
       "      <td>0.51918</td>\n",
       "      <td>0.53811</td>\n",
       "      <td>NaN</td>\n",
       "      <td>NaN</td>\n",
       "      <td>NaN</td>\n",
       "      <td>NaN</td>\n",
       "    </tr>\n",
       "    <tr>\n",
       "      <th>3</th>\n",
       "      <td>0.49485</td>\n",
       "      <td>0.00270</td>\n",
       "      <td>0.44671</td>\n",
       "      <td>0.28601</td>\n",
       "      <td>0.39961</td>\n",
       "      <td>0.19729</td>\n",
       "      <td>0.37829</td>\n",
       "      <td>0.84677</td>\n",
       "      <td>0.17195</td>\n",
       "      <td>0.50549</td>\n",
       "      <td>...</td>\n",
       "      <td>0.41299</td>\n",
       "      <td>0.39150</td>\n",
       "      <td>0.46624</td>\n",
       "      <td>0.14297</td>\n",
       "      <td>0.68260</td>\n",
       "      <td>NaN</td>\n",
       "      <td>NaN</td>\n",
       "      <td>NaN</td>\n",
       "      <td>NaN</td>\n",
       "      <td>NaN</td>\n",
       "    </tr>\n",
       "    <tr>\n",
       "      <th>4</th>\n",
       "      <td>0.07049</td>\n",
       "      <td>0.77675</td>\n",
       "      <td>1.23450</td>\n",
       "      <td>0.43616</td>\n",
       "      <td>0.43236</td>\n",
       "      <td>1.32637</td>\n",
       "      <td>1.16817</td>\n",
       "      <td>0.68919</td>\n",
       "      <td>0.53583</td>\n",
       "      <td>0.13736</td>\n",
       "      <td>...</td>\n",
       "      <td>1.23006</td>\n",
       "      <td>0.92294</td>\n",
       "      <td>0.45666</td>\n",
       "      <td>1.11596</td>\n",
       "      <td>0.33325</td>\n",
       "      <td>NaN</td>\n",
       "      <td>NaN</td>\n",
       "      <td>NaN</td>\n",
       "      <td>NaN</td>\n",
       "      <td>NaN</td>\n",
       "    </tr>\n",
       "  </tbody>\n",
       "</table>\n",
       "<p>5 rows × 67 columns</p>\n",
       "</div>"
      ],
      "text/plain": [
       "        0        1        2        3        4        5        6        7   \\\n",
       "0  0.10848  0.14789  0.17942  0.32723  0.76725  0.44506  0.24172  0.42340   \n",
       "1  0.53972  1.32033  0.76494  0.21338  1.30441  2.22321  0.73643  0.57558   \n",
       "2  0.24503  0.42604  0.04989  0.37719  0.34162  0.67151  0.79751  0.83703   \n",
       "3  0.49485  0.00270  0.44671  0.28601  0.39961  0.19729  0.37829  0.84677   \n",
       "4  0.07049  0.77675  1.23450  0.43616  0.43236  1.32637  1.16817  0.68919   \n",
       "\n",
       "        8        9  ...       57       58       59       60       61       62  \\\n",
       "0  0.32359  0.74939 ...  0.60253  0.43624  0.04921  0.33033  0.52456      NaN   \n",
       "1  0.78244  0.35453 ...  0.93840  1.45597  3.27951  1.82700  2.07470  0.75589   \n",
       "2  0.99122  0.42504 ...  0.01050  0.10016  0.15656  0.69200  0.51918  0.53811   \n",
       "3  0.17195  0.50549 ...  0.41299  0.39150  0.46624  0.14297  0.68260      NaN   \n",
       "4  0.53583  0.13736 ...  1.23006  0.92294  0.45666  1.11596  0.33325      NaN   \n",
       "\n",
       "   63  64  65  66  \n",
       "0 NaN NaN NaN NaN  \n",
       "1 NaN NaN NaN NaN  \n",
       "2 NaN NaN NaN NaN  \n",
       "3 NaN NaN NaN NaN  \n",
       "4 NaN NaN NaN NaN  \n",
       "\n",
       "[5 rows x 67 columns]"
      ]
     },
     "execution_count": 13,
     "metadata": {},
     "output_type": "execute_result"
    }
   ],
   "source": [
    "accXDf.head()"
   ]
  },
  {
   "cell_type": "code",
   "execution_count": 14,
   "metadata": {
    "ExecuteTime": {
     "end_time": "2018-05-07T14:13:33.534234Z",
     "start_time": "2018-05-07T14:13:33.474233Z"
    }
   },
   "outputs": [
    {
     "data": {
      "text/plain": [
       "0     0.924603\n",
       "1     0.783440\n",
       "2     0.529428\n",
       "3     0.491929\n",
       "4     0.637369\n",
       "5     0.776810\n",
       "6     0.447416\n",
       "7     0.628181\n",
       "8     0.454039\n",
       "9     0.658008\n",
       "10    0.657937\n",
       "11    0.985380\n",
       "12    0.768498\n",
       "13    0.820796\n",
       "14    1.115941\n",
       "15    1.037056\n",
       "16    1.201934\n",
       "17    0.981223\n",
       "18    1.181004\n",
       "19    0.722605\n",
       "dtype: float64"
      ]
     },
     "execution_count": 14,
     "metadata": {},
     "output_type": "execute_result"
    }
   ],
   "source": [
    "# Um mehr Spalten eines Panda DataFrames auszugeben\n",
    "pandas.set_option('display.max_columns', 40)\n",
    "accXDf.T.mean().head(20)"
   ]
  },
  {
   "cell_type": "code",
   "execution_count": 15,
   "metadata": {
    "ExecuteTime": {
     "end_time": "2018-05-07T14:13:42.541514Z",
     "start_time": "2018-05-07T14:13:42.537514Z"
    }
   },
   "outputs": [
    {
     "data": {
      "text/plain": [
       "(4963, 67)"
      ]
     },
     "execution_count": 15,
     "metadata": {},
     "output_type": "execute_result"
    }
   ],
   "source": [
    "accXDf.shape"
   ]
  },
  {
   "cell_type": "code",
   "execution_count": 16,
   "metadata": {
    "ExecuteTime": {
     "end_time": "2018-05-07T14:16:18.319231Z",
     "start_time": "2018-05-07T14:13:50.440387Z"
    }
   },
   "outputs": [],
   "source": [
    "accYList = featuresDf['Y-Achse Beschleunigungswerte in m/s^2'].str.split(\" \").tolist()\n",
    "accList = []\n",
    "accList.append(pandas.DataFrame(abs(np.array(accYList[0]).astype(float))).transpose())\n",
    "for x in accYList[1:]:\n",
    "    accList.append(pandas.DataFrame(abs(np.array(x).astype(float))).transpose())\n",
    "accYDf = pandas.concat(accList, ignore_index=True)"
   ]
  },
  {
   "cell_type": "code",
   "execution_count": 17,
   "metadata": {
    "ExecuteTime": {
     "end_time": "2018-05-07T14:16:52.137572Z",
     "start_time": "2018-05-07T14:16:52.101572Z"
    }
   },
   "outputs": [
    {
     "name": "stdout",
     "output_type": "stream",
     "text": [
      "<class 'pandas.core.frame.DataFrame'>\n",
      "RangeIndex: 4963 entries, 0 to 4962\n",
      "Data columns (total 67 columns):\n",
      "0     4963 non-null float64\n",
      "1     4963 non-null float64\n",
      "2     4963 non-null float64\n",
      "3     4963 non-null float64\n",
      "4     4963 non-null float64\n",
      "5     4963 non-null float64\n",
      "6     4963 non-null float64\n",
      "7     4963 non-null float64\n",
      "8     4963 non-null float64\n",
      "9     4963 non-null float64\n",
      "10    4963 non-null float64\n",
      "11    4963 non-null float64\n",
      "12    4963 non-null float64\n",
      "13    4963 non-null float64\n",
      "14    4963 non-null float64\n",
      "15    4963 non-null float64\n",
      "16    4963 non-null float64\n",
      "17    4963 non-null float64\n",
      "18    4963 non-null float64\n",
      "19    4963 non-null float64\n",
      "20    4963 non-null float64\n",
      "21    4963 non-null float64\n",
      "22    4963 non-null float64\n",
      "23    4963 non-null float64\n",
      "24    4963 non-null float64\n",
      "25    4963 non-null float64\n",
      "26    4963 non-null float64\n",
      "27    4963 non-null float64\n",
      "28    4963 non-null float64\n",
      "29    4963 non-null float64\n",
      "30    4963 non-null float64\n",
      "31    4963 non-null float64\n",
      "32    4963 non-null float64\n",
      "33    4963 non-null float64\n",
      "34    4963 non-null float64\n",
      "35    4963 non-null float64\n",
      "36    4963 non-null float64\n",
      "37    4963 non-null float64\n",
      "38    4963 non-null float64\n",
      "39    4963 non-null float64\n",
      "40    4963 non-null float64\n",
      "41    4963 non-null float64\n",
      "42    4963 non-null float64\n",
      "43    4963 non-null float64\n",
      "44    4963 non-null float64\n",
      "45    4963 non-null float64\n",
      "46    4963 non-null float64\n",
      "47    4963 non-null float64\n",
      "48    4963 non-null float64\n",
      "49    4963 non-null float64\n",
      "50    4963 non-null float64\n",
      "51    4963 non-null float64\n",
      "52    4963 non-null float64\n",
      "53    4963 non-null float64\n",
      "54    4963 non-null float64\n",
      "55    4963 non-null float64\n",
      "56    4963 non-null float64\n",
      "57    4963 non-null float64\n",
      "58    4963 non-null float64\n",
      "59    4963 non-null float64\n",
      "60    4962 non-null float64\n",
      "61    4946 non-null float64\n",
      "62    1268 non-null float64\n",
      "63    2 non-null float64\n",
      "64    1 non-null float64\n",
      "65    1 non-null float64\n",
      "66    1 non-null float64\n",
      "dtypes: float64(67)\n",
      "memory usage: 2.5 MB\n"
     ]
    }
   ],
   "source": [
    "accYDf.info()"
   ]
  },
  {
   "cell_type": "code",
   "execution_count": 18,
   "metadata": {
    "ExecuteTime": {
     "end_time": "2018-05-07T14:16:50.142426Z",
     "start_time": "2018-05-07T14:16:47.429Z"
    }
   },
   "outputs": [
    {
     "data": {
      "text/html": [
       "<div>\n",
       "<style scoped>\n",
       "    .dataframe tbody tr th:only-of-type {\n",
       "        vertical-align: middle;\n",
       "    }\n",
       "\n",
       "    .dataframe tbody tr th {\n",
       "        vertical-align: top;\n",
       "    }\n",
       "\n",
       "    .dataframe thead th {\n",
       "        text-align: right;\n",
       "    }\n",
       "</style>\n",
       "<table border=\"1\" class=\"dataframe\">\n",
       "  <thead>\n",
       "    <tr style=\"text-align: right;\">\n",
       "      <th></th>\n",
       "      <th>0</th>\n",
       "      <th>1</th>\n",
       "      <th>2</th>\n",
       "      <th>3</th>\n",
       "      <th>4</th>\n",
       "      <th>5</th>\n",
       "      <th>6</th>\n",
       "      <th>7</th>\n",
       "      <th>8</th>\n",
       "      <th>9</th>\n",
       "      <th>10</th>\n",
       "      <th>11</th>\n",
       "      <th>12</th>\n",
       "      <th>13</th>\n",
       "      <th>14</th>\n",
       "      <th>15</th>\n",
       "      <th>16</th>\n",
       "      <th>17</th>\n",
       "      <th>18</th>\n",
       "      <th>19</th>\n",
       "      <th>...</th>\n",
       "      <th>47</th>\n",
       "      <th>48</th>\n",
       "      <th>49</th>\n",
       "      <th>50</th>\n",
       "      <th>51</th>\n",
       "      <th>52</th>\n",
       "      <th>53</th>\n",
       "      <th>54</th>\n",
       "      <th>55</th>\n",
       "      <th>56</th>\n",
       "      <th>57</th>\n",
       "      <th>58</th>\n",
       "      <th>59</th>\n",
       "      <th>60</th>\n",
       "      <th>61</th>\n",
       "      <th>62</th>\n",
       "      <th>63</th>\n",
       "      <th>64</th>\n",
       "      <th>65</th>\n",
       "      <th>66</th>\n",
       "    </tr>\n",
       "  </thead>\n",
       "  <tbody>\n",
       "    <tr>\n",
       "      <th>0</th>\n",
       "      <td>1.37155</td>\n",
       "      <td>0.51516</td>\n",
       "      <td>0.55304</td>\n",
       "      <td>1.17775</td>\n",
       "      <td>1.84676</td>\n",
       "      <td>2.88729</td>\n",
       "      <td>0.06503</td>\n",
       "      <td>1.73737</td>\n",
       "      <td>0.74615</td>\n",
       "      <td>0.82658</td>\n",
       "      <td>0.74862</td>\n",
       "      <td>0.12110</td>\n",
       "      <td>0.98542</td>\n",
       "      <td>0.88010</td>\n",
       "      <td>1.76310</td>\n",
       "      <td>6.42124</td>\n",
       "      <td>1.06128</td>\n",
       "      <td>3.68636</td>\n",
       "      <td>4.77382</td>\n",
       "      <td>3.58939</td>\n",
       "      <td>...</td>\n",
       "      <td>0.37413</td>\n",
       "      <td>0.37574</td>\n",
       "      <td>0.12863</td>\n",
       "      <td>0.57112</td>\n",
       "      <td>0.13494</td>\n",
       "      <td>0.68902</td>\n",
       "      <td>1.05706</td>\n",
       "      <td>0.41065</td>\n",
       "      <td>1.37029</td>\n",
       "      <td>0.16136</td>\n",
       "      <td>0.80579</td>\n",
       "      <td>0.41498</td>\n",
       "      <td>0.29608</td>\n",
       "      <td>0.43588</td>\n",
       "      <td>0.24126</td>\n",
       "      <td>NaN</td>\n",
       "      <td>NaN</td>\n",
       "      <td>NaN</td>\n",
       "      <td>NaN</td>\n",
       "      <td>NaN</td>\n",
       "    </tr>\n",
       "    <tr>\n",
       "      <th>1</th>\n",
       "      <td>2.00218</td>\n",
       "      <td>0.22286</td>\n",
       "      <td>2.22722</td>\n",
       "      <td>1.27594</td>\n",
       "      <td>0.22058</td>\n",
       "      <td>0.94280</td>\n",
       "      <td>0.55522</td>\n",
       "      <td>0.76615</td>\n",
       "      <td>0.29096</td>\n",
       "      <td>0.19645</td>\n",
       "      <td>0.20332</td>\n",
       "      <td>0.00572</td>\n",
       "      <td>0.24956</td>\n",
       "      <td>0.06102</td>\n",
       "      <td>0.03368</td>\n",
       "      <td>0.19568</td>\n",
       "      <td>0.23334</td>\n",
       "      <td>0.05832</td>\n",
       "      <td>0.45918</td>\n",
       "      <td>0.78125</td>\n",
       "      <td>...</td>\n",
       "      <td>1.19159</td>\n",
       "      <td>2.66275</td>\n",
       "      <td>2.32921</td>\n",
       "      <td>0.74169</td>\n",
       "      <td>1.55888</td>\n",
       "      <td>0.86422</td>\n",
       "      <td>0.65686</td>\n",
       "      <td>0.20353</td>\n",
       "      <td>2.16644</td>\n",
       "      <td>4.95114</td>\n",
       "      <td>1.47878</td>\n",
       "      <td>2.15717</td>\n",
       "      <td>1.15514</td>\n",
       "      <td>0.81703</td>\n",
       "      <td>0.31154</td>\n",
       "      <td>1.18374</td>\n",
       "      <td>NaN</td>\n",
       "      <td>NaN</td>\n",
       "      <td>NaN</td>\n",
       "      <td>NaN</td>\n",
       "    </tr>\n",
       "    <tr>\n",
       "      <th>2</th>\n",
       "      <td>1.21942</td>\n",
       "      <td>0.68458</td>\n",
       "      <td>0.18765</td>\n",
       "      <td>0.30316</td>\n",
       "      <td>1.33591</td>\n",
       "      <td>1.17616</td>\n",
       "      <td>0.34601</td>\n",
       "      <td>0.35162</td>\n",
       "      <td>0.66455</td>\n",
       "      <td>1.09876</td>\n",
       "      <td>0.27003</td>\n",
       "      <td>0.64488</td>\n",
       "      <td>0.19393</td>\n",
       "      <td>1.46925</td>\n",
       "      <td>0.06557</td>\n",
       "      <td>2.24345</td>\n",
       "      <td>0.38487</td>\n",
       "      <td>1.07135</td>\n",
       "      <td>1.08875</td>\n",
       "      <td>1.33051</td>\n",
       "      <td>...</td>\n",
       "      <td>0.23612</td>\n",
       "      <td>0.49554</td>\n",
       "      <td>0.18210</td>\n",
       "      <td>0.49829</td>\n",
       "      <td>1.10284</td>\n",
       "      <td>1.26516</td>\n",
       "      <td>0.04533</td>\n",
       "      <td>1.69132</td>\n",
       "      <td>0.78629</td>\n",
       "      <td>2.02165</td>\n",
       "      <td>0.98776</td>\n",
       "      <td>1.02023</td>\n",
       "      <td>0.37882</td>\n",
       "      <td>0.21811</td>\n",
       "      <td>1.72537</td>\n",
       "      <td>0.61398</td>\n",
       "      <td>NaN</td>\n",
       "      <td>NaN</td>\n",
       "      <td>NaN</td>\n",
       "      <td>NaN</td>\n",
       "    </tr>\n",
       "    <tr>\n",
       "      <th>3</th>\n",
       "      <td>2.19566</td>\n",
       "      <td>0.40829</td>\n",
       "      <td>0.92967</td>\n",
       "      <td>1.20246</td>\n",
       "      <td>0.46289</td>\n",
       "      <td>0.61055</td>\n",
       "      <td>0.25877</td>\n",
       "      <td>0.97267</td>\n",
       "      <td>1.10676</td>\n",
       "      <td>0.22672</td>\n",
       "      <td>1.02896</td>\n",
       "      <td>1.40526</td>\n",
       "      <td>0.20465</td>\n",
       "      <td>1.18487</td>\n",
       "      <td>0.44630</td>\n",
       "      <td>1.42946</td>\n",
       "      <td>0.46918</td>\n",
       "      <td>0.66680</td>\n",
       "      <td>0.41103</td>\n",
       "      <td>1.01854</td>\n",
       "      <td>...</td>\n",
       "      <td>1.40134</td>\n",
       "      <td>0.90138</td>\n",
       "      <td>3.64760</td>\n",
       "      <td>0.69607</td>\n",
       "      <td>2.01757</td>\n",
       "      <td>1.39972</td>\n",
       "      <td>3.07851</td>\n",
       "      <td>0.86905</td>\n",
       "      <td>1.48080</td>\n",
       "      <td>1.44530</td>\n",
       "      <td>1.95412</td>\n",
       "      <td>2.03813</td>\n",
       "      <td>0.60683</td>\n",
       "      <td>0.36306</td>\n",
       "      <td>1.01182</td>\n",
       "      <td>NaN</td>\n",
       "      <td>NaN</td>\n",
       "      <td>NaN</td>\n",
       "      <td>NaN</td>\n",
       "      <td>NaN</td>\n",
       "    </tr>\n",
       "    <tr>\n",
       "      <th>4</th>\n",
       "      <td>0.20345</td>\n",
       "      <td>0.31580</td>\n",
       "      <td>0.48231</td>\n",
       "      <td>1.24375</td>\n",
       "      <td>0.10843</td>\n",
       "      <td>1.06759</td>\n",
       "      <td>0.85425</td>\n",
       "      <td>1.09731</td>\n",
       "      <td>0.51636</td>\n",
       "      <td>0.12177</td>\n",
       "      <td>0.10196</td>\n",
       "      <td>0.07147</td>\n",
       "      <td>0.97637</td>\n",
       "      <td>0.13846</td>\n",
       "      <td>0.54794</td>\n",
       "      <td>1.25028</td>\n",
       "      <td>0.68547</td>\n",
       "      <td>0.41065</td>\n",
       "      <td>1.98505</td>\n",
       "      <td>0.72978</td>\n",
       "      <td>...</td>\n",
       "      <td>0.27824</td>\n",
       "      <td>1.18693</td>\n",
       "      <td>0.04532</td>\n",
       "      <td>0.17845</td>\n",
       "      <td>0.02036</td>\n",
       "      <td>1.07146</td>\n",
       "      <td>0.01642</td>\n",
       "      <td>0.29314</td>\n",
       "      <td>0.82296</td>\n",
       "      <td>0.13756</td>\n",
       "      <td>0.44734</td>\n",
       "      <td>0.78709</td>\n",
       "      <td>0.03226</td>\n",
       "      <td>1.00666</td>\n",
       "      <td>0.22113</td>\n",
       "      <td>NaN</td>\n",
       "      <td>NaN</td>\n",
       "      <td>NaN</td>\n",
       "      <td>NaN</td>\n",
       "      <td>NaN</td>\n",
       "    </tr>\n",
       "  </tbody>\n",
       "</table>\n",
       "<p>5 rows × 67 columns</p>\n",
       "</div>"
      ],
      "text/plain": [
       "        0        1        2        3        4        5        6        7   \\\n",
       "0  1.37155  0.51516  0.55304  1.17775  1.84676  2.88729  0.06503  1.73737   \n",
       "1  2.00218  0.22286  2.22722  1.27594  0.22058  0.94280  0.55522  0.76615   \n",
       "2  1.21942  0.68458  0.18765  0.30316  1.33591  1.17616  0.34601  0.35162   \n",
       "3  2.19566  0.40829  0.92967  1.20246  0.46289  0.61055  0.25877  0.97267   \n",
       "4  0.20345  0.31580  0.48231  1.24375  0.10843  1.06759  0.85425  1.09731   \n",
       "\n",
       "        8        9        10       11       12       13       14       15  \\\n",
       "0  0.74615  0.82658  0.74862  0.12110  0.98542  0.88010  1.76310  6.42124   \n",
       "1  0.29096  0.19645  0.20332  0.00572  0.24956  0.06102  0.03368  0.19568   \n",
       "2  0.66455  1.09876  0.27003  0.64488  0.19393  1.46925  0.06557  2.24345   \n",
       "3  1.10676  0.22672  1.02896  1.40526  0.20465  1.18487  0.44630  1.42946   \n",
       "4  0.51636  0.12177  0.10196  0.07147  0.97637  0.13846  0.54794  1.25028   \n",
       "\n",
       "        16       17       18       19 ...       47       48       49       50  \\\n",
       "0  1.06128  3.68636  4.77382  3.58939 ...  0.37413  0.37574  0.12863  0.57112   \n",
       "1  0.23334  0.05832  0.45918  0.78125 ...  1.19159  2.66275  2.32921  0.74169   \n",
       "2  0.38487  1.07135  1.08875  1.33051 ...  0.23612  0.49554  0.18210  0.49829   \n",
       "3  0.46918  0.66680  0.41103  1.01854 ...  1.40134  0.90138  3.64760  0.69607   \n",
       "4  0.68547  0.41065  1.98505  0.72978 ...  0.27824  1.18693  0.04532  0.17845   \n",
       "\n",
       "        51       52       53       54       55       56       57       58  \\\n",
       "0  0.13494  0.68902  1.05706  0.41065  1.37029  0.16136  0.80579  0.41498   \n",
       "1  1.55888  0.86422  0.65686  0.20353  2.16644  4.95114  1.47878  2.15717   \n",
       "2  1.10284  1.26516  0.04533  1.69132  0.78629  2.02165  0.98776  1.02023   \n",
       "3  2.01757  1.39972  3.07851  0.86905  1.48080  1.44530  1.95412  2.03813   \n",
       "4  0.02036  1.07146  0.01642  0.29314  0.82296  0.13756  0.44734  0.78709   \n",
       "\n",
       "        59       60       61       62  63  64  65  66  \n",
       "0  0.29608  0.43588  0.24126      NaN NaN NaN NaN NaN  \n",
       "1  1.15514  0.81703  0.31154  1.18374 NaN NaN NaN NaN  \n",
       "2  0.37882  0.21811  1.72537  0.61398 NaN NaN NaN NaN  \n",
       "3  0.60683  0.36306  1.01182      NaN NaN NaN NaN NaN  \n",
       "4  0.03226  1.00666  0.22113      NaN NaN NaN NaN NaN  \n",
       "\n",
       "[5 rows x 67 columns]"
      ]
     },
     "execution_count": 18,
     "metadata": {},
     "output_type": "execute_result"
    }
   ],
   "source": [
    "accYDf.head()"
   ]
  },
  {
   "cell_type": "code",
   "execution_count": 19,
   "metadata": {
    "ExecuteTime": {
     "end_time": "2018-05-07T14:19:30.721250Z",
     "start_time": "2018-05-07T14:17:00.495400Z"
    }
   },
   "outputs": [],
   "source": [
    "# Konvertiere Beschleunigungssensordaten Z-Achse zu einem DataFrame\n",
    "measuredDataList = featuresDf['Z-Achse Beschleunigungswerte in m/s^2'].str.split(\" \").tolist()\n",
    "accList = []\n",
    "accList.append(pandas.DataFrame(abs(np.array(measuredDataList[0]).astype(float))).transpose())\n",
    "for x in measuredDataList[1:]:\n",
    "    accList.append(pandas.DataFrame(abs(np.array(x).astype(float))).transpose())\n",
    "accZDf = pandas.concat(accList, ignore_index=True)"
   ]
  },
  {
   "cell_type": "code",
   "execution_count": 20,
   "metadata": {
    "ExecuteTime": {
     "end_time": "2018-05-07T14:22:24.186902Z",
     "start_time": "2018-05-07T14:19:54.669698Z"
    }
   },
   "outputs": [],
   "source": [
    "# Konvertiere Nick Messwerte zu DataFrame\n",
    "measuredDataList = featuresDf['Nick Messwerte in rad'].str.split(\" \").tolist()\n",
    "pitchList = []\n",
    "pitchList.append(pandas.DataFrame(abs(np.array(measuredDataList[0]).astype(float))).transpose())\n",
    "for x in measuredDataList[1:]:\n",
    "    pitchList.append(pandas.DataFrame(abs(np.array(x).astype(float))).transpose())\n",
    "nickDf = pandas.concat(pitchList, ignore_index=True)"
   ]
  },
  {
   "cell_type": "code",
   "execution_count": 21,
   "metadata": {
    "ExecuteTime": {
     "end_time": "2018-05-07T14:28:50.529277Z",
     "start_time": "2018-05-07T14:26:21.179651Z"
    }
   },
   "outputs": [],
   "source": [
    "# Konvertiere Roll Messwerte zu DataFrame\n",
    "measuredDataList = featuresDf['Roll Messwerte in rad'].str.split(\" \").tolist()\n",
    "rollList = []\n",
    "rollList.append(pandas.DataFrame(abs(np.array(measuredDataList[0]).astype(float))).transpose())\n",
    "for x in measuredDataList[1:]:\n",
    "    rollList.append(pandas.DataFrame(abs(np.array(x).astype(float))).transpose())\n",
    "rollDf = pandas.concat(rollList, ignore_index=True)"
   ]
  },
  {
   "cell_type": "code",
   "execution_count": 22,
   "metadata": {
    "ExecuteTime": {
     "end_time": "2018-05-07T14:33:53.610725Z",
     "start_time": "2018-05-07T14:31:23.046118Z"
    }
   },
   "outputs": [],
   "source": [
    "measuredDataList = featuresDf['Gier Messwerte in rad'].str.split(\" \").tolist()\n",
    "azimuthList = []\n",
    "azimuthList.append(pandas.DataFrame(abs(np.array(measuredDataList[0]).astype(float))).transpose())\n",
    "for x in measuredDataList[1:]:\n",
    "    azimuthList.append(pandas.DataFrame(abs(np.array(x).astype(float))).transpose())\n",
    "azimuthDf = pandas.concat(azimuthList, ignore_index=True)"
   ]
  },
  {
   "cell_type": "code",
   "execution_count": 23,
   "metadata": {
    "ExecuteTime": {
     "end_time": "2018-05-07T14:42:30.936001Z",
     "start_time": "2018-05-07T14:40:01.500632Z"
    }
   },
   "outputs": [],
   "source": [
    "measuredDataList = featuresDf['Zeitstempel der Messwerte in ns'].str.split(\" \").tolist()\n",
    "timestampsList = []\n",
    "timestampsList.append(pandas.DataFrame(abs(np.array(measuredDataList[0]).astype(float))).transpose())\n",
    "for x in measuredDataList[1:]:\n",
    "    timestampsList.append(pandas.DataFrame(abs(np.array(x).astype(float))).transpose())\n",
    "sensorTimestampsDf = pandas.concat(timestampsList, ignore_index=True)"
   ]
  },
  {
   "cell_type": "code",
   "execution_count": 24,
   "metadata": {
    "ExecuteTime": {
     "end_time": "2018-05-07T14:49:49.944787Z",
     "start_time": "2018-05-07T14:49:49.679888Z"
    }
   },
   "outputs": [],
   "source": [
    "# Neue Spalten werden erstellt und Mittelwerte zugewiesen\n",
    "featuresDf['Mittelwert X-Achse Beschleunigung in m/s^2'] = accXDf.T.mean()\n",
    "featuresDf['Mittelwert Y-Achse Beschleunigung in m/s^2'] = accYDf.T.mean()\n",
    "featuresDf['Mittelwert Z-Achse Beschleunigung in m/s^2'] = accZDf.T.mean()\n",
    "featuresDf['Mittelwert Nick in rad'] = nickDf.T.mean()\n",
    "featuresDf['Mittelwert Roll in rad'] = rollDf.T.mean()"
   ]
  },
  {
   "cell_type": "code",
   "execution_count": 25,
   "metadata": {
    "ExecuteTime": {
     "end_time": "2018-05-07T14:49:56.993478Z",
     "start_time": "2018-05-07T14:49:56.985478Z"
    }
   },
   "outputs": [
    {
     "data": {
      "text/plain": [
       "0    0.924603\n",
       "1    0.783440\n",
       "Name: Mittelwert X-Achse Beschleunigung in m/s^2, dtype: float64"
      ]
     },
     "execution_count": 25,
     "metadata": {},
     "output_type": "execute_result"
    }
   ],
   "source": [
    "featuresDf['Mittelwert X-Achse Beschleunigung in m/s^2'].head(2)"
   ]
  },
  {
   "cell_type": "code",
   "execution_count": 26,
   "metadata": {
    "ExecuteTime": {
     "end_time": "2018-05-07T14:50:04.635958Z",
     "start_time": "2018-05-07T14:50:04.627960Z"
    },
    "scrolled": true
   },
   "outputs": [
    {
     "data": {
      "text/plain": [
       "Index(['Zeitstempel in Unixzeit', 'Breitengrad', 'Laengengrad',\n",
       "       'Geschwindigkeit in km/h', 'X-Achse Beschleunigungswerte in m/s^2',\n",
       "       'Y-Achse Beschleunigungswerte in m/s^2',\n",
       "       'Z-Achse Beschleunigungswerte in m/s^2', 'Gier Messwerte in rad',\n",
       "       'Nick Messwerte in rad', 'Roll Messwerte in rad',\n",
       "       'Zeitstempel der Messwerte in ns', 'Anzahl der Messwerte',\n",
       "       'Start des Zeitfensters in ns seit Start der JVM',\n",
       "       'Start der Messwerterfassung in ns seit Start der JVM',\n",
       "       'Start der Belichtung in ns seit Start der JVM',\n",
       "       'Belichtungszeit in ns',\n",
       "       'Letzter Zeitstempel der Messwerterfassung in ns seit Start der JVM',\n",
       "       'Stopp der Messwerterfassung in Unixzeit',\n",
       "       'Mittelwert X-Achse Beschleunigung in m/s^2',\n",
       "       'Mittelwert Y-Achse Beschleunigung in m/s^2',\n",
       "       'Mittelwert Z-Achse Beschleunigung in m/s^2', 'Mittelwert Nick in rad',\n",
       "       'Mittelwert Roll in rad'],\n",
       "      dtype='object')"
      ]
     },
     "execution_count": 26,
     "metadata": {},
     "output_type": "execute_result"
    }
   ],
   "source": [
    "featuresDf.columns"
   ]
  },
  {
   "cell_type": "markdown",
   "metadata": {},
   "source": [
    "Berechnet die Varianz. Dieser Funktion muss als Paramter der Mittelwert (mean) und der DataFrame mit   \n",
    "den Float Werten übergeben werden, um die Varianz zu berechnen. Als Varianz wird der Durchschnitt der quadrierten  \n",
    "Differenzen zum Mittelwert bezeichnet.   \n",
    "Prec.:    \n",
    "Postc.: Gibt die berechnete Variance als Float zurück oder 0 wenn die Anzahl der Werte <= 0  "
   ]
  },
  {
   "cell_type": "code",
   "execution_count": 27,
   "metadata": {
    "ExecuteTime": {
     "end_time": "2018-05-07T14:50:11.704037Z",
     "start_time": "2018-05-07T14:50:11.696038Z"
    }
   },
   "outputs": [],
   "source": [
    "def calcVariance(meansDf, dfValues):\n",
    "    variance = []\n",
    "    for i, values in dfValues.iterrows():\n",
    "        sum = 0\n",
    "        for value in values:\n",
    "            if math.isnan(value) == False:\n",
    "                tempDifference = value-meansDf[i]\n",
    "                sum += tempDifference * tempDifference\n",
    "        variance.append(\"{0:.5f}\".format(round(sum / values.count(),5)))\n",
    "    return np.array(variance).astype(float)"
   ]
  },
  {
   "cell_type": "markdown",
   "metadata": {},
   "source": [
    "Hier wird die Standardabweichung der Varianz berechnet. Dies ist die Wurzel der Varianz.   \n",
    "Für die Berechnung wird der Absolutwert von der Varianz genommen.    \n",
    "Prec.:\n",
    "Postc.:  Standardabweichung wird zurückgegeben."
   ]
  },
  {
   "cell_type": "code",
   "execution_count": 28,
   "metadata": {
    "ExecuteTime": {
     "end_time": "2018-05-07T14:50:17.426578Z",
     "start_time": "2018-05-07T14:50:17.422578Z"
    }
   },
   "outputs": [],
   "source": [
    "def calculateStandardDeviation(varianceDf):\n",
    "    deviation = []\n",
    "    for v in varianceDf:\n",
    "        temp = math.sqrt(np.abs(v))\n",
    "        deviation.append(\"{0:.5f}\".format(round(temp,5)))\n",
    "    return np.array(deviation).astype(float)"
   ]
  },
  {
   "cell_type": "markdown",
   "metadata": {},
   "source": [
    "Die Funktion berechnet die Winkeldifferenz in rad zwischen den ersten gemessenen Gierwinkel und den letzten Gierwinkel   \n",
    "innerhalb einer als Argument übergebenen DataFrames. Der zurückgegebene Radiant    \n",
    "ist immer positiv und gibt die relative änderung in rad an.      \n",
    "Prec.:   \n",
    "Postc.: Radiant berechnet   "
   ]
  },
  {
   "cell_type": "code",
   "execution_count": 29,
   "metadata": {
    "ExecuteTime": {
     "end_time": "2018-05-07T14:50:22.899787Z",
     "start_time": "2018-05-07T14:50:22.891788Z"
    }
   },
   "outputs": [],
   "source": [
    "def calculateAngelChangeAzimuth(azimuthDf):\n",
    "    result = []\n",
    "    for i,values in azimuthDf.iterrows():\n",
    "        first = values[0]*(180/math.pi)\n",
    "        last = values.iloc[values.count()-1]*(180/math.pi)\n",
    "        resultTemp = np.abs(first - last)\n",
    "        if(resultTemp > 180):\n",
    "            resultTemp = 360 - resultTemp\n",
    "        result.append(\"{0:.5f}\".format(round(resultTemp * ( math.pi / 180),5)))\n",
    "    return np.array(result).astype(float)"
   ]
  },
  {
   "cell_type": "code",
   "execution_count": 30,
   "metadata": {
    "ExecuteTime": {
     "end_time": "2018-05-07T14:50:41.198418Z",
     "start_time": "2018-05-07T14:50:29.919986Z"
    }
   },
   "outputs": [],
   "source": [
    "featuresDf['Gier-Aenderung in rad'] = calculateAngelChangeAzimuth(azimuthDf)"
   ]
  },
  {
   "cell_type": "code",
   "execution_count": 31,
   "metadata": {},
   "outputs": [
    {
     "data": {
      "text/html": [
       "<div>\n",
       "<style scoped>\n",
       "    .dataframe tbody tr th:only-of-type {\n",
       "        vertical-align: middle;\n",
       "    }\n",
       "\n",
       "    .dataframe tbody tr th {\n",
       "        vertical-align: top;\n",
       "    }\n",
       "\n",
       "    .dataframe thead th {\n",
       "        text-align: right;\n",
       "    }\n",
       "</style>\n",
       "<table border=\"1\" class=\"dataframe\">\n",
       "  <thead>\n",
       "    <tr style=\"text-align: right;\">\n",
       "      <th></th>\n",
       "      <th>0</th>\n",
       "      <th>1</th>\n",
       "      <th>2</th>\n",
       "      <th>3</th>\n",
       "      <th>4</th>\n",
       "      <th>5</th>\n",
       "      <th>6</th>\n",
       "      <th>7</th>\n",
       "      <th>8</th>\n",
       "      <th>9</th>\n",
       "      <th>10</th>\n",
       "      <th>11</th>\n",
       "      <th>12</th>\n",
       "      <th>13</th>\n",
       "      <th>14</th>\n",
       "      <th>15</th>\n",
       "      <th>16</th>\n",
       "      <th>17</th>\n",
       "      <th>18</th>\n",
       "      <th>19</th>\n",
       "      <th>...</th>\n",
       "      <th>47</th>\n",
       "      <th>48</th>\n",
       "      <th>49</th>\n",
       "      <th>50</th>\n",
       "      <th>51</th>\n",
       "      <th>52</th>\n",
       "      <th>53</th>\n",
       "      <th>54</th>\n",
       "      <th>55</th>\n",
       "      <th>56</th>\n",
       "      <th>57</th>\n",
       "      <th>58</th>\n",
       "      <th>59</th>\n",
       "      <th>60</th>\n",
       "      <th>61</th>\n",
       "      <th>62</th>\n",
       "      <th>63</th>\n",
       "      <th>64</th>\n",
       "      <th>65</th>\n",
       "      <th>66</th>\n",
       "    </tr>\n",
       "  </thead>\n",
       "  <tbody>\n",
       "  </tbody>\n",
       "</table>\n",
       "<p>0 rows × 67 columns</p>\n",
       "</div>"
      ],
      "text/plain": [
       "Empty DataFrame\n",
       "Columns: [0, 1, 2, 3, 4, 5, 6, 7, 8, 9, 10, 11, 12, 13, 14, 15, 16, 17, 18, 19, 20, 21, 22, 23, 24, 25, 26, 27, 28, 29, 30, 31, 32, 33, 34, 35, 36, 37, 38, 39, 40, 41, 42, 43, 44, 45, 46, 47, 48, 49, 50, 51, 52, 53, 54, 55, 56, 57, 58, 59, 60, 61, 62, 63, 64, 65, 66]\n",
       "Index: []\n",
       "\n",
       "[0 rows x 67 columns]"
      ]
     },
     "execution_count": 31,
     "metadata": {},
     "output_type": "execute_result"
    }
   ],
   "source": [
    "accXDf[14957:14961]"
   ]
  },
  {
   "cell_type": "code",
   "execution_count": 33,
   "metadata": {},
   "outputs": [
    {
     "data": {
      "text/plain": [
       "0.65793677419354823"
      ]
     },
     "execution_count": 33,
     "metadata": {},
     "output_type": "execute_result"
    }
   ],
   "source": [
    "featuresDf['Mittelwert X-Achse Beschleunigung in m/s^2'].iloc[10]"
   ]
  },
  {
   "cell_type": "code",
   "execution_count": 34,
   "metadata": {
    "ExecuteTime": {
     "end_time": "2018-05-07T15:16:03.331865Z",
     "start_time": "2018-05-07T15:15:58.790315Z"
    }
   },
   "outputs": [],
   "source": [
    "# Berechnung der Varianzen und hinzufügen der Ergebnisse als neue Spalte in dem DataFrame \n",
    "featuresDf['Varianz X-Achse Beschleunigung in m/s^2'] = calcVariance(featuresDf['Mittelwert X-Achse Beschleunigung in m/s^2'],accXDf)\n",
    "featuresDf['Varianz Y-Achse Beschleunigung in m/s^2'] = calcVariance(featuresDf['Mittelwert Y-Achse Beschleunigung in m/s^2'],accYDf)\n",
    "featuresDf['Varianz Z-Achse Beschleunigung in m/s^2'] = calcVariance(featuresDf['Mittelwert Z-Achse Beschleunigung in m/s^2'],accZDf)\n",
    "featuresDf['Varianz Nick in rad'] = calcVariance(featuresDf['Mittelwert Nick in rad'],nickDf)\n",
    "featuresDf['Varianz Roll in rad'] = calcVariance(featuresDf['Mittelwert Roll in rad'],rollDf)"
   ]
  },
  {
   "cell_type": "code",
   "execution_count": 35,
   "metadata": {
    "ExecuteTime": {
     "end_time": "2018-05-07T13:55:13.914004Z",
     "start_time": "2018-05-07T13:51:52.727Z"
    }
   },
   "outputs": [
    {
     "data": {
      "text/plain": [
       "0    0.53950\n",
       "1    0.36854\n",
       "2    0.19949\n",
       "3    0.09243\n",
       "4    0.24041\n",
       "Name: Varianz X-Achse Beschleunigung in m/s^2, dtype: float64"
      ]
     },
     "execution_count": 35,
     "metadata": {},
     "output_type": "execute_result"
    }
   ],
   "source": [
    "featuresDf['Varianz X-Achse Beschleunigung in m/s^2'].head()"
   ]
  },
  {
   "cell_type": "code",
   "execution_count": 36,
   "metadata": {
    "ExecuteTime": {
     "end_time": "2018-05-07T13:55:13.929630Z",
     "start_time": "2018-05-07T13:51:53.592Z"
    }
   },
   "outputs": [
    {
     "data": {
      "text/plain": [
       "array([ 0.73451,  0.60707,  0.44664, ...,  0.51258,  0.39152,  1.79728])"
      ]
     },
     "execution_count": 36,
     "metadata": {},
     "output_type": "execute_result"
    }
   ],
   "source": [
    "calculateStandardDeviation(featuresDf['Varianz X-Achse Beschleunigung in m/s^2'])"
   ]
  },
  {
   "cell_type": "code",
   "execution_count": 37,
   "metadata": {
    "ExecuteTime": {
     "end_time": "2018-05-07T13:55:13.929630Z",
     "start_time": "2018-05-07T13:51:59.147Z"
    }
   },
   "outputs": [],
   "source": [
    "# Berechne Standardabweichung\n",
    "featuresDf['Standardabweichung X-Achse Beschleunigung in m/s^2'] = calculateStandardDeviation(featuresDf['Varianz X-Achse Beschleunigung in m/s^2'])\n",
    "featuresDf['Standardabweichung Y-Achse Beschleunigung in m/s^2'] = calculateStandardDeviation(featuresDf['Varianz Y-Achse Beschleunigung in m/s^2'])\n",
    "featuresDf['Standardabweichung Z-Achse Beschleunigung in m/s^2'] = calculateStandardDeviation(featuresDf['Varianz Z-Achse Beschleunigung in m/s^2'])\n",
    "featuresDf['Standardabweichung Nick in rad'] = calculateStandardDeviation(featuresDf['Varianz Nick in rad'])\n",
    "featuresDf['Standardabweichung Roll in rad'] = calculateStandardDeviation(featuresDf['Varianz Roll in rad'])"
   ]
  },
  {
   "cell_type": "code",
   "execution_count": 38,
   "metadata": {
    "ExecuteTime": {
     "end_time": "2018-05-07T13:55:13.929630Z",
     "start_time": "2018-05-07T13:51:59.496Z"
    }
   },
   "outputs": [
    {
     "data": {
      "text/plain": [
       "0    0.73451\n",
       "1    0.60707\n",
       "2    0.44664\n",
       "3    0.30402\n",
       "4    0.49032\n",
       "Name: Standardabweichung X-Achse Beschleunigung in m/s^2, dtype: float64"
      ]
     },
     "execution_count": 38,
     "metadata": {},
     "output_type": "execute_result"
    }
   ],
   "source": [
    "featuresDf['Standardabweichung X-Achse Beschleunigung in m/s^2'].head()"
   ]
  },
  {
   "cell_type": "code",
   "execution_count": 39,
   "metadata": {
    "ExecuteTime": {
     "end_time": "2018-05-07T13:55:13.929630Z",
     "start_time": "2018-05-07T13:51:59.806Z"
    }
   },
   "outputs": [
    {
     "name": "stdout",
     "output_type": "stream",
     "text": [
      "<class 'pandas.core.frame.DataFrame'>\n",
      "RangeIndex: 4963 entries, 0 to 4962\n",
      "Data columns (total 67 columns):\n",
      "0     4963 non-null float64\n",
      "1     4963 non-null float64\n",
      "2     4963 non-null float64\n",
      "3     4963 non-null float64\n",
      "4     4963 non-null float64\n",
      "5     4963 non-null float64\n",
      "6     4963 non-null float64\n",
      "7     4963 non-null float64\n",
      "8     4963 non-null float64\n",
      "9     4963 non-null float64\n",
      "10    4963 non-null float64\n",
      "11    4963 non-null float64\n",
      "12    4963 non-null float64\n",
      "13    4963 non-null float64\n",
      "14    4963 non-null float64\n",
      "15    4963 non-null float64\n",
      "16    4963 non-null float64\n",
      "17    4963 non-null float64\n",
      "18    4963 non-null float64\n",
      "19    4963 non-null float64\n",
      "20    4963 non-null float64\n",
      "21    4963 non-null float64\n",
      "22    4963 non-null float64\n",
      "23    4963 non-null float64\n",
      "24    4963 non-null float64\n",
      "25    4963 non-null float64\n",
      "26    4963 non-null float64\n",
      "27    4963 non-null float64\n",
      "28    4963 non-null float64\n",
      "29    4963 non-null float64\n",
      "30    4963 non-null float64\n",
      "31    4963 non-null float64\n",
      "32    4963 non-null float64\n",
      "33    4963 non-null float64\n",
      "34    4963 non-null float64\n",
      "35    4963 non-null float64\n",
      "36    4963 non-null float64\n",
      "37    4963 non-null float64\n",
      "38    4963 non-null float64\n",
      "39    4963 non-null float64\n",
      "40    4963 non-null float64\n",
      "41    4963 non-null float64\n",
      "42    4963 non-null float64\n",
      "43    4963 non-null float64\n",
      "44    4963 non-null float64\n",
      "45    4963 non-null float64\n",
      "46    4963 non-null float64\n",
      "47    4963 non-null float64\n",
      "48    4963 non-null float64\n",
      "49    4963 non-null float64\n",
      "50    4963 non-null float64\n",
      "51    4963 non-null float64\n",
      "52    4963 non-null float64\n",
      "53    4963 non-null float64\n",
      "54    4963 non-null float64\n",
      "55    4963 non-null float64\n",
      "56    4963 non-null float64\n",
      "57    4963 non-null float64\n",
      "58    4963 non-null float64\n",
      "59    4963 non-null float64\n",
      "60    4962 non-null float64\n",
      "61    4946 non-null float64\n",
      "62    1268 non-null float64\n",
      "63    2 non-null float64\n",
      "64    1 non-null float64\n",
      "65    1 non-null float64\n",
      "66    1 non-null float64\n",
      "dtypes: float64(67)\n",
      "memory usage: 2.5 MB\n"
     ]
    }
   ],
   "source": [
    "accXDf.info()"
   ]
  },
  {
   "cell_type": "code",
   "execution_count": 252,
   "metadata": {
    "ExecuteTime": {
     "end_time": "2018-05-07T13:55:13.929630Z",
     "start_time": "2018-05-07T13:52:01.837Z"
    }
   },
   "outputs": [
    {
     "data": {
      "text/html": [
       "<div>\n",
       "<style scoped>\n",
       "    .dataframe tbody tr th:only-of-type {\n",
       "        vertical-align: middle;\n",
       "    }\n",
       "\n",
       "    .dataframe tbody tr th {\n",
       "        vertical-align: top;\n",
       "    }\n",
       "\n",
       "    .dataframe thead th {\n",
       "        text-align: right;\n",
       "    }\n",
       "</style>\n",
       "<table border=\"1\" class=\"dataframe\">\n",
       "  <thead>\n",
       "    <tr style=\"text-align: right;\">\n",
       "      <th></th>\n",
       "      <th>0</th>\n",
       "      <th>1</th>\n",
       "      <th>2</th>\n",
       "      <th>3</th>\n",
       "      <th>4</th>\n",
       "      <th>5</th>\n",
       "      <th>6</th>\n",
       "      <th>7</th>\n",
       "      <th>8</th>\n",
       "      <th>9</th>\n",
       "      <th>10</th>\n",
       "      <th>11</th>\n",
       "      <th>12</th>\n",
       "      <th>13</th>\n",
       "      <th>14</th>\n",
       "      <th>15</th>\n",
       "      <th>16</th>\n",
       "      <th>17</th>\n",
       "      <th>18</th>\n",
       "      <th>19</th>\n",
       "      <th>20</th>\n",
       "      <th>21</th>\n",
       "      <th>22</th>\n",
       "    </tr>\n",
       "  </thead>\n",
       "  <tbody>\n",
       "    <tr>\n",
       "      <th>0</th>\n",
       "      <td>0.66929</td>\n",
       "      <td>0.81137</td>\n",
       "      <td>0.75647</td>\n",
       "      <td>0.22221</td>\n",
       "      <td>0.14389</td>\n",
       "      <td>0.13032</td>\n",
       "      <td>0.34931</td>\n",
       "      <td>0.26401</td>\n",
       "      <td>0.34900</td>\n",
       "      <td>0.41699</td>\n",
       "      <td>0.27218</td>\n",
       "      <td>0.38619</td>\n",
       "      <td>0.29352</td>\n",
       "      <td>0.46454</td>\n",
       "      <td>0.47877</td>\n",
       "      <td>0.38290</td>\n",
       "      <td>0.13767</td>\n",
       "      <td>0.11002</td>\n",
       "      <td>0.01936</td>\n",
       "      <td>0.27609</td>\n",
       "      <td>NaN</td>\n",
       "      <td>NaN</td>\n",
       "      <td>NaN</td>\n",
       "    </tr>\n",
       "    <tr>\n",
       "      <th>1</th>\n",
       "      <td>0.22850</td>\n",
       "      <td>0.13695</td>\n",
       "      <td>0.37016</td>\n",
       "      <td>0.08172</td>\n",
       "      <td>0.05709</td>\n",
       "      <td>0.38348</td>\n",
       "      <td>0.27536</td>\n",
       "      <td>0.63390</td>\n",
       "      <td>0.21317</td>\n",
       "      <td>0.05919</td>\n",
       "      <td>0.44563</td>\n",
       "      <td>0.78543</td>\n",
       "      <td>0.52098</td>\n",
       "      <td>1.10619</td>\n",
       "      <td>0.19531</td>\n",
       "      <td>0.73840</td>\n",
       "      <td>0.60594</td>\n",
       "      <td>0.54593</td>\n",
       "      <td>0.00775</td>\n",
       "      <td>0.26951</td>\n",
       "      <td>NaN</td>\n",
       "      <td>NaN</td>\n",
       "      <td>NaN</td>\n",
       "    </tr>\n",
       "    <tr>\n",
       "      <th>2</th>\n",
       "      <td>2.72057</td>\n",
       "      <td>3.72297</td>\n",
       "      <td>3.37689</td>\n",
       "      <td>1.28232</td>\n",
       "      <td>0.90316</td>\n",
       "      <td>0.47276</td>\n",
       "      <td>0.60817</td>\n",
       "      <td>1.13021</td>\n",
       "      <td>1.93092</td>\n",
       "      <td>0.62547</td>\n",
       "      <td>2.50279</td>\n",
       "      <td>0.54644</td>\n",
       "      <td>0.81943</td>\n",
       "      <td>0.67742</td>\n",
       "      <td>0.06682</td>\n",
       "      <td>0.23722</td>\n",
       "      <td>0.45391</td>\n",
       "      <td>1.20600</td>\n",
       "      <td>1.94558</td>\n",
       "      <td>2.88967</td>\n",
       "      <td>NaN</td>\n",
       "      <td>NaN</td>\n",
       "      <td>NaN</td>\n",
       "    </tr>\n",
       "    <tr>\n",
       "      <th>3</th>\n",
       "      <td>0.06289</td>\n",
       "      <td>0.54739</td>\n",
       "      <td>0.62190</td>\n",
       "      <td>1.35643</td>\n",
       "      <td>0.54872</td>\n",
       "      <td>0.28130</td>\n",
       "      <td>0.57759</td>\n",
       "      <td>0.60009</td>\n",
       "      <td>1.49150</td>\n",
       "      <td>1.49977</td>\n",
       "      <td>0.58702</td>\n",
       "      <td>1.26652</td>\n",
       "      <td>2.20852</td>\n",
       "      <td>1.35321</td>\n",
       "      <td>1.08268</td>\n",
       "      <td>1.32594</td>\n",
       "      <td>1.07620</td>\n",
       "      <td>2.46997</td>\n",
       "      <td>2.02206</td>\n",
       "      <td>1.61777</td>\n",
       "      <td>1.86127</td>\n",
       "      <td>NaN</td>\n",
       "      <td>NaN</td>\n",
       "    </tr>\n",
       "    <tr>\n",
       "      <th>4</th>\n",
       "      <td>0.57520</td>\n",
       "      <td>1.41006</td>\n",
       "      <td>1.31180</td>\n",
       "      <td>0.58965</td>\n",
       "      <td>1.32969</td>\n",
       "      <td>0.65253</td>\n",
       "      <td>1.15038</td>\n",
       "      <td>0.27477</td>\n",
       "      <td>0.61810</td>\n",
       "      <td>0.01130</td>\n",
       "      <td>0.11642</td>\n",
       "      <td>0.23115</td>\n",
       "      <td>1.02780</td>\n",
       "      <td>0.96025</td>\n",
       "      <td>0.44654</td>\n",
       "      <td>0.70976</td>\n",
       "      <td>0.67322</td>\n",
       "      <td>1.87156</td>\n",
       "      <td>1.45116</td>\n",
       "      <td>0.73922</td>\n",
       "      <td>NaN</td>\n",
       "      <td>NaN</td>\n",
       "      <td>NaN</td>\n",
       "    </tr>\n",
       "  </tbody>\n",
       "</table>\n",
       "</div>"
      ],
      "text/plain": [
       "        0        1        2        3        4        5        6        7   \\\n",
       "0  0.66929  0.81137  0.75647  0.22221  0.14389  0.13032  0.34931  0.26401   \n",
       "1  0.22850  0.13695  0.37016  0.08172  0.05709  0.38348  0.27536  0.63390   \n",
       "2  2.72057  3.72297  3.37689  1.28232  0.90316  0.47276  0.60817  1.13021   \n",
       "3  0.06289  0.54739  0.62190  1.35643  0.54872  0.28130  0.57759  0.60009   \n",
       "4  0.57520  1.41006  1.31180  0.58965  1.32969  0.65253  1.15038  0.27477   \n",
       "\n",
       "        8        9        10       11       12       13       14       15  \\\n",
       "0  0.34900  0.41699  0.27218  0.38619  0.29352  0.46454  0.47877  0.38290   \n",
       "1  0.21317  0.05919  0.44563  0.78543  0.52098  1.10619  0.19531  0.73840   \n",
       "2  1.93092  0.62547  2.50279  0.54644  0.81943  0.67742  0.06682  0.23722   \n",
       "3  1.49150  1.49977  0.58702  1.26652  2.20852  1.35321  1.08268  1.32594   \n",
       "4  0.61810  0.01130  0.11642  0.23115  1.02780  0.96025  0.44654  0.70976   \n",
       "\n",
       "        16       17       18       19       20  21  22  \n",
       "0  0.13767  0.11002  0.01936  0.27609      NaN NaN NaN  \n",
       "1  0.60594  0.54593  0.00775  0.26951      NaN NaN NaN  \n",
       "2  0.45391  1.20600  1.94558  2.88967      NaN NaN NaN  \n",
       "3  1.07620  2.46997  2.02206  1.61777  1.86127 NaN NaN  \n",
       "4  0.67322  1.87156  1.45116  0.73922      NaN NaN NaN  "
      ]
     },
     "execution_count": 252,
     "metadata": {},
     "output_type": "execute_result"
    }
   ],
   "source": [
    "accXDf.head()"
   ]
  },
  {
   "cell_type": "code",
   "execution_count": 40,
   "metadata": {
    "ExecuteTime": {
     "end_time": "2018-05-07T13:55:13.929630Z",
     "start_time": "2018-05-07T13:52:04.510Z"
    }
   },
   "outputs": [],
   "source": [
    "# Änderungen in CSV Datei schreiben\n",
    "#featuresDf.set_index('Zeitstempel in Unixzeit', inplace=True)\n",
    "featuresDf.to_csv('../daten/merkmale_datensatz_26_bis_27/absMesswerte/merkmale.csv')"
   ]
  },
  {
   "cell_type": "code",
   "execution_count": 202,
   "metadata": {
    "ExecuteTime": {
     "end_time": "2018-05-07T13:55:13.929630Z",
     "start_time": "2018-05-07T13:52:12.294Z"
    }
   },
   "outputs": [
    {
     "data": {
      "text/plain": [
       "Index(['Zeitstempel in Unixzeit', 'Anzahl der Messwerte',\n",
       "       'Belichtungszeit in ns', 'Breitengrad', 'Geschwindigkeit in km/h',\n",
       "       'Gier Messwerte in rad', 'Hoehe in m ueber WGS 84', 'Laengengrad',\n",
       "       'Letzter Zeitstempel der Messwerterfassung in ns seit Start der JVM',\n",
       "       'Nick Messwerte in rad', 'Roll Messwerte in rad',\n",
       "       'Start der Belichtung in ns seit Start der JVM',\n",
       "       'Start der Messwerterfassung in ns seit Start der JVM',\n",
       "       'Start des Zeitfensters in ns seit Start der JVM',\n",
       "       'Stopp der Messwerterfassung in Unixzeit',\n",
       "       'X-Achse Beschleunigungswerte in m/s^2',\n",
       "       'Y-Achse Beschleunigungswerte in m/s^2',\n",
       "       'Z-Achse Beschleunigungswerte in m/s^2',\n",
       "       'Zeitstempel der Messwerte in ns',\n",
       "       'Mittelwert X-Achse Beschleunigung in m/s^2',\n",
       "       'Mittelwert Y-Achse Beschleunigung in m/s^2',\n",
       "       'Mittelwert Z-Achse Beschleunigung in m/s^2', 'Mittelwert Nick in rad',\n",
       "       'Mittelwert Roll in rad', 'Gier-Aenderung in rad',\n",
       "       'Varianz X-Achse Beschleunigung in m/s^2',\n",
       "       'Varianz Y-Achse Beschleunigung in m/s^2',\n",
       "       'Varianz Z-Achse Beschleunigung in m/s^2', 'Varianz Nick in rad',\n",
       "       'Varianz Roll in rad',\n",
       "       'Standardabweichung X-Achse Beschleunigung in m/s^2',\n",
       "       'Standardabweichung Y-Achse Beschleunigung in m/s^2',\n",
       "       'Standardabweichung Z-Achse Beschleunigung in m/s^2',\n",
       "       'Standardabweichung Nick in rad', 'Standardabweichung Roll in rad'],\n",
       "      dtype='object')"
      ]
     },
     "execution_count": 202,
     "metadata": {},
     "output_type": "execute_result"
    }
   ],
   "source": [
    "pandas.read_csv(\"../daten/merkmale_datensatz_15_bis_22/merkmale.csv\").columns"
   ]
  },
  {
   "cell_type": "code",
   "execution_count": 41,
   "metadata": {
    "ExecuteTime": {
     "end_time": "2018-05-07T13:55:13.929630Z",
     "start_time": "2018-05-07T13:52:19.911Z"
    }
   },
   "outputs": [],
   "source": [
    "# Speichert die DatenFrames mit den Messwerten in csv Dateien\n",
    "accXDf.index.names = [\"index\"]\n",
    "accXDf.to_csv('../daten/merkmale_datensatz_26_bis_27/absMesswerte/xAchseBeschleunigungswerte.csv')\n",
    "accYDf.index.names = [\"index\"]\n",
    "accYDf.to_csv('../daten/merkmale_datensatz_26_bis_27/absMesswerte/yAchseBeschleunigungswerte.csv')\n",
    "accZDf.index.names = [\"index\"]\n",
    "accZDf.to_csv('../daten/merkmale_datensatz_26_bis_27/absMesswerte/zAchseBeschleunigungswerte.csv')\n",
    "nickDf.index.names = [\"index\"]\n",
    "nickDf.to_csv('../daten/merkmale_datensatz_26_bis_27/absMesswerte/nickMesswerte.csv')\n",
    "rollDf.index.names = [\"index\"]\n",
    "rollDf.to_csv('../daten/merkmale_datensatz_26_bis_27/absMesswerte/rollMesswerte.csv')\n",
    "azimuthDf.index.names = [\"index\"]\n",
    "azimuthDf.to_csv('../daten/merkmale_datensatz_26_bis_27/absMesswerte/azimuthMesswerte.csv')\n",
    "sensorTimestampsDf.index.names = [\"index\"]\n",
    "sensorTimestampsDf.to_csv('../daten/merkmale_datensatz_26_bis_27/absMesswerte/sensoreventZeitstempel.csv')"
   ]
  },
  {
   "cell_type": "code",
   "execution_count": 204,
   "metadata": {
    "ExecuteTime": {
     "end_time": "2018-05-07T13:55:13.929630Z",
     "start_time": "2018-05-07T13:52:23.478Z"
    }
   },
   "outputs": [
    {
     "name": "stderr",
     "output_type": "stream",
     "text": [
      "testCalcVariance0 (__main__.CalcTest) ... ok\n",
      "testCalcVariance2 (__main__.CalcTest) ... ok\n",
      "testCalcVariance5 (__main__.CalcTest) ... ok\n",
      "testCalcVarianceMultidim (__main__.CalcTest) ... ok\n",
      "testCalcVarianceNegative (__main__.CalcTest) ... ok\n",
      "testCalculateAngelChangeAzimuthEqual (__main__.CalcTest) ... ok\n",
      "testCalculateAngelChangeAzimuthNegativ (__main__.CalcTest) ... ok\n",
      "testCalculateAngelChangeAzimuthOne (__main__.CalcTest) ... ok\n",
      "testCalculateAngelChangeAzimuthOne2 (__main__.CalcTest) ... ok\n",
      "testCalculateAngelChangeAzimuthSmall (__main__.CalcTest) ... ok\n",
      "testCalculateAngelChangeAzimuthValues (__main__.CalcTest) ... ok\n",
      "testCalculateStandardDeviation (__main__.CalcTest) ... ok\n",
      "testCalculateStandardDeviationZero (__main__.CalcTest) ... ok\n",
      "\n",
      "----------------------------------------------------------------------\n",
      "Ran 13 tests in 0.040s\n",
      "\n",
      "OK\n"
     ]
    },
    {
     "data": {
      "text/plain": [
       "<unittest.main.TestProgram at 0x13355b11dd8>"
      ]
     },
     "execution_count": 204,
     "metadata": {},
     "output_type": "execute_result"
    }
   ],
   "source": [
    "# Unittests\n",
    "import unittest\n",
    "\n",
    "class CalcTest(unittest.TestCase):\n",
    "    \n",
    "    \n",
    "    # Testet die Funktion calcVariance mit einem DataFrame mit den Werten [2.0, 2.0]\n",
    "    # Der Mittelwert sollte 2.0 sein\n",
    "    # Das erwartete Ergebnis ist 0.0\n",
    "    def testCalcVariance2(self):\n",
    "        meanL = [2.0]\n",
    "        meanDf = pandas.DataFrame(meanL)\n",
    "        valuesA = [2.0,2.0]\n",
    "        valuesDf = pandas.DataFrame([[2.0]])\n",
    "        npt.assert_almost_equal(calcVariance(meanDf[0],valuesDf), 0.0,2)\n",
    "        \n",
    "    # Testet die Funktion calcVariance mit einem DataFrame mit den folgenden Werten:\n",
    "    # [1.24, 2.5213, 10.434, 42.45, 5.9]\n",
    "    # Der Mittelwert ist 12.508\n",
    "    # Die erwartete Varianz ist 234,247016\n",
    "    def testCalcVariance5(self):\n",
    "        meanDf = pandas.DataFrame([12.508])\n",
    "        valuesDf = pandas.DataFrame([[1.24, 2.52, 10.43, 42.45, 5.9]])\n",
    "        npt.assert_almost_equal(calcVariance(meanDf[0],valuesDf), 234.24702,5)   \n",
    "    \n",
    "    # Testet calcVariance mit 0 Datenwerten   \n",
    "    def testCalcVariance0(self):\n",
    "        meanDf = pandas.DataFrame([0.0])\n",
    "        valuesDf = pandas.DataFrame([[0.0]])\n",
    "        npt.assert_almost_equal(calcVariance(meanDf[0],valuesDf),0.0,2)  \n",
    "        \n",
    "    # Testet calcVariance mit negativen Datenwerten   \n",
    "    def testCalcVarianceNegative(self):\n",
    "        meanDf = pandas.DataFrame([-24.0])\n",
    "        valuesDf = pandas.DataFrame([[-2.0,-24.0,-5.0,7.0]])\n",
    "        npt.assert_almost_equal(calcVariance(meanDf[0],valuesDf),451.5,1) \n",
    "        \n",
    "    # Testet calcVariance mit Muultidimensionalen DataFrame   \n",
    "    def testCalcVarianceMultidim(self):\n",
    "        meanDf = pandas.DataFrame([-24.0,0.0])\n",
    "        valuesDf = pandas.DataFrame([[-2.0,-24.0,-5.0,7.0],[0.0,0.0,0.0,0.0]])\n",
    "        # Hier wird Numpy Test verwendet um das Ergebnis (zwei Arrays) zu vergleichen\n",
    "        npt.assert_array_equal(calcVariance(meanDf[0],valuesDf),np.array([ 451.5,0.0])) \n",
    "        \n",
    "    # Dieser Test testet die Funktion calculateStandardDeviation.\n",
    "    def testCalculateStandardDeviation(self):\n",
    "        varianceDf = pandas.DataFrame([451.5])\n",
    "        npt.assert_almost_equal(calculateStandardDeviation(varianceDf[0]),21.24853,5) \n",
    "        \n",
    "    # Testet die Funktion calculateStandardDeviation.\n",
    "    # Dabei hat das Argument den Wert 0.0.\n",
    "    def testCalculateStandardDeviationZero(self):\n",
    "        varianceDf = pandas.DataFrame([0.0])\n",
    "        npt.assert_almost_equal(calculateStandardDeviation(varianceDf[0]),0.0,2)\n",
    "    \n",
    "    #  Testet die Funktion calculateAngelChangeAzimuth mit zwei gleichen rad Werten\n",
    "    def testCalculateAngelChangeAzimuthEqual(self):\n",
    "        radiants = pandas.DataFrame([[1.0,1.0]])\n",
    "        npt.assert_almost_equal(calculateAngelChangeAzimuth(radiants),0.0,2)\n",
    "    \n",
    "    # Testet ob die Winkeldifferenz korrekt berechnet wurde für \n",
    "    # die Radianten -1.0 und 1.0\n",
    "    def testCalculateAngelChangeAzimuthOne(self):\n",
    "        radiants = pandas.DataFrame([[-1.0,1.0]])\n",
    "        npt.assert_almost_equal(calculateAngelChangeAzimuth(radiants),2.0,2)  \n",
    "        \n",
    "    # Testet ob die Winkeldifferenz korrekt berechnet wurde für \n",
    "    # die Radianten 1.0 und -1.0\n",
    "    def testCalculateAngelChangeAzimuthOne2(self):\n",
    "        radiants = pandas.DataFrame([[1.0,-1.0]])\n",
    "        npt.assert_almost_equal(calculateAngelChangeAzimuth(radiants),2.0,2)  \n",
    "\n",
    "    # Testet die Funktion calculateAngelChangeAzimuthValues mit mehreren Werten\n",
    "    def testCalculateAngelChangeAzimuthValues(self):\n",
    "        radiants = pandas.DataFrame([[-1.57,1.0,2.0,1.3,1.57]])\n",
    "        npt.assert_almost_equal(calculateAngelChangeAzimuth(radiants),3.14,2)\n",
    "        \n",
    "    # Testet ob die Winkeldifferenz korrekt berechnet wurde für \n",
    "    # die Radianten 0.05 und 0.06\n",
    "    def testCalculateAngelChangeAzimuthSmall(self):\n",
    "        radiants = pandas.DataFrame([[0.01,0.02]])\n",
    "        npt.assert_almost_equal(calculateAngelChangeAzimuth(radiants), 0.01,2)  \n",
    "        \n",
    "    # Testet ob die Winkeldifferenz korrekt berechnet wurde mit \n",
    "    # negative Radianten \n",
    "    def testCalculateAngelChangeAzimuthNegativ(self):\n",
    "        radiants = pandas.DataFrame([[-2.9,-2.0,-1.28]])\n",
    "        npt.assert_almost_equal(calculateAngelChangeAzimuth(radiants), 1.62,2) \n",
    "\n",
    "unittest.main(argv=[''], verbosity=2, exit=False)"
   ]
  },
  {
   "cell_type": "code",
   "execution_count": null,
   "metadata": {},
   "outputs": [],
   "source": []
  }
 ],
 "metadata": {
  "kernelspec": {
   "display_name": "Python 3",
   "language": "python",
   "name": "python3"
  },
  "language_info": {
   "codemirror_mode": {
    "name": "ipython",
    "version": 3
   },
   "file_extension": ".py",
   "mimetype": "text/x-python",
   "name": "python",
   "nbconvert_exporter": "python",
   "pygments_lexer": "ipython3",
   "version": "3.6.4"
  },
  "toc": {
   "base_numbering": 1,
   "colors": {
    "hover_highlight": "#DAA520",
    "navigate_num": "#000000",
    "navigate_text": "#333333",
    "running_highlight": "#FF0000",
    "selected_highlight": "#FFD700",
    "sidebar_border": "#EEEEEE",
    "wrapper_background": "#FFFFFF"
   },
   "moveMenuLeft": true,
   "nav_menu": {
    "height": "31px",
    "width": "252px"
   },
   "navigate_menu": true,
   "number_sections": true,
   "sideBar": true,
   "skip_h1_title": false,
   "threshold": 4,
   "title_cell": "Table of Contents",
   "title_sidebar": "Contents",
   "toc_cell": false,
   "toc_position": {},
   "toc_section_display": "block",
   "toc_window_display": false,
   "widenNotebook": false
  },
  "varInspector": {
   "cols": {
    "lenName": 16,
    "lenType": 16,
    "lenVar": 40
   },
   "kernels_config": {
    "python": {
     "delete_cmd_postfix": "",
     "delete_cmd_prefix": "del ",
     "library": "var_list.py",
     "varRefreshCmd": "print(var_dic_list())"
    },
    "r": {
     "delete_cmd_postfix": ") ",
     "delete_cmd_prefix": "rm(",
     "library": "var_list.r",
     "varRefreshCmd": "cat(var_dic_list()) "
    }
   },
   "types_to_exclude": [
    "module",
    "function",
    "builtin_function_or_method",
    "instance",
    "_Feature"
   ],
   "window_display": false
  }
 },
 "nbformat": 4,
 "nbformat_minor": 2
}
