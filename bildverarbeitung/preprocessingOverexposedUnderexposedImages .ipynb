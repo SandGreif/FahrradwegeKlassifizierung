{
 "cells": [
  {
   "cell_type": "markdown",
   "metadata": {},
   "source": [
    "# Vorverarbeitung: Entfernen von Bildern, welche unter- oder überbelichtet sind\n",
    "\n",
    "## Einleitung\n",
    "\n",
    "Einige der Bildaufnahmen sind überbelichtet oder unterbelichtet. Dies kommt vor, wenn sich die Lichtverhältnisse der Umgebung schnell ändern. Wenn z.B. die Sonne zwischen Bäumen scheint, dann können Bilder entstehen, die überbelichtet sind. Bei der Fahrt in einen Tunnel können Bilder wiederum unterbelichtet sein. Die Belichtungszeit wird automatisch berechnet mit der Android Camera2 API. Bevor ein Bild zur weiteren Verarbeitung aufgenommen wird, wird überprüft mit einer Probeaufnahme ob die Belichtungszeit Parameter gut sind. Das Ergebnis der Aufnahme muss für eine „brauchbares“ Ergebnis gleich dem Zustand CaptureResult.CONTROL_AE_STATE_CONVERGED sein. Es gibt keine Garantie, dass bei der nächsten Bildaufnahme die Belichtungszeit noch korrekt eingestellt ist. \n",
    "\n",
    "Warum wird die Belichtungszeit dann nicht manuell eingestellt? Das Ziel ist es möglichst Bilder mit einer kurzen Belichtungszeit ohne großer Bewegungsschärfe zu erfassen. Dafür wurde in der App die Belichtungszeit Bildrate CaptureRequest.CONTROL_AE_TARGET_FPS_RANGE auf 30 Bilder pro Sekunde eingestellt. Der Kamera Szenenmodus wurde auf „Action“ für bewegende Objekte ausgewählt. Die Belichtungszeit statisch manuell festzulegen ist kompliziert, weil damit auch der ISO Wert und die Bildrate mit angegeben werden muss. Das Lichtverhältnisse während der fahrt ändern sich und mit einer festen Belichtungszeit können ganze Bildreichen unter oder überbelichtet werden.\n",
    "\n",
    "In diesem Jupyter Notebook geht es darum die entsprechenden unter oder überbelichteten Bilder aus einem Datensatz zu entfernen.\n",
    "\n",
    "## Versuchsbeschreibung \n"
   ]
  },
  {
   "cell_type": "code",
   "execution_count": null,
   "metadata": {},
   "outputs": [],
   "source": []
  }
 ],
 "metadata": {
  "kernelspec": {
   "display_name": "Python 3",
   "language": "python",
   "name": "python3"
  },
  "language_info": {
   "codemirror_mode": {
    "name": "ipython",
    "version": 3
   },
   "file_extension": ".py",
   "mimetype": "text/x-python",
   "name": "python",
   "nbconvert_exporter": "python",
   "pygments_lexer": "ipython3",
   "version": "3.6.4"
  },
  "latex_envs": {
   "LaTeX_envs_menu_present": true,
   "autocomplete": true,
   "bibliofile": "biblio.bib",
   "cite_by": "apalike",
   "current_citInitial": 1,
   "eqLabelWithNumbers": true,
   "eqNumInitial": 1,
   "hotkeys": {
    "equation": "Ctrl-E",
    "itemize": "Ctrl-I"
   },
   "labels_anchors": false,
   "latex_user_defs": false,
   "report_style_numbering": false,
   "user_envs_cfg": false
  },
  "toc": {
   "colors": {
    "hover_highlight": "#DAA520",
    "navigate_num": "#000000",
    "navigate_text": "#333333",
    "running_highlight": "#FF0000",
    "selected_highlight": "#FFD700",
    "sidebar_border": "#EEEEEE",
    "wrapper_background": "#FFFFFF"
   },
   "moveMenuLeft": true,
   "nav_menu": {
    "height": "84px",
    "width": "252px"
   },
   "navigate_menu": true,
   "number_sections": true,
   "sideBar": true,
   "threshold": 4,
   "toc_cell": false,
   "toc_section_display": "block",
   "toc_window_display": false,
   "widenNotebook": false
  }
 },
 "nbformat": 4,
 "nbformat_minor": 2
}
