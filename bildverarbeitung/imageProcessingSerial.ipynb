{
 "cells": [
  {
   "cell_type": "markdown",
   "metadata": {},
   "source": [
    "**Bilder vorverarbeiten**\n",
    "\n",
    " \n",
    " Für die weitere Bearbeitung von Serienaufnahmen ist es wichtig dies vorher zu bearbeiten.   \n",
    " Dies liegt daran um für neuronale Netze die benötigten Berechnungen zu reduzieren. Hierfür hilft dieses Notebook mit    \n",
    " welchem es möglich ist Bilder zuzuschneiden. Die Kanale eines Bildes können geändert werden. Des Weiteren ist es möglich die   \n",
    " Größe eines Bildes zu ändern. Als Packet wird OpenCV verwendet."
   ]
  },
  {
   "cell_type": "code",
   "execution_count": 1,
   "metadata": {
    "ExecuteTime": {
     "end_time": "2018-04-27T15:09:56.648064Z",
     "start_time": "2018-04-27T15:09:55.595107Z"
    }
   },
   "outputs": [],
   "source": [
    "import cv2\n",
    "import pandas\n",
    "import os"
   ]
  },
  {
   "cell_type": "code",
   "execution_count": 2,
   "metadata": {
    "ExecuteTime": {
     "end_time": "2018-04-27T15:09:57.341664Z",
     "start_time": "2018-04-27T15:09:57.336161Z"
    }
   },
   "outputs": [],
   "source": [
    "# Position im Quellbild\n",
    "y = 160\n",
    "x = 477\n",
    "# Breite und Höhe des Ausschnits\n",
    "h = 1448\n",
    "w = 280\n",
    "# Größe des neuen Bild\n",
    "scaleFactor = 0.25\n",
    "wNew = w * scaleFactor\n",
    "hNew = h * scaleFactor"
   ]
  },
  {
   "cell_type": "code",
   "execution_count": 5,
   "metadata": {
    "ExecuteTime": {
     "end_time": "2018-04-27T15:12:16.173318Z",
     "start_time": "2018-04-27T15:12:16.160310Z"
    }
   },
   "outputs": [],
   "source": [
    "path = os.getcwd()\n",
    "imagePathName = 'C:/Users/morro/Documents/datenRoh/15/2018_2_15_15_23/befestigt/roh/'\n",
    "files = os.listdir(imagePathName)\n",
    "# Erstellt Ordner um Bilder abzuspeichern\n",
    "outputDir = \"images\"\n",
    "if not os.path.exists(outputDir):\n",
    "  os.makedirs(outputDir)"
   ]
  },
  {
   "cell_type": "code",
   "execution_count": 6,
   "metadata": {
    "ExecuteTime": {
     "end_time": "2018-04-27T15:12:49.089026Z",
     "start_time": "2018-04-27T15:12:16.672466Z"
    }
   },
   "outputs": [],
   "source": [
    "i = 0\n",
    "for file in files:\n",
    "    if \"jpg\" not in file:\n",
    "        continue\n",
    "    if i == 1000:\n",
    "        break\n",
    "    img = cv2.imread(imagePathName + file)\n",
    "    img = img[y:y+h, x:x+w] # Bild wird zugeschnitten\n",
    "    #img = cv2.cvtColor(img, cv2.COLOR_BGR2GRAY) # Von Farbkanal auf Grauwerte\n",
    "    img = cv2.resize(img,(int(wNew),int(hNew))) # Anzahl der Pixel wird reduziert\n",
    "    cv2.imwrite( outputDir + \"/\" + file, img)\n",
    "    i = i + 1"
   ]
  },
  {
   "cell_type": "markdown",
   "metadata": {},
   "source": [
    "Mit den folgenden Zellen können von einem kompletten Datensatz die Bilder zugeschnitten werden. "
   ]
  },
  {
   "cell_type": "code",
   "execution_count": 23,
   "metadata": {
    "ExecuteTime": {
     "end_time": "2018-04-27T15:53:00.894127Z",
     "start_time": "2018-04-27T15:53:00.887121Z"
    }
   },
   "outputs": [
    {
     "data": {
      "text/plain": [
       "['1', '2', '3', '4', '5', 'befestigt', 'unbefestigt']"
      ]
     },
     "execution_count": 23,
     "metadata": {},
     "output_type": "execute_result"
    }
   ],
   "source": [
    "dataset = \"22\"\n",
    "path = \"C:/Users/morro/Documents/datenRoh/\" + dataset + \"/2018_3_6_15_15/\"\n",
    "dirs = os.listdir(path)\n",
    "dirs"
   ]
  },
  {
   "cell_type": "code",
   "execution_count": 24,
   "metadata": {
    "ExecuteTime": {
     "end_time": "2018-04-27T15:53:04.159414Z",
     "start_time": "2018-04-27T15:53:04.155415Z"
    }
   },
   "outputs": [],
   "source": [
    "outputDir = \"C:/Users/morro/Documents/datenRoh/\" + dataset + \"/zugeschnitten/\"\n",
    "if not os.path.exists(outputDir):\n",
    "  os.makedirs(outputDir)"
   ]
  },
  {
   "cell_type": "code",
   "execution_count": 25,
   "metadata": {
    "ExecuteTime": {
     "end_time": "2018-04-27T15:53:05.133984Z",
     "start_time": "2018-04-27T15:53:04.912665Z"
    }
   },
   "outputs": [],
   "source": [
    "filesImageNumber = []\n",
    "for dirNumber in dirs:\n",
    "    filesImageNumber.append(os.listdir(path + dirNumber))"
   ]
  },
  {
   "cell_type": "code",
   "execution_count": 26,
   "metadata": {
    "ExecuteTime": {
     "end_time": "2018-04-27T15:58:35.725436Z",
     "start_time": "2018-04-27T15:53:05.753321Z"
    }
   },
   "outputs": [
    {
     "name": "stdout",
     "output_type": "stream",
     "text": [
      "C:/Users/morro/Documents/datenRoh/22/zugeschnitten/1\n",
      "C:/Users/morro/Documents/datenRoh/22/zugeschnitten/2\n",
      "C:/Users/morro/Documents/datenRoh/22/zugeschnitten/3\n",
      "C:/Users/morro/Documents/datenRoh/22/zugeschnitten/4\n",
      "C:/Users/morro/Documents/datenRoh/22/zugeschnitten/5\n",
      "C:/Users/morro/Documents/datenRoh/22/zugeschnitten/befestigt\n",
      "C:/Users/morro/Documents/datenRoh/22/zugeschnitten/unbefestigt\n"
     ]
    }
   ],
   "source": [
    "i = -1\n",
    "for files in filesImageNumber:\n",
    "    i = i + 1  \n",
    "    outputDirName = outputDir + dirs[i] \n",
    "    print(outputDirName)\n",
    "    if not os.path.exists(outputDirName):\n",
    "        os.makedirs(outputDirName)\n",
    "    for name in files:\n",
    "        if \"jpg\" not in name:\n",
    "            continue\n",
    "        img = cv2.imread(path + dirs[i] + \"/\" + name)\n",
    "        img = img[y:y+h, x:x+w]\n",
    "        img = cv2.resize(img,(int(wNew),int(hNew))) # Bild wird skaliert\n",
    "        cv2.imwrite( outputDirName + \"/\" + name, img)   "
   ]
  },
  {
   "cell_type": "code",
   "execution_count": null,
   "metadata": {},
   "outputs": [],
   "source": []
  }
 ],
 "metadata": {
  "kernelspec": {
   "display_name": "Python [default]",
   "language": "python",
   "name": "python3"
  },
  "language_info": {
   "codemirror_mode": {
    "name": "ipython",
    "version": 3
   },
   "file_extension": ".py",
   "mimetype": "text/x-python",
   "name": "python",
   "nbconvert_exporter": "python",
   "pygments_lexer": "ipython3",
   "version": "3.6.5"
  },
  "toc": {
   "base_numbering": 1,
   "nav_menu": {
    "height": "31px",
    "width": "252px"
   },
   "number_sections": true,
   "sideBar": true,
   "skip_h1_title": false,
   "title_cell": "Table of Contents",
   "title_sidebar": "Contents",
   "toc_cell": false,
   "toc_position": {},
   "toc_section_display": "block",
   "toc_window_display": false
  },
  "varInspector": {
   "cols": {
    "lenName": 16,
    "lenType": 16,
    "lenVar": 40
   },
   "kernels_config": {
    "python": {
     "delete_cmd_postfix": "",
     "delete_cmd_prefix": "del ",
     "library": "var_list.py",
     "varRefreshCmd": "print(var_dic_list())"
    },
    "r": {
     "delete_cmd_postfix": ") ",
     "delete_cmd_prefix": "rm(",
     "library": "var_list.r",
     "varRefreshCmd": "cat(var_dic_list()) "
    }
   },
   "types_to_exclude": [
    "module",
    "function",
    "builtin_function_or_method",
    "instance",
    "_Feature"
   ],
   "window_display": false
  }
 },
 "nbformat": 4,
 "nbformat_minor": 2
}
