{
 "cells": [
  {
   "cell_type": "markdown",
   "metadata": {},
   "source": [
    "**Bilder vorverarbeiten**\n",
    "\n",
    " \n",
    " Für die weitere Bearbeitung von Serienaufnahmen ist es wichtig dies vorher zu bearbeiten.   \n",
    " Dies liegt daran um für neuronale Netze die benötigten Berechnungen zu reduzieren. Hierfür hilft dieses Notebook mit    \n",
    " welchem es möglich ist Bilder zuzuschneiden. Die Kanale eines Bildes können geändert werden. Des Weiteren ist es möglich die   \n",
    " Größe eines Bildes zu ändern. Als Packet wird OpenCV verwendet."
   ]
  },
  {
   "cell_type": "code",
   "execution_count": 16,
   "metadata": {},
   "outputs": [],
   "source": [
    "import cv2\n",
    "import pandas\n",
    "import os"
   ]
  },
  {
   "cell_type": "code",
   "execution_count": 17,
   "metadata": {},
   "outputs": [],
   "source": [
    "# Position im Quellbild\n",
    "y = 190\n",
    "x = 520\n",
    "# Breite und Höhe des Ausschnits\n",
    "h = 1200\n",
    "w = 460\n",
    "# Größe des neuen Bild\n",
    "scaleFactor = 0.25\n",
    "wNew = w * scaleFactor\n",
    "hNew = h * scaleFactor"
   ]
  },
  {
   "cell_type": "code",
   "execution_count": 3,
   "metadata": {},
   "outputs": [],
   "source": [
    "path = os.getcwd()\n",
    "files = os.listdir(path + \"/1_modifiziert\")\n",
    "# Erstellt Ordner um Bilder abzuspeichern\n",
    "outputDir = \"images\"\n",
    "if not os.path.exists(outputDir):\n",
    "  os.makedirs(outputDir)"
   ]
  },
  {
   "cell_type": "code",
   "execution_count": null,
   "metadata": {},
   "outputs": [],
   "source": [
    "i = 0\n",
    "for file in files:\n",
    "    if \"jpg\" not in file:\n",
    "        continue\n",
    "    if i == 10:\n",
    "        break\n",
    "    img = cv2.imread(\"1_modifiziert/\" + file)\n",
    "    img = img[y:y+h, x:x+w] # Bild wird zugeschnitten\n",
    "    img = cv2.cvtColor(img, cv2.COLOR_BGR2GRAY) # Von Farbkanal auf Grauwerte\n",
    "    img = cv2.resize(img,(int(wNew),int(hNew))) # Anzahl der Pixel wird reduziert\n",
    "    cv2.imwrite( outputDir + \"/\" + file, img)\n",
    "    i = i + 1"
   ]
  },
  {
   "cell_type": "markdown",
   "metadata": {},
   "source": [
    "Mit den folgenden Zellen können von einem kompletten Datensatz die Bilder zugeschnitten werden. "
   ]
  },
  {
   "cell_type": "code",
   "execution_count": 18,
   "metadata": {},
   "outputs": [
    {
     "data": {
      "text/plain": [
       "['1', '2', '3', '4', '5', '6', '7']"
      ]
     },
     "execution_count": 18,
     "metadata": {},
     "output_type": "execute_result"
    }
   ],
   "source": [
    "dataset = \"11\"\n",
    "path = \"E:/bachelor/daten/\" + dataset + \"/2018_2_8_15_20/\"\n",
    "dirs = os.listdir(path)\n",
    "dirs"
   ]
  },
  {
   "cell_type": "code",
   "execution_count": 19,
   "metadata": {},
   "outputs": [],
   "source": [
    "outputDir = \"E:/bachelor/daten/\" + dataset + \"/zugeschnitten/\"\n",
    "if not os.path.exists(outputDir):\n",
    "  os.makedirs(outputDir)"
   ]
  },
  {
   "cell_type": "code",
   "execution_count": 20,
   "metadata": {},
   "outputs": [],
   "source": [
    "filesImageNumber = []\n",
    "for dirNumber in dirs:\n",
    "    filesImageNumber.append(os.listdir(path + dirNumber))"
   ]
  },
  {
   "cell_type": "code",
   "execution_count": 21,
   "metadata": {},
   "outputs": [
    {
     "name": "stdout",
     "output_type": "stream",
     "text": [
      "E:/bachelor/daten/11/zugeschnitten/1\n",
      "E:/bachelor/daten/11/zugeschnitten/2\n",
      "E:/bachelor/daten/11/zugeschnitten/3\n",
      "E:/bachelor/daten/11/zugeschnitten/4\n",
      "E:/bachelor/daten/11/zugeschnitten/5\n",
      "E:/bachelor/daten/11/zugeschnitten/6\n",
      "E:/bachelor/daten/11/zugeschnitten/7\n"
     ]
    }
   ],
   "source": [
    "i = 0\n",
    "for files in filesImageNumber:\n",
    "    i = i + 1  \n",
    "    outputDirName = outputDir + str(i) \n",
    "    print(outputDirName)\n",
    "    if not os.path.exists(outputDirName):\n",
    "        os.makedirs(outputDirName)\n",
    "    for name in files:\n",
    "        if \"jpg\" not in name:\n",
    "            continue\n",
    "        img = cv2.imread(path + str(i) + \"/\" + name)\n",
    "        img = img[y:y+h, x:x+w]\n",
    "        img = cv2.resize(img,(int(wNew),int(hNew))) # Bild wird skaliert\n",
    "        cv2.imwrite( outputDirName + \"/\" + name, img)   "
   ]
  },
  {
   "cell_type": "code",
   "execution_count": null,
   "metadata": {},
   "outputs": [],
   "source": []
  }
 ],
 "metadata": {
  "kernelspec": {
   "display_name": "Python 3",
   "language": "python",
   "name": "python3"
  },
  "language_info": {
   "codemirror_mode": {
    "name": "ipython",
    "version": 3
   },
   "file_extension": ".py",
   "mimetype": "text/x-python",
   "name": "python",
   "nbconvert_exporter": "python",
   "pygments_lexer": "ipython3",
   "version": "3.6.4"
  },
  "toc": {
   "colors": {
    "hover_highlight": "#DAA520",
    "navigate_num": "#000000",
    "navigate_text": "#333333",
    "running_highlight": "#FF0000",
    "selected_highlight": "#FFD700",
    "sidebar_border": "#EEEEEE",
    "wrapper_background": "#FFFFFF"
   },
   "moveMenuLeft": true,
   "nav_menu": {
    "height": "31px",
    "width": "252px"
   },
   "navigate_menu": true,
   "number_sections": true,
   "sideBar": true,
   "threshold": 4,
   "toc_cell": false,
   "toc_section_display": "block",
   "toc_window_display": false,
   "widenNotebook": false
  }
 },
 "nbformat": 4,
 "nbformat_minor": 2
}
