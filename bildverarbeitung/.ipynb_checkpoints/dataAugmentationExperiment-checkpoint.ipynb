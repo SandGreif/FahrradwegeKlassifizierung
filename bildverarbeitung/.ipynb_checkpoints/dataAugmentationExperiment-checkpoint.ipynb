{
 "cells": [
  {
   "cell_type": "markdown",
   "metadata": {},
   "source": [
    "Daten Augmentation mit der Klasse ImageDataGenerator\n",
    " ------\n",
    "Dieses Notebook ist dafür da, um die Bibliothek Keras ImageDataGenerator auszuprobieren.   \n",
    "Durch die Klasse ImageDataGenerator können zusätzliche Bilder erzeugt werden. Damit kann für eine neuronales Netz  \n",
    "die Anzahl der verfügbaren Trainingsdaten erweitert werden. Dies reduziert Overfittung (Überanpassung) eines Netzes   \n",
    "und steigert die Generalisierung bei der Klassifizierung von unbekannten Bildern. Die Bilder können erzeugt  \n",
    "werden durch Transformation der vorhandenen Bilder. Zu den Transformationen    \n",
    "gehören z.B. rotation, skalierung der Pixelwerte und zoomen.   "
   ]
  },
  {
   "cell_type": "code",
   "execution_count": null,
   "metadata": {},
   "outputs": [],
   "source": []
  }
 ],
 "metadata": {
  "kernelspec": {
   "display_name": "Python [default]",
   "language": "python",
   "name": "python3"
  },
  "language_info": {
   "codemirror_mode": {
    "name": "ipython",
    "version": 3
   },
   "file_extension": ".py",
   "mimetype": "text/x-python",
   "name": "python",
   "nbconvert_exporter": "python",
   "pygments_lexer": "ipython3",
   "version": "3.6.5"
  },
  "toc": {
   "base_numbering": 1,
   "nav_menu": {},
   "number_sections": true,
   "sideBar": true,
   "skip_h1_title": false,
   "title_cell": "Table of Contents",
   "title_sidebar": "Contents",
   "toc_cell": false,
   "toc_position": {},
   "toc_section_display": true,
   "toc_window_display": false
  },
  "varInspector": {
   "cols": {
    "lenName": 16,
    "lenType": 16,
    "lenVar": 40
   },
   "kernels_config": {
    "python": {
     "delete_cmd_postfix": "",
     "delete_cmd_prefix": "del ",
     "library": "var_list.py",
     "varRefreshCmd": "print(var_dic_list())"
    },
    "r": {
     "delete_cmd_postfix": ") ",
     "delete_cmd_prefix": "rm(",
     "library": "var_list.r",
     "varRefreshCmd": "cat(var_dic_list()) "
    }
   },
   "types_to_exclude": [
    "module",
    "function",
    "builtin_function_or_method",
    "instance",
    "_Feature"
   ],
   "window_display": false
  }
 },
 "nbformat": 4,
 "nbformat_minor": 2
}
