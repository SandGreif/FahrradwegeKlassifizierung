{
 "cells": [
  {
   "cell_type": "markdown",
   "metadata": {},
   "source": [
    "Daten Augmentation\n",
    " ------\n",
    " \n",
    " Einleitung\n",
    " ------\n",
    " \n",
    "Dieses Notebook ist dafür da, um die Bibliothek Keras ImageDataGenerator auszuprobieren.   \n",
    "Durch die Klasse ImageDataGenerator können zusätzliche Bilder erzeugt werden. Damit kann für ein neuronales Netz  \n",
    "die Anzahl der verfügbaren Trainingsdaten erweitert werden. Dies reduziert Overfittung (Überanpassung) eines Netzes   \n",
    "und steigert die Generalisierung bei der Klassifizierung von unbekannten Bildern. Die Bilder können erzeugt  \n",
    "werden durch Transformation der vorhandenen Bilder. Zu den Transformationen    \n",
    "gehören z.B. Rotation, Skalierung der Pixelwerte und zoomen.\n",
    "\n",
    "Versuchsaufbau\n",
    "------\n",
    " \n",
    "Für den Datensatz 22 werden mit Daten Argumentation weitere Bilder erzeugt. Dabei ist interessant welche art von Transformationen für die Bilder sinnvoll sind. Im nächsten Schritt soll ein Stapel von Bildern augmentiert werden.\n",
    " \n",
    " Ergebnis \n",
    " ------\n",
    " \n",
    " Fazit\n",
    " ------"
   ]
  },
  {
   "cell_type": "code",
   "execution_count": 34,
   "metadata": {
    "ExecuteTime": {
     "end_time": "2018-04-17T10:15:41.466839Z",
     "start_time": "2018-04-17T10:15:40.308679Z"
    }
   },
   "outputs": [],
   "source": [
    "# Lade Bibliothek Keras ImageDataGenerator und weitere\n",
    "from keras.preprocessing.image import ImageDataGenerator, array_to_img, img_to_array, load_img\n",
    "import cv2\n",
    "import matplotlib.pyplot as plt"
   ]
  },
  {
   "cell_type": "markdown",
   "metadata": {},
   "source": [
    "Klasse ImageDataGenerator   \n",
    "Argumente:   \n",
    "* fill_mode, Bei einer zufälligen Transformation können für eine Eingangswerte außerhalb des Bildbereich des Bildes sein. Hier wird angegeben wie Farbwerte aufgefüllt werden. Möglich sind die Operationen 'nearest', 'constant', 'reflect' und 'wrap'     \n",
    "* rotation_range, Wertebereich zufälliger Rotierungen in Grad\n",
    "* width_shift_range, height_shift_range, Wertebereich für zufällige Anpassung der Vertikalen oder Horizontalen Position  \n",
    "* shear_range, zufällige geometrische Scherung \n",
    "* zoom_range, zufälliger Zoom Wertebereich\n",
    "* horizontal_flip, Bild wird zufällig horizontal gespiegelt\n",
    "* viele weitere siehe https://keras.io/preprocessing/image/  "
   ]
  },
  {
   "cell_type": "code",
   "execution_count": 44,
   "metadata": {
    "ExecuteTime": {
     "end_time": "2018-04-17T10:28:13.805466Z",
     "start_time": "2018-04-17T10:28:13.801466Z"
    }
   },
   "outputs": [],
   "source": [
    "datagen = ImageDataGenerator(\n",
    "        shear_range=160,\n",
    "        fill_mode='nearest')"
   ]
  },
  {
   "cell_type": "code",
   "execution_count": 28,
   "metadata": {
    "ExecuteTime": {
     "end_time": "2018-04-17T10:10:15.918208Z",
     "start_time": "2018-04-17T10:10:15.910209Z"
    }
   },
   "outputs": [
    {
     "name": "stdout",
     "output_type": "stream",
     "text": [
      "(1, 362, 70, 3)\n"
     ]
    }
   ],
   "source": [
    "# Daten Argumenation aus einem Bild\n",
    "img = cv2.imread('../../daten/datensatz/22/zugeschnitten/1/1523020590363.jpg')\n",
    "x = img_to_array(img) \n",
    "x = x.reshape((1,) + x.shape) #shape (1, 3, h, w)\n",
    "print(x.shape)"
   ]
  },
  {
   "cell_type": "code",
   "execution_count": 38,
   "metadata": {
    "ExecuteTime": {
     "end_time": "2018-04-17T10:17:18.320310Z",
     "start_time": "2018-04-17T10:17:18.218274Z"
    }
   },
   "outputs": [
    {
     "data": {
      "text/plain": [
       "Text(0.5,1,'Eingangsbild')"
      ]
     },
     "execution_count": 38,
     "metadata": {},
     "output_type": "execute_result"
    },
    {
     "data": {
      "image/png": "[encoded data removed]",
      "text/plain": [
       "<Figure size 432x288 with 1 Axes>"
      ]
     },
     "metadata": {},
     "output_type": "display_data"
    }
   ],
   "source": [
    "# Bild ausgeben \n",
    "plt.imshow(img)\n",
    "plt.title('Eingangsbild')"
   ]
  },
  {
   "cell_type": "markdown",
   "metadata": {},
   "source": [
    "Die Methode flow() generiert einen Stapel von Bildern, welche abgespeichert werden.  \n",
    "Argumente:\n",
    "* x, Bilder im Numpy Format (Rang 4 mit Angabe der Farbkanäle)   \n",
    "* batch_size, TODO   \n",
    "* save_to_dir, Pfad in dem die Bilder geschrieben werden  \n",
    "* save_format, Bildformat beim abspeichern"
   ]
  },
  {
   "cell_type": "code",
   "execution_count": 46,
   "metadata": {
    "ExecuteTime": {
     "end_time": "2018-04-17T10:28:39.972905Z",
     "start_time": "2018-04-17T10:28:39.914570Z"
    }
   },
   "outputs": [],
   "source": [
    "i = 0 \n",
    "samples = 4 # Anzahl der Bilder\n",
    "for batch in datagen.flow(x, batch_size=1, save_to_dir='beispielDataAugmentation_shearRange160', save_format='jpg'):\n",
    "    i += 1\n",
    "    if i >= samples: \n",
    "        break"
   ]
  },
  {
   "cell_type": "code",
   "execution_count": null,
   "metadata": {},
   "outputs": [],
   "source": []
  }
 ],
 "metadata": {
  "kernelspec": {
   "display_name": "Python [default]",
   "language": "python",
   "name": "python3"
  },
  "language_info": {
   "codemirror_mode": {
    "name": "ipython",
    "version": 3
   },
   "file_extension": ".py",
   "mimetype": "text/x-python",
   "name": "python",
   "nbconvert_exporter": "python",
   "pygments_lexer": "ipython3",
   "version": "3.6.5"
  },
  "toc": {
   "base_numbering": 1,
   "nav_menu": {},
   "number_sections": true,
   "sideBar": true,
   "skip_h1_title": false,
   "title_cell": "Table of Contents",
   "title_sidebar": "Contents",
   "toc_cell": false,
   "toc_position": {},
   "toc_section_display": true,
   "toc_window_display": false
  },
  "varInspector": {
   "cols": {
    "lenName": 16,
    "lenType": 16,
    "lenVar": 40
   },
   "kernels_config": {
    "python": {
     "delete_cmd_postfix": "",
     "delete_cmd_prefix": "del ",
     "library": "var_list.py",
     "varRefreshCmd": "print(var_dic_list())"
    },
    "r": {
     "delete_cmd_postfix": ") ",
     "delete_cmd_prefix": "rm(",
     "library": "var_list.r",
     "varRefreshCmd": "cat(var_dic_list()) "
    }
   },
   "types_to_exclude": [
    "module",
    "function",
    "builtin_function_or_method",
    "instance",
    "_Feature"
   ],
   "window_display": false
  }
 },
 "nbformat": 4,
 "nbformat_minor": 2
}
