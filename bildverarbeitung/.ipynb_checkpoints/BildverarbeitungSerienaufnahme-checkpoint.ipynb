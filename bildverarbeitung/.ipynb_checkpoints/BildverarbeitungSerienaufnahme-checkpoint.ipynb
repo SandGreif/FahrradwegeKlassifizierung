{
 "cells": [
  {
   "cell_type": "markdown",
   "metadata": {},
   "source": [
    "**Bilder vorverarbeiten**\n",
    "\n",
    " \n",
    " Für die weitere Bearbeitung von Serienaufnahmen ist es wichtig dies vorher zu bearbeiten.   \n",
    " Dies liegt daran um für neuronale Netze die benötigten Berechnungen zu reduzieren. Hierfür hilft dieses Notebook mit    \n",
    " welchem es möglich ist Bilder zuzuschneiden. Die Kanale eines Bildes können geändert werden. Des Weiteren ist es möglich die   \n",
    " Größe eines Bildes zu ändern. Als Packet wird OpenCV verwendet."
   ]
  },
  {
   "cell_type": "code",
   "execution_count": 1,
   "metadata": {},
   "outputs": [],
   "source": [
    "import cv2\n",
    "import pandas\n",
    "import os"
   ]
  },
  {
   "cell_type": "code",
   "execution_count": 21,
   "metadata": {},
   "outputs": [],
   "source": [
    "# Position im Quellbild\n",
    "y = 296\n",
    "x = 426\n",
    "# Breite und Höhe des Ausschnits\n",
    "h = 600\n",
    "w = 450\n",
    "# Größe des neuen Bild\n",
    "wNew = 108\n",
    "hNew = 144"
   ]
  },
  {
   "cell_type": "code",
   "execution_count": 5,
   "metadata": {},
   "outputs": [],
   "source": [
    "path = os.getcwd()\n",
    "files = os.listdir(path + \"/1_modifiziert\")\n",
    "# Erstellt Ordner um Bilder abzuspeichern\n",
    "outputDir = \"images\"\n",
    "if not os.path.exists(outputDir):\n",
    "  os.makedirs(outputDir)"
   ]
  },
  {
   "cell_type": "code",
   "execution_count": 24,
   "metadata": {},
   "outputs": [],
   "source": [
    "i = 0\n",
    "for file in files:\n",
    "    if \"jpg\" not in file:\n",
    "        continue\n",
    "    if i == 10:\n",
    "        break\n",
    "    img = cv2.imread(\"1_modifiziert/\" + file)\n",
    "    img = img[y:y+h, x:x+w]\n",
    "    img = cv2.cvtColor(img, cv2.COLOR_BGR2GRAY)\n",
    "    img = cv2.resize(img,(wNew,hNew))\n",
    "    cv2.imwrite( outputDir + \"/\" + file + \".jpg\", img)\n",
    "    i = i + 1"
   ]
  }
 ],
 "metadata": {
  "kernelspec": {
   "display_name": "Python 3",
   "language": "python",
   "name": "python3"
  },
  "language_info": {
   "codemirror_mode": {
    "name": "ipython",
    "version": 3
   },
   "file_extension": ".py",
   "mimetype": "text/x-python",
   "name": "python",
   "nbconvert_exporter": "python",
   "pygments_lexer": "ipython3",
   "version": "3.6.4"
  },
  "toc": {
   "colors": {
    "hover_highlight": "#DAA520",
    "navigate_num": "#000000",
    "navigate_text": "#333333",
    "running_highlight": "#FF0000",
    "selected_highlight": "#FFD700",
    "sidebar_border": "#EEEEEE",
    "wrapper_background": "#FFFFFF"
   },
   "moveMenuLeft": true,
   "nav_menu": {
    "height": "31px",
    "width": "252px"
   },
   "navigate_menu": true,
   "number_sections": true,
   "sideBar": true,
   "threshold": 4,
   "toc_cell": false,
   "toc_section_display": "block",
   "toc_window_display": false,
   "widenNotebook": false
  }
 },
 "nbformat": 4,
 "nbformat_minor": 2
}
