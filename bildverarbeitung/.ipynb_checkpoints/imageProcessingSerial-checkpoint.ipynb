{
 "cells": [
  {
   "cell_type": "markdown",
   "metadata": {},
   "source": [
    "**Bilder vorverarbeiten**\n",
    "\n",
    " \n",
    " Für die weitere Bearbeitung von Serienaufnahmen ist es wichtig dies vorher zu bearbeiten.   \n",
    " Dies liegt daran um für neuronale Netze die benötigten Berechnungen zu reduzieren. Hierfür hilft dieses Notebook mit    \n",
    " welchem es möglich ist Bilder zuzuschneiden. Die Kanale eines Bildes können geändert werden. Des Weiteren ist es möglich die   \n",
    " Größe eines Bildes zu ändern. Als Packet wird OpenCV verwendet."
   ]
  },
  {
   "cell_type": "code",
   "execution_count": 1,
   "metadata": {
    "ExecuteTime": {
     "end_time": "2018-05-03T15:15:06.624462Z",
     "start_time": "2018-05-03T15:15:05.878965Z"
    }
   },
   "outputs": [],
   "source": [
    "import cv2\n",
    "import pandas\n",
    "import os"
   ]
  },
  {
   "cell_type": "code",
   "execution_count": 4,
   "metadata": {
    "ExecuteTime": {
     "end_time": "2018-05-03T15:15:08.107119Z",
     "start_time": "2018-05-03T15:15:08.103119Z"
    }
   },
   "outputs": [],
   "source": [
    "# Position im Quellbild\n",
    "y = 160\n",
    "x = 477\n",
    "# Breite und Höhe des Ausschnits\n",
    "h = 1448\n",
    "w = 280\n",
    "# Größe des neuen Bild\n",
    "scaleFactor = 0.25\n",
    "wNew = w * scaleFactor\n",
    "hNew = h * scaleFactor"
   ]
  },
  {
   "cell_type": "code",
   "execution_count": 5,
   "metadata": {
    "ExecuteTime": {
     "end_time": "2018-04-27T15:12:16.173318Z",
     "start_time": "2018-04-27T15:12:16.160310Z"
    }
   },
   "outputs": [],
   "source": [
    "path = os.getcwd()\n",
    "imagePathName = 'C:/Users/morro/Documents/datenRoh/15/2018_2_15_15_23/befestigt/roh/'\n",
    "files = os.listdir(imagePathName)\n",
    "# Erstellt Ordner um Bilder abzuspeichern\n",
    "outputDir = \"images\"\n",
    "if not os.path.exists(outputDir):\n",
    "  os.makedirs(outputDir)"
   ]
  },
  {
   "cell_type": "code",
   "execution_count": 6,
   "metadata": {
    "ExecuteTime": {
     "end_time": "2018-04-27T15:12:49.089026Z",
     "start_time": "2018-04-27T15:12:16.672466Z"
    }
   },
   "outputs": [],
   "source": [
    "i = 0\n",
    "for file in files:\n",
    "    if \"jpg\" not in file:\n",
    "        continue\n",
    "    if i == 1000:\n",
    "        break\n",
    "    img = cv2.imread(imagePathName + file)\n",
    "    img = img[y:y+h, x:x+w] # Bild wird zugeschnitten\n",
    "    #img = cv2.cvtColor(img, cv2.COLOR_BGR2GRAY) # Von Farbkanal auf Grauwerte\n",
    "    img = cv2.resize(img,(int(wNew),int(hNew))) # Anzahl der Pixel wird reduziert\n",
    "    cv2.imwrite( outputDir + \"/\" + file, img)\n",
    "    i = i + 1"
   ]
  },
  {
   "cell_type": "markdown",
   "metadata": {},
   "source": [
    "Mit den folgenden Zellen können von einem kompletten Datensatz die Bilder zugeschnitten werden. "
   ]
  },
  {
   "cell_type": "code",
   "execution_count": 15,
   "metadata": {
    "ExecuteTime": {
     "end_time": "2018-05-03T15:27:31.669567Z",
     "start_time": "2018-05-03T15:27:31.661568Z"
    }
   },
   "outputs": [
    {
     "data": {
      "text/plain": [
       "['1', '10', '11', '2', '3', '4', '5', '6', '7', '8', '9']"
      ]
     },
     "execution_count": 15,
     "metadata": {},
     "output_type": "execute_result"
    }
   ],
   "source": [
    "dataset = \"20\"\n",
    "path = \"C:/Users/morro/Documents/datenRoh/\" + dataset + \"/2018_2_28_15_11/\"\n",
    "dirs = os.listdir(path)\n",
    "dirs"
   ]
  },
  {
   "cell_type": "code",
   "execution_count": 16,
   "metadata": {
    "ExecuteTime": {
     "end_time": "2018-05-03T15:27:32.987759Z",
     "start_time": "2018-05-03T15:27:32.983759Z"
    }
   },
   "outputs": [],
   "source": [
    "outputDir = \"C:/Users/morro/Documents/datenRoh/\" + dataset + \"/zugeschnitten/\"\n",
    "if not os.path.exists(outputDir):\n",
    "  os.makedirs(outputDir)"
   ]
  },
  {
   "cell_type": "code",
   "execution_count": 17,
   "metadata": {
    "ExecuteTime": {
     "end_time": "2018-05-03T15:27:33.298332Z",
     "start_time": "2018-05-03T15:27:33.266333Z"
    }
   },
   "outputs": [],
   "source": [
    "filesImageNumber = []\n",
    "for dirNumber in dirs:\n",
    "    filesImageNumber.append(os.listdir(path + dirNumber))"
   ]
  },
  {
   "cell_type": "code",
   "execution_count": null,
   "metadata": {
    "ExecuteTime": {
     "start_time": "2018-05-03T15:27:33.493Z"
    }
   },
   "outputs": [
    {
     "name": "stdout",
     "output_type": "stream",
     "text": [
      "C:/Users/morro/Documents/datenRoh/20/zugeschnitten/1\n",
      "C:/Users/morro/Documents/datenRoh/20/zugeschnitten/10\n",
      "C:/Users/morro/Documents/datenRoh/20/zugeschnitten/11\n",
      "C:/Users/morro/Documents/datenRoh/20/zugeschnitten/2\n",
      "C:/Users/morro/Documents/datenRoh/20/zugeschnitten/3\n",
      "C:/Users/morro/Documents/datenRoh/20/zugeschnitten/4\n",
      "C:/Users/morro/Documents/datenRoh/20/zugeschnitten/5\n",
      "C:/Users/morro/Documents/datenRoh/20/zugeschnitten/6\n",
      "C:/Users/morro/Documents/datenRoh/20/zugeschnitten/7\n",
      "C:/Users/morro/Documents/datenRoh/20/zugeschnitten/8\n",
      "C:/Users/morro/Documents/datenRoh/20/zugeschnitten/9\n"
     ]
    }
   ],
   "source": [
    "i = -1\n",
    "for files in filesImageNumber:\n",
    "    i = i + 1  \n",
    "    outputDirName = outputDir + dirs[i] \n",
    "    print(outputDirName)\n",
    "    if not os.path.exists(outputDirName):\n",
    "        os.makedirs(outputDirName)\n",
    "    for name in files:\n",
    "        if \"jpg\" not in name:\n",
    "            continue\n",
    "        img = cv2.imread(path + dirs[i] + \"/\" + name)\n",
    "        img = img[y:y+h, x:x+w]\n",
    "        img = cv2.resize(img,(int(wNew),int(hNew))) # Bild wird skaliert\n",
    "        cv2.imwrite( outputDirName + \"/\" + name, img)   "
   ]
  },
  {
   "cell_type": "code",
   "execution_count": 34,
   "metadata": {},
   "outputs": [],
   "source": [
    "# Einzelnes Bild zuschneiden und skalieren\n",
    "img = cv2.imread('1524469030980.jpg')"
   ]
  },
  {
   "cell_type": "code",
   "execution_count": 35,
   "metadata": {},
   "outputs": [],
   "source": [
    "img = img[y:y+h, x:x+w]"
   ]
  },
  {
   "cell_type": "code",
   "execution_count": 24,
   "metadata": {},
   "outputs": [],
   "source": [
    "img = cv2.resize(img,(int(wNew),int(hNew)))"
   ]
  },
  {
   "cell_type": "code",
   "execution_count": 36,
   "metadata": {},
   "outputs": [
    {
     "data": {
      "text/plain": [
       "True"
      ]
     },
     "execution_count": 36,
     "metadata": {},
     "output_type": "execute_result"
    }
   ],
   "source": [
    "cv2.imwrite(\"1524469030980Bildauschnitt.jpg\",img) "
   ]
  },
  {
   "cell_type": "code",
   "execution_count": 33,
   "metadata": {},
   "outputs": [],
   "source": [
    "## Für Datensatz 23 mit MTB\n",
    "y = 160\n",
    "x = 484"
   ]
  },
  {
   "cell_type": "code",
   "execution_count": null,
   "metadata": {},
   "outputs": [],
   "source": []
  }
 ],
 "metadata": {
  "kernelspec": {
   "display_name": "Python 3",
   "language": "python",
   "name": "python3"
  },
  "language_info": {
   "codemirror_mode": {
    "name": "ipython",
    "version": 3
   },
   "file_extension": ".py",
   "mimetype": "text/x-python",
   "name": "python",
   "nbconvert_exporter": "python",
   "pygments_lexer": "ipython3",
   "version": "3.6.4"
  },
  "toc": {
   "base_numbering": 1,
   "colors": {
    "hover_highlight": "#DAA520",
    "navigate_num": "#000000",
    "navigate_text": "#333333",
    "running_highlight": "#FF0000",
    "selected_highlight": "#FFD700",
    "sidebar_border": "#EEEEEE",
    "wrapper_background": "#FFFFFF"
   },
   "moveMenuLeft": true,
   "nav_menu": {
    "height": "31px",
    "width": "252px"
   },
   "navigate_menu": true,
   "number_sections": true,
   "sideBar": true,
   "skip_h1_title": false,
   "threshold": 4,
   "title_cell": "Table of Contents",
   "title_sidebar": "Contents",
   "toc_cell": false,
   "toc_position": {},
   "toc_section_display": "block",
   "toc_window_display": false,
   "widenNotebook": false
  },
  "varInspector": {
   "cols": {
    "lenName": 16,
    "lenType": 16,
    "lenVar": 40
   },
   "kernels_config": {
    "python": {
     "delete_cmd_postfix": "",
     "delete_cmd_prefix": "del ",
     "library": "var_list.py",
     "varRefreshCmd": "print(var_dic_list())"
    },
    "r": {
     "delete_cmd_postfix": ") ",
     "delete_cmd_prefix": "rm(",
     "library": "var_list.r",
     "varRefreshCmd": "cat(var_dic_list()) "
    }
   },
   "types_to_exclude": [
    "module",
    "function",
    "builtin_function_or_method",
    "instance",
    "_Feature"
   ],
   "window_display": false
  }
 },
 "nbformat": 4,
 "nbformat_minor": 2
}
