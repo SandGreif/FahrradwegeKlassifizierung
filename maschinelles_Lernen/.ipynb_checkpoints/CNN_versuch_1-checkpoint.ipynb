{
 "cells": [
  {
   "cell_type": "markdown",
   "metadata": {},
   "source": [
    " Versuch 1\n",
    " ======\n",
    " \n",
    " Thema\n",
    " ------\n",
    "\n",
    "In diesem Versuch wird ein CNN trainiert in Rahmen der Bachelorarbeit. Ziel ist die Klassifizierung von Bildern   \n",
    "in zwei Klassen. Dies sind unbefestigte oder befestigte Wege. Hierfür verwende ich relativ einfache Methoden.   \n",
    "Es geht darum einen ersten Versuch für eine Klassifizierung von Fahrradwegen zu unternehmen.\n",
    "\n",
    " Versuchsaufbau\n",
    " ------\n",
    " \n",
    " Die Anzahl der aufgenommene Bilder 2000   \n",
    " Alle Daten wurden manuell gelabelt   \n",
    " Originale Kamerauflöung 960px x 1280px   \n",
    " zugeschnitten auf 450px x 600px   \n",
    " Bildgröße reduziert auf 108px x 144px   \n",
    " Datensatz Nummer 4   \n",
    " Anzahl der Klassen 2\n",
    " \n",
    " \n",
    " Ergebnis\n",
    " ------"
   ]
  },
  {
   "cell_type": "code",
   "execution_count": 1,
   "metadata": {},
   "outputs": [
    {
     "name": "stderr",
     "output_type": "stream",
     "text": [
      "Using TensorFlow backend.\n"
     ]
    },
    {
     "data": {
      "text/plain": [
       "'1.2.1'"
      ]
     },
     "execution_count": 1,
     "metadata": {},
     "output_type": "execute_result"
    }
   ],
   "source": [
    "import os\n",
    "import cv2\n",
    "from keras.utils import np_utils\n",
    "from keras.models import Sequential\n",
    "from keras.layers.core import Dense, Dropout, Activation, Flatten\n",
    "from keras.layers.convolutional import Convolution2D, MaxPooling2D\n",
    "from keras.optimizers import SGD,RMSprop,adam\n",
    "import tensorflow\n",
    "import numpy as np\n",
    "import pandas\n",
    "tensorflow.__version__"
   ]
  },
  {
   "cell_type": "code",
   "execution_count": 2,
   "metadata": {},
   "outputs": [
    {
     "name": "stderr",
     "output_type": "stream",
     "text": [
      "C:\\Users\\morro\\Anaconda3\\lib\\site-packages\\sklearn\\cross_validation.py:41: DeprecationWarning: This module was deprecated in version 0.18 in favor of the model_selection module into which all the refactored classes and functions are moved. Also note that the interface of the new CV iterators are different from that of this module. This module will be removed in 0.20.\n",
      "  \"This module will be removed in 0.20.\", DeprecationWarning)\n"
     ]
    }
   ],
   "source": [
    "from sklearn.utils import shuffle\n",
    "from sklearn.cross_validation import train_test_split"
   ]
  },
  {
   "cell_type": "code",
   "execution_count": 3,
   "metadata": {},
   "outputs": [],
   "source": [
    "%matplotlib inline\n",
    "import matplotlib\n",
    "import matplotlib.pyplot as plt"
   ]
  },
  {
   "cell_type": "code",
   "execution_count": 4,
   "metadata": {},
   "outputs": [],
   "source": [
    "path = os.getcwd()\n",
    "dirs = os.listdir(path + '/images')\n",
    "image_path = path + '/images'"
   ]
  },
  {
   "cell_type": "code",
   "execution_count": 5,
   "metadata": {},
   "outputs": [
    {
     "name": "stdout",
     "output_type": "stream",
     "text": [
      "(2000, 144, 108)\n"
     ]
    }
   ],
   "source": [
    "images=[]\n",
    "for file in dirs:\n",
    "    if \"jpg\" not in file:\n",
    "        continue\n",
    "    input_img=cv2.imread(image_path + '/'+ file, cv2.IMREAD_GRAYSCALE )\n",
    "    images.append(input_img)\n",
    "    \n",
    "img_data = np.array(images)\n",
    "img_data = img_data.astype('float32')\n",
    "img_data /= 255\n",
    "print (img_data.shape)"
   ]
  },
  {
   "cell_type": "code",
   "execution_count": 6,
   "metadata": {},
   "outputs": [
    {
     "name": "stdout",
     "output_type": "stream",
     "text": [
      "(2000, 144, 108, 1)\n"
     ]
    }
   ],
   "source": [
    "img_data= img_data[:,np.newaxis]\n",
    "img_data=np.rollaxis(img_data,1,4)\n",
    "print (img_data.shape)"
   ]
  },
  {
   "cell_type": "code",
   "execution_count": 7,
   "metadata": {},
   "outputs": [],
   "source": [
    "numberOfClasses = 2\n",
    "num_of_samples = img_data.shape[0]\n",
    "labelsNp = np.ones((num_of_samples,),dtype='int32')"
   ]
  },
  {
   "cell_type": "code",
   "execution_count": 8,
   "metadata": {
    "scrolled": true
   },
   "outputs": [
    {
     "data": {
      "text/html": [
       "<div>\n",
       "<style scoped>\n",
       "    .dataframe tbody tr th:only-of-type {\n",
       "        vertical-align: middle;\n",
       "    }\n",
       "\n",
       "    .dataframe tbody tr th {\n",
       "        vertical-align: top;\n",
       "    }\n",
       "\n",
       "    .dataframe thead th {\n",
       "        text-align: right;\n",
       "    }\n",
       "</style>\n",
       "<table border=\"1\" class=\"dataframe\">\n",
       "  <thead>\n",
       "    <tr style=\"text-align: right;\">\n",
       "      <th></th>\n",
       "      <th>Unnamed: 0</th>\n",
       "      <th>0</th>\n",
       "      <th>1517406329935</th>\n",
       "      <th>53.613636</th>\n",
       "      <th>53.613636.1</th>\n",
       "      <th>2.43</th>\n",
       "      <th>Klasse</th>\n",
       "    </tr>\n",
       "  </thead>\n",
       "  <tbody>\n",
       "    <tr>\n",
       "      <th>0</th>\n",
       "      <td>0</td>\n",
       "      <td>0</td>\n",
       "      <td>1517406329935</td>\n",
       "      <td>53.613636</td>\n",
       "      <td>53.613636.1</td>\n",
       "      <td>2.430</td>\n",
       "      <td>0</td>\n",
       "    </tr>\n",
       "    <tr>\n",
       "      <th>1</th>\n",
       "      <td>0</td>\n",
       "      <td>0</td>\n",
       "      <td>1517406330272</td>\n",
       "      <td>53.613636</td>\n",
       "      <td>53.613636</td>\n",
       "      <td>4.860</td>\n",
       "      <td>0</td>\n",
       "    </tr>\n",
       "    <tr>\n",
       "      <th>2</th>\n",
       "      <td>1</td>\n",
       "      <td>1</td>\n",
       "      <td>1517406330561</td>\n",
       "      <td>53.613636</td>\n",
       "      <td>53.613636</td>\n",
       "      <td>4.860</td>\n",
       "      <td>0</td>\n",
       "    </tr>\n",
       "    <tr>\n",
       "      <th>3</th>\n",
       "      <td>2</td>\n",
       "      <td>2</td>\n",
       "      <td>1517406330997</td>\n",
       "      <td>53.613632</td>\n",
       "      <td>53.613632</td>\n",
       "      <td>6.264</td>\n",
       "      <td>0</td>\n",
       "    </tr>\n",
       "    <tr>\n",
       "      <th>4</th>\n",
       "      <td>3</td>\n",
       "      <td>3</td>\n",
       "      <td>1517406331103</td>\n",
       "      <td>53.613632</td>\n",
       "      <td>53.613632</td>\n",
       "      <td>7.668</td>\n",
       "      <td>0</td>\n",
       "    </tr>\n",
       "  </tbody>\n",
       "</table>\n",
       "</div>"
      ],
      "text/plain": [
       "   Unnamed: 0  0  1517406329935  53.613636  53.613636.1   2.43  Klasse\n",
       "0           0  0  1517406329935  53.613636  53.613636.1  2.430       0\n",
       "1           0  0  1517406330272  53.613636    53.613636  4.860       0\n",
       "2           1  1  1517406330561  53.613636    53.613636  4.860       0\n",
       "3           2  2  1517406330997  53.613632    53.613632  6.264       0\n",
       "4           3  3  1517406331103  53.613632    53.613632  7.668       0"
      ]
     },
     "execution_count": 8,
     "metadata": {},
     "output_type": "execute_result"
    }
   ],
   "source": [
    "# Lade CSV Datei mit den enthaltenen Features\n",
    "dfFeatures = pandas.read_csv(filepath_or_buffer=\"features.csv\") \n",
    "dfFeatures.head(5)"
   ]
  },
  {
   "cell_type": "code",
   "execution_count": 9,
   "metadata": {},
   "outputs": [
    {
     "data": {
      "text/plain": [
       "0    0\n",
       "1    0\n",
       "2    0\n",
       "3    0\n",
       "4    0\n",
       "Name: Klasse, dtype: int64"
      ]
     },
     "execution_count": 9,
     "metadata": {},
     "output_type": "execute_result"
    }
   ],
   "source": [
    "# Von den Dataframe wird die letzte Spalte selektiert\n",
    "labelsNp = dfFeatures.iloc[:,-1]\n",
    "labelsNp.head(5)"
   ]
  },
  {
   "cell_type": "code",
   "execution_count": 10,
   "metadata": {},
   "outputs": [],
   "source": [
    "# Name der zwei Klassen\n",
    "classNames = ['befestigt','unbefestigt']"
   ]
  },
  {
   "cell_type": "code",
   "execution_count": 11,
   "metadata": {},
   "outputs": [],
   "source": [
    "# Erstellt einen \"one hot encoding\"\n",
    "Y = np_utils.to_categorical(labelsNp, 0)"
   ]
  },
  {
   "cell_type": "code",
   "execution_count": 12,
   "metadata": {},
   "outputs": [],
   "source": [
    "x,y = shuffle(img_data,Y, random_state=2)\n",
    "X_train, X_test, y_train, y_test = train_test_split(x, y, test_size=0.2, random_state=2)"
   ]
  },
  {
   "cell_type": "code",
   "execution_count": 13,
   "metadata": {},
   "outputs": [
    {
     "name": "stderr",
     "output_type": "stream",
     "text": [
      "C:\\Users\\morro\\Anaconda3\\lib\\site-packages\\ipykernel_launcher.py:5: UserWarning: Update your `Conv2D` call to the Keras 2 API: `Conv2D(32, (3, 3), input_shape=(144, 108,..., padding=\"same\")`\n",
      "  \"\"\"\n",
      "C:\\Users\\morro\\Anaconda3\\lib\\site-packages\\ipykernel_launcher.py:7: UserWarning: Update your `Conv2D` call to the Keras 2 API: `Conv2D(32, (3, 3))`\n",
      "  import sys\n",
      "C:\\Users\\morro\\Anaconda3\\lib\\site-packages\\ipykernel_launcher.py:12: UserWarning: Update your `Conv2D` call to the Keras 2 API: `Conv2D(64, (3, 3))`\n",
      "  if sys.path[0] == '':\n"
     ]
    }
   ],
   "source": [
    "input_shape=img_data[0].shape\n",
    "\n",
    "model = Sequential()\n",
    "\n",
    "model.add(Convolution2D(32, 3,3,border_mode='same',input_shape=input_shape))\n",
    "model.add(Activation('relu'))\n",
    "model.add(Convolution2D(32, 3, 3))\n",
    "model.add(Activation('relu'))\n",
    "model.add(MaxPooling2D(pool_size=(2, 2)))\n",
    "model.add(Dropout(0.5))\n",
    "\n",
    "model.add(Convolution2D(64, 3, 3))\n",
    "model.add(Activation('relu'))\n",
    "#model.add(Convolution2D(64, 3, 3))\n",
    "#model.add(Activation('relu'))\n",
    "model.add(MaxPooling2D(pool_size=(2, 2)))\n",
    "model.add(Dropout(0.5))\n",
    "\n",
    "model.add(Flatten())\n",
    "model.add(Dense(64))\n",
    "model.add(Activation('relu'))\n",
    "model.add(Dropout(0.5))\n",
    "model.add(Dense(numberOfClasses))\n",
    "model.add(Activation('softmax'))"
   ]
  },
  {
   "cell_type": "code",
   "execution_count": 14,
   "metadata": {},
   "outputs": [],
   "source": [
    "model.compile(loss='categorical_crossentropy', optimizer='rmsprop',metrics=[\"accuracy\"])"
   ]
  },
  {
   "cell_type": "code",
   "execution_count": 15,
   "metadata": {},
   "outputs": [
    {
     "name": "stdout",
     "output_type": "stream",
     "text": [
      "_________________________________________________________________\n",
      "Layer (type)                 Output Shape              Param #   \n",
      "=================================================================\n",
      "conv2d_1 (Conv2D)            (None, 144, 108, 32)      320       \n",
      "_________________________________________________________________\n",
      "activation_1 (Activation)    (None, 144, 108, 32)      0         \n",
      "_________________________________________________________________\n",
      "conv2d_2 (Conv2D)            (None, 142, 106, 32)      9248      \n",
      "_________________________________________________________________\n",
      "activation_2 (Activation)    (None, 142, 106, 32)      0         \n",
      "_________________________________________________________________\n",
      "max_pooling2d_1 (MaxPooling2 (None, 71, 53, 32)        0         \n",
      "_________________________________________________________________\n",
      "dropout_1 (Dropout)          (None, 71, 53, 32)        0         \n",
      "_________________________________________________________________\n",
      "conv2d_3 (Conv2D)            (None, 69, 51, 64)        18496     \n",
      "_________________________________________________________________\n",
      "activation_3 (Activation)    (None, 69, 51, 64)        0         \n",
      "_________________________________________________________________\n",
      "max_pooling2d_2 (MaxPooling2 (None, 34, 25, 64)        0         \n",
      "_________________________________________________________________\n",
      "dropout_2 (Dropout)          (None, 34, 25, 64)        0         \n",
      "_________________________________________________________________\n",
      "flatten_1 (Flatten)          (None, 54400)             0         \n",
      "_________________________________________________________________\n",
      "dense_1 (Dense)              (None, 64)                3481664   \n",
      "_________________________________________________________________\n",
      "activation_4 (Activation)    (None, 64)                0         \n",
      "_________________________________________________________________\n",
      "dropout_3 (Dropout)          (None, 64)                0         \n",
      "_________________________________________________________________\n",
      "dense_2 (Dense)              (None, 2)                 130       \n",
      "_________________________________________________________________\n",
      "activation_5 (Activation)    (None, 2)                 0         \n",
      "=================================================================\n",
      "Total params: 3,509,858\n",
      "Trainable params: 3,509,858\n",
      "Non-trainable params: 0\n",
      "_________________________________________________________________\n"
     ]
    },
    {
     "data": {
      "text/plain": [
       "(3, 3, 1, 32)"
      ]
     },
     "execution_count": 15,
     "metadata": {},
     "output_type": "execute_result"
    }
   ],
   "source": [
    "model.summary()\n",
    "model.get_config()\n",
    "model.layers[0].get_config()\n",
    "model.layers[0].input_shape\n",
    "model.layers[0].output_shape\n",
    "model.layers[0].get_weights()\n",
    "np.shape(model.layers[0].get_weights()[0])"
   ]
  },
  {
   "cell_type": "code",
   "execution_count": 33,
   "metadata": {},
   "outputs": [
    {
     "name": "stdout",
     "output_type": "stream",
     "text": [
      "Train on 1600 samples, validate on 400 samples\n",
      "Epoch 1/10\n",
      "1600/1600 [==============================] - 74s 46ms/step - loss: 0.4918 - acc: 0.8031 - val_loss: 0.4501 - val_acc: 0.8475\n",
      "Epoch 2/10\n",
      "1600/1600 [==============================] - 74s 46ms/step - loss: 0.4042 - acc: 0.8344 - val_loss: 0.3731 - val_acc: 0.8550\n",
      "Epoch 3/10\n",
      "1600/1600 [==============================] - 77s 48ms/step - loss: 0.3950 - acc: 0.8387 - val_loss: 0.3689 - val_acc: 0.8525\n",
      "Epoch 4/10\n",
      "1600/1600 [==============================] - 77s 48ms/step - loss: 0.3790 - acc: 0.8462 - val_loss: 0.3753 - val_acc: 0.8450\n",
      "Epoch 5/10\n",
      "1600/1600 [==============================] - 77s 48ms/step - loss: 0.3531 - acc: 0.8531 - val_loss: 0.3345 - val_acc: 0.8575\n",
      "Epoch 6/10\n",
      "1600/1600 [==============================] - 75s 47ms/step - loss: 0.3404 - acc: 0.8600 - val_loss: 0.3320 - val_acc: 0.8550\n",
      "Epoch 7/10\n",
      "1600/1600 [==============================] - 82s 51ms/step - loss: 0.3384 - acc: 0.8488 - val_loss: 0.3244 - val_acc: 0.8575\n",
      "Epoch 8/10\n",
      "1600/1600 [==============================] - 79s 49ms/step - loss: 0.3422 - acc: 0.8531 - val_loss: 0.3323 - val_acc: 0.8550\n",
      "Epoch 9/10\n",
      "1600/1600 [==============================] - 76s 48ms/step - loss: 0.3742 - acc: 0.8488 - val_loss: 0.3304 - val_acc: 0.8600\n",
      "Epoch 10/10\n",
      "1600/1600 [==============================] - 79s 49ms/step - loss: 0.3194 - acc: 0.8563 - val_loss: 0.3409 - val_acc: 0.8425\n"
     ]
    }
   ],
   "source": [
    "num_epoch=10\n",
    "hist = model.fit(X_train, y_train, batch_size=16, epochs=num_epoch, verbose=1, validation_data=(X_test, y_test))"
   ]
  },
  {
   "cell_type": "code",
   "execution_count": 34,
   "metadata": {},
   "outputs": [],
   "source": [
    "# visualizing losses and accuracy\n",
    "train_loss=hist.history['loss']\n",
    "val_loss=hist.history['val_loss']\n",
    "train_acc=hist.history['acc']\n",
    "val_acc=hist.history['val_acc']\n",
    "xc=range(num_epoch)"
   ]
  },
  {
   "cell_type": "code",
   "execution_count": 35,
   "metadata": {},
   "outputs": [
    {
     "data": {
      "image/png": "[encoded data removed]",
      "text/plain": [
       "<matplotlib.figure.Figure at 0x1f0b5e6f8d0>"
      ]
     },
     "metadata": {},
     "output_type": "display_data"
    }
   ],
   "source": [
    "plt.figure(1,figsize=(7,5))\n",
    "plt.plot(xc,train_loss)\n",
    "plt.plot(xc,val_loss)\n",
    "plt.xlabel('num of Epochs')\n",
    "plt.ylabel('loss')\n",
    "plt.title('train_loss vs val_loss')\n",
    "plt.grid(True)\n",
    "plt.legend(['train','val'])\n",
    "plt.style.use(['classic'])\n"
   ]
  },
  {
   "cell_type": "code",
   "execution_count": 36,
   "metadata": {},
   "outputs": [
    {
     "data": {
      "image/png": "[encoded data removed]",
      "text/plain": [
       "<matplotlib.figure.Figure at 0x1f0b5e7c0b8>"
      ]
     },
     "metadata": {},
     "output_type": "display_data"
    }
   ],
   "source": [
    "plt.figure(2,figsize=(7,5))\n",
    "plt.plot(xc,train_acc)\n",
    "plt.plot(xc,val_acc)\n",
    "plt.xlabel('num of Epochs')\n",
    "plt.ylabel('accuracy')\n",
    "plt.title('train_acc vs val_acc')\n",
    "plt.grid(True)\n",
    "plt.legend(['train','val'],loc=4)\n",
    "plt.style.use(['classic'])"
   ]
  },
  {
   "cell_type": "code",
   "execution_count": 37,
   "metadata": {},
   "outputs": [
    {
     "name": "stdout",
     "output_type": "stream",
     "text": [
      "Test Loss: 0.34093221426\n",
      "Test accuracy: 0.8425\n"
     ]
    }
   ],
   "source": [
    "score = model.evaluate(X_test, y_test, verbose=0)\n",
    "print('Test Loss:', score[0])\n",
    "print('Test accuracy:', score[1])"
   ]
  },
  {
   "cell_type": "code",
   "execution_count": 38,
   "metadata": {},
   "outputs": [
    {
     "name": "stdout",
     "output_type": "stream",
     "text": [
      "(1, 144, 108, 1)\n",
      "[[ 0.72384536  0.27615458]]\n",
      "1/1 [==============================] - 0s 18ms/step\n",
      "[0]\n",
      "[[ 1.  0.]]\n"
     ]
    }
   ],
   "source": [
    "test_image = X_test[2:3]\n",
    "print (test_image.shape)\n",
    "print(model.predict(test_image))\n",
    "print(model.predict_classes(test_image))\n",
    "print(y_test[2:3])"
   ]
  },
  {
   "cell_type": "code",
   "execution_count": 41,
   "metadata": {},
   "outputs": [
    {
     "name": "stdout",
     "output_type": "stream",
     "text": [
      "[[  6.57e-01   3.43e-01]\n",
      " [  5.59e-03   9.94e-01]\n",
      " [  7.24e-01   2.76e-01]\n",
      " [  9.42e-01   5.84e-02]\n",
      " [  4.24e-01   5.76e-01]\n",
      " [  9.30e-01   7.04e-02]\n",
      " [  9.61e-01   3.89e-02]\n",
      " [  8.26e-01   1.74e-01]\n",
      " [  6.41e-01   3.59e-01]\n",
      " [  4.62e-03   9.95e-01]\n",
      " [  9.34e-01   6.65e-02]\n",
      " [  5.59e-04   9.99e-01]\n",
      " [  9.33e-01   6.75e-02]\n",
      " [  9.45e-01   5.53e-02]\n",
      " [  8.22e-01   1.78e-01]\n",
      " [  1.00e-02   9.90e-01]\n",
      " [  8.73e-01   1.27e-01]\n",
      " [  9.77e-01   2.28e-02]\n",
      " [  7.28e-03   9.93e-01]\n",
      " [  9.58e-01   4.19e-02]\n",
      " [  8.08e-01   1.92e-01]\n",
      " [  2.42e-01   7.58e-01]\n",
      " [  9.15e-01   8.52e-02]\n",
      " [  5.27e-01   4.73e-01]\n",
      " [  6.59e-01   3.41e-01]\n",
      " [  6.61e-02   9.34e-01]\n",
      " [  7.82e-01   2.18e-01]\n",
      " [  9.29e-01   7.07e-02]\n",
      " [  3.29e-01   6.71e-01]\n",
      " [  8.51e-01   1.49e-01]\n",
      " [  3.84e-01   6.16e-01]\n",
      " [  9.50e-01   5.00e-02]\n",
      " [  7.69e-01   2.31e-01]\n",
      " [  6.90e-01   3.10e-01]\n",
      " [  9.64e-01   3.63e-02]\n",
      " [  5.25e-01   4.75e-01]\n",
      " [  6.23e-01   3.77e-01]\n",
      " [  8.07e-01   1.93e-01]\n",
      " [  9.80e-01   2.00e-02]\n",
      " [  6.60e-01   3.40e-01]\n",
      " [  8.73e-01   1.27e-01]\n",
      " [  1.04e-03   9.99e-01]\n",
      " [  8.73e-01   1.27e-01]\n",
      " [  6.47e-01   3.53e-01]\n",
      " [  4.04e-01   5.96e-01]\n",
      " [  9.66e-01   3.37e-02]\n",
      " [  2.86e-03   9.97e-01]\n",
      " [  8.32e-01   1.68e-01]\n",
      " [  7.79e-01   2.21e-01]\n",
      " [  9.18e-01   8.20e-02]\n",
      " [  7.57e-01   2.43e-01]\n",
      " [  3.54e-01   6.46e-01]\n",
      " [  1.36e-01   8.64e-01]\n",
      " [  8.41e-01   1.59e-01]\n",
      " [  7.58e-01   2.42e-01]\n",
      " [  8.74e-01   1.26e-01]\n",
      " [  6.32e-01   3.68e-01]\n",
      " [  6.67e-01   3.33e-01]\n",
      " [  9.71e-01   2.91e-02]\n",
      " [  9.41e-01   5.85e-02]\n",
      " [  7.93e-01   2.07e-01]\n",
      " [  6.08e-01   3.92e-01]\n",
      " [  7.97e-01   2.03e-01]\n",
      " [  9.85e-01   1.51e-02]\n",
      " [  8.90e-02   9.11e-01]\n",
      " [  6.88e-01   3.12e-01]\n",
      " [  9.72e-01   2.80e-02]\n",
      " [  7.96e-01   2.04e-01]\n",
      " [  9.20e-01   7.99e-02]\n",
      " [  5.74e-01   4.26e-01]\n",
      " [  4.54e-01   5.46e-01]\n",
      " [  9.65e-01   3.49e-02]\n",
      " [  1.79e-01   8.21e-01]\n",
      " [  5.57e-01   4.43e-01]\n",
      " [  5.88e-01   4.12e-01]\n",
      " [  7.72e-01   2.28e-01]\n",
      " [  1.31e-01   8.69e-01]\n",
      " [  3.26e-03   9.97e-01]\n",
      " [  5.99e-01   4.01e-01]\n",
      " [  4.05e-01   5.95e-01]\n",
      " [  9.12e-01   8.76e-02]\n",
      " [  1.61e-03   9.98e-01]\n",
      " [  3.63e-03   9.96e-01]\n",
      " [  4.66e-01   5.34e-01]\n",
      " [  9.40e-01   5.95e-02]\n",
      " [  7.32e-01   2.68e-01]\n",
      " [  8.63e-01   1.37e-01]\n",
      " [  9.40e-01   6.02e-02]\n",
      " [  7.12e-01   2.88e-01]\n",
      " [  2.66e-01   7.34e-01]\n",
      " [  9.47e-01   5.28e-02]\n",
      " [  9.36e-01   6.39e-02]\n",
      " [  6.75e-01   3.25e-01]\n",
      " [  9.53e-01   4.66e-02]\n",
      " [  9.38e-01   6.16e-02]\n",
      " [  3.19e-02   9.68e-01]\n",
      " [  7.84e-01   2.16e-01]\n",
      " [  9.34e-01   6.61e-02]\n",
      " [  1.61e-01   8.39e-01]\n",
      " [  5.93e-01   4.07e-01]\n",
      " [  5.44e-01   4.56e-01]\n",
      " [  9.03e-01   9.67e-02]\n",
      " [  4.16e-01   5.84e-01]\n",
      " [  3.14e-02   9.69e-01]\n",
      " [  9.04e-01   9.60e-02]\n",
      " [  8.24e-01   1.76e-01]\n",
      " [  9.57e-01   4.35e-02]\n",
      " [  9.50e-03   9.91e-01]\n",
      " [  9.81e-01   1.91e-02]\n",
      " [  1.14e-03   9.99e-01]\n",
      " [  8.10e-01   1.90e-01]\n",
      " [  6.58e-02   9.34e-01]\n",
      " [  8.36e-01   1.64e-01]\n",
      " [  5.32e-01   4.68e-01]\n",
      " [  7.04e-01   2.96e-01]\n",
      " [  5.54e-01   4.46e-01]\n",
      " [  6.15e-01   3.85e-01]\n",
      " [  9.43e-01   5.74e-02]\n",
      " [  9.54e-01   4.55e-02]\n",
      " [  9.58e-01   4.23e-02]\n",
      " [  2.31e-02   9.77e-01]\n",
      " [  6.39e-01   3.61e-01]\n",
      " [  5.74e-01   4.26e-01]\n",
      " [  1.89e-02   9.81e-01]\n",
      " [  9.38e-01   6.19e-02]\n",
      " [  6.16e-01   3.84e-01]\n",
      " [  6.91e-01   3.09e-01]\n",
      " [  9.57e-01   4.27e-02]\n",
      " [  5.73e-02   9.43e-01]\n",
      " [  5.39e-01   4.61e-01]\n",
      " [  9.28e-01   7.20e-02]\n",
      " [  6.97e-01   3.03e-01]\n",
      " [  2.05e-04   1.00e+00]\n",
      " [  9.67e-06   1.00e+00]\n",
      " [  9.77e-01   2.29e-02]\n",
      " [  8.80e-01   1.20e-01]\n",
      " [  1.58e-04   1.00e+00]\n",
      " [  9.69e-01   3.08e-02]\n",
      " [  7.04e-01   2.96e-01]\n",
      " [  4.92e-01   5.08e-01]\n",
      " [  8.84e-01   1.16e-01]\n",
      " [  7.29e-01   2.71e-01]\n",
      " [  4.10e-04   1.00e+00]\n",
      " [  6.45e-01   3.55e-01]\n",
      " [  7.62e-01   2.38e-01]\n",
      " [  7.80e-01   2.20e-01]\n",
      " [  8.91e-01   1.09e-01]\n",
      " [  9.51e-01   4.89e-02]\n",
      " [  4.16e-03   9.96e-01]\n",
      " [  3.64e-05   1.00e+00]\n",
      " [  5.85e-01   4.15e-01]\n",
      " [  5.04e-01   4.96e-01]\n",
      " [  9.34e-01   6.64e-02]\n",
      " [  9.84e-01   1.64e-02]\n",
      " [  1.93e-02   9.81e-01]\n",
      " [  6.21e-01   3.79e-01]\n",
      " [  8.90e-01   1.10e-01]\n",
      " [  9.37e-04   9.99e-01]\n",
      " [  6.11e-01   3.89e-01]\n",
      " [  1.38e-05   1.00e+00]\n",
      " [  9.31e-01   6.93e-02]\n",
      " [  9.19e-01   8.09e-02]\n",
      " [  9.73e-01   2.68e-02]\n",
      " [  2.23e-01   7.77e-01]\n",
      " [  9.61e-01   3.93e-02]\n",
      " [  5.37e-01   4.63e-01]\n",
      " [  9.13e-01   8.68e-02]\n",
      " [  8.94e-01   1.06e-01]\n",
      " [  9.35e-01   6.52e-02]\n",
      " [  7.33e-01   2.67e-01]\n",
      " [  4.61e-01   5.39e-01]\n",
      " [  6.02e-03   9.94e-01]\n",
      " [  9.44e-04   9.99e-01]\n",
      " [  7.30e-01   2.70e-01]\n",
      " [  3.27e-01   6.73e-01]\n",
      " [  5.24e-01   4.76e-01]\n",
      " [  9.89e-01   1.10e-02]\n",
      " [  8.52e-01   1.48e-01]\n",
      " [  9.17e-01   8.28e-02]\n",
      " [  7.00e-01   3.00e-01]\n",
      " [  8.39e-01   1.61e-01]\n",
      " [  7.82e-01   2.18e-01]\n",
      " [  3.59e-01   6.41e-01]\n",
      " [  7.50e-01   2.50e-01]\n",
      " [  3.52e-02   9.65e-01]\n",
      " [  7.33e-01   2.67e-01]\n",
      " [  7.11e-01   2.89e-01]\n",
      " [  9.44e-01   5.62e-02]\n",
      " [  4.68e-02   9.53e-01]\n",
      " [  6.30e-01   3.70e-01]\n",
      " [  7.63e-01   2.37e-01]\n",
      " [  2.71e-03   9.97e-01]\n",
      " [  8.30e-04   9.99e-01]\n",
      " [  8.62e-01   1.38e-01]\n",
      " [  8.99e-01   1.01e-01]\n",
      " [  2.76e-02   9.72e-01]\n",
      " [  9.54e-01   4.60e-02]\n",
      " [  2.43e-04   1.00e+00]\n",
      " [  8.15e-01   1.85e-01]\n",
      " [  5.96e-01   4.04e-01]\n",
      " [  1.45e-02   9.85e-01]\n",
      " [  8.43e-01   1.57e-01]\n",
      " [  5.40e-01   4.60e-01]\n",
      " [  3.16e-01   6.84e-01]\n",
      " [  9.35e-01   6.48e-02]\n",
      " [  7.37e-01   2.63e-01]\n",
      " [  9.04e-01   9.63e-02]\n",
      " [  9.75e-01   2.54e-02]\n",
      " [  7.73e-01   2.27e-01]\n",
      " [  7.64e-01   2.36e-01]\n",
      " [  9.21e-01   7.85e-02]\n",
      " [  7.09e-01   2.91e-01]\n",
      " [  9.81e-01   1.85e-02]\n",
      " [  9.32e-01   6.79e-02]\n",
      " [  9.44e-01   5.57e-02]\n",
      " [  6.45e-01   3.55e-01]\n",
      " [  9.49e-01   5.08e-02]\n",
      " [  8.60e-01   1.40e-01]\n",
      " [  1.99e-03   9.98e-01]\n",
      " [  4.75e-01   5.25e-01]\n",
      " [  8.49e-01   1.51e-01]\n",
      " [  5.68e-03   9.94e-01]\n",
      " [  8.20e-01   1.80e-01]\n",
      " [  4.77e-03   9.95e-01]\n",
      " [  7.15e-01   2.85e-01]\n",
      " [  6.12e-01   3.88e-01]\n",
      " [  9.93e-04   9.99e-01]\n",
      " [  5.73e-03   9.94e-01]\n",
      " [  9.51e-01   4.87e-02]\n",
      " [  9.08e-01   9.16e-02]\n",
      " [  8.09e-01   1.91e-01]\n",
      " [  9.19e-01   8.11e-02]\n",
      " [  2.82e-02   9.72e-01]\n",
      " [  9.48e-01   5.24e-02]\n",
      " [  1.67e-03   9.98e-01]\n",
      " [  9.41e-01   5.89e-02]\n",
      " [  1.87e-01   8.13e-01]\n",
      " [  8.37e-01   1.63e-01]\n",
      " [  8.95e-01   1.05e-01]\n",
      " [  2.65e-02   9.73e-01]\n",
      " [  1.06e-01   8.94e-01]\n",
      " [  7.76e-01   2.24e-01]\n",
      " [  9.87e-01   1.27e-02]\n",
      " [  6.40e-01   3.60e-01]\n",
      " [  1.13e-04   1.00e+00]\n",
      " [  9.37e-01   6.26e-02]\n",
      " [  9.60e-01   3.98e-02]\n",
      " [  9.40e-01   5.98e-02]\n",
      " [  7.97e-01   2.03e-01]\n",
      " [  8.14e-01   1.86e-01]\n",
      " [  9.25e-01   7.53e-02]\n",
      " [  7.92e-01   2.08e-01]\n",
      " [  1.84e-01   8.16e-01]\n",
      " [  7.94e-01   2.06e-01]\n",
      " [  9.55e-01   4.46e-02]\n",
      " [  8.50e-03   9.92e-01]\n",
      " [  4.70e-03   9.95e-01]\n",
      " [  8.67e-01   1.33e-01]\n",
      " [  4.51e-01   5.49e-01]\n",
      " [  7.40e-01   2.60e-01]\n",
      " [  8.37e-01   1.63e-01]\n",
      " [  9.80e-01   1.97e-02]\n",
      " [  8.06e-01   1.94e-01]\n",
      " [  9.20e-01   8.05e-02]\n",
      " [  8.58e-01   1.42e-01]\n",
      " [  9.82e-01   1.78e-02]\n",
      " [  4.33e-01   5.67e-01]\n",
      " [  5.51e-04   9.99e-01]\n",
      " [  8.27e-01   1.73e-01]\n",
      " [  1.82e-05   1.00e+00]\n",
      " [  9.86e-01   1.43e-02]\n",
      " [  1.05e-04   1.00e+00]\n",
      " [  6.32e-01   3.68e-01]\n",
      " [  8.32e-01   1.68e-01]\n",
      " [  9.18e-01   8.18e-02]\n",
      " [  3.51e-03   9.96e-01]\n",
      " [  8.52e-01   1.48e-01]\n",
      " [  7.06e-01   2.94e-01]\n",
      " [  8.02e-01   1.98e-01]\n",
      " [  1.65e-02   9.83e-01]\n",
      " [  5.49e-01   4.51e-01]\n",
      " [  8.12e-01   1.88e-01]\n",
      " [  5.99e-01   4.01e-01]\n",
      " [  9.30e-01   6.96e-02]\n",
      " [  6.68e-01   3.32e-01]\n",
      " [  2.85e-03   9.97e-01]\n",
      " [  9.25e-01   7.48e-02]\n",
      " [  9.66e-01   3.38e-02]\n",
      " [  3.56e-02   9.64e-01]\n",
      " [  8.33e-01   1.67e-01]\n",
      " [  2.94e-03   9.97e-01]\n",
      " [  9.01e-02   9.10e-01]\n",
      " [  5.46e-01   4.54e-01]\n",
      " [  5.92e-01   4.08e-01]\n",
      " [  9.32e-01   6.78e-02]\n",
      " [  9.30e-01   6.98e-02]\n",
      " [  9.54e-01   4.64e-02]\n",
      " [  5.81e-01   4.19e-01]\n",
      " [  6.31e-01   3.69e-01]\n",
      " [  7.55e-01   2.45e-01]\n",
      " [  7.98e-01   2.02e-01]\n",
      " [  7.72e-01   2.28e-01]\n",
      " [  5.91e-01   4.09e-01]\n",
      " [  6.45e-01   3.55e-01]\n",
      " [  6.14e-01   3.86e-01]\n",
      " [  5.82e-01   4.18e-01]\n",
      " [  5.69e-01   4.31e-01]\n",
      " [  8.64e-01   1.36e-01]\n",
      " [  3.51e-02   9.65e-01]\n",
      " [  5.81e-03   9.94e-01]\n",
      " [  9.54e-01   4.62e-02]\n",
      " [  7.31e-01   2.69e-01]\n",
      " [  3.20e-01   6.80e-01]\n",
      " [  9.47e-01   5.26e-02]\n",
      " [  9.32e-01   6.78e-02]\n",
      " [  8.80e-01   1.20e-01]\n",
      " [  4.44e-01   5.56e-01]\n",
      " [  2.55e-04   1.00e+00]\n",
      " [  9.55e-01   4.52e-02]\n",
      " [  7.20e-03   9.93e-01]\n",
      " [  6.63e-01   3.37e-01]\n",
      " [  5.84e-01   4.16e-01]\n",
      " [  8.28e-01   1.72e-01]\n",
      " [  7.95e-01   2.05e-01]\n",
      " [  9.35e-01   6.54e-02]\n",
      " [  9.17e-01   8.27e-02]\n",
      " [  9.21e-01   7.90e-02]\n",
      " [  9.54e-01   4.64e-02]\n",
      " [  7.48e-01   2.52e-01]\n",
      " [  4.06e-01   5.94e-01]\n",
      " [  4.26e-01   5.74e-01]\n",
      " [  2.80e-01   7.20e-01]\n",
      " [  7.68e-01   2.32e-01]\n",
      " [  7.49e-01   2.51e-01]\n",
      " [  8.26e-01   1.74e-01]\n",
      " [  7.77e-02   9.22e-01]\n",
      " [  4.95e-01   5.05e-01]\n",
      " [  8.40e-01   1.60e-01]\n",
      " [  9.60e-01   4.04e-02]\n",
      " [  5.36e-01   4.64e-01]\n",
      " [  1.62e-03   9.98e-01]\n",
      " [  2.82e-04   1.00e+00]\n",
      " [  1.96e-04   1.00e+00]\n",
      " [  9.45e-01   5.48e-02]\n",
      " [  9.18e-01   8.22e-02]\n",
      " [  9.12e-01   8.76e-02]\n",
      " [  1.76e-01   8.24e-01]\n",
      " [  8.71e-01   1.29e-01]\n",
      " [  8.01e-01   1.99e-01]\n",
      " [  4.96e-01   5.04e-01]\n",
      " [  9.66e-01   3.36e-02]\n",
      " [  4.79e-01   5.21e-01]\n",
      " [  9.19e-01   8.07e-02]\n",
      " [  4.82e-01   5.18e-01]\n",
      " [  8.10e-01   1.90e-01]\n",
      " [  9.44e-01   5.58e-02]\n",
      " [  5.88e-01   4.12e-01]\n",
      " [  2.19e-03   9.98e-01]\n",
      " [  6.56e-01   3.44e-01]\n",
      " [  7.67e-01   2.33e-01]\n",
      " [  6.32e-01   3.68e-01]\n",
      " [  9.20e-01   7.98e-02]\n",
      " [  4.46e-01   5.54e-01]\n",
      " [  5.87e-01   4.13e-01]\n",
      " [  6.28e-01   3.72e-01]\n",
      " [  1.84e-03   9.98e-01]\n",
      " [  8.28e-01   1.72e-01]\n",
      " [  1.63e-01   8.37e-01]\n",
      " [  3.87e-01   6.13e-01]\n",
      " [  7.56e-02   9.24e-01]\n",
      " [  8.99e-01   1.01e-01]\n",
      " [  8.50e-01   1.50e-01]\n",
      " [  8.60e-01   1.40e-01]\n",
      " [  9.55e-01   4.48e-02]\n",
      " [  9.37e-01   6.27e-02]\n",
      " [  7.65e-01   2.35e-01]\n",
      " [  1.51e-01   8.49e-01]\n",
      " [  1.37e-01   8.63e-01]\n",
      " [  2.58e-03   9.97e-01]\n",
      " [  9.46e-01   5.44e-02]\n",
      " [  1.57e-02   9.84e-01]\n",
      " [  7.37e-01   2.63e-01]\n",
      " [  5.29e-01   4.71e-01]\n",
      " [  6.69e-01   3.31e-01]\n",
      " [  7.52e-01   2.48e-01]\n",
      " [  8.97e-01   1.03e-01]\n",
      " [  9.29e-01   7.12e-02]\n",
      " [  7.97e-01   2.03e-01]\n",
      " [  8.63e-01   1.37e-01]\n",
      " [  4.75e-01   5.25e-01]\n",
      " [  7.71e-01   2.29e-01]\n",
      " [  6.23e-01   3.77e-01]\n",
      " [  1.70e-02   9.83e-01]\n",
      " [  8.64e-01   1.36e-01]\n",
      " [  7.87e-03   9.92e-01]\n",
      " [  9.51e-01   4.91e-02]\n",
      " [  8.74e-01   1.26e-01]\n",
      " [  5.20e-01   4.80e-01]\n",
      " [  7.29e-01   2.71e-01]\n",
      " [  3.48e-01   6.52e-01]]\n",
      "[0 1 0 0 1 0 0 0 0 1 0 1 0 0 0 1 0 0 1 0 0 1 0 0 0 1 0 0 1 0 1 0 0 0 0 0 0\n",
      " 0 0 0 0 1 0 0 1 0 1 0 0 0 0 1 1 0 0 0 0 0 0 0 0 0 0 0 1 0 0 0 0 0 1 0 1 0\n",
      " 0 0 1 1 0 1 0 1 1 1 0 0 0 0 0 1 0 0 0 0 0 1 0 0 1 0 0 0 1 1 0 0 0 1 0 1 0\n",
      " 1 0 0 0 0 0 0 0 0 1 0 0 1 0 0 0 0 1 0 0 0 1 1 0 0 1 0 0 1 0 0 1 0 0 0 0 0\n",
      " 1 1 0 0 0 0 1 0 0 1 0 1 0 0 0 1 0 0 0 0 0 0 1 1 1 0 1 0 0 0 0 0 0 0 1 0 1\n",
      " 0 0 0 1 0 0 1 1 0 0 1 0 1 0 0 1 0 0 1 0 0 0 0 0 0 0 0 0 0 0 0 0 0 1 1 0 1\n",
      " 0 1 0 0 1 1 0 0 0 0 1 0 1 0 1 0 0 1 1 0 0 0 1 0 0 0 0 0 0 0 1 0 0 1 1 0 1\n",
      " 0 0 0 0 0 0 0 1 1 0 1 0 1 0 0 0 1 0 0 0 1 0 0 0 0 0 1 0 0 1 0 1 1 0 0 0 0\n",
      " 0 0 0 0 0 0 0 0 0 0 0 0 1 1 0 0 1 0 0 0 1 1 0 1 0 0 0 0 0 0 0 0 0 1 1 1 0\n",
      " 0 0 1 1 0 0 0 1 1 1 0 0 0 1 0 0 1 0 1 0 1 0 0 0 1 0 0 0 0 1 0 0 1 0 1 1 1\n",
      " 0 0 0 0 0 0 1 1 1 0 1 0 0 0 0 0 0 0 0 1 0 0 1 0 1 0 0 0 0 1]\n",
      "                      precision    recall  f1-score   support\n",
      "\n",
      "  class 0(befestigt)       0.86      0.92      0.88       264\n",
      "class 1(unbefestigt)       0.81      0.70      0.75       136\n",
      "\n",
      "         avg / total       0.84      0.84      0.84       400\n",
      "\n",
      "[[242  22]\n",
      " [ 41  95]]\n",
      "Confusion matrix, without normalization\n",
      "[[242  22]\n",
      " [ 41  95]]\n"
     ]
    },
    {
     "data": {
      "image/png": "[encoded data removed]",
      "text/plain": [
       "<matplotlib.figure.Figure at 0x1f0b98f8128>"
      ]
     },
     "metadata": {},
     "output_type": "display_data"
    }
   ],
   "source": [
    "from sklearn.metrics import classification_report,confusion_matrix\n",
    "\n",
    "import itertools\n",
    "Y_pred = model.predict(X_test)\n",
    "print(Y_pred)\n",
    "y_pred = np.argmax(Y_pred, axis=1)\n",
    "print(y_pred)\n",
    "#y_pred = model.predict_classes(X_test)\n",
    "#print(y_pred)\n",
    "target_names = ['class 0(befestigt)', 'class 1(unbefestigt)']\n",
    "print(classification_report(np.argmax(y_test,axis=1), y_pred,target_names=target_names))\n",
    "print(confusion_matrix(np.argmax(y_test,axis=1), y_pred))\n",
    "# Plotting the confusion matrix\n",
    "def plot_confusion_matrix(cm, classes,\n",
    "    normalize=False,\n",
    "    title='Confusion matrix',\n",
    "    cmap=plt.cm.Blues):\n",
    "    plt.imshow(cm, interpolation='nearest', cmap=cmap)\n",
    "    plt.title(title)\n",
    "    plt.colorbar()\n",
    "    tick_marks = np.arange(len(classes))\n",
    "    plt.xticks(tick_marks, classes, rotation=45)\n",
    "    plt.yticks(tick_marks, classes)\n",
    "    if normalize:\n",
    "        cm = cm.astype('float') / cm.sum(axis=1)[:, np.newaxis]\n",
    "        print(\"Normalized confusion matrix\")\n",
    "    else:\n",
    "        print('Confusion matrix, without normalization')\n",
    "    print(cm)\n",
    "\n",
    "    thresh = cm.max() / 2.\n",
    "    for i, j in itertools.product(range(cm.shape[0]), range(cm.shape[1])):\n",
    "        plt.text(j, i, cm[i, j],\n",
    "                 horizontalalignment=\"center\",\n",
    "                 color=\"white\" if cm[i, j] > thresh else \"black\")\n",
    "\n",
    "    plt.tight_layout()\n",
    "    plt.ylabel('True label')\n",
    "    plt.xlabel('Predicted label')\n",
    "\n",
    "# Compute confusion matrix\n",
    "\n",
    "cnf_matrix = (confusion_matrix(np.argmax(y_test,axis=1), y_pred))\n",
    "np.set_printoptions(precision=2)\n",
    "plt.figure()\n",
    "\n",
    "# Plot non-normalized confusion matrix\n",
    "plot_confusion_matrix(cnf_matrix, classes=target_names,\n",
    "\n",
    "                      title='Confusion matrix')\n",
    "#plt.figure()\n",
    "# plot normalized confusion matrix\n",
    "#plot_confusion_matrix(cnf_matrix, classes=target_names, normalize=True,\n",
    "\n",
    "#                      title='Normalized confusion matrix')\n",
    "\n",
    "#plt.figure()\n",
    "plt.show()"
   ]
  },
  {
   "cell_type": "code",
   "execution_count": 43,
   "metadata": {},
   "outputs": [
    {
     "name": "stdout",
     "output_type": "stream",
     "text": [
      "Normalized confusion matrix\n",
      "[[ 0.92  0.08]\n",
      " [ 0.3   0.7 ]]\n"
     ]
    },
    {
     "data": {
      "image/png": "[encoded data removed]",
      "text/plain": [
       "<matplotlib.figure.Figure at 0x1f0b9b1fac8>"
      ]
     },
     "metadata": {},
     "output_type": "display_data"
    }
   ],
   "source": [
    "plot_confusion_matrix(cnf_matrix, classes=target_names, normalize=True,title='Normalized confusion matrix')"
   ]
  }
 ],
 "metadata": {
  "kernelspec": {
   "display_name": "Python 3",
   "language": "python",
   "name": "python3"
  },
  "language_info": {
   "codemirror_mode": {
    "name": "ipython",
    "version": 3
   },
   "file_extension": ".py",
   "mimetype": "text/x-python",
   "name": "python",
   "nbconvert_exporter": "python",
   "pygments_lexer": "ipython3",
   "version": "3.6.4"
  },
  "toc": {
   "colors": {
    "hover_highlight": "#DAA520",
    "navigate_num": "#000000",
    "navigate_text": "#333333",
    "running_highlight": "#FF0000",
    "selected_highlight": "#FFD700",
    "sidebar_border": "#EEEEEE",
    "wrapper_background": "#FFFFFF"
   },
   "moveMenuLeft": true,
   "nav_menu": {
    "height": "49px",
    "width": "252px"
   },
   "navigate_menu": true,
   "number_sections": true,
   "sideBar": true,
   "threshold": 4,
   "toc_cell": false,
   "toc_section_display": "block",
   "toc_window_display": false,
   "widenNotebook": false
  }
 },
 "nbformat": 4,
 "nbformat_minor": 2
}
