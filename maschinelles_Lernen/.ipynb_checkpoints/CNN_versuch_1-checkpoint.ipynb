{
 "cells": [
  {
   "cell_type": "markdown",
   "metadata": {},
   "source": [
    " Versuch 1\n",
    " ======\n",
    " \n",
    " Thema\n",
    " ------\n",
    "\n",
    "In diesem Versuch wird ein CNN trainiert in Rahmen der Bachelorarbeit. Ziel ist die Klassifizierung von Bildern   \n",
    "in zwei Klassen. Dies sind unbefestigte oder befestigte Wege. Hierfür verwende ich relativ einfache Methoden.   \n",
    "Es geht darum einen ersten Versuch für eine Klassifizierung von Fahrradwegen zu unternehmen.\n",
    "\n"
   ]
  },
  {
   "cell_type": "code",
   "execution_count": 14,
   "metadata": {},
   "outputs": [
    {
     "data": {
      "text/plain": [
       "'1.2.1'"
      ]
     },
     "execution_count": 14,
     "metadata": {},
     "output_type": "execute_result"
    }
   ],
   "source": [
    "import os\n",
    "import cv2\n",
    "import keras\n",
    "import tensorflow\n",
    "tensorflow.__version__"
   ]
  },
  {
   "cell_type": "code",
   "execution_count": 3,
   "metadata": {},
   "outputs": [],
   "source": [
    "%matplotlib inline\n",
    "import matplotlib\n",
    "import matplotlib.pyplot as plt"
   ]
  },
  {
   "cell_type": "code",
   "execution_count": 21,
   "metadata": {},
   "outputs": [
    {
     "name": "stdout",
     "output_type": "stream",
     "text": [
      "['.ipynb_checkpoints', 'CNN_versuch_1.ipynb']\n"
     ]
    }
   ],
   "source": [
    "path = os.getcwd()\n",
    "dirs = os.listdir(path)\n",
    "image_path = path + '/data'"
   ]
  },
  {
   "cell_type": "code",
   "execution_count": 19,
   "metadata": {},
   "outputs": [],
   "source": [
    "images=[]\n",
    "for file in dirs:\n",
    "    if \"jpg\" not in file:\n",
    "        continue\n",
    "    input_img=cv2.imread(image_path + '/'+ file )\n",
    "    images.append(input_img)\n",
    "    \n",
    "img_data = np.array(img_data_list)\n",
    "img_data = img_data.astype('float32')\n",
    "img_data /= 255\n"
   ]
  }
 ],
 "metadata": {
  "kernelspec": {
   "display_name": "Python 3",
   "language": "python",
   "name": "python3"
  },
  "language_info": {
   "codemirror_mode": {
    "name": "ipython",
    "version": 3
   },
   "file_extension": ".py",
   "mimetype": "text/x-python",
   "name": "python",
   "nbconvert_exporter": "python",
   "pygments_lexer": "ipython3",
   "version": "3.6.4"
  },
  "toc": {
   "colors": {
    "hover_highlight": "#DAA520",
    "navigate_num": "#000000",
    "navigate_text": "#333333",
    "running_highlight": "#FF0000",
    "selected_highlight": "#FFD700",
    "sidebar_border": "#EEEEEE",
    "wrapper_background": "#FFFFFF"
   },
   "moveMenuLeft": true,
   "nav_menu": {
    "height": "49px",
    "width": "252px"
   },
   "navigate_menu": true,
   "number_sections": true,
   "sideBar": true,
   "threshold": 4,
   "toc_cell": false,
   "toc_section_display": "block",
   "toc_window_display": false,
   "widenNotebook": false
  }
 },
 "nbformat": 4,
 "nbformat_minor": 2
}
