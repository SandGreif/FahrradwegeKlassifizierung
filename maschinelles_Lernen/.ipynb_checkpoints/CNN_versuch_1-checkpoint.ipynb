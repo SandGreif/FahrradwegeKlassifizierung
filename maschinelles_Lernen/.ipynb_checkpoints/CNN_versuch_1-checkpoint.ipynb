{
 "cells": [
  {
   "cell_type": "markdown",
   "metadata": {},
   "source": [
    " Versuch 1\n",
    " ======\n",
    " \n",
    " Thema\n",
    " ------\n",
    "\n",
    "In diesem Versuch wird ein CNN trainiert. Ziel ist die Klassifizierung von Bildern   \n",
    "in zwei Klassen. Dies sind unbefestigte oder befestigte Wege. Hierfür verwende ich relativ einfache Methoden.   \n",
    "Es geht darum einen ersten Versuch für eine Klassifizierung von Fahrradwegen zu unternehmen.\n",
    "\n",
    " Versuchsaufbau\n",
    " ------\n",
    " \n",
    "Als Bibliothekt wird Keras mit Tensorflow als Backend verwendet.\n",
    "Die Trainingsdaten wurden manuell gelabelt und stammen aus dem Datensatz Nummer vier.   \n",
    "Siehe auch die Excel Datei Beschreibung der Datensätze.\n",
    "In der folgenden Tabelle gibt es einen Überblick über die verwendeten Bilder. \n",
    "\n",
    "**Anzahl der Bilder **|**Klassen**|**Kameraauflösung**|**Größe des Ausschnitts**| |**Bildgröße reduziert**\n",
    ":-----:|:-----:|:-----:|:-----:|:-----:|:-----:\n",
    "2000|unbefestigt(664 Bilder), befestigt (1336)|960px x 1280px|450px x 600px| |108px x 144px\n",
    "\n",
    "Das verwendete CNN hat die folgenden Parameter.\n",
    "\n",
    "**Anzahl der Conv-Layer**|**Dense-Layer**|**Aktivierungsfunktion**|**Regularisierung **|**Optimierer **\n",
    ":-----:|:-----:|:-----:|:-----:|:-----:\n",
    "2|2|ReLu|Dropout|RMSprop\n",
    "\n",
    " Ergebnis\n",
    " ------"
   ]
  },
  {
   "cell_type": "code",
   "execution_count": 70,
   "metadata": {},
   "outputs": [
    {
     "data": {
      "text/plain": [
       "'1.2.1'"
      ]
     },
     "execution_count": 70,
     "metadata": {},
     "output_type": "execute_result"
    }
   ],
   "source": [
    "import tensorflow\n",
    "tensorflow.__version__"
   ]
  },
  {
   "cell_type": "code",
   "execution_count": 71,
   "metadata": {},
   "outputs": [],
   "source": [
    "import os\n",
    "import cv2\n",
    "from keras.utils import np_utils\n",
    "from keras.models import Sequential\n",
    "from keras.layers.core import Dense, Dropout, Activation, Flatten\n",
    "from keras.layers.convolutional import Conv2D, MaxPooling2D\n",
    "from keras.optimizers import RMSprop\n",
    "import seaborn\n",
    "import numpy as np\n",
    "import pandas"
   ]
  },
  {
   "cell_type": "code",
   "execution_count": 72,
   "metadata": {},
   "outputs": [],
   "source": [
    "from sklearn.utils import shuffle\n",
    "from sklearn.model_selection import train_test_split"
   ]
  },
  {
   "cell_type": "code",
   "execution_count": 73,
   "metadata": {},
   "outputs": [],
   "source": [
    "# Um Grafiken zu plotten\n",
    "%matplotlib inline\n",
    "import matplotlib\n",
    "import matplotlib.pyplot as plt"
   ]
  },
  {
   "cell_type": "code",
   "execution_count": 74,
   "metadata": {},
   "outputs": [],
   "source": [
    "# dirs beinhaltet eine List mit allen Dateien des angegebenen Ordners\n",
    "path = os.getcwd()\n",
    "image_path = path + '/images'\n",
    "dirs = os.listdir(image_path)"
   ]
  },
  {
   "cell_type": "code",
   "execution_count": 75,
   "metadata": {},
   "outputs": [
    {
     "name": "stdout",
     "output_type": "stream",
     "text": [
      "(2000, 144, 108)\n"
     ]
    }
   ],
   "source": [
    "# Anzahl der Farbkanäle\n",
    "numberOfChannels = 1\n",
    "# Lade alle Bider des angegebenen Ordners in eine Liste\n",
    "images=[]\n",
    "for file in dirs:\n",
    "    if \"jpg\" not in file:   \n",
    "        continue\n",
    "    input_img=cv2.imread(image_path + '/'+ file, cv2.IMREAD_GRAYSCALE )\n",
    "    images.append(input_img)\n",
    "img_data = np.array(images)\n",
    "img_data = img_data.astype('float32')\n",
    "# Transfomierung der Bildpunkte auf den Wetebereich von 0 bis 1\n",
    "img_data /= 255\n",
    "print (img_data.shape)"
   ]
  },
  {
   "cell_type": "code",
   "execution_count": 76,
   "metadata": {},
   "outputs": [
    {
     "name": "stdout",
     "output_type": "stream",
     "text": [
      "(2000, 144, 108, 1)\n"
     ]
    }
   ],
   "source": [
    "# Für Tensorflow Backend müssen die Anzahl der Farbkanäle als letzte Dimension angegeben werden in dem Array\n",
    "img_data= img_data[:,np.newaxis]\n",
    "img_data=np.rollaxis(img_data,numberOfChannels,4)\n",
    "print (img_data.shape)"
   ]
  },
  {
   "cell_type": "code",
   "execution_count": 77,
   "metadata": {},
   "outputs": [],
   "source": [
    "numberOfClasses = 2\n",
    "num_of_samples = img_data.shape[0]\n",
    "labelsNp = np.ones((num_of_samples,),dtype='int32')"
   ]
  },
  {
   "cell_type": "code",
   "execution_count": 78,
   "metadata": {
    "scrolled": true
   },
   "outputs": [
    {
     "data": {
      "text/html": [
       "<div>\n",
       "<style scoped>\n",
       "    .dataframe tbody tr th:only-of-type {\n",
       "        vertical-align: middle;\n",
       "    }\n",
       "\n",
       "    .dataframe tbody tr th {\n",
       "        vertical-align: top;\n",
       "    }\n",
       "\n",
       "    .dataframe thead th {\n",
       "        text-align: right;\n",
       "    }\n",
       "</style>\n",
       "<table border=\"1\" class=\"dataframe\">\n",
       "  <thead>\n",
       "    <tr style=\"text-align: right;\">\n",
       "      <th></th>\n",
       "      <th>0</th>\n",
       "      <th>1517406329935</th>\n",
       "      <th>53.613636</th>\n",
       "      <th>53.613636.1</th>\n",
       "      <th>2.43</th>\n",
       "      <th>Klasse</th>\n",
       "    </tr>\n",
       "  </thead>\n",
       "  <tbody>\n",
       "    <tr>\n",
       "      <th>0</th>\n",
       "      <td>0</td>\n",
       "      <td>1517406329935</td>\n",
       "      <td>53.613636</td>\n",
       "      <td>53.613636.1</td>\n",
       "      <td>2.430</td>\n",
       "      <td>0</td>\n",
       "    </tr>\n",
       "    <tr>\n",
       "      <th>1</th>\n",
       "      <td>0</td>\n",
       "      <td>1517406330272</td>\n",
       "      <td>53.613636</td>\n",
       "      <td>53.613636</td>\n",
       "      <td>4.860</td>\n",
       "      <td>0</td>\n",
       "    </tr>\n",
       "    <tr>\n",
       "      <th>2</th>\n",
       "      <td>1</td>\n",
       "      <td>1517406330561</td>\n",
       "      <td>53.613636</td>\n",
       "      <td>53.613636</td>\n",
       "      <td>4.860</td>\n",
       "      <td>0</td>\n",
       "    </tr>\n",
       "    <tr>\n",
       "      <th>3</th>\n",
       "      <td>2</td>\n",
       "      <td>1517406330997</td>\n",
       "      <td>53.613632</td>\n",
       "      <td>53.613632</td>\n",
       "      <td>6.264</td>\n",
       "      <td>0</td>\n",
       "    </tr>\n",
       "    <tr>\n",
       "      <th>4</th>\n",
       "      <td>3</td>\n",
       "      <td>1517406331103</td>\n",
       "      <td>53.613632</td>\n",
       "      <td>53.613632</td>\n",
       "      <td>7.668</td>\n",
       "      <td>0</td>\n",
       "    </tr>\n",
       "  </tbody>\n",
       "</table>\n",
       "</div>"
      ],
      "text/plain": [
       "   0  1517406329935  53.613636  53.613636.1   2.43  Klasse\n",
       "0  0  1517406329935  53.613636  53.613636.1  2.430       0\n",
       "1  0  1517406330272  53.613636    53.613636  4.860       0\n",
       "2  1  1517406330561  53.613636    53.613636  4.860       0\n",
       "3  2  1517406330997  53.613632    53.613632  6.264       0\n",
       "4  3  1517406331103  53.613632    53.613632  7.668       0"
      ]
     },
     "execution_count": 78,
     "metadata": {},
     "output_type": "execute_result"
    }
   ],
   "source": [
    "# Lade CSV Datei mit den enthaltenen Features\n",
    "dfFeatures = pandas.read_csv(filepath_or_buffer=\"features.csv\") \n",
    "dfFeatures.drop(columns=['Unnamed: 0'], inplace=True)\n",
    "dfFeatures.head(5)"
   ]
  },
  {
   "cell_type": "code",
   "execution_count": 79,
   "metadata": {},
   "outputs": [
    {
     "data": {
      "text/plain": [
       "0    0\n",
       "1    0\n",
       "2    0\n",
       "3    0\n",
       "4    0\n",
       "Name: Klasse, dtype: int64"
      ]
     },
     "execution_count": 79,
     "metadata": {},
     "output_type": "execute_result"
    }
   ],
   "source": [
    "# Von den Dataframe wird die letzte Spalte selektiert\n",
    "labelsNp = dfFeatures.iloc[:,-1]\n",
    "labelsNp.head(5)"
   ]
  },
  {
   "cell_type": "code",
   "execution_count": 80,
   "metadata": {},
   "outputs": [],
   "source": [
    "# Name der zwei Klassen\n",
    "classNames = ['befestigt','unbefestigt']"
   ]
  },
  {
   "cell_type": "code",
   "execution_count": 81,
   "metadata": {},
   "outputs": [],
   "source": [
    "# Erstellt einen \"one hot encoding\" für die gelabelten Daten\n",
    "Y = np_utils.to_categorical(labelsNp, 0)"
   ]
  },
  {
   "cell_type": "code",
   "execution_count": 82,
   "metadata": {},
   "outputs": [],
   "source": [
    "# Setzten des RandomState um reproduzierbare Ergebnisse zu erzielen.\n",
    "np.random.seed(9)"
   ]
  },
  {
   "cell_type": "code",
   "execution_count": 83,
   "metadata": {},
   "outputs": [],
   "source": [
    "# Mischen der Trainingsdaten\n",
    "x,y = shuffle(img_data,Y)\n",
    "# Aufteilung in Trainings und Testdaten\n",
    "X_train, X_test, y_train, y_test = train_test_split(x, y, test_size=0.2)"
   ]
  },
  {
   "cell_type": "code",
   "execution_count": 84,
   "metadata": {},
   "outputs": [],
   "source": [
    "# Parameter für das CNN\n",
    "input_shape=img_data[0].shape\n",
    "numNeurons_C1  = 32     \n",
    "numNeurons_C2  = 64     \n",
    "numNeurons_D1  = 64    \n",
    "convKernelSize = 3      "
   ]
  },
  {
   "cell_type": "code",
   "execution_count": 85,
   "metadata": {},
   "outputs": [],
   "source": [
    "model = Sequential()\n",
    "\n",
    "model.add(Conv2D(numNeurons_C1, (convKernelSize, convKernelSize), padding='valid',input_shape=input_shape))\n",
    "model.add(Activation('relu'))\n",
    "model.add(MaxPooling2D(pool_size=(2, 2)))\n",
    "model.add(Dropout(0.4))\n",
    "\n",
    "model.add(Conv2D(numNeurons_C2, (convKernelSize, convKernelSize)))\n",
    "model.add(Activation('relu'))\n",
    "model.add(MaxPooling2D(pool_size=(2, 2)))\n",
    "model.add(Dropout(0.4))\n",
    "\n",
    "model.add(Flatten())\n",
    "\n",
    "model.add(Dense(numNeurons_D1))\n",
    "model.add(Activation('relu'))\n",
    "model.add(Dropout(0.4))\n",
    "\n",
    "model.add(Dense(numberOfClasses))\n",
    "model.add(Activation('softmax'))"
   ]
  },
  {
   "cell_type": "code",
   "execution_count": 86,
   "metadata": {},
   "outputs": [
    {
     "name": "stdout",
     "output_type": "stream",
     "text": [
      "_________________________________________________________________\n",
      "Layer (type)                 Output Shape              Param #   \n",
      "=================================================================\n",
      "conv2d_14 (Conv2D)           (None, 142, 106, 32)      320       \n",
      "_________________________________________________________________\n",
      "activation_24 (Activation)   (None, 142, 106, 32)      0         \n",
      "_________________________________________________________________\n",
      "max_pooling2d_11 (MaxPooling (None, 71, 53, 32)        0         \n",
      "_________________________________________________________________\n",
      "dropout_16 (Dropout)         (None, 71, 53, 32)        0         \n",
      "_________________________________________________________________\n",
      "conv2d_15 (Conv2D)           (None, 69, 51, 64)        18496     \n",
      "_________________________________________________________________\n",
      "activation_25 (Activation)   (None, 69, 51, 64)        0         \n",
      "_________________________________________________________________\n",
      "max_pooling2d_12 (MaxPooling (None, 34, 25, 64)        0         \n",
      "_________________________________________________________________\n",
      "dropout_17 (Dropout)         (None, 34, 25, 64)        0         \n",
      "_________________________________________________________________\n",
      "flatten_6 (Flatten)          (None, 54400)             0         \n",
      "_________________________________________________________________\n",
      "dense_11 (Dense)             (None, 64)                3481664   \n",
      "_________________________________________________________________\n",
      "activation_26 (Activation)   (None, 64)                0         \n",
      "_________________________________________________________________\n",
      "dropout_18 (Dropout)         (None, 64)                0         \n",
      "_________________________________________________________________\n",
      "dense_12 (Dense)             (None, 2)                 130       \n",
      "_________________________________________________________________\n",
      "activation_27 (Activation)   (None, 2)                 0         \n",
      "=================================================================\n",
      "Total params: 3,500,610\n",
      "Trainable params: 3,500,610\n",
      "Non-trainable params: 0\n",
      "_________________________________________________________________\n"
     ]
    }
   ],
   "source": [
    "# Zusammenfassung des neuralen Netzes\n",
    "model.summary()"
   ]
  },
  {
   "cell_type": "code",
   "execution_count": 87,
   "metadata": {},
   "outputs": [],
   "source": [
    "model.compile(loss='categorical_crossentropy', optimizer='rmsprop',metrics=[\"accuracy\"])"
   ]
  },
  {
   "cell_type": "code",
   "execution_count": 88,
   "metadata": {},
   "outputs": [
    {
     "name": "stdout",
     "output_type": "stream",
     "text": [
      "Train on 1600 samples, validate on 400 samples\n",
      "Epoch 1/20\n",
      "1600/1600 [==============================] - 36s 22ms/step - loss: 2.7532 - acc: 0.6575 - val_loss: 0.6494 - val_acc: 0.6575\n",
      "Epoch 2/20\n",
      "1600/1600 [==============================] - 37s 23ms/step - loss: 0.5986 - acc: 0.7037 - val_loss: 0.5889 - val_acc: 0.8275\n",
      "Epoch 3/20\n",
      "1600/1600 [==============================] - 36s 22ms/step - loss: 0.4527 - acc: 0.8344 - val_loss: 0.4242 - val_acc: 0.8600\n",
      "Epoch 4/20\n",
      "1600/1600 [==============================] - 36s 22ms/step - loss: 0.4062 - acc: 0.8475 - val_loss: 0.3503 - val_acc: 0.8725\n",
      "Epoch 5/20\n",
      "1600/1600 [==============================] - 35s 22ms/step - loss: 0.3645 - acc: 0.8519 - val_loss: 0.3204 - val_acc: 0.8675\n",
      "Epoch 6/20\n",
      "1600/1600 [==============================] - 36s 23ms/step - loss: 0.3326 - acc: 0.8563 - val_loss: 0.2943 - val_acc: 0.8700\n",
      "Epoch 7/20\n",
      "1600/1600 [==============================] - 35s 22ms/step - loss: 0.3285 - acc: 0.8500 - val_loss: 0.2785 - val_acc: 0.8750\n",
      "Epoch 8/20\n",
      "1600/1600 [==============================] - 36s 22ms/step - loss: 0.3018 - acc: 0.8700 - val_loss: 0.2674 - val_acc: 0.8775\n",
      "Epoch 9/20\n",
      "1600/1600 [==============================] - 35s 22ms/step - loss: 0.2813 - acc: 0.8744 - val_loss: 0.2459 - val_acc: 0.9100\n",
      "Epoch 10/20\n",
      "1600/1600 [==============================] - 36s 23ms/step - loss: 0.2941 - acc: 0.8875 - val_loss: 0.2373 - val_acc: 0.9075\n",
      "Epoch 11/20\n",
      "1600/1600 [==============================] - 38s 24ms/step - loss: 0.2674 - acc: 0.8900 - val_loss: 0.2528 - val_acc: 0.9150\n",
      "Epoch 12/20\n",
      "1600/1600 [==============================] - 38s 24ms/step - loss: 0.2621 - acc: 0.8962 - val_loss: 0.2505 - val_acc: 0.9050\n",
      "Epoch 13/20\n",
      "1600/1600 [==============================] - 37s 23ms/step - loss: 0.2526 - acc: 0.8950 - val_loss: 0.2337 - val_acc: 0.9175\n",
      "Epoch 14/20\n",
      "1600/1600 [==============================] - 38s 24ms/step - loss: 0.2555 - acc: 0.8988 - val_loss: 0.2511 - val_acc: 0.9225\n",
      "Epoch 15/20\n",
      "1600/1600 [==============================] - 38s 24ms/step - loss: 0.2356 - acc: 0.9025 - val_loss: 0.2761 - val_acc: 0.9125\n",
      "Epoch 16/20\n",
      "1600/1600 [==============================] - 36s 22ms/step - loss: 0.2337 - acc: 0.9094 - val_loss: 0.2206 - val_acc: 0.9250\n",
      "Epoch 17/20\n",
      "1600/1600 [==============================] - 37s 23ms/step - loss: 0.2370 - acc: 0.9119 - val_loss: 0.2205 - val_acc: 0.9150\n",
      "Epoch 18/20\n",
      "1600/1600 [==============================] - 37s 23ms/step - loss: 0.2164 - acc: 0.9119 - val_loss: 0.2224 - val_acc: 0.9200\n",
      "Epoch 19/20\n",
      "1600/1600 [==============================] - 35s 22ms/step - loss: 0.2275 - acc: 0.9131 - val_loss: 0.2161 - val_acc: 0.9250\n",
      "Epoch 20/20\n",
      "1600/1600 [==============================] - 36s 23ms/step - loss: 0.2178 - acc: 0.9213 - val_loss: 0.2212 - val_acc: 0.9150\n"
     ]
    }
   ],
   "source": [
    "num_epoch=20\n",
    "hist = model.fit(X_train, y_train, batch_size=16, epochs=num_epoch, verbose=1, validation_data=(X_test, y_test))"
   ]
  },
  {
   "cell_type": "code",
   "execution_count": 102,
   "metadata": {},
   "outputs": [
    {
     "data": {
      "image/png": "[encoded data removed]",
      "text/plain": [
       "<matplotlib.figure.Figure at 0x19b5bfaff28>"
      ]
     },
     "metadata": {},
     "output_type": "display_data"
    },
    {
     "data": {
      "image/png": "[encoded data removed]",
      "text/plain": [
       "<matplotlib.figure.Figure at 0x19b00006f28>"
      ]
     },
     "metadata": {},
     "output_type": "display_data"
    }
   ],
   "source": [
    "plt.figure(4)\n",
    "plt.xlabel('Epochen')\n",
    "plt.ylabel('Loss')\n",
    "plt.plot(hist.history['loss'])\n",
    "plt.plot(hist.history['val_loss'])\n",
    "plt.legend(['Training', 'Validation'])\n",
    "\n",
    "plt.figure(1)\n",
    "plt.xlabel('Epochen')\n",
    "plt.ylabel('Accuracy')\n",
    "plt.plot(hist.history['acc'])\n",
    "plt.plot(hist.history['val_acc'])\n",
    "plt.legend(['Training', 'Validation'], loc='lower right')\n",
    "\n",
    "plt.show()"
   ]
  },
  {
   "cell_type": "code",
   "execution_count": 93,
   "metadata": {},
   "outputs": [
    {
     "name": "stdout",
     "output_type": "stream",
     "text": [
      "Test Loss: 0.221169665009\n",
      "Test accuracy: 0.915\n"
     ]
    }
   ],
   "source": [
    "score = model.evaluate(X_test, y_test, verbose=0)\n",
    "print('Test Loss:', score[0])\n",
    "print('Test accuracy:', score[1])"
   ]
  },
  {
   "cell_type": "code",
   "execution_count": 94,
   "metadata": {},
   "outputs": [
    {
     "name": "stdout",
     "output_type": "stream",
     "text": [
      "(1, 144, 108, 1)\n",
      "[[ 0.97887909  0.02112091]]\n",
      "1/1 [==============================] - 0s 7ms/step\n",
      "[0]\n",
      "[[ 1.  0.]]\n"
     ]
    }
   ],
   "source": [
    "test_image = X_test[2:3]\n",
    "print (test_image.shape)\n",
    "print(model.predict(test_image))\n",
    "print(model.predict_classes(test_image))\n",
    "print(y_test[2:3])"
   ]
  },
  {
   "cell_type": "code",
   "execution_count": null,
   "metadata": {},
   "outputs": [],
   "source": [
    "cnf_matrix = confusion_matrix(y_test, )"
   ]
  }
 ],
 "metadata": {
  "kernelspec": {
   "display_name": "Python 3",
   "language": "python",
   "name": "python3"
  },
  "language_info": {
   "codemirror_mode": {
    "name": "ipython",
    "version": 3
   },
   "file_extension": ".py",
   "mimetype": "text/x-python",
   "name": "python",
   "nbconvert_exporter": "python",
   "pygments_lexer": "ipython3",
   "version": "3.6.4"
  },
  "toc": {
   "colors": {
    "hover_highlight": "#DAA520",
    "navigate_num": "#000000",
    "navigate_text": "#333333",
    "running_highlight": "#FF0000",
    "selected_highlight": "#FFD700",
    "sidebar_border": "#EEEEEE",
    "wrapper_background": "#FFFFFF"
   },
   "moveMenuLeft": true,
   "nav_menu": {
    "height": "49px",
    "width": "252px"
   },
   "navigate_menu": true,
   "number_sections": true,
   "sideBar": true,
   "threshold": 4,
   "toc_cell": false,
   "toc_section_display": "block",
   "toc_window_display": false,
   "widenNotebook": false
  }
 },
 "nbformat": 4,
 "nbformat_minor": 2
}
