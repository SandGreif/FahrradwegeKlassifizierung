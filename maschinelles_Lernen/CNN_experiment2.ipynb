{
 "cells": [
  {
   "cell_type": "markdown",
   "metadata": {},
   "source": [
    "# Versuch 2: Datenaugmentation\n",
    "\n",
    "Thema\n",
    " ------\n",
    "\n",
    "Ziel ist die binäre Klassifizierung von kontinuierlich aufgenommenen Bildern von Fahrradwegen. Dabei soll unterschieden    \n",
    "werden zwischen den Klassen befestigt und unbefestigt. Als Referenz wird das Schlüssel Attribute \"surface\" von OpenStreetMap    genutzt mit welchem Wege oder Flächen getaggt werden. Grundsätzlich wird zwischen versiegelten Oberflächen und nicht    versiegelten unterschieden. Zu den versiegelten Oberflächen gehören unter anderem Asphalt, Beton und Pflastersteine.   \n",
    "Wege welche unbefestigt sind werden weiter unterschieden zwischen verdichtete Deckschichten, Split bzw. Grant, Schotter, Kies, Gras, Matsch, Sand, Schnee und weiteren Oberflächen. \n",
    "\n",
    "Versuchsaufbau\n",
    " ------\n",
    " \n",
    "Die Bilder kommen aus den Datensatz 22. Für die beiden Klassen befestigt und unbefestigt gibt es einen Ordner mit jeweils 2000  Bildern. Im Gegensatz zu Versuch 1 ist hier die Anzahl der Repräsentanten für die Klassen gleich verteilt. Als Verfahren für die Klassifizierung soll ein Faltungsnetzt trainiert werden.     \n",
    "\n"
   ]
  },
  {
   "cell_type": "code",
   "execution_count": null,
   "metadata": {},
   "outputs": [],
   "source": []
  }
 ],
 "metadata": {
  "kernelspec": {
   "display_name": "Python 3",
   "language": "python",
   "name": "python3"
  },
  "language_info": {
   "codemirror_mode": {
    "name": "ipython",
    "version": 3
   },
   "file_extension": ".py",
   "mimetype": "text/x-python",
   "name": "python",
   "nbconvert_exporter": "python",
   "pygments_lexer": "ipython3",
   "version": "3.6.5"
  },
  "toc": {
   "colors": {
    "hover_highlight": "#DAA520",
    "navigate_num": "#000000",
    "navigate_text": "#333333",
    "running_highlight": "#FF0000",
    "selected_highlight": "#FFD700",
    "sidebar_border": "#EEEEEE",
    "wrapper_background": "#FFFFFF"
   },
   "moveMenuLeft": true,
   "nav_menu": {
    "height": "31px",
    "width": "252px"
   },
   "navigate_menu": true,
   "number_sections": true,
   "sideBar": true,
   "threshold": 4,
   "toc_cell": false,
   "toc_section_display": "block",
   "toc_window_display": false,
   "widenNotebook": false
  }
 },
 "nbformat": 4,
 "nbformat_minor": 2
}
