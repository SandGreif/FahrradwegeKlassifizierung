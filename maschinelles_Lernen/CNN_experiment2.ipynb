{
 "cells": [
  {
   "cell_type": "markdown",
   "metadata": {},
   "source": [
    "# Versuch 2: Datenaugmentation\n",
    "\n",
    "Thema\n",
    " ------\n",
    "\n",
    "Ziel ist die binäre Klassifizierung von kontinuierlich aufgenommenen Bildern von Fahrradwegen. Dabei soll unterschieden    \n",
    "werden zwischen den Klassen befestigt und unbefestigt. Als Referenz wird das Schlüssel Attribute \"surface\" von OpenStreetMap    genutzt mit welchem Wege oder Flächen getaggt werden. Grundsätzlich wird zwischen versiegelten Oberflächen und nicht    versiegelten unterschieden. Zu den versiegelten Oberflächen gehören unter anderem Asphalt, Beton und Pflastersteine.   \n",
    "Wege welche unbefestigt sind werden weiter unterschieden zwischen verdichtete Deckschichten, Split bzw. Grant, Schotter, Kies, Gras, Matsch, Sand, Schnee und weiteren Oberflächen. \n",
    "\n",
    "Versuchsaufbau\n",
    " ------\n",
    " \n",
    "Die Bilder kommen aus den Datensatz 22. Für die beiden Klassen befestigt und unbefestigt gibt es einen Ordner mit jeweils 2000  Bildern. Im Gegensatz zu Versuch 1 ist hier die Anzahl der Repräsentanten für die Klassen gleich verteilt. Als Verfahren für die Klassifizierung soll ein Faltungsnetzt trainiert werden.     \n",
    "\n",
    "\n",
    "Ergebnis\n",
    " ------\n",
    "\n",
    "Fazit\n",
    " ------"
   ]
  },
  {
   "cell_type": "code",
   "execution_count": 1,
   "metadata": {
    "ExecuteTime": {
     "end_time": "2018-04-16T15:56:09.353184Z",
     "start_time": "2018-04-16T15:56:07.655784Z"
    }
   },
   "outputs": [
    {
     "name": "stderr",
     "output_type": "stream",
     "text": [
      "C:\\Users\\user\\AppData\\Local\\conda\\conda\\envs\\bicycle\\lib\\site-packages\\h5py\\__init__.py:36: FutureWarning: Conversion of the second argument of issubdtype from `float` to `np.floating` is deprecated. In future, it will be treated as `np.float64 == np.dtype(float).type`.\n",
      "  from ._conv import register_converters as _register_converters\n"
     ]
    }
   ],
   "source": [
    "import tensorflow as tf"
   ]
  },
  {
   "cell_type": "code",
   "execution_count": 2,
   "metadata": {
    "ExecuteTime": {
     "end_time": "2018-04-16T15:56:09.402521Z",
     "start_time": "2018-04-16T15:56:09.358710Z"
    }
   },
   "outputs": [
    {
     "name": "stderr",
     "output_type": "stream",
     "text": [
      "Using TensorFlow backend.\n"
     ]
    }
   ],
   "source": [
    "import keras"
   ]
  },
  {
   "cell_type": "code",
   "execution_count": null,
   "metadata": {},
   "outputs": [],
   "source": []
  }
 ],
 "metadata": {
  "kernelspec": {
   "display_name": "Python [default]",
   "language": "python",
   "name": "python3"
  },
  "language_info": {
   "codemirror_mode": {
    "name": "ipython",
    "version": 3
   },
   "file_extension": ".py",
   "mimetype": "text/x-python",
   "name": "python",
   "nbconvert_exporter": "python",
   "pygments_lexer": "ipython3",
   "version": "3.6.5"
  },
  "toc": {
   "base_numbering": 1,
   "nav_menu": {
    "height": "31px",
    "width": "252px"
   },
   "number_sections": true,
   "sideBar": true,
   "skip_h1_title": false,
   "title_cell": "Table of Contents",
   "title_sidebar": "Contents",
   "toc_cell": false,
   "toc_position": {},
   "toc_section_display": "block",
   "toc_window_display": false
  },
  "varInspector": {
   "cols": {
    "lenName": 16,
    "lenType": 16,
    "lenVar": 40
   },
   "kernels_config": {
    "python": {
     "delete_cmd_postfix": "",
     "delete_cmd_prefix": "del ",
     "library": "var_list.py",
     "varRefreshCmd": "print(var_dic_list())"
    },
    "r": {
     "delete_cmd_postfix": ") ",
     "delete_cmd_prefix": "rm(",
     "library": "var_list.r",
     "varRefreshCmd": "cat(var_dic_list()) "
    }
   },
   "types_to_exclude": [
    "module",
    "function",
    "builtin_function_or_method",
    "instance",
    "_Feature"
   ],
   "window_display": false
  }
 },
 "nbformat": 4,
 "nbformat_minor": 2
}
