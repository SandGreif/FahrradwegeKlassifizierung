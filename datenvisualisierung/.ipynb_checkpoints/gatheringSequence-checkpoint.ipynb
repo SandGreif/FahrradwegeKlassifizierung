{
 "cells": [
  {
   "cell_type": "markdown",
   "metadata": {},
   "source": [
    "# Zeitlicher Ablauf der Datenerfassung\n",
    "\n",
    "Einleitung\n",
    " ------\n",
    "In diesem Notebook geht es darum den zeitlichen Ablauf der Datenerfassung darzustellen.\n",
    "Dabei werden als zeitliche Kennzahlen die arithmetischen Mittelwerte genutzt sowie die min und maximal Zeitwerte.     \n",
    "Die Daten werden mit einer Smartphone Android App erfasst (https://github.com/SandGreif/Fahrradwege-Monitoring-App).\n",
    "\n",
    "<img src=\"../daten/abbildungen/mittelwerteZeitlicherAblaufT80.png\" alr=\"Mittelwerte des zeitlichen Ablaufs der Datenerfassung. Zeitfenster Mittelwert t=80ms\">\n",
    "Abbildung 1: Zeitfenster Mittelwert t=80ms. Datensätze 15 bis 22\n",
    "\n",
    "<img src=\"../daten/abbildungen/mittelwerteZeitlicherAblaufT500.png\" alt=\" Mittelwerte des zeitlichen Ablaufs der Datenerfassung. Zeitfenster Mittelwert t=500ms\">\n",
    "Abbildung 2: Zeitfenster Mittelwert t=500ms. Datensätze 26 bis 27\n",
    "\n",
    "<img src=\"../daten/abbildungen/mittelwerteZeitlicherAblaufTDynamischesZeitfenster.png\" alt=\"Mittelwerte des zeitlichen Ablaufs der Datenerfassung: Dynamisches Zeitfenster Mittelwert t=243,58ms\">\n",
    "Abbildung 3: Dynamisches Zeitfenster Mittelwert t=243,58ms. Datensätze 28 bis 29\n",
    "\n",
    "Auf Abb. 2 - 3 wurde noch vom Ende des Zeitfensters bis zum Stopp der Messwerterfassung die nicht optimierte Version verwendet. Also der Zeitabstand ist doppelt so lang wie nötig zwischen dem fertig aufgenommenen Bild bis zum Stopp der Messwerterfassung. Außerdem ist die Dauer t des y Wert \"Lesen und Schreiben der Daten\" eine Schätzung auf Abb. 1-3. Erst bei späteren Datenerfassungen wird das tatsächliche Ende abgespeichert."
   ]
  },
  {
   "cell_type": "code",
   "execution_count": 1,
   "metadata": {},
   "outputs": [],
   "source": [
    "import pandas\n",
    "import os\n",
    "import numpy as np\n",
    "%matplotlib inline \n",
    "import matplotlib.pyplot as plt\n",
    "import matplotlib.ticker as ticker\n",
    "import matplotlib.patches as mpatches"
   ]
  },
  {
   "cell_type": "code",
   "execution_count": 2,
   "metadata": {},
   "outputs": [],
   "source": [
    "featuresDf = pandas.read_csv(filepath_or_buffer=\"../daten/merkmale_datensatz_31/merkmaleRoh.csv\")"
   ]
  },
  {
   "cell_type": "code",
   "execution_count": 3,
   "metadata": {},
   "outputs": [
    {
     "data": {
      "text/html": [
       "<div>\n",
       "<style scoped>\n",
       "    .dataframe tbody tr th:only-of-type {\n",
       "        vertical-align: middle;\n",
       "    }\n",
       "\n",
       "    .dataframe tbody tr th {\n",
       "        vertical-align: top;\n",
       "    }\n",
       "\n",
       "    .dataframe thead th {\n",
       "        text-align: right;\n",
       "    }\n",
       "</style>\n",
       "<table border=\"1\" class=\"dataframe\">\n",
       "  <thead>\n",
       "    <tr style=\"text-align: right;\">\n",
       "      <th></th>\n",
       "      <th>Zeitstempel in Unixzeit</th>\n",
       "      <th>Breitengrad</th>\n",
       "      <th>Laengengrad</th>\n",
       "      <th>Geschwindigkeit in km/h</th>\n",
       "      <th>Anzahl der Messwerte</th>\n",
       "      <th>Start des Zeitfensters in ns seit Start der JVM</th>\n",
       "      <th>Start der Messwerterfassung in ns seit Start der JVM</th>\n",
       "      <th>Start der Belichtung in ns seit Start der JVM</th>\n",
       "      <th>Belichtungszeit in ns</th>\n",
       "      <th>Letzter Zeitstempel der Messwerterfassung in ns seit Start der JVM</th>\n",
       "      <th>Speicherzeitpunkt der Merkmale in Unixzeit</th>\n",
       "    </tr>\n",
       "  </thead>\n",
       "  <tbody>\n",
       "    <tr>\n",
       "      <th>count</th>\n",
       "      <td>1.452300e+04</td>\n",
       "      <td>14523.000000</td>\n",
       "      <td>14523.000000</td>\n",
       "      <td>14523.000000</td>\n",
       "      <td>14523.000000</td>\n",
       "      <td>1.452300e+04</td>\n",
       "      <td>1.452300e+04</td>\n",
       "      <td>1.452300e+04</td>\n",
       "      <td>1.452300e+04</td>\n",
       "      <td>1.452300e+04</td>\n",
       "      <td>1.452300e+04</td>\n",
       "    </tr>\n",
       "    <tr>\n",
       "      <th>mean</th>\n",
       "      <td>1.527177e+12</td>\n",
       "      <td>53.624309</td>\n",
       "      <td>10.194123</td>\n",
       "      <td>14.960815</td>\n",
       "      <td>30.292295</td>\n",
       "      <td>3.738346e+14</td>\n",
       "      <td>3.738177e+14</td>\n",
       "      <td>3.738347e+14</td>\n",
       "      <td>1.364669e+07</td>\n",
       "      <td>3.738348e+14</td>\n",
       "      <td>1.527177e+12</td>\n",
       "    </tr>\n",
       "    <tr>\n",
       "      <th>std</th>\n",
       "      <td>1.448411e+06</td>\n",
       "      <td>0.011712</td>\n",
       "      <td>0.027526</td>\n",
       "      <td>3.459989</td>\n",
       "      <td>8.822954</td>\n",
       "      <td>1.448408e+12</td>\n",
       "      <td>1.447742e+12</td>\n",
       "      <td>1.448407e+12</td>\n",
       "      <td>1.172524e+07</td>\n",
       "      <td>1.448410e+12</td>\n",
       "      <td>1.448409e+06</td>\n",
       "    </tr>\n",
       "    <tr>\n",
       "      <th>min</th>\n",
       "      <td>1.527174e+12</td>\n",
       "      <td>53.610420</td>\n",
       "      <td>10.137928</td>\n",
       "      <td>5.004000</td>\n",
       "      <td>15.000000</td>\n",
       "      <td>3.714277e+14</td>\n",
       "      <td>3.714274e+14</td>\n",
       "      <td>3.714279e+14</td>\n",
       "      <td>1.185879e+06</td>\n",
       "      <td>3.714282e+14</td>\n",
       "      <td>1.527174e+12</td>\n",
       "    </tr>\n",
       "    <tr>\n",
       "      <th>25%</th>\n",
       "      <td>1.527175e+12</td>\n",
       "      <td>53.613846</td>\n",
       "      <td>10.169364</td>\n",
       "      <td>12.636000</td>\n",
       "      <td>25.000000</td>\n",
       "      <td>3.725350e+14</td>\n",
       "      <td>3.725256e+14</td>\n",
       "      <td>3.725351e+14</td>\n",
       "      <td>2.904945e+06</td>\n",
       "      <td>3.725353e+14</td>\n",
       "      <td>1.527175e+12</td>\n",
       "    </tr>\n",
       "    <tr>\n",
       "      <th>50%</th>\n",
       "      <td>1.527177e+12</td>\n",
       "      <td>53.620390</td>\n",
       "      <td>10.202947</td>\n",
       "      <td>15.264000</td>\n",
       "      <td>28.000000</td>\n",
       "      <td>3.738025e+14</td>\n",
       "      <td>3.737764e+14</td>\n",
       "      <td>3.738026e+14</td>\n",
       "      <td>1.000184e+07</td>\n",
       "      <td>3.738027e+14</td>\n",
       "      <td>1.527177e+12</td>\n",
       "    </tr>\n",
       "    <tr>\n",
       "      <th>75%</th>\n",
       "      <td>1.527178e+12</td>\n",
       "      <td>53.636347</td>\n",
       "      <td>10.214922</td>\n",
       "      <td>17.460000</td>\n",
       "      <td>33.000000</td>\n",
       "      <td>3.751178e+14</td>\n",
       "      <td>3.750831e+14</td>\n",
       "      <td>3.751179e+14</td>\n",
       "      <td>2.999632e+07</td>\n",
       "      <td>3.751181e+14</td>\n",
       "      <td>1.527178e+12</td>\n",
       "    </tr>\n",
       "    <tr>\n",
       "      <th>max</th>\n",
       "      <td>1.527179e+12</td>\n",
       "      <td>53.647810</td>\n",
       "      <td>10.233107</td>\n",
       "      <td>26.820000</td>\n",
       "      <td>89.000000</td>\n",
       "      <td>3.763461e+14</td>\n",
       "      <td>3.763385e+14</td>\n",
       "      <td>3.763464e+14</td>\n",
       "      <td>3.287369e+07</td>\n",
       "      <td>3.763466e+14</td>\n",
       "      <td>1.527179e+12</td>\n",
       "    </tr>\n",
       "  </tbody>\n",
       "</table>\n",
       "</div>"
      ],
      "text/plain": [
       "       Zeitstempel in Unixzeit   Breitengrad   Laengengrad  \\\n",
       "count             1.452300e+04  14523.000000  14523.000000   \n",
       "mean              1.527177e+12     53.624309     10.194123   \n",
       "std               1.448411e+06      0.011712      0.027526   \n",
       "min               1.527174e+12     53.610420     10.137928   \n",
       "25%               1.527175e+12     53.613846     10.169364   \n",
       "50%               1.527177e+12     53.620390     10.202947   \n",
       "75%               1.527178e+12     53.636347     10.214922   \n",
       "max               1.527179e+12     53.647810     10.233107   \n",
       "\n",
       "       Geschwindigkeit in km/h  Anzahl der Messwerte  \\\n",
       "count             14523.000000          14523.000000   \n",
       "mean                 14.960815             30.292295   \n",
       "std                   3.459989              8.822954   \n",
       "min                   5.004000             15.000000   \n",
       "25%                  12.636000             25.000000   \n",
       "50%                  15.264000             28.000000   \n",
       "75%                  17.460000             33.000000   \n",
       "max                  26.820000             89.000000   \n",
       "\n",
       "       Start des Zeitfensters in ns seit Start der JVM  \\\n",
       "count                                     1.452300e+04   \n",
       "mean                                      3.738346e+14   \n",
       "std                                       1.448408e+12   \n",
       "min                                       3.714277e+14   \n",
       "25%                                       3.725350e+14   \n",
       "50%                                       3.738025e+14   \n",
       "75%                                       3.751178e+14   \n",
       "max                                       3.763461e+14   \n",
       "\n",
       "       Start der Messwerterfassung in ns seit Start der JVM  \\\n",
       "count                                       1.452300e+04      \n",
       "mean                                        3.738177e+14      \n",
       "std                                         1.447742e+12      \n",
       "min                                         3.714274e+14      \n",
       "25%                                         3.725256e+14      \n",
       "50%                                         3.737764e+14      \n",
       "75%                                         3.750831e+14      \n",
       "max                                         3.763385e+14      \n",
       "\n",
       "       Start der Belichtung in ns seit Start der JVM  Belichtungszeit in ns  \\\n",
       "count                                   1.452300e+04           1.452300e+04   \n",
       "mean                                    3.738347e+14           1.364669e+07   \n",
       "std                                     1.448407e+12           1.172524e+07   \n",
       "min                                     3.714279e+14           1.185879e+06   \n",
       "25%                                     3.725351e+14           2.904945e+06   \n",
       "50%                                     3.738026e+14           1.000184e+07   \n",
       "75%                                     3.751179e+14           2.999632e+07   \n",
       "max                                     3.763464e+14           3.287369e+07   \n",
       "\n",
       "       Letzter Zeitstempel der Messwerterfassung in ns seit Start der JVM  \\\n",
       "count                                       1.452300e+04                    \n",
       "mean                                        3.738348e+14                    \n",
       "std                                         1.448410e+12                    \n",
       "min                                         3.714282e+14                    \n",
       "25%                                         3.725353e+14                    \n",
       "50%                                         3.738027e+14                    \n",
       "75%                                         3.751181e+14                    \n",
       "max                                         3.763466e+14                    \n",
       "\n",
       "       Speicherzeitpunkt der Merkmale in Unixzeit  \n",
       "count                                1.452300e+04  \n",
       "mean                                 1.527177e+12  \n",
       "std                                  1.448409e+06  \n",
       "min                                  1.527174e+12  \n",
       "25%                                  1.527175e+12  \n",
       "50%                                  1.527177e+12  \n",
       "75%                                  1.527178e+12  \n",
       "max                                  1.527179e+12  "
      ]
     },
     "execution_count": 3,
     "metadata": {},
     "output_type": "execute_result"
    }
   ],
   "source": [
    "featuresDf.describe()"
   ]
  },
  {
   "cell_type": "code",
   "execution_count": 4,
   "metadata": {},
   "outputs": [
    {
     "data": {
      "text/plain": [
       "Index(['Zeitstempel in Unixzeit', 'Breitengrad', 'Laengengrad',\n",
       "       'Geschwindigkeit in km/h', 'Z-Achse Beschleunigungswerte in m/s^2',\n",
       "       'Y-Achse Beschleunigungswerte in m/s^2', 'Nick Messwerte in rad',\n",
       "       'Zeitstempel der Messwerte in ns', 'Anzahl der Messwerte',\n",
       "       'Start des Zeitfensters in ns seit Start der JVM',\n",
       "       'Start der Messwerterfassung in ns seit Start der JVM',\n",
       "       'Start der Belichtung in ns seit Start der JVM',\n",
       "       'Belichtungszeit in ns',\n",
       "       'Letzter Zeitstempel der Messwerterfassung in ns seit Start der JVM',\n",
       "       'Speicherzeitpunkt der Merkmale in Unixzeit'],\n",
       "      dtype='object')"
      ]
     },
     "execution_count": 4,
     "metadata": {},
     "output_type": "execute_result"
    }
   ],
   "source": [
    "featuresDf.columns"
   ]
  },
  {
   "cell_type": "code",
   "execution_count": 5,
   "metadata": {},
   "outputs": [
    {
     "data": {
      "text/plain": [
       "13.646686002065689"
      ]
     },
     "execution_count": 5,
     "metadata": {},
     "output_type": "execute_result"
    }
   ],
   "source": [
    "# Mittelwert der Belichtungszeit aller Aufnahmen umgerechnet in ms\n",
    "meanExposureTime = featuresDf['Belichtungszeit in ns'].mean() / 1000000\n",
    "meanExposureTime"
   ]
  },
  {
   "cell_type": "code",
   "execution_count": 6,
   "metadata": {},
   "outputs": [
    {
     "data": {
      "text/plain": [
       "30.292294980375956"
      ]
     },
     "execution_count": 6,
     "metadata": {},
     "output_type": "execute_result"
    }
   ],
   "source": [
    "# Mittelwert Anzahl der Messwerte pro Merkmal\n",
    "featuresDf['Anzahl der Messwerte'].mean()"
   ]
  },
  {
   "cell_type": "code",
   "execution_count": 9,
   "metadata": {},
   "outputs": [
    {
     "data": {
      "text/plain": [
       "240.6286066268157"
      ]
     },
     "execution_count": 9,
     "metadata": {},
     "output_type": "execute_result"
    }
   ],
   "source": [
    "# Dynamisches Zeitfenster Mittelwert\n",
    "timeframe = featuresDf['Geschwindigkeit in km/h'].mean() \n",
    "# umrechnung km/h in m/s\n",
    "timeframe = timeframe/3.6\n",
    "timeframe = 1/timeframe \n",
    "timeframe = timeframe * 1000\n",
    "timeframe"
   ]
  },
  {
   "cell_type": "code",
   "execution_count": 8,
   "metadata": {},
   "outputs": [],
   "source": [
    "# Dauer des Zeitfensters in ms\n",
    "timeframe = 80"
   ]
  },
  {
   "cell_type": "code",
   "execution_count": 10,
   "metadata": {},
   "outputs": [
    {
     "data": {
      "text/plain": [
       "20.267458024108308"
      ]
     },
     "execution_count": 10,
     "metadata": {},
     "output_type": "execute_result"
    }
   ],
   "source": [
    "# Mittelwert vom Ende des Zeitfensters in ms bis zum Stop der Datenerfassung in ms \n",
    "meanStopMeasurementToEndTimeframeTime =(featuresDf['Letzter Zeitstempel der Messwerterfassung in ns seit Start der JVM'] \n",
    "                          - (featuresDf['Start des Zeitfensters in ns seit Start der JVM'] + (timeframe * 1000000))).mean()\n",
    "meanStopMeasurementToEndTimeframeTime = meanStopMeasurementToEndTimeframeTime / 1000000\n",
    "meanStopMeasurementToEndTimeframeTime"
   ]
  },
  {
   "cell_type": "code",
   "execution_count": 80,
   "metadata": {},
   "outputs": [
    {
     "data": {
      "text/plain": [
       "-372307643967390.19"
      ]
     },
     "execution_count": 80,
     "metadata": {},
     "output_type": "execute_result"
    }
   ],
   "source": [
    "# Mittelwert vom Aufruf das die Aufnahme fertig ist bis zum Stopp der Messwerterfassung in ms\n",
    "meanStopMeasurementTime = (featuresDf['Zeitstempel in Unixzeit']-featuresDf['Stopp der Messwerterfassung in Unixzeit']).mean()\n",
    "meanStopMeasurementTime"
   ]
  },
  {
   "cell_type": "code",
   "execution_count": 24,
   "metadata": {},
   "outputs": [
    {
     "data": {
      "text/plain": [
       "16811.5136484375"
      ]
     },
     "execution_count": 24,
     "metadata": {},
     "output_type": "execute_result"
    }
   ],
   "source": [
    "# Mittelwert vom Start der Messwert Datenerfassung bis zum Start des Zeitfensters in ms\n",
    "meanStartMeasurementDataTime = featuresDf['Start des Zeitfensters in ns seit Start der JVM'].mean() - featuresDf['Start der Messwerterfassung in ns seit Start der JVM'].mean()\n",
    "meanStartMeasurementDataTime = meanStartMeasurementDataTime / 1000000\n",
    "meanStartMeasurementDataTime"
   ]
  },
  {
   "cell_type": "markdown",
   "metadata": {},
   "source": [
    "Bei der Berechnung des zeitlichen Abstandes von erfassten Bildaufnahmen ist zu beachten, dass die verwendete Daten aus einer Datenerfassungsserie stammen also einem Datensatz. Als Kennwert wird nämlich die Zeitstempel Spalte aus der Merkmal CSV Datei genutzt. Der Zeitstempel gibt an, wann das Bild aufgenommen wurde in Unixzeit. Zwischen zwei erfassten Datensätzen ist meistens einige Zeit mehr vergangen. Deshalb wird für die Berechnung ein Datensatz genutzt. Der angegebene Zeitwert wird in dem Notebook frameRate berechnet in dem Ordner datenanalyse. "
   ]
  },
  {
   "cell_type": "code",
   "execution_count": 129,
   "metadata": {},
   "outputs": [],
   "source": [
    "# Mittelwert des Abstandes bis das nächste Bild aufgenommen wurde von den Datensatz 15 mit 305.906 ms aufgerundet auf 306 Ms.\n",
    "meanCaptureImagesTime = 290"
   ]
  },
  {
   "cell_type": "code",
   "execution_count": 130,
   "metadata": {},
   "outputs": [],
   "source": [
    "# In dieser Zelle werden die Vielfachen der Mittelwerte in Listen angehängt, um exemplarisch\n",
    "# den weiteren Verlauf einer Datenserie mit gemittelten Zeitwerten in einem Diagram darzustellen.\n",
    "\n",
    "# Anzahl der Bilder\n",
    "numberImages = 2\n",
    "imageCounter = 1\n",
    "meanExposureOffset = (timeframe - meanExposureTime) / 2\n",
    "# Listen die mit den entsprechenden Vielfachen der Zeitangaben gefüllt werden\n",
    "\n",
    "# Gibt mittlere Zeitwerte an zu welchem ein Bild bereit ist zum abspeichern \n",
    "meanCaptureImagesTimeList = []\n",
    "# Start der Zeitfenster \n",
    "startTimeFrameList = []\n",
    "startExposureTimeList = []\n",
    "exposureTimeList = []\n",
    "while imageCounter <= numberImages:\n",
    "    meanCaptureImagesTimeList.append(meanCaptureImagesTime * imageCounter)\n",
    "    startTimeFrameList.append(meanCaptureImagesTimeList[imageCounter-1] - meanStopMeasurementToEndTimeframeTime - timeframe)\n",
    "    startExposureTimeList.append(startTimeFrameList[imageCounter-1] + meanExposureOffset)\n",
    "    exposureTimeList.append(startExposureTimeList[imageCounter-1] + meanExposureTime)\n",
    "    imageCounter = imageCounter + 1"
   ]
  },
  {
   "cell_type": "code",
   "execution_count": 131,
   "metadata": {},
   "outputs": [
    {
     "data": {
      "text/plain": [
       "138.45946163713478"
      ]
     },
     "execution_count": 131,
     "metadata": {},
     "output_type": "execute_result"
    }
   ],
   "source": [
    "meanCaptureImagesTimeList[0] - meanStopMeasurementToEndTimeframeTime - timeframe"
   ]
  },
  {
   "cell_type": "code",
   "execution_count": 132,
   "metadata": {},
   "outputs": [
    {
     "data": {
      "text/plain": [
       "71.540538362865234"
      ]
     },
     "execution_count": 132,
     "metadata": {},
     "output_type": "execute_result"
    }
   ],
   "source": [
    "meanStopMeasurementToEndTimeframeTime"
   ]
  },
  {
   "cell_type": "code",
   "execution_count": 133,
   "metadata": {},
   "outputs": [
    {
     "data": {
      "text/plain": [
       "71.540538362865234"
      ]
     },
     "execution_count": 133,
     "metadata": {},
     "output_type": "execute_result"
    }
   ],
   "source": [
    "meanStopMeasurementToEndTimeframeTime"
   ]
  },
  {
   "cell_type": "code",
   "execution_count": 134,
   "metadata": {},
   "outputs": [
    {
     "data": {
      "text/plain": [
       "77.379605590259786"
      ]
     },
     "execution_count": 134,
     "metadata": {},
     "output_type": "execute_result"
    }
   ],
   "source": [
    "# Offset damit t bei 0 ms beginnt\n",
    "zeroOffset = startTimeFrameList[0]-meanStartMeasurementDataTime\n",
    "zeroOffset"
   ]
  },
  {
   "cell_type": "code",
   "execution_count": 135,
   "metadata": {},
   "outputs": [
    {
     "data": {
      "text/plain": [
       "138.45946163713478"
      ]
     },
     "execution_count": 135,
     "metadata": {},
     "output_type": "execute_result"
    }
   ],
   "source": [
    "startTimeFrameList[0]"
   ]
  },
  {
   "cell_type": "code",
   "execution_count": 136,
   "metadata": {},
   "outputs": [
    {
     "data": {
      "text/plain": [
       "138.45946163713478"
      ]
     },
     "execution_count": 136,
     "metadata": {},
     "output_type": "execute_result"
    }
   ],
   "source": [
    "startTimeFrameList[0]"
   ]
  },
  {
   "cell_type": "code",
   "execution_count": 137,
   "metadata": {},
   "outputs": [
    {
     "name": "stdout",
     "output_type": "stream",
     "text": [
      "4.13020764111\n"
     ]
    }
   ],
   "source": [
    "measuredDataPerMs = timeframe / featuresDf['Anzahl der Messwerte'].mean()\n",
    "print(measuredDataPerMs)"
   ]
  },
  {
   "cell_type": "code",
   "execution_count": 138,
   "metadata": {},
   "outputs": [
    {
     "data": {
      "text/plain": [
       "51.984893363228807"
      ]
     },
     "execution_count": 138,
     "metadata": {},
     "output_type": "execute_result"
    }
   ],
   "source": [
    "(meanCaptureImagesTimeList[0] + meanStopMeasurementTime - zeroOffset) / measuredDataPerMs"
   ]
  },
  {
   "cell_type": "code",
   "execution_count": 139,
   "metadata": {},
   "outputs": [
    {
     "data": {
      "text/plain": [
       "61.079856046875001"
      ]
     },
     "execution_count": 139,
     "metadata": {},
     "output_type": "execute_result"
    }
   ],
   "source": [
    "meanStartMeasurementDataTime"
   ]
  },
  {
   "cell_type": "code",
   "execution_count": 140,
   "metadata": {},
   "outputs": [
    {
     "data": {
      "text/plain": [
       "504.70840379115327"
      ]
     },
     "execution_count": 140,
     "metadata": {},
     "output_type": "execute_result"
    }
   ],
   "source": [
    "meanCaptureImagesTimeList[1] + meanStopMeasurementTime - zeroOffset"
   ]
  },
  {
   "cell_type": "code",
   "execution_count": 141,
   "metadata": {},
   "outputs": [
    {
     "data": {
      "text/plain": [
       "214.7084037911533"
      ]
     },
     "execution_count": 141,
     "metadata": {},
     "output_type": "execute_result"
    }
   ],
   "source": [
    "meanCaptureImagesTimeList[0] + meanStopMeasurementTime - zeroOffset"
   ]
  },
  {
   "cell_type": "code",
   "execution_count": 142,
   "metadata": {},
   "outputs": [
    {
     "data": {
      "text/plain": [
       "80"
      ]
     },
     "execution_count": 142,
     "metadata": {},
     "output_type": "execute_result"
    }
   ],
   "source": [
    "timeframe"
   ]
  },
  {
   "cell_type": "code",
   "execution_count": 143,
   "metadata": {
    "scrolled": false
   },
   "outputs": [
    {
     "data": {
      "image/png": "[encoded data removed]",
      "text/plain": [
       "<Figure size 1440x432 with 1 Axes>"
      ]
     },
     "metadata": {},
     "output_type": "display_data"
    }
   ],
   "source": [
    "# Plot mit Gantt-Diagram\n",
    "fig, ax = plt.subplots(figsize=(20,6))\n",
    "i = 0\n",
    "while i < numberImages:\n",
    "    if i == 0:\n",
    "        ax.hlines(xmin=startTimeFrameList[i]-meanStartMeasurementDataTime - zeroOffset,\n",
    "                  xmax=startTimeFrameList[i]-zeroOffset + meanStopMeasurementToEndTimeframeTime + timeframe,y=1, colors=\"lavender\", lw=50)\n",
    "        ax.hlines(xmin=startTimeFrameList[i] - zeroOffset,xmax=startTimeFrameList[i]+ timeframe - zeroOffset,y=2, colors=\"lightsteelblue\", lw=50)\n",
    "        ax.hlines(xmin=startExposureTimeList[i] - zeroOffset,xmax=exposureTimeList[i] - zeroOffset,y=3, colors=\"blue\", lw=50)\n",
    "        ax.hlines(xmin=meanCaptureImagesTimeList[i] + meanStopMeasurementTime - zeroOffset,xmax=meanCaptureImagesTimeList[i] + 60 - zeroOffset,\n",
    "                  y=4, colors=\"dimgrey\", lw=50)\n",
    "    else:\n",
    "        ax.hlines(xmin=startTimeFrameList[i]-meanStartMeasurementDataTime - zeroOffset,xmax=meanCaptureImagesTimeList[i] + meanStopMeasurementTime - zeroOffset,\n",
    "                  y=1, colors=\"lavender\", lw=50)\n",
    "\n",
    "    i = i + 1\n",
    "\n",
    "def formatter(y, pos):\n",
    "    if y == 1:\n",
    "        return 'Messwerterfassung'\n",
    "    if y == 2:\n",
    "        return 'Messwerte im relevanten Zeitfenster'\n",
    "    if y == 3:\n",
    "        return 'Belichtungszeit'\n",
    "    if y == 4:\n",
    "        return 'Lesen und Schreiben \\n der Daten'\n",
    "    else:\n",
    "        return ''\n",
    "\n",
    "plt.gca().yaxis.set_major_formatter(ticker.FuncFormatter(formatter))\n",
    "plt.xlabel('t/ms',fontsize=14)\n",
    "plt.title('Mittelwerte des zeitlichen Ablaufs der Datenerfassung',fontsize=18)\n",
    "plt.grid()\n",
    "plt.yticks(fontsize=14)\n",
    "plt.xticks(fontsize=14)\n",
    "plt.xlim(0,)#startTimeFrameList[1]-meanStartMeasurementDataTime-60)\n",
    "plt.ylim(0,4.5)\n",
    "plt.rcParams[\"legend.fontsize\"] = 14"
   ]
  },
  {
   "cell_type": "code",
   "execution_count": 146,
   "metadata": {},
   "outputs": [
    {
     "data": {
      "image/png": "[encoded data removed]",
      "text/plain": [
       "<Figure size 1440x432 with 1 Axes>"
      ]
     },
     "metadata": {},
     "output_type": "display_data"
    }
   ],
   "source": [
    "# Plot mit stem Diagrammen\n",
    "fig, ax = plt.subplots(figsize=(20,6))\n",
    "i = 0\n",
    "while i < numberImages:\n",
    "    if i == 0:\n",
    "        # Messwerterfassung\n",
    "        x = np.linspace(startTimeFrameList[i]-meanStartMeasurementDataTime - zeroOffset,\n",
    "                        startTimeFrameList[i]-zeroOffset + meanStopMeasurementToEndTimeframeTime + timeframe, \n",
    "                        int((meanStartMeasurementDataTime  + meanStopMeasurementToEndTimeframeTime + timeframe) / measuredDataPerMs))\n",
    "        (markers, stemlines, baseline) = plt.stem(x, np.full((x.size), 1.3), linefmt='C7-', basefmt='None', bottom=0.65, markerfmt='wo')\n",
    "        plt.setp(stemlines, linestyle=\"-\", color=\"C7\", linewidth=1.5)\n",
    "        plt.setp(markers, markeredgecolor='C7', markersize=10, markeredgewidth=1.5, zorder=3)\n",
    "        # Zeitfenster\n",
    "        x = np.linspace(startTimeFrameList[i] - zeroOffset,startTimeFrameList[i]+timeframe - zeroOffset, \n",
    "                        int(featuresDf['Anzahl der Messwerte'].mean()))\n",
    "        (markers, stemlines, baseline) = plt.stem(x, np.full((x.size), 2.3), 'b-', basefmt='None', bottom=1.65, markerfmt='wo')\n",
    "        plt.setp(stemlines, linestyle=\"-\", color=\"b\", linewidth=1.5)\n",
    "        plt.setp(markers, markeredgecolor='b', markersize=10, markeredgewidth=1.5, zorder=3)\n",
    "        # Belichtungszeit\n",
    "        ax.hlines(xmin=startExposureTimeList[i] - zeroOffset,xmax=exposureTimeList[i] - zeroOffset,y=3, colors=\"blue\", lw=50)\n",
    "        # Lesen und schreiben der Daten\n",
    "        ax.hlines(xmin=meanCaptureImagesTimeList[i] - meanStopMeasurementTime - zeroOffset,xmax=meanCaptureImagesTimeList[i] + 60 - zeroOffset,\n",
    "              y=4, colors=\"dimgrey\", lw=50)\n",
    "    else:\n",
    "        # Messwerterfassung\n",
    "        x = np.linspace(startTimeFrameList[i]-meanStartMeasurementDataTime - zeroOffset,\n",
    "                        meanCaptureImagesTimeList[i] + meanStopMeasurementTime - zeroOffset, \n",
    "                        int((meanCaptureImagesTimeList[0] + meanStopMeasurementTime - zeroOffset) / measuredDataPerMs))\n",
    "        (markers, stemlines, baseline) = plt.stem(x, np.full((x.size), 1.3), linefmt='C7-', basefmt='None', bottom=0.65, markerfmt='wo')\n",
    "        plt.setp(stemlines, linestyle=\"-\", color=\"C7\", linewidth=1.5)\n",
    "        plt.setp(markers, markeredgecolor='C7', markersize=10, markeredgewidth=1.5, zorder=3)\n",
    "    i = i + 1\n",
    "\n",
    "def formatter(y, pos):\n",
    "    if y == 1:\n",
    "        return 'Messwerterfassung'\n",
    "    if y == 2:\n",
    "        return 'Messwerte im \\n relevanten Zeitfenster'\n",
    "    if y == 3:\n",
    "        return 'Belichtungszeit'\n",
    "    if y == 4:\n",
    "        return 'Lesen und Schreiben \\n der Daten'\n",
    "    else:\n",
    "        return ''\n",
    "\n",
    "plt.gca().yaxis.set_major_formatter(ticker.FuncFormatter(formatter))\n",
    "plt.xlabel('t/ms',fontsize=14)\n",
    "plt.title('Mittelwerte des zeitlichen Ablaufs der Datenerfassung: Zeitfenster Mittelwert t=80ms',fontsize=18)\n",
    "plt.grid()\n",
    "plt.yticks(fontsize=14)\n",
    "plt.xticks(fontsize=14)\n",
    "plt.xlim(0,startTimeFrameList[1]-meanStartMeasurementDataTime - 60)\n",
    "plt.ylim(0,4.5)\n",
    "plt.rcParams[\"legend.fontsize\"] = 14\n",
    "plt.savefig('mittelwerteZeitlicherAblaufT80')"
   ]
  },
  {
   "cell_type": "markdown",
   "metadata": {},
   "source": [
    "### Berechnung des Diagramms der Mittelwerte des zeitlichen Ablaufs mit dynamischen Zeitfenster"
   ]
  },
  {
   "cell_type": "code",
   "execution_count": 56,
   "metadata": {},
   "outputs": [
    {
     "data": {
      "text/plain": [
       "240.6286066268157"
      ]
     },
     "execution_count": 56,
     "metadata": {},
     "output_type": "execute_result"
    }
   ],
   "source": [
    "# Berechnung des Diagramms der Mittelwerte des zeitlichen Ablaufs mit dynamischen Zeitfenster\n",
    "# Mittelwert der Belichtungszeit aller Aufnahmen umgerechnet in ms\n",
    "meanExposureTime = featuresDf['Belichtungszeit in ns'].mean() / 1000000\n",
    "# Mittelwert Anzahl der Messwerte pro Merkmal\n",
    "featuresDf['Anzahl der Messwerte'].mean()\n",
    "# Dynamisches Zeitfenster Mittelwert\n",
    "timeframe = featuresDf['Geschwindigkeit in km/h'].mean() \n",
    "# umrechnung km/h in m/s\n",
    "timeframe = timeframe/3.6\n",
    "timeframe = 1/timeframe \n",
    "timeframe = timeframe * 1000\n",
    "timeframe"
   ]
  },
  {
   "cell_type": "code",
   "execution_count": 20,
   "metadata": {},
   "outputs": [
    {
     "data": {
      "text/plain": [
       "260.63877262379071"
      ]
     },
     "execution_count": 20,
     "metadata": {},
     "output_type": "execute_result"
    }
   ],
   "source": [
    "# Mittelwert vom Ende des Zeitfensters in ms bis zum Stop der Datenerfassung in ms \n",
    "meanStopMeasurementToEndTimeframeTime =(featuresDf['Letzter Zeitstempel der Messwerterfassung in ns seit Start der JVM'] \n",
    "                          - (featuresDf['Start des Zeitfensters in ns seit Start der JVM'] + ((1/(featuresDf['Geschwindigkeit in km/h']/3.6)) * 1000000))).mean()\n",
    "meanStopMeasurementToEndTimeframeTime = meanStopMeasurementToEndTimeframeTime / 1000000\n",
    "meanStopMeasurementToEndTimeframeTime"
   ]
  },
  {
   "cell_type": "code",
   "execution_count": 25,
   "metadata": {},
   "outputs": [],
   "source": [
    "# Mittelwert des Abstandes bis das nächste Bild aufgenommen wurde von den Datensatz 15 mit 305.906 ms aufgerundet auf 306 Ms.\n",
    "meanCaptureImagesTime = 328"
   ]
  },
  {
   "cell_type": "code",
   "execution_count": null,
   "metadata": {},
   "outputs": [],
   "source": [
    "(((featuresDf['Start des Zeitfensters in ns seit Start der JVM'] - featuresDf['Start der Messwerterfassung in ns seit Start der JVM'])/ 1000000))\n"
   ]
  },
  {
   "cell_type": "code",
   "execution_count": 55,
   "metadata": {},
   "outputs": [
    {
     "data": {
      "text/plain": [
       "211.99331516666669"
      ]
     },
     "execution_count": 55,
     "metadata": {},
     "output_type": "execute_result"
    }
   ],
   "source": [
    "# Mittelwert vom Start der Messwert Datenerfassung bis zum Start des Zeitfensters in ms\n",
    "# Hierbei ist das Problem, dass ab Datensatz 30 die Datenerfassung der Messwerte alle 100 Bilder neu gestartet wird\n",
    "# Aus diesem Grund kann der Mittelwert nicht anschaulich dargestellt werden. Deshalb werden nur die Zeitabstände mit einer Dauer länder \n",
    "# als ein gegebener Grenzwert  betrachtet\n",
    "meanStartMeasurementDataTime = (((featuresDf['Start des Zeitfensters in ns seit Start der JVM'] - featuresDf['Start der Messwerterfassung in ns seit Start der JVM'])/ 1000000))\n",
    "meanStartMeasurementDataTime = meanStartMeasurementDataTime[meanStartMeasurementDataTime < 250]\n",
    "meanStartMeasurementDataTime = meanStartMeasurementDataTime.mean()\n",
    "meanStartMeasurementDataTime"
   ]
  },
  {
   "cell_type": "code",
   "execution_count": 54,
   "metadata": {},
   "outputs": [
    {
     "data": {
      "text/plain": [
       "7.9435581484565772"
      ]
     },
     "execution_count": 54,
     "metadata": {},
     "output_type": "execute_result"
    }
   ],
   "source": [
    "measuredDataPerMs = timeframe / featuresDf['Anzahl der Messwerte'].mean()\n",
    "measuredDataPerMs"
   ]
  },
  {
   "cell_type": "code",
   "execution_count": 71,
   "metadata": {},
   "outputs": [],
   "source": [
    "exposureOffset = (timeframe - meanExposureTime) / 2"
   ]
  },
  {
   "cell_type": "code",
   "execution_count": 82,
   "metadata": {},
   "outputs": [
    {
     "data": {
      "text/plain": [
       "372307643967390.19"
      ]
     },
     "execution_count": 82,
     "metadata": {},
     "output_type": "execute_result"
    }
   ],
   "source": [
    "# Mittelwert vom Aufruf das die Aufnahme fertig ist bis zum Stopp der Messwerterfassung in ms\n",
    "meanStopMeasurementTime = (featuresDf['Letzter Zeitstempel der Messwerterfassung in ns seit Start der JVM'] - featuresDf['Zeitstempel in Unixzeit']).mean()\n",
    "meanStopMeasurementTime"
   ]
  },
  {
   "cell_type": "code",
   "execution_count": 78,
   "metadata": {},
   "outputs": [
    {
     "data": {
      "image/png": "[encoded data removed]",
      "text/plain": [
       "<Figure size 1440x432 with 1 Axes>"
      ]
     },
     "metadata": {},
     "output_type": "display_data"
    }
   ],
   "source": [
    "# Plot mit stem Diagrammen\n",
    "fig, ax = plt.subplots(figsize=(20,6))\n",
    "i = 0\n",
    "numberImages = 2\n",
    "while i < 2:\n",
    "    if i == 0:\n",
    "        # Messwerterfassung\n",
    "        x = np.linspace(0,1000,int(1000/measuredDataPerMs))\n",
    "        (markers, stemlines, baseline) = plt.stem(x, np.full((x.size), 1.3), linefmt='C7-', basefmt='None', bottom=0.65, markerfmt='wo')\n",
    "        plt.setp(stemlines, linestyle=\"-\", color=\"C7\", linewidth=1.5)\n",
    "        plt.setp(markers, markeredgecolor='C7', markersize=10, markeredgewidth=1.5, zorder=3)\n",
    "        # Zeitfenster\n",
    "        x = np.linspace(meanStartMeasurementDataTime,meanStartMeasurementDataTime+timeframe, \n",
    "                        int(featuresDf['Anzahl der Messwerte'].mean()))\n",
    "        (markers, stemlines, baseline) = plt.stem(x, np.full((x.size), 2.3), 'b-', basefmt='None', bottom=1.65, markerfmt='wo')\n",
    "        plt.setp(stemlines, linestyle=\"-\", color=\"b\", linewidth=1.5)\n",
    "        plt.setp(markers, markeredgecolor='b', markersize=10, markeredgewidth=1.5, zorder=3)\n",
    "       # Belichtungszeit\n",
    "        ax.hlines(xmin=meanStartMeasurementDataTime + exposureOffset,\n",
    "                   xmax=(meanStartMeasurementDataTime + exposureOffset + meanExposureTime ),\n",
    "                   y=3, colors=\"blue\", lw=50)\n",
    "         # Lesen und schreiben der Daten\n",
    "        ax.hlines(xmin=meanCaptureImagesTimeList[i] - meanStopMeasurementTime - zeroOffset,xmax=meanCaptureImagesTimeList[i] + 60 - zeroOffset,\n",
    "              y=4, colors=\"dimgrey\", lw=50)\n",
    " #   else:\n",
    "    i = i + 1\n",
    "def formatter(y, pos):\n",
    "    if y == 1:\n",
    "        return 'Messwerterfassung'\n",
    "    if y == 2:\n",
    "        return 'Messwerte im \\n relevanten Zeitfenster'\n",
    "    if y == 3:\n",
    "        return 'Belichtungszeit'\n",
    "    if y == 4:\n",
    "        return 'Lesen und Schreiben \\n der Daten'\n",
    "    else:\n",
    "        return ''\n",
    "\n",
    "plt.gca().yaxis.set_major_formatter(ticker.FuncFormatter(formatter))\n",
    "plt.xlabel('t/ms',fontsize=14)\n",
    "plt.title('Mittelwerte des zeitlichen Ablaufs der Datenerfassung: dynamisches Zeitfenster Mittelwert t=241ms',fontsize=18)\n",
    "plt.grid()\n",
    "plt.yticks(fontsize=14)\n",
    "plt.xticks(fontsize=14)\n",
    "plt.xlim(0,1000)\n",
    "plt.ylim(0,4.5)\n",
    "plt.rcParams[\"legend.fontsize\"] = 14\n",
    "plt.savefig('mittelwerteZeitlicherAblaufDynamischesZeitfensterDatensatz31')"
   ]
  },
  {
   "cell_type": "markdown",
   "metadata": {},
   "source": [
    "### Diagramm mit Min Zeitwerten"
   ]
  },
  {
   "cell_type": "code",
   "execution_count": 168,
   "metadata": {},
   "outputs": [
    {
     "data": {
      "text/plain": [
       "0.64349999999999996"
      ]
     },
     "execution_count": 168,
     "metadata": {},
     "output_type": "execute_result"
    }
   ],
   "source": [
    "# Weise Min und Max Zeitwerte zu Variablen zu\n",
    "minExposureTime = featuresDf['Belichtungszeit in ns'].min() / 1000000\n",
    "minExposureTime"
   ]
  },
  {
   "cell_type": "code",
   "execution_count": 169,
   "metadata": {},
   "outputs": [
    {
     "data": {
      "text/plain": [
       "26.202089000000001"
      ]
     },
     "execution_count": 169,
     "metadata": {},
     "output_type": "execute_result"
    }
   ],
   "source": [
    "# Min Zeit vom Stopp des Zeitfensters zum Stopp der Messwerterfassung \n",
    "minStopMeasurementToEndTimeframeTime =(featuresDf['Letzter Zeitstempel der Messwerterfassung in ns seit Start der JVM'] \n",
    "                          - (featuresDf['Start des Zeitfensters in ns seit Start der JVM'] + (timeframe))).min()\n",
    "minStopMeasurementToEndTimeframeTime = minStopMeasurementToEndTimeframeTime / 1000000\n",
    "minStopMeasurementToEndTimeframeTime"
   ]
  },
  {
   "cell_type": "code",
   "execution_count": 170,
   "metadata": {},
   "outputs": [
    {
     "data": {
      "text/plain": [
       "-106.0"
      ]
     },
     "execution_count": 170,
     "metadata": {},
     "output_type": "execute_result"
    }
   ],
   "source": [
    "minStopMeasurementTime = (featuresDf['Stopp der Messwerterfassung in Unixzeit']-featuresDf['Zeitstempel in Unixzeit'] ).min()\n",
    "minStopMeasurementTime"
   ]
  },
  {
   "cell_type": "code",
   "execution_count": 172,
   "metadata": {},
   "outputs": [
    {
     "data": {
      "text/plain": [
       "-71.199596"
      ]
     },
     "execution_count": 172,
     "metadata": {},
     "output_type": "execute_result"
    }
   ],
   "source": [
    "# vom Start der Messwert Datenerfassung bis zum Start des Zeitfensters in ms\n",
    "minStartMeasurementDataTime = (featuresDf['Start des Zeitfensters in ns seit Start der JVM'] - featuresDf['Start der Messwerterfassung in ns seit Start der JVM']).min()\n",
    "minStartMeasurementDataTime = minStartMeasurementDataTime / 1000000\n",
    "minStartMeasurementDataTime"
   ]
  },
  {
   "cell_type": "code",
   "execution_count": 183,
   "metadata": {},
   "outputs": [
    {
     "data": {
      "text/plain": [
       "Int64Index([35516, 45468, 55901, 59990, 97012], dtype='int64')"
      ]
     },
     "execution_count": 183,
     "metadata": {},
     "output_type": "execute_result"
    }
   ],
   "source": [
    "minStartMeasurementDataTimeOutlier = featuresDf[(featuresDf['Start des Zeitfensters in ns seit Start der JVM'] - featuresDf['Start der Messwerterfassung in ns seit Start der JVM']) < 0]\n",
    "(minStartMeasurementDataTimeOutlier['Start des Zeitfensters in ns seit Start der JVM'] - minStartMeasurementDataTimeOutlier['Start der Messwerterfassung in ns seit Start der JVM']) / 1000000\n",
    "featuresDf[(featuresDf['Start des Zeitfensters in ns seit Start der JVM'] - featuresDf['Start der Messwerterfassung in ns seit Start der JVM']) < 0].index"
   ]
  },
  {
   "cell_type": "code",
   "execution_count": 184,
   "metadata": {},
   "outputs": [],
   "source": [
    "minExposureOffset = (timeframe - minExposureTime) / 2\n",
    "# Abstand zwischen zwei Bildern\n",
    "meanCaptureImagesTime = meanCaptureImagesTime\n",
    "# Messwerterfassung\n",
    "startMinTimeFrame = meanCaptureImagesTime - minStopMeasurementToEndTimeframeTime - minStopMeasurementTime - timeframe\n",
    "#Zeitfenster\n",
    "startMinExposureTime = startMinTimeFrame + minExposureOffset\n",
    "# Belichtungszeit\n",
    "exposureMinTime = startMinExposureTime + minExposureTime"
   ]
  },
  {
   "cell_type": "code",
   "execution_count": 185,
   "metadata": {},
   "outputs": [
    {
     "data": {
      "text/plain": [
       "-396.28152299999999"
      ]
     },
     "execution_count": 185,
     "metadata": {},
     "output_type": "execute_result"
    }
   ],
   "source": [
    "zeroOffsetMinMax = startMaxTimeFrame - maxStartMeasurementDataTime\n",
    "zeroOffsetMinMax"
   ]
  },
  {
   "cell_type": "code",
   "execution_count": 186,
   "metadata": {},
   "outputs": [
    {
     "data": {
      "text/plain": [
       "227.61094399999999"
      ]
     },
     "execution_count": 186,
     "metadata": {},
     "output_type": "execute_result"
    }
   ],
   "source": [
    "maxStartMeasurementDataTime"
   ]
  },
  {
   "cell_type": "code",
   "execution_count": 187,
   "metadata": {},
   "outputs": [
    {
     "data": {
      "text/plain": [
       "5.0"
      ]
     },
     "execution_count": 187,
     "metadata": {},
     "output_type": "execute_result"
    }
   ],
   "source": [
    "maxStopMeasurementTime"
   ]
  },
  {
   "cell_type": "code",
   "execution_count": 207,
   "metadata": {},
   "outputs": [
    {
     "data": {
      "image/png": "[encoded data removed]",
      "text/plain": [
       "<Figure size 1440x432 with 1 Axes>"
      ]
     },
     "metadata": {},
     "output_type": "display_data"
    }
   ],
   "source": [
    "# Plot mit Min und Max Zeitangaben\n",
    "fig, ax = plt.subplots(figsize=(20,6))\n",
    "# Messwerterfassung\n",
    "x = np.linspace(0,minStartMeasurementDataTime+timeframe+minStopMeasurementToEndTimeframeTime, \n",
    "                        int((minStartMeasurementDataTime+timeframe+minStopMeasurementToEndTimeframeTime)/measuredDataPerMs))\n",
    "(markers, stemlines, baseline) = plt.stem(x, np.full((x.size), 1.3), linefmt='C7-', basefmt='None', bottom=0.65, markerfmt='wo')\n",
    "plt.setp(stemlines, linestyle=\"-\", color=\"C7\", linewidth=1.5)\n",
    "plt.setp(markers, markeredgecolor='C7', markersize=10, markeredgewidth=1.5, zorder=3)\n",
    "# Zeitfenster\n",
    "x = np.linspace(minStartMeasurementDataTime,minStartMeasurementDataTime+timeframe, \n",
    "                int((timeframe)/ measuredDataPerMs))\n",
    "(markers, stemlines, baseline) = plt.stem(x, np.full((x.size), 2.3), 'b-', basefmt='None', bottom=1.65, markerfmt='wo')\n",
    "plt.setp(stemlines, linestyle=\"-\", color=\"b\", linewidth=1.5)\n",
    "plt.setp(markers, markeredgecolor='b', markersize=10, markeredgewidth=1.5, zorder=3)\n",
    "# Belichtungszeit\n",
    "ax.hlines(xmin=(minStartMeasurementDataTime+timeframe/2) - (minExposureTime/2),xmax=(minStartMeasurementDataTime+timeframe/2) + (minExposureTime/2),y=3, colors=\"blue\", lw=40)\n",
    "# Lesen und schreiben der Daten\n",
    "ax.hlines(xmin=minStartMeasurementDataTime+timeframe+minStopMeasurementToEndTimeframeTime-minStopMeasurementTime,xmax=meanCaptureImagesTime+meanStopMeasurementTime - zeroOffsetMinMax + 50,\n",
    "                  y=4, colors=\"dimgrey\", lw=40)\n",
    "\n",
    "def formatter(y, pos):\n",
    "    if y == 1:\n",
    "        return 'Messwerterfassung'\n",
    "    if y == 2:\n",
    "        return 'Messwerte im \\n relevanten Zeitfenster'\n",
    "    if y == 3:\n",
    "        return 'Belichtungszeit'\n",
    "    if y == 4:\n",
    "        return 'Lesen und Schreiben \\n der Daten'\n",
    "    else:\n",
    "        return ''\n",
    "    \n",
    "\n",
    "plt.gca().yaxis.set_major_formatter(ticker.FuncFormatter(formatter))\n",
    "plt.xlabel('t/ms',fontsize=14)\n",
    "plt.title('Minimale Zeitabstände des zeitlichen Ablaufs der Datenerfassung',fontsize=18)\n",
    "plt.grid()\n",
    "plt.yticks(fontsize=14)\n",
    "plt.xticks(fontsize=14)\n",
    "plt.xlim(-80,startTimeFrameList[1]-200)\n",
    "plt.ylim(0,5)\n",
    "plt.rcParams[\"legend.fontsize\"] = 14"
   ]
  },
  {
   "cell_type": "code",
   "execution_count": 197,
   "metadata": {},
   "outputs": [
    {
     "data": {
      "text/plain": [
       "-31.199596"
      ]
     },
     "execution_count": 197,
     "metadata": {},
     "output_type": "execute_result"
    }
   ],
   "source": [
    "(minStartMeasurementDataTime+timeframe/2)"
   ]
  },
  {
   "cell_type": "code",
   "execution_count": 74,
   "metadata": {},
   "outputs": [
    {
     "data": {
      "text/plain": [
       "215.97347183880814"
      ]
     },
     "execution_count": 74,
     "metadata": {},
     "output_type": "execute_result"
    }
   ],
   "source": [
    "meanCaptureImagesTimeList[0] + meanStopMeasurementTime - zeroOffset"
   ]
  },
  {
   "cell_type": "code",
   "execution_count": 77,
   "metadata": {},
   "outputs": [
    {
     "data": {
      "text/plain": [
       "90.856761651308119"
      ]
     },
     "execution_count": 77,
     "metadata": {},
     "output_type": "execute_result"
    }
   ],
   "source": [
    "meanCaptureImagesTimeList[0] + meanStopMeasurementTime - startTimeFrameList[0]-meanStartMeasurementDataTime"
   ]
  },
  {
   "cell_type": "code",
   "execution_count": null,
   "metadata": {},
   "outputs": [],
   "source": []
  }
 ],
 "metadata": {
  "kernelspec": {
   "display_name": "Python 3",
   "language": "python",
   "name": "python3"
  },
  "language_info": {
   "codemirror_mode": {
    "name": "ipython",
    "version": 3
   },
   "file_extension": ".py",
   "mimetype": "text/x-python",
   "name": "python",
   "nbconvert_exporter": "python",
   "pygments_lexer": "ipython3",
   "version": "3.6.4"
  },
  "latex_envs": {
   "LaTeX_envs_menu_present": true,
   "autocomplete": true,
   "bibliofile": "biblio.bib",
   "cite_by": "apalike",
   "current_citInitial": 1,
   "eqLabelWithNumbers": true,
   "eqNumInitial": 1,
   "hotkeys": {
    "equation": "Ctrl-E",
    "itemize": "Ctrl-I"
   },
   "labels_anchors": false,
   "latex_user_defs": false,
   "report_style_numbering": false,
   "user_envs_cfg": false
  },
  "toc": {
   "colors": {
    "hover_highlight": "#DAA520",
    "navigate_num": "#000000",
    "navigate_text": "#333333",
    "running_highlight": "#FF0000",
    "selected_highlight": "#FFD700",
    "sidebar_border": "#EEEEEE",
    "wrapper_background": "#FFFFFF"
   },
   "moveMenuLeft": true,
   "nav_menu": {
    "height": "49px",
    "width": "252px"
   },
   "navigate_menu": true,
   "number_sections": true,
   "sideBar": true,
   "threshold": 4,
   "toc_cell": false,
   "toc_section_display": "block",
   "toc_window_display": false,
   "widenNotebook": false
  }
 },
 "nbformat": 4,
 "nbformat_minor": 2
}
