{
 "cells": [
  {
   "cell_type": "markdown",
   "metadata": {},
   "source": [
    "# Zeitlicher Ablauf der Datenerfassung\n",
    "\n",
    "Einleitung\n",
    " ------\n",
    "In diesem Notebook geht es darum den zeitlichen Ablauf der Datenerfassung darzustellen.\n",
    "Dabei werden als zeitliche Kennzahlen die arithmetischen Mittelwerte genutzt sowie die min und maximal Zeitwerte.     \n",
    "Die Daten werden mit einer Smartphone Android App erfasst (https://github.com/SandGreif/Fahrradwege-Monitoring-App)."
   ]
  },
  {
   "cell_type": "code",
   "execution_count": 1,
   "metadata": {},
   "outputs": [],
   "source": [
    "import pandas\n",
    "import os\n",
    "import numpy as np\n",
    "%matplotlib inline \n",
    "import matplotlib.pyplot as plt\n",
    "import matplotlib.ticker as ticker\n",
    "import matplotlib.patches as mpatches"
   ]
  },
  {
   "cell_type": "code",
   "execution_count": 46,
   "metadata": {},
   "outputs": [
    {
     "data": {
      "text/html": [
       "<div>\n",
       "<style scoped>\n",
       "    .dataframe tbody tr th:only-of-type {\n",
       "        vertical-align: middle;\n",
       "    }\n",
       "\n",
       "    .dataframe tbody tr th {\n",
       "        vertical-align: top;\n",
       "    }\n",
       "\n",
       "    .dataframe thead th {\n",
       "        text-align: right;\n",
       "    }\n",
       "</style>\n",
       "<table border=\"1\" class=\"dataframe\">\n",
       "  <thead>\n",
       "    <tr style=\"text-align: right;\">\n",
       "      <th></th>\n",
       "      <th>Unnamed: 0</th>\n",
       "      <th>Zeitstempel in Unixzeit</th>\n",
       "      <th>Breitengrad</th>\n",
       "      <th>Laengengrad</th>\n",
       "      <th>Geschwindigkeit in km/h</th>\n",
       "      <th>Anzahl der Messwerte</th>\n",
       "      <th>Start des Zeitfensters in ns seit Start der JVM</th>\n",
       "      <th>Start der Messwerterfassung in ns seit Start der JVM</th>\n",
       "      <th>Start der Belichtung in ns seit Start der JVM</th>\n",
       "      <th>Belichtungszeit in ns</th>\n",
       "      <th>...</th>\n",
       "      <th>Varianz X-Achse Beschleunigung in m/s^2</th>\n",
       "      <th>Varianz Y-Achse Beschleunigung in m/s^2</th>\n",
       "      <th>Varianz Z-Achse Beschleunigung in m/s^2</th>\n",
       "      <th>Varianz Nick in rad</th>\n",
       "      <th>Varianz Roll in rad</th>\n",
       "      <th>Standardabweichung X-Achse Beschleunigung in m/s^2</th>\n",
       "      <th>Standardabweichung Y-Achse Beschleunigung in m/s^2</th>\n",
       "      <th>Standardabweichung Z-Achse Beschleunigung in m/s^2</th>\n",
       "      <th>Standardabweichung Nick in rad</th>\n",
       "      <th>Standardabweichung Roll in rad</th>\n",
       "    </tr>\n",
       "  </thead>\n",
       "  <tbody>\n",
       "    <tr>\n",
       "      <th>count</th>\n",
       "      <td>4963.000000</td>\n",
       "      <td>4.963000e+03</td>\n",
       "      <td>4963.000000</td>\n",
       "      <td>4963.000000</td>\n",
       "      <td>4963.000000</td>\n",
       "      <td>4963.000000</td>\n",
       "      <td>4.963000e+03</td>\n",
       "      <td>4.963000e+03</td>\n",
       "      <td>4.963000e+03</td>\n",
       "      <td>4.963000e+03</td>\n",
       "      <td>...</td>\n",
       "      <td>4963.000000</td>\n",
       "      <td>4963.000000</td>\n",
       "      <td>4963.000000</td>\n",
       "      <td>4963.000000</td>\n",
       "      <td>4963.000000</td>\n",
       "      <td>4963.000000</td>\n",
       "      <td>4963.000000</td>\n",
       "      <td>4963.000000</td>\n",
       "      <td>4963.000000</td>\n",
       "      <td>4963.000000</td>\n",
       "    </tr>\n",
       "    <tr>\n",
       "      <th>mean</th>\n",
       "      <td>2481.000000</td>\n",
       "      <td>1.525693e+12</td>\n",
       "      <td>53.583963</td>\n",
       "      <td>10.084546</td>\n",
       "      <td>15.184848</td>\n",
       "      <td>62.252871</td>\n",
       "      <td>1.527235e+13</td>\n",
       "      <td>1.527227e+13</td>\n",
       "      <td>1.527260e+13</td>\n",
       "      <td>9.923256e+06</td>\n",
       "      <td>...</td>\n",
       "      <td>0.855972</td>\n",
       "      <td>7.251478</td>\n",
       "      <td>7.945635</td>\n",
       "      <td>0.069539</td>\n",
       "      <td>0.161104</td>\n",
       "      <td>0.817209</td>\n",
       "      <td>2.170656</td>\n",
       "      <td>2.398502</td>\n",
       "      <td>0.244832</td>\n",
       "      <td>0.298964</td>\n",
       "    </tr>\n",
       "    <tr>\n",
       "      <th>std</th>\n",
       "      <td>1432.839023</td>\n",
       "      <td>1.231895e+07</td>\n",
       "      <td>0.016691</td>\n",
       "      <td>0.035909</td>\n",
       "      <td>4.105801</td>\n",
       "      <td>0.448394</td>\n",
       "      <td>9.408304e+12</td>\n",
       "      <td>9.408303e+12</td>\n",
       "      <td>9.408305e+12</td>\n",
       "      <td>9.941265e+06</td>\n",
       "      <td>...</td>\n",
       "      <td>1.098236</td>\n",
       "      <td>12.244620</td>\n",
       "      <td>10.768514</td>\n",
       "      <td>0.049929</td>\n",
       "      <td>0.262608</td>\n",
       "      <td>0.433797</td>\n",
       "      <td>1.593814</td>\n",
       "      <td>1.480967</td>\n",
       "      <td>0.097968</td>\n",
       "      <td>0.267842</td>\n",
       "    </tr>\n",
       "    <tr>\n",
       "      <th>min</th>\n",
       "      <td>0.000000</td>\n",
       "      <td>1.525679e+12</td>\n",
       "      <td>53.556515</td>\n",
       "      <td>10.020442</td>\n",
       "      <td>5.004000</td>\n",
       "      <td>60.000000</td>\n",
       "      <td>4.720012e+12</td>\n",
       "      <td>4.719938e+12</td>\n",
       "      <td>4.720260e+12</td>\n",
       "      <td>7.630070e+05</td>\n",
       "      <td>...</td>\n",
       "      <td>0.013490</td>\n",
       "      <td>0.028860</td>\n",
       "      <td>0.030100</td>\n",
       "      <td>0.001940</td>\n",
       "      <td>0.000940</td>\n",
       "      <td>0.116150</td>\n",
       "      <td>0.169880</td>\n",
       "      <td>0.173490</td>\n",
       "      <td>0.044050</td>\n",
       "      <td>0.030660</td>\n",
       "    </tr>\n",
       "    <tr>\n",
       "      <th>25%</th>\n",
       "      <td>1240.500000</td>\n",
       "      <td>1.525681e+12</td>\n",
       "      <td>53.571229</td>\n",
       "      <td>10.054037</td>\n",
       "      <td>12.492000</td>\n",
       "      <td>62.000000</td>\n",
       "      <td>6.161229e+12</td>\n",
       "      <td>6.161143e+12</td>\n",
       "      <td>6.161476e+12</td>\n",
       "      <td>2.298216e+06</td>\n",
       "      <td>...</td>\n",
       "      <td>0.263510</td>\n",
       "      <td>1.211805</td>\n",
       "      <td>1.791545</td>\n",
       "      <td>0.027065</td>\n",
       "      <td>0.009520</td>\n",
       "      <td>0.513335</td>\n",
       "      <td>1.100820</td>\n",
       "      <td>1.338485</td>\n",
       "      <td>0.164515</td>\n",
       "      <td>0.097570</td>\n",
       "    </tr>\n",
       "    <tr>\n",
       "      <th>50%</th>\n",
       "      <td>2481.000000</td>\n",
       "      <td>1.525682e+12</td>\n",
       "      <td>53.579170</td>\n",
       "      <td>10.094249</td>\n",
       "      <td>15.624002</td>\n",
       "      <td>62.000000</td>\n",
       "      <td>7.806778e+12</td>\n",
       "      <td>7.806702e+12</td>\n",
       "      <td>7.807027e+12</td>\n",
       "      <td>5.331862e+06</td>\n",
       "      <td>...</td>\n",
       "      <td>0.515080</td>\n",
       "      <td>2.880070</td>\n",
       "      <td>3.927960</td>\n",
       "      <td>0.057600</td>\n",
       "      <td>0.031830</td>\n",
       "      <td>0.717690</td>\n",
       "      <td>1.697080</td>\n",
       "      <td>1.981910</td>\n",
       "      <td>0.240000</td>\n",
       "      <td>0.178410</td>\n",
       "    </tr>\n",
       "    <tr>\n",
       "      <th>75%</th>\n",
       "      <td>3721.500000</td>\n",
       "      <td>1.525705e+12</td>\n",
       "      <td>53.597912</td>\n",
       "      <td>10.116828</td>\n",
       "      <td>18.108002</td>\n",
       "      <td>63.000000</td>\n",
       "      <td>2.491194e+13</td>\n",
       "      <td>2.491186e+13</td>\n",
       "      <td>2.491218e+13</td>\n",
       "      <td>1.000184e+07</td>\n",
       "      <td>...</td>\n",
       "      <td>1.014400</td>\n",
       "      <td>6.886500</td>\n",
       "      <td>9.547350</td>\n",
       "      <td>0.104750</td>\n",
       "      <td>0.199940</td>\n",
       "      <td>1.007175</td>\n",
       "      <td>2.624210</td>\n",
       "      <td>3.089880</td>\n",
       "      <td>0.323655</td>\n",
       "      <td>0.447150</td>\n",
       "    </tr>\n",
       "    <tr>\n",
       "      <th>max</th>\n",
       "      <td>4962.000000</td>\n",
       "      <td>1.525707e+12</td>\n",
       "      <td>53.613850</td>\n",
       "      <td>10.137879</td>\n",
       "      <td>24.948000</td>\n",
       "      <td>67.000000</td>\n",
       "      <td>2.659563e+13</td>\n",
       "      <td>2.659555e+13</td>\n",
       "      <td>2.659587e+13</td>\n",
       "      <td>2.999632e+07</td>\n",
       "      <td>...</td>\n",
       "      <td>18.796390</td>\n",
       "      <td>109.496300</td>\n",
       "      <td>104.803140</td>\n",
       "      <td>0.232420</td>\n",
       "      <td>1.586570</td>\n",
       "      <td>4.335480</td>\n",
       "      <td>10.464050</td>\n",
       "      <td>10.237340</td>\n",
       "      <td>0.482100</td>\n",
       "      <td>1.259590</td>\n",
       "    </tr>\n",
       "  </tbody>\n",
       "</table>\n",
       "<p>8 rows × 28 columns</p>\n",
       "</div>"
      ],
      "text/plain": [
       "        Unnamed: 0  Zeitstempel in Unixzeit  Breitengrad  Laengengrad  \\\n",
       "count  4963.000000             4.963000e+03  4963.000000  4963.000000   \n",
       "mean   2481.000000             1.525693e+12    53.583963    10.084546   \n",
       "std    1432.839023             1.231895e+07     0.016691     0.035909   \n",
       "min       0.000000             1.525679e+12    53.556515    10.020442   \n",
       "25%    1240.500000             1.525681e+12    53.571229    10.054037   \n",
       "50%    2481.000000             1.525682e+12    53.579170    10.094249   \n",
       "75%    3721.500000             1.525705e+12    53.597912    10.116828   \n",
       "max    4962.000000             1.525707e+12    53.613850    10.137879   \n",
       "\n",
       "       Geschwindigkeit in km/h  Anzahl der Messwerte  \\\n",
       "count              4963.000000           4963.000000   \n",
       "mean                 15.184848             62.252871   \n",
       "std                   4.105801              0.448394   \n",
       "min                   5.004000             60.000000   \n",
       "25%                  12.492000             62.000000   \n",
       "50%                  15.624002             62.000000   \n",
       "75%                  18.108002             63.000000   \n",
       "max                  24.948000             67.000000   \n",
       "\n",
       "       Start des Zeitfensters in ns seit Start der JVM  \\\n",
       "count                                     4.963000e+03   \n",
       "mean                                      1.527235e+13   \n",
       "std                                       9.408304e+12   \n",
       "min                                       4.720012e+12   \n",
       "25%                                       6.161229e+12   \n",
       "50%                                       7.806778e+12   \n",
       "75%                                       2.491194e+13   \n",
       "max                                       2.659563e+13   \n",
       "\n",
       "       Start der Messwerterfassung in ns seit Start der JVM  \\\n",
       "count                                       4.963000e+03      \n",
       "mean                                        1.527227e+13      \n",
       "std                                         9.408303e+12      \n",
       "min                                         4.719938e+12      \n",
       "25%                                         6.161143e+12      \n",
       "50%                                         7.806702e+12      \n",
       "75%                                         2.491186e+13      \n",
       "max                                         2.659555e+13      \n",
       "\n",
       "       Start der Belichtung in ns seit Start der JVM  Belichtungszeit in ns  \\\n",
       "count                                   4.963000e+03           4.963000e+03   \n",
       "mean                                    1.527260e+13           9.923256e+06   \n",
       "std                                     9.408305e+12           9.941265e+06   \n",
       "min                                     4.720260e+12           7.630070e+05   \n",
       "25%                                     6.161476e+12           2.298216e+06   \n",
       "50%                                     7.807027e+12           5.331862e+06   \n",
       "75%                                     2.491218e+13           1.000184e+07   \n",
       "max                                     2.659587e+13           2.999632e+07   \n",
       "\n",
       "                    ...                \\\n",
       "count               ...                 \n",
       "mean                ...                 \n",
       "std                 ...                 \n",
       "min                 ...                 \n",
       "25%                 ...                 \n",
       "50%                 ...                 \n",
       "75%                 ...                 \n",
       "max                 ...                 \n",
       "\n",
       "       Varianz X-Achse Beschleunigung in m/s^2  \\\n",
       "count                              4963.000000   \n",
       "mean                                  0.855972   \n",
       "std                                   1.098236   \n",
       "min                                   0.013490   \n",
       "25%                                   0.263510   \n",
       "50%                                   0.515080   \n",
       "75%                                   1.014400   \n",
       "max                                  18.796390   \n",
       "\n",
       "       Varianz Y-Achse Beschleunigung in m/s^2  \\\n",
       "count                              4963.000000   \n",
       "mean                                  7.251478   \n",
       "std                                  12.244620   \n",
       "min                                   0.028860   \n",
       "25%                                   1.211805   \n",
       "50%                                   2.880070   \n",
       "75%                                   6.886500   \n",
       "max                                 109.496300   \n",
       "\n",
       "       Varianz Z-Achse Beschleunigung in m/s^2  Varianz Nick in rad  \\\n",
       "count                              4963.000000          4963.000000   \n",
       "mean                                  7.945635             0.069539   \n",
       "std                                  10.768514             0.049929   \n",
       "min                                   0.030100             0.001940   \n",
       "25%                                   1.791545             0.027065   \n",
       "50%                                   3.927960             0.057600   \n",
       "75%                                   9.547350             0.104750   \n",
       "max                                 104.803140             0.232420   \n",
       "\n",
       "       Varianz Roll in rad  \\\n",
       "count          4963.000000   \n",
       "mean              0.161104   \n",
       "std               0.262608   \n",
       "min               0.000940   \n",
       "25%               0.009520   \n",
       "50%               0.031830   \n",
       "75%               0.199940   \n",
       "max               1.586570   \n",
       "\n",
       "       Standardabweichung X-Achse Beschleunigung in m/s^2  \\\n",
       "count                                        4963.000000    \n",
       "mean                                            0.817209    \n",
       "std                                             0.433797    \n",
       "min                                             0.116150    \n",
       "25%                                             0.513335    \n",
       "50%                                             0.717690    \n",
       "75%                                             1.007175    \n",
       "max                                             4.335480    \n",
       "\n",
       "       Standardabweichung Y-Achse Beschleunigung in m/s^2  \\\n",
       "count                                        4963.000000    \n",
       "mean                                            2.170656    \n",
       "std                                             1.593814    \n",
       "min                                             0.169880    \n",
       "25%                                             1.100820    \n",
       "50%                                             1.697080    \n",
       "75%                                             2.624210    \n",
       "max                                            10.464050    \n",
       "\n",
       "       Standardabweichung Z-Achse Beschleunigung in m/s^2  \\\n",
       "count                                        4963.000000    \n",
       "mean                                            2.398502    \n",
       "std                                             1.480967    \n",
       "min                                             0.173490    \n",
       "25%                                             1.338485    \n",
       "50%                                             1.981910    \n",
       "75%                                             3.089880    \n",
       "max                                            10.237340    \n",
       "\n",
       "       Standardabweichung Nick in rad  Standardabweichung Roll in rad  \n",
       "count                     4963.000000                     4963.000000  \n",
       "mean                         0.244832                        0.298964  \n",
       "std                          0.097968                        0.267842  \n",
       "min                          0.044050                        0.030660  \n",
       "25%                          0.164515                        0.097570  \n",
       "50%                          0.240000                        0.178410  \n",
       "75%                          0.323655                        0.447150  \n",
       "max                          0.482100                        1.259590  \n",
       "\n",
       "[8 rows x 28 columns]"
      ]
     },
     "execution_count": 46,
     "metadata": {},
     "output_type": "execute_result"
    }
   ],
   "source": [
    "featuresDf = pandas.read_csv(\"../daten/merkmale_datensatz_26_bis_27/absMesswerte/merkmale.csv\")\n",
    "featuresDf.describe()"
   ]
  },
  {
   "cell_type": "code",
   "execution_count": 47,
   "metadata": {},
   "outputs": [
    {
     "data": {
      "text/plain": [
       "Index(['Unnamed: 0', 'Zeitstempel in Unixzeit', 'Breitengrad', 'Laengengrad',\n",
       "       'Geschwindigkeit in km/h', 'X-Achse Beschleunigungswerte in m/s^2',\n",
       "       'Y-Achse Beschleunigungswerte in m/s^2',\n",
       "       'Z-Achse Beschleunigungswerte in m/s^2', 'Gier Messwerte in rad',\n",
       "       'Nick Messwerte in rad', 'Roll Messwerte in rad',\n",
       "       'Zeitstempel der Messwerte in ns', 'Anzahl der Messwerte',\n",
       "       'Start des Zeitfensters in ns seit Start der JVM',\n",
       "       'Start der Messwerterfassung in ns seit Start der JVM',\n",
       "       'Start der Belichtung in ns seit Start der JVM',\n",
       "       'Belichtungszeit in ns',\n",
       "       'Letzter Zeitstempel der Messwerterfassung in ns seit Start der JVM',\n",
       "       'Stopp der Messwerterfassung in Unixzeit',\n",
       "       'Mittelwert X-Achse Beschleunigung in m/s^2',\n",
       "       'Mittelwert Y-Achse Beschleunigung in m/s^2',\n",
       "       'Mittelwert Z-Achse Beschleunigung in m/s^2', 'Mittelwert Nick in rad',\n",
       "       'Mittelwert Roll in rad', 'Gier-Aenderung in rad',\n",
       "       'Varianz X-Achse Beschleunigung in m/s^2',\n",
       "       'Varianz Y-Achse Beschleunigung in m/s^2',\n",
       "       'Varianz Z-Achse Beschleunigung in m/s^2', 'Varianz Nick in rad',\n",
       "       'Varianz Roll in rad',\n",
       "       'Standardabweichung X-Achse Beschleunigung in m/s^2',\n",
       "       'Standardabweichung Y-Achse Beschleunigung in m/s^2',\n",
       "       'Standardabweichung Z-Achse Beschleunigung in m/s^2',\n",
       "       'Standardabweichung Nick in rad', 'Standardabweichung Roll in rad'],\n",
       "      dtype='object')"
      ]
     },
     "execution_count": 47,
     "metadata": {},
     "output_type": "execute_result"
    }
   ],
   "source": [
    "featuresDf.columns"
   ]
  },
  {
   "cell_type": "code",
   "execution_count": 76,
   "metadata": {},
   "outputs": [
    {
     "data": {
      "text/plain": [
       "9.9232557128752763"
      ]
     },
     "execution_count": 76,
     "metadata": {},
     "output_type": "execute_result"
    }
   ],
   "source": [
    "# Mittelwert der Belichtungszeit aller Aufnahmen umgerechnet in ms\n",
    "meanExposureTime = featuresDf['Belichtungszeit in ns'].mean() / 1000000\n",
    "meanExposureTime"
   ]
  },
  {
   "cell_type": "code",
   "execution_count": 77,
   "metadata": {},
   "outputs": [
    {
     "data": {
      "text/plain": [
       "62.2528712472295"
      ]
     },
     "execution_count": 77,
     "metadata": {},
     "output_type": "execute_result"
    }
   ],
   "source": [
    "# Mittelwert Anzahl der Messwerte pro Merkmal\n",
    "featuresDf['Anzahl der Messwerte'].mean()"
   ]
  },
  {
   "cell_type": "code",
   "execution_count": 78,
   "metadata": {},
   "outputs": [],
   "source": [
    "# Dauer des Zeitfensters in ms\n",
    "timeframe = 500"
   ]
  },
  {
   "cell_type": "code",
   "execution_count": 79,
   "metadata": {},
   "outputs": [
    {
     "data": {
      "text/plain": [
       "230.83999449949627"
      ]
     },
     "execution_count": 79,
     "metadata": {},
     "output_type": "execute_result"
    }
   ],
   "source": [
    "# Mittelwert vom Stop der Datenerfassung in ms bis zum Ende des Zeitfensters in ms\n",
    "meanStopMeasurementToEndTimeframeTime =(featuresDf['Letzter Zeitstempel der Messwerterfassung in ns seit Start der JVM'] \n",
    "                          - (featuresDf['Start des Zeitfensters in ns seit Start der JVM'] + (timeframe * 1000000))).mean()\n",
    "meanStopMeasurementToEndTimeframeTime = meanStopMeasurementToEndTimeframeTime / 1000000\n",
    "meanStopMeasurementToEndTimeframeTime"
   ]
  },
  {
   "cell_type": "code",
   "execution_count": 67,
   "metadata": {},
   "outputs": [
    {
     "data": {
      "text/plain": [
       "368.37013902881324"
      ]
     },
     "execution_count": 67,
     "metadata": {},
     "output_type": "execute_result"
    }
   ],
   "source": [
    "# Mittelwert vom Aufruf das die Aufnahme fertig ist bis zum Stopp der Messwerterfassung in ms\n",
    "meanStopMeasurementTime = (featuresDf['Stopp der Messwerterfassung in Unixzeit'] - featuresDf['Zeitstempel in Unixzeit']).mean()\n",
    "meanStopMeasurementTime"
   ]
  },
  {
   "cell_type": "code",
   "execution_count": 80,
   "metadata": {},
   "outputs": [
    {
     "data": {
      "text/plain": [
       "82.22941366210938"
      ]
     },
     "execution_count": 80,
     "metadata": {},
     "output_type": "execute_result"
    }
   ],
   "source": [
    "# Mittelwert vom Start der Messwert Datenerfassung bis zum Start des Zeitfensters in ms\n",
    "meanStartMeasurementDataTime = featuresDf['Start des Zeitfensters in ns seit Start der JVM'].mean() - featuresDf['Start der Messwerterfassung in ns seit Start der JVM'].mean()\n",
    "meanStartMeasurementDataTime = meanStartMeasurementDataTime / 1000000\n",
    "meanStartMeasurementDataTime"
   ]
  },
  {
   "cell_type": "markdown",
   "metadata": {},
   "source": [
    "Bei der Berechnung des zeitlichen Abstandes von erfassten Bildaufnahmen ist zu beachten, dass die verwendete Daten aus einer Datenerfassungsserie stammen also einem Datensatz.      \n",
    "Als Kennwert wird nämlich die Zeitstempel Spalte aus der Merkmal CSV Datei genutzt. Der Zeitstempel gibt an, wann das Bild aufgenommen wurde in Unixzeit. Zwischen zwei erfassten    \n",
    "Datensätzen ist meistens einige Zeit mehr vergangen. Deshalb wird für die Berechnung ein Datensatz genutzt. Der angegebene Zeitwert wird in dem Notebook frameRate berechnet in dem Ordner datenanalyse. "
   ]
  },
  {
   "cell_type": "code",
   "execution_count": 81,
   "metadata": {},
   "outputs": [],
   "source": [
    "# Mittelwert des Abstandes bis das nächste Bild aufgenommen wurde von den Datensatz 15 mit 305.906 ms aufgerundet auf 306 Ms.\n",
    "# Hierbei ist zu beachten \n",
    "meanCaptureImagesTime = 1000"
   ]
  },
  {
   "cell_type": "code",
   "execution_count": 82,
   "metadata": {},
   "outputs": [],
   "source": [
    "# In dieser Zelle werden die Vielfachen der Mittelwerte in Listen angehängt, um exemplarisch\n",
    "# den weiteren Verlauf einer Datenserie mit gemittelten Zeitwerten in einem Diagram darzustellen.\n",
    "\n",
    "# Anzahl der Bilder\n",
    "numberImages = 2\n",
    "imageCounter = 1\n",
    "meanExposureOffset = (timeframe - meanExposureTime) / 2\n",
    "# Listen die mit den entsprechenden Vielfachen der Zeitangaben gefüllt werden\n",
    "\n",
    "# Gibt mittlere Zeitwerte an zu welchem ein Bild bereit ist zum abspeichern \n",
    "meanCaptureImagesTimeList = []\n",
    "# Start der Zeitfenster \n",
    "startTimeFrameList = []\n",
    "startExposureTimeList = []\n",
    "exposureTimeList = []\n",
    "while imageCounter <= numberImages:\n",
    "    meanCaptureImagesTimeList.append(meanCaptureImagesTime * imageCounter)\n",
    "    startTimeFrameList.append(meanCaptureImagesTimeList[imageCounter-1] - meanStopMeasurementToEndTimeframeTime - meanStopMeasurementTime - timeframe)\n",
    "    startExposureTimeList.append(startTimeFrameList[imageCounter-1] + meanExposureOffset)\n",
    "    exposureTimeList.append(startExposureTimeList[imageCounter-1] + meanExposureTime)\n",
    "    imageCounter = imageCounter + 1\n",
    "    "
   ]
  },
  {
   "cell_type": "code",
   "execution_count": 83,
   "metadata": {},
   "outputs": [
    {
     "data": {
      "text/plain": [
       "-181.43954719041886"
      ]
     },
     "execution_count": 83,
     "metadata": {},
     "output_type": "execute_result"
    }
   ],
   "source": [
    "# Offset damit t bei 0 ms beginnt\n",
    "zeroOffset = startTimeFrameList[0]-meanStartMeasurementDataTime\n",
    "zeroOffset"
   ]
  },
  {
   "cell_type": "code",
   "execution_count": 84,
   "metadata": {},
   "outputs": [
    {
     "name": "stdout",
     "output_type": "stream",
     "text": [
      "8.03175805361\n"
     ]
    }
   ],
   "source": [
    "measuredDataPerMs = timeframe / featuresDf['Anzahl der Messwerte'].mean()\n",
    "print(measuredDataPerMs)"
   ]
  },
  {
   "cell_type": "code",
   "execution_count": 85,
   "metadata": {},
   "outputs": [
    {
     "data": {
      "text/plain": [
       "192.96020570783003"
      ]
     },
     "execution_count": 85,
     "metadata": {},
     "output_type": "execute_result"
    }
   ],
   "source": [
    " (meanCaptureImagesTimeList[0] + meanStopMeasurementTime - zeroOffset) / measuredDataPerMs"
   ]
  },
  {
   "cell_type": "code",
   "execution_count": 86,
   "metadata": {
    "scrolled": false
   },
   "outputs": [
    {
     "data": {
      "image/png": "[encoded data removed]",
      "text/plain": [
       "<Figure size 1440x432 with 1 Axes>"
      ]
     },
     "metadata": {},
     "output_type": "display_data"
    }
   ],
   "source": [
    "# Plot mit Gantt-Diagram\n",
    "fig, ax = plt.subplots(figsize=(20,6))\n",
    "i = 0\n",
    "while i < numberImages:\n",
    "    if i == 0:\n",
    "        ax.hlines(xmin=startTimeFrameList[i]-meanStartMeasurementDataTime - zeroOffset,\n",
    "                  xmax=meanCaptureImagesTimeList[i] + meanStopMeasurementTime - zeroOffset,y=1, colors=\"lavender\", lw=50)\n",
    "        ax.hlines(xmin=startTimeFrameList[i] - zeroOffset,xmax=startTimeFrameList[i]+timeframe - zeroOffset,y=2, colors=\"lightsteelblue\", lw=50)\n",
    "        ax.hlines(xmin=startExposureTimeList[i] - zeroOffset,xmax=exposureTimeList[i] - zeroOffset,y=3, colors=\"blue\", lw=50)\n",
    "        ax.hlines(xmin=meanCaptureImagesTimeList[i] - zeroOffset,xmax=meanCaptureImagesTimeList[i] + meanStopMeasurementTime + 10- zeroOffset,\n",
    "                  y=4, colors=\"dimgrey\", lw=50)\n",
    "    else:\n",
    "        ax.hlines(xmin=startTimeFrameList[i]-meanStartMeasurementDataTime - zeroOffset,xmax=meanCaptureImagesTimeList[i] + meanStopMeasurementTime - zeroOffset,\n",
    "                  y=1, colors=\"lavender\", lw=50)\n",
    "\n",
    "    i = i + 1\n",
    "\n",
    "def formatter(y, pos):\n",
    "    if y == 1:\n",
    "        return 'Messwerterfassung'\n",
    "    if y == 2:\n",
    "        return 'Zeitfenster'\n",
    "    if y == 3:\n",
    "        return 'Belichtungszeit'\n",
    "    if y == 4:\n",
    "        return 'Lesen und schreiben der Daten'\n",
    "    else:\n",
    "        return ''\n",
    "\n",
    "plt.gca().yaxis.set_major_formatter(ticker.FuncFormatter(formatter))\n",
    "plt.xlabel('t/ms',fontsize=14)\n",
    "plt.title('Mittelwerte des zeitlichen Ablaufs der Datenerfassung',fontsize=18)\n",
    "plt.grid()\n",
    "plt.yticks(fontsize=14)\n",
    "plt.xticks(fontsize=14)\n",
    "plt.xlim(0,startTimeFrameList[1]-meanStartMeasurementDataTime - 60)\n",
    "plt.ylim(0,4.5)\n",
    "plt.rcParams[\"legend.fontsize\"] = 14"
   ]
  },
  {
   "cell_type": "code",
   "execution_count": 87,
   "metadata": {},
   "outputs": [
    {
     "data": {
      "image/png": "[encoded data removed]",
      "text/plain": [
       "<Figure size 1440x432 with 1 Axes>"
      ]
     },
     "metadata": {},
     "output_type": "display_data"
    }
   ],
   "source": [
    "# Plot mit stem Diagrammen\n",
    "fig, ax = plt.subplots(figsize=(20,6))\n",
    "i = 0\n",
    "while i < numberImages:\n",
    "    if i == 0:\n",
    "        # Messwerterfassung\n",
    "        x = np.linspace(startTimeFrameList[i]-meanStartMeasurementDataTime - zeroOffset,meanCaptureImagesTimeList[i] + meanStopMeasurementTime - zeroOffset, \n",
    "                        int((meanCaptureImagesTimeList[0] + meanStopMeasurementTime - zeroOffset) / measuredDataPerMs))\n",
    "        (markers, stemlines, baseline) = plt.stem(x, np.full((x.size), 1.3), linefmt='C7-', basefmt='None', bottom=0.65, markerfmt='wo')\n",
    "        plt.setp(stemlines, linestyle=\"-\", color=\"C7\", linewidth=1.5)\n",
    "        plt.setp(markers, markeredgecolor='C7', markersize=10, markeredgewidth=1.5, zorder=3)\n",
    "        # Zeitfenster\n",
    "        x = np.linspace(startTimeFrameList[i] - zeroOffset,startTimeFrameList[i]+timeframe - zeroOffset, \n",
    "                        int(featuresDf['Anzahl der Messwerte'].mean()))\n",
    "        (markers, stemlines, baseline) = plt.stem(x, np.full((x.size), 2.3), 'b-', basefmt='None', bottom=1.65, markerfmt='wo')\n",
    "        plt.setp(stemlines, linestyle=\"-\", color=\"b\", linewidth=1.5)\n",
    "        plt.setp(markers, markeredgecolor='b', markersize=10, markeredgewidth=1.5, zorder=3)\n",
    "        # Belichtungszeit\n",
    "        ax.hlines(xmin=startExposureTimeList[i] - zeroOffset,xmax=exposureTimeList[i] - zeroOffset,y=3, colors=\"blue\", lw=50)\n",
    "        # Lesen und schreiben der Daten\n",
    "        ax.hlines(xmin=meanCaptureImagesTimeList[i] - zeroOffset,xmax=meanCaptureImagesTimeList[i] + meanStopMeasurementTime + 10- zeroOffset,\n",
    "              y=4, colors=\"dimgrey\", lw=50)\n",
    "    else:\n",
    "        # Messwerterfassung\n",
    "        x = np.linspace(startTimeFrameList[i]-meanStartMeasurementDataTime - zeroOffset,meanCaptureImagesTimeList[i] + meanStopMeasurementTime - zeroOffset, \n",
    "                        int((meanCaptureImagesTimeList[0] + meanStopMeasurementTime - zeroOffset) / measuredDataPerMs))\n",
    "        (markers, stemlines, baseline) = plt.stem(x, np.full((x.size), 1.3), linefmt='C7-', basefmt='None', bottom=0.65, markerfmt='wo')\n",
    "        plt.setp(stemlines, linestyle=\"-\", color=\"C7\", linewidth=1.5)\n",
    "        plt.setp(markers, markeredgecolor='C7', markersize=10, markeredgewidth=1.5, zorder=3)\n",
    "    i = i + 1\n",
    "\n",
    "def formatter(y, pos):\n",
    "    if y == 1:\n",
    "        return 'Messwerterfassung'\n",
    "    if y == 2:\n",
    "        return 'Zeitfenster'\n",
    "    if y == 3:\n",
    "        return 'Belichtungszeit'\n",
    "    if y == 4:\n",
    "        return 'Lesen und schreiben der Daten'\n",
    "    else:\n",
    "        return ''\n",
    "\n",
    "plt.gca().yaxis.set_major_formatter(ticker.FuncFormatter(formatter))\n",
    "plt.xlabel('t/ms',fontsize=14)\n",
    "plt.title('Mittelwerte des zeitlichen Ablaufs der Datenerfassung',fontsize=18)\n",
    "plt.grid()\n",
    "plt.yticks(fontsize=14)\n",
    "plt.xticks(fontsize=14)\n",
    "plt.xlim(0,startTimeFrameList[1]-meanStartMeasurementDataTime - 60)\n",
    "plt.ylim(0,4.5)\n",
    "plt.rcParams[\"legend.fontsize\"] = 14"
   ]
  },
  {
   "cell_type": "markdown",
   "metadata": {},
   "source": [
    "### Diagram mit Min und Max Zeitwerten"
   ]
  },
  {
   "cell_type": "code",
   "execution_count": 16,
   "metadata": {},
   "outputs": [
    {
     "data": {
      "text/plain": [
       "10.001839"
      ]
     },
     "execution_count": 16,
     "metadata": {},
     "output_type": "execute_result"
    }
   ],
   "source": [
    "# Weise Min und Max Zeitwerte zu Variablen zu\n",
    "minExposureTime = featuresDf['Belichtungszeit in ns'].min() / 1000000\n",
    "minExposureTime"
   ]
  },
  {
   "cell_type": "code",
   "execution_count": 17,
   "metadata": {},
   "outputs": [
    {
     "data": {
      "text/plain": [
       "29.996324000000001"
      ]
     },
     "execution_count": 17,
     "metadata": {},
     "output_type": "execute_result"
    }
   ],
   "source": [
    "maxExposureTime = featuresDf['Belichtungszeit in ns'].max() / 1000000\n",
    "maxExposureTime"
   ]
  },
  {
   "cell_type": "code",
   "execution_count": 18,
   "metadata": {},
   "outputs": [
    {
     "data": {
      "text/plain": [
       "150.679824"
      ]
     },
     "execution_count": 18,
     "metadata": {},
     "output_type": "execute_result"
    }
   ],
   "source": [
    "# Max Zeit vom Stopp der Messwerterfassung zum Ende des Zeitfensters\n",
    "maxStopMeasurementToEndTimeframeTime =(featuresDf['Letzter Zeitstempel der Messwerterfassung in ns seit Start der JVM'] \n",
    "                          - (featuresDf['Start des Zeitfensters in ns seit Start der JVM'] + (timeframe * 1000000))).max()\n",
    "maxStopMeasurementToEndTimeframeTime = maxStopMeasurementToEndTimeframeTime / 1000000\n",
    "minStopMeasurementToEndTimeframeTime =(featuresDf['Letzter Zeitstempel der Messwerterfassung in ns seit Start der JVM'] \n",
    "                          - (featuresDf['Start des Zeitfensters in ns seit Start der JVM'] + (timeframe * 1000000))).min()\n",
    "minStopMeasurementToEndTimeframeTime = minStopMeasurementToEndTimeframeTime / 1000000\n",
    "maxStopMeasurementToEndTimeframeTime"
   ]
  },
  {
   "cell_type": "code",
   "execution_count": 19,
   "metadata": {},
   "outputs": [
    {
     "data": {
      "text/plain": [
       "46.521909000000001"
      ]
     },
     "execution_count": 19,
     "metadata": {},
     "output_type": "execute_result"
    }
   ],
   "source": [
    "minStopMeasurementToEndTimeframeTime"
   ]
  },
  {
   "cell_type": "code",
   "execution_count": 20,
   "metadata": {},
   "outputs": [
    {
     "data": {
      "text/plain": [
       "12"
      ]
     },
     "execution_count": 20,
     "metadata": {},
     "output_type": "execute_result"
    }
   ],
   "source": [
    "maxStopMeasurementTime = (featuresDf['Zeitstempel in Unixzeit'] - featuresDf['Stopp der Messwerterfassung in Unixzeit']).max()\n",
    "maxStopMeasurementTime"
   ]
  },
  {
   "cell_type": "code",
   "execution_count": 21,
   "metadata": {},
   "outputs": [],
   "source": [
    "minStopMeasurementTime = (featuresDf['Zeitstempel in Unixzeit'] - featuresDf['Stopp der Messwerterfassung in Unixzeit']).min()"
   ]
  },
  {
   "cell_type": "code",
   "execution_count": 22,
   "metadata": {},
   "outputs": [
    {
     "data": {
      "text/plain": [
       "20.405504000000001"
      ]
     },
     "execution_count": 22,
     "metadata": {},
     "output_type": "execute_result"
    }
   ],
   "source": [
    "# vom Start der Messwert Datenerfassung bis zum Start des Zeitfensters in ms\n",
    "maxStartMeasurementDataTime = (featuresDf['Start des Zeitfensters in ns seit Start der JVM'] - featuresDf['Start der Messwerterfassung in ns seit Start der JVM']).max()\n",
    "maxStartMeasurementDataTime = maxStartMeasurementDataTime / 1000000\n",
    "minStartMeasurementDataTime = (featuresDf['Start des Zeitfensters in ns seit Start der JVM'] - featuresDf['Start der Messwerterfassung in ns seit Start der JVM']).min()\n",
    "minStartMeasurementDataTime = minStartMeasurementDataTime / 1000000\n",
    "minStartMeasurementDataTime"
   ]
  },
  {
   "cell_type": "code",
   "execution_count": 262,
   "metadata": {},
   "outputs": [],
   "source": [
    "# Listen die mit den entsprechenden Vielfachen der Zeitangaben gefüllt werden\n",
    "maxExposureOffset = (timeframe - maxExposureTime) / 2\n",
    "minExposureOffset = (timeframe - minExposureTime) / 2\n",
    "# Abstand zwischen zwei Bildern\n",
    "meanCaptureImagesTime = meanCaptureImagesTime\n",
    "# Messwerterfassung\n",
    "startMaxTimeFrame = meanCaptureImagesTime - maxStopMeasurementToEndTimeframeTime - maxStopMeasurementTime - timeframe\n",
    "startMinTimeFrame = meanCaptureImagesTime - minStopMeasurementToEndTimeframeTime - minStopMeasurementTime - timeframe\n",
    "#Zeitfenster\n",
    "startMaxExposureTime = startMinTimeFrame + maxExposureOffset\n",
    "startMinExposureTime = startMinTimeFrame + minExposureOffset\n",
    "# Belichtungszeit\n",
    "exposureMaxTime = startMaxExposureTime + maxExposureTime\n",
    "exposureMinTime = startMinExposureTime + minExposureTime"
   ]
  },
  {
   "cell_type": "code",
   "execution_count": 263,
   "metadata": {},
   "outputs": [
    {
     "data": {
      "text/plain": [
       "-40.850121999999999"
      ]
     },
     "execution_count": 263,
     "metadata": {},
     "output_type": "execute_result"
    }
   ],
   "source": [
    "zeroOffsetMinMax = startMaxTimeFrame - maxStartMeasurementDataTime\n",
    "zeroOffsetMinMax"
   ]
  },
  {
   "cell_type": "code",
   "execution_count": 264,
   "metadata": {},
   "outputs": [
    {
     "data": {
      "text/plain": [
       "104.170298"
      ]
     },
     "execution_count": 264,
     "metadata": {},
     "output_type": "execute_result"
    }
   ],
   "source": [
    "maxStartMeasurementDataTime"
   ]
  },
  {
   "cell_type": "code",
   "execution_count": 271,
   "metadata": {},
   "outputs": [
    {
     "data": {
      "text/plain": [
       "12"
      ]
     },
     "execution_count": 271,
     "metadata": {},
     "output_type": "execute_result"
    }
   ],
   "source": [
    "maxStopMeasurementTime"
   ]
  },
  {
   "cell_type": "code",
   "execution_count": 286,
   "metadata": {},
   "outputs": [
    {
     "data": {
      "image/png": "[encoded data removed]",
      "text/plain": [
       "<Figure size 1440x432 with 1 Axes>"
      ]
     },
     "metadata": {},
     "output_type": "display_data"
    }
   ],
   "source": [
    "# Plot mit Min und Max Zeitangaben\n",
    "fig, ax = plt.subplots(figsize=(20,6))\n",
    "# Messwerterfassung\n",
    "x = np.linspace(0,maxStartMeasurementDataTime+timeframe+maxStopMeasurementToEndTimeframeTime, \n",
    "                        int((maxStartMeasurementDataTime+timeframe+maxStopMeasurementToEndTimeframeTime)/measuredDataPerMs))\n",
    "(markers, stemlines, baseline) = plt.stem(x, np.full((x.size), 1), linefmt='C7-', basefmt='None', bottom=0.5, markerfmt='wo')\n",
    "plt.setp(stemlines, linestyle=\"-\", color=\"C7\", linewidth=1.5)\n",
    "plt.setp(markers, markeredgecolor='C7', markersize=10, markeredgewidth=1.5, zorder=3)\n",
    "ax.hlines(xmin=minStartMeasurementDataTime + timeframe + minStopMeasurementToEndTimeframeTime - 0.5,\n",
    "          xmax=minStartMeasurementDataTime + timeframe + minStopMeasurementToEndTimeframeTime + 0.5,\n",
    "          y=0.77, colors=\"black\", lw=48, zorder=4)\n",
    "# Zeitfenster\n",
    "x = np.linspace(minStartMeasurementDataTime,maxStartMeasurementDataTime+timeframe, \n",
    "                int((maxStartMeasurementDataTime+timeframe-minStartMeasurementDataTime)/ measuredDataPerMs))\n",
    "(markers, stemlines, baseline) = plt.stem(x, np.full((x.size), 2), 'b-', basefmt='None', bottom=1.5, markerfmt='wo')\n",
    "plt.setp(stemlines, linestyle=\"-\", color=\"b\", linewidth=1.5)\n",
    "plt.setp(markers, markeredgecolor='b', markersize=10, markeredgewidth=1.5, zorder=3)\n",
    "# Min Start des Zeitfensters\n",
    "ax.hlines(xmin=minStartMeasurementDataTime+timeframe-0.5,xmax=minStartMeasurementDataTime+timeframe+0.5,y=1.77, colors=\"black\", lw=48, zorder=4)\n",
    "# Max Start des Zeitfensters\n",
    "ax.hlines(xmin=maxStartMeasurementDataTime-0.5,xmax=maxStartMeasurementDataTime+0.5,y=1.77, colors=\"red\", lw=48, zorder=4)\n",
    "# Belichtungszeit\n",
    "ax.hlines(xmin=minStartMeasurementDataTime + minExposureOffset,xmax=maxStartMeasurementDataTime+timeframe-minExposureOffset,y=2.5, colors=\"blue\", lw=40)\n",
    "ax.hlines(xmin=minStartMeasurementDataTime + minExposureOffset + minExposureTime-0.5,xmax=minStartMeasurementDataTime + minExposureOffset + minExposureTime + 0.5,y=2.5, colors=\"black\", lw=40)\n",
    "ax.hlines(xmin=maxStartMeasurementDataTime+timeframe-minExposureOffset-minExposureTime-0.5,xmax=maxStartMeasurementDataTime+timeframe-minExposureOffset-minExposureTime+0.5,y=2.5, colors=\"red\", lw=40)\n",
    "\n",
    "# Lesen und schreiben der Daten\n",
    "ax.hlines(xmin=minStartMeasurementDataTime+timeframe+minStopMeasurementToEndTimeframeTime-minStopMeasurementTime,xmax=meanCaptureImagesTime+meanStopMeasurementTime - zeroOffsetMinMax + 50,\n",
    "                  y=3.5, colors=\"dimgrey\", lw=40)\n",
    "\n",
    "def formatter(y, pos):\n",
    "    if y == 0.5:\n",
    "        return 'Messwerterfassung'\n",
    "    if y == 1.5:\n",
    "        return 'Zeitfenster'\n",
    "    if y == 2.5:\n",
    "        return 'Belichtungszeit'\n",
    "    if y == 3.5:\n",
    "        return 'Lesen und schreiben der Daten'\n",
    "    else:\n",
    "        return ''\n",
    "\n",
    "plt.gca().yaxis.set_major_formatter(ticker.FuncFormatter(formatter))\n",
    "plt.xlabel('t/ms',fontsize=14)\n",
    "plt.title('Min-Max Zeitabstände des zeitlichen Ablaufs der Datenerfassung',fontsize=18)\n",
    "plt.grid()\n",
    "plt.yticks(fontsize=14)\n",
    "plt.xticks(fontsize=14)\n",
    "plt.xlim(0,startTimeFrameList[1]-meanStartMeasurementDataTime)\n",
    "plt.ylim(0,4)\n",
    "plt.rcParams[\"legend.fontsize\"] = 14"
   ]
  },
  {
   "cell_type": "code",
   "execution_count": 78,
   "metadata": {},
   "outputs": [
    {
     "data": {
      "text/plain": [
       "381.35964799999999"
      ]
     },
     "execution_count": 78,
     "metadata": {},
     "output_type": "execute_result"
    }
   ],
   "source": [
    "(meanCaptureImagesTimeList[0] + maxStopMeasurementToEndTimeframeTime - startMaxTimeFrameList[0]-maxStopMeasurementTime)"
   ]
  },
  {
   "cell_type": "code",
   "execution_count": 74,
   "metadata": {},
   "outputs": [
    {
     "data": {
      "text/plain": [
       "215.97347183880814"
      ]
     },
     "execution_count": 74,
     "metadata": {},
     "output_type": "execute_result"
    }
   ],
   "source": [
    "meanCaptureImagesTimeList[0] + meanStopMeasurementTime - zeroOffset"
   ]
  },
  {
   "cell_type": "code",
   "execution_count": 77,
   "metadata": {},
   "outputs": [
    {
     "data": {
      "text/plain": [
       "90.856761651308119"
      ]
     },
     "execution_count": 77,
     "metadata": {},
     "output_type": "execute_result"
    }
   ],
   "source": [
    "meanCaptureImagesTimeList[0] + meanStopMeasurementTime - startTimeFrameList[0]-meanStartMeasurementDataTime"
   ]
  },
  {
   "cell_type": "code",
   "execution_count": null,
   "metadata": {},
   "outputs": [],
   "source": []
  }
 ],
 "metadata": {
  "kernelspec": {
   "display_name": "Python 3",
   "language": "python",
   "name": "python3"
  },
  "language_info": {
   "codemirror_mode": {
    "name": "ipython",
    "version": 3
   },
   "file_extension": ".py",
   "mimetype": "text/x-python",
   "name": "python",
   "nbconvert_exporter": "python",
   "pygments_lexer": "ipython3",
   "version": "3.6.4"
  },
  "toc": {
   "colors": {
    "hover_highlight": "#DAA520",
    "navigate_num": "#000000",
    "navigate_text": "#333333",
    "running_highlight": "#FF0000",
    "selected_highlight": "#FFD700",
    "sidebar_border": "#EEEEEE",
    "wrapper_background": "#FFFFFF"
   },
   "moveMenuLeft": true,
   "nav_menu": {
    "height": "49px",
    "width": "252px"
   },
   "navigate_menu": true,
   "number_sections": true,
   "sideBar": true,
   "threshold": 4,
   "toc_cell": false,
   "toc_section_display": "block",
   "toc_window_display": false,
   "widenNotebook": false
  }
 },
 "nbformat": 4,
 "nbformat_minor": 2
}
