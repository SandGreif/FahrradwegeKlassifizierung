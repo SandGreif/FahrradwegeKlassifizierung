{
 "cells": [
  {
   "cell_type": "markdown",
   "metadata": {},
   "source": [
    "# Zeitlicher Ablauf der Datenerfassung\n",
    "\n",
    "Einleitung\n",
    " ------\n",
    "In diesem Notebook geht es darum den zeitlichen Ablauf der Datenerfassung darzustellen.\n",
    "Dabei werden als zeitliche Kennzahlen die arithmetischen Mittelwerte genutzt sowie die min und maximal Zeitwerte.     \n",
    "Die Daten werden mit einer Smartphone Android App erfasst (https://github.com/SandGreif/Fahrradwege-Monitoring-App).\n",
    "\n",
    "<img src=\"../daten/abbildungen/mittelwerteZeitlicherAblaufT80.png\" alr=\"Mittelwerte des zeitlichen Ablaufs der Datenerfassung. Zeitfenster Mittelwert t=80ms\">\n",
    "Abbildung 1: Zeitfenster Mittelwert t=80ms. Datensätze 15 bis 22\n",
    "\n",
    "<img src=\"../daten/abbildungen/mittelwerteZeitlicherAblaufT500.png\" alt=\" Mittelwerte des zeitlichen Ablaufs der Datenerfassung. Zeitfenster Mittelwert t=500ms\">\n",
    "Abbildung 2: Zeitfenster Mittelwert t=500ms. Datensätze 26 bis 27\n",
    "\n",
    "<img src=\"../daten/abbildungen/mittelwerteZeitlicherAblaufTDynamischesZeitfenster.png\" alt=\"Mittelwerte des zeitlichen Ablaufs der Datenerfassung: Dynamisches Zeitfenster Mittelwert t=243,58ms\">\n",
    "Abbildung 3: Dynamisches Zeitfenster Mittelwert t=243,58ms. Datensätze 28 bis 29\n",
    "\n",
    "Auf Abb. 2 - 3 wurde noch vom Ende des Zeitfensters bis zum Stopp der Messwerterfassung die nicht optimierte Version verwendet. Also der Zeitabstand ist doppelt so lang wie notig. "
   ]
  },
  {
   "cell_type": "code",
   "execution_count": 3,
   "metadata": {},
   "outputs": [],
   "source": [
    "import pandas\n",
    "import os\n",
    "import numpy as np\n",
    "%matplotlib inline \n",
    "import matplotlib.pyplot as plt\n",
    "import matplotlib.ticker as ticker\n",
    "import matplotlib.patches as mpatches"
   ]
  },
  {
   "cell_type": "code",
   "execution_count": 207,
   "metadata": {},
   "outputs": [
    {
     "data": {
      "text/html": [
       "<div>\n",
       "<style scoped>\n",
       "    .dataframe tbody tr th:only-of-type {\n",
       "        vertical-align: middle;\n",
       "    }\n",
       "\n",
       "    .dataframe tbody tr th {\n",
       "        vertical-align: top;\n",
       "    }\n",
       "\n",
       "    .dataframe thead th {\n",
       "        text-align: right;\n",
       "    }\n",
       "</style>\n",
       "<table border=\"1\" class=\"dataframe\">\n",
       "  <thead>\n",
       "    <tr style=\"text-align: right;\">\n",
       "      <th></th>\n",
       "      <th>Zeitstempel in Unixzeit</th>\n",
       "      <th>Breitengrad</th>\n",
       "      <th>Laengengrad</th>\n",
       "      <th>Geschwindigkeit in km/h</th>\n",
       "      <th>Anzahl der Messwerte</th>\n",
       "      <th>Start des Zeitfensters in ns seit Start der JVM</th>\n",
       "      <th>Start der Messwerterfassung in ns seit Start der JVM</th>\n",
       "      <th>Start der Belichtung in ns seit Start der JVM</th>\n",
       "      <th>Belichtungszeit in ns</th>\n",
       "      <th>Letzter Zeitstempel der Messwerterfassung in ns seit Start der JVM</th>\n",
       "      <th>Stopp der Messwerterfassung in Unixzeit</th>\n",
       "    </tr>\n",
       "  </thead>\n",
       "  <tbody>\n",
       "    <tr>\n",
       "      <th>count</th>\n",
       "      <td>4.963000e+03</td>\n",
       "      <td>4963.000000</td>\n",
       "      <td>4963.000000</td>\n",
       "      <td>4963.000000</td>\n",
       "      <td>4963.000000</td>\n",
       "      <td>4.963000e+03</td>\n",
       "      <td>4.963000e+03</td>\n",
       "      <td>4.963000e+03</td>\n",
       "      <td>4.963000e+03</td>\n",
       "      <td>4.963000e+03</td>\n",
       "      <td>4.963000e+03</td>\n",
       "    </tr>\n",
       "    <tr>\n",
       "      <th>mean</th>\n",
       "      <td>1.525693e+12</td>\n",
       "      <td>53.583963</td>\n",
       "      <td>10.084546</td>\n",
       "      <td>15.184848</td>\n",
       "      <td>62.252871</td>\n",
       "      <td>1.527235e+13</td>\n",
       "      <td>1.527227e+13</td>\n",
       "      <td>1.527260e+13</td>\n",
       "      <td>9.923256e+06</td>\n",
       "      <td>1.527309e+13</td>\n",
       "      <td>1.525693e+12</td>\n",
       "    </tr>\n",
       "    <tr>\n",
       "      <th>std</th>\n",
       "      <td>1.231895e+07</td>\n",
       "      <td>0.016691</td>\n",
       "      <td>0.035909</td>\n",
       "      <td>4.105801</td>\n",
       "      <td>0.448394</td>\n",
       "      <td>9.408304e+12</td>\n",
       "      <td>9.408303e+12</td>\n",
       "      <td>9.408305e+12</td>\n",
       "      <td>9.941265e+06</td>\n",
       "      <td>9.408308e+12</td>\n",
       "      <td>1.231896e+07</td>\n",
       "    </tr>\n",
       "    <tr>\n",
       "      <th>min</th>\n",
       "      <td>1.525679e+12</td>\n",
       "      <td>53.556515</td>\n",
       "      <td>10.020442</td>\n",
       "      <td>5.004000</td>\n",
       "      <td>60.000000</td>\n",
       "      <td>4.720012e+12</td>\n",
       "      <td>4.719938e+12</td>\n",
       "      <td>4.720260e+12</td>\n",
       "      <td>7.630070e+05</td>\n",
       "      <td>4.720751e+12</td>\n",
       "      <td>1.525679e+12</td>\n",
       "    </tr>\n",
       "    <tr>\n",
       "      <th>25%</th>\n",
       "      <td>1.525681e+12</td>\n",
       "      <td>53.571229</td>\n",
       "      <td>10.054037</td>\n",
       "      <td>12.492000</td>\n",
       "      <td>62.000000</td>\n",
       "      <td>6.161229e+12</td>\n",
       "      <td>6.161143e+12</td>\n",
       "      <td>6.161476e+12</td>\n",
       "      <td>2.298216e+06</td>\n",
       "      <td>6.161965e+12</td>\n",
       "      <td>1.525681e+12</td>\n",
       "    </tr>\n",
       "    <tr>\n",
       "      <th>50%</th>\n",
       "      <td>1.525682e+12</td>\n",
       "      <td>53.579170</td>\n",
       "      <td>10.094249</td>\n",
       "      <td>15.624002</td>\n",
       "      <td>62.000000</td>\n",
       "      <td>7.806778e+12</td>\n",
       "      <td>7.806702e+12</td>\n",
       "      <td>7.807027e+12</td>\n",
       "      <td>5.331862e+06</td>\n",
       "      <td>7.807517e+12</td>\n",
       "      <td>1.525682e+12</td>\n",
       "    </tr>\n",
       "    <tr>\n",
       "      <th>75%</th>\n",
       "      <td>1.525705e+12</td>\n",
       "      <td>53.597912</td>\n",
       "      <td>10.116828</td>\n",
       "      <td>18.108002</td>\n",
       "      <td>63.000000</td>\n",
       "      <td>2.491194e+13</td>\n",
       "      <td>2.491186e+13</td>\n",
       "      <td>2.491218e+13</td>\n",
       "      <td>1.000184e+07</td>\n",
       "      <td>2.491267e+13</td>\n",
       "      <td>1.525705e+12</td>\n",
       "    </tr>\n",
       "    <tr>\n",
       "      <th>max</th>\n",
       "      <td>1.525707e+12</td>\n",
       "      <td>53.613850</td>\n",
       "      <td>10.137879</td>\n",
       "      <td>24.948000</td>\n",
       "      <td>67.000000</td>\n",
       "      <td>2.659563e+13</td>\n",
       "      <td>2.659555e+13</td>\n",
       "      <td>2.659587e+13</td>\n",
       "      <td>2.999632e+07</td>\n",
       "      <td>2.659633e+13</td>\n",
       "      <td>1.525707e+12</td>\n",
       "    </tr>\n",
       "  </tbody>\n",
       "</table>\n",
       "</div>"
      ],
      "text/plain": [
       "       Zeitstempel in Unixzeit  Breitengrad  Laengengrad  \\\n",
       "count             4.963000e+03  4963.000000  4963.000000   \n",
       "mean              1.525693e+12    53.583963    10.084546   \n",
       "std               1.231895e+07     0.016691     0.035909   \n",
       "min               1.525679e+12    53.556515    10.020442   \n",
       "25%               1.525681e+12    53.571229    10.054037   \n",
       "50%               1.525682e+12    53.579170    10.094249   \n",
       "75%               1.525705e+12    53.597912    10.116828   \n",
       "max               1.525707e+12    53.613850    10.137879   \n",
       "\n",
       "       Geschwindigkeit in km/h  Anzahl der Messwerte  \\\n",
       "count              4963.000000           4963.000000   \n",
       "mean                 15.184848             62.252871   \n",
       "std                   4.105801              0.448394   \n",
       "min                   5.004000             60.000000   \n",
       "25%                  12.492000             62.000000   \n",
       "50%                  15.624002             62.000000   \n",
       "75%                  18.108002             63.000000   \n",
       "max                  24.948000             67.000000   \n",
       "\n",
       "       Start des Zeitfensters in ns seit Start der JVM  \\\n",
       "count                                     4.963000e+03   \n",
       "mean                                      1.527235e+13   \n",
       "std                                       9.408304e+12   \n",
       "min                                       4.720012e+12   \n",
       "25%                                       6.161229e+12   \n",
       "50%                                       7.806778e+12   \n",
       "75%                                       2.491194e+13   \n",
       "max                                       2.659563e+13   \n",
       "\n",
       "       Start der Messwerterfassung in ns seit Start der JVM  \\\n",
       "count                                       4.963000e+03      \n",
       "mean                                        1.527227e+13      \n",
       "std                                         9.408303e+12      \n",
       "min                                         4.719938e+12      \n",
       "25%                                         6.161143e+12      \n",
       "50%                                         7.806702e+12      \n",
       "75%                                         2.491186e+13      \n",
       "max                                         2.659555e+13      \n",
       "\n",
       "       Start der Belichtung in ns seit Start der JVM  Belichtungszeit in ns  \\\n",
       "count                                   4.963000e+03           4.963000e+03   \n",
       "mean                                    1.527260e+13           9.923256e+06   \n",
       "std                                     9.408305e+12           9.941265e+06   \n",
       "min                                     4.720260e+12           7.630070e+05   \n",
       "25%                                     6.161476e+12           2.298216e+06   \n",
       "50%                                     7.807027e+12           5.331862e+06   \n",
       "75%                                     2.491218e+13           1.000184e+07   \n",
       "max                                     2.659587e+13           2.999632e+07   \n",
       "\n",
       "       Letzter Zeitstempel der Messwerterfassung in ns seit Start der JVM  \\\n",
       "count                                       4.963000e+03                    \n",
       "mean                                        1.527309e+13                    \n",
       "std                                         9.408308e+12                    \n",
       "min                                         4.720751e+12                    \n",
       "25%                                         6.161965e+12                    \n",
       "50%                                         7.807517e+12                    \n",
       "75%                                         2.491267e+13                    \n",
       "max                                         2.659633e+13                    \n",
       "\n",
       "       Stopp der Messwerterfassung in Unixzeit  \n",
       "count                             4.963000e+03  \n",
       "mean                              1.525693e+12  \n",
       "std                               1.231896e+07  \n",
       "min                               1.525679e+12  \n",
       "25%                               1.525681e+12  \n",
       "50%                               1.525682e+12  \n",
       "75%                               1.525705e+12  \n",
       "max                               1.525707e+12  "
      ]
     },
     "execution_count": 207,
     "metadata": {},
     "output_type": "execute_result"
    }
   ],
   "source": [
    "featuresDf = pandas.read_csv(\"../daten/merkmale_datensatz_26_bis_27/merkmaleRoh.csv\")\n",
    "featuresDf.describe()"
   ]
  },
  {
   "cell_type": "code",
   "execution_count": 208,
   "metadata": {},
   "outputs": [
    {
     "data": {
      "text/plain": [
       "Index(['Zeitstempel in Unixzeit', 'Breitengrad', 'Laengengrad',\n",
       "       'Geschwindigkeit in km/h', 'X-Achse Beschleunigungswerte in m/s^2',\n",
       "       'Y-Achse Beschleunigungswerte in m/s^2',\n",
       "       'Z-Achse Beschleunigungswerte in m/s^2', 'Gier Messwerte in rad',\n",
       "       'Nick Messwerte in rad', 'Roll Messwerte in rad',\n",
       "       'Zeitstempel der Messwerte in ns', 'Anzahl der Messwerte',\n",
       "       'Start des Zeitfensters in ns seit Start der JVM',\n",
       "       'Start der Messwerterfassung in ns seit Start der JVM',\n",
       "       'Start der Belichtung in ns seit Start der JVM',\n",
       "       'Belichtungszeit in ns',\n",
       "       'Letzter Zeitstempel der Messwerterfassung in ns seit Start der JVM',\n",
       "       'Stopp der Messwerterfassung in Unixzeit'],\n",
       "      dtype='object')"
      ]
     },
     "execution_count": 208,
     "metadata": {},
     "output_type": "execute_result"
    }
   ],
   "source": [
    "featuresDf.columns"
   ]
  },
  {
   "cell_type": "code",
   "execution_count": 209,
   "metadata": {},
   "outputs": [
    {
     "data": {
      "text/plain": [
       "9.9232557128752763"
      ]
     },
     "execution_count": 209,
     "metadata": {},
     "output_type": "execute_result"
    }
   ],
   "source": [
    "# Mittelwert der Belichtungszeit aller Aufnahmen umgerechnet in ms\n",
    "meanExposureTime = featuresDf['Belichtungszeit in ns'].mean() / 1000000\n",
    "meanExposureTime"
   ]
  },
  {
   "cell_type": "code",
   "execution_count": 210,
   "metadata": {},
   "outputs": [
    {
     "data": {
      "text/plain": [
       "62.2528712472295"
      ]
     },
     "execution_count": 210,
     "metadata": {},
     "output_type": "execute_result"
    }
   ],
   "source": [
    "# Mittelwert Anzahl der Messwerte pro Merkmal\n",
    "featuresDf['Anzahl der Messwerte'].mean()"
   ]
  },
  {
   "cell_type": "code",
   "execution_count": 211,
   "metadata": {},
   "outputs": [
    {
     "data": {
      "text/plain": [
       "237.07843696413985"
      ]
     },
     "execution_count": 211,
     "metadata": {},
     "output_type": "execute_result"
    }
   ],
   "source": [
    "# Dynamisches Zeitfenster Mittelwert\n",
    "timeframe = featuresDf['Geschwindigkeit in km/h'].mean() \n",
    "# umrechnung km/h in m/s\n",
    "timeframe = timeframe/3.6\n",
    "timeframe = 1/timeframe \n",
    "timeframe = timeframe * 1000\n",
    "timeframe"
   ]
  },
  {
   "cell_type": "code",
   "execution_count": 212,
   "metadata": {},
   "outputs": [],
   "source": [
    "# Dauer des Zeitfensters in ms\n",
    "timeframe = 500"
   ]
  },
  {
   "cell_type": "code",
   "execution_count": 213,
   "metadata": {},
   "outputs": [
    {
     "data": {
      "text/plain": [
       "230.83999449949627"
      ]
     },
     "execution_count": 213,
     "metadata": {},
     "output_type": "execute_result"
    }
   ],
   "source": [
    "# Mittelwert vom Ende des Zeitfensters in ms bis zum Stop der Datenerfassung in ms \n",
    "meanStopMeasurementToEndTimeframeTime =(featuresDf['Letzter Zeitstempel der Messwerterfassung in ns seit Start der JVM'] \n",
    "                          - (featuresDf['Start des Zeitfensters in ns seit Start der JVM'] + (timeframe * 1000000))).mean()\n",
    "meanStopMeasurementToEndTimeframeTime = meanStopMeasurementToEndTimeframeTime / 1000000\n",
    "meanStopMeasurementToEndTimeframeTime"
   ]
  },
  {
   "cell_type": "code",
   "execution_count": 214,
   "metadata": {},
   "outputs": [
    {
     "data": {
      "text/plain": [
       "-368.37013902881324"
      ]
     },
     "execution_count": 214,
     "metadata": {},
     "output_type": "execute_result"
    }
   ],
   "source": [
    "# Mittelwert vom Aufruf das die Aufnahme fertig ist bis zum Stopp der Messwerterfassung in ms\n",
    "meanStopMeasurementTime = (featuresDf['Zeitstempel in Unixzeit']-featuresDf['Stopp der Messwerterfassung in Unixzeit']).mean()\n",
    "meanStopMeasurementTime"
   ]
  },
  {
   "cell_type": "code",
   "execution_count": 215,
   "metadata": {},
   "outputs": [
    {
     "data": {
      "text/plain": [
       "82.22941366210938"
      ]
     },
     "execution_count": 215,
     "metadata": {},
     "output_type": "execute_result"
    }
   ],
   "source": [
    "# Mittelwert vom Start der Messwert Datenerfassung bis zum Start des Zeitfensters in ms\n",
    "meanStartMeasurementDataTime = featuresDf['Start des Zeitfensters in ns seit Start der JVM'].mean() - featuresDf['Start der Messwerterfassung in ns seit Start der JVM'].mean()\n",
    "meanStartMeasurementDataTime = meanStartMeasurementDataTime / 1000000\n",
    "meanStartMeasurementDataTime"
   ]
  },
  {
   "cell_type": "markdown",
   "metadata": {},
   "source": [
    "Bei der Berechnung des zeitlichen Abstandes von erfassten Bildaufnahmen ist zu beachten, dass die verwendete Daten aus einer Datenerfassungsserie stammen also einem Datensatz. Als Kennwert wird nämlich die Zeitstempel Spalte aus der Merkmal CSV Datei genutzt. Der Zeitstempel gibt an, wann das Bild aufgenommen wurde in Unixzeit. Zwischen zwei erfassten Datensätzen ist meistens einige Zeit mehr vergangen. Deshalb wird für die Berechnung ein Datensatz genutzt. Der angegebene Zeitwert wird in dem Notebook frameRate berechnet in dem Ordner datenanalyse. "
   ]
  },
  {
   "cell_type": "code",
   "execution_count": 216,
   "metadata": {},
   "outputs": [],
   "source": [
    "# Mittelwert des Abstandes bis das nächste Bild aufgenommen wurde von den Datensatz 15 mit 305.906 ms aufgerundet auf 306 Ms.\n",
    "meanCaptureImagesTime = 1116"
   ]
  },
  {
   "cell_type": "code",
   "execution_count": 217,
   "metadata": {},
   "outputs": [],
   "source": [
    "# In dieser Zelle werden die Vielfachen der Mittelwerte in Listen angehängt, um exemplarisch\n",
    "# den weiteren Verlauf einer Datenserie mit gemittelten Zeitwerten in einem Diagram darzustellen.\n",
    "\n",
    "# Anzahl der Bilder\n",
    "numberImages = 2\n",
    "imageCounter = 1\n",
    "meanExposureOffset = (timeframe - meanExposureTime) / 2\n",
    "# Listen die mit den entsprechenden Vielfachen der Zeitangaben gefüllt werden\n",
    "\n",
    "# Gibt mittlere Zeitwerte an zu welchem ein Bild bereit ist zum abspeichern \n",
    "meanCaptureImagesTimeList = []\n",
    "# Start der Zeitfenster \n",
    "startTimeFrameList = []\n",
    "startExposureTimeList = []\n",
    "exposureTimeList = []\n",
    "while imageCounter <= numberImages:\n",
    "    meanCaptureImagesTimeList.append(meanCaptureImagesTime * imageCounter)\n",
    "    startTimeFrameList.append(meanCaptureImagesTimeList[imageCounter-1] - meanStopMeasurementToEndTimeframeTime - timeframe)\n",
    "    startExposureTimeList.append(startTimeFrameList[imageCounter-1] + meanExposureOffset)\n",
    "    exposureTimeList.append(startExposureTimeList[imageCounter-1] + meanExposureTime)\n",
    "    imageCounter = imageCounter + 1\n",
    "    "
   ]
  },
  {
   "cell_type": "code",
   "execution_count": 218,
   "metadata": {},
   "outputs": [
    {
     "data": {
      "text/plain": [
       "385.16000550050376"
      ]
     },
     "execution_count": 218,
     "metadata": {},
     "output_type": "execute_result"
    }
   ],
   "source": [
    "meanCaptureImagesTimeList[0] - meanStopMeasurementToEndTimeframeTime - timeframe"
   ]
  },
  {
   "cell_type": "code",
   "execution_count": 219,
   "metadata": {},
   "outputs": [
    {
     "data": {
      "text/plain": [
       "230.83999449949627"
      ]
     },
     "execution_count": 219,
     "metadata": {},
     "output_type": "execute_result"
    }
   ],
   "source": [
    "meanStopMeasurementToEndTimeframeTime"
   ]
  },
  {
   "cell_type": "code",
   "execution_count": 220,
   "metadata": {},
   "outputs": [
    {
     "data": {
      "text/plain": [
       "230.83999449949627"
      ]
     },
     "execution_count": 220,
     "metadata": {},
     "output_type": "execute_result"
    }
   ],
   "source": [
    "meanStopMeasurementToEndTimeframeTime"
   ]
  },
  {
   "cell_type": "code",
   "execution_count": 221,
   "metadata": {},
   "outputs": [
    {
     "data": {
      "text/plain": [
       "302.93059183839438"
      ]
     },
     "execution_count": 221,
     "metadata": {},
     "output_type": "execute_result"
    }
   ],
   "source": [
    "# Offset damit t bei 0 ms beginnt\n",
    "zeroOffset = startTimeFrameList[0]-meanStartMeasurementDataTime\n",
    "zeroOffset"
   ]
  },
  {
   "cell_type": "code",
   "execution_count": 222,
   "metadata": {},
   "outputs": [
    {
     "data": {
      "text/plain": [
       "385.16000550050376"
      ]
     },
     "execution_count": 222,
     "metadata": {},
     "output_type": "execute_result"
    }
   ],
   "source": [
    "startTimeFrameList[0]"
   ]
  },
  {
   "cell_type": "code",
   "execution_count": 223,
   "metadata": {},
   "outputs": [
    {
     "data": {
      "text/plain": [
       "385.16000550050376"
      ]
     },
     "execution_count": 223,
     "metadata": {},
     "output_type": "execute_result"
    }
   ],
   "source": [
    "startTimeFrameList[0]"
   ]
  },
  {
   "cell_type": "code",
   "execution_count": 224,
   "metadata": {},
   "outputs": [
    {
     "name": "stdout",
     "output_type": "stream",
     "text": [
      "8.03175805361\n"
     ]
    }
   ],
   "source": [
    "measuredDataPerMs = timeframe / featuresDf['Anzahl der Messwerte'].mean()\n",
    "print(measuredDataPerMs)"
   ]
  },
  {
   "cell_type": "code",
   "execution_count": 225,
   "metadata": {},
   "outputs": [
    {
     "data": {
      "text/plain": [
       "55.367612690121575"
      ]
     },
     "execution_count": 225,
     "metadata": {},
     "output_type": "execute_result"
    }
   ],
   "source": [
    "(meanCaptureImagesTimeList[0] + meanStopMeasurementTime - zeroOffset) / measuredDataPerMs"
   ]
  },
  {
   "cell_type": "code",
   "execution_count": 226,
   "metadata": {},
   "outputs": [
    {
     "data": {
      "text/plain": [
       "82.22941366210938"
      ]
     },
     "execution_count": 226,
     "metadata": {},
     "output_type": "execute_result"
    }
   ],
   "source": [
    "meanStartMeasurementDataTime"
   ]
  },
  {
   "cell_type": "code",
   "execution_count": 227,
   "metadata": {},
   "outputs": [
    {
     "data": {
      "text/plain": [
       "1560.6992691327923"
      ]
     },
     "execution_count": 227,
     "metadata": {},
     "output_type": "execute_result"
    }
   ],
   "source": [
    "meanCaptureImagesTimeList[1] + meanStopMeasurementTime - zeroOffset"
   ]
  },
  {
   "cell_type": "code",
   "execution_count": 228,
   "metadata": {},
   "outputs": [
    {
     "data": {
      "text/plain": [
       "444.69926913279238"
      ]
     },
     "execution_count": 228,
     "metadata": {},
     "output_type": "execute_result"
    }
   ],
   "source": [
    "meanCaptureImagesTimeList[0] + meanStopMeasurementTime - zeroOffset"
   ]
  },
  {
   "cell_type": "code",
   "execution_count": 191,
   "metadata": {},
   "outputs": [
    {
     "data": {
      "text/plain": [
       "243.58284428327411"
      ]
     },
     "execution_count": 191,
     "metadata": {},
     "output_type": "execute_result"
    }
   ],
   "source": [
    "timeframe"
   ]
  },
  {
   "cell_type": "code",
   "execution_count": 192,
   "metadata": {
    "scrolled": false
   },
   "outputs": [
    {
     "data": {
      "image/png": "[encoded data removed]",
      "text/plain": [
       "<Figure size 1440x432 with 1 Axes>"
      ]
     },
     "metadata": {},
     "output_type": "display_data"
    }
   ],
   "source": [
    "# Plot mit Gantt-Diagram\n",
    "fig, ax = plt.subplots(figsize=(20,6))\n",
    "i = 0\n",
    "while i < numberImages:\n",
    "    if i == 0:\n",
    "        ax.hlines(xmin=startTimeFrameList[i]-meanStartMeasurementDataTime - zeroOffset,\n",
    "                  xmax=startTimeFrameList[i]-zeroOffset + meanStopMeasurementToEndTimeframeTime + timeframe,y=1, colors=\"lavender\", lw=50)\n",
    "        ax.hlines(xmin=startTimeFrameList[i] - zeroOffset,xmax=startTimeFrameList[i]+ timeframe - zeroOffset,y=2, colors=\"lightsteelblue\", lw=50)\n",
    "        ax.hlines(xmin=startExposureTimeList[i] - zeroOffset,xmax=exposureTimeList[i] - zeroOffset,y=3, colors=\"blue\", lw=50)\n",
    "        ax.hlines(xmin=meanCaptureImagesTimeList[i] + meanStopMeasurementTime - zeroOffset,xmax=meanCaptureImagesTimeList[i] + 60 - zeroOffset,\n",
    "                  y=4, colors=\"dimgrey\", lw=50)\n",
    "    else:\n",
    "        ax.hlines(xmin=startTimeFrameList[i]-meanStartMeasurementDataTime - zeroOffset,xmax=meanCaptureImagesTimeList[i] + meanStopMeasurementTime - zeroOffset,\n",
    "                  y=1, colors=\"lavender\", lw=50)\n",
    "\n",
    "    i = i + 1\n",
    "\n",
    "def formatter(y, pos):\n",
    "    if y == 1:\n",
    "        return 'Messwerterfassung'\n",
    "    if y == 2:\n",
    "        return 'Messwerte im relevanten Zeitfenster'\n",
    "    if y == 3:\n",
    "        return 'Belichtungszeit'\n",
    "    if y == 4:\n",
    "        return 'Lesen und schreiben der Daten'\n",
    "    else:\n",
    "        return ''\n",
    "\n",
    "plt.gca().yaxis.set_major_formatter(ticker.FuncFormatter(formatter))\n",
    "plt.xlabel('t/ms',fontsize=14)\n",
    "plt.title('Mittelwerte des zeitlichen Ablaufs der Datenerfassung',fontsize=18)\n",
    "plt.grid()\n",
    "plt.yticks(fontsize=14)\n",
    "plt.xticks(fontsize=14)\n",
    "plt.xlim(0,)#startTimeFrameList[1]-meanStartMeasurementDataTime-60)\n",
    "plt.ylim(0,4.5)\n",
    "plt.rcParams[\"legend.fontsize\"] = 14"
   ]
  },
  {
   "cell_type": "code",
   "execution_count": 198,
   "metadata": {},
   "outputs": [
    {
     "data": {
      "image/png": "[encoded data removed]",
      "text/plain": [
       "<Figure size 1440x432 with 1 Axes>"
      ]
     },
     "metadata": {},
     "output_type": "display_data"
    }
   ],
   "source": [
    "# Plot mit stem Diagrammen\n",
    "fig, ax = plt.subplots(figsize=(20,6))\n",
    "i = 0\n",
    "while i < numberImages:\n",
    "    if i == 0:\n",
    "        # Messwerterfassung\n",
    "        x = np.linspace(startTimeFrameList[i]-meanStartMeasurementDataTime - zeroOffset,\n",
    "                        startTimeFrameList[i]-zeroOffset + meanStopMeasurementToEndTimeframeTime + timeframe, \n",
    "                        int((meanStartMeasurementDataTime  + meanStopMeasurementToEndTimeframeTime + timeframe) / measuredDataPerMs))\n",
    "        (markers, stemlines, baseline) = plt.stem(x, np.full((x.size), 1.3), linefmt='C7-', basefmt='None', bottom=0.65, markerfmt='wo')\n",
    "        plt.setp(stemlines, linestyle=\"-\", color=\"C7\", linewidth=1.5)\n",
    "        plt.setp(markers, markeredgecolor='C7', markersize=10, markeredgewidth=1.5, zorder=3)\n",
    "        # Zeitfenster\n",
    "        x = np.linspace(startTimeFrameList[i] - zeroOffset,startTimeFrameList[i]+timeframe - zeroOffset, \n",
    "                        int(featuresDf['Anzahl der Messwerte'].mean()))\n",
    "        (markers, stemlines, baseline) = plt.stem(x, np.full((x.size), 2.3), 'b-', basefmt='None', bottom=1.65, markerfmt='wo')\n",
    "        plt.setp(stemlines, linestyle=\"-\", color=\"b\", linewidth=1.5)\n",
    "        plt.setp(markers, markeredgecolor='b', markersize=10, markeredgewidth=1.5, zorder=3)\n",
    "        # Belichtungszeit\n",
    "        ax.hlines(xmin=startExposureTimeList[i] - zeroOffset,xmax=exposureTimeList[i] - zeroOffset,y=3, colors=\"blue\", lw=50)\n",
    "        # Lesen und schreiben der Daten\n",
    "        ax.hlines(xmin=meanCaptureImagesTimeList[i] + meanStopMeasurementTime - zeroOffset,xmax=meanCaptureImagesTimeList[i] + 190 - zeroOffset,\n",
    "              y=4, colors=\"dimgrey\", lw=50)\n",
    "    else:\n",
    "        # Messwerterfassung\n",
    "        x = np.linspace(startTimeFrameList[i]-meanStartMeasurementDataTime - zeroOffset,\n",
    "                        meanCaptureImagesTimeList[i] + meanStopMeasurementTime - zeroOffset, \n",
    "                        int((meanCaptureImagesTimeList[0] + meanStopMeasurementTime - zeroOffset) / measuredDataPerMs))\n",
    "        (markers, stemlines, baseline) = plt.stem(x, np.full((x.size), 1.3), linefmt='C7-', basefmt='None', bottom=0.65, markerfmt='wo')\n",
    "        plt.setp(stemlines, linestyle=\"-\", color=\"C7\", linewidth=1.5)\n",
    "        plt.setp(markers, markeredgecolor='C7', markersize=10, markeredgewidth=1.5, zorder=3)\n",
    "    i = i + 1\n",
    "\n",
    "def formatter(y, pos):\n",
    "    if y == 1:\n",
    "        return 'Messwerterfassung'\n",
    "    if y == 2:\n",
    "        return 'Messwerte im \\n relevanten Zeitfenster'\n",
    "    if y == 3:\n",
    "        return 'Belichtungszeit'\n",
    "    if y == 4:\n",
    "        return 'Lesen und schreiben \\n der Daten'\n",
    "    else:\n",
    "        return ''\n",
    "\n",
    "plt.gca().yaxis.set_major_formatter(ticker.FuncFormatter(formatter))\n",
    "plt.xlabel('t/ms',fontsize=14)\n",
    "plt.title('Mittelwerte des zeitlichen Ablaufs der Datenerfassung: Dynamisches Zeitfenster Mittelwert t=243,58ms',fontsize=18)\n",
    "plt.grid()\n",
    "plt.yticks(fontsize=14)\n",
    "plt.xticks(fontsize=14)\n",
    "plt.xlim(0,startTimeFrameList[1]-meanStartMeasurementDataTime - 210)\n",
    "plt.ylim(0,4.5)\n",
    "plt.rcParams[\"legend.fontsize\"] = 14\n",
    "#plt.savefig('mittelwerteZeitlicherAblaufTDynamischesZeitfenster')"
   ]
  },
  {
   "cell_type": "markdown",
   "metadata": {},
   "source": [
    "### Diagram mit Min und Max Zeitwerten"
   ]
  },
  {
   "cell_type": "code",
   "execution_count": 229,
   "metadata": {},
   "outputs": [
    {
     "data": {
      "text/plain": [
       "0.76300699999999999"
      ]
     },
     "execution_count": 229,
     "metadata": {},
     "output_type": "execute_result"
    }
   ],
   "source": [
    "# Weise Min und Max Zeitwerte zu Variablen zu\n",
    "minExposureTime = featuresDf['Belichtungszeit in ns'].min() / 1000000\n",
    "minExposureTime"
   ]
  },
  {
   "cell_type": "code",
   "execution_count": 230,
   "metadata": {},
   "outputs": [
    {
     "data": {
      "text/plain": [
       "29.996324000000001"
      ]
     },
     "execution_count": 230,
     "metadata": {},
     "output_type": "execute_result"
    }
   ],
   "source": [
    "maxExposureTime = featuresDf['Belichtungszeit in ns'].max() / 1000000\n",
    "maxExposureTime"
   ]
  },
  {
   "cell_type": "code",
   "execution_count": 234,
   "metadata": {},
   "outputs": [
    {
     "data": {
      "text/plain": [
       "192.812453"
      ]
     },
     "execution_count": 234,
     "metadata": {},
     "output_type": "execute_result"
    }
   ],
   "source": [
    "# Max Zeit vom Stopp der Messwerterfassung zum Ende des Zeitfensters\n",
    "maxStopMeasurementToEndTimeframeTime =(featuresDf['Letzter Zeitstempel der Messwerterfassung in ns seit Start der JVM'] \n",
    "                          - (featuresDf['Start des Zeitfensters in ns seit Start der JVM'] + (timeframe * 1000000))).max()\n",
    "maxStopMeasurementToEndTimeframeTime = maxStopMeasurementToEndTimeframeTime / 1000000\n",
    "minStopMeasurementToEndTimeframeTime =(featuresDf['Letzter Zeitstempel der Messwerterfassung in ns seit Start der JVM'] \n",
    "                          - (featuresDf['Start des Zeitfensters in ns seit Start der JVM'] + (timeframe * 1000000))).min()\n",
    "minStopMeasurementToEndTimeframeTime = minStopMeasurementToEndTimeframeTime / 1000000\n",
    "minStopMeasurementToEndTimeframeTime"
   ]
  },
  {
   "cell_type": "code",
   "execution_count": 232,
   "metadata": {},
   "outputs": [
    {
     "data": {
      "text/plain": [
       "192.812453"
      ]
     },
     "execution_count": 232,
     "metadata": {},
     "output_type": "execute_result"
    }
   ],
   "source": [
    "minStopMeasurementToEndTimeframeTime"
   ]
  },
  {
   "cell_type": "code",
   "execution_count": 233,
   "metadata": {},
   "outputs": [
    {
     "data": {
      "text/plain": [
       "-266"
      ]
     },
     "execution_count": 233,
     "metadata": {},
     "output_type": "execute_result"
    }
   ],
   "source": [
    "maxStopMeasurementTime = (featuresDf['Zeitstempel in Unixzeit'] - featuresDf['Stopp der Messwerterfassung in Unixzeit']).max()\n",
    "maxStopMeasurementTime"
   ]
  },
  {
   "cell_type": "code",
   "execution_count": 204,
   "metadata": {},
   "outputs": [],
   "source": [
    "minStopMeasurementTime = (featuresDf['Zeitstempel in Unixzeit'] - featuresDf['Stopp der Messwerterfassung in Unixzeit']).min()"
   ]
  },
  {
   "cell_type": "code",
   "execution_count": 206,
   "metadata": {},
   "outputs": [
    {
     "data": {
      "text/plain": [
       "156.20198099999999"
      ]
     },
     "execution_count": 206,
     "metadata": {},
     "output_type": "execute_result"
    }
   ],
   "source": [
    "# vom Start der Messwert Datenerfassung bis zum Start des Zeitfensters in ms\n",
    "maxStartMeasurementDataTime = (featuresDf['Start des Zeitfensters in ns seit Start der JVM'] - featuresDf['Start der Messwerterfassung in ns seit Start der JVM']).max()\n",
    "maxStartMeasurementDataTime = maxStartMeasurementDataTime / 1000000\n",
    "minStartMeasurementDataTime = (featuresDf['Start des Zeitfensters in ns seit Start der JVM'] - featuresDf['Start der Messwerterfassung in ns seit Start der JVM']).min()\n",
    "minStartMeasurementDataTime = minStartMeasurementDataTime / 1000000\n",
    "maxStartMeasurementDataTime"
   ]
  },
  {
   "cell_type": "code",
   "execution_count": 169,
   "metadata": {},
   "outputs": [
    {
     "data": {
      "text/plain": [
       "35516   -71.199596\n",
       "45468   -60.613824\n",
       "55901   -27.698738\n",
       "59990   -36.910677\n",
       "97012   -22.063082\n",
       "dtype: float64"
      ]
     },
     "execution_count": 169,
     "metadata": {},
     "output_type": "execute_result"
    }
   ],
   "source": [
    "minStartMeasurementDataTimeOutlier = featuresDf[(featuresDf['Start des Zeitfensters in ns seit Start der JVM'] - featuresDf['Start der Messwerterfassung in ns seit Start der JVM']) < 0]\n",
    "(minStartMeasurementDataTimeOutlier['Start des Zeitfensters in ns seit Start der JVM'] - minStartMeasurementDataTimeOutlier['Start der Messwerterfassung in ns seit Start der JVM']) / 1000000"
   ]
  },
  {
   "cell_type": "code",
   "execution_count": 262,
   "metadata": {},
   "outputs": [],
   "source": [
    "# Listen die mit den entsprechenden Vielfachen der Zeitangaben gefüllt werden\n",
    "maxExposureOffset = (timeframe - maxExposureTime) / 2\n",
    "minExposureOffset = (timeframe - minExposureTime) / 2\n",
    "# Abstand zwischen zwei Bildern\n",
    "meanCaptureImagesTime = meanCaptureImagesTime\n",
    "# Messwerterfassung\n",
    "startMaxTimeFrame = meanCaptureImagesTime - maxStopMeasurementToEndTimeframeTime - maxStopMeasurementTime - timeframe\n",
    "startMinTimeFrame = meanCaptureImagesTime - minStopMeasurementToEndTimeframeTime - minStopMeasurementTime - timeframe\n",
    "#Zeitfenster\n",
    "startMaxExposureTime = startMinTimeFrame + maxExposureOffset\n",
    "startMinExposureTime = startMinTimeFrame + minExposureOffset\n",
    "# Belichtungszeit\n",
    "exposureMaxTime = startMaxExposureTime + maxExposureTime\n",
    "exposureMinTime = startMinExposureTime + minExposureTime"
   ]
  },
  {
   "cell_type": "code",
   "execution_count": 263,
   "metadata": {},
   "outputs": [
    {
     "data": {
      "text/plain": [
       "-40.850121999999999"
      ]
     },
     "execution_count": 263,
     "metadata": {},
     "output_type": "execute_result"
    }
   ],
   "source": [
    "zeroOffsetMinMax = startMaxTimeFrame - maxStartMeasurementDataTime\n",
    "zeroOffsetMinMax"
   ]
  },
  {
   "cell_type": "code",
   "execution_count": 264,
   "metadata": {},
   "outputs": [
    {
     "data": {
      "text/plain": [
       "104.170298"
      ]
     },
     "execution_count": 264,
     "metadata": {},
     "output_type": "execute_result"
    }
   ],
   "source": [
    "maxStartMeasurementDataTime"
   ]
  },
  {
   "cell_type": "code",
   "execution_count": 271,
   "metadata": {},
   "outputs": [
    {
     "data": {
      "text/plain": [
       "12"
      ]
     },
     "execution_count": 271,
     "metadata": {},
     "output_type": "execute_result"
    }
   ],
   "source": [
    "maxStopMeasurementTime"
   ]
  },
  {
   "cell_type": "code",
   "execution_count": 286,
   "metadata": {},
   "outputs": [
    {
     "data": {
      "image/png": "[encoded data removed]",
      "text/plain": [
       "<Figure size 1440x432 with 1 Axes>"
      ]
     },
     "metadata": {},
     "output_type": "display_data"
    }
   ],
   "source": [
    "# Plot mit Min und Max Zeitangaben\n",
    "fig, ax = plt.subplots(figsize=(20,6))\n",
    "# Messwerterfassung\n",
    "x = np.linspace(0,maxStartMeasurementDataTime+timeframe+maxStopMeasurementToEndTimeframeTime, \n",
    "                        int((maxStartMeasurementDataTime+timeframe+maxStopMeasurementToEndTimeframeTime)/measuredDataPerMs))\n",
    "(markers, stemlines, baseline) = plt.stem(x, np.full((x.size), 1), linefmt='C7-', basefmt='None', bottom=0.5, markerfmt='wo')\n",
    "plt.setp(stemlines, linestyle=\"-\", color=\"C7\", linewidth=1.5)\n",
    "plt.setp(markers, markeredgecolor='C7', markersize=10, markeredgewidth=1.5, zorder=3)\n",
    "ax.hlines(xmin=minStartMeasurementDataTime + timeframe + minStopMeasurementToEndTimeframeTime - 0.5,\n",
    "          xmax=minStartMeasurementDataTime + timeframe + minStopMeasurementToEndTimeframeTime + 0.5,\n",
    "          y=0.77, colors=\"black\", lw=48, zorder=4)\n",
    "# Zeitfenster\n",
    "x = np.linspace(minStartMeasurementDataTime,maxStartMeasurementDataTime+timeframe, \n",
    "                int((maxStartMeasurementDataTime+timeframe-minStartMeasurementDataTime)/ measuredDataPerMs))\n",
    "(markers, stemlines, baseline) = plt.stem(x, np.full((x.size), 2), 'b-', basefmt='None', bottom=1.5, markerfmt='wo')\n",
    "plt.setp(stemlines, linestyle=\"-\", color=\"b\", linewidth=1.5)\n",
    "plt.setp(markers, markeredgecolor='b', markersize=10, markeredgewidth=1.5, zorder=3)\n",
    "# Min Start des Zeitfensters\n",
    "ax.hlines(xmin=minStartMeasurementDataTime+timeframe-0.5,xmax=minStartMeasurementDataTime+timeframe+0.5,y=1.77, colors=\"black\", lw=48, zorder=4)\n",
    "# Max Start des Zeitfensters\n",
    "ax.hlines(xmin=maxStartMeasurementDataTime-0.5,xmax=maxStartMeasurementDataTime+0.5,y=1.77, colors=\"red\", lw=48, zorder=4)\n",
    "# Belichtungszeit\n",
    "ax.hlines(xmin=minStartMeasurementDataTime + minExposureOffset,xmax=maxStartMeasurementDataTime+timeframe-minExposureOffset,y=2.5, colors=\"blue\", lw=40)\n",
    "ax.hlines(xmin=minStartMeasurementDataTime + minExposureOffset + minExposureTime-0.5,xmax=minStartMeasurementDataTime + minExposureOffset + minExposureTime + 0.5,y=2.5, colors=\"black\", lw=40)\n",
    "ax.hlines(xmin=maxStartMeasurementDataTime+timeframe-minExposureOffset-minExposureTime-0.5,xmax=maxStartMeasurementDataTime+timeframe-minExposureOffset-minExposureTime+0.5,y=2.5, colors=\"red\", lw=40)\n",
    "\n",
    "# Lesen und schreiben der Daten\n",
    "ax.hlines(xmin=minStartMeasurementDataTime+timeframe+minStopMeasurementToEndTimeframeTime-minStopMeasurementTime,xmax=meanCaptureImagesTime+meanStopMeasurementTime - zeroOffsetMinMax + 50,\n",
    "                  y=3.5, colors=\"dimgrey\", lw=40)\n",
    "\n",
    "def formatter(y, pos):\n",
    "    if y == 0.5:\n",
    "        return 'Messwerterfassung'\n",
    "    if y == 1.5:\n",
    "        return 'Zeitfenster'\n",
    "    if y == 2.5:\n",
    "        return 'Belichtungszeit'\n",
    "    if y == 3.5:\n",
    "        return 'Lesen und schreiben der Daten'\n",
    "    else:\n",
    "        return ''\n",
    "\n",
    "plt.gca().yaxis.set_major_formatter(ticker.FuncFormatter(formatter))\n",
    "plt.xlabel('t/ms',fontsize=14)\n",
    "plt.title('Min-Max Zeitabstände des zeitlichen Ablaufs der Datenerfassung',fontsize=18)\n",
    "plt.grid()\n",
    "plt.yticks(fontsize=14)\n",
    "plt.xticks(fontsize=14)\n",
    "plt.xlim(0,startTimeFrameList[1]-meanStartMeasurementDataTime)\n",
    "plt.ylim(0,4)\n",
    "plt.rcParams[\"legend.fontsize\"] = 14"
   ]
  },
  {
   "cell_type": "code",
   "execution_count": 78,
   "metadata": {},
   "outputs": [
    {
     "data": {
      "text/plain": [
       "381.35964799999999"
      ]
     },
     "execution_count": 78,
     "metadata": {},
     "output_type": "execute_result"
    }
   ],
   "source": [
    "(meanCaptureImagesTimeList[0] + maxStopMeasurementToEndTimeframeTime - startMaxTimeFrameList[0]-maxStopMeasurementTime)"
   ]
  },
  {
   "cell_type": "code",
   "execution_count": 74,
   "metadata": {},
   "outputs": [
    {
     "data": {
      "text/plain": [
       "215.97347183880814"
      ]
     },
     "execution_count": 74,
     "metadata": {},
     "output_type": "execute_result"
    }
   ],
   "source": [
    "meanCaptureImagesTimeList[0] + meanStopMeasurementTime - zeroOffset"
   ]
  },
  {
   "cell_type": "code",
   "execution_count": 77,
   "metadata": {},
   "outputs": [
    {
     "data": {
      "text/plain": [
       "90.856761651308119"
      ]
     },
     "execution_count": 77,
     "metadata": {},
     "output_type": "execute_result"
    }
   ],
   "source": [
    "meanCaptureImagesTimeList[0] + meanStopMeasurementTime - startTimeFrameList[0]-meanStartMeasurementDataTime"
   ]
  },
  {
   "cell_type": "code",
   "execution_count": null,
   "metadata": {},
   "outputs": [],
   "source": []
  }
 ],
 "metadata": {
  "kernelspec": {
   "display_name": "Python 3",
   "language": "python",
   "name": "python3"
  },
  "language_info": {
   "codemirror_mode": {
    "name": "ipython",
    "version": 3
   },
   "file_extension": ".py",
   "mimetype": "text/x-python",
   "name": "python",
   "nbconvert_exporter": "python",
   "pygments_lexer": "ipython3",
   "version": "3.6.4"
  },
  "toc": {
   "colors": {
    "hover_highlight": "#DAA520",
    "navigate_num": "#000000",
    "navigate_text": "#333333",
    "running_highlight": "#FF0000",
    "selected_highlight": "#FFD700",
    "sidebar_border": "#EEEEEE",
    "wrapper_background": "#FFFFFF"
   },
   "moveMenuLeft": true,
   "nav_menu": {
    "height": "49px",
    "width": "252px"
   },
   "navigate_menu": true,
   "number_sections": true,
   "sideBar": true,
   "threshold": 4,
   "toc_cell": false,
   "toc_section_display": "block",
   "toc_window_display": false,
   "widenNotebook": false
  }
 },
 "nbformat": 4,
 "nbformat_minor": 2
}
