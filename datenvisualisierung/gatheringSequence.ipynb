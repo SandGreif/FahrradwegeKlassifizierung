{
 "cells": [
  {
   "cell_type": "markdown",
   "metadata": {},
   "source": [
    "## Zeitlicher Ablauf der Datenerfassung\n",
    "\n",
    "### Einleitung\n",
    "\n",
    "In diesem Notebook geht es darum den zeitlichen Ablauf der Datenerfassung darzustellen.\n",
    "Dabei werden als zeitliche Kennzahlen die arithmetischen Mittelwerte genutzt.   \n",
    "Die Daten werden mit einer Smartphone Android App erfasst (https://github.com/SandGreif/Fahrradwege-Monitoring-App)."
   ]
  },
  {
   "cell_type": "code",
   "execution_count": 1,
   "metadata": {},
   "outputs": [],
   "source": [
    "import pandas\n",
    "import os\n",
    "%matplotlib inline \n",
    "import matplotlib.pyplot as plt"
   ]
  },
  {
   "cell_type": "code",
   "execution_count": 2,
   "metadata": {},
   "outputs": [
    {
     "data": {
      "text/html": [
       "<div>\n",
       "<style scoped>\n",
       "    .dataframe tbody tr th:only-of-type {\n",
       "        vertical-align: middle;\n",
       "    }\n",
       "\n",
       "    .dataframe tbody tr th {\n",
       "        vertical-align: top;\n",
       "    }\n",
       "\n",
       "    .dataframe thead th {\n",
       "        text-align: right;\n",
       "    }\n",
       "</style>\n",
       "<table border=\"1\" class=\"dataframe\">\n",
       "  <thead>\n",
       "    <tr style=\"text-align: right;\">\n",
       "      <th></th>\n",
       "      <th>Zeitstempel</th>\n",
       "      <th>Breitengrad</th>\n",
       "      <th>Laengengrad</th>\n",
       "      <th>Geschwindigkeit</th>\n",
       "      <th>Messwerte</th>\n",
       "      <th>StartZeitfenster</th>\n",
       "      <th>StartBewegungsdaten</th>\n",
       "      <th>StartBelichtung</th>\n",
       "      <th>Belichtungszeit</th>\n",
       "      <th>MittelX</th>\n",
       "      <th>...</th>\n",
       "      <th>VarianzX</th>\n",
       "      <th>VarianzY</th>\n",
       "      <th>VarianzZ</th>\n",
       "      <th>VarianzNick</th>\n",
       "      <th>VarianzRoll</th>\n",
       "      <th>AbweichungX</th>\n",
       "      <th>AbweichungY</th>\n",
       "      <th>AbweichungZ</th>\n",
       "      <th>AbweichungNick</th>\n",
       "      <th>AbweichungRoll</th>\n",
       "    </tr>\n",
       "  </thead>\n",
       "  <tbody>\n",
       "    <tr>\n",
       "      <th>count</th>\n",
       "      <td>4.983200e+04</td>\n",
       "      <td>49832.000000</td>\n",
       "      <td>49832.000000</td>\n",
       "      <td>49832.000000</td>\n",
       "      <td>49832.000000</td>\n",
       "      <td>4.983200e+04</td>\n",
       "      <td>4.983200e+04</td>\n",
       "      <td>4.983200e+04</td>\n",
       "      <td>4.983200e+04</td>\n",
       "      <td>49832.000000</td>\n",
       "      <td>...</td>\n",
       "      <td>49832.000000</td>\n",
       "      <td>49832.000000</td>\n",
       "      <td>49832.000000</td>\n",
       "      <td>49832.000000</td>\n",
       "      <td>49832.000000</td>\n",
       "      <td>49832.000000</td>\n",
       "      <td>49832.000000</td>\n",
       "      <td>49832.000000</td>\n",
       "      <td>49832.000000</td>\n",
       "      <td>49832.000000</td>\n",
       "    </tr>\n",
       "    <tr>\n",
       "      <th>mean</th>\n",
       "      <td>1.521224e+12</td>\n",
       "      <td>53.605875</td>\n",
       "      <td>10.124876</td>\n",
       "      <td>14.072868</td>\n",
       "      <td>19.367154</td>\n",
       "      <td>7.625330e+13</td>\n",
       "      <td>7.625324e+13</td>\n",
       "      <td>7.625334e+13</td>\n",
       "      <td>1.251697e+07</td>\n",
       "      <td>1.039408</td>\n",
       "      <td>...</td>\n",
       "      <td>3.883103</td>\n",
       "      <td>24.962929</td>\n",
       "      <td>39.812381</td>\n",
       "      <td>0.374660</td>\n",
       "      <td>0.621674</td>\n",
       "      <td>1.652709</td>\n",
       "      <td>4.056810</td>\n",
       "      <td>5.213922</td>\n",
       "      <td>0.552162</td>\n",
       "      <td>0.548176</td>\n",
       "    </tr>\n",
       "    <tr>\n",
       "      <th>std</th>\n",
       "      <td>7.284217e+07</td>\n",
       "      <td>0.028515</td>\n",
       "      <td>0.062429</td>\n",
       "      <td>3.577643</td>\n",
       "      <td>0.615640</td>\n",
       "      <td>3.231985e+13</td>\n",
       "      <td>3.231984e+13</td>\n",
       "      <td>3.231985e+13</td>\n",
       "      <td>7.872093e+06</td>\n",
       "      <td>0.662132</td>\n",
       "      <td>...</td>\n",
       "      <td>6.965085</td>\n",
       "      <td>49.019729</td>\n",
       "      <td>65.552239</td>\n",
       "      <td>0.338714</td>\n",
       "      <td>1.243568</td>\n",
       "      <td>1.073163</td>\n",
       "      <td>2.916401</td>\n",
       "      <td>3.553541</td>\n",
       "      <td>0.264156</td>\n",
       "      <td>0.566731</td>\n",
       "    </tr>\n",
       "    <tr>\n",
       "      <th>min</th>\n",
       "      <td>1.521124e+12</td>\n",
       "      <td>53.557396</td>\n",
       "      <td>10.002181</td>\n",
       "      <td>5.004000</td>\n",
       "      <td>6.000000</td>\n",
       "      <td>2.999506e+13</td>\n",
       "      <td>2.999499e+13</td>\n",
       "      <td>2.999509e+13</td>\n",
       "      <td>9.376720e+05</td>\n",
       "      <td>0.089458</td>\n",
       "      <td>...</td>\n",
       "      <td>0.012640</td>\n",
       "      <td>0.006250</td>\n",
       "      <td>0.066030</td>\n",
       "      <td>0.000690</td>\n",
       "      <td>0.000150</td>\n",
       "      <td>0.112430</td>\n",
       "      <td>0.079060</td>\n",
       "      <td>0.256960</td>\n",
       "      <td>0.026270</td>\n",
       "      <td>0.012250</td>\n",
       "    </tr>\n",
       "    <tr>\n",
       "      <th>25%</th>\n",
       "      <td>1.521128e+12</td>\n",
       "      <td>53.577670</td>\n",
       "      <td>10.072659</td>\n",
       "      <td>11.700000</td>\n",
       "      <td>19.000000</td>\n",
       "      <td>3.372892e+13</td>\n",
       "      <td>3.372885e+13</td>\n",
       "      <td>3.372895e+13</td>\n",
       "      <td>7.528958e+06</td>\n",
       "      <td>0.598467</td>\n",
       "      <td>...</td>\n",
       "      <td>0.879678</td>\n",
       "      <td>4.812448</td>\n",
       "      <td>7.693005</td>\n",
       "      <td>0.118540</td>\n",
       "      <td>0.027678</td>\n",
       "      <td>0.937910</td>\n",
       "      <td>2.193730</td>\n",
       "      <td>2.773625</td>\n",
       "      <td>0.344300</td>\n",
       "      <td>0.166363</td>\n",
       "    </tr>\n",
       "    <tr>\n",
       "      <th>50%</th>\n",
       "      <td>1.521212e+12</td>\n",
       "      <td>53.613132</td>\n",
       "      <td>10.140025</td>\n",
       "      <td>14.292000</td>\n",
       "      <td>19.000000</td>\n",
       "      <td>7.307148e+13</td>\n",
       "      <td>7.307141e+13</td>\n",
       "      <td>7.307151e+13</td>\n",
       "      <td>1.000184e+07</td>\n",
       "      <td>0.870627</td>\n",
       "      <td>...</td>\n",
       "      <td>1.914450</td>\n",
       "      <td>10.709740</td>\n",
       "      <td>17.597280</td>\n",
       "      <td>0.268690</td>\n",
       "      <td>0.088170</td>\n",
       "      <td>1.383635</td>\n",
       "      <td>3.272575</td>\n",
       "      <td>4.194910</td>\n",
       "      <td>0.518350</td>\n",
       "      <td>0.296930</td>\n",
       "    </tr>\n",
       "    <tr>\n",
       "      <th>75%</th>\n",
       "      <td>1.521297e+12</td>\n",
       "      <td>53.626503</td>\n",
       "      <td>10.162369</td>\n",
       "      <td>16.631998</td>\n",
       "      <td>20.000000</td>\n",
       "      <td>1.080197e+14</td>\n",
       "      <td>1.080196e+14</td>\n",
       "      <td>1.080197e+14</td>\n",
       "      <td>2.000368e+07</td>\n",
       "      <td>1.287063</td>\n",
       "      <td>...</td>\n",
       "      <td>4.265810</td>\n",
       "      <td>24.578618</td>\n",
       "      <td>42.988410</td>\n",
       "      <td>0.537238</td>\n",
       "      <td>0.554593</td>\n",
       "      <td>2.065380</td>\n",
       "      <td>4.957685</td>\n",
       "      <td>6.556550</td>\n",
       "      <td>0.732965</td>\n",
       "      <td>0.744712</td>\n",
       "    </tr>\n",
       "    <tr>\n",
       "      <th>max</th>\n",
       "      <td>1.521302e+12</td>\n",
       "      <td>53.656776</td>\n",
       "      <td>10.229659</td>\n",
       "      <td>24.804000</td>\n",
       "      <td>48.000000</td>\n",
       "      <td>1.122372e+14</td>\n",
       "      <td>1.122371e+14</td>\n",
       "      <td>1.122372e+14</td>\n",
       "      <td>3.287369e+07</td>\n",
       "      <td>10.997221</td>\n",
       "      <td>...</td>\n",
       "      <td>274.079180</td>\n",
       "      <td>990.233590</td>\n",
       "      <td>1172.286260</td>\n",
       "      <td>3.329020</td>\n",
       "      <td>18.654280</td>\n",
       "      <td>16.555340</td>\n",
       "      <td>31.467980</td>\n",
       "      <td>34.238670</td>\n",
       "      <td>1.824560</td>\n",
       "      <td>4.319060</td>\n",
       "    </tr>\n",
       "  </tbody>\n",
       "</table>\n",
       "<p>8 rows × 25 columns</p>\n",
       "</div>"
      ],
      "text/plain": [
       "        Zeitstempel   Breitengrad   Laengengrad  Geschwindigkeit  \\\n",
       "count  4.983200e+04  49832.000000  49832.000000     49832.000000   \n",
       "mean   1.521224e+12     53.605875     10.124876        14.072868   \n",
       "std    7.284217e+07      0.028515      0.062429         3.577643   \n",
       "min    1.521124e+12     53.557396     10.002181         5.004000   \n",
       "25%    1.521128e+12     53.577670     10.072659        11.700000   \n",
       "50%    1.521212e+12     53.613132     10.140025        14.292000   \n",
       "75%    1.521297e+12     53.626503     10.162369        16.631998   \n",
       "max    1.521302e+12     53.656776     10.229659        24.804000   \n",
       "\n",
       "          Messwerte  StartZeitfenster  StartBewegungsdaten  StartBelichtung  \\\n",
       "count  49832.000000      4.983200e+04         4.983200e+04     4.983200e+04   \n",
       "mean      19.367154      7.625330e+13         7.625324e+13     7.625334e+13   \n",
       "std        0.615640      3.231985e+13         3.231984e+13     3.231985e+13   \n",
       "min        6.000000      2.999506e+13         2.999499e+13     2.999509e+13   \n",
       "25%       19.000000      3.372892e+13         3.372885e+13     3.372895e+13   \n",
       "50%       19.000000      7.307148e+13         7.307141e+13     7.307151e+13   \n",
       "75%       20.000000      1.080197e+14         1.080196e+14     1.080197e+14   \n",
       "max       48.000000      1.122372e+14         1.122371e+14     1.122372e+14   \n",
       "\n",
       "       Belichtungszeit       MittelX       ...            VarianzX  \\\n",
       "count     4.983200e+04  49832.000000       ...        49832.000000   \n",
       "mean      1.251697e+07      1.039408       ...            3.883103   \n",
       "std       7.872093e+06      0.662132       ...            6.965085   \n",
       "min       9.376720e+05      0.089458       ...            0.012640   \n",
       "25%       7.528958e+06      0.598467       ...            0.879678   \n",
       "50%       1.000184e+07      0.870627       ...            1.914450   \n",
       "75%       2.000368e+07      1.287063       ...            4.265810   \n",
       "max       3.287369e+07     10.997221       ...          274.079180   \n",
       "\n",
       "           VarianzY      VarianzZ   VarianzNick   VarianzRoll   AbweichungX  \\\n",
       "count  49832.000000  49832.000000  49832.000000  49832.000000  49832.000000   \n",
       "mean      24.962929     39.812381      0.374660      0.621674      1.652709   \n",
       "std       49.019729     65.552239      0.338714      1.243568      1.073163   \n",
       "min        0.006250      0.066030      0.000690      0.000150      0.112430   \n",
       "25%        4.812448      7.693005      0.118540      0.027678      0.937910   \n",
       "50%       10.709740     17.597280      0.268690      0.088170      1.383635   \n",
       "75%       24.578618     42.988410      0.537238      0.554593      2.065380   \n",
       "max      990.233590   1172.286260      3.329020     18.654280     16.555340   \n",
       "\n",
       "        AbweichungY   AbweichungZ  AbweichungNick  AbweichungRoll  \n",
       "count  49832.000000  49832.000000    49832.000000    49832.000000  \n",
       "mean       4.056810      5.213922        0.552162        0.548176  \n",
       "std        2.916401      3.553541        0.264156        0.566731  \n",
       "min        0.079060      0.256960        0.026270        0.012250  \n",
       "25%        2.193730      2.773625        0.344300        0.166363  \n",
       "50%        3.272575      4.194910        0.518350        0.296930  \n",
       "75%        4.957685      6.556550        0.732965        0.744712  \n",
       "max       31.467980     34.238670        1.824560        4.319060  \n",
       "\n",
       "[8 rows x 25 columns]"
      ]
     },
     "execution_count": 2,
     "metadata": {},
     "output_type": "execute_result"
    }
   ],
   "source": [
    "featuresDf = pandas.read_csv(\"../daten/merkmale.csv\")\n",
    "featuresDf.describe()"
   ]
  },
  {
   "cell_type": "code",
   "execution_count": 32,
   "metadata": {},
   "outputs": [
    {
     "data": {
      "text/plain": [
       "12.51697357946701"
      ]
     },
     "execution_count": 32,
     "metadata": {},
     "output_type": "execute_result"
    }
   ],
   "source": [
    "# Mittelwert der Belichtungszeit aller Aufnahmen umgerechnet in ms\n",
    "meanExposureTime = featuresDf.Belichtungszeit.mean() / 1000000\n",
    "meanExposureTime"
   ]
  },
  {
   "cell_type": "code",
   "execution_count": 36,
   "metadata": {},
   "outputs": [
    {
     "data": {
      "text/plain": [
       "19.36715363621769"
      ]
     },
     "execution_count": 36,
     "metadata": {},
     "output_type": "execute_result"
    }
   ],
   "source": [
    "# Mittelwert Anzahl der Messwerte pro Merkmal\n",
    "featuresDf.Messwerte.mean()"
   ]
  },
  {
   "cell_type": "code",
   "execution_count": 25,
   "metadata": {},
   "outputs": [
    {
     "data": {
      "text/plain": [
       "62818063.953125"
      ]
     },
     "execution_count": 25,
     "metadata": {},
     "output_type": "execute_result"
    }
   ],
   "source": [
    "# Mittelwert vom Start der Messwert Datenerfassung \n",
    "# zu den erfassten Daten gehören von den Beschleunigungssensor die 3-Achsen Messwerte\n",
    "meanStartMeasurementDataTime = featuresDf.StartZeitfenster.mean() - featuresDf.StartBewegungsdaten.mean()\n",
    "meanStartMeasurementDataTimeToStartTimeframeTime"
   ]
  },
  {
   "cell_type": "markdown",
   "metadata": {},
   "source": [
    "Bei der Berechnung des zeitlichen Abstandes von erfassten Bildaufnahmen ist zu beachten, dass die verwendete Daten aus einer Datenerfassungsserie stammen also einem Datensatz.      \n",
    "Als Kennwert wird nämlich die Zeitstempel Spalte aus der Merkmal CSV Datei genutzt. Der Zeitstempel gibt an, wann das Bild aufgenommen wurde in Unixzeit. Zwischen zwei erfassten    \n",
    "Datensätzen ist meistens einige Zeit mehr vergangen. Deshalb wird für die Berechnung ein Datensatz genutzt. Der angegebene Zeitwert wird in dem Notebook frameRate berechnet in dem Ordner datenanalyse. "
   ]
  },
  {
   "cell_type": "code",
   "execution_count": 33,
   "metadata": {},
   "outputs": [],
   "source": [
    "# Mittelwert des Abstandes bis das nächste Bild aufgenommen wurde von den Datensatz 15 mit 305.906 ms aufgerundet auf 306 Ms.\n",
    "# Hierbei ist zu beachten \n",
    "meanCaptureImagesTime = 306 "
   ]
  },
  {
   "cell_type": "code",
   "execution_count": 35,
   "metadata": {},
   "outputs": [],
   "source": [
    "# In dieser Zelle werden die Vielfachen der Mittelwerte in Listen angehängt, um exemplarisch\n",
    "# den weiteren Verlauf einer Datenserie mit gemittelten Zeitwerten in einem Diagram darzustellen.\n",
    "\n",
    "# Anzahl der Bilder\n",
    "numberImages = 4\n",
    "imageCounter = 1\n",
    "# Listen die mit den entsprechenden Vielfachen der Zeitangaben gefüllt werden\n",
    "meanCaptureImagesTimeList = []\n",
    "while imageCounter <= numberImages:\n",
    "    meanCaptureImagesTimeList.append(meanCaptureImagesTime * imageCounter)\n",
    "    imageCounter = imageCounter + 1\n"
   ]
  },
  {
   "cell_type": "code",
   "execution_count": 23,
   "metadata": {},
   "outputs": [
    {
     "data": {
      "text/plain": [
       "[306, 612, 918, 1224]"
      ]
     },
     "execution_count": 23,
     "metadata": {},
     "output_type": "execute_result"
    }
   ],
   "source": [
    "meanCaptureImagesTimeList"
   ]
  },
  {
   "cell_type": "code",
   "execution_count": 27,
   "metadata": {},
   "outputs": [
    {
     "ename": "TypeError",
     "evalue": "unsupported operand type(s) for /: 'list' and 'int'",
     "output_type": "error",
     "traceback": [
      "\u001b[1;31m---------------------------------------------------------------------------\u001b[0m",
      "\u001b[1;31mTypeError\u001b[0m                                 Traceback (most recent call last)",
      "\u001b[1;32m<ipython-input-27-049a4aa9eb08>\u001b[0m in \u001b[0;36m<module>\u001b[1;34m()\u001b[0m\n\u001b[1;32m----> 1\u001b[1;33m \u001b[0mmeanExposureTimeList\u001b[0m \u001b[1;33m/\u001b[0m \u001b[1;36m1000\u001b[0m\u001b[1;33m\u001b[0m\u001b[0m\n\u001b[0m",
      "\u001b[1;31mTypeError\u001b[0m: unsupported operand type(s) for /: 'list' and 'int'"
     ]
    }
   ],
   "source": [
    "meanExposureTimeList"
   ]
  },
  {
   "cell_type": "code",
   "execution_count": null,
   "metadata": {},
   "outputs": [],
   "source": []
  }
 ],
 "metadata": {
  "kernelspec": {
   "display_name": "Python 3",
   "language": "python",
   "name": "python3"
  },
  "language_info": {
   "codemirror_mode": {
    "name": "ipython",
    "version": 3
   },
   "file_extension": ".py",
   "mimetype": "text/x-python",
   "name": "python",
   "nbconvert_exporter": "python",
   "pygments_lexer": "ipython3",
   "version": "3.6.4"
  },
  "toc": {
   "colors": {
    "hover_highlight": "#DAA520",
    "navigate_num": "#000000",
    "navigate_text": "#333333",
    "running_highlight": "#FF0000",
    "selected_highlight": "#FFD700",
    "sidebar_border": "#EEEEEE",
    "wrapper_background": "#FFFFFF"
   },
   "moveMenuLeft": true,
   "nav_menu": {
    "height": "49px",
    "width": "252px"
   },
   "navigate_menu": true,
   "number_sections": true,
   "sideBar": true,
   "threshold": 4,
   "toc_cell": false,
   "toc_section_display": "block",
   "toc_window_display": false,
   "widenNotebook": false
  }
 },
 "nbformat": 4,
 "nbformat_minor": 2
}
