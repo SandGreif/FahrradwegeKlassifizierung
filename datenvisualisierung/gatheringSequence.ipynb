{
 "cells": [
  {
   "cell_type": "markdown",
   "metadata": {},
   "source": [
    "# Zeitlicher Ablauf der Datenerfassung\n",
    "\n",
    "Einleitung\n",
    " ------\n",
    "In diesem Notebook geht es darum den zeitlichen Ablauf der Datenerfassung darzustellen.\n",
    "Dabei werden als zeitliche Kennzahlen die arithmetischen Mittelwerte genutzt sowie die min und maximal Zeitwerte.     \n",
    "Die Daten werden mit einer Smartphone Android App erfasst (https://github.com/SandGreif/Fahrradwege-Monitoring-App).\n",
    "\n",
    "<img src=\"../daten/abbildungen/mittelwerteZeitlicherAblaufT80.png\" alr=\"Mittelwerte des zeitlichen Ablaufs der Datenerfassung. Zeitfenster Mittelwert t=80ms\">\n",
    "Abbildung 1: Zeitfenster Mittelwert t=80ms. Datensätze 15 bis 22\n",
    "\n",
    "<img src=\"../daten/abbildungen/mittelwerteZeitlicherAblaufT500.png\" alt=\" Mittelwerte des zeitlichen Ablaufs der Datenerfassung. Zeitfenster Mittelwert t=500ms\">\n",
    "Abbildung 2: Zeitfenster Mittelwert t=500ms. Datensätze 26 bis 27\n",
    "\n",
    "<img src=\"../daten/abbildungen/mittelwerteZeitlicherAblaufTDynamischesZeitfenster.png\" alt=\"Mittelwerte des zeitlichen Ablaufs der Datenerfassung: Dynamisches Zeitfenster Mittelwert t=243,58ms\">\n",
    "Abbildung 3: Dynamisches Zeitfenster Mittelwert t=243,58ms. Datensätze 28 bis 29\n",
    "\n",
    "Auf Abb. 2 - 3 wurde noch vom Ende des Zeitfensters bis zum Stopp der Messwerterfassung die nicht optimierte Version verwendet. Also der Zeitabstand ist doppelt so lang wie nötig zwischen dem fertig aufgenommenen Bild bis zum Stopp der Messwerterfassung. Außerdem ist die Dauer t des y Wert \"Lesen und Schreiben der Daten\" eine Schätzung auf Abb. 1-3. Erst bei späteren Datenerfassungen wird das tatsächliche Ende abgespeichert."
   ]
  },
  {
   "cell_type": "code",
   "execution_count": 1,
   "metadata": {},
   "outputs": [],
   "source": [
    "import pandas\n",
    "import os\n",
    "import numpy as np\n",
    "%matplotlib inline \n",
    "import matplotlib.pyplot as plt\n",
    "import matplotlib.ticker as ticker\n",
    "import matplotlib.patches as mpatches"
   ]
  },
  {
   "cell_type": "code",
   "execution_count": 2,
   "metadata": {},
   "outputs": [],
   "source": [
    "featuresDf = pandas.read_csv(filepath_or_buffer=\"E:/bachelor/daten/2018_4_30_13_4/1/merkmaleRoh.csv\")"
   ]
  },
  {
   "cell_type": "code",
   "execution_count": 3,
   "metadata": {},
   "outputs": [
    {
     "data": {
      "text/html": [
       "<div>\n",
       "<style scoped>\n",
       "    .dataframe tbody tr th:only-of-type {\n",
       "        vertical-align: middle;\n",
       "    }\n",
       "\n",
       "    .dataframe tbody tr th {\n",
       "        vertical-align: top;\n",
       "    }\n",
       "\n",
       "    .dataframe thead th {\n",
       "        text-align: right;\n",
       "    }\n",
       "</style>\n",
       "<table border=\"1\" class=\"dataframe\">\n",
       "  <thead>\n",
       "    <tr style=\"text-align: right;\">\n",
       "      <th></th>\n",
       "      <th>Zeitstempel in Unixzeit</th>\n",
       "      <th>Breitengrad</th>\n",
       "      <th>Laengengrad</th>\n",
       "      <th>Geschwindigkeit in km/h</th>\n",
       "      <th>Anzahl der Messwerte</th>\n",
       "      <th>Start des Zeitfensters in ns seit Start der JVM</th>\n",
       "      <th>Zeitstempel Messwertdaten anfordern in Unixzeit</th>\n",
       "      <th>Start der Messwerterfassung in ns seit Start der JVM</th>\n",
       "      <th>Erster Zeitstempel der Teilliste in ns seit Start der JVM</th>\n",
       "      <th>Start der Belichtung in ns seit Start der JVM</th>\n",
       "      <th>Belichtungszeit in ns</th>\n",
       "      <th>Letzter Zeitstempel der Messwerterfassung in ns seit Start der JVM</th>\n",
       "      <th>Speicherzeitpunkt der Merkmale in Unixzeit</th>\n",
       "    </tr>\n",
       "  </thead>\n",
       "  <tbody>\n",
       "    <tr>\n",
       "      <th>count</th>\n",
       "      <td>9.800000e+02</td>\n",
       "      <td>980.000000</td>\n",
       "      <td>980.000000</td>\n",
       "      <td>980.000000</td>\n",
       "      <td>980.000000</td>\n",
       "      <td>9.800000e+02</td>\n",
       "      <td>9.800000e+02</td>\n",
       "      <td>9.800000e+02</td>\n",
       "      <td>9.800000e+02</td>\n",
       "      <td>9.800000e+02</td>\n",
       "      <td>9.800000e+02</td>\n",
       "      <td>9.800000e+02</td>\n",
       "      <td>9.800000e+02</td>\n",
       "    </tr>\n",
       "    <tr>\n",
       "      <th>mean</th>\n",
       "      <td>1.527679e+12</td>\n",
       "      <td>53.611860</td>\n",
       "      <td>10.141444</td>\n",
       "      <td>15.920633</td>\n",
       "      <td>29.334694</td>\n",
       "      <td>6.720544e+13</td>\n",
       "      <td>1.527679e+12</td>\n",
       "      <td>6.709912e+13</td>\n",
       "      <td>6.720457e+13</td>\n",
       "      <td>6.720556e+13</td>\n",
       "      <td>4.880671e+06</td>\n",
       "      <td>6.720600e+13</td>\n",
       "      <td>1.527679e+12</td>\n",
       "    </tr>\n",
       "    <tr>\n",
       "      <th>std</th>\n",
       "      <td>1.768921e+05</td>\n",
       "      <td>0.001924</td>\n",
       "      <td>0.004416</td>\n",
       "      <td>4.125503</td>\n",
       "      <td>8.607324</td>\n",
       "      <td>1.769035e+11</td>\n",
       "      <td>1.768028e+05</td>\n",
       "      <td>1.732570e+11</td>\n",
       "      <td>1.769657e+11</td>\n",
       "      <td>1.768912e+11</td>\n",
       "      <td>5.136466e+06</td>\n",
       "      <td>1.768025e+11</td>\n",
       "      <td>1.767992e+05</td>\n",
       "    </tr>\n",
       "    <tr>\n",
       "      <th>min</th>\n",
       "      <td>1.527678e+12</td>\n",
       "      <td>53.608086</td>\n",
       "      <td>10.136191</td>\n",
       "      <td>5.507999</td>\n",
       "      <td>15.000000</td>\n",
       "      <td>6.687435e+13</td>\n",
       "      <td>1.527678e+12</td>\n",
       "      <td>6.687418e+13</td>\n",
       "      <td>6.687418e+13</td>\n",
       "      <td>6.687468e+13</td>\n",
       "      <td>8.641290e+05</td>\n",
       "      <td>6.687601e+13</td>\n",
       "      <td>1.527678e+12</td>\n",
       "    </tr>\n",
       "    <tr>\n",
       "      <th>25%</th>\n",
       "      <td>1.527678e+12</td>\n",
       "      <td>53.610184</td>\n",
       "      <td>10.137041</td>\n",
       "      <td>13.392000</td>\n",
       "      <td>24.000000</td>\n",
       "      <td>6.705460e+13</td>\n",
       "      <td>1.527678e+12</td>\n",
       "      <td>6.687418e+13</td>\n",
       "      <td>6.705377e+13</td>\n",
       "      <td>6.705470e+13</td>\n",
       "      <td>1.507630e+06</td>\n",
       "      <td>6.705511e+13</td>\n",
       "      <td>1.527678e+12</td>\n",
       "    </tr>\n",
       "    <tr>\n",
       "      <th>50%</th>\n",
       "      <td>1.527679e+12</td>\n",
       "      <td>53.612270</td>\n",
       "      <td>10.140607</td>\n",
       "      <td>15.336000</td>\n",
       "      <td>28.000000</td>\n",
       "      <td>6.721652e+13</td>\n",
       "      <td>1.527679e+12</td>\n",
       "      <td>6.708007e+13</td>\n",
       "      <td>6.721555e+13</td>\n",
       "      <td>6.721666e+13</td>\n",
       "      <td>2.160323e+06</td>\n",
       "      <td>6.721726e+13</td>\n",
       "      <td>1.527679e+12</td>\n",
       "    </tr>\n",
       "    <tr>\n",
       "      <th>75%</th>\n",
       "      <td>1.527679e+12</td>\n",
       "      <td>53.613780</td>\n",
       "      <td>10.145403</td>\n",
       "      <td>18.252000</td>\n",
       "      <td>33.000000</td>\n",
       "      <td>6.737046e+13</td>\n",
       "      <td>1.527679e+12</td>\n",
       "      <td>6.729175e+13</td>\n",
       "      <td>6.736986e+13</td>\n",
       "      <td>6.737054e+13</td>\n",
       "      <td>7.528958e+06</td>\n",
       "      <td>6.737064e+13</td>\n",
       "      <td>1.527679e+12</td>\n",
       "    </tr>\n",
       "    <tr>\n",
       "      <th>max</th>\n",
       "      <td>1.527679e+12</td>\n",
       "      <td>53.613960</td>\n",
       "      <td>10.149709</td>\n",
       "      <td>27.972000</td>\n",
       "      <td>81.000000</td>\n",
       "      <td>6.749401e+13</td>\n",
       "      <td>1.527679e+12</td>\n",
       "      <td>6.729175e+13</td>\n",
       "      <td>6.749239e+13</td>\n",
       "      <td>6.749415e+13</td>\n",
       "      <td>2.999632e+07</td>\n",
       "      <td>6.749456e+13</td>\n",
       "      <td>1.527679e+12</td>\n",
       "    </tr>\n",
       "  </tbody>\n",
       "</table>\n",
       "</div>"
      ],
      "text/plain": [
       "       Zeitstempel in Unixzeit  Breitengrad  Laengengrad  \\\n",
       "count             9.800000e+02   980.000000   980.000000   \n",
       "mean              1.527679e+12    53.611860    10.141444   \n",
       "std               1.768921e+05     0.001924     0.004416   \n",
       "min               1.527678e+12    53.608086    10.136191   \n",
       "25%               1.527678e+12    53.610184    10.137041   \n",
       "50%               1.527679e+12    53.612270    10.140607   \n",
       "75%               1.527679e+12    53.613780    10.145403   \n",
       "max               1.527679e+12    53.613960    10.149709   \n",
       "\n",
       "       Geschwindigkeit in km/h  Anzahl der Messwerte  \\\n",
       "count               980.000000            980.000000   \n",
       "mean                 15.920633             29.334694   \n",
       "std                   4.125503              8.607324   \n",
       "min                   5.507999             15.000000   \n",
       "25%                  13.392000             24.000000   \n",
       "50%                  15.336000             28.000000   \n",
       "75%                  18.252000             33.000000   \n",
       "max                  27.972000             81.000000   \n",
       "\n",
       "       Start des Zeitfensters in ns seit Start der JVM  \\\n",
       "count                                     9.800000e+02   \n",
       "mean                                      6.720544e+13   \n",
       "std                                       1.769035e+11   \n",
       "min                                       6.687435e+13   \n",
       "25%                                       6.705460e+13   \n",
       "50%                                       6.721652e+13   \n",
       "75%                                       6.737046e+13   \n",
       "max                                       6.749401e+13   \n",
       "\n",
       "       Zeitstempel Messwertdaten anfordern in Unixzeit  \\\n",
       "count                                     9.800000e+02   \n",
       "mean                                      1.527679e+12   \n",
       "std                                       1.768028e+05   \n",
       "min                                       1.527678e+12   \n",
       "25%                                       1.527678e+12   \n",
       "50%                                       1.527679e+12   \n",
       "75%                                       1.527679e+12   \n",
       "max                                       1.527679e+12   \n",
       "\n",
       "       Start der Messwerterfassung in ns seit Start der JVM  \\\n",
       "count                                       9.800000e+02      \n",
       "mean                                        6.709912e+13      \n",
       "std                                         1.732570e+11      \n",
       "min                                         6.687418e+13      \n",
       "25%                                         6.687418e+13      \n",
       "50%                                         6.708007e+13      \n",
       "75%                                         6.729175e+13      \n",
       "max                                         6.729175e+13      \n",
       "\n",
       "       Erster Zeitstempel der Teilliste in ns seit Start der JVM  \\\n",
       "count                                       9.800000e+02           \n",
       "mean                                        6.720457e+13           \n",
       "std                                         1.769657e+11           \n",
       "min                                         6.687418e+13           \n",
       "25%                                         6.705377e+13           \n",
       "50%                                         6.721555e+13           \n",
       "75%                                         6.736986e+13           \n",
       "max                                         6.749239e+13           \n",
       "\n",
       "       Start der Belichtung in ns seit Start der JVM  Belichtungszeit in ns  \\\n",
       "count                                   9.800000e+02           9.800000e+02   \n",
       "mean                                    6.720556e+13           4.880671e+06   \n",
       "std                                     1.768912e+11           5.136466e+06   \n",
       "min                                     6.687468e+13           8.641290e+05   \n",
       "25%                                     6.705470e+13           1.507630e+06   \n",
       "50%                                     6.721666e+13           2.160323e+06   \n",
       "75%                                     6.737054e+13           7.528958e+06   \n",
       "max                                     6.749415e+13           2.999632e+07   \n",
       "\n",
       "       Letzter Zeitstempel der Messwerterfassung in ns seit Start der JVM  \\\n",
       "count                                       9.800000e+02                    \n",
       "mean                                        6.720600e+13                    \n",
       "std                                         1.768025e+11                    \n",
       "min                                         6.687601e+13                    \n",
       "25%                                         6.705511e+13                    \n",
       "50%                                         6.721726e+13                    \n",
       "75%                                         6.737064e+13                    \n",
       "max                                         6.749456e+13                    \n",
       "\n",
       "       Speicherzeitpunkt der Merkmale in Unixzeit  \n",
       "count                                9.800000e+02  \n",
       "mean                                 1.527679e+12  \n",
       "std                                  1.767992e+05  \n",
       "min                                  1.527678e+12  \n",
       "25%                                  1.527678e+12  \n",
       "50%                                  1.527679e+12  \n",
       "75%                                  1.527679e+12  \n",
       "max                                  1.527679e+12  "
      ]
     },
     "execution_count": 3,
     "metadata": {},
     "output_type": "execute_result"
    }
   ],
   "source": [
    "featuresDf.describe()"
   ]
  },
  {
   "cell_type": "code",
   "execution_count": 106,
   "metadata": {},
   "outputs": [
    {
     "data": {
      "text/plain": [
       "Index(['Zeitstempel in Unixzeit', 'Breitengrad', 'Laengengrad',\n",
       "       'Geschwindigkeit in km/h', 'Z-Achse Beschleunigungswerte in m/s^2',\n",
       "       'Y-Achse Beschleunigungswerte in m/s^2', 'Nick Messwerte in rad',\n",
       "       'Zeitstempel der Messwerte in ns', 'Anzahl der Messwerte',\n",
       "       'Start des Zeitfensters in ns seit Start der JVM',\n",
       "       'Zeitstempel Messwertdaten anfordern in Unixzeit',\n",
       "       'Start der Messwerterfassung in ns seit Start der JVM',\n",
       "       'Erster Zeitstempel der Teilliste in ns seit Start der JVM',\n",
       "       'Start der Belichtung in ns seit Start der JVM',\n",
       "       'Belichtungszeit in ns',\n",
       "       'Letzter Zeitstempel der Messwerterfassung in ns seit Start der JVM',\n",
       "       'Speicherzeitpunkt der Merkmale in Unixzeit'],\n",
       "      dtype='object')"
      ]
     },
     "execution_count": 106,
     "metadata": {},
     "output_type": "execute_result"
    }
   ],
   "source": [
    "featuresDf.columns"
   ]
  },
  {
   "cell_type": "code",
   "execution_count": 5,
   "metadata": {},
   "outputs": [
    {
     "data": {
      "text/plain": [
       "13.646686002065689"
      ]
     },
     "execution_count": 5,
     "metadata": {},
     "output_type": "execute_result"
    }
   ],
   "source": [
    "# Mittelwert der Belichtungszeit aller Aufnahmen umgerechnet in ms\n",
    "meanExposureTime = featuresDf['Belichtungszeit in ns'].mean() / 1000000\n",
    "meanExposureTime"
   ]
  },
  {
   "cell_type": "code",
   "execution_count": 6,
   "metadata": {},
   "outputs": [
    {
     "data": {
      "text/plain": [
       "30.292294980375956"
      ]
     },
     "execution_count": 6,
     "metadata": {},
     "output_type": "execute_result"
    }
   ],
   "source": [
    "# Mittelwert Anzahl der Messwerte pro Merkmal\n",
    "featuresDf['Anzahl der Messwerte'].mean()"
   ]
  },
  {
   "cell_type": "code",
   "execution_count": 9,
   "metadata": {},
   "outputs": [
    {
     "data": {
      "text/plain": [
       "240.6286066268157"
      ]
     },
     "execution_count": 9,
     "metadata": {},
     "output_type": "execute_result"
    }
   ],
   "source": [
    "# Dynamisches Zeitfenster Mittelwert\n",
    "timeframe = featuresDf['Geschwindigkeit in km/h'].mean() \n",
    "# umrechnung km/h in m/s\n",
    "timeframe = timeframe/3.6\n",
    "timeframe = 1/timeframe \n",
    "timeframe = timeframe * 1000\n",
    "timeframe"
   ]
  },
  {
   "cell_type": "code",
   "execution_count": 8,
   "metadata": {},
   "outputs": [],
   "source": [
    "# Dauer des Zeitfensters in ms\n",
    "timeframe = 80"
   ]
  },
  {
   "cell_type": "code",
   "execution_count": 10,
   "metadata": {},
   "outputs": [
    {
     "data": {
      "text/plain": [
       "20.267458024108308"
      ]
     },
     "execution_count": 10,
     "metadata": {},
     "output_type": "execute_result"
    }
   ],
   "source": [
    "# Mittelwert vom Ende des Zeitfensters in ms bis zum Stop der Datenerfassung in ms \n",
    "meanStopMeasurementToEndTimeframeTime =(featuresDf['Letzter Zeitstempel der Messwerterfassung in ns seit Start der JVM'] \n",
    "                          - (featuresDf['Start des Zeitfensters in ns seit Start der JVM'] + (timeframe * 1000000))).mean()\n",
    "meanStopMeasurementToEndTimeframeTime = meanStopMeasurementToEndTimeframeTime / 1000000\n",
    "meanStopMeasurementToEndTimeframeTime"
   ]
  },
  {
   "cell_type": "code",
   "execution_count": 80,
   "metadata": {},
   "outputs": [
    {
     "data": {
      "text/plain": [
       "-372307643967390.19"
      ]
     },
     "execution_count": 80,
     "metadata": {},
     "output_type": "execute_result"
    }
   ],
   "source": [
    "# Mittelwert vom Aufruf das die Aufnahme fertig ist bis zum Stopp der Messwerterfassung in ms\n",
    "meanStopMeasurementTime = (featuresDf['Zeitstempel in Unixzeit']-featuresDf['Stopp der Messwerterfassung in Unixzeit']).mean()\n",
    "meanStopMeasurementTime"
   ]
  },
  {
   "cell_type": "code",
   "execution_count": 24,
   "metadata": {},
   "outputs": [
    {
     "data": {
      "text/plain": [
       "16811.5136484375"
      ]
     },
     "execution_count": 24,
     "metadata": {},
     "output_type": "execute_result"
    }
   ],
   "source": [
    "# Mittelwert vom Start der Messwert Datenerfassung bis zum Start des Zeitfensters in ms\n",
    "meanStartMeasurementDataTime = featuresDf['Start des Zeitfensters in ns seit Start der JVM'].mean() - featuresDf['Start der Messwerterfassung in ns seit Start der JVM'].mean()\n",
    "meanStartMeasurementDataTime = meanStartMeasurementDataTime / 1000000\n",
    "meanStartMeasurementDataTime"
   ]
  },
  {
   "cell_type": "markdown",
   "metadata": {},
   "source": [
    "Bei der Berechnung des zeitlichen Abstandes von erfassten Bildaufnahmen ist zu beachten, dass die verwendete Daten aus einer Datenerfassungsserie stammen also einem Datensatz. Als Kennwert wird nämlich die Zeitstempel Spalte aus der Merkmal CSV Datei genutzt. Der Zeitstempel gibt an, wann das Bild aufgenommen wurde in Unixzeit. Zwischen zwei erfassten Datensätzen ist meistens einige Zeit mehr vergangen. Deshalb wird für die Berechnung ein Datensatz genutzt. Der angegebene Zeitwert wird in dem Notebook frameRate berechnet in dem Ordner datenanalyse. "
   ]
  },
  {
   "cell_type": "code",
   "execution_count": 129,
   "metadata": {},
   "outputs": [],
   "source": [
    "# Mittelwert des Abstandes bis das nächste Bild aufgenommen wurde von den Datensatz 15 mit 305.906 ms aufgerundet auf 306 Ms.\n",
    "meanCaptureImagesTime = 290"
   ]
  },
  {
   "cell_type": "code",
   "execution_count": 130,
   "metadata": {},
   "outputs": [],
   "source": [
    "# In dieser Zelle werden die Vielfachen der Mittelwerte in Listen angehängt, um exemplarisch\n",
    "# den weiteren Verlauf einer Datenserie mit gemittelten Zeitwerten in einem Diagram darzustellen.\n",
    "\n",
    "# Anzahl der Bilder\n",
    "numberImages = 2\n",
    "imageCounter = 1\n",
    "meanExposureOffset = (timeframe - meanExposureTime) / 2\n",
    "# Listen die mit den entsprechenden Vielfachen der Zeitangaben gefüllt werden\n",
    "\n",
    "# Gibt mittlere Zeitwerte an zu welchem ein Bild bereit ist zum abspeichern \n",
    "meanCaptureImagesTimeList = []\n",
    "# Start der Zeitfenster \n",
    "startTimeFrameList = []\n",
    "startExposureTimeList = []\n",
    "exposureTimeList = []\n",
    "while imageCounter <= numberImages:\n",
    "    meanCaptureImagesTimeList.append(meanCaptureImagesTime * imageCounter)\n",
    "    startTimeFrameList.append(meanCaptureImagesTimeList[imageCounter-1] - meanStopMeasurementToEndTimeframeTime - timeframe)\n",
    "    startExposureTimeList.append(startTimeFrameList[imageCounter-1] + meanExposureOffset)\n",
    "    exposureTimeList.append(startExposureTimeList[imageCounter-1] + meanExposureTime)\n",
    "    imageCounter = imageCounter + 1"
   ]
  },
  {
   "cell_type": "code",
   "execution_count": 131,
   "metadata": {},
   "outputs": [
    {
     "data": {
      "text/plain": [
       "138.45946163713478"
      ]
     },
     "execution_count": 131,
     "metadata": {},
     "output_type": "execute_result"
    }
   ],
   "source": [
    "meanCaptureImagesTimeList[0] - meanStopMeasurementToEndTimeframeTime - timeframe"
   ]
  },
  {
   "cell_type": "code",
   "execution_count": 132,
   "metadata": {},
   "outputs": [
    {
     "data": {
      "text/plain": [
       "71.540538362865234"
      ]
     },
     "execution_count": 132,
     "metadata": {},
     "output_type": "execute_result"
    }
   ],
   "source": [
    "meanStopMeasurementToEndTimeframeTime"
   ]
  },
  {
   "cell_type": "code",
   "execution_count": 133,
   "metadata": {},
   "outputs": [
    {
     "data": {
      "text/plain": [
       "71.540538362865234"
      ]
     },
     "execution_count": 133,
     "metadata": {},
     "output_type": "execute_result"
    }
   ],
   "source": [
    "meanStopMeasurementToEndTimeframeTime"
   ]
  },
  {
   "cell_type": "code",
   "execution_count": 134,
   "metadata": {},
   "outputs": [
    {
     "data": {
      "text/plain": [
       "77.379605590259786"
      ]
     },
     "execution_count": 134,
     "metadata": {},
     "output_type": "execute_result"
    }
   ],
   "source": [
    "# Offset damit t bei 0 ms beginnt\n",
    "zeroOffset = startTimeFrameList[0]-meanStartMeasurementDataTime\n",
    "zeroOffset"
   ]
  },
  {
   "cell_type": "code",
   "execution_count": 135,
   "metadata": {},
   "outputs": [
    {
     "data": {
      "text/plain": [
       "138.45946163713478"
      ]
     },
     "execution_count": 135,
     "metadata": {},
     "output_type": "execute_result"
    }
   ],
   "source": [
    "startTimeFrameList[0]"
   ]
  },
  {
   "cell_type": "code",
   "execution_count": 136,
   "metadata": {},
   "outputs": [
    {
     "data": {
      "text/plain": [
       "138.45946163713478"
      ]
     },
     "execution_count": 136,
     "metadata": {},
     "output_type": "execute_result"
    }
   ],
   "source": [
    "startTimeFrameList[0]"
   ]
  },
  {
   "cell_type": "code",
   "execution_count": 137,
   "metadata": {},
   "outputs": [
    {
     "name": "stdout",
     "output_type": "stream",
     "text": [
      "4.13020764111\n"
     ]
    }
   ],
   "source": [
    "measuredDataPerMs = timeframe / featuresDf['Anzahl der Messwerte'].mean()\n",
    "print(measuredDataPerMs)"
   ]
  },
  {
   "cell_type": "code",
   "execution_count": 138,
   "metadata": {},
   "outputs": [
    {
     "data": {
      "text/plain": [
       "51.984893363228807"
      ]
     },
     "execution_count": 138,
     "metadata": {},
     "output_type": "execute_result"
    }
   ],
   "source": [
    "(meanCaptureImagesTimeList[0] + meanStopMeasurementTime - zeroOffset) / measuredDataPerMs"
   ]
  },
  {
   "cell_type": "code",
   "execution_count": 139,
   "metadata": {},
   "outputs": [
    {
     "data": {
      "text/plain": [
       "61.079856046875001"
      ]
     },
     "execution_count": 139,
     "metadata": {},
     "output_type": "execute_result"
    }
   ],
   "source": [
    "meanStartMeasurementDataTime"
   ]
  },
  {
   "cell_type": "code",
   "execution_count": 140,
   "metadata": {},
   "outputs": [
    {
     "data": {
      "text/plain": [
       "504.70840379115327"
      ]
     },
     "execution_count": 140,
     "metadata": {},
     "output_type": "execute_result"
    }
   ],
   "source": [
    "meanCaptureImagesTimeList[1] + meanStopMeasurementTime - zeroOffset"
   ]
  },
  {
   "cell_type": "code",
   "execution_count": 141,
   "metadata": {},
   "outputs": [
    {
     "data": {
      "text/plain": [
       "214.7084037911533"
      ]
     },
     "execution_count": 141,
     "metadata": {},
     "output_type": "execute_result"
    }
   ],
   "source": [
    "meanCaptureImagesTimeList[0] + meanStopMeasurementTime - zeroOffset"
   ]
  },
  {
   "cell_type": "code",
   "execution_count": 142,
   "metadata": {},
   "outputs": [
    {
     "data": {
      "text/plain": [
       "80"
      ]
     },
     "execution_count": 142,
     "metadata": {},
     "output_type": "execute_result"
    }
   ],
   "source": [
    "timeframe"
   ]
  },
  {
   "cell_type": "code",
   "execution_count": 143,
   "metadata": {
    "scrolled": false
   },
   "outputs": [
    {
     "data": {
      "image/png": "[encoded data removed]",
      "text/plain": [
       "<Figure size 1440x432 with 1 Axes>"
      ]
     },
     "metadata": {},
     "output_type": "display_data"
    }
   ],
   "source": [
    "# Plot mit Gantt-Diagram\n",
    "fig, ax = plt.subplots(figsize=(20,6))\n",
    "i = 0\n",
    "while i < numberImages:\n",
    "    if i == 0:\n",
    "        ax.hlines(xmin=startTimeFrameList[i]-meanStartMeasurementDataTime - zeroOffset,\n",
    "                  xmax=startTimeFrameList[i]-zeroOffset + meanStopMeasurementToEndTimeframeTime + timeframe,y=1, colors=\"lavender\", lw=50)\n",
    "        ax.hlines(xmin=startTimeFrameList[i] - zeroOffset,xmax=startTimeFrameList[i]+ timeframe - zeroOffset,y=2, colors=\"lightsteelblue\", lw=50)\n",
    "        ax.hlines(xmin=startExposureTimeList[i] - zeroOffset,xmax=exposureTimeList[i] - zeroOffset,y=3, colors=\"blue\", lw=50)\n",
    "        ax.hlines(xmin=meanCaptureImagesTimeList[i] + meanStopMeasurementTime - zeroOffset,xmax=meanCaptureImagesTimeList[i] + 60 - zeroOffset,\n",
    "                  y=4, colors=\"dimgrey\", lw=50)\n",
    "    else:\n",
    "        ax.hlines(xmin=startTimeFrameList[i]-meanStartMeasurementDataTime - zeroOffset,xmax=meanCaptureImagesTimeList[i] + meanStopMeasurementTime - zeroOffset,\n",
    "                  y=1, colors=\"lavender\", lw=50)\n",
    "\n",
    "    i = i + 1\n",
    "\n",
    "def formatter(y, pos):\n",
    "    if y == 1:\n",
    "        return 'Messwerterfassung'\n",
    "    if y == 2:\n",
    "        return 'Messwerte im relevanten Zeitfenster'\n",
    "    if y == 3:\n",
    "        return 'Belichtungszeit'\n",
    "    if y == 4:\n",
    "        return 'Lesen und Schreiben \\n der Daten'\n",
    "    else:\n",
    "        return ''\n",
    "\n",
    "plt.gca().yaxis.set_major_formatter(ticker.FuncFormatter(formatter))\n",
    "plt.xlabel('t/ms',fontsize=14)\n",
    "plt.title('Mittelwerte des zeitlichen Ablaufs der Datenerfassung',fontsize=18)\n",
    "plt.grid()\n",
    "plt.yticks(fontsize=14)\n",
    "plt.xticks(fontsize=14)\n",
    "plt.xlim(0,)#startTimeFrameList[1]-meanStartMeasurementDataTime-60)\n",
    "plt.ylim(0,4.5)\n",
    "plt.rcParams[\"legend.fontsize\"] = 14"
   ]
  },
  {
   "cell_type": "code",
   "execution_count": 146,
   "metadata": {},
   "outputs": [
    {
     "data": {
      "image/png": "[encoded data removed]",
      "text/plain": [
       "<Figure size 1440x432 with 1 Axes>"
      ]
     },
     "metadata": {},
     "output_type": "display_data"
    }
   ],
   "source": [
    "# Plot mit stem Diagrammen\n",
    "fig, ax = plt.subplots(figsize=(20,6))\n",
    "i = 0\n",
    "while i < numberImages:\n",
    "    if i == 0:\n",
    "        # Messwerterfassung\n",
    "        x = np.linspace(startTimeFrameList[i]-meanStartMeasurementDataTime - zeroOffset,\n",
    "                        startTimeFrameList[i]-zeroOffset + meanStopMeasurementToEndTimeframeTime + timeframe, \n",
    "                        int((meanStartMeasurementDataTime  + meanStopMeasurementToEndTimeframeTime + timeframe) / measuredDataPerMs))\n",
    "        (markers, stemlines, baseline) = plt.stem(x, np.full((x.size), 1.3), linefmt='C7-', basefmt='None', bottom=0.65, markerfmt='wo')\n",
    "        plt.setp(stemlines, linestyle=\"-\", color=\"C7\", linewidth=1.5)\n",
    "        plt.setp(markers, markeredgecolor='C7', markersize=10, markeredgewidth=1.5, zorder=3)\n",
    "        # Zeitfenster\n",
    "        x = np.linspace(startTimeFrameList[i] - zeroOffset,startTimeFrameList[i]+timeframe - zeroOffset, \n",
    "                        int(featuresDf['Anzahl der Messwerte'].mean()))\n",
    "        (markers, stemlines, baseline) = plt.stem(x, np.full((x.size), 2.3), 'b-', basefmt='None', bottom=1.65, markerfmt='wo')\n",
    "        plt.setp(stemlines, linestyle=\"-\", color=\"b\", linewidth=1.5)\n",
    "        plt.setp(markers, markeredgecolor='b', markersize=10, markeredgewidth=1.5, zorder=3)\n",
    "        # Belichtungszeit\n",
    "        ax.hlines(xmin=startExposureTimeList[i] - zeroOffset,xmax=exposureTimeList[i] - zeroOffset,y=3, colors=\"blue\", lw=50)\n",
    "        # Lesen und schreiben der Daten\n",
    "        ax.hlines(xmin=meanCaptureImagesTimeList[i] - meanStopMeasurementTime - zeroOffset,xmax=meanCaptureImagesTimeList[i] + 60 - zeroOffset,\n",
    "              y=4, colors=\"dimgrey\", lw=50)\n",
    "    else:\n",
    "        # Messwerterfassung\n",
    "        x = np.linspace(startTimeFrameList[i]-meanStartMeasurementDataTime - zeroOffset,\n",
    "                        meanCaptureImagesTimeList[i] + meanStopMeasurementTime - zeroOffset, \n",
    "                        int((meanCaptureImagesTimeList[0] + meanStopMeasurementTime - zeroOffset) / measuredDataPerMs))\n",
    "        (markers, stemlines, baseline) = plt.stem(x, np.full((x.size), 1.3), linefmt='C7-', basefmt='None', bottom=0.65, markerfmt='wo')\n",
    "        plt.setp(stemlines, linestyle=\"-\", color=\"C7\", linewidth=1.5)\n",
    "        plt.setp(markers, markeredgecolor='C7', markersize=10, markeredgewidth=1.5, zorder=3)\n",
    "    i = i + 1\n",
    "\n",
    "def formatter(y, pos):\n",
    "    if y == 1:\n",
    "        return 'Messwerterfassung'\n",
    "    if y == 2:\n",
    "        return 'Messwerte im \\n relevanten Zeitfenster'\n",
    "    if y == 3:\n",
    "        return 'Belichtungszeit'\n",
    "    if y == 4:\n",
    "        return 'Lesen und Schreiben \\n der Daten'\n",
    "    else:\n",
    "        return ''\n",
    "\n",
    "plt.gca().yaxis.set_major_formatter(ticker.FuncFormatter(formatter))\n",
    "plt.xlabel('t/ms',fontsize=14)\n",
    "plt.title('Mittelwerte des zeitlichen Ablaufs der Datenerfassung: Zeitfenster Mittelwert t=80ms',fontsize=18)\n",
    "plt.grid()\n",
    "plt.yticks(fontsize=14)\n",
    "plt.xticks(fontsize=14)\n",
    "plt.xlim(0,startTimeFrameList[1]-meanStartMeasurementDataTime - 60)\n",
    "plt.ylim(0,4.5)\n",
    "plt.rcParams[\"legend.fontsize\"] = 14\n",
    "plt.savefig('mittelwerteZeitlicherAblaufT80')"
   ]
  },
  {
   "cell_type": "markdown",
   "metadata": {},
   "source": [
    "### Berechnung des Diagramms der Mittelwerte des zeitlichen Ablaufs mit dynamischen Zeitfenster"
   ]
  },
  {
   "cell_type": "code",
   "execution_count": 17,
   "metadata": {},
   "outputs": [
    {
     "data": {
      "text/plain": [
       "226.12166697799972"
      ]
     },
     "execution_count": 17,
     "metadata": {},
     "output_type": "execute_result"
    }
   ],
   "source": [
    "# Berechnung des Diagramms der Mittelwerte des zeitlichen Ablaufs mit dynamischen Zeitfenster\n",
    "# Mittelwert der Belichtungszeit aller Aufnahmen umgerechnet in ms\n",
    "meanExposureTime = featuresDf['Belichtungszeit in ns'].mean() / 1000000\n",
    "# Mittelwert Anzahl der Messwerte pro Merkmal\n",
    "featuresDf['Anzahl der Messwerte'].mean()\n",
    "# Dynamisches Zeitfenster Mittelwert\n",
    "timeframe = featuresDf['Geschwindigkeit in km/h'].mean() \n",
    "# umrechnung km/h in m/s\n",
    "timeframe = timeframe/3.6\n",
    "timeframe = 1/timeframe \n",
    "timeframe = timeframe * 1000\n",
    "timeframe"
   ]
  },
  {
   "cell_type": "code",
   "execution_count": 18,
   "metadata": {},
   "outputs": [
    {
     "data": {
      "text/plain": [
       "318.49686931915659"
      ]
     },
     "execution_count": 18,
     "metadata": {},
     "output_type": "execute_result"
    }
   ],
   "source": [
    "# Mittelwert vom Ende des Zeitfensters in ms bis zum Stop der Datenerfassung in ms \n",
    "meanStopMeasurementToEndTimeframeTime =(featuresDf['Letzter Zeitstempel der Messwerterfassung in ns seit Start der JVM'] \n",
    "                          - (featuresDf['Start des Zeitfensters in ns seit Start der JVM'] + ((1/(featuresDf['Geschwindigkeit in km/h']/3.6)) * 1000000000))).mean()\n",
    "meanStopMeasurementToEndTimeframeTime = meanStopMeasurementToEndTimeframeTime / 1000000\n",
    "meanStopMeasurementToEndTimeframeTime"
   ]
  },
  {
   "cell_type": "code",
   "execution_count": 19,
   "metadata": {},
   "outputs": [
    {
     "data": {
      "text/html": [
       "<div>\n",
       "<style scoped>\n",
       "    .dataframe tbody tr th:only-of-type {\n",
       "        vertical-align: middle;\n",
       "    }\n",
       "\n",
       "    .dataframe tbody tr th {\n",
       "        vertical-align: top;\n",
       "    }\n",
       "\n",
       "    .dataframe thead th {\n",
       "        text-align: right;\n",
       "    }\n",
       "</style>\n",
       "<table border=\"1\" class=\"dataframe\">\n",
       "  <thead>\n",
       "    <tr style=\"text-align: right;\">\n",
       "      <th></th>\n",
       "      <th>Zeitstempel in Unixzeit</th>\n",
       "      <th>Breitengrad</th>\n",
       "      <th>Laengengrad</th>\n",
       "      <th>Geschwindigkeit in km/h</th>\n",
       "      <th>Z-Achse Beschleunigungswerte in m/s^2</th>\n",
       "      <th>Y-Achse Beschleunigungswerte in m/s^2</th>\n",
       "      <th>Nick Messwerte in rad</th>\n",
       "      <th>Zeitstempel der Messwerte in ns</th>\n",
       "      <th>Anzahl der Messwerte</th>\n",
       "      <th>Start des Zeitfensters in ns seit Start der JVM</th>\n",
       "      <th>Zeitstempel Messwertdaten anfordern in Unixzeit</th>\n",
       "      <th>Start der Messwerterfassung in ns seit Start der JVM</th>\n",
       "      <th>Erster Zeitstempel der Teilliste in ns seit Start der JVM</th>\n",
       "      <th>Start der Belichtung in ns seit Start der JVM</th>\n",
       "      <th>Belichtungszeit in ns</th>\n",
       "      <th>Letzter Zeitstempel der Messwerterfassung in ns seit Start der JVM</th>\n",
       "      <th>Speicherzeitpunkt der Merkmale in Unixzeit</th>\n",
       "    </tr>\n",
       "  </thead>\n",
       "  <tbody>\n",
       "  </tbody>\n",
       "</table>\n",
       "</div>"
      ],
      "text/plain": [
       "Empty DataFrame\n",
       "Columns: [Zeitstempel in Unixzeit, Breitengrad, Laengengrad, Geschwindigkeit in km/h, Z-Achse Beschleunigungswerte in m/s^2, Y-Achse Beschleunigungswerte in m/s^2, Nick Messwerte in rad, Zeitstempel der Messwerte in ns, Anzahl der Messwerte, Start des Zeitfensters in ns seit Start der JVM, Zeitstempel Messwertdaten anfordern in Unixzeit, Start der Messwerterfassung in ns seit Start der JVM, Erster Zeitstempel der Teilliste in ns seit Start der JVM, Start der Belichtung in ns seit Start der JVM, Belichtungszeit in ns, Letzter Zeitstempel der Messwerterfassung in ns seit Start der JVM, Speicherzeitpunkt der Merkmale in Unixzeit]\n",
       "Index: []"
      ]
     },
     "execution_count": 19,
     "metadata": {},
     "output_type": "execute_result"
    }
   ],
   "source": [
    "df =featuresDf[(featuresDf['Letzter Zeitstempel der Messwerterfassung in ns seit Start der JVM'] \n",
    "                          - (featuresDf['Start des Zeitfensters in ns seit Start der JVM'] + ((1/(featuresDf['Geschwindigkeit in km/h']/3.6)) * 1000000000)))/1000000 < 1]\n",
    "df"
   ]
  },
  {
   "cell_type": "code",
   "execution_count": 20,
   "metadata": {},
   "outputs": [
    {
     "data": {
      "text/plain": [
       "Series([], dtype: float64)"
      ]
     },
     "execution_count": 20,
     "metadata": {},
     "output_type": "execute_result"
    }
   ],
   "source": [
    "((df['Letzter Zeitstempel der Messwerterfassung in ns seit Start der JVM'] - (df['Start des Zeitfensters in ns seit Start der JVM'] + \n",
    "                             ((1/(df['Geschwindigkeit in km/h']/3.6)) * 1000000000)))/1000000) "
   ]
  },
  {
   "cell_type": "code",
   "execution_count": 34,
   "metadata": {},
   "outputs": [
    {
     "data": {
      "text/plain": [
       "Series([], dtype: float64)"
      ]
     },
     "execution_count": 34,
     "metadata": {},
     "output_type": "execute_result"
    }
   ],
   "source": [
    "# ist ausreichend Zeit zwischen Start Zeitstempel und Stopp Zeitstempel der Teilliste vorhanden, dass das Zeitfenster t noch dazwischen passt?\n",
    "notEnoughTimeStartStopTimestamps = featuresDf[(featuresDf['Letzter Zeitstempel der Messwerterfassung in ns seit Start der JVM'] - featuresDf['Start des Zeitfensters in ns seit Start der JVM']) < ((1/(featuresDf['Geschwindigkeit in km/h']/3.6)) * 1000000000)]\n",
    "((notEnoughTimeStartStopTimestamps['Letzter Zeitstempel der Messwerterfassung in ns seit Start der JVM'] - notEnoughTimeStartStopTimestamps['Start des Zeitfensters in ns seit Start der JVM'])- ((1/(notEnoughTimeStartStopTimestamps['Geschwindigkeit in km/h']/3.6)) * 1000000000))/1000000"
   ]
  },
  {
   "cell_type": "code",
   "execution_count": 33,
   "metadata": {},
   "outputs": [
    {
     "data": {
      "text/plain": [
       "Zeitstempel in Unixzeit                                                                                   1527678296061\n",
       "Breitengrad                                                                                                     53.6136\n",
       "Laengengrad                                                                                                     10.1379\n",
       "Geschwindigkeit in km/h                                                                                           5.508\n",
       "Z-Achse Beschleunigungswerte in m/s^2                                 -0.22069 0.86925 0.31321 0.31272 0.50339 0.464...\n",
       "Y-Achse Beschleunigungswerte in m/s^2                                 0.76663 0.30832 0.17402 0.17217 0.17057 0.2086...\n",
       "Nick Messwerte in rad                                                 -0.1397 -0.07624 -0.06856 -0.06856 -0.06669 -0...\n",
       "Zeitstempel der Messwerte in ns                                       716766 8712059 16703759 24703218 32698616 4069...\n",
       "Anzahl der Messwerte                                                                                                 81\n",
       "Start des Zeitfensters in ns seit Start der JVM                                                          66874349893939\n",
       "Zeitstempel Messwertdaten anfordern in Unixzeit                                                           1527678297293\n",
       "Start der Messwerterfassung in ns seit Start der JVM                                                     66874182702521\n",
       "Erster Zeitstempel der Teilliste in ns seit Start der JVM                                                66874182702521\n",
       "Start der Belichtung in ns seit Start der JVM                                                            66874675937532\n",
       "Belichtungszeit in ns                                                                                           1507630\n",
       "Letzter Zeitstempel der Messwerterfassung in ns seit Start der JVM                                       66876005697913\n",
       "Speicherzeitpunkt der Merkmale in Unixzeit                                                                1527678297661\n",
       "Name: 0, dtype: object"
      ]
     },
     "execution_count": 33,
     "metadata": {},
     "output_type": "execute_result"
    }
   ],
   "source": [
    "featuresDf[(featuresDf['Letzter Zeitstempel der Messwerterfassung in ns seit Start der JVM'] - featuresDf['Start des Zeitfensters in ns seit Start der JVM']) > ((1/(featuresDf['Geschwindigkeit in km/h']/3.6)) * 1000000000)].iloc[0]"
   ]
  },
  {
   "cell_type": "code",
   "execution_count": 27,
   "metadata": {},
   "outputs": [
    {
     "data": {
      "text/plain": [
       "653594842.43952525"
      ]
     },
     "execution_count": 27,
     "metadata": {},
     "output_type": "execute_result"
    }
   ],
   "source": [
    "((1/(featuresDf['Geschwindigkeit in km/h'].iloc[0]/3.6)) * 1000000000)"
   ]
  },
  {
   "cell_type": "code",
   "execution_count": 8,
   "metadata": {},
   "outputs": [],
   "source": [
    "# Mittelwert des Abstandes bis das nächste Bild aufgenommen wurde \n",
    "meanCaptureImagesTime = 306"
   ]
  },
  {
   "cell_type": "code",
   "execution_count": 9,
   "metadata": {},
   "outputs": [
    {
     "data": {
      "text/plain": [
       "0          260.596362\n",
       "1          962.138362\n",
       "2         1529.047378\n",
       "3         1929.921378\n",
       "4         2305.547474\n",
       "5         2739.877474\n",
       "6         3179.921786\n",
       "7         3547.366786\n",
       "8         3948.285786\n",
       "9         4381.911706\n",
       "10        4715.969706\n",
       "11        5050.039706\n",
       "12        5400.274378\n",
       "13        5700.946378\n",
       "14        6035.015378\n",
       "15        6215.301738\n",
       "16        6716.343738\n",
       "17        7238.922786\n",
       "18        7673.209786\n",
       "19        8107.495786\n",
       "20        8563.481290\n",
       "21        8964.364290\n",
       "22        9412.395362\n",
       "23        9746.511362\n",
       "24       10080.530362\n",
       "25       10423.468474\n",
       "26       10790.897474\n",
       "27       11075.103442\n",
       "28       11542.827442\n",
       "29       12010.510442\n",
       "             ...     \n",
       "12456    18464.444152\n",
       "12457    18798.451152\n",
       "12458    19084.609896\n",
       "12459    19485.542896\n",
       "12460    19855.176888\n",
       "12461    20289.472888\n",
       "12462    20723.759888\n",
       "12463    21200.585720\n",
       "12464    21534.625720\n",
       "12465    21888.925712\n",
       "12466    22189.600712\n",
       "12467    22523.658712\n",
       "12468    22824.329712\n",
       "12469    23134.799712\n",
       "12470    23435.372712\n",
       "12471    23735.964712\n",
       "12472    24032.435360\n",
       "12473    24333.130360\n",
       "12474    24633.758360\n",
       "12475    24904.352677\n",
       "12476    25238.431677\n",
       "12477    25572.490677\n",
       "12478    25879.811253\n",
       "12479    26385.904576\n",
       "12480    26753.386576\n",
       "12481    27060.152464\n",
       "12482    27494.395464\n",
       "12483    27851.219576\n",
       "12484    28347.364253\n",
       "12485    28925.503973\n",
       "Length: 12486, dtype: float64"
      ]
     },
     "execution_count": 9,
     "metadata": {},
     "output_type": "execute_result"
    }
   ],
   "source": [
    "(((featuresDf['Start des Zeitfensters in ns seit Start der JVM'] - featuresDf['Start der Messwerterfassung in ns seit Start der JVM'])/ 1000000))\n"
   ]
  },
  {
   "cell_type": "code",
   "execution_count": 10,
   "metadata": {},
   "outputs": [
    {
     "data": {
      "text/plain": [
       "203.64453225"
      ]
     },
     "execution_count": 10,
     "metadata": {},
     "output_type": "execute_result"
    }
   ],
   "source": [
    "# Mittelwert vom Start der Messwert Datenerfassung bis zum Start des Zeitfensters in ms\n",
    "# Hierbei ist das Problem, dass ab Datensatz 30 die Datenerfassung der Messwerte alle 100 Bilder neu gestartet wird\n",
    "# Aus diesem Grund kann der Mittelwert nicht anschaulich dargestellt werden. Deshalb werden nur die Zeitabstände mit einer Dauer länger \n",
    "# als ein gegebener Grenzwert  betrachtet\n",
    "meanStartMeasurementDataTime = (((featuresDf['Start des Zeitfensters in ns seit Start der JVM'] - featuresDf['Start der Messwerterfassung in ns seit Start der JVM'])/ 1000000))\n",
    "meanStartMeasurementDataTime = meanStartMeasurementDataTime[meanStartMeasurementDataTime < 250]\n",
    "meanStartMeasurementDataTime = meanStartMeasurementDataTime.mean()\n",
    "meanStartMeasurementDataTime"
   ]
  },
  {
   "cell_type": "code",
   "execution_count": 11,
   "metadata": {},
   "outputs": [
    {
     "data": {
      "text/plain": [
       "7.7614322982775947"
      ]
     },
     "execution_count": 11,
     "metadata": {},
     "output_type": "execute_result"
    }
   ],
   "source": [
    "measuredDataPerMs = timeframe / featuresDf['Anzahl der Messwerte'].mean()\n",
    "measuredDataPerMs"
   ]
  },
  {
   "cell_type": "code",
   "execution_count": 12,
   "metadata": {},
   "outputs": [],
   "source": [
    "exposureOffset = (timeframe - meanExposureTime) / 2"
   ]
  },
  {
   "cell_type": "code",
   "execution_count": 13,
   "metadata": {},
   "outputs": [
    {
     "data": {
      "text/plain": [
       "39.195659138234824"
      ]
     },
     "execution_count": 13,
     "metadata": {},
     "output_type": "execute_result"
    }
   ],
   "source": [
    "# Mittelwert vom Aufruf das die Aufnahme fertig ist bis zum Stopp der Messwerterfassung in ms\n",
    "meanStopMeasurementTime = (featuresDf['Zeitstempel Messwertdaten anfordern in Unixzeit'] - featuresDf['Zeitstempel in Unixzeit']).mean()\n",
    "meanStopMeasurementTime"
   ]
  },
  {
   "cell_type": "code",
   "execution_count": 14,
   "metadata": {},
   "outputs": [
    {
     "data": {
      "text/plain": [
       "53.156735543809063"
      ]
     },
     "execution_count": 14,
     "metadata": {},
     "output_type": "execute_result"
    }
   ],
   "source": [
    "# Mittelwert Dauer von Lesen und Schreiben der Merkmale\n",
    "meanWriteTime =  (featuresDf['Speicherzeitpunkt der Merkmale in Unixzeit'] - featuresDf['Zeitstempel in Unixzeit']).mean()\n",
    "meanWriteTime"
   ]
  },
  {
   "cell_type": "code",
   "execution_count": 21,
   "metadata": {},
   "outputs": [
    {
     "data": {
      "image/png": "[encoded data removed]",
      "text/plain": [
       "<Figure size 1440x432 with 1 Axes>"
      ]
     },
     "metadata": {},
     "output_type": "display_data"
    }
   ],
   "source": [
    "# Plot mit stem Diagrammen\n",
    "fig, ax = plt.subplots(figsize=(20,6))\n",
    "i = 0\n",
    "numberImages = 2\n",
    "while i < 2:\n",
    "    if i == 0:\n",
    "        # Messwerterfassung\n",
    "        x = np.linspace(0,1000,int(1000/measuredDataPerMs))\n",
    "        (markers, stemlines, baseline) = plt.stem(x, np.full((x.size), 1.3), linefmt='C7-', basefmt='None', bottom=0.65, markerfmt='wo')\n",
    "        plt.setp(stemlines, linestyle=\"-\", color=\"C7\", linewidth=1.5)\n",
    "        plt.setp(markers, markeredgecolor='C7', markersize=10, markeredgewidth=1.5, zorder=3)\n",
    "        # Zeitfenster\n",
    "        x = np.linspace(meanStartMeasurementDataTime,meanStartMeasurementDataTime+timeframe, \n",
    "                        int(featuresDf['Anzahl der Messwerte'].mean()))\n",
    "        (markers, stemlines, baseline) = plt.stem(x, np.full((x.size), 2.3), 'b-', basefmt='None', bottom=1.65, markerfmt='wo')\n",
    "        plt.setp(stemlines, linestyle=\"-\", color=\"b\", linewidth=1.5)\n",
    "        plt.setp(markers, markeredgecolor='b', markersize=10, markeredgewidth=1.5, zorder=3)\n",
    "       # Belichtungszeit\n",
    "        ax.hlines(xmin=meanStartMeasurementDataTime + exposureOffset,\n",
    "                   xmax=(meanStartMeasurementDataTime + exposureOffset + meanExposureTime ),\n",
    "                   y=3, colors=\"blue\", lw=50)\n",
    "         # Lesen und schreiben der Daten\n",
    "        ax.hlines(xmin=meanStartMeasurementDataTime+timeframe+meanStopMeasurementToEndTimeframeTime-meanStopMeasurementTime,\n",
    "                  xmax=meanStartMeasurementDataTime+timeframe+meanStopMeasurementToEndTimeframeTime-meanStopMeasurementTime+meanWriteTime,\n",
    "              y=4, colors=\"dimgrey\", lw=50)\n",
    "    else:\n",
    "         # Nächste Bildaufnahme\n",
    "         # Lesen und schreiben der Daten\n",
    "        ax.hlines(xmin=meanCaptureImagesTime+meanStartMeasurementDataTime+timeframe+meanStopMeasurementToEndTimeframeTime-meanStopMeasurementTime,\n",
    "                  xmax=meanCaptureImagesTime+meanStartMeasurementDataTime+timeframe+meanStopMeasurementToEndTimeframeTime-meanStopMeasurementTime+meanWriteTime,\n",
    "              y=4, colors=\"dimgrey\", lw=50)\n",
    "        # Zeitfenster\n",
    "        x = np.linspace(meanStartMeasurementDataTime+meanCaptureImagesTime,meanCaptureImagesTime+meanStartMeasurementDataTime+timeframe, \n",
    "                        int(featuresDf['Anzahl der Messwerte'].mean()))\n",
    "        (markers, stemlines, baseline) = plt.stem(x, np.full((x.size), 2.3), 'b-', basefmt='None', bottom=1.65, markerfmt='wo')\n",
    "        plt.setp(stemlines, linestyle=\"-\", color=\"b\", linewidth=1.5)\n",
    "        plt.setp(markers, markeredgecolor='b', markersize=10, markeredgewidth=1.5, zorder=3)\n",
    "        # Belichtungszeit\n",
    "        ax.hlines(xmin=meanStartMeasurementDataTime + exposureOffset+meanCaptureImagesTime,\n",
    "                   xmax=meanStartMeasurementDataTime + exposureOffset + meanExposureTime+meanCaptureImagesTime,\n",
    "                   y=3, colors=\"blue\", lw=50)\n",
    "    i = i + 1\n",
    "def formatter(y, pos):\n",
    "    if y == 1:\n",
    "        return 'Messwerterfassung'\n",
    "    if y == 2:\n",
    "        return 'Messwerte im \\n relevanten Zeitfenster'\n",
    "    if y == 3:\n",
    "        return 'Belichtungszeit'\n",
    "    if y == 4:\n",
    "        return 'Lesen und Schreiben \\n der Daten'\n",
    "    else:\n",
    "        return ''\n",
    "\n",
    "plt.gca().yaxis.set_major_formatter(ticker.FuncFormatter(formatter))\n",
    "plt.xlabel('t/ms',fontsize=14)\n",
    "plt.title('Mittelwerte des zeitlichen Ablaufs der Datenerfassung: dynamisches Zeitfenster Mittelwert t=241ms',fontsize=18)\n",
    "plt.grid()\n",
    "plt.yticks(fontsize=14)\n",
    "plt.xticks(fontsize=14)\n",
    "plt.xlim(0,750)\n",
    "plt.ylim(0,4.5)\n",
    "plt.rcParams[\"legend.fontsize\"] = 14\n",
    "plt.savefig('mittelwerteZeitlicherAblaufDynamischesZeitfensterDatensatz31')"
   ]
  },
  {
   "cell_type": "markdown",
   "metadata": {},
   "source": [
    "### Diagramm mit Minimal Zeitwerten: Dynamisches Zeitfenster"
   ]
  },
  {
   "cell_type": "code",
   "execution_count": 4,
   "metadata": {},
   "outputs": [
    {
     "data": {
      "text/plain": [
       "0.86412900000000004"
      ]
     },
     "execution_count": 4,
     "metadata": {},
     "output_type": "execute_result"
    }
   ],
   "source": [
    "# Minimalwert der Belichtungszeit aller Aufnahmen umgerechnet in ms\n",
    "minExposureTime = featuresDf['Belichtungszeit in ns'].min() / 1000000\n",
    "minExposureTime"
   ]
  },
  {
   "cell_type": "code",
   "execution_count": 5,
   "metadata": {},
   "outputs": [
    {
     "data": {
      "text/plain": [
       "128.70012870012872"
      ]
     },
     "execution_count": 5,
     "metadata": {},
     "output_type": "execute_result"
    }
   ],
   "source": [
    "# Dynamisches Zeitfenster Minimal Dauer\n",
    "timeframe = featuresDf['Geschwindigkeit in km/h'].max() \n",
    "# umrechnung km/h in m/s\n",
    "timeframe = timeframe/3.6\n",
    "timeframe = 1/timeframe \n",
    "timeframe = timeframe * 1000\n",
    "timeframe"
   ]
  },
  {
   "cell_type": "code",
   "execution_count": 6,
   "metadata": {},
   "outputs": [
    {
     "data": {
      "text/plain": [
       "7.708335662948369"
      ]
     },
     "execution_count": 6,
     "metadata": {},
     "output_type": "execute_result"
    }
   ],
   "source": [
    "# Mittelwert Anzahl der Messwerte\n",
    "meanTimeframeTime = featuresDf['Geschwindigkeit in km/h'].mean() \n",
    "meanTimeframeTime = meanTimeframeTime/3.6\n",
    "meanTimeframeTime = 1/meanTimeframeTime \n",
    "meanTimeframeTime = meanTimeframeTime * 1000\n",
    "measuredDataPerMs = meanTimeframeTime / featuresDf['Anzahl der Messwerte'].mean()\n",
    "measuredDataPerMs"
   ]
  },
  {
   "cell_type": "code",
   "execution_count": 7,
   "metadata": {},
   "outputs": [
    {
     "data": {
      "text/plain": [
       "16.696227866509652"
      ]
     },
     "execution_count": 7,
     "metadata": {},
     "output_type": "execute_result"
    }
   ],
   "source": [
    "# Minimalwert Anzahl der Messwerte pro Zeitfenster\n",
    "minMeasuredDataPerMs  = timeframe / measuredDataPerMs\n",
    "minMeasuredDataPerMs"
   ]
  },
  {
   "cell_type": "code",
   "execution_count": 8,
   "metadata": {},
   "outputs": [
    {
     "data": {
      "text/plain": [
       "3.0744608203124999"
      ]
     },
     "execution_count": 8,
     "metadata": {},
     "output_type": "execute_result"
    }
   ],
   "source": [
    "# Minimalwert vom Ende des Zeitfensters in ms bis zum Stop der Datenerfassung in ms \n",
    "minStopMeasurementToEndTimeframeTime =(featuresDf['Letzter Zeitstempel der Messwerterfassung in ns seit Start der JVM'] \n",
    "                          - (featuresDf['Start des Zeitfensters in ns seit Start der JVM'] + ((1/(featuresDf['Geschwindigkeit in km/h']/3.6)) * 1000000000))).min()\n",
    "minStopMeasurementToEndTimeframeTime = minStopMeasurementToEndTimeframeTime / 1000000\n",
    "minStopMeasurementToEndTimeframeTime"
   ]
  },
  {
   "cell_type": "code",
   "execution_count": 9,
   "metadata": {},
   "outputs": [
    {
     "data": {
      "text/plain": [
       "167.191418"
      ]
     },
     "execution_count": 9,
     "metadata": {},
     "output_type": "execute_result"
    }
   ],
   "source": [
    "# Minimalwert vom Start der Messwert Datenerfassung bis zum Start des Zeitfensters in ms\n",
    "minStartMeasurementDataTime = (((featuresDf['Start des Zeitfensters in ns seit Start der JVM'] - featuresDf['Start der Messwerterfassung in ns seit Start der JVM'])/ 1000000))\n",
    "minStartMeasurementDataTime = minStartMeasurementDataTime[minStartMeasurementDataTime < 250]\n",
    "minStartMeasurementDataTime = minStartMeasurementDataTime.min()\n",
    "minStartMeasurementDataTime"
   ]
  },
  {
   "cell_type": "code",
   "execution_count": 10,
   "metadata": {},
   "outputs": [
    {
     "data": {
      "text/plain": [
       "63.917999850064355"
      ]
     },
     "execution_count": 10,
     "metadata": {},
     "output_type": "execute_result"
    }
   ],
   "source": [
    "minExposureOffset = (timeframe - minExposureTime) / 2\n",
    "minExposureOffset"
   ]
  },
  {
   "cell_type": "code",
   "execution_count": 11,
   "metadata": {},
   "outputs": [
    {
     "data": {
      "text/plain": [
       "5"
      ]
     },
     "execution_count": 11,
     "metadata": {},
     "output_type": "execute_result"
    }
   ],
   "source": [
    "# Minimale Dauer vom Aufruf das die Aufnahme fertig ist bis zum Stopp der Messwerterfassung in ms\n",
    "minStopMeasurementTime = (featuresDf['Zeitstempel Messwertdaten anfordern in Unixzeit'] - featuresDf['Zeitstempel in Unixzeit']).min()\n",
    "minStopMeasurementTime"
   ]
  },
  {
   "cell_type": "code",
   "execution_count": 178,
   "metadata": {},
   "outputs": [
    {
     "data": {
      "text/plain": [
       "7"
      ]
     },
     "execution_count": 178,
     "metadata": {},
     "output_type": "execute_result"
    }
   ],
   "source": [
    "# Minimale Dauer von Lesen und Schreiben der Merkmale\n",
    "minWriteTime =  (featuresDf['Speicherzeitpunkt der Merkmale in Unixzeit'] - featuresDf['Zeitstempel in Unixzeit']).min()\n",
    "minWriteTime"
   ]
  },
  {
   "cell_type": "code",
   "execution_count": 179,
   "metadata": {},
   "outputs": [],
   "source": [
    "minCaptureImagesTime = 206"
   ]
  },
  {
   "cell_type": "code",
   "execution_count": 180,
   "metadata": {},
   "outputs": [
    {
     "data": {
      "text/plain": [
       "(0, 5)"
      ]
     },
     "execution_count": 180,
     "metadata": {},
     "output_type": "execute_result"
    },
    {
     "data": {
      "image/png": "[encoded data removed]",
      "text/plain": [
       "<Figure size 1080x432 with 1 Axes>"
      ]
     },
     "metadata": {},
     "output_type": "display_data"
    }
   ],
   "source": [
    "# Plot \n",
    "fig, ax = plt.subplots(figsize=(15,6))\n",
    "i = 0\n",
    "numberImages = 2\n",
    "while i < 2:\n",
    "    if i == 0:\n",
    "        # Messwerterfassung\n",
    "        x = np.linspace(0,1000,int(1000/measuredDataPerMs))\n",
    "        (markers, stemlines, baseline) = plt.stem(x, np.full((x.size), 1.3), linefmt='C7-', basefmt='None', bottom=0.65, markerfmt='wo')\n",
    "        plt.setp(stemlines, linestyle=\"-\", color=\"C7\", linewidth=1.5)\n",
    "        plt.setp(markers, markeredgecolor='C7', markersize=10, markeredgewidth=1.5, zorder=3)\n",
    "        # Zeitfenster\n",
    "        x = np.linspace(minStartMeasurementDataTime,minStartMeasurementDataTime+timeframe, \n",
    "                        int(minMeasuredDataPerMs))\n",
    "        (markers, stemlines, baseline) = plt.stem(x, np.full((x.size), 2.3), 'b-', basefmt='None', bottom=1.65, markerfmt='wo')\n",
    "        plt.setp(stemlines, linestyle=\"-\", color=\"b\", linewidth=1.5)\n",
    "        plt.setp(markers, markeredgecolor='b', markersize=10, markeredgewidth=1.5, zorder=3)\n",
    "       # Belichtungszeit\n",
    "        ax.hlines(xmin=minStartMeasurementDataTime + minExposureOffset,\n",
    "                   xmax=(minStartMeasurementDataTime + minExposureOffset + minExposureTime ),\n",
    "                   y=3, colors=\"blue\", lw=50)\n",
    "         # Lesen und schreiben der Daten\n",
    "        ax.hlines(xmin=minStartMeasurementDataTime+timeframe+minStopMeasurementToEndTimeframeTime-minStopMeasurementTime,\n",
    "                  xmax=minStartMeasurementDataTime+timeframe+minStopMeasurementToEndTimeframeTime-minStopMeasurementTime+minWriteTime,\n",
    "              y=4, colors=\"dimgrey\", lw=50)\n",
    "    else:\n",
    "         # Nächste Bildaufnahme\n",
    "         # Lesen und schreiben der Daten\n",
    "        ax.hlines(xmin=minCaptureImagesTime+minStartMeasurementDataTime+timeframe+minStopMeasurementToEndTimeframeTime-minStopMeasurementTime,\n",
    "                  xmax=minCaptureImagesTime+minStartMeasurementDataTime+timeframe+minStopMeasurementToEndTimeframeTime-minStopMeasurementTime+minWriteTime,\n",
    "              y=4, colors=\"dimgrey\", lw=50)\n",
    "        # Zeitfenster\n",
    "        x = np.linspace(minStartMeasurementDataTime+minCaptureImagesTime,minCaptureImagesTime+minStartMeasurementDataTime+timeframe, \n",
    "                        int(minMeasuredDataPerMs))\n",
    "        (markers, stemlines, baseline) = plt.stem(x, np.full((x.size), 2.3), 'b-', basefmt='None', bottom=1.65, markerfmt='wo')\n",
    "        plt.setp(stemlines, linestyle=\"-\", color=\"b\", linewidth=1.5)\n",
    "        plt.setp(markers, markeredgecolor='b', markersize=10, markeredgewidth=1.5, zorder=3)\n",
    "        # Belichtungszeit\n",
    "        ax.hlines(xmin=minStartMeasurementDataTime + minExposureOffset+minCaptureImagesTime,\n",
    "                   xmax=minStartMeasurementDataTime + minExposureOffset + minExposureTime+minCaptureImagesTime,\n",
    "                   y=3, colors=\"blue\", lw=50)\n",
    "    i = i + 1\n",
    "def formatter(y, pos):\n",
    "    if y == 1:\n",
    "        return 'Messwerterfassung'\n",
    "    if y == 2:\n",
    "        return 'Messwerte im \\n relevanten Zeitfenster'\n",
    "    if y == 3:\n",
    "        return 'Belichtungszeit'\n",
    "    if y == 4:\n",
    "        return 'Lesen und Schreiben \\n der Daten'\n",
    "    else:\n",
    "        return ''\n",
    "\n",
    "plt.gca().yaxis.set_major_formatter(ticker.FuncFormatter(formatter))\n",
    "plt.xlabel('t/ms')\n",
    "plt.title('Minimale Dauer des zeitlichen Ablaufs der Datenerfassung: dynamisches Zeitfenster Minimal Dauer t=144ms')\n",
    "plt.grid()\n",
    "#plt.yticks(fontsize=11)\n",
    "#plt.xticks(fontsize=11)\n",
    "plt.xlim(0,550)\n",
    "plt.ylim(0,5)\n",
    "#plt.rcParams[\"legend.fontsize\"] = 11\n",
    "#plt.savefig('')"
   ]
  },
  {
   "cell_type": "markdown",
   "metadata": {},
   "source": [
    "### Diagramm mit Maximalen Zeitwerten: Dynamisches Zeitfenster"
   ]
  },
  {
   "cell_type": "code",
   "execution_count": 181,
   "metadata": {},
   "outputs": [
    {
     "data": {
      "text/plain": [
       "29.996324000000001"
      ]
     },
     "execution_count": 181,
     "metadata": {},
     "output_type": "execute_result"
    }
   ],
   "source": [
    "# Minimalwert der Belichtungszeit aller Aufnahmen umgerechnet in ms\n",
    "maxExposureTime = featuresDf['Belichtungszeit in ns'].max() / 1000000\n",
    "maxExposureTime"
   ]
  },
  {
   "cell_type": "code",
   "execution_count": 182,
   "metadata": {},
   "outputs": [
    {
     "data": {
      "text/plain": [
       "719.42446043165478"
      ]
     },
     "execution_count": 182,
     "metadata": {},
     "output_type": "execute_result"
    }
   ],
   "source": [
    "# Dynamisches Zeitfenster Maximale Dauer\n",
    "timeframe = featuresDf['Geschwindigkeit in km/h'].min() \n",
    "# umrechnung km/h in m/s\n",
    "timeframe = timeframe/3.6\n",
    "timeframe = 1/timeframe \n",
    "timeframe = timeframe * 1000\n",
    "timeframe"
   ]
  },
  {
   "cell_type": "code",
   "execution_count": 183,
   "metadata": {},
   "outputs": [
    {
     "data": {
      "text/plain": [
       "7.7614322982775947"
      ]
     },
     "execution_count": 183,
     "metadata": {},
     "output_type": "execute_result"
    }
   ],
   "source": [
    "# Mittelwert Anzahl der Messwerte\n",
    "meanTimeframeTime = featuresDf['Geschwindigkeit in km/h'].mean() \n",
    "meanTimeframeTime = meanTimeframeTime/3.6\n",
    "meanTimeframeTime = 1/meanTimeframeTime \n",
    "meanTimeframeTime = meanTimeframeTime * 1000\n",
    "measuredDataPerMs = meanTimeframeTime / featuresDf['Anzahl der Messwerte'].mean()\n",
    "measuredDataPerMs"
   ]
  },
  {
   "cell_type": "code",
   "execution_count": 185,
   "metadata": {},
   "outputs": [
    {
     "data": {
      "text/plain": [
       "92.69222906077637"
      ]
     },
     "execution_count": 185,
     "metadata": {},
     "output_type": "execute_result"
    }
   ],
   "source": [
    "# Maximale Anzahl der Messwerte pro zeitfenster\n",
    "maxMeasuredDataPointsTimeframe  = timeframe / measuredDataPerMs\n",
    "maxMeasuredDataPointsTimeframe"
   ]
  },
  {
   "cell_type": "code",
   "execution_count": 70,
   "metadata": {},
   "outputs": [
    {
     "data": {
      "text/plain": [
       "400.76113737499998"
      ]
     },
     "execution_count": 70,
     "metadata": {},
     "output_type": "execute_result"
    }
   ],
   "source": [
    "# Maximalwerte vom Ende des Zeitfensters in ms bis zum Stop der Datenerfassung in ms \n",
    "maxStopMeasurementToEndTimeframeTime =(featuresDf['Letzter Zeitstempel der Messwerterfassung in ns seit Start der JVM'] \n",
    "                          - (featuresDf['Start des Zeitfensters in ns seit Start der JVM'] + ((1/(featuresDf['Geschwindigkeit in km/h']/3.6)) * 1000000000))).max()\n",
    "maxStopMeasurementToEndTimeframeTime = maxStopMeasurementToEndTimeframeTime / 1000000\n",
    "maxStopMeasurementToEndTimeframeTime"
   ]
  },
  {
   "cell_type": "code",
   "execution_count": 72,
   "metadata": {},
   "outputs": [
    {
     "data": {
      "text/plain": [
       "239.53086099999999"
      ]
     },
     "execution_count": 72,
     "metadata": {},
     "output_type": "execute_result"
    }
   ],
   "source": [
    "# Maximalwert vom Start der Messwert Datenerfassung bis zum Start des Zeitfensters in ms\n",
    "maxStartMeasurementDataTime = (((featuresDf['Start des Zeitfensters in ns seit Start der JVM'] - featuresDf['Start der Messwerterfassung in ns seit Start der JVM'])/ 1000000))\n",
    "maxStartMeasurementDataTime = maxStartMeasurementDataTime[maxStartMeasurementDataTime < 250]\n",
    "maxStartMeasurementDataTime = maxStartMeasurementDataTime.max()\n",
    "maxStartMeasurementDataTime"
   ]
  },
  {
   "cell_type": "code",
   "execution_count": 73,
   "metadata": {},
   "outputs": [
    {
     "data": {
      "text/plain": [
       "344.71406821582741"
      ]
     },
     "execution_count": 73,
     "metadata": {},
     "output_type": "execute_result"
    }
   ],
   "source": [
    "maxExposureOffset = (timeframe - maxExposureTime) / 2\n",
    "maxExposureOffset"
   ]
  },
  {
   "cell_type": "code",
   "execution_count": 74,
   "metadata": {},
   "outputs": [
    {
     "data": {
      "text/plain": [
       "406"
      ]
     },
     "execution_count": 74,
     "metadata": {},
     "output_type": "execute_result"
    }
   ],
   "source": [
    "# maximale Dauer vom Aufruf das die Aufnahme fertig ist bis zum Stopp der Messwerterfassung in ms\n",
    "maxStopMeasurementTime = (featuresDf['Zeitstempel Messwertdaten anfordern in Unixzeit'] - featuresDf['Zeitstempel in Unixzeit']).max()\n",
    "maxStopMeasurementTime"
   ]
  },
  {
   "cell_type": "code",
   "execution_count": 75,
   "metadata": {},
   "outputs": [
    {
     "data": {
      "text/plain": [
       "432"
      ]
     },
     "execution_count": 75,
     "metadata": {},
     "output_type": "execute_result"
    }
   ],
   "source": [
    "# maximale Dauer von Lesen und Schreiben der Merkmale\n",
    "maxWriteTime =  (featuresDf['Speicherzeitpunkt der Merkmale in Unixzeit'] - featuresDf['Zeitstempel in Unixzeit']).max()\n",
    "maxWriteTime"
   ]
  },
  {
   "cell_type": "code",
   "execution_count": 82,
   "metadata": {},
   "outputs": [],
   "source": [
    "maxCaptureImagesTime = 1000"
   ]
  },
  {
   "cell_type": "code",
   "execution_count": 186,
   "metadata": {},
   "outputs": [
    {
     "data": {
      "text/plain": [
       "(0, 5)"
      ]
     },
     "execution_count": 186,
     "metadata": {},
     "output_type": "execute_result"
    },
    {
     "data": {
      "image/png": "[encoded data removed]",
      "text/plain": [
       "<Figure size 1080x432 with 1 Axes>"
      ]
     },
     "metadata": {},
     "output_type": "display_data"
    }
   ],
   "source": [
    "# Plot \n",
    "fig, ax = plt.subplots(figsize=(15,6))\n",
    "i = 0\n",
    "numberImages = 2\n",
    "while i < 2:\n",
    "    if i == 0:\n",
    "        # Messwerterfassung\n",
    "        x = np.linspace(0,3000,int(3000/measuredDataPerMs))\n",
    "        (markers, stemlines, baseline) = plt.stem(x, np.full((x.size), 1.3), linefmt='C7-', basefmt='None', bottom=0.65, markerfmt='wo')\n",
    "        plt.setp(stemlines, linestyle=\"-\", color=\"C7\", linewidth=1.5)\n",
    "        plt.setp(markers, markeredgecolor='C7', markersize=10, markeredgewidth=1.5, zorder=3)\n",
    "        # Zeitfenster\n",
    "        x = np.linspace(maxStartMeasurementDataTime,maxStartMeasurementDataTime+timeframe, \n",
    "                        int(maxMeasuredDataPointsTimeframe))\n",
    "        (markers, stemlines, baseline) = plt.stem(x, np.full((x.size), 2.3), 'b-', basefmt='None', bottom=1.65, markerfmt='wo')\n",
    "        plt.setp(stemlines, linestyle=\"-\", color=\"b\", linewidth=1.5)\n",
    "        plt.setp(markers, markeredgecolor='b', markersize=10, markeredgewidth=1.5, zorder=3)\n",
    "       # Belichtungszeit\n",
    "        ax.hlines(xmin=maxStartMeasurementDataTime + maxExposureOffset,\n",
    "                   xmax=(maxStartMeasurementDataTime + maxExposureOffset + maxExposureTime ),\n",
    "                   y=3, colors=\"blue\", lw=50)\n",
    "         # Lesen und schreiben der Daten\n",
    "        ax.hlines(xmin=maxStartMeasurementDataTime+timeframe+maxStopMeasurementToEndTimeframeTime-maxStopMeasurementTime,\n",
    "                  xmax=maxStartMeasurementDataTime+timeframe+maxStopMeasurementToEndTimeframeTime-maxStopMeasurementTime+maxWriteTime,\n",
    "              y=4, colors=\"dimgrey\", lw=50)\n",
    "    else:\n",
    "         # Nächste Bildaufnahme\n",
    "         # Lesen und schreiben der Daten\n",
    "        ax.hlines(xmin=maxCaptureImagesTime+maxStartMeasurementDataTime+timeframe+maxStopMeasurementToEndTimeframeTime-maxStopMeasurementTime,\n",
    "                  xmax=maxCaptureImagesTime+maxStartMeasurementDataTime+timeframe+maxStopMeasurementToEndTimeframeTime-maxStopMeasurementTime+maxWriteTime,\n",
    "              y=4, colors=\"dimgrey\", lw=50)\n",
    "        # Zeitfenster\n",
    "        x = np.linspace(maxStartMeasurementDataTime+maxCaptureImagesTime,maxCaptureImagesTime+maxStartMeasurementDataTime+timeframe, \n",
    "                        int(maxMeasuredDataPointsTimeframe))\n",
    "        (markers, stemlines, baseline) = plt.stem(x, np.full((x.size), 2.3), 'b-', basefmt='None', bottom=1.65, markerfmt='wo')\n",
    "        plt.setp(stemlines, linestyle=\"-\", color=\"b\", linewidth=1.5)\n",
    "        plt.setp(markers, markeredgecolor='b', markersize=10, markeredgewidth=1.5, zorder=3)\n",
    "        # Belichtungszeit\n",
    "        ax.hlines(xmin=maxStartMeasurementDataTime + maxExposureOffset+maxCaptureImagesTime,\n",
    "                   xmax=maxStartMeasurementDataTime + maxExposureOffset + maxExposureTime+maxCaptureImagesTime,\n",
    "                   y=3, colors=\"blue\", lw=50)\n",
    "    i = i + 1\n",
    "def formatter(y, pos):\n",
    "    if y == 1:\n",
    "        return 'Messwerterfassung'\n",
    "    if y == 2:\n",
    "        return 'Messwerte im \\n relevanten Zeitfenster'\n",
    "    if y == 3:\n",
    "        return 'Belichtungszeit'\n",
    "    if y == 4:\n",
    "        return 'Lesen und Schreiben \\n der Daten'\n",
    "    else:\n",
    "        return ''\n",
    "\n",
    "plt.gca().yaxis.set_major_formatter(ticker.FuncFormatter(formatter))\n",
    "plt.xlabel('t/ms')\n",
    "plt.title('Maximale Dauer des zeitlichen Ablaufs der Datenerfassung: dynamisches Zeitfenster Maximale Dauer t=720ms')\n",
    "plt.grid()\n",
    "#plt.yticks(fontsize=11)\n",
    "#plt.xticks(fontsize=11)\n",
    "plt.xlim(0,1600)\n",
    "plt.ylim(0,5)\n",
    "#plt.rcParams[\"legend.fontsize\"] = 11\n",
    "#plt.savefig('')"
   ]
  },
  {
   "cell_type": "markdown",
   "metadata": {},
   "source": [
    "### Diagramm mit tatsächlichen Zeitwerten mit dynamischen Zeitfenster "
   ]
  },
  {
   "cell_type": "code",
   "execution_count": 12,
   "metadata": {},
   "outputs": [],
   "source": [
    "imageIndex = 6"
   ]
  },
  {
   "cell_type": "code",
   "execution_count": 13,
   "metadata": {},
   "outputs": [
    {
     "data": {
      "text/plain": [
       "2.0316230000000002"
      ]
     },
     "execution_count": 13,
     "metadata": {},
     "output_type": "execute_result"
    }
   ],
   "source": [
    "exposureTime = featuresDf['Belichtungszeit in ns'].iloc[imageIndex] / 1000000\n",
    "exposureTimeNextImage = featuresDf['Belichtungszeit in ns'].iloc[imageIndex+1] / 1000000\n",
    "exposureTime"
   ]
  },
  {
   "cell_type": "code",
   "execution_count": 14,
   "metadata": {},
   "outputs": [
    {
     "data": {
      "text/plain": [
       "323.62459546925572"
      ]
     },
     "execution_count": 14,
     "metadata": {},
     "output_type": "execute_result"
    }
   ],
   "source": [
    "timeframe = featuresDf['Geschwindigkeit in km/h'].iloc[imageIndex]\n",
    "timeframeNextImage = featuresDf['Geschwindigkeit in km/h'].iloc[imageIndex+1]\n",
    "timeframeNextImage = timeframeNextImage/3.6\n",
    "timeframeNextImage = 1/timeframeNextImage \n",
    "timeframeNextImage = timeframeNextImage * 1000\n",
    "# umrechnung km/h in m/s\n",
    "timeframe = timeframe/3.6\n",
    "timeframe = 1/timeframe \n",
    "timeframe = timeframe * 1000\n",
    "timeframe"
   ]
  },
  {
   "cell_type": "code",
   "execution_count": 15,
   "metadata": {},
   "outputs": [
    {
     "data": {
      "text/plain": [
       "7.708335662948369"
      ]
     },
     "execution_count": 15,
     "metadata": {},
     "output_type": "execute_result"
    }
   ],
   "source": [
    "meanTimeframeTime = featuresDf['Geschwindigkeit in km/h'].mean() \n",
    "meanTimeframeTime = meanTimeframeTime/3.6\n",
    "meanTimeframeTime = 1/meanTimeframeTime \n",
    "meanTimeframeTime = meanTimeframeTime * 1000\n",
    "measuredDataPerMs = meanTimeframeTime / featuresDf['Anzahl der Messwerte'].mean()\n",
    "measuredDataPerMs"
   ]
  },
  {
   "cell_type": "code",
   "execution_count": 16,
   "metadata": {},
   "outputs": [],
   "source": [
    "# Anzahl der Messwerte innerhalb des Zeitfensters\n",
    "measuredDataPointsTimeframe = timeframe / measuredDataPerMs\n",
    "measuredDataPointsTimeframeNextImage = timeframeNextImage / measuredDataPerMs"
   ]
  },
  {
   "cell_type": "code",
   "execution_count": 48,
   "metadata": {},
   "outputs": [
    {
     "data": {
      "text/plain": [
       "18.193421000000001"
      ]
     },
     "execution_count": 48,
     "metadata": {},
     "output_type": "execute_result"
    }
   ],
   "source": [
    "stopMeasurementToEndTimeframeTime =(featuresDf['Letzter Zeitstempel der Messwerterfassung in ns seit Start der JVM'] \n",
    "                          - (featuresDf['Start des Zeitfensters in ns seit Start der JVM'] + ((1/(featuresDf['Geschwindigkeit in km/h']/3.6)) * 1000000000))).iloc[imageIndex]\n",
    "stopMeasurementToEndTimeframeTime = stopMeasurementToEndTimeframeTime / 1000000\n",
    "stopMeasurementToEndTimeframeTimeNextImage =(featuresDf['Letzter Zeitstempel der Messwerterfassung in ns seit Start der JVM'] \n",
    "                          - (featuresDf['Start des Zeitfensters in ns seit Start der JVM'] + ((1/(featuresDf['Geschwindigkeit in km/h']/3.6)) * 1000000000))).iloc[imageIndex+1]\n",
    "stopMeasurementToEndTimeframeTimeNextImage = stopMeasurementToEndTimeframeTimeNextImage / 1000000\n",
    "stopMeasurementToEndTimeframeTime"
   ]
  },
  {
   "cell_type": "code",
   "execution_count": 49,
   "metadata": {},
   "outputs": [
    {
     "data": {
      "text/plain": [
       "203.64453225"
      ]
     },
     "execution_count": 49,
     "metadata": {},
     "output_type": "execute_result"
    }
   ],
   "source": [
    "startMeasurementDataTime = (((featuresDf['Start des Zeitfensters in ns seit Start der JVM'] - featuresDf['Start der Messwerterfassung in ns seit Start der JVM'])/ 1000000))\n",
    "startMeasurementDataTime = startMeasurementDataTime[startMeasurementDataTime < 250]\n",
    "startMeasurementDataTime = startMeasurementDataTime.mean()\n",
    "startMeasurementDataTime"
   ]
  },
  {
   "cell_type": "code",
   "execution_count": 50,
   "metadata": {},
   "outputs": [
    {
     "data": {
      "text/plain": [
       "194.99908049999999"
      ]
     },
     "execution_count": 50,
     "metadata": {},
     "output_type": "execute_result"
    }
   ],
   "source": [
    "exposureOffset = (timeframe - exposureTime) / 2\n",
    "exposureOffsetNextImage = (timeframeNextImage - exposureTimeNextImage) / 2\n",
    "exposureOffset"
   ]
  },
  {
   "cell_type": "code",
   "execution_count": 51,
   "metadata": {},
   "outputs": [
    {
     "data": {
      "text/plain": [
       "95"
      ]
     },
     "execution_count": 51,
     "metadata": {},
     "output_type": "execute_result"
    }
   ],
   "source": [
    "stopMeasurementTime = (featuresDf['Zeitstempel Messwertdaten anfordern in Unixzeit'] - featuresDf['Zeitstempel in Unixzeit']).iloc[imageIndex]\n",
    "stopMeasurementTimeNextImage = (featuresDf['Zeitstempel Messwertdaten anfordern in Unixzeit'] - featuresDf['Zeitstempel in Unixzeit']).iloc[imageIndex+1]\n",
    "stopMeasurementTime"
   ]
  },
  {
   "cell_type": "code",
   "execution_count": 52,
   "metadata": {},
   "outputs": [
    {
     "data": {
      "text/plain": [
       "135"
      ]
     },
     "execution_count": 52,
     "metadata": {},
     "output_type": "execute_result"
    }
   ],
   "source": [
    "writeTime = (featuresDf['Speicherzeitpunkt der Merkmale in Unixzeit'] - featuresDf['Zeitstempel in Unixzeit']).iloc[imageIndex]\n",
    "writeTimeNextImage = (featuresDf['Speicherzeitpunkt der Merkmale in Unixzeit'] - featuresDf['Zeitstempel in Unixzeit']).iloc[imageIndex+1]\n",
    "writeTime"
   ]
  },
  {
   "cell_type": "code",
   "execution_count": 53,
   "metadata": {},
   "outputs": [
    {
     "data": {
      "text/plain": [
       "351"
      ]
     },
     "execution_count": 53,
     "metadata": {},
     "output_type": "execute_result"
    }
   ],
   "source": [
    "nextImageInMs = featuresDf['Zeitstempel in Unixzeit'].iloc[imageIndex+1] - featuresDf['Zeitstempel in Unixzeit'].iloc[imageIndex]\n",
    "nextImageInMs"
   ]
  },
  {
   "cell_type": "code",
   "execution_count": 54,
   "metadata": {},
   "outputs": [
    {
     "name": "stdout",
     "output_type": "stream",
     "text": [
      "6\n"
     ]
    }
   ],
   "source": [
    "# In dieser Zelle wird ein Dataframe Index gesucht bei welchem sich zwei Zeitfenster überschneiden\n",
    "indexOverlap = 0\n",
    "for index, row in featuresDf.iterrows():\n",
    "    indexOverlap = int(index)\n",
    "    if indexOverlap+1 > featuresDf.shape[0]:\n",
    "        break  \n",
    "    # Start Zeitfenster plus Dauer des Zeitfensters in ns ist größer als Start des Zeitfensters für das nächste Bild\n",
    "    if (featuresDf['Start des Zeitfensters in ns seit Start der JVM'].iloc[indexOverlap] + ((1/(featuresDf['Geschwindigkeit in km/h'].iloc[indexOverlap]/3.6)) * 1000000000)) > featuresDf['Start des Zeitfensters in ns seit Start der JVM'].iloc[indexOverlap+1]:\n",
    "        print(indexOverlap)\n",
    "        break"
   ]
  },
  {
   "cell_type": "code",
   "execution_count": 55,
   "metadata": {},
   "outputs": [
    {
     "data": {
      "text/plain": [
       "(0, 5)"
      ]
     },
     "execution_count": 55,
     "metadata": {},
     "output_type": "execute_result"
    },
    {
     "data": {
      "image/png": "[encoded data removed]",
      "text/plain": [
       "<Figure size 1080x432 with 1 Axes>"
      ]
     },
     "metadata": {},
     "output_type": "display_data"
    }
   ],
   "source": [
    "# Plot \n",
    "fig, ax = plt.subplots(figsize=(15,6))\n",
    "i = 0\n",
    "numberImages = 2\n",
    "while i < 2:\n",
    "    if i == 0:\n",
    "        # Messwerterfassung\n",
    "        x = np.linspace(0,3000,int(3000/measuredDataPerMs))\n",
    "        (markers, stemlines, baseline) = plt.stem(x, np.full((x.size), 1.3), linefmt='C7-', basefmt='None', bottom=0.65, markerfmt='wo')\n",
    "        plt.setp(stemlines, linestyle=\"-\", color=\"C7\", linewidth=1.5)\n",
    "        plt.setp(markers, markeredgecolor='C7', markersize=10, markeredgewidth=1.5, zorder=3)\n",
    "        # Zeitfenster\n",
    "        x = np.linspace(startMeasurementDataTime,startMeasurementDataTime+timeframe, \n",
    "                        int(measuredDataPointsTimeframe))\n",
    "        (markers, stemlines, baseline) = plt.stem(x, np.full((x.size), 2.3), 'b-', basefmt='None', bottom=1.65, markerfmt='wo')\n",
    "        plt.setp(stemlines, linestyle=\"-\", color=\"b\", linewidth=1.5)\n",
    "        plt.setp(markers, markeredgecolor='b', markersize=10, markeredgewidth=1.5, zorder=3)\n",
    "       # Belichtungszeit\n",
    "        ax.hlines(xmin=startMeasurementDataTime + exposureOffset,\n",
    "                   xmax=(startMeasurementDataTime + exposureOffset + exposureTime ),\n",
    "                   y=3, colors=\"blue\", lw=50)\n",
    "         # Lesen und schreiben der Daten\n",
    "        ax.hlines(xmin=startMeasurementDataTime+timeframe+stopMeasurementToEndTimeframeTime-stopMeasurementTime,\n",
    "                  xmax=startMeasurementDataTime+timeframe+stopMeasurementToEndTimeframeTime-stopMeasurementTime+writeTime,\n",
    "              y=4, colors=\"dimgrey\", lw=50)\n",
    "    else:\n",
    "         # Nächste Bildaufnahme\n",
    "         # Lesen und schreiben der Daten\n",
    "        ax.hlines(xmin=nextImageInMs+startMeasurementDataTime+timeframeNextImage+stopMeasurementToEndTimeframeTimeNextImage-stopMeasurementTimeNextImage,\n",
    "                  xmax=nextImageInMs+startMeasurementDataTime+timeframeNextImage+stopMeasurementToEndTimeframeTimeNextImage-stopMeasurementTimeNextImage+writeTimeNextImage,\n",
    "              y=4, colors=\"dimgrey\", lw=50)\n",
    "        # Zeitfenster\n",
    "        x = np.linspace(nextImageInMs+startMeasurementDataTime,nextImageInMs+startMeasurementDataTime+timeframeNextImage, \n",
    "                        int(measuredDataPointsTimeframeNextImage))\n",
    "        (markers, stemlines, baseline) = plt.stem(x, np.full((x.size), 2.3), 'b-', basefmt='None', bottom=1.65, markerfmt='wo')\n",
    "        plt.setp(stemlines, linestyle=\"-\", color=\"b\", linewidth=1.5)\n",
    "        plt.setp(markers, markeredgecolor='b', markersize=10, markeredgewidth=1.5, zorder=3)\n",
    "        # Belichtungszeit\n",
    "        ax.hlines(xmin=nextImageInMs+startMeasurementDataTime + exposureOffsetNextImage,\n",
    "                   xmax=nextImageInMs+startMeasurementDataTime + exposureOffsetNextImage + exposureTimeNextImage,\n",
    "                   y=3, colors=\"blue\", lw=50)\n",
    "    i = i + 1\n",
    "def formatter(y, pos):\n",
    "    if y == 1:\n",
    "        return 'Messwerterfassung'\n",
    "    if y == 2:\n",
    "        return 'Messwerte im \\n relevanten Zeitfenster'\n",
    "    if y == 3:\n",
    "        return 'Belichtungszeit'\n",
    "    if y == 4:\n",
    "        return 'Lesen und Schreiben \\n der Daten'\n",
    "    else:\n",
    "        return ''\n",
    "\n",
    "plt.gca().yaxis.set_major_formatter(ticker.FuncFormatter(formatter))\n",
    "plt.xlabel('t/ms')\n",
    "plt.title('Zeitliche Ablaufs der Datenerfassung: dynamisches Zeitfenster Bildindex: ' + str(imageIndex))\n",
    "plt.grid()\n",
    "#plt.yticks(fontsize=11)\n",
    "#plt.xticks(fontsize=11)\n",
    "plt.xlim(0,1000)\n",
    "plt.ylim(0,5)\n",
    "#plt.rcParams[\"legend.fontsize\"] = 11\n",
    "#plt.savefig('')"
   ]
  },
  {
   "cell_type": "markdown",
   "metadata": {},
   "source": [
    "### Diagramm mit Minimal Zeitwerten für ein statisches Zeitfenster"
   ]
  },
  {
   "cell_type": "code",
   "execution_count": 32,
   "metadata": {},
   "outputs": [
    {
     "data": {
      "text/plain": [
       "2.2246730000000001"
      ]
     },
     "execution_count": 32,
     "metadata": {},
     "output_type": "execute_result"
    }
   ],
   "source": [
    "minExposureTime = featuresDf['Belichtungszeit in ns'].min() / 1000000\n",
    "minExposureTime"
   ]
  },
  {
   "cell_type": "code",
   "execution_count": 169,
   "metadata": {},
   "outputs": [
    {
     "data": {
      "text/plain": [
       "26.202089000000001"
      ]
     },
     "execution_count": 169,
     "metadata": {},
     "output_type": "execute_result"
    }
   ],
   "source": [
    "# Min Zeit vom Stopp des Zeitfensters zum Stopp der Messwerterfassung \n",
    "minStopMeasurementToEndTimeframeTime =(featuresDf['Letzter Zeitstempel der Messwerterfassung in ns seit Start der JVM'] \n",
    "                          - (featuresDf['Start des Zeitfensters in ns seit Start der JVM'] + (timeframe))).min()\n",
    "minStopMeasurementToEndTimeframeTime = minStopMeasurementToEndTimeframeTime / 1000000\n",
    "minStopMeasurementToEndTimeframeTime"
   ]
  },
  {
   "cell_type": "code",
   "execution_count": 170,
   "metadata": {},
   "outputs": [
    {
     "data": {
      "text/plain": [
       "-106.0"
      ]
     },
     "execution_count": 170,
     "metadata": {},
     "output_type": "execute_result"
    }
   ],
   "source": [
    "minStopMeasurementTime = (featuresDf['Stopp der Messwerterfassung in Unixzeit']-featuresDf['Zeitstempel in Unixzeit'] ).min()\n",
    "minStopMeasurementTime"
   ]
  },
  {
   "cell_type": "code",
   "execution_count": 172,
   "metadata": {},
   "outputs": [
    {
     "data": {
      "text/plain": [
       "-71.199596"
      ]
     },
     "execution_count": 172,
     "metadata": {},
     "output_type": "execute_result"
    }
   ],
   "source": [
    "# vom Start der Messwert Datenerfassung bis zum Start des Zeitfensters in ms\n",
    "minStartMeasurementDataTime = (featuresDf['Start des Zeitfensters in ns seit Start der JVM'] - featuresDf['Start der Messwerterfassung in ns seit Start der JVM']).min()\n",
    "minStartMeasurementDataTime = minStartMeasurementDataTime / 1000000\n",
    "minStartMeasurementDataTime"
   ]
  },
  {
   "cell_type": "code",
   "execution_count": 183,
   "metadata": {},
   "outputs": [
    {
     "data": {
      "text/plain": [
       "Int64Index([35516, 45468, 55901, 59990, 97012], dtype='int64')"
      ]
     },
     "execution_count": 183,
     "metadata": {},
     "output_type": "execute_result"
    }
   ],
   "source": [
    "minStartMeasurementDataTimeOutlier = featuresDf[(featuresDf['Start des Zeitfensters in ns seit Start der JVM'] - featuresDf['Start der Messwerterfassung in ns seit Start der JVM']) < 0]\n",
    "(minStartMeasurementDataTimeOutlier['Start des Zeitfensters in ns seit Start der JVM'] - minStartMeasurementDataTimeOutlier['Start der Messwerterfassung in ns seit Start der JVM']) / 1000000\n",
    "featuresDf[(featuresDf['Start des Zeitfensters in ns seit Start der JVM'] - featuresDf['Start der Messwerterfassung in ns seit Start der JVM']) < 0].index"
   ]
  },
  {
   "cell_type": "code",
   "execution_count": 184,
   "metadata": {},
   "outputs": [],
   "source": [
    "minExposureOffset = (timeframe - minExposureTime) / 2\n",
    "# Abstand zwischen zwei Bildern\n",
    "meanCaptureImagesTime = meanCaptureImagesTime\n",
    "# Messwerterfassung\n",
    "startMinTimeFrame = meanCaptureImagesTime - minStopMeasurementToEndTimeframeTime - minStopMeasurementTime - timeframe\n",
    "#Zeitfenster\n",
    "startMinExposureTime = startMinTimeFrame + minExposureOffset\n",
    "# Belichtungszeit\n",
    "exposureMinTime = startMinExposureTime + minExposureTime"
   ]
  },
  {
   "cell_type": "code",
   "execution_count": 185,
   "metadata": {},
   "outputs": [
    {
     "data": {
      "text/plain": [
       "-396.28152299999999"
      ]
     },
     "execution_count": 185,
     "metadata": {},
     "output_type": "execute_result"
    }
   ],
   "source": [
    "zeroOffsetMinMax = startMaxTimeFrame - maxStartMeasurementDataTime\n",
    "zeroOffsetMinMax"
   ]
  },
  {
   "cell_type": "code",
   "execution_count": 186,
   "metadata": {},
   "outputs": [
    {
     "data": {
      "text/plain": [
       "227.61094399999999"
      ]
     },
     "execution_count": 186,
     "metadata": {},
     "output_type": "execute_result"
    }
   ],
   "source": [
    "maxStartMeasurementDataTime"
   ]
  },
  {
   "cell_type": "code",
   "execution_count": 187,
   "metadata": {},
   "outputs": [
    {
     "data": {
      "text/plain": [
       "5.0"
      ]
     },
     "execution_count": 187,
     "metadata": {},
     "output_type": "execute_result"
    }
   ],
   "source": [
    "maxStopMeasurementTime"
   ]
  },
  {
   "cell_type": "code",
   "execution_count": 207,
   "metadata": {},
   "outputs": [
    {
     "data": {
      "image/png": "[encoded data removed]",
      "text/plain": [
       "<Figure size 1440x432 with 1 Axes>"
      ]
     },
     "metadata": {},
     "output_type": "display_data"
    }
   ],
   "source": [
    "# Plot mit Min und Max Zeitangaben\n",
    "fig, ax = plt.subplots(figsize=(20,6))\n",
    "# Messwerterfassung\n",
    "x = np.linspace(0,minStartMeasurementDataTime+timeframe+minStopMeasurementToEndTimeframeTime, \n",
    "                        int((minStartMeasurementDataTime+timeframe+minStopMeasurementToEndTimeframeTime)/measuredDataPerMs))\n",
    "(markers, stemlines, baseline) = plt.stem(x, np.full((x.size), 1.3), linefmt='C7-', basefmt='None', bottom=0.65, markerfmt='wo')\n",
    "plt.setp(stemlines, linestyle=\"-\", color=\"C7\", linewidth=1.5)\n",
    "plt.setp(markers, markeredgecolor='C7', markersize=10, markeredgewidth=1.5, zorder=3)\n",
    "# Zeitfenster\n",
    "x = np.linspace(minStartMeasurementDataTime,minStartMeasurementDataTime+timeframe, \n",
    "                int((timeframe)/ measuredDataPerMs))\n",
    "(markers, stemlines, baseline) = plt.stem(x, np.full((x.size), 2.3), 'b-', basefmt='None', bottom=1.65, markerfmt='wo')\n",
    "plt.setp(stemlines, linestyle=\"-\", color=\"b\", linewidth=1.5)\n",
    "plt.setp(markers, markeredgecolor='b', markersize=10, markeredgewidth=1.5, zorder=3)\n",
    "# Belichtungszeit\n",
    "ax.hlines(xmin=(minStartMeasurementDataTime+timeframe/2) - (minExposureTime/2),xmax=(minStartMeasurementDataTime+timeframe/2) + (minExposureTime/2),y=3, colors=\"blue\", lw=40)\n",
    "# Lesen und schreiben der Daten\n",
    "ax.hlines(xmin=minStartMeasurementDataTime+timeframe+minStopMeasurementToEndTimeframeTime-minStopMeasurementTime,xmax=meanCaptureImagesTime+meanStopMeasurementTime - zeroOffsetMinMax + 50,\n",
    "                  y=4, colors=\"dimgrey\", lw=40)\n",
    "\n",
    "def formatter(y, pos):\n",
    "    if y == 1:\n",
    "        return 'Messwerterfassung'\n",
    "    if y == 2:\n",
    "        return 'Messwerte im \\n relevanten Zeitfenster'\n",
    "    if y == 3:\n",
    "        return 'Belichtungszeit'\n",
    "    if y == 4:\n",
    "        return 'Lesen und Schreiben \\n der Daten'\n",
    "    else:\n",
    "        return ''\n",
    "    \n",
    "\n",
    "plt.gca().yaxis.set_major_formatter(ticker.FuncFormatter(formatter))\n",
    "plt.xlabel('t/ms',fontsize=14)\n",
    "plt.title('Minimale Zeitabstände des zeitlichen Ablaufs der Datenerfassung',fontsize=18)\n",
    "plt.grid()\n",
    "plt.yticks(fontsize=14)\n",
    "plt.xticks(fontsize=14)\n",
    "plt.xlim(-80,startTimeFrameList[1]-200)\n",
    "plt.ylim(0,5)\n",
    "plt.rcParams[\"legend.fontsize\"] = 14"
   ]
  },
  {
   "cell_type": "code",
   "execution_count": 197,
   "metadata": {},
   "outputs": [
    {
     "data": {
      "text/plain": [
       "-31.199596"
      ]
     },
     "execution_count": 197,
     "metadata": {},
     "output_type": "execute_result"
    }
   ],
   "source": [
    "(minStartMeasurementDataTime+timeframe/2)"
   ]
  },
  {
   "cell_type": "code",
   "execution_count": 74,
   "metadata": {},
   "outputs": [
    {
     "data": {
      "text/plain": [
       "215.97347183880814"
      ]
     },
     "execution_count": 74,
     "metadata": {},
     "output_type": "execute_result"
    }
   ],
   "source": [
    "meanCaptureImagesTimeList[0] + meanStopMeasurementTime - zeroOffset"
   ]
  },
  {
   "cell_type": "code",
   "execution_count": 77,
   "metadata": {},
   "outputs": [
    {
     "data": {
      "text/plain": [
       "90.856761651308119"
      ]
     },
     "execution_count": 77,
     "metadata": {},
     "output_type": "execute_result"
    }
   ],
   "source": [
    "meanCaptureImagesTimeList[0] + meanStopMeasurementTime - startTimeFrameList[0]-meanStartMeasurementDataTime"
   ]
  },
  {
   "cell_type": "code",
   "execution_count": null,
   "metadata": {},
   "outputs": [],
   "source": []
  }
 ],
 "metadata": {
  "kernelspec": {
   "display_name": "Python 3",
   "language": "python",
   "name": "python3"
  },
  "language_info": {
   "codemirror_mode": {
    "name": "ipython",
    "version": 3
   },
   "file_extension": ".py",
   "mimetype": "text/x-python",
   "name": "python",
   "nbconvert_exporter": "python",
   "pygments_lexer": "ipython3",
   "version": "3.6.4"
  },
  "latex_envs": {
   "LaTeX_envs_menu_present": true,
   "autocomplete": true,
   "bibliofile": "biblio.bib",
   "cite_by": "apalike",
   "current_citInitial": 1,
   "eqLabelWithNumbers": true,
   "eqNumInitial": 1,
   "hotkeys": {
    "equation": "Ctrl-E",
    "itemize": "Ctrl-I"
   },
   "labels_anchors": false,
   "latex_user_defs": false,
   "report_style_numbering": false,
   "user_envs_cfg": false
  },
  "toc": {
   "colors": {
    "hover_highlight": "#DAA520",
    "navigate_num": "#000000",
    "navigate_text": "#333333",
    "running_highlight": "#FF0000",
    "selected_highlight": "#FFD700",
    "sidebar_border": "#EEEEEE",
    "wrapper_background": "#FFFFFF"
   },
   "moveMenuLeft": true,
   "nav_menu": {
    "height": "49px",
    "width": "252px"
   },
   "navigate_menu": true,
   "number_sections": true,
   "sideBar": true,
   "threshold": 4,
   "toc_cell": false,
   "toc_section_display": "block",
   "toc_window_display": false,
   "widenNotebook": false
  }
 },
 "nbformat": 4,
 "nbformat_minor": 2
}
