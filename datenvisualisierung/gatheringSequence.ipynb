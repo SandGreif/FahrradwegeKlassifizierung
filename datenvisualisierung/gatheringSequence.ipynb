{
 "cells": [
  {
   "cell_type": "markdown",
   "metadata": {},
   "source": [
    "## Zeitlicher Ablauf der Datenerfassung\n",
    "\n",
    "### Einleitung\n",
    "\n",
    "In diesem Notebook geht es darum den zeitlichen Ablauf der Datenerfassung darzustellen.\n",
    "Dabei werden als zeitliche Kennzahlen die arithmetischen Mittelwerte genutzt.   \n",
    "Die Daten werden mit einer Smartphone Android App erfasst (https://github.com/SandGreif/Fahrradwege-Monitoring-App)."
   ]
  },
  {
   "cell_type": "code",
   "execution_count": 1,
   "metadata": {},
   "outputs": [],
   "source": [
    "import pandas\n",
    "import os\n",
    "import numpy as np\n",
    "%matplotlib inline \n",
    "import matplotlib.pyplot as plt"
   ]
  },
  {
   "cell_type": "code",
   "execution_count": 2,
   "metadata": {},
   "outputs": [
    {
     "data": {
      "text/html": [
       "<div>\n",
       "<style scoped>\n",
       "    .dataframe tbody tr th:only-of-type {\n",
       "        vertical-align: middle;\n",
       "    }\n",
       "\n",
       "    .dataframe tbody tr th {\n",
       "        vertical-align: top;\n",
       "    }\n",
       "\n",
       "    .dataframe thead th {\n",
       "        text-align: right;\n",
       "    }\n",
       "</style>\n",
       "<table border=\"1\" class=\"dataframe\">\n",
       "  <thead>\n",
       "    <tr style=\"text-align: right;\">\n",
       "      <th></th>\n",
       "      <th>Zeitstempel in Unixzeit</th>\n",
       "      <th>Breitengrad</th>\n",
       "      <th>Laengengrad</th>\n",
       "      <th>Geschwindigkeit in km/h</th>\n",
       "      <th>Hoehe in m ueber WGS 84</th>\n",
       "      <th>Anzahl der Messwerte</th>\n",
       "      <th>Start des Zeitfensters in ns seit Start der JVM</th>\n",
       "      <th>Start der Messwerterfassung in ns seit Start der JVM</th>\n",
       "      <th>Start der Belichtung in ns seit Start der JVM</th>\n",
       "      <th>Belichtungszeit in ns</th>\n",
       "      <th>...</th>\n",
       "      <th>AbweichungY</th>\n",
       "      <th>Varianz Z-Achse Beschleunigung in m/s^2</th>\n",
       "      <th>AbweichungZ</th>\n",
       "      <th>AbweichungNick</th>\n",
       "      <th>AbweichungRoll</th>\n",
       "      <th>Standardabweichung X-Achse Beschleunigung in m/s^2</th>\n",
       "      <th>Standardabweichung Y-Achse Beschleunigung in m/s^2</th>\n",
       "      <th>Standardabweichung Z-Achse Beschleunigung in m/s^2</th>\n",
       "      <th>Standardabweichung Nick in rad</th>\n",
       "      <th>Standardabweichung Roll in rad</th>\n",
       "    </tr>\n",
       "  </thead>\n",
       "  <tbody>\n",
       "    <tr>\n",
       "      <th>count</th>\n",
       "      <td>1.935000e+03</td>\n",
       "      <td>1935.000000</td>\n",
       "      <td>1935.000000</td>\n",
       "      <td>1935.000000</td>\n",
       "      <td>1935.000000</td>\n",
       "      <td>1935.000000</td>\n",
       "      <td>1.935000e+03</td>\n",
       "      <td>1.935000e+03</td>\n",
       "      <td>1.935000e+03</td>\n",
       "      <td>1.935000e+03</td>\n",
       "      <td>...</td>\n",
       "      <td>1935.000000</td>\n",
       "      <td>1935.000000</td>\n",
       "      <td>1935.000000</td>\n",
       "      <td>1935.000000</td>\n",
       "      <td>1935.000000</td>\n",
       "      <td>1935.000000</td>\n",
       "      <td>1935.000000</td>\n",
       "      <td>1935.000000</td>\n",
       "      <td>1935.000000</td>\n",
       "      <td>1935.000000</td>\n",
       "    </tr>\n",
       "    <tr>\n",
       "      <th>mean</th>\n",
       "      <td>1.521815e+12</td>\n",
       "      <td>53.611756</td>\n",
       "      <td>10.141385</td>\n",
       "      <td>15.431479</td>\n",
       "      <td>70.983613</td>\n",
       "      <td>19.335401</td>\n",
       "      <td>1.232928e+14</td>\n",
       "      <td>1.232927e+14</td>\n",
       "      <td>1.232928e+14</td>\n",
       "      <td>1.717044e+07</td>\n",
       "      <td>...</td>\n",
       "      <td>4.890581</td>\n",
       "      <td>47.298581</td>\n",
       "      <td>5.664694</td>\n",
       "      <td>0.604631</td>\n",
       "      <td>0.617375</td>\n",
       "      <td>1.843783</td>\n",
       "      <td>4.890581</td>\n",
       "      <td>5.664694</td>\n",
       "      <td>0.604631</td>\n",
       "      <td>0.617375</td>\n",
       "    </tr>\n",
       "    <tr>\n",
       "      <th>std</th>\n",
       "      <td>1.711999e+05</td>\n",
       "      <td>0.001963</td>\n",
       "      <td>0.004292</td>\n",
       "      <td>2.578698</td>\n",
       "      <td>2.540434</td>\n",
       "      <td>0.574053</td>\n",
       "      <td>1.712002e+11</td>\n",
       "      <td>1.712002e+11</td>\n",
       "      <td>1.712005e+11</td>\n",
       "      <td>5.915285e+06</td>\n",
       "      <td>...</td>\n",
       "      <td>4.024882</td>\n",
       "      <td>74.631600</td>\n",
       "      <td>3.900985</td>\n",
       "      <td>0.296218</td>\n",
       "      <td>0.611603</td>\n",
       "      <td>1.300870</td>\n",
       "      <td>4.024882</td>\n",
       "      <td>3.900985</td>\n",
       "      <td>0.296218</td>\n",
       "      <td>0.611603</td>\n",
       "    </tr>\n",
       "    <tr>\n",
       "      <th>min</th>\n",
       "      <td>1.521815e+12</td>\n",
       "      <td>53.608086</td>\n",
       "      <td>10.136243</td>\n",
       "      <td>6.012000</td>\n",
       "      <td>64.299440</td>\n",
       "      <td>14.000000</td>\n",
       "      <td>1.229923e+14</td>\n",
       "      <td>1.229923e+14</td>\n",
       "      <td>1.229924e+14</td>\n",
       "      <td>1.000184e+07</td>\n",
       "      <td>...</td>\n",
       "      <td>0.541520</td>\n",
       "      <td>0.390830</td>\n",
       "      <td>0.625160</td>\n",
       "      <td>0.068770</td>\n",
       "      <td>0.032090</td>\n",
       "      <td>0.227090</td>\n",
       "      <td>0.541520</td>\n",
       "      <td>0.625160</td>\n",
       "      <td>0.068770</td>\n",
       "      <td>0.032090</td>\n",
       "    </tr>\n",
       "    <tr>\n",
       "      <th>25%</th>\n",
       "      <td>1.521815e+12</td>\n",
       "      <td>53.610050</td>\n",
       "      <td>10.137212</td>\n",
       "      <td>14.256000</td>\n",
       "      <td>69.145140</td>\n",
       "      <td>19.000000</td>\n",
       "      <td>1.231447e+14</td>\n",
       "      <td>1.231447e+14</td>\n",
       "      <td>1.231448e+14</td>\n",
       "      <td>1.000184e+07</td>\n",
       "      <td>...</td>\n",
       "      <td>2.304930</td>\n",
       "      <td>8.138980</td>\n",
       "      <td>2.852890</td>\n",
       "      <td>0.359415</td>\n",
       "      <td>0.165605</td>\n",
       "      <td>0.977505</td>\n",
       "      <td>2.304930</td>\n",
       "      <td>2.852890</td>\n",
       "      <td>0.359415</td>\n",
       "      <td>0.165605</td>\n",
       "    </tr>\n",
       "    <tr>\n",
       "      <th>50%</th>\n",
       "      <td>1.521815e+12</td>\n",
       "      <td>53.612152</td>\n",
       "      <td>10.140454</td>\n",
       "      <td>15.768001</td>\n",
       "      <td>71.069275</td>\n",
       "      <td>19.000000</td>\n",
       "      <td>1.232957e+14</td>\n",
       "      <td>1.232956e+14</td>\n",
       "      <td>1.232957e+14</td>\n",
       "      <td>2.000368e+07</td>\n",
       "      <td>...</td>\n",
       "      <td>3.655490</td>\n",
       "      <td>20.536700</td>\n",
       "      <td>4.531740</td>\n",
       "      <td>0.571890</td>\n",
       "      <td>0.337280</td>\n",
       "      <td>1.475650</td>\n",
       "      <td>3.655490</td>\n",
       "      <td>4.531740</td>\n",
       "      <td>0.571890</td>\n",
       "      <td>0.337280</td>\n",
       "    </tr>\n",
       "    <tr>\n",
       "      <th>75%</th>\n",
       "      <td>1.521815e+12</td>\n",
       "      <td>53.613777</td>\n",
       "      <td>10.145028</td>\n",
       "      <td>17.208002</td>\n",
       "      <td>72.942380</td>\n",
       "      <td>20.000000</td>\n",
       "      <td>1.234378e+14</td>\n",
       "      <td>1.234377e+14</td>\n",
       "      <td>1.234378e+14</td>\n",
       "      <td>2.000368e+07</td>\n",
       "      <td>...</td>\n",
       "      <td>5.816035</td>\n",
       "      <td>52.282975</td>\n",
       "      <td>7.230695</td>\n",
       "      <td>0.814660</td>\n",
       "      <td>0.913545</td>\n",
       "      <td>2.311500</td>\n",
       "      <td>5.816035</td>\n",
       "      <td>7.230695</td>\n",
       "      <td>0.814660</td>\n",
       "      <td>0.913545</td>\n",
       "    </tr>\n",
       "    <tr>\n",
       "      <th>max</th>\n",
       "      <td>1.521815e+12</td>\n",
       "      <td>53.613907</td>\n",
       "      <td>10.149695</td>\n",
       "      <td>20.268002</td>\n",
       "      <td>77.023680</td>\n",
       "      <td>22.000000</td>\n",
       "      <td>1.235899e+14</td>\n",
       "      <td>1.235898e+14</td>\n",
       "      <td>1.235899e+14</td>\n",
       "      <td>2.999632e+07</td>\n",
       "      <td>...</td>\n",
       "      <td>32.202570</td>\n",
       "      <td>998.218210</td>\n",
       "      <td>31.594590</td>\n",
       "      <td>1.676630</td>\n",
       "      <td>3.506050</td>\n",
       "      <td>13.809650</td>\n",
       "      <td>32.202570</td>\n",
       "      <td>31.594590</td>\n",
       "      <td>1.676630</td>\n",
       "      <td>3.506050</td>\n",
       "    </tr>\n",
       "  </tbody>\n",
       "</table>\n",
       "<p>8 rows × 34 columns</p>\n",
       "</div>"
      ],
      "text/plain": [
       "       Zeitstempel in Unixzeit  Breitengrad  Laengengrad  \\\n",
       "count             1.935000e+03  1935.000000  1935.000000   \n",
       "mean              1.521815e+12    53.611756    10.141385   \n",
       "std               1.711999e+05     0.001963     0.004292   \n",
       "min               1.521815e+12    53.608086    10.136243   \n",
       "25%               1.521815e+12    53.610050    10.137212   \n",
       "50%               1.521815e+12    53.612152    10.140454   \n",
       "75%               1.521815e+12    53.613777    10.145028   \n",
       "max               1.521815e+12    53.613907    10.149695   \n",
       "\n",
       "       Geschwindigkeit in km/h  Hoehe in m ueber WGS 84  Anzahl der Messwerte  \\\n",
       "count              1935.000000              1935.000000           1935.000000   \n",
       "mean                 15.431479                70.983613             19.335401   \n",
       "std                   2.578698                 2.540434              0.574053   \n",
       "min                   6.012000                64.299440             14.000000   \n",
       "25%                  14.256000                69.145140             19.000000   \n",
       "50%                  15.768001                71.069275             19.000000   \n",
       "75%                  17.208002                72.942380             20.000000   \n",
       "max                  20.268002                77.023680             22.000000   \n",
       "\n",
       "       Start des Zeitfensters in ns seit Start der JVM  \\\n",
       "count                                     1.935000e+03   \n",
       "mean                                      1.232928e+14   \n",
       "std                                       1.712002e+11   \n",
       "min                                       1.229923e+14   \n",
       "25%                                       1.231447e+14   \n",
       "50%                                       1.232957e+14   \n",
       "75%                                       1.234378e+14   \n",
       "max                                       1.235899e+14   \n",
       "\n",
       "       Start der Messwerterfassung in ns seit Start der JVM  \\\n",
       "count                                       1.935000e+03      \n",
       "mean                                        1.232927e+14      \n",
       "std                                         1.712002e+11      \n",
       "min                                         1.229923e+14      \n",
       "25%                                         1.231447e+14      \n",
       "50%                                         1.232956e+14      \n",
       "75%                                         1.234377e+14      \n",
       "max                                         1.235898e+14      \n",
       "\n",
       "       Start der Belichtung in ns seit Start der JVM  Belichtungszeit in ns  \\\n",
       "count                                   1.935000e+03           1.935000e+03   \n",
       "mean                                    1.232928e+14           1.717044e+07   \n",
       "std                                     1.712005e+11           5.915285e+06   \n",
       "min                                     1.229924e+14           1.000184e+07   \n",
       "25%                                     1.231448e+14           1.000184e+07   \n",
       "50%                                     1.232957e+14           2.000368e+07   \n",
       "75%                                     1.234378e+14           2.000368e+07   \n",
       "max                                     1.235899e+14           2.999632e+07   \n",
       "\n",
       "                    ...                AbweichungY  \\\n",
       "count               ...                1935.000000   \n",
       "mean                ...                   4.890581   \n",
       "std                 ...                   4.024882   \n",
       "min                 ...                   0.541520   \n",
       "25%                 ...                   2.304930   \n",
       "50%                 ...                   3.655490   \n",
       "75%                 ...                   5.816035   \n",
       "max                 ...                  32.202570   \n",
       "\n",
       "       Varianz Z-Achse Beschleunigung in m/s^2  AbweichungZ  AbweichungNick  \\\n",
       "count                              1935.000000  1935.000000     1935.000000   \n",
       "mean                                 47.298581     5.664694        0.604631   \n",
       "std                                  74.631600     3.900985        0.296218   \n",
       "min                                   0.390830     0.625160        0.068770   \n",
       "25%                                   8.138980     2.852890        0.359415   \n",
       "50%                                  20.536700     4.531740        0.571890   \n",
       "75%                                  52.282975     7.230695        0.814660   \n",
       "max                                 998.218210    31.594590        1.676630   \n",
       "\n",
       "       AbweichungRoll  Standardabweichung X-Achse Beschleunigung in m/s^2  \\\n",
       "count     1935.000000                                        1935.000000    \n",
       "mean         0.617375                                           1.843783    \n",
       "std          0.611603                                           1.300870    \n",
       "min          0.032090                                           0.227090    \n",
       "25%          0.165605                                           0.977505    \n",
       "50%          0.337280                                           1.475650    \n",
       "75%          0.913545                                           2.311500    \n",
       "max          3.506050                                          13.809650    \n",
       "\n",
       "       Standardabweichung Y-Achse Beschleunigung in m/s^2  \\\n",
       "count                                        1935.000000    \n",
       "mean                                            4.890581    \n",
       "std                                             4.024882    \n",
       "min                                             0.541520    \n",
       "25%                                             2.304930    \n",
       "50%                                             3.655490    \n",
       "75%                                             5.816035    \n",
       "max                                            32.202570    \n",
       "\n",
       "       Standardabweichung Z-Achse Beschleunigung in m/s^2  \\\n",
       "count                                        1935.000000    \n",
       "mean                                            5.664694    \n",
       "std                                             3.900985    \n",
       "min                                             0.625160    \n",
       "25%                                             2.852890    \n",
       "50%                                             4.531740    \n",
       "75%                                             7.230695    \n",
       "max                                            31.594590    \n",
       "\n",
       "       Standardabweichung Nick in rad  Standardabweichung Roll in rad  \n",
       "count                     1935.000000                     1935.000000  \n",
       "mean                         0.604631                        0.617375  \n",
       "std                          0.296218                        0.611603  \n",
       "min                          0.068770                        0.032090  \n",
       "25%                          0.359415                        0.165605  \n",
       "50%                          0.571890                        0.337280  \n",
       "75%                          0.814660                        0.913545  \n",
       "max                          1.676630                        3.506050  \n",
       "\n",
       "[8 rows x 34 columns]"
      ]
     },
     "execution_count": 2,
     "metadata": {},
     "output_type": "execute_result"
    }
   ],
   "source": [
    "featuresDf = pandas.read_csv(\"../daten/merkmale.csv\")\n",
    "featuresDf.describe()"
   ]
  },
  {
   "cell_type": "code",
   "execution_count": 7,
   "metadata": {},
   "outputs": [
    {
     "data": {
      "text/plain": [
       "Index(['Zeitstempel in Unixzeit', 'Breitengrad', 'Laengengrad',\n",
       "       'Geschwindigkeit in km/h', 'Hoehe in m ueber WGS 84',\n",
       "       'X-Achse Beschleunigungswerte in m/s^2',\n",
       "       'Y-Achse Beschleunigungswerte in m/s^2',\n",
       "       'Z-Achse Beschleunigungswerte in m/s^2', 'Gier Messwerte in rad',\n",
       "       'Nick Messwerte in rad', 'Roll Messwerte in rad',\n",
       "       'Zeitstempel der Messwerte in ns', 'Anzahl der Messwerte',\n",
       "       'Start des Zeitfensters in ns seit Start der JVM',\n",
       "       'Start der Messwerterfassung in ns seit Start der JVM',\n",
       "       'Start der Belichtung in ns seit Start der JVM',\n",
       "       'Belichtungszeit in ns',\n",
       "       'Letzter Zeitstempel der Messwerterfassung in ns seit Start der JVM',\n",
       "       'Stopp der Messwerterfassung in Unixzeit',\n",
       "       'Mittelwert X-Achse Beschleunigung in m/s^2',\n",
       "       'Mittelwert Y-Achse Beschleunigung in m/s^2',\n",
       "       'Mittelwert Z-Achse Beschleunigung in m/s^2', 'Mittelwert Nick in rad',\n",
       "       'Mittelwert Roll in rad', 'GierAenderung in rad',\n",
       "       'Varianz X-Achse Beschleunigung in m/s^2',\n",
       "       'Varianz Y-Achse Beschleunigung in m/s^2', 'Varianz Nick in rad',\n",
       "       'VarianzRoll', 'Varianz Roll in rad', 'AbweichungX', 'AbweichungY',\n",
       "       'Varianz Z-Achse Beschleunigung in m/s^2', 'AbweichungZ',\n",
       "       'AbweichungNick', 'AbweichungRoll',\n",
       "       'Standardabweichung X-Achse Beschleunigung in m/s^2',\n",
       "       'Standardabweichung Y-Achse Beschleunigung in m/s^2',\n",
       "       'Standardabweichung Z-Achse Beschleunigung in m/s^2',\n",
       "       'Standardabweichung Nick in rad', 'Standardabweichung Roll in rad'],\n",
       "      dtype='object')"
      ]
     },
     "execution_count": 7,
     "metadata": {},
     "output_type": "execute_result"
    }
   ],
   "source": [
    "featuresDf.columns"
   ]
  },
  {
   "cell_type": "code",
   "execution_count": 4,
   "metadata": {},
   "outputs": [
    {
     "data": {
      "text/plain": [
       "17.170441215503875"
      ]
     },
     "execution_count": 4,
     "metadata": {},
     "output_type": "execute_result"
    }
   ],
   "source": [
    "# Mittelwert der Belichtungszeit aller Aufnahmen umgerechnet in ms\n",
    "meanExposureTime = featuresDf['Belichtungszeit in ns'].mean() / 1000000\n",
    "meanExposureTime"
   ]
  },
  {
   "cell_type": "code",
   "execution_count": 5,
   "metadata": {},
   "outputs": [
    {
     "data": {
      "text/plain": [
       "19.335400516795865"
      ]
     },
     "execution_count": 5,
     "metadata": {},
     "output_type": "execute_result"
    }
   ],
   "source": [
    "# Mittelwert Anzahl der Messwerte pro Merkmal\n",
    "featuresDf['Anzahl der Messwerte'].mean()"
   ]
  },
  {
   "cell_type": "code",
   "execution_count": 104,
   "metadata": {},
   "outputs": [],
   "source": [
    "# Dauer des Zeitfensters in ms\n",
    "timeframe = 80"
   ]
  },
  {
   "cell_type": "code",
   "execution_count": 122,
   "metadata": {},
   "outputs": [
    {
     "data": {
      "text/plain": [
       "69.449296432558128"
      ]
     },
     "execution_count": 122,
     "metadata": {},
     "output_type": "execute_result"
    }
   ],
   "source": [
    "# Mittelwert vom Stop der Datenerfassung in ms bis zum Ende des Zeitfensters in ms\n",
    "meanStopMeasurementToEndTimeframeTime =(featuresDf['Letzter Zeitstempel der Messwerterfassung in ns seit Start der JVM'] \n",
    "                          - (featuresDf['Start des Zeitfensters in ns seit Start der JVM'] + (timeframe * 1000000))).mean()\n",
    "meanStopMeasurementToEndTimeframeTime = meanStopMeasurementToEndTimeframeTime / 1000000\n",
    "meanStopMeasurementToEndTimeframeTime"
   ]
  },
  {
   "cell_type": "code",
   "execution_count": 107,
   "metadata": {},
   "outputs": [
    {
     "data": {
      "text/plain": [
       "1.98291015625"
      ]
     },
     "execution_count": 107,
     "metadata": {},
     "output_type": "execute_result"
    }
   ],
   "source": [
    "# Mittelwert vom Aufruf das die Aufnahme fertig ist bis zum Stopp der Messwerterfassung in ms\n",
    "meanStopMeasurementTime = featuresDf['Zeitstempel in Unixzeit'].mean() - featuresDf['Stopp der Messwerterfassung in Unixzeit'].mean()\n",
    "meanStopMeasurementTime"
   ]
  },
  {
   "cell_type": "code",
   "execution_count": 108,
   "metadata": {},
   "outputs": [
    {
     "data": {
      "text/plain": [
       "62.558355093750002"
      ]
     },
     "execution_count": 108,
     "metadata": {},
     "output_type": "execute_result"
    }
   ],
   "source": [
    "# Mittelwert vom Start der Messwert Datenerfassung bis zum Start des Zeitfensters in ms\n",
    "meanStartMeasurementDataTime = featuresDf['Start des Zeitfensters in ns seit Start der JVM'].mean() - featuresDf['Start der Messwerterfassung in ns seit Start der JVM'].mean()\n",
    "meanStartMeasurementDataTime = meanStartMeasurementDataTime / 1000000\n",
    "meanStartMeasurementDataTime"
   ]
  },
  {
   "cell_type": "markdown",
   "metadata": {},
   "source": [
    "Bei der Berechnung des zeitlichen Abstandes von erfassten Bildaufnahmen ist zu beachten, dass die verwendete Daten aus einer Datenerfassungsserie stammen also einem Datensatz.      \n",
    "Als Kennwert wird nämlich die Zeitstempel Spalte aus der Merkmal CSV Datei genutzt. Der Zeitstempel gibt an, wann das Bild aufgenommen wurde in Unixzeit. Zwischen zwei erfassten    \n",
    "Datensätzen ist meistens einige Zeit mehr vergangen. Deshalb wird für die Berechnung ein Datensatz genutzt. Der angegebene Zeitwert wird in dem Notebook frameRate berechnet in dem Ordner datenanalyse. "
   ]
  },
  {
   "cell_type": "code",
   "execution_count": 109,
   "metadata": {},
   "outputs": [],
   "source": [
    "# Mittelwert des Abstandes bis das nächste Bild aufgenommen wurde von den Datensatz 15 mit 305.906 ms aufgerundet auf 306 Ms.\n",
    "# Hierbei ist zu beachten \n",
    "meanCaptureImagesTime = 306 "
   ]
  },
  {
   "cell_type": "code",
   "execution_count": 110,
   "metadata": {},
   "outputs": [],
   "source": [
    "# In dieser Zelle werden die Vielfachen der Mittelwerte in Listen angehängt, um exemplarisch\n",
    "# den weiteren Verlauf einer Datenserie mit gemittelten Zeitwerten in einem Diagram darzustellen.\n",
    "\n",
    "# Anzahl der Bilder\n",
    "numberImages = 4\n",
    "imageCounter = 1\n",
    "meanExposureOffset = (timeframe - meanExposureTime) / 2\n",
    "# Listen die mit den entsprechenden Vielfachen der Zeitangaben gefüllt werden\n",
    "\n",
    "# Gibt mittlere Zeitwerte an zu welchem ein Bild bereit ist zum abspeichern \n",
    "meanCaptureImagesTimeList = []\n",
    "# Start der Zeitfenster \n",
    "startTimeFrameList = []\n",
    "startExposureTimeList = []\n",
    "exposureTimeList = []\n",
    "while imageCounter <= numberImages:\n",
    "    meanCaptureImagesTimeList.append(meanCaptureImagesTime * imageCounter)\n",
    "    startTimeFrameList.append(meanCaptureImagesTimeList[imageCounter-1] - meanStopMeasurementToEndTimeframeTime - meanStopMeasurementTime - timeframe)\n",
    "    startExposureTimeList.append(startTimeFrameList[imageCounter-1] + meanExposureOffset)\n",
    "    exposureTimeList.append(startExposureTimeList[imageCounter-1] + meanExposureTime)\n",
    "    imageCounter = imageCounter + 1\n",
    "    "
   ]
  },
  {
   "cell_type": "code",
   "execution_count": 111,
   "metadata": {},
   "outputs": [
    {
     "data": {
      "text/plain": [
       "[306, 612, 918, 1224]"
      ]
     },
     "execution_count": 111,
     "metadata": {},
     "output_type": "execute_result"
    }
   ],
   "source": [
    "# Ausgabe der Zeitwerte in ms\n",
    "meanCaptureImagesTimeList"
   ]
  },
  {
   "cell_type": "code",
   "execution_count": 112,
   "metadata": {},
   "outputs": [
    {
     "data": {
      "text/plain": [
       "[154.56779341119187,\n",
       " 460.56779341119181,\n",
       " 766.56779341119181,\n",
       " 1072.5677934111918]"
      ]
     },
     "execution_count": 112,
     "metadata": {},
     "output_type": "execute_result"
    }
   ],
   "source": [
    "startTimeFrameList"
   ]
  },
  {
   "cell_type": "code",
   "execution_count": 113,
   "metadata": {},
   "outputs": [
    {
     "data": {
      "text/plain": [
       "31.414779392248064"
      ]
     },
     "execution_count": 113,
     "metadata": {},
     "output_type": "execute_result"
    }
   ],
   "source": [
    "meanExposureOffset"
   ]
  },
  {
   "cell_type": "code",
   "execution_count": 114,
   "metadata": {},
   "outputs": [
    {
     "data": {
      "text/plain": [
       "[185.98257280343995,\n",
       " 491.98257280343989,\n",
       " 797.98257280343989,\n",
       " 1103.9825728034398]"
      ]
     },
     "execution_count": 114,
     "metadata": {},
     "output_type": "execute_result"
    }
   ],
   "source": [
    "startExposureTimeList"
   ]
  },
  {
   "cell_type": "code",
   "execution_count": 115,
   "metadata": {},
   "outputs": [
    {
     "data": {
      "text/plain": [
       "[203.15301401894382,\n",
       " 509.15301401894379,\n",
       " 815.15301401894374,\n",
       " 1121.1530140189436]"
      ]
     },
     "execution_count": 115,
     "metadata": {},
     "output_type": "execute_result"
    }
   ],
   "source": [
    "exposureTimeList"
   ]
  },
  {
   "cell_type": "code",
   "execution_count": 136,
   "metadata": {},
   "outputs": [
    {
     "data": {
      "image/png": "[encoded data removed]",
      "text/plain": [
       "<Figure size 1440x432 with 1 Axes>"
      ]
     },
     "metadata": {},
     "output_type": "display_data"
    }
   ],
   "source": [
    "yLabel = [\"Bild bereit zum abspeichern\",\"Zeitfenster\", \"Belichtungszeit\",\"Start Messwerterfassung\",\"Stopp Messwerterfassung\"]\n",
    "fig, ax = plt.subplots(figsize=(20,6))\n",
    "i = 0\n",
    "\n",
    "while i < numberImages:\n",
    "    ax.plot(startTimeFrameList[i]-meanStartMeasurementDataTime,[yLabel[3]],'-o',c='b')\n",
    "    ax.plot([startTimeFrameList[i],startTimeFrameList[i]+timeframe],[yLabel[1],yLabel[1]], c='b')\n",
    "    ax.plot(meanCaptureImagesTimeList[i] + meanStopMeasurementTime,[yLabel[4]],'-o',c='b')\n",
    "    ax.plot([startExposureTimeList[i],exposureTimeList[i]],[yLabel[2],yLabel[2]], c='g')\n",
    "    ax.plot(meanCaptureImagesTimeList[i],[yLabel[0]], '-o', c='k') \n",
    "    i = i + 1\n",
    "plt.xlabel('t/ms')\n",
    "plt.title('Mittelwert zeitlicher Abläufe der Datenerfassung')\n",
    "plt.grid()"
   ]
  },
  {
   "cell_type": "code",
   "execution_count": 168,
   "metadata": {},
   "outputs": [
    {
     "data": {
      "text/plain": [
       "<StemContainer object of 3 artists>"
      ]
     },
     "execution_count": 168,
     "metadata": {},
     "output_type": "execute_result"
    },
    {
     "data": {
      "image/png": "[encoded data removed]",
      "text/plain": [
       "<Figure size 432x288 with 1 Axes>"
      ]
     },
     "metadata": {},
     "output_type": "display_data"
    }
   ],
   "source": [
    "plt.stem(meanCaptureImagesTimeList[:],meanCaptureImagesTimeList[:])"
   ]
  },
  {
   "cell_type": "code",
   "execution_count": 169,
   "metadata": {},
   "outputs": [
    {
     "data": {
      "text/plain": [
       "[306, 612, 918, 1224]"
      ]
     },
     "execution_count": 169,
     "metadata": {},
     "output_type": "execute_result"
    }
   ],
   "source": [
    "meanCaptureImagesTimeList[:]"
   ]
  },
  {
   "cell_type": "code",
   "execution_count": 170,
   "metadata": {},
   "outputs": [
    {
     "data": {
      "text/plain": [
       "['Bild bereit zum abspeichern',\n",
       " 'Zeitfenster',\n",
       " 'Belichtungszeit',\n",
       " 'Start Messwerterfassung',\n",
       " 'Stopp Messwerterfassung']"
      ]
     },
     "execution_count": 170,
     "metadata": {},
     "output_type": "execute_result"
    }
   ],
   "source": [
    "yLabel[:]"
   ]
  },
  {
   "cell_type": "code",
   "execution_count": null,
   "metadata": {},
   "outputs": [],
   "source": []
  }
 ],
 "metadata": {
  "kernelspec": {
   "display_name": "Python 3",
   "language": "python",
   "name": "python3"
  },
  "language_info": {
   "codemirror_mode": {
    "name": "ipython",
    "version": 3
   },
   "file_extension": ".py",
   "mimetype": "text/x-python",
   "name": "python",
   "nbconvert_exporter": "python",
   "pygments_lexer": "ipython3",
   "version": "3.6.4"
  },
  "toc": {
   "colors": {
    "hover_highlight": "#DAA520",
    "navigate_num": "#000000",
    "navigate_text": "#333333",
    "running_highlight": "#FF0000",
    "selected_highlight": "#FFD700",
    "sidebar_border": "#EEEEEE",
    "wrapper_background": "#FFFFFF"
   },
   "moveMenuLeft": true,
   "nav_menu": {
    "height": "49px",
    "width": "252px"
   },
   "navigate_menu": true,
   "number_sections": true,
   "sideBar": true,
   "threshold": 4,
   "toc_cell": false,
   "toc_section_display": "block",
   "toc_window_display": false,
   "widenNotebook": false
  }
 },
 "nbformat": 4,
 "nbformat_minor": 2
}
