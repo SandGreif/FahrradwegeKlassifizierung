{
 "cells": [
  {
   "cell_type": "markdown",
   "metadata": {},
   "source": [
    "# Zeitfensteranalyse\n",
    "\n",
    "## Einleitung\n",
    "\n",
    "Ziel dieses Notebooks ist es eine Unterstützung zu bieten, um ein Zeitfenster zu bestimmen, in welchem Bewegungssensordaten    \n",
    "zu einer Aufnahme erfasst werden. Zu diesen gehören die Beschleunigungssensordaten X,Y,Z sowie die Winkel Roll, Nick und Gier.   \n",
    "\n",
    "## Herausforderungen\n",
    "\n",
    "Bevor die Belichtung einer Aufnahme beginnt sollen bereits die Bewegungsdaten erfasst werden. Es gibt einen Handler in der Android   \n",
    "Camera2 API, welcher beim Start der Belichtung aufgerufen wird. Wenn dann erst die Erfassung der Daten gestartet wird, dann    \n",
    "wäre dies bereits zu spät. Da zu diesem Zeitpunkt die Belichtung bereits begonnen hat. Eine weitere Herausforderung ist ausreihend Datenwerte   \n",
    "zu ermitteln. Ist die Datenerfassung zu kurz werden nur wenige bis keine Daten erfasst. Desweiteren ist der Zeitpunkt   \n",
    "bei welchem die Datenerfassung gestoppt wird relevant."
   ]
  },
  {
   "cell_type": "code",
   "execution_count": 1,
   "metadata": {},
   "outputs": [],
   "source": [
    "import pandas\n",
    "import pandas \n",
    "%matplotlib inline\n",
    "import matplotlib\n",
    "import matplotlib.pyplot as plt\n",
    "import datetime"
   ]
  },
  {
   "cell_type": "code",
   "execution_count": 2,
   "metadata": {},
   "outputs": [],
   "source": [
    "featuresDf = pandas.read_csv(filepath_or_buffer=\"features.csv\")"
   ]
  },
  {
   "cell_type": "code",
   "execution_count": 3,
   "metadata": {},
   "outputs": [
    {
     "data": {
      "text/html": [
       "<div>\n",
       "<style scoped>\n",
       "    .dataframe tbody tr th:only-of-type {\n",
       "        vertical-align: middle;\n",
       "    }\n",
       "\n",
       "    .dataframe tbody tr th {\n",
       "        vertical-align: top;\n",
       "    }\n",
       "\n",
       "    .dataframe thead th {\n",
       "        text-align: right;\n",
       "    }\n",
       "</style>\n",
       "<table border=\"1\" class=\"dataframe\">\n",
       "  <thead>\n",
       "    <tr style=\"text-align: right;\">\n",
       "      <th></th>\n",
       "      <th>Zeitstempel</th>\n",
       "      <th>Breitengrad</th>\n",
       "      <th>Laengengrad</th>\n",
       "      <th>Geschwindigkeit</th>\n",
       "      <th>MittelWX</th>\n",
       "      <th>VarianzX</th>\n",
       "      <th>StandardAX</th>\n",
       "      <th>MittelWY</th>\n",
       "      <th>VarianzY</th>\n",
       "      <th>StandardAY</th>\n",
       "      <th>...</th>\n",
       "      <th>MittelWPitch</th>\n",
       "      <th>VarianzPitch</th>\n",
       "      <th>StandardAPitch</th>\n",
       "      <th>MittelWRoll</th>\n",
       "      <th>VarianzRoll</th>\n",
       "      <th>StandardRoll</th>\n",
       "      <th>StartBewegungsD</th>\n",
       "      <th>StartBelichtung</th>\n",
       "      <th>Belichtungszeit</th>\n",
       "      <th>StoppBewegungsD</th>\n",
       "    </tr>\n",
       "  </thead>\n",
       "  <tbody>\n",
       "    <tr>\n",
       "      <th>count</th>\n",
       "      <td>5.374000e+03</td>\n",
       "      <td>5374.000000</td>\n",
       "      <td>5374.000000</td>\n",
       "      <td>5374.000000</td>\n",
       "      <td>5374.000000</td>\n",
       "      <td>5374.000000</td>\n",
       "      <td>5374.000000</td>\n",
       "      <td>5374.000000</td>\n",
       "      <td>5374.000000</td>\n",
       "      <td>5374.000000</td>\n",
       "      <td>...</td>\n",
       "      <td>5374.000000</td>\n",
       "      <td>5374.000000</td>\n",
       "      <td>5374.000000</td>\n",
       "      <td>5374.000000</td>\n",
       "      <td>5374.000000</td>\n",
       "      <td>5374.000000</td>\n",
       "      <td>5.374000e+03</td>\n",
       "      <td>5.374000e+03</td>\n",
       "      <td>5.374000e+03</td>\n",
       "      <td>5.374000e+03</td>\n",
       "    </tr>\n",
       "    <tr>\n",
       "      <th>mean</th>\n",
       "      <td>1.519222e+12</td>\n",
       "      <td>53.613946</td>\n",
       "      <td>10.161071</td>\n",
       "      <td>15.344702</td>\n",
       "      <td>-0.546871</td>\n",
       "      <td>38.949616</td>\n",
       "      <td>2.659251</td>\n",
       "      <td>0.407541</td>\n",
       "      <td>21.348658</td>\n",
       "      <td>2.229567</td>\n",
       "      <td>...</td>\n",
       "      <td>-0.019209</td>\n",
       "      <td>0.012089</td>\n",
       "      <td>0.037664</td>\n",
       "      <td>-0.053249</td>\n",
       "      <td>0.026076</td>\n",
       "      <td>0.030620</td>\n",
       "      <td>2.954125e+13</td>\n",
       "      <td>2.954132e+13</td>\n",
       "      <td>1.320892e+07</td>\n",
       "      <td>2.954075e+13</td>\n",
       "    </tr>\n",
       "    <tr>\n",
       "      <th>std</th>\n",
       "      <td>4.787940e+05</td>\n",
       "      <td>0.001040</td>\n",
       "      <td>0.013956</td>\n",
       "      <td>5.330909</td>\n",
       "      <td>5.904707</td>\n",
       "      <td>95.472608</td>\n",
       "      <td>5.646810</td>\n",
       "      <td>4.983187</td>\n",
       "      <td>49.756362</td>\n",
       "      <td>4.047569</td>\n",
       "      <td>...</td>\n",
       "      <td>0.356933</td>\n",
       "      <td>0.060331</td>\n",
       "      <td>0.102849</td>\n",
       "      <td>0.475262</td>\n",
       "      <td>0.350197</td>\n",
       "      <td>0.158223</td>\n",
       "      <td>4.787830e+11</td>\n",
       "      <td>4.787951e+11</td>\n",
       "      <td>5.567292e+06</td>\n",
       "      <td>4.787748e+11</td>\n",
       "    </tr>\n",
       "    <tr>\n",
       "      <th>min</th>\n",
       "      <td>1.519222e+12</td>\n",
       "      <td>53.610455</td>\n",
       "      <td>10.137818</td>\n",
       "      <td>0.000000</td>\n",
       "      <td>-23.218000</td>\n",
       "      <td>0.000000</td>\n",
       "      <td>0.000000</td>\n",
       "      <td>-31.113000</td>\n",
       "      <td>0.000000</td>\n",
       "      <td>0.000000</td>\n",
       "      <td>...</td>\n",
       "      <td>-1.476000</td>\n",
       "      <td>0.000000</td>\n",
       "      <td>0.000000</td>\n",
       "      <td>-3.199000</td>\n",
       "      <td>0.000000</td>\n",
       "      <td>0.000000</td>\n",
       "      <td>2.869522e+13</td>\n",
       "      <td>2.869515e+13</td>\n",
       "      <td>7.106086e+06</td>\n",
       "      <td>2.869527e+13</td>\n",
       "    </tr>\n",
       "    <tr>\n",
       "      <th>25%</th>\n",
       "      <td>1.519222e+12</td>\n",
       "      <td>53.613586</td>\n",
       "      <td>10.150167</td>\n",
       "      <td>12.708000</td>\n",
       "      <td>-1.853250</td>\n",
       "      <td>0.000000</td>\n",
       "      <td>0.000000</td>\n",
       "      <td>-1.358500</td>\n",
       "      <td>0.000000</td>\n",
       "      <td>0.000000</td>\n",
       "      <td>...</td>\n",
       "      <td>-0.114000</td>\n",
       "      <td>0.000000</td>\n",
       "      <td>0.000000</td>\n",
       "      <td>-0.098000</td>\n",
       "      <td>0.000000</td>\n",
       "      <td>0.000000</td>\n",
       "      <td>2.912483e+13</td>\n",
       "      <td>2.912476e+13</td>\n",
       "      <td>1.000184e+07</td>\n",
       "      <td>2.912476e+13</td>\n",
       "    </tr>\n",
       "    <tr>\n",
       "      <th>50%</th>\n",
       "      <td>1.519222e+12</td>\n",
       "      <td>53.613888</td>\n",
       "      <td>10.159737</td>\n",
       "      <td>16.164000</td>\n",
       "      <td>0.000000</td>\n",
       "      <td>0.000000</td>\n",
       "      <td>0.000000</td>\n",
       "      <td>0.000000</td>\n",
       "      <td>0.000000</td>\n",
       "      <td>0.000000</td>\n",
       "      <td>...</td>\n",
       "      <td>0.000000</td>\n",
       "      <td>0.000000</td>\n",
       "      <td>0.000000</td>\n",
       "      <td>0.000000</td>\n",
       "      <td>0.000000</td>\n",
       "      <td>0.000000</td>\n",
       "      <td>2.954417e+13</td>\n",
       "      <td>2.954425e+13</td>\n",
       "      <td>1.000184e+07</td>\n",
       "      <td>2.954417e+13</td>\n",
       "    </tr>\n",
       "    <tr>\n",
       "      <th>75%</th>\n",
       "      <td>1.519223e+12</td>\n",
       "      <td>53.614555</td>\n",
       "      <td>10.173259</td>\n",
       "      <td>19.331999</td>\n",
       "      <td>0.748000</td>\n",
       "      <td>1.216750</td>\n",
       "      <td>1.103250</td>\n",
       "      <td>2.849500</td>\n",
       "      <td>9.134500</td>\n",
       "      <td>3.022750</td>\n",
       "      <td>...</td>\n",
       "      <td>0.111000</td>\n",
       "      <td>0.000000</td>\n",
       "      <td>0.000000</td>\n",
       "      <td>0.015000</td>\n",
       "      <td>0.000000</td>\n",
       "      <td>0.000000</td>\n",
       "      <td>2.995052e+13</td>\n",
       "      <td>2.995047e+13</td>\n",
       "      <td>2.000368e+07</td>\n",
       "      <td>2.995052e+13</td>\n",
       "    </tr>\n",
       "    <tr>\n",
       "      <th>max</th>\n",
       "      <td>1.519223e+12</td>\n",
       "      <td>53.615856</td>\n",
       "      <td>10.185248</td>\n",
       "      <td>26.280000</td>\n",
       "      <td>28.524000</td>\n",
       "      <td>554.584000</td>\n",
       "      <td>23.550000</td>\n",
       "      <td>36.337000</td>\n",
       "      <td>442.166000</td>\n",
       "      <td>21.028000</td>\n",
       "      <td>...</td>\n",
       "      <td>1.579000</td>\n",
       "      <td>1.254000</td>\n",
       "      <td>1.120000</td>\n",
       "      <td>3.065000</td>\n",
       "      <td>9.121000</td>\n",
       "      <td>3.021000</td>\n",
       "      <td>3.036319e+13</td>\n",
       "      <td>3.036313e+13</td>\n",
       "      <td>3.287369e+07</td>\n",
       "      <td>3.036319e+13</td>\n",
       "    </tr>\n",
       "  </tbody>\n",
       "</table>\n",
       "<p>8 rows × 24 columns</p>\n",
       "</div>"
      ],
      "text/plain": [
       "        Zeitstempel  Breitengrad  Laengengrad  Geschwindigkeit     MittelWX  \\\n",
       "count  5.374000e+03  5374.000000  5374.000000      5374.000000  5374.000000   \n",
       "mean   1.519222e+12    53.613946    10.161071        15.344702    -0.546871   \n",
       "std    4.787940e+05     0.001040     0.013956         5.330909     5.904707   \n",
       "min    1.519222e+12    53.610455    10.137818         0.000000   -23.218000   \n",
       "25%    1.519222e+12    53.613586    10.150167        12.708000    -1.853250   \n",
       "50%    1.519222e+12    53.613888    10.159737        16.164000     0.000000   \n",
       "75%    1.519223e+12    53.614555    10.173259        19.331999     0.748000   \n",
       "max    1.519223e+12    53.615856    10.185248        26.280000    28.524000   \n",
       "\n",
       "          VarianzX   StandardAX     MittelWY     VarianzY   StandardAY  \\\n",
       "count  5374.000000  5374.000000  5374.000000  5374.000000  5374.000000   \n",
       "mean     38.949616     2.659251     0.407541    21.348658     2.229567   \n",
       "std      95.472608     5.646810     4.983187    49.756362     4.047569   \n",
       "min       0.000000     0.000000   -31.113000     0.000000     0.000000   \n",
       "25%       0.000000     0.000000    -1.358500     0.000000     0.000000   \n",
       "50%       0.000000     0.000000     0.000000     0.000000     0.000000   \n",
       "75%       1.216750     1.103250     2.849500     9.134500     3.022750   \n",
       "max     554.584000    23.550000    36.337000   442.166000    21.028000   \n",
       "\n",
       "            ...         MittelWPitch  VarianzPitch  StandardAPitch  \\\n",
       "count       ...          5374.000000   5374.000000     5374.000000   \n",
       "mean        ...            -0.019209      0.012089        0.037664   \n",
       "std         ...             0.356933      0.060331        0.102849   \n",
       "min         ...            -1.476000      0.000000        0.000000   \n",
       "25%         ...            -0.114000      0.000000        0.000000   \n",
       "50%         ...             0.000000      0.000000        0.000000   \n",
       "75%         ...             0.111000      0.000000        0.000000   \n",
       "max         ...             1.579000      1.254000        1.120000   \n",
       "\n",
       "       MittelWRoll  VarianzRoll  StandardRoll  StartBewegungsD  \\\n",
       "count  5374.000000  5374.000000   5374.000000     5.374000e+03   \n",
       "mean     -0.053249     0.026076      0.030620     2.954125e+13   \n",
       "std       0.475262     0.350197      0.158223     4.787830e+11   \n",
       "min      -3.199000     0.000000      0.000000     2.869522e+13   \n",
       "25%      -0.098000     0.000000      0.000000     2.912483e+13   \n",
       "50%       0.000000     0.000000      0.000000     2.954417e+13   \n",
       "75%       0.015000     0.000000      0.000000     2.995052e+13   \n",
       "max       3.065000     9.121000      3.021000     3.036319e+13   \n",
       "\n",
       "       StartBelichtung  Belichtungszeit  StoppBewegungsD  \n",
       "count     5.374000e+03     5.374000e+03     5.374000e+03  \n",
       "mean      2.954132e+13     1.320892e+07     2.954075e+13  \n",
       "std       4.787951e+11     5.567292e+06     4.787748e+11  \n",
       "min       2.869515e+13     7.106086e+06     2.869527e+13  \n",
       "25%       2.912476e+13     1.000184e+07     2.912476e+13  \n",
       "50%       2.954425e+13     1.000184e+07     2.954417e+13  \n",
       "75%       2.995047e+13     2.000368e+07     2.995052e+13  \n",
       "max       3.036313e+13     3.287369e+07     3.036319e+13  \n",
       "\n",
       "[8 rows x 24 columns]"
      ]
     },
     "execution_count": 3,
     "metadata": {},
     "output_type": "execute_result"
    }
   ],
   "source": [
    "featuresDf.describe()"
   ]
  },
  {
   "cell_type": "code",
   "execution_count": 4,
   "metadata": {
    "scrolled": true
   },
   "outputs": [
    {
     "data": {
      "text/html": [
       "<div>\n",
       "<style scoped>\n",
       "    .dataframe tbody tr th:only-of-type {\n",
       "        vertical-align: middle;\n",
       "    }\n",
       "\n",
       "    .dataframe tbody tr th {\n",
       "        vertical-align: top;\n",
       "    }\n",
       "\n",
       "    .dataframe thead th {\n",
       "        text-align: right;\n",
       "    }\n",
       "</style>\n",
       "<table border=\"1\" class=\"dataframe\">\n",
       "  <thead>\n",
       "    <tr style=\"text-align: right;\">\n",
       "      <th></th>\n",
       "      <th>Zeitstempel</th>\n",
       "      <th>Breitengrad</th>\n",
       "      <th>Laengengrad</th>\n",
       "      <th>Geschwindigkeit</th>\n",
       "      <th>MittelWX</th>\n",
       "      <th>VarianzX</th>\n",
       "      <th>StandardAX</th>\n",
       "      <th>MittelWY</th>\n",
       "      <th>VarianzY</th>\n",
       "      <th>StandardAY</th>\n",
       "      <th>...</th>\n",
       "      <th>StandardAPitch</th>\n",
       "      <th>MittelWRoll</th>\n",
       "      <th>VarianzRoll</th>\n",
       "      <th>StandardRoll</th>\n",
       "      <th>StartBewegungsD</th>\n",
       "      <th>StartBelichtung</th>\n",
       "      <th>Belichtungszeit</th>\n",
       "      <th>StoppBewegungsD</th>\n",
       "      <th>Datum</th>\n",
       "      <th>Millisekunden</th>\n",
       "    </tr>\n",
       "  </thead>\n",
       "  <tbody>\n",
       "    <tr>\n",
       "      <th>0</th>\n",
       "      <td>1519221554869</td>\n",
       "      <td>53.61378</td>\n",
       "      <td>10.138174</td>\n",
       "      <td>0.0</td>\n",
       "      <td>0.002</td>\n",
       "      <td>0.416</td>\n",
       "      <td>0.645</td>\n",
       "      <td>-0.163</td>\n",
       "      <td>42.753</td>\n",
       "      <td>6.539</td>\n",
       "      <td>...</td>\n",
       "      <td>0.003</td>\n",
       "      <td>0.011</td>\n",
       "      <td>0.001</td>\n",
       "      <td>0.005</td>\n",
       "      <td>28695221273790</td>\n",
       "      <td>28695151826775</td>\n",
       "      <td>20003678</td>\n",
       "      <td>28695269322592</td>\n",
       "      <td>2018-02-21 14:59:14.869000</td>\n",
       "      <td>0</td>\n",
       "    </tr>\n",
       "    <tr>\n",
       "      <th>1</th>\n",
       "      <td>1519221555195</td>\n",
       "      <td>53.61378</td>\n",
       "      <td>10.138174</td>\n",
       "      <td>0.0</td>\n",
       "      <td>0.198</td>\n",
       "      <td>0.152</td>\n",
       "      <td>0.390</td>\n",
       "      <td>-3.468</td>\n",
       "      <td>45.429</td>\n",
       "      <td>6.741</td>\n",
       "      <td>...</td>\n",
       "      <td>0.000</td>\n",
       "      <td>-0.002</td>\n",
       "      <td>0.000</td>\n",
       "      <td>0.000</td>\n",
       "      <td>28695580181602</td>\n",
       "      <td>28695519306775</td>\n",
       "      <td>20003678</td>\n",
       "      <td>28695581130769</td>\n",
       "      <td>2018-02-21 14:59:15.195000</td>\n",
       "      <td>326</td>\n",
       "    </tr>\n",
       "    <tr>\n",
       "      <th>2</th>\n",
       "      <td>1519221555478</td>\n",
       "      <td>53.61378</td>\n",
       "      <td>10.138174</td>\n",
       "      <td>0.0</td>\n",
       "      <td>-0.082</td>\n",
       "      <td>0.059</td>\n",
       "      <td>0.243</td>\n",
       "      <td>0.328</td>\n",
       "      <td>35.754</td>\n",
       "      <td>5.980</td>\n",
       "      <td>...</td>\n",
       "      <td>0.001</td>\n",
       "      <td>0.002</td>\n",
       "      <td>0.001</td>\n",
       "      <td>0.001</td>\n",
       "      <td>28695852430248</td>\n",
       "      <td>28695786555775</td>\n",
       "      <td>20003678</td>\n",
       "      <td>28695859420144</td>\n",
       "      <td>2018-02-21 14:59:15.478000</td>\n",
       "      <td>609</td>\n",
       "    </tr>\n",
       "    <tr>\n",
       "      <th>3</th>\n",
       "      <td>1519221555767</td>\n",
       "      <td>53.61378</td>\n",
       "      <td>10.138174</td>\n",
       "      <td>0.0</td>\n",
       "      <td>-0.159</td>\n",
       "      <td>0.000</td>\n",
       "      <td>0.000</td>\n",
       "      <td>3.897</td>\n",
       "      <td>0.000</td>\n",
       "      <td>0.000</td>\n",
       "      <td>...</td>\n",
       "      <td>0.000</td>\n",
       "      <td>-0.007</td>\n",
       "      <td>0.000</td>\n",
       "      <td>0.000</td>\n",
       "      <td>28696152192748</td>\n",
       "      <td>28696087197775</td>\n",
       "      <td>20003678</td>\n",
       "      <td>28695859420144</td>\n",
       "      <td>2018-02-21 14:59:15.767000</td>\n",
       "      <td>898</td>\n",
       "    </tr>\n",
       "    <tr>\n",
       "      <th>4</th>\n",
       "      <td>1519221556039</td>\n",
       "      <td>53.61378</td>\n",
       "      <td>10.138174</td>\n",
       "      <td>0.0</td>\n",
       "      <td>-0.430</td>\n",
       "      <td>0.000</td>\n",
       "      <td>0.000</td>\n",
       "      <td>4.733</td>\n",
       "      <td>0.000</td>\n",
       "      <td>0.000</td>\n",
       "      <td>...</td>\n",
       "      <td>0.000</td>\n",
       "      <td>-0.026</td>\n",
       "      <td>0.000</td>\n",
       "      <td>0.000</td>\n",
       "      <td>28696420762644</td>\n",
       "      <td>28696354450775</td>\n",
       "      <td>20003678</td>\n",
       "      <td>28695859420144</td>\n",
       "      <td>2018-02-21 14:59:16.039000</td>\n",
       "      <td>1170</td>\n",
       "    </tr>\n",
       "  </tbody>\n",
       "</table>\n",
       "<p>5 rows × 26 columns</p>\n",
       "</div>"
      ],
      "text/plain": [
       "     Zeitstempel  Breitengrad  Laengengrad  Geschwindigkeit  MittelWX  \\\n",
       "0  1519221554869     53.61378    10.138174              0.0     0.002   \n",
       "1  1519221555195     53.61378    10.138174              0.0     0.198   \n",
       "2  1519221555478     53.61378    10.138174              0.0    -0.082   \n",
       "3  1519221555767     53.61378    10.138174              0.0    -0.159   \n",
       "4  1519221556039     53.61378    10.138174              0.0    -0.430   \n",
       "\n",
       "   VarianzX  StandardAX  MittelWY  VarianzY  StandardAY      ...        \\\n",
       "0     0.416       0.645    -0.163    42.753       6.539      ...         \n",
       "1     0.152       0.390    -3.468    45.429       6.741      ...         \n",
       "2     0.059       0.243     0.328    35.754       5.980      ...         \n",
       "3     0.000       0.000     3.897     0.000       0.000      ...         \n",
       "4     0.000       0.000     4.733     0.000       0.000      ...         \n",
       "\n",
       "   StandardAPitch  MittelWRoll  VarianzRoll  StandardRoll  StartBewegungsD  \\\n",
       "0           0.003        0.011        0.001         0.005   28695221273790   \n",
       "1           0.000       -0.002        0.000         0.000   28695580181602   \n",
       "2           0.001        0.002        0.001         0.001   28695852430248   \n",
       "3           0.000       -0.007        0.000         0.000   28696152192748   \n",
       "4           0.000       -0.026        0.000         0.000   28696420762644   \n",
       "\n",
       "   StartBelichtung  Belichtungszeit  StoppBewegungsD  \\\n",
       "0   28695151826775         20003678   28695269322592   \n",
       "1   28695519306775         20003678   28695581130769   \n",
       "2   28695786555775         20003678   28695859420144   \n",
       "3   28696087197775         20003678   28695859420144   \n",
       "4   28696354450775         20003678   28695859420144   \n",
       "\n",
       "                        Datum  Millisekunden  \n",
       "0  2018-02-21 14:59:14.869000              0  \n",
       "1  2018-02-21 14:59:15.195000            326  \n",
       "2  2018-02-21 14:59:15.478000            609  \n",
       "3  2018-02-21 14:59:15.767000            898  \n",
       "4  2018-02-21 14:59:16.039000           1170  \n",
       "\n",
       "[5 rows x 26 columns]"
      ]
     },
     "execution_count": 4,
     "metadata": {},
     "output_type": "execute_result"
    }
   ],
   "source": [
    "# Fügt eine Spalte mit dem Datum hinzu und eine mit der verstrichenen Zeit seit dem Start\n",
    "# in Millisekunden\n",
    "date = []\n",
    "ms = []\n",
    "for row in featuresDf.Zeitstempel:\n",
    "    date.append(datetime.datetime.fromtimestamp(row/1000.0).strftime('%Y-%m-%d %H:%M:%S.%f'))\n",
    "    ms.append(row - featuresDf.Zeitstempel[0])\n",
    "featuresDf['Datum'] = date\n",
    "featuresDf['Millisekunden'] = ms\n",
    "featuresDf.head(5)"
   ]
  },
  {
   "cell_type": "code",
   "execution_count": 5,
   "metadata": {},
   "outputs": [
    {
     "data": {
      "text/plain": [
       "RangeIndex(start=0, stop=5374, step=1)"
      ]
     },
     "execution_count": 5,
     "metadata": {},
     "output_type": "execute_result"
    }
   ],
   "source": [
    "featuresDf.index"
   ]
  },
  {
   "cell_type": "code",
   "execution_count": 6,
   "metadata": {},
   "outputs": [
    {
     "data": {
      "text/plain": [
       "Series([], Name: Belichtungszeit, dtype: int64)"
      ]
     },
     "execution_count": 6,
     "metadata": {},
     "output_type": "execute_result"
    }
   ],
   "source": [
    "featuresDf.Belichtungszeit[featuresDf.Belichtungszeit < 1000]"
   ]
  },
  {
   "cell_type": "code",
   "execution_count": 7,
   "metadata": {},
   "outputs": [
    {
     "data": {
      "image/png": "[encoded data removed]",
      "text/plain": [
       "<matplotlib.figure.Figure at 0x18667b306a0>"
      ]
     },
     "metadata": {},
     "output_type": "display_data"
    }
   ],
   "source": [
    "fig = plt.figure(num=None, figsize=(10, 6), dpi=100)\n",
    "plt.title('Belichtungszeit')\n",
    "plt.ylabel('Belichtungszeit in Nanosekunden')\n",
    "plt.xlabel('Millisekunden seit dem Start der Datenerfassung')\n",
    "plt.plot(featuresDf['Millisekunden'],featuresDf['Belichtungszeit'])\n",
    "xOffset = 10000 # Für schönen Plot\n",
    "yOffset = 500000 \n",
    "plt.grid(True)\n",
    "plt.xlim(-xOffset, featuresDf.iloc[-1,:].Millisekunden+xOffset)\n",
    "plt.ylim(featuresDf.Belichtungszeit.min()-yOffset, featuresDf.Belichtungszeit.max()+yOffset)\n",
    "plt.savefig(\"belichtungszeit.jpg\")"
   ]
  },
  {
   "cell_type": "code",
   "execution_count": 8,
   "metadata": {},
   "outputs": [],
   "source": [
    "startSensorDataCollectionDf = featuresDf.StartBewegungsD\n",
    "startExposureDf = featuresDf.StartBelichtung"
   ]
  },
  {
   "cell_type": "markdown",
   "metadata": {},
   "source": [
    "Die Funktion berechnet den Mittelwert der Differenz zwischen zwei Dataframes mit einer Spalte.   \n",
    "Prec.: startDf und endDf haben jeweils eine Spalte. Anzahl der Reihen der Dataframes > 0   \n",
    "Postc: Gibt den Mittelwert zurück   "
   ]
  },
  {
   "cell_type": "code",
   "execution_count": 9,
   "metadata": {},
   "outputs": [],
   "source": [
    "def calcMeanTime(startDf,endDf):\n",
    "    meanStartM = startDf.iloc[:].mean()\n",
    "    meanStartE = endDf.iloc[:].mean()\n",
    "    return meanStartM - meanStartE"
   ]
  },
  {
   "cell_type": "code",
   "execution_count": 10,
   "metadata": {},
   "outputs": [
    {
     "data": {
      "text/plain": [
       "78833685.27734375"
      ]
     },
     "execution_count": 10,
     "metadata": {},
     "output_type": "execute_result"
    }
   ],
   "source": [
    "calcMeanTime(startExposureDf,startSensorDataCollectionDf)"
   ]
  },
  {
   "cell_type": "markdown",
   "metadata": {},
   "source": [
    "Berechnitt die maximale Differenz zwischen den Achsen von zwei Dataframes   \n",
    "Prec.: startDf und endDf haben jeweils eine Spalte. Anzahl der Reihen der Dataframes > 0     \n",
    "Postc.: Maximaler Wert"
   ]
  },
  {
   "cell_type": "code",
   "execution_count": 11,
   "metadata": {},
   "outputs": [],
   "source": [
    "def calcMaxGap(endDf,startDf):\n",
    "    maxDf = endDf - startDf\n",
    "    return maxDf.max()"
   ]
  },
  {
   "cell_type": "code",
   "execution_count": 12,
   "metadata": {},
   "outputs": [
    {
     "data": {
      "text/plain": [
       "3156587736"
      ]
     },
     "execution_count": 12,
     "metadata": {},
     "output_type": "execute_result"
    }
   ],
   "source": [
    "calcMaxGap(startExposureDf, startSensorDataCollectionDf)"
   ]
  },
  {
   "cell_type": "code",
   "execution_count": 13,
   "metadata": {},
   "outputs": [
    {
     "data": {
      "text/plain": [
       "0    28695171830453\n",
       "1    28695539310453\n",
       "dtype: int64"
      ]
     },
     "execution_count": 13,
     "metadata": {},
     "output_type": "execute_result"
    }
   ],
   "source": [
    "# Dataframe mit Startpunkten der Belichtungszeit einer Aufnahme addiert mit der jeweiligen Belichtungszeit\n",
    "startExposurePlusExposureTime = featuresDf.StartBelichtung + featuresDf.Belichtungszeit\n",
    "startExposurePlusExposureTime.head(2)"
   ]
  },
  {
   "cell_type": "code",
   "execution_count": 14,
   "metadata": {},
   "outputs": [
    {
     "data": {
      "text/plain": [
       "13208916.122627465"
      ]
     },
     "execution_count": 14,
     "metadata": {},
     "output_type": "execute_result"
    }
   ],
   "source": [
    "# Mitteltert der belichtungszeit\n",
    "featuresDf.Belichtungszeit.mean()"
   ]
  },
  {
   "cell_type": "code",
   "execution_count": 15,
   "metadata": {},
   "outputs": [
    {
     "data": {
      "text/plain": [
       "32873690"
      ]
     },
     "execution_count": 15,
     "metadata": {},
     "output_type": "execute_result"
    }
   ],
   "source": [
    "# Max Belichtungszeit\n",
    "featuresDf.Belichtungszeit.max()"
   ]
  },
  {
   "cell_type": "code",
   "execution_count": 28,
   "metadata": {},
   "outputs": [
    {
     "data": {
      "text/plain": [
       "218974029.671875"
      ]
     },
     "execution_count": 28,
     "metadata": {},
     "output_type": "execute_result"
    }
   ],
   "source": [
    "# Berechnet den Mittelwert der Differenzen zwischen Start der Belichtungszeit mit \n",
    "# Belichtungszeit und Stopp der Bewesungssensordatenerfassung\n",
    "calcMeanTime(startExposurePlusExposureTime,featuresDf.StoppBewegungsD)"
   ]
  },
  {
   "cell_type": "code",
   "execution_count": 25,
   "metadata": {},
   "outputs": [
    {
     "data": {
      "text/plain": [
       "Zeitstempel                     1519222713098\n",
       "Breitengrad                            53.614\n",
       "Laengengrad                           10.1617\n",
       "Geschwindigkeit                        17.064\n",
       "MittelWX                              -10.911\n",
       "VarianzX                                    0\n",
       "StandardAX                                  0\n",
       "MittelWY                                3.272\n",
       "VarianzY                                    0\n",
       "StandardAY                                  0\n",
       "MittelWZ                               13.216\n",
       "VarianzZ                                    0\n",
       "StandardAZ                                  0\n",
       "Azimuth                                     0\n",
       "MittelWPitch                            0.192\n",
       "VarianzPitch                                0\n",
       "StandardAPitch                              0\n",
       "MittelWRoll                             0.011\n",
       "VarianzRoll                                 0\n",
       "StandardRoll                                0\n",
       "StartBewegungsD                29853477344650\n",
       "StartBelichtung                29853425513614\n",
       "Belichtungszeit                      10001839\n",
       "StoppBewegungsD                29846994747465\n",
       "Datum              2018-02-21 15:18:33.098000\n",
       "Millisekunden                         1158229\n",
       "Name: 3709, dtype: object"
      ]
     },
     "execution_count": 25,
     "metadata": {},
     "output_type": "execute_result"
    }
   ],
   "source": [
    "# Gibt den Index zurück mit der Zeitdifferenz größer als der angegebene Grenzwert\n",
    "diffDf = startExposurePlusExposureTime - featuresDf.StoppBewegungsD\n",
    "diffDf[diffDf > 5000000000]\n",
    "featuresDf.iloc[3709]"
   ]
  },
  {
   "cell_type": "code",
   "execution_count": 29,
   "metadata": {},
   "outputs": [
    {
     "data": {
      "text/plain": [
       "-97492139"
      ]
     },
     "execution_count": 29,
     "metadata": {},
     "output_type": "execute_result"
    }
   ],
   "source": [
    "diffDf.min()"
   ]
  },
  {
   "cell_type": "code",
   "execution_count": null,
   "metadata": {},
   "outputs": [],
   "source": [
    "calcMaxGap(startExposurePlusExposureTime, featuresDf.StoppBewegungsD)"
   ]
  },
  {
   "cell_type": "code",
   "execution_count": null,
   "metadata": {},
   "outputs": [],
   "source": [
    "# Unittests\n",
    "import unittest\n",
    "\n",
    "class CalcTimeframeTest(unittest.TestCase):\n",
    "    \n",
    "    # Testet die Funktion calcMaxGap\n",
    "    # Dabei wird mehere Datenwerte verwendet\n",
    "    def testCalcMaxGap(self):\n",
    "        dEnd = [10, 20, 5]\n",
    "        dfEnd = pandas.DataFrame(dEnd)\n",
    "        dStart = [2, 10, 1]\n",
    "        dfStart = pandas.DataFrame(dStart)\n",
    "        self.assertEqual(calcMaxGap(dfEnd,dfStart)[0], 10)\n",
    "        \n",
    "    # Testet die Funktion calcMaxGap\n",
    "    # Dabei wird ein Datenwert genutzt\n",
    "    def testCalcMaxGapOne(self):\n",
    "        dEnd = [10]\n",
    "        dfEnd = pandas.DataFrame(dEnd)\n",
    "        dStart = [10]\n",
    "        dfStart = pandas.DataFrame(dStart)\n",
    "        self.assertEqual(calcMaxGap(dfEnd,dfStart)[0], 0)\n",
    "        \n",
    "    \n",
    "    # Testet die Funktion calcMaxGap\n",
    "    # Die Anzahl der Reihen ist unterschiedlich\n",
    "    def testCalcMaxGapUnequal(self):\n",
    "        dEnd = [10,20,20]\n",
    "        dfEnd = pandas.DataFrame(dEnd)\n",
    "        dStart = [10]\n",
    "        dfStart = pandas.DataFrame(dStart)\n",
    "        self.assertEqual(calcMaxGap(dfEnd,dfStart)[0], 0)\n",
    "        \n",
    "    # Dieser Test testet die Funktion calcMeanTime.\n",
    "    # Hier wird die Mittlere Differenz gleich 0 erwartet\n",
    "    def testCalcMeanTimeZero(self):\n",
    "        dEnd = [10,10,10]\n",
    "        dfEnd = pandas.DataFrame(dEnd)\n",
    "        dStart = [10,10,10]\n",
    "        dfStart = pandas.DataFrame(dStart)\n",
    "        self.assertEqual(calcMeanTime(dfEnd,dfStart)[0], 0.0)\n",
    "        \n",
    "    # Dieser Test testet die Funktion calcMeanTime.\n",
    "    # Hier wird die Mittlere Differenz gleich 0 erwartet\n",
    "    def testCalcMeanTimeZero(self):\n",
    "        dEnd = [10,10,10]\n",
    "        dfEnd = pandas.DataFrame(dEnd)\n",
    "        dStart = [10,10,10]\n",
    "        dfStart = pandas.DataFrame(dStart)\n",
    "        self.assertEqual(calcMeanTime(dfEnd,dfStart)[0], 0.0)\n",
    "    \n",
    "    # Test die Funktion calcMeanTime.\n",
    "    # Es werden mehrere unterschiedliche Werte getestet\n",
    "    def testCalcMeanTimeValues(self):\n",
    "        dEnd = [4,8,3,5,60]\n",
    "        dfEnd = pandas.DataFrame(dEnd)\n",
    "        dStart = [4,3,10,40,3]\n",
    "        dfStart = pandas.DataFrame(dStart)\n",
    "        self.assertEqual(calcMeanTime(dfEnd,dfStart)[0], 4.0)        \n",
    "  \n",
    "    # Test die Funktion calcMeanTime.\n",
    "    # Dabei sind die Anzahl der Reihen unterschiedlich\n",
    "    def testCalcMeanTimeUnequal(self):\n",
    "        dEnd = [4,8,3,5,60]\n",
    "        dfEnd = pandas.DataFrame(dEnd)\n",
    "        dStart = [4,6,10,40]\n",
    "        dfStart = pandas.DataFrame(dStart)\n",
    "        self.assertEqual(calcMeanTime(dfEnd,dfStart)[0], 1.0)        \n",
    "\n",
    "unittest.main(argv=[''], verbosity=2, exit=False)"
   ]
  },
  {
   "cell_type": "code",
   "execution_count": null,
   "metadata": {},
   "outputs": [],
   "source": []
  }
 ],
 "metadata": {
  "kernelspec": {
   "display_name": "Python 3",
   "language": "python",
   "name": "python3"
  },
  "language_info": {
   "codemirror_mode": {
    "name": "ipython",
    "version": 3
   },
   "file_extension": ".py",
   "mimetype": "text/x-python",
   "name": "python",
   "nbconvert_exporter": "python",
   "pygments_lexer": "ipython3",
   "version": "3.5.4"
  },
  "toc": {
   "colors": {
    "hover_highlight": "#DAA520",
    "navigate_num": "#000000",
    "navigate_text": "#333333",
    "running_highlight": "#FF0000",
    "selected_highlight": "#FFD700",
    "sidebar_border": "#EEEEEE",
    "wrapper_background": "#FFFFFF"
   },
   "moveMenuLeft": true,
   "nav_menu": {
    "height": "12px",
    "width": "252px"
   },
   "navigate_menu": true,
   "number_sections": true,
   "sideBar": true,
   "threshold": 4,
   "toc_cell": false,
   "toc_section_display": "block",
   "toc_window_display": false,
   "widenNotebook": false
  }
 },
 "nbformat": 4,
 "nbformat_minor": 2
}
