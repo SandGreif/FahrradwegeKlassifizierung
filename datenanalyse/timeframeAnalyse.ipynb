{
 "cells": [
  {
   "cell_type": "markdown",
   "metadata": {},
   "source": [
    "# Zeitfensteranalyse\n",
    "\n",
    "## Einleitung\n",
    "\n",
    "Ziel dieses Notebooks ist es eine Unterstützung zu bieten, um ein Zeitfenster zu bestimmen, in welchem Bewegungssensordaten    \n",
    "zu einer Aufnahme erfasst werden. Zu diesen gehören die Beschleunigungssensordaten X,Y,Z sowie die Winkel Roll, Nick und Gier.   \n",
    "\n",
    "## Herausforderungen\n",
    "\n",
    "Bevor die Belichtung einer Aufnahme beginnt sollen bereits die Bewegungsdaten erfasst werden. Es gibt einen Handler in der Android   \n",
    "Camera2 API, welcher beim Start der Belichtung aufgerufen wird. Wenn dann erst die Erfassung der Daten gestartet wird, dann    \n",
    "wäre dies bereits zu spät. Da zu diesem Zeitpunkt die Belichtung bereits begonnen hat. Eine weitere Herausforderung ist ausreihend Datenwerte   \n",
    "zu ermitteln. Ist die Datenerfassung zu kurz werden nur wenige bis keine Daten erfasst. Desweiteren ist der Zeitpunkt   \n",
    "bei welchem die Datenerfassung gestoppt wird relevant."
   ]
  },
  {
   "cell_type": "code",
   "execution_count": 1,
   "metadata": {},
   "outputs": [],
   "source": [
    "import pandas\n",
    "import pandas \n",
    "%matplotlib inline\n",
    "import matplotlib\n",
    "import matplotlib.pyplot as plt\n",
    "import datetime"
   ]
  },
  {
   "cell_type": "code",
   "execution_count": 5,
   "metadata": {},
   "outputs": [],
   "source": [
    "featuresDf = pandas.read_csv(filepath_or_buffer=\"../merkmale.csv\")"
   ]
  },
  {
   "cell_type": "code",
   "execution_count": 6,
   "metadata": {},
   "outputs": [
    {
     "data": {
      "text/html": [
       "<div>\n",
       "<table border=\"1\" class=\"dataframe\">\n",
       "  <thead>\n",
       "    <tr style=\"text-align: right;\">\n",
       "      <th></th>\n",
       "      <th>Zeitstempel</th>\n",
       "      <th>Breitengrad</th>\n",
       "      <th>Laengengrad</th>\n",
       "      <th>Geschwindigkeit</th>\n",
       "      <th>Messwerte</th>\n",
       "      <th>StartBewegungsD</th>\n",
       "      <th>StartBelichtung</th>\n",
       "      <th>Belichtungszeit</th>\n",
       "      <th>MittelX</th>\n",
       "      <th>MittelY</th>\n",
       "      <th>...</th>\n",
       "      <th>VarianzX</th>\n",
       "      <th>VarianzY</th>\n",
       "      <th>VarianzZ</th>\n",
       "      <th>VarianzNick</th>\n",
       "      <th>VarianzRoll</th>\n",
       "      <th>AbweichungX</th>\n",
       "      <th>AbweichungY</th>\n",
       "      <th>AbweichungZ</th>\n",
       "      <th>AbweichungNick</th>\n",
       "      <th>AbweichungRoll</th>\n",
       "    </tr>\n",
       "  </thead>\n",
       "  <tbody>\n",
       "    <tr>\n",
       "      <th>count</th>\n",
       "      <td>1.214900e+04</td>\n",
       "      <td>12149.000000</td>\n",
       "      <td>12149.000000</td>\n",
       "      <td>12149.000000</td>\n",
       "      <td>12149.0</td>\n",
       "      <td>1.214900e+04</td>\n",
       "      <td>1.214900e+04</td>\n",
       "      <td>1.214900e+04</td>\n",
       "      <td>12149.000000</td>\n",
       "      <td>12149.000000</td>\n",
       "      <td>...</td>\n",
       "      <td>12149.000000</td>\n",
       "      <td>12149.000000</td>\n",
       "      <td>12149.000000</td>\n",
       "      <td>12149.000000</td>\n",
       "      <td>12149.000000</td>\n",
       "      <td>12149.000000</td>\n",
       "      <td>12149.00000</td>\n",
       "      <td>12149.000000</td>\n",
       "      <td>12149.000000</td>\n",
       "      <td>12149.000000</td>\n",
       "    </tr>\n",
       "    <tr>\n",
       "      <th>mean</th>\n",
       "      <td>1.520521e+12</td>\n",
       "      <td>53.621404</td>\n",
       "      <td>10.175575</td>\n",
       "      <td>15.419228</td>\n",
       "      <td>20.0</td>\n",
       "      <td>3.972071e+12</td>\n",
       "      <td>3.972161e+12</td>\n",
       "      <td>1.931440e+07</td>\n",
       "      <td>0.001482</td>\n",
       "      <td>0.003506</td>\n",
       "      <td>...</td>\n",
       "      <td>2.121109</td>\n",
       "      <td>16.710875</td>\n",
       "      <td>17.784782</td>\n",
       "      <td>0.176490</td>\n",
       "      <td>0.252438</td>\n",
       "      <td>1.200596</td>\n",
       "      <td>3.22775</td>\n",
       "      <td>3.402667</td>\n",
       "      <td>0.380466</td>\n",
       "      <td>0.323835</td>\n",
       "    </tr>\n",
       "    <tr>\n",
       "      <th>std</th>\n",
       "      <td>1.226303e+06</td>\n",
       "      <td>0.006939</td>\n",
       "      <td>0.018062</td>\n",
       "      <td>3.447197</td>\n",
       "      <td>0.0</td>\n",
       "      <td>1.226303e+12</td>\n",
       "      <td>1.226303e+12</td>\n",
       "      <td>8.842717e+06</td>\n",
       "      <td>0.279567</td>\n",
       "      <td>0.564297</td>\n",
       "      <td>...</td>\n",
       "      <td>4.805029</td>\n",
       "      <td>37.120677</td>\n",
       "      <td>34.064271</td>\n",
       "      <td>0.165855</td>\n",
       "      <td>0.595264</td>\n",
       "      <td>0.824460</td>\n",
       "      <td>2.50859</td>\n",
       "      <td>2.491415</td>\n",
       "      <td>0.178153</td>\n",
       "      <td>0.384162</td>\n",
       "    </tr>\n",
       "    <tr>\n",
       "      <th>min</th>\n",
       "      <td>1.520519e+12</td>\n",
       "      <td>53.610477</td>\n",
       "      <td>10.137807</td>\n",
       "      <td>5.004000</td>\n",
       "      <td>20.0</td>\n",
       "      <td>1.618455e+12</td>\n",
       "      <td>1.618559e+12</td>\n",
       "      <td>4.127597e+06</td>\n",
       "      <td>-2.285901</td>\n",
       "      <td>-4.989452</td>\n",
       "      <td>...</td>\n",
       "      <td>0.000370</td>\n",
       "      <td>0.000230</td>\n",
       "      <td>0.000380</td>\n",
       "      <td>0.000000</td>\n",
       "      <td>0.000010</td>\n",
       "      <td>0.019240</td>\n",
       "      <td>0.01517</td>\n",
       "      <td>0.019490</td>\n",
       "      <td>0.000000</td>\n",
       "      <td>0.003160</td>\n",
       "    </tr>\n",
       "    <tr>\n",
       "      <th>25%</th>\n",
       "      <td>1.520520e+12</td>\n",
       "      <td>53.614110</td>\n",
       "      <td>10.161995</td>\n",
       "      <td>13.608000</td>\n",
       "      <td>20.0</td>\n",
       "      <td>2.973751e+12</td>\n",
       "      <td>2.973839e+12</td>\n",
       "      <td>1.000184e+07</td>\n",
       "      <td>-0.141578</td>\n",
       "      <td>-0.247978</td>\n",
       "      <td>...</td>\n",
       "      <td>0.515670</td>\n",
       "      <td>3.221720</td>\n",
       "      <td>3.578670</td>\n",
       "      <td>0.059210</td>\n",
       "      <td>0.011630</td>\n",
       "      <td>0.718100</td>\n",
       "      <td>1.79492</td>\n",
       "      <td>1.891740</td>\n",
       "      <td>0.243330</td>\n",
       "      <td>0.107840</td>\n",
       "    </tr>\n",
       "    <tr>\n",
       "      <th>50%</th>\n",
       "      <td>1.520521e+12</td>\n",
       "      <td>53.621760</td>\n",
       "      <td>10.177186</td>\n",
       "      <td>15.804000</td>\n",
       "      <td>20.0</td>\n",
       "      <td>3.963729e+12</td>\n",
       "      <td>3.963809e+12</td>\n",
       "      <td>2.000368e+07</td>\n",
       "      <td>0.000789</td>\n",
       "      <td>-0.004989</td>\n",
       "      <td>...</td>\n",
       "      <td>0.937230</td>\n",
       "      <td>6.096390</td>\n",
       "      <td>6.850140</td>\n",
       "      <td>0.114540</td>\n",
       "      <td>0.025740</td>\n",
       "      <td>0.968110</td>\n",
       "      <td>2.46909</td>\n",
       "      <td>2.617280</td>\n",
       "      <td>0.338440</td>\n",
       "      <td>0.160440</td>\n",
       "    </tr>\n",
       "    <tr>\n",
       "      <th>75%</th>\n",
       "      <td>1.520523e+12</td>\n",
       "      <td>53.627620</td>\n",
       "      <td>10.190325</td>\n",
       "      <td>17.712000</td>\n",
       "      <td>20.0</td>\n",
       "      <td>4.998830e+12</td>\n",
       "      <td>4.998939e+12</td>\n",
       "      <td>2.999632e+07</td>\n",
       "      <td>0.140186</td>\n",
       "      <td>0.253781</td>\n",
       "      <td>...</td>\n",
       "      <td>1.950760</td>\n",
       "      <td>13.289150</td>\n",
       "      <td>15.018690</td>\n",
       "      <td>0.240750</td>\n",
       "      <td>0.099260</td>\n",
       "      <td>1.396700</td>\n",
       "      <td>3.64543</td>\n",
       "      <td>3.875400</td>\n",
       "      <td>0.490660</td>\n",
       "      <td>0.315060</td>\n",
       "    </tr>\n",
       "    <tr>\n",
       "      <th>max</th>\n",
       "      <td>1.520523e+12</td>\n",
       "      <td>53.635113</td>\n",
       "      <td>10.203202</td>\n",
       "      <td>24.984000</td>\n",
       "      <td>20.0</td>\n",
       "      <td>5.977850e+12</td>\n",
       "      <td>5.977940e+12</td>\n",
       "      <td>2.999632e+07</td>\n",
       "      <td>2.644231</td>\n",
       "      <td>5.218423</td>\n",
       "      <td>...</td>\n",
       "      <td>144.743590</td>\n",
       "      <td>502.054320</td>\n",
       "      <td>575.782600</td>\n",
       "      <td>1.071350</td>\n",
       "      <td>5.731200</td>\n",
       "      <td>12.030940</td>\n",
       "      <td>22.40657</td>\n",
       "      <td>23.995470</td>\n",
       "      <td>1.035060</td>\n",
       "      <td>2.393990</td>\n",
       "    </tr>\n",
       "  </tbody>\n",
       "</table>\n",
       "<p>8 rows × 24 columns</p>\n",
       "</div>"
      ],
      "text/plain": [
       "        Zeitstempel   Breitengrad   Laengengrad  Geschwindigkeit  Messwerte  \\\n",
       "count  1.214900e+04  12149.000000  12149.000000     12149.000000    12149.0   \n",
       "mean   1.520521e+12     53.621404     10.175575        15.419228       20.0   \n",
       "std    1.226303e+06      0.006939      0.018062         3.447197        0.0   \n",
       "min    1.520519e+12     53.610477     10.137807         5.004000       20.0   \n",
       "25%    1.520520e+12     53.614110     10.161995        13.608000       20.0   \n",
       "50%    1.520521e+12     53.621760     10.177186        15.804000       20.0   \n",
       "75%    1.520523e+12     53.627620     10.190325        17.712000       20.0   \n",
       "max    1.520523e+12     53.635113     10.203202        24.984000       20.0   \n",
       "\n",
       "       StartBewegungsD  StartBelichtung  Belichtungszeit       MittelX  \\\n",
       "count     1.214900e+04     1.214900e+04     1.214900e+04  12149.000000   \n",
       "mean      3.972071e+12     3.972161e+12     1.931440e+07      0.001482   \n",
       "std       1.226303e+12     1.226303e+12     8.842717e+06      0.279567   \n",
       "min       1.618455e+12     1.618559e+12     4.127597e+06     -2.285901   \n",
       "25%       2.973751e+12     2.973839e+12     1.000184e+07     -0.141578   \n",
       "50%       3.963729e+12     3.963809e+12     2.000368e+07      0.000789   \n",
       "75%       4.998830e+12     4.998939e+12     2.999632e+07      0.140186   \n",
       "max       5.977850e+12     5.977940e+12     2.999632e+07      2.644231   \n",
       "\n",
       "            MittelY       ...            VarianzX      VarianzY      VarianzZ  \\\n",
       "count  12149.000000       ...        12149.000000  12149.000000  12149.000000   \n",
       "mean       0.003506       ...            2.121109     16.710875     17.784782   \n",
       "std        0.564297       ...            4.805029     37.120677     34.064271   \n",
       "min       -4.989452       ...            0.000370      0.000230      0.000380   \n",
       "25%       -0.247978       ...            0.515670      3.221720      3.578670   \n",
       "50%       -0.004989       ...            0.937230      6.096390      6.850140   \n",
       "75%        0.253781       ...            1.950760     13.289150     15.018690   \n",
       "max        5.218423       ...          144.743590    502.054320    575.782600   \n",
       "\n",
       "        VarianzNick   VarianzRoll   AbweichungX  AbweichungY   AbweichungZ  \\\n",
       "count  12149.000000  12149.000000  12149.000000  12149.00000  12149.000000   \n",
       "mean       0.176490      0.252438      1.200596      3.22775      3.402667   \n",
       "std        0.165855      0.595264      0.824460      2.50859      2.491415   \n",
       "min        0.000000      0.000010      0.019240      0.01517      0.019490   \n",
       "25%        0.059210      0.011630      0.718100      1.79492      1.891740   \n",
       "50%        0.114540      0.025740      0.968110      2.46909      2.617280   \n",
       "75%        0.240750      0.099260      1.396700      3.64543      3.875400   \n",
       "max        1.071350      5.731200     12.030940     22.40657     23.995470   \n",
       "\n",
       "       AbweichungNick  AbweichungRoll  \n",
       "count    12149.000000    12149.000000  \n",
       "mean         0.380466        0.323835  \n",
       "std          0.178153        0.384162  \n",
       "min          0.000000        0.003160  \n",
       "25%          0.243330        0.107840  \n",
       "50%          0.338440        0.160440  \n",
       "75%          0.490660        0.315060  \n",
       "max          1.035060        2.393990  \n",
       "\n",
       "[8 rows x 24 columns]"
      ]
     },
     "execution_count": 6,
     "metadata": {},
     "output_type": "execute_result"
    }
   ],
   "source": [
    "featuresDf.describe()"
   ]
  },
  {
   "cell_type": "code",
   "execution_count": 7,
   "metadata": {
    "scrolled": true
   },
   "outputs": [
    {
     "data": {
      "text/html": [
       "<div>\n",
       "<table border=\"1\" class=\"dataframe\">\n",
       "  <thead>\n",
       "    <tr style=\"text-align: right;\">\n",
       "      <th></th>\n",
       "      <th>Zeitstempel</th>\n",
       "      <th>Breitengrad</th>\n",
       "      <th>Laengengrad</th>\n",
       "      <th>Geschwindigkeit</th>\n",
       "      <th>AccelerometerX</th>\n",
       "      <th>AccelerometerY</th>\n",
       "      <th>AccelerometerZ</th>\n",
       "      <th>Azimuth</th>\n",
       "      <th>Nick</th>\n",
       "      <th>Roll</th>\n",
       "      <th>...</th>\n",
       "      <th>VarianzZ</th>\n",
       "      <th>VarianzNick</th>\n",
       "      <th>VarianzRoll</th>\n",
       "      <th>AbweichungX</th>\n",
       "      <th>AbweichungY</th>\n",
       "      <th>AbweichungZ</th>\n",
       "      <th>AbweichungNick</th>\n",
       "      <th>AbweichungRoll</th>\n",
       "      <th>Datum</th>\n",
       "      <th>Millisekunden</th>\n",
       "    </tr>\n",
       "  </thead>\n",
       "  <tbody>\n",
       "    <tr>\n",
       "      <th>0</th>\n",
       "      <td>1520519134167</td>\n",
       "      <td>53.613567</td>\n",
       "      <td>10.137807</td>\n",
       "      <td>5.220000</td>\n",
       "      <td>1.21672 0.42177 -0.3521 -0.86394 -1.08952 0.06...</td>\n",
       "      <td>1.06042 0.64921 0.53476 0.61175 0.19835 -0.362...</td>\n",
       "      <td>-0.82585 0.35049 1.87382 3.21506 3.85902 2.734...</td>\n",
       "      <td>2.23765 2.12145 2.03005 1.9612 2.11652 2.32157...</td>\n",
       "      <td>0.00735 0.04813 0.05185 0.03776 0.06802 0.1157...</td>\n",
       "      <td>-0.11964 -0.02541 0.05329 0.09302 0.11126 0.03...</td>\n",
       "      <td>...</td>\n",
       "      <td>3.10037</td>\n",
       "      <td>0.00430</td>\n",
       "      <td>0.00519</td>\n",
       "      <td>0.63386</td>\n",
       "      <td>0.52624</td>\n",
       "      <td>1.76079</td>\n",
       "      <td>0.06557</td>\n",
       "      <td>0.07204</td>\n",
       "      <td>2018-03-08 14:25:34.167000</td>\n",
       "      <td>0</td>\n",
       "    </tr>\n",
       "    <tr>\n",
       "      <th>1</th>\n",
       "      <td>1520519134921</td>\n",
       "      <td>53.613567</td>\n",
       "      <td>10.137807</td>\n",
       "      <td>5.220000</td>\n",
       "      <td>0.54781 0.31568 0.06868 -0.03698 -0.382 -0.933...</td>\n",
       "      <td>-0.37129 -0.86392 -0.73702 -0.77342 0.22409 4....</td>\n",
       "      <td>0.68411 0.3173 0.26901 0.30699 0.64384 1.7714 ...</td>\n",
       "      <td>2.4838 2.56071 2.52622 2.52087 2.32064 1.43115...</td>\n",
       "      <td>0.05463 0.12847 0.1343 0.15724 0.04987 -0.3455...</td>\n",
       "      <td>-0.02801 -0.01113 0.01286 0.02394 0.06323 0.11...</td>\n",
       "      <td>...</td>\n",
       "      <td>1.39617</td>\n",
       "      <td>0.04912</td>\n",
       "      <td>0.00386</td>\n",
       "      <td>0.49182</td>\n",
       "      <td>1.86525</td>\n",
       "      <td>1.18160</td>\n",
       "      <td>0.22163</td>\n",
       "      <td>0.06213</td>\n",
       "      <td>2018-03-08 14:25:34.921000</td>\n",
       "      <td>754</td>\n",
       "    </tr>\n",
       "    <tr>\n",
       "      <th>2</th>\n",
       "      <td>1520519135274</td>\n",
       "      <td>53.613575</td>\n",
       "      <td>10.137822</td>\n",
       "      <td>6.156001</td>\n",
       "      <td>-0.19796 -0.23496 -0.24925 -0.29133 -0.27901 -...</td>\n",
       "      <td>0.29224 0.46371 0.17183 -0.59796 -0.44765 0.23...</td>\n",
       "      <td>-0.1022 -0.05127 -0.19439 -0.21695 0.11741 0.1...</td>\n",
       "      <td>2.20425 2.05437 2.09199 2.2589 2.24762 2.14997...</td>\n",
       "      <td>0.06975 0.038 0.06533 0.16961 0.16172 0.08031 ...</td>\n",
       "      <td>0.02121 0.03146 0.04192 0.05577 0.05768 0.0466...</td>\n",
       "      <td>...</td>\n",
       "      <td>0.04497</td>\n",
       "      <td>0.00659</td>\n",
       "      <td>0.00072</td>\n",
       "      <td>0.21378</td>\n",
       "      <td>0.61637</td>\n",
       "      <td>0.21206</td>\n",
       "      <td>0.08118</td>\n",
       "      <td>0.02683</td>\n",
       "      <td>2018-03-08 14:25:35.274000</td>\n",
       "      <td>1107</td>\n",
       "    </tr>\n",
       "    <tr>\n",
       "      <th>3</th>\n",
       "      <td>1520519135588</td>\n",
       "      <td>53.613575</td>\n",
       "      <td>10.137822</td>\n",
       "      <td>6.156001</td>\n",
       "      <td>0.14269 0.03755 0.13732 0.33972 0.40969 0.0672...</td>\n",
       "      <td>0.76275 -0.03328 -0.0572 -0.22957 -0.39811 0.1...</td>\n",
       "      <td>0.58322 0.00675 -0.2246 -0.40968 -0.77225 -0.6...</td>\n",
       "      <td>1.75372 1.90341 1.8737 1.94119 2.02194 1.84681...</td>\n",
       "      <td>-0.04561 0.03156 0.03433 0.05887 0.08996 0.018...</td>\n",
       "      <td>-0.04006 -0.02911 -0.04298 -0.07504 -0.09719 -...</td>\n",
       "      <td>...</td>\n",
       "      <td>0.21140</td>\n",
       "      <td>0.00680</td>\n",
       "      <td>0.00138</td>\n",
       "      <td>0.28580</td>\n",
       "      <td>0.64872</td>\n",
       "      <td>0.45978</td>\n",
       "      <td>0.08246</td>\n",
       "      <td>0.03715</td>\n",
       "      <td>2018-03-08 14:25:35.588000</td>\n",
       "      <td>1421</td>\n",
       "    </tr>\n",
       "    <tr>\n",
       "      <th>4</th>\n",
       "      <td>1520519135895</td>\n",
       "      <td>53.613575</td>\n",
       "      <td>10.137822</td>\n",
       "      <td>6.156001</td>\n",
       "      <td>0.30531 0.52007 -0.02829 -0.0073 0.33128 0.081...</td>\n",
       "      <td>-0.24367 -0.19487 -0.40099 -0.39733 0.14189 -0...</td>\n",
       "      <td>0.40631 0.35553 0.08508 -0.2079 -0.62616 -0.80...</td>\n",
       "      <td>1.96453 2.00206 2.02873 2.08015 1.98376 2.1696...</td>\n",
       "      <td>0.12332 0.12289 0.15659 0.16993 0.10932 0.1665...</td>\n",
       "      <td>-0.1856 -0.21987 -0.16655 -0.17287 -0.22914 -0...</td>\n",
       "      <td>...</td>\n",
       "      <td>0.21333</td>\n",
       "      <td>0.00133</td>\n",
       "      <td>0.00529</td>\n",
       "      <td>0.35423</td>\n",
       "      <td>0.31085</td>\n",
       "      <td>0.46188</td>\n",
       "      <td>0.03647</td>\n",
       "      <td>0.07273</td>\n",
       "      <td>2018-03-08 14:25:35.895000</td>\n",
       "      <td>1728</td>\n",
       "    </tr>\n",
       "  </tbody>\n",
       "</table>\n",
       "<p>5 rows × 33 columns</p>\n",
       "</div>"
      ],
      "text/plain": [
       "     Zeitstempel  Breitengrad  Laengengrad  Geschwindigkeit  \\\n",
       "0  1520519134167    53.613567    10.137807         5.220000   \n",
       "1  1520519134921    53.613567    10.137807         5.220000   \n",
       "2  1520519135274    53.613575    10.137822         6.156001   \n",
       "3  1520519135588    53.613575    10.137822         6.156001   \n",
       "4  1520519135895    53.613575    10.137822         6.156001   \n",
       "\n",
       "                                      AccelerometerX  \\\n",
       "0  1.21672 0.42177 -0.3521 -0.86394 -1.08952 0.06...   \n",
       "1  0.54781 0.31568 0.06868 -0.03698 -0.382 -0.933...   \n",
       "2  -0.19796 -0.23496 -0.24925 -0.29133 -0.27901 -...   \n",
       "3  0.14269 0.03755 0.13732 0.33972 0.40969 0.0672...   \n",
       "4  0.30531 0.52007 -0.02829 -0.0073 0.33128 0.081...   \n",
       "\n",
       "                                      AccelerometerY  \\\n",
       "0  1.06042 0.64921 0.53476 0.61175 0.19835 -0.362...   \n",
       "1  -0.37129 -0.86392 -0.73702 -0.77342 0.22409 4....   \n",
       "2  0.29224 0.46371 0.17183 -0.59796 -0.44765 0.23...   \n",
       "3  0.76275 -0.03328 -0.0572 -0.22957 -0.39811 0.1...   \n",
       "4  -0.24367 -0.19487 -0.40099 -0.39733 0.14189 -0...   \n",
       "\n",
       "                                      AccelerometerZ  \\\n",
       "0  -0.82585 0.35049 1.87382 3.21506 3.85902 2.734...   \n",
       "1  0.68411 0.3173 0.26901 0.30699 0.64384 1.7714 ...   \n",
       "2  -0.1022 -0.05127 -0.19439 -0.21695 0.11741 0.1...   \n",
       "3  0.58322 0.00675 -0.2246 -0.40968 -0.77225 -0.6...   \n",
       "4  0.40631 0.35553 0.08508 -0.2079 -0.62616 -0.80...   \n",
       "\n",
       "                                             Azimuth  \\\n",
       "0  2.23765 2.12145 2.03005 1.9612 2.11652 2.32157...   \n",
       "1  2.4838 2.56071 2.52622 2.52087 2.32064 1.43115...   \n",
       "2  2.20425 2.05437 2.09199 2.2589 2.24762 2.14997...   \n",
       "3  1.75372 1.90341 1.8737 1.94119 2.02194 1.84681...   \n",
       "4  1.96453 2.00206 2.02873 2.08015 1.98376 2.1696...   \n",
       "\n",
       "                                                Nick  \\\n",
       "0  0.00735 0.04813 0.05185 0.03776 0.06802 0.1157...   \n",
       "1  0.05463 0.12847 0.1343 0.15724 0.04987 -0.3455...   \n",
       "2  0.06975 0.038 0.06533 0.16961 0.16172 0.08031 ...   \n",
       "3  -0.04561 0.03156 0.03433 0.05887 0.08996 0.018...   \n",
       "4  0.12332 0.12289 0.15659 0.16993 0.10932 0.1665...   \n",
       "\n",
       "                                                Roll      ...       VarianzZ  \\\n",
       "0  -0.11964 -0.02541 0.05329 0.09302 0.11126 0.03...      ...        3.10037   \n",
       "1  -0.02801 -0.01113 0.01286 0.02394 0.06323 0.11...      ...        1.39617   \n",
       "2  0.02121 0.03146 0.04192 0.05577 0.05768 0.0466...      ...        0.04497   \n",
       "3  -0.04006 -0.02911 -0.04298 -0.07504 -0.09719 -...      ...        0.21140   \n",
       "4  -0.1856 -0.21987 -0.16655 -0.17287 -0.22914 -0...      ...        0.21333   \n",
       "\n",
       "   VarianzNick  VarianzRoll  AbweichungX  AbweichungY  AbweichungZ  \\\n",
       "0      0.00430      0.00519      0.63386      0.52624      1.76079   \n",
       "1      0.04912      0.00386      0.49182      1.86525      1.18160   \n",
       "2      0.00659      0.00072      0.21378      0.61637      0.21206   \n",
       "3      0.00680      0.00138      0.28580      0.64872      0.45978   \n",
       "4      0.00133      0.00529      0.35423      0.31085      0.46188   \n",
       "\n",
       "   AbweichungNick  AbweichungRoll                       Datum  Millisekunden  \n",
       "0         0.06557         0.07204  2018-03-08 14:25:34.167000              0  \n",
       "1         0.22163         0.06213  2018-03-08 14:25:34.921000            754  \n",
       "2         0.08118         0.02683  2018-03-08 14:25:35.274000           1107  \n",
       "3         0.08246         0.03715  2018-03-08 14:25:35.588000           1421  \n",
       "4         0.03647         0.07273  2018-03-08 14:25:35.895000           1728  \n",
       "\n",
       "[5 rows x 33 columns]"
      ]
     },
     "execution_count": 7,
     "metadata": {},
     "output_type": "execute_result"
    }
   ],
   "source": [
    "# Fügt eine Spalte mit dem Datum hinzu und eine mit der verstrichenen Zeit seit dem Start\n",
    "# in Millisekunden\n",
    "date = []\n",
    "ms = []\n",
    "for row in featuresDf.Zeitstempel:\n",
    "    date.append(datetime.datetime.fromtimestamp(row/1000.0).strftime('%Y-%m-%d %H:%M:%S.%f'))\n",
    "    ms.append(row - featuresDf.Zeitstempel[0])\n",
    "featuresDf['Datum'] = date\n",
    "featuresDf['Millisekunden'] = ms\n",
    "featuresDf.head(5)"
   ]
  },
  {
   "cell_type": "code",
   "execution_count": 8,
   "metadata": {},
   "outputs": [
    {
     "data": {
      "text/plain": [
       "RangeIndex(start=0, stop=12149, step=1)"
      ]
     },
     "execution_count": 8,
     "metadata": {},
     "output_type": "execute_result"
    }
   ],
   "source": [
    "featuresDf.index"
   ]
  },
  {
   "cell_type": "code",
   "execution_count": 9,
   "metadata": {},
   "outputs": [
    {
     "data": {
      "text/plain": [
       "Series([], Name: Belichtungszeit, dtype: int64)"
      ]
     },
     "execution_count": 9,
     "metadata": {},
     "output_type": "execute_result"
    }
   ],
   "source": [
    "featuresDf.Belichtungszeit[featuresDf.Belichtungszeit < 1000]"
   ]
  },
  {
   "cell_type": "code",
   "execution_count": 10,
   "metadata": {},
   "outputs": [
    {
     "data": {
      "image/png": "[encoded data removed]",
      "text/plain": [
       "<matplotlib.figure.Figure at 0x7fc7ace61c88>"
      ]
     },
     "metadata": {},
     "output_type": "display_data"
    }
   ],
   "source": [
    "fig = plt.figure(num=None, figsize=(10, 6), dpi=100)\n",
    "plt.title('Belichtungszeit')\n",
    "plt.ylabel('Belichtungszeit in Nanosekunden')\n",
    "plt.xlabel('Millisekunden seit dem Start der Datenerfassung')\n",
    "plt.plot(featuresDf['Millisekunden'],featuresDf['Belichtungszeit'])\n",
    "xOffset = 10000 # Für schönen Plot\n",
    "yOffset = 500000 \n",
    "plt.grid(True)\n",
    "plt.xlim(-xOffset, featuresDf.iloc[-1,:].Millisekunden+xOffset)\n",
    "plt.ylim(featuresDf.Belichtungszeit.min()-yOffset, featuresDf.Belichtungszeit.max()+yOffset)\n",
    "plt.savefig(\"belichtungszeit.jpg\")"
   ]
  },
  {
   "cell_type": "code",
   "execution_count": 11,
   "metadata": {},
   "outputs": [],
   "source": [
    "startSensorDataCollectionDf = featuresDf.StartBewegungsD\n",
    "startExposureDf = featuresDf.StartBelichtung"
   ]
  },
  {
   "cell_type": "markdown",
   "metadata": {},
   "source": [
    "Die Funktion berechnet den Mittelwert der Differenz zwischen zwei Dataframes mit einer Spalte.   \n",
    "Prec.: startDf und endDf haben jeweils eine Spalte. Anzahl der Reihen der Dataframes > 0   \n",
    "Postc: Gibt den Mittelwert zurück   "
   ]
  },
  {
   "cell_type": "code",
   "execution_count": 12,
   "metadata": {},
   "outputs": [],
   "source": [
    "def calcMeanTime(startDf,endDf):\n",
    "    meanStartM = startDf.iloc[:].mean()\n",
    "    meanStartE = endDf.iloc[:].mean()\n",
    "    return meanStartM - meanStartE"
   ]
  },
  {
   "cell_type": "code",
   "execution_count": 13,
   "metadata": {},
   "outputs": [
    {
     "data": {
      "text/plain": [
       "89665827.70410156"
      ]
     },
     "execution_count": 13,
     "metadata": {},
     "output_type": "execute_result"
    }
   ],
   "source": [
    "calcMeanTime(startExposureDf,startSensorDataCollectionDf)"
   ]
  },
  {
   "cell_type": "markdown",
   "metadata": {},
   "source": [
    "Berechnitt die maximale Differenz zwischen den Achsen von zwei Dataframes   \n",
    "Prec.: startDf und endDf haben jeweils eine Spalte. Anzahl der Reihen der Dataframes > 0     \n",
    "Postc.: Maximaler Wert"
   ]
  },
  {
   "cell_type": "code",
   "execution_count": 14,
   "metadata": {},
   "outputs": [],
   "source": [
    "def calcMaxGap(endDf,startDf):\n",
    "    maxDf = endDf - startDf\n",
    "    return maxDf.max()"
   ]
  },
  {
   "cell_type": "markdown",
   "metadata": {},
   "source": [
    "Berechnitt die minimale Differenz zwischen den Achsen von zwei Dataframes   \n",
    "Prec.: startDf und endDf haben jeweils eine Spalte. Anzahl der Reihen der Dataframes > 0     \n",
    "Postc.: Minimaler Wert"
   ]
  },
  {
   "cell_type": "code",
   "execution_count": 15,
   "metadata": {},
   "outputs": [],
   "source": [
    "def calcMinGap(endDf,startDf):\n",
    "    maxDf = endDf - startDf\n",
    "    return maxDf.min()"
   ]
  },
  {
   "cell_type": "code",
   "execution_count": 16,
   "metadata": {},
   "outputs": [
    {
     "data": {
      "text/plain": [
       "142471329"
      ]
     },
     "execution_count": 16,
     "metadata": {},
     "output_type": "execute_result"
    }
   ],
   "source": [
    "calcMaxGap(startExposureDf, startSensorDataCollectionDf)"
   ]
  },
  {
   "cell_type": "code",
   "execution_count": 17,
   "metadata": {},
   "outputs": [
    {
     "data": {
      "text/plain": [
       "45299031"
      ]
     },
     "execution_count": 17,
     "metadata": {},
     "output_type": "execute_result"
    }
   ],
   "source": [
    "calcMinGap(startExposureDf, startSensorDataCollectionDf)"
   ]
  },
  {
   "cell_type": "code",
   "execution_count": 18,
   "metadata": {},
   "outputs": [
    {
     "data": {
      "text/plain": [
       "0    1618578573379\n",
       "1    1619346924379\n",
       "dtype: int64"
      ]
     },
     "execution_count": 18,
     "metadata": {},
     "output_type": "execute_result"
    }
   ],
   "source": [
    "# Dataframe mit Startpunkten der Belichtungszeit einer Aufnahme addiert mit der jeweiligen Belichtungszeit\n",
    "startExposurePlusExposureTime = featuresDf.StartBelichtung + featuresDf.Belichtungszeit\n",
    "startExposurePlusExposureTime.head(2)"
   ]
  },
  {
   "cell_type": "code",
   "execution_count": 19,
   "metadata": {},
   "outputs": [
    {
     "data": {
      "text/plain": [
       "19314396.80706231"
      ]
     },
     "execution_count": 19,
     "metadata": {},
     "output_type": "execute_result"
    }
   ],
   "source": [
    "# Mitteltert der belichtungszeit\n",
    "featuresDf.Belichtungszeit.mean()"
   ]
  },
  {
   "cell_type": "code",
   "execution_count": 20,
   "metadata": {},
   "outputs": [
    {
     "data": {
      "text/plain": [
       "29996324"
      ]
     },
     "execution_count": 20,
     "metadata": {},
     "output_type": "execute_result"
    }
   ],
   "source": [
    "# Max Belichtungszeit\n",
    "featuresDf.Belichtungszeit.max()"
   ]
  },
  {
   "cell_type": "code",
   "execution_count": 21,
   "metadata": {},
   "outputs": [
    {
     "data": {
      "text/plain": [
       "4127597"
      ]
     },
     "execution_count": 21,
     "metadata": {},
     "output_type": "execute_result"
    }
   ],
   "source": [
    "# Minimale Belichtungszeit\n",
    "featuresDf.Belichtungszeit.min()"
   ]
  },
  {
   "cell_type": "code",
   "execution_count": 23,
   "metadata": {},
   "outputs": [
    {
     "ename": "AttributeError",
     "evalue": "'DataFrame' object has no attribute 'StoppBewegungsD'",
     "output_type": "error",
     "traceback": [
      "\u001b[0;31m---------------------------------------------------------------------------\u001b[0m",
      "\u001b[0;31mAttributeError\u001b[0m                            Traceback (most recent call last)",
      "\u001b[0;32m<ipython-input-23-127e7d86024e>\u001b[0m in \u001b[0;36m<module>\u001b[0;34m()\u001b[0m\n\u001b[1;32m      2\u001b[0m \u001b[0;31m# Belichtungszeit und Stopp der Bewesungssensordatenerfassung\u001b[0m\u001b[0;34m\u001b[0m\u001b[0;34m\u001b[0m\u001b[0m\n\u001b[1;32m      3\u001b[0m \u001b[0;31m# Warnung funktioniert nur wenn der DataFrame die Spalte StoppBewegungsD hat\u001b[0m\u001b[0;34m\u001b[0m\u001b[0;34m\u001b[0m\u001b[0m\n\u001b[0;32m----> 4\u001b[0;31m \u001b[0mcalcMeanTime\u001b[0m\u001b[0;34m(\u001b[0m\u001b[0mstartExposurePlusExposureTime\u001b[0m\u001b[0;34m,\u001b[0m\u001b[0mfeaturesDf\u001b[0m\u001b[0;34m.\u001b[0m\u001b[0mStoppBewegungsD\u001b[0m\u001b[0;34m)\u001b[0m\u001b[0;34m\u001b[0m\u001b[0m\n\u001b[0m",
      "\u001b[0;32m~/anaconda3_420/lib/python3.5/site-packages/pandas/core/generic.py\u001b[0m in \u001b[0;36m__getattr__\u001b[0;34m(self, name)\u001b[0m\n\u001b[1;32m   2742\u001b[0m             \u001b[0;32mif\u001b[0m \u001b[0mname\u001b[0m \u001b[0;32min\u001b[0m \u001b[0mself\u001b[0m\u001b[0;34m.\u001b[0m\u001b[0m_info_axis\u001b[0m\u001b[0;34m:\u001b[0m\u001b[0;34m\u001b[0m\u001b[0m\n\u001b[1;32m   2743\u001b[0m                 \u001b[0;32mreturn\u001b[0m \u001b[0mself\u001b[0m\u001b[0;34m[\u001b[0m\u001b[0mname\u001b[0m\u001b[0;34m]\u001b[0m\u001b[0;34m\u001b[0m\u001b[0m\n\u001b[0;32m-> 2744\u001b[0;31m             \u001b[0;32mreturn\u001b[0m \u001b[0mobject\u001b[0m\u001b[0;34m.\u001b[0m\u001b[0m__getattribute__\u001b[0m\u001b[0;34m(\u001b[0m\u001b[0mself\u001b[0m\u001b[0;34m,\u001b[0m \u001b[0mname\u001b[0m\u001b[0;34m)\u001b[0m\u001b[0;34m\u001b[0m\u001b[0m\n\u001b[0m\u001b[1;32m   2745\u001b[0m \u001b[0;34m\u001b[0m\u001b[0m\n\u001b[1;32m   2746\u001b[0m     \u001b[0;32mdef\u001b[0m \u001b[0m__setattr__\u001b[0m\u001b[0;34m(\u001b[0m\u001b[0mself\u001b[0m\u001b[0;34m,\u001b[0m \u001b[0mname\u001b[0m\u001b[0;34m,\u001b[0m \u001b[0mvalue\u001b[0m\u001b[0;34m)\u001b[0m\u001b[0;34m:\u001b[0m\u001b[0;34m\u001b[0m\u001b[0m\n",
      "\u001b[0;31mAttributeError\u001b[0m: 'DataFrame' object has no attribute 'StoppBewegungsD'"
     ]
    }
   ],
   "source": [
    "# Berechnet den Mittelwert der Differenzen zwischen Start der Belichtungszeit mit \n",
    "# Belichtungszeit und Stopp der Bewesungssensordatenerfassung\n",
    "# Warnung funktioniert nur wenn der DataFrame die Spalte StoppBewegungsD hat\n",
    "calcMeanTime(startExposurePlusExposureTime,featuresDf.StoppBewegungsD)"
   ]
  },
  {
   "cell_type": "code",
   "execution_count": 24,
   "metadata": {},
   "outputs": [
    {
     "ename": "AttributeError",
     "evalue": "'DataFrame' object has no attribute 'StoppBewegungsD'",
     "output_type": "error",
     "traceback": [
      "\u001b[0;31m---------------------------------------------------------------------------\u001b[0m",
      "\u001b[0;31mAttributeError\u001b[0m                            Traceback (most recent call last)",
      "\u001b[0;32m<ipython-input-24-39989a466bd9>\u001b[0m in \u001b[0;36m<module>\u001b[0;34m()\u001b[0m\n\u001b[1;32m      1\u001b[0m \u001b[0;31m# Gibt den Index zurück mit der Zeitdifferenz größer als der angegebene Grenzwert\u001b[0m\u001b[0;34m\u001b[0m\u001b[0;34m\u001b[0m\u001b[0m\n\u001b[0;32m----> 2\u001b[0;31m \u001b[0mdiffDf\u001b[0m \u001b[0;34m=\u001b[0m \u001b[0mstartExposurePlusExposureTime\u001b[0m \u001b[0;34m-\u001b[0m \u001b[0mfeaturesDf\u001b[0m\u001b[0;34m.\u001b[0m\u001b[0mStoppBewegungsD\u001b[0m\u001b[0;34m\u001b[0m\u001b[0m\n\u001b[0m\u001b[1;32m      3\u001b[0m \u001b[0mdiffDf\u001b[0m\u001b[0;34m[\u001b[0m\u001b[0mdiffDf\u001b[0m \u001b[0;34m>\u001b[0m \u001b[0;36m5000000000\u001b[0m\u001b[0;34m]\u001b[0m\u001b[0;34m\u001b[0m\u001b[0m\n\u001b[1;32m      4\u001b[0m \u001b[0mfeaturesDf\u001b[0m\u001b[0;34m.\u001b[0m\u001b[0miloc\u001b[0m\u001b[0;34m[\u001b[0m\u001b[0;36m3709\u001b[0m\u001b[0;34m]\u001b[0m\u001b[0;34m\u001b[0m\u001b[0m\n",
      "\u001b[0;32m~/anaconda3_420/lib/python3.5/site-packages/pandas/core/generic.py\u001b[0m in \u001b[0;36m__getattr__\u001b[0;34m(self, name)\u001b[0m\n\u001b[1;32m   2742\u001b[0m             \u001b[0;32mif\u001b[0m \u001b[0mname\u001b[0m \u001b[0;32min\u001b[0m \u001b[0mself\u001b[0m\u001b[0;34m.\u001b[0m\u001b[0m_info_axis\u001b[0m\u001b[0;34m:\u001b[0m\u001b[0;34m\u001b[0m\u001b[0m\n\u001b[1;32m   2743\u001b[0m                 \u001b[0;32mreturn\u001b[0m \u001b[0mself\u001b[0m\u001b[0;34m[\u001b[0m\u001b[0mname\u001b[0m\u001b[0;34m]\u001b[0m\u001b[0;34m\u001b[0m\u001b[0m\n\u001b[0;32m-> 2744\u001b[0;31m             \u001b[0;32mreturn\u001b[0m \u001b[0mobject\u001b[0m\u001b[0;34m.\u001b[0m\u001b[0m__getattribute__\u001b[0m\u001b[0;34m(\u001b[0m\u001b[0mself\u001b[0m\u001b[0;34m,\u001b[0m \u001b[0mname\u001b[0m\u001b[0;34m)\u001b[0m\u001b[0;34m\u001b[0m\u001b[0m\n\u001b[0m\u001b[1;32m   2745\u001b[0m \u001b[0;34m\u001b[0m\u001b[0m\n\u001b[1;32m   2746\u001b[0m     \u001b[0;32mdef\u001b[0m \u001b[0m__setattr__\u001b[0m\u001b[0;34m(\u001b[0m\u001b[0mself\u001b[0m\u001b[0;34m,\u001b[0m \u001b[0mname\u001b[0m\u001b[0;34m,\u001b[0m \u001b[0mvalue\u001b[0m\u001b[0;34m)\u001b[0m\u001b[0;34m:\u001b[0m\u001b[0;34m\u001b[0m\u001b[0m\n",
      "\u001b[0;31mAttributeError\u001b[0m: 'DataFrame' object has no attribute 'StoppBewegungsD'"
     ]
    }
   ],
   "source": [
    "# Gibt den Index zurück mit der Zeitdifferenz größer als der angegebene Grenzwert\n",
    "diffDf = startExposurePlusExposureTime - featuresDf.StoppBewegungsD\n",
    "diffDf[diffDf > 5000000000]\n",
    "featuresDf.iloc[3709]"
   ]
  },
  {
   "cell_type": "code",
   "execution_count": 26,
   "metadata": {},
   "outputs": [
    {
     "ename": "NameError",
     "evalue": "name 'diffDf' is not defined",
     "output_type": "error",
     "traceback": [
      "\u001b[0;31m---------------------------------------------------------------------------\u001b[0m",
      "\u001b[0;31mNameError\u001b[0m                                 Traceback (most recent call last)",
      "\u001b[0;32m<ipython-input-26-96c6416f1408>\u001b[0m in \u001b[0;36m<module>\u001b[0;34m()\u001b[0m\n\u001b[0;32m----> 1\u001b[0;31m \u001b[0mdiffDf\u001b[0m\u001b[0;34m.\u001b[0m\u001b[0mmin\u001b[0m\u001b[0;34m(\u001b[0m\u001b[0;34m)\u001b[0m\u001b[0;34m\u001b[0m\u001b[0m\n\u001b[0m",
      "\u001b[0;31mNameError\u001b[0m: name 'diffDf' is not defined"
     ]
    }
   ],
   "source": [
    "diffDf.min()"
   ]
  },
  {
   "cell_type": "code",
   "execution_count": 27,
   "metadata": {},
   "outputs": [
    {
     "ename": "AttributeError",
     "evalue": "'DataFrame' object has no attribute 'StoppBewegungsD'",
     "output_type": "error",
     "traceback": [
      "\u001b[0;31m---------------------------------------------------------------------------\u001b[0m",
      "\u001b[0;31mAttributeError\u001b[0m                            Traceback (most recent call last)",
      "\u001b[0;32m<ipython-input-27-9de761ef8513>\u001b[0m in \u001b[0;36m<module>\u001b[0;34m()\u001b[0m\n\u001b[1;32m      1\u001b[0m \u001b[0;31m# Warnung funktioniert nur wenn der DataFrame die Spalte StoppBewegungsD hat\u001b[0m\u001b[0;34m\u001b[0m\u001b[0;34m\u001b[0m\u001b[0m\n\u001b[0;32m----> 2\u001b[0;31m \u001b[0mcalcMaxGap\u001b[0m\u001b[0;34m(\u001b[0m\u001b[0mstartExposurePlusExposureTime\u001b[0m\u001b[0;34m,\u001b[0m \u001b[0mfeaturesDf\u001b[0m\u001b[0;34m.\u001b[0m\u001b[0mStoppBewegungsD\u001b[0m\u001b[0;34m)\u001b[0m\u001b[0;34m\u001b[0m\u001b[0m\n\u001b[0m",
      "\u001b[0;32m~/anaconda3_420/lib/python3.5/site-packages/pandas/core/generic.py\u001b[0m in \u001b[0;36m__getattr__\u001b[0;34m(self, name)\u001b[0m\n\u001b[1;32m   2742\u001b[0m             \u001b[0;32mif\u001b[0m \u001b[0mname\u001b[0m \u001b[0;32min\u001b[0m \u001b[0mself\u001b[0m\u001b[0;34m.\u001b[0m\u001b[0m_info_axis\u001b[0m\u001b[0;34m:\u001b[0m\u001b[0;34m\u001b[0m\u001b[0m\n\u001b[1;32m   2743\u001b[0m                 \u001b[0;32mreturn\u001b[0m \u001b[0mself\u001b[0m\u001b[0;34m[\u001b[0m\u001b[0mname\u001b[0m\u001b[0;34m]\u001b[0m\u001b[0;34m\u001b[0m\u001b[0m\n\u001b[0;32m-> 2744\u001b[0;31m             \u001b[0;32mreturn\u001b[0m \u001b[0mobject\u001b[0m\u001b[0;34m.\u001b[0m\u001b[0m__getattribute__\u001b[0m\u001b[0;34m(\u001b[0m\u001b[0mself\u001b[0m\u001b[0;34m,\u001b[0m \u001b[0mname\u001b[0m\u001b[0;34m)\u001b[0m\u001b[0;34m\u001b[0m\u001b[0m\n\u001b[0m\u001b[1;32m   2745\u001b[0m \u001b[0;34m\u001b[0m\u001b[0m\n\u001b[1;32m   2746\u001b[0m     \u001b[0;32mdef\u001b[0m \u001b[0m__setattr__\u001b[0m\u001b[0;34m(\u001b[0m\u001b[0mself\u001b[0m\u001b[0;34m,\u001b[0m \u001b[0mname\u001b[0m\u001b[0;34m,\u001b[0m \u001b[0mvalue\u001b[0m\u001b[0;34m)\u001b[0m\u001b[0;34m:\u001b[0m\u001b[0;34m\u001b[0m\u001b[0m\n",
      "\u001b[0;31mAttributeError\u001b[0m: 'DataFrame' object has no attribute 'StoppBewegungsD'"
     ]
    }
   ],
   "source": [
    "# Warnung funktioniert nur wenn der DataFrame die Spalte StoppBewegungsD hat\n",
    "calcMaxGap(startExposurePlusExposureTime, featuresDf.StoppBewegungsD)"
   ]
  },
  {
   "cell_type": "code",
   "execution_count": 29,
   "metadata": {},
   "outputs": [
    {
     "name": "stderr",
     "output_type": "stream",
     "text": [
      "testCalcMaxGap (__main__.CalcTimeframeTest) ... ok\n",
      "testCalcMaxGapOne (__main__.CalcTimeframeTest) ... ok\n",
      "testCalcMaxGapUnequal (__main__.CalcTimeframeTest) ... ok\n",
      "testCalcMeanTimeUnequal (__main__.CalcTimeframeTest) ... ok\n",
      "testCalcMeanTimeValues (__main__.CalcTimeframeTest) ... ok\n",
      "testCalcMeanTimeZero (__main__.CalcTimeframeTest) ... ok\n",
      "testCalcMinGap (__main__.CalcTimeframeTest) ... ok\n",
      "\n",
      "----------------------------------------------------------------------\n",
      "Ran 7 tests in 0.031s\n",
      "\n",
      "OK\n"
     ]
    },
    {
     "data": {
      "text/plain": [
       "<unittest.main.TestProgram at 0x7f59fe9d7630>"
      ]
     },
     "execution_count": 29,
     "metadata": {},
     "output_type": "execute_result"
    }
   ],
   "source": [
    "# Unittests\n",
    "import unittest\n",
    "\n",
    "class CalcTimeframeTest(unittest.TestCase):\n",
    "    \n",
    "    # Testet die Funktion calcMaxGap\n",
    "    # Dabei wird mehrere Datenwerte verwendet\n",
    "    def testCalcMaxGap(self):\n",
    "        dEnd = [10, 20, 5]\n",
    "        dfEnd = pandas.DataFrame(dEnd)\n",
    "        dStart = [2, 10, 1]\n",
    "        dfStart = pandas.DataFrame(dStart)\n",
    "        self.assertEqual(calcMaxGap(dfEnd,dfStart)[0], 10)\n",
    "        \n",
    "    # Testet die Funktion calcMaxGap\n",
    "    # Dabei wird ein Datenwert genutzt\n",
    "    def testCalcMaxGapOne(self):\n",
    "        dEnd = [10]\n",
    "        dfEnd = pandas.DataFrame(dEnd)\n",
    "        dStart = [10]\n",
    "        dfStart = pandas.DataFrame(dStart)\n",
    "        self.assertEqual(calcMaxGap(dfEnd,dfStart)[0], 0)\n",
    "        \n",
    "    # Testet die Funktion calcMinGap\n",
    "    # Dabei wird mehrere Datenwerte verwendet\n",
    "    def testCalcMinGap(self):\n",
    "        dEnd = [10, 20, 5]\n",
    "        dfEnd = pandas.DataFrame(dEnd)\n",
    "        dStart = [2, 10, 1]\n",
    "        dfStart = pandas.DataFrame(dStart)\n",
    "        self.assertEqual(calcMinGap(dfEnd,dfStart)[0], 4)\n",
    "        \n",
    "    # Testet die Funktion calcMaxGap\n",
    "    # Die Anzahl der Reihen ist unterschiedlich\n",
    "    def testCalcMaxGapUnequal(self):\n",
    "        dEnd = [10,20,20]\n",
    "        dfEnd = pandas.DataFrame(dEnd)\n",
    "        dStart = [10]\n",
    "        dfStart = pandas.DataFrame(dStart)\n",
    "        self.assertEqual(calcMaxGap(dfEnd,dfStart)[0], 0)\n",
    "        \n",
    "    # Dieser Test testet die Funktion calcMeanTime.\n",
    "    # Hier wird die Mittlere Differenz gleich 0 erwartet\n",
    "    def testCalcMeanTimeZero(self):\n",
    "        dEnd = [10,10,10]\n",
    "        dfEnd = pandas.DataFrame(dEnd)\n",
    "        dStart = [10,10,10]\n",
    "        dfStart = pandas.DataFrame(dStart)\n",
    "        self.assertEqual(calcMeanTime(dfEnd,dfStart)[0], 0.0)\n",
    "        \n",
    "    # Dieser Test testet die Funktion calcMeanTime.\n",
    "    # Hier wird die Mittlere Differenz gleich 0 erwartet\n",
    "    def testCalcMeanTimeZero(self):\n",
    "        dEnd = [10,10,10]\n",
    "        dfEnd = pandas.DataFrame(dEnd)\n",
    "        dStart = [10,10,10]\n",
    "        dfStart = pandas.DataFrame(dStart)\n",
    "        self.assertEqual(calcMeanTime(dfEnd,dfStart)[0], 0.0)\n",
    "    \n",
    "    # Test die Funktion calcMeanTime.\n",
    "    # Es werden mehrere unterschiedliche Werte getestet\n",
    "    def testCalcMeanTimeValues(self):\n",
    "        dEnd = [4,8,3,5,60]\n",
    "        dfEnd = pandas.DataFrame(dEnd)\n",
    "        dStart = [4,3,10,40,3]\n",
    "        dfStart = pandas.DataFrame(dStart)\n",
    "        self.assertEqual(calcMeanTime(dfEnd,dfStart)[0], 4.0)        \n",
    "  \n",
    "    # Test die Funktion calcMeanTime.\n",
    "    # Dabei sind die Anzahl der Reihen unterschiedlich\n",
    "    def testCalcMeanTimeUnequal(self):\n",
    "        dEnd = [4,8,3,5,60]\n",
    "        dfEnd = pandas.DataFrame(dEnd)\n",
    "        dStart = [4,6,10,40]\n",
    "        dfStart = pandas.DataFrame(dStart)\n",
    "        self.assertEqual(calcMeanTime(dfEnd,dfStart)[0], 1.0)        \n",
    "\n",
    "unittest.main(argv=[''], verbosity=2, exit=False)"
   ]
  },
  {
   "cell_type": "code",
   "execution_count": null,
   "metadata": {},
   "outputs": [],
   "source": []
  }
 ],
 "metadata": {
  "kernelspec": {
   "display_name": "Python 3",
   "language": "python",
   "name": "python3"
  },
  "language_info": {
   "codemirror_mode": {
    "name": "ipython",
    "version": 3
   },
   "file_extension": ".py",
   "mimetype": "text/x-python",
   "name": "python",
   "nbconvert_exporter": "python",
   "pygments_lexer": "ipython3",
   "version": "3.6.4"
  },
  "toc": {
   "colors": {
    "hover_highlight": "#DAA520",
    "navigate_num": "#000000",
    "navigate_text": "#333333",
    "running_highlight": "#FF0000",
    "selected_highlight": "#FFD700",
    "sidebar_border": "#EEEEEE",
    "wrapper_background": "#FFFFFF"
   },
   "moveMenuLeft": true,
   "nav_menu": {
    "height": "12px",
    "width": "252px"
   },
   "navigate_menu": true,
   "number_sections": true,
   "sideBar": true,
   "threshold": 4,
   "toc_cell": false,
   "toc_section_display": "block",
   "toc_window_display": false,
   "widenNotebook": false
  }
 },
 "nbformat": 4,
 "nbformat_minor": 2
}
