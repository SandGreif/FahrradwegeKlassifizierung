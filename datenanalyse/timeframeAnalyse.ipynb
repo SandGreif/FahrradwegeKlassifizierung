{
 "cells": [
  {
   "cell_type": "markdown",
   "metadata": {},
   "source": [
    "# Zeitfensteranalyse\n",
    "\n",
    "## Einleitung\n",
    "\n",
    "Ziel dieses Notebooks ist es eine Unterstützung zu bieten, um ein Zeitfenster zu bestimmen, in welchem Bewegungssensordaten    \n",
    "zu einer Aufnahme erfasst werden. Zu diesen gehören die Beschleunigungssensordaten X,Y,Z sowie die Winkel Roll, Nick und Gier.   \n",
    "\n",
    "## Herausforderungen\n",
    "\n",
    "Bevor die Belichtung einer Aufnahme beginnt sollen bereits die Bewegungsdaten erfasst werden. Es gibt einen Handler in der Android   \n",
    "Camera2 API, welcher beim Start der Belichtung aufgerufen wird. Wenn dann erst die Erfassung der Daten gestartet wird, dann    \n",
    "wäre dies bereits zu spät. Da zu diesem Zeitpunkt die Belichtung bereits begonnen hat. Eine weitere Herausforderung ist ausreihend Datenwerte   \n",
    "zu ermitteln. Ist die Datenerfassung zu kurz werden nur wenige bis keine Daten erfasst. Desweiteren ist der Zeitpunkt   \n",
    "bei welchem die Datenerfassung gestoppt wird relevant."
   ]
  },
  {
   "cell_type": "code",
   "execution_count": 4,
   "metadata": {},
   "outputs": [],
   "source": [
    "import pandas\n",
    "import pandas \n",
    "%matplotlib inline\n",
    "import matplotlib\n",
    "import matplotlib.pyplot as plt\n",
    "import datetime"
   ]
  },
  {
   "cell_type": "code",
   "execution_count": 5,
   "metadata": {},
   "outputs": [],
   "source": [
    "featuresDf = pandas.read_csv(filepath_or_buffer=\"merkmaleRoh.csv\")"
   ]
  },
  {
   "cell_type": "code",
   "execution_count": 6,
   "metadata": {},
   "outputs": [
    {
     "data": {
      "text/html": [
       "<div>\n",
       "<table border=\"1\" class=\"dataframe\">\n",
       "  <thead>\n",
       "    <tr style=\"text-align: right;\">\n",
       "      <th></th>\n",
       "      <th>Zeitstempel</th>\n",
       "      <th>Breitengrad</th>\n",
       "      <th>Laengengrad</th>\n",
       "      <th>Geschwindigkeit</th>\n",
       "      <th>Messwerte</th>\n",
       "      <th>StartBewegungsD</th>\n",
       "      <th>StartBelichtung</th>\n",
       "      <th>Belichtungszeit</th>\n",
       "    </tr>\n",
       "  </thead>\n",
       "  <tbody>\n",
       "    <tr>\n",
       "      <th>count</th>\n",
       "      <td>4.033000e+03</td>\n",
       "      <td>4033.000000</td>\n",
       "      <td>4033.000000</td>\n",
       "      <td>4033.000000</td>\n",
       "      <td>4033.0</td>\n",
       "      <td>4.033000e+03</td>\n",
       "      <td>4.033000e+03</td>\n",
       "      <td>4.033000e+03</td>\n",
       "    </tr>\n",
       "    <tr>\n",
       "      <th>mean</th>\n",
       "      <td>1.520432e+12</td>\n",
       "      <td>53.614175</td>\n",
       "      <td>10.163583</td>\n",
       "      <td>13.797908</td>\n",
       "      <td>10.0</td>\n",
       "      <td>2.767638e+14</td>\n",
       "      <td>2.767639e+14</td>\n",
       "      <td>2.457690e+07</td>\n",
       "    </tr>\n",
       "    <tr>\n",
       "      <th>std</th>\n",
       "      <td>3.118401e+05</td>\n",
       "      <td>0.001194</td>\n",
       "      <td>0.014844</td>\n",
       "      <td>5.423002</td>\n",
       "      <td>0.0</td>\n",
       "      <td>3.118390e+11</td>\n",
       "      <td>3.118374e+11</td>\n",
       "      <td>5.764559e+06</td>\n",
       "    </tr>\n",
       "    <tr>\n",
       "      <th>min</th>\n",
       "      <td>1.520432e+12</td>\n",
       "      <td>53.610508</td>\n",
       "      <td>10.137785</td>\n",
       "      <td>0.000000</td>\n",
       "      <td>10.0</td>\n",
       "      <td>2.762160e+14</td>\n",
       "      <td>2.762161e+14</td>\n",
       "      <td>8.963045e+06</td>\n",
       "    </tr>\n",
       "    <tr>\n",
       "      <th>25%</th>\n",
       "      <td>1.520432e+12</td>\n",
       "      <td>53.613804</td>\n",
       "      <td>10.151080</td>\n",
       "      <td>11.520000</td>\n",
       "      <td>10.0</td>\n",
       "      <td>2.765011e+14</td>\n",
       "      <td>2.765012e+14</td>\n",
       "      <td>2.000368e+07</td>\n",
       "    </tr>\n",
       "    <tr>\n",
       "      <th>50%</th>\n",
       "      <td>1.520432e+12</td>\n",
       "      <td>53.614390</td>\n",
       "      <td>10.161076</td>\n",
       "      <td>15.264000</td>\n",
       "      <td>10.0</td>\n",
       "      <td>2.767615e+14</td>\n",
       "      <td>2.767615e+14</td>\n",
       "      <td>2.000368e+07</td>\n",
       "    </tr>\n",
       "    <tr>\n",
       "      <th>75%</th>\n",
       "      <td>1.520432e+12</td>\n",
       "      <td>53.615047</td>\n",
       "      <td>10.179163</td>\n",
       "      <td>17.352000</td>\n",
       "      <td>10.0</td>\n",
       "      <td>2.770310e+14</td>\n",
       "      <td>2.770311e+14</td>\n",
       "      <td>2.999632e+07</td>\n",
       "    </tr>\n",
       "    <tr>\n",
       "      <th>max</th>\n",
       "      <td>1.520433e+12</td>\n",
       "      <td>53.615852</td>\n",
       "      <td>10.185279</td>\n",
       "      <td>23.544000</td>\n",
       "      <td>10.0</td>\n",
       "      <td>2.773140e+14</td>\n",
       "      <td>2.773141e+14</td>\n",
       "      <td>2.999632e+07</td>\n",
       "    </tr>\n",
       "  </tbody>\n",
       "</table>\n",
       "</div>"
      ],
      "text/plain": [
       "        Zeitstempel  Breitengrad  Laengengrad  Geschwindigkeit  Messwerte  \\\n",
       "count  4.033000e+03  4033.000000  4033.000000      4033.000000     4033.0   \n",
       "mean   1.520432e+12    53.614175    10.163583        13.797908       10.0   \n",
       "std    3.118401e+05     0.001194     0.014844         5.423002        0.0   \n",
       "min    1.520432e+12    53.610508    10.137785         0.000000       10.0   \n",
       "25%    1.520432e+12    53.613804    10.151080        11.520000       10.0   \n",
       "50%    1.520432e+12    53.614390    10.161076        15.264000       10.0   \n",
       "75%    1.520432e+12    53.615047    10.179163        17.352000       10.0   \n",
       "max    1.520433e+12    53.615852    10.185279        23.544000       10.0   \n",
       "\n",
       "       StartBewegungsD  StartBelichtung  Belichtungszeit  \n",
       "count     4.033000e+03     4.033000e+03     4.033000e+03  \n",
       "mean      2.767638e+14     2.767639e+14     2.457690e+07  \n",
       "std       3.118390e+11     3.118374e+11     5.764559e+06  \n",
       "min       2.762160e+14     2.762161e+14     8.963045e+06  \n",
       "25%       2.765011e+14     2.765012e+14     2.000368e+07  \n",
       "50%       2.767615e+14     2.767615e+14     2.000368e+07  \n",
       "75%       2.770310e+14     2.770311e+14     2.999632e+07  \n",
       "max       2.773140e+14     2.773141e+14     2.999632e+07  "
      ]
     },
     "execution_count": 6,
     "metadata": {},
     "output_type": "execute_result"
    }
   ],
   "source": [
    "featuresDf.describe()"
   ]
  },
  {
   "cell_type": "code",
   "execution_count": 7,
   "metadata": {
    "scrolled": true
   },
   "outputs": [
    {
     "data": {
      "text/html": [
       "<div>\n",
       "<table border=\"1\" class=\"dataframe\">\n",
       "  <thead>\n",
       "    <tr style=\"text-align: right;\">\n",
       "      <th></th>\n",
       "      <th>Zeitstempel</th>\n",
       "      <th>Breitengrad</th>\n",
       "      <th>Laengengrad</th>\n",
       "      <th>Geschwindigkeit</th>\n",
       "      <th>AccelerometerX</th>\n",
       "      <th>AccelerometerY</th>\n",
       "      <th>AccelerometerZ</th>\n",
       "      <th>Azimuth</th>\n",
       "      <th>Nick</th>\n",
       "      <th>Roll</th>\n",
       "      <th>SensorZeitstempel</th>\n",
       "      <th>Messwerte</th>\n",
       "      <th>StartBewegungsD</th>\n",
       "      <th>StartBelichtung</th>\n",
       "      <th>Belichtungszeit</th>\n",
       "      <th>Datum</th>\n",
       "      <th>Millisekunden</th>\n",
       "    </tr>\n",
       "  </thead>\n",
       "  <tbody>\n",
       "    <tr>\n",
       "      <th>0</th>\n",
       "      <td>1520431576359</td>\n",
       "      <td>53.610535</td>\n",
       "      <td>10.178911</td>\n",
       "      <td>0.0</td>\n",
       "      <td>0.04156 0.00258 -0.01328 -0.0413 -0.03307 -0.0...</td>\n",
       "      <td>0.05132 0.01027 0.02339 -0.01208 -0.00981 -0.0...</td>\n",
       "      <td>-0.06298 0.01147 0.07104 0.13402 0.1231 0.0990...</td>\n",
       "      <td>2.04928 2.21168 2.20668 2.21298 2.00671 2.0143...</td>\n",
       "      <td>-0.00886 -0.00399 -0.00544 -0.00054 -0.00039 0...</td>\n",
       "      <td>-0.00717 -0.00373 -0.00242 0.00072 0.00052 -0....</td>\n",
       "      <td>0 3936768 7873535 11779785 15716553 19653321 2...</td>\n",
       "      <td>10</td>\n",
       "      <td>276216015777703</td>\n",
       "      <td>276216100766896</td>\n",
       "      <td>20003678</td>\n",
       "      <td>2018-03-07 14:06:16.359000</td>\n",
       "      <td>0</td>\n",
       "    </tr>\n",
       "    <tr>\n",
       "      <th>1</th>\n",
       "      <td>1520431577421</td>\n",
       "      <td>53.610535</td>\n",
       "      <td>10.178935</td>\n",
       "      <td>0.0</td>\n",
       "      <td>0.08288 0.02032 -0.06039 -0.07898 0.02872 0.02...</td>\n",
       "      <td>-0.05313 -0.02732 -0.022 -0.03308 -0.02662 -0....</td>\n",
       "      <td>-0.07278 0.04961 0.14752 0.11859 -0.01182 -0.0...</td>\n",
       "      <td>2.03078 2.02411 2.10594 2.10606 2.11582 2.0385...</td>\n",
       "      <td>-0.00863 -0.00953 -0.00831 -0.00624 -0.00744 -...</td>\n",
       "      <td>0.00108 0.00588 0.01463 0.01871 0.00796 0.0079...</td>\n",
       "      <td>0 3936768 7873535 11779785 15716553 19653321 2...</td>\n",
       "      <td>10</td>\n",
       "      <td>276217100752442</td>\n",
       "      <td>276217196544896</td>\n",
       "      <td>20003678</td>\n",
       "      <td>2018-03-07 14:06:17.421000</td>\n",
       "      <td>1062</td>\n",
       "    </tr>\n",
       "    <tr>\n",
       "      <th>2</th>\n",
       "      <td>1520431578017</td>\n",
       "      <td>53.610535</td>\n",
       "      <td>10.178935</td>\n",
       "      <td>0.0</td>\n",
       "      <td>-0.01467 -0.02708 -0.05233 -0.02657 -0.05193 -...</td>\n",
       "      <td>0.0087 0.00681 0.02063 0.00102 -0.01465 -0.011...</td>\n",
       "      <td>-0.02684 0.00975 0.00837 0.02259 0.00332 -0.01...</td>\n",
       "      <td>2.07582 2.07457 2.06433 2.01986 2.02043 2.0178...</td>\n",
       "      <td>0.00052 0.00082 -0.00123 0.00097 0.00293 0.002...</td>\n",
       "      <td>0.00006 0.00173 0.00588 0.0036 0.00796 0.01025...</td>\n",
       "      <td>0 3936768 7873535 11779785 15716553 19653321 2...</td>\n",
       "      <td>10</td>\n",
       "      <td>276217713745046</td>\n",
       "      <td>276217779854896</td>\n",
       "      <td>20003678</td>\n",
       "      <td>2018-03-07 14:06:18.017000</td>\n",
       "      <td>1658</td>\n",
       "    </tr>\n",
       "    <tr>\n",
       "      <th>3</th>\n",
       "      <td>1520431578517</td>\n",
       "      <td>53.610527</td>\n",
       "      <td>10.178922</td>\n",
       "      <td>0.0</td>\n",
       "      <td>-0.05236 -0.08788 -0.02436 -0.03483 0.00275 0....</td>\n",
       "      <td>0.00212 0.0322 0.05625 0.0755 0.06025 0.03273 ...</td>\n",
       "      <td>-0.03589 -0.07411 -0.0434 0.01182 0.04068 -0.0...</td>\n",
       "      <td>2.09639 2.07761 2.07503 1.96771 1.97253 2.0339...</td>\n",
       "      <td>0.00918 0.00467 0.00059 -0.00311 -0.00284 -0.0...</td>\n",
       "      <td>0.01003 0.01695 0.01048 0.01188 0.00731 0.0038...</td>\n",
       "      <td>0 3906250 7843018 11779785 15686035 19622803 2...</td>\n",
       "      <td>10</td>\n",
       "      <td>276218196513067</td>\n",
       "      <td>276218291672896</td>\n",
       "      <td>20003678</td>\n",
       "      <td>2018-03-07 14:06:18.517000</td>\n",
       "      <td>2158</td>\n",
       "    </tr>\n",
       "    <tr>\n",
       "      <th>4</th>\n",
       "      <td>1520431579001</td>\n",
       "      <td>53.610527</td>\n",
       "      <td>10.178922</td>\n",
       "      <td>0.0</td>\n",
       "      <td>-0.10448 -0.05297 -0.0424 -0.01863 -0.01493 0....</td>\n",
       "      <td>-0.06802 -0.05456 -0.07444 -0.07503 -0.10614 -...</td>\n",
       "      <td>0.00806 -0.0083 0.00925 -0.02267 0.01308 -0.00...</td>\n",
       "      <td>2.09473 2.09902 2.14824 2.15438 2.10213 2.0993...</td>\n",
       "      <td>0.00325 0.00309 0.00736 0.00916 0.01562 0.0134...</td>\n",
       "      <td>0.01372 0.00981 0.00959 0.00796 0.00753 0.0056...</td>\n",
       "      <td>0 3936767 7843017 11779785 15716552 19653320 2...</td>\n",
       "      <td>10</td>\n",
       "      <td>276218710518900</td>\n",
       "      <td>276218777131896</td>\n",
       "      <td>20003678</td>\n",
       "      <td>2018-03-07 14:06:19.001000</td>\n",
       "      <td>2642</td>\n",
       "    </tr>\n",
       "  </tbody>\n",
       "</table>\n",
       "</div>"
      ],
      "text/plain": [
       "     Zeitstempel  Breitengrad  Laengengrad  Geschwindigkeit  \\\n",
       "0  1520431576359    53.610535    10.178911              0.0   \n",
       "1  1520431577421    53.610535    10.178935              0.0   \n",
       "2  1520431578017    53.610535    10.178935              0.0   \n",
       "3  1520431578517    53.610527    10.178922              0.0   \n",
       "4  1520431579001    53.610527    10.178922              0.0   \n",
       "\n",
       "                                      AccelerometerX  \\\n",
       "0  0.04156 0.00258 -0.01328 -0.0413 -0.03307 -0.0...   \n",
       "1  0.08288 0.02032 -0.06039 -0.07898 0.02872 0.02...   \n",
       "2  -0.01467 -0.02708 -0.05233 -0.02657 -0.05193 -...   \n",
       "3  -0.05236 -0.08788 -0.02436 -0.03483 0.00275 0....   \n",
       "4  -0.10448 -0.05297 -0.0424 -0.01863 -0.01493 0....   \n",
       "\n",
       "                                      AccelerometerY  \\\n",
       "0  0.05132 0.01027 0.02339 -0.01208 -0.00981 -0.0...   \n",
       "1  -0.05313 -0.02732 -0.022 -0.03308 -0.02662 -0....   \n",
       "2  0.0087 0.00681 0.02063 0.00102 -0.01465 -0.011...   \n",
       "3  0.00212 0.0322 0.05625 0.0755 0.06025 0.03273 ...   \n",
       "4  -0.06802 -0.05456 -0.07444 -0.07503 -0.10614 -...   \n",
       "\n",
       "                                      AccelerometerZ  \\\n",
       "0  -0.06298 0.01147 0.07104 0.13402 0.1231 0.0990...   \n",
       "1  -0.07278 0.04961 0.14752 0.11859 -0.01182 -0.0...   \n",
       "2  -0.02684 0.00975 0.00837 0.02259 0.00332 -0.01...   \n",
       "3  -0.03589 -0.07411 -0.0434 0.01182 0.04068 -0.0...   \n",
       "4  0.00806 -0.0083 0.00925 -0.02267 0.01308 -0.00...   \n",
       "\n",
       "                                             Azimuth  \\\n",
       "0  2.04928 2.21168 2.20668 2.21298 2.00671 2.0143...   \n",
       "1  2.03078 2.02411 2.10594 2.10606 2.11582 2.0385...   \n",
       "2  2.07582 2.07457 2.06433 2.01986 2.02043 2.0178...   \n",
       "3  2.09639 2.07761 2.07503 1.96771 1.97253 2.0339...   \n",
       "4  2.09473 2.09902 2.14824 2.15438 2.10213 2.0993...   \n",
       "\n",
       "                                                Nick  \\\n",
       "0  -0.00886 -0.00399 -0.00544 -0.00054 -0.00039 0...   \n",
       "1  -0.00863 -0.00953 -0.00831 -0.00624 -0.00744 -...   \n",
       "2  0.00052 0.00082 -0.00123 0.00097 0.00293 0.002...   \n",
       "3  0.00918 0.00467 0.00059 -0.00311 -0.00284 -0.0...   \n",
       "4  0.00325 0.00309 0.00736 0.00916 0.01562 0.0134...   \n",
       "\n",
       "                                                Roll  \\\n",
       "0  -0.00717 -0.00373 -0.00242 0.00072 0.00052 -0....   \n",
       "1  0.00108 0.00588 0.01463 0.01871 0.00796 0.0079...   \n",
       "2  0.00006 0.00173 0.00588 0.0036 0.00796 0.01025...   \n",
       "3  0.01003 0.01695 0.01048 0.01188 0.00731 0.0038...   \n",
       "4  0.01372 0.00981 0.00959 0.00796 0.00753 0.0056...   \n",
       "\n",
       "                                   SensorZeitstempel  Messwerte  \\\n",
       "0  0 3936768 7873535 11779785 15716553 19653321 2...         10   \n",
       "1  0 3936768 7873535 11779785 15716553 19653321 2...         10   \n",
       "2  0 3936768 7873535 11779785 15716553 19653321 2...         10   \n",
       "3  0 3906250 7843018 11779785 15686035 19622803 2...         10   \n",
       "4  0 3936767 7843017 11779785 15716552 19653320 2...         10   \n",
       "\n",
       "   StartBewegungsD  StartBelichtung  Belichtungszeit  \\\n",
       "0  276216015777703  276216100766896         20003678   \n",
       "1  276217100752442  276217196544896         20003678   \n",
       "2  276217713745046  276217779854896         20003678   \n",
       "3  276218196513067  276218291672896         20003678   \n",
       "4  276218710518900  276218777131896         20003678   \n",
       "\n",
       "                        Datum  Millisekunden  \n",
       "0  2018-03-07 14:06:16.359000              0  \n",
       "1  2018-03-07 14:06:17.421000           1062  \n",
       "2  2018-03-07 14:06:18.017000           1658  \n",
       "3  2018-03-07 14:06:18.517000           2158  \n",
       "4  2018-03-07 14:06:19.001000           2642  "
      ]
     },
     "execution_count": 7,
     "metadata": {},
     "output_type": "execute_result"
    }
   ],
   "source": [
    "# Fügt eine Spalte mit dem Datum hinzu und eine mit der verstrichenen Zeit seit dem Start\n",
    "# in Millisekunden\n",
    "date = []\n",
    "ms = []\n",
    "for row in featuresDf.Zeitstempel:\n",
    "    date.append(datetime.datetime.fromtimestamp(row/1000.0).strftime('%Y-%m-%d %H:%M:%S.%f'))\n",
    "    ms.append(row - featuresDf.Zeitstempel[0])\n",
    "featuresDf['Datum'] = date\n",
    "featuresDf['Millisekunden'] = ms\n",
    "featuresDf.head(5)"
   ]
  },
  {
   "cell_type": "code",
   "execution_count": 8,
   "metadata": {},
   "outputs": [
    {
     "data": {
      "text/plain": [
       "RangeIndex(start=0, stop=4033, step=1)"
      ]
     },
     "execution_count": 8,
     "metadata": {},
     "output_type": "execute_result"
    }
   ],
   "source": [
    "featuresDf.index"
   ]
  },
  {
   "cell_type": "code",
   "execution_count": 10,
   "metadata": {},
   "outputs": [
    {
     "data": {
      "text/plain": [
       "Series([], Name: Belichtungszeit, dtype: int64)"
      ]
     },
     "execution_count": 10,
     "metadata": {},
     "output_type": "execute_result"
    }
   ],
   "source": [
    "featuresDf.Belichtungszeit[featuresDf.Belichtungszeit < 1000]"
   ]
  },
  {
   "cell_type": "code",
   "execution_count": 31,
   "metadata": {},
   "outputs": [
    {
     "data": {
      "image/png": "[encoded data removed]",
      "text/plain": [
       "<matplotlib.figure.Figure at 0x7f59fe98e9e8>"
      ]
     },
     "metadata": {},
     "output_type": "display_data"
    }
   ],
   "source": [
    "fig = plt.figure(num=None, figsize=(10, 6), dpi=100)\n",
    "plt.title('Belichtungszeit')\n",
    "plt.ylabel('Belichtungszeit in Nanosekunden')\n",
    "plt.xlabel('Millisekunden seit dem Start der Datenerfassung')\n",
    "plt.plot(featuresDf['Millisekunden'],featuresDf['Belichtungszeit'])\n",
    "xOffset = 10000 # Für schönen Plot\n",
    "yOffset = 500000 \n",
    "plt.grid(True)\n",
    "plt.xlim(-xOffset, featuresDf.iloc[-1,:].Millisekunden+xOffset)\n",
    "plt.ylim(featuresDf.Belichtungszeit.min()-yOffset, featuresDf.Belichtungszeit.max()+yOffset)\n",
    "plt.savefig(\"belichtungszeit.jpg\")"
   ]
  },
  {
   "cell_type": "code",
   "execution_count": 12,
   "metadata": {},
   "outputs": [],
   "source": [
    "startSensorDataCollectionDf = featuresDf.StartBewegungsD\n",
    "startExposureDf = featuresDf.StartBelichtung"
   ]
  },
  {
   "cell_type": "markdown",
   "metadata": {},
   "source": [
    "Die Funktion berechnet den Mittelwert der Differenz zwischen zwei Dataframes mit einer Spalte.   \n",
    "Prec.: startDf und endDf haben jeweils eine Spalte. Anzahl der Reihen der Dataframes > 0   \n",
    "Postc: Gibt den Mittelwert zurück   "
   ]
  },
  {
   "cell_type": "code",
   "execution_count": 13,
   "metadata": {},
   "outputs": [],
   "source": [
    "def calcMeanTime(startDf,endDf):\n",
    "    meanStartM = startDf.iloc[:].mean()\n",
    "    meanStartE = endDf.iloc[:].mean()\n",
    "    return meanStartM - meanStartE"
   ]
  },
  {
   "cell_type": "code",
   "execution_count": 14,
   "metadata": {},
   "outputs": [
    {
     "data": {
      "text/plain": [
       "86388026.8125"
      ]
     },
     "execution_count": 14,
     "metadata": {},
     "output_type": "execute_result"
    }
   ],
   "source": [
    "calcMeanTime(startExposureDf,startSensorDataCollectionDf)"
   ]
  },
  {
   "cell_type": "markdown",
   "metadata": {},
   "source": [
    "Berechnitt die maximale Differenz zwischen den Achsen von zwei Dataframes   \n",
    "Prec.: startDf und endDf haben jeweils eine Spalte. Anzahl der Reihen der Dataframes > 0     \n",
    "Postc.: Maximaler Wert"
   ]
  },
  {
   "cell_type": "code",
   "execution_count": 15,
   "metadata": {},
   "outputs": [],
   "source": [
    "def calcMaxGap(endDf,startDf):\n",
    "    maxDf = endDf - startDf\n",
    "    return maxDf.max()"
   ]
  },
  {
   "cell_type": "markdown",
   "metadata": {},
   "source": [
    "Berechnitt die minimale Differenz zwischen den Achsen von zwei Dataframes   \n",
    "Prec.: startDf und endDf haben jeweils eine Spalte. Anzahl der Reihen der Dataframes > 0     \n",
    "Postc.: Minimaler Wert"
   ]
  },
  {
   "cell_type": "code",
   "execution_count": 17,
   "metadata": {},
   "outputs": [],
   "source": [
    "def calcMinGap(endDf,startDf):\n",
    "    maxDf = endDf - startDf\n",
    "    return maxDf.min()"
   ]
  },
  {
   "cell_type": "code",
   "execution_count": 16,
   "metadata": {},
   "outputs": [
    {
     "data": {
      "text/plain": [
       "133219486"
      ]
     },
     "execution_count": 16,
     "metadata": {},
     "output_type": "execute_result"
    }
   ],
   "source": [
    "calcMaxGap(startExposureDf, startSensorDataCollectionDf)"
   ]
  },
  {
   "cell_type": "code",
   "execution_count": 18,
   "metadata": {},
   "outputs": [
    {
     "data": {
      "text/plain": [
       "56097173"
      ]
     },
     "execution_count": 18,
     "metadata": {},
     "output_type": "execute_result"
    }
   ],
   "source": [
    "calcMinGap(startExposureDf, startSensorDataCollectionDf)"
   ]
  },
  {
   "cell_type": "code",
   "execution_count": 19,
   "metadata": {},
   "outputs": [
    {
     "data": {
      "text/plain": [
       "0    276216120770574\n",
       "1    276217216548574\n",
       "dtype: int64"
      ]
     },
     "execution_count": 19,
     "metadata": {},
     "output_type": "execute_result"
    }
   ],
   "source": [
    "# Dataframe mit Startpunkten der Belichtungszeit einer Aufnahme addiert mit der jeweiligen Belichtungszeit\n",
    "startExposurePlusExposureTime = featuresDf.StartBelichtung + featuresDf.Belichtungszeit\n",
    "startExposurePlusExposureTime.head(2)"
   ]
  },
  {
   "cell_type": "code",
   "execution_count": 20,
   "metadata": {},
   "outputs": [
    {
     "data": {
      "text/plain": [
       "24576904.60848004"
      ]
     },
     "execution_count": 20,
     "metadata": {},
     "output_type": "execute_result"
    }
   ],
   "source": [
    "# Mitteltert der belichtungszeit\n",
    "featuresDf.Belichtungszeit.mean()"
   ]
  },
  {
   "cell_type": "code",
   "execution_count": 21,
   "metadata": {},
   "outputs": [
    {
     "data": {
      "text/plain": [
       "29996324"
      ]
     },
     "execution_count": 21,
     "metadata": {},
     "output_type": "execute_result"
    }
   ],
   "source": [
    "# Max Belichtungszeit\n",
    "featuresDf.Belichtungszeit.max()"
   ]
  },
  {
   "cell_type": "code",
   "execution_count": 22,
   "metadata": {},
   "outputs": [
    {
     "data": {
      "text/plain": [
       "8963045"
      ]
     },
     "execution_count": 22,
     "metadata": {},
     "output_type": "execute_result"
    }
   ],
   "source": [
    "# Minimale Belichtungszeit\n",
    "featuresDf.Belichtungszeit.min()"
   ]
  },
  {
   "cell_type": "code",
   "execution_count": 26,
   "metadata": {},
   "outputs": [
    {
     "ename": "AttributeError",
     "evalue": "'DataFrame' object has no attribute 'StoppBewegungsD'",
     "output_type": "error",
     "traceback": [
      "\u001b[0;31m---------------------------------------------------------------------------\u001b[0m",
      "\u001b[0;31mAttributeError\u001b[0m                            Traceback (most recent call last)",
      "\u001b[0;32m<ipython-input-26-127e7d86024e>\u001b[0m in \u001b[0;36m<module>\u001b[0;34m()\u001b[0m\n\u001b[1;32m      2\u001b[0m \u001b[0;31m# Belichtungszeit und Stopp der Bewesungssensordatenerfassung\u001b[0m\u001b[0;34m\u001b[0m\u001b[0;34m\u001b[0m\u001b[0m\n\u001b[1;32m      3\u001b[0m \u001b[0;31m# Warnung funktioniert nur wenn der DataFrame die Spalte StoppBewegungsD hat\u001b[0m\u001b[0;34m\u001b[0m\u001b[0;34m\u001b[0m\u001b[0m\n\u001b[0;32m----> 4\u001b[0;31m \u001b[0mcalcMeanTime\u001b[0m\u001b[0;34m(\u001b[0m\u001b[0mstartExposurePlusExposureTime\u001b[0m\u001b[0;34m,\u001b[0m\u001b[0mfeaturesDf\u001b[0m\u001b[0;34m.\u001b[0m\u001b[0mStoppBewegungsD\u001b[0m\u001b[0;34m)\u001b[0m\u001b[0;34m\u001b[0m\u001b[0m\n\u001b[0m",
      "\u001b[0;32m~/anaconda3_420/lib/python3.5/site-packages/pandas/core/generic.py\u001b[0m in \u001b[0;36m__getattr__\u001b[0;34m(self, name)\u001b[0m\n\u001b[1;32m   2742\u001b[0m             \u001b[0;32mif\u001b[0m \u001b[0mname\u001b[0m \u001b[0;32min\u001b[0m \u001b[0mself\u001b[0m\u001b[0;34m.\u001b[0m\u001b[0m_info_axis\u001b[0m\u001b[0;34m:\u001b[0m\u001b[0;34m\u001b[0m\u001b[0m\n\u001b[1;32m   2743\u001b[0m                 \u001b[0;32mreturn\u001b[0m \u001b[0mself\u001b[0m\u001b[0;34m[\u001b[0m\u001b[0mname\u001b[0m\u001b[0;34m]\u001b[0m\u001b[0;34m\u001b[0m\u001b[0m\n\u001b[0;32m-> 2744\u001b[0;31m             \u001b[0;32mreturn\u001b[0m \u001b[0mobject\u001b[0m\u001b[0;34m.\u001b[0m\u001b[0m__getattribute__\u001b[0m\u001b[0;34m(\u001b[0m\u001b[0mself\u001b[0m\u001b[0;34m,\u001b[0m \u001b[0mname\u001b[0m\u001b[0;34m)\u001b[0m\u001b[0;34m\u001b[0m\u001b[0m\n\u001b[0m\u001b[1;32m   2745\u001b[0m \u001b[0;34m\u001b[0m\u001b[0m\n\u001b[1;32m   2746\u001b[0m     \u001b[0;32mdef\u001b[0m \u001b[0m__setattr__\u001b[0m\u001b[0;34m(\u001b[0m\u001b[0mself\u001b[0m\u001b[0;34m,\u001b[0m \u001b[0mname\u001b[0m\u001b[0;34m,\u001b[0m \u001b[0mvalue\u001b[0m\u001b[0;34m)\u001b[0m\u001b[0;34m:\u001b[0m\u001b[0;34m\u001b[0m\u001b[0m\n",
      "\u001b[0;31mAttributeError\u001b[0m: 'DataFrame' object has no attribute 'StoppBewegungsD'"
     ]
    }
   ],
   "source": [
    "# Berechnet den Mittelwert der Differenzen zwischen Start der Belichtungszeit mit \n",
    "# Belichtungszeit und Stopp der Bewesungssensordatenerfassung\n",
    "# Warnung funktioniert nur wenn der DataFrame die Spalte StoppBewegungsD hat\n",
    "calcMeanTime(startExposurePlusExposureTime,featuresDf.StoppBewegungsD)"
   ]
  },
  {
   "cell_type": "code",
   "execution_count": 24,
   "metadata": {},
   "outputs": [
    {
     "ename": "AttributeError",
     "evalue": "'DataFrame' object has no attribute 'StoppBewegungsD'",
     "output_type": "error",
     "traceback": [
      "\u001b[0;31m---------------------------------------------------------------------------\u001b[0m",
      "\u001b[0;31mAttributeError\u001b[0m                            Traceback (most recent call last)",
      "\u001b[0;32m<ipython-input-24-39989a466bd9>\u001b[0m in \u001b[0;36m<module>\u001b[0;34m()\u001b[0m\n\u001b[1;32m      1\u001b[0m \u001b[0;31m# Gibt den Index zurück mit der Zeitdifferenz größer als der angegebene Grenzwert\u001b[0m\u001b[0;34m\u001b[0m\u001b[0;34m\u001b[0m\u001b[0m\n\u001b[0;32m----> 2\u001b[0;31m \u001b[0mdiffDf\u001b[0m \u001b[0;34m=\u001b[0m \u001b[0mstartExposurePlusExposureTime\u001b[0m \u001b[0;34m-\u001b[0m \u001b[0mfeaturesDf\u001b[0m\u001b[0;34m.\u001b[0m\u001b[0mStoppBewegungsD\u001b[0m\u001b[0;34m\u001b[0m\u001b[0m\n\u001b[0m\u001b[1;32m      3\u001b[0m \u001b[0mdiffDf\u001b[0m\u001b[0;34m[\u001b[0m\u001b[0mdiffDf\u001b[0m \u001b[0;34m>\u001b[0m \u001b[0;36m5000000000\u001b[0m\u001b[0;34m]\u001b[0m\u001b[0;34m\u001b[0m\u001b[0m\n\u001b[1;32m      4\u001b[0m \u001b[0mfeaturesDf\u001b[0m\u001b[0;34m.\u001b[0m\u001b[0miloc\u001b[0m\u001b[0;34m[\u001b[0m\u001b[0;36m3709\u001b[0m\u001b[0;34m]\u001b[0m\u001b[0;34m\u001b[0m\u001b[0m\n",
      "\u001b[0;32m~/anaconda3_420/lib/python3.5/site-packages/pandas/core/generic.py\u001b[0m in \u001b[0;36m__getattr__\u001b[0;34m(self, name)\u001b[0m\n\u001b[1;32m   2742\u001b[0m             \u001b[0;32mif\u001b[0m \u001b[0mname\u001b[0m \u001b[0;32min\u001b[0m \u001b[0mself\u001b[0m\u001b[0;34m.\u001b[0m\u001b[0m_info_axis\u001b[0m\u001b[0;34m:\u001b[0m\u001b[0;34m\u001b[0m\u001b[0m\n\u001b[1;32m   2743\u001b[0m                 \u001b[0;32mreturn\u001b[0m \u001b[0mself\u001b[0m\u001b[0;34m[\u001b[0m\u001b[0mname\u001b[0m\u001b[0;34m]\u001b[0m\u001b[0;34m\u001b[0m\u001b[0m\n\u001b[0;32m-> 2744\u001b[0;31m             \u001b[0;32mreturn\u001b[0m \u001b[0mobject\u001b[0m\u001b[0;34m.\u001b[0m\u001b[0m__getattribute__\u001b[0m\u001b[0;34m(\u001b[0m\u001b[0mself\u001b[0m\u001b[0;34m,\u001b[0m \u001b[0mname\u001b[0m\u001b[0;34m)\u001b[0m\u001b[0;34m\u001b[0m\u001b[0m\n\u001b[0m\u001b[1;32m   2745\u001b[0m \u001b[0;34m\u001b[0m\u001b[0m\n\u001b[1;32m   2746\u001b[0m     \u001b[0;32mdef\u001b[0m \u001b[0m__setattr__\u001b[0m\u001b[0;34m(\u001b[0m\u001b[0mself\u001b[0m\u001b[0;34m,\u001b[0m \u001b[0mname\u001b[0m\u001b[0;34m,\u001b[0m \u001b[0mvalue\u001b[0m\u001b[0;34m)\u001b[0m\u001b[0;34m:\u001b[0m\u001b[0;34m\u001b[0m\u001b[0m\n",
      "\u001b[0;31mAttributeError\u001b[0m: 'DataFrame' object has no attribute 'StoppBewegungsD'"
     ]
    }
   ],
   "source": [
    "# Gibt den Index zurück mit der Zeitdifferenz größer als der angegebene Grenzwert\n",
    "diffDf = startExposurePlusExposureTime - featuresDf.StoppBewegungsD\n",
    "diffDf[diffDf > 5000000000]\n",
    "featuresDf.iloc[3709]"
   ]
  },
  {
   "cell_type": "code",
   "execution_count": 25,
   "metadata": {},
   "outputs": [
    {
     "ename": "NameError",
     "evalue": "name 'diffDf' is not defined",
     "output_type": "error",
     "traceback": [
      "\u001b[0;31m---------------------------------------------------------------------------\u001b[0m",
      "\u001b[0;31mNameError\u001b[0m                                 Traceback (most recent call last)",
      "\u001b[0;32m<ipython-input-25-96c6416f1408>\u001b[0m in \u001b[0;36m<module>\u001b[0;34m()\u001b[0m\n\u001b[0;32m----> 1\u001b[0;31m \u001b[0mdiffDf\u001b[0m\u001b[0;34m.\u001b[0m\u001b[0mmin\u001b[0m\u001b[0;34m(\u001b[0m\u001b[0;34m)\u001b[0m\u001b[0;34m\u001b[0m\u001b[0m\n\u001b[0m",
      "\u001b[0;31mNameError\u001b[0m: name 'diffDf' is not defined"
     ]
    }
   ],
   "source": [
    "diffDf.min()"
   ]
  },
  {
   "cell_type": "code",
   "execution_count": null,
   "metadata": {},
   "outputs": [],
   "source": [
    "# Warnung funktioniert nur wenn der DataFrame die Spalte StoppBewegungsD hat\n",
    "calcMaxGap(startExposurePlusExposureTime, featuresDf.StoppBewegungsD)"
   ]
  },
  {
   "cell_type": "code",
   "execution_count": 29,
   "metadata": {},
   "outputs": [
    {
     "name": "stderr",
     "output_type": "stream",
     "text": [
      "testCalcMaxGap (__main__.CalcTimeframeTest) ... ok\n",
      "testCalcMaxGapOne (__main__.CalcTimeframeTest) ... ok\n",
      "testCalcMaxGapUnequal (__main__.CalcTimeframeTest) ... ok\n",
      "testCalcMeanTimeUnequal (__main__.CalcTimeframeTest) ... ok\n",
      "testCalcMeanTimeValues (__main__.CalcTimeframeTest) ... ok\n",
      "testCalcMeanTimeZero (__main__.CalcTimeframeTest) ... ok\n",
      "testCalcMinGap (__main__.CalcTimeframeTest) ... ok\n",
      "\n",
      "----------------------------------------------------------------------\n",
      "Ran 7 tests in 0.031s\n",
      "\n",
      "OK\n"
     ]
    },
    {
     "data": {
      "text/plain": [
       "<unittest.main.TestProgram at 0x7f59fe9d7630>"
      ]
     },
     "execution_count": 29,
     "metadata": {},
     "output_type": "execute_result"
    }
   ],
   "source": [
    "# Unittests\n",
    "import unittest\n",
    "\n",
    "class CalcTimeframeTest(unittest.TestCase):\n",
    "    \n",
    "    # Testet die Funktion calcMaxGap\n",
    "    # Dabei wird mehrere Datenwerte verwendet\n",
    "    def testCalcMaxGap(self):\n",
    "        dEnd = [10, 20, 5]\n",
    "        dfEnd = pandas.DataFrame(dEnd)\n",
    "        dStart = [2, 10, 1]\n",
    "        dfStart = pandas.DataFrame(dStart)\n",
    "        self.assertEqual(calcMaxGap(dfEnd,dfStart)[0], 10)\n",
    "        \n",
    "    # Testet die Funktion calcMaxGap\n",
    "    # Dabei wird ein Datenwert genutzt\n",
    "    def testCalcMaxGapOne(self):\n",
    "        dEnd = [10]\n",
    "        dfEnd = pandas.DataFrame(dEnd)\n",
    "        dStart = [10]\n",
    "        dfStart = pandas.DataFrame(dStart)\n",
    "        self.assertEqual(calcMaxGap(dfEnd,dfStart)[0], 0)\n",
    "        \n",
    "    # Testet die Funktion calcMinGap\n",
    "    # Dabei wird mehrere Datenwerte verwendet\n",
    "    def testCalcMinGap(self):\n",
    "        dEnd = [10, 20, 5]\n",
    "        dfEnd = pandas.DataFrame(dEnd)\n",
    "        dStart = [2, 10, 1]\n",
    "        dfStart = pandas.DataFrame(dStart)\n",
    "        self.assertEqual(calcMinGap(dfEnd,dfStart)[0], 4)\n",
    "        \n",
    "    # Testet die Funktion calcMaxGap\n",
    "    # Die Anzahl der Reihen ist unterschiedlich\n",
    "    def testCalcMaxGapUnequal(self):\n",
    "        dEnd = [10,20,20]\n",
    "        dfEnd = pandas.DataFrame(dEnd)\n",
    "        dStart = [10]\n",
    "        dfStart = pandas.DataFrame(dStart)\n",
    "        self.assertEqual(calcMaxGap(dfEnd,dfStart)[0], 0)\n",
    "        \n",
    "    # Dieser Test testet die Funktion calcMeanTime.\n",
    "    # Hier wird die Mittlere Differenz gleich 0 erwartet\n",
    "    def testCalcMeanTimeZero(self):\n",
    "        dEnd = [10,10,10]\n",
    "        dfEnd = pandas.DataFrame(dEnd)\n",
    "        dStart = [10,10,10]\n",
    "        dfStart = pandas.DataFrame(dStart)\n",
    "        self.assertEqual(calcMeanTime(dfEnd,dfStart)[0], 0.0)\n",
    "        \n",
    "    # Dieser Test testet die Funktion calcMeanTime.\n",
    "    # Hier wird die Mittlere Differenz gleich 0 erwartet\n",
    "    def testCalcMeanTimeZero(self):\n",
    "        dEnd = [10,10,10]\n",
    "        dfEnd = pandas.DataFrame(dEnd)\n",
    "        dStart = [10,10,10]\n",
    "        dfStart = pandas.DataFrame(dStart)\n",
    "        self.assertEqual(calcMeanTime(dfEnd,dfStart)[0], 0.0)\n",
    "    \n",
    "    # Test die Funktion calcMeanTime.\n",
    "    # Es werden mehrere unterschiedliche Werte getestet\n",
    "    def testCalcMeanTimeValues(self):\n",
    "        dEnd = [4,8,3,5,60]\n",
    "        dfEnd = pandas.DataFrame(dEnd)\n",
    "        dStart = [4,3,10,40,3]\n",
    "        dfStart = pandas.DataFrame(dStart)\n",
    "        self.assertEqual(calcMeanTime(dfEnd,dfStart)[0], 4.0)        \n",
    "  \n",
    "    # Test die Funktion calcMeanTime.\n",
    "    # Dabei sind die Anzahl der Reihen unterschiedlich\n",
    "    def testCalcMeanTimeUnequal(self):\n",
    "        dEnd = [4,8,3,5,60]\n",
    "        dfEnd = pandas.DataFrame(dEnd)\n",
    "        dStart = [4,6,10,40]\n",
    "        dfStart = pandas.DataFrame(dStart)\n",
    "        self.assertEqual(calcMeanTime(dfEnd,dfStart)[0], 1.0)        \n",
    "\n",
    "unittest.main(argv=[''], verbosity=2, exit=False)"
   ]
  },
  {
   "cell_type": "code",
   "execution_count": null,
   "metadata": {},
   "outputs": [],
   "source": []
  }
 ],
 "metadata": {
  "kernelspec": {
   "display_name": "Python 3",
   "language": "python",
   "name": "python3"
  },
  "language_info": {
   "codemirror_mode": {
    "name": "ipython",
    "version": 3
   },
   "file_extension": ".py",
   "mimetype": "text/x-python",
   "name": "python",
   "nbconvert_exporter": "python",
   "pygments_lexer": "ipython3",
   "version": "3.5.4"
  },
  "toc": {
   "colors": {
    "hover_highlight": "#DAA520",
    "navigate_num": "#000000",
    "navigate_text": "#333333",
    "running_highlight": "#FF0000",
    "selected_highlight": "#FFD700",
    "sidebar_border": "#EEEEEE",
    "wrapper_background": "#FFFFFF"
   },
   "moveMenuLeft": true,
   "nav_menu": {
    "height": "12px",
    "width": "252px"
   },
   "navigate_menu": true,
   "number_sections": true,
   "sideBar": true,
   "threshold": 4,
   "toc_cell": false,
   "toc_section_display": "block",
   "toc_window_display": false,
   "widenNotebook": false
  }
 },
 "nbformat": 4,
 "nbformat_minor": 2
}
