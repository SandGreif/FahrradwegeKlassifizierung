{
 "cells": [
  {
   "cell_type": "markdown",
   "metadata": {},
   "source": [
    " Zeitanalyse\n",
    " ======\n",
    " \n",
    " Mit diesem Python Notebook ist es möglich, dass zeitliche Verhalten einer Serienaufnahme der Android Anwendung \"Fahrradwege Monotring App\" zu untersuchen.  \n",
    " Ziel ist es zu berechnen wie viele Bilder in einer Serienaufnahme pro Sekunde aufgenommen wurden.  \n",
    " Des Weiteren ist es möglich die längste Zeitspanne zwischen  zwei Aufnahmen innerhalb einer Serienaufnahme zu ermitteln.\n",
    " "
   ]
  },
  {
   "cell_type": "markdown",
   "metadata": {},
   "source": [
    "Bilder pro Sekunde in einer Serienaufnahme\n",
    "\n",
    "Um die Anzahl der Bilder pro Sekunde zu berechnen ist es wichtig, dass diese kontinuierlich in kurzen Zeitabschnitten  \n",
    "aufgenommen wurden. In der Android habe ich einen Schwellenwert implementiert damit keine Aufnahmen gemacht werden,  \n",
    "wenn eine bestimmte Geschwindikeit nicht überschritten wurde. Dies ist relevant um keine Aufnahme zu machen falls  \n",
    "ein Fahrrad steht während die Anwendung läuft."
   ]
  },
  {
   "cell_type": "code",
   "execution_count": 1,
   "metadata": {},
   "outputs": [],
   "source": [
    "import pandas "
   ]
  },
  {
   "cell_type": "code",
   "execution_count": 14,
   "metadata": {},
   "outputs": [],
   "source": [
    "# Startindex der Features eines Fotos   \n",
    "startIndex = 0\n",
    "# Stop Index \n",
    "stopIndex = 8037\n",
    "\n",
    "# Öfnne die Datei features.csv. Der Path muss mit angegeben werden\n",
    "featuresDf = pandas.read_csv(filepath_or_buffer=\"features.csv\")"
   ]
  },
  {
   "cell_type": "code",
   "execution_count": 15,
   "metadata": {},
   "outputs": [
    {
     "data": {
      "text/html": [
       "<div>\n",
       "<style scoped>\n",
       "    .dataframe tbody tr th:only-of-type {\n",
       "        vertical-align: middle;\n",
       "    }\n",
       "\n",
       "    .dataframe tbody tr th {\n",
       "        vertical-align: top;\n",
       "    }\n",
       "\n",
       "    .dataframe thead th {\n",
       "        text-align: right;\n",
       "    }\n",
       "</style>\n",
       "<table border=\"1\" class=\"dataframe\">\n",
       "  <thead>\n",
       "    <tr style=\"text-align: right;\">\n",
       "      <th></th>\n",
       "      <th>Unnamed: 0</th>\n",
       "      <th>Millisekunden</th>\n",
       "      <th>Breitengrad</th>\n",
       "      <th>Längengrad</th>\n",
       "      <th>Geschwindigkeit</th>\n",
       "    </tr>\n",
       "  </thead>\n",
       "  <tbody>\n",
       "    <tr>\n",
       "      <th>count</th>\n",
       "      <td>8038.000000</td>\n",
       "      <td>8.038000e+03</td>\n",
       "      <td>8038.000000</td>\n",
       "      <td>8038.000000</td>\n",
       "      <td>8038.000000</td>\n",
       "    </tr>\n",
       "    <tr>\n",
       "      <th>mean</th>\n",
       "      <td>994.862279</td>\n",
       "      <td>1.517928e+12</td>\n",
       "      <td>53.613455</td>\n",
       "      <td>10.137665</td>\n",
       "      <td>0.019393</td>\n",
       "    </tr>\n",
       "    <tr>\n",
       "      <th>std</th>\n",
       "      <td>579.937849</td>\n",
       "      <td>3.502013e+05</td>\n",
       "      <td>0.000054</td>\n",
       "      <td>0.000025</td>\n",
       "      <td>0.219506</td>\n",
       "    </tr>\n",
       "    <tr>\n",
       "      <th>min</th>\n",
       "      <td>0.000000</td>\n",
       "      <td>1.517928e+12</td>\n",
       "      <td>53.613360</td>\n",
       "      <td>10.137594</td>\n",
       "      <td>0.000000</td>\n",
       "    </tr>\n",
       "    <tr>\n",
       "      <th>25%</th>\n",
       "      <td>492.250000</td>\n",
       "      <td>1.517928e+12</td>\n",
       "      <td>53.613403</td>\n",
       "      <td>10.137653</td>\n",
       "      <td>0.000000</td>\n",
       "    </tr>\n",
       "    <tr>\n",
       "      <th>50%</th>\n",
       "      <td>995.000000</td>\n",
       "      <td>1.517928e+12</td>\n",
       "      <td>53.613445</td>\n",
       "      <td>10.137671</td>\n",
       "      <td>0.000000</td>\n",
       "    </tr>\n",
       "    <tr>\n",
       "      <th>75%</th>\n",
       "      <td>1497.000000</td>\n",
       "      <td>1.517929e+12</td>\n",
       "      <td>53.613510</td>\n",
       "      <td>10.137679</td>\n",
       "      <td>0.000000</td>\n",
       "    </tr>\n",
       "    <tr>\n",
       "      <th>max</th>\n",
       "      <td>1999.000000</td>\n",
       "      <td>1.517929e+12</td>\n",
       "      <td>53.613567</td>\n",
       "      <td>10.137781</td>\n",
       "      <td>4.392001</td>\n",
       "    </tr>\n",
       "  </tbody>\n",
       "</table>\n",
       "</div>"
      ],
      "text/plain": [
       "        Unnamed: 0  Millisekunden  Breitengrad   Längengrad  Geschwindigkeit\n",
       "count  8038.000000   8.038000e+03  8038.000000  8038.000000      8038.000000\n",
       "mean    994.862279   1.517928e+12    53.613455    10.137665         0.019393\n",
       "std     579.937849   3.502013e+05     0.000054     0.000025         0.219506\n",
       "min       0.000000   1.517928e+12    53.613360    10.137594         0.000000\n",
       "25%     492.250000   1.517928e+12    53.613403    10.137653         0.000000\n",
       "50%     995.000000   1.517928e+12    53.613445    10.137671         0.000000\n",
       "75%    1497.000000   1.517929e+12    53.613510    10.137679         0.000000\n",
       "max    1999.000000   1.517929e+12    53.613567    10.137781         4.392001"
      ]
     },
     "execution_count": 15,
     "metadata": {},
     "output_type": "execute_result"
    }
   ],
   "source": [
    "featuresDf.describe()"
   ]
  },
  {
   "cell_type": "code",
   "execution_count": 16,
   "metadata": {},
   "outputs": [
    {
     "data": {
      "text/plain": [
       "RangeIndex(start=0, stop=8038, step=1)"
      ]
     },
     "execution_count": 16,
     "metadata": {},
     "output_type": "execute_result"
    }
   ],
   "source": [
    "# Andzahl der Einträge\n",
    "featuresDf.index"
   ]
  },
  {
   "cell_type": "code",
   "execution_count": 17,
   "metadata": {},
   "outputs": [
    {
     "data": {
      "text/plain": [
       "Index(['Unnamed: 0', 'Millisekunden', 'Breitengrad', 'Längengrad',\n",
       "       'Geschwindigkeit'],\n",
       "      dtype='object')"
      ]
     },
     "execution_count": 17,
     "metadata": {},
     "output_type": "execute_result"
    }
   ],
   "source": [
    "# Namen der Spalten \n",
    "featuresDf.columns"
   ]
  },
  {
   "cell_type": "code",
   "execution_count": 18,
   "metadata": {},
   "outputs": [],
   "source": [
    "i = startIndex\n",
    "firstMs = featuresDf.iat[i,1]\n",
    "lastValueMs = firstMs\n",
    "valueMs = 0\n",
    "# Zeitliche Differenz zwischen zwei Aufnahmen\n",
    "differenceValueTemp = 0\n",
    "# Max Differenz, welche unter der variablen thresholdMax liegt \n",
    "maxDifference = 0\n",
    "# Index mit der maxDifference\n",
    "maxDifferenceIndex = 0\n",
    "# Maximale gültige Zeit zwischen zwei Bildern in ms \n",
    "thresholdMax = 5000\n",
    "# Das erste Bild wird nicht mit einbezogen in die Berechnung\n",
    "imageCounter = -1\n",
    "sum = 0\n",
    "while i <= stopIndex:\n",
    "    valueMs = featuresDf.iat[i,1]\n",
    "    differenceValueTemp = valueMs - lastValueMs\n",
    "    if differenceValueTemp > thresholdMax:  # Wenn Schwellwert zwischen zwei Bildern überschritten ist, ..\n",
    "        break                                   # dann breche Schleife ab.\n",
    "    if differenceValueTemp > maxDifference:\n",
    "        maxDifference = differenceValueTemp\n",
    "        maxDifferenceIndex = i\n",
    "    sum =+ (featuresDf.iat[i,1] - firstMs)\n",
    "    i =  i + 1\n",
    "    imageCounter = imageCounter + 1\n",
    "    lastValueMs = valueMs"
   ]
  },
  {
   "cell_type": "code",
   "execution_count": 19,
   "metadata": {},
   "outputs": [],
   "source": [
    "meanMs = sum/imageCounter\n",
    "imagesPerSecond = imageCounter/(sum/1000)"
   ]
  },
  {
   "cell_type": "code",
   "execution_count": 20,
   "metadata": {},
   "outputs": [
    {
     "name": "stdout",
     "output_type": "stream",
     "text": [
      "Anzahl der Bilder: 8037\n",
      "Mittelwert: 157.536767451ms pro Aufnahme\n",
      "Bilder pro Sekunde: 6.34772451018\n",
      "Maximale gültige Zeitdifferenz zwischen zwei Aufnahmen: 3247ms (Bild Nr.: 7677)\n"
     ]
    }
   ],
   "source": [
    "print(\"Anzahl der Bilder: \" + str(imageCounter) + \"\\n\" +\n",
    "    \"Mittelwert: \" + str(meanMs) + \"ms pro Aufnahme\" + \"\\n\" +\n",
    "    \"Bilder pro Sekunde: \" + str(imagesPerSecond) + \"\\n\" +\n",
    "     \"Maximale gültige Zeitdifferenz zwischen zwei Aufnahmen: \" + str(maxDifference) +  \"ms\" + \n",
    "     \" (Bild Nr.: \" + str(maxDifferenceIndex) + \")\" )"
   ]
  }
 ],
 "metadata": {
  "kernelspec": {
   "display_name": "Python 3",
   "language": "python",
   "name": "python3"
  },
  "language_info": {
   "codemirror_mode": {
    "name": "ipython",
    "version": 3
   },
   "file_extension": ".py",
   "mimetype": "text/x-python",
   "name": "python",
   "nbconvert_exporter": "python",
   "pygments_lexer": "ipython3",
   "version": "3.6.4"
  },
  "toc": {
   "colors": {
    "hover_highlight": "#DAA520",
    "navigate_num": "#000000",
    "navigate_text": "#333333",
    "running_highlight": "#FF0000",
    "selected_highlight": "#FFD700",
    "sidebar_border": "#EEEEEE",
    "wrapper_background": "#FFFFFF"
   },
   "moveMenuLeft": true,
   "nav_menu": {
    "height": "65px",
    "width": "252px"
   },
   "navigate_menu": true,
   "number_sections": true,
   "sideBar": true,
   "threshold": 4,
   "toc_cell": false,
   "toc_section_display": "block",
   "toc_window_display": false,
   "widenNotebook": false
  }
 },
 "nbformat": 4,
 "nbformat_minor": 2
}
