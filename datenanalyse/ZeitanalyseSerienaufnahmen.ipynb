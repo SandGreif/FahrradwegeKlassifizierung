{
 "cells": [
  {
   "cell_type": "markdown",
   "metadata": {},
   "source": [
    " Zeitanalyse\n",
    " ======\n",
    " \n",
    " Mit diesem Python Notebook ist es möglich, dass zeitliche Verhalten einer Serienaufnahme der Android Anwendung \"Fahrradwege Monotring App\" zu untersuchen.  \n",
    " Ziel ist es zu berechnen wie viele Bilder in einer Serienaufnahme pro Sekunde aufgenommen wurden.  \n",
    " Des Weiteren ist es möglich die längste Zeitspanne zwischen  zwei Aufnahmen innerhalb einer Serienaufnahme zu ermitteln.\n",
    " "
   ]
  },
  {
   "cell_type": "markdown",
   "metadata": {},
   "source": [
    "Bilder pro Sekunde in einer Serienaufnahme\n",
    "\n",
    "Um die Anzahl der Bilder pro Sekunde zu berechnen ist es wichtig, dass diese kontinuierlich in kurzen Zeitabschnitten  \n",
    "aufgenommen wurden. In der Android habe ich einen Schwellenwert implementiert damit keine Aufnahmen gemacht werden,  \n",
    "wenn eine bestimmte Geschwindikeit nicht überschritten wurde. Dies ist relevant um keine Aufnahme zu machen falls  \n",
    "ein Fahrrad steht während die Anwendung läuft."
   ]
  },
  {
   "cell_type": "code",
   "execution_count": 13,
   "metadata": {},
   "outputs": [],
   "source": [
    "import pandas "
   ]
  },
  {
   "cell_type": "code",
   "execution_count": 14,
   "metadata": {},
   "outputs": [],
   "source": [
    "# Startindex der Features eines Fotos   \n",
    "startIndex = 0\n",
    "# Stop Index \n",
    "stopIndex = 1198\n",
    "\n",
    "# Öfnne die Datei features.csv. Der Path muss mit angegeben werden\n",
    "featuresDf = pandas.read_csv(filepath_or_buffer=\"features.csv\")"
   ]
  },
  {
   "cell_type": "code",
   "execution_count": 15,
   "metadata": {},
   "outputs": [
    {
     "data": {
      "text/html": [
       "<div>\n",
       "<style scoped>\n",
       "    .dataframe tbody tr th:only-of-type {\n",
       "        vertical-align: middle;\n",
       "    }\n",
       "\n",
       "    .dataframe tbody tr th {\n",
       "        vertical-align: top;\n",
       "    }\n",
       "\n",
       "    .dataframe thead th {\n",
       "        text-align: right;\n",
       "    }\n",
       "</style>\n",
       "<table border=\"1\" class=\"dataframe\">\n",
       "  <thead>\n",
       "    <tr style=\"text-align: right;\">\n",
       "      <th></th>\n",
       "      <th>Unnamed: 0</th>\n",
       "      <th>Unnamed: 0.1</th>\n",
       "      <th>1517406329935</th>\n",
       "      <th>53.613636</th>\n",
       "      <th>53.613636.1</th>\n",
       "      <th>2.43</th>\n",
       "      <th>Klasse</th>\n",
       "    </tr>\n",
       "  </thead>\n",
       "  <tbody>\n",
       "    <tr>\n",
       "      <th>count</th>\n",
       "      <td>1999.000000</td>\n",
       "      <td>1999.000000</td>\n",
       "      <td>1.999000e+03</td>\n",
       "      <td>1999.000000</td>\n",
       "      <td>1999.000000</td>\n",
       "      <td>1999.000000</td>\n",
       "      <td>1999.000000</td>\n",
       "    </tr>\n",
       "    <tr>\n",
       "      <th>mean</th>\n",
       "      <td>999.000000</td>\n",
       "      <td>999.000000</td>\n",
       "      <td>1.517406e+12</td>\n",
       "      <td>53.613701</td>\n",
       "      <td>53.613701</td>\n",
       "      <td>13.016485</td>\n",
       "      <td>1.332666</td>\n",
       "    </tr>\n",
       "    <tr>\n",
       "      <th>std</th>\n",
       "      <td>577.205914</td>\n",
       "      <td>577.205914</td>\n",
       "      <td>5.997987e+04</td>\n",
       "      <td>0.000245</td>\n",
       "      <td>0.000245</td>\n",
       "      <td>2.892050</td>\n",
       "      <td>0.471286</td>\n",
       "    </tr>\n",
       "    <tr>\n",
       "      <th>min</th>\n",
       "      <td>0.000000</td>\n",
       "      <td>0.000000</td>\n",
       "      <td>1.517406e+12</td>\n",
       "      <td>53.613117</td>\n",
       "      <td>53.613117</td>\n",
       "      <td>4.860000</td>\n",
       "      <td>1.000000</td>\n",
       "    </tr>\n",
       "    <tr>\n",
       "      <th>25%</th>\n",
       "      <td>499.500000</td>\n",
       "      <td>499.500000</td>\n",
       "      <td>1.517406e+12</td>\n",
       "      <td>53.613630</td>\n",
       "      <td>53.613630</td>\n",
       "      <td>10.944000</td>\n",
       "      <td>1.000000</td>\n",
       "    </tr>\n",
       "    <tr>\n",
       "      <th>50%</th>\n",
       "      <td>999.000000</td>\n",
       "      <td>999.000000</td>\n",
       "      <td>1.517406e+12</td>\n",
       "      <td>53.613815</td>\n",
       "      <td>53.613815</td>\n",
       "      <td>13.644000</td>\n",
       "      <td>1.000000</td>\n",
       "    </tr>\n",
       "    <tr>\n",
       "      <th>75%</th>\n",
       "      <td>1498.500000</td>\n",
       "      <td>1498.500000</td>\n",
       "      <td>1.517407e+12</td>\n",
       "      <td>53.613865</td>\n",
       "      <td>53.613865</td>\n",
       "      <td>15.336000</td>\n",
       "      <td>2.000000</td>\n",
       "    </tr>\n",
       "    <tr>\n",
       "      <th>max</th>\n",
       "      <td>1998.000000</td>\n",
       "      <td>1998.000000</td>\n",
       "      <td>1.517407e+12</td>\n",
       "      <td>53.613937</td>\n",
       "      <td>53.613937</td>\n",
       "      <td>19.691998</td>\n",
       "      <td>2.000000</td>\n",
       "    </tr>\n",
       "  </tbody>\n",
       "</table>\n",
       "</div>"
      ],
      "text/plain": [
       "        Unnamed: 0  Unnamed: 0.1  1517406329935    53.613636  53.613636.1  \\\n",
       "count  1999.000000   1999.000000   1.999000e+03  1999.000000  1999.000000   \n",
       "mean    999.000000    999.000000   1.517406e+12    53.613701    53.613701   \n",
       "std     577.205914    577.205914   5.997987e+04     0.000245     0.000245   \n",
       "min       0.000000      0.000000   1.517406e+12    53.613117    53.613117   \n",
       "25%     499.500000    499.500000   1.517406e+12    53.613630    53.613630   \n",
       "50%     999.000000    999.000000   1.517406e+12    53.613815    53.613815   \n",
       "75%    1498.500000   1498.500000   1.517407e+12    53.613865    53.613865   \n",
       "max    1998.000000   1998.000000   1.517407e+12    53.613937    53.613937   \n",
       "\n",
       "              2.43       Klasse  \n",
       "count  1999.000000  1999.000000  \n",
       "mean     13.016485     1.332666  \n",
       "std       2.892050     0.471286  \n",
       "min       4.860000     1.000000  \n",
       "25%      10.944000     1.000000  \n",
       "50%      13.644000     1.000000  \n",
       "75%      15.336000     2.000000  \n",
       "max      19.691998     2.000000  "
      ]
     },
     "execution_count": 15,
     "metadata": {},
     "output_type": "execute_result"
    }
   ],
   "source": [
    "featuresDf.describe()"
   ]
  },
  {
   "cell_type": "code",
   "execution_count": 16,
   "metadata": {},
   "outputs": [
    {
     "data": {
      "text/plain": [
       "RangeIndex(start=0, stop=1999, step=1)"
      ]
     },
     "execution_count": 16,
     "metadata": {},
     "output_type": "execute_result"
    }
   ],
   "source": [
    "# Andzahl der Einträge\n",
    "featuresDf.index"
   ]
  },
  {
   "cell_type": "code",
   "execution_count": 17,
   "metadata": {},
   "outputs": [
    {
     "data": {
      "text/plain": [
       "Index(['Unnamed: 0', 'Unnamed: 0.1', '1517406329935', '53.613636',\n",
       "       '53.613636.1', '2.43', 'Klasse'],\n",
       "      dtype='object')"
      ]
     },
     "execution_count": 17,
     "metadata": {},
     "output_type": "execute_result"
    }
   ],
   "source": [
    "# Namen der Spalten \n",
    "featuresDf.columns"
   ]
  },
  {
   "cell_type": "code",
   "execution_count": 18,
   "metadata": {},
   "outputs": [],
   "source": [
    "i = startIndex\n",
    "firstMs = featuresDf.iat[i,0]\n",
    "lastValueMs = firstMs\n",
    "valueMs = 0\n",
    "# Zeitliche Differenz zwischen zwei Aufnahmen\n",
    "differenceValueTemp = 0\n",
    "# Max Differenz, welche unter der variablen thresholdMax liegt \n",
    "maxDifference = 0\n",
    "# Index mit der maxDifference\n",
    "maxDifferenceIndex = 0\n",
    "# Maximale gültige Zeit zwischen zwei Bildern in ms \n",
    "thresholdMax = 1000\n",
    "# Das erste Bild wird nicht mit einbezogen in die Berechnung\n",
    "imageCounter = -1\n",
    "\n",
    "while i <= stopIndex:\n",
    "    valueMs = featuresDf.iat[i,0]\n",
    "    differenceValueTemp = valueMs - lastValueMs\n",
    "    if (differenceValueTemp) > thresholdMax:  # Wenn Schwellwert zwischen zwei Bildern überschritten ist, ..\n",
    "        break                                   # dann breche Schleife ab.\n",
    "    if differenceValueTemp > maxDifference:\n",
    "        maxDifference = differenceValueTemp\n",
    "        maxDifferenceIndex = i\n",
    "    sum =+ (featuresDf.iat[i,0] - firstMs)\n",
    "    i =  i + 1\n",
    "    imageCounter = imageCounter + 1\n",
    "    lastValueMs = valueMs"
   ]
  },
  {
   "cell_type": "code",
   "execution_count": 19,
   "metadata": {},
   "outputs": [],
   "source": [
    "meanMs = sum/imageCounter\n",
    "imagesPerSecond = imageCounter/(sum/1000)"
   ]
  },
  {
   "cell_type": "code",
   "execution_count": 20,
   "metadata": {},
   "outputs": [
    {
     "name": "stdout",
     "output_type": "stream",
     "text": [
      "Anzahl der Bilder: 1198\n",
      "Mittelwert: 1.0ms pro Aufnahme\n",
      "Bilder pro Sekunde: 1000.0\n",
      "Maximale gültige Zeitdifferenz zwischen zwei Aufnahmen: 1ms (Bild Nr.: 1)\n"
     ]
    }
   ],
   "source": [
    "print(\"Anzahl der Bilder: \" + str(imageCounter) + \"\\n\" +\n",
    "    \"Mittelwert: \" + str(meanMs) + \"ms pro Aufnahme\" + \"\\n\" +\n",
    "    \"Bilder pro Sekunde: \" + str(imagesPerSecond) + \"\\n\" +\n",
    "     \"Maximale gültige Zeitdifferenz zwischen zwei Aufnahmen: \" + str(maxDifference) +  \"ms\" + \n",
    "     \" (Bild Nr.: \" + str(maxDifferenceIndex) + \")\" )"
   ]
  }
 ],
 "metadata": {
  "kernelspec": {
   "display_name": "Python 3",
   "language": "python",
   "name": "python3"
  },
  "language_info": {
   "codemirror_mode": {
    "name": "ipython",
    "version": 3
   },
   "file_extension": ".py",
   "mimetype": "text/x-python",
   "name": "python",
   "nbconvert_exporter": "python",
   "pygments_lexer": "ipython3",
   "version": "3.6.4"
  },
  "toc": {
   "colors": {
    "hover_highlight": "#DAA520",
    "navigate_num": "#000000",
    "navigate_text": "#333333",
    "running_highlight": "#FF0000",
    "selected_highlight": "#FFD700",
    "sidebar_border": "#EEEEEE",
    "wrapper_background": "#FFFFFF"
   },
   "moveMenuLeft": true,
   "nav_menu": {
    "height": "65px",
    "width": "252px"
   },
   "navigate_menu": true,
   "number_sections": true,
   "sideBar": true,
   "threshold": 4,
   "toc_cell": false,
   "toc_section_display": "block",
   "toc_window_display": false,
   "widenNotebook": false
  }
 },
 "nbformat": 4,
 "nbformat_minor": 2
}
