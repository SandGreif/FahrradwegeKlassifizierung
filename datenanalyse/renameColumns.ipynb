{
 "cells": [
  {
   "cell_type": "markdown",
   "metadata": {},
   "source": [
    "# CSV Spaltennamen umbennen\n",
    "\n",
    "In diesem Notebook ist es möglich die DataFrame merkmaleRoh.csv Dateien Spaltennamen umzubenennen."
   ]
  },
  {
   "cell_type": "code",
   "execution_count": 7,
   "metadata": {
    "ExecuteTime": {
     "end_time": "2018-05-03T12:15:40.609331Z",
     "start_time": "2018-05-03T12:15:40.605332Z"
    }
   },
   "outputs": [],
   "source": [
    "import pandas\n",
    "import os\n",
    "# Regex Vergleiche\n",
    "import re"
   ]
  },
  {
   "cell_type": "code",
   "execution_count": 12,
   "metadata": {
    "ExecuteTime": {
     "end_time": "2018-05-03T12:41:30.741836Z",
     "start_time": "2018-05-03T12:41:30.733837Z"
    }
   },
   "outputs": [
    {
     "data": {
      "text/html": [
       "<div>\n",
       "<style scoped>\n",
       "    .dataframe tbody tr th:only-of-type {\n",
       "        vertical-align: middle;\n",
       "    }\n",
       "\n",
       "    .dataframe tbody tr th {\n",
       "        vertical-align: top;\n",
       "    }\n",
       "\n",
       "    .dataframe thead th {\n",
       "        text-align: right;\n",
       "    }\n",
       "</style>\n",
       "<table border=\"1\" class=\"dataframe\">\n",
       "  <thead>\n",
       "    <tr style=\"text-align: right;\">\n",
       "      <th></th>\n",
       "      <th>0</th>\n",
       "    </tr>\n",
       "  </thead>\n",
       "  <tbody>\n",
       "    <tr>\n",
       "      <th>0</th>\n",
       "      <td>17</td>\n",
       "    </tr>\n",
       "    <tr>\n",
       "      <th>1</th>\n",
       "      <td>2018_2_17_15_8</td>\n",
       "    </tr>\n",
       "  </tbody>\n",
       "</table>\n",
       "</div>"
      ],
      "text/plain": [
       "                0\n",
       "0              17\n",
       "1  2018_2_17_15_8"
      ]
     },
     "execution_count": 12,
     "metadata": {},
     "output_type": "execute_result"
    }
   ],
   "source": [
    "# Hier können die Datensätze ausgewählt werden mit den entsprechenden Ordner Namen\n",
    "datasets = pandas.DataFrame([['17'],['2018_2_17_15_8']])\n",
    "# Die Pfade zu den Ordnern in welchem sich die Merkmale befinden\n",
    "paths = []\n",
    "datasets"
   ]
  },
  {
   "cell_type": "code",
   "execution_count": 13,
   "metadata": {
    "ExecuteTime": {
     "end_time": "2018-05-03T12:41:31.247071Z",
     "start_time": "2018-05-03T12:41:31.243072Z"
    }
   },
   "outputs": [],
   "source": [
    "for date, dataset in datasets.iteritems(): # Für jeden Datensatz merke Pfad\n",
    "    paths.append(\"C:/Users/morro/Documents/datenRoh/\" + dataset.iloc[0] + \"/\" + dataset.iloc[1] + \"/\")"
   ]
  },
  {
   "cell_type": "code",
   "execution_count": null,
   "metadata": {
    "ExecuteTime": {
     "start_time": "2018-05-03T12:41:32.632Z"
    }
   },
   "outputs": [],
   "source": [
    "for path in paths: # Für jeden Pfad hole die Namen der Ordner\n",
    "    folders = os.listdir(path)\n",
    "    for folder in folders: # Aus der Liste der Ordner wird ein Ordner ausgewählt\n",
    "        if re.match('[0-9]', folder) is not None:        \n",
    "            filesPath = path + folder + \"/merkmaleRoh.csv\"\n",
    "            featureDf = pandas.read_csv(filepath_or_buffer=filesPath)\n",
    "            # Spalten umbennenen\n",
    "            featureDf.rename(columns={'Zeitstempel':'Zeitstempel in Unixzeit'}, inplace=True)\n",
    "            featureDf.rename(columns={'Geschwindigkeit':'Geschwindigkeit in km/h'}, inplace=True)\n",
    "            featureDf.rename(columns={'AccelerometerX':'X-Achse Beschleunigungswerte in m/s^2'}, inplace=True)\n",
    "            featureDf.rename(columns={'AccelerometerY':'Y-Achse Beschleunigungswerte in m/s^2'}, inplace=True)\n",
    "            featureDf.rename(columns={'AccelerometerZ':'Z-Achse Beschleunigungswerte in m/s^2'}, inplace=True)\n",
    "            featureDf.rename(columns={'Azimuth':'Gier Messwerte in rad'}, inplace=True)\n",
    "            featureDf.rename(columns={'Nick':'Nick Messwerte in rad'}, inplace=True)\n",
    "            featureDf.rename(columns={'Roll':'Roll Messwerte in rad'}, inplace=True)\n",
    "            featureDf.rename(columns={'SensorZeitstempel':'Zeitstempel der Messwerte in ns'}, inplace=True)\n",
    "            featureDf.rename(columns={'Messwerte':'Anzahl der Messwerte'}, inplace=True)\n",
    "            featureDf.rename(columns={'StartZeitfenster':'Start des Zeitfensters in ns seit Start der JVM'}, inplace=True)\n",
    "            featureDf.rename(columns={'StartBewegungsdaten':'Start der Messwerterfassung in ns seit Start der JVM'}, inplace=True)\n",
    "            featureDf.rename(columns={'StartBelichtung':'Start der Belichtung in ns seit Start der JVM'}, inplace=True)\n",
    "            featureDf.rename(columns={'Belichtungszeit':'Belichtungszeit in ns'}, inplace=True)       \n",
    "            featureDf.set_index('Zeitstempel in Unixzeit', inplace=True)\n",
    "            featureDf.to_csv(filesPath)"
   ]
  },
  {
   "cell_type": "code",
   "execution_count": null,
   "metadata": {},
   "outputs": [],
   "source": []
  }
 ],
 "metadata": {
  "kernelspec": {
   "display_name": "Python [default]",
   "language": "python",
   "name": "python3"
  },
  "language_info": {
   "codemirror_mode": {
    "name": "ipython",
    "version": 3
   },
   "file_extension": ".py",
   "mimetype": "text/x-python",
   "name": "python",
   "nbconvert_exporter": "python",
   "pygments_lexer": "ipython3",
   "version": "3.6.5"
  },
  "toc": {
   "base_numbering": 1,
   "nav_menu": {
    "height": "12px",
    "width": "252px"
   },
   "number_sections": true,
   "sideBar": true,
   "skip_h1_title": false,
   "title_cell": "Table of Contents",
   "title_sidebar": "Contents",
   "toc_cell": false,
   "toc_position": {},
   "toc_section_display": "block",
   "toc_window_display": false
  },
  "varInspector": {
   "cols": {
    "lenName": 16,
    "lenType": 16,
    "lenVar": 40
   },
   "kernels_config": {
    "python": {
     "delete_cmd_postfix": "",
     "delete_cmd_prefix": "del ",
     "library": "var_list.py",
     "varRefreshCmd": "print(var_dic_list())"
    },
    "r": {
     "delete_cmd_postfix": ") ",
     "delete_cmd_prefix": "rm(",
     "library": "var_list.r",
     "varRefreshCmd": "cat(var_dic_list()) "
    }
   },
   "types_to_exclude": [
    "module",
    "function",
    "builtin_function_or_method",
    "instance",
    "_Feature"
   ],
   "window_display": false
  }
 },
 "nbformat": 4,
 "nbformat_minor": 2
}
