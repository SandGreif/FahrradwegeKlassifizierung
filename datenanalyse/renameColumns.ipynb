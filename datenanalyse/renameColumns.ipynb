{
 "cells": [
  {
   "cell_type": "markdown",
   "metadata": {},
   "source": [
    "In diesem Notebook ist es möglich die DataFrame merkmaleRoh.csv Dateien Spaltennamen umzubenennen."
   ]
  },
  {
   "cell_type": "code",
   "execution_count": 1,
   "metadata": {},
   "outputs": [],
   "source": [
    "import pandas\n",
    "import os"
   ]
  },
  {
   "cell_type": "code",
   "execution_count": 2,
   "metadata": {},
   "outputs": [
    {
     "data": {
      "text/html": [
       "<div>\n",
       "<style scoped>\n",
       "    .dataframe tbody tr th:only-of-type {\n",
       "        vertical-align: middle;\n",
       "    }\n",
       "\n",
       "    .dataframe tbody tr th {\n",
       "        vertical-align: top;\n",
       "    }\n",
       "\n",
       "    .dataframe thead th {\n",
       "        text-align: right;\n",
       "    }\n",
       "</style>\n",
       "<table border=\"1\" class=\"dataframe\">\n",
       "  <thead>\n",
       "    <tr style=\"text-align: right;\">\n",
       "      <th></th>\n",
       "      <th>0</th>\n",
       "    </tr>\n",
       "  </thead>\n",
       "  <tbody>\n",
       "    <tr>\n",
       "      <th>0</th>\n",
       "      <td>15</td>\n",
       "    </tr>\n",
       "    <tr>\n",
       "      <th>1</th>\n",
       "      <td>2018_2_15_15_23</td>\n",
       "    </tr>\n",
       "  </tbody>\n",
       "</table>\n",
       "</div>"
      ],
      "text/plain": [
       "                 0\n",
       "0               15\n",
       "1  2018_2_15_15_23"
      ]
     },
     "execution_count": 2,
     "metadata": {},
     "output_type": "execute_result"
    }
   ],
   "source": [
    "# Hier können die Datensätze ausgewählt werden mit den entsprechenden Ordner Namen\n",
    "datasets = pandas.DataFrame([['15'],['2018_2_15_15_23']])\n",
    "# Die Pfade zu den Ordnern in welchem sich die Merkmale befinden\n",
    "paths = []\n",
    "datasets"
   ]
  },
  {
   "cell_type": "code",
   "execution_count": 3,
   "metadata": {},
   "outputs": [],
   "source": [
    "for date, dataset in datasets.iteritems(): # Für jeden Datensatz merke Pfad\n",
    "    paths.append(\"E:/bachelor/daten/\" + dataset.iloc[0] + \"/\" + dataset.iloc[1] + \"/\")"
   ]
  },
  {
   "cell_type": "code",
   "execution_count": 9,
   "metadata": {},
   "outputs": [],
   "source": [
    "for path in paths: # Für jeden Pfad hole die Namen der Ordner\n",
    "    folders = os.listdir(path)\n",
    "    for folder in folders: # Aus der Liste der Ordner wird ein Ordner ausgewählt\n",
    "        filesPath = path + folder + \"/merkmaleRoh.csv\"\n",
    "        featureDf = pandas.read_csv(filepath_or_buffer=filesPath)\n",
    "        # Spalten umbennenen\n",
    "        featureDf.rename(columns={'Zeitstempel':'Zeitstempel in Unixzeit'}, inplace=True)\n",
    "        featureDf.rename(columns={'Geschwindigkeit':'Geschwindigkeit in km/h'}, inplace=True)\n",
    "        featureDf.rename(columns={'AccelerometerX':'X-Achse Beschleunigungswerte in m/s^2'}, inplace=True)\n",
    "        featureDf.rename(columns={'AccelerometerY':'Y-Achse Beschleunigungswerte in m/s^2'}, inplace=True)\n",
    "        featureDf.rename(columns={'AccelerometerZ':'Z-Achse Beschleunigungswerte in m/s^2'}, inplace=True)\n",
    "        featureDf.rename(columns={'Azimuth':'Gier Messwerte in rad'}, inplace=True)\n",
    "        featureDf.rename(columns={'Nick':'Nick Messwerte in rad'}, inplace=True)\n",
    "        featureDf.rename(columns={'Roll':'Roll Messwerte in rad'}, inplace=True)\n",
    "        featureDf.rename(columns={'SensorZeitstempel':'Zeitstempel der Messwerte in ns'}, inplace=True)\n",
    "        featureDf.rename(columns={'Messwerte':'Anzahl der Messwerte'}, inplace=True)\n",
    "        featureDf.rename(columns={'StartZeitfenster':'Start des Zeitfensters in ns seit Start der JVM'}, inplace=True)\n",
    "        featureDf.rename(columns={'StartBewegungsdaten':'Start der Messwerterfassung in ns seit Start der JVM'}, inplace=True)\n",
    "        featureDf.rename(columns={'StartBelichtung':'Start der Belichtung in ns seit Start der JVM'}, inplace=True)\n",
    "        featureDf.rename(columns={'Belichtungszeit':'Belichtungszeit in ns'}, inplace=True)       \n",
    "        featureDf.set_index('Zeitstempel in Unixzeit', inplace=True)\n",
    "        featureDf.to_csv(filesPath)"
   ]
  },
  {
   "cell_type": "code",
   "execution_count": null,
   "metadata": {},
   "outputs": [],
   "source": []
  }
 ],
 "metadata": {
  "kernelspec": {
   "display_name": "Python 3",
   "language": "python",
   "name": "python3"
  },
  "language_info": {
   "codemirror_mode": {
    "name": "ipython",
    "version": 3
   },
   "file_extension": ".py",
   "mimetype": "text/x-python",
   "name": "python",
   "nbconvert_exporter": "python",
   "pygments_lexer": "ipython3",
   "version": "3.6.4"
  },
  "toc": {
   "colors": {
    "hover_highlight": "#DAA520",
    "navigate_num": "#000000",
    "navigate_text": "#333333",
    "running_highlight": "#FF0000",
    "selected_highlight": "#FFD700",
    "sidebar_border": "#EEEEEE",
    "wrapper_background": "#FFFFFF"
   },
   "moveMenuLeft": true,
   "nav_menu": {
    "height": "12px",
    "width": "252px"
   },
   "navigate_menu": true,
   "number_sections": true,
   "sideBar": true,
   "threshold": 4,
   "toc_cell": false,
   "toc_section_display": "block",
   "toc_window_display": false,
   "widenNotebook": false
  }
 },
 "nbformat": 4,
 "nbformat_minor": 2
}
