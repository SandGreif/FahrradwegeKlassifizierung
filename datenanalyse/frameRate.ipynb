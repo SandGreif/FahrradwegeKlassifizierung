{
 "cells": [
  {
   "cell_type": "markdown",
   "metadata": {},
   "source": [
    " Zeitanalyse\n",
    " ======\n",
    " \n",
    " Mit diesem Python Notebook ist es möglich, dass zeitliche Verhalten einer Serienaufnahme der Android Anwendung \"Fahrradwege Monotring App\" zu untersuchen.  \n",
    " Ziel ist es zu berechnen wie viele Bilder in einer Serienaufnahme pro Sekunde aufgenommen wurden.  \n",
    " Des Weiteren ist es möglich die längste Zeitspanne zwischen  zwei Aufnahmen innerhalb einer Serienaufnahme zu ermitteln.\n",
    " "
   ]
  },
  {
   "cell_type": "markdown",
   "metadata": {},
   "source": [
    "Bilder pro Sekunde in einer Serienaufnahme\n",
    "\n",
    "Um die Anzahl der Bilder pro Sekunde zu berechnen ist es wichtig, dass diese kontinuierlich in kurzen Zeitabschnitten  \n",
    "aufgenommen wurden. In der Android habe ich einen Schwellenwert implementiert damit keine Aufnahmen gemacht werden,  \n",
    "wenn eine bestimmte Geschwindikeit nicht überschritten wurde. Dies ist relevant um keine Aufnahme zu machen falls  \n",
    "ein Fahrrad steht während die Anwendung läuft."
   ]
  },
  {
   "cell_type": "code",
   "execution_count": 11,
   "metadata": {},
   "outputs": [],
   "source": [
    "import pandas \n",
    "%matplotlib inline\n",
    "import matplotlib\n",
    "import matplotlib.pyplot as plt"
   ]
  },
  {
   "cell_type": "code",
   "execution_count": 255,
   "metadata": {},
   "outputs": [],
   "source": [
    "# Startindex der Features eines Fotos   \n",
    "startIndex = 0\n",
    "# Stop Index \n",
    "stopIndex = 15400\n",
    "# Öfnne die Datei features.csv. Der Path muss mit angegeben werden\n",
    "featuresDf = pandas.read_csv(filepath_or_buffer=\"features.csv\")"
   ]
  },
  {
   "cell_type": "code",
   "execution_count": 248,
   "metadata": {},
   "outputs": [
    {
     "data": {
      "text/html": [
       "<div>\n",
       "<style scoped>\n",
       "    .dataframe tbody tr th:only-of-type {\n",
       "        vertical-align: middle;\n",
       "    }\n",
       "\n",
       "    .dataframe tbody tr th {\n",
       "        vertical-align: top;\n",
       "    }\n",
       "\n",
       "    .dataframe thead th {\n",
       "        text-align: right;\n",
       "    }\n",
       "</style>\n",
       "<table border=\"1\" class=\"dataframe\">\n",
       "  <thead>\n",
       "    <tr style=\"text-align: right;\">\n",
       "      <th></th>\n",
       "      <th>Millisekunden</th>\n",
       "      <th>Breitengrad</th>\n",
       "      <th>Laengengrad</th>\n",
       "      <th>Geschwindigkeit</th>\n",
       "    </tr>\n",
       "  </thead>\n",
       "  <tbody>\n",
       "    <tr>\n",
       "      <th>count</th>\n",
       "      <td>1.548900e+04</td>\n",
       "      <td>15489.000000</td>\n",
       "      <td>15489.000000</td>\n",
       "      <td>15489.000000</td>\n",
       "    </tr>\n",
       "    <tr>\n",
       "      <th>mean</th>\n",
       "      <td>1.518373e+12</td>\n",
       "      <td>53.613497</td>\n",
       "      <td>10.137692</td>\n",
       "      <td>0.030208</td>\n",
       "    </tr>\n",
       "    <tr>\n",
       "      <th>std</th>\n",
       "      <td>8.118372e+05</td>\n",
       "      <td>0.000030</td>\n",
       "      <td>0.000037</td>\n",
       "      <td>0.190826</td>\n",
       "    </tr>\n",
       "    <tr>\n",
       "      <th>min</th>\n",
       "      <td>1.518372e+12</td>\n",
       "      <td>53.613384</td>\n",
       "      <td>10.137530</td>\n",
       "      <td>0.000000</td>\n",
       "    </tr>\n",
       "    <tr>\n",
       "      <th>25%</th>\n",
       "      <td>1.518372e+12</td>\n",
       "      <td>53.613480</td>\n",
       "      <td>10.137671</td>\n",
       "      <td>0.000000</td>\n",
       "    </tr>\n",
       "    <tr>\n",
       "      <th>50%</th>\n",
       "      <td>1.518373e+12</td>\n",
       "      <td>53.613503</td>\n",
       "      <td>10.137698</td>\n",
       "      <td>0.000000</td>\n",
       "    </tr>\n",
       "    <tr>\n",
       "      <th>75%</th>\n",
       "      <td>1.518374e+12</td>\n",
       "      <td>53.613514</td>\n",
       "      <td>10.137716</td>\n",
       "      <td>0.000000</td>\n",
       "    </tr>\n",
       "    <tr>\n",
       "      <th>max</th>\n",
       "      <td>1.518374e+12</td>\n",
       "      <td>53.613586</td>\n",
       "      <td>10.137773</td>\n",
       "      <td>4.176000</td>\n",
       "    </tr>\n",
       "  </tbody>\n",
       "</table>\n",
       "</div>"
      ],
      "text/plain": [
       "       Millisekunden   Breitengrad   Laengengrad  Geschwindigkeit\n",
       "count   1.548900e+04  15489.000000  15489.000000     15489.000000\n",
       "mean    1.518373e+12     53.613497     10.137692         0.030208\n",
       "std     8.118372e+05      0.000030      0.000037         0.190826\n",
       "min     1.518372e+12     53.613384     10.137530         0.000000\n",
       "25%     1.518372e+12     53.613480     10.137671         0.000000\n",
       "50%     1.518373e+12     53.613503     10.137698         0.000000\n",
       "75%     1.518374e+12     53.613514     10.137716         0.000000\n",
       "max     1.518374e+12     53.613586     10.137773         4.176000"
      ]
     },
     "execution_count": 248,
     "metadata": {},
     "output_type": "execute_result"
    }
   ],
   "source": [
    "featuresDf.describe()"
   ]
  },
  {
   "cell_type": "code",
   "execution_count": 249,
   "metadata": {},
   "outputs": [
    {
     "data": {
      "text/plain": [
       "RangeIndex(start=0, stop=15489, step=1)"
      ]
     },
     "execution_count": 249,
     "metadata": {},
     "output_type": "execute_result"
    }
   ],
   "source": [
    "# Andzahl der Einträge\n",
    "featuresDf.index"
   ]
  },
  {
   "cell_type": "code",
   "execution_count": 250,
   "metadata": {},
   "outputs": [
    {
     "data": {
      "text/plain": [
       "Index(['Millisekunden', 'Breitengrad', 'Laengengrad', 'Geschwindigkeit'], dtype='object')"
      ]
     },
     "execution_count": 250,
     "metadata": {},
     "output_type": "execute_result"
    }
   ],
   "source": [
    "# Namen der Spalten \n",
    "featuresDf.columns"
   ]
  },
  {
   "cell_type": "code",
   "execution_count": 256,
   "metadata": {},
   "outputs": [],
   "source": [
    "# Für den Plot der Bilder pro Sekunde \n",
    "imagesPerSecond = []\n",
    "imagesCaptured = []\n",
    "tempTimeSum = 0\n",
    "tempImages = 0\n",
    "tempMs = featuresDf.iat[i,0]"
   ]
  },
  {
   "cell_type": "code",
   "execution_count": 257,
   "metadata": {
    "scrolled": true
   },
   "outputs": [],
   "source": [
    "i = startIndex\n",
    "firstMs = featuresDf.iat[i,0]\n",
    "lastValueMs = firstMs\n",
    "valueMs = 0\n",
    "# Zeitliche Differenz zwischen zwei Aufnahmen\n",
    "differenceValueTemp = 0\n",
    "# Max Differenz, welche unter der variablen thresholdMax liegt \n",
    "maxDifference = 0\n",
    "# Index mit der maxDifference\n",
    "maxDifferenceIndex = 0\n",
    "# Maximale gültige Zeit zwischen zwei Bildern in ms \n",
    "thresholdMax = 5000\n",
    "# Das erste Bild wird nicht mit einbezogen in die Berechnung\n",
    "imageCounter = -1\n",
    "sum = 0\n",
    "while i <= stopIndex:\n",
    "    valueMs = featuresDf.iat[i,0]\n",
    "    differenceValueTemp = valueMs - lastValueMs\n",
    "    if differenceValueTemp > thresholdMax:  # Wenn Schwellwert zwischen zwei Bildern überschritten ist, ..\n",
    "        break                                   # dann breche Schleife ab.\n",
    "    if differenceValueTemp > maxDifference:\n",
    "        maxDifference = differenceValueTemp\n",
    "        maxDifferenceIndex = i\n",
    "    sum =+ (featuresDf.iat[i,0] - firstMs)\n",
    "    tempTimeSum =+ (featuresDf.iat[i,0] - tempMs)\n",
    "    i =  i + 1\n",
    "    imageCounter = imageCounter + 1\n",
    "    if tempImages % 100 == 0:   # Bei 100 Bildern wird die Geschwindikeit in einer Liste gespeichert\n",
    "        imagesPerSecond.append(tempImages/(tempTimeSum/1000))\n",
    "        imagesCaptured.append(imageCounter)\n",
    "        tempTimeSum = 0\n",
    "        tempImages = 0\n",
    "        tempMs = featuresDf.iat[i,0]\n",
    "    tempImages = tempImages + 1\n",
    "    lastValueMs = valueMs"
   ]
  },
  {
   "cell_type": "code",
   "execution_count": 280,
   "metadata": {
    "scrolled": true
   },
   "outputs": [
    {
     "data": {
      "image/png": "[encoded data removed]",
      "text/plain": [
       "<matplotlib.figure.Figure at 0x1e6b7885b70>"
      ]
     },
     "metadata": {},
     "output_type": "display_data"
    },
    {
     "name": "stdout",
     "output_type": "stream",
     "text": [
      "Maximale Bilder pro Sekunde: 8.04958544635\n"
     ]
    }
   ],
   "source": [
    "# Für 100 Bilder wird je ein Datenpunkt geplotet mit der Aufnahmegeschwindigkeit \n",
    "fig, ax = plt.subplots(figsize=(20, 5))\n",
    "ax.bar(imagesCaptured, imagesPerSecond,100) #  tick_label=imagesCaptured / für schönere plots, wenn Anzahl der Bilder klein\n",
    "ax.set(xlabel='Aufgenommene Bilder', ylabel='Bilder pro Sekunde',\n",
    "       title='Aufnahmegeschwindigkeit')\n",
    "ax.grid()\n",
    "fig.savefig(\"bilderProSekunde.png\")\n",
    "plt.show()\n",
    "print('Maximale Bilder pro Sekunde: ' + str(max(imagesPerSecond)))"
   ]
  },
  {
   "cell_type": "code",
   "execution_count": 281,
   "metadata": {},
   "outputs": [],
   "source": [
    "meanMs = sum/imageCounter\n",
    "imagesPerSecond = imageCounter/(sum/1000)"
   ]
  },
  {
   "cell_type": "code",
   "execution_count": 282,
   "metadata": {},
   "outputs": [
    {
     "name": "stdout",
     "output_type": "stream",
     "text": [
      "Anzahl der Bilder: 15400\n",
      "Mittelwert: 171.176493506ms pro Aufnahme\n",
      "Bilder pro Sekunde: 5.84192361647\n",
      "Maximale gültige Zeitdifferenz zwischen zwei Aufnahmen: 4004ms (Bild Nr.: 771)\n"
     ]
    }
   ],
   "source": [
    "# Zeitliche nformationen über die gesamten Bilder\n",
    "print(\"Anzahl der Bilder: \" + str(imageCounter) + \"\\n\" +\n",
    "    \"Mittelwert: \" + str(meanMs) + \"ms pro Aufnahme\" + \"\\n\" +\n",
    "    \"Bilder pro Sekunde: \" + str(imagesPerSecond) + \"\\n\" +\n",
    "     \"Maximale gültige Zeitdifferenz zwischen zwei Aufnahmen: \" + str(maxDifference) +  \"ms\" + \n",
    "     \" (Bild Nr.: \" + str(maxDifferenceIndex) + \")\" )"
   ]
  }
 ],
 "metadata": {
  "kernelspec": {
   "display_name": "Python 3",
   "language": "python",
   "name": "python3"
  },
  "language_info": {
   "codemirror_mode": {
    "name": "ipython",
    "version": 3
   },
   "file_extension": ".py",
   "mimetype": "text/x-python",
   "name": "python",
   "nbconvert_exporter": "python",
   "pygments_lexer": "ipython3",
   "version": "3.6.4"
  },
  "toc": {
   "colors": {
    "hover_highlight": "#DAA520",
    "navigate_num": "#000000",
    "navigate_text": "#333333",
    "running_highlight": "#FF0000",
    "selected_highlight": "#FFD700",
    "sidebar_border": "#EEEEEE",
    "wrapper_background": "#FFFFFF"
   },
   "moveMenuLeft": true,
   "nav_menu": {
    "height": "65px",
    "width": "252px"
   },
   "navigate_menu": true,
   "number_sections": true,
   "sideBar": true,
   "threshold": 4,
   "toc_cell": false,
   "toc_section_display": "block",
   "toc_window_display": false,
   "widenNotebook": false
  }
 },
 "nbformat": 4,
 "nbformat_minor": 2
}
