{
 "cells": [
  {
   "cell_type": "markdown",
   "metadata": {},
   "source": [
    "Bilder pro Sekunde\n",
    " ======\n",
    " \n",
    " Mit diesem Python Notebook ist es möglich, dass zeitliche Verhalten einer Serienaufnahme der Android Anwendung \"Fahrradwege Monotring App\" zu untersuchen.  \n",
    " Ziel ist es zu berechnen wie viele Bilder in einer Serienaufnahme pro Sekunde aufgenommen wurden.  \n",
    " Des Weiteren ist es möglich die längste Zeitspanne zwischen  zwei Aufnahmen innerhalb einer Serienaufnahme zu ermitteln.\n",
    " "
   ]
  },
  {
   "cell_type": "markdown",
   "metadata": {},
   "source": [
    "Bilder pro Sekunde in einer Serienaufnahme\n",
    "\n",
    "Um die Anzahl der Bilder pro Sekunde zu berechnen ist es wichtig, dass diese kontinuierlich in kurzen Zeitabschnitten  \n",
    "aufgenommen wurden. In der Android habe ich einen Schwellenwert implementiert damit keine Aufnahmen gemacht werden,  \n",
    "wenn eine bestimmte Geschwindikeit nicht überschritten wurde. Dies ist relevant um keine Aufnahme zu machen falls  \n",
    "ein Fahrrad steht während die Anwendung läuft."
   ]
  },
  {
   "cell_type": "code",
   "execution_count": 34,
   "metadata": {},
   "outputs": [],
   "source": [
    "import pandas \n",
    "%matplotlib inline\n",
    "import matplotlib\n",
    "import matplotlib.pyplot as plt"
   ]
  },
  {
   "cell_type": "code",
   "execution_count": 35,
   "metadata": {},
   "outputs": [],
   "source": [
    "# Startindex der Features eines Fotos   \n",
    "startIndex = 0\n",
    "# Stop Index \n",
    "stopIndex = 12000\n",
    "# Öfnne die Datei features.csv. Der Path muss mit angegeben werden\n",
    "featuresDf = pandas.read_csv(filepath_or_buffer=\"../merkmale.csv\")"
   ]
  },
  {
   "cell_type": "code",
   "execution_count": 36,
   "metadata": {},
   "outputs": [
    {
     "data": {
      "text/html": [
       "<div>\n",
       "<table border=\"1\" class=\"dataframe\">\n",
       "  <thead>\n",
       "    <tr style=\"text-align: right;\">\n",
       "      <th></th>\n",
       "      <th>Zeitstempel</th>\n",
       "      <th>Breitengrad</th>\n",
       "      <th>Laengengrad</th>\n",
       "      <th>Geschwindigkeit</th>\n",
       "      <th>Messwerte</th>\n",
       "      <th>StartBewegungsD</th>\n",
       "      <th>StartBelichtung</th>\n",
       "      <th>Belichtungszeit</th>\n",
       "      <th>MittelX</th>\n",
       "      <th>MittelY</th>\n",
       "      <th>...</th>\n",
       "      <th>VarianzX</th>\n",
       "      <th>VarianzY</th>\n",
       "      <th>VarianzZ</th>\n",
       "      <th>VarianzNick</th>\n",
       "      <th>VarianzRoll</th>\n",
       "      <th>AbweichungX</th>\n",
       "      <th>AbweichungY</th>\n",
       "      <th>AbweichungZ</th>\n",
       "      <th>AbweichungNick</th>\n",
       "      <th>AbweichungRoll</th>\n",
       "    </tr>\n",
       "  </thead>\n",
       "  <tbody>\n",
       "    <tr>\n",
       "      <th>count</th>\n",
       "      <td>1.214900e+04</td>\n",
       "      <td>12149.000000</td>\n",
       "      <td>12149.000000</td>\n",
       "      <td>12149.000000</td>\n",
       "      <td>12149.0</td>\n",
       "      <td>1.214900e+04</td>\n",
       "      <td>1.214900e+04</td>\n",
       "      <td>1.214900e+04</td>\n",
       "      <td>12149.000000</td>\n",
       "      <td>12149.000000</td>\n",
       "      <td>...</td>\n",
       "      <td>12149.000000</td>\n",
       "      <td>12149.000000</td>\n",
       "      <td>12149.000000</td>\n",
       "      <td>12149.000000</td>\n",
       "      <td>12149.000000</td>\n",
       "      <td>12149.000000</td>\n",
       "      <td>12149.00000</td>\n",
       "      <td>12149.000000</td>\n",
       "      <td>12149.000000</td>\n",
       "      <td>12149.000000</td>\n",
       "    </tr>\n",
       "    <tr>\n",
       "      <th>mean</th>\n",
       "      <td>1.520521e+12</td>\n",
       "      <td>53.621404</td>\n",
       "      <td>10.175575</td>\n",
       "      <td>15.419228</td>\n",
       "      <td>20.0</td>\n",
       "      <td>3.972071e+12</td>\n",
       "      <td>3.972161e+12</td>\n",
       "      <td>1.931440e+07</td>\n",
       "      <td>0.001482</td>\n",
       "      <td>0.003506</td>\n",
       "      <td>...</td>\n",
       "      <td>2.121109</td>\n",
       "      <td>16.710875</td>\n",
       "      <td>17.784782</td>\n",
       "      <td>0.176490</td>\n",
       "      <td>0.252438</td>\n",
       "      <td>1.200596</td>\n",
       "      <td>3.22775</td>\n",
       "      <td>3.402667</td>\n",
       "      <td>0.380466</td>\n",
       "      <td>0.323835</td>\n",
       "    </tr>\n",
       "    <tr>\n",
       "      <th>std</th>\n",
       "      <td>1.226303e+06</td>\n",
       "      <td>0.006939</td>\n",
       "      <td>0.018062</td>\n",
       "      <td>3.447197</td>\n",
       "      <td>0.0</td>\n",
       "      <td>1.226303e+12</td>\n",
       "      <td>1.226303e+12</td>\n",
       "      <td>8.842717e+06</td>\n",
       "      <td>0.279567</td>\n",
       "      <td>0.564297</td>\n",
       "      <td>...</td>\n",
       "      <td>4.805029</td>\n",
       "      <td>37.120677</td>\n",
       "      <td>34.064271</td>\n",
       "      <td>0.165855</td>\n",
       "      <td>0.595264</td>\n",
       "      <td>0.824460</td>\n",
       "      <td>2.50859</td>\n",
       "      <td>2.491415</td>\n",
       "      <td>0.178153</td>\n",
       "      <td>0.384162</td>\n",
       "    </tr>\n",
       "    <tr>\n",
       "      <th>min</th>\n",
       "      <td>1.520519e+12</td>\n",
       "      <td>53.610477</td>\n",
       "      <td>10.137807</td>\n",
       "      <td>5.004000</td>\n",
       "      <td>20.0</td>\n",
       "      <td>1.618455e+12</td>\n",
       "      <td>1.618559e+12</td>\n",
       "      <td>4.127597e+06</td>\n",
       "      <td>-2.285901</td>\n",
       "      <td>-4.989452</td>\n",
       "      <td>...</td>\n",
       "      <td>0.000370</td>\n",
       "      <td>0.000230</td>\n",
       "      <td>0.000380</td>\n",
       "      <td>0.000000</td>\n",
       "      <td>0.000010</td>\n",
       "      <td>0.019240</td>\n",
       "      <td>0.01517</td>\n",
       "      <td>0.019490</td>\n",
       "      <td>0.000000</td>\n",
       "      <td>0.003160</td>\n",
       "    </tr>\n",
       "    <tr>\n",
       "      <th>25%</th>\n",
       "      <td>1.520520e+12</td>\n",
       "      <td>53.614110</td>\n",
       "      <td>10.161995</td>\n",
       "      <td>13.608000</td>\n",
       "      <td>20.0</td>\n",
       "      <td>2.973751e+12</td>\n",
       "      <td>2.973839e+12</td>\n",
       "      <td>1.000184e+07</td>\n",
       "      <td>-0.141578</td>\n",
       "      <td>-0.247978</td>\n",
       "      <td>...</td>\n",
       "      <td>0.515670</td>\n",
       "      <td>3.221720</td>\n",
       "      <td>3.578670</td>\n",
       "      <td>0.059210</td>\n",
       "      <td>0.011630</td>\n",
       "      <td>0.718100</td>\n",
       "      <td>1.79492</td>\n",
       "      <td>1.891740</td>\n",
       "      <td>0.243330</td>\n",
       "      <td>0.107840</td>\n",
       "    </tr>\n",
       "    <tr>\n",
       "      <th>50%</th>\n",
       "      <td>1.520521e+12</td>\n",
       "      <td>53.621760</td>\n",
       "      <td>10.177186</td>\n",
       "      <td>15.804000</td>\n",
       "      <td>20.0</td>\n",
       "      <td>3.963729e+12</td>\n",
       "      <td>3.963809e+12</td>\n",
       "      <td>2.000368e+07</td>\n",
       "      <td>0.000789</td>\n",
       "      <td>-0.004989</td>\n",
       "      <td>...</td>\n",
       "      <td>0.937230</td>\n",
       "      <td>6.096390</td>\n",
       "      <td>6.850140</td>\n",
       "      <td>0.114540</td>\n",
       "      <td>0.025740</td>\n",
       "      <td>0.968110</td>\n",
       "      <td>2.46909</td>\n",
       "      <td>2.617280</td>\n",
       "      <td>0.338440</td>\n",
       "      <td>0.160440</td>\n",
       "    </tr>\n",
       "    <tr>\n",
       "      <th>75%</th>\n",
       "      <td>1.520523e+12</td>\n",
       "      <td>53.627620</td>\n",
       "      <td>10.190325</td>\n",
       "      <td>17.712000</td>\n",
       "      <td>20.0</td>\n",
       "      <td>4.998830e+12</td>\n",
       "      <td>4.998939e+12</td>\n",
       "      <td>2.999632e+07</td>\n",
       "      <td>0.140186</td>\n",
       "      <td>0.253781</td>\n",
       "      <td>...</td>\n",
       "      <td>1.950760</td>\n",
       "      <td>13.289150</td>\n",
       "      <td>15.018690</td>\n",
       "      <td>0.240750</td>\n",
       "      <td>0.099260</td>\n",
       "      <td>1.396700</td>\n",
       "      <td>3.64543</td>\n",
       "      <td>3.875400</td>\n",
       "      <td>0.490660</td>\n",
       "      <td>0.315060</td>\n",
       "    </tr>\n",
       "    <tr>\n",
       "      <th>max</th>\n",
       "      <td>1.520523e+12</td>\n",
       "      <td>53.635113</td>\n",
       "      <td>10.203202</td>\n",
       "      <td>24.984000</td>\n",
       "      <td>20.0</td>\n",
       "      <td>5.977850e+12</td>\n",
       "      <td>5.977940e+12</td>\n",
       "      <td>2.999632e+07</td>\n",
       "      <td>2.644231</td>\n",
       "      <td>5.218423</td>\n",
       "      <td>...</td>\n",
       "      <td>144.743590</td>\n",
       "      <td>502.054320</td>\n",
       "      <td>575.782600</td>\n",
       "      <td>1.071350</td>\n",
       "      <td>5.731200</td>\n",
       "      <td>12.030940</td>\n",
       "      <td>22.40657</td>\n",
       "      <td>23.995470</td>\n",
       "      <td>1.035060</td>\n",
       "      <td>2.393990</td>\n",
       "    </tr>\n",
       "  </tbody>\n",
       "</table>\n",
       "<p>8 rows × 24 columns</p>\n",
       "</div>"
      ],
      "text/plain": [
       "        Zeitstempel   Breitengrad   Laengengrad  Geschwindigkeit  Messwerte  \\\n",
       "count  1.214900e+04  12149.000000  12149.000000     12149.000000    12149.0   \n",
       "mean   1.520521e+12     53.621404     10.175575        15.419228       20.0   \n",
       "std    1.226303e+06      0.006939      0.018062         3.447197        0.0   \n",
       "min    1.520519e+12     53.610477     10.137807         5.004000       20.0   \n",
       "25%    1.520520e+12     53.614110     10.161995        13.608000       20.0   \n",
       "50%    1.520521e+12     53.621760     10.177186        15.804000       20.0   \n",
       "75%    1.520523e+12     53.627620     10.190325        17.712000       20.0   \n",
       "max    1.520523e+12     53.635113     10.203202        24.984000       20.0   \n",
       "\n",
       "       StartBewegungsD  StartBelichtung  Belichtungszeit       MittelX  \\\n",
       "count     1.214900e+04     1.214900e+04     1.214900e+04  12149.000000   \n",
       "mean      3.972071e+12     3.972161e+12     1.931440e+07      0.001482   \n",
       "std       1.226303e+12     1.226303e+12     8.842717e+06      0.279567   \n",
       "min       1.618455e+12     1.618559e+12     4.127597e+06     -2.285901   \n",
       "25%       2.973751e+12     2.973839e+12     1.000184e+07     -0.141578   \n",
       "50%       3.963729e+12     3.963809e+12     2.000368e+07      0.000789   \n",
       "75%       4.998830e+12     4.998939e+12     2.999632e+07      0.140186   \n",
       "max       5.977850e+12     5.977940e+12     2.999632e+07      2.644231   \n",
       "\n",
       "            MittelY       ...            VarianzX      VarianzY      VarianzZ  \\\n",
       "count  12149.000000       ...        12149.000000  12149.000000  12149.000000   \n",
       "mean       0.003506       ...            2.121109     16.710875     17.784782   \n",
       "std        0.564297       ...            4.805029     37.120677     34.064271   \n",
       "min       -4.989452       ...            0.000370      0.000230      0.000380   \n",
       "25%       -0.247978       ...            0.515670      3.221720      3.578670   \n",
       "50%       -0.004989       ...            0.937230      6.096390      6.850140   \n",
       "75%        0.253781       ...            1.950760     13.289150     15.018690   \n",
       "max        5.218423       ...          144.743590    502.054320    575.782600   \n",
       "\n",
       "        VarianzNick   VarianzRoll   AbweichungX  AbweichungY   AbweichungZ  \\\n",
       "count  12149.000000  12149.000000  12149.000000  12149.00000  12149.000000   \n",
       "mean       0.176490      0.252438      1.200596      3.22775      3.402667   \n",
       "std        0.165855      0.595264      0.824460      2.50859      2.491415   \n",
       "min        0.000000      0.000010      0.019240      0.01517      0.019490   \n",
       "25%        0.059210      0.011630      0.718100      1.79492      1.891740   \n",
       "50%        0.114540      0.025740      0.968110      2.46909      2.617280   \n",
       "75%        0.240750      0.099260      1.396700      3.64543      3.875400   \n",
       "max        1.071350      5.731200     12.030940     22.40657     23.995470   \n",
       "\n",
       "       AbweichungNick  AbweichungRoll  \n",
       "count    12149.000000    12149.000000  \n",
       "mean         0.380466        0.323835  \n",
       "std          0.178153        0.384162  \n",
       "min          0.000000        0.003160  \n",
       "25%          0.243330        0.107840  \n",
       "50%          0.338440        0.160440  \n",
       "75%          0.490660        0.315060  \n",
       "max          1.035060        2.393990  \n",
       "\n",
       "[8 rows x 24 columns]"
      ]
     },
     "execution_count": 36,
     "metadata": {},
     "output_type": "execute_result"
    }
   ],
   "source": [
    "featuresDf.describe()"
   ]
  },
  {
   "cell_type": "code",
   "execution_count": 37,
   "metadata": {},
   "outputs": [
    {
     "data": {
      "text/plain": [
       "RangeIndex(start=0, stop=12149, step=1)"
      ]
     },
     "execution_count": 37,
     "metadata": {},
     "output_type": "execute_result"
    }
   ],
   "source": [
    "# Andzahl der Einträge\n",
    "featuresDf.index"
   ]
  },
  {
   "cell_type": "code",
   "execution_count": 38,
   "metadata": {},
   "outputs": [
    {
     "data": {
      "text/plain": [
       "Index(['Zeitstempel', 'Breitengrad', 'Laengengrad', 'Geschwindigkeit',\n",
       "       'AccelerometerX', 'AccelerometerY', 'AccelerometerZ', 'Azimuth', 'Nick',\n",
       "       'Roll', 'SensorZeitstempel', 'Messwerte', 'StartBewegungsD',\n",
       "       'StartBelichtung', 'Belichtungszeit', 'MittelX', 'MittelY', 'MittelZ',\n",
       "       'MittelNick', 'MittelRoll', 'AzimuthAenderung', 'VarianzX', 'VarianzY',\n",
       "       'VarianzZ', 'VarianzNick', 'VarianzRoll', 'AbweichungX', 'AbweichungY',\n",
       "       'AbweichungZ', 'AbweichungNick', 'AbweichungRoll'],\n",
       "      dtype='object')"
      ]
     },
     "execution_count": 38,
     "metadata": {},
     "output_type": "execute_result"
    }
   ],
   "source": [
    "# Namen der Spalten \n",
    "featuresDf.columns"
   ]
  },
  {
   "cell_type": "code",
   "execution_count": 39,
   "metadata": {},
   "outputs": [],
   "source": [
    "# Für den Plot der Bilder pro Sekunde \n",
    "imagesPerSecondList = []\n",
    "imagesCaptured = []\n",
    "tempTimeSum = 0\n",
    "tempImages = 0\n",
    "tempMs = featuresDf.iat[startIndex,0]"
   ]
  },
  {
   "cell_type": "code",
   "execution_count": 40,
   "metadata": {},
   "outputs": [
    {
     "data": {
      "text/plain": [
       "1520520864420"
      ]
     },
     "execution_count": 40,
     "metadata": {},
     "output_type": "execute_result"
    }
   ],
   "source": [
    "featuresDf.iat[i,0]"
   ]
  },
  {
   "cell_type": "code",
   "execution_count": 49,
   "metadata": {
    "scrolled": true
   },
   "outputs": [],
   "source": [
    "i = startIndex\n",
    "firstMs = featuresDf.iat[i,0]\n",
    "lastValueMs = firstMs\n",
    "valueMs = 0\n",
    "# Zeitliche Differenz zwischen zwei Aufnahmen\n",
    "differenceValueTemp = 0\n",
    "# Max Differenz, welche unter der variablen thresholdMax liegt \n",
    "maxDifference = 0\n",
    "# Index mit der maxDifference\n",
    "maxDifferenceIndex = 0\n",
    "# Maximale gültige Zeit zwischen zwei Bildern in ms \n",
    "thresholdMax = 5000000000000000000000000000000000\n",
    "# Das erste Bild wird nicht mit einbezogen in die Berechnung\n",
    "imageCounter = -1\n",
    "sum = 0\n",
    "while i <= stopIndex:\n",
    "    valueMs = featuresDf.iat[i,0]\n",
    "    differenceValueTemp = valueMs - lastValueMs\n",
    "    if differenceValueTemp > thresholdMax:  # Wenn Schwellwert zwischen zwei Bildern überschritten ist, ..\n",
    "        break                                   # dann breche Schleife ab.\n",
    "    if differenceValueTemp > maxDifference:\n",
    "        maxDifference = differenceValueTemp\n",
    "        maxDifferenceIndex = i\n",
    "    sum =+ (featuresDf.iat[i,0] - firstMs)\n",
    "    tempTimeSum =+ (featuresDf.iat[i,0] - tempMs)\n",
    "    i =  i + 1\n",
    "    imageCounter = imageCounter + 1\n",
    "    if (tempImages % 100 == 0) & (imageCounter >= 100):   # Bei 100 Bildern wird die Geschwindikeit in einer Liste gespeichert\n",
    "        imagesPerSecondList.append(tempImages/(tempTimeSum/1000)) # Anzahl der aufgenommenen Bilder durch vergangene Sekunden \n",
    "        imagesCaptured.append(imageCounter)\n",
    "        tempTimeSum = 0\n",
    "        tempImages = 0\n",
    "        tempMs = featuresDf.iat[i,0]\n",
    "    tempImages = tempImages + 1\n",
    "    lastValueMs = valueMs"
   ]
  },
  {
   "cell_type": "code",
   "execution_count": 50,
   "metadata": {
    "scrolled": true
   },
   "outputs": [
    {
     "data": {
      "image/png": "[encoded data removed]",
      "text/plain": [
       "<matplotlib.figure.Figure at 0x7f8c3db3ddd8>"
      ]
     },
     "metadata": {},
     "output_type": "display_data"
    },
    {
     "name": "stdout",
     "output_type": "stream",
     "text": [
      "Maximale Bilder pro Sekunde: 4.01767778224\n"
     ]
    }
   ],
   "source": [
    "# Für 100 Bilder wird je ein Datenpunkt geplotet mit der Aufnahmegeschwindigkeit \n",
    "fig, ax = plt.subplots(figsize=(20, 5))\n",
    "ax.bar(imagesCaptured, imagesPerSecondList,100) #  tick_label=imagesCaptured / für schönere plots, wenn Anzahl der Bilder klein\n",
    "ax.set(xlabel='Aufgenommene Bilder', ylabel='Bilder pro Sekunde',\n",
    "       title='Aufnahmegeschwindigkeit')\n",
    "ax.grid()\n",
    "fig.savefig(\"bilderProSekunde.png\")\n",
    "plt.show()\n",
    "print('Maximale Bilder pro Sekunde: ' + str(max(imagesPerSecondList)))"
   ]
  },
  {
   "cell_type": "code",
   "execution_count": 51,
   "metadata": {},
   "outputs": [],
   "source": [
    "# Elemente aus Listen entfernen\n",
    "imagesPerSecondList.clear()\n",
    "imagesCaptured.clear()"
   ]
  },
  {
   "cell_type": "code",
   "execution_count": 52,
   "metadata": {},
   "outputs": [],
   "source": [
    "meanMs = sum/imageCounter\n",
    "imagesPerSecond = imageCounter/(sum/1000)"
   ]
  },
  {
   "cell_type": "code",
   "execution_count": 53,
   "metadata": {},
   "outputs": [
    {
     "data": {
      "text/plain": [
       "2.7782138029996375"
      ]
     },
     "execution_count": 53,
     "metadata": {},
     "output_type": "execute_result"
    }
   ],
   "source": [
    "imagesPerSecond"
   ]
  },
  {
   "cell_type": "code",
   "execution_count": 54,
   "metadata": {},
   "outputs": [
    {
     "name": "stdout",
     "output_type": "stream",
     "text": [
      "Anzahl der Bilder: 12000\n",
      "Mittelwert: 359.9435ms pro Aufnahme\n",
      "Bilder pro Sekunde: 2.778213803\n",
      "Maximale gültige Zeitdifferenz zwischen zwei Aufnahmen: 156985ms (Bild Nr.: 2000)\n"
     ]
    }
   ],
   "source": [
    "# Zeitliche nformationen über die gesamten Bilder\n",
    "print(\"Anzahl der Bilder: \" + str(imageCounter) + \"\\n\" +\n",
    "    \"Mittelwert: \" + str(meanMs) + \"ms pro Aufnahme\" + \"\\n\" +\n",
    "    \"Bilder pro Sekunde: \" + str(imagesPerSecond) + \"\\n\" +\n",
    "     \"Maximale gültige Zeitdifferenz zwischen zwei Aufnahmen: \" + str(maxDifference) +  \"ms\" + \n",
    "     \" (Bild Nr.: \" + str(maxDifferenceIndex) + \")\" )"
   ]
  }
 ],
 "metadata": {
  "kernelspec": {
   "display_name": "Python 3",
   "language": "python",
   "name": "python3"
  },
  "language_info": {
   "codemirror_mode": {
    "name": "ipython",
    "version": 3
   },
   "file_extension": ".py",
   "mimetype": "text/x-python",
   "name": "python",
   "nbconvert_exporter": "python",
   "pygments_lexer": "ipython3",
   "version": "3.5.4"
  },
  "toc": {
   "colors": {
    "hover_highlight": "#DAA520",
    "navigate_num": "#000000",
    "navigate_text": "#333333",
    "running_highlight": "#FF0000",
    "selected_highlight": "#FFD700",
    "sidebar_border": "#EEEEEE",
    "wrapper_background": "#FFFFFF"
   },
   "moveMenuLeft": true,
   "nav_menu": {
    "height": "65px",
    "width": "252px"
   },
   "navigate_menu": true,
   "number_sections": true,
   "sideBar": true,
   "threshold": 4,
   "toc_cell": false,
   "toc_section_display": "block",
   "toc_window_display": false,
   "widenNotebook": false
  }
 },
 "nbformat": 4,
 "nbformat_minor": 2
}
