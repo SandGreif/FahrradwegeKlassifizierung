{
 "cells": [
  {
   "cell_type": "markdown",
   "metadata": {},
   "source": [
    "Bilder pro Sekunde\n",
    " ======\n",
    " \n",
    " Mit diesem Python Notebook ist es möglich, dass zeitliche Verhalten einer Serienaufnahme der Android Anwendung \"Fahrradwege Monotring App\" zu untersuchen.  \n",
    " Ziel ist es zu berechnen wie viele Bilder in einer Serienaufnahme pro Sekunde aufgenommen wurden.  \n",
    " Des Weiteren ist es möglich die längste Zeitspanne zwischen  zwei Aufnahmen innerhalb einer Serienaufnahme zu ermitteln.\n",
    " "
   ]
  },
  {
   "cell_type": "markdown",
   "metadata": {},
   "source": [
    "Bilder pro Sekunde in einer Serienaufnahme\n",
    "\n",
    "Um die Anzahl der Bilder pro Sekunde zu berechnen ist es wichtig, dass diese kontinuierlich in kurzen Zeitabschnitten  \n",
    "aufgenommen wurden. In der Android habe ich einen Schwellenwert implementiert damit keine Aufnahmen gemacht werden,  \n",
    "wenn eine bestimmte Geschwindikeit nicht überschritten wurde. Dies ist relevant um keine Aufnahme zu machen falls  \n",
    "ein Fahrrad steht während die Anwendung läuft."
   ]
  },
  {
   "cell_type": "code",
   "execution_count": 1,
   "metadata": {
    "ExecuteTime": {
     "end_time": "2018-05-07T14:40:31.782222Z",
     "start_time": "2018-05-07T14:40:31.063882Z"
    }
   },
   "outputs": [],
   "source": [
    "import pandas \n",
    "import math\n",
    "%matplotlib inline\n",
    "import matplotlib\n",
    "import matplotlib.pyplot as plt"
   ]
  },
  {
   "cell_type": "code",
   "execution_count": 2,
   "metadata": {
    "ExecuteTime": {
     "end_time": "2018-05-07T14:44:52.655514Z",
     "start_time": "2018-05-07T14:44:50.886228Z"
    }
   },
   "outputs": [],
   "source": [
    "# Startindex der Features eines Fotos   \n",
    "startIndex = 0\n",
    "# Stop Index \n",
    "stopIndex = 100000\n",
    "# Öfnne die Datei features.csv. Der Path muss mit angegeben werden\n",
    "featuresDf = pandas.read_csv(filepath_or_buffer=\"C:/Users/morro/Documents/fahrradwegeKlassifizierung/daten/merkmale_datensatz_28_bis_29/merkmaleRoh.csv\")"
   ]
  },
  {
   "cell_type": "code",
   "execution_count": 4,
   "metadata": {
    "ExecuteTime": {
     "end_time": "2018-05-07T14:44:52.806423Z",
     "start_time": "2018-05-07T14:44:52.694593Z"
    }
   },
   "outputs": [
    {
     "data": {
      "text/html": [
       "<div>\n",
       "<style scoped>\n",
       "    .dataframe tbody tr th:only-of-type {\n",
       "        vertical-align: middle;\n",
       "    }\n",
       "\n",
       "    .dataframe tbody tr th {\n",
       "        vertical-align: top;\n",
       "    }\n",
       "\n",
       "    .dataframe thead th {\n",
       "        text-align: right;\n",
       "    }\n",
       "</style>\n",
       "<table border=\"1\" class=\"dataframe\">\n",
       "  <thead>\n",
       "    <tr style=\"text-align: right;\">\n",
       "      <th></th>\n",
       "      <th>Zeitstempel in Unixzeit</th>\n",
       "      <th>Anzahl der Messwerte</th>\n",
       "      <th>Belichtungszeit in ns</th>\n",
       "      <th>Breitengrad</th>\n",
       "      <th>Geschwindigkeit in km/h</th>\n",
       "      <th>Hoehe in m ueber WGS 84</th>\n",
       "      <th>Laengengrad</th>\n",
       "      <th>Letzter Zeitstempel der Messwerterfassung in ns seit Start der JVM</th>\n",
       "      <th>Start der Belichtung in ns seit Start der JVM</th>\n",
       "      <th>Start der Messwerterfassung in ns seit Start der JVM</th>\n",
       "      <th>...</th>\n",
       "      <th>Varianz X-Achse Beschleunigung in m/s^2</th>\n",
       "      <th>Varianz Y-Achse Beschleunigung in m/s^2</th>\n",
       "      <th>Varianz Z-Achse Beschleunigung in m/s^2</th>\n",
       "      <th>Varianz Nick in rad</th>\n",
       "      <th>Varianz Roll in rad</th>\n",
       "      <th>Standardabweichung X-Achse Beschleunigung in m/s^2</th>\n",
       "      <th>Standardabweichung Y-Achse Beschleunigung in m/s^2</th>\n",
       "      <th>Standardabweichung Z-Achse Beschleunigung in m/s^2</th>\n",
       "      <th>Standardabweichung Nick in rad</th>\n",
       "      <th>Standardabweichung Roll in rad</th>\n",
       "    </tr>\n",
       "  </thead>\n",
       "  <tbody>\n",
       "    <tr>\n",
       "      <th>count</th>\n",
       "      <td>1.009760e+05</td>\n",
       "      <td>100976.000000</td>\n",
       "      <td>1.009760e+05</td>\n",
       "      <td>100976.000000</td>\n",
       "      <td>100976.000000</td>\n",
       "      <td>1935.000000</td>\n",
       "      <td>100976.000000</td>\n",
       "      <td>5.114800e+04</td>\n",
       "      <td>1.009760e+05</td>\n",
       "      <td>1.009760e+05</td>\n",
       "      <td>...</td>\n",
       "      <td>100976.000000</td>\n",
       "      <td>100976.000000</td>\n",
       "      <td>100976.000000</td>\n",
       "      <td>100976.000000</td>\n",
       "      <td>100976.000000</td>\n",
       "      <td>100976.000000</td>\n",
       "      <td>100976.000000</td>\n",
       "      <td>100976.000000</td>\n",
       "      <td>100976.000000</td>\n",
       "      <td>100976.000000</td>\n",
       "    </tr>\n",
       "    <tr>\n",
       "      <th>mean</th>\n",
       "      <td>1.521788e+12</td>\n",
       "      <td>19.367454</td>\n",
       "      <td>1.627997e+07</td>\n",
       "      <td>53.600822</td>\n",
       "      <td>14.825229</td>\n",
       "      <td>70.983613</td>\n",
       "      <td>10.117386</td>\n",
       "      <td>6.607393e+13</td>\n",
       "      <td>7.109607e+13</td>\n",
       "      <td>7.109597e+13</td>\n",
       "      <td>...</td>\n",
       "      <td>2.685790</td>\n",
       "      <td>17.709575</td>\n",
       "      <td>23.905017</td>\n",
       "      <td>0.194469</td>\n",
       "      <td>0.359751</td>\n",
       "      <td>1.361221</td>\n",
       "      <td>3.329833</td>\n",
       "      <td>4.011001</td>\n",
       "      <td>0.399242</td>\n",
       "      <td>0.416068</td>\n",
       "    </tr>\n",
       "    <tr>\n",
       "      <th>std</th>\n",
       "      <td>6.253450e+08</td>\n",
       "      <td>0.610286</td>\n",
       "      <td>1.007035e+07</td>\n",
       "      <td>0.026173</td>\n",
       "      <td>3.788046</td>\n",
       "      <td>2.540434</td>\n",
       "      <td>0.064359</td>\n",
       "      <td>6.623119e+13</td>\n",
       "      <td>5.256696e+13</td>\n",
       "      <td>5.256696e+13</td>\n",
       "      <td>...</td>\n",
       "      <td>5.005186</td>\n",
       "      <td>38.102059</td>\n",
       "      <td>39.639836</td>\n",
       "      <td>0.172257</td>\n",
       "      <td>0.676998</td>\n",
       "      <td>0.912619</td>\n",
       "      <td>2.573296</td>\n",
       "      <td>2.795884</td>\n",
       "      <td>0.187284</td>\n",
       "      <td>0.432019</td>\n",
       "    </tr>\n",
       "    <tr>\n",
       "      <th>min</th>\n",
       "      <td>1.521124e+12</td>\n",
       "      <td>5.000000</td>\n",
       "      <td>6.435000e+05</td>\n",
       "      <td>53.533375</td>\n",
       "      <td>5.004000</td>\n",
       "      <td>64.299440</td>\n",
       "      <td>9.853853</td>\n",
       "      <td>7.500496e+12</td>\n",
       "      <td>7.500366e+12</td>\n",
       "      <td>7.500275e+12</td>\n",
       "      <td>...</td>\n",
       "      <td>0.006260</td>\n",
       "      <td>0.006190</td>\n",
       "      <td>0.019130</td>\n",
       "      <td>0.000320</td>\n",
       "      <td>0.000130</td>\n",
       "      <td>0.079120</td>\n",
       "      <td>0.078680</td>\n",
       "      <td>0.138310</td>\n",
       "      <td>0.017890</td>\n",
       "      <td>0.011400</td>\n",
       "    </tr>\n",
       "    <tr>\n",
       "      <th>25%</th>\n",
       "      <td>1.521212e+12</td>\n",
       "      <td>19.000000</td>\n",
       "      <td>8.963045e+06</td>\n",
       "      <td>53.582530</td>\n",
       "      <td>12.348000</td>\n",
       "      <td>69.145140</td>\n",
       "      <td>10.096096</td>\n",
       "      <td>1.369082e+13</td>\n",
       "      <td>3.100689e+13</td>\n",
       "      <td>3.100680e+13</td>\n",
       "      <td>...</td>\n",
       "      <td>0.582453</td>\n",
       "      <td>3.104440</td>\n",
       "      <td>4.442202</td>\n",
       "      <td>0.061230</td>\n",
       "      <td>0.014650</td>\n",
       "      <td>0.763185</td>\n",
       "      <td>1.761938</td>\n",
       "      <td>2.107655</td>\n",
       "      <td>0.247450</td>\n",
       "      <td>0.121040</td>\n",
       "    </tr>\n",
       "    <tr>\n",
       "      <th>50%</th>\n",
       "      <td>1.521815e+12</td>\n",
       "      <td>19.000000</td>\n",
       "      <td>1.000184e+07</td>\n",
       "      <td>53.607080</td>\n",
       "      <td>15.191999</td>\n",
       "      <td>71.069275</td>\n",
       "      <td>10.128583</td>\n",
       "      <td>3.203304e+13</td>\n",
       "      <td>4.411213e+13</td>\n",
       "      <td>4.411201e+13</td>\n",
       "      <td>...</td>\n",
       "      <td>1.247110</td>\n",
       "      <td>6.742095</td>\n",
       "      <td>10.090315</td>\n",
       "      <td>0.139565</td>\n",
       "      <td>0.044745</td>\n",
       "      <td>1.116740</td>\n",
       "      <td>2.596555</td>\n",
       "      <td>3.176525</td>\n",
       "      <td>0.373585</td>\n",
       "      <td>0.211530</td>\n",
       "    </tr>\n",
       "    <tr>\n",
       "      <th>75%</th>\n",
       "      <td>1.522248e+12</td>\n",
       "      <td>20.000000</td>\n",
       "      <td>2.999632e+07</td>\n",
       "      <td>53.614410</td>\n",
       "      <td>17.531998</td>\n",
       "      <td>72.942380</td>\n",
       "      <td>10.156504</td>\n",
       "      <td>1.705829e+14</td>\n",
       "      <td>1.087596e+14</td>\n",
       "      <td>1.087595e+14</td>\n",
       "      <td>...</td>\n",
       "      <td>2.813615</td>\n",
       "      <td>15.804995</td>\n",
       "      <td>24.820770</td>\n",
       "      <td>0.282800</td>\n",
       "      <td>0.338045</td>\n",
       "      <td>1.677385</td>\n",
       "      <td>3.975548</td>\n",
       "      <td>4.982045</td>\n",
       "      <td>0.531790</td>\n",
       "      <td>0.581415</td>\n",
       "    </tr>\n",
       "    <tr>\n",
       "      <th>max</th>\n",
       "      <td>1.523024e+12</td>\n",
       "      <td>23.000000</td>\n",
       "      <td>3.287369e+07</td>\n",
       "      <td>53.656776</td>\n",
       "      <td>24.948000</td>\n",
       "      <td>77.023680</td>\n",
       "      <td>10.229659</td>\n",
       "      <td>1.762332e+14</td>\n",
       "      <td>1.762331e+14</td>\n",
       "      <td>1.762330e+14</td>\n",
       "      <td>...</td>\n",
       "      <td>182.107430</td>\n",
       "      <td>670.983650</td>\n",
       "      <td>609.325920</td>\n",
       "      <td>1.333200</td>\n",
       "      <td>7.463120</td>\n",
       "      <td>13.494720</td>\n",
       "      <td>25.903350</td>\n",
       "      <td>24.684530</td>\n",
       "      <td>1.154640</td>\n",
       "      <td>2.731870</td>\n",
       "    </tr>\n",
       "  </tbody>\n",
       "</table>\n",
       "<p>8 rows × 28 columns</p>\n",
       "</div>"
      ],
      "text/plain": [
       "       Zeitstempel in Unixzeit  Anzahl der Messwerte  Belichtungszeit in ns  \\\n",
       "count             1.009760e+05         100976.000000           1.009760e+05   \n",
       "mean              1.521788e+12             19.367454           1.627997e+07   \n",
       "std               6.253450e+08              0.610286           1.007035e+07   \n",
       "min               1.521124e+12              5.000000           6.435000e+05   \n",
       "25%               1.521212e+12             19.000000           8.963045e+06   \n",
       "50%               1.521815e+12             19.000000           1.000184e+07   \n",
       "75%               1.522248e+12             20.000000           2.999632e+07   \n",
       "max               1.523024e+12             23.000000           3.287369e+07   \n",
       "\n",
       "         Breitengrad  Geschwindigkeit in km/h  Hoehe in m ueber WGS 84  \\\n",
       "count  100976.000000            100976.000000              1935.000000   \n",
       "mean       53.600822                14.825229                70.983613   \n",
       "std         0.026173                 3.788046                 2.540434   \n",
       "min        53.533375                 5.004000                64.299440   \n",
       "25%        53.582530                12.348000                69.145140   \n",
       "50%        53.607080                15.191999                71.069275   \n",
       "75%        53.614410                17.531998                72.942380   \n",
       "max        53.656776                24.948000                77.023680   \n",
       "\n",
       "         Laengengrad  \\\n",
       "count  100976.000000   \n",
       "mean       10.117386   \n",
       "std         0.064359   \n",
       "min         9.853853   \n",
       "25%        10.096096   \n",
       "50%        10.128583   \n",
       "75%        10.156504   \n",
       "max        10.229659   \n",
       "\n",
       "       Letzter Zeitstempel der Messwerterfassung in ns seit Start der JVM  \\\n",
       "count                                       5.114800e+04                    \n",
       "mean                                        6.607393e+13                    \n",
       "std                                         6.623119e+13                    \n",
       "min                                         7.500496e+12                    \n",
       "25%                                         1.369082e+13                    \n",
       "50%                                         3.203304e+13                    \n",
       "75%                                         1.705829e+14                    \n",
       "max                                         1.762332e+14                    \n",
       "\n",
       "       Start der Belichtung in ns seit Start der JVM  \\\n",
       "count                                   1.009760e+05   \n",
       "mean                                    7.109607e+13   \n",
       "std                                     5.256696e+13   \n",
       "min                                     7.500366e+12   \n",
       "25%                                     3.100689e+13   \n",
       "50%                                     4.411213e+13   \n",
       "75%                                     1.087596e+14   \n",
       "max                                     1.762331e+14   \n",
       "\n",
       "       Start der Messwerterfassung in ns seit Start der JVM  \\\n",
       "count                                       1.009760e+05      \n",
       "mean                                        7.109597e+13      \n",
       "std                                         5.256696e+13      \n",
       "min                                         7.500275e+12      \n",
       "25%                                         3.100680e+13      \n",
       "50%                                         4.411201e+13      \n",
       "75%                                         1.087595e+14      \n",
       "max                                         1.762330e+14      \n",
       "\n",
       "                    ...                \\\n",
       "count               ...                 \n",
       "mean                ...                 \n",
       "std                 ...                 \n",
       "min                 ...                 \n",
       "25%                 ...                 \n",
       "50%                 ...                 \n",
       "75%                 ...                 \n",
       "max                 ...                 \n",
       "\n",
       "       Varianz X-Achse Beschleunigung in m/s^2  \\\n",
       "count                            100976.000000   \n",
       "mean                                  2.685790   \n",
       "std                                   5.005186   \n",
       "min                                   0.006260   \n",
       "25%                                   0.582453   \n",
       "50%                                   1.247110   \n",
       "75%                                   2.813615   \n",
       "max                                 182.107430   \n",
       "\n",
       "       Varianz Y-Achse Beschleunigung in m/s^2  \\\n",
       "count                            100976.000000   \n",
       "mean                                 17.709575   \n",
       "std                                  38.102059   \n",
       "min                                   0.006190   \n",
       "25%                                   3.104440   \n",
       "50%                                   6.742095   \n",
       "75%                                  15.804995   \n",
       "max                                 670.983650   \n",
       "\n",
       "       Varianz Z-Achse Beschleunigung in m/s^2  Varianz Nick in rad  \\\n",
       "count                            100976.000000        100976.000000   \n",
       "mean                                 23.905017             0.194469   \n",
       "std                                  39.639836             0.172257   \n",
       "min                                   0.019130             0.000320   \n",
       "25%                                   4.442202             0.061230   \n",
       "50%                                  10.090315             0.139565   \n",
       "75%                                  24.820770             0.282800   \n",
       "max                                 609.325920             1.333200   \n",
       "\n",
       "       Varianz Roll in rad  \\\n",
       "count        100976.000000   \n",
       "mean              0.359751   \n",
       "std               0.676998   \n",
       "min               0.000130   \n",
       "25%               0.014650   \n",
       "50%               0.044745   \n",
       "75%               0.338045   \n",
       "max               7.463120   \n",
       "\n",
       "       Standardabweichung X-Achse Beschleunigung in m/s^2  \\\n",
       "count                                      100976.000000    \n",
       "mean                                            1.361221    \n",
       "std                                             0.912619    \n",
       "min                                             0.079120    \n",
       "25%                                             0.763185    \n",
       "50%                                             1.116740    \n",
       "75%                                             1.677385    \n",
       "max                                            13.494720    \n",
       "\n",
       "       Standardabweichung Y-Achse Beschleunigung in m/s^2  \\\n",
       "count                                      100976.000000    \n",
       "mean                                            3.329833    \n",
       "std                                             2.573296    \n",
       "min                                             0.078680    \n",
       "25%                                             1.761938    \n",
       "50%                                             2.596555    \n",
       "75%                                             3.975548    \n",
       "max                                            25.903350    \n",
       "\n",
       "       Standardabweichung Z-Achse Beschleunigung in m/s^2  \\\n",
       "count                                      100976.000000    \n",
       "mean                                            4.011001    \n",
       "std                                             2.795884    \n",
       "min                                             0.138310    \n",
       "25%                                             2.107655    \n",
       "50%                                             3.176525    \n",
       "75%                                             4.982045    \n",
       "max                                            24.684530    \n",
       "\n",
       "       Standardabweichung Nick in rad  Standardabweichung Roll in rad  \n",
       "count                   100976.000000                   100976.000000  \n",
       "mean                         0.399242                        0.416068  \n",
       "std                          0.187284                        0.432019  \n",
       "min                          0.017890                        0.011400  \n",
       "25%                          0.247450                        0.121040  \n",
       "50%                          0.373585                        0.211530  \n",
       "75%                          0.531790                        0.581415  \n",
       "max                          1.154640                        2.731870  \n",
       "\n",
       "[8 rows x 28 columns]"
      ]
     },
     "execution_count": 4,
     "metadata": {},
     "output_type": "execute_result"
    }
   ],
   "source": [
    "featuresDf.describe()"
   ]
  },
  {
   "cell_type": "code",
   "execution_count": 15,
   "metadata": {
    "ExecuteTime": {
     "end_time": "2018-05-07T14:44:52.917088Z",
     "start_time": "2018-05-07T14:44:52.913087Z"
    }
   },
   "outputs": [
    {
     "data": {
      "text/plain": [
       "RangeIndex(start=0, stop=100997, step=1)"
      ]
     },
     "execution_count": 15,
     "metadata": {},
     "output_type": "execute_result"
    }
   ],
   "source": [
    "# Andzahl der Einträge\n",
    "featuresDf.index"
   ]
  },
  {
   "cell_type": "code",
   "execution_count": 16,
   "metadata": {
    "ExecuteTime": {
     "end_time": "2018-05-07T14:44:53.597025Z",
     "start_time": "2018-05-07T14:44:53.589026Z"
    }
   },
   "outputs": [
    {
     "data": {
      "text/plain": [
       "Index(['Zeitstempel in Unixzeit', 'Anzahl der Messwerte',\n",
       "       'Belichtungszeit in ns', 'Breitengrad', 'Geschwindigkeit in km/h',\n",
       "       'Gier Messwerte in rad', 'Hoehe in m ueber WGS 84', 'Laengengrad',\n",
       "       'Letzter Zeitstempel der Messwerterfassung in ns seit Start der JVM',\n",
       "       'Nick Messwerte in rad', 'Roll Messwerte in rad',\n",
       "       'Start der Belichtung in ns seit Start der JVM',\n",
       "       'Start der Messwerterfassung in ns seit Start der JVM',\n",
       "       'Start des Zeitfensters in ns seit Start der JVM',\n",
       "       'Stopp der Messwerterfassung in Unixzeit',\n",
       "       'X-Achse Beschleunigungswerte in m/s^2',\n",
       "       'Y-Achse Beschleunigungswerte in m/s^2',\n",
       "       'Z-Achse Beschleunigungswerte in m/s^2',\n",
       "       'Zeitstempel der Messwerte in ns'],\n",
       "      dtype='object')"
      ]
     },
     "execution_count": 16,
     "metadata": {},
     "output_type": "execute_result"
    }
   ],
   "source": [
    "# Namen der Spalten \n",
    "featuresDf.columns"
   ]
  },
  {
   "cell_type": "code",
   "execution_count": 17,
   "metadata": {
    "ExecuteTime": {
     "end_time": "2018-05-07T14:44:55.632438Z",
     "start_time": "2018-05-07T14:44:55.628438Z"
    }
   },
   "outputs": [],
   "source": [
    "# Für den Plot der Bilder pro Sekunde \n",
    "imagesPerSecondList = []\n",
    "imagesCaptured = []\n",
    "tempTimeSum = 0\n",
    "tempImages = 0\n",
    "tempMs = featuresDf.iat[startIndex,0]"
   ]
  },
  {
   "cell_type": "code",
   "execution_count": 18,
   "metadata": {
    "ExecuteTime": {
     "end_time": "2018-05-07T14:44:58.188587Z",
     "start_time": "2018-05-07T14:44:56.000019Z"
    },
    "scrolled": true
   },
   "outputs": [],
   "source": [
    "i = startIndex\n",
    "firstMs = featuresDf.iat[i,0]\n",
    "lastValueMs = firstMs\n",
    "valueMs = 0\n",
    "# Zeitliche Differenz zwischen zwei Aufnahmen\n",
    "differenceValueTemp = 0\n",
    "# Max Differenz, welche unter der variablen thresholdMax liegt \n",
    "maxDifference = 0\n",
    "# Index mit der maxDifference\n",
    "maxDifferenceIndex = 0\n",
    "# Das erste Bild wird nicht mit einbezogen in die Berechnung\n",
    "imageCounter = -1\n",
    "sum = 0\n",
    "while i <= stopIndex:\n",
    "    valueMs = featuresDf.iat[i,0]\n",
    "    differenceValueTemp = valueMs - lastValueMs\n",
    "    if differenceValueTemp > maxDifference:\n",
    "        maxDifference = differenceValueTemp\n",
    "        maxDifferenceIndex = i\n",
    "    sum =+ (featuresDf.iat[i,0] - firstMs)\n",
    "    tempTimeSum =+ (featuresDf.iat[i,0] - tempMs)\n",
    "    i =  i + 1\n",
    "    imageCounter = imageCounter + 1\n",
    "    if (tempImages % 100 == 0) & (imageCounter >= 100):   # Bei 100 Bildern wird die Geschwindikeit in einer Liste gespeichert\n",
    "        imagesPerSecondList.append(tempImages/(tempTimeSum/1000)) # Anzahl der aufgenommenen Bilder durch vergangene Sekunden \n",
    "        imagesCaptured.append(imageCounter)\n",
    "        tempTimeSum = 0\n",
    "        tempImages = 0\n",
    "        tempMs = featuresDf.iat[i,0]\n",
    "    tempImages = tempImages + 1\n",
    "    lastValueMs = valueMs"
   ]
  },
  {
   "cell_type": "code",
   "execution_count": 19,
   "metadata": {
    "ExecuteTime": {
     "end_time": "2018-05-07T14:44:59.883396Z",
     "start_time": "2018-05-07T14:44:58.222161Z"
    },
    "scrolled": true
   },
   "outputs": [
    {
     "data": {
      "image/png": "[encoded data removed]",
      "text/plain": [
       "<Figure size 1440x360 with 1 Axes>"
      ]
     },
     "metadata": {},
     "output_type": "display_data"
    },
    {
     "name": "stdout",
     "output_type": "stream",
     "text": [
      "Maximale Bilder pro Sekunde: 4.276794115131297\n"
     ]
    }
   ],
   "source": [
    "# Für 100 Bilder wird je ein Datenpunkt geplotet mit der Aufnahmegeschwindigkeit \n",
    "fig, ax = plt.subplots(figsize=(20, 5))\n",
    "ax.bar(imagesCaptured, imagesPerSecondList,100) #  tick_label=imagesCaptured / für schönere plots, wenn Anzahl der Bilder klein\n",
    "ax.set(xlabel='Aufgenommene Bilder', ylabel='Bilder pro Sekunde',\n",
    "       title='Aufnahmegeschwindigkeit')\n",
    "ax.grid()\n",
    "fig.savefig(\"bilderProSekunde.png\")\n",
    "plt.show()\n",
    "print('Maximale Bilder pro Sekunde: ' + str(max(imagesPerSecondList)))"
   ]
  },
  {
   "cell_type": "code",
   "execution_count": 10,
   "metadata": {
    "ExecuteTime": {
     "end_time": "2018-05-07T14:43:20.345940Z",
     "start_time": "2018-05-07T14:43:20.341940Z"
    }
   },
   "outputs": [],
   "source": [
    "# Elemente aus Listen entfernen\n",
    "imagesPerSecondList.clear()\n",
    "imagesCaptured.clear()"
   ]
  },
  {
   "cell_type": "code",
   "execution_count": 20,
   "metadata": {
    "ExecuteTime": {
     "end_time": "2018-05-07T14:45:58.910923Z",
     "start_time": "2018-05-07T14:45:58.906924Z"
    }
   },
   "outputs": [],
   "source": [
    "meanMs = sum/imageCounter\n",
    "imagesPerSecond = imageCounter/(sum/1000)"
   ]
  },
  {
   "cell_type": "code",
   "execution_count": 21,
   "metadata": {
    "ExecuteTime": {
     "end_time": "2018-05-07T14:45:59.579389Z",
     "start_time": "2018-05-07T14:45:59.571390Z"
    }
   },
   "outputs": [
    {
     "data": {
      "text/plain": [
       "0.0531616797038559"
      ]
     },
     "execution_count": 21,
     "metadata": {},
     "output_type": "execute_result"
    }
   ],
   "source": [
    "imagesPerSecond"
   ]
  },
  {
   "cell_type": "code",
   "execution_count": 22,
   "metadata": {
    "ExecuteTime": {
     "end_time": "2018-05-07T14:46:12.576324Z",
     "start_time": "2018-05-07T14:46:12.572324Z"
    }
   },
   "outputs": [
    {
     "name": "stdout",
     "output_type": "stream",
     "text": [
      "Anzahl der Bilder: 100996\n",
      "Mittelwert: 18810.541833339936ms pro Aufnahme\n",
      "Bilder pro Sekunde: 0.0531616797038559\n",
      "Maximale Zeitdifferenz zwischen zwei Aufnahmen: 514939753ms (Bild Nr.: 49832)\n"
     ]
    }
   ],
   "source": [
    "# Zeitliche nformationen über die gesamten Bilder\n",
    "print(\"Anzahl der Bilder: \" + str(imageCounter) + \"\\n\" +\n",
    "    \"Mittelwert: \" + str(meanMs) + \"ms pro Aufnahme\" + \"\\n\" +\n",
    "    \"Bilder pro Sekunde: \" + str(imagesPerSecond) + \"\\n\" +\n",
    "     \"Maximale Zeitdifferenz zwischen zwei Aufnahmen: \" + str(maxDifference) +  \"ms\" + \n",
    "     \" (Bild Nr.: \" + str(maxDifferenceIndex) + \")\" )"
   ]
  },
  {
   "cell_type": "markdown",
   "metadata": {},
   "source": [
    "## Bildrate mit ohne Unterbrechungen\n",
    "\n",
    "In diesem Versuch wird die Bildrate für Datensätze berechnet. Dabei werden längere Wartezeiten oder Unterbrechungen zwischen mehreren Datensätzen nicht mit gezählt. \n",
    "\n",
    "Datensatz | Bildrate (Bilder pro Sekunde) | Grenzwert in Sekunden | Anzahl der Bilder | Vergangene Zeit in Stunden | Berechnete Zeit in Stunden für die Aufnahme von 100.000 Bildern\n",
    "--- | --- | --- | --- | --- | --- | \n",
    "15-22 | 3.451 | 5 | 100816 |  8.1148 | 8.0491 |\n",
    "23-24 | 3.579 | 5 | 22762 | 1.7666 | 7.7613 |\n",
    "26-27 | 0.8961 | 5 | 4912 | 1.5226 | 30.9977 |\n",
    "28-29 | 1.2763 | 5 | 6174 | 1.3437 | 21.7641 |\n",
    "\n",
    "\n",
    "Tabelle 1: Bildrate für verschiedene Datensätze ohne Unterbrechungen"
   ]
  },
  {
   "cell_type": "code",
   "execution_count": 3,
   "metadata": {
    "ExecuteTime": {
     "end_time": "2018-05-07T15:01:05.065117Z",
     "start_time": "2018-05-07T15:01:05.057118Z"
    }
   },
   "outputs": [
    {
     "name": "stdout",
     "output_type": "stream",
     "text": [
      "Anzahl der vergangenen ms: 4837378\n",
      "Anzahl der Bilder: 6174\n",
      "Bildrate (Bilder pro Sekunde): 1.27631125788\n",
      "Vergangene Zeit in Stunden: 1.34371611111\n",
      "Optimale Zeit in Stunden für die Aufnahme von 100.000 Bildern: 21.7641093474\n"
     ]
    }
   ],
   "source": [
    "# Für einen Datensatz soll ohne Unterbrechung, wie z.B. eine Ampel, die Anzahl der Bilder pro Sekunde berechnet werden\n",
    "i = startIndex\n",
    "lastValueMs = featuresDf['Zeitstempel in Unixzeit'].iloc[i]\n",
    "valueMs = 0\n",
    "# Zeitliche Differenz zwischen zwei Aufnahmen\n",
    "differenceValueTemp = 0\n",
    "# Max Differenz, welche unter der variablen thresholdMax liegt \n",
    "maxDifference = 0\n",
    "# Index mit der maxDifference\n",
    "maxDifferenceIndex = 0\n",
    "# Das erste Bild wird nicht mit einbezogen in die Berechnung\n",
    "imageCounter = 0\n",
    "sum = 0\n",
    "stopIndex = featuresDf.shape[0]-2\n",
    "while i <= stopIndex:\n",
    "    valueMs = featuresDf['Zeitstempel in Unixzeit'].iloc[i+1]\n",
    "    differenceValueTemp = abs(valueMs - lastValueMs)\n",
    "    lastValueMs = valueMs\n",
    "    if differenceValueTemp > 5000:\n",
    "        i = i + 1\n",
    "        continue\n",
    "    sum = sum + differenceValueTemp\n",
    "    imageCounter = imageCounter + 1\n",
    "    i = i + 1\n",
    "fps = imageCounter/(sum/1000)\n",
    "pastHours = (imageCounter / fps) / 3600\n",
    "pastHoursFor100000Images = (100000 / fps) / 3600 \n",
    "print('Anzahl der vergangenen ms: ' + str(sum))\n",
    "print('Anzahl der Bilder: ' + str(imageCounter))\n",
    "print('Bildrate (Bilder pro Sekunde): ' + str(fps))\n",
    "print('Vergangene Zeit in Stunden: ' + str(pastHours))\n",
    "print('Optimale Zeit in Stunden für die Aufnahme von 100.000 Bildern: ' + str(pastHoursFor100000Images))"
   ]
  },
  {
   "cell_type": "code",
   "execution_count": null,
   "metadata": {},
   "outputs": [],
   "source": []
  }
 ],
 "metadata": {
  "kernelspec": {
   "display_name": "Python 3",
   "language": "python",
   "name": "python3"
  },
  "language_info": {
   "codemirror_mode": {
    "name": "ipython",
    "version": 3
   },
   "file_extension": ".py",
   "mimetype": "text/x-python",
   "name": "python",
   "nbconvert_exporter": "python",
   "pygments_lexer": "ipython3",
   "version": "3.6.4"
  },
  "toc": {
   "base_numbering": 1,
   "colors": {
    "hover_highlight": "#DAA520",
    "navigate_num": "#000000",
    "navigate_text": "#333333",
    "running_highlight": "#FF0000",
    "selected_highlight": "#FFD700",
    "sidebar_border": "#EEEEEE",
    "wrapper_background": "#FFFFFF"
   },
   "moveMenuLeft": true,
   "nav_menu": {
    "height": "65px",
    "width": "252px"
   },
   "navigate_menu": true,
   "number_sections": true,
   "sideBar": true,
   "skip_h1_title": false,
   "threshold": 4,
   "title_cell": "Table of Contents",
   "title_sidebar": "Contents",
   "toc_cell": false,
   "toc_position": {},
   "toc_section_display": "block",
   "toc_window_display": false,
   "widenNotebook": false
  },
  "varInspector": {
   "cols": {
    "lenName": 16,
    "lenType": 16,
    "lenVar": 40
   },
   "kernels_config": {
    "python": {
     "delete_cmd_postfix": "",
     "delete_cmd_prefix": "del ",
     "library": "var_list.py",
     "varRefreshCmd": "print(var_dic_list())"
    },
    "r": {
     "delete_cmd_postfix": ") ",
     "delete_cmd_prefix": "rm(",
     "library": "var_list.r",
     "varRefreshCmd": "cat(var_dic_list()) "
    }
   },
   "types_to_exclude": [
    "module",
    "function",
    "builtin_function_or_method",
    "instance",
    "_Feature"
   ],
   "window_display": false
  }
 },
 "nbformat": 4,
 "nbformat_minor": 2
}
