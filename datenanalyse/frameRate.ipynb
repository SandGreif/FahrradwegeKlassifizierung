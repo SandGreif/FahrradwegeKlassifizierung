{
 "cells": [
  {
   "cell_type": "markdown",
   "metadata": {},
   "source": [
    "Bilder pro Sekunde\n",
    " ======\n",
    " \n",
    " Mit diesem Python Notebook ist es möglich, dass zeitliche Verhalten einer Serienaufnahme der Android Anwendung \"Fahrradwege Monotring App\" zu untersuchen.  \n",
    " Ziel ist es zu berechnen wie viele Bilder in einer Serienaufnahme pro Sekunde aufgenommen wurden.  \n",
    " Des Weiteren ist es möglich die längste Zeitspanne zwischen  zwei Aufnahmen innerhalb einer Serienaufnahme zu ermitteln.\n",
    " "
   ]
  },
  {
   "cell_type": "markdown",
   "metadata": {},
   "source": [
    "Bilder pro Sekunde in einer Serienaufnahme\n",
    "\n",
    "Um die Anzahl der Bilder pro Sekunde zu berechnen ist es wichtig, dass diese kontinuierlich in kurzen Zeitabschnitten  \n",
    "aufgenommen wurden. In der Android habe ich einen Schwellenwert implementiert damit keine Aufnahmen gemacht werden,  \n",
    "wenn eine bestimmte Geschwindikeit nicht überschritten wurde. Dies ist relevant um keine Aufnahme zu machen falls  \n",
    "ein Fahrrad steht während die Anwendung läuft."
   ]
  },
  {
   "cell_type": "code",
   "execution_count": 2,
   "metadata": {},
   "outputs": [],
   "source": [
    "import pandas \n",
    "%matplotlib inline\n",
    "import matplotlib\n",
    "import matplotlib.pyplot as plt"
   ]
  },
  {
   "cell_type": "code",
   "execution_count": 3,
   "metadata": {},
   "outputs": [],
   "source": [
    "# Startindex der Features eines Fotos   \n",
    "startIndex = 0\n",
    "# Stop Index \n",
    "stopIndex = 12000\n",
    "# Öfnne die Datei features.csv. Der Path muss mit angegeben werden\n",
    "featuresDf = pandas.read_csv(filepath_or_buffer=\"E:/bachelor/daten/15/merkmaleRoh.csv\")"
   ]
  },
  {
   "cell_type": "code",
   "execution_count": 4,
   "metadata": {},
   "outputs": [
    {
     "data": {
      "text/html": [
       "<div>\n",
       "<style scoped>\n",
       "    .dataframe tbody tr th:only-of-type {\n",
       "        vertical-align: middle;\n",
       "    }\n",
       "\n",
       "    .dataframe tbody tr th {\n",
       "        vertical-align: top;\n",
       "    }\n",
       "\n",
       "    .dataframe thead th {\n",
       "        text-align: right;\n",
       "    }\n",
       "</style>\n",
       "<table border=\"1\" class=\"dataframe\">\n",
       "  <thead>\n",
       "    <tr style=\"text-align: right;\">\n",
       "      <th></th>\n",
       "      <th>Zeitstempel</th>\n",
       "      <th>Breitengrad</th>\n",
       "      <th>Laengengrad</th>\n",
       "      <th>Geschwindigkeit</th>\n",
       "      <th>Messwerte</th>\n",
       "      <th>StartZeitfenster</th>\n",
       "      <th>StartBewegungsdaten</th>\n",
       "      <th>StartBelichtung</th>\n",
       "      <th>Belichtungszeit</th>\n",
       "    </tr>\n",
       "  </thead>\n",
       "  <tbody>\n",
       "    <tr>\n",
       "      <th>count</th>\n",
       "      <td>1.484500e+04</td>\n",
       "      <td>14845.000000</td>\n",
       "      <td>14845.000000</td>\n",
       "      <td>14845.000000</td>\n",
       "      <td>14845.000000</td>\n",
       "      <td>1.484500e+04</td>\n",
       "      <td>1.484500e+04</td>\n",
       "      <td>1.484500e+04</td>\n",
       "      <td>1.484500e+04</td>\n",
       "    </tr>\n",
       "    <tr>\n",
       "      <th>mean</th>\n",
       "      <td>1.521126e+12</td>\n",
       "      <td>53.616914</td>\n",
       "      <td>10.188200</td>\n",
       "      <td>14.596723</td>\n",
       "      <td>19.438464</td>\n",
       "      <td>3.221171e+13</td>\n",
       "      <td>3.221165e+13</td>\n",
       "      <td>3.221174e+13</td>\n",
       "      <td>2.109333e+07</td>\n",
       "    </tr>\n",
       "    <tr>\n",
       "      <th>std</th>\n",
       "      <td>1.313290e+06</td>\n",
       "      <td>0.007137</td>\n",
       "      <td>0.027214</td>\n",
       "      <td>3.372945</td>\n",
       "      <td>0.563356</td>\n",
       "      <td>1.287856e+12</td>\n",
       "      <td>1.287857e+12</td>\n",
       "      <td>1.287854e+12</td>\n",
       "      <td>7.078451e+06</td>\n",
       "    </tr>\n",
       "    <tr>\n",
       "      <th>min</th>\n",
       "      <td>1.521124e+12</td>\n",
       "      <td>53.606853</td>\n",
       "      <td>10.137816</td>\n",
       "      <td>5.040000</td>\n",
       "      <td>6.000000</td>\n",
       "      <td>2.999506e+13</td>\n",
       "      <td>2.999499e+13</td>\n",
       "      <td>2.999509e+13</td>\n",
       "      <td>6.150027e+06</td>\n",
       "    </tr>\n",
       "    <tr>\n",
       "      <th>25%</th>\n",
       "      <td>1.521125e+12</td>\n",
       "      <td>53.612995</td>\n",
       "      <td>10.167364</td>\n",
       "      <td>12.348000</td>\n",
       "      <td>19.000000</td>\n",
       "      <td>3.108906e+13</td>\n",
       "      <td>3.108899e+13</td>\n",
       "      <td>3.108909e+13</td>\n",
       "      <td>2.000368e+07</td>\n",
       "    </tr>\n",
       "    <tr>\n",
       "      <th>50%</th>\n",
       "      <td>1.521126e+12</td>\n",
       "      <td>53.614210</td>\n",
       "      <td>10.186600</td>\n",
       "      <td>14.760000</td>\n",
       "      <td>19.000000</td>\n",
       "      <td>3.219892e+13</td>\n",
       "      <td>3.219886e+13</td>\n",
       "      <td>3.219895e+13</td>\n",
       "      <td>2.000368e+07</td>\n",
       "    </tr>\n",
       "    <tr>\n",
       "      <th>75%</th>\n",
       "      <td>1.521127e+12</td>\n",
       "      <td>53.620880</td>\n",
       "      <td>10.211833</td>\n",
       "      <td>17.136000</td>\n",
       "      <td>20.000000</td>\n",
       "      <td>3.336325e+13</td>\n",
       "      <td>3.336319e+13</td>\n",
       "      <td>3.336328e+13</td>\n",
       "      <td>2.999632e+07</td>\n",
       "    </tr>\n",
       "    <tr>\n",
       "      <th>max</th>\n",
       "      <td>1.521128e+12</td>\n",
       "      <td>53.632652</td>\n",
       "      <td>10.229659</td>\n",
       "      <td>24.768002</td>\n",
       "      <td>22.000000</td>\n",
       "      <td>3.445658e+13</td>\n",
       "      <td>3.445653e+13</td>\n",
       "      <td>3.445660e+13</td>\n",
       "      <td>3.287369e+07</td>\n",
       "    </tr>\n",
       "  </tbody>\n",
       "</table>\n",
       "</div>"
      ],
      "text/plain": [
       "        Zeitstempel   Breitengrad   Laengengrad  Geschwindigkeit  \\\n",
       "count  1.484500e+04  14845.000000  14845.000000     14845.000000   \n",
       "mean   1.521126e+12     53.616914     10.188200        14.596723   \n",
       "std    1.313290e+06      0.007137      0.027214         3.372945   \n",
       "min    1.521124e+12     53.606853     10.137816         5.040000   \n",
       "25%    1.521125e+12     53.612995     10.167364        12.348000   \n",
       "50%    1.521126e+12     53.614210     10.186600        14.760000   \n",
       "75%    1.521127e+12     53.620880     10.211833        17.136000   \n",
       "max    1.521128e+12     53.632652     10.229659        24.768002   \n",
       "\n",
       "          Messwerte  StartZeitfenster  StartBewegungsdaten  StartBelichtung  \\\n",
       "count  14845.000000      1.484500e+04         1.484500e+04     1.484500e+04   \n",
       "mean      19.438464      3.221171e+13         3.221165e+13     3.221174e+13   \n",
       "std        0.563356      1.287856e+12         1.287857e+12     1.287854e+12   \n",
       "min        6.000000      2.999506e+13         2.999499e+13     2.999509e+13   \n",
       "25%       19.000000      3.108906e+13         3.108899e+13     3.108909e+13   \n",
       "50%       19.000000      3.219892e+13         3.219886e+13     3.219895e+13   \n",
       "75%       20.000000      3.336325e+13         3.336319e+13     3.336328e+13   \n",
       "max       22.000000      3.445658e+13         3.445653e+13     3.445660e+13   \n",
       "\n",
       "       Belichtungszeit  \n",
       "count     1.484500e+04  \n",
       "mean      2.109333e+07  \n",
       "std       7.078451e+06  \n",
       "min       6.150027e+06  \n",
       "25%       2.000368e+07  \n",
       "50%       2.000368e+07  \n",
       "75%       2.999632e+07  \n",
       "max       3.287369e+07  "
      ]
     },
     "execution_count": 4,
     "metadata": {},
     "output_type": "execute_result"
    }
   ],
   "source": [
    "featuresDf.describe()"
   ]
  },
  {
   "cell_type": "code",
   "execution_count": 5,
   "metadata": {},
   "outputs": [
    {
     "data": {
      "text/plain": [
       "RangeIndex(start=0, stop=14845, step=1)"
      ]
     },
     "execution_count": 5,
     "metadata": {},
     "output_type": "execute_result"
    }
   ],
   "source": [
    "# Andzahl der Einträge\n",
    "featuresDf.index"
   ]
  },
  {
   "cell_type": "code",
   "execution_count": 6,
   "metadata": {},
   "outputs": [
    {
     "data": {
      "text/plain": [
       "Index(['Zeitstempel', 'Breitengrad', 'Laengengrad', 'Geschwindigkeit',\n",
       "       'AccelerometerX', 'AccelerometerY', 'AccelerometerZ', 'Azimuth', 'Nick',\n",
       "       'Roll', 'SensorZeitstempel', 'Messwerte', 'StartZeitfenster',\n",
       "       'StartBewegungsdaten', 'StartBelichtung', 'Belichtungszeit'],\n",
       "      dtype='object')"
      ]
     },
     "execution_count": 6,
     "metadata": {},
     "output_type": "execute_result"
    }
   ],
   "source": [
    "# Namen der Spalten \n",
    "featuresDf.columns"
   ]
  },
  {
   "cell_type": "code",
   "execution_count": 7,
   "metadata": {},
   "outputs": [],
   "source": [
    "# Für den Plot der Bilder pro Sekunde \n",
    "imagesPerSecondList = []\n",
    "imagesCaptured = []\n",
    "tempTimeSum = 0\n",
    "tempImages = 0\n",
    "tempMs = featuresDf.iat[startIndex,0]"
   ]
  },
  {
   "cell_type": "code",
   "execution_count": 9,
   "metadata": {
    "scrolled": true
   },
   "outputs": [],
   "source": [
    "i = startIndex\n",
    "firstMs = featuresDf.iat[i,0]\n",
    "lastValueMs = firstMs\n",
    "valueMs = 0\n",
    "# Zeitliche Differenz zwischen zwei Aufnahmen\n",
    "differenceValueTemp = 0\n",
    "# Max Differenz, welche unter der variablen thresholdMax liegt \n",
    "maxDifference = 0\n",
    "# Index mit der maxDifference\n",
    "maxDifferenceIndex = 0\n",
    "# Das erste Bild wird nicht mit einbezogen in die Berechnung\n",
    "imageCounter = -1\n",
    "sum = 0\n",
    "while i <= stopIndex:\n",
    "    valueMs = featuresDf.iat[i,0]\n",
    "    differenceValueTemp = valueMs - lastValueMs\n",
    "    if differenceValueTemp > maxDifference:\n",
    "        maxDifference = differenceValueTemp\n",
    "        maxDifferenceIndex = i\n",
    "    sum =+ (featuresDf.iat[i,0] - firstMs)\n",
    "    tempTimeSum =+ (featuresDf.iat[i,0] - tempMs)\n",
    "    i =  i + 1\n",
    "    imageCounter = imageCounter + 1\n",
    "    if (tempImages % 100 == 0) & (imageCounter >= 100):   # Bei 100 Bildern wird die Geschwindikeit in einer Liste gespeichert\n",
    "        imagesPerSecondList.append(tempImages/(tempTimeSum/1000)) # Anzahl der aufgenommenen Bilder durch vergangene Sekunden \n",
    "        imagesCaptured.append(imageCounter)\n",
    "        tempTimeSum = 0\n",
    "        tempImages = 0\n",
    "        tempMs = featuresDf.iat[i,0]\n",
    "    tempImages = tempImages + 1\n",
    "    lastValueMs = valueMs"
   ]
  },
  {
   "cell_type": "code",
   "execution_count": 10,
   "metadata": {
    "scrolled": true
   },
   "outputs": [
    {
     "data": {
      "image/png": "[encoded data removed]",
      "text/plain": [
       "<Figure size 1440x360 with 1 Axes>"
      ]
     },
     "metadata": {},
     "output_type": "display_data"
    },
    {
     "name": "stdout",
     "output_type": "stream",
     "text": [
      "Maximale Bilder pro Sekunde: 4.17676050455\n"
     ]
    }
   ],
   "source": [
    "# Für 100 Bilder wird je ein Datenpunkt geplotet mit der Aufnahmegeschwindigkeit \n",
    "fig, ax = plt.subplots(figsize=(20, 5))\n",
    "ax.bar(imagesCaptured, imagesPerSecondList,100) #  tick_label=imagesCaptured / für schönere plots, wenn Anzahl der Bilder klein\n",
    "ax.set(xlabel='Aufgenommene Bilder', ylabel='Bilder pro Sekunde',\n",
    "       title='Aufnahmegeschwindigkeit')\n",
    "ax.grid()\n",
    "fig.savefig(\"bilderProSekunde.png\")\n",
    "plt.show()\n",
    "print('Maximale Bilder pro Sekunde: ' + str(max(imagesPerSecondList)))"
   ]
  },
  {
   "cell_type": "code",
   "execution_count": 11,
   "metadata": {},
   "outputs": [],
   "source": [
    "# Elemente aus Listen entfernen\n",
    "imagesPerSecondList.clear()\n",
    "imagesCaptured.clear()"
   ]
  },
  {
   "cell_type": "code",
   "execution_count": 12,
   "metadata": {},
   "outputs": [],
   "source": [
    "meanMs = sum/imageCounter\n",
    "imagesPerSecond = imageCounter/(sum/1000)"
   ]
  },
  {
   "cell_type": "code",
   "execution_count": 13,
   "metadata": {},
   "outputs": [
    {
     "data": {
      "text/plain": [
       "3.2689771615634755"
      ]
     },
     "execution_count": 13,
     "metadata": {},
     "output_type": "execute_result"
    }
   ],
   "source": [
    "imagesPerSecond"
   ]
  },
  {
   "cell_type": "code",
   "execution_count": 14,
   "metadata": {},
   "outputs": [
    {
     "name": "stdout",
     "output_type": "stream",
     "text": [
      "Anzahl der Bilder: 12000\n",
      "Mittelwert: 305.906083333ms pro Aufnahme\n",
      "Bilder pro Sekunde: 3.26897716156\n",
      "Maximale Zeitdifferenz zwischen zwei Aufnahmen: 118652ms (Bild Nr.: 6301)\n"
     ]
    }
   ],
   "source": [
    "# Zeitliche nformationen über die gesamten Bilder\n",
    "print(\"Anzahl der Bilder: \" + str(imageCounter) + \"\\n\" +\n",
    "    \"Mittelwert: \" + str(meanMs) + \"ms pro Aufnahme\" + \"\\n\" +\n",
    "    \"Bilder pro Sekunde: \" + str(imagesPerSecond) + \"\\n\" +\n",
    "     \"Maximale Zeitdifferenz zwischen zwei Aufnahmen: \" + str(maxDifference) +  \"ms\" + \n",
    "     \" (Bild Nr.: \" + str(maxDifferenceIndex) + \")\" )"
   ]
  },
  {
   "cell_type": "code",
   "execution_count": null,
   "metadata": {},
   "outputs": [],
   "source": []
  }
 ],
 "metadata": {
  "kernelspec": {
   "display_name": "Python 3",
   "language": "python",
   "name": "python3"
  },
  "language_info": {
   "codemirror_mode": {
    "name": "ipython",
    "version": 3
   },
   "file_extension": ".py",
   "mimetype": "text/x-python",
   "name": "python",
   "nbconvert_exporter": "python",
   "pygments_lexer": "ipython3",
   "version": "3.6.4"
  },
  "toc": {
   "colors": {
    "hover_highlight": "#DAA520",
    "navigate_num": "#000000",
    "navigate_text": "#333333",
    "running_highlight": "#FF0000",
    "selected_highlight": "#FFD700",
    "sidebar_border": "#EEEEEE",
    "wrapper_background": "#FFFFFF"
   },
   "moveMenuLeft": true,
   "nav_menu": {
    "height": "65px",
    "width": "252px"
   },
   "navigate_menu": true,
   "number_sections": true,
   "sideBar": true,
   "threshold": 4,
   "toc_cell": false,
   "toc_section_display": "block",
   "toc_window_display": false,
   "widenNotebook": false
  }
 },
 "nbformat": 4,
 "nbformat_minor": 2
}
