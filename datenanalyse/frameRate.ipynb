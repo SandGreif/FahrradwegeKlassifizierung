{
 "cells": [
  {
   "cell_type": "markdown",
   "metadata": {},
   "source": [
    "Bilder pro Sekunde\n",
    " ======\n",
    " \n",
    " Mit diesem Python Notebook ist es möglich, dass zeitliche Verhalten einer Serienaufnahme der Android Anwendung \"Fahrradwege Monotring App\" zu untersuchen.  \n",
    " Ziel ist es zu berechnen wie viele Bilder in einer Serienaufnahme pro Sekunde aufgenommen wurden.  \n",
    " Des Weiteren ist es möglich die längste Zeitspanne zwischen  zwei Aufnahmen innerhalb einer Serienaufnahme zu ermitteln.\n",
    " "
   ]
  },
  {
   "cell_type": "markdown",
   "metadata": {},
   "source": [
    "Bilder pro Sekunde in einer Serienaufnahme\n",
    "\n",
    "Um die Anzahl der Bilder pro Sekunde zu berechnen ist es wichtig, dass diese kontinuierlich in kurzen Zeitabschnitten  \n",
    "aufgenommen wurden. In der Android habe ich einen Schwellenwert implementiert damit keine Aufnahmen gemacht werden,  \n",
    "wenn eine bestimmte Geschwindikeit nicht überschritten wurde. Dies ist relevant um keine Aufnahme zu machen falls  \n",
    "ein Fahrrad steht während die Anwendung läuft."
   ]
  },
  {
   "cell_type": "code",
   "execution_count": 1,
   "metadata": {
    "ExecuteTime": {
     "end_time": "2018-05-07T14:40:31.782222Z",
     "start_time": "2018-05-07T14:40:31.063882Z"
    }
   },
   "outputs": [],
   "source": [
    "import pandas \n",
    "import math\n",
    "%matplotlib inline\n",
    "import matplotlib\n",
    "import matplotlib.pyplot as plt"
   ]
  },
  {
   "cell_type": "code",
   "execution_count": 3,
   "metadata": {
    "ExecuteTime": {
     "end_time": "2018-05-07T14:44:52.655514Z",
     "start_time": "2018-05-07T14:44:50.886228Z"
    }
   },
   "outputs": [],
   "source": [
    "# Startindex der Features eines Fotos   \n",
    "startIndex = 0\n",
    "# Stop Index \n",
    "stopIndex = 100000\n",
    "# Öfnne die Datei features.csv. Der Path muss mit angegeben werden\n",
    "featuresDf = pandas.read_csv(filepath_or_buffer=\"../daten/merkmale_datensatz_40/merkmaleRoh.csv\")"
   ]
  },
  {
   "cell_type": "code",
   "execution_count": 3,
   "metadata": {
    "ExecuteTime": {
     "end_time": "2018-05-07T14:44:52.806423Z",
     "start_time": "2018-05-07T14:44:52.694593Z"
    }
   },
   "outputs": [
    {
     "data": {
      "text/html": [
       "<div>\n",
       "<style scoped>\n",
       "    .dataframe tbody tr th:only-of-type {\n",
       "        vertical-align: middle;\n",
       "    }\n",
       "\n",
       "    .dataframe tbody tr th {\n",
       "        vertical-align: top;\n",
       "    }\n",
       "\n",
       "    .dataframe thead th {\n",
       "        text-align: right;\n",
       "    }\n",
       "</style>\n",
       "<table border=\"1\" class=\"dataframe\">\n",
       "  <thead>\n",
       "    <tr style=\"text-align: right;\">\n",
       "      <th></th>\n",
       "      <th>Zeitstempel in Unixzeit</th>\n",
       "      <th>Breitengrad</th>\n",
       "      <th>Laengengrad</th>\n",
       "      <th>Geschwindigkeit in km/h</th>\n",
       "      <th>Anzahl der Messwerte</th>\n",
       "      <th>Start des Zeitfensters in ns seit Start der JVM</th>\n",
       "      <th>Zeitstempel Messwertdaten anfordern in Unixzeit</th>\n",
       "      <th>Start der Messwerterfassung in ns seit Start der JVM</th>\n",
       "      <th>Erster Zeitstempel der Teilliste in ns seit Start der JVM</th>\n",
       "      <th>Start der Belichtung in ns seit Start der JVM</th>\n",
       "      <th>Belichtungszeit in ns</th>\n",
       "      <th>Letzter Zeitstempel der Messwerterfassung in ns seit Start der JVM</th>\n",
       "      <th>Speicherzeitpunkt der Merkmale in Unixzeit</th>\n",
       "    </tr>\n",
       "  </thead>\n",
       "  <tbody>\n",
       "    <tr>\n",
       "      <th>count</th>\n",
       "      <td>2.182900e+04</td>\n",
       "      <td>21829.000000</td>\n",
       "      <td>21829.000000</td>\n",
       "      <td>21829.000000</td>\n",
       "      <td>21829.000000</td>\n",
       "      <td>2.182900e+04</td>\n",
       "      <td>2.182900e+04</td>\n",
       "      <td>2.182900e+04</td>\n",
       "      <td>2.182900e+04</td>\n",
       "      <td>2.182900e+04</td>\n",
       "      <td>2.182900e+04</td>\n",
       "      <td>2.182900e+04</td>\n",
       "      <td>2.182900e+04</td>\n",
       "    </tr>\n",
       "    <tr>\n",
       "      <th>mean</th>\n",
       "      <td>1.527349e+12</td>\n",
       "      <td>53.652962</td>\n",
       "      <td>10.199540</td>\n",
       "      <td>15.239831</td>\n",
       "      <td>31.050804</td>\n",
       "      <td>1.119847e+13</td>\n",
       "      <td>1.527349e+12</td>\n",
       "      <td>1.117817e+13</td>\n",
       "      <td>1.119784e+13</td>\n",
       "      <td>1.119859e+13</td>\n",
       "      <td>1.005287e+07</td>\n",
       "      <td>1.119874e+13</td>\n",
       "      <td>1.527349e+12</td>\n",
       "    </tr>\n",
       "    <tr>\n",
       "      <th>std</th>\n",
       "      <td>2.911810e+06</td>\n",
       "      <td>0.022920</td>\n",
       "      <td>0.030768</td>\n",
       "      <td>3.750156</td>\n",
       "      <td>10.818663</td>\n",
       "      <td>2.901933e+12</td>\n",
       "      <td>2.911809e+06</td>\n",
       "      <td>2.902658e+12</td>\n",
       "      <td>2.901949e+12</td>\n",
       "      <td>2.901932e+12</td>\n",
       "      <td>1.036197e+07</td>\n",
       "      <td>2.901934e+12</td>\n",
       "      <td>2.911809e+06</td>\n",
       "    </tr>\n",
       "    <tr>\n",
       "      <th>min</th>\n",
       "      <td>1.527344e+12</td>\n",
       "      <td>53.613163</td>\n",
       "      <td>10.137853</td>\n",
       "      <td>5.004000</td>\n",
       "      <td>16.000000</td>\n",
       "      <td>6.094821e+12</td>\n",
       "      <td>1.527344e+12</td>\n",
       "      <td>6.094619e+12</td>\n",
       "      <td>6.094619e+12</td>\n",
       "      <td>6.095142e+12</td>\n",
       "      <td>7.905860e+05</td>\n",
       "      <td>6.095505e+12</td>\n",
       "      <td>1.527344e+12</td>\n",
       "    </tr>\n",
       "    <tr>\n",
       "      <th>25%</th>\n",
       "      <td>1.527347e+12</td>\n",
       "      <td>53.633210</td>\n",
       "      <td>10.168057</td>\n",
       "      <td>12.887999</td>\n",
       "      <td>24.000000</td>\n",
       "      <td>8.689469e+12</td>\n",
       "      <td>1.527347e+12</td>\n",
       "      <td>8.680375e+12</td>\n",
       "      <td>8.688955e+12</td>\n",
       "      <td>8.689580e+12</td>\n",
       "      <td>2.224673e+06</td>\n",
       "      <td>8.689711e+12</td>\n",
       "      <td>1.527347e+12</td>\n",
       "    </tr>\n",
       "    <tr>\n",
       "      <th>50%</th>\n",
       "      <td>1.527349e+12</td>\n",
       "      <td>53.654457</td>\n",
       "      <td>10.207479</td>\n",
       "      <td>15.696000</td>\n",
       "      <td>28.000000</td>\n",
       "      <td>1.115951e+13</td>\n",
       "      <td>1.527349e+12</td>\n",
       "      <td>1.112681e+13</td>\n",
       "      <td>1.115901e+13</td>\n",
       "      <td>1.115963e+13</td>\n",
       "      <td>3.787461e+06</td>\n",
       "      <td>1.115978e+13</td>\n",
       "      <td>1.527349e+12</td>\n",
       "    </tr>\n",
       "    <tr>\n",
       "      <th>75%</th>\n",
       "      <td>1.527352e+12</td>\n",
       "      <td>53.675587</td>\n",
       "      <td>10.227845</td>\n",
       "      <td>17.856000</td>\n",
       "      <td>34.000000</td>\n",
       "      <td>1.397875e+13</td>\n",
       "      <td>1.527352e+12</td>\n",
       "      <td>1.394888e+13</td>\n",
       "      <td>1.397737e+13</td>\n",
       "      <td>1.397903e+13</td>\n",
       "      <td>2.000368e+07</td>\n",
       "      <td>1.397932e+13</td>\n",
       "      <td>1.527352e+12</td>\n",
       "    </tr>\n",
       "    <tr>\n",
       "      <th>max</th>\n",
       "      <td>1.527354e+12</td>\n",
       "      <td>53.687490</td>\n",
       "      <td>10.242206</td>\n",
       "      <td>25.775997</td>\n",
       "      <td>90.000000</td>\n",
       "      <td>1.592728e+13</td>\n",
       "      <td>1.527354e+12</td>\n",
       "      <td>1.591365e+13</td>\n",
       "      <td>1.592662e+13</td>\n",
       "      <td>1.592758e+13</td>\n",
       "      <td>2.999632e+07</td>\n",
       "      <td>1.592791e+13</td>\n",
       "      <td>1.527354e+12</td>\n",
       "    </tr>\n",
       "  </tbody>\n",
       "</table>\n",
       "</div>"
      ],
      "text/plain": [
       "       Zeitstempel in Unixzeit   Breitengrad   Laengengrad  \\\n",
       "count             2.182900e+04  21829.000000  21829.000000   \n",
       "mean              1.527349e+12     53.652962     10.199540   \n",
       "std               2.911810e+06      0.022920      0.030768   \n",
       "min               1.527344e+12     53.613163     10.137853   \n",
       "25%               1.527347e+12     53.633210     10.168057   \n",
       "50%               1.527349e+12     53.654457     10.207479   \n",
       "75%               1.527352e+12     53.675587     10.227845   \n",
       "max               1.527354e+12     53.687490     10.242206   \n",
       "\n",
       "       Geschwindigkeit in km/h  Anzahl der Messwerte  \\\n",
       "count             21829.000000          21829.000000   \n",
       "mean                 15.239831             31.050804   \n",
       "std                   3.750156             10.818663   \n",
       "min                   5.004000             16.000000   \n",
       "25%                  12.887999             24.000000   \n",
       "50%                  15.696000             28.000000   \n",
       "75%                  17.856000             34.000000   \n",
       "max                  25.775997             90.000000   \n",
       "\n",
       "       Start des Zeitfensters in ns seit Start der JVM  \\\n",
       "count                                     2.182900e+04   \n",
       "mean                                      1.119847e+13   \n",
       "std                                       2.901933e+12   \n",
       "min                                       6.094821e+12   \n",
       "25%                                       8.689469e+12   \n",
       "50%                                       1.115951e+13   \n",
       "75%                                       1.397875e+13   \n",
       "max                                       1.592728e+13   \n",
       "\n",
       "       Zeitstempel Messwertdaten anfordern in Unixzeit  \\\n",
       "count                                     2.182900e+04   \n",
       "mean                                      1.527349e+12   \n",
       "std                                       2.911809e+06   \n",
       "min                                       1.527344e+12   \n",
       "25%                                       1.527347e+12   \n",
       "50%                                       1.527349e+12   \n",
       "75%                                       1.527352e+12   \n",
       "max                                       1.527354e+12   \n",
       "\n",
       "       Start der Messwerterfassung in ns seit Start der JVM  \\\n",
       "count                                       2.182900e+04      \n",
       "mean                                        1.117817e+13      \n",
       "std                                         2.902658e+12      \n",
       "min                                         6.094619e+12      \n",
       "25%                                         8.680375e+12      \n",
       "50%                                         1.112681e+13      \n",
       "75%                                         1.394888e+13      \n",
       "max                                         1.591365e+13      \n",
       "\n",
       "       Erster Zeitstempel der Teilliste in ns seit Start der JVM  \\\n",
       "count                                       2.182900e+04           \n",
       "mean                                        1.119784e+13           \n",
       "std                                         2.901949e+12           \n",
       "min                                         6.094619e+12           \n",
       "25%                                         8.688955e+12           \n",
       "50%                                         1.115901e+13           \n",
       "75%                                         1.397737e+13           \n",
       "max                                         1.592662e+13           \n",
       "\n",
       "       Start der Belichtung in ns seit Start der JVM  Belichtungszeit in ns  \\\n",
       "count                                   2.182900e+04           2.182900e+04   \n",
       "mean                                    1.119859e+13           1.005287e+07   \n",
       "std                                     2.901932e+12           1.036197e+07   \n",
       "min                                     6.095142e+12           7.905860e+05   \n",
       "25%                                     8.689580e+12           2.224673e+06   \n",
       "50%                                     1.115963e+13           3.787461e+06   \n",
       "75%                                     1.397903e+13           2.000368e+07   \n",
       "max                                     1.592758e+13           2.999632e+07   \n",
       "\n",
       "       Letzter Zeitstempel der Messwerterfassung in ns seit Start der JVM  \\\n",
       "count                                       2.182900e+04                    \n",
       "mean                                        1.119874e+13                    \n",
       "std                                         2.901934e+12                    \n",
       "min                                         6.095505e+12                    \n",
       "25%                                         8.689711e+12                    \n",
       "50%                                         1.115978e+13                    \n",
       "75%                                         1.397932e+13                    \n",
       "max                                         1.592791e+13                    \n",
       "\n",
       "       Speicherzeitpunkt der Merkmale in Unixzeit  \n",
       "count                                2.182900e+04  \n",
       "mean                                 1.527349e+12  \n",
       "std                                  2.911809e+06  \n",
       "min                                  1.527344e+12  \n",
       "25%                                  1.527347e+12  \n",
       "50%                                  1.527349e+12  \n",
       "75%                                  1.527352e+12  \n",
       "max                                  1.527354e+12  "
      ]
     },
     "execution_count": 3,
     "metadata": {},
     "output_type": "execute_result"
    }
   ],
   "source": [
    "featuresDf.describe()"
   ]
  },
  {
   "cell_type": "code",
   "execution_count": 4,
   "metadata": {
    "ExecuteTime": {
     "end_time": "2018-05-07T14:44:52.917088Z",
     "start_time": "2018-05-07T14:44:52.913087Z"
    }
   },
   "outputs": [
    {
     "data": {
      "text/plain": [
       "RangeIndex(start=0, stop=21829, step=1)"
      ]
     },
     "execution_count": 4,
     "metadata": {},
     "output_type": "execute_result"
    }
   ],
   "source": [
    "# Andzahl der Einträge\n",
    "featuresDf.index"
   ]
  },
  {
   "cell_type": "code",
   "execution_count": 5,
   "metadata": {
    "ExecuteTime": {
     "end_time": "2018-05-07T14:44:53.597025Z",
     "start_time": "2018-05-07T14:44:53.589026Z"
    }
   },
   "outputs": [
    {
     "data": {
      "text/plain": [
       "Index(['Zeitstempel in Unixzeit', 'Breitengrad', 'Laengengrad',\n",
       "       'Geschwindigkeit in km/h', 'Z-Achse Beschleunigungswerte in m/s^2',\n",
       "       'Y-Achse Beschleunigungswerte in m/s^2', 'Nick Messwerte in rad',\n",
       "       'Zeitstempel der Messwerte in ns', 'Anzahl der Messwerte',\n",
       "       'Start des Zeitfensters in ns seit Start der JVM',\n",
       "       'Zeitstempel Messwertdaten anfordern in Unixzeit',\n",
       "       'Start der Messwerterfassung in ns seit Start der JVM',\n",
       "       'Erster Zeitstempel der Teilliste in ns seit Start der JVM',\n",
       "       'Start der Belichtung in ns seit Start der JVM',\n",
       "       'Belichtungszeit in ns',\n",
       "       'Letzter Zeitstempel der Messwerterfassung in ns seit Start der JVM',\n",
       "       'Speicherzeitpunkt der Merkmale in Unixzeit'],\n",
       "      dtype='object')"
      ]
     },
     "execution_count": 5,
     "metadata": {},
     "output_type": "execute_result"
    }
   ],
   "source": [
    "# Namen der Spalten \n",
    "featuresDf.columns"
   ]
  },
  {
   "cell_type": "code",
   "execution_count": 6,
   "metadata": {
    "ExecuteTime": {
     "end_time": "2018-05-07T14:44:55.632438Z",
     "start_time": "2018-05-07T14:44:55.628438Z"
    }
   },
   "outputs": [],
   "source": [
    "# Für den Plot der Bilder pro Sekunde \n",
    "imagesPerSecondList = []\n",
    "imagesCaptured = []\n",
    "tempTimeSum = 0\n",
    "tempImages = 0\n",
    "tempMs = featuresDf.iat[startIndex,0]"
   ]
  },
  {
   "cell_type": "code",
   "execution_count": 7,
   "metadata": {
    "ExecuteTime": {
     "end_time": "2018-05-07T14:44:58.188587Z",
     "start_time": "2018-05-07T14:44:56.000019Z"
    },
    "scrolled": true
   },
   "outputs": [
    {
     "ename": "IndexError",
     "evalue": "index 21829 is out of bounds for axis 0 with size 21829",
     "output_type": "error",
     "traceback": [
      "\u001b[1;31m---------------------------------------------------------------------------\u001b[0m",
      "\u001b[1;31mIndexError\u001b[0m                                Traceback (most recent call last)",
      "\u001b[1;32m<ipython-input-7-39fa2ff670e3>\u001b[0m in \u001b[0;36m<module>\u001b[1;34m()\u001b[0m\n\u001b[0;32m     13\u001b[0m \u001b[0msum\u001b[0m \u001b[1;33m=\u001b[0m \u001b[1;36m0\u001b[0m\u001b[1;33m\u001b[0m\u001b[0m\n\u001b[0;32m     14\u001b[0m \u001b[1;32mwhile\u001b[0m \u001b[0mi\u001b[0m \u001b[1;33m<=\u001b[0m \u001b[0mstopIndex\u001b[0m\u001b[1;33m:\u001b[0m\u001b[1;33m\u001b[0m\u001b[0m\n\u001b[1;32m---> 15\u001b[1;33m     \u001b[0mvalueMs\u001b[0m \u001b[1;33m=\u001b[0m \u001b[0mfeaturesDf\u001b[0m\u001b[1;33m.\u001b[0m\u001b[0miat\u001b[0m\u001b[1;33m[\u001b[0m\u001b[0mi\u001b[0m\u001b[1;33m,\u001b[0m\u001b[1;36m0\u001b[0m\u001b[1;33m]\u001b[0m\u001b[1;33m\u001b[0m\u001b[0m\n\u001b[0m\u001b[0;32m     16\u001b[0m     \u001b[0mdifferenceValueTemp\u001b[0m \u001b[1;33m=\u001b[0m \u001b[0mvalueMs\u001b[0m \u001b[1;33m-\u001b[0m \u001b[0mlastValueMs\u001b[0m\u001b[1;33m\u001b[0m\u001b[0m\n\u001b[0;32m     17\u001b[0m     \u001b[1;32mif\u001b[0m \u001b[0mdifferenceValueTemp\u001b[0m \u001b[1;33m>\u001b[0m \u001b[0mmaxDifference\u001b[0m\u001b[1;33m:\u001b[0m\u001b[1;33m\u001b[0m\u001b[0m\n",
      "\u001b[1;32m~\\AppData\\Local\\conda\\conda\\envs\\bachelor\\lib\\site-packages\\pandas\\core\\indexing.py\u001b[0m in \u001b[0;36m__getitem__\u001b[1;34m(self, key)\u001b[0m\n\u001b[0;32m   1867\u001b[0m \u001b[1;33m\u001b[0m\u001b[0m\n\u001b[0;32m   1868\u001b[0m         \u001b[0mkey\u001b[0m \u001b[1;33m=\u001b[0m \u001b[0mself\u001b[0m\u001b[1;33m.\u001b[0m\u001b[0m_convert_key\u001b[0m\u001b[1;33m(\u001b[0m\u001b[0mkey\u001b[0m\u001b[1;33m)\u001b[0m\u001b[1;33m\u001b[0m\u001b[0m\n\u001b[1;32m-> 1869\u001b[1;33m         \u001b[1;32mreturn\u001b[0m \u001b[0mself\u001b[0m\u001b[1;33m.\u001b[0m\u001b[0mobj\u001b[0m\u001b[1;33m.\u001b[0m\u001b[0m_get_value\u001b[0m\u001b[1;33m(\u001b[0m\u001b[1;33m*\u001b[0m\u001b[0mkey\u001b[0m\u001b[1;33m,\u001b[0m \u001b[0mtakeable\u001b[0m\u001b[1;33m=\u001b[0m\u001b[0mself\u001b[0m\u001b[1;33m.\u001b[0m\u001b[0m_takeable\u001b[0m\u001b[1;33m)\u001b[0m\u001b[1;33m\u001b[0m\u001b[0m\n\u001b[0m\u001b[0;32m   1870\u001b[0m \u001b[1;33m\u001b[0m\u001b[0m\n\u001b[0;32m   1871\u001b[0m     \u001b[1;32mdef\u001b[0m \u001b[0m__setitem__\u001b[0m\u001b[1;33m(\u001b[0m\u001b[0mself\u001b[0m\u001b[1;33m,\u001b[0m \u001b[0mkey\u001b[0m\u001b[1;33m,\u001b[0m \u001b[0mvalue\u001b[0m\u001b[1;33m)\u001b[0m\u001b[1;33m:\u001b[0m\u001b[1;33m\u001b[0m\u001b[0m\n",
      "\u001b[1;32m~\\AppData\\Local\\conda\\conda\\envs\\bachelor\\lib\\site-packages\\pandas\\core\\frame.py\u001b[0m in \u001b[0;36m_get_value\u001b[1;34m(self, index, col, takeable)\u001b[0m\n\u001b[0;32m   1977\u001b[0m         \u001b[1;32mif\u001b[0m \u001b[0mtakeable\u001b[0m\u001b[1;33m:\u001b[0m\u001b[1;33m\u001b[0m\u001b[0m\n\u001b[0;32m   1978\u001b[0m             \u001b[0mseries\u001b[0m \u001b[1;33m=\u001b[0m \u001b[0mself\u001b[0m\u001b[1;33m.\u001b[0m\u001b[0m_iget_item_cache\u001b[0m\u001b[1;33m(\u001b[0m\u001b[0mcol\u001b[0m\u001b[1;33m)\u001b[0m\u001b[1;33m\u001b[0m\u001b[0m\n\u001b[1;32m-> 1979\u001b[1;33m             \u001b[1;32mreturn\u001b[0m \u001b[0m_maybe_box_datetimelike\u001b[0m\u001b[1;33m(\u001b[0m\u001b[0mseries\u001b[0m\u001b[1;33m.\u001b[0m\u001b[0m_values\u001b[0m\u001b[1;33m[\u001b[0m\u001b[0mindex\u001b[0m\u001b[1;33m]\u001b[0m\u001b[1;33m)\u001b[0m\u001b[1;33m\u001b[0m\u001b[0m\n\u001b[0m\u001b[0;32m   1980\u001b[0m \u001b[1;33m\u001b[0m\u001b[0m\n\u001b[0;32m   1981\u001b[0m         \u001b[0mseries\u001b[0m \u001b[1;33m=\u001b[0m \u001b[0mself\u001b[0m\u001b[1;33m.\u001b[0m\u001b[0m_get_item_cache\u001b[0m\u001b[1;33m(\u001b[0m\u001b[0mcol\u001b[0m\u001b[1;33m)\u001b[0m\u001b[1;33m\u001b[0m\u001b[0m\n",
      "\u001b[1;31mIndexError\u001b[0m: index 21829 is out of bounds for axis 0 with size 21829"
     ]
    }
   ],
   "source": [
    "i = startIndex\n",
    "firstMs = featuresDf.iat[i,0]\n",
    "lastValueMs = firstMs\n",
    "valueMs = 0\n",
    "# Zeitliche Differenz zwischen zwei Aufnahmen\n",
    "differenceValueTemp = 0\n",
    "# Max Differenz, welche unter der variablen thresholdMax liegt \n",
    "maxDifference = 0\n",
    "# Index mit der maxDifference\n",
    "maxDifferenceIndex = 0\n",
    "# Das erste Bild wird nicht mit einbezogen in die Berechnung\n",
    "imageCounter = -1\n",
    "sum = 0\n",
    "while i <= stopIndex:\n",
    "    valueMs = featuresDf.iat[i,0]\n",
    "    differenceValueTemp = valueMs - lastValueMs\n",
    "    if differenceValueTemp > maxDifference:\n",
    "        maxDifference = differenceValueTemp\n",
    "        maxDifferenceIndex = i\n",
    "    sum =+ (featuresDf.iat[i,0] - firstMs)\n",
    "    tempTimeSum =+ (featuresDf.iat[i,0] - tempMs)\n",
    "    i =  i + 1\n",
    "    imageCounter = imageCounter + 1\n",
    "    if (tempImages % 100 == 0) & (imageCounter >= 100):   # Bei 100 Bildern wird die Geschwindikeit in einer Liste gespeichert\n",
    "        imagesPerSecondList.append(tempImages/(tempTimeSum/1000)) # Anzahl der aufgenommenen Bilder durch vergangene Sekunden \n",
    "        imagesCaptured.append(imageCounter)\n",
    "        tempTimeSum = 0\n",
    "        tempImages = 0\n",
    "        tempMs = featuresDf.iat[i,0]\n",
    "    tempImages = tempImages + 1\n",
    "    lastValueMs = valueMs"
   ]
  },
  {
   "cell_type": "code",
   "execution_count": 11,
   "metadata": {
    "ExecuteTime": {
     "end_time": "2018-05-07T14:44:59.883396Z",
     "start_time": "2018-05-07T14:44:58.222161Z"
    },
    "scrolled": true
   },
   "outputs": [
    {
     "data": {
      "image/png": "[encoded data removed]",
      "text/plain": [
       "<Figure size 1440x360 with 1 Axes>"
      ]
     },
     "metadata": {},
     "output_type": "display_data"
    },
    {
     "name": "stdout",
     "output_type": "stream",
     "text": [
      "Maximale Bilder pro Sekunde: 4.27679411513\n"
     ]
    }
   ],
   "source": [
    "# Für 100 Bilder wird je ein Datenpunkt geplotet mit der Aufnahmegeschwindigkeit \n",
    "fig, ax = plt.subplots(figsize=(20, 5))\n",
    "ax.bar(imagesCaptured, imagesPerSecondList,100) #  tick_label=imagesCaptured / für schönere plots, wenn Anzahl der Bilder klein\n",
    "ax.set(xlabel='Aufgenommene Bilder', ylabel='Bilder pro Sekunde',\n",
    "       title='Aufnahmegeschwindigkeit')\n",
    "ax.grid()\n",
    "fig.savefig(\"bilderProSekunde.png\")\n",
    "plt.show()\n",
    "print('Maximale Bilder pro Sekunde: ' + str(max(imagesPerSecondList)))"
   ]
  },
  {
   "cell_type": "code",
   "execution_count": 12,
   "metadata": {
    "ExecuteTime": {
     "end_time": "2018-05-07T14:43:20.345940Z",
     "start_time": "2018-05-07T14:43:20.341940Z"
    }
   },
   "outputs": [],
   "source": [
    "# Elemente aus Listen entfernen\n",
    "imagesPerSecondList.clear()\n",
    "imagesCaptured.clear()"
   ]
  },
  {
   "cell_type": "code",
   "execution_count": 13,
   "metadata": {
    "ExecuteTime": {
     "end_time": "2018-05-07T14:45:58.910923Z",
     "start_time": "2018-05-07T14:45:58.906924Z"
    }
   },
   "outputs": [],
   "source": [
    "meanMs = sum/imageCounter\n",
    "imagesPerSecond = imageCounter/(sum/1000)"
   ]
  },
  {
   "cell_type": "code",
   "execution_count": 14,
   "metadata": {
    "ExecuteTime": {
     "end_time": "2018-05-07T14:45:59.579389Z",
     "start_time": "2018-05-07T14:45:59.571390Z"
    }
   },
   "outputs": [
    {
     "data": {
      "text/plain": [
       "0.052645810911098594"
      ]
     },
     "execution_count": 14,
     "metadata": {},
     "output_type": "execute_result"
    }
   ],
   "source": [
    "imagesPerSecond"
   ]
  },
  {
   "cell_type": "code",
   "execution_count": 15,
   "metadata": {
    "ExecuteTime": {
     "end_time": "2018-05-07T14:46:12.576324Z",
     "start_time": "2018-05-07T14:46:12.572324Z"
    }
   },
   "outputs": [
    {
     "name": "stdout",
     "output_type": "stream",
     "text": [
      "Anzahl der Bilder: 100000\n",
      "Mittelwert: 18994.86365ms pro Aufnahme\n",
      "Bilder pro Sekunde: 0.0526458109111\n",
      "Maximale Zeitdifferenz zwischen zwei Aufnahmen: 514939753ms (Bild Nr.: 49832)\n"
     ]
    }
   ],
   "source": [
    "# Zeitliche nformationen über die gesamten Bilder\n",
    "print(\"Anzahl der Bilder: \" + str(imageCounter) + \"\\n\" +\n",
    "    \"Mittelwert: \" + str(meanMs) + \"ms pro Aufnahme\" + \"\\n\" +\n",
    "    \"Bilder pro Sekunde: \" + str(imagesPerSecond) + \"\\n\" +\n",
    "     \"Maximale Zeitdifferenz zwischen zwei Aufnahmen: \" + str(maxDifference) +  \"ms\" + \n",
    "     \" (Bild Nr.: \" + str(maxDifferenceIndex) + \")\" )"
   ]
  },
  {
   "cell_type": "markdown",
   "metadata": {},
   "source": [
    "## Bildrate mit ohne Unterbrechungen\n",
    "\n",
    "In diesem Versuch wird die Bildrate für Datensätze berechnet. Dabei werden längere Wartezeiten oder Unterbrechungen zwischen mehreren Datensätzen nicht mit gezählt. \n",
    "\n",
    "Datensatz | Bildrate (Bilder pro Sekunde) | Mittelwert: Zeit zwischen Bildaufnahmen in ms | Grenzwert in Sekunden | Anzahl der Bilder | Vergangene Zeit in Stunden | Berechnete Zeit in Stunden für die Aufnahme von 100.000 Bildern\n",
    "  --- |   ---  | ---       |---|   ---  |     --- | ---     | \n",
    "15-22 | 3,451  | 289,7682  | 5 | 100816 |  8,1148 | 8,0491  |\n",
    "23-24 | 3,579  | 279,4055  | 5 | 22762  | 1,7666  | 7,7613  |\n",
    "26-27 | 0,8961 | 1115,9179 | 5 | 4912   | 1,5226  | 30,9977 |\n",
    "28-29 | 1,2763 | 783,5079  | 5 | 6174   | 1,3437  | 21,7641 |\n",
    "31    | 3,05   | 327,8633  | 5 | 14512  | 1,3216  | 9,1073  |\n",
    "32    | 3,2678 | 306,0149  | 5 | 12470  | 1,0600  | 8,5004  |\n",
    "33    | 2,8699 | 348,4490  | 5 | 21780  | 2,1081  | 9,6791  |\n",
    "34    | 2,938  | 340,3609  | 5 | 14949  | 1,4133  | 9,4545  | \n",
    "35    | 1,6492 | 606,3619  | 5 | 11653  | 1,9627  | 16,8434 |\n",
    "36    | 2,9935 | 334,0557  | 5 | 18494  | 1,7161  | 9,2793  |\n",
    "37    | 3,2169 | 310,8570  | 5 | 27863  | 2,4059  | 8,6349  |\n",
    "38    | 3,3058 | 302,4981  | 5 | 35481  | 2,9814  | 8,4027  |\n",
    "39    | 3,0818 | 324,4807  | 5 | 17527  | 1,5798  | 9,0133  |\n",
    "40    | 3,0608 | 326,7089  | 5 | 13120  | 1,1908  | 9,0752  |\n",
    "Tabelle 1: Bildrate für verschiedene Datensätze ohne Unterbrechungen"
   ]
  },
  {
   "cell_type": "code",
   "execution_count": 4,
   "metadata": {
    "ExecuteTime": {
     "end_time": "2018-05-07T15:01:05.065117Z",
     "start_time": "2018-05-07T15:01:05.057118Z"
    }
   },
   "outputs": [
    {
     "name": "stdout",
     "output_type": "stream",
     "text": [
      "Anzahl der vergangenen ms: 4286421\n",
      "Anzahl der Bilder: 13120\n",
      "Bildrate (Bilder pro Sekunde): 3.0608286027\n",
      "Mittelwert: Zeit zwischen Bildaufnahmen in ms: 326.708917683\n",
      "Minimale Dauer: Zeit zwischen Bildaufnahmen in ms: 216\n",
      "Vergangene Zeit in Stunden: 1.1906725\n",
      "Optimale Zeit in Stunden für die Aufnahme von 100.000 Bildern: 9.07524771341\n"
     ]
    }
   ],
   "source": [
    "# Für einen Datensatz soll ohne Unterbrechung, wie z.B. eine Ampel, die Anzahl der Bilder pro Sekunde berechnet werden\n",
    "i = startIndex\n",
    "lastValueMs = featuresDf['Zeitstempel in Unixzeit'].iloc[i]\n",
    "valueMs = 0\n",
    "# Zeitliche Differenz zwischen zwei Aufnahmen\n",
    "differenceValueTemp = 0\n",
    "# Maximale Differenz, welche unter der variablen thresholdMax liegt \n",
    "maxDifference = 0\n",
    "# Minimale Differenz zwischen den Zeitstempeln der Bildaufnahme\n",
    "minDifference = 100000\n",
    "# längste Zeitdifferenz t zwischen zwei Zeitstempeln kleiner als der Grenzwert\n",
    "maxDiffLessThanThreshold = 0\n",
    "# Das erste Bild wird nicht mit einbezogen in die Berechnung\n",
    "imageCounter = 0\n",
    "sum = 0\n",
    "stopIndex = featuresDf.shape[0]-2\n",
    "while i <= stopIndex:\n",
    "    valueMs = featuresDf['Zeitstempel in Unixzeit'].iloc[i+1]\n",
    "    differenceValueTemp = abs(valueMs - lastValueMs)\n",
    "    lastValueMs = valueMs\n",
    "    if differenceValueTemp < minDifference:\n",
    "        minDifference = differenceValueTemp\n",
    "    if differenceValueTemp > 5000:\n",
    "        i = i + 1\n",
    "        continue\n",
    "    if differenceValueTemp > maxDiffLessThanThreshold:\n",
    "        maxDiffLessThanThreshold = differenceValueTemp\n",
    "    sum = sum + differenceValueTemp\n",
    "    imageCounter = imageCounter + 1\n",
    "    i = i + 1\n",
    "fps = imageCounter/(sum/1000)\n",
    "pastHours = (imageCounter / fps) / 3600\n",
    "pastHoursFor100000Images = (100000 / fps) / 3600 \n",
    "meanImageTime= sum/imageCounter \n",
    "print('Anzahl der vergangenen ms: ' + str(sum))\n",
    "print('Anzahl der Bilder: ' + str(imageCounter))\n",
    "print('Bildrate (Bilder pro Sekunde): ' + str(fps))\n",
    "print('Mittelwert: Zeit zwischen Bildaufnahmen in ms: ' + str(meanImageTime))\n",
    "print('Minimale Dauer: Zeit zwischen Bildaufnahmen in ms: ' + str(minDifference))\n",
    "print('Vergangene Zeit in Stunden: ' + str(pastHours))\n",
    "print('Optimale Zeit in Stunden für die Aufnahme von 100.000 Bildern: ' + str(pastHoursFor100000Images))"
   ]
  },
  {
   "cell_type": "code",
   "execution_count": 11,
   "metadata": {},
   "outputs": [
    {
     "data": {
      "text/plain": [
       "989"
      ]
     },
     "execution_count": 11,
     "metadata": {},
     "output_type": "execute_result"
    }
   ],
   "source": [
    "maxDiffLessThanThreshold"
   ]
  },
  {
   "cell_type": "code",
   "execution_count": null,
   "metadata": {},
   "outputs": [],
   "source": []
  }
 ],
 "metadata": {
  "kernelspec": {
   "display_name": "Python 3",
   "language": "python",
   "name": "python3"
  },
  "language_info": {
   "codemirror_mode": {
    "name": "ipython",
    "version": 3
   },
   "file_extension": ".py",
   "mimetype": "text/x-python",
   "name": "python",
   "nbconvert_exporter": "python",
   "pygments_lexer": "ipython3",
   "version": "3.6.4"
  },
  "latex_envs": {
   "LaTeX_envs_menu_present": true,
   "autocomplete": true,
   "bibliofile": "biblio.bib",
   "cite_by": "apalike",
   "current_citInitial": 1,
   "eqLabelWithNumbers": true,
   "eqNumInitial": 1,
   "hotkeys": {
    "equation": "Ctrl-E",
    "itemize": "Ctrl-I"
   },
   "labels_anchors": false,
   "latex_user_defs": false,
   "report_style_numbering": false,
   "user_envs_cfg": false
  },
  "toc": {
   "base_numbering": 1,
   "colors": {
    "hover_highlight": "#DAA520",
    "navigate_num": "#000000",
    "navigate_text": "#333333",
    "running_highlight": "#FF0000",
    "selected_highlight": "#FFD700",
    "sidebar_border": "#EEEEEE",
    "wrapper_background": "#FFFFFF"
   },
   "moveMenuLeft": true,
   "nav_menu": {
    "height": "65px",
    "width": "252px"
   },
   "navigate_menu": true,
   "number_sections": true,
   "sideBar": true,
   "skip_h1_title": false,
   "threshold": 4,
   "title_cell": "Table of Contents",
   "title_sidebar": "Contents",
   "toc_cell": false,
   "toc_position": {},
   "toc_section_display": "block",
   "toc_window_display": false,
   "widenNotebook": false
  },
  "varInspector": {
   "cols": {
    "lenName": 16,
    "lenType": 16,
    "lenVar": 40
   },
   "kernels_config": {
    "python": {
     "delete_cmd_postfix": "",
     "delete_cmd_prefix": "del ",
     "library": "var_list.py",
     "varRefreshCmd": "print(var_dic_list())"
    },
    "r": {
     "delete_cmd_postfix": ") ",
     "delete_cmd_prefix": "rm(",
     "library": "var_list.r",
     "varRefreshCmd": "cat(var_dic_list()) "
    }
   },
   "types_to_exclude": [
    "module",
    "function",
    "builtin_function_or_method",
    "instance",
    "_Feature"
   ],
   "window_display": false
  }
 },
 "nbformat": 4,
 "nbformat_minor": 2
}
