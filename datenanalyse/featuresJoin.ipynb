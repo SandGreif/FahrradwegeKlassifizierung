{
 "cells": [
  {
   "cell_type": "markdown",
   "metadata": {},
   "source": [
    "In diesem Notebook ist es möglich merkmal CSV Dateien zusammenzufügen.   \n",
    "In der Android App für die Datenerfassung wird nach 2000 Bildern und Reihen in der Merkmal Datei ein neuer Ordner erstellt.  \n",
    "Hier ist es möglich aus den einzelnen Feature Dateien eine Datei zu erstellen."
   ]
  },
  {
   "cell_type": "code",
   "execution_count": 1,
   "metadata": {},
   "outputs": [],
   "source": [
    "import pandas\n",
    "import os"
   ]
  },
  {
   "cell_type": "code",
   "execution_count": 2,
   "metadata": {},
   "outputs": [],
   "source": [
    "# Lesen der Feature CSV Dateien\n",
    "path = \"E:/bachelor/daten/15/2018_2_15_15_23/\" \n",
    "files = os.listdir(path)\n",
    "featuresDF = []\n",
    "for file in files:\n",
    "    featuresDF.append(pandas.read_csv(filepath_or_buffer= path + file + \"/merkmaleRoh.csv\"))  "
   ]
  },
  {
   "cell_type": "code",
   "execution_count": 3,
   "metadata": {},
   "outputs": [],
   "source": [
    "# Jeder Panda Dataframe wird konkateniert\n",
    "length = len(featuresDF)\n",
    "if length >= 2:\n",
    "    result = featuresDF[0]\n",
    "    for df in featuresDF[1:]:\n",
    "        frames = [result, df]\n",
    "        result = pandas.concat(frames, ignore_index=True)"
   ]
  },
  {
   "cell_type": "code",
   "execution_count": 4,
   "metadata": {},
   "outputs": [
    {
     "name": "stdout",
     "output_type": "stream",
     "text": [
      "               Breitengrad  Laengengrad  Geschwindigkeit  \\\n",
      "Zeitstempel                                                \n",
      "1521123854573    53.613518    10.137816            6.624   \n",
      "1521123855766    53.613520    10.137841            5.688   \n",
      "\n",
      "                                                  AccelerometerX  \\\n",
      "Zeitstempel                                                        \n",
      "1521123854573  0.66929 0.81137 0.75647 0.22221 -0.14389 -0.13...   \n",
      "1521123855766  0.2285 0.13695 0.37016 0.08172 -0.05709 0.3834...   \n",
      "\n",
      "                                                  AccelerometerY  \\\n",
      "Zeitstempel                                                        \n",
      "1521123854573  0.583 0.4817 0.38533 -1.20873 -0.46135 -0.7521...   \n",
      "1521123855766  0.2865 -0.61359 -0.29171 0.80856 0.43231 0.851...   \n",
      "\n",
      "                                                  AccelerometerZ  \\\n",
      "Zeitstempel                                                        \n",
      "1521123854573  -0.07235 -0.30311 -0.074 0.17058 0.70334 0.194...   \n",
      "1521123855766  -1.01503 -0.09191 0.78449 0.9493 -0.26725 -0.6...   \n",
      "\n",
      "                                                         Azimuth  \\\n",
      "Zeitstempel                                                        \n",
      "1521123854573  0.99199 0.87772 0.76088 1.53272 1.34296 1.4003...   \n",
      "1521123855766  1.45444 1.7555 1.67776 1.33462 1.33851 1.0452 ...   \n",
      "\n",
      "                                                            Nick  \\\n",
      "Zeitstempel                                                        \n",
      "1521123854573  -0.03752 -0.04402 -0.03939 0.1679 0.10177 0.15...   \n",
      "1521123855766  0.02886 0.16383 0.13474 0.00472 0.01569 -0.064...   \n",
      "\n",
      "                                                            Roll  \\\n",
      "Zeitstempel                                                        \n",
      "1521123854573  -0.238 -0.28304 -0.29204 -0.23407 -0.18064 -0....   \n",
      "1521123855766  -0.22276 -0.19765 -0.21455 -0.18127 -0.18342 -...   \n",
      "\n",
      "                                               SensorZeitstempel  Messwerte  \\\n",
      "Zeitstempel                                                                   \n",
      "1521123854573  1039974 4968099 8897474 15516797 18280443 2195...         20   \n",
      "1521123855766  1367411 3489078 7730432 12001369 17004807 1949...         20   \n",
      "\n",
      "               StartZeitfenster  StartBewegungsdaten  StartBelichtung  \\\n",
      "Zeitstempel                                                             \n",
      "1521123854573    29995062077696       29994994278972   29995087079534   \n",
      "1521123855766    29996264733696       29996225767253   29996289735534   \n",
      "\n",
      "               Belichtungszeit  \n",
      "Zeitstempel                     \n",
      "1521123854573         29996324  \n",
      "1521123855766         29996324  \n"
     ]
    }
   ],
   "source": [
    "# Schreibe neue Features CSV Datei\n",
    "result.set_index('Zeitstempel', inplace=True)\n",
    "print(result.head(2))\n",
    "result.to_csv(\"merkmaleRoh.csv\")"
   ]
  },
  {
   "cell_type": "markdown",
   "metadata": {},
   "source": [
    "Mit den folgenden Zellen können von einem kompletten Datensatz die Bilder zugeschnitten werden. "
   ]
  },
  {
   "cell_type": "code",
   "execution_count": 4,
   "metadata": {},
   "outputs": [
    {
     "data": {
      "text/html": [
       "<div>\n",
       "<style scoped>\n",
       "    .dataframe tbody tr th:only-of-type {\n",
       "        vertical-align: middle;\n",
       "    }\n",
       "\n",
       "    .dataframe tbody tr th {\n",
       "        vertical-align: top;\n",
       "    }\n",
       "\n",
       "    .dataframe thead th {\n",
       "        text-align: right;\n",
       "    }\n",
       "</style>\n",
       "<table border=\"1\" class=\"dataframe\">\n",
       "  <thead>\n",
       "    <tr style=\"text-align: right;\">\n",
       "      <th></th>\n",
       "      <th>0</th>\n",
       "      <th>1</th>\n",
       "      <th>2</th>\n",
       "    </tr>\n",
       "  </thead>\n",
       "  <tbody>\n",
       "    <tr>\n",
       "      <th>0</th>\n",
       "      <td>11</td>\n",
       "      <td>12</td>\n",
       "      <td>13</td>\n",
       "    </tr>\n",
       "    <tr>\n",
       "      <th>1</th>\n",
       "      <td>2018_2_8_15_20</td>\n",
       "      <td>2018_2_9_15_35</td>\n",
       "      <td>2018_2_11_13_12</td>\n",
       "    </tr>\n",
       "  </tbody>\n",
       "</table>\n",
       "</div>"
      ],
      "text/plain": [
       "                0               1                2\n",
       "0              11              12               13\n",
       "1  2018_2_8_15_20  2018_2_9_15_35  2018_2_11_13_12"
      ]
     },
     "execution_count": 4,
     "metadata": {},
     "output_type": "execute_result"
    }
   ],
   "source": [
    "# Hier können die Datensätze ausgewählt werden mit den entsprechenden Ordner Namen\n",
    "datasets = pandas.DataFrame([['11','12','13'],['2018_2_8_15_20','2018_2_9_15_35','2018_2_11_13_12']])\n",
    "# Die Pfade zu den Ordnern in welchem sich die Merkmale befinden\n",
    "paths = []\n",
    "datasets"
   ]
  },
  {
   "cell_type": "code",
   "execution_count": 5,
   "metadata": {},
   "outputs": [],
   "source": [
    "for date, dataset in datasets.iteritems(): # Für jeden Datensatz merke Pfad\n",
    "    paths.append(\"E:/bachelor/daten/\" + dataset.iloc[0] + \"/\" + dataset.iloc[1] + \"/\")"
   ]
  },
  {
   "cell_type": "code",
   "execution_count": 6,
   "metadata": {},
   "outputs": [
    {
     "data": {
      "text/plain": [
       "['E:/bachelor/daten/11/2018_2_8_15_20/',\n",
       " 'E:/bachelor/daten/12/2018_2_9_15_35/',\n",
       " 'E:/bachelor/daten/13/2018_2_11_13_12/']"
      ]
     },
     "execution_count": 6,
     "metadata": {},
     "output_type": "execute_result"
    }
   ],
   "source": [
    "paths"
   ]
  },
  {
   "cell_type": "code",
   "execution_count": 7,
   "metadata": {},
   "outputs": [],
   "source": [
    "featuresDF = [] \n",
    "for path in paths: # Für jeden Pfad hole die Namen der Ordner\n",
    "    folders = os.listdir(path)\n",
    "    for folder in folders: # Aus der Liste der Ordner wird ein Ordner ausgewählt\n",
    "        filesPath = path + folder + \"/merkmaleRoh.csv\"\n",
    "        featuresDF.append(pandas.read_csv(filepath_or_buffer=filesPath))\n",
    "# Anschließend nachdem alle Merkmal Dateien in der Liste stehen muss Zeile 3 & 4 ausgeführt werden,\n",
    "# um die Dateien zu konkatenieren"
   ]
  }
 ],
 "metadata": {
  "kernelspec": {
   "display_name": "Python 3",
   "language": "python",
   "name": "python3"
  },
  "language_info": {
   "codemirror_mode": {
    "name": "ipython",
    "version": 3
   },
   "file_extension": ".py",
   "mimetype": "text/x-python",
   "name": "python",
   "nbconvert_exporter": "python",
   "pygments_lexer": "ipython3",
   "version": "3.6.4"
  },
  "toc": {
   "colors": {
    "hover_highlight": "#DAA520",
    "navigate_num": "#000000",
    "navigate_text": "#333333",
    "running_highlight": "#FF0000",
    "selected_highlight": "#FFD700",
    "sidebar_border": "#EEEEEE",
    "wrapper_background": "#FFFFFF"
   },
   "moveMenuLeft": true,
   "nav_menu": {
    "height": "12px",
    "width": "252px"
   },
   "navigate_menu": true,
   "number_sections": true,
   "sideBar": true,
   "threshold": 4,
   "toc_cell": false,
   "toc_section_display": "block",
   "toc_window_display": false,
   "widenNotebook": false
  }
 },
 "nbformat": 4,
 "nbformat_minor": 2
}
