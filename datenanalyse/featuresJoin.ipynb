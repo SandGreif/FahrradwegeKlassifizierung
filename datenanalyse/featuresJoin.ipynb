{
 "cells": [
  {
   "cell_type": "markdown",
   "metadata": {},
   "source": [
    "## Merkmal CSV Dateien konkatenieren\n",
    "\n",
    "In diesem Notebook ist es möglich merkmal CSV Dateien zusammenzufügen.   \n",
    "In der Android App für die Datenerfassung wird nach 2000 Bildern und Reihen in der Merkmal Datei ein neuer Ordner erstellt.  \n",
    "Hier ist es möglich aus den einzelnen Feature Dateien eine Datei zu erstellen."
   ]
  },
  {
   "cell_type": "code",
   "execution_count": 10,
   "metadata": {
    "ExecuteTime": {
     "end_time": "2018-05-03T12:53:08.142914Z",
     "start_time": "2018-05-03T12:53:08.138914Z"
    }
   },
   "outputs": [],
   "source": [
    "import pandas\n",
    "import os\n",
    "# Regex Vergleiche\n",
    "import re"
   ]
  },
  {
   "cell_type": "code",
   "execution_count": 30,
   "metadata": {
    "ExecuteTime": {
     "end_time": "2018-04-18T09:15:50.395296Z",
     "start_time": "2018-04-18T09:15:50.217513Z"
    }
   },
   "outputs": [],
   "source": [
    "# Lesen der Merkmal CSV Dateien\n",
    "path = \"C:/Users/morro/Documents/datenRoh/22/2018_3_6_15_15/\" \n",
    "files = os.listdir(path)\n",
    "featuresDF = []\n",
    "for file in files:\n",
    "    if re.match('[0-9]', file) is not None:\n",
    "        featuresDF.append(pandas.read_csv(filepath_or_buffer= path + file + \"/merkmaleRoh.csv\"))  "
   ]
  },
  {
   "cell_type": "code",
   "execution_count": 32,
   "metadata": {
    "ExecuteTime": {
     "end_time": "2018-04-18T09:16:07.288782Z",
     "start_time": "2018-04-18T09:16:07.280782Z"
    }
   },
   "outputs": [
    {
     "data": {
      "text/plain": [
       "['1', '2', '3', '4', '5', 'befestigt', 'unbefestigt']"
      ]
     },
     "execution_count": 32,
     "metadata": {},
     "output_type": "execute_result"
    }
   ],
   "source": [
    "files"
   ]
  },
  {
   "cell_type": "code",
   "execution_count": 26,
   "metadata": {
    "ExecuteTime": {
     "end_time": "2018-05-03T12:55:42.284982Z",
     "start_time": "2018-05-03T12:55:40.064788Z"
    }
   },
   "outputs": [],
   "source": [
    "# Jeder Panda Dataframe wird konkateniert\n",
    "length = len(featuresDF)\n",
    "if length >= 2:\n",
    "    result = featuresDF[0]\n",
    "    for df in featuresDF[1:]:\n",
    "        frames = [result, df]\n",
    "        result = pandas.concat(frames, ignore_index=True)"
   ]
  },
  {
   "cell_type": "code",
   "execution_count": 27,
   "metadata": {
    "ExecuteTime": {
     "end_time": "2018-05-03T12:55:47.967947Z",
     "start_time": "2018-05-03T12:55:43.660011Z"
    }
   },
   "outputs": [
    {
     "name": "stdout",
     "output_type": "stream",
     "text": [
      "                         Anzahl der Messwerte  Belichtungszeit in ns  \\\n",
      "Zeitstempel in Unixzeit                                                \n",
      "1521123854573                              20               29996324   \n",
      "1521123855766                              20               29996324   \n",
      "\n",
      "                         Breitengrad  Geschwindigkeit in km/h  \\\n",
      "Zeitstempel in Unixzeit                                         \n",
      "1521123854573              53.613518                    6.624   \n",
      "1521123855766              53.613520                    5.688   \n",
      "\n",
      "                                                     Gier Messwerte in rad  \\\n",
      "Zeitstempel in Unixzeit                                                      \n",
      "1521123854573            0.99199 0.87772 0.76088 1.53272 1.34296 1.4003...   \n",
      "1521123855766            1.45444 1.7555 1.67776 1.33462 1.33851 1.0452 ...   \n",
      "\n",
      "                         Hoehe in m ueber WGS 84  Laengengrad  \\\n",
      "Zeitstempel in Unixzeit                                         \n",
      "1521123854573                                NaN    10.137816   \n",
      "1521123855766                                NaN    10.137841   \n",
      "\n",
      "                         Letzter Zeitstempel der Messwerterfassung in ns seit Start der JVM  \\\n",
      "Zeitstempel in Unixzeit                                                                       \n",
      "1521123854573                                                          NaN                    \n",
      "1521123855766                                                          NaN                    \n",
      "\n",
      "                                                     Nick Messwerte in rad  \\\n",
      "Zeitstempel in Unixzeit                                                      \n",
      "1521123854573            -0.03752 -0.04402 -0.03939 0.1679 0.10177 0.15...   \n",
      "1521123855766            0.02886 0.16383 0.13474 0.00472 0.01569 -0.064...   \n",
      "\n",
      "                                                     Roll Messwerte in rad  \\\n",
      "Zeitstempel in Unixzeit                                                      \n",
      "1521123854573            -0.238 -0.28304 -0.29204 -0.23407 -0.18064 -0....   \n",
      "1521123855766            -0.22276 -0.19765 -0.21455 -0.18127 -0.18342 -...   \n",
      "\n",
      "                         Start der Belichtung in ns seit Start der JVM  \\\n",
      "Zeitstempel in Unixzeit                                                  \n",
      "1521123854573                                           29995087079534   \n",
      "1521123855766                                           29996289735534   \n",
      "\n",
      "                         Start der Messwerterfassung in ns seit Start der JVM  \\\n",
      "Zeitstempel in Unixzeit                                                         \n",
      "1521123854573                                               29994994278972      \n",
      "1521123855766                                               29996225767253      \n",
      "\n",
      "                         Start des Zeitfensters in ns seit Start der JVM  \\\n",
      "Zeitstempel in Unixzeit                                                    \n",
      "1521123854573                                             29995062077696   \n",
      "1521123855766                                             29996264733696   \n",
      "\n",
      "                         Stopp der Messwerterfassung in Unixzeit  \\\n",
      "Zeitstempel in Unixzeit                                            \n",
      "1521123854573                                                NaN   \n",
      "1521123855766                                                NaN   \n",
      "\n",
      "                                     X-Achse Beschleunigungswerte in m/s^2  \\\n",
      "Zeitstempel in Unixzeit                                                      \n",
      "1521123854573            0.66929 0.81137 0.75647 0.22221 -0.14389 -0.13...   \n",
      "1521123855766            0.2285 0.13695 0.37016 0.08172 -0.05709 0.3834...   \n",
      "\n",
      "                                     Y-Achse Beschleunigungswerte in m/s^2  \\\n",
      "Zeitstempel in Unixzeit                                                      \n",
      "1521123854573            0.583 0.4817 0.38533 -1.20873 -0.46135 -0.7521...   \n",
      "1521123855766            0.2865 -0.61359 -0.29171 0.80856 0.43231 0.851...   \n",
      "\n",
      "                                     Z-Achse Beschleunigungswerte in m/s^2  \\\n",
      "Zeitstempel in Unixzeit                                                      \n",
      "1521123854573            -0.07235 -0.30311 -0.074 0.17058 0.70334 0.194...   \n",
      "1521123855766            -1.01503 -0.09191 0.78449 0.9493 -0.26725 -0.6...   \n",
      "\n",
      "                                           Zeitstempel der Messwerte in ns  \n",
      "Zeitstempel in Unixzeit                                                     \n",
      "1521123854573            1039974 4968099 8897474 15516797 18280443 2195...  \n",
      "1521123855766            1367411 3489078 7730432 12001369 17004807 1949...  \n"
     ]
    }
   ],
   "source": [
    "# Schreibe neue Features CSV Datei\n",
    "result.set_index('Zeitstempel in Unixzeit', inplace=True)\n",
    "print(result.head(2))\n",
    "result.to_csv(\"merkmaleRoh.csv\")"
   ]
  },
  {
   "cell_type": "code",
   "execution_count": 28,
   "metadata": {
    "ExecuteTime": {
     "end_time": "2018-05-03T12:55:50.770861Z",
     "start_time": "2018-05-03T12:55:50.766862Z"
    }
   },
   "outputs": [
    {
     "data": {
      "text/plain": [
       "(100997, 18)"
      ]
     },
     "execution_count": 28,
     "metadata": {},
     "output_type": "execute_result"
    }
   ],
   "source": [
    "result.shape"
   ]
  },
  {
   "cell_type": "markdown",
   "metadata": {},
   "source": [
    "Mit den folgenden Zellen können von einem kompletten Datensatz die Bilder zugeschnitten werden. "
   ]
  },
  {
   "cell_type": "code",
   "execution_count": 22,
   "metadata": {
    "ExecuteTime": {
     "end_time": "2018-05-03T12:55:31.175209Z",
     "start_time": "2018-05-03T12:55:31.155209Z"
    }
   },
   "outputs": [
    {
     "data": {
      "text/html": [
       "<div>\n",
       "<style scoped>\n",
       "    .dataframe tbody tr th:only-of-type {\n",
       "        vertical-align: middle;\n",
       "    }\n",
       "\n",
       "    .dataframe tbody tr th {\n",
       "        vertical-align: top;\n",
       "    }\n",
       "\n",
       "    .dataframe thead th {\n",
       "        text-align: right;\n",
       "    }\n",
       "</style>\n",
       "<table border=\"1\" class=\"dataframe\">\n",
       "  <thead>\n",
       "    <tr style=\"text-align: right;\">\n",
       "      <th></th>\n",
       "      <th>0</th>\n",
       "      <th>1</th>\n",
       "      <th>2</th>\n",
       "      <th>3</th>\n",
       "      <th>4</th>\n",
       "      <th>5</th>\n",
       "      <th>6</th>\n",
       "      <th>7</th>\n",
       "    </tr>\n",
       "  </thead>\n",
       "  <tbody>\n",
       "    <tr>\n",
       "      <th>0</th>\n",
       "      <td>15</td>\n",
       "      <td>16</td>\n",
       "      <td>17</td>\n",
       "      <td>18</td>\n",
       "      <td>19</td>\n",
       "      <td>20</td>\n",
       "      <td>21</td>\n",
       "      <td>22</td>\n",
       "    </tr>\n",
       "    <tr>\n",
       "      <th>1</th>\n",
       "      <td>2018_2_15_15_23</td>\n",
       "      <td>2018_2_16_14_54</td>\n",
       "      <td>2018_2_17_15_8</td>\n",
       "      <td>2018_2_23_15_15</td>\n",
       "      <td>2018_2_24_15_15</td>\n",
       "      <td>2018_2_28_15_11</td>\n",
       "      <td>2018_3_1_13_29</td>\n",
       "      <td>2018_3_6_15_15</td>\n",
       "    </tr>\n",
       "  </tbody>\n",
       "</table>\n",
       "</div>"
      ],
      "text/plain": [
       "                 0                1               2                3  \\\n",
       "0               15               16              17               18   \n",
       "1  2018_2_15_15_23  2018_2_16_14_54  2018_2_17_15_8  2018_2_23_15_15   \n",
       "\n",
       "                 4                5               6               7  \n",
       "0               19               20              21              22  \n",
       "1  2018_2_24_15_15  2018_2_28_15_11  2018_3_1_13_29  2018_3_6_15_15  "
      ]
     },
     "execution_count": 22,
     "metadata": {},
     "output_type": "execute_result"
    }
   ],
   "source": [
    "# Hier können die Datensätze ausgewählt werden mit den entsprechenden Ordner Namen\n",
    "datasets = pandas.DataFrame([['15','16','17','18','19','20','21','22'],['2018_2_15_15_23','2018_2_16_14_54','2018_2_17_15_8',\n",
    "                                                                       '2018_2_23_15_15','2018_2_24_15_15','2018_2_28_15_11',\n",
    "                                                                       '2018_3_1_13_29','2018_3_6_15_15']])\n",
    "# Die Pfade zu den Ordnern in welchem sich die Merkmale befinden\n",
    "paths = []\n",
    "datasets"
   ]
  },
  {
   "cell_type": "code",
   "execution_count": 23,
   "metadata": {
    "ExecuteTime": {
     "end_time": "2018-05-03T12:55:31.925146Z",
     "start_time": "2018-05-03T12:55:31.921145Z"
    }
   },
   "outputs": [],
   "source": [
    "for date, dataset in datasets.iteritems(): # Für jeden Datensatz merke Pfad\n",
    "    paths.append(\"C:/Users/morro/Documents/datenRoh/\" + dataset.iloc[0] + \"/\" + dataset.iloc[1] + \"/\")"
   ]
  },
  {
   "cell_type": "code",
   "execution_count": 24,
   "metadata": {
    "ExecuteTime": {
     "end_time": "2018-05-03T12:55:32.684507Z",
     "start_time": "2018-05-03T12:55:32.676509Z"
    }
   },
   "outputs": [
    {
     "data": {
      "text/plain": [
       "['C:/Users/morro/Documents/datenRoh/15/2018_2_15_15_23/',\n",
       " 'C:/Users/morro/Documents/datenRoh/16/2018_2_16_14_54/',\n",
       " 'C:/Users/morro/Documents/datenRoh/17/2018_2_17_15_8/',\n",
       " 'C:/Users/morro/Documents/datenRoh/18/2018_2_23_15_15/',\n",
       " 'C:/Users/morro/Documents/datenRoh/19/2018_2_24_15_15/',\n",
       " 'C:/Users/morro/Documents/datenRoh/20/2018_2_28_15_11/',\n",
       " 'C:/Users/morro/Documents/datenRoh/21/2018_3_1_13_29/',\n",
       " 'C:/Users/morro/Documents/datenRoh/22/2018_3_6_15_15/']"
      ]
     },
     "execution_count": 24,
     "metadata": {},
     "output_type": "execute_result"
    }
   ],
   "source": [
    "paths"
   ]
  },
  {
   "cell_type": "code",
   "execution_count": 25,
   "metadata": {
    "ExecuteTime": {
     "end_time": "2018-05-03T12:55:36.045417Z",
     "start_time": "2018-05-03T12:55:34.045417Z"
    }
   },
   "outputs": [],
   "source": [
    "featuresDF = [] \n",
    "for path in paths: # Für jeden Pfad hole die Namen der Ordner\n",
    "    folders = os.listdir(path)\n",
    "    for folder in folders: # Aus der Liste der Ordner wird ein Ordner ausgewählt\n",
    "        if re.match('[0-9]', folder) is not None: \n",
    "            filesPath = path + folder + \"/merkmaleRoh.csv\"\n",
    "            featuresDF.append(pandas.read_csv(filepath_or_buffer=filesPath))\n",
    "# Anschließend nachdem alle Merkmal Dateien in der Liste stehen muss Zeile 3 & 4 ausgeführt werden,\n",
    "# um die Dateien zu konkatenieren"
   ]
  },
  {
   "cell_type": "code",
   "execution_count": null,
   "metadata": {},
   "outputs": [],
   "source": []
  }
 ],
 "metadata": {
  "kernelspec": {
   "display_name": "Python [default]",
   "language": "python",
   "name": "python3"
  },
  "language_info": {
   "codemirror_mode": {
    "name": "ipython",
    "version": 3
   },
   "file_extension": ".py",
   "mimetype": "text/x-python",
   "name": "python",
   "nbconvert_exporter": "python",
   "pygments_lexer": "ipython3",
   "version": "3.6.5"
  },
  "toc": {
   "base_numbering": 1,
   "nav_menu": {
    "height": "12px",
    "width": "252px"
   },
   "number_sections": true,
   "sideBar": true,
   "skip_h1_title": false,
   "title_cell": "Table of Contents",
   "title_sidebar": "Contents",
   "toc_cell": false,
   "toc_position": {},
   "toc_section_display": "block",
   "toc_window_display": false
  },
  "varInspector": {
   "cols": {
    "lenName": 16,
    "lenType": 16,
    "lenVar": 40
   },
   "kernels_config": {
    "python": {
     "delete_cmd_postfix": "",
     "delete_cmd_prefix": "del ",
     "library": "var_list.py",
     "varRefreshCmd": "print(var_dic_list())"
    },
    "r": {
     "delete_cmd_postfix": ") ",
     "delete_cmd_prefix": "rm(",
     "library": "var_list.r",
     "varRefreshCmd": "cat(var_dic_list()) "
    }
   },
   "types_to_exclude": [
    "module",
    "function",
    "builtin_function_or_method",
    "instance",
    "_Feature"
   ],
   "window_display": false
  }
 },
 "nbformat": 4,
 "nbformat_minor": 2
}
