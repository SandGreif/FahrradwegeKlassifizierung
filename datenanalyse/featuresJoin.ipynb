{
 "cells": [
  {
   "cell_type": "markdown",
   "metadata": {},
   "source": [
    "## Merkmal CSV Dateien konkatenieren\n",
    "\n",
    "In diesem Notebook ist es möglich merkmal CSV Dateien zusammenzufügen.   \n",
    "In der Android App für die Datenerfassung wird nach 2000 Bildern und Reihen in der Merkmal Datei ein neuer Ordner erstellt.  \n",
    "Hier ist es möglich aus den einzelnen Feature Dateien eine Datei zu erstellen."
   ]
  },
  {
   "cell_type": "code",
   "execution_count": 1,
   "metadata": {
    "ExecuteTime": {
     "end_time": "2018-05-03T12:53:08.142914Z",
     "start_time": "2018-05-03T12:53:08.138914Z"
    }
   },
   "outputs": [],
   "source": [
    "import pandas\n",
    "import os\n",
    "# Regex Vergleiche\n",
    "import re\n",
    "import numpy as np"
   ]
  },
  {
   "cell_type": "code",
   "execution_count": 30,
   "metadata": {
    "ExecuteTime": {
     "end_time": "2018-04-18T09:15:50.395296Z",
     "start_time": "2018-04-18T09:15:50.217513Z"
    }
   },
   "outputs": [],
   "source": [
    "# Lesen der Merkmal CSV Dateien\n",
    "path = \"C:/Users/morro/Documents/datenRoh/22/2018_3_6_15_15/\" \n",
    "files = os.listdir(path)\n",
    "featuresDF = []\n",
    "for file in files:\n",
    "    if re.match('[0-9]', file) is not None:\n",
    "        featuresDF.append(pandas.read_csv(filepath_or_buffer= path + file + \"/merkmaleRoh.csv\"))  "
   ]
  },
  {
   "cell_type": "code",
   "execution_count": 32,
   "metadata": {
    "ExecuteTime": {
     "end_time": "2018-04-18T09:16:07.288782Z",
     "start_time": "2018-04-18T09:16:07.280782Z"
    }
   },
   "outputs": [
    {
     "data": {
      "text/plain": [
       "['1', '2', '3', '4', '5', 'befestigt', 'unbefestigt']"
      ]
     },
     "execution_count": 32,
     "metadata": {},
     "output_type": "execute_result"
    }
   ],
   "source": [
    "files"
   ]
  },
  {
   "cell_type": "code",
   "execution_count": 6,
   "metadata": {
    "ExecuteTime": {
     "end_time": "2018-05-03T12:55:42.284982Z",
     "start_time": "2018-05-03T12:55:40.064788Z"
    }
   },
   "outputs": [],
   "source": [
    "# Jeder Panda Dataframe wird konkateniert\n",
    "length = len(featuresDF)\n",
    "if length >= 2:\n",
    "    result = featuresDF[0]\n",
    "    for df in featuresDF[1:]:\n",
    "        frames = [result, df]\n",
    "        result = pandas.concat(frames, ignore_index=True)"
   ]
  },
  {
   "cell_type": "code",
   "execution_count": 7,
   "metadata": {
    "ExecuteTime": {
     "end_time": "2018-05-03T12:55:47.967947Z",
     "start_time": "2018-05-03T12:55:43.660011Z"
    },
    "scrolled": true
   },
   "outputs": [
    {
     "name": "stdout",
     "output_type": "stream",
     "text": [
      "                         Breitengrad  Laengengrad  Geschwindigkeit in km/h  \\\n",
      "Zeitstempel in Unixzeit                                                      \n",
      "1530618547269               53.61407    10.161992                     6.12   \n",
      "1530618548078               53.61407    10.161992                     6.12   \n",
      "\n",
      "                         Genauigkeit der Geschwindigkeit speedAccuracyMetersPerSecond  \\\n",
      "Zeitstempel in Unixzeit                                                                 \n",
      "1530618547269                                                      1.00439              \n",
      "1530618548078                                                      1.00439              \n",
      "\n",
      "                         Lokations Zeitstempel in Unixzeit  \\\n",
      "Zeitstempel in Unixzeit                                      \n",
      "1530618547269                                1530618547000   \n",
      "1530618548078                                1530618547000   \n",
      "\n",
      "                                     Z-Achse Beschleunigungswerte in m/s^2  \\\n",
      "Zeitstempel in Unixzeit                                                      \n",
      "1530618547269            4.59164 2.55538 -1.06309 -2.32309 -0.08273 -0....   \n",
      "1530618548078            -2.87454 -0.09813 -0.67261 -3.65458 -2.1002 3....   \n",
      "\n",
      "                                     Y-Achse Beschleunigungswerte in m/s^2  \\\n",
      "Zeitstempel in Unixzeit                                                      \n",
      "1530618547269            -0.94415 1.66186 2.18423 2.8484 1.69733 0.8630...   \n",
      "1530618548078            2.34014 -2.0323 -0.63713 3.8394 3.03364 -4.672...   \n",
      "\n",
      "                                                     Nick Messwerte in rad  \\\n",
      "Zeitstempel in Unixzeit                                                      \n",
      "1530618547269            0.0554 -0.15694 -0.27143 -0.41373 -0.2097 -0.1...   \n",
      "1530618548078            -0.38217 0.20061 0.04928 -0.6237 -0.42654 0.34...   \n",
      "\n",
      "                                           Zeitstempel der Messwerte in ns  \\\n",
      "Zeitstempel in Unixzeit                                                      \n",
      "1530618547269            2039464 10042517 18038852 26033936 34034959 42...   \n",
      "1530618548078            5150844 13144523 21141586 29136462 37133683 45...   \n",
      "\n",
      "                         Anzahl der Messwerte  \\\n",
      "Zeitstempel in Unixzeit                         \n",
      "1530618547269                              73   \n",
      "1530618548078                              72   \n",
      "\n",
      "                         Start des Zeitfensters in ns seit Start der JVM  \\\n",
      "Zeitstempel in Unixzeit                                                    \n",
      "1530618547269                                             20542630031291   \n",
      "1530618548078                                             20543434480959   \n",
      "\n",
      "                         Zeitstempel Messwertdaten anfordern in Unixzeit  \\\n",
      "Zeitstempel in Unixzeit                                                    \n",
      "1530618547269                                              1530618547487   \n",
      "1530618548078                                              1530618548269   \n",
      "\n",
      "                         Start der Messwerterfassung in ns seit Start der JVM  \\\n",
      "Zeitstempel in Unixzeit                                                         \n",
      "1530618547269                                               20541864500234      \n",
      "1530618548078                                               20541864500234      \n",
      "\n",
      "                         Erster Zeitstempel der Teilliste in ns seit Start der JVM  \\\n",
      "Zeitstempel in Unixzeit                                                              \n",
      "1530618547269                                               20541864500234           \n",
      "1530618548078                                               20542560113326           \n",
      "\n",
      "                         Start der Belichtung in ns seit Start der JVM  \\\n",
      "Zeitstempel in Unixzeit                                                  \n",
      "1530618547269                                           20542919396211   \n",
      "1530618548078                                           20543726594546   \n",
      "\n",
      "                         Belichtungszeit in ns  \\\n",
      "Zeitstempel in Unixzeit                          \n",
      "1530618547269                          9505424   \n",
      "1530618548078                          4008089   \n",
      "\n",
      "                         Letzter Zeitstempel der Messwerterfassung in ns seit Start der JVM  \\\n",
      "Zeitstempel in Unixzeit                                                                       \n",
      "1530618547269                                               20543239743594                    \n",
      "1530618548078                                               20544023313086                    \n",
      "\n",
      "                         Speicherzeitpunkt der Merkmale in Unixzeit  \n",
      "Zeitstempel in Unixzeit                                              \n",
      "1530618547269                                         1530618547799  \n",
      "1530618548078                                         1530618548417  \n"
     ]
    }
   ],
   "source": [
    "# Schreibe neue Features CSV Datei\n",
    "result.set_index('Zeitstempel in Unixzeit', inplace=True)\n",
    "print(result.head(2))\n",
    "result.to_csv(\"merkmaleRoh.csv\")"
   ]
  },
  {
   "cell_type": "code",
   "execution_count": 8,
   "metadata": {
    "ExecuteTime": {
     "end_time": "2018-05-03T12:55:50.770861Z",
     "start_time": "2018-05-03T12:55:50.766862Z"
    }
   },
   "outputs": [
    {
     "data": {
      "text/plain": [
       "(9478, 18)"
      ]
     },
     "execution_count": 8,
     "metadata": {},
     "output_type": "execute_result"
    }
   ],
   "source": [
    "result.shape"
   ]
  },
  {
   "cell_type": "code",
   "execution_count": 29,
   "metadata": {},
   "outputs": [
    {
     "name": "stdout",
     "output_type": "stream",
     "text": [
      "<class 'pandas.core.frame.DataFrame'>\n",
      "Int64Index: 17571 entries, 1528120783258 to 1528129252739\n",
      "Data columns (total 16 columns):\n",
      "Breitengrad                                                           17571 non-null float64\n",
      "Laengengrad                                                           17571 non-null float64\n",
      "Geschwindigkeit in km/h                                               17571 non-null float64\n",
      "Z-Achse Beschleunigungswerte in m/s^2                                 17571 non-null object\n",
      "Y-Achse Beschleunigungswerte in m/s^2                                 17571 non-null object\n",
      "Nick Messwerte in rad                                                 17571 non-null object\n",
      "Zeitstempel der Messwerte in ns                                       17571 non-null object\n",
      "Anzahl der Messwerte                                                  17571 non-null int64\n",
      "Start des Zeitfensters in ns seit Start der JVM                       17571 non-null int64\n",
      "Zeitstempel Messwertdaten anfordern in Unixzeit                       17571 non-null int64\n",
      "Start der Messwerterfassung in ns seit Start der JVM                  17571 non-null int64\n",
      "Erster Zeitstempel der Teilliste in ns seit Start der JVM             17571 non-null int64\n",
      "Start der Belichtung in ns seit Start der JVM                         17571 non-null int64\n",
      "Belichtungszeit in ns                                                 17571 non-null int64\n",
      "Letzter Zeitstempel der Messwerterfassung in ns seit Start der JVM    17571 non-null int64\n",
      "Speicherzeitpunkt der Merkmale in Unixzeit                            17571 non-null int64\n",
      "dtypes: float64(3), int64(9), object(4)\n",
      "memory usage: 2.3+ MB\n"
     ]
    }
   ],
   "source": [
    "result.info()"
   ]
  },
  {
   "cell_type": "markdown",
   "metadata": {},
   "source": [
    "Mit den folgenden Zellen können von einem kompletten Datensatz die CSV geladen werden. "
   ]
  },
  {
   "cell_type": "code",
   "execution_count": 2,
   "metadata": {
    "ExecuteTime": {
     "end_time": "2018-05-03T12:55:31.175209Z",
     "start_time": "2018-05-03T12:55:31.155209Z"
    }
   },
   "outputs": [
    {
     "data": {
      "text/html": [
       "<div>\n",
       "<style scoped>\n",
       "    .dataframe tbody tr th:only-of-type {\n",
       "        vertical-align: middle;\n",
       "    }\n",
       "\n",
       "    .dataframe tbody tr th {\n",
       "        vertical-align: top;\n",
       "    }\n",
       "\n",
       "    .dataframe thead th {\n",
       "        text-align: right;\n",
       "    }\n",
       "</style>\n",
       "<table border=\"1\" class=\"dataframe\">\n",
       "  <thead>\n",
       "    <tr style=\"text-align: right;\">\n",
       "      <th></th>\n",
       "      <th>0</th>\n",
       "    </tr>\n",
       "  </thead>\n",
       "  <tbody>\n",
       "    <tr>\n",
       "      <th>0</th>\n",
       "      <td>51</td>\n",
       "    </tr>\n",
       "    <tr>\n",
       "      <th>1</th>\n",
       "      <td>2018_6_3_13_48</td>\n",
       "    </tr>\n",
       "  </tbody>\n",
       "</table>\n",
       "</div>"
      ],
      "text/plain": [
       "                0\n",
       "0              51\n",
       "1  2018_6_3_13_48"
      ]
     },
     "execution_count": 2,
     "metadata": {},
     "output_type": "execute_result"
    }
   ],
   "source": [
    "# Hier können die Datensätze ausgewählt werden mit den entsprechenden Ordner Namen\n",
    "datasets = pandas.DataFrame([['51'],['2018_6_3_13_48']])\n",
    "# Die Pfade zu den Ordnern in welchem sich die Merkmale befinden\n",
    "paths = []\n",
    "datasets"
   ]
  },
  {
   "cell_type": "code",
   "execution_count": 3,
   "metadata": {
    "ExecuteTime": {
     "end_time": "2018-05-03T12:55:31.925146Z",
     "start_time": "2018-05-03T12:55:31.921145Z"
    }
   },
   "outputs": [],
   "source": [
    "for date, dataset in datasets.iteritems(): # Für jeden Datensatz merke Pfad\n",
    "    paths.append(\"E:/bachelor/daten/\" + dataset.iloc[0] + \"/\" + dataset.iloc[1] + \"/\")"
   ]
  },
  {
   "cell_type": "code",
   "execution_count": 4,
   "metadata": {
    "ExecuteTime": {
     "end_time": "2018-05-03T12:55:32.684507Z",
     "start_time": "2018-05-03T12:55:32.676509Z"
    }
   },
   "outputs": [
    {
     "data": {
      "text/plain": [
       "['E:/bachelor/daten/51/2018_6_3_13_48/']"
      ]
     },
     "execution_count": 4,
     "metadata": {},
     "output_type": "execute_result"
    }
   ],
   "source": [
    "paths"
   ]
  },
  {
   "cell_type": "code",
   "execution_count": 5,
   "metadata": {
    "ExecuteTime": {
     "end_time": "2018-05-03T12:55:36.045417Z",
     "start_time": "2018-05-03T12:55:34.045417Z"
    }
   },
   "outputs": [
    {
     "name": "stdout",
     "output_type": "stream",
     "text": [
      "1\n",
      "2\n",
      "3\n",
      "4\n",
      "5\n"
     ]
    }
   ],
   "source": [
    "featuresDF = [] \n",
    "for path in paths: # Für jeden Pfad hole die Namen der Ordner\n",
    "    folders = os.listdir(path)\n",
    "    folders = sorted(folders, key=int)\n",
    "    for folder in folders: # Aus der Liste der Ordner wird ein Ordner ausgewählt\n",
    "        print(folder)\n",
    "        if re.match('[0-9]', folder) is not None: \n",
    "            filesPath = path + folder + \"/merkmaleRoh.csv\"\n",
    "            featuresDF.append(pandas.read_csv(filepath_or_buffer=filesPath))\n",
    "# Anschließend nachdem alle Merkmal Dateien in der Liste stehen muss Zeile 4 & 5 ausgeführt werden,\n",
    "# um die Dateien zu konkatenieren"
   ]
  },
  {
   "cell_type": "markdown",
   "metadata": {},
   "source": [
    "Die folgenden Zeilen fügen mehrere vorverarbeitete Merkmale CSV Dateien zusammen."
   ]
  },
  {
   "cell_type": "code",
   "execution_count": 2,
   "metadata": {},
   "outputs": [
    {
     "data": {
      "text/html": [
       "<div>\n",
       "<style scoped>\n",
       "    .dataframe tbody tr th:only-of-type {\n",
       "        vertical-align: middle;\n",
       "    }\n",
       "\n",
       "    .dataframe tbody tr th {\n",
       "        vertical-align: top;\n",
       "    }\n",
       "\n",
       "    .dataframe thead th {\n",
       "        text-align: right;\n",
       "    }\n",
       "</style>\n",
       "<table border=\"1\" class=\"dataframe\">\n",
       "  <thead>\n",
       "    <tr style=\"text-align: right;\">\n",
       "      <th></th>\n",
       "      <th>0</th>\n",
       "      <th>1</th>\n",
       "      <th>2</th>\n",
       "      <th>3</th>\n",
       "      <th>4</th>\n",
       "      <th>5</th>\n",
       "      <th>6</th>\n",
       "      <th>7</th>\n",
       "    </tr>\n",
       "  </thead>\n",
       "  <tbody>\n",
       "    <tr>\n",
       "      <th>0</th>\n",
       "      <td>43</td>\n",
       "      <td>45</td>\n",
       "      <td>46</td>\n",
       "      <td>47</td>\n",
       "      <td>48</td>\n",
       "      <td>49</td>\n",
       "      <td>50</td>\n",
       "      <td>51</td>\n",
       "    </tr>\n",
       "  </tbody>\n",
       "</table>\n",
       "</div>"
      ],
      "text/plain": [
       "    0   1   2   3   4   5   6   7\n",
       "0  43  45  46  47  48  49  50  51"
      ]
     },
     "execution_count": 2,
     "metadata": {},
     "output_type": "execute_result"
    }
   ],
   "source": [
    "# Hier können die Datensätze ausgewählt werden mit den entsprechenden Ordner Namen\n",
    "data = np.asarray([['43'],['45'],['46'],['47'],['48'],['49'],['50'],['51']])\n",
    "datasets = pandas.DataFrame(data.T)\n",
    "# Die Pfade zu den Ordnern in welchem sich die Merkmale befinden\n",
    "paths = []\n",
    "pathName = \"C:/Users/morro/Documents/FahrradwegeKlassifizierung/daten/merkmale_datensatz_\"\n",
    "datasets"
   ]
  },
  {
   "cell_type": "code",
   "execution_count": 3,
   "metadata": {},
   "outputs": [
    {
     "data": {
      "text/plain": [
       "['C:/Users/morro/Documents/FahrradwegeKlassifizierung/daten/merkmale_datensatz_43',\n",
       " 'C:/Users/morro/Documents/FahrradwegeKlassifizierung/daten/merkmale_datensatz_45',\n",
       " 'C:/Users/morro/Documents/FahrradwegeKlassifizierung/daten/merkmale_datensatz_46',\n",
       " 'C:/Users/morro/Documents/FahrradwegeKlassifizierung/daten/merkmale_datensatz_47',\n",
       " 'C:/Users/morro/Documents/FahrradwegeKlassifizierung/daten/merkmale_datensatz_48',\n",
       " 'C:/Users/morro/Documents/FahrradwegeKlassifizierung/daten/merkmale_datensatz_49',\n",
       " 'C:/Users/morro/Documents/FahrradwegeKlassifizierung/daten/merkmale_datensatz_50',\n",
       " 'C:/Users/morro/Documents/FahrradwegeKlassifizierung/daten/merkmale_datensatz_51']"
      ]
     },
     "execution_count": 3,
     "metadata": {},
     "output_type": "execute_result"
    }
   ],
   "source": [
    "for dataset in datasets.iloc[0]: # Für jeden Datensatz merke Pfad\n",
    "    paths.append(str(pathName) + dataset)\n",
    "paths"
   ]
  },
  {
   "cell_type": "code",
   "execution_count": 4,
   "metadata": {},
   "outputs": [
    {
     "name": "stdout",
     "output_type": "stream",
     "text": [
      "Aktuelles Verzeichnis: C:/Users/morro/Documents/FahrradwegeKlassifizierung/daten/merkmale_datensatz_43\n",
      "   -> Dateiname: merkmale.csv\n",
      "   -> Dateiname: merkmaleRoh.csv\n",
      "   -> Dateiname: nickMesswerte.csv\n",
      "   -> Dateiname: sensoreventZeitstempel.csv\n",
      "   -> Dateiname: yAchseBeschleunigungswerte.csv\n",
      "   -> Dateiname: zAchseBeschleunigungswerte.csv\n",
      "Aktuelles Verzeichnis: C:/Users/morro/Documents/FahrradwegeKlassifizierung/daten/merkmale_datensatz_45\n",
      "   -> Dateiname: merkmale.csv\n",
      "   -> Dateiname: merkmaleRoh.csv\n",
      "   -> Dateiname: nickMesswerte.csv\n",
      "   -> Dateiname: sensoreventZeitstempel.csv\n",
      "   -> Dateiname: yAchseBeschleunigungswerte.csv\n",
      "   -> Dateiname: zAchseBeschleunigungswerte.csv\n",
      "Aktuelles Verzeichnis: C:/Users/morro/Documents/FahrradwegeKlassifizierung/daten/merkmale_datensatz_46\n",
      "   -> Dateiname: merkmale.csv\n",
      "   -> Dateiname: merkmaleRoh.csv\n",
      "   -> Dateiname: nickMesswerte.csv\n",
      "   -> Dateiname: sensoreventZeitstempel.csv\n",
      "   -> Dateiname: yAchseBeschleunigungswerte.csv\n",
      "   -> Dateiname: zAchseBeschleunigungswerte.csv\n",
      "Aktuelles Verzeichnis: C:/Users/morro/Documents/FahrradwegeKlassifizierung/daten/merkmale_datensatz_47\n",
      "   -> Dateiname: merkmale.csv\n",
      "   -> Dateiname: merkmaleRoh.csv\n",
      "   -> Dateiname: nickMesswerte.csv\n",
      "   -> Dateiname: sensoreventZeitstempel.csv\n",
      "   -> Dateiname: yAchseBeschleunigungswerte.csv\n",
      "   -> Dateiname: zAchseBeschleunigungswerte.csv\n",
      "Aktuelles Verzeichnis: C:/Users/morro/Documents/FahrradwegeKlassifizierung/daten/merkmale_datensatz_48\n",
      "   -> Dateiname: merkmale.csv\n",
      "   -> Dateiname: merkmaleRoh.csv\n",
      "   -> Dateiname: nickMesswerte.csv\n",
      "   -> Dateiname: sensoreventZeitstempel.csv\n",
      "   -> Dateiname: yAchseBeschleunigungswerte.csv\n",
      "   -> Dateiname: zAchseBeschleunigungswerte.csv\n",
      "Aktuelles Verzeichnis: C:/Users/morro/Documents/FahrradwegeKlassifizierung/daten/merkmale_datensatz_49\n",
      "   -> Dateiname: merkmale.csv\n",
      "   -> Dateiname: merkmaleRoh.csv\n",
      "   -> Dateiname: nickMesswerte.csv\n",
      "   -> Dateiname: sensoreventZeitstempel.csv\n",
      "   -> Dateiname: yAchseBeschleunigungswerte.csv\n",
      "   -> Dateiname: zAchseBeschleunigungswerte.csv\n",
      "Aktuelles Verzeichnis: C:/Users/morro/Documents/FahrradwegeKlassifizierung/daten/merkmale_datensatz_50\n",
      "   -> Dateiname: merkmale.csv\n",
      "   -> Dateiname: merkmaleRoh.csv\n",
      "   -> Dateiname: nickMesswerte.csv\n",
      "   -> Dateiname: sensoreventZeitstempel.csv\n",
      "   -> Dateiname: yAchseBeschleunigungswerte.csv\n",
      "   -> Dateiname: zAchseBeschleunigungswerte.csv\n",
      "Aktuelles Verzeichnis: C:/Users/morro/Documents/FahrradwegeKlassifizierung/daten/merkmale_datensatz_51\n",
      "   -> Dateiname: merkmale.csv\n",
      "   -> Dateiname: merkmaleRoh.csv\n",
      "   -> Dateiname: nickMesswerte.csv\n",
      "   -> Dateiname: sensoreventZeitstempel.csv\n",
      "   -> Dateiname: yAchseBeschleunigungswerte.csv\n",
      "   -> Dateiname: zAchseBeschleunigungswerte.csv\n"
     ]
    }
   ],
   "source": [
    "# Die Merkmale CSV Dateien werden in das Programm geladen\n",
    "featuresDF = []\n",
    "pitchDF = []\n",
    "accYDF = []\n",
    "accZDF = []\n",
    "eventTimestampsDF = []\n",
    "for path in paths: # Für jeden Pfad hole die Namen der Ordner\n",
    "    print(\"Aktuelles Verzeichnis: \" + str(path))\n",
    "    folders = os.listdir(path)\n",
    "    for name in folders: # Aus der Liste der Ordner wird ein Ordner ausgewählt\n",
    "        print(\"   -> Dateiname: \" + str(name))\n",
    "        filesPath = path + \"/\" + name\n",
    "        if name == \"merkmale.csv\":   # if abfrage, weil es in python kein switch Block gibt\n",
    "            featuresDF.append(pandas.read_csv(filepath_or_buffer=filesPath))\n",
    "        if name == \"nickMesswerte.csv\":\n",
    "            pitchDF.append(pandas.read_csv(filepath_or_buffer=filesPath))                \n",
    "        if name == \"sensoreventZeitstempel.csv\":\n",
    "            eventTimestampsDF.append(pandas.read_csv(filepath_or_buffer=filesPath))               \n",
    "        if name == \"yAchseBeschleunigungswerte.csv\":\n",
    "            accYDF.append(pandas.read_csv(filepath_or_buffer=filesPath))               \n",
    "        if name == \"zAchseBeschleunigungswerte.csv\":\n",
    "            accZDF.append(pandas.read_csv(filepath_or_buffer=filesPath))   "
   ]
  },
  {
   "cell_type": "code",
   "execution_count": 5,
   "metadata": {},
   "outputs": [],
   "source": [
    "# Jeder Panda Dataframe wird konkateniert\n",
    "# merkmale.csv\n",
    "length = len(featuresDF)\n",
    "if length >= 2:\n",
    "    resultFeaturesDF = featuresDF[0]\n",
    "    for df in featuresDF[1:]:\n",
    "        frames = [resultFeaturesDF, df]\n",
    "        resultFeaturesDF = pandas.concat(frames, ignore_index=True)\n",
    "length = len(pitchDF)\n",
    "# nickMesswerte.csv\n",
    "if length >= 2:\n",
    "    resultPitchDF = pitchDF[0]\n",
    "    for df in pitchDF[1:]:\n",
    "        frames = [resultPitchDF, df]\n",
    "        resultPitchDF = pandas.concat(frames, ignore_index=True)\n",
    "# sensoreventZeitstempel.csv\n",
    "length = len(eventTimestampsDF)\n",
    "if length >= 2:\n",
    "    resultEventTimestampsDF = eventTimestampsDF[0]\n",
    "    for df in eventTimestampsDF[1:]:\n",
    "        frames = [resultEventTimestampsDF, df]\n",
    "        resultEventTimestampsDF = pandas.concat(frames, ignore_index=True)\n",
    "#  yAchseBeschleunigungswerte.csv\n",
    "length = len(accYDF)\n",
    "if length >= 2:\n",
    "    resultAccYDF = accYDF[0]\n",
    "    for df in accYDF[1:]:\n",
    "        frames = [resultAccYDF, df]\n",
    "        resultAccYDF = pandas.concat(frames, ignore_index=True)\n",
    "#  zAchseBeschleunigungswerte.csv        \n",
    "length = len(accZDF)\n",
    "if length >= 2:\n",
    "    resultAccZDF = accZDF[0]\n",
    "    for df in accZDF[1:]:\n",
    "        frames = [resultAccZDF, df]\n",
    "        resultAccZDF = pandas.concat(frames, ignore_index=True)"
   ]
  },
  {
   "cell_type": "code",
   "execution_count": 6,
   "metadata": {},
   "outputs": [
    {
     "data": {
      "text/plain": [
       "(120193, 29)"
      ]
     },
     "execution_count": 6,
     "metadata": {},
     "output_type": "execute_result"
    }
   ],
   "source": [
    "resultFeaturesDF.shape"
   ]
  },
  {
   "cell_type": "code",
   "execution_count": 7,
   "metadata": {},
   "outputs": [
    {
     "data": {
      "text/plain": [
       "8"
      ]
     },
     "execution_count": 7,
     "metadata": {},
     "output_type": "execute_result"
    }
   ],
   "source": [
    "len(featuresDF)"
   ]
  },
  {
   "cell_type": "code",
   "execution_count": 8,
   "metadata": {},
   "outputs": [],
   "source": [
    "# Name des Ordners in dem die Merkmale abgespeichert werden\n",
    "folderName = pathName + \"43_45_bis_51\"\n",
    "if not os.path.exists(folderName):\n",
    "  os.makedirs(folderName)"
   ]
  },
  {
   "cell_type": "code",
   "execution_count": 9,
   "metadata": {},
   "outputs": [],
   "source": [
    "# Speichern der zusammengefügten Merkmale\n",
    "resultFeaturesDF.set_index('Zeitstempel in Unixzeit', inplace=True)\n",
    "resultFeaturesDF.to_csv(str(folderName) + \"/\" + \"merkmale.csv\")"
   ]
  },
  {
   "cell_type": "code",
   "execution_count": 10,
   "metadata": {},
   "outputs": [],
   "source": [
    "resultPitchDF.index.names = [\"index\"]\n",
    "resultPitchDF.set_index('index', inplace=True)\n",
    "resultPitchDF.to_csv((str(folderName) + \"/\" + \"nickMesswerte.csv\"))"
   ]
  },
  {
   "cell_type": "code",
   "execution_count": null,
   "metadata": {},
   "outputs": [],
   "source": [
    "resultEventTimestampsDF.index.names = [\"index\"]\n",
    "resultEventTimestampsDF.set_index('index', inplace=True)\n",
    "resultEventTimestampsDF.to_csv((str(folderName) + \"/\" + \"sensoreventZeitstempel.csv\"))"
   ]
  },
  {
   "cell_type": "code",
   "execution_count": null,
   "metadata": {},
   "outputs": [],
   "source": [
    "resultAccYDF.index.names = [\"index\"]\n",
    "resultAccYDF.set_index('index', inplace=True)\n",
    "resultAccYDF.to_csv((str(folderName) + \"/\" + \"yAchseBeschleunigungswerte.csv\"))"
   ]
  },
  {
   "cell_type": "code",
   "execution_count": null,
   "metadata": {},
   "outputs": [],
   "source": [
    "resultAccZDF.index.names = [\"index\"]\n",
    "resultAccZDF.set_index('index', inplace=True)\n",
    "resultAccZDF.to_csv((str(folderName) + \"/\" + \"zAchseBeschleunigungswerte.csv\"))"
   ]
  },
  {
   "cell_type": "code",
   "execution_count": null,
   "metadata": {},
   "outputs": [],
   "source": []
  }
 ],
 "metadata": {
  "kernelspec": {
   "display_name": "Python 3",
   "language": "python",
   "name": "python3"
  },
  "language_info": {
   "codemirror_mode": {
    "name": "ipython",
    "version": 3
   },
   "file_extension": ".py",
   "mimetype": "text/x-python",
   "name": "python",
   "nbconvert_exporter": "python",
   "pygments_lexer": "ipython3",
   "version": "3.6.4"
  },
  "latex_envs": {
   "LaTeX_envs_menu_present": true,
   "autocomplete": true,
   "bibliofile": "biblio.bib",
   "cite_by": "apalike",
   "current_citInitial": 1,
   "eqLabelWithNumbers": true,
   "eqNumInitial": 1,
   "hotkeys": {
    "equation": "Ctrl-E",
    "itemize": "Ctrl-I"
   },
   "labels_anchors": false,
   "latex_user_defs": false,
   "report_style_numbering": false,
   "user_envs_cfg": false
  },
  "toc": {
   "base_numbering": 1,
   "colors": {
    "hover_highlight": "#DAA520",
    "navigate_num": "#000000",
    "navigate_text": "#333333",
    "running_highlight": "#FF0000",
    "selected_highlight": "#FFD700",
    "sidebar_border": "#EEEEEE",
    "wrapper_background": "#FFFFFF"
   },
   "moveMenuLeft": true,
   "nav_menu": {
    "height": "12px",
    "width": "252px"
   },
   "navigate_menu": true,
   "number_sections": true,
   "sideBar": true,
   "skip_h1_title": false,
   "threshold": 4,
   "title_cell": "Table of Contents",
   "title_sidebar": "Contents",
   "toc_cell": false,
   "toc_position": {},
   "toc_section_display": "block",
   "toc_window_display": false,
   "widenNotebook": false
  },
  "varInspector": {
   "cols": {
    "lenName": 16,
    "lenType": 16,
    "lenVar": 40
   },
   "kernels_config": {
    "python": {
     "delete_cmd_postfix": "",
     "delete_cmd_prefix": "del ",
     "library": "var_list.py",
     "varRefreshCmd": "print(var_dic_list())"
    },
    "r": {
     "delete_cmd_postfix": ") ",
     "delete_cmd_prefix": "rm(",
     "library": "var_list.r",
     "varRefreshCmd": "cat(var_dic_list()) "
    }
   },
   "types_to_exclude": [
    "module",
    "function",
    "builtin_function_or_method",
    "instance",
    "_Feature"
   ],
   "window_display": false
  }
 },
 "nbformat": 4,
 "nbformat_minor": 2
}
