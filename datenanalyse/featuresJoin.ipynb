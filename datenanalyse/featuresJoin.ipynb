{
 "cells": [
  {
   "cell_type": "markdown",
   "metadata": {},
   "source": [
    "## Merkmal CSV Dateien konkatenieren\n",
    "\n",
    "In diesem Notebook ist es möglich merkmal CSV Dateien zusammenzufügen.   \n",
    "In der Android App für die Datenerfassung wird nach 2000 Bildern und Reihen in der Merkmal Datei ein neuer Ordner erstellt.  \n",
    "Hier ist es möglich aus den einzelnen Feature Dateien eine Datei zu erstellen."
   ]
  },
  {
   "cell_type": "code",
   "execution_count": 1,
   "metadata": {
    "ExecuteTime": {
     "end_time": "2018-05-03T12:53:08.142914Z",
     "start_time": "2018-05-03T12:53:08.138914Z"
    }
   },
   "outputs": [],
   "source": [
    "import pandas\n",
    "import os\n",
    "# Regex Vergleiche\n",
    "import re"
   ]
  },
  {
   "cell_type": "code",
   "execution_count": 30,
   "metadata": {
    "ExecuteTime": {
     "end_time": "2018-04-18T09:15:50.395296Z",
     "start_time": "2018-04-18T09:15:50.217513Z"
    }
   },
   "outputs": [],
   "source": [
    "# Lesen der Merkmal CSV Dateien\n",
    "path = \"C:/Users/morro/Documents/datenRoh/22/2018_3_6_15_15/\" \n",
    "files = os.listdir(path)\n",
    "featuresDF = []\n",
    "for file in files:\n",
    "    if re.match('[0-9]', file) is not None:\n",
    "        featuresDF.append(pandas.read_csv(filepath_or_buffer= path + file + \"/merkmaleRoh.csv\"))  "
   ]
  },
  {
   "cell_type": "code",
   "execution_count": 32,
   "metadata": {
    "ExecuteTime": {
     "end_time": "2018-04-18T09:16:07.288782Z",
     "start_time": "2018-04-18T09:16:07.280782Z"
    }
   },
   "outputs": [
    {
     "data": {
      "text/plain": [
       "['1', '2', '3', '4', '5', 'befestigt', 'unbefestigt']"
      ]
     },
     "execution_count": 32,
     "metadata": {},
     "output_type": "execute_result"
    }
   ],
   "source": [
    "files"
   ]
  },
  {
   "cell_type": "code",
   "execution_count": 6,
   "metadata": {
    "ExecuteTime": {
     "end_time": "2018-05-03T12:55:42.284982Z",
     "start_time": "2018-05-03T12:55:40.064788Z"
    }
   },
   "outputs": [],
   "source": [
    "# Jeder Panda Dataframe wird konkateniert\n",
    "length = len(featuresDF)\n",
    "if length >= 2:\n",
    "    result = featuresDF[0]\n",
    "    for df in featuresDF[1:]:\n",
    "        frames = [result, df]\n",
    "        result = pandas.concat(frames, ignore_index=True)"
   ]
  },
  {
   "cell_type": "code",
   "execution_count": 7,
   "metadata": {
    "ExecuteTime": {
     "end_time": "2018-05-03T12:55:47.967947Z",
     "start_time": "2018-05-03T12:55:43.660011Z"
    }
   },
   "outputs": [
    {
     "name": "stdout",
     "output_type": "stream",
     "text": [
      "                         Breitengrad  Laengengrad  Geschwindigkeit in km/h  \\\n",
      "Zeitstempel in Unixzeit                                                      \n",
      "1528298106320               53.61351    10.137871                 7.812001   \n",
      "1528298106995               53.61351    10.137871                 7.812001   \n",
      "\n",
      "                         Genauigkeit der Geschwindigkeit speedAccuracyMetersPerSecond  \\\n",
      "Zeitstempel in Unixzeit                                                                 \n",
      "1528298106320                                                     0.846463              \n",
      "1528298106995                                                     0.846463              \n",
      "\n",
      "                         Lokations Zeitstempel in Unixzeit  \\\n",
      "Zeitstempel in Unixzeit                                      \n",
      "1528298106320                                1528298106000   \n",
      "1528298106995                                1528298106000   \n",
      "\n",
      "                                     Z-Achse Beschleunigungswerte in m/s^2  \\\n",
      "Zeitstempel in Unixzeit                                                      \n",
      "1528298106320            0.04741 -0.66024 1.40501 1.43972 -0.05487 -0.1...   \n",
      "1528298106995            0.23724 -0.14615 -0.66262 0.08342 0.36903 0.36...   \n",
      "\n",
      "                                     Y-Achse Beschleunigungswerte in m/s^2  \\\n",
      "Zeitstempel in Unixzeit                                                      \n",
      "1528298106320            -1.53828 -0.99954 -3.17388 -3.41181 -0.49604 0...   \n",
      "1528298106995            -0.85446 -0.20665 -0.07723 0.33926 -0.37236 -0...   \n",
      "\n",
      "                                                     Nick Messwerte in rad  \\\n",
      "Zeitstempel in Unixzeit                                                      \n",
      "1528298106320            0.13311 0.08027 0.26962 0.28995 0.02472 -0.087...   \n",
      "1528298106995            0.06934 -0.01276 -0.03028 -0.03028 0.00444 0.0...   \n",
      "\n",
      "                                           Zeitstempel der Messwerte in ns  \\\n",
      "Zeitstempel in Unixzeit                                                      \n",
      "1528298106320            7828991 15825899 23820099 31815079 39815944 47...   \n",
      "1528298106995            1346911 9344911 17341038 25337164 33635426 413...   \n",
      "\n",
      "                         Anzahl der Messwerte  \\\n",
      "Zeitstempel in Unixzeit                         \n",
      "1528298106320                              56   \n",
      "1528298106995                              57   \n",
      "\n",
      "                         Start des Zeitfensters in ns seit Start der JVM  \\\n",
      "Zeitstempel in Unixzeit                                                    \n",
      "1528298106320                                              2856502349180   \n",
      "1528298106995                                              2857180458423   \n",
      "\n",
      "                         Zeitstempel Messwertdaten anfordern in Unixzeit  \\\n",
      "Zeitstempel in Unixzeit                                                    \n",
      "1528298106320                                              1528298106466   \n",
      "1528298106995                                              1528298107132   \n",
      "\n",
      "                         Start der Messwerterfassung in ns seit Start der JVM  \\\n",
      "Zeitstempel in Unixzeit                                                         \n",
      "1528298106320                                                2856286301219      \n",
      "1528298106995                                                2856286301219      \n",
      "\n",
      "                         Erster Zeitstempel der Teilliste in ns seit Start der JVM  \\\n",
      "Zeitstempel in Unixzeit                                                              \n",
      "1528298106320                                                2856286301219           \n",
      "1528298106995                                                2856358261980           \n",
      "\n",
      "                         Start der Belichtung in ns seit Start der JVM  \\\n",
      "Zeitstempel in Unixzeit                                                  \n",
      "1528298106320                                            2856717765754   \n",
      "1528298106995                                            2857405872239   \n",
      "\n",
      "                         Belichtungszeit in ns  \\\n",
      "Zeitstempel in Unixzeit                          \n",
      "1528298106320                         29996324   \n",
      "1528298106995                         10001839   \n",
      "\n",
      "                         Letzter Zeitstempel der Messwerterfassung in ns seit Start der JVM  \\\n",
      "Zeitstempel in Unixzeit                                                                       \n",
      "1528298106320                                                2856981921863                    \n",
      "1528298106995                                                2857645547274                    \n",
      "\n",
      "                         Speicherzeitpunkt der Merkmale in Unixzeit  \n",
      "Zeitstempel in Unixzeit                                              \n",
      "1528298106320                                         1528298106773  \n",
      "1528298106995                                         1528298107274  \n"
     ]
    }
   ],
   "source": [
    "# Schreibe neue Features CSV Datei\n",
    "result.set_index('Zeitstempel in Unixzeit', inplace=True)\n",
    "print(result.head(2))\n",
    "result.to_csv(\"merkmaleRoh.csv\")"
   ]
  },
  {
   "cell_type": "code",
   "execution_count": 8,
   "metadata": {
    "ExecuteTime": {
     "end_time": "2018-05-03T12:55:50.770861Z",
     "start_time": "2018-05-03T12:55:50.766862Z"
    }
   },
   "outputs": [
    {
     "data": {
      "text/plain": [
       "(5940, 18)"
      ]
     },
     "execution_count": 8,
     "metadata": {},
     "output_type": "execute_result"
    }
   ],
   "source": [
    "result.shape"
   ]
  },
  {
   "cell_type": "markdown",
   "metadata": {},
   "source": [
    "Mit den folgenden Zellen können von einem kompletten Datensatz die Bilder zugeschnitten werden. "
   ]
  },
  {
   "cell_type": "code",
   "execution_count": 2,
   "metadata": {
    "ExecuteTime": {
     "end_time": "2018-05-03T12:55:31.175209Z",
     "start_time": "2018-05-03T12:55:31.155209Z"
    }
   },
   "outputs": [
    {
     "data": {
      "text/html": [
       "<div>\n",
       "<style scoped>\n",
       "    .dataframe tbody tr th:only-of-type {\n",
       "        vertical-align: middle;\n",
       "    }\n",
       "\n",
       "    .dataframe tbody tr th {\n",
       "        vertical-align: top;\n",
       "    }\n",
       "\n",
       "    .dataframe thead th {\n",
       "        text-align: right;\n",
       "    }\n",
       "</style>\n",
       "<table border=\"1\" class=\"dataframe\">\n",
       "  <thead>\n",
       "    <tr style=\"text-align: right;\">\n",
       "      <th></th>\n",
       "      <th>0</th>\n",
       "    </tr>\n",
       "  </thead>\n",
       "  <tbody>\n",
       "    <tr>\n",
       "      <th>0</th>\n",
       "      <td>41</td>\n",
       "    </tr>\n",
       "    <tr>\n",
       "      <th>1</th>\n",
       "      <td>2018_5_6_17_14</td>\n",
       "    </tr>\n",
       "  </tbody>\n",
       "</table>\n",
       "</div>"
      ],
      "text/plain": [
       "                0\n",
       "0              41\n",
       "1  2018_5_6_17_14"
      ]
     },
     "execution_count": 2,
     "metadata": {},
     "output_type": "execute_result"
    }
   ],
   "source": [
    "# Hier können die Datensätze ausgewählt werden mit den entsprechenden Ordner Namen\n",
    "datasets = pandas.DataFrame([['41'],['2018_5_6_17_14']])\n",
    "# Die Pfade zu den Ordnern in welchem sich die Merkmale befinden\n",
    "paths = []\n",
    "datasets"
   ]
  },
  {
   "cell_type": "code",
   "execution_count": 3,
   "metadata": {
    "ExecuteTime": {
     "end_time": "2018-05-03T12:55:31.925146Z",
     "start_time": "2018-05-03T12:55:31.921145Z"
    }
   },
   "outputs": [],
   "source": [
    "for date, dataset in datasets.iteritems(): # Für jeden Datensatz merke Pfad\n",
    "    paths.append(\"E:/bachelor/daten/\" + dataset.iloc[0] + \"/\" + dataset.iloc[1] + \"/\")"
   ]
  },
  {
   "cell_type": "code",
   "execution_count": 4,
   "metadata": {
    "ExecuteTime": {
     "end_time": "2018-05-03T12:55:32.684507Z",
     "start_time": "2018-05-03T12:55:32.676509Z"
    }
   },
   "outputs": [
    {
     "data": {
      "text/plain": [
       "['E:/bachelor/daten/41/2018_5_6_17_14/']"
      ]
     },
     "execution_count": 4,
     "metadata": {},
     "output_type": "execute_result"
    }
   ],
   "source": [
    "paths"
   ]
  },
  {
   "cell_type": "code",
   "execution_count": 5,
   "metadata": {
    "ExecuteTime": {
     "end_time": "2018-05-03T12:55:36.045417Z",
     "start_time": "2018-05-03T12:55:34.045417Z"
    }
   },
   "outputs": [
    {
     "name": "stdout",
     "output_type": "stream",
     "text": [
      "1\n",
      "2\n",
      "3\n"
     ]
    }
   ],
   "source": [
    "featuresDF = [] \n",
    "for path in paths: # Für jeden Pfad hole die Namen der Ordner\n",
    "    folders = os.listdir(path)\n",
    "    folders = sorted(folders, key=int)\n",
    "    for folder in folders: # Aus der Liste der Ordner wird ein Ordner ausgewählt\n",
    "        print(folder)\n",
    "        if re.match('[0-9]', folder) is not None: \n",
    "            filesPath = path + folder + \"/merkmaleRoh.csv\"\n",
    "            featuresDF.append(pandas.read_csv(filepath_or_buffer=filesPath))\n",
    "# Anschließend nachdem alle Merkmal Dateien in der Liste stehen muss Zeile 4 & 5 ausgeführt werden,\n",
    "# um die Dateien zu konkatenieren"
   ]
  },
  {
   "cell_type": "code",
   "execution_count": null,
   "metadata": {},
   "outputs": [],
   "source": []
  }
 ],
 "metadata": {
  "kernelspec": {
   "display_name": "Python 3",
   "language": "python",
   "name": "python3"
  },
  "language_info": {
   "codemirror_mode": {
    "name": "ipython",
    "version": 3
   },
   "file_extension": ".py",
   "mimetype": "text/x-python",
   "name": "python",
   "nbconvert_exporter": "python",
   "pygments_lexer": "ipython3",
   "version": "3.6.4"
  },
  "latex_envs": {
   "LaTeX_envs_menu_present": true,
   "autocomplete": true,
   "bibliofile": "biblio.bib",
   "cite_by": "apalike",
   "current_citInitial": 1,
   "eqLabelWithNumbers": true,
   "eqNumInitial": 1,
   "hotkeys": {
    "equation": "Ctrl-E",
    "itemize": "Ctrl-I"
   },
   "labels_anchors": false,
   "latex_user_defs": false,
   "report_style_numbering": false,
   "user_envs_cfg": false
  },
  "toc": {
   "base_numbering": 1,
   "colors": {
    "hover_highlight": "#DAA520",
    "navigate_num": "#000000",
    "navigate_text": "#333333",
    "running_highlight": "#FF0000",
    "selected_highlight": "#FFD700",
    "sidebar_border": "#EEEEEE",
    "wrapper_background": "#FFFFFF"
   },
   "moveMenuLeft": true,
   "nav_menu": {
    "height": "12px",
    "width": "252px"
   },
   "navigate_menu": true,
   "number_sections": true,
   "sideBar": true,
   "skip_h1_title": false,
   "threshold": 4,
   "title_cell": "Table of Contents",
   "title_sidebar": "Contents",
   "toc_cell": false,
   "toc_position": {},
   "toc_section_display": "block",
   "toc_window_display": false,
   "widenNotebook": false
  },
  "varInspector": {
   "cols": {
    "lenName": 16,
    "lenType": 16,
    "lenVar": 40
   },
   "kernels_config": {
    "python": {
     "delete_cmd_postfix": "",
     "delete_cmd_prefix": "del ",
     "library": "var_list.py",
     "varRefreshCmd": "print(var_dic_list())"
    },
    "r": {
     "delete_cmd_postfix": ") ",
     "delete_cmd_prefix": "rm(",
     "library": "var_list.r",
     "varRefreshCmd": "cat(var_dic_list()) "
    }
   },
   "types_to_exclude": [
    "module",
    "function",
    "builtin_function_or_method",
    "instance",
    "_Feature"
   ],
   "window_display": false
  }
 },
 "nbformat": 4,
 "nbformat_minor": 2
}
