{
 "cells": [
  {
   "cell_type": "markdown",
   "metadata": {},
   "source": [
    "## Merkmal CSV Dateien konkatenieren\n",
    "\n",
    "In diesem Notebook ist es möglich merkmal CSV Dateien zusammenzufügen.   \n",
    "In der Android App für die Datenerfassung wird nach 2000 Bildern und Reihen in der Merkmal Datei ein neuer Ordner erstellt.  \n",
    "Hier ist es möglich aus den einzelnen Feature Dateien eine Datei zu erstellen."
   ]
  },
  {
   "cell_type": "code",
   "execution_count": 1,
   "metadata": {
    "ExecuteTime": {
     "end_time": "2018-05-03T12:53:08.142914Z",
     "start_time": "2018-05-03T12:53:08.138914Z"
    }
   },
   "outputs": [],
   "source": [
    "import pandas\n",
    "import os\n",
    "# Regex Vergleiche\n",
    "import re"
   ]
  },
  {
   "cell_type": "code",
   "execution_count": 30,
   "metadata": {
    "ExecuteTime": {
     "end_time": "2018-04-18T09:15:50.395296Z",
     "start_time": "2018-04-18T09:15:50.217513Z"
    }
   },
   "outputs": [],
   "source": [
    "# Lesen der Merkmal CSV Dateien\n",
    "path = \"C:/Users/morro/Documents/datenRoh/22/2018_3_6_15_15/\" \n",
    "files = os.listdir(path)\n",
    "featuresDF = []\n",
    "for file in files:\n",
    "    if re.match('[0-9]', file) is not None:\n",
    "        featuresDF.append(pandas.read_csv(filepath_or_buffer= path + file + \"/merkmaleRoh.csv\"))  "
   ]
  },
  {
   "cell_type": "code",
   "execution_count": 32,
   "metadata": {
    "ExecuteTime": {
     "end_time": "2018-04-18T09:16:07.288782Z",
     "start_time": "2018-04-18T09:16:07.280782Z"
    }
   },
   "outputs": [
    {
     "data": {
      "text/plain": [
       "['1', '2', '3', '4', '5', 'befestigt', 'unbefestigt']"
      ]
     },
     "execution_count": 32,
     "metadata": {},
     "output_type": "execute_result"
    }
   ],
   "source": [
    "files"
   ]
  },
  {
   "cell_type": "code",
   "execution_count": 6,
   "metadata": {
    "ExecuteTime": {
     "end_time": "2018-05-03T12:55:42.284982Z",
     "start_time": "2018-05-03T12:55:40.064788Z"
    }
   },
   "outputs": [],
   "source": [
    "# Jeder Panda Dataframe wird konkateniert\n",
    "length = len(featuresDF)\n",
    "if length >= 2:\n",
    "    result = featuresDF[0]\n",
    "    for df in featuresDF[1:]:\n",
    "        frames = [result, df]\n",
    "        result = pandas.concat(frames, ignore_index=True)"
   ]
  },
  {
   "cell_type": "code",
   "execution_count": 7,
   "metadata": {
    "ExecuteTime": {
     "end_time": "2018-05-03T12:55:47.967947Z",
     "start_time": "2018-05-03T12:55:43.660011Z"
    }
   },
   "outputs": [
    {
     "name": "stdout",
     "output_type": "stream",
     "text": [
      "                         Breitengrad  Laengengrad  Geschwindigkeit in km/h  \\\n",
      "Zeitstempel in Unixzeit                                                      \n",
      "1528549565108              53.611847    10.136237                    6.984   \n",
      "1528549565811              53.611847    10.136237                    6.984   \n",
      "\n",
      "                         Genauigkeit der Geschwindigkeit speedAccuracyMetersPerSecond  \\\n",
      "Zeitstempel in Unixzeit                                                                 \n",
      "1528549565108                                                     0.460977              \n",
      "1528549565811                                                     0.460977              \n",
      "\n",
      "                         Lokations Zeitstempel in Unixzeit  \\\n",
      "Zeitstempel in Unixzeit                                      \n",
      "1528549565108                                1528549565000   \n",
      "1528549565811                                1528549565000   \n",
      "\n",
      "                                     Z-Achse Beschleunigungswerte in m/s^2  \\\n",
      "Zeitstempel in Unixzeit                                                      \n",
      "1528549565108            0.41248 0.19911 -0.60661 -0.47431 1.01484 1.01...   \n",
      "1528549565811            -0.04285 4.5077 -4.99969 -4.43344 -0.90661 -0....   \n",
      "\n",
      "                                     Y-Achse Beschleunigungswerte in m/s^2  \\\n",
      "Zeitstempel in Unixzeit                                                      \n",
      "1528549565108            -0.41989 0.06283 -0.46797 -0.65126 -1.9604 -1....   \n",
      "1528549565811            5.07242 -2.73183 0.68942 3.26396 0.09342 0.093...   \n",
      "\n",
      "                                                     Nick Messwerte in rad  \\\n",
      "Zeitstempel in Unixzeit                                                      \n",
      "1528549565108            0.01887 -0.03019 0.02016 0.03858 0.15786 0.157...   \n",
      "1528549565811            -0.51844 0.16962 -0.28997 -0.68068 -0.07831 -0...   \n",
      "\n",
      "                                           Zeitstempel der Messwerte in ns  \\\n",
      "Zeitstempel in Unixzeit                                                      \n",
      "1528549565108            7768430 15764452 23769641 31765194 39751269 47...   \n",
      "1528549565811            2550781 10547740 18543086 26540514 34537683 42...   \n",
      "\n",
      "                         Anzahl der Messwerte  \\\n",
      "Zeitstempel in Unixzeit                         \n",
      "1528549565108                              63   \n",
      "1528549565811                              63   \n",
      "\n",
      "                         Start des Zeitfensters in ns seit Start der JVM  \\\n",
      "Zeitstempel in Unixzeit                                                    \n",
      "1528549565108                                              5141816314250   \n",
      "1528549565811                                              5142517154575   \n",
      "\n",
      "                         Zeitstempel Messwertdaten anfordern in Unixzeit  \\\n",
      "Zeitstempel in Unixzeit                                                    \n",
      "1528549565108                                              1528549565288   \n",
      "1528549565811                                              1528549565975   \n",
      "\n",
      "                         Start der Messwerterfassung in ns seit Start der JVM  \\\n",
      "Zeitstempel in Unixzeit                                                         \n",
      "1528549565108                                                5141584222381      \n",
      "1528549565811                                                5141584222381      \n",
      "\n",
      "                         Erster Zeitstempel der Teilliste in ns seit Start der JVM  \\\n",
      "Zeitstempel in Unixzeit                                                              \n",
      "1528549565108                                                5141584222381           \n",
      "1528549565811                                                5141720149392           \n",
      "\n",
      "                         Start der Belichtung in ns seit Start der JVM  \\\n",
      "Zeitstempel in Unixzeit                                                  \n",
      "1528549565108                                            5142073269405   \n",
      "1528549565811                                            5142773434054   \n",
      "\n",
      "                         Belichtungszeit in ns  \\\n",
      "Zeitstempel in Unixzeit                          \n",
      "1528549565108                          1553594   \n",
      "1528549565811                          2904945   \n",
      "\n",
      "                         Letzter Zeitstempel der Messwerterfassung in ns seit Start der JVM  \\\n",
      "Zeitstempel in Unixzeit                                                                       \n",
      "1528549565108                                                5142343805420                    \n",
      "1528549565811                                                5143031425154                    \n",
      "\n",
      "                         Speicherzeitpunkt der Merkmale in Unixzeit  \n",
      "Zeitstempel in Unixzeit                                              \n",
      "1528549565108                                         1528549565569  \n",
      "1528549565811                                         1528549566127  \n"
     ]
    }
   ],
   "source": [
    "# Schreibe neue Features CSV Datei\n",
    "result.set_index('Zeitstempel in Unixzeit', inplace=True)\n",
    "print(result.head(2))\n",
    "result.to_csv(\"merkmaleRoh.csv\")"
   ]
  },
  {
   "cell_type": "code",
   "execution_count": 8,
   "metadata": {
    "ExecuteTime": {
     "end_time": "2018-05-03T12:55:50.770861Z",
     "start_time": "2018-05-03T12:55:50.766862Z"
    }
   },
   "outputs": [
    {
     "data": {
      "text/plain": [
       "(15793, 18)"
      ]
     },
     "execution_count": 8,
     "metadata": {},
     "output_type": "execute_result"
    }
   ],
   "source": [
    "result.shape"
   ]
  },
  {
   "cell_type": "code",
   "execution_count": 29,
   "metadata": {},
   "outputs": [
    {
     "name": "stdout",
     "output_type": "stream",
     "text": [
      "<class 'pandas.core.frame.DataFrame'>\n",
      "Int64Index: 17571 entries, 1528120783258 to 1528129252739\n",
      "Data columns (total 16 columns):\n",
      "Breitengrad                                                           17571 non-null float64\n",
      "Laengengrad                                                           17571 non-null float64\n",
      "Geschwindigkeit in km/h                                               17571 non-null float64\n",
      "Z-Achse Beschleunigungswerte in m/s^2                                 17571 non-null object\n",
      "Y-Achse Beschleunigungswerte in m/s^2                                 17571 non-null object\n",
      "Nick Messwerte in rad                                                 17571 non-null object\n",
      "Zeitstempel der Messwerte in ns                                       17571 non-null object\n",
      "Anzahl der Messwerte                                                  17571 non-null int64\n",
      "Start des Zeitfensters in ns seit Start der JVM                       17571 non-null int64\n",
      "Zeitstempel Messwertdaten anfordern in Unixzeit                       17571 non-null int64\n",
      "Start der Messwerterfassung in ns seit Start der JVM                  17571 non-null int64\n",
      "Erster Zeitstempel der Teilliste in ns seit Start der JVM             17571 non-null int64\n",
      "Start der Belichtung in ns seit Start der JVM                         17571 non-null int64\n",
      "Belichtungszeit in ns                                                 17571 non-null int64\n",
      "Letzter Zeitstempel der Messwerterfassung in ns seit Start der JVM    17571 non-null int64\n",
      "Speicherzeitpunkt der Merkmale in Unixzeit                            17571 non-null int64\n",
      "dtypes: float64(3), int64(9), object(4)\n",
      "memory usage: 2.3+ MB\n"
     ]
    }
   ],
   "source": [
    "result.info()"
   ]
  },
  {
   "cell_type": "markdown",
   "metadata": {},
   "source": [
    "Mit den folgenden Zellen können von einem kompletten Datensatz die Bilder zugeschnitten werden. "
   ]
  },
  {
   "cell_type": "code",
   "execution_count": 2,
   "metadata": {
    "ExecuteTime": {
     "end_time": "2018-05-03T12:55:31.175209Z",
     "start_time": "2018-05-03T12:55:31.155209Z"
    }
   },
   "outputs": [
    {
     "data": {
      "text/html": [
       "<div>\n",
       "<style scoped>\n",
       "    .dataframe tbody tr th:only-of-type {\n",
       "        vertical-align: middle;\n",
       "    }\n",
       "\n",
       "    .dataframe tbody tr th {\n",
       "        vertical-align: top;\n",
       "    }\n",
       "\n",
       "    .dataframe thead th {\n",
       "        text-align: right;\n",
       "    }\n",
       "</style>\n",
       "<table border=\"1\" class=\"dataframe\">\n",
       "  <thead>\n",
       "    <tr style=\"text-align: right;\">\n",
       "      <th></th>\n",
       "      <th>0</th>\n",
       "    </tr>\n",
       "  </thead>\n",
       "  <tbody>\n",
       "    <tr>\n",
       "      <th>0</th>\n",
       "      <td>42</td>\n",
       "    </tr>\n",
       "    <tr>\n",
       "      <th>1</th>\n",
       "      <td>2018_5_9_15_4</td>\n",
       "    </tr>\n",
       "  </tbody>\n",
       "</table>\n",
       "</div>"
      ],
      "text/plain": [
       "               0\n",
       "0             42\n",
       "1  2018_5_9_15_4"
      ]
     },
     "execution_count": 2,
     "metadata": {},
     "output_type": "execute_result"
    }
   ],
   "source": [
    "# Hier können die Datensätze ausgewählt werden mit den entsprechenden Ordner Namen\n",
    "datasets = pandas.DataFrame([['42'],['2018_5_9_15_4']])\n",
    "# Die Pfade zu den Ordnern in welchem sich die Merkmale befinden\n",
    "paths = []\n",
    "datasets"
   ]
  },
  {
   "cell_type": "code",
   "execution_count": 3,
   "metadata": {
    "ExecuteTime": {
     "end_time": "2018-05-03T12:55:31.925146Z",
     "start_time": "2018-05-03T12:55:31.921145Z"
    }
   },
   "outputs": [],
   "source": [
    "for date, dataset in datasets.iteritems(): # Für jeden Datensatz merke Pfad\n",
    "    paths.append(\"E:/bachelor/daten/\" + dataset.iloc[0] + \"/\" + dataset.iloc[1] + \"/\")"
   ]
  },
  {
   "cell_type": "code",
   "execution_count": 4,
   "metadata": {
    "ExecuteTime": {
     "end_time": "2018-05-03T12:55:32.684507Z",
     "start_time": "2018-05-03T12:55:32.676509Z"
    }
   },
   "outputs": [
    {
     "data": {
      "text/plain": [
       "['E:/bachelor/daten/42/2018_5_9_15_4/']"
      ]
     },
     "execution_count": 4,
     "metadata": {},
     "output_type": "execute_result"
    }
   ],
   "source": [
    "paths"
   ]
  },
  {
   "cell_type": "code",
   "execution_count": 5,
   "metadata": {
    "ExecuteTime": {
     "end_time": "2018-05-03T12:55:36.045417Z",
     "start_time": "2018-05-03T12:55:34.045417Z"
    }
   },
   "outputs": [
    {
     "name": "stdout",
     "output_type": "stream",
     "text": [
      "1\n",
      "2\n",
      "3\n",
      "4\n",
      "5\n",
      "6\n",
      "7\n",
      "8\n"
     ]
    }
   ],
   "source": [
    "featuresDF = [] \n",
    "for path in paths: # Für jeden Pfad hole die Namen der Ordner\n",
    "    folders = os.listdir(path)\n",
    "    folders = sorted(folders, key=int)\n",
    "    for folder in folders: # Aus der Liste der Ordner wird ein Ordner ausgewählt\n",
    "        print(folder)\n",
    "        if re.match('[0-9]', folder) is not None: \n",
    "            filesPath = path + folder + \"/merkmaleRoh.csv\"\n",
    "            featuresDF.append(pandas.read_csv(filepath_or_buffer=filesPath))\n",
    "# Anschließend nachdem alle Merkmal Dateien in der Liste stehen muss Zeile 4 & 5 ausgeführt werden,\n",
    "# um die Dateien zu konkatenieren"
   ]
  },
  {
   "cell_type": "code",
   "execution_count": 20,
   "metadata": {},
   "outputs": [],
   "source": [
    "pd = pandas.read_csv('E:/bachelor/daten/39/2018_5_4_15_58/5/merkmaleRoh.csv')"
   ]
  },
  {
   "cell_type": "code",
   "execution_count": 21,
   "metadata": {},
   "outputs": [
    {
     "name": "stdout",
     "output_type": "stream",
     "text": [
      "<class 'pandas.core.frame.DataFrame'>\n",
      "RangeIndex: 1993 entries, 0 to 1992\n",
      "Data columns (total 17 columns):\n",
      "Zeitstempel in Unixzeit                                               1993 non-null int64\n",
      "Breitengrad                                                           1993 non-null float64\n",
      "Laengengrad                                                           1993 non-null float64\n",
      "Geschwindigkeit in km/h                                               1993 non-null float64\n",
      "Z-Achse Beschleunigungswerte in m/s^2                                 1993 non-null object\n",
      "Y-Achse Beschleunigungswerte in m/s^2                                 1993 non-null object\n",
      "Nick Messwerte in rad                                                 1993 non-null object\n",
      "Zeitstempel der Messwerte in ns                                       1993 non-null object\n",
      "Anzahl der Messwerte                                                  1993 non-null int64\n",
      "Start des Zeitfensters in ns seit Start der JVM                       1993 non-null int64\n",
      "Zeitstempel Messwertdaten anfordern in Unixzeit                       1993 non-null int64\n",
      "Start der Messwerterfassung in ns seit Start der JVM                  1993 non-null int64\n",
      "Erster Zeitstempel der Teilliste in ns seit Start der JVM             1993 non-null int64\n",
      "Start der Belichtung in ns seit Start der JVM                         1993 non-null int64\n",
      "Belichtungszeit in ns                                                 1993 non-null int64\n",
      "Letzter Zeitstempel der Messwerterfassung in ns seit Start der JVM    1993 non-null int64\n",
      "Speicherzeitpunkt der Merkmale in Unixzeit                            1993 non-null int64\n",
      "dtypes: float64(3), int64(10), object(4)\n",
      "memory usage: 264.8+ KB\n"
     ]
    }
   ],
   "source": [
    "pd.info()"
   ]
  },
  {
   "cell_type": "code",
   "execution_count": null,
   "metadata": {},
   "outputs": [],
   "source": []
  }
 ],
 "metadata": {
  "kernelspec": {
   "display_name": "Python 3",
   "language": "python",
   "name": "python3"
  },
  "language_info": {
   "codemirror_mode": {
    "name": "ipython",
    "version": 3
   },
   "file_extension": ".py",
   "mimetype": "text/x-python",
   "name": "python",
   "nbconvert_exporter": "python",
   "pygments_lexer": "ipython3",
   "version": "3.6.4"
  },
  "latex_envs": {
   "LaTeX_envs_menu_present": true,
   "autocomplete": true,
   "bibliofile": "biblio.bib",
   "cite_by": "apalike",
   "current_citInitial": 1,
   "eqLabelWithNumbers": true,
   "eqNumInitial": 1,
   "hotkeys": {
    "equation": "Ctrl-E",
    "itemize": "Ctrl-I"
   },
   "labels_anchors": false,
   "latex_user_defs": false,
   "report_style_numbering": false,
   "user_envs_cfg": false
  },
  "toc": {
   "base_numbering": 1,
   "colors": {
    "hover_highlight": "#DAA520",
    "navigate_num": "#000000",
    "navigate_text": "#333333",
    "running_highlight": "#FF0000",
    "selected_highlight": "#FFD700",
    "sidebar_border": "#EEEEEE",
    "wrapper_background": "#FFFFFF"
   },
   "moveMenuLeft": true,
   "nav_menu": {
    "height": "12px",
    "width": "252px"
   },
   "navigate_menu": true,
   "number_sections": true,
   "sideBar": true,
   "skip_h1_title": false,
   "threshold": 4,
   "title_cell": "Table of Contents",
   "title_sidebar": "Contents",
   "toc_cell": false,
   "toc_position": {},
   "toc_section_display": "block",
   "toc_window_display": false,
   "widenNotebook": false
  },
  "varInspector": {
   "cols": {
    "lenName": 16,
    "lenType": 16,
    "lenVar": 40
   },
   "kernels_config": {
    "python": {
     "delete_cmd_postfix": "",
     "delete_cmd_prefix": "del ",
     "library": "var_list.py",
     "varRefreshCmd": "print(var_dic_list())"
    },
    "r": {
     "delete_cmd_postfix": ") ",
     "delete_cmd_prefix": "rm(",
     "library": "var_list.r",
     "varRefreshCmd": "cat(var_dic_list()) "
    }
   },
   "types_to_exclude": [
    "module",
    "function",
    "builtin_function_or_method",
    "instance",
    "_Feature"
   ],
   "window_display": false
  }
 },
 "nbformat": 4,
 "nbformat_minor": 2
}
