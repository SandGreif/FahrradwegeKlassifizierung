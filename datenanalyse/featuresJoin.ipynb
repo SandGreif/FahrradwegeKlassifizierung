{
 "cells": [
  {
   "cell_type": "markdown",
   "metadata": {},
   "source": [
    "In diesem Notebook ist es möglich Features CSV Dateien zusammenzufügen.   \n",
    "In der Android App für die Datenerfassung wird nach 2000 Bildern und Reihen in der Feature Datei ein neuer Ordner erstellt.  \n",
    "Hier ist es möglich aus den einzelnen Feature Dateien eine Datei zu erstellen."
   ]
  },
  {
   "cell_type": "code",
   "execution_count": 1,
   "metadata": {},
   "outputs": [],
   "source": [
    "import pandas\n",
    "import os"
   ]
  },
  {
   "cell_type": "code",
   "execution_count": 26,
   "metadata": {},
   "outputs": [],
   "source": [
    "# Lesen der Feature CSV Dateien\n",
    "path = \"E:/bachelor/data/9/2018_1_21_14_59/\" \n",
    "files = os.listdir(path)\n",
    "featuresDF = []\n",
    "for file in files:\n",
    "    featuresDF.append(pandas.read_csv(filepath_or_buffer= path + file + \"/features.csv\"))  "
   ]
  },
  {
   "cell_type": "code",
   "execution_count": 28,
   "metadata": {},
   "outputs": [],
   "source": [
    "# Jeder Panda Dataframe wird konkateniert\n",
    "length = len(featuresDF)\n",
    "if length >= 2:\n",
    "    result = featuresDF[0]\n",
    "    for df in featuresDF[1:]:\n",
    "        frames = [result, df]\n",
    "        result = pandas.concat(frames, ignore_index=True)"
   ]
  },
  {
   "cell_type": "code",
   "execution_count": 29,
   "metadata": {},
   "outputs": [
    {
     "name": "stdout",
     "output_type": "stream",
     "text": [
      "               Breitengrad  Laengengrad  Geschwindigkeit  MittelWX  VarianzX  \\\n",
      "Zeitstempel                                                                    \n",
      "1519221554869     53.61378    10.138174              0.0     0.002     0.416   \n",
      "1519221555195     53.61378    10.138174              0.0     0.198     0.152   \n",
      "1519221555478     53.61378    10.138174              0.0    -0.082     0.059   \n",
      "1519221555767     53.61378    10.138174              0.0    -0.159     0.000   \n",
      "1519221556039     53.61378    10.138174              0.0    -0.430     0.000   \n",
      "\n",
      "               StandardAX  MittelWY  VarianzY  StandardAY  MittelWZ  \\\n",
      "Zeitstempel                                                           \n",
      "1519221554869       0.645    -0.163    42.753       6.539    -0.481   \n",
      "1519221555195       0.390    -3.468    45.429       6.741   -11.741   \n",
      "1519221555478       0.243     0.328    35.754       5.980     0.793   \n",
      "1519221555767       0.000     3.897     0.000       0.000    11.723   \n",
      "1519221556039       0.000     4.733     0.000       0.000    14.891   \n",
      "\n",
      "                    ...         MittelWPitch  VarianzPitch  StandardAPitch  \\\n",
      "Zeitstempel         ...                                                      \n",
      "1519221554869       ...                0.002         0.001           0.003   \n",
      "1519221555195       ...               -0.001         0.000           0.000   \n",
      "1519221555478       ...               -0.000         0.001           0.001   \n",
      "1519221555767       ...                0.014         0.000           0.000   \n",
      "1519221556039       ...                0.024         0.000           0.000   \n",
      "\n",
      "               MittelWRoll  VarianzRoll  StandardRoll  StartBewegungsD  \\\n",
      "Zeitstempel                                                              \n",
      "1519221554869        0.011        0.001         0.005   28695221273790   \n",
      "1519221555195       -0.002        0.000         0.000   28695580181602   \n",
      "1519221555478        0.002        0.001         0.001   28695852430248   \n",
      "1519221555767       -0.007        0.000         0.000   28696152192748   \n",
      "1519221556039       -0.026        0.000         0.000   28696420762644   \n",
      "\n",
      "               StartBelichtung  Belichtungszeit  StoppBewegungsD  \n",
      "Zeitstempel                                                       \n",
      "1519221554869   28695151826775         20003678   28695269322592  \n",
      "1519221555195   28695519306775         20003678   28695581130769  \n",
      "1519221555478   28695786555775         20003678   28695859420144  \n",
      "1519221555767   28696087197775         20003678   28695859420144  \n",
      "1519221556039   28696354450775         20003678   28695859420144  \n",
      "\n",
      "[5 rows x 23 columns]\n"
     ]
    }
   ],
   "source": [
    "# Schreibe neue Features CSV Datei\n",
    "result.set_index('Zeitstempel', inplace=True)\n",
    "print(result.head(5))\n",
    "result.to_csv(\"features.csv\")"
   ]
  }
 ],
 "metadata": {
  "kernelspec": {
   "display_name": "Python 3",
   "language": "python",
   "name": "python3"
  },
  "language_info": {
   "codemirror_mode": {
    "name": "ipython",
    "version": 3
   },
   "file_extension": ".py",
   "mimetype": "text/x-python",
   "name": "python",
   "nbconvert_exporter": "python",
   "pygments_lexer": "ipython3",
   "version": "3.6.4"
  },
  "toc": {
   "colors": {
    "hover_highlight": "#DAA520",
    "navigate_num": "#000000",
    "navigate_text": "#333333",
    "running_highlight": "#FF0000",
    "selected_highlight": "#FFD700",
    "sidebar_border": "#EEEEEE",
    "wrapper_background": "#FFFFFF"
   },
   "moveMenuLeft": true,
   "nav_menu": {
    "height": "12px",
    "width": "252px"
   },
   "navigate_menu": true,
   "number_sections": true,
   "sideBar": true,
   "threshold": 4,
   "toc_cell": false,
   "toc_section_display": "block",
   "toc_window_display": false,
   "widenNotebook": false
  }
 },
 "nbformat": 4,
 "nbformat_minor": 2
}
