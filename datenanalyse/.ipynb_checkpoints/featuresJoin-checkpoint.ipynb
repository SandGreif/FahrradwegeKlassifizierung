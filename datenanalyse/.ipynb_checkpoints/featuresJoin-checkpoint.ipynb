{
 "cells": [
  {
   "cell_type": "markdown",
   "metadata": {},
   "source": [
    "## Merkmal CSV Dateien konkatenieren\n",
    "\n",
    "In diesem Notebook ist es möglich merkmal CSV Dateien zusammenzufügen.   \n",
    "In der Android App für die Datenerfassung wird nach 2000 Bildern und Reihen in der Merkmal Datei ein neuer Ordner erstellt.  \n",
    "Hier ist es möglich aus den einzelnen Feature Dateien eine Datei zu erstellen."
   ]
  },
  {
   "cell_type": "code",
   "execution_count": 39,
   "metadata": {
    "ExecuteTime": {
     "end_time": "2018-05-03T12:53:08.142914Z",
     "start_time": "2018-05-03T12:53:08.138914Z"
    }
   },
   "outputs": [],
   "source": [
    "import pandas\n",
    "import os\n",
    "# Regex Vergleiche\n",
    "import re\n",
    "import numpy as np"
   ]
  },
  {
   "cell_type": "code",
   "execution_count": 30,
   "metadata": {
    "ExecuteTime": {
     "end_time": "2018-04-18T09:15:50.395296Z",
     "start_time": "2018-04-18T09:15:50.217513Z"
    }
   },
   "outputs": [],
   "source": [
    "# Lesen der Merkmal CSV Dateien\n",
    "path = \"C:/Users/morro/Documents/datenRoh/22/2018_3_6_15_15/\" \n",
    "files = os.listdir(path)\n",
    "featuresDF = []\n",
    "for file in files:\n",
    "    if re.match('[0-9]', file) is not None:\n",
    "        featuresDF.append(pandas.read_csv(filepath_or_buffer= path + file + \"/merkmaleRoh.csv\"))  "
   ]
  },
  {
   "cell_type": "code",
   "execution_count": 32,
   "metadata": {
    "ExecuteTime": {
     "end_time": "2018-04-18T09:16:07.288782Z",
     "start_time": "2018-04-18T09:16:07.280782Z"
    }
   },
   "outputs": [
    {
     "data": {
      "text/plain": [
       "['1', '2', '3', '4', '5', 'befestigt', 'unbefestigt']"
      ]
     },
     "execution_count": 32,
     "metadata": {},
     "output_type": "execute_result"
    }
   ],
   "source": [
    "files"
   ]
  },
  {
   "cell_type": "code",
   "execution_count": 6,
   "metadata": {
    "ExecuteTime": {
     "end_time": "2018-05-03T12:55:42.284982Z",
     "start_time": "2018-05-03T12:55:40.064788Z"
    }
   },
   "outputs": [],
   "source": [
    "# Jeder Panda Dataframe wird konkateniert\n",
    "length = len(featuresDF)\n",
    "if length >= 2:\n",
    "    result = featuresDF[0]\n",
    "    for df in featuresDF[1:]:\n",
    "        frames = [result, df]\n",
    "        result = pandas.concat(frames, ignore_index=True)"
   ]
  },
  {
   "cell_type": "code",
   "execution_count": 7,
   "metadata": {
    "ExecuteTime": {
     "end_time": "2018-05-03T12:55:47.967947Z",
     "start_time": "2018-05-03T12:55:43.660011Z"
    }
   },
   "outputs": [
    {
     "name": "stdout",
     "output_type": "stream",
     "text": [
      "                         Breitengrad  Laengengrad  Geschwindigkeit in km/h  \\\n",
      "Zeitstempel in Unixzeit                                                      \n",
      "1528728055479              53.613594    10.137809                 7.812001   \n",
      "1528728056169              53.613598    10.137843                 5.616000   \n",
      "\n",
      "                         Genauigkeit der Geschwindigkeit speedAccuracyMetersPerSecond  \\\n",
      "Zeitstempel in Unixzeit                                                                 \n",
      "1528728055479                                                     0.445982              \n",
      "1528728056169                                                     0.826196              \n",
      "\n",
      "                         Lokations Zeitstempel in Unixzeit  \\\n",
      "Zeitstempel in Unixzeit                                      \n",
      "1528728055479                                1528728055000   \n",
      "1528728056169                                1528728056000   \n",
      "\n",
      "                                     Z-Achse Beschleunigungswerte in m/s^2  \\\n",
      "Zeitstempel in Unixzeit                                                      \n",
      "1528728055479            -0.76269 -1.44935 -0.01297 0.48401 0.08176 0.1...   \n",
      "1528728056169            -0.45761 0.11706 0.4611 0.42238 -0.38059 -0.24...   \n",
      "\n",
      "                                     Y-Achse Beschleunigungswerte in m/s^2  \\\n",
      "Zeitstempel in Unixzeit                                                      \n",
      "1528728055479            -0.95204 0.31088 -0.29906 -0.69933 -0.79647 -0...   \n",
      "1528728056169            -2.14226 -0.0136 0.58556 -0.40696 -1.46231 -1....   \n",
      "\n",
      "                                                     Nick Messwerte in rad  \\\n",
      "Zeitstempel in Unixzeit                                                      \n",
      "1528728055479            0.05948 -0.09879 -0.01638 0.02622 0.03771 0.02...   \n",
      "1528728056169            0.20139 -0.03675 -0.0969 0.00633 0.12445 0.107...   \n",
      "\n",
      "                                           Zeitstempel der Messwerte in ns  \\\n",
      "Zeitstempel in Unixzeit                                                      \n",
      "1528728055479            6424553 14415887 22418889 30414963 38410151 46...   \n",
      "1528728056169            561584 8563440 16559566 24554755 32550673 4053...   \n",
      "\n",
      "                         Anzahl der Messwerte  \\\n",
      "Zeitstempel in Unixzeit                         \n",
      "1528728055479                              61   \n",
      "1528728056169                              62   \n",
      "\n",
      "                         Start des Zeitfensters in ns seit Start der JVM  \\\n",
      "Zeitstempel in Unixzeit                                                    \n",
      "1528728055479                                             42679081313949   \n",
      "1528728056169                                             42679782790635   \n",
      "\n",
      "                         Zeitstempel Messwertdaten anfordern in Unixzeit  \\\n",
      "Zeitstempel in Unixzeit                                                    \n",
      "1528728055479                                              1528728055643   \n",
      "1528728056169                                              1528728056336   \n",
      "\n",
      "                         Start der Messwerterfassung in ns seit Start der JVM  \\\n",
      "Zeitstempel in Unixzeit                                                         \n",
      "1528728055479                                               42678168244342      \n",
      "1528728056169                                               42678168244342      \n",
      "\n",
      "                         Erster Zeitstempel der Teilliste in ns seit Start der JVM  \\\n",
      "Zeitstempel in Unixzeit                                                              \n",
      "1528728055479                                               42678168244342           \n",
      "1528728056169                                               42679079746073           \n",
      "\n",
      "                         Start der Belichtung in ns seit Start der JVM  \\\n",
      "Zeitstempel in Unixzeit                                                  \n",
      "1528728055479                                           42679329475376   \n",
      "1528728056169                                           42680030841747   \n",
      "\n",
      "                         Belichtungszeit in ns  \\\n",
      "Zeitstempel in Unixzeit                          \n",
      "1528728055479                          3677146   \n",
      "1528728056169                          3897775   \n",
      "\n",
      "                         Letzter Zeitstempel der Messwerterfassung in ns seit Start der JVM  \\\n",
      "Zeitstempel in Unixzeit                                                                       \n",
      "1528728055479                                               42679591468782                    \n",
      "1528728056169                                               42680287084790                    \n",
      "\n",
      "                         Speicherzeitpunkt der Merkmale in Unixzeit  \n",
      "Zeitstempel in Unixzeit                                              \n",
      "1528728055479                                         1528728055939  \n",
      "1528728056169                                         1528728056482  \n"
     ]
    }
   ],
   "source": [
    "# Schreibe neue Features CSV Datei\n",
    "result.set_index('Zeitstempel in Unixzeit', inplace=True)\n",
    "print(result.head(2))\n",
    "result.to_csv(\"merkmaleRoh.csv\")"
   ]
  },
  {
   "cell_type": "code",
   "execution_count": 8,
   "metadata": {
    "ExecuteTime": {
     "end_time": "2018-05-03T12:55:50.770861Z",
     "start_time": "2018-05-03T12:55:50.766862Z"
    }
   },
   "outputs": [
    {
     "data": {
      "text/plain": [
       "(7643, 18)"
      ]
     },
     "execution_count": 8,
     "metadata": {},
     "output_type": "execute_result"
    }
   ],
   "source": [
    "result.shape"
   ]
  },
  {
   "cell_type": "code",
   "execution_count": 29,
   "metadata": {},
   "outputs": [
    {
     "name": "stdout",
     "output_type": "stream",
     "text": [
      "<class 'pandas.core.frame.DataFrame'>\n",
      "Int64Index: 17571 entries, 1528120783258 to 1528129252739\n",
      "Data columns (total 16 columns):\n",
      "Breitengrad                                                           17571 non-null float64\n",
      "Laengengrad                                                           17571 non-null float64\n",
      "Geschwindigkeit in km/h                                               17571 non-null float64\n",
      "Z-Achse Beschleunigungswerte in m/s^2                                 17571 non-null object\n",
      "Y-Achse Beschleunigungswerte in m/s^2                                 17571 non-null object\n",
      "Nick Messwerte in rad                                                 17571 non-null object\n",
      "Zeitstempel der Messwerte in ns                                       17571 non-null object\n",
      "Anzahl der Messwerte                                                  17571 non-null int64\n",
      "Start des Zeitfensters in ns seit Start der JVM                       17571 non-null int64\n",
      "Zeitstempel Messwertdaten anfordern in Unixzeit                       17571 non-null int64\n",
      "Start der Messwerterfassung in ns seit Start der JVM                  17571 non-null int64\n",
      "Erster Zeitstempel der Teilliste in ns seit Start der JVM             17571 non-null int64\n",
      "Start der Belichtung in ns seit Start der JVM                         17571 non-null int64\n",
      "Belichtungszeit in ns                                                 17571 non-null int64\n",
      "Letzter Zeitstempel der Messwerterfassung in ns seit Start der JVM    17571 non-null int64\n",
      "Speicherzeitpunkt der Merkmale in Unixzeit                            17571 non-null int64\n",
      "dtypes: float64(3), int64(9), object(4)\n",
      "memory usage: 2.3+ MB\n"
     ]
    }
   ],
   "source": [
    "result.info()"
   ]
  },
  {
   "cell_type": "markdown",
   "metadata": {},
   "source": [
    "Mit den folgenden Zellen können von einem kompletten Datensatz die CSV geladen werden. "
   ]
  },
  {
   "cell_type": "code",
   "execution_count": 2,
   "metadata": {
    "ExecuteTime": {
     "end_time": "2018-05-03T12:55:31.175209Z",
     "start_time": "2018-05-03T12:55:31.155209Z"
    }
   },
   "outputs": [
    {
     "data": {
      "text/html": [
       "<div>\n",
       "<style scoped>\n",
       "    .dataframe tbody tr th:only-of-type {\n",
       "        vertical-align: middle;\n",
       "    }\n",
       "\n",
       "    .dataframe tbody tr th {\n",
       "        vertical-align: top;\n",
       "    }\n",
       "\n",
       "    .dataframe thead th {\n",
       "        text-align: right;\n",
       "    }\n",
       "</style>\n",
       "<table border=\"1\" class=\"dataframe\">\n",
       "  <thead>\n",
       "    <tr style=\"text-align: right;\">\n",
       "      <th></th>\n",
       "      <th>0</th>\n",
       "    </tr>\n",
       "  </thead>\n",
       "  <tbody>\n",
       "    <tr>\n",
       "      <th>0</th>\n",
       "      <td>44</td>\n",
       "    </tr>\n",
       "    <tr>\n",
       "      <th>1</th>\n",
       "      <td>2018_5_11_16_40</td>\n",
       "    </tr>\n",
       "  </tbody>\n",
       "</table>\n",
       "</div>"
      ],
      "text/plain": [
       "                 0\n",
       "0               44\n",
       "1  2018_5_11_16_40"
      ]
     },
     "execution_count": 2,
     "metadata": {},
     "output_type": "execute_result"
    }
   ],
   "source": [
    "# Hier können die Datensätze ausgewählt werden mit den entsprechenden Ordner Namen\n",
    "datasets = pandas.DataFrame([['44'],['2018_5_11_16_40']])\n",
    "# Die Pfade zu den Ordnern in welchem sich die Merkmale befinden\n",
    "paths = []\n",
    "datasets"
   ]
  },
  {
   "cell_type": "code",
   "execution_count": 3,
   "metadata": {
    "ExecuteTime": {
     "end_time": "2018-05-03T12:55:31.925146Z",
     "start_time": "2018-05-03T12:55:31.921145Z"
    }
   },
   "outputs": [],
   "source": [
    "for date, dataset in datasets.iteritems(): # Für jeden Datensatz merke Pfad\n",
    "    paths.append(\"E:/bachelor/daten/\" + dataset.iloc[0] + \"/\" + dataset.iloc[1] + \"/\")"
   ]
  },
  {
   "cell_type": "code",
   "execution_count": 4,
   "metadata": {
    "ExecuteTime": {
     "end_time": "2018-05-03T12:55:32.684507Z",
     "start_time": "2018-05-03T12:55:32.676509Z"
    }
   },
   "outputs": [
    {
     "data": {
      "text/plain": [
       "['E:/bachelor/daten/44/2018_5_11_16_40/']"
      ]
     },
     "execution_count": 4,
     "metadata": {},
     "output_type": "execute_result"
    }
   ],
   "source": [
    "paths"
   ]
  },
  {
   "cell_type": "code",
   "execution_count": 5,
   "metadata": {
    "ExecuteTime": {
     "end_time": "2018-05-03T12:55:36.045417Z",
     "start_time": "2018-05-03T12:55:34.045417Z"
    }
   },
   "outputs": [
    {
     "name": "stdout",
     "output_type": "stream",
     "text": [
      "1\n",
      "2\n",
      "3\n",
      "4\n"
     ]
    }
   ],
   "source": [
    "featuresDF = [] \n",
    "for path in paths: # Für jeden Pfad hole die Namen der Ordner\n",
    "    folders = os.listdir(path)\n",
    "    folders = sorted(folders, key=int)\n",
    "    for folder in folders: # Aus der Liste der Ordner wird ein Ordner ausgewählt\n",
    "        print(folder)\n",
    "        if re.match('[0-9]', folder) is not None: \n",
    "            filesPath = path + folder + \"/merkmaleRoh.csv\"\n",
    "            featuresDF.append(pandas.read_csv(filepath_or_buffer=filesPath))\n",
    "# Anschließend nachdem alle Merkmal Dateien in der Liste stehen muss Zeile 4 & 5 ausgeführt werden,\n",
    "# um die Dateien zu konkatenieren"
   ]
  },
  {
   "cell_type": "markdown",
   "metadata": {},
   "source": [
    "Die folgenden Zeilen fügen mehrere vorverarbeitete Merkmale CSV Dateien zusammen."
   ]
  },
  {
   "cell_type": "code",
   "execution_count": 153,
   "metadata": {},
   "outputs": [
    {
     "data": {
      "text/html": [
       "<div>\n",
       "<style scoped>\n",
       "    .dataframe tbody tr th:only-of-type {\n",
       "        vertical-align: middle;\n",
       "    }\n",
       "\n",
       "    .dataframe tbody tr th {\n",
       "        vertical-align: top;\n",
       "    }\n",
       "\n",
       "    .dataframe thead th {\n",
       "        text-align: right;\n",
       "    }\n",
       "</style>\n",
       "<table border=\"1\" class=\"dataframe\">\n",
       "  <thead>\n",
       "    <tr style=\"text-align: right;\">\n",
       "      <th></th>\n",
       "      <th>0</th>\n",
       "      <th>1</th>\n",
       "      <th>2</th>\n",
       "      <th>3</th>\n",
       "      <th>4</th>\n",
       "      <th>5</th>\n",
       "    </tr>\n",
       "  </thead>\n",
       "  <tbody>\n",
       "    <tr>\n",
       "      <th>0</th>\n",
       "      <td>37</td>\n",
       "      <td>38</td>\n",
       "      <td>39</td>\n",
       "      <td>40</td>\n",
       "      <td>41</td>\n",
       "      <td>42</td>\n",
       "    </tr>\n",
       "  </tbody>\n",
       "</table>\n",
       "</div>"
      ],
      "text/plain": [
       "    0   1   2   3   4   5\n",
       "0  37  38  39  40  41  42"
      ]
     },
     "execution_count": 153,
     "metadata": {},
     "output_type": "execute_result"
    }
   ],
   "source": [
    "# Hier können die Datensätze ausgewählt werden mit den entsprechenden Ordner Namen\n",
    "data = np.asarray([['37'],['38'],['39'],['40'],['41'],['42']])\n",
    "datasets = pandas.DataFrame(data.T)\n",
    "# Die Pfade zu den Ordnern in welchem sich die Merkmale befinden\n",
    "paths = []\n",
    "pathName = \"C:/Users/morro/Documents/FahrradwegeKlassifizierung/daten/merkmale_datensatz_\"\n",
    "datasets"
   ]
  },
  {
   "cell_type": "code",
   "execution_count": 154,
   "metadata": {},
   "outputs": [
    {
     "data": {
      "text/plain": [
       "['C:/Users/morro/Documents/FahrradwegeKlassifizierung/daten/merkmale_datensatz_37',\n",
       " 'C:/Users/morro/Documents/FahrradwegeKlassifizierung/daten/merkmale_datensatz_38',\n",
       " 'C:/Users/morro/Documents/FahrradwegeKlassifizierung/daten/merkmale_datensatz_39',\n",
       " 'C:/Users/morro/Documents/FahrradwegeKlassifizierung/daten/merkmale_datensatz_40',\n",
       " 'C:/Users/morro/Documents/FahrradwegeKlassifizierung/daten/merkmale_datensatz_41',\n",
       " 'C:/Users/morro/Documents/FahrradwegeKlassifizierung/daten/merkmale_datensatz_42']"
      ]
     },
     "execution_count": 154,
     "metadata": {},
     "output_type": "execute_result"
    }
   ],
   "source": [
    "for dataset in datasets.iloc[0]: # Für jeden Datensatz merke Pfad\n",
    "    paths.append(str(pathName) + dataset)\n",
    "paths"
   ]
  },
  {
   "cell_type": "code",
   "execution_count": 155,
   "metadata": {},
   "outputs": [
    {
     "name": "stdout",
     "output_type": "stream",
     "text": [
      "Aktuelles Verzeichnis: C:/Users/morro/Documents/FahrradwegeKlassifizierung/daten/merkmale_datensatz_37\n",
      "   -> Dateiname: merkmale.csv\n",
      "   -> Dateiname: merkmaleRoh.csv\n",
      "   -> Dateiname: nickMesswerte.csv\n",
      "   -> Dateiname: sensoreventZeitstempel.csv\n",
      "   -> Dateiname: yAchseBeschleunigungswerte.csv\n",
      "   -> Dateiname: zAchseBeschleunigungswerte.csv\n",
      "Aktuelles Verzeichnis: C:/Users/morro/Documents/FahrradwegeKlassifizierung/daten/merkmale_datensatz_38\n",
      "   -> Dateiname: merkmale.csv\n",
      "   -> Dateiname: merkmaleRoh.csv\n",
      "   -> Dateiname: nickMesswerte.csv\n",
      "   -> Dateiname: sensoreventZeitstempel.csv\n",
      "   -> Dateiname: yAchseBeschleunigungswerte.csv\n",
      "   -> Dateiname: zAchseBeschleunigungswerte.csv\n",
      "Aktuelles Verzeichnis: C:/Users/morro/Documents/FahrradwegeKlassifizierung/daten/merkmale_datensatz_39\n",
      "   -> Dateiname: merkmale.csv\n",
      "   -> Dateiname: merkmaleRoh.csv\n",
      "   -> Dateiname: nickMesswerte.csv\n",
      "   -> Dateiname: sensoreventZeitstempel.csv\n",
      "   -> Dateiname: yAchseBeschleunigungswerte.csv\n",
      "   -> Dateiname: zAchseBeschleunigungswerte.csv\n",
      "Aktuelles Verzeichnis: C:/Users/morro/Documents/FahrradwegeKlassifizierung/daten/merkmale_datensatz_40\n",
      "   -> Dateiname: merkmale.csv\n",
      "   -> Dateiname: merkmaleRoh.csv\n",
      "   -> Dateiname: nickMesswerte.csv\n",
      "   -> Dateiname: sensoreventZeitstempel.csv\n",
      "   -> Dateiname: yAchseBeschleunigungswerte.csv\n",
      "   -> Dateiname: zAchseBeschleunigungswerte.csv\n",
      "Aktuelles Verzeichnis: C:/Users/morro/Documents/FahrradwegeKlassifizierung/daten/merkmale_datensatz_41\n",
      "   -> Dateiname: merkmale.csv\n",
      "   -> Dateiname: merkmaleRoh.csv\n",
      "   -> Dateiname: nickMesswerte.csv\n",
      "   -> Dateiname: sensoreventZeitstempel.csv\n",
      "   -> Dateiname: yAchseBeschleunigungswerte.csv\n",
      "   -> Dateiname: zAchseBeschleunigungswerte.csv\n",
      "Aktuelles Verzeichnis: C:/Users/morro/Documents/FahrradwegeKlassifizierung/daten/merkmale_datensatz_42\n",
      "   -> Dateiname: merkmale.csv\n",
      "   -> Dateiname: merkmaleRoh.csv\n",
      "   -> Dateiname: nickMesswerte.csv\n",
      "   -> Dateiname: sensoreventZeitstempel.csv\n",
      "   -> Dateiname: yAchseBeschleunigungswerte.csv\n",
      "   -> Dateiname: zAchseBeschleunigungswerte.csv\n"
     ]
    }
   ],
   "source": [
    "# Die Merkmale CSV Dateien werden in das Programm geladen\n",
    "featuresDF = []\n",
    "pitchDF = []\n",
    "accYDF = []\n",
    "accZDF = []\n",
    "eventTimestampsDF = []\n",
    "for path in paths: # Für jeden Pfad hole die Namen der Ordner\n",
    "    print(\"Aktuelles Verzeichnis: \" + str(path))\n",
    "    folders = os.listdir(path)\n",
    "    for name in folders: # Aus der Liste der Ordner wird ein Ordner ausgewählt\n",
    "        print(\"   -> Dateiname: \" + str(name))\n",
    "        filesPath = path + \"/\" + name\n",
    "        if name == \"merkmale.csv\":   # if abfrage, weil es in python kein switch Block gibt\n",
    "            featuresDF.append(pandas.read_csv(filepath_or_buffer=filesPath))\n",
    "        if name == \"nickMesswerte.csv\":\n",
    "            pitchDF.append(pandas.read_csv(filepath_or_buffer=filesPath))                \n",
    "        if name == \"sensoreventZeitstempel.csv\":\n",
    "            eventTimestampsDF.append(pandas.read_csv(filepath_or_buffer=filesPath))               \n",
    "        if name == \"yAchseBeschleunigungswerte.csv\":\n",
    "            accYDF.append(pandas.read_csv(filepath_or_buffer=filesPath))               \n",
    "        if name == \"zAchseBeschleunigungswerte.csv\":\n",
    "            accZDF.append(pandas.read_csv(filepath_or_buffer=filesPath))   "
   ]
  },
  {
   "cell_type": "code",
   "execution_count": 156,
   "metadata": {},
   "outputs": [],
   "source": [
    "# Jeder Panda Dataframe wird konkateniert\n",
    "# merkmale.csv\n",
    "length = len(featuresDF)\n",
    "if length >= 2:\n",
    "    resultFeaturesDF = featuresDF[0]\n",
    "    for df in featuresDF[1:]:\n",
    "        frames = [resultFeaturesDF, df]\n",
    "        resultFeaturesDF = pandas.concat(frames, ignore_index=True)\n",
    "length = len(pitchDF)\n",
    "# nickMesswerte.csv\n",
    "if length >= 2:\n",
    "    resultPitchDF = pitchDF[0]\n",
    "    for df in pitchDF[1:]:\n",
    "        frames = [resultPitchDF, df]\n",
    "        resultPitchDF = pandas.concat(frames, ignore_index=True)\n",
    "# sensoreventZeitstempel.csv\n",
    "length = len(eventTimestampsDF)\n",
    "if length >= 2:\n",
    "    resultEventTimestampsDF = eventTimestampsDF[0]\n",
    "    for df in eventTimestampsDF[1:]:\n",
    "        frames = [resultEventTimestampsDF, df]\n",
    "        resultEventTimestampsDF = pandas.concat(frames, ignore_index=True)\n",
    "#  yAchseBeschleunigungswerte.csv\n",
    "length = len(accYDF)\n",
    "if length >= 2:\n",
    "    resultAccYDF = accYDF[0]\n",
    "    for df in accYDF[1:]:\n",
    "        frames = [resultAccYDF, df]\n",
    "        resultAccYDF = pandas.concat(frames, ignore_index=True)\n",
    "#  zAchseBeschleunigungswerte.csv        \n",
    "length = len(accZDF)\n",
    "if length >= 2:\n",
    "    resultAccZDF = accZDF[0]\n",
    "    for df in accZDF[1:]:\n",
    "        frames = [resultAccZDF, df]\n",
    "        resultAccZDF = pandas.concat(frames, ignore_index=True)"
   ]
  },
  {
   "cell_type": "code",
   "execution_count": 157,
   "metadata": {},
   "outputs": [
    {
     "data": {
      "text/plain": [
       "(115790, 29)"
      ]
     },
     "execution_count": 157,
     "metadata": {},
     "output_type": "execute_result"
    }
   ],
   "source": [
    "resultFeaturesDF.shape"
   ]
  },
  {
   "cell_type": "code",
   "execution_count": 158,
   "metadata": {},
   "outputs": [
    {
     "data": {
      "text/plain": [
       "6"
      ]
     },
     "execution_count": 158,
     "metadata": {},
     "output_type": "execute_result"
    }
   ],
   "source": [
    "len(featuresDF)"
   ]
  },
  {
   "cell_type": "code",
   "execution_count": 160,
   "metadata": {},
   "outputs": [],
   "source": [
    "# Name des Ordners in dem die Merkmale abgespeichert werden\n",
    "folderName = pathName + \"37_bis_42\"\n",
    "if not os.path.exists(folderName):\n",
    "  os.makedirs(folderName)"
   ]
  },
  {
   "cell_type": "code",
   "execution_count": 163,
   "metadata": {},
   "outputs": [],
   "source": [
    "# Speichern der zusammengefügten Merkmale\n",
    "#resultFeaturesDF.set_index('Zeitstempel in Unixzeit', inplace=True)\n",
    "resultFeaturesDF.to_csv(str(folderName) + \"/\" + \"merkmale.csv\")"
   ]
  },
  {
   "cell_type": "code",
   "execution_count": 170,
   "metadata": {},
   "outputs": [],
   "source": [
    "resultPitchDF.index.names = [\"index\"]\n",
    "resultPitchDF.set_index('index', inplace=True)\n",
    "resultPitchDF.to_csv((str(folderName) + \"/\" + \"nickMesswerte.csv\"))"
   ]
  },
  {
   "cell_type": "code",
   "execution_count": 166,
   "metadata": {},
   "outputs": [],
   "source": [
    "resultEventTimestampsDF.index.names = [\"index\"]\n",
    "resultEventTimestampsDF.to_csv((str(folderName) + \"/\" + \"sensoreventZeitstempel.csv\"))"
   ]
  },
  {
   "cell_type": "code",
   "execution_count": 168,
   "metadata": {},
   "outputs": [],
   "source": [
    "resultAccYDF.index.names = [\"index\"]\n",
    "resultAccYDF.to_csv((str(folderName) + \"/\" + \"yAchseBeschleunigungswerte.csv\"))"
   ]
  },
  {
   "cell_type": "code",
   "execution_count": 169,
   "metadata": {},
   "outputs": [],
   "source": [
    "resultAccZDF.index.names = [\"index\"]\n",
    "resultAccZDF.to_csv((str(folderName) + \"/\" + \"zAchseBeschleunigungswerte.csv\"))"
   ]
  },
  {
   "cell_type": "code",
   "execution_count": null,
   "metadata": {},
   "outputs": [],
   "source": []
  }
 ],
 "metadata": {
  "kernelspec": {
   "display_name": "Python 3",
   "language": "python",
   "name": "python3"
  },
  "language_info": {
   "codemirror_mode": {
    "name": "ipython",
    "version": 3
   },
   "file_extension": ".py",
   "mimetype": "text/x-python",
   "name": "python",
   "nbconvert_exporter": "python",
   "pygments_lexer": "ipython3",
   "version": "3.6.4"
  },
  "latex_envs": {
   "LaTeX_envs_menu_present": true,
   "autocomplete": true,
   "bibliofile": "biblio.bib",
   "cite_by": "apalike",
   "current_citInitial": 1,
   "eqLabelWithNumbers": true,
   "eqNumInitial": 1,
   "hotkeys": {
    "equation": "Ctrl-E",
    "itemize": "Ctrl-I"
   },
   "labels_anchors": false,
   "latex_user_defs": false,
   "report_style_numbering": false,
   "user_envs_cfg": false
  },
  "toc": {
   "base_numbering": 1,
   "colors": {
    "hover_highlight": "#DAA520",
    "navigate_num": "#000000",
    "navigate_text": "#333333",
    "running_highlight": "#FF0000",
    "selected_highlight": "#FFD700",
    "sidebar_border": "#EEEEEE",
    "wrapper_background": "#FFFFFF"
   },
   "moveMenuLeft": true,
   "nav_menu": {
    "height": "12px",
    "width": "252px"
   },
   "navigate_menu": true,
   "number_sections": true,
   "sideBar": true,
   "skip_h1_title": false,
   "threshold": 4,
   "title_cell": "Table of Contents",
   "title_sidebar": "Contents",
   "toc_cell": false,
   "toc_position": {},
   "toc_section_display": "block",
   "toc_window_display": false,
   "widenNotebook": false
  },
  "varInspector": {
   "cols": {
    "lenName": 16,
    "lenType": 16,
    "lenVar": 40
   },
   "kernels_config": {
    "python": {
     "delete_cmd_postfix": "",
     "delete_cmd_prefix": "del ",
     "library": "var_list.py",
     "varRefreshCmd": "print(var_dic_list())"
    },
    "r": {
     "delete_cmd_postfix": ") ",
     "delete_cmd_prefix": "rm(",
     "library": "var_list.r",
     "varRefreshCmd": "cat(var_dic_list()) "
    }
   },
   "types_to_exclude": [
    "module",
    "function",
    "builtin_function_or_method",
    "instance",
    "_Feature"
   ],
   "window_display": false
  }
 },
 "nbformat": 4,
 "nbformat_minor": 2
}
