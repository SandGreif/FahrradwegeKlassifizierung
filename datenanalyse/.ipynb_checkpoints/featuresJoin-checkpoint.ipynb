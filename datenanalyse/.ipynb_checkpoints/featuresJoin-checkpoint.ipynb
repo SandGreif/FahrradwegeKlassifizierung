{
 "cells": [
  {
   "cell_type": "markdown",
   "metadata": {},
   "source": [
    "## Merkmal CSV Dateien konkatenieren\n",
    "\n",
    "In diesem Notebook ist es möglich merkmal CSV Dateien zusammenzufügen.   \n",
    "In der Android App für die Datenerfassung wird nach 2000 Bildern und Reihen in der Merkmal Datei ein neuer Ordner erstellt.  \n",
    "Hier ist es möglich aus den einzelnen Feature Dateien eine Datei zu erstellen."
   ]
  },
  {
   "cell_type": "code",
   "execution_count": 1,
   "metadata": {
    "ExecuteTime": {
     "end_time": "2018-05-03T12:53:08.142914Z",
     "start_time": "2018-05-03T12:53:08.138914Z"
    }
   },
   "outputs": [],
   "source": [
    "import pandas\n",
    "import os\n",
    "# Regex Vergleiche\n",
    "import re"
   ]
  },
  {
   "cell_type": "code",
   "execution_count": 30,
   "metadata": {
    "ExecuteTime": {
     "end_time": "2018-04-18T09:15:50.395296Z",
     "start_time": "2018-04-18T09:15:50.217513Z"
    }
   },
   "outputs": [],
   "source": [
    "# Lesen der Merkmal CSV Dateien\n",
    "path = \"C:/Users/morro/Documents/datenRoh/22/2018_3_6_15_15/\" \n",
    "files = os.listdir(path)\n",
    "featuresDF = []\n",
    "for file in files:\n",
    "    if re.match('[0-9]', file) is not None:\n",
    "        featuresDF.append(pandas.read_csv(filepath_or_buffer= path + file + \"/merkmaleRoh.csv\"))  "
   ]
  },
  {
   "cell_type": "code",
   "execution_count": 32,
   "metadata": {
    "ExecuteTime": {
     "end_time": "2018-04-18T09:16:07.288782Z",
     "start_time": "2018-04-18T09:16:07.280782Z"
    }
   },
   "outputs": [
    {
     "data": {
      "text/plain": [
       "['1', '2', '3', '4', '5', 'befestigt', 'unbefestigt']"
      ]
     },
     "execution_count": 32,
     "metadata": {},
     "output_type": "execute_result"
    }
   ],
   "source": [
    "files"
   ]
  },
  {
   "cell_type": "code",
   "execution_count": 6,
   "metadata": {
    "ExecuteTime": {
     "end_time": "2018-05-03T12:55:42.284982Z",
     "start_time": "2018-05-03T12:55:40.064788Z"
    }
   },
   "outputs": [],
   "source": [
    "# Jeder Panda Dataframe wird konkateniert\n",
    "length = len(featuresDF)\n",
    "if length >= 2:\n",
    "    result = featuresDF[0]\n",
    "    for df in featuresDF[1:]:\n",
    "        frames = [result, df]\n",
    "        result = pandas.concat(frames, ignore_index=True)"
   ]
  },
  {
   "cell_type": "code",
   "execution_count": 7,
   "metadata": {
    "ExecuteTime": {
     "end_time": "2018-05-03T12:55:47.967947Z",
     "start_time": "2018-05-03T12:55:43.660011Z"
    }
   },
   "outputs": [
    {
     "name": "stdout",
     "output_type": "stream",
     "text": [
      "                         Anzahl der Messwerte  Belichtungszeit in ns  \\\n",
      "Zeitstempel in Unixzeit                                                \n",
      "1.528121e+12                             75.0             10001839.0   \n",
      "1.528121e+12                             74.0             10001839.0   \n",
      "\n",
      "                         Breitengrad  \\\n",
      "Zeitstempel in Unixzeit                \n",
      "1.528121e+12                53.61359   \n",
      "1.528121e+12                53.61359   \n",
      "\n",
      "                         Erster Zeitstempel der Teilliste in ns seit Start der JVM  \\\n",
      "Zeitstempel in Unixzeit                                                              \n",
      "1.528121e+12                                                  3.176885e+13           \n",
      "1.528121e+12                                                  3.176898e+13           \n",
      "\n",
      "                         Geschwindigkeit in km/h  Laengengrad  \\\n",
      "Zeitstempel in Unixzeit                                         \n",
      "1.528121e+12                                5.94    10.137835   \n",
      "1.528121e+12                                5.94    10.137835   \n",
      "\n",
      "                         Letzter Zeitstempel der Messwerterfassung in ns seit Start der JVM  \\\n",
      "Zeitstempel in Unixzeit                                                                       \n",
      "1.528121e+12                                                  3.176966e+13                    \n",
      "1.528121e+12                                                  3.177038e+13                    \n",
      "\n",
      "                                                     Nick Messwerte in rad  \\\n",
      "Zeitstempel in Unixzeit                                                      \n",
      "1.528121e+12             -0.23177 -0.1 -0.1 -0.2135 -0.12009 -0.12009 -...   \n",
      "1.528121e+12             0.01102 -0.02969 -0.02969 0.02274 0.02274 -0.0...   \n",
      "\n",
      "                         Speicherzeitpunkt der Merkmale in Unixzeit  \\\n",
      "Zeitstempel in Unixzeit                                               \n",
      "1.528121e+12                                           1.528121e+12   \n",
      "1.528121e+12                                           1.528121e+12   \n",
      "\n",
      "                         Start der Belichtung in ns seit Start der JVM  \\\n",
      "Zeitstempel in Unixzeit                                                  \n",
      "1.528121e+12                                              3.176934e+13   \n",
      "1.528121e+12                                              3.177007e+13   \n",
      "\n",
      "                         Start der Messwerterfassung in ns seit Start der JVM  \\\n",
      "Zeitstempel in Unixzeit                                                         \n",
      "1.528121e+12                                                  3.176885e+13      \n",
      "1.528121e+12                                                  3.176885e+13      \n",
      "\n",
      "                         Start des Zeitfensters in ns seit Start der JVM  \\\n",
      "Zeitstempel in Unixzeit                                                    \n",
      "1.528121e+12                                                3.176904e+13   \n",
      "1.528121e+12                                                3.176978e+13   \n",
      "\n",
      "                                     Y-Achse Beschleunigungswerte in m/s^2  \\\n",
      "Zeitstempel in Unixzeit                                                      \n",
      "1.528121e+12             1.62482 0.54833 0.54536 1.40409 0.79196 0.7947...   \n",
      "1.528121e+12             -0.42797 -0.06648 -0.073 -0.55752 -0.55983 0.1...   \n",
      "\n",
      "                                     Z-Achse Beschleunigungswerte in m/s^2  \\\n",
      "Zeitstempel in Unixzeit                                                      \n",
      "1.528121e+12             -0.52541 0.2978 0.2975 -0.71582 0.73875 0.7376...   \n",
      "1.528121e+12             0.2416 -0.33337 -0.33356 0.71759 0.7151 -0.530...   \n",
      "\n",
      "                         Zeitstempel Messwertdaten anfordern in Unixzeit  \\\n",
      "Zeitstempel in Unixzeit                                                    \n",
      "1.528121e+12                                                1.528121e+12   \n",
      "1.528121e+12                                                1.528121e+12   \n",
      "\n",
      "                                           Zeitstempel der Messwerte in ns  \\\n",
      "Zeitstempel in Unixzeit                                                      \n",
      "1.528121e+12             4783197 12777500 20774408 28763972 36756713 44...   \n",
      "1.528121e+12             5413422 13409652 21405102 29395343 37394699 45...   \n",
      "\n",
      "                         Zeitstempel in Unixzeit;Breitengrad;Laengengrad;Geschwindigkeit in km/h;Z-Achse Beschleunigungswerte in m/s^2;Y-Achse Beschleunigungswerte in m/s^2;Nick Messwerte in rad;Zeitstempel der Messwerte in ns;Anzahl der Messwerte;Start des Zeitfensters in ns seit Start der JVM;Zeitstempel Messwertdaten anfordern in Unixzeit;Start der Messwerterfassung in ns seit Start der JVM;Erster Zeitstempel der Teilliste in ns seit Start der JVM;Start der Belichtung in ns seit Start der JVM;Belichtungszeit in ns;Letzter Zeitstempel der Messwerterfassung in ns seit Start der JVM;Speicherzeitpunkt der Merkmale in Unixzeit  \n",
      "Zeitstempel in Unixzeit                                                                                                                                                                                                                                                                                                                                                                                                                                                                                                                                                                                                                                   \n",
      "1.528121e+12                                                           NaN                                                                                                                                                                                                                                                                                                                                                                                                                                                                                                                                                                                \n",
      "1.528121e+12                                                           NaN                                                                                                                                                                                                                                                                                                                                                                                                                                                                                                                                                                                \n"
     ]
    }
   ],
   "source": [
    "# Schreibe neue Features CSV Datei\n",
    "result.set_index('Zeitstempel in Unixzeit', inplace=True)\n",
    "print(result.head(2))\n",
    "result.to_csv(\"merkmaleRoh.csv\")"
   ]
  },
  {
   "cell_type": "code",
   "execution_count": 10,
   "metadata": {
    "ExecuteTime": {
     "end_time": "2018-05-03T12:55:50.770861Z",
     "start_time": "2018-05-03T12:55:50.766862Z"
    }
   },
   "outputs": [
    {
     "data": {
      "text/plain": [
       "(17571, 17)"
      ]
     },
     "execution_count": 10,
     "metadata": {},
     "output_type": "execute_result"
    }
   ],
   "source": [
    "result.shape"
   ]
  },
  {
   "cell_type": "code",
   "execution_count": 11,
   "metadata": {},
   "outputs": [
    {
     "name": "stdout",
     "output_type": "stream",
     "text": [
      "<class 'pandas.core.frame.DataFrame'>\n",
      "Float64Index: 17571 entries, 1.52812078326e+12 to 1.52812925274e+12\n",
      "Data columns (total 17 columns):\n",
      "Anzahl der Messwerte                                                                                                                                                                                                                                                                                                                                                                                                                                                                                                                                                                                                               15578 non-null float64\n",
      "Belichtungszeit in ns                                                                                                                                                                                                                                                                                                                                                                                                                                                                                                                                                                                                              15578 non-null float64\n",
      "Breitengrad                                                                                                                                                                                                                                                                                                                                                                                                                                                                                                                                                                                                                        15578 non-null float64\n",
      "Erster Zeitstempel der Teilliste in ns seit Start der JVM                                                                                                                                                                                                                                                                                                                                                                                                                                                                                                                                                                          15578 non-null float64\n",
      "Geschwindigkeit in km/h                                                                                                                                                                                                                                                                                                                                                                                                                                                                                                                                                                                                            15578 non-null float64\n",
      "Laengengrad                                                                                                                                                                                                                                                                                                                                                                                                                                                                                                                                                                                                                        15578 non-null float64\n",
      "Letzter Zeitstempel der Messwerterfassung in ns seit Start der JVM                                                                                                                                                                                                                                                                                                                                                                                                                                                                                                                                                                 15578 non-null float64\n",
      "Nick Messwerte in rad                                                                                                                                                                                                                                                                                                                                                                                                                                                                                                                                                                                                              15578 non-null object\n",
      "Speicherzeitpunkt der Merkmale in Unixzeit                                                                                                                                                                                                                                                                                                                                                                                                                                                                                                                                                                                         15578 non-null float64\n",
      "Start der Belichtung in ns seit Start der JVM                                                                                                                                                                                                                                                                                                                                                                                                                                                                                                                                                                                      15578 non-null float64\n",
      "Start der Messwerterfassung in ns seit Start der JVM                                                                                                                                                                                                                                                                                                                                                                                                                                                                                                                                                                               15578 non-null float64\n",
      "Start des Zeitfensters in ns seit Start der JVM                                                                                                                                                                                                                                                                                                                                                                                                                                                                                                                                                                                    15578 non-null float64\n",
      "Y-Achse Beschleunigungswerte in m/s^2                                                                                                                                                                                                                                                                                                                                                                                                                                                                                                                                                                                              15578 non-null object\n",
      "Z-Achse Beschleunigungswerte in m/s^2                                                                                                                                                                                                                                                                                                                                                                                                                                                                                                                                                                                              15578 non-null object\n",
      "Zeitstempel Messwertdaten anfordern in Unixzeit                                                                                                                                                                                                                                                                                                                                                                                                                                                                                                                                                                                    15578 non-null float64\n",
      "Zeitstempel der Messwerte in ns                                                                                                                                                                                                                                                                                                                                                                                                                                                                                                                                                                                                    15578 non-null object\n",
      "Zeitstempel in Unixzeit;Breitengrad;Laengengrad;Geschwindigkeit in km/h;Z-Achse Beschleunigungswerte in m/s^2;Y-Achse Beschleunigungswerte in m/s^2;Nick Messwerte in rad;Zeitstempel der Messwerte in ns;Anzahl der Messwerte;Start des Zeitfensters in ns seit Start der JVM;Zeitstempel Messwertdaten anfordern in Unixzeit;Start der Messwerterfassung in ns seit Start der JVM;Erster Zeitstempel der Teilliste in ns seit Start der JVM;Start der Belichtung in ns seit Start der JVM;Belichtungszeit in ns;Letzter Zeitstempel der Messwerterfassung in ns seit Start der JVM;Speicherzeitpunkt der Merkmale in Unixzeit    1993 non-null float64\n",
      "dtypes: float64(13), object(4)\n",
      "memory usage: 2.4+ MB\n"
     ]
    }
   ],
   "source": [
    "result.info()"
   ]
  },
  {
   "cell_type": "markdown",
   "metadata": {},
   "source": [
    "Mit den folgenden Zellen können von einem kompletten Datensatz die Bilder zugeschnitten werden. "
   ]
  },
  {
   "cell_type": "code",
   "execution_count": 2,
   "metadata": {
    "ExecuteTime": {
     "end_time": "2018-05-03T12:55:31.175209Z",
     "start_time": "2018-05-03T12:55:31.155209Z"
    }
   },
   "outputs": [
    {
     "data": {
      "text/html": [
       "<div>\n",
       "<style scoped>\n",
       "    .dataframe tbody tr th:only-of-type {\n",
       "        vertical-align: middle;\n",
       "    }\n",
       "\n",
       "    .dataframe tbody tr th {\n",
       "        vertical-align: top;\n",
       "    }\n",
       "\n",
       "    .dataframe thead th {\n",
       "        text-align: right;\n",
       "    }\n",
       "</style>\n",
       "<table border=\"1\" class=\"dataframe\">\n",
       "  <thead>\n",
       "    <tr style=\"text-align: right;\">\n",
       "      <th></th>\n",
       "      <th>0</th>\n",
       "    </tr>\n",
       "  </thead>\n",
       "  <tbody>\n",
       "    <tr>\n",
       "      <th>0</th>\n",
       "      <td>39</td>\n",
       "    </tr>\n",
       "    <tr>\n",
       "      <th>1</th>\n",
       "      <td>2018_5_4_15_58</td>\n",
       "    </tr>\n",
       "  </tbody>\n",
       "</table>\n",
       "</div>"
      ],
      "text/plain": [
       "                0\n",
       "0              39\n",
       "1  2018_5_4_15_58"
      ]
     },
     "execution_count": 2,
     "metadata": {},
     "output_type": "execute_result"
    }
   ],
   "source": [
    "# Hier können die Datensätze ausgewählt werden mit den entsprechenden Ordner Namen\n",
    "datasets = pandas.DataFrame([['39'],['2018_5_4_15_58']])\n",
    "# Die Pfade zu den Ordnern in welchem sich die Merkmale befinden\n",
    "paths = []\n",
    "datasets"
   ]
  },
  {
   "cell_type": "code",
   "execution_count": 3,
   "metadata": {
    "ExecuteTime": {
     "end_time": "2018-05-03T12:55:31.925146Z",
     "start_time": "2018-05-03T12:55:31.921145Z"
    }
   },
   "outputs": [],
   "source": [
    "for date, dataset in datasets.iteritems(): # Für jeden Datensatz merke Pfad\n",
    "    paths.append(\"E:/bachelor/daten/\" + dataset.iloc[0] + \"/\" + dataset.iloc[1] + \"/\")"
   ]
  },
  {
   "cell_type": "code",
   "execution_count": 4,
   "metadata": {
    "ExecuteTime": {
     "end_time": "2018-05-03T12:55:32.684507Z",
     "start_time": "2018-05-03T12:55:32.676509Z"
    }
   },
   "outputs": [
    {
     "data": {
      "text/plain": [
       "['E:/bachelor/daten/39/2018_5_4_15_58/']"
      ]
     },
     "execution_count": 4,
     "metadata": {},
     "output_type": "execute_result"
    }
   ],
   "source": [
    "paths"
   ]
  },
  {
   "cell_type": "code",
   "execution_count": 5,
   "metadata": {
    "ExecuteTime": {
     "end_time": "2018-05-03T12:55:36.045417Z",
     "start_time": "2018-05-03T12:55:34.045417Z"
    }
   },
   "outputs": [
    {
     "name": "stdout",
     "output_type": "stream",
     "text": [
      "1\n",
      "2\n",
      "3\n",
      "4\n",
      "5\n",
      "6\n",
      "7\n",
      "8\n",
      "9\n"
     ]
    }
   ],
   "source": [
    "featuresDF = [] \n",
    "for path in paths: # Für jeden Pfad hole die Namen der Ordner\n",
    "    folders = os.listdir(path)\n",
    "    folders = sorted(folders, key=int)\n",
    "    for folder in folders: # Aus der Liste der Ordner wird ein Ordner ausgewählt\n",
    "        print(folder)\n",
    "        if re.match('[0-9]', folder) is not None: \n",
    "            filesPath = path + folder + \"/merkmaleRoh.csv\"\n",
    "            featuresDF.append(pandas.read_csv(filepath_or_buffer=filesPath))\n",
    "# Anschließend nachdem alle Merkmal Dateien in der Liste stehen muss Zeile 4 & 5 ausgeführt werden,\n",
    "# um die Dateien zu konkatenieren"
   ]
  },
  {
   "cell_type": "code",
   "execution_count": null,
   "metadata": {},
   "outputs": [],
   "source": []
  }
 ],
 "metadata": {
  "kernelspec": {
   "display_name": "Python 3",
   "language": "python",
   "name": "python3"
  },
  "language_info": {
   "codemirror_mode": {
    "name": "ipython",
    "version": 3
   },
   "file_extension": ".py",
   "mimetype": "text/x-python",
   "name": "python",
   "nbconvert_exporter": "python",
   "pygments_lexer": "ipython3",
   "version": "3.6.4"
  },
  "latex_envs": {
   "LaTeX_envs_menu_present": true,
   "autocomplete": true,
   "bibliofile": "biblio.bib",
   "cite_by": "apalike",
   "current_citInitial": 1,
   "eqLabelWithNumbers": true,
   "eqNumInitial": 1,
   "hotkeys": {
    "equation": "Ctrl-E",
    "itemize": "Ctrl-I"
   },
   "labels_anchors": false,
   "latex_user_defs": false,
   "report_style_numbering": false,
   "user_envs_cfg": false
  },
  "toc": {
   "base_numbering": 1,
   "colors": {
    "hover_highlight": "#DAA520",
    "navigate_num": "#000000",
    "navigate_text": "#333333",
    "running_highlight": "#FF0000",
    "selected_highlight": "#FFD700",
    "sidebar_border": "#EEEEEE",
    "wrapper_background": "#FFFFFF"
   },
   "moveMenuLeft": true,
   "nav_menu": {
    "height": "12px",
    "width": "252px"
   },
   "navigate_menu": true,
   "number_sections": true,
   "sideBar": true,
   "skip_h1_title": false,
   "threshold": 4,
   "title_cell": "Table of Contents",
   "title_sidebar": "Contents",
   "toc_cell": false,
   "toc_position": {},
   "toc_section_display": "block",
   "toc_window_display": false,
   "widenNotebook": false
  },
  "varInspector": {
   "cols": {
    "lenName": 16,
    "lenType": 16,
    "lenVar": 40
   },
   "kernels_config": {
    "python": {
     "delete_cmd_postfix": "",
     "delete_cmd_prefix": "del ",
     "library": "var_list.py",
     "varRefreshCmd": "print(var_dic_list())"
    },
    "r": {
     "delete_cmd_postfix": ") ",
     "delete_cmd_prefix": "rm(",
     "library": "var_list.r",
     "varRefreshCmd": "cat(var_dic_list()) "
    }
   },
   "types_to_exclude": [
    "module",
    "function",
    "builtin_function_or_method",
    "instance",
    "_Feature"
   ],
   "window_display": false
  }
 },
 "nbformat": 4,
 "nbformat_minor": 2
}
