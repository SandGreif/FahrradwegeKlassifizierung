{
 "cells": [
  {
   "cell_type": "markdown",
   "metadata": {},
   "source": [
    "In diesem Notebook ist es möglich merkmal CSV Dateien zusammenzufügen.   \n",
    "In der Android App für die Datenerfassung wird nach 2000 Bildern und Reihen in der Merkmal Datei ein neuer Ordner erstellt.  \n",
    "Hier ist es möglich aus den einzelnen Feature Dateien eine Datei zu erstellen."
   ]
  },
  {
   "cell_type": "code",
   "execution_count": 19,
   "metadata": {},
   "outputs": [],
   "source": [
    "import pandas\n",
    "import os"
   ]
  },
  {
   "cell_type": "code",
   "execution_count": 14,
   "metadata": {},
   "outputs": [],
   "source": [
    "# Lesen der Feature CSV Dateien\n",
    "path = \"E:/bachelor/daten/14/2018_2_14_13_17/\" \n",
    "files = os.listdir(path)\n",
    "featuresDF = []\n",
    "for file in files:\n",
    "    featuresDF.append(pandas.read_csv(filepath_or_buffer= path + file + \"/merkmaleRoh.csv\"))  "
   ]
  },
  {
   "cell_type": "code",
   "execution_count": 15,
   "metadata": {},
   "outputs": [],
   "source": [
    "# Jeder Panda Dataframe wird konkateniert\n",
    "length = len(featuresDF)\n",
    "if length >= 2:\n",
    "    result = featuresDF[0]\n",
    "    for df in featuresDF[1:]:\n",
    "        frames = [result, df]\n",
    "        result = pandas.concat(frames, ignore_index=True)"
   ]
  },
  {
   "cell_type": "code",
   "execution_count": 16,
   "metadata": {},
   "outputs": [
    {
     "name": "stdout",
     "output_type": "stream",
     "text": [
      "               Breitengrad  Laengengrad  Geschwindigkeit  \\\n",
      "Zeitstempel                                                \n",
      "1521029982976    53.613632    10.137853         7.559999   \n",
      "1521029983778    53.613640    10.137872         6.300000   \n",
      "\n",
      "                                                  AccelerometerX  \\\n",
      "Zeitstempel                                                        \n",
      "1521029982976  -0.25269 -0.15618 -0.14026 -0.09689 -0.04687 -...   \n",
      "1521029983778  0.32043 -0.4485 -0.46607 -0.32688 0.07559 -0.0...   \n",
      "\n",
      "                                                  AccelerometerY  \\\n",
      "Zeitstempel                                                        \n",
      "1521029982976  0.56954 0.5782 -0.54875 -0.60757 0.21879 -0.59...   \n",
      "1521029983778  1.14872 0.22943 -0.44471 -1.13724 -0.08238 -0....   \n",
      "\n",
      "                                                  AccelerometerZ  \\\n",
      "Zeitstempel                                                        \n",
      "1521029982976  -0.0925 -0.25786 -0.46675 0.19356 0.79844 0.34...   \n",
      "1521029983778  -1.31263 -1.3259 -0.24858 0.84312 1.70114 0.85...   \n",
      "\n",
      "                                                         Azimuth  \\\n",
      "Zeitstempel                                                        \n",
      "1521029982976  1.89645 1.67182 2.6584 2.91817 2.61944 2.7598 ...   \n",
      "1521029983778  -0.89099 -0.59368 2.89318 2.9773 3.05526 3.015...   \n",
      "\n",
      "                                                            Nick  \\\n",
      "Zeitstempel                                                        \n",
      "1521029982976  -0.19326 -0.21564 -0.07757 -0.04586 -0.12835 -...   \n",
      "1521029983778  -0.1421 -0.03936 0.06281 0.15901 0.0499 0.0511...   \n",
      "\n",
      "                                                            Roll  \\\n",
      "Zeitstempel                                                        \n",
      "1521029982976  -0.09859 -0.10824 -0.11076 -0.10302 -0.09728 -...   \n",
      "1521029983778  -0.26051 -0.15796 -0.12128 -0.10891 -0.13262 -...   \n",
      "\n",
      "                                               SensorZeitstempel  Messwerte  \\\n",
      "Zeitstempel                                                                   \n",
      "1521029982976  2468521 5387739 8488000 16274042 17454927 2028...         19   \n",
      "1521029983778  3264500 4415125 8117989 12852937 16610385 2228...         19   \n",
      "\n",
      "               StartZeitfenster  StartBewegungsdaten  StartBelichtung  \\\n",
      "Zeitstempel                                                             \n",
      "1521029982976    64868417685377       64868344181137   64868447683538   \n",
      "1521029983778    64869219446377       64869153531241   64869249444538   \n",
      "\n",
      "               Belichtungszeit  \n",
      "Zeitstempel                     \n",
      "1521029982976         20003678  \n",
      "1521029983778         20003678  \n"
     ]
    }
   ],
   "source": [
    "# Schreibe neue Features CSV Datei\n",
    "result.set_index('Zeitstempel', inplace=True)\n",
    "print(result.head(2))\n",
    "result.to_csv(\"merkmaleRoh.csv\")"
   ]
  },
  {
   "cell_type": "markdown",
   "metadata": {},
   "source": [
    "Mit den folgenden Zellen können von einem kompletten Datensatz die Bilder zugeschnitten werden. "
   ]
  },
  {
   "cell_type": "code",
   "execution_count": 4,
   "metadata": {},
   "outputs": [
    {
     "data": {
      "text/html": [
       "<div>\n",
       "<style scoped>\n",
       "    .dataframe tbody tr th:only-of-type {\n",
       "        vertical-align: middle;\n",
       "    }\n",
       "\n",
       "    .dataframe tbody tr th {\n",
       "        vertical-align: top;\n",
       "    }\n",
       "\n",
       "    .dataframe thead th {\n",
       "        text-align: right;\n",
       "    }\n",
       "</style>\n",
       "<table border=\"1\" class=\"dataframe\">\n",
       "  <thead>\n",
       "    <tr style=\"text-align: right;\">\n",
       "      <th></th>\n",
       "      <th>0</th>\n",
       "      <th>1</th>\n",
       "      <th>2</th>\n",
       "    </tr>\n",
       "  </thead>\n",
       "  <tbody>\n",
       "    <tr>\n",
       "      <th>0</th>\n",
       "      <td>11</td>\n",
       "      <td>12</td>\n",
       "      <td>13</td>\n",
       "    </tr>\n",
       "    <tr>\n",
       "      <th>1</th>\n",
       "      <td>2018_2_8_15_20</td>\n",
       "      <td>2018_2_9_15_35</td>\n",
       "      <td>2018_2_11_13_12</td>\n",
       "    </tr>\n",
       "  </tbody>\n",
       "</table>\n",
       "</div>"
      ],
      "text/plain": [
       "                0               1                2\n",
       "0              11              12               13\n",
       "1  2018_2_8_15_20  2018_2_9_15_35  2018_2_11_13_12"
      ]
     },
     "execution_count": 4,
     "metadata": {},
     "output_type": "execute_result"
    }
   ],
   "source": [
    "# Hier können die Datensätze ausgewählt werden mit den entsprechenden Ordner Namen\n",
    "datasets = pandas.DataFrame([['11','12','13'],['2018_2_8_15_20','2018_2_9_15_35','2018_2_11_13_12']])\n",
    "# Die Pfade zu den Ordnern in welchem sich die Merkmale befinden\n",
    "paths = []\n",
    "datasets"
   ]
  },
  {
   "cell_type": "code",
   "execution_count": 5,
   "metadata": {},
   "outputs": [],
   "source": [
    "for date, dataset in datasets.iteritems(): # Für jeden Datensatz merke Pfad\n",
    "    paths.append(\"E:/bachelor/daten/\" + dataset.iloc[0] + \"/\" + dataset.iloc[1] + \"/\")"
   ]
  },
  {
   "cell_type": "code",
   "execution_count": 6,
   "metadata": {},
   "outputs": [
    {
     "data": {
      "text/plain": [
       "['E:/bachelor/daten/11/2018_2_8_15_20/',\n",
       " 'E:/bachelor/daten/12/2018_2_9_15_35/',\n",
       " 'E:/bachelor/daten/13/2018_2_11_13_12/']"
      ]
     },
     "execution_count": 6,
     "metadata": {},
     "output_type": "execute_result"
    }
   ],
   "source": [
    "paths"
   ]
  },
  {
   "cell_type": "code",
   "execution_count": 7,
   "metadata": {},
   "outputs": [],
   "source": [
    "featuresDF = [] \n",
    "for path in paths: # Für jeden Pfad hole die Namen der Ordner\n",
    "    folders = os.listdir(path)\n",
    "    for folder in folders: # Aus der Liste der Ordner wird ein Ordner ausgewählt\n",
    "        filesPath = path + folder + \"/merkmaleRoh.csv\"\n",
    "        featuresDF.append(pandas.read_csv(filepath_or_buffer=filesPath))\n",
    "# Anschließend nachdem alle Merkmal Dateien in der Liste stehen muss Zeile 3 & 4 ausgeführt werden,\n",
    "# um die Dateien zu konkatenieren"
   ]
  }
 ],
 "metadata": {
  "kernelspec": {
   "display_name": "Python 3",
   "language": "python",
   "name": "python3"
  },
  "language_info": {
   "codemirror_mode": {
    "name": "ipython",
    "version": 3
   },
   "file_extension": ".py",
   "mimetype": "text/x-python",
   "name": "python",
   "nbconvert_exporter": "python",
   "pygments_lexer": "ipython3",
   "version": "3.6.4"
  },
  "toc": {
   "colors": {
    "hover_highlight": "#DAA520",
    "navigate_num": "#000000",
    "navigate_text": "#333333",
    "running_highlight": "#FF0000",
    "selected_highlight": "#FFD700",
    "sidebar_border": "#EEEEEE",
    "wrapper_background": "#FFFFFF"
   },
   "moveMenuLeft": true,
   "nav_menu": {
    "height": "12px",
    "width": "252px"
   },
   "navigate_menu": true,
   "number_sections": true,
   "sideBar": true,
   "threshold": 4,
   "toc_cell": false,
   "toc_section_display": "block",
   "toc_window_display": false,
   "widenNotebook": false
  }
 },
 "nbformat": 4,
 "nbformat_minor": 2
}
