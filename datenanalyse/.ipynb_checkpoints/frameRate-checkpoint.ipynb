{
 "cells": [
  {
   "cell_type": "markdown",
   "metadata": {},
   "source": [
    "Bilder pro Sekunde\n",
    " ======\n",
    " \n",
    " Mit diesem Python Notebook ist es möglich, dass zeitliche Verhalten einer Serienaufnahme der Android Anwendung \"Fahrradwege Monotring App\" zu untersuchen.  \n",
    " Ziel ist es zu berechnen wie viele Bilder in einer Serienaufnahme pro Sekunde aufgenommen wurden.  \n",
    " Des Weiteren ist es möglich die längste Zeitspanne zwischen  zwei Aufnahmen innerhalb einer Serienaufnahme zu ermitteln.\n",
    " "
   ]
  },
  {
   "cell_type": "markdown",
   "metadata": {},
   "source": [
    "Bilder pro Sekunde in einer Serienaufnahme\n",
    "\n",
    "Um die Anzahl der Bilder pro Sekunde zu berechnen ist es wichtig, dass diese kontinuierlich in kurzen Zeitabschnitten  \n",
    "aufgenommen wurden. In der Android habe ich einen Schwellenwert implementiert damit keine Aufnahmen gemacht werden,  \n",
    "wenn eine bestimmte Geschwindikeit nicht überschritten wurde. Dies ist relevant um keine Aufnahme zu machen falls  \n",
    "ein Fahrrad steht während die Anwendung läuft."
   ]
  },
  {
   "cell_type": "code",
   "execution_count": 20,
   "metadata": {},
   "outputs": [],
   "source": [
    "import pandas \n",
    "%matplotlib inline\n",
    "import matplotlib\n",
    "import matplotlib.pyplot as plt"
   ]
  },
  {
   "cell_type": "code",
   "execution_count": 21,
   "metadata": {},
   "outputs": [],
   "source": [
    "# Startindex der Features eines Fotos   \n",
    "startIndex = 0\n",
    "# Stop Index \n",
    "stopIndex = 4030\n",
    "# Öfnne die Datei features.csv. Der Path muss mit angegeben werden\n",
    "featuresDf = pandas.read_csv(filepath_or_buffer=\"merkmaleRoh.csv\")"
   ]
  },
  {
   "cell_type": "code",
   "execution_count": 22,
   "metadata": {},
   "outputs": [
    {
     "data": {
      "text/html": [
       "<div>\n",
       "<table border=\"1\" class=\"dataframe\">\n",
       "  <thead>\n",
       "    <tr style=\"text-align: right;\">\n",
       "      <th></th>\n",
       "      <th>Zeitstempel</th>\n",
       "      <th>Breitengrad</th>\n",
       "      <th>Laengengrad</th>\n",
       "      <th>Geschwindigkeit</th>\n",
       "      <th>Messwerte</th>\n",
       "      <th>StartBewegungsD</th>\n",
       "      <th>StartBelichtung</th>\n",
       "      <th>Belichtungszeit</th>\n",
       "    </tr>\n",
       "  </thead>\n",
       "  <tbody>\n",
       "    <tr>\n",
       "      <th>count</th>\n",
       "      <td>4.033000e+03</td>\n",
       "      <td>4033.000000</td>\n",
       "      <td>4033.000000</td>\n",
       "      <td>4033.000000</td>\n",
       "      <td>4033.0</td>\n",
       "      <td>4.033000e+03</td>\n",
       "      <td>4.033000e+03</td>\n",
       "      <td>4.033000e+03</td>\n",
       "    </tr>\n",
       "    <tr>\n",
       "      <th>mean</th>\n",
       "      <td>1.520432e+12</td>\n",
       "      <td>53.614175</td>\n",
       "      <td>10.163583</td>\n",
       "      <td>13.797908</td>\n",
       "      <td>10.0</td>\n",
       "      <td>2.767638e+14</td>\n",
       "      <td>2.767639e+14</td>\n",
       "      <td>2.457690e+07</td>\n",
       "    </tr>\n",
       "    <tr>\n",
       "      <th>std</th>\n",
       "      <td>3.118401e+05</td>\n",
       "      <td>0.001194</td>\n",
       "      <td>0.014844</td>\n",
       "      <td>5.423002</td>\n",
       "      <td>0.0</td>\n",
       "      <td>3.118390e+11</td>\n",
       "      <td>3.118374e+11</td>\n",
       "      <td>5.764559e+06</td>\n",
       "    </tr>\n",
       "    <tr>\n",
       "      <th>min</th>\n",
       "      <td>1.520432e+12</td>\n",
       "      <td>53.610508</td>\n",
       "      <td>10.137785</td>\n",
       "      <td>0.000000</td>\n",
       "      <td>10.0</td>\n",
       "      <td>2.762160e+14</td>\n",
       "      <td>2.762161e+14</td>\n",
       "      <td>8.963045e+06</td>\n",
       "    </tr>\n",
       "    <tr>\n",
       "      <th>25%</th>\n",
       "      <td>1.520432e+12</td>\n",
       "      <td>53.613804</td>\n",
       "      <td>10.151080</td>\n",
       "      <td>11.520000</td>\n",
       "      <td>10.0</td>\n",
       "      <td>2.765011e+14</td>\n",
       "      <td>2.765012e+14</td>\n",
       "      <td>2.000368e+07</td>\n",
       "    </tr>\n",
       "    <tr>\n",
       "      <th>50%</th>\n",
       "      <td>1.520432e+12</td>\n",
       "      <td>53.614390</td>\n",
       "      <td>10.161076</td>\n",
       "      <td>15.264000</td>\n",
       "      <td>10.0</td>\n",
       "      <td>2.767615e+14</td>\n",
       "      <td>2.767615e+14</td>\n",
       "      <td>2.000368e+07</td>\n",
       "    </tr>\n",
       "    <tr>\n",
       "      <th>75%</th>\n",
       "      <td>1.520432e+12</td>\n",
       "      <td>53.615047</td>\n",
       "      <td>10.179163</td>\n",
       "      <td>17.352000</td>\n",
       "      <td>10.0</td>\n",
       "      <td>2.770310e+14</td>\n",
       "      <td>2.770311e+14</td>\n",
       "      <td>2.999632e+07</td>\n",
       "    </tr>\n",
       "    <tr>\n",
       "      <th>max</th>\n",
       "      <td>1.520433e+12</td>\n",
       "      <td>53.615852</td>\n",
       "      <td>10.185279</td>\n",
       "      <td>23.544000</td>\n",
       "      <td>10.0</td>\n",
       "      <td>2.773140e+14</td>\n",
       "      <td>2.773141e+14</td>\n",
       "      <td>2.999632e+07</td>\n",
       "    </tr>\n",
       "  </tbody>\n",
       "</table>\n",
       "</div>"
      ],
      "text/plain": [
       "        Zeitstempel  Breitengrad  Laengengrad  Geschwindigkeit  Messwerte  \\\n",
       "count  4.033000e+03  4033.000000  4033.000000      4033.000000     4033.0   \n",
       "mean   1.520432e+12    53.614175    10.163583        13.797908       10.0   \n",
       "std    3.118401e+05     0.001194     0.014844         5.423002        0.0   \n",
       "min    1.520432e+12    53.610508    10.137785         0.000000       10.0   \n",
       "25%    1.520432e+12    53.613804    10.151080        11.520000       10.0   \n",
       "50%    1.520432e+12    53.614390    10.161076        15.264000       10.0   \n",
       "75%    1.520432e+12    53.615047    10.179163        17.352000       10.0   \n",
       "max    1.520433e+12    53.615852    10.185279        23.544000       10.0   \n",
       "\n",
       "       StartBewegungsD  StartBelichtung  Belichtungszeit  \n",
       "count     4.033000e+03     4.033000e+03     4.033000e+03  \n",
       "mean      2.767638e+14     2.767639e+14     2.457690e+07  \n",
       "std       3.118390e+11     3.118374e+11     5.764559e+06  \n",
       "min       2.762160e+14     2.762161e+14     8.963045e+06  \n",
       "25%       2.765011e+14     2.765012e+14     2.000368e+07  \n",
       "50%       2.767615e+14     2.767615e+14     2.000368e+07  \n",
       "75%       2.770310e+14     2.770311e+14     2.999632e+07  \n",
       "max       2.773140e+14     2.773141e+14     2.999632e+07  "
      ]
     },
     "execution_count": 22,
     "metadata": {},
     "output_type": "execute_result"
    }
   ],
   "source": [
    "featuresDf.describe()"
   ]
  },
  {
   "cell_type": "code",
   "execution_count": 23,
   "metadata": {},
   "outputs": [
    {
     "data": {
      "text/plain": [
       "RangeIndex(start=0, stop=4033, step=1)"
      ]
     },
     "execution_count": 23,
     "metadata": {},
     "output_type": "execute_result"
    }
   ],
   "source": [
    "# Andzahl der Einträge\n",
    "featuresDf.index"
   ]
  },
  {
   "cell_type": "code",
   "execution_count": 24,
   "metadata": {},
   "outputs": [
    {
     "data": {
      "text/plain": [
       "Index(['Zeitstempel', 'Breitengrad', 'Laengengrad', 'Geschwindigkeit',\n",
       "       'AccelerometerX', 'AccelerometerY', 'AccelerometerZ', 'Azimuth', 'Nick',\n",
       "       'Roll', 'SensorZeitstempel', 'Messwerte', 'StartBewegungsD',\n",
       "       'StartBelichtung', 'Belichtungszeit'],\n",
       "      dtype='object')"
      ]
     },
     "execution_count": 24,
     "metadata": {},
     "output_type": "execute_result"
    }
   ],
   "source": [
    "# Namen der Spalten \n",
    "featuresDf.columns"
   ]
  },
  {
   "cell_type": "code",
   "execution_count": 52,
   "metadata": {},
   "outputs": [],
   "source": [
    "# Für den Plot der Bilder pro Sekunde \n",
    "imagesPerSecondList = []\n",
    "imagesCaptured = []\n",
    "tempTimeSum = 0\n",
    "tempImages = 0\n",
    "tempMs = featuresDf.iat[startIndex,0]"
   ]
  },
  {
   "cell_type": "code",
   "execution_count": 53,
   "metadata": {
    "scrolled": true
   },
   "outputs": [],
   "source": [
    "i = startIndex\n",
    "firstMs = featuresDf.iat[i,0]\n",
    "lastValueMs = firstMs\n",
    "valueMs = 0\n",
    "# Zeitliche Differenz zwischen zwei Aufnahmen\n",
    "differenceValueTemp = 0\n",
    "# Max Differenz, welche unter der variablen thresholdMax liegt \n",
    "maxDifference = 0\n",
    "# Index mit der maxDifference\n",
    "maxDifferenceIndex = 0\n",
    "# Maximale gültige Zeit zwischen zwei Bildern in ms \n",
    "thresholdMax = 5000\n",
    "# Das erste Bild wird nicht mit einbezogen in die Berechnung\n",
    "imageCounter = -1\n",
    "sum = 0\n",
    "while i <= stopIndex:\n",
    "    valueMs = featuresDf.iat[i,0]\n",
    "    differenceValueTemp = valueMs - lastValueMs\n",
    "    if differenceValueTemp > thresholdMax:  # Wenn Schwellwert zwischen zwei Bildern überschritten ist, ..\n",
    "        break                                   # dann breche Schleife ab.\n",
    "    if differenceValueTemp > maxDifference:\n",
    "        maxDifference = differenceValueTemp\n",
    "        maxDifferenceIndex = i\n",
    "    sum =+ (featuresDf.iat[i,0] - firstMs)\n",
    "    tempTimeSum =+ (featuresDf.iat[i,0] - tempMs)\n",
    "    i =  i + 1\n",
    "    imageCounter = imageCounter + 1\n",
    "    if (tempImages % 100 == 0) & (imageCounter >= 100):   # Bei 100 Bildern wird die Geschwindikeit in einer Liste gespeichert\n",
    "        imagesPerSecondList.append(tempImages/(tempTimeSum/1000))\n",
    "        imagesCaptured.append(imageCounter)\n",
    "        tempTimeSum = 0\n",
    "        tempImages = 0\n",
    "        tempMs = featuresDf.iat[i,0]\n",
    "    tempImages = tempImages + 1\n",
    "    lastValueMs = valueMs"
   ]
  },
  {
   "cell_type": "code",
   "execution_count": 54,
   "metadata": {
    "scrolled": true
   },
   "outputs": [
    {
     "data": {
      "image/png": "[encoded data removed]",
      "text/plain": [
       "<matplotlib.figure.Figure at 0x7f9b16bc27b8>"
      ]
     },
     "metadata": {},
     "output_type": "display_data"
    },
    {
     "name": "stdout",
     "output_type": "stream",
     "text": [
      "Maximale Bilder pro Sekunde: 4.18567661462\n"
     ]
    }
   ],
   "source": [
    "# Für 100 Bilder wird je ein Datenpunkt geplotet mit der Aufnahmegeschwindigkeit \n",
    "fig, ax = plt.subplots(figsize=(20, 5))\n",
    "ax.bar(imagesCaptured, imagesPerSecondList,100) #  tick_label=imagesCaptured / für schönere plots, wenn Anzahl der Bilder klein\n",
    "ax.set(xlabel='Aufgenommene Bilder', ylabel='Bilder pro Sekunde',\n",
    "       title='Aufnahmegeschwindigkeit')\n",
    "ax.grid()\n",
    "fig.savefig(\"bilderProSekunde.png\")\n",
    "plt.show()\n",
    "print('Maximale Bilder pro Sekunde: ' + str(max(imagesPerSecondList)))"
   ]
  },
  {
   "cell_type": "code",
   "execution_count": 51,
   "metadata": {},
   "outputs": [],
   "source": [
    "# Elemente aus Listen entfernen\n",
    "imagesPerSecondList.clear()\n",
    "imagesCaptured.clear()"
   ]
  },
  {
   "cell_type": "code",
   "execution_count": 15,
   "metadata": {},
   "outputs": [],
   "source": [
    "meanMs = sum/imageCounter\n",
    "imagesPerSecond = imageCounter/(sum/1000)"
   ]
  },
  {
   "cell_type": "code",
   "execution_count": 28,
   "metadata": {},
   "outputs": [
    {
     "data": {
      "text/plain": [
       "3.6722360728396684"
      ]
     },
     "execution_count": 28,
     "metadata": {},
     "output_type": "execute_result"
    }
   ],
   "source": [
    "imagesPerSecond"
   ]
  },
  {
   "cell_type": "code",
   "execution_count": 16,
   "metadata": {},
   "outputs": [
    {
     "name": "stdout",
     "output_type": "stream",
     "text": [
      "Anzahl der Bilder: 4030\n",
      "Mittelwert: 272.313647643ms pro Aufnahme\n",
      "Bilder pro Sekunde: 3.67223607284\n",
      "Maximale gültige Zeitdifferenz zwischen zwei Aufnahmen: 2178ms (Bild Nr.: 886)\n"
     ]
    }
   ],
   "source": [
    "# Zeitliche nformationen über die gesamten Bilder\n",
    "print(\"Anzahl der Bilder: \" + str(imageCounter) + \"\\n\" +\n",
    "    \"Mittelwert: \" + str(meanMs) + \"ms pro Aufnahme\" + \"\\n\" +\n",
    "    \"Bilder pro Sekunde: \" + str(imagesPerSecond) + \"\\n\" +\n",
    "     \"Maximale gültige Zeitdifferenz zwischen zwei Aufnahmen: \" + str(maxDifference) +  \"ms\" + \n",
    "     \" (Bild Nr.: \" + str(maxDifferenceIndex) + \")\" )"
   ]
  }
 ],
 "metadata": {
  "kernelspec": {
   "display_name": "Python 3",
   "language": "python",
   "name": "python3"
  },
  "language_info": {
   "codemirror_mode": {
    "name": "ipython",
    "version": 3
   },
   "file_extension": ".py",
   "mimetype": "text/x-python",
   "name": "python",
   "nbconvert_exporter": "python",
   "pygments_lexer": "ipython3",
   "version": "3.5.4"
  },
  "toc": {
   "colors": {
    "hover_highlight": "#DAA520",
    "navigate_num": "#000000",
    "navigate_text": "#333333",
    "running_highlight": "#FF0000",
    "selected_highlight": "#FFD700",
    "sidebar_border": "#EEEEEE",
    "wrapper_background": "#FFFFFF"
   },
   "moveMenuLeft": true,
   "nav_menu": {
    "height": "65px",
    "width": "252px"
   },
   "navigate_menu": true,
   "number_sections": true,
   "sideBar": true,
   "threshold": 4,
   "toc_cell": false,
   "toc_section_display": "block",
   "toc_window_display": false,
   "widenNotebook": false
  }
 },
 "nbformat": 4,
 "nbformat_minor": 2
}
