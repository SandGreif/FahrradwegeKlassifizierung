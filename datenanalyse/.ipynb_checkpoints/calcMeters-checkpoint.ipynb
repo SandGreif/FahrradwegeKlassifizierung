{
 "cells": [
  {
   "cell_type": "markdown",
   "metadata": {},
   "source": [
    "# Abstand zwischen GPS Lokationen\n",
    "\n",
    "In diesem Jupyter Notebook geht es darum den mittleren Abstand zwischen GPS Lokationen der Merkmale von den Datensätzen zu berechnen. Auch ist es möglich die Gesamtkilometer und bestimmen. Bei der Berechnung der Abstände wird ein Grenzwert von 20 Metern angegeben. Dieser gibt an, in welchem Bereich der Abstand zwischen zwei GPS Signalen maximal gültig ist. Wenn die Anzahl der Meter zwischen zwei GPS Lokationen groß ist liegt dies daran, dass die Daten nicht zeitlich hintereinander erfasst worden. Für die Berechnung wird das Python Paket Haversine genutzt.\n",
    "\n",
    "Datensatz | Mittlerer Abstand in Metern zwischen zwei GPS Lokationen | Anzahl der GPS Lokationen | Gesamtmeter | Gesamtkilometer |\n",
    "--- |   ---   |  ---    |    ---     |    ---   |\n",
    "15-22 | 1,2446  | 100962 | 125662,71  | 125,6627 |\n",
    "26-27 | 5,0101  | 4955   | 24825,19   | 24,82    |\n",
    "28-29 | 3,3234  | 6228   | 20698,3842 | 20,6984  |\n",
    "30    | 1,1942  | 1448   | 1729,2360  | 1,7292   |\n",
    "31    | 1,4057  | 14522  | 20413,6242 | 20,4136  |\n",
    "32    | 1,2795  | 12485  | 15974,7494 | 15,9747  |\n",
    "33    | 1,4936  | 21823  | 32595,3194 | 32,5953  |\n",
    "34    | 1,5148  | 14978  | 22688,4920 | 22,6884  | \n",
    "35    | 2,7265  | 11673  | 31826,0563 | 31,8260  |\n",
    "36    | 1,53    | 18534  | 28357,6455 | 28,3576  |\n",
    "37    | 1,5025  | 27902  | 41923,9413 | 41,9239  |\n",
    "38    | 1,3590  | 35531  | 48287,2397 | 48,2872  |\n",
    "39    | 1,4535  | 17576  | 25546,6910 | 25,5467  |\n",
    "40    | 1,2639  | 13143  | 16611,2923 | 16,6113  |\n",
    "41    | 1,4191  | 5939   | 8428,3781  | 8,4284   |\n",
    "42    | 1,4887  | 15792  | 23509,4329 | 23,5094  |\n",
    "43    | 1,3428  | 19065  | 25601,23   | 25,6013  |\n",
    "44    | 2,3512  | 7640   | 17962,842  | 17,9628  |\n",
    "45    | 1,479   | 9580   | 12912,05   | 12,129   |\n",
    "46    | 1,2761  | 20134  | 25692,7021 | 25,6927  |\n",
    "47    | 1,3786  | 18596  | 25637,3289 | 25,6373  |\n",
    "48    | 1,4247  | 18134  | 25836      | 25,836   |\n",
    "49    | 1,5531  | 16685  | 25915,02   | 25,915   |\n",
    "50    | 1,3871  | 8733   | 12113,521  | 12,1135  |\n",
    "51    | 1,3678  | 9477   | 12963,0072 | 12,963   |\n",
    "37-42     | 1,4191 | 115774 | 164292,5875 | 164,2926 |\n",
    "43, 45-51 | 1,3872 | 120183 | 166726,2784 | 166,7263 |\n",
    "Tabelle 1: Berechnete Abstände von GPS Lokationen"
   ]
  },
  {
   "cell_type": "code",
   "execution_count": 2,
   "metadata": {
    "ExecuteTime": {
     "end_time": "2018-07-04T15:25:41.672176Z",
     "start_time": "2018-07-04T15:25:41.260162Z"
    }
   },
   "outputs": [],
   "source": [
    "import pandas\n",
    "import os\n",
    "from haversine import haversine"
   ]
  },
  {
   "cell_type": "code",
   "execution_count": 8,
   "metadata": {
    "ExecuteTime": {
     "end_time": "2018-07-04T15:01:08.705687Z",
     "start_time": "2018-07-04T15:01:08.416Z"
    }
   },
   "outputs": [],
   "source": [
    "featuresDf = pandas.read_csv(filepath_or_buffer=\"../daten/merkmale_datensatz_25/merkmaleRoh.csv\")"
   ]
  },
  {
   "cell_type": "code",
   "execution_count": 4,
   "metadata": {},
   "outputs": [
    {
     "name": "stdout",
     "output_type": "stream",
     "text": [
      "<class 'pandas.core.frame.DataFrame'>\n",
      "RangeIndex: 120193 entries, 0 to 120192\n",
      "Data columns (total 29 columns):\n",
      "Zeitstempel in Unixzeit                                               120193 non-null int64\n",
      "Anzahl der Messwerte                                                  120193 non-null int64\n",
      "Belichtungszeit in ns                                                 120193 non-null int64\n",
      "Breitengrad                                                           120193 non-null float64\n",
      "Erster Zeitstempel der Teilliste in ns seit Start der JVM             120193 non-null int64\n",
      "Genauigkeit der Geschwindigkeit speedAccuracyMetersPerSecond          120193 non-null float64\n",
      "Geschwindigkeit in km/h                                               120193 non-null float64\n",
      "Laengengrad                                                           120193 non-null float64\n",
      "Letzter Zeitstempel der Messwerterfassung in ns seit Start der JVM    120193 non-null int64\n",
      "Lokations Zeitstempel in Unixzeit                                     120193 non-null int64\n",
      "Mittelwert Nick in rad                                                120193 non-null float64\n",
      "Mittelwert Y-Achse Beschleunigung in m/s^2                            120193 non-null float64\n",
      "Mittelwert Z-Achse Beschleunigung in m/s^2                            120193 non-null float64\n",
      "Nick Messwerte in rad                                                 120193 non-null object\n",
      "Speicherzeitpunkt der Merkmale in Unixzeit                            120193 non-null int64\n",
      "Standardabweichung Nick in rad                                        120193 non-null float64\n",
      "Standardabweichung Y-Achse Beschleunigung in m/s^2                    120193 non-null float64\n",
      "Standardabweichung Z-Achse Beschleunigung in m/s^2                    120193 non-null float64\n",
      "Start der Belichtung in ns seit Start der JVM                         120193 non-null int64\n",
      "Start der Messwerterfassung in ns seit Start der JVM                  120193 non-null int64\n",
      "Start des Zeitfensters in ns seit Start der JVM                       120193 non-null int64\n",
      "Unnamed: 0                                                            80988 non-null float64\n",
      "Varianz Nick in rad                                                   120193 non-null float64\n",
      "Varianz Y-Achse Beschleunigung in m/s^2                               120193 non-null float64\n",
      "Varianz Z-Achse Beschleunigung in m/s^2                               120193 non-null float64\n",
      "Y-Achse Beschleunigungswerte in m/s^2                                 120193 non-null object\n",
      "Z-Achse Beschleunigungswerte in m/s^2                                 120193 non-null object\n",
      "Zeitstempel Messwertdaten anfordern in Unixzeit                       120193 non-null int64\n",
      "Zeitstempel der Messwerte in ns                                       120193 non-null object\n",
      "dtypes: float64(14), int64(11), object(4)\n",
      "memory usage: 26.6+ MB\n"
     ]
    }
   ],
   "source": [
    "featuresDf.info()"
   ]
  },
  {
   "cell_type": "code",
   "execution_count": 5,
   "metadata": {},
   "outputs": [
    {
     "data": {
      "text/plain": [
       "0.0"
      ]
     },
     "execution_count": 5,
     "metadata": {},
     "output_type": "execute_result"
    }
   ],
   "source": [
    "haversine([featuresDf['Breitengrad'].iloc[0],featuresDf['Laengengrad'].iloc[0]], [featuresDf['Breitengrad'].iloc[0],featuresDf['Laengengrad'].iloc[0]]) * 1000"
   ]
  },
  {
   "cell_type": "code",
   "execution_count": 9,
   "metadata": {},
   "outputs": [
    {
     "name": "stdout",
     "output_type": "stream",
     "text": [
      "Anzahl der GPS Lokationen: 1090\n",
      "Gesamtmeter: 1205.3383218602944\n",
      "Gesamtkilometer: 1.2053383218602944\n",
      "Mittlerer Abstand in Metern zwischen zwei GPS Lokationen: 1.1058149741837564\n"
     ]
    }
   ],
   "source": [
    "i = 0 \n",
    "m = 0\n",
    "sumMeters = 0\n",
    "dataCounter = 0\n",
    "stopIndex = featuresDf.shape[0] - 2\n",
    "while i <= stopIndex:  \n",
    "    m = haversine([featuresDf['Breitengrad'].iloc[i],featuresDf['Laengengrad'].iloc[i]], [featuresDf['Breitengrad'].iloc[i+1],featuresDf['Laengengrad'].iloc[i+1]]) * 1000\n",
    "    if m > 20:\n",
    "        i = i + 1\n",
    "        continue\n",
    "    sumMeters = sumMeters + m\n",
    "    dataCounter = dataCounter + 1 \n",
    "    i = i + 1\n",
    "totalKilometre = sumMeters / 1000\n",
    "meanM          = sumMeters / dataCounter\n",
    "print('Anzahl der GPS Lokationen: ' + str(dataCounter))\n",
    "print('Gesamtmeter: ' + str(sumMeters))\n",
    "print('Gesamtkilometer: ' + str(totalKilometre))\n",
    "print('Mittlerer Abstand in Metern zwischen zwei GPS Lokationen: ' + str(meanM))"
   ]
  },
  {
   "cell_type": "code",
   "execution_count": null,
   "metadata": {},
   "outputs": [],
   "source": []
  },
  {
   "cell_type": "code",
   "execution_count": null,
   "metadata": {},
   "outputs": [],
   "source": []
  }
 ],
 "metadata": {
  "kernelspec": {
   "display_name": "Python 3",
   "language": "python",
   "name": "python3"
  },
  "language_info": {
   "codemirror_mode": {
    "name": "ipython",
    "version": 3
   },
   "file_extension": ".py",
   "mimetype": "text/x-python",
   "name": "python",
   "nbconvert_exporter": "python",
   "pygments_lexer": "ipython3",
   "version": "3.6.4"
  },
  "latex_envs": {
   "LaTeX_envs_menu_present": true,
   "autoclose": false,
   "autocomplete": true,
   "bibliofile": "biblio.bib",
   "cite_by": "apalike",
   "current_citInitial": 1,
   "eqLabelWithNumbers": true,
   "eqNumInitial": 1,
   "hotkeys": {
    "equation": "Ctrl-E",
    "itemize": "Ctrl-I"
   },
   "labels_anchors": false,
   "latex_user_defs": false,
   "report_style_numbering": false,
   "user_envs_cfg": false
  },
  "toc": {
   "base_numbering": 1,
   "colors": {
    "hover_highlight": "#DAA520",
    "navigate_num": "#000000",
    "navigate_text": "#333333",
    "running_highlight": "#FF0000",
    "selected_highlight": "#FFD700",
    "sidebar_border": "#EEEEEE",
    "wrapper_background": "#FFFFFF"
   },
   "moveMenuLeft": true,
   "nav_menu": {
    "height": "12px",
    "width": "252px"
   },
   "navigate_menu": true,
   "number_sections": true,
   "sideBar": true,
   "skip_h1_title": false,
   "threshold": 4,
   "title_cell": "Table of Contents",
   "title_sidebar": "Contents",
   "toc_cell": false,
   "toc_position": {},
   "toc_section_display": "block",
   "toc_window_display": false,
   "widenNotebook": false
  },
  "varInspector": {
   "cols": {
    "lenName": 16,
    "lenType": 16,
    "lenVar": 40
   },
   "kernels_config": {
    "python": {
     "delete_cmd_postfix": "",
     "delete_cmd_prefix": "del ",
     "library": "var_list.py",
     "varRefreshCmd": "print(var_dic_list())"
    },
    "r": {
     "delete_cmd_postfix": ") ",
     "delete_cmd_prefix": "rm(",
     "library": "var_list.r",
     "varRefreshCmd": "cat(var_dic_list()) "
    }
   },
   "types_to_exclude": [
    "module",
    "function",
    "builtin_function_or_method",
    "instance",
    "_Feature"
   ],
   "window_display": false
  }
 },
 "nbformat": 4,
 "nbformat_minor": 2
}
