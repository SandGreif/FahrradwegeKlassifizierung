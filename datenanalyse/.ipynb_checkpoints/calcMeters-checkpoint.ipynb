{
 "cells": [
  {
   "cell_type": "markdown",
   "metadata": {},
   "source": [
    "# Abstand zwischen GPS Lokationen\n",
    "\n",
    "In diesem Jupyter Notebook geht es darum den mittleren Abstand zwischen GPS Lokationen der Merkmale von den Datensätzen zu berechnen. Auch ist es möglich die Gesamtkilometer und bestimmen. Bei der Berechnung der Abstände wird ein Grenzwert in Metern angegeben. Dieser gibt an, in welchem Bereich der Abstand gültig ist. Wenn die Anzahl der Meter zwischen zwei GPS Lokationen groß ist liegt dies daran, dass die Daten nicht zeitlich hintereinander erfasst worden. Für die Berechnung wird das Python Paket Haversine genutzt.\n",
    "\n",
    "Datensatz | Mittlerer Abstand in Metern zwischen zwei GPS Lokationen | Grenzwert in Metern | Anzahl der GPS Lokationen | Gesamtmeter | Gesamtkilometer |\n",
    "  --- |   ---   | --- | ---    |    ---     |    ---   |\n",
    "15-22 | 1,2446  | 20  | 100962 | 125662,71  | 125,6627 |\n",
    "26-27 | 5,0101  | 20  | 4955   | 24825,19   | 24,82    |\n",
    "28-29 | 3,3234  | 20  | 6228   | 20698,3842 | 20,6984  |\n",
    "30    | 1,1942  | 20  | 1448   | 1729,2360  | 1.7292   |\n",
    "31    | 1,4057  | 20  | 14522  | 20413,6242 | 20.4136  |\n",
    "\n",
    " \n",
    "Tabelle 1: Berechnete Abstände von GPS Lokationen"
   ]
  },
  {
   "cell_type": "code",
   "execution_count": 1,
   "metadata": {},
   "outputs": [],
   "source": [
    "import pandas\n",
    "import os\n",
    "from haversine import haversine"
   ]
  },
  {
   "cell_type": "code",
   "execution_count": 3,
   "metadata": {},
   "outputs": [],
   "source": [
    "featuresDf = pandas.read_csv(filepath_or_buffer=\"../daten/merkmale_datensatz_31/merkmaleRoh.csv\")"
   ]
  },
  {
   "cell_type": "code",
   "execution_count": 4,
   "metadata": {},
   "outputs": [
    {
     "name": "stdout",
     "output_type": "stream",
     "text": [
      "<class 'pandas.core.frame.DataFrame'>\n",
      "RangeIndex: 14523 entries, 0 to 14522\n",
      "Data columns (total 15 columns):\n",
      "Zeitstempel in Unixzeit                                               14523 non-null int64\n",
      "Breitengrad                                                           14523 non-null float64\n",
      "Laengengrad                                                           14523 non-null float64\n",
      "Geschwindigkeit in km/h                                               14523 non-null float64\n",
      "Z-Achse Beschleunigungswerte in m/s^2                                 14523 non-null object\n",
      "Y-Achse Beschleunigungswerte in m/s^2                                 14523 non-null object\n",
      "Nick Messwerte in rad                                                 14523 non-null object\n",
      "Zeitstempel der Messwerte in ns                                       14523 non-null object\n",
      "Anzahl der Messwerte                                                  14523 non-null int64\n",
      "Start des Zeitfensters in ns seit Start der JVM                       14523 non-null int64\n",
      "Start der Messwerterfassung in ns seit Start der JVM                  14523 non-null int64\n",
      "Start der Belichtung in ns seit Start der JVM                         14523 non-null int64\n",
      "Belichtungszeit in ns                                                 14523 non-null int64\n",
      "Letzter Zeitstempel der Messwerterfassung in ns seit Start der JVM    14523 non-null int64\n",
      "Speicherzeitpunkt der Merkmale in Unixzeit                            14523 non-null int64\n",
      "dtypes: float64(3), int64(8), object(4)\n",
      "memory usage: 1.7+ MB\n"
     ]
    }
   ],
   "source": [
    "featuresDf.info()"
   ]
  },
  {
   "cell_type": "code",
   "execution_count": 5,
   "metadata": {},
   "outputs": [
    {
     "data": {
      "text/plain": [
       "0.0"
      ]
     },
     "execution_count": 5,
     "metadata": {},
     "output_type": "execute_result"
    }
   ],
   "source": [
    "haversine([featuresDf['Breitengrad'].iloc[0],featuresDf['Laengengrad'].iloc[0]], [featuresDf['Breitengrad'].iloc[0],featuresDf['Laengengrad'].iloc[0]]) * 1000"
   ]
  },
  {
   "cell_type": "code",
   "execution_count": 6,
   "metadata": {},
   "outputs": [
    {
     "name": "stdout",
     "output_type": "stream",
     "text": [
      "Anzahl der GPS Lokationen: 14522\n",
      "Gesamtmeter: 20413.624257828098\n",
      "Gesamtkilometer: 20.413624257828097\n",
      "Mittlerer Abstand in Metern zwischen zwei GPS Lokationen: 1.405703364400778\n"
     ]
    }
   ],
   "source": [
    "i = 0 \n",
    "m = 0\n",
    "sumMeters = 0\n",
    "dataCounter = 0\n",
    "stopIndex = featuresDf.shape[0] - 2\n",
    "while i <= stopIndex:  \n",
    "    m = haversine([featuresDf['Breitengrad'].iloc[i],featuresDf['Laengengrad'].iloc[i]], [featuresDf['Breitengrad'].iloc[i+1],featuresDf['Laengengrad'].iloc[i+1]]) * 1000\n",
    "    if m > 20:\n",
    "        i = i + 1\n",
    "        continue\n",
    "    sumMeters = sumMeters + m\n",
    "    dataCounter = dataCounter + 1 \n",
    "    i = i + 1\n",
    "totalKilometre = sumMeters / 1000\n",
    "meanM          = sumMeters / dataCounter\n",
    "print('Anzahl der GPS Lokationen: ' + str(dataCounter))\n",
    "print('Gesamtmeter: ' + str(sumMeters))\n",
    "print('Gesamtkilometer: ' + str(totalKilometre))\n",
    "print('Mittlerer Abstand in Metern zwischen zwei GPS Lokationen: ' + str(meanM))"
   ]
  },
  {
   "cell_type": "code",
   "execution_count": null,
   "metadata": {},
   "outputs": [],
   "source": []
  }
 ],
 "metadata": {
  "kernelspec": {
   "display_name": "Python 3",
   "language": "python",
   "name": "python3"
  },
  "language_info": {
   "codemirror_mode": {
    "name": "ipython",
    "version": 3
   },
   "file_extension": ".py",
   "mimetype": "text/x-python",
   "name": "python",
   "nbconvert_exporter": "python",
   "pygments_lexer": "ipython3",
   "version": "3.6.4"
  },
  "latex_envs": {
   "LaTeX_envs_menu_present": true,
   "autocomplete": true,
   "bibliofile": "biblio.bib",
   "cite_by": "apalike",
   "current_citInitial": 1,
   "eqLabelWithNumbers": true,
   "eqNumInitial": 1,
   "hotkeys": {
    "equation": "Ctrl-E",
    "itemize": "Ctrl-I"
   },
   "labels_anchors": false,
   "latex_user_defs": false,
   "report_style_numbering": false,
   "user_envs_cfg": false
  },
  "toc": {
   "colors": {
    "hover_highlight": "#DAA520",
    "navigate_num": "#000000",
    "navigate_text": "#333333",
    "running_highlight": "#FF0000",
    "selected_highlight": "#FFD700",
    "sidebar_border": "#EEEEEE",
    "wrapper_background": "#FFFFFF"
   },
   "moveMenuLeft": true,
   "nav_menu": {
    "height": "12px",
    "width": "252px"
   },
   "navigate_menu": true,
   "number_sections": true,
   "sideBar": true,
   "threshold": 4,
   "toc_cell": false,
   "toc_section_display": "block",
   "toc_window_display": false,
   "widenNotebook": false
  }
 },
 "nbformat": 4,
 "nbformat_minor": 2
}
