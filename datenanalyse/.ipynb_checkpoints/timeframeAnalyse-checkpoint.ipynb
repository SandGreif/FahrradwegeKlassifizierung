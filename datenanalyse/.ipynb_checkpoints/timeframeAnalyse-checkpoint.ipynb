{
 "cells": [
  {
   "cell_type": "markdown",
   "metadata": {},
   "source": [
    "# Zeitfensteranalyse\n",
    "\n",
    "## Einleitung\n",
    "\n",
    "Ziel dieses Notebooks ist es eine Unterstützung zu bieten, um ein Zeitfenster zu bestimmen, in welchem Bewegungssensordaten    \n",
    "zu einer Aufnahme erfasst werden. Zu diesen gehören die Beschleunigungssensordaten X,Y,Z sowie die Winkel Roll, Nick und Gier.   \n",
    "\n",
    "## Herausforderungen\n",
    "\n",
    "Bevor die Belichtung einer Aufnahme beginnt sollen bereits die Bewegungsdaten erfasst werden. Es gibt einen Handler in der Android   \n",
    "Camera2 API, welcher beim Start der Belichtung aufgerufen wird. Wenn dann erst die Erfassung der Daten gestartet wird, dann    \n",
    "wäre dies bereits zu spät. Da zu diesem Zeitpunkt die Belichtung bereits begonnen hat. Eine weitere Herausforderung ist ausreihend Datenwerte   \n",
    "zu ermitteln. Ist die Datenerfassung zu kurz werden nur wenige bis keine Daten erfasst. Desweiteren ist der Zeitpunkt   \n",
    "bei welchem die Datenerfassung gestoppt wird relevant."
   ]
  },
  {
   "cell_type": "code",
   "execution_count": 1,
   "metadata": {},
   "outputs": [],
   "source": [
    "import pandas\n",
    "import pandas \n",
    "%matplotlib inline\n",
    "import matplotlib\n",
    "import matplotlib.pyplot as plt\n",
    "import datetime"
   ]
  },
  {
   "cell_type": "code",
   "execution_count": 2,
   "metadata": {},
   "outputs": [],
   "source": [
    "featuresDf = pandas.read_csv(filepath_or_buffer=\"features.csv\")"
   ]
  },
  {
   "cell_type": "code",
   "execution_count": 3,
   "metadata": {},
   "outputs": [
    {
     "data": {
      "text/html": [
       "<div>\n",
       "<style scoped>\n",
       "    .dataframe tbody tr th:only-of-type {\n",
       "        vertical-align: middle;\n",
       "    }\n",
       "\n",
       "    .dataframe tbody tr th {\n",
       "        vertical-align: top;\n",
       "    }\n",
       "\n",
       "    .dataframe thead th {\n",
       "        text-align: right;\n",
       "    }\n",
       "</style>\n",
       "<table border=\"1\" class=\"dataframe\">\n",
       "  <thead>\n",
       "    <tr style=\"text-align: right;\">\n",
       "      <th></th>\n",
       "      <th>Zeitstempel</th>\n",
       "      <th>Breitengrad</th>\n",
       "      <th>Laengengrad</th>\n",
       "      <th>Geschwindigkeit</th>\n",
       "      <th>MittelWX</th>\n",
       "      <th>VarianzX</th>\n",
       "      <th>StandardAX</th>\n",
       "      <th>MittelWY</th>\n",
       "      <th>VarianzY</th>\n",
       "      <th>StandardAY</th>\n",
       "      <th>...</th>\n",
       "      <th>MittelWPitch</th>\n",
       "      <th>VarianzPitch</th>\n",
       "      <th>StandardAPitch</th>\n",
       "      <th>MittelWRoll</th>\n",
       "      <th>VarianzRoll</th>\n",
       "      <th>StandardRoll</th>\n",
       "      <th>StartBewegungsD</th>\n",
       "      <th>StartBelichtung</th>\n",
       "      <th>Belichtungszeit</th>\n",
       "      <th>StopBewegungsD</th>\n",
       "    </tr>\n",
       "  </thead>\n",
       "  <tbody>\n",
       "    <tr>\n",
       "      <th>count</th>\n",
       "      <td>2.000000e+03</td>\n",
       "      <td>2000.000000</td>\n",
       "      <td>2000.000000</td>\n",
       "      <td>2000.000000</td>\n",
       "      <td>2000.000000</td>\n",
       "      <td>2000.000000</td>\n",
       "      <td>2000.000000</td>\n",
       "      <td>2000.000000</td>\n",
       "      <td>2000.000000</td>\n",
       "      <td>2000.000000</td>\n",
       "      <td>...</td>\n",
       "      <td>2000.000000</td>\n",
       "      <td>2000.000000</td>\n",
       "      <td>2000.000000</td>\n",
       "      <td>2000.000000</td>\n",
       "      <td>2000.000000</td>\n",
       "      <td>2000.000000</td>\n",
       "      <td>2.000000e+03</td>\n",
       "      <td>2.000000e+03</td>\n",
       "      <td>2.000000e+03</td>\n",
       "      <td>2.000000e+03</td>\n",
       "    </tr>\n",
       "    <tr>\n",
       "      <th>mean</th>\n",
       "      <td>1.519222e+12</td>\n",
       "      <td>53.614119</td>\n",
       "      <td>10.173735</td>\n",
       "      <td>17.370684</td>\n",
       "      <td>-0.769624</td>\n",
       "      <td>51.980899</td>\n",
       "      <td>3.425279</td>\n",
       "      <td>0.349991</td>\n",
       "      <td>21.042347</td>\n",
       "      <td>2.151565</td>\n",
       "      <td>...</td>\n",
       "      <td>-0.026104</td>\n",
       "      <td>0.014513</td>\n",
       "      <td>0.040029</td>\n",
       "      <td>-0.067708</td>\n",
       "      <td>0.037686</td>\n",
       "      <td>0.038152</td>\n",
       "      <td>2.963933e+13</td>\n",
       "      <td>2.963943e+13</td>\n",
       "      <td>1.150444e+07</td>\n",
       "      <td>2.963879e+13</td>\n",
       "    </tr>\n",
       "    <tr>\n",
       "      <th>std</th>\n",
       "      <td>1.756570e+05</td>\n",
       "      <td>0.001566</td>\n",
       "      <td>0.008892</td>\n",
       "      <td>3.760957</td>\n",
       "      <td>6.939281</td>\n",
       "      <td>106.924149</td>\n",
       "      <td>6.346005</td>\n",
       "      <td>5.175154</td>\n",
       "      <td>50.793803</td>\n",
       "      <td>4.052569</td>\n",
       "      <td>...</td>\n",
       "      <td>0.389855</td>\n",
       "      <td>0.074076</td>\n",
       "      <td>0.113304</td>\n",
       "      <td>0.540709</td>\n",
       "      <td>0.422125</td>\n",
       "      <td>0.190173</td>\n",
       "      <td>1.756579e+11</td>\n",
       "      <td>1.756574e+11</td>\n",
       "      <td>3.702001e+06</td>\n",
       "      <td>1.756334e+11</td>\n",
       "    </tr>\n",
       "    <tr>\n",
       "      <th>min</th>\n",
       "      <td>1.519222e+12</td>\n",
       "      <td>53.610455</td>\n",
       "      <td>10.156508</td>\n",
       "      <td>3.816000</td>\n",
       "      <td>-23.218000</td>\n",
       "      <td>0.000000</td>\n",
       "      <td>0.000000</td>\n",
       "      <td>-31.113000</td>\n",
       "      <td>0.000000</td>\n",
       "      <td>0.000000</td>\n",
       "      <td>...</td>\n",
       "      <td>-1.476000</td>\n",
       "      <td>0.000000</td>\n",
       "      <td>0.000000</td>\n",
       "      <td>-3.199000</td>\n",
       "      <td>0.000000</td>\n",
       "      <td>0.000000</td>\n",
       "      <td>2.932993e+13</td>\n",
       "      <td>2.932987e+13</td>\n",
       "      <td>8.963045e+06</td>\n",
       "      <td>2.932993e+13</td>\n",
       "    </tr>\n",
       "    <tr>\n",
       "      <th>25%</th>\n",
       "      <td>1.519222e+12</td>\n",
       "      <td>53.613506</td>\n",
       "      <td>10.166387</td>\n",
       "      <td>15.119999</td>\n",
       "      <td>-5.646750</td>\n",
       "      <td>0.000000</td>\n",
       "      <td>0.000000</td>\n",
       "      <td>-1.359500</td>\n",
       "      <td>0.000000</td>\n",
       "      <td>0.000000</td>\n",
       "      <td>...</td>\n",
       "      <td>-0.148250</td>\n",
       "      <td>0.000000</td>\n",
       "      <td>0.000000</td>\n",
       "      <td>-0.097000</td>\n",
       "      <td>0.000000</td>\n",
       "      <td>0.000000</td>\n",
       "      <td>2.948938e+13</td>\n",
       "      <td>2.949006e+13</td>\n",
       "      <td>1.000184e+07</td>\n",
       "      <td>2.948911e+13</td>\n",
       "    </tr>\n",
       "    <tr>\n",
       "      <th>50%</th>\n",
       "      <td>1.519223e+12</td>\n",
       "      <td>53.614555</td>\n",
       "      <td>10.176251</td>\n",
       "      <td>17.784000</td>\n",
       "      <td>0.000000</td>\n",
       "      <td>0.000000</td>\n",
       "      <td>0.000000</td>\n",
       "      <td>0.000000</td>\n",
       "      <td>0.000000</td>\n",
       "      <td>0.000000</td>\n",
       "      <td>...</td>\n",
       "      <td>0.000000</td>\n",
       "      <td>0.000000</td>\n",
       "      <td>0.000000</td>\n",
       "      <td>0.000000</td>\n",
       "      <td>0.000000</td>\n",
       "      <td>0.000000</td>\n",
       "      <td>2.964318e+13</td>\n",
       "      <td>2.964389e+13</td>\n",
       "      <td>1.000184e+07</td>\n",
       "      <td>2.964258e+13</td>\n",
       "    </tr>\n",
       "    <tr>\n",
       "      <th>75%</th>\n",
       "      <td>1.519223e+12</td>\n",
       "      <td>53.615370</td>\n",
       "      <td>10.181249</td>\n",
       "      <td>20.052000</td>\n",
       "      <td>1.153750</td>\n",
       "      <td>4.621000</td>\n",
       "      <td>2.150000</td>\n",
       "      <td>2.342250</td>\n",
       "      <td>4.861750</td>\n",
       "      <td>2.205500</td>\n",
       "      <td>...</td>\n",
       "      <td>0.121250</td>\n",
       "      <td>0.000000</td>\n",
       "      <td>0.000000</td>\n",
       "      <td>0.011000</td>\n",
       "      <td>0.000000</td>\n",
       "      <td>0.000000</td>\n",
       "      <td>2.979034e+13</td>\n",
       "      <td>2.979062e+13</td>\n",
       "      <td>1.000184e+07</td>\n",
       "      <td>2.978940e+13</td>\n",
       "    </tr>\n",
       "    <tr>\n",
       "      <th>max</th>\n",
       "      <td>1.519223e+12</td>\n",
       "      <td>53.615856</td>\n",
       "      <td>10.185248</td>\n",
       "      <td>25.272000</td>\n",
       "      <td>27.957000</td>\n",
       "      <td>521.676000</td>\n",
       "      <td>22.841000</td>\n",
       "      <td>36.337000</td>\n",
       "      <td>442.166000</td>\n",
       "      <td>21.028000</td>\n",
       "      <td>...</td>\n",
       "      <td>1.579000</td>\n",
       "      <td>1.254000</td>\n",
       "      <td>1.120000</td>\n",
       "      <td>3.040000</td>\n",
       "      <td>8.715000</td>\n",
       "      <td>2.953000</td>\n",
       "      <td>2.993980e+13</td>\n",
       "      <td>2.993975e+13</td>\n",
       "      <td>2.999632e+07</td>\n",
       "      <td>2.993980e+13</td>\n",
       "    </tr>\n",
       "  </tbody>\n",
       "</table>\n",
       "<p>8 rows × 24 columns</p>\n",
       "</div>"
      ],
      "text/plain": [
       "        Zeitstempel  Breitengrad  Laengengrad  Geschwindigkeit     MittelWX  \\\n",
       "count  2.000000e+03  2000.000000  2000.000000      2000.000000  2000.000000   \n",
       "mean   1.519222e+12    53.614119    10.173735        17.370684    -0.769624   \n",
       "std    1.756570e+05     0.001566     0.008892         3.760957     6.939281   \n",
       "min    1.519222e+12    53.610455    10.156508         3.816000   -23.218000   \n",
       "25%    1.519222e+12    53.613506    10.166387        15.119999    -5.646750   \n",
       "50%    1.519223e+12    53.614555    10.176251        17.784000     0.000000   \n",
       "75%    1.519223e+12    53.615370    10.181249        20.052000     1.153750   \n",
       "max    1.519223e+12    53.615856    10.185248        25.272000    27.957000   \n",
       "\n",
       "          VarianzX   StandardAX     MittelWY     VarianzY   StandardAY  \\\n",
       "count  2000.000000  2000.000000  2000.000000  2000.000000  2000.000000   \n",
       "mean     51.980899     3.425279     0.349991    21.042347     2.151565   \n",
       "std     106.924149     6.346005     5.175154    50.793803     4.052569   \n",
       "min       0.000000     0.000000   -31.113000     0.000000     0.000000   \n",
       "25%       0.000000     0.000000    -1.359500     0.000000     0.000000   \n",
       "50%       0.000000     0.000000     0.000000     0.000000     0.000000   \n",
       "75%       4.621000     2.150000     2.342250     4.861750     2.205500   \n",
       "max     521.676000    22.841000    36.337000   442.166000    21.028000   \n",
       "\n",
       "            ...        MittelWPitch  VarianzPitch  StandardAPitch  \\\n",
       "count       ...         2000.000000   2000.000000     2000.000000   \n",
       "mean        ...           -0.026104      0.014513        0.040029   \n",
       "std         ...            0.389855      0.074076        0.113304   \n",
       "min         ...           -1.476000      0.000000        0.000000   \n",
       "25%         ...           -0.148250      0.000000        0.000000   \n",
       "50%         ...            0.000000      0.000000        0.000000   \n",
       "75%         ...            0.121250      0.000000        0.000000   \n",
       "max         ...            1.579000      1.254000        1.120000   \n",
       "\n",
       "       MittelWRoll  VarianzRoll  StandardRoll  StartBewegungsD  \\\n",
       "count  2000.000000  2000.000000   2000.000000     2.000000e+03   \n",
       "mean     -0.067708     0.037686      0.038152     2.963933e+13   \n",
       "std       0.540709     0.422125      0.190173     1.756579e+11   \n",
       "min      -3.199000     0.000000      0.000000     2.932993e+13   \n",
       "25%      -0.097000     0.000000      0.000000     2.948938e+13   \n",
       "50%       0.000000     0.000000      0.000000     2.964318e+13   \n",
       "75%       0.011000     0.000000      0.000000     2.979034e+13   \n",
       "max       3.040000     8.715000      2.953000     2.993980e+13   \n",
       "\n",
       "       StartBelichtung  Belichtungszeit  StopBewegungsD  \n",
       "count     2.000000e+03     2.000000e+03    2.000000e+03  \n",
       "mean      2.963943e+13     1.150444e+07    2.963879e+13  \n",
       "std       1.756574e+11     3.702001e+06    1.756334e+11  \n",
       "min       2.932987e+13     8.963045e+06    2.932993e+13  \n",
       "25%       2.949006e+13     1.000184e+07    2.948911e+13  \n",
       "50%       2.964389e+13     1.000184e+07    2.964258e+13  \n",
       "75%       2.979062e+13     1.000184e+07    2.978940e+13  \n",
       "max       2.993975e+13     2.999632e+07    2.993980e+13  \n",
       "\n",
       "[8 rows x 24 columns]"
      ]
     },
     "execution_count": 3,
     "metadata": {},
     "output_type": "execute_result"
    }
   ],
   "source": [
    "featuresDf.describe()"
   ]
  },
  {
   "cell_type": "code",
   "execution_count": 4,
   "metadata": {
    "scrolled": true
   },
   "outputs": [
    {
     "data": {
      "text/html": [
       "<div>\n",
       "<style scoped>\n",
       "    .dataframe tbody tr th:only-of-type {\n",
       "        vertical-align: middle;\n",
       "    }\n",
       "\n",
       "    .dataframe tbody tr th {\n",
       "        vertical-align: top;\n",
       "    }\n",
       "\n",
       "    .dataframe thead th {\n",
       "        text-align: right;\n",
       "    }\n",
       "</style>\n",
       "<table border=\"1\" class=\"dataframe\">\n",
       "  <thead>\n",
       "    <tr style=\"text-align: right;\">\n",
       "      <th></th>\n",
       "      <th>Zeitstempel</th>\n",
       "      <th>Breitengrad</th>\n",
       "      <th>Laengengrad</th>\n",
       "      <th>Geschwindigkeit</th>\n",
       "      <th>MittelWX</th>\n",
       "      <th>VarianzX</th>\n",
       "      <th>StandardAX</th>\n",
       "      <th>MittelWY</th>\n",
       "      <th>VarianzY</th>\n",
       "      <th>StandardAY</th>\n",
       "      <th>...</th>\n",
       "      <th>VarianzPitch</th>\n",
       "      <th>StandardAPitch</th>\n",
       "      <th>MittelWRoll</th>\n",
       "      <th>VarianzRoll</th>\n",
       "      <th>StandardRoll</th>\n",
       "      <th>StartBewegungsD</th>\n",
       "      <th>StartBelichtung</th>\n",
       "      <th>Belichtungszeit</th>\n",
       "      <th>StopBewegungsD</th>\n",
       "      <th>Datum</th>\n",
       "    </tr>\n",
       "  </thead>\n",
       "  <tbody>\n",
       "    <tr>\n",
       "      <th>0</th>\n",
       "      <td>1519222189555</td>\n",
       "      <td>53.612377</td>\n",
       "      <td>10.176757</td>\n",
       "      <td>22.248</td>\n",
       "      <td>2.645</td>\n",
       "      <td>2.908</td>\n",
       "      <td>1.706</td>\n",
       "      <td>-7.172</td>\n",
       "      <td>206.2</td>\n",
       "      <td>14.36</td>\n",
       "      <td>...</td>\n",
       "      <td>0.0</td>\n",
       "      <td>0.0</td>\n",
       "      <td>-0.349</td>\n",
       "      <td>0.0</td>\n",
       "      <td>0.0</td>\n",
       "      <td>29329927950266</td>\n",
       "      <td>29329873707614</td>\n",
       "      <td>10001839</td>\n",
       "      <td>29329931199954</td>\n",
       "      <td>2018-02-21 15:09:49.555000</td>\n",
       "    </tr>\n",
       "    <tr>\n",
       "      <th>1</th>\n",
       "      <td>1519222189850</td>\n",
       "      <td>53.612377</td>\n",
       "      <td>10.176757</td>\n",
       "      <td>22.248</td>\n",
       "      <td>0.000</td>\n",
       "      <td>0.000</td>\n",
       "      <td>0.000</td>\n",
       "      <td>0.000</td>\n",
       "      <td>0.0</td>\n",
       "      <td>0.00</td>\n",
       "      <td>...</td>\n",
       "      <td>0.0</td>\n",
       "      <td>0.0</td>\n",
       "      <td>0.000</td>\n",
       "      <td>0.0</td>\n",
       "      <td>0.0</td>\n",
       "      <td>29329927950266</td>\n",
       "      <td>29330174382614</td>\n",
       "      <td>10001839</td>\n",
       "      <td>29329931199954</td>\n",
       "      <td>2018-02-21 15:09:49.850000</td>\n",
       "    </tr>\n",
       "    <tr>\n",
       "      <th>2</th>\n",
       "      <td>1519222190122</td>\n",
       "      <td>53.612377</td>\n",
       "      <td>10.176757</td>\n",
       "      <td>22.248</td>\n",
       "      <td>-4.997</td>\n",
       "      <td>0.000</td>\n",
       "      <td>0.000</td>\n",
       "      <td>5.940</td>\n",
       "      <td>0.0</td>\n",
       "      <td>0.00</td>\n",
       "      <td>...</td>\n",
       "      <td>0.0</td>\n",
       "      <td>0.0</td>\n",
       "      <td>0.198</td>\n",
       "      <td>0.0</td>\n",
       "      <td>0.0</td>\n",
       "      <td>29330492257402</td>\n",
       "      <td>29330431604775</td>\n",
       "      <td>20003678</td>\n",
       "      <td>29329931199954</td>\n",
       "      <td>2018-02-21 15:09:50.122000</td>\n",
       "    </tr>\n",
       "    <tr>\n",
       "      <th>3</th>\n",
       "      <td>1519222190389</td>\n",
       "      <td>53.612324</td>\n",
       "      <td>10.176797</td>\n",
       "      <td>19.512</td>\n",
       "      <td>0.000</td>\n",
       "      <td>0.000</td>\n",
       "      <td>0.000</td>\n",
       "      <td>0.000</td>\n",
       "      <td>0.0</td>\n",
       "      <td>0.00</td>\n",
       "      <td>...</td>\n",
       "      <td>0.0</td>\n",
       "      <td>0.0</td>\n",
       "      <td>0.000</td>\n",
       "      <td>0.0</td>\n",
       "      <td>0.0</td>\n",
       "      <td>29330492257402</td>\n",
       "      <td>29330698871775</td>\n",
       "      <td>20003678</td>\n",
       "      <td>29329931199954</td>\n",
       "      <td>2018-02-21 15:09:50.389000</td>\n",
       "    </tr>\n",
       "    <tr>\n",
       "      <th>4</th>\n",
       "      <td>1519222190685</td>\n",
       "      <td>53.612324</td>\n",
       "      <td>10.176797</td>\n",
       "      <td>19.512</td>\n",
       "      <td>-4.629</td>\n",
       "      <td>0.000</td>\n",
       "      <td>0.000</td>\n",
       "      <td>11.115</td>\n",
       "      <td>0.0</td>\n",
       "      <td>0.00</td>\n",
       "      <td>...</td>\n",
       "      <td>0.0</td>\n",
       "      <td>0.0</td>\n",
       "      <td>0.206</td>\n",
       "      <td>0.0</td>\n",
       "      <td>0.0</td>\n",
       "      <td>29331061552297</td>\n",
       "      <td>29330999509775</td>\n",
       "      <td>20003678</td>\n",
       "      <td>29329931199954</td>\n",
       "      <td>2018-02-21 15:09:50.685000</td>\n",
       "    </tr>\n",
       "  </tbody>\n",
       "</table>\n",
       "<p>5 rows × 25 columns</p>\n",
       "</div>"
      ],
      "text/plain": [
       "     Zeitstempel  Breitengrad  Laengengrad  Geschwindigkeit  MittelWX  \\\n",
       "0  1519222189555    53.612377    10.176757           22.248     2.645   \n",
       "1  1519222189850    53.612377    10.176757           22.248     0.000   \n",
       "2  1519222190122    53.612377    10.176757           22.248    -4.997   \n",
       "3  1519222190389    53.612324    10.176797           19.512     0.000   \n",
       "4  1519222190685    53.612324    10.176797           19.512    -4.629   \n",
       "\n",
       "   VarianzX  StandardAX  MittelWY  VarianzY  StandardAY  \\\n",
       "0     2.908       1.706    -7.172     206.2       14.36   \n",
       "1     0.000       0.000     0.000       0.0        0.00   \n",
       "2     0.000       0.000     5.940       0.0        0.00   \n",
       "3     0.000       0.000     0.000       0.0        0.00   \n",
       "4     0.000       0.000    11.115       0.0        0.00   \n",
       "\n",
       "              ...              VarianzPitch  StandardAPitch  MittelWRoll  \\\n",
       "0             ...                       0.0             0.0       -0.349   \n",
       "1             ...                       0.0             0.0        0.000   \n",
       "2             ...                       0.0             0.0        0.198   \n",
       "3             ...                       0.0             0.0        0.000   \n",
       "4             ...                       0.0             0.0        0.206   \n",
       "\n",
       "   VarianzRoll  StandardRoll  StartBewegungsD  StartBelichtung  \\\n",
       "0          0.0           0.0   29329927950266   29329873707614   \n",
       "1          0.0           0.0   29329927950266   29330174382614   \n",
       "2          0.0           0.0   29330492257402   29330431604775   \n",
       "3          0.0           0.0   29330492257402   29330698871775   \n",
       "4          0.0           0.0   29331061552297   29330999509775   \n",
       "\n",
       "   Belichtungszeit  StopBewegungsD                       Datum  \n",
       "0         10001839  29329931199954  2018-02-21 15:09:49.555000  \n",
       "1         10001839  29329931199954  2018-02-21 15:09:49.850000  \n",
       "2         20003678  29329931199954  2018-02-21 15:09:50.122000  \n",
       "3         20003678  29329931199954  2018-02-21 15:09:50.389000  \n",
       "4         20003678  29329931199954  2018-02-21 15:09:50.685000  \n",
       "\n",
       "[5 rows x 25 columns]"
      ]
     },
     "execution_count": 4,
     "metadata": {},
     "output_type": "execute_result"
    }
   ],
   "source": [
    "# Fügt eine Spalte mit dem Datum hinzu\n",
    "date = []\n",
    "for row in featuresDf.Zeitstempel:\n",
    "    date.append(datetime.datetime.fromtimestamp(row/1000.0).strftime('%Y-%m-%d %H:%M:%S.%f'))\n",
    "featuresDf['Datum'] =  date\n",
    "featuresDf.head(5)"
   ]
  },
  {
   "cell_type": "code",
   "execution_count": 5,
   "metadata": {},
   "outputs": [
    {
     "data": {
      "text/plain": [
       "RangeIndex(start=0, stop=2000, step=1)"
      ]
     },
     "execution_count": 5,
     "metadata": {},
     "output_type": "execute_result"
    }
   ],
   "source": [
    "featuresDf.index"
   ]
  },
  {
   "cell_type": "code",
   "execution_count": 6,
   "metadata": {},
   "outputs": [
    {
     "data": {
      "image/png": "[encoded data removed]",
      "text/plain": [
       "<matplotlib.figure.Figure at 0x186b2017160>"
      ]
     },
     "metadata": {},
     "output_type": "display_data"
    }
   ],
   "source": [
    "fig = plt.figure(num=None, figsize=(10, 6), dpi=100)\n",
    "plt.title('Belichtungszeit')\n",
    "plt.ylabel('Belichtungszeit in Nanosekunden')\n",
    "plt.xlabel('Vergangene Zeit in Ms seit 1970')\n",
    "plt.plot(featuresDf['Belichtungszeit'], color='green')\n",
    "plt.grid(True)"
   ]
  },
  {
   "cell_type": "code",
   "execution_count": 7,
   "metadata": {},
   "outputs": [],
   "source": [
    "startSensorDataCollectionDf = featuresDf.StartBewegungsD\n",
    "startExposureDf = featuresDf.StartBelichtung"
   ]
  },
  {
   "cell_type": "markdown",
   "metadata": {},
   "source": [
    "Die Funktion berechnet den Mittelwert der Differenz zwischen zwei Dataframes mit einer Spalte.   \n",
    "Prec.: startDf und endDf haben jeweils eine Spalte. Anzahl der Reihen der Dataframes > 0   \n",
    "Postc: Gibt den Mittelwert zurück   "
   ]
  },
  {
   "cell_type": "code",
   "execution_count": 8,
   "metadata": {},
   "outputs": [],
   "source": [
    "def calcMeanTime(startDf,endDf):\n",
    "    meanStartM = startDf.iloc[:].mean()\n",
    "    meanStartE = endDf.iloc[:].mean()\n",
    "    return meanStartM - meanStartE"
   ]
  },
  {
   "cell_type": "code",
   "execution_count": 9,
   "metadata": {},
   "outputs": [
    {
     "data": {
      "text/plain": [
       "97487908.54296875"
      ]
     },
     "execution_count": 9,
     "metadata": {},
     "output_type": "execute_result"
    }
   ],
   "source": [
    "calcMeanTime(startExposureDf,startSensorDataCollectionDf)"
   ]
  },
  {
   "cell_type": "markdown",
   "metadata": {},
   "source": [
    "Berechnitt die maximale Differenz zwischen den Achsen von zwei Dataframes   \n",
    "Prec.: startDf und endDf haben jeweils eine Spalte. Anzahl der Reihen der Dataframes > 0     \n",
    "Postc.: Maximaler Wert"
   ]
  },
  {
   "cell_type": "code",
   "execution_count": 10,
   "metadata": {},
   "outputs": [],
   "source": [
    "def calcMaxGap(endDf,startDf):\n",
    "    maxDf = endDf - startDf\n",
    "    return maxDf.max()"
   ]
  },
  {
   "cell_type": "code",
   "execution_count": 11,
   "metadata": {},
   "outputs": [
    {
     "data": {
      "text/plain": [
       "3156587736"
      ]
     },
     "execution_count": 11,
     "metadata": {},
     "output_type": "execute_result"
    }
   ],
   "source": [
    "calcMaxGap(startExposureDf, startSensorDataCollectionDf)"
   ]
  },
  {
   "cell_type": "code",
   "execution_count": 12,
   "metadata": {},
   "outputs": [
    {
     "data": {
      "text/plain": [
       "0    29329883709453\n",
       "1    29330184384453\n",
       "dtype: int64"
      ]
     },
     "execution_count": 12,
     "metadata": {},
     "output_type": "execute_result"
    }
   ],
   "source": [
    "# Dataframe mit Startpunkten der Belichtungszeit einer Aufnahme addiert mit der jeweiligen Belichtungszeit\n",
    "startExposurePlusExposureTime = startExposureDf + featuresDf.Belichtungszeit\n",
    "startExposurePlusExposureTime.head(2)"
   ]
  },
  {
   "cell_type": "code",
   "execution_count": 13,
   "metadata": {},
   "outputs": [
    {
     "data": {
      "text/plain": [
       "11504440.644"
      ]
     },
     "execution_count": 13,
     "metadata": {},
     "output_type": "execute_result"
    }
   ],
   "source": [
    "# Mitteltert der belichtungszeit\n",
    "featuresDf.Belichtungszeit.mean()"
   ]
  },
  {
   "cell_type": "code",
   "execution_count": 14,
   "metadata": {},
   "outputs": [
    {
     "data": {
      "text/plain": [
       "29996324"
      ]
     },
     "execution_count": 14,
     "metadata": {},
     "output_type": "execute_result"
    }
   ],
   "source": [
    "# Max Belichtungszeit\n",
    "featuresDf.Belichtungszeit.max()"
   ]
  },
  {
   "cell_type": "code",
   "execution_count": 15,
   "metadata": {},
   "outputs": [
    {
     "data": {
      "text/plain": [
       "29939758811453"
      ]
     },
     "execution_count": 15,
     "metadata": {},
     "output_type": "execute_result"
    }
   ],
   "source": [
    "# Max Belichtungszeit mit Start der Belichtungszeit\n",
    "startExposurePlusExposureTime.max()"
   ]
  },
  {
   "cell_type": "code",
   "execution_count": 16,
   "metadata": {},
   "outputs": [
    {
     "data": {
      "text/plain": [
       "647227348.0039062"
      ]
     },
     "execution_count": 16,
     "metadata": {},
     "output_type": "execute_result"
    }
   ],
   "source": [
    "# Berechnet den Mittelwert der Differenzen zwischen Strt der Belichtungszeit mit \n",
    "# Belichtungszeit und Stopp der Bewesungssensordatenerfassung\n",
    "calcMeanTime(startExposurePlusExposureTime,featuresDf.StopBewegungsD)"
   ]
  },
  {
   "cell_type": "code",
   "execution_count": 17,
   "metadata": {},
   "outputs": [
    {
     "data": {
      "text/plain": [
       "6440767988"
      ]
     },
     "execution_count": 17,
     "metadata": {},
     "output_type": "execute_result"
    }
   ],
   "source": [
    "calcMaxGap(startExposurePlusExposureTime, featuresDf.StopBewegungsD)"
   ]
  },
  {
   "cell_type": "code",
   "execution_count": 28,
   "metadata": {},
   "outputs": [
    {
     "name": "stderr",
     "output_type": "stream",
     "text": [
      "testCalcMaxGap (__main__.CalcTimeframeTest) ... ok\n",
      "testCalcMaxGapOne (__main__.CalcTimeframeTest) ... ok\n",
      "testCalcMaxGapUnequal (__main__.CalcTimeframeTest) ... ok\n",
      "testCalcMeanTimeUnequal (__main__.CalcTimeframeTest) ... ok\n",
      "testCalcMeanTimeValues (__main__.CalcTimeframeTest) ... ok\n",
      "testCalcMeanTimeZero (__main__.CalcTimeframeTest) ... ok\n",
      "\n",
      "----------------------------------------------------------------------\n",
      "Ran 6 tests in 0.014s\n",
      "\n",
      "OK\n"
     ]
    },
    {
     "data": {
      "text/plain": [
       "<unittest.main.TestProgram at 0x186b24cceb8>"
      ]
     },
     "execution_count": 28,
     "metadata": {},
     "output_type": "execute_result"
    }
   ],
   "source": [
    "# Unittests\n",
    "import unittest\n",
    "\n",
    "class CalcTimeframeTest(unittest.TestCase):\n",
    "    \n",
    "    # Testet die Funktion calcMaxGap\n",
    "    # Dabei wird mehere Datenwerte verwendet\n",
    "    def testCalcMaxGap(self):\n",
    "        dEnd = [10, 20, 5]\n",
    "        dfEnd = pandas.DataFrame(dEnd)\n",
    "        dStart = [2, 10, 1]\n",
    "        dfStart = pandas.DataFrame(dStart)\n",
    "        self.assertEqual(calcMaxGap(dfEnd,dfStart)[0], 10)\n",
    "        \n",
    "    # Testet die Funktion calcMaxGap\n",
    "    # Dabei wird ein Datenwert genutzt\n",
    "    def testCalcMaxGapOne(self):\n",
    "        dEnd = [10]\n",
    "        dfEnd = pandas.DataFrame(dEnd)\n",
    "        dStart = [10]\n",
    "        dfStart = pandas.DataFrame(dStart)\n",
    "        self.assertEqual(calcMaxGap(dfEnd,dfStart)[0], 0)\n",
    "        \n",
    "    \n",
    "    # Testet die Funktion calcMaxGap\n",
    "    # Die Anzahl der Reihen ist unterschiedlich\n",
    "    def testCalcMaxGapUnequal(self):\n",
    "        dEnd = [10,20,20]\n",
    "        dfEnd = pandas.DataFrame(dEnd)\n",
    "        dStart = [10]\n",
    "        dfStart = pandas.DataFrame(dStart)\n",
    "        self.assertEqual(calcMaxGap(dfEnd,dfStart)[0], 0)\n",
    "        \n",
    "    # Dieser Test testet die Funktion calcMeanTime.\n",
    "    # Hier wird die Mittlere Differenz gleich 0 erwartet\n",
    "    def testCalcMeanTimeZero(self):\n",
    "        dEnd = [10,10,10]\n",
    "        dfEnd = pandas.DataFrame(dEnd)\n",
    "        dStart = [10,10,10]\n",
    "        dfStart = pandas.DataFrame(dStart)\n",
    "        self.assertEqual(calcMeanTime(dfEnd,dfStart)[0], 0.0)\n",
    "        \n",
    "    # Dieser Test testet die Funktion calcMeanTime.\n",
    "    # Hier wird die Mittlere Differenz gleich 0 erwartet\n",
    "    def testCalcMeanTimeZero(self):\n",
    "        dEnd = [10,10,10]\n",
    "        dfEnd = pandas.DataFrame(dEnd)\n",
    "        dStart = [10,10,10]\n",
    "        dfStart = pandas.DataFrame(dStart)\n",
    "        self.assertEqual(calcMeanTime(dfEnd,dfStart)[0], 0.0)\n",
    "    \n",
    "    # Test die Funktion calcMeanTime.\n",
    "    # Es werden mehrere unterschiedliche Werte getestet\n",
    "    def testCalcMeanTimeValues(self):\n",
    "        dEnd = [4,8,3,5,60]\n",
    "        dfEnd = pandas.DataFrame(dEnd)\n",
    "        dStart = [4,3,10,40,3]\n",
    "        dfStart = pandas.DataFrame(dStart)\n",
    "        self.assertEqual(calcMeanTime(dfEnd,dfStart)[0], 4.0)        \n",
    "  \n",
    "    # Test die Funktion calcMeanTime.\n",
    "    # Dabei sind die Anzahl der Reihen unterschiedlich\n",
    "    def testCalcMeanTimeUnequal(self):\n",
    "        dEnd = [4,8,3,5,60]\n",
    "        dfEnd = pandas.DataFrame(dEnd)\n",
    "        dStart = [4,6,10,40]\n",
    "        dfStart = pandas.DataFrame(dStart)\n",
    "        self.assertEqual(calcMeanTime(dfEnd,dfStart)[0], 1.0)        \n",
    "\n",
    "unittest.main(argv=[''], verbosity=2, exit=False)"
   ]
  },
  {
   "cell_type": "code",
   "execution_count": null,
   "metadata": {},
   "outputs": [],
   "source": []
  }
 ],
 "metadata": {
  "kernelspec": {
   "display_name": "Python 3",
   "language": "python",
   "name": "python3"
  },
  "language_info": {
   "codemirror_mode": {
    "name": "ipython",
    "version": 3
   },
   "file_extension": ".py",
   "mimetype": "text/x-python",
   "name": "python",
   "nbconvert_exporter": "python",
   "pygments_lexer": "ipython3",
   "version": "3.6.4"
  },
  "toc": {
   "colors": {
    "hover_highlight": "#DAA520",
    "navigate_num": "#000000",
    "navigate_text": "#333333",
    "running_highlight": "#FF0000",
    "selected_highlight": "#FFD700",
    "sidebar_border": "#EEEEEE",
    "wrapper_background": "#FFFFFF"
   },
   "moveMenuLeft": true,
   "nav_menu": {
    "height": "12px",
    "width": "252px"
   },
   "navigate_menu": true,
   "number_sections": true,
   "sideBar": true,
   "threshold": 4,
   "toc_cell": false,
   "toc_section_display": "block",
   "toc_window_display": false,
   "widenNotebook": false
  }
 },
 "nbformat": 4,
 "nbformat_minor": 2
}
