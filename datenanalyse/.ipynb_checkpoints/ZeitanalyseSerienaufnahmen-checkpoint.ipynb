{
 "cells": [
  {
   "cell_type": "markdown",
   "metadata": {},
   "source": [
    " Zeitanalyse\n",
    " ======\n",
    " \n",
    " Mit diesem Python Notebook ist es möglich, dass zeitliche Verhalten einer Serienaufnahme der Android Anwendung \"Fahrradwege Monotring App\" zu untersuchen.  \n",
    " Ziel ist es zu berechnen wie viele Bilder in einer Serienaufnahme pro Sekunde aufgenommen wurden.  \n",
    " Des Weiteren ist es möglich die längste Zeitspanne zwischen  zwei Aufnahmen innerhalb einer Serienaufnahme zu ermitteln.\n",
    " "
   ]
  },
  {
   "cell_type": "markdown",
   "metadata": {},
   "source": [
    "Bilder pro Sekunde in einer Serienaufnahme\n",
    "------\n",
    "\n",
    "Um die Anzahl der Bilder pro Sekunde zu berechnen ist es wichtig, dass diese kontinuierlich in kurzen Zeitabschnitten  \n",
    "aufgenommen wurden. In der Android habe ich einen Schwellenwert implementiert damit keine Aufnahmen gemacht werden,  \n",
    "wenn eine bestimmte Geschwindikeit nicht überschritten wurde. Dies ist relevant um keine Aufnahme zu machen falls  \n",
    "ein Fahrrad steht während die Anwendung läuft."
   ]
  },
  {
   "cell_type": "code",
   "execution_count": 193,
   "metadata": {},
   "outputs": [],
   "source": [
    "import pandas "
   ]
  },
  {
   "cell_type": "code",
   "execution_count": 256,
   "metadata": {},
   "outputs": [],
   "source": [
    "# Startindex der Features eines Fotos   \n",
    "startIndex = 200\n",
    "# Stop Index \n",
    "stopIndex = 1999\n",
    "\n",
    "# Öfnne die Datei features.csv. Der Path muss angegeben werden\n",
    "featuresDf = pandas.read_csv(filepath_or_buffer=\"features.csv\")"
   ]
  },
  {
   "cell_type": "code",
   "execution_count": 249,
   "metadata": {},
   "outputs": [
    {
     "data": {
      "text/html": [
       "<div>\n",
       "<style scoped>\n",
       "    .dataframe tbody tr th:only-of-type {\n",
       "        vertical-align: middle;\n",
       "    }\n",
       "\n",
       "    .dataframe tbody tr th {\n",
       "        vertical-align: top;\n",
       "    }\n",
       "\n",
       "    .dataframe thead th {\n",
       "        text-align: right;\n",
       "    }\n",
       "</style>\n",
       "<table border=\"1\" class=\"dataframe\">\n",
       "  <thead>\n",
       "    <tr style=\"text-align: right;\">\n",
       "      <th></th>\n",
       "      <th>1517406563307</th>\n",
       "      <th>53.613293</th>\n",
       "      <th>53.613293.1</th>\n",
       "      <th>14.472</th>\n",
       "    </tr>\n",
       "  </thead>\n",
       "  <tbody>\n",
       "    <tr>\n",
       "      <th>count</th>\n",
       "      <td>1.999000e+03</td>\n",
       "      <td>1999.000000</td>\n",
       "      <td>1999.000000</td>\n",
       "      <td>1999.000000</td>\n",
       "    </tr>\n",
       "    <tr>\n",
       "      <th>mean</th>\n",
       "      <td>1.517407e+12</td>\n",
       "      <td>53.614035</td>\n",
       "      <td>53.614035</td>\n",
       "      <td>13.250638</td>\n",
       "    </tr>\n",
       "    <tr>\n",
       "      <th>std</th>\n",
       "      <td>7.429086e+04</td>\n",
       "      <td>0.000336</td>\n",
       "      <td>0.000336</td>\n",
       "      <td>3.425284</td>\n",
       "    </tr>\n",
       "    <tr>\n",
       "      <th>min</th>\n",
       "      <td>1.517407e+12</td>\n",
       "      <td>53.613293</td>\n",
       "      <td>53.613293</td>\n",
       "      <td>4.176000</td>\n",
       "    </tr>\n",
       "    <tr>\n",
       "      <th>25%</th>\n",
       "      <td>1.517407e+12</td>\n",
       "      <td>53.613754</td>\n",
       "      <td>53.613754</td>\n",
       "      <td>11.736000</td>\n",
       "    </tr>\n",
       "    <tr>\n",
       "      <th>50%</th>\n",
       "      <td>1.517407e+12</td>\n",
       "      <td>53.614094</td>\n",
       "      <td>53.614094</td>\n",
       "      <td>13.625999</td>\n",
       "    </tr>\n",
       "    <tr>\n",
       "      <th>75%</th>\n",
       "      <td>1.517407e+12</td>\n",
       "      <td>53.614273</td>\n",
       "      <td>53.614273</td>\n",
       "      <td>15.606000</td>\n",
       "    </tr>\n",
       "    <tr>\n",
       "      <th>max</th>\n",
       "      <td>1.517407e+12</td>\n",
       "      <td>53.614550</td>\n",
       "      <td>53.614550</td>\n",
       "      <td>20.736000</td>\n",
       "    </tr>\n",
       "  </tbody>\n",
       "</table>\n",
       "</div>"
      ],
      "text/plain": [
       "       1517406563307    53.613293  53.613293.1       14.472\n",
       "count   1.999000e+03  1999.000000  1999.000000  1999.000000\n",
       "mean    1.517407e+12    53.614035    53.614035    13.250638\n",
       "std     7.429086e+04     0.000336     0.000336     3.425284\n",
       "min     1.517407e+12    53.613293    53.613293     4.176000\n",
       "25%     1.517407e+12    53.613754    53.613754    11.736000\n",
       "50%     1.517407e+12    53.614094    53.614094    13.625999\n",
       "75%     1.517407e+12    53.614273    53.614273    15.606000\n",
       "max     1.517407e+12    53.614550    53.614550    20.736000"
      ]
     },
     "execution_count": 249,
     "metadata": {},
     "output_type": "execute_result"
    }
   ],
   "source": [
    "featuresDf.describe()"
   ]
  },
  {
   "cell_type": "code",
   "execution_count": 250,
   "metadata": {},
   "outputs": [
    {
     "data": {
      "text/plain": [
       "RangeIndex(start=0, stop=1999, step=1)"
      ]
     },
     "execution_count": 250,
     "metadata": {},
     "output_type": "execute_result"
    }
   ],
   "source": [
    "# Andzahl der Einträge\n",
    "featuresDf.index"
   ]
  },
  {
   "cell_type": "code",
   "execution_count": 251,
   "metadata": {},
   "outputs": [
    {
     "data": {
      "text/plain": [
       "Index(['1517406563307', '53.613293', '53.613293.1', '14.472'], dtype='object')"
      ]
     },
     "execution_count": 251,
     "metadata": {},
     "output_type": "execute_result"
    }
   ],
   "source": [
    "# Namen der Spalten\n",
    "featuresDf.columns"
   ]
  },
  {
   "cell_type": "code",
   "execution_count": 257,
   "metadata": {},
   "outputs": [],
   "source": [
    "i = startIndex\n",
    "firstMs = featuresDf.iat[i,0]\n",
    "# Das erste Bild wird nicht mit einbezogen in die Berechnung\n",
    "imageCounter = -1\n",
    "lastValueMs = firstMs \n",
    "valueMs = 0\n",
    "while i <= stopIndex:\n",
    "    valueMs = featuresDf.iat[i,0]\n",
    "    if (valueMs - lastValueMs) > 1000:\n",
    "        break\n",
    "    sum =+ (featuresDf.iat[i,0] - firstMs)\n",
    "    i =  i + 1\n",
    "    imageCounter = imageCounter + 1\n",
    "    lastValueMs = valueMs"
   ]
  },
  {
   "cell_type": "code",
   "execution_count": 258,
   "metadata": {},
   "outputs": [],
   "source": [
    "meanMs = sum/imageCounter\n",
    "imagesPerSecond = imageCounter/(sum/1000)"
   ]
  },
  {
   "cell_type": "code",
   "execution_count": 259,
   "metadata": {},
   "outputs": [
    {
     "name": "stdout",
     "output_type": "stream",
     "text": [
      "Anzahl der Bilder: 1042\n",
      "Mittelwert: 93.3061420345ms pro Aufnahme\n",
      "Bilder pro Sekunde: 10.7174080741\n"
     ]
    }
   ],
   "source": [
    "print(\"Anzahl der Bilder: \" + str(imageCounter) + \"\\n\" +\n",
    "    \"Mittelwert: \" + str(meanMs) + \"ms pro Aufnahme\" + \"\\n\" +\n",
    "    \"Bilder pro Sekunde: \" + str(imagesPerSecond))"
   ]
  },
  {
   "cell_type": "code",
   "execution_count": null,
   "metadata": {},
   "outputs": [],
   "source": []
  }
 ],
 "metadata": {
  "kernelspec": {
   "display_name": "Python 3",
   "language": "python",
   "name": "python3"
  },
  "toc": {
   "colors": {
    "hover_highlight": "#DAA520",
    "navigate_num": "#000000",
    "navigate_text": "#333333",
    "running_highlight": "#FF0000",
    "selected_highlight": "#FFD700",
    "sidebar_border": "#EEEEEE",
    "wrapper_background": "#FFFFFF"
   },
   "moveMenuLeft": true,
   "nav_menu": {
    "height": "65px",
    "width": "252px"
   },
   "navigate_menu": true,
   "number_sections": true,
   "sideBar": true,
   "threshold": 4,
   "toc_cell": false,
   "toc_section_display": "block",
   "toc_window_display": false,
   "widenNotebook": false
  }
 },
 "nbformat": 4,
 "nbformat_minor": 2
}
